{
 "cells": [
  {
   "cell_type": "markdown",
   "id": "a0fce342-9579-4586-857a-71c40ffe68e6",
   "metadata": {},
   "source": [
    "# 분기별 데이터 추출법"
   ]
  },
  {
   "cell_type": "code",
   "execution_count": 1,
   "id": "71cc600d-cfdf-40db-8ce5-a2b8d2106c75",
   "metadata": {
    "tags": []
   },
   "outputs": [
    {
     "ename": "NameError",
     "evalue": "name 'eco_df' is not defined",
     "output_type": "error",
     "traceback": [
      "\u001b[1;31m---------------------------------------------------------------------------\u001b[0m",
      "\u001b[1;31mNameError\u001b[0m                                 Traceback (most recent call last)",
      "Cell \u001b[1;32mIn[1], line 3\u001b[0m\n\u001b[0;32m      1\u001b[0m \u001b[38;5;28;01mimport\u001b[39;00m \u001b[38;5;21;01mpandas\u001b[39;00m \u001b[38;5;28;01mas\u001b[39;00m \u001b[38;5;21;01mpd\u001b[39;00m\n\u001b[1;32m----> 3\u001b[0m q_start_list \u001b[38;5;241m=\u001b[39m pd\u001b[38;5;241m.\u001b[39mdate_range(\u001b[43meco_df\u001b[49m[\u001b[38;5;241m0\u001b[39m], eco_df\u001b[38;5;241m.\u001b[39miloc[\u001b[38;5;241m-\u001b[39m\u001b[38;5;241m1\u001b[39m], freq \u001b[38;5;241m=\u001b[39m \u001b[38;5;124m'\u001b[39m\u001b[38;5;124mQS\u001b[39m\u001b[38;5;124m'\u001b[39m ) \u001b[38;5;66;03m# or freq = '3D'\u001b[39;00m\n\u001b[0;32m      4\u001b[0m q_end_list    \u001b[38;5;241m=\u001b[39m pd\u001b[38;5;241m.\u001b[39mdate_range(eco_df[\u001b[38;5;241m0\u001b[39m], eco_df\u001b[38;5;241m.\u001b[39miloc[\u001b[38;5;241m-\u001b[39m\u001b[38;5;241m1\u001b[39m], freq \u001b[38;5;241m=\u001b[39m \u001b[38;5;124m'\u001b[39m\u001b[38;5;124mQ\u001b[39m\u001b[38;5;124m'\u001b[39m ) \u001b[38;5;66;03m# or freq = '3D'\u001b[39;00m\n\u001b[0;32m      5\u001b[0m \u001b[38;5;28mprint\u001b[39m(q_start_list)\n",
      "\u001b[1;31mNameError\u001b[0m: name 'eco_df' is not defined"
     ]
    }
   ],
   "source": [
    "import pandas as pd\n",
    "\n",
    "q_start_list = pd.date_range(eco_df[0], eco_df.iloc[-1], freq = 'QS' ) # or freq = '3D'\n",
    "q_end_list    = pd.date_range(eco_df[0], eco_df.iloc[-1], freq = 'Q' ) # or freq = '3D'\n",
    "print(q_start_list)\n",
    "print(q_end_list)\n"
   ]
  },
  {
   "cell_type": "code",
   "execution_count": 18,
   "id": "6eba59a2-6fac-4953-a03f-4e3e60998e83",
   "metadata": {
    "tags": []
   },
   "outputs": [
    {
     "ename": "NameError",
     "evalue": "name 'q_start_list' is not defined",
     "output_type": "error",
     "traceback": [
      "\u001b[1;31m---------------------------------------------------------------------------\u001b[0m",
      "\u001b[1;31mNameError\u001b[0m                                 Traceback (most recent call last)",
      "Cell \u001b[1;32mIn[18], line 1\u001b[0m\n\u001b[1;32m----> 1\u001b[0m \u001b[38;5;28;01mfor\u001b[39;00m i, dval \u001b[38;5;129;01min\u001b[39;00m \u001b[38;5;28menumerate\u001b[39m(\u001b[43mq_start_list\u001b[49m):\n\u001b[0;32m      2\u001b[0m     \u001b[38;5;28mprint\u001b[39m( eco_df[\u001b[38;5;124m'\u001b[39m\u001b[38;5;124m경제심리지수_원계열\u001b[39m\u001b[38;5;124m'\u001b[39m]\u001b[38;5;241m.\u001b[39mloc[q_start_list[i] : q_end_list[i]]\u001b[38;5;241m.\u001b[39mcumsum()[\u001b[38;5;241m-\u001b[39m\u001b[38;5;241m1\u001b[39m:] )\n",
      "\u001b[1;31mNameError\u001b[0m: name 'q_start_list' is not defined"
     ]
    }
   ],
   "source": [
    "for i, dval in enumerate(q_start_list):\n",
    "    print( eco_df['경제심리지수_원계열'].loc[q_start_list[i] : q_end_list[i]].cumsum()[-1:] )"
   ]
  },
  {
   "cell_type": "code",
   "execution_count": 13,
   "id": "bdc02a5e-a1d1-4f9d-b8e2-41b6d3f8d1bc",
   "metadata": {
    "tags": []
   },
   "outputs": [
    {
     "data": {
      "text/plain": [
       "(365, 2)"
      ]
     },
     "execution_count": 13,
     "metadata": {},
     "output_type": "execute_result"
    }
   ],
   "source": [
    "sdf = pd.DataFrame({\"bank\":\"kb\", \"rate\":100} , index=pd.date_range('2019-01-01', '2019-12-31'))\n",
    "sdf.shape"
   ]
  },
  {
   "cell_type": "code",
   "execution_count": 14,
   "id": "1842fee3-a26f-4744-a9e2-532cb55dab5b",
   "metadata": {
    "tags": []
   },
   "outputs": [],
   "source": [
    "# sdf.loc['2019-01-01':  '2019-03-31'].cumsum()[-1:]\n",
    "# sdf.loc['2019-04-01':  '2019-06-30'].cumsum()[-1:]"
   ]
  },
  {
   "cell_type": "code",
   "execution_count": 16,
   "id": "d88ee9e1-585c-4407-b3e3-67f7e0920a0d",
   "metadata": {},
   "outputs": [
    {
     "data": {
      "text/plain": [
       "2020-02-29     0.5\n",
       "2020-05-31     3.0\n",
       "2020-08-31     6.0\n",
       "2020-11-30     9.0\n",
       "2021-02-28    11.0\n",
       "Freq: Q-FEB, dtype: float64"
      ]
     },
     "execution_count": 16,
     "metadata": {},
     "output_type": "execute_result"
    }
   ],
   "source": [
    "ts = pd.date_range('2020-01-01', periods = 12, freq='M')\n",
    "\n",
    "ts_series = pd.Series(range(len(ts)), index=ts)\n",
    "\n",
    "ts_series.resample('Q-FEB').mean()"
   ]
  },
  {
   "cell_type": "code",
   "execution_count": 17,
   "id": "5e3cea75-240c-44fa-abde-bd620ad9b6ee",
   "metadata": {},
   "outputs": [
    {
     "data": {
      "text/plain": [
       "2020Q4     0.5\n",
       "2021Q1     3.0\n",
       "2021Q2     6.0\n",
       "2021Q3     9.0\n",
       "2021Q4    11.0\n",
       "Freq: Q-FEB, dtype: float64"
      ]
     },
     "execution_count": 17,
     "metadata": {},
     "output_type": "execute_result"
    }
   ],
   "source": [
    "ts_series.index = ts.to_period(freq='Q-FEB')\n",
    "ts_series.groupby(ts_series.index).mean()"
   ]
  },
  {
   "cell_type": "code",
   "execution_count": null,
   "id": "2f432ce5-1144-4790-9186-1b4d01ed14ed",
   "metadata": {},
   "outputs": [],
   "source": [
    "ts_series.resample('Q-FEB', kind='period').mean()"
   ]
  },
  {
   "cell_type": "markdown",
   "id": "10d88ae2-452d-42f6-8ecc-9ff918861861",
   "metadata": {},
   "source": [
    "<img src = 'https://img1.daumcdn.net/thumb/R1280x0/?scode=mtistory2&fname=https%3A%2F%2Ft1.daumcdn.net%2Fcfile%2Ftistory%2F9950C43F5E046BEB09'>"
   ]
  },
  {
   "cell_type": "markdown",
   "id": "fc9a2519-9bac-4de0-9e11-7caea043d160",
   "metadata": {},
   "source": [
    "***"
   ]
  },
  {
   "cell_type": "markdown",
   "id": "162d8c9b-bb94-4d33-964e-2505c392a2f2",
   "metadata": {},
   "source": [
    "* ref : https://okky.kr/articles/1158227"
   ]
  },
  {
   "cell_type": "code",
   "execution_count": 24,
   "id": "aed44af7-eae0-4b79-9859-b9eea09183bf",
   "metadata": {
    "tags": []
   },
   "outputs": [
    {
     "name": "stdout",
     "output_type": "stream",
     "text": [
      "DatetimeIndex(['2019-01-01', '2019-04-01', '2019-07-01', '2019-10-01'], dtype='datetime64[ns]', freq='QS-JAN')\n",
      "DatetimeIndex(['2019-03-31', '2019-06-30', '2019-09-30', '2019-12-31'], dtype='datetime64[ns]', freq='Q-DEC')\n"
     ]
    }
   ],
   "source": [
    "import pandas as pd\n",
    "\n",
    "q_start_list = pd.date_range('2019-01-01', periods =4, freq = 'QS' ) # or freq = '3D'\n",
    "q_end_list    = pd.date_range('2019-01-01', periods =4, freq = 'Q' ) # or freq = '3D'\n",
    "print(q_start_list)\n",
    "print(q_end_list)\n"
   ]
  },
  {
   "cell_type": "code",
   "execution_count": 25,
   "id": "c0da7cc4-d225-489d-bede-cc3f4df97bad",
   "metadata": {
    "tags": []
   },
   "outputs": [
    {
     "data": {
      "text/plain": [
       "(365, 2)"
      ]
     },
     "execution_count": 25,
     "metadata": {},
     "output_type": "execute_result"
    }
   ],
   "source": [
    "sdf = pd.DataFrame({\"bank\":\"kb\", \"rate\":100} , index=pd.date_range('2019-01-01', '2019-12-31'))\n",
    "sdf.shape"
   ]
  },
  {
   "cell_type": "code",
   "execution_count": 26,
   "id": "c9f206f2-fffe-49ea-b8fb-c8e373908896",
   "metadata": {
    "tags": []
   },
   "outputs": [],
   "source": [
    "# sdf.loc['2019-01-01':  '2019-03-31'].cumsum()[-1:]\n",
    "# sdf.loc['2019-04-01':  '2019-06-30'].cumsum()[-1:]"
   ]
  },
  {
   "cell_type": "code",
   "execution_count": 27,
   "id": "75636b03-66a1-4dfa-89b6-686adc305ae7",
   "metadata": {
    "tags": []
   },
   "outputs": [
    {
     "name": "stdout",
     "output_type": "stream",
     "text": [
      "2019-03-31    9000\n",
      "Freq: D, Name: rate, dtype: int64\n",
      "2019-06-30    9100\n",
      "Freq: D, Name: rate, dtype: int64\n",
      "2019-09-30    9200\n",
      "Freq: D, Name: rate, dtype: int64\n",
      "2019-12-31    9200\n",
      "Freq: D, Name: rate, dtype: int64\n"
     ]
    }
   ],
   "source": [
    "for i, dval in enumerate(q_start_list):\n",
    "    # print(i, dval)\n",
    "    # print(q_start_list[i], q_end_list[i] )\n",
    "    print( sdf['rate'].loc[q_start_list[i]:  q_end_list[i]].cumsum()[-1:] )"
   ]
  }
 ],
 "metadata": {
  "kernelspec": {
   "display_name": "Python 3 (ipykernel)",
   "language": "python",
   "name": "python3"
  },
  "language_info": {
   "codemirror_mode": {
    "name": "ipython",
    "version": 3
   },
   "file_extension": ".py",
   "mimetype": "text/x-python",
   "name": "python",
   "nbconvert_exporter": "python",
   "pygments_lexer": "ipython3",
   "version": "3.8.8"
  }
 },
 "nbformat": 4,
 "nbformat_minor": 5
}
