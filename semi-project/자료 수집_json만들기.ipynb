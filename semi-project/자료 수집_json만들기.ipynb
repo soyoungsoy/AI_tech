{
 "cells": [
  {
   "cell_type": "markdown",
   "id": "4b14f2b1-ef72-42f6-8ca0-5368809174db",
   "metadata": {},
   "source": [
    "# Semi-Project"
   ]
  },
  {
   "cell_type": "code",
   "execution_count": 1,
   "id": "a11ae79f-833f-4cdd-8b70-69eb4eb109bf",
   "metadata": {},
   "outputs": [],
   "source": [
    "import pandas as pd\n",
    "import numpy as np\n",
    "import json\n",
    "import warnings\n",
    "warnings.filterwarnings(action='ignore')"
   ]
  },
  {
   "cell_type": "code",
   "execution_count": 2,
   "id": "91885c92-5425-4039-a37d-356a35ea59b0",
   "metadata": {
    "tags": []
   },
   "outputs": [],
   "source": [
    "######! pip install openpyxl"
   ]
  },
  {
   "cell_type": "code",
   "execution_count": 3,
   "id": "5a20bd47-291c-4206-8a1a-4f5ca77fe7d3",
   "metadata": {},
   "outputs": [],
   "source": [
    "from bs4 import BeautifulSoup\n",
    "import requests"
   ]
  },
  {
   "cell_type": "markdown",
   "id": "44c1b629-76cf-445b-a65d-4eaefcc2bb40",
   "metadata": {},
   "source": [
    "# 1. 경제심리지수"
   ]
  },
  {
   "cell_type": "code",
   "execution_count": 4,
   "id": "c9afae3a-a2e0-4810-81d2-54e12dfd6a5d",
   "metadata": {},
   "outputs": [
    {
     "data": {
      "text/html": [
       "<div>\n",
       "<style scoped>\n",
       "    .dataframe tbody tr th:only-of-type {\n",
       "        vertical-align: middle;\n",
       "    }\n",
       "\n",
       "    .dataframe tbody tr th {\n",
       "        vertical-align: top;\n",
       "    }\n",
       "\n",
       "    .dataframe thead th {\n",
       "        text-align: right;\n",
       "    }\n",
       "</style>\n",
       "<table border=\"1\" class=\"dataframe\">\n",
       "  <thead>\n",
       "    <tr style=\"text-align: right;\">\n",
       "      <th></th>\n",
       "      <th>경제심리지수_원계열</th>\n",
       "      <th>경제심리지수_순환변동치</th>\n",
       "    </tr>\n",
       "    <tr>\n",
       "      <th>분기</th>\n",
       "      <th></th>\n",
       "      <th></th>\n",
       "    </tr>\n",
       "  </thead>\n",
       "  <tbody>\n",
       "    <tr>\n",
       "      <th>2016-01-01</th>\n",
       "      <td>93.4</td>\n",
       "      <td>94.4</td>\n",
       "    </tr>\n",
       "    <tr>\n",
       "      <th>2016-02-01</th>\n",
       "      <td>92.1</td>\n",
       "      <td>94.1</td>\n",
       "    </tr>\n",
       "    <tr>\n",
       "      <th>2016-03-01</th>\n",
       "      <td>93.8</td>\n",
       "      <td>94.0</td>\n",
       "    </tr>\n",
       "    <tr>\n",
       "      <th>2016-04-01</th>\n",
       "      <td>96.6</td>\n",
       "      <td>94.1</td>\n",
       "    </tr>\n",
       "    <tr>\n",
       "      <th>2016-05-01</th>\n",
       "      <td>94.8</td>\n",
       "      <td>94.4</td>\n",
       "    </tr>\n",
       "  </tbody>\n",
       "</table>\n",
       "</div>"
      ],
      "text/plain": [
       "            경제심리지수_원계열  경제심리지수_순환변동치\n",
       "분기                                  \n",
       "2016-01-01        93.4          94.4\n",
       "2016-02-01        92.1          94.1\n",
       "2016-03-01        93.8          94.0\n",
       "2016-04-01        96.6          94.1\n",
       "2016-05-01        94.8          94.4"
      ]
     },
     "execution_count": 4,
     "metadata": {},
     "output_type": "execute_result"
    }
   ],
   "source": [
    "eco_df=pd.read_csv('경제심리지수.csv',parse_dates=['변환'])\n",
    "eco_df.columns=['분기','경제심리지수_원계열','경제심리지수_순환변동치']\n",
    "eco_df = eco_df.set_index('분기')\n",
    "eco_df.head()"
   ]
  },
  {
   "cell_type": "code",
   "execution_count": 5,
   "id": "0a8d9521-a1ce-44d1-a86b-7c9efd9a8e63",
   "metadata": {
    "tags": []
   },
   "outputs": [
    {
     "data": {
      "text/html": [
       "<div>\n",
       "<style scoped>\n",
       "    .dataframe tbody tr th:only-of-type {\n",
       "        vertical-align: middle;\n",
       "    }\n",
       "\n",
       "    .dataframe tbody tr th {\n",
       "        vertical-align: top;\n",
       "    }\n",
       "\n",
       "    .dataframe thead th {\n",
       "        text-align: right;\n",
       "    }\n",
       "</style>\n",
       "<table border=\"1\" class=\"dataframe\">\n",
       "  <thead>\n",
       "    <tr style=\"text-align: right;\">\n",
       "      <th></th>\n",
       "      <th>경제심리지수_원계열</th>\n",
       "      <th>경제심리지수_순환변동치</th>\n",
       "      <th>분기확인</th>\n",
       "    </tr>\n",
       "    <tr>\n",
       "      <th>분기</th>\n",
       "      <th></th>\n",
       "      <th></th>\n",
       "      <th></th>\n",
       "    </tr>\n",
       "  </thead>\n",
       "  <tbody>\n",
       "    <tr>\n",
       "      <th>2016-01-01</th>\n",
       "      <td>93.4</td>\n",
       "      <td>94.4</td>\n",
       "      <td>2016Q1</td>\n",
       "    </tr>\n",
       "    <tr>\n",
       "      <th>2016-02-01</th>\n",
       "      <td>92.1</td>\n",
       "      <td>94.1</td>\n",
       "      <td>2016Q1</td>\n",
       "    </tr>\n",
       "    <tr>\n",
       "      <th>2016-03-01</th>\n",
       "      <td>93.8</td>\n",
       "      <td>94.0</td>\n",
       "      <td>2016Q1</td>\n",
       "    </tr>\n",
       "    <tr>\n",
       "      <th>2016-04-01</th>\n",
       "      <td>96.6</td>\n",
       "      <td>94.1</td>\n",
       "      <td>2016Q2</td>\n",
       "    </tr>\n",
       "    <tr>\n",
       "      <th>2016-05-01</th>\n",
       "      <td>94.8</td>\n",
       "      <td>94.4</td>\n",
       "      <td>2016Q2</td>\n",
       "    </tr>\n",
       "    <tr>\n",
       "      <th>...</th>\n",
       "      <td>...</td>\n",
       "      <td>...</td>\n",
       "      <td>...</td>\n",
       "    </tr>\n",
       "    <tr>\n",
       "      <th>2022-10-01</th>\n",
       "      <td>95.4</td>\n",
       "      <td>95.9</td>\n",
       "      <td>2022Q4</td>\n",
       "    </tr>\n",
       "    <tr>\n",
       "      <th>2022-11-01</th>\n",
       "      <td>91.2</td>\n",
       "      <td>94.5</td>\n",
       "      <td>2022Q4</td>\n",
       "    </tr>\n",
       "    <tr>\n",
       "      <th>2022-12-01</th>\n",
       "      <td>91.5</td>\n",
       "      <td>93.1</td>\n",
       "      <td>2022Q4</td>\n",
       "    </tr>\n",
       "    <tr>\n",
       "      <th>2023-01-01</th>\n",
       "      <td>90.1</td>\n",
       "      <td>91.8</td>\n",
       "      <td>2023Q1</td>\n",
       "    </tr>\n",
       "    <tr>\n",
       "      <th>2023-02-01</th>\n",
       "      <td>91.6</td>\n",
       "      <td>90.6</td>\n",
       "      <td>2023Q1</td>\n",
       "    </tr>\n",
       "  </tbody>\n",
       "</table>\n",
       "<p>86 rows × 3 columns</p>\n",
       "</div>"
      ],
      "text/plain": [
       "            경제심리지수_원계열  경제심리지수_순환변동치    분기확인\n",
       "분기                                          \n",
       "2016-01-01        93.4          94.4  2016Q1\n",
       "2016-02-01        92.1          94.1  2016Q1\n",
       "2016-03-01        93.8          94.0  2016Q1\n",
       "2016-04-01        96.6          94.1  2016Q2\n",
       "2016-05-01        94.8          94.4  2016Q2\n",
       "...                ...           ...     ...\n",
       "2022-10-01        95.4          95.9  2022Q4\n",
       "2022-11-01        91.2          94.5  2022Q4\n",
       "2022-12-01        91.5          93.1  2022Q4\n",
       "2023-01-01        90.1          91.8  2023Q1\n",
       "2023-02-01        91.6          90.6  2023Q1\n",
       "\n",
       "[86 rows x 3 columns]"
      ]
     },
     "execution_count": 5,
     "metadata": {},
     "output_type": "execute_result"
    }
   ],
   "source": [
    "eco_df['분기확인'] = eco_df.index.to_period('Q-DEC')\n",
    "eco_df"
   ]
  },
  {
   "cell_type": "code",
   "execution_count": 6,
   "id": "a7212e4d-bb65-4b14-9a31-35644d24b868",
   "metadata": {
    "tags": []
   },
   "outputs": [],
   "source": [
    "eco_df.to_json('경제심리지수.json',orient='columns')"
   ]
  },
  {
   "cell_type": "markdown",
   "id": "26f51e9d-ed73-4228-a5fa-74e081a26e3a",
   "metadata": {},
   "source": [
    "# 2. 생산자물가지수"
   ]
  },
  {
   "cell_type": "code",
   "execution_count": 7,
   "id": "50056c47-03b1-4dec-8b17-26b05d8beb1a",
   "metadata": {},
   "outputs": [
    {
     "data": {
      "text/html": [
       "<div>\n",
       "<style scoped>\n",
       "    .dataframe tbody tr th:only-of-type {\n",
       "        vertical-align: middle;\n",
       "    }\n",
       "\n",
       "    .dataframe tbody tr th {\n",
       "        vertical-align: top;\n",
       "    }\n",
       "\n",
       "    .dataframe thead th {\n",
       "        text-align: right;\n",
       "    }\n",
       "</style>\n",
       "<table border=\"1\" class=\"dataframe\">\n",
       "  <thead>\n",
       "    <tr style=\"text-align: right;\">\n",
       "      <th></th>\n",
       "      <th>분기</th>\n",
       "      <th>총지수</th>\n",
       "    </tr>\n",
       "  </thead>\n",
       "  <tbody>\n",
       "    <tr>\n",
       "      <th>0</th>\n",
       "      <td>2016/Q1</td>\n",
       "      <td>97.54</td>\n",
       "    </tr>\n",
       "    <tr>\n",
       "      <th>1</th>\n",
       "      <td>2016/Q2</td>\n",
       "      <td>97.90</td>\n",
       "    </tr>\n",
       "    <tr>\n",
       "      <th>2</th>\n",
       "      <td>2016/Q3</td>\n",
       "      <td>98.12</td>\n",
       "    </tr>\n",
       "    <tr>\n",
       "      <th>3</th>\n",
       "      <td>2016/Q4</td>\n",
       "      <td>99.17</td>\n",
       "    </tr>\n",
       "    <tr>\n",
       "      <th>4</th>\n",
       "      <td>2017/Q1</td>\n",
       "      <td>101.60</td>\n",
       "    </tr>\n",
       "  </tbody>\n",
       "</table>\n",
       "</div>"
      ],
      "text/plain": [
       "        분기     총지수\n",
       "0  2016/Q1   97.54\n",
       "1  2016/Q2   97.90\n",
       "2  2016/Q3   98.12\n",
       "3  2016/Q4   99.17\n",
       "4  2017/Q1  101.60"
      ]
     },
     "execution_count": 7,
     "metadata": {},
     "output_type": "execute_result"
    }
   ],
   "source": [
    "p_df=pd.read_csv('생산자물가지수.csv',parse_dates=['변환'])\n",
    "p_df.columns=['분기','총지수']\n",
    "p_df.head()"
   ]
  },
  {
   "cell_type": "code",
   "execution_count": 8,
   "id": "3cd1373a-9768-4409-af13-d061cee028a4",
   "metadata": {
    "tags": []
   },
   "outputs": [
    {
     "name": "stdout",
     "output_type": "stream",
     "text": [
      "<class 'pandas.core.frame.DataFrame'>\n",
      "RangeIndex: 28 entries, 0 to 27\n",
      "Data columns (total 2 columns):\n",
      " #   Column  Non-Null Count  Dtype  \n",
      "---  ------  --------------  -----  \n",
      " 0   분기      28 non-null     object \n",
      " 1   총지수     28 non-null     float64\n",
      "dtypes: float64(1), object(1)\n",
      "memory usage: 576.0+ bytes\n"
     ]
    }
   ],
   "source": [
    "p_df.info()"
   ]
  },
  {
   "cell_type": "markdown",
   "id": "9b0a1933-2a0d-4a02-9489-4526475a9bd8",
   "metadata": {},
   "source": [
    "# 3. 소비자 동향 조사"
   ]
  },
  {
   "cell_type": "code",
   "execution_count": 9,
   "id": "43ca7d32-43c7-43ac-8c6d-e2c263e5ece0",
   "metadata": {},
   "outputs": [
    {
     "data": {
      "text/html": [
       "<div>\n",
       "<style scoped>\n",
       "    .dataframe tbody tr th:only-of-type {\n",
       "        vertical-align: middle;\n",
       "    }\n",
       "\n",
       "    .dataframe tbody tr th {\n",
       "        vertical-align: top;\n",
       "    }\n",
       "\n",
       "    .dataframe thead th {\n",
       "        text-align: right;\n",
       "    }\n",
       "</style>\n",
       "<table border=\"1\" class=\"dataframe\">\n",
       "  <thead>\n",
       "    <tr style=\"text-align: right;\">\n",
       "      <th></th>\n",
       "      <th>소비자심리지수</th>\n",
       "    </tr>\n",
       "    <tr>\n",
       "      <th>분기</th>\n",
       "      <th></th>\n",
       "    </tr>\n",
       "  </thead>\n",
       "  <tbody>\n",
       "    <tr>\n",
       "      <th>2016-01-01</th>\n",
       "      <td>100.4</td>\n",
       "    </tr>\n",
       "    <tr>\n",
       "      <th>2016-02-01</th>\n",
       "      <td>98.2</td>\n",
       "    </tr>\n",
       "    <tr>\n",
       "      <th>2016-03-01</th>\n",
       "      <td>100.4</td>\n",
       "    </tr>\n",
       "    <tr>\n",
       "      <th>2016-04-01</th>\n",
       "      <td>102.0</td>\n",
       "    </tr>\n",
       "    <tr>\n",
       "      <th>2016-05-01</th>\n",
       "      <td>99.6</td>\n",
       "    </tr>\n",
       "  </tbody>\n",
       "</table>\n",
       "</div>"
      ],
      "text/plain": [
       "            소비자심리지수\n",
       "분기                 \n",
       "2016-01-01    100.4\n",
       "2016-02-01     98.2\n",
       "2016-03-01    100.4\n",
       "2016-04-01    102.0\n",
       "2016-05-01     99.6"
      ]
     },
     "execution_count": 9,
     "metadata": {},
     "output_type": "execute_result"
    }
   ],
   "source": [
    "c_df=pd.read_csv('소비자동향조사.csv',parse_dates=['변환'])\n",
    "c_df.columns=['분기','소비자심리지수']\n",
    "c_df = c_df.set_index('분기')\n",
    "c_df.head()"
   ]
  },
  {
   "cell_type": "code",
   "execution_count": 10,
   "id": "180576e6-332f-4d47-ae46-52de8ba41f5c",
   "metadata": {},
   "outputs": [
    {
     "name": "stdout",
     "output_type": "stream",
     "text": [
      "<class 'pandas.core.frame.DataFrame'>\n",
      "DatetimeIndex: 86 entries, 2016-01-01 to 2023-02-01\n",
      "Data columns (total 1 columns):\n",
      " #   Column   Non-Null Count  Dtype  \n",
      "---  ------   --------------  -----  \n",
      " 0   소비자심리지수  86 non-null     float64\n",
      "dtypes: float64(1)\n",
      "memory usage: 1.3 KB\n"
     ]
    }
   ],
   "source": [
    "c_df.info()"
   ]
  },
  {
   "cell_type": "code",
   "execution_count": 11,
   "id": "59e2d3ac-7683-4aed-a519-b56ab2d3f465",
   "metadata": {
    "tags": []
   },
   "outputs": [],
   "source": [
    "c_df.to_json('소비자동향조사_total.json',orient='columns')"
   ]
  },
  {
   "cell_type": "markdown",
   "id": "d5cd5bcb-22bf-4e9b-8eaf-1a57fe721c3e",
   "metadata": {},
   "source": [
    "## 3-1 소비자 동향 조사_ 취업기회전망"
   ]
  },
  {
   "cell_type": "code",
   "execution_count": 12,
   "id": "45ba9225-396b-47f9-b812-36869aa5e47d",
   "metadata": {
    "tags": []
   },
   "outputs": [
    {
     "data": {
      "text/html": [
       "<div>\n",
       "<style scoped>\n",
       "    .dataframe tbody tr th:only-of-type {\n",
       "        vertical-align: middle;\n",
       "    }\n",
       "\n",
       "    .dataframe tbody tr th {\n",
       "        vertical-align: top;\n",
       "    }\n",
       "\n",
       "    .dataframe thead th {\n",
       "        text-align: right;\n",
       "    }\n",
       "</style>\n",
       "<table border=\"1\" class=\"dataframe\">\n",
       "  <thead>\n",
       "    <tr style=\"text-align: right;\">\n",
       "      <th></th>\n",
       "      <th>남자</th>\n",
       "      <th>여자</th>\n",
       "      <th>40세미만</th>\n",
       "      <th>40-50세</th>\n",
       "      <th>50-60세</th>\n",
       "      <th>60-70세</th>\n",
       "      <th>70세이상</th>\n",
       "      <th>봉급생활자</th>\n",
       "      <th>자영업자</th>\n",
       "      <th>100만원미만</th>\n",
       "      <th>100-200만원</th>\n",
       "      <th>200-300만원</th>\n",
       "      <th>300-400만원</th>\n",
       "      <th>400-500만원</th>\n",
       "      <th>500만원이상</th>\n",
       "      <th>자가</th>\n",
       "      <th>임차</th>\n",
       "    </tr>\n",
       "    <tr>\n",
       "      <th>분기</th>\n",
       "      <th></th>\n",
       "      <th></th>\n",
       "      <th></th>\n",
       "      <th></th>\n",
       "      <th></th>\n",
       "      <th></th>\n",
       "      <th></th>\n",
       "      <th></th>\n",
       "      <th></th>\n",
       "      <th></th>\n",
       "      <th></th>\n",
       "      <th></th>\n",
       "      <th></th>\n",
       "      <th></th>\n",
       "      <th></th>\n",
       "      <th></th>\n",
       "      <th></th>\n",
       "    </tr>\n",
       "  </thead>\n",
       "  <tbody>\n",
       "    <tr>\n",
       "      <th>2016-01-01</th>\n",
       "      <td>76</td>\n",
       "      <td>81</td>\n",
       "      <td>70</td>\n",
       "      <td>75</td>\n",
       "      <td>78</td>\n",
       "      <td>82</td>\n",
       "      <td>88</td>\n",
       "      <td>73</td>\n",
       "      <td>79</td>\n",
       "      <td>84</td>\n",
       "      <td>81</td>\n",
       "      <td>74</td>\n",
       "      <td>78</td>\n",
       "      <td>73</td>\n",
       "      <td>75</td>\n",
       "      <td>78</td>\n",
       "      <td>74</td>\n",
       "    </tr>\n",
       "    <tr>\n",
       "      <th>2016-02-01</th>\n",
       "      <td>78</td>\n",
       "      <td>79</td>\n",
       "      <td>75</td>\n",
       "      <td>77</td>\n",
       "      <td>75</td>\n",
       "      <td>82</td>\n",
       "      <td>90</td>\n",
       "      <td>76</td>\n",
       "      <td>80</td>\n",
       "      <td>79</td>\n",
       "      <td>82</td>\n",
       "      <td>73</td>\n",
       "      <td>82</td>\n",
       "      <td>77</td>\n",
       "      <td>76</td>\n",
       "      <td>79</td>\n",
       "      <td>76</td>\n",
       "    </tr>\n",
       "    <tr>\n",
       "      <th>2016-03-01</th>\n",
       "      <td>78</td>\n",
       "      <td>81</td>\n",
       "      <td>75</td>\n",
       "      <td>79</td>\n",
       "      <td>78</td>\n",
       "      <td>81</td>\n",
       "      <td>90</td>\n",
       "      <td>77</td>\n",
       "      <td>78</td>\n",
       "      <td>82</td>\n",
       "      <td>82</td>\n",
       "      <td>79</td>\n",
       "      <td>75</td>\n",
       "      <td>79</td>\n",
       "      <td>78</td>\n",
       "      <td>80</td>\n",
       "      <td>77</td>\n",
       "    </tr>\n",
       "    <tr>\n",
       "      <th>2016-04-01</th>\n",
       "      <td>82</td>\n",
       "      <td>81</td>\n",
       "      <td>76</td>\n",
       "      <td>82</td>\n",
       "      <td>81</td>\n",
       "      <td>86</td>\n",
       "      <td>94</td>\n",
       "      <td>81</td>\n",
       "      <td>80</td>\n",
       "      <td>83</td>\n",
       "      <td>82</td>\n",
       "      <td>80</td>\n",
       "      <td>81</td>\n",
       "      <td>84</td>\n",
       "      <td>82</td>\n",
       "      <td>82</td>\n",
       "      <td>80</td>\n",
       "    </tr>\n",
       "    <tr>\n",
       "      <th>2016-05-01</th>\n",
       "      <td>73</td>\n",
       "      <td>77</td>\n",
       "      <td>68</td>\n",
       "      <td>72</td>\n",
       "      <td>74</td>\n",
       "      <td>78</td>\n",
       "      <td>85</td>\n",
       "      <td>71</td>\n",
       "      <td>76</td>\n",
       "      <td>74</td>\n",
       "      <td>80</td>\n",
       "      <td>71</td>\n",
       "      <td>73</td>\n",
       "      <td>73</td>\n",
       "      <td>72</td>\n",
       "      <td>74</td>\n",
       "      <td>72</td>\n",
       "    </tr>\n",
       "  </tbody>\n",
       "</table>\n",
       "</div>"
      ],
      "text/plain": [
       "            남자  여자  40세미만  40-50세  50-60세  60-70세  70세이상  봉급생활자  자영업자  \\\n",
       "분기                                                                      \n",
       "2016-01-01  76  81     70      75      78      82     88     73    79   \n",
       "2016-02-01  78  79     75      77      75      82     90     76    80   \n",
       "2016-03-01  78  81     75      79      78      81     90     77    78   \n",
       "2016-04-01  82  81     76      82      81      86     94     81    80   \n",
       "2016-05-01  73  77     68      72      74      78     85     71    76   \n",
       "\n",
       "            100만원미만  100-200만원  200-300만원  300-400만원  400-500만원  500만원이상  자가  \\\n",
       "분기                                                                             \n",
       "2016-01-01       84         81         74         78         73       75  78   \n",
       "2016-02-01       79         82         73         82         77       76  79   \n",
       "2016-03-01       82         82         79         75         79       78  80   \n",
       "2016-04-01       83         82         80         81         84       82  82   \n",
       "2016-05-01       74         80         71         73         73       72  74   \n",
       "\n",
       "            임차  \n",
       "분기              \n",
       "2016-01-01  74  \n",
       "2016-02-01  76  \n",
       "2016-03-01  77  \n",
       "2016-04-01  80  \n",
       "2016-05-01  72  "
      ]
     },
     "execution_count": 12,
     "metadata": {},
     "output_type": "execute_result"
    }
   ],
   "source": [
    "cj_df=pd.read_csv('소비자동향조사(전국, 월, 2008.9_)_취업기회전망.csv',parse_dates=['변환'])\n",
    "cj_df.columns=['분기','남자','여자','40세미만','40-50세','50-60세','60-70세','70세이상','봉급생활자','자영업자', '100만원미만','100-200만원','200-300만원','300-400만원','400-500만원','500만원이상','자가','임차']\n",
    "cj_df = cj_df.set_index('분기')\n",
    "cj_df.head()"
   ]
  },
  {
   "cell_type": "code",
   "execution_count": 13,
   "id": "280c6072-a6e7-4e68-adb1-fe0be1b597f0",
   "metadata": {
    "tags": []
   },
   "outputs": [],
   "source": [
    "cj_df.to_json('소비자동향조사_취업전망.json',orient='columns')"
   ]
  },
  {
   "cell_type": "markdown",
   "id": "623455d9-7187-4764-8858-af706ed7518c",
   "metadata": {},
   "source": [
    "## 3-2 소비자동향조사_향후경기전망"
   ]
  },
  {
   "cell_type": "code",
   "execution_count": 14,
   "id": "b73fcb68-4e90-49e8-b2bd-b5763f4512e7",
   "metadata": {
    "tags": []
   },
   "outputs": [
    {
     "data": {
      "text/html": [
       "<div>\n",
       "<style scoped>\n",
       "    .dataframe tbody tr th:only-of-type {\n",
       "        vertical-align: middle;\n",
       "    }\n",
       "\n",
       "    .dataframe tbody tr th {\n",
       "        vertical-align: top;\n",
       "    }\n",
       "\n",
       "    .dataframe thead th {\n",
       "        text-align: right;\n",
       "    }\n",
       "</style>\n",
       "<table border=\"1\" class=\"dataframe\">\n",
       "  <thead>\n",
       "    <tr style=\"text-align: right;\">\n",
       "      <th></th>\n",
       "      <th>남자</th>\n",
       "      <th>여자</th>\n",
       "      <th>40세미만</th>\n",
       "      <th>40-50세</th>\n",
       "      <th>50-60세</th>\n",
       "      <th>60-70세</th>\n",
       "      <th>70세이상</th>\n",
       "      <th>봉급생활자</th>\n",
       "      <th>자영업자</th>\n",
       "      <th>100만원미만</th>\n",
       "      <th>100-200만원</th>\n",
       "      <th>200-300만원</th>\n",
       "      <th>300-400만원</th>\n",
       "      <th>400-500만원</th>\n",
       "      <th>500만원이상</th>\n",
       "      <th>자가</th>\n",
       "      <th>임차</th>\n",
       "    </tr>\n",
       "    <tr>\n",
       "      <th>분기</th>\n",
       "      <th></th>\n",
       "      <th></th>\n",
       "      <th></th>\n",
       "      <th></th>\n",
       "      <th></th>\n",
       "      <th></th>\n",
       "      <th></th>\n",
       "      <th></th>\n",
       "      <th></th>\n",
       "      <th></th>\n",
       "      <th></th>\n",
       "      <th></th>\n",
       "      <th></th>\n",
       "      <th></th>\n",
       "      <th></th>\n",
       "      <th></th>\n",
       "      <th></th>\n",
       "    </tr>\n",
       "  </thead>\n",
       "  <tbody>\n",
       "    <tr>\n",
       "      <th>2016-01-01</th>\n",
       "      <td>77</td>\n",
       "      <td>86</td>\n",
       "      <td>77</td>\n",
       "      <td>78</td>\n",
       "      <td>78</td>\n",
       "      <td>80</td>\n",
       "      <td>84</td>\n",
       "      <td>77</td>\n",
       "      <td>78</td>\n",
       "      <td>83</td>\n",
       "      <td>78</td>\n",
       "      <td>77</td>\n",
       "      <td>80</td>\n",
       "      <td>78</td>\n",
       "      <td>77</td>\n",
       "      <td>78</td>\n",
       "      <td>78</td>\n",
       "    </tr>\n",
       "    <tr>\n",
       "      <th>2016-02-01</th>\n",
       "      <td>75</td>\n",
       "      <td>79</td>\n",
       "      <td>76</td>\n",
       "      <td>74</td>\n",
       "      <td>74</td>\n",
       "      <td>76</td>\n",
       "      <td>79</td>\n",
       "      <td>74</td>\n",
       "      <td>74</td>\n",
       "      <td>79</td>\n",
       "      <td>77</td>\n",
       "      <td>74</td>\n",
       "      <td>77</td>\n",
       "      <td>75</td>\n",
       "      <td>74</td>\n",
       "      <td>75</td>\n",
       "      <td>76</td>\n",
       "    </tr>\n",
       "    <tr>\n",
       "      <th>2016-03-01</th>\n",
       "      <td>81</td>\n",
       "      <td>85</td>\n",
       "      <td>82</td>\n",
       "      <td>80</td>\n",
       "      <td>83</td>\n",
       "      <td>82</td>\n",
       "      <td>84</td>\n",
       "      <td>81</td>\n",
       "      <td>82</td>\n",
       "      <td>85</td>\n",
       "      <td>84</td>\n",
       "      <td>81</td>\n",
       "      <td>80</td>\n",
       "      <td>83</td>\n",
       "      <td>82</td>\n",
       "      <td>83</td>\n",
       "      <td>81</td>\n",
       "    </tr>\n",
       "    <tr>\n",
       "      <th>2016-04-01</th>\n",
       "      <td>85</td>\n",
       "      <td>87</td>\n",
       "      <td>83</td>\n",
       "      <td>84</td>\n",
       "      <td>86</td>\n",
       "      <td>91</td>\n",
       "      <td>90</td>\n",
       "      <td>85</td>\n",
       "      <td>83</td>\n",
       "      <td>87</td>\n",
       "      <td>87</td>\n",
       "      <td>84</td>\n",
       "      <td>86</td>\n",
       "      <td>86</td>\n",
       "      <td>85</td>\n",
       "      <td>86</td>\n",
       "      <td>85</td>\n",
       "    </tr>\n",
       "    <tr>\n",
       "      <th>2016-05-01</th>\n",
       "      <td>80</td>\n",
       "      <td>84</td>\n",
       "      <td>78</td>\n",
       "      <td>78</td>\n",
       "      <td>81</td>\n",
       "      <td>83</td>\n",
       "      <td>89</td>\n",
       "      <td>78</td>\n",
       "      <td>81</td>\n",
       "      <td>86</td>\n",
       "      <td>84</td>\n",
       "      <td>78</td>\n",
       "      <td>82</td>\n",
       "      <td>79</td>\n",
       "      <td>78</td>\n",
       "      <td>81</td>\n",
       "      <td>78</td>\n",
       "    </tr>\n",
       "  </tbody>\n",
       "</table>\n",
       "</div>"
      ],
      "text/plain": [
       "            남자  여자  40세미만  40-50세  50-60세  60-70세  70세이상  봉급생활자  자영업자  \\\n",
       "분기                                                                      \n",
       "2016-01-01  77  86     77      78      78      80     84     77    78   \n",
       "2016-02-01  75  79     76      74      74      76     79     74    74   \n",
       "2016-03-01  81  85     82      80      83      82     84     81    82   \n",
       "2016-04-01  85  87     83      84      86      91     90     85    83   \n",
       "2016-05-01  80  84     78      78      81      83     89     78    81   \n",
       "\n",
       "            100만원미만  100-200만원  200-300만원  300-400만원  400-500만원  500만원이상  자가  \\\n",
       "분기                                                                             \n",
       "2016-01-01       83         78         77         80         78       77  78   \n",
       "2016-02-01       79         77         74         77         75       74  75   \n",
       "2016-03-01       85         84         81         80         83       82  83   \n",
       "2016-04-01       87         87         84         86         86       85  86   \n",
       "2016-05-01       86         84         78         82         79       78  81   \n",
       "\n",
       "            임차  \n",
       "분기              \n",
       "2016-01-01  78  \n",
       "2016-02-01  76  \n",
       "2016-03-01  81  \n",
       "2016-04-01  85  \n",
       "2016-05-01  78  "
      ]
     },
     "execution_count": 14,
     "metadata": {},
     "output_type": "execute_result"
    }
   ],
   "source": [
    "ck_df=pd.read_csv('소비자동향조사(전국, 월, 2008.9_)_향후경기전망.csv',parse_dates=['변환'])\n",
    "ck_df.columns=['분기','남자','여자','40세미만','40-50세','50-60세','60-70세','70세이상','봉급생활자','자영업자', '100만원미만','100-200만원','200-300만원','300-400만원','400-500만원','500만원이상','자가','임차']\n",
    "ck_df = ck_df.set_index('분기')\n",
    "ck_df.head()"
   ]
  },
  {
   "cell_type": "code",
   "execution_count": 15,
   "id": "1565b9ed-6cf8-4d60-8766-afc7abbe6410",
   "metadata": {
    "tags": []
   },
   "outputs": [],
   "source": [
    "ck_df.to_json('소비자동향조사_향후경기전망.json',orient='columns')"
   ]
  },
  {
   "cell_type": "markdown",
   "id": "61a248f6-1696-4734-9df6-873abdfb1dc3",
   "metadata": {},
   "source": [
    "## 3-3 소비자동향조사_현재생활형편"
   ]
  },
  {
   "cell_type": "code",
   "execution_count": 16,
   "id": "42bff527-876a-41ce-9065-6665725ca96d",
   "metadata": {
    "tags": []
   },
   "outputs": [
    {
     "data": {
      "text/html": [
       "<div>\n",
       "<style scoped>\n",
       "    .dataframe tbody tr th:only-of-type {\n",
       "        vertical-align: middle;\n",
       "    }\n",
       "\n",
       "    .dataframe tbody tr th {\n",
       "        vertical-align: top;\n",
       "    }\n",
       "\n",
       "    .dataframe thead th {\n",
       "        text-align: right;\n",
       "    }\n",
       "</style>\n",
       "<table border=\"1\" class=\"dataframe\">\n",
       "  <thead>\n",
       "    <tr style=\"text-align: right;\">\n",
       "      <th></th>\n",
       "      <th>남자</th>\n",
       "      <th>여자</th>\n",
       "      <th>40세미만</th>\n",
       "      <th>40-50세</th>\n",
       "      <th>50-60세</th>\n",
       "      <th>60-70세</th>\n",
       "      <th>70세이상</th>\n",
       "      <th>봉급생활자</th>\n",
       "      <th>자영업자</th>\n",
       "      <th>100만원미만</th>\n",
       "      <th>100-200만원</th>\n",
       "      <th>200-300만원</th>\n",
       "      <th>300-400만원</th>\n",
       "      <th>400-500만원</th>\n",
       "      <th>500만원이상</th>\n",
       "      <th>자가</th>\n",
       "      <th>임차</th>\n",
       "    </tr>\n",
       "    <tr>\n",
       "      <th>분기</th>\n",
       "      <th></th>\n",
       "      <th></th>\n",
       "      <th></th>\n",
       "      <th></th>\n",
       "      <th></th>\n",
       "      <th></th>\n",
       "      <th></th>\n",
       "      <th></th>\n",
       "      <th></th>\n",
       "      <th></th>\n",
       "      <th></th>\n",
       "      <th></th>\n",
       "      <th></th>\n",
       "      <th></th>\n",
       "      <th></th>\n",
       "      <th></th>\n",
       "      <th></th>\n",
       "    </tr>\n",
       "  </thead>\n",
       "  <tbody>\n",
       "    <tr>\n",
       "      <th>2016-01-01</th>\n",
       "      <td>91</td>\n",
       "      <td>89</td>\n",
       "      <td>92</td>\n",
       "      <td>91</td>\n",
       "      <td>87</td>\n",
       "      <td>92</td>\n",
       "      <td>89</td>\n",
       "      <td>92</td>\n",
       "      <td>85</td>\n",
       "      <td>80</td>\n",
       "      <td>84</td>\n",
       "      <td>87</td>\n",
       "      <td>93</td>\n",
       "      <td>93</td>\n",
       "      <td>97</td>\n",
       "      <td>91</td>\n",
       "      <td>88</td>\n",
       "    </tr>\n",
       "    <tr>\n",
       "      <th>2016-02-01</th>\n",
       "      <td>90</td>\n",
       "      <td>87</td>\n",
       "      <td>92</td>\n",
       "      <td>91</td>\n",
       "      <td>87</td>\n",
       "      <td>87</td>\n",
       "      <td>88</td>\n",
       "      <td>93</td>\n",
       "      <td>81</td>\n",
       "      <td>78</td>\n",
       "      <td>85</td>\n",
       "      <td>84</td>\n",
       "      <td>91</td>\n",
       "      <td>94</td>\n",
       "      <td>97</td>\n",
       "      <td>90</td>\n",
       "      <td>89</td>\n",
       "    </tr>\n",
       "  </tbody>\n",
       "</table>\n",
       "</div>"
      ],
      "text/plain": [
       "            남자  여자  40세미만  40-50세  50-60세  60-70세  70세이상  봉급생활자  자영업자  \\\n",
       "분기                                                                      \n",
       "2016-01-01  91  89     92      91      87      92     89     92    85   \n",
       "2016-02-01  90  87     92      91      87      87     88     93    81   \n",
       "\n",
       "            100만원미만  100-200만원  200-300만원  300-400만원  400-500만원  500만원이상  자가  \\\n",
       "분기                                                                             \n",
       "2016-01-01       80         84         87         93         93       97  91   \n",
       "2016-02-01       78         85         84         91         94       97  90   \n",
       "\n",
       "            임차  \n",
       "분기              \n",
       "2016-01-01  88  \n",
       "2016-02-01  89  "
      ]
     },
     "execution_count": 16,
     "metadata": {},
     "output_type": "execute_result"
    }
   ],
   "source": [
    "cs_df=pd.read_csv('소비자동향조사(전국, 월, 2008.9_)_현재생활형편.csv',parse_dates=['변환'])\n",
    "cs_df.columns=['분기','남자','여자','40세미만','40-50세','50-60세','60-70세','70세이상','봉급생활자','자영업자', '100만원미만','100-200만원','200-300만원','300-400만원','400-500만원','500만원이상','자가','임차']\n",
    "cs_df = cs_df.set_index('분기')\n",
    "cs_df.head(2)"
   ]
  },
  {
   "cell_type": "code",
   "execution_count": 17,
   "id": "6d211dd5-5ebb-48ad-9ba5-b2133feaa4bc",
   "metadata": {
    "tags": []
   },
   "outputs": [],
   "source": [
    "cs_df.to_json('소비자동향조사_생활형편.json',orient='columns')"
   ]
  },
  {
   "cell_type": "markdown",
   "id": "3ed3f422-28a5-44e1-8a9c-e660cbbd3f05",
   "metadata": {},
   "source": [
    "## 3-4 소비자 동향 조사_현재가계부채"
   ]
  },
  {
   "cell_type": "code",
   "execution_count": 18,
   "id": "846ac00e-35fd-43b0-9d35-b7ba0a3590ab",
   "metadata": {
    "tags": []
   },
   "outputs": [
    {
     "data": {
      "text/html": [
       "<div>\n",
       "<style scoped>\n",
       "    .dataframe tbody tr th:only-of-type {\n",
       "        vertical-align: middle;\n",
       "    }\n",
       "\n",
       "    .dataframe tbody tr th {\n",
       "        vertical-align: top;\n",
       "    }\n",
       "\n",
       "    .dataframe thead th {\n",
       "        text-align: right;\n",
       "    }\n",
       "</style>\n",
       "<table border=\"1\" class=\"dataframe\">\n",
       "  <thead>\n",
       "    <tr style=\"text-align: right;\">\n",
       "      <th></th>\n",
       "      <th>남자</th>\n",
       "      <th>여자</th>\n",
       "      <th>40세미만</th>\n",
       "      <th>40-50세</th>\n",
       "      <th>50-60세</th>\n",
       "      <th>60-70세</th>\n",
       "      <th>70세이상</th>\n",
       "      <th>봉급생활자</th>\n",
       "      <th>자영업자</th>\n",
       "      <th>100만원미만</th>\n",
       "      <th>100-200만원</th>\n",
       "      <th>200-300만원</th>\n",
       "      <th>300-400만원</th>\n",
       "      <th>400-500만원</th>\n",
       "      <th>500만원이상</th>\n",
       "      <th>자가</th>\n",
       "      <th>임차</th>\n",
       "    </tr>\n",
       "    <tr>\n",
       "      <th>분기</th>\n",
       "      <th></th>\n",
       "      <th></th>\n",
       "      <th></th>\n",
       "      <th></th>\n",
       "      <th></th>\n",
       "      <th></th>\n",
       "      <th></th>\n",
       "      <th></th>\n",
       "      <th></th>\n",
       "      <th></th>\n",
       "      <th></th>\n",
       "      <th></th>\n",
       "      <th></th>\n",
       "      <th></th>\n",
       "      <th></th>\n",
       "      <th></th>\n",
       "      <th></th>\n",
       "    </tr>\n",
       "  </thead>\n",
       "  <tbody>\n",
       "    <tr>\n",
       "      <th>2016-01-01</th>\n",
       "      <td>104</td>\n",
       "      <td>105</td>\n",
       "      <td>105</td>\n",
       "      <td>106</td>\n",
       "      <td>104</td>\n",
       "      <td>101</td>\n",
       "      <td>100</td>\n",
       "      <td>103</td>\n",
       "      <td>111</td>\n",
       "      <td>106</td>\n",
       "      <td>108</td>\n",
       "      <td>109</td>\n",
       "      <td>104</td>\n",
       "      <td>102</td>\n",
       "      <td>99</td>\n",
       "      <td>104</td>\n",
       "      <td>105</td>\n",
       "    </tr>\n",
       "    <tr>\n",
       "      <th>2016-02-01</th>\n",
       "      <td>104</td>\n",
       "      <td>101</td>\n",
       "      <td>103</td>\n",
       "      <td>106</td>\n",
       "      <td>104</td>\n",
       "      <td>101</td>\n",
       "      <td>98</td>\n",
       "      <td>102</td>\n",
       "      <td>110</td>\n",
       "      <td>104</td>\n",
       "      <td>107</td>\n",
       "      <td>107</td>\n",
       "      <td>102</td>\n",
       "      <td>101</td>\n",
       "      <td>101</td>\n",
       "      <td>104</td>\n",
       "      <td>103</td>\n",
       "    </tr>\n",
       "  </tbody>\n",
       "</table>\n",
       "</div>"
      ],
      "text/plain": [
       "             남자   여자  40세미만  40-50세  50-60세  60-70세  70세이상  봉급생활자  자영업자  \\\n",
       "분기                                                                        \n",
       "2016-01-01  104  105    105     106     104     101    100    103   111   \n",
       "2016-02-01  104  101    103     106     104     101     98    102   110   \n",
       "\n",
       "            100만원미만  100-200만원  200-300만원  300-400만원  400-500만원  500만원이상   자가  \\\n",
       "분기                                                                              \n",
       "2016-01-01      106        108        109        104        102       99  104   \n",
       "2016-02-01      104        107        107        102        101      101  104   \n",
       "\n",
       "             임차  \n",
       "분기               \n",
       "2016-01-01  105  \n",
       "2016-02-01  103  "
      ]
     },
     "execution_count": 18,
     "metadata": {},
     "output_type": "execute_result"
    }
   ],
   "source": [
    "cb_df=pd.read_csv('소비자동향조사(전국, 월, 2008.9_)_현재가계부채.csv',parse_dates=['변환'])\n",
    "cb_df.columns=['분기','남자','여자','40세미만','40-50세','50-60세','60-70세','70세이상','봉급생활자','자영업자', '100만원미만','100-200만원','200-300만원','300-400만원','400-500만원','500만원이상','자가','임차']\n",
    "cb_df = cb_df.set_index('분기')\n",
    "cb_df.head(2)"
   ]
  },
  {
   "cell_type": "code",
   "execution_count": 19,
   "id": "da821815-8440-4d8b-a864-f9e1c0802a93",
   "metadata": {
    "tags": []
   },
   "outputs": [],
   "source": [
    "cb_df.to_json('소비자동향조사_현재가계부채.json',orient='columns')"
   ]
  },
  {
   "cell_type": "code",
   "execution_count": null,
   "id": "410008e5-676c-4e85-9cf4-ea8642b50a61",
   "metadata": {
    "tags": []
   },
   "outputs": [],
   "source": []
  },
  {
   "cell_type": "code",
   "execution_count": null,
   "id": "765f0bcd-f34b-4b4f-bad0-e5ed2bc84d4c",
   "metadata": {},
   "outputs": [],
   "source": []
  },
  {
   "cell_type": "markdown",
   "id": "4c4b0266-62ae-4b5b-86bb-c8412a814020",
   "metadata": {},
   "source": [
    "# 4. 소비자 물가지수"
   ]
  },
  {
   "cell_type": "code",
   "execution_count": 20,
   "id": "1490b1e5-b116-47ec-b220-bb97a9607aaa",
   "metadata": {
    "tags": []
   },
   "outputs": [
    {
     "data": {
      "text/html": [
       "<div>\n",
       "<style scoped>\n",
       "    .dataframe tbody tr th:only-of-type {\n",
       "        vertical-align: middle;\n",
       "    }\n",
       "\n",
       "    .dataframe tbody tr th {\n",
       "        vertical-align: top;\n",
       "    }\n",
       "\n",
       "    .dataframe thead th {\n",
       "        text-align: right;\n",
       "    }\n",
       "</style>\n",
       "<table border=\"1\" class=\"dataframe\">\n",
       "  <thead>\n",
       "    <tr style=\"text-align: right;\">\n",
       "      <th></th>\n",
       "      <th>분기</th>\n",
       "      <th>총지수</th>\n",
       "    </tr>\n",
       "  </thead>\n",
       "  <tbody>\n",
       "    <tr>\n",
       "      <th>0</th>\n",
       "      <td>2016/Q1</td>\n",
       "      <td>95.422</td>\n",
       "    </tr>\n",
       "    <tr>\n",
       "      <th>1</th>\n",
       "      <td>2016/Q2</td>\n",
       "      <td>95.605</td>\n",
       "    </tr>\n",
       "    <tr>\n",
       "      <th>2</th>\n",
       "      <td>2016/Q3</td>\n",
       "      <td>95.785</td>\n",
       "    </tr>\n",
       "    <tr>\n",
       "      <th>3</th>\n",
       "      <td>2016/Q4</td>\n",
       "      <td>96.319</td>\n",
       "    </tr>\n",
       "    <tr>\n",
       "      <th>4</th>\n",
       "      <td>2017/Q1</td>\n",
       "      <td>97.521</td>\n",
       "    </tr>\n",
       "  </tbody>\n",
       "</table>\n",
       "</div>"
      ],
      "text/plain": [
       "        분기     총지수\n",
       "0  2016/Q1  95.422\n",
       "1  2016/Q2  95.605\n",
       "2  2016/Q3  95.785\n",
       "3  2016/Q4  96.319\n",
       "4  2017/Q1  97.521"
      ]
     },
     "execution_count": 20,
     "metadata": {},
     "output_type": "execute_result"
    }
   ],
   "source": [
    "cs_df=pd.read_csv('소비자물가지수.csv',parse_dates=['변환'])\n",
    "cs_df.columns=['분기','총지수']\n",
    "cs_df.head()"
   ]
  },
  {
   "cell_type": "markdown",
   "id": "c9eb33fc-68a8-46c2-a1aa-34491ece634a",
   "metadata": {},
   "source": [
    "# 5. 예금은행 대출금"
   ]
  },
  {
   "cell_type": "code",
   "execution_count": 21,
   "id": "dc3a5a7b-3828-4f31-a84a-55c2688f32cf",
   "metadata": {
    "tags": []
   },
   "outputs": [
    {
     "data": {
      "text/html": [
       "<div>\n",
       "<style scoped>\n",
       "    .dataframe tbody tr th:only-of-type {\n",
       "        vertical-align: middle;\n",
       "    }\n",
       "\n",
       "    .dataframe tbody tr th {\n",
       "        vertical-align: top;\n",
       "    }\n",
       "\n",
       "    .dataframe thead th {\n",
       "        text-align: right;\n",
       "    }\n",
       "</style>\n",
       "<table border=\"1\" class=\"dataframe\">\n",
       "  <thead>\n",
       "    <tr style=\"text-align: right;\">\n",
       "      <th></th>\n",
       "      <th>분기</th>\n",
       "      <th>총대출금</th>\n",
       "    </tr>\n",
       "  </thead>\n",
       "  <tbody>\n",
       "    <tr>\n",
       "      <th>0</th>\n",
       "      <td>2016/Q1</td>\n",
       "      <td>1361310.2</td>\n",
       "    </tr>\n",
       "    <tr>\n",
       "      <th>1</th>\n",
       "      <td>2016/Q2</td>\n",
       "      <td>1387028.0</td>\n",
       "    </tr>\n",
       "    <tr>\n",
       "      <th>2</th>\n",
       "      <td>2016/Q3</td>\n",
       "      <td>1414232.0</td>\n",
       "    </tr>\n",
       "    <tr>\n",
       "      <th>3</th>\n",
       "      <td>2016/Q4</td>\n",
       "      <td>1424149.2</td>\n",
       "    </tr>\n",
       "    <tr>\n",
       "      <th>4</th>\n",
       "      <td>2017/Q1</td>\n",
       "      <td>1435859.5</td>\n",
       "    </tr>\n",
       "  </tbody>\n",
       "</table>\n",
       "</div>"
      ],
      "text/plain": [
       "        분기       총대출금\n",
       "0  2016/Q1  1361310.2\n",
       "1  2016/Q2  1387028.0\n",
       "2  2016/Q3  1414232.0\n",
       "3  2016/Q4  1424149.2\n",
       "4  2017/Q1  1435859.5"
      ]
     },
     "execution_count": 21,
     "metadata": {},
     "output_type": "execute_result"
    }
   ],
   "source": [
    "bank_df=pd.read_csv('예금은행 대출금(말잔).csv',  thousands=',',parse_dates=['변환'])\n",
    "bank_df.columns=['분기','총대출금'] #단위: 십억원\n",
    "bank_df.head()"
   ]
  },
  {
   "cell_type": "code",
   "execution_count": 22,
   "id": "356713bc-1f27-499d-b05b-999e1cd706d5",
   "metadata": {
    "tags": []
   },
   "outputs": [
    {
     "name": "stdout",
     "output_type": "stream",
     "text": [
      "<class 'pandas.core.frame.DataFrame'>\n",
      "RangeIndex: 28 entries, 0 to 27\n",
      "Data columns (total 2 columns):\n",
      " #   Column  Non-Null Count  Dtype  \n",
      "---  ------  --------------  -----  \n",
      " 0   분기      28 non-null     object \n",
      " 1   총대출금    28 non-null     float64\n",
      "dtypes: float64(1), object(1)\n",
      "memory usage: 576.0+ bytes\n"
     ]
    }
   ],
   "source": [
    "bank_df.info()"
   ]
  },
  {
   "cell_type": "markdown",
   "id": "3fc25d5b-40b1-4566-aa3e-ccef8ba4b5ee",
   "metadata": {
    "tags": []
   },
   "source": [
    "# 6. 예금은행 대출금리(잔액기준)"
   ]
  },
  {
   "cell_type": "code",
   "execution_count": 23,
   "id": "eb999a92-008d-48b0-bb1f-cd5aa9174aeb",
   "metadata": {
    "tags": []
   },
   "outputs": [
    {
     "data": {
      "text/html": [
       "<div>\n",
       "<style scoped>\n",
       "    .dataframe tbody tr th:only-of-type {\n",
       "        vertical-align: middle;\n",
       "    }\n",
       "\n",
       "    .dataframe tbody tr th {\n",
       "        vertical-align: top;\n",
       "    }\n",
       "\n",
       "    .dataframe thead th {\n",
       "        text-align: right;\n",
       "    }\n",
       "</style>\n",
       "<table border=\"1\" class=\"dataframe\">\n",
       "  <thead>\n",
       "    <tr style=\"text-align: right;\">\n",
       "      <th></th>\n",
       "      <th>분기</th>\n",
       "      <th>기업대출</th>\n",
       "      <th>가계대출</th>\n",
       "    </tr>\n",
       "  </thead>\n",
       "  <tbody>\n",
       "    <tr>\n",
       "      <th>0</th>\n",
       "      <td>2016/Q1</td>\n",
       "      <td>3.68</td>\n",
       "      <td>3.33</td>\n",
       "    </tr>\n",
       "    <tr>\n",
       "      <th>1</th>\n",
       "      <td>2016/Q2</td>\n",
       "      <td>3.60</td>\n",
       "      <td>3.27</td>\n",
       "    </tr>\n",
       "    <tr>\n",
       "      <th>2</th>\n",
       "      <td>2016/Q3</td>\n",
       "      <td>3.49</td>\n",
       "      <td>3.18</td>\n",
       "    </tr>\n",
       "    <tr>\n",
       "      <th>3</th>\n",
       "      <td>2016/Q4</td>\n",
       "      <td>3.53</td>\n",
       "      <td>3.18</td>\n",
       "    </tr>\n",
       "    <tr>\n",
       "      <th>4</th>\n",
       "      <td>2017/Q1</td>\n",
       "      <td>3.55</td>\n",
       "      <td>3.22</td>\n",
       "    </tr>\n",
       "  </tbody>\n",
       "</table>\n",
       "</div>"
      ],
      "text/plain": [
       "        분기  기업대출  가계대출\n",
       "0  2016/Q1  3.68  3.33\n",
       "1  2016/Q2  3.60  3.27\n",
       "2  2016/Q3  3.49  3.18\n",
       "3  2016/Q4  3.53  3.18\n",
       "4  2017/Q1  3.55  3.22"
      ]
     },
     "execution_count": 23,
     "metadata": {},
     "output_type": "execute_result"
    }
   ],
   "source": [
    "bank_gum_df=pd.read_csv('예금은행 대출금리(잔액 기준).csv',parse_dates=['변환'])\n",
    "bank_gum_df.columns=['분기','기업대출','가계대출'] # 연리(%)\n",
    "bank_gum_df.head()"
   ]
  },
  {
   "cell_type": "markdown",
   "id": "ea37c1d0-e4db-4086-8880-8502124746b2",
   "metadata": {
    "tags": []
   },
   "source": [
    "# 7. 예금은행 원화예금(종별, 말잔)"
   ]
  },
  {
   "cell_type": "code",
   "execution_count": 24,
   "id": "c8343a3f-5451-484d-b3a0-eff09436cfa7",
   "metadata": {
    "tags": []
   },
   "outputs": [
    {
     "data": {
      "text/html": [
       "<div>\n",
       "<style scoped>\n",
       "    .dataframe tbody tr th:only-of-type {\n",
       "        vertical-align: middle;\n",
       "    }\n",
       "\n",
       "    .dataframe tbody tr th {\n",
       "        vertical-align: top;\n",
       "    }\n",
       "\n",
       "    .dataframe thead th {\n",
       "        text-align: right;\n",
       "    }\n",
       "</style>\n",
       "<table border=\"1\" class=\"dataframe\">\n",
       "  <thead>\n",
       "    <tr style=\"text-align: right;\">\n",
       "      <th></th>\n",
       "      <th>분기</th>\n",
       "      <th>총예금</th>\n",
       "    </tr>\n",
       "  </thead>\n",
       "  <tbody>\n",
       "    <tr>\n",
       "      <th>0</th>\n",
       "      <td>2016/Q1</td>\n",
       "      <td>1018104.0</td>\n",
       "    </tr>\n",
       "    <tr>\n",
       "      <th>1</th>\n",
       "      <td>2016/Q2</td>\n",
       "      <td>1031405.1</td>\n",
       "    </tr>\n",
       "    <tr>\n",
       "      <th>2</th>\n",
       "      <td>2016/Q3</td>\n",
       "      <td>1042841.7</td>\n",
       "    </tr>\n",
       "    <tr>\n",
       "      <th>3</th>\n",
       "      <td>2016/Q4</td>\n",
       "      <td>1061034.4</td>\n",
       "    </tr>\n",
       "    <tr>\n",
       "      <th>4</th>\n",
       "      <td>2017/Q1</td>\n",
       "      <td>1062069.9</td>\n",
       "    </tr>\n",
       "  </tbody>\n",
       "</table>\n",
       "</div>"
      ],
      "text/plain": [
       "        분기        총예금\n",
       "0  2016/Q1  1018104.0\n",
       "1  2016/Q2  1031405.1\n",
       "2  2016/Q3  1042841.7\n",
       "3  2016/Q4  1061034.4\n",
       "4  2017/Q1  1062069.9"
      ]
     },
     "execution_count": 24,
     "metadata": {},
     "output_type": "execute_result"
    }
   ],
   "source": [
    "won_df=pd.read_csv('예금은행 원화예금(종별, 말잔).csv',thousands=',',parse_dates=['변환'])\n",
    "won_df.columns=['분기','총예금'] #단위: 십억원\n",
    "won_df.head()"
   ]
  },
  {
   "cell_type": "code",
   "execution_count": 25,
   "id": "2bf435c6-1fc8-47ee-a816-e3a2f6d13164",
   "metadata": {
    "tags": []
   },
   "outputs": [
    {
     "name": "stdout",
     "output_type": "stream",
     "text": [
      "<class 'pandas.core.frame.DataFrame'>\n",
      "RangeIndex: 28 entries, 0 to 27\n",
      "Data columns (total 2 columns):\n",
      " #   Column  Non-Null Count  Dtype  \n",
      "---  ------  --------------  -----  \n",
      " 0   분기      28 non-null     object \n",
      " 1   총예금     28 non-null     float64\n",
      "dtypes: float64(1), object(1)\n",
      "memory usage: 576.0+ bytes\n"
     ]
    }
   ],
   "source": [
    "won_df.info()"
   ]
  },
  {
   "cell_type": "markdown",
   "id": "bfcd0db4-9ef4-4c4e-a558-6f527009c9d3",
   "metadata": {
    "tags": []
   },
   "source": [
    "# 8. 주식시장"
   ]
  },
  {
   "cell_type": "markdown",
   "id": "06b10095-bc15-4a24-80b7-a91ed666d0e7",
   "metadata": {},
   "source": [
    "*********"
   ]
  },
  {
   "cell_type": "code",
   "execution_count": 26,
   "id": "aac5f693-9c33-4f69-8585-cbf6f0955d86",
   "metadata": {
    "tags": []
   },
   "outputs": [
    {
     "data": {
      "text/html": [
       "<div>\n",
       "<style scoped>\n",
       "    .dataframe tbody tr th:only-of-type {\n",
       "        vertical-align: middle;\n",
       "    }\n",
       "\n",
       "    .dataframe tbody tr th {\n",
       "        vertical-align: top;\n",
       "    }\n",
       "\n",
       "    .dataframe thead th {\n",
       "        text-align: right;\n",
       "    }\n",
       "</style>\n",
       "<table border=\"1\" class=\"dataframe\">\n",
       "  <thead>\n",
       "    <tr style=\"text-align: right;\">\n",
       "      <th></th>\n",
       "      <th>KOSPI_거래량</th>\n",
       "      <th>KOSPI_거래대금</th>\n",
       "    </tr>\n",
       "    <tr>\n",
       "      <th>분기</th>\n",
       "      <th></th>\n",
       "      <th></th>\n",
       "    </tr>\n",
       "  </thead>\n",
       "  <tbody>\n",
       "    <tr>\n",
       "      <th>2016-01-01</th>\n",
       "      <td>7301544849</td>\n",
       "      <td>95483140006</td>\n",
       "    </tr>\n",
       "    <tr>\n",
       "      <th>2016-02-01</th>\n",
       "      <td>6189329878</td>\n",
       "      <td>82859217791</td>\n",
       "    </tr>\n",
       "    <tr>\n",
       "      <th>2016-03-01</th>\n",
       "      <td>7747195885</td>\n",
       "      <td>97482610318</td>\n",
       "    </tr>\n",
       "    <tr>\n",
       "      <th>2016-04-01</th>\n",
       "      <td>7973516371</td>\n",
       "      <td>94093322393</td>\n",
       "    </tr>\n",
       "    <tr>\n",
       "      <th>2016-05-01</th>\n",
       "      <td>9650547747</td>\n",
       "      <td>100721933795</td>\n",
       "    </tr>\n",
       "  </tbody>\n",
       "</table>\n",
       "</div>"
      ],
      "text/plain": [
       "             KOSPI_거래량    KOSPI_거래대금\n",
       "분기                                  \n",
       "2016-01-01  7301544849   95483140006\n",
       "2016-02-01  6189329878   82859217791\n",
       "2016-03-01  7747195885   97482610318\n",
       "2016-04-01  7973516371   94093322393\n",
       "2016-05-01  9650547747  100721933795"
      ]
     },
     "execution_count": 26,
     "metadata": {},
     "output_type": "execute_result"
    }
   ],
   "source": [
    "stock_df=pd.read_csv('주식시장.csv',thousands=',',parse_dates=['변환'])\n",
    "stock_df.columns=['분기','KOSPI_거래량','KOSPI_거래대금'] # 단위: 주/ 천원\n",
    "stock_df = stock_df.set_index('분기')\n",
    "stock_df.head()"
   ]
  },
  {
   "cell_type": "code",
   "execution_count": 27,
   "id": "c9cc2ed8-7d8b-45db-946e-ad27df6b33e6",
   "metadata": {
    "tags": []
   },
   "outputs": [],
   "source": [
    "stock_df.to_json('주식시장.json',orient='columns')"
   ]
  },
  {
   "cell_type": "markdown",
   "id": "f7c1e8e3-2e9c-45d6-ad25-2b211531bc1d",
   "metadata": {},
   "source": [
    "* ref : https://okky.kr/articles/1158227"
   ]
  },
  {
   "cell_type": "code",
   "execution_count": 28,
   "id": "2be890f0-6127-460b-a301-f124b4fe5aec",
   "metadata": {
    "tags": []
   },
   "outputs": [
    {
     "name": "stdout",
     "output_type": "stream",
     "text": [
      "DatetimeIndex(['2019-01-01', '2019-04-01', '2019-07-01', '2019-10-01'], dtype='datetime64[ns]', freq='QS-JAN')\n",
      "DatetimeIndex(['2019-03-31', '2019-06-30', '2019-09-30', '2019-12-31'], dtype='datetime64[ns]', freq='Q-DEC')\n"
     ]
    }
   ],
   "source": [
    "import pandas as pd\n",
    "\n",
    "q_start_list = pd.date_range('2019-01-01', periods =4, freq = 'QS' ) # or freq = '3D'\n",
    "q_end_list    = pd.date_range('2019-01-01', periods =4, freq = 'Q' ) # or freq = '3D'\n",
    "print(q_start_list)\n",
    "print(q_end_list)\n"
   ]
  },
  {
   "cell_type": "code",
   "execution_count": 29,
   "id": "a98933f5-ddb2-4a0c-8fdb-39340564f08e",
   "metadata": {
    "tags": []
   },
   "outputs": [
    {
     "data": {
      "text/plain": [
       "(365, 2)"
      ]
     },
     "execution_count": 29,
     "metadata": {},
     "output_type": "execute_result"
    }
   ],
   "source": [
    "sdf = pd.DataFrame({\"bank\":\"kb\", \"rate\":100} , index=pd.date_range('2019-01-01', '2019-12-31'))\n",
    "sdf.shape"
   ]
  },
  {
   "cell_type": "code",
   "execution_count": 30,
   "id": "48ebf60f-f365-41ce-8b40-33f36c0ef5f6",
   "metadata": {
    "tags": []
   },
   "outputs": [],
   "source": [
    "# sdf.loc['2019-01-01':  '2019-03-31'].cumsum()[-1:]\n",
    "# sdf.loc['2019-04-01':  '2019-06-30'].cumsum()[-1:]"
   ]
  },
  {
   "cell_type": "code",
   "execution_count": 31,
   "id": "29a839bd-9ad8-45be-a5bc-75fd706bb761",
   "metadata": {
    "tags": []
   },
   "outputs": [
    {
     "name": "stdout",
     "output_type": "stream",
     "text": [
      "2019-03-31    9000\n",
      "Freq: D, Name: rate, dtype: int64\n",
      "2019-06-30    9100\n",
      "Freq: D, Name: rate, dtype: int64\n",
      "2019-09-30    9200\n",
      "Freq: D, Name: rate, dtype: int64\n",
      "2019-12-31    9200\n",
      "Freq: D, Name: rate, dtype: int64\n"
     ]
    }
   ],
   "source": [
    "for i, dval in enumerate(q_start_list):\n",
    "    # print(i, dval)\n",
    "    # print(q_start_list[i], q_end_list[i] )\n",
    "    print( sdf['rate'].loc[q_start_list[i]:  q_end_list[i]].cumsum()[-1:] )"
   ]
  },
  {
   "cell_type": "markdown",
   "id": "9e62ca7d-df31-429f-ac29-fb219037dfb0",
   "metadata": {
    "tags": []
   },
   "source": [
    "# 9. 한국은행 기준금리 및 여수신금리"
   ]
  },
  {
   "cell_type": "code",
   "execution_count": 32,
   "id": "14cac48f-763b-47a7-ba81-1e8287cd8aae",
   "metadata": {
    "tags": []
   },
   "outputs": [
    {
     "data": {
      "text/html": [
       "<div>\n",
       "<style scoped>\n",
       "    .dataframe tbody tr th:only-of-type {\n",
       "        vertical-align: middle;\n",
       "    }\n",
       "\n",
       "    .dataframe tbody tr th {\n",
       "        vertical-align: top;\n",
       "    }\n",
       "\n",
       "    .dataframe thead th {\n",
       "        text-align: right;\n",
       "    }\n",
       "</style>\n",
       "<table border=\"1\" class=\"dataframe\">\n",
       "  <thead>\n",
       "    <tr style=\"text-align: right;\">\n",
       "      <th></th>\n",
       "      <th>분기</th>\n",
       "      <th>한국은행_기준금리</th>\n",
       "    </tr>\n",
       "  </thead>\n",
       "  <tbody>\n",
       "    <tr>\n",
       "      <th>0</th>\n",
       "      <td>2016/Q1</td>\n",
       "      <td>1.50</td>\n",
       "    </tr>\n",
       "    <tr>\n",
       "      <th>1</th>\n",
       "      <td>2016/Q2</td>\n",
       "      <td>1.25</td>\n",
       "    </tr>\n",
       "    <tr>\n",
       "      <th>2</th>\n",
       "      <td>2016/Q3</td>\n",
       "      <td>1.25</td>\n",
       "    </tr>\n",
       "    <tr>\n",
       "      <th>3</th>\n",
       "      <td>2016/Q4</td>\n",
       "      <td>1.25</td>\n",
       "    </tr>\n",
       "    <tr>\n",
       "      <th>4</th>\n",
       "      <td>2017/Q1</td>\n",
       "      <td>1.25</td>\n",
       "    </tr>\n",
       "  </tbody>\n",
       "</table>\n",
       "</div>"
      ],
      "text/plain": [
       "        분기  한국은행_기준금리\n",
       "0  2016/Q1       1.50\n",
       "1  2016/Q2       1.25\n",
       "2  2016/Q3       1.25\n",
       "3  2016/Q4       1.25\n",
       "4  2017/Q1       1.25"
      ]
     },
     "execution_count": 32,
     "metadata": {},
     "output_type": "execute_result"
    }
   ],
   "source": [
    "han_df=pd.read_csv('한국은행 기준금리 및 여수신금리.csv',parse_dates=['변환'])\n",
    "han_df.columns=['분기','한국은행_기준금리'] #연(%)\n",
    "han_df.head()"
   ]
  },
  {
   "cell_type": "code",
   "execution_count": 55,
   "id": "aab1b438-c58a-4c06-a997-05b88d287d8c",
   "metadata": {
    "tags": []
   },
   "outputs": [
    {
     "data": {
      "text/plain": [
       "<bound method NDFrame.to_json of          분기  한국은행_기준금리\n",
       "0   2016/Q1       1.50\n",
       "1   2016/Q2       1.25\n",
       "2   2016/Q3       1.25\n",
       "3   2016/Q4       1.25\n",
       "4   2017/Q1       1.25\n",
       "5   2017/Q2       1.25\n",
       "6   2017/Q3       1.25\n",
       "7   2017/Q4       1.50\n",
       "8   2018/Q1       1.50\n",
       "9   2018/Q2       1.50\n",
       "10  2018/Q3       1.50\n",
       "11  2018/Q4       1.75\n",
       "12  2019/Q1       1.75\n",
       "13  2019/Q2       1.75\n",
       "14  2019/Q3       1.50\n",
       "15  2019/Q4       1.25\n",
       "16  2020/Q1       0.75\n",
       "17  2020/Q2       0.50\n",
       "18  2020/Q3       0.50\n",
       "19  2020/Q4       0.50\n",
       "20  2021/Q1       0.50\n",
       "21  2021/Q2       0.50\n",
       "22  2021/Q3       0.75\n",
       "23  2021/Q4       1.00\n",
       "24  2022/Q1       1.25\n",
       "25  2022/Q2       1.75\n",
       "26  2022/Q3       2.50\n",
       "27  2022/Q4       3.25>"
      ]
     },
     "execution_count": 55,
     "metadata": {},
     "output_type": "execute_result"
    }
   ],
   "source": [
    "han_df.to_json"
   ]
  },
  {
   "cell_type": "markdown",
   "id": "7ee25dbd-fd03-4925-b40d-cb8093f80815",
   "metadata": {
    "tags": []
   },
   "source": [
    "# 10. 한국은행 기준금리 및 여수신금리(월별)"
   ]
  },
  {
   "cell_type": "code",
   "execution_count": 33,
   "id": "a8a6cea6-cacb-4629-b2d6-f49dc2e25178",
   "metadata": {
    "tags": []
   },
   "outputs": [
    {
     "data": {
      "text/html": [
       "<div>\n",
       "<style scoped>\n",
       "    .dataframe tbody tr th:only-of-type {\n",
       "        vertical-align: middle;\n",
       "    }\n",
       "\n",
       "    .dataframe tbody tr th {\n",
       "        vertical-align: top;\n",
       "    }\n",
       "\n",
       "    .dataframe thead th {\n",
       "        text-align: right;\n",
       "    }\n",
       "</style>\n",
       "<table border=\"1\" class=\"dataframe\">\n",
       "  <thead>\n",
       "    <tr style=\"text-align: right;\">\n",
       "      <th></th>\n",
       "      <th>한국은행_기준금리(월)</th>\n",
       "    </tr>\n",
       "    <tr>\n",
       "      <th>분기</th>\n",
       "      <th></th>\n",
       "    </tr>\n",
       "  </thead>\n",
       "  <tbody>\n",
       "    <tr>\n",
       "      <th>2016-01-01</th>\n",
       "      <td>1.5</td>\n",
       "    </tr>\n",
       "    <tr>\n",
       "      <th>2016-02-01</th>\n",
       "      <td>1.5</td>\n",
       "    </tr>\n",
       "    <tr>\n",
       "      <th>2016-03-01</th>\n",
       "      <td>1.5</td>\n",
       "    </tr>\n",
       "    <tr>\n",
       "      <th>2016-04-01</th>\n",
       "      <td>1.5</td>\n",
       "    </tr>\n",
       "    <tr>\n",
       "      <th>2016-05-01</th>\n",
       "      <td>1.5</td>\n",
       "    </tr>\n",
       "  </tbody>\n",
       "</table>\n",
       "</div>"
      ],
      "text/plain": [
       "            한국은행_기준금리(월)\n",
       "분기                      \n",
       "2016-01-01           1.5\n",
       "2016-02-01           1.5\n",
       "2016-03-01           1.5\n",
       "2016-04-01           1.5\n",
       "2016-05-01           1.5"
      ]
     },
     "execution_count": 33,
     "metadata": {},
     "output_type": "execute_result"
    }
   ],
   "source": [
    "han_m_df=pd.read_csv('한국은행 기준금리 및 여수신금리(월별).csv',parse_dates=['변환'])\n",
    "han_m_df.columns=['분기','한국은행_기준금리(월)'] #연(%)\n",
    "han_m_df = han_m_df.set_index('분기')\n",
    "han_m_df.head()"
   ]
  },
  {
   "cell_type": "code",
   "execution_count": null,
   "id": "98d0452d-f0b2-4684-8410-04296c6f2cca",
   "metadata": {},
   "outputs": [],
   "source": []
  },
  {
   "cell_type": "markdown",
   "id": "15d14c45-dc02-416f-a339-c4fde653d385",
   "metadata": {},
   "source": [
    "# 최종 DataFrame"
   ]
  },
  {
   "cell_type": "code",
   "execution_count": 34,
   "id": "dda0308e-d453-46a3-9867-650bdf8885ed",
   "metadata": {},
   "outputs": [],
   "source": [
    "df = han_df.copy()\n",
    "df.index = df['분기']\n",
    "# df = df.drop('분기',axis=1)"
   ]
  },
  {
   "cell_type": "code",
   "execution_count": 35,
   "id": "9af10977-b6a4-4a4b-adf2-524c312efe78",
   "metadata": {
    "tags": []
   },
   "outputs": [],
   "source": [
    "SSS =  round(eco_df.resample('Q-DEC', kind='period')['경제심리지수_순환변동치'].mean(),2)"
   ]
  },
  {
   "cell_type": "code",
   "execution_count": 36,
   "id": "0a81f50a-e5d4-4513-b05e-db66a5ab18f3",
   "metadata": {},
   "outputs": [],
   "source": [
    "A=SSS.tolist()[0:28]  #182.39999999999998"
   ]
  },
  {
   "cell_type": "code",
   "execution_count": 37,
   "id": "1ae5ff70-3948-45af-bd97-b4c512277aa4",
   "metadata": {
    "tags": []
   },
   "outputs": [],
   "source": [
    "df['경제심리지수_순환변동치']=A"
   ]
  },
  {
   "cell_type": "code",
   "execution_count": 38,
   "id": "373d9450-114f-4037-b186-a4107358ea26",
   "metadata": {},
   "outputs": [],
   "source": [
    "SSS1 =  round(eco_df.resample('Q-DEC', kind='period')['경제심리지수_원계열'].mean(),2).tolist()[0:28]\n",
    "df['경제심리지수_원계열']=SSS1"
   ]
  },
  {
   "cell_type": "code",
   "execution_count": 39,
   "id": "9bcc0018-3e6a-4229-9ab9-c870d5feea23",
   "metadata": {
    "tags": []
   },
   "outputs": [],
   "source": [
    "SSS2 =  round(c_df.resample('Q-DEC', kind='period')['소비자심리지수'].mean(),2).tolist()[0:28]"
   ]
  },
  {
   "cell_type": "code",
   "execution_count": 40,
   "id": "0ccd75d4-3c71-4b3d-b52c-5825f45899d6",
   "metadata": {
    "tags": []
   },
   "outputs": [],
   "source": [
    "df['소비자심리지수']=SSS2"
   ]
  },
  {
   "cell_type": "code",
   "execution_count": 41,
   "id": "3edfad39-6166-4589-83aa-8d1bff227c7a",
   "metadata": {
    "tags": []
   },
   "outputs": [],
   "source": [
    "df['생산자_물가지수']=p_df['총지수'].tolist()"
   ]
  },
  {
   "cell_type": "code",
   "execution_count": 42,
   "id": "2739d07a-f17c-46dd-8382-85909896ceea",
   "metadata": {
    "tags": []
   },
   "outputs": [],
   "source": [
    "df['소비자_물가지수']=round(cs_df['총지수'],2).tolist()"
   ]
  },
  {
   "cell_type": "code",
   "execution_count": 43,
   "id": "0a386543-f64a-43b1-a2e2-ca93112d33da",
   "metadata": {
    "tags": []
   },
   "outputs": [],
   "source": [
    "df['예금은행_대출금(십억원)']=bank_df['총대출금'].tolist()"
   ]
  },
  {
   "cell_type": "code",
   "execution_count": 44,
   "id": "d543866f-b9a5-412e-ae1d-d872253068c6",
   "metadata": {
    "tags": []
   },
   "outputs": [],
   "source": [
    "df['대출금리_기업']=bank_gum_df['기업대출'].tolist()"
   ]
  },
  {
   "cell_type": "code",
   "execution_count": 45,
   "id": "1750ca4a-bb3f-4a37-9462-ff4aaaa14e50",
   "metadata": {
    "tags": []
   },
   "outputs": [],
   "source": [
    "df['대출금리_가계']=bank_gum_df['가계대출'].tolist()"
   ]
  },
  {
   "cell_type": "code",
   "execution_count": 46,
   "id": "82dfe6d5-5daa-416f-906f-2f8856eef1c7",
   "metadata": {
    "tags": []
   },
   "outputs": [],
   "source": [
    "# df=df.drop(['예금은행_대출금리_기업','예금은행_대출금리_가계'],axis=1)"
   ]
  },
  {
   "cell_type": "code",
   "execution_count": 47,
   "id": "eb2c5744-9484-4496-8e7e-f9b499ab2f2e",
   "metadata": {
    "tags": []
   },
   "outputs": [],
   "source": [
    "df['예금은행_원화예금(십억원)']=won_df['총예금'].tolist()"
   ]
  },
  {
   "cell_type": "code",
   "execution_count": 48,
   "id": "27f1262e-447f-4641-9e11-2d5ecac1d281",
   "metadata": {
    "tags": []
   },
   "outputs": [],
   "source": [
    "SSS3 =  stock_df.resample('Q-DEC', kind='period')['KOSPI_거래량'].sum().tolist()[0:28]"
   ]
  },
  {
   "cell_type": "code",
   "execution_count": 49,
   "id": "089b1478-cddb-41f6-9276-236f51d17eab",
   "metadata": {
    "tags": []
   },
   "outputs": [],
   "source": [
    "SSS4 =  stock_df.resample('Q-DEC', kind='period')['KOSPI_거래대금'].sum().tolist()[0:28]"
   ]
  },
  {
   "cell_type": "code",
   "execution_count": 50,
   "id": "e29d2892-41f5-41e1-8440-e7e512a60eab",
   "metadata": {
    "tags": []
   },
   "outputs": [],
   "source": [
    "df['KOSPI_거래량(주/천원)']=SSS3"
   ]
  },
  {
   "cell_type": "code",
   "execution_count": 51,
   "id": "c89e6194-7672-42d9-b115-210b5822ea1a",
   "metadata": {
    "tags": []
   },
   "outputs": [],
   "source": [
    "df['KOSPI_거래대금(주/천원)']=SSS4"
   ]
  },
  {
   "cell_type": "code",
   "execution_count": 52,
   "id": "1aaaf9a3-1815-40de-8d8e-abec078b91bd",
   "metadata": {
    "tags": []
   },
   "outputs": [],
   "source": [
    "df=df.drop('분기',axis=1)"
   ]
  },
  {
   "cell_type": "code",
   "execution_count": 53,
   "id": "8c65a174-1683-4eff-8e76-7c71d424de76",
   "metadata": {},
   "outputs": [
    {
     "data": {
      "text/html": [
       "<div>\n",
       "<style scoped>\n",
       "    .dataframe tbody tr th:only-of-type {\n",
       "        vertical-align: middle;\n",
       "    }\n",
       "\n",
       "    .dataframe tbody tr th {\n",
       "        vertical-align: top;\n",
       "    }\n",
       "\n",
       "    .dataframe thead th {\n",
       "        text-align: right;\n",
       "    }\n",
       "</style>\n",
       "<table border=\"1\" class=\"dataframe\">\n",
       "  <thead>\n",
       "    <tr style=\"text-align: right;\">\n",
       "      <th></th>\n",
       "      <th>한국은행_기준금리</th>\n",
       "      <th>경제심리지수_순환변동치</th>\n",
       "      <th>경제심리지수_원계열</th>\n",
       "      <th>소비자심리지수</th>\n",
       "      <th>생산자_물가지수</th>\n",
       "      <th>소비자_물가지수</th>\n",
       "      <th>예금은행_대출금(십억원)</th>\n",
       "      <th>대출금리_기업</th>\n",
       "      <th>대출금리_가계</th>\n",
       "      <th>예금은행_원화예금(십억원)</th>\n",
       "      <th>KOSPI_거래량(주/천원)</th>\n",
       "      <th>KOSPI_거래대금(주/천원)</th>\n",
       "    </tr>\n",
       "    <tr>\n",
       "      <th>분기</th>\n",
       "      <th></th>\n",
       "      <th></th>\n",
       "      <th></th>\n",
       "      <th></th>\n",
       "      <th></th>\n",
       "      <th></th>\n",
       "      <th></th>\n",
       "      <th></th>\n",
       "      <th></th>\n",
       "      <th></th>\n",
       "      <th></th>\n",
       "      <th></th>\n",
       "    </tr>\n",
       "  </thead>\n",
       "  <tbody>\n",
       "    <tr>\n",
       "      <th>2016/Q1</th>\n",
       "      <td>1.50</td>\n",
       "      <td>94.17</td>\n",
       "      <td>93.10</td>\n",
       "      <td>99.67</td>\n",
       "      <td>97.54</td>\n",
       "      <td>95.42</td>\n",
       "      <td>1361310.2</td>\n",
       "      <td>3.68</td>\n",
       "      <td>3.33</td>\n",
       "      <td>1018104.0</td>\n",
       "      <td>21238070612</td>\n",
       "      <td>275824968115</td>\n",
       "    </tr>\n",
       "    <tr>\n",
       "      <th>2016/Q2</th>\n",
       "      <td>1.25</td>\n",
       "      <td>94.47</td>\n",
       "      <td>95.27</td>\n",
       "      <td>100.27</td>\n",
       "      <td>97.90</td>\n",
       "      <td>95.60</td>\n",
       "      <td>1387028.0</td>\n",
       "      <td>3.60</td>\n",
       "      <td>3.27</td>\n",
       "      <td>1031405.1</td>\n",
       "      <td>27439407152</td>\n",
       "      <td>304003734303</td>\n",
       "    </tr>\n",
       "    <tr>\n",
       "      <th>2016/Q3</th>\n",
       "      <td>1.25</td>\n",
       "      <td>95.73</td>\n",
       "      <td>96.87</td>\n",
       "      <td>101.97</td>\n",
       "      <td>98.12</td>\n",
       "      <td>95.78</td>\n",
       "      <td>1414232.0</td>\n",
       "      <td>3.49</td>\n",
       "      <td>3.18</td>\n",
       "      <td>1042841.7</td>\n",
       "      <td>24724975705</td>\n",
       "      <td>271285924423</td>\n",
       "    </tr>\n",
       "    <tr>\n",
       "      <th>2016/Q4</th>\n",
       "      <td>1.25</td>\n",
       "      <td>96.63</td>\n",
       "      <td>95.07</td>\n",
       "      <td>97.53</td>\n",
       "      <td>99.17</td>\n",
       "      <td>96.32</td>\n",
       "      <td>1424149.2</td>\n",
       "      <td>3.53</td>\n",
       "      <td>3.18</td>\n",
       "      <td>1061034.4</td>\n",
       "      <td>19283587623</td>\n",
       "      <td>261554105428</td>\n",
       "    </tr>\n",
       "    <tr>\n",
       "      <th>2017/Q1</th>\n",
       "      <td>1.25</td>\n",
       "      <td>97.63</td>\n",
       "      <td>97.83</td>\n",
       "      <td>94.93</td>\n",
       "      <td>101.60</td>\n",
       "      <td>97.52</td>\n",
       "      <td>1435859.5</td>\n",
       "      <td>3.55</td>\n",
       "      <td>3.22</td>\n",
       "      <td>1062069.9</td>\n",
       "      <td>24423254736</td>\n",
       "      <td>282479498540</td>\n",
       "    </tr>\n",
       "  </tbody>\n",
       "</table>\n",
       "</div>"
      ],
      "text/plain": [
       "         한국은행_기준금리  경제심리지수_순환변동치  경제심리지수_원계열  소비자심리지수  생산자_물가지수  소비자_물가지수  \\\n",
       "분기                                                                          \n",
       "2016/Q1       1.50         94.17       93.10    99.67     97.54     95.42   \n",
       "2016/Q2       1.25         94.47       95.27   100.27     97.90     95.60   \n",
       "2016/Q3       1.25         95.73       96.87   101.97     98.12     95.78   \n",
       "2016/Q4       1.25         96.63       95.07    97.53     99.17     96.32   \n",
       "2017/Q1       1.25         97.63       97.83    94.93    101.60     97.52   \n",
       "\n",
       "         예금은행_대출금(십억원)  대출금리_기업  대출금리_가계  예금은행_원화예금(십억원)  KOSPI_거래량(주/천원)  \\\n",
       "분기                                                                          \n",
       "2016/Q1      1361310.2     3.68     3.33       1018104.0      21238070612   \n",
       "2016/Q2      1387028.0     3.60     3.27       1031405.1      27439407152   \n",
       "2016/Q3      1414232.0     3.49     3.18       1042841.7      24724975705   \n",
       "2016/Q4      1424149.2     3.53     3.18       1061034.4      19283587623   \n",
       "2017/Q1      1435859.5     3.55     3.22       1062069.9      24423254736   \n",
       "\n",
       "         KOSPI_거래대금(주/천원)  \n",
       "분기                         \n",
       "2016/Q1      275824968115  \n",
       "2016/Q2      304003734303  \n",
       "2016/Q3      271285924423  \n",
       "2016/Q4      261554105428  \n",
       "2017/Q1      282479498540  "
      ]
     },
     "execution_count": 53,
     "metadata": {},
     "output_type": "execute_result"
    }
   ],
   "source": [
    "df.head()"
   ]
  },
  {
   "cell_type": "code",
   "execution_count": 54,
   "id": "1568a55b-4c83-4971-a5fd-520a177b9f3b",
   "metadata": {},
   "outputs": [],
   "source": [
    "df.to_json('semi_df.json',orient='columns')"
   ]
  },
  {
   "cell_type": "code",
   "execution_count": null,
   "id": "8d3e2ce9-fb44-40d1-928c-59ffd227a599",
   "metadata": {},
   "outputs": [],
   "source": []
  },
  {
   "cell_type": "code",
   "execution_count": null,
   "id": "0eedd278-638f-43af-92b5-ccc2fddccdf7",
   "metadata": {},
   "outputs": [],
   "source": []
  },
  {
   "cell_type": "code",
   "execution_count": null,
   "id": "ece13fdd-5e32-4afc-9637-a077895fe4d9",
   "metadata": {},
   "outputs": [],
   "source": []
  },
  {
   "cell_type": "code",
   "execution_count": null,
   "id": "1b54b601-fd17-4acf-9c29-2c3999ea8a99",
   "metadata": {},
   "outputs": [],
   "source": []
  }
 ],
 "metadata": {
  "kernelspec": {
   "display_name": "Python 3 (ipykernel)",
   "language": "python",
   "name": "python3"
  },
  "language_info": {
   "codemirror_mode": {
    "name": "ipython",
    "version": 3
   },
   "file_extension": ".py",
   "mimetype": "text/x-python",
   "name": "python",
   "nbconvert_exporter": "python",
   "pygments_lexer": "ipython3",
   "version": "3.8.8"
  }
 },
 "nbformat": 4,
 "nbformat_minor": 5
}
