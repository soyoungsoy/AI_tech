{
 "cells": [
  {
   "cell_type": "markdown",
   "id": "4b14f2b1-ef72-42f6-8ca0-5368809174db",
   "metadata": {
    "tags": []
   },
   "source": [
    "# Semi-Project"
   ]
  },
  {
   "cell_type": "code",
   "execution_count": 1,
   "id": "a11ae79f-833f-4cdd-8b70-69eb4eb109bf",
   "metadata": {},
   "outputs": [],
   "source": [
    "import pandas as pd\n",
    "import numpy as np\n",
    "import json\n",
    "import warnings\n",
    "warnings.filterwarnings(action='ignore')"
   ]
  },
  {
   "cell_type": "code",
   "execution_count": 2,
   "id": "91885c92-5425-4039-a37d-356a35ea59b0",
   "metadata": {
    "tags": []
   },
   "outputs": [],
   "source": [
    "######! pip install openpyxl"
   ]
  },
  {
   "cell_type": "code",
   "execution_count": 3,
   "id": "5a20bd47-291c-4206-8a1a-4f5ca77fe7d3",
   "metadata": {},
   "outputs": [],
   "source": [
    "from bs4 import BeautifulSoup\n",
    "import requests"
   ]
  },
  {
   "cell_type": "code",
   "execution_count": 7,
   "id": "00ab713b-ec40-4831-8bbd-bf160153637f",
   "metadata": {
    "tags": []
   },
   "outputs": [],
   "source": [
    "han_df=pd.read_csv('한국은행 기준금리 및 여수신금리(분기).csv',parse_dates=['변환'])\n",
    "han_df.columns=['분기','한국은행_기준금리'] #연(%)\n",
    "han_df.head()\n",
    "han_df.to_json('han_df.json',orient='columns')"
   ]
  },
  {
   "cell_type": "markdown",
   "id": "44c1b629-76cf-445b-a65d-4eaefcc2bb40",
   "metadata": {},
   "source": [
    "# 1. 경제심리지수"
   ]
  },
  {
   "cell_type": "code",
   "execution_count": null,
   "id": "c9afae3a-a2e0-4810-81d2-54e12dfd6a5d",
   "metadata": {},
   "outputs": [],
   "source": [
    "eco_df=pd.read_csv('경제심리지수.csv',parse_dates=['변환'])\n",
    "eco_df.columns=['분기','경제심리지수_원계열','경제심리지수_순환변동치']\n",
    "eco_df = eco_df.set_index('분기')\n",
    "eco_df.head()"
   ]
  },
  {
   "cell_type": "code",
   "execution_count": null,
   "id": "0a8d9521-a1ce-44d1-a86b-7c9efd9a8e63",
   "metadata": {
    "tags": []
   },
   "outputs": [],
   "source": [
    "eco_df['분기확인'] = eco_df.index.to_period('Q-DEC')\n",
    "eco_df"
   ]
  },
  {
   "cell_type": "code",
   "execution_count": null,
   "id": "4c4b2b4d-a641-49e1-bab2-6269644f7c28",
   "metadata": {},
   "outputs": [],
   "source": []
  },
  {
   "cell_type": "code",
   "execution_count": null,
   "id": "9af10977-b6a4-4a4b-adf2-524c312efe78",
   "metadata": {
    "tags": []
   },
   "outputs": [],
   "source": [
    "#경제심리지수\n",
    "#분기별 구간화하고, 평균값 나눈 뒤 28행까지 보이는 값\n",
    "\n",
    "eco1 =  round(eco_df.resample('Q-DEC', kind='period')['경제심리지수_순환변동치'].mean(),2).tolist()[0:28]\n",
    "eco2 =  round(eco_df.resample('Q-DEC', kind='period')['경제심리지수_원계열'].mean(),2).tolist()[0:28]\n"
   ]
  },
  {
   "cell_type": "code",
   "execution_count": null,
   "id": "7a4f2642-a47c-4fa2-95e4-5fb97ef360ef",
   "metadata": {
    "tags": []
   },
   "outputs": [],
   "source": [
    "eco1"
   ]
  },
  {
   "cell_type": "code",
   "execution_count": null,
   "id": "ddecb0ba-21d4-440e-bf16-878fe10ea34c",
   "metadata": {
    "tags": []
   },
   "outputs": [],
   "source": [
    "eco_df.info()"
   ]
  },
  {
   "cell_type": "markdown",
   "id": "c4c572ea-f3be-4690-9e3e-6cefcb3889df",
   "metadata": {},
   "source": [
    "# 2. 생산자물가지수"
   ]
  },
  {
   "cell_type": "code",
   "execution_count": null,
   "id": "50056c47-03b1-4dec-8b17-26b05d8beb1a",
   "metadata": {},
   "outputs": [],
   "source": [
    "p_df=pd.read_csv('생산자물가지수.csv',parse_dates=['변환'])\n",
    "p_df.columns=['분기','총지수']\n",
    "p_df.head()"
   ]
  },
  {
   "cell_type": "code",
   "execution_count": null,
   "id": "3cd1373a-9768-4409-af13-d061cee028a4",
   "metadata": {
    "tags": []
   },
   "outputs": [],
   "source": [
    "type(p_df['총지수'])"
   ]
  },
  {
   "cell_type": "markdown",
   "id": "99a7b139-a0cf-4a57-80ca-56babee6a565",
   "metadata": {},
   "source": [
    "# 3. 소비자 동향 조사"
   ]
  },
  {
   "cell_type": "markdown",
   "id": "4e7a3983-76a1-43f1-8368-a4c1a7f527f8",
   "metadata": {},
   "source": [
    "**********************"
   ]
  },
  {
   "cell_type": "code",
   "execution_count": null,
   "id": "43ca7d32-43c7-43ac-8c6d-e2c263e5ece0",
   "metadata": {
    "tags": []
   },
   "outputs": [],
   "source": [
    "c_df=pd.read_csv('소비자동향조사.csv',parse_dates=['변환'])\n",
    "c_df.columns=['분기','소비자심리지수']\n",
    "c_df = c_df.set_index('분기')\n",
    "c_df.head()"
   ]
  },
  {
   "cell_type": "code",
   "execution_count": null,
   "id": "6222cfbc-c6dc-423b-bf9f-ee15c9b23ef4",
   "metadata": {
    "tags": []
   },
   "outputs": [],
   "source": [
    "\n",
    "\n",
    "c_df['분기확인'] = c_df.index.to_period('Q-DEC')\n",
    "c_df"
   ]
  },
  {
   "cell_type": "code",
   "execution_count": null,
   "id": "cd2736b6-5456-4348-a808-11e4ff83bca3",
   "metadata": {
    "tags": []
   },
   "outputs": [],
   "source": [
    "#소비자동향조사 구간화 후, 평균값 내고 28행\n",
    "\n",
    "cus = round(c_df.resample('Q-DEC', kind = 'period')['소비자심리지수'].mean(),2).tolist()[0:28]"
   ]
  },
  {
   "cell_type": "code",
   "execution_count": null,
   "id": "180576e6-332f-4d47-ae46-52de8ba41f5c",
   "metadata": {
    "tags": []
   },
   "outputs": [],
   "source": [
    "\n",
    "cus"
   ]
  },
  {
   "cell_type": "markdown",
   "id": "9fc56940-fa08-4b07-a248-796ec8eea9b7",
   "metadata": {},
   "source": [
    "# 4. 소비자 물가지수"
   ]
  },
  {
   "cell_type": "code",
   "execution_count": null,
   "id": "1490b1e5-b116-47ec-b220-bb97a9607aaa",
   "metadata": {
    "tags": []
   },
   "outputs": [],
   "source": [
    "cs_df=pd.read_csv('소비자물가지수.csv',parse_dates=['변환'])\n",
    "cs_df.columns=['분기','총지수']\n",
    "cs_df.head()"
   ]
  },
  {
   "cell_type": "code",
   "execution_count": null,
   "id": "51186cbc-16ca-49a1-beb6-8dede7522d82",
   "metadata": {
    "tags": []
   },
   "outputs": [],
   "source": [
    "cs_df['총지수'] = round(cs_df['총지수'],2)\n",
    "cs_df"
   ]
  },
  {
   "cell_type": "markdown",
   "id": "937c7675-9a28-4cea-84e5-6a0e9789bfc0",
   "metadata": {},
   "source": [
    "# 5. 예금은행 대출금"
   ]
  },
  {
   "cell_type": "code",
   "execution_count": null,
   "id": "dc3a5a7b-3828-4f31-a84a-55c2688f32cf",
   "metadata": {
    "tags": []
   },
   "outputs": [],
   "source": [
    "bank_df=pd.read_csv('예금은행 대출금(말잔).csv',  thousands=',',parse_dates=['변환'])\n",
    "bank_df.columns=['분기','총대출금'] #단위: 십억원\n",
    "bank_df.head()"
   ]
  },
  {
   "cell_type": "code",
   "execution_count": null,
   "id": "356713bc-1f27-499d-b05b-999e1cd706d5",
   "metadata": {
    "tags": []
   },
   "outputs": [],
   "source": [
    "bank_df.info()"
   ]
  },
  {
   "cell_type": "markdown",
   "id": "a58b56ab-17fe-48d8-a6bc-90a026ebb313",
   "metadata": {
    "tags": []
   },
   "source": [
    "# 6. 예금은행 대출금리(잔액기준)"
   ]
  },
  {
   "cell_type": "code",
   "execution_count": null,
   "id": "eb999a92-008d-48b0-bb1f-cd5aa9174aeb",
   "metadata": {
    "tags": []
   },
   "outputs": [],
   "source": [
    "bank_gum_df=pd.read_csv('예금은행 대출금리(잔액 기준).csv',parse_dates=['변환'])\n",
    "bank_gum_df.columns=['분기','기업대출','가계대출'] # 연리(%)\n",
    "bank_gum_df.head()"
   ]
  },
  {
   "cell_type": "markdown",
   "id": "a72f9e34-7b27-4de4-a939-96d4cdc7dc6d",
   "metadata": {
    "tags": []
   },
   "source": [
    "# 7. 예금은행 원화예금(종별, 말잔)"
   ]
  },
  {
   "cell_type": "code",
   "execution_count": null,
   "id": "c8343a3f-5451-484d-b3a0-eff09436cfa7",
   "metadata": {
    "tags": []
   },
   "outputs": [],
   "source": [
    "won_df=pd.read_csv('예금은행 원화예금(종별, 말잔).csv',thousands=',',parse_dates=['변환'])\n",
    "won_df.columns=['분기','총예금'] #단위: 십억원\n",
    "won_df.head()"
   ]
  },
  {
   "cell_type": "code",
   "execution_count": null,
   "id": "2bf435c6-1fc8-47ee-a816-e3a2f6d13164",
   "metadata": {
    "tags": []
   },
   "outputs": [],
   "source": [
    "won_df.info()"
   ]
  },
  {
   "cell_type": "markdown",
   "id": "89731667-1968-4165-b897-b337251bb14b",
   "metadata": {
    "tags": []
   },
   "source": [
    "# 8. 주식시장"
   ]
  },
  {
   "cell_type": "markdown",
   "id": "ebb8e4af-3a74-4a5e-b95b-ffd61fa2ff5b",
   "metadata": {},
   "source": [
    "*********"
   ]
  },
  {
   "cell_type": "code",
   "execution_count": null,
   "id": "aac5f693-9c33-4f69-8585-cbf6f0955d86",
   "metadata": {
    "tags": []
   },
   "outputs": [],
   "source": [
    "stock_df=pd.read_csv('주식시장.csv',thousands=',',parse_dates=['변환'])\n",
    "stock_df.columns=['분기','KOSPI_거래량','KOSPI_거래대금'] # 단위: 주/ 천원\n",
    "stock_df = stock_df.set_index('분기')\n",
    "stock_df.head()"
   ]
  },
  {
   "cell_type": "code",
   "execution_count": null,
   "id": "804df237-4cae-4f82-a75f-c495375e6c6f",
   "metadata": {
    "tags": []
   },
   "outputs": [],
   "source": [
    "stock_df['분기확인'] = stock_df.index.to_period('Q-DEC')"
   ]
  },
  {
   "cell_type": "code",
   "execution_count": null,
   "id": "16b69d1d-425b-40d1-ac16-e0316143b446",
   "metadata": {
    "tags": []
   },
   "outputs": [],
   "source": [
    "# 주식시장 분기구간화, 합산, 행처리\n",
    "\n",
    "st1 = stock_df.resample('Q-DEC', kind = 'period')['KOSPI_거래량'].sum().tolist()[0:28]\n",
    "st2 = stock_df.resample('Q-DEC', kind = 'period')['KOSPI_거래대금'].sum().tolist()[0:28]"
   ]
  },
  {
   "cell_type": "code",
   "execution_count": null,
   "id": "cb6936f6-a2a8-49fb-a544-937a102f1f68",
   "metadata": {
    "tags": []
   },
   "outputs": [],
   "source": [
    "st1"
   ]
  },
  {
   "cell_type": "markdown",
   "id": "9e62ca7d-df31-429f-ac29-fb219037dfb0",
   "metadata": {
    "tags": []
   },
   "source": [
    "# 9. 한국은행 기준금리 및 여수신금리"
   ]
  },
  {
   "cell_type": "code",
   "execution_count": null,
   "id": "14cac48f-763b-47a7-ba81-1e8287cd8aae",
   "metadata": {
    "tags": []
   },
   "outputs": [],
   "source": [
    "han_df=pd.read_csv('한국은행 기준금리 및 여수신금리.csv',parse_dates=['변환'])\n",
    "han_df.columns=['분기','한국은행_기준금리'] #연(%)\n",
    "han_df.head()"
   ]
  },
  {
   "cell_type": "markdown",
   "id": "d9e9a53e-5036-48c5-8ccb-9948fc68a62c",
   "metadata": {},
   "source": [
    "# 10. DF 합치기"
   ]
  },
  {
   "cell_type": "code",
   "execution_count": null,
   "id": "dda0308e-d453-46a3-9867-650bdf8885ed",
   "metadata": {
    "tags": []
   },
   "outputs": [],
   "source": [
    "df = han_df.copy()\n",
    "\n",
    "df.index = df['분기']\n",
    "df = df.drop('분기',axis=1)\n",
    "df.rename(columns = {'한국은행_기준금리' : '한국은행_기준금리 연(%)'},inplace = True)\n",
    "df.info()\n",
    "# df"
   ]
  },
  {
   "cell_type": "code",
   "execution_count": null,
   "id": "535ea2b8-2a6b-4fe8-8909-974321c08ef7",
   "metadata": {},
   "outputs": [],
   "source": [
    "df['경제심리지수 (원계열)'] = eco1\n",
    "df['경제심리지수 (순환변동치)'] = eco2\n",
    "#    경제심리지수_원계열    86 non-null     float64      \n",
    "#  1   경제심리지수_순환변동치\n",
    "\n",
    "df.head(2)"
   ]
  },
  {
   "cell_type": "code",
   "execution_count": null,
   "id": "58593831-5c6d-4fd5-bbc6-77954f7ba19f",
   "metadata": {},
   "outputs": [],
   "source": [
    "\n",
    "df['소비자물가지수'] = cs_df['총지수'].tolist()\n",
    "df['생산자물가지수'] = p_df['총지수'].tolist()\n",
    "df['소비자심리지수'] = cus\n",
    "df.head(2)"
   ]
  },
  {
   "cell_type": "code",
   "execution_count": null,
   "id": "000377a0-1758-431a-8d39-fe0bdffaa883",
   "metadata": {},
   "outputs": [],
   "source": [
    "df['예금은행 원화예금 (십억원)'] = won_df['총예금'].tolist()\n",
    "df['예금은행 대출금 (십억원)'] = bank_df['총대출금'].tolist()\n",
    "df['대출금리_가계대출 연리 (%)'] = bank_gum_df['가계대출'].tolist()\n",
    "df['대출금리_기업대출 연리 (%)'] = bank_gum_df['기업대출'].tolist()\n",
    "df.head(2)"
   ]
  },
  {
   "cell_type": "code",
   "execution_count": null,
   "id": "787628af-0ffb-4c0c-b09d-971835951e06",
   "metadata": {
    "tags": []
   },
   "outputs": [],
   "source": [
    "#KOSPI_거래량, KOSPI_거래대금\n",
    "\n",
    "df['KOSPI_거래량 (주/천원)'] = st1\n",
    "df['KOSPI_거래대금 (주/천원)'] = st2\n",
    "df.head()"
   ]
  },
  {
   "cell_type": "code",
   "execution_count": null,
   "id": "97321adc-5538-403a-afdf-9fc302c0e487",
   "metadata": {},
   "outputs": [],
   "source": []
  },
  {
   "cell_type": "code",
   "execution_count": null,
   "id": "1f0b7907-80da-48c7-83df-c1920de7b57d",
   "metadata": {},
   "outputs": [],
   "source": [
    "import matplotlib.pyplot as plt\n",
    "import seaborn as sns"
   ]
  },
  {
   "cell_type": "code",
   "execution_count": null,
   "id": "1568a55b-4c83-4971-a5fd-520a177b9f3b",
   "metadata": {},
   "outputs": [],
   "source": [
    "plt.rcParams['font.family']= 'Malgun Gothic'\n",
    "plt.rcParams['axes.unicode_minus'] = False\n"
   ]
  },
  {
   "cell_type": "code",
   "execution_count": null,
   "id": "8d3e2ce9-fb44-40d1-928c-59ffd227a599",
   "metadata": {},
   "outputs": [],
   "source": [
    "sns.heatmap(   \n",
    "                data=df.corr(),\n",
    "                cmap='coolwarm',  #'Blues', \n",
    "                annot=True, fmt='.2f', \n",
    "                cbar=True\n",
    "               )\n",
    "plt.show()"
   ]
  },
  {
   "cell_type": "code",
   "execution_count": null,
   "id": "0eedd278-638f-43af-92b5-ccc2fddccdf7",
   "metadata": {},
   "outputs": [],
   "source": [
    "sns.histplot(data=df, x= '한국은행_기준금리 연(%)' )"
   ]
  },
  {
   "cell_type": "code",
   "execution_count": null,
   "id": "ece13fdd-5e32-4afc-9637-a077895fe4d9",
   "metadata": {},
   "outputs": [],
   "source": []
  },
  {
   "cell_type": "code",
   "execution_count": null,
   "id": "1b54b601-fd17-4acf-9c29-2c3999ea8a99",
   "metadata": {},
   "outputs": [],
   "source": []
  }
 ],
 "metadata": {
  "kernelspec": {
   "display_name": "Python 3 (ipykernel)",
   "language": "python",
   "name": "python3"
  },
  "language_info": {
   "codemirror_mode": {
    "name": "ipython",
    "version": 3
   },
   "file_extension": ".py",
   "mimetype": "text/x-python",
   "name": "python",
   "nbconvert_exporter": "python",
   "pygments_lexer": "ipython3",
   "version": "3.8.8"
  }
 },
 "nbformat": 4,
 "nbformat_minor": 5
}
