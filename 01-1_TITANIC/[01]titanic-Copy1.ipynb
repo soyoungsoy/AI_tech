{
 "cells": [
  {
   "cell_type": "markdown",
   "id": "6f1cb978-fefb-4eba-a558-1f719bbea768",
   "metadata": {},
   "source": [
    "# Titanic 캐글"
   ]
  },
  {
   "cell_type": "markdown",
   "id": "bc638ea5-11bd-4bad-9feb-a2b25109b315",
   "metadata": {
    "tags": []
   },
   "source": [
    "https://www.kaggle.com/competitions/titanic/data  \n",
    "\n",
    "**META DATA**\n",
    "<pre>\n",
    "\n",
    "\n",
    "Variable\tDefinition\tKey\n",
    "survival\tSurvival\t0 = No, 1 = Yes\n",
    "pclass\tTicket class\t1 = 1st, 2 = 2nd, 3 = 3rd\n",
    "sex\tSex\t\n",
    "Age\tAge in years\t\n",
    "sibsp\t# of siblings / spouses aboard the Titanic\t\n",
    "parch\t# of parents / children aboard the Titanic\t\n",
    "ticket\tTicket number\t\n",
    "fare\tPassenger fare\t\n",
    "cabin\tCabin number\t\n",
    "embarked\tPort of Embarkation\tC = Cherbourg, Q = Queenstown, S = Southampton\n",
    "</pre>"
   ]
  },
  {
   "cell_type": "code",
   "execution_count": 1,
   "id": "e2ade1a1-2df6-431a-919c-6185b9bd3d9f",
   "metadata": {
    "tags": []
   },
   "outputs": [],
   "source": [
    "import numpy as np\n",
    "import pandas as pd"
   ]
  },
  {
   "cell_type": "code",
   "execution_count": 2,
   "id": "95f9cfd0-5208-4ccb-84d8-50309e510281",
   "metadata": {
    "tags": []
   },
   "outputs": [],
   "source": [
    "import warnings\n",
    "warnings.filterwarnings(action = 'ignore')"
   ]
  },
  {
   "cell_type": "markdown",
   "id": "0b88eadc-7443-41c0-9c05-0b9c1ecf7cfd",
   "metadata": {
    "tags": []
   },
   "source": [
    "# **Data Load**\n",
    "<pre>\n",
    "\n",
    "* shape\n",
    "* head()\n",
    "* info()\n",
    "</pre>"
   ]
  },
  {
   "cell_type": "code",
   "execution_count": 3,
   "id": "a5ffebb2-27ca-49dd-88ac-8475f6efb91a",
   "metadata": {
    "tags": []
   },
   "outputs": [],
   "source": [
    "tr = pd.read_csv(\"./train.csv\")\n",
    "tr.columns = tr.columns.str.lower() #소문자 변형"
   ]
  },
  {
   "cell_type": "code",
   "execution_count": null,
   "id": "df40d635-9ebb-470d-a6bb-7d27c3c5eff2",
   "metadata": {
    "tags": []
   },
   "outputs": [],
   "source": []
  },
  {
   "cell_type": "code",
   "execution_count": null,
   "id": "cfcdef6c-550e-4241-904d-7afd293d7850",
   "metadata": {},
   "outputs": [],
   "source": []
  },
  {
   "cell_type": "markdown",
   "id": "0dbe7622-4c27-453a-8336-3f97a73f1bae",
   "metadata": {},
   "source": [
    "***"
   ]
  },
  {
   "cell_type": "markdown",
   "id": "4c3d9a92-7146-4581-b3eb-9d74ba2b7690",
   "metadata": {
    "tags": []
   },
   "source": [
    "# 데이터 프레임 구조 확인하기\n",
    " **1. nan이 있어서는 안된다 : 결측은 버리거나, 채우거나**  \n",
    " **2. object가 있어서는 안된다 : 컴퓨터는 글자는 학습을 못하기 때문에, 숫자형태로 변경해줘야 학습이 가능하다.**"
   ]
  },
  {
   "cell_type": "markdown",
   "id": "2f6cf30d-bc13-4dcc-b6c5-8c74680eac9e",
   "metadata": {},
   "source": [
    "***"
   ]
  },
  {
   "cell_type": "markdown",
   "id": "3e80122f-ad1f-4537-864b-4712dcc267c6",
   "metadata": {},
   "source": [
    "**<<<데이터 프레임 구조를 확인할 때 생각해볼 점들>>>**\n",
    "\n",
    "<pre>\n",
    "\n",
    "<b>[결측을 채울 방법을 고안해야 한다.]</b>\n",
    "\n",
    "* 나이가 결측이 있다. 나이 채울 수 있는 방법은?\n",
    " - 단순히 최빈값에 넣는 것이 아닌, 다른 정보들과 결합해 유추하여 채운다. \n",
    "\n",
    "\n",
    "<b>[의미있는 값을 판별해야한다]</b>\n",
    "\n",
    "* 고유한 값인 passengerid는 생존률에 영향이 있을까?\n",
    " = 데이터 분석에 영향을 주는 값을 판별해야 한다.\n",
    "* 인밸런싱값을 잘 가려내야한다. 95:5, 99:1 이런 값들.. 컴퓨터는 압도적인 정보만 학습한다.\n",
    "\n",
    "\n",
    "<b>[데이터를 단일적으로 보지 말고, 다른 컬럼과 연관해 분석해야 한다.]</b>\n",
    "\n",
    "* fare는 단일값인지? => 총 가격에 n명을 해서 따져보기\n",
    "* 동행한 가족의 여부는 어떤 영향이 있는지?\n",
    "* Mr, Mrs, Dr 등은 나이, 직업, 가족관계, 성별 등을 예측할 수 있는 정보가 담겨있다.  \n",
    "\n",
    "\n",
    "<b>[주요 Feature를 판별해야 한다.]</b> \n",
    "\n",
    "* sex :중요한 영향이 있다.  \n",
    "* age : 여자, 어린이, 노인은 살아남았을 확률이 높다.  \n",
    "\n",
    "\n",
    "<b>[그 외 도메인 지식들]</b>\n",
    "\n",
    "* Cabin 이 있으면 생존한걸까?(부자일 확률이 높아서)  \n",
    "* Pclass에 따라 생존율이 다를까?  \n",
    "\n",
    " = 해당 사건에 대한 사전지식을 통한 분석  \n",
    " = 패턴을 찾는다. 인사이트 능력이 좋다.  \n",
    "\n",
    "\n",
    "</pre>"
   ]
  },
  {
   "cell_type": "markdown",
   "id": "634180df-dda5-4ae9-a4cd-469f41beef63",
   "metadata": {},
   "source": [
    "***"
   ]
  },
  {
   "cell_type": "markdown",
   "id": "e9e6fca7-d223-4c22-a243-2b3be1d25d19",
   "metadata": {},
   "source": [
    "***"
   ]
  },
  {
   "cell_type": "markdown",
   "id": "657ca67d-caea-41a2-9351-e03538818959",
   "metadata": {},
   "source": [
    "# ★무조건 결측 확인부터★  "
   ]
  },
  {
   "cell_type": "code",
   "execution_count": 4,
   "id": "1e288ddc-5c1a-47bf-a6a0-1bd47c9ba73f",
   "metadata": {
    "tags": []
   },
   "outputs": [
    {
     "name": "stdout",
     "output_type": "stream",
     "text": [
      "<class 'pandas.core.frame.DataFrame'>\n",
      "RangeIndex: 891 entries, 0 to 890\n",
      "Data columns (total 12 columns):\n",
      " #   Column       Non-Null Count  Dtype  \n",
      "---  ------       --------------  -----  \n",
      " 0   passengerid  891 non-null    int64  \n",
      " 1   survived     891 non-null    int64  \n",
      " 2   pclass       891 non-null    int64  \n",
      " 3   name         891 non-null    object \n",
      " 4   sex          891 non-null    object \n",
      " 5   age          714 non-null    float64\n",
      " 6   sibsp        891 non-null    int64  \n",
      " 7   parch        891 non-null    int64  \n",
      " 8   ticket       891 non-null    object \n",
      " 9   fare         891 non-null    float64\n",
      " 10  cabin        204 non-null    object \n",
      " 11  embarked     889 non-null    object \n",
      "dtypes: float64(2), int64(5), object(5)\n",
      "memory usage: 83.7+ KB\n"
     ]
    }
   ],
   "source": [
    "#info상 수치로 총 행(줄)값은 891행인 것을 파악할 수 있다. \n",
    "# 891이 아닌 값들은 nan 값이 있음을 알 수 있다.\n",
    "\n",
    "\n",
    "tr.info()"
   ]
  },
  {
   "cell_type": "code",
   "execution_count": 5,
   "id": "ff437b5a-d551-4e15-a8db-caa76b181d40",
   "metadata": {
    "tags": []
   },
   "outputs": [
    {
     "data": {
      "text/plain": [
       "(891, 12)"
      ]
     },
     "execution_count": 5,
     "metadata": {},
     "output_type": "execute_result"
    }
   ],
   "source": [
    "tr.shape"
   ]
  },
  {
   "cell_type": "code",
   "execution_count": 6,
   "id": "d71b02a3-4285-4011-b247-8afa1f0c0853",
   "metadata": {
    "tags": []
   },
   "outputs": [
    {
     "data": {
      "text/plain": [
       "age         177\n",
       "cabin       687\n",
       "embarked      2\n",
       "dtype: int64"
      ]
     },
     "execution_count": 6,
     "metadata": {},
     "output_type": "execute_result"
    }
   ],
   "source": [
    "#결측 확인하기\n",
    "# tr.isna().sum()\n",
    "\n",
    "\n",
    "#결측만 확인하기\n",
    "#결측이 0보다 큰(=결측이 있는)조건만의 합계로 걸어준다.\n",
    "\n",
    "tr.isna().sum()[tr.isna().sum()>0]"
   ]
  },
  {
   "cell_type": "markdown",
   "id": "65ed29f7-e3b6-4791-ad4d-76ec452d2ea9",
   "metadata": {
    "tags": []
   },
   "source": [
    "<!-- - 출력결과 다음과 같이 출력\n",
    "-----------------------------\n",
    "|col   | cnt   | nan_cnt |   nan_rate |\n",
    "-----------------------------\n",
    "|age   | 891|    177 |   23%|\n",
    "----------------------------- -->"
   ]
  },
  {
   "cell_type": "markdown",
   "id": "c68f92a0-d55d-4b96-b479-1a0e516d922f",
   "metadata": {
    "tags": []
   },
   "source": [
    "* 연습\n",
    "* 출력결과 다음과 같이 출력\n",
    "<pre>\n",
    "col    cnt     nan_cnt     nan_rate\n",
    "age    891     177         23%"
   ]
  },
  {
   "cell_type": "markdown",
   "id": "f2b0eee4-2300-4dd0-af8c-4d6d22c0f9f9",
   "metadata": {},
   "source": [
    "컬럼명 / count / NAN값 / NAN비율\n"
   ]
  },
  {
   "cell_type": "code",
   "execution_count": 7,
   "id": "64c74c4b-341f-4338-82d3-08dbb27f4e12",
   "metadata": {},
   "outputs": [
    {
     "data": {
      "text/plain": [
       "'age'"
      ]
     },
     "execution_count": 7,
     "metadata": {},
     "output_type": "execute_result"
    }
   ],
   "source": [
    "# age\n",
    "\n",
    "a = tr.columns[5]\n",
    "a"
   ]
  },
  {
   "cell_type": "code",
   "execution_count": 8,
   "id": "7c8aeae0-2c5e-4272-add4-68f1620dc766",
   "metadata": {
    "tags": []
   },
   "outputs": [],
   "source": [
    "tr['age'] =tr ['age'].fillna(0)\n",
    "# tr.head(20)"
   ]
  },
  {
   "cell_type": "code",
   "execution_count": 9,
   "id": "0a245879-de7c-473d-aba2-c7952f23ebfc",
   "metadata": {
    "tags": []
   },
   "outputs": [
    {
     "data": {
      "text/plain": [
       "0      22\n",
       "1      38\n",
       "2      26\n",
       "3      35\n",
       "4      35\n",
       "       ..\n",
       "886    27\n",
       "887    19\n",
       "888     0\n",
       "889    26\n",
       "890    32\n",
       "Name: age, Length: 891, dtype: int32"
      ]
     },
     "execution_count": 9,
     "metadata": {},
     "output_type": "execute_result"
    }
   ],
   "source": [
    "tr['age'].astype('int')"
   ]
  },
  {
   "cell_type": "code",
   "execution_count": 10,
   "id": "a78efb6b-60e0-42f7-af93-c8555f81620b",
   "metadata": {
    "tags": []
   },
   "outputs": [
    {
     "data": {
      "text/plain": [
       "891"
      ]
     },
     "execution_count": 10,
     "metadata": {},
     "output_type": "execute_result"
    }
   ],
   "source": [
    "#0을 포함한 토탈값\n",
    "\n",
    "tot = tr['age'][tr['age']>=0].count()\n",
    "tot"
   ]
  },
  {
   "cell_type": "code",
   "execution_count": 11,
   "id": "50c266da-c46a-47e1-aaba-4e33558006c6",
   "metadata": {
    "tags": []
   },
   "outputs": [
    {
     "data": {
      "text/plain": [
       "177"
      ]
     },
     "execution_count": 11,
     "metadata": {},
     "output_type": "execute_result"
    }
   ],
   "source": [
    "#넌 값\n",
    "\n",
    "ntot = tr['age'][tr['age']==0].count()\n",
    "ntot"
   ]
  },
  {
   "cell_type": "code",
   "execution_count": 12,
   "id": "ada3ea32-0716-4023-a84b-2be95dbfbef4",
   "metadata": {
    "tags": []
   },
   "outputs": [],
   "source": [
    "# 비율\n",
    "rate = round(((ntot/tot)*100),2).astype('str') +\" %\""
   ]
  },
  {
   "cell_type": "code",
   "execution_count": 13,
   "id": "fc10847a-fda5-426f-bfde-510e41ba0971",
   "metadata": {
    "tags": []
   },
   "outputs": [
    {
     "data": {
      "text/html": [
       "<div>\n",
       "<style scoped>\n",
       "    .dataframe tbody tr th:only-of-type {\n",
       "        vertical-align: middle;\n",
       "    }\n",
       "\n",
       "    .dataframe tbody tr th {\n",
       "        vertical-align: top;\n",
       "    }\n",
       "\n",
       "    .dataframe thead th {\n",
       "        text-align: right;\n",
       "    }\n",
       "</style>\n",
       "<table border=\"1\" class=\"dataframe\">\n",
       "  <thead>\n",
       "    <tr style=\"text-align: right;\">\n",
       "      <th></th>\n",
       "      <th>col</th>\n",
       "      <th>cnt</th>\n",
       "      <th>non_cnt</th>\n",
       "      <th>rates</th>\n",
       "    </tr>\n",
       "  </thead>\n",
       "  <tbody>\n",
       "    <tr>\n",
       "      <th>0</th>\n",
       "      <td>age</td>\n",
       "      <td>891</td>\n",
       "      <td>177</td>\n",
       "      <td>19.87 %</td>\n",
       "    </tr>\n",
       "  </tbody>\n",
       "</table>\n",
       "</div>"
      ],
      "text/plain": [
       "   col  cnt  non_cnt    rates\n",
       "0  age  891      177  19.87 %"
      ]
     },
     "execution_count": 13,
     "metadata": {},
     "output_type": "execute_result"
    }
   ],
   "source": [
    "dic = [{\"col\":a,\"cnt\":tot,\"non_cnt\":ntot,\"rates\":rate}]\n",
    "            #딕셔너리를 리스트화한 것\n",
    "\n",
    "nandf = pd.DataFrame(dic)\n",
    "\n",
    "nandf"
   ]
  },
  {
   "cell_type": "code",
   "execution_count": 14,
   "id": "09a6f0fb-8706-4af8-b25f-629e4f9c3080",
   "metadata": {
    "tags": []
   },
   "outputs": [],
   "source": [
    "a = tr.columns[5]\n",
    "# tr['age'] =tr ['age'].fillna(0)\n",
    "# tr['age'].astype('int')\n",
    "\n",
    "# tot = tr['age'][tr['age']>=0].count()\n",
    "# ntot = tr['age'][tr['age']==0].count()\n",
    "# rate = round(((ntot/tot)*100),2).astype('str') +\" %\"\n",
    "\n",
    "# dic = [{\"col\":a,\"cnt\":tot,\"non_cnt\":ntot,\"rates\":rate}]\n",
    "#             #딕셔너리를 리스트화\n",
    "# nandf = pd.DataFrame(dic)\n",
    "\n",
    "# nandf"
   ]
  },
  {
   "cell_type": "code",
   "execution_count": 15,
   "id": "4e2b91ee-bf76-4300-be21-a5dc58d0b048",
   "metadata": {
    "tags": []
   },
   "outputs": [],
   "source": [
    "# 교수님 답안\n",
    "\n",
    "# col       = tr.columns   \n",
    "# cnt       = tr.notna().sum()   \n",
    "# nan_cnt   = tr.isna().sum()       \n",
    "# nan_rate  = round(  (nan_cnt / tr.shape[0]) * 100,  2 )\n",
    "\n",
    "# dic   = {\"cnt\":cnt, \"nan_cnt\":nan_cnt, \"nan_rate\":nan_rate}\n",
    "# nandf = pd.DataFrame(dic)\n",
    "# nandf.sort_values(by=\"nan_cnt\", ascending=False).T"
   ]
  },
  {
   "cell_type": "markdown",
   "id": "c81f2440-9200-4030-bf7e-2b83b62dd75c",
   "metadata": {},
   "source": [
    "# 중복값 확인\n",
    "    - 고유값 확인\n",
    "    * df[컬럼].unique() = distinct\n",
    "    * df[컬럼].nunique()"
   ]
  },
  {
   "cell_type": "code",
   "execution_count": 16,
   "id": "68f2620f-5557-4507-87b1-963e6b0baa50",
   "metadata": {
    "tags": []
   },
   "outputs": [
    {
     "data": {
      "text/plain": [
       "array(['male', 'female'], dtype=object)"
      ]
     },
     "execution_count": 16,
     "metadata": {},
     "output_type": "execute_result"
    }
   ],
   "source": [
    "# select distinct sex from titaic;\n",
    "# 유니크값은 일치되는 값이 너무 적어도, 너무 많아도(연관성이 적어서), 분석에 별로 도움이 안된다. \n",
    "\n",
    "tr['sex'].unique()"
   ]
  },
  {
   "cell_type": "code",
   "execution_count": 17,
   "id": "910eb2eb-2fe6-4dac-a267-e5a7128bb484",
   "metadata": {
    "tags": []
   },
   "outputs": [
    {
     "data": {
      "text/plain": [
       "2"
      ]
     },
     "execution_count": 17,
     "metadata": {},
     "output_type": "execute_result"
    }
   ],
   "source": [
    "len(tr['sex'].unique())"
   ]
  },
  {
   "cell_type": "code",
   "execution_count": 18,
   "id": "0a5f075a-7a80-472a-9dd4-bb2d246bdd99",
   "metadata": {
    "tags": []
   },
   "outputs": [
    {
     "data": {
      "text/plain": [
       "2"
      ]
     },
     "execution_count": 18,
     "metadata": {},
     "output_type": "execute_result"
    }
   ],
   "source": [
    "tr['sex'].nunique()"
   ]
  },
  {
   "cell_type": "markdown",
   "id": "5337d46e-35ed-43b0-a0d2-0c5b0bbce0f0",
   "metadata": {},
   "source": [
    "문제 : 컬럼별 유니크 갯수 찍어보기"
   ]
  },
  {
   "cell_type": "code",
   "execution_count": 19,
   "id": "06770527-4a74-4f40-8a6f-412b67249a31",
   "metadata": {
    "tags": []
   },
   "outputs": [],
   "source": [
    "t_list = tr.columns.values"
   ]
  },
  {
   "cell_type": "code",
   "execution_count": 20,
   "id": "06a0cc27-4224-456f-b184-f7e108c2e881",
   "metadata": {
    "tags": []
   },
   "outputs": [
    {
     "data": {
      "text/plain": [
       "passengerid    891\n",
       "survived         2\n",
       "pclass           3\n",
       "name           891\n",
       "sex              2\n",
       "age             89\n",
       "sibsp            7\n",
       "parch            7\n",
       "ticket         681\n",
       "fare           248\n",
       "cabin          147\n",
       "embarked         3\n",
       "dtype: int64"
      ]
     },
     "execution_count": 20,
     "metadata": {},
     "output_type": "execute_result"
    }
   ],
   "source": [
    "tr.nunique()"
   ]
  },
  {
   "cell_type": "markdown",
   "id": "14a32382-660d-4d1c-a5a4-c83ce49c07f6",
   "metadata": {},
   "source": [
    "***"
   ]
  },
  {
   "cell_type": "markdown",
   "id": "c989644b-7e30-4e8d-b491-059bd5634f90",
   "metadata": {},
   "source": [
    "# EDA\n",
    "    * EDA : (Exploratory Data Analysis, 탐색적 데이터 분석)\n",
    "    * 통계적 분석 & 차트(시각화)"
   ]
  },
  {
   "cell_type": "code",
   "execution_count": 21,
   "id": "d390c341-b13c-4dd1-acec-e95f35ce198a",
   "metadata": {
    "tags": []
   },
   "outputs": [],
   "source": [
    "# !는 터미널(파이썬)에서의 \"=\"과 똑같다\n",
    "##### ! pip install matplotlib   \n",
    "\n",
    "# 설치했으면 재설치 방지 위해 막아준다."
   ]
  },
  {
   "cell_type": "code",
   "execution_count": 22,
   "id": "0e05b334-5e64-4b57-b685-2929590971ad",
   "metadata": {
    "tags": []
   },
   "outputs": [
    {
     "data": {
      "image/png": "[encoded data removed]",
      "text/plain": [
       "<Figure size 640x480 with 1 Axes>"
      ]
     },
     "metadata": {},
     "output_type": "display_data"
    }
   ],
   "source": [
    "import matplotlib.pyplot as plt\n",
    "\n",
    "plt.plot([1,2,3,8,4])\n",
    "plt.show()"
   ]
  },
  {
   "cell_type": "markdown",
   "id": "dda2f89e-4e76-4cda-8974-479fb2ee6504",
   "metadata": {},
   "source": [
    "## Survived(정답 타겟) 연습 0: die , 1 : save"
   ]
  },
  {
   "cell_type": "code",
   "execution_count": 23,
   "id": "dfe4832e-46ce-49d6-93d3-2a682ff8a505",
   "metadata": {
    "tags": []
   },
   "outputs": [],
   "source": [
    "tr = pd.read_csv(\"./train.csv\")"
   ]
  },
  {
   "cell_type": "code",
   "execution_count": 24,
   "id": "e467fa28-fbe7-454f-8ae8-ebc34e7f237a",
   "metadata": {
    "tags": []
   },
   "outputs": [],
   "source": [
    "tr.columns = tr.columns.str.lower() #소문자 변형"
   ]
  },
  {
   "cell_type": "code",
   "execution_count": 25,
   "id": "6e0c41c6-e37b-4d34-b9ae-db0bed58ff1a",
   "metadata": {},
   "outputs": [
    {
     "data": {
      "image/png": "[encoded data removed]",
      "text/plain": [
       "<Figure size 640x480 with 1 Axes>"
      ]
     },
     "metadata": {},
     "output_type": "display_data"
    }
   ],
   "source": [
    "tr.groupby('survived')['survived'].count()\n",
    "tr['survived'].value_counts().plot(kind='bar')\n",
    "plt.show()"
   ]
  },
  {
   "cell_type": "code",
   "execution_count": 26,
   "id": "11639822-d369-48f1-829d-740a1dfa6882",
   "metadata": {
    "tags": []
   },
   "outputs": [
    {
     "data": {
      "text/plain": [
       "0    549\n",
       "1    342\n",
       "Name: survived, dtype: int64"
      ]
     },
     "execution_count": 26,
     "metadata": {},
     "output_type": "execute_result"
    }
   ],
   "source": [
    "tr['survived'].value_counts()"
   ]
  },
  {
   "cell_type": "markdown",
   "id": "3a66ab24-fdfa-4e8a-92ab-6770be1e1097",
   "metadata": {},
   "source": [
    "## Pclass : 주요 Feature"
   ]
  },
  {
   "cell_type": "code",
   "execution_count": 27,
   "id": "2348ac70-9951-4520-ba12-bea4e63ad564",
   "metadata": {
    "tags": []
   },
   "outputs": [
    {
     "name": "stdout",
     "output_type": "stream",
     "text": [
      "3    491\n",
      "1    216\n",
      "2    184\n",
      "Name: pclass, dtype: int64\n"
     ]
    },
    {
     "data": {
      "image/png": "[encoded data removed]",
      "text/plain": [
       "<Figure size 640x480 with 1 Axes>"
      ]
     },
     "metadata": {},
     "output_type": "display_data"
    }
   ],
   "source": [
    "# tr.groupby('pclass').count()\n",
    "#pclass 단독 그래프\n",
    "\n",
    "\n",
    "print(  tr['pclass'].value_counts()  )\n",
    "tr['pclass'].value_counts().plot(kind='bar')\n",
    "plt.show()"
   ]
  },
  {
   "cell_type": "code",
   "execution_count": 28,
   "id": "28cd91bc-88d8-4ea8-81d8-4cc68155f812",
   "metadata": {
    "tags": []
   },
   "outputs": [
    {
     "data": {
      "text/plain": [
       "pclass  survived\n",
       "1       0            80\n",
       "        1           136\n",
       "2       0            97\n",
       "        1            87\n",
       "3       0           372\n",
       "        1           119\n",
       "dtype: int64"
      ]
     },
     "execution_count": 28,
     "metadata": {},
     "output_type": "execute_result"
    }
   ],
   "source": [
    "#pclass와 Survived의 연관성을 결과값으로 인덱스 기준 비교하기\n",
    "\n",
    "tr[['pclass','survived']].value_counts().sort_index() "
   ]
  },
  {
   "cell_type": "code",
   "execution_count": 29,
   "id": "7f1dc237-07c8-4099-a02b-7357488f799c",
   "metadata": {
    "tags": []
   },
   "outputs": [
    {
     "data": {
      "text/plain": [
       "<AxesSubplot: xlabel='pclass,survived'>"
      ]
     },
     "execution_count": 29,
     "metadata": {},
     "output_type": "execute_result"
    },
    {
     "data": {
      "image/png": "[encoded data removed]",
      "text/plain": [
       "<Figure size 640x480 with 1 Axes>"
      ]
     },
     "metadata": {},
     "output_type": "display_data"
    }
   ],
   "source": [
    "#위의 비교값을 차트화해서 보기\n",
    "\n",
    "tr[['pclass','survived']].value_counts().sort_index().plot(kind='bar')"
   ]
  },
  {
   "cell_type": "markdown",
   "id": "146dd208-4a85-4bd1-bbfe-1010a87e5c70",
   "metadata": {},
   "source": [
    " * 결론 : pclass가 3등급일 수록 더 많은 사망을 했음을 알 수 있다.  \n",
    "           = 유의미한 데이터. keep"
   ]
  },
  {
   "cell_type": "markdown",
   "id": "86867f16-66fc-43cc-8143-ad805bb36f06",
   "metadata": {},
   "source": [
    "## Cabin : 애매해서 drop 예정"
   ]
  },
  {
   "cell_type": "code",
   "execution_count": 30,
   "id": "75fc338f-c76a-4533-aebd-9e8bd9a8dbdd",
   "metadata": {
    "tags": []
   },
   "outputs": [
    {
     "data": {
      "text/html": [
       "<div>\n",
       "<style scoped>\n",
       "    .dataframe tbody tr th:only-of-type {\n",
       "        vertical-align: middle;\n",
       "    }\n",
       "\n",
       "    .dataframe tbody tr th {\n",
       "        vertical-align: top;\n",
       "    }\n",
       "\n",
       "    .dataframe thead th {\n",
       "        text-align: right;\n",
       "    }\n",
       "</style>\n",
       "<table border=\"1\" class=\"dataframe\">\n",
       "  <thead>\n",
       "    <tr style=\"text-align: right;\">\n",
       "      <th></th>\n",
       "      <th>passengerid</th>\n",
       "      <th>survived</th>\n",
       "      <th>pclass</th>\n",
       "      <th>name</th>\n",
       "      <th>sex</th>\n",
       "      <th>age</th>\n",
       "      <th>sibsp</th>\n",
       "      <th>parch</th>\n",
       "      <th>ticket</th>\n",
       "      <th>fare</th>\n",
       "      <th>cabin</th>\n",
       "      <th>embarked</th>\n",
       "    </tr>\n",
       "  </thead>\n",
       "  <tbody>\n",
       "    <tr>\n",
       "      <th>0</th>\n",
       "      <td>1</td>\n",
       "      <td>0</td>\n",
       "      <td>3</td>\n",
       "      <td>Braund, Mr. Owen Harris</td>\n",
       "      <td>male</td>\n",
       "      <td>22.0</td>\n",
       "      <td>1</td>\n",
       "      <td>0</td>\n",
       "      <td>A/5 21171</td>\n",
       "      <td>7.2500</td>\n",
       "      <td>NaN</td>\n",
       "      <td>S</td>\n",
       "    </tr>\n",
       "    <tr>\n",
       "      <th>1</th>\n",
       "      <td>2</td>\n",
       "      <td>1</td>\n",
       "      <td>1</td>\n",
       "      <td>Cumings, Mrs. John Bradley (Florence Briggs Th...</td>\n",
       "      <td>female</td>\n",
       "      <td>38.0</td>\n",
       "      <td>1</td>\n",
       "      <td>0</td>\n",
       "      <td>PC 17599</td>\n",
       "      <td>71.2833</td>\n",
       "      <td>C85</td>\n",
       "      <td>C</td>\n",
       "    </tr>\n",
       "  </tbody>\n",
       "</table>\n",
       "</div>"
      ],
      "text/plain": [
       "   passengerid  survived  pclass  \\\n",
       "0            1         0       3   \n",
       "1            2         1       1   \n",
       "\n",
       "                                                name     sex   age  sibsp  \\\n",
       "0                            Braund, Mr. Owen Harris    male  22.0      1   \n",
       "1  Cumings, Mrs. John Bradley (Florence Briggs Th...  female  38.0      1   \n",
       "\n",
       "   parch     ticket     fare cabin embarked  \n",
       "0      0  A/5 21171   7.2500   NaN        S  \n",
       "1      0   PC 17599  71.2833   C85        C  "
      ]
     },
     "execution_count": 30,
     "metadata": {},
     "output_type": "execute_result"
    }
   ],
   "source": [
    "tr.head(2)"
   ]
  },
  {
   "cell_type": "code",
   "execution_count": 31,
   "id": "eaa181af-a705-4740-bf87-432ab88ca4f8",
   "metadata": {
    "tags": []
   },
   "outputs": [
    {
     "data": {
      "text/plain": [
       "1      C85\n",
       "3     C123\n",
       "6      E46\n",
       "10      G6\n",
       "11    C103\n",
       "Name: cabin, dtype: object"
      ]
     },
     "execution_count": 31,
     "metadata": {},
     "output_type": "execute_result"
    }
   ],
   "source": [
    "#Cabin은 Nan값이 있기 때문에, notna값만 조회한다.\n",
    "#Cabin의 Nan값은 단순히 소유유무이기 때문에, nan값을 0으로 처리한다.\n",
    "\n",
    "tr[tr['cabin'].notna()]['cabin'].head()"
   ]
  },
  {
   "cell_type": "code",
   "execution_count": 32,
   "id": "2a01dd56-ad77-4cc6-9d06-4b96364d9c73",
   "metadata": {
    "tags": []
   },
   "outputs": [
    {
     "data": {
      "text/plain": [
       "1      C\n",
       "3      C\n",
       "6      E\n",
       "10     G\n",
       "11     C\n",
       "      ..\n",
       "871    D\n",
       "872    B\n",
       "879    C\n",
       "887    B\n",
       "889    C\n",
       "Name: cabin, Length: 204, dtype: object"
      ]
     },
     "execution_count": 32,
     "metadata": {},
     "output_type": "execute_result"
    }
   ],
   "source": [
    "tr['cabin'][tr['cabin'].notna()].str[0:1]\n",
    "\n",
    "# 캐빈이 낫 넌인 글자 타입으로 변형한 후, 0:1 자리를 슬라이스한 뒤의 값들"
   ]
  },
  {
   "cell_type": "code",
   "execution_count": 33,
   "id": "567f2db7-0a3c-4412-98f6-5e9308eeae19",
   "metadata": {
    "tags": []
   },
   "outputs": [
    {
     "data": {
      "text/html": [
       "<div>\n",
       "<style scoped>\n",
       "    .dataframe tbody tr th:only-of-type {\n",
       "        vertical-align: middle;\n",
       "    }\n",
       "\n",
       "    .dataframe tbody tr th {\n",
       "        vertical-align: top;\n",
       "    }\n",
       "\n",
       "    .dataframe thead th {\n",
       "        text-align: right;\n",
       "    }\n",
       "</style>\n",
       "<table border=\"1\" class=\"dataframe\">\n",
       "  <thead>\n",
       "    <tr style=\"text-align: right;\">\n",
       "      <th></th>\n",
       "      <th>cabin</th>\n",
       "      <th>cabin2</th>\n",
       "    </tr>\n",
       "  </thead>\n",
       "  <tbody>\n",
       "    <tr>\n",
       "      <th>0</th>\n",
       "      <td>NaN</td>\n",
       "      <td>NaN</td>\n",
       "    </tr>\n",
       "    <tr>\n",
       "      <th>1</th>\n",
       "      <td>C85</td>\n",
       "      <td>C</td>\n",
       "    </tr>\n",
       "    <tr>\n",
       "      <th>2</th>\n",
       "      <td>NaN</td>\n",
       "      <td>NaN</td>\n",
       "    </tr>\n",
       "  </tbody>\n",
       "</table>\n",
       "</div>"
      ],
      "text/plain": [
       "  cabin cabin2\n",
       "0   NaN    NaN\n",
       "1   C85      C\n",
       "2   NaN    NaN"
      ]
     },
     "execution_count": 33,
     "metadata": {},
     "output_type": "execute_result"
    }
   ],
   "source": [
    "#Cabin값의 앞글자만 추출하기 : 스트링 -> 슬라이싱\n",
    "\n",
    "tr['cabin2'] = tr['cabin'].str[0:1]\n",
    "tr[['cabin','cabin2']].head(3)"
   ]
  },
  {
   "cell_type": "markdown",
   "id": "51d5bdd0-6742-42dc-806d-450ed60ef719",
   "metadata": {},
   "source": [
    "* 탐구점 : 캐비넷 구역이랑 pclass랑 연관이 있는지 확인.  \n",
    "\n",
    "    - pclass 등급따라 생존했나?"
   ]
  },
  {
   "cell_type": "code",
   "execution_count": 34,
   "id": "a2a3927c-be67-46be-8a28-024197fc4261",
   "metadata": {
    "tags": []
   },
   "outputs": [
    {
     "data": {
      "text/plain": [
       "cabin2  pclass\n",
       "A       1         15\n",
       "B       1         47\n",
       "C       1         59\n",
       "D       1         29\n",
       "        2          4\n",
       "E       1         25\n",
       "        2          4\n",
       "        3          3\n",
       "F       2          8\n",
       "        3          5\n",
       "G       3          4\n",
       "T       1          1\n",
       "dtype: int64"
      ]
     },
     "execution_count": 34,
     "metadata": {},
     "output_type": "execute_result"
    }
   ],
   "source": [
    "tr[['cabin2','pclass']].value_counts().sort_index() \n",
    "\n",
    "# cabin2와 Pclass를 비교해본다.\n",
    "# Pclass 1등급을 많이 쓴 A B C 캐빈, 비싼애들이 캐빈값을 많이 가진 것은 맞는 것 같다.\n",
    "# 그치만 이것만 보고 Pclass 높다고 많이 산 것 같다고 할 수는 없다...아직은 모름"
   ]
  },
  {
   "cell_type": "code",
   "execution_count": 35,
   "id": "28effcfd-e45c-4c3c-815d-a0ffdb6f03c3",
   "metadata": {
    "tags": []
   },
   "outputs": [
    {
     "data": {
      "text/plain": [
       "cabin2  survived\n",
       "A       0            8\n",
       "        1            7\n",
       "B       0           12\n",
       "        1           35\n",
       "C       0           24\n",
       "        1           35\n",
       "D       0            8\n",
       "        1           25\n",
       "E       0            8\n",
       "        1           24\n",
       "F       0            5\n",
       "        1            8\n",
       "G       0            2\n",
       "        1            2\n",
       "T       0            1\n",
       "dtype: int64"
      ]
     },
     "execution_count": 35,
     "metadata": {},
     "output_type": "execute_result"
    }
   ],
   "source": [
    "tr[['cabin2','survived']].value_counts().sort_index() \n",
    "\n",
    "# 서바이브의 값과 캐빈2(구역번호)의 값을 비교해본다. "
   ]
  },
  {
   "cell_type": "markdown",
   "id": "96aadb2d-3a3e-4e8d-9a06-5456cb68d3a1",
   "metadata": {
    "tags": []
   },
   "source": [
    " * p클라스의 종속이 캐빈이기 때문에(pclass가 높은 사람들은 캐빈을 많이 가지고 있다.),  \n",
    "   캐빈을 굳이 분석하지 않고, p클라스와의 연관만 따져보기로 한다."
   ]
  },
  {
   "cell_type": "code",
   "execution_count": null,
   "id": "9f37c027-10d9-463f-bcad-7b32027be1cd",
   "metadata": {},
   "outputs": [],
   "source": []
  },
  {
   "cell_type": "markdown",
   "id": "8276b297-ebd0-4ed3-9aca-c0d924d61a8c",
   "metadata": {},
   "source": [
    "***"
   ]
  },
  {
   "cell_type": "markdown",
   "id": "97c6485b-ba3e-4d58-8be4-569a4533dde6",
   "metadata": {
    "tags": []
   },
   "source": [
    "## Embarked : 최빈값 mode()으로 결측 채우기\n",
    "    탐구점 : 경유지별로 사람이 살았나 죽었나 관계가 있는가?"
   ]
  },
  {
   "cell_type": "code",
   "execution_count": 36,
   "id": "714d5b7f-e0cd-4812-95da-a6a352c25411",
   "metadata": {
    "tags": []
   },
   "outputs": [
    {
     "data": {
      "text/html": [
       "<div>\n",
       "<style scoped>\n",
       "    .dataframe tbody tr th:only-of-type {\n",
       "        vertical-align: middle;\n",
       "    }\n",
       "\n",
       "    .dataframe tbody tr th {\n",
       "        vertical-align: top;\n",
       "    }\n",
       "\n",
       "    .dataframe thead th {\n",
       "        text-align: right;\n",
       "    }\n",
       "</style>\n",
       "<table border=\"1\" class=\"dataframe\">\n",
       "  <thead>\n",
       "    <tr style=\"text-align: right;\">\n",
       "      <th></th>\n",
       "      <th>passengerid</th>\n",
       "      <th>survived</th>\n",
       "      <th>pclass</th>\n",
       "      <th>name</th>\n",
       "      <th>sex</th>\n",
       "      <th>age</th>\n",
       "      <th>sibsp</th>\n",
       "      <th>parch</th>\n",
       "      <th>ticket</th>\n",
       "      <th>fare</th>\n",
       "      <th>cabin</th>\n",
       "      <th>embarked</th>\n",
       "      <th>cabin2</th>\n",
       "    </tr>\n",
       "  </thead>\n",
       "  <tbody>\n",
       "    <tr>\n",
       "      <th>0</th>\n",
       "      <td>1</td>\n",
       "      <td>0</td>\n",
       "      <td>3</td>\n",
       "      <td>Braund, Mr. Owen Harris</td>\n",
       "      <td>male</td>\n",
       "      <td>22.0</td>\n",
       "      <td>1</td>\n",
       "      <td>0</td>\n",
       "      <td>A/5 21171</td>\n",
       "      <td>7.2500</td>\n",
       "      <td>NaN</td>\n",
       "      <td>S</td>\n",
       "      <td>NaN</td>\n",
       "    </tr>\n",
       "    <tr>\n",
       "      <th>1</th>\n",
       "      <td>2</td>\n",
       "      <td>1</td>\n",
       "      <td>1</td>\n",
       "      <td>Cumings, Mrs. John Bradley (Florence Briggs Th...</td>\n",
       "      <td>female</td>\n",
       "      <td>38.0</td>\n",
       "      <td>1</td>\n",
       "      <td>0</td>\n",
       "      <td>PC 17599</td>\n",
       "      <td>71.2833</td>\n",
       "      <td>C85</td>\n",
       "      <td>C</td>\n",
       "      <td>C</td>\n",
       "    </tr>\n",
       "  </tbody>\n",
       "</table>\n",
       "</div>"
      ],
      "text/plain": [
       "   passengerid  survived  pclass  \\\n",
       "0            1         0       3   \n",
       "1            2         1       1   \n",
       "\n",
       "                                                name     sex   age  sibsp  \\\n",
       "0                            Braund, Mr. Owen Harris    male  22.0      1   \n",
       "1  Cumings, Mrs. John Bradley (Florence Briggs Th...  female  38.0      1   \n",
       "\n",
       "   parch     ticket     fare cabin embarked cabin2  \n",
       "0      0  A/5 21171   7.2500   NaN        S    NaN  \n",
       "1      0   PC 17599  71.2833   C85        C      C  "
      ]
     },
     "execution_count": 36,
     "metadata": {},
     "output_type": "execute_result"
    }
   ],
   "source": [
    "tr.head(2)"
   ]
  },
  {
   "cell_type": "code",
   "execution_count": 37,
   "id": "4f490142-3f31-47e4-a810-59a3f3e10381",
   "metadata": {
    "tags": []
   },
   "outputs": [
    {
     "data": {
      "text/plain": [
       "S    644\n",
       "C    168\n",
       "Q     77\n",
       "Name: embarked, dtype: int64"
      ]
     },
     "execution_count": 37,
     "metadata": {},
     "output_type": "execute_result"
    }
   ],
   "source": [
    "#embarked의 값 조회\n",
    "\n",
    "tr['embarked'].value_counts()"
   ]
  },
  {
   "cell_type": "code",
   "execution_count": 38,
   "id": "1ccb0d56-5116-4c1f-b59d-9c7142a18132",
   "metadata": {
    "tags": []
   },
   "outputs": [
    {
     "data": {
      "text/plain": [
       "2"
      ]
     },
     "execution_count": 38,
     "metadata": {},
     "output_type": "execute_result"
    }
   ],
   "source": [
    "#embarked는 결측이 있다.\n",
    "#어떻게 결측을 채울것인가?\n",
    "\n",
    "tr['embarked'].isna().sum()"
   ]
  },
  {
   "cell_type": "code",
   "execution_count": 39,
   "id": "cee586fe-51c9-412b-b124-4a896bcbf341",
   "metadata": {
    "tags": []
   },
   "outputs": [
    {
     "data": {
      "text/plain": [
       "embarked  survived\n",
       "C         0            75\n",
       "          1            93\n",
       "Q         0            47\n",
       "          1            30\n",
       "S         0           427\n",
       "          1           217\n",
       "dtype: int64"
      ]
     },
     "execution_count": 39,
     "metadata": {},
     "output_type": "execute_result"
    }
   ],
   "source": [
    "#embarked와 survived 연관성 조회\n",
    "\n",
    "tr[['embarked','survived']].value_counts().sort_index()"
   ]
  },
  {
   "cell_type": "code",
   "execution_count": 40,
   "id": "adba9cbd-36db-44cf-8943-b9601b12e253",
   "metadata": {
    "tags": []
   },
   "outputs": [
    {
     "data": {
      "text/plain": [
       "<AxesSubplot: xlabel='embarked,survived'>"
      ]
     },
     "execution_count": 40,
     "metadata": {},
     "output_type": "execute_result"
    },
    {
     "data": {
      "image/png": "[encoded data removed]",
      "text/plain": [
       "<Figure size 640x480 with 1 Axes>"
      ]
     },
     "metadata": {},
     "output_type": "display_data"
    }
   ],
   "source": [
    "tr[['embarked','survived']].value_counts().sort_index().plot(kind = 'bar')"
   ]
  },
  {
   "cell_type": "markdown",
   "id": "2cf3e6e2-1dde-4064-9376-7fdce173f6b0",
   "metadata": {},
   "source": [
    "* S가 압도적으로 많이 죽고 살아보이지만, 그냥 S정박지에서 많은 사람이 탑승해서일 수 있다."
   ]
  },
  {
   "cell_type": "markdown",
   "id": "2f52efe3-cd50-4e49-8b8a-87a989423a49",
   "metadata": {},
   "source": [
    "Q. **결측값을 어떻게 채울 것인가?**  \n",
    "  \n",
    "    -최빈값(가장 많은 값)에 넣는다.   \n",
    "    가장 많은 데이터 안에 속해서 큰 의미를 갖지 않게(반면, 작은 값으로 가면 의미가 커진다.) "
   ]
  },
  {
   "cell_type": "code",
   "execution_count": 41,
   "id": "c78771fe-c3fd-442c-b42a-e8b909d9a4f4",
   "metadata": {},
   "outputs": [
    {
     "data": {
      "text/html": [
       "<div>\n",
       "<style scoped>\n",
       "    .dataframe tbody tr th:only-of-type {\n",
       "        vertical-align: middle;\n",
       "    }\n",
       "\n",
       "    .dataframe tbody tr th {\n",
       "        vertical-align: top;\n",
       "    }\n",
       "\n",
       "    .dataframe thead th {\n",
       "        text-align: right;\n",
       "    }\n",
       "</style>\n",
       "<table border=\"1\" class=\"dataframe\">\n",
       "  <thead>\n",
       "    <tr style=\"text-align: right;\">\n",
       "      <th></th>\n",
       "      <th>embarked</th>\n",
       "      <th>sex</th>\n",
       "    </tr>\n",
       "  </thead>\n",
       "  <tbody>\n",
       "    <tr>\n",
       "      <th>count</th>\n",
       "      <td>889</td>\n",
       "      <td>891</td>\n",
       "    </tr>\n",
       "    <tr>\n",
       "      <th>unique</th>\n",
       "      <td>3</td>\n",
       "      <td>2</td>\n",
       "    </tr>\n",
       "    <tr>\n",
       "      <th>top</th>\n",
       "      <td>S</td>\n",
       "      <td>male</td>\n",
       "    </tr>\n",
       "    <tr>\n",
       "      <th>freq</th>\n",
       "      <td>644</td>\n",
       "      <td>577</td>\n",
       "    </tr>\n",
       "  </tbody>\n",
       "</table>\n",
       "</div>"
      ],
      "text/plain": [
       "       embarked   sex\n",
       "count       889   891\n",
       "unique        3     2\n",
       "top           S  male\n",
       "freq        644   577"
      ]
     },
     "execution_count": 41,
     "metadata": {},
     "output_type": "execute_result"
    }
   ],
   "source": [
    "# describe() 코드는 수치형이 아닌 글자형(오브젝트)일 때는 count, top(최빈도값), 유니크 갯수, freq값(최빈값)을 알 수 있다.\n",
    "\n",
    "tr[['embarked','sex']].describe()"
   ]
  },
  {
   "cell_type": "code",
   "execution_count": 42,
   "id": "e81214b2-3430-4c24-b758-84a4a9c77e04",
   "metadata": {
    "tags": []
   },
   "outputs": [],
   "source": [
    "tr['embarked'] = tr['embarked'].fillna(tr['embarked'].mode().values[0])\n",
    "\n",
    "# tr['embarked'].mode().values[0] = 최빈값 코드\n",
    "# 그냥 모드까지만 하면 array를 뽑기 때문에, value[0]으로 지정\n",
    "#하드 코딩하지 말고, 최빈값 구하는 mode().values로 넣어준다.\n",
    "# 길어지니까 변수 지정해서 해준다."
   ]
  },
  {
   "cell_type": "code",
   "execution_count": 43,
   "id": "3743f64c-7964-427d-9a31-b601d8e4ba4e",
   "metadata": {
    "tags": []
   },
   "outputs": [
    {
     "data": {
      "text/plain": [
       "0"
      ]
     },
     "execution_count": 43,
     "metadata": {},
     "output_type": "execute_result"
    }
   ],
   "source": [
    "#결측이 처리됐음을 확인한다.\n",
    "\n",
    "tr['embarked'].isna().sum()"
   ]
  },
  {
   "cell_type": "markdown",
   "id": "74c9b75b-2f2a-4133-9701-a41e8adeb508",
   "metadata": {},
   "source": [
    "## **'sex': 주요 Feature**"
   ]
  },
  {
   "cell_type": "code",
   "execution_count": 44,
   "id": "1c497ef9-984e-4172-a2d9-b7b27bcfc375",
   "metadata": {
    "tags": []
   },
   "outputs": [
    {
     "data": {
      "text/plain": [
       "0"
      ]
     },
     "execution_count": 44,
     "metadata": {},
     "output_type": "execute_result"
    }
   ],
   "source": [
    "#결측 확인\n",
    "\n",
    "tr['sex'].isna().sum()"
   ]
  },
  {
   "cell_type": "code",
   "execution_count": 45,
   "id": "541d866f-566d-4af0-95dd-61b5efd72848",
   "metadata": {
    "tags": []
   },
   "outputs": [
    {
     "data": {
      "text/plain": [
       "male      577\n",
       "female    314\n",
       "Name: sex, dtype: int64"
      ]
     },
     "execution_count": 45,
     "metadata": {},
     "output_type": "execute_result"
    }
   ],
   "source": [
    "tr['sex'].value_counts()"
   ]
  },
  {
   "cell_type": "code",
   "execution_count": 46,
   "id": "9dd92799-235e-4dd3-9df8-6b3d0ec36a67",
   "metadata": {
    "tags": []
   },
   "outputs": [
    {
     "data": {
      "text/plain": [
       "sex     survived\n",
       "female  0            81\n",
       "        1           233\n",
       "male    0           468\n",
       "        1           109\n",
       "dtype: int64"
      ]
     },
     "execution_count": 46,
     "metadata": {},
     "output_type": "execute_result"
    }
   ],
   "source": [
    "tr[['sex','survived']].value_counts().sort_index()\n",
    "\n",
    "#survived와의 비교\n",
    "#남자는 많이 죽었다. 즉, 의미있는 데이터이다."
   ]
  },
  {
   "cell_type": "markdown",
   "id": "3c839811-c7a7-4b83-b2e9-b6f1168746cd",
   "metadata": {},
   "source": [
    "## **Name**"
   ]
  },
  {
   "cell_type": "markdown",
   "id": "f5f54bd2-f405-4a39-a7f8-2a9bb39af032",
   "metadata": {},
   "source": [
    "### 이름을 이용하여 나이 결측 채우기\n",
    "     - 이름 호칭을 잘라다가 미스, 미스터, 닥터, 주니어 등의 평균 나이 유추\n"
   ]
  },
  {
   "cell_type": "code",
   "execution_count": 47,
   "id": "9e994afd-b557-47d5-8423-1ee67fa28b36",
   "metadata": {
    "tags": []
   },
   "outputs": [
    {
     "data": {
      "text/plain": [
       "0"
      ]
     },
     "execution_count": 47,
     "metadata": {},
     "output_type": "execute_result"
    }
   ],
   "source": [
    "tr['name'].isna().sum()"
   ]
  },
  {
   "cell_type": "markdown",
   "id": "cabc0799-d0f5-4687-8da2-8f65bbe0caf5",
   "metadata": {},
   "source": [
    "***"
   ]
  },
  {
   "cell_type": "markdown",
   "id": "89e199a6-448a-4c48-9936-5b283ece8501",
   "metadata": {},
   "source": [
    "### 정규표현식"
   ]
  },
  {
   "cell_type": "markdown",
   "id": "b0484c79-c97b-4616-9d75-b26bcbd237d0",
   "metadata": {},
   "source": [
    "* 이름에서 특정 값을 추출하기 위한 작업\n",
    "\n",
    "* <b>정규표현식</b>\n",
    "* match() : 첫글자부터 아니면 땡\n",
    "* search() /  findall() : 전체적으로 찾아준다.\n",
    "\n",
    "    \n",
    "    * p = re.compile(패턴) => 먼저 정의 해준 뒤 변수로 사용한다.  \n",
    "    \n",
    "    <b>* p.findall(타겟문장)  \n",
    "        * p.search(타겟문장)  </b>"
   ]
  },
  {
   "cell_type": "code",
   "execution_count": 48,
   "id": "76858b92-926c-4507-a0a0-38124a3962ea",
   "metadata": {
    "tags": []
   },
   "outputs": [],
   "source": [
    "import re"
   ]
  },
  {
   "cell_type": "code",
   "execution_count": 49,
   "id": "946880c3-4e28-42a9-9bf5-4a0e25d9ea8d",
   "metadata": {
    "tags": []
   },
   "outputs": [
    {
     "name": "stdout",
     "output_type": "stream",
     "text": [
      "<re.Match object; span=(0, 8), match='a100.txt'>\n",
      "<re.Match object; span=(0, 7), match='abc.txt'>\n",
      "None\n"
     ]
    },
    {
     "data": {
      "text/plain": [
       "<function re.findall(pattern, string, flags=0)>"
      ]
     },
     "execution_count": 49,
     "metadata": {},
     "output_type": "execute_result"
    }
   ],
   "source": [
    "p = re.compile(\"\\w*[.][t]\\w*\")\n",
    "m = p.search('a100.txt')\n",
    "s = p.search('abc.txt')\n",
    "x = p.search('aa.jpg')\n",
    "print(m)\n",
    "print(s)\n",
    "print(x)\n",
    "\n",
    "re.findall"
   ]
  },
  {
   "cell_type": "code",
   "execution_count": 50,
   "id": "02c51f9b-1182-4786-8f09-e39519d1831d",
   "metadata": {
    "tags": []
   },
   "outputs": [
    {
     "name": "stdout",
     "output_type": "stream",
     "text": [
      "['홍길동', '아무개']\n"
     ]
    }
   ],
   "source": [
    "# James 홍길동 아무개 -> 한글 이름만\n",
    "\n",
    "xxp = re.compile(\"[가-힣]+\")\n",
    "m = xxp.findall(\"홍길동 아무개\")\n",
    "print(m)"
   ]
  },
  {
   "cell_type": "code",
   "execution_count": 51,
   "id": "d5eed76f-2b3a-497b-8140-73ab8f9ed468",
   "metadata": {
    "tags": []
   },
   "outputs": [
    {
     "name": "stdout",
     "output_type": "stream",
     "text": [
      "Miss.\n"
     ]
    }
   ],
   "source": [
    "# \"asdfasdf, Miss. Ham\"\n",
    "\n",
    "p = re.compile(\"\\s*\\w*[.]\\s\")\n",
    "m = p.findall(\"asdfasdf, Miss. Ham\")[0].strip() #위 정규표현식이 찾는 값 : Miss. ->단일이니까 [0]을 strip 한다.\n",
    "print(m)"
   ]
  },
  {
   "cell_type": "code",
   "execution_count": 52,
   "id": "936a1d81-650f-46db-854b-d0f1afc7a19e",
   "metadata": {
    "tags": []
   },
   "outputs": [],
   "source": [
    "#예림\n",
    "\n",
    "p=re.compile('\\s*\\w+\\s*')\n",
    "m = p.findall(\"Nasser, Mrs. Nicholas (Adele Achem)\")[1]\n"
   ]
  },
  {
   "cell_type": "code",
   "execution_count": 53,
   "id": "b12c4861-8d13-42a3-8ea7-377a0b730498",
   "metadata": {
    "tags": []
   },
   "outputs": [
    {
     "name": "stdout",
     "output_type": "stream",
     "text": [
      "<re.Match object; span=(8, 12), match='Mrs.'>\n"
     ]
    }
   ],
   "source": [
    "#영기\n",
    "\n",
    "op = re.compile('[A-Za-z]*[.]')\n",
    "m = op.search(\"Nasser, Mrs. Nicholas (Adele Achem)\")\n",
    "print(m)"
   ]
  },
  {
   "cell_type": "code",
   "execution_count": 54,
   "id": "9bbf9ddc-96d2-479f-94b7-d4d282c872c5",
   "metadata": {
    "tags": []
   },
   "outputs": [
    {
     "name": "stdout",
     "output_type": "stream",
     "text": [
      "<re.Match object; span=(8, 12), match='Mrs.'>\n",
      "search()한 결과를 string으로 받기 : Mrs.\n"
     ]
    }
   ],
   "source": [
    "#영기\n",
    "\n",
    "op = re.compile('\\w*[.]')\n",
    "m = op.search(\"Nasser, Mrs. Nicholas (Adele Achem)\")\n",
    "print(m)\n",
    "print(\"search()한 결과를 string으로 받기 :\" , m.group())"
   ]
  },
  {
   "cell_type": "code",
   "execution_count": 55,
   "id": "255df5fb-02d6-4059-b159-ae0e4bda1aee",
   "metadata": {
    "tags": []
   },
   "outputs": [
    {
     "name": "stdout",
     "output_type": "stream",
     "text": [
      "Mrs.\n"
     ]
    }
   ],
   "source": [
    "p = re.compile('\\s[\\w]+[.]\\s')\n",
    "m = p.findall(\"Nasser, Mrs. Nicholas (Adele Achem)\")[0].strip()\n",
    "print(m)"
   ]
  },
  {
   "cell_type": "code",
   "execution_count": 56,
   "id": "cb7d46ed-26ad-4fd3-a853-1ac0709dbe47",
   "metadata": {
    "tags": []
   },
   "outputs": [
    {
     "data": {
      "text/html": [
       "<div>\n",
       "<style scoped>\n",
       "    .dataframe tbody tr th:only-of-type {\n",
       "        vertical-align: middle;\n",
       "    }\n",
       "\n",
       "    .dataframe tbody tr th {\n",
       "        vertical-align: top;\n",
       "    }\n",
       "\n",
       "    .dataframe thead th {\n",
       "        text-align: right;\n",
       "    }\n",
       "</style>\n",
       "<table border=\"1\" class=\"dataframe\">\n",
       "  <thead>\n",
       "    <tr style=\"text-align: right;\">\n",
       "      <th></th>\n",
       "      <th>0</th>\n",
       "    </tr>\n",
       "  </thead>\n",
       "  <tbody>\n",
       "    <tr>\n",
       "      <th>0</th>\n",
       "      <td>Mr.</td>\n",
       "    </tr>\n",
       "    <tr>\n",
       "      <th>1</th>\n",
       "      <td>Mrs.</td>\n",
       "    </tr>\n",
       "    <tr>\n",
       "      <th>2</th>\n",
       "      <td>Miss.</td>\n",
       "    </tr>\n",
       "    <tr>\n",
       "      <th>3</th>\n",
       "      <td>Mrs.</td>\n",
       "    </tr>\n",
       "    <tr>\n",
       "      <th>4</th>\n",
       "      <td>Mr.</td>\n",
       "    </tr>\n",
       "    <tr>\n",
       "      <th>...</th>\n",
       "      <td>...</td>\n",
       "    </tr>\n",
       "    <tr>\n",
       "      <th>886</th>\n",
       "      <td>Rev.</td>\n",
       "    </tr>\n",
       "    <tr>\n",
       "      <th>887</th>\n",
       "      <td>Miss.</td>\n",
       "    </tr>\n",
       "    <tr>\n",
       "      <th>888</th>\n",
       "      <td>Miss.</td>\n",
       "    </tr>\n",
       "    <tr>\n",
       "      <th>889</th>\n",
       "      <td>Mr.</td>\n",
       "    </tr>\n",
       "    <tr>\n",
       "      <th>890</th>\n",
       "      <td>Mr.</td>\n",
       "    </tr>\n",
       "  </tbody>\n",
       "</table>\n",
       "<p>891 rows × 1 columns</p>\n",
       "</div>"
      ],
      "text/plain": [
       "           0\n",
       "0       Mr. \n",
       "1      Mrs. \n",
       "2     Miss. \n",
       "3      Mrs. \n",
       "4       Mr. \n",
       "..       ...\n",
       "886    Rev. \n",
       "887   Miss. \n",
       "888   Miss. \n",
       "889     Mr. \n",
       "890     Mr. \n",
       "\n",
       "[891 rows x 1 columns]"
      ]
     },
     "execution_count": 56,
     "metadata": {},
     "output_type": "execute_result"
    }
   ],
   "source": [
    "# train['name'].str.extract('정규표현식패턴')\n",
    "#그냥 끄집어내면 시리즈를 넣는 것이기 때문에, str(글자처리)를 먼저 해줘야한다.\n",
    "\n",
    "\n",
    "tr['name'].str.extract('(\\s[\\w]+[.]\\s)') #반드시 그룹화 해줘라 : ()"
   ]
  },
  {
   "cell_type": "code",
   "execution_count": 57,
   "id": "84770938-bacd-4f83-9ae2-715aa35c1343",
   "metadata": {
    "tags": []
   },
   "outputs": [
    {
     "data": {
      "text/html": [
       "<div>\n",
       "<style scoped>\n",
       "    .dataframe tbody tr th:only-of-type {\n",
       "        vertical-align: middle;\n",
       "    }\n",
       "\n",
       "    .dataframe tbody tr th {\n",
       "        vertical-align: top;\n",
       "    }\n",
       "\n",
       "    .dataframe thead th {\n",
       "        text-align: right;\n",
       "    }\n",
       "</style>\n",
       "<table border=\"1\" class=\"dataframe\">\n",
       "  <thead>\n",
       "    <tr style=\"text-align: right;\">\n",
       "      <th></th>\n",
       "      <th>passengerid</th>\n",
       "      <th>survived</th>\n",
       "      <th>pclass</th>\n",
       "      <th>name</th>\n",
       "      <th>sex</th>\n",
       "      <th>age</th>\n",
       "      <th>sibsp</th>\n",
       "      <th>parch</th>\n",
       "      <th>ticket</th>\n",
       "      <th>fare</th>\n",
       "      <th>cabin</th>\n",
       "      <th>embarked</th>\n",
       "      <th>cabin2</th>\n",
       "    </tr>\n",
       "  </thead>\n",
       "  <tbody>\n",
       "    <tr>\n",
       "      <th>0</th>\n",
       "      <td>1</td>\n",
       "      <td>0</td>\n",
       "      <td>3</td>\n",
       "      <td>Braund, Mr. Owen Harris</td>\n",
       "      <td>male</td>\n",
       "      <td>22.0</td>\n",
       "      <td>1</td>\n",
       "      <td>0</td>\n",
       "      <td>A/5 21171</td>\n",
       "      <td>7.2500</td>\n",
       "      <td>NaN</td>\n",
       "      <td>S</td>\n",
       "      <td>NaN</td>\n",
       "    </tr>\n",
       "    <tr>\n",
       "      <th>1</th>\n",
       "      <td>2</td>\n",
       "      <td>1</td>\n",
       "      <td>1</td>\n",
       "      <td>Cumings, Mrs. John Bradley (Florence Briggs Th...</td>\n",
       "      <td>female</td>\n",
       "      <td>38.0</td>\n",
       "      <td>1</td>\n",
       "      <td>0</td>\n",
       "      <td>PC 17599</td>\n",
       "      <td>71.2833</td>\n",
       "      <td>C85</td>\n",
       "      <td>C</td>\n",
       "      <td>C</td>\n",
       "    </tr>\n",
       "    <tr>\n",
       "      <th>2</th>\n",
       "      <td>3</td>\n",
       "      <td>1</td>\n",
       "      <td>3</td>\n",
       "      <td>Heikkinen, Miss. Laina</td>\n",
       "      <td>female</td>\n",
       "      <td>26.0</td>\n",
       "      <td>0</td>\n",
       "      <td>0</td>\n",
       "      <td>STON/O2. 3101282</td>\n",
       "      <td>7.9250</td>\n",
       "      <td>NaN</td>\n",
       "      <td>S</td>\n",
       "      <td>NaN</td>\n",
       "    </tr>\n",
       "    <tr>\n",
       "      <th>3</th>\n",
       "      <td>4</td>\n",
       "      <td>1</td>\n",
       "      <td>1</td>\n",
       "      <td>Futrelle, Mrs. Jacques Heath (Lily May Peel)</td>\n",
       "      <td>female</td>\n",
       "      <td>35.0</td>\n",
       "      <td>1</td>\n",
       "      <td>0</td>\n",
       "      <td>113803</td>\n",
       "      <td>53.1000</td>\n",
       "      <td>C123</td>\n",
       "      <td>S</td>\n",
       "      <td>C</td>\n",
       "    </tr>\n",
       "    <tr>\n",
       "      <th>4</th>\n",
       "      <td>5</td>\n",
       "      <td>0</td>\n",
       "      <td>3</td>\n",
       "      <td>Allen, Mr. William Henry</td>\n",
       "      <td>male</td>\n",
       "      <td>35.0</td>\n",
       "      <td>0</td>\n",
       "      <td>0</td>\n",
       "      <td>373450</td>\n",
       "      <td>8.0500</td>\n",
       "      <td>NaN</td>\n",
       "      <td>S</td>\n",
       "      <td>NaN</td>\n",
       "    </tr>\n",
       "  </tbody>\n",
       "</table>\n",
       "</div>"
      ],
      "text/plain": [
       "   passengerid  survived  pclass  \\\n",
       "0            1         0       3   \n",
       "1            2         1       1   \n",
       "2            3         1       3   \n",
       "3            4         1       1   \n",
       "4            5         0       3   \n",
       "\n",
       "                                                name     sex   age  sibsp  \\\n",
       "0                            Braund, Mr. Owen Harris    male  22.0      1   \n",
       "1  Cumings, Mrs. John Bradley (Florence Briggs Th...  female  38.0      1   \n",
       "2                             Heikkinen, Miss. Laina  female  26.0      0   \n",
       "3       Futrelle, Mrs. Jacques Heath (Lily May Peel)  female  35.0      1   \n",
       "4                           Allen, Mr. William Henry    male  35.0      0   \n",
       "\n",
       "   parch            ticket     fare cabin embarked cabin2  \n",
       "0      0         A/5 21171   7.2500   NaN        S    NaN  \n",
       "1      0          PC 17599  71.2833   C85        C      C  \n",
       "2      0  STON/O2. 3101282   7.9250   NaN        S    NaN  \n",
       "3      0            113803  53.1000  C123        S      C  \n",
       "4      0            373450   8.0500   NaN        S    NaN  "
      ]
     },
     "execution_count": 57,
     "metadata": {},
     "output_type": "execute_result"
    }
   ],
   "source": [
    "tr.head()"
   ]
  },
  {
   "cell_type": "code",
   "execution_count": 58,
   "id": "15bcca06-3210-4e1e-8066-de424a62367d",
   "metadata": {
    "tags": []
   },
   "outputs": [
    {
     "data": {
      "text/html": [
       "<div>\n",
       "<style scoped>\n",
       "    .dataframe tbody tr th:only-of-type {\n",
       "        vertical-align: middle;\n",
       "    }\n",
       "\n",
       "    .dataframe tbody tr th {\n",
       "        vertical-align: top;\n",
       "    }\n",
       "\n",
       "    .dataframe thead th {\n",
       "        text-align: right;\n",
       "    }\n",
       "</style>\n",
       "<table border=\"1\" class=\"dataframe\">\n",
       "  <thead>\n",
       "    <tr style=\"text-align: right;\">\n",
       "      <th></th>\n",
       "      <th>name_title</th>\n",
       "    </tr>\n",
       "  </thead>\n",
       "  <tbody>\n",
       "    <tr>\n",
       "      <th>886</th>\n",
       "      <td>Rev.</td>\n",
       "    </tr>\n",
       "    <tr>\n",
       "      <th>887</th>\n",
       "      <td>Miss.</td>\n",
       "    </tr>\n",
       "    <tr>\n",
       "      <th>888</th>\n",
       "      <td>Miss.</td>\n",
       "    </tr>\n",
       "    <tr>\n",
       "      <th>889</th>\n",
       "      <td>Mr.</td>\n",
       "    </tr>\n",
       "    <tr>\n",
       "      <th>890</th>\n",
       "      <td>Mr.</td>\n",
       "    </tr>\n",
       "  </tbody>\n",
       "</table>\n",
       "</div>"
      ],
      "text/plain": [
       "    name_title\n",
       "886       Rev.\n",
       "887      Miss.\n",
       "888      Miss.\n",
       "889        Mr.\n",
       "890        Mr."
      ]
     },
     "execution_count": 58,
     "metadata": {},
     "output_type": "execute_result"
    }
   ],
   "source": [
    "tr['name_title'] = tr['name'].str.extract('(\\s[\\w]+[.]\\s)')\n",
    "tr['name_title'] = tr['name_title'].str.strip()\n",
    "tr[['name_title']].tail()"
   ]
  },
  {
   "cell_type": "code",
   "execution_count": 59,
   "id": "7f934eae-4229-4f59-be3f-1bf6829a2246",
   "metadata": {
    "tags": []
   },
   "outputs": [],
   "source": [
    "#name_title을 그룹화해서 카운트 = values_counts()\n",
    "\n",
    "# trc.groupby('name_title')['name_title'].count().sort_values(ascending = False)"
   ]
  },
  {
   "cell_type": "code",
   "execution_count": 60,
   "id": "0c2e7dbc-b1b2-4e34-ac0d-13644a2d5046",
   "metadata": {
    "tags": []
   },
   "outputs": [
    {
     "data": {
      "text/plain": [
       "Mr.          517\n",
       "Miss.        182\n",
       "Mrs.         125\n",
       "Master.       40\n",
       "Dr.            7\n",
       "Rev.           6\n",
       "Mlle.          2\n",
       "Major.         2\n",
       "Col.           2\n",
       "Countess.      1\n",
       "Capt.          1\n",
       "Ms.            1\n",
       "Sir.           1\n",
       "Lady.          1\n",
       "Mme.           1\n",
       "Don.           1\n",
       "Jonkheer.      1\n",
       "Name: name_title, dtype: int64"
      ]
     },
     "execution_count": 60,
     "metadata": {},
     "output_type": "execute_result"
    }
   ],
   "source": [
    "# 위랑 같은 거 훨씬 쉽게\n",
    "\n",
    "tr['name_title'].value_counts()"
   ]
  },
  {
   "cell_type": "code",
   "execution_count": 61,
   "id": "02a225ce-311e-4455-ab5a-6ecbbc7d2d98",
   "metadata": {
    "tags": []
   },
   "outputs": [
    {
     "data": {
      "text/plain": [
       "name_title\n",
       "Capt.          1\n",
       "Col.           2\n",
       "Countess.      1\n",
       "Don.           1\n",
       "Dr.            6\n",
       "Jonkheer.      1\n",
       "Lady.          1\n",
       "Major.         2\n",
       "Master.       36\n",
       "Miss.        146\n",
       "Mlle.          2\n",
       "Mme.           1\n",
       "Mr.          398\n",
       "Mrs.         108\n",
       "Ms.            1\n",
       "Rev.           6\n",
       "Sir.           1\n",
       "Name: age, dtype: int64"
      ]
     },
     "execution_count": 61,
     "metadata": {},
     "output_type": "execute_result"
    }
   ],
   "source": [
    "tr.groupby('name_title')['age'].count()"
   ]
  },
  {
   "cell_type": "code",
   "execution_count": null,
   "id": "9cfc59a0-335c-455f-acd6-b56f7baa8903",
   "metadata": {},
   "outputs": [],
   "source": []
  },
  {
   "cell_type": "markdown",
   "id": "9c7b8f44-6da1-4dfc-9078-b69b460fab56",
   "metadata": {},
   "source": [
    "***"
   ]
  },
  {
   "cell_type": "markdown",
   "id": "f11c9ab6-b75c-4e93-a154-e95a3a00d633",
   "metadata": {
    "tags": []
   },
   "source": [
    "<pre>\n",
    "마드모아젤 : 어린 여자아이 = miss\n",
    "ms 결혼여부: miss\n",
    "Lady : miss\n",
    "\n",
    "#-------------------------#\n",
    "\n",
    "Mme : 마담 Mrs\n",
    "countness 백작부인 : mrs\n",
    "\n",
    "#--------------------------#\n",
    "\n",
    "sir 백작, 선생님 : mr\n",
    "capt 해군, 선생님, 공군 : mr\n",
    "Rev : 목사 -> Mr\n",
    "Major : 미군 Mr\n",
    "col : 육군 대령 Mr\n",
    "don 중남미 남성 호칭 : Mr\n",
    "jonkheer 무작위 귀족 : Mr\n",
    "\n",
    "Master , dr : 선생님, 의사는 유추 애매..\n",
    "</pre>"
   ]
  },
  {
   "cell_type": "markdown",
   "id": "49cdba0a-caeb-4985-ac89-93a4de5e0fd1",
   "metadata": {},
   "source": [
    "## 피쳐 값 변경 Replace(),Map,apply\n",
    "\n",
    "1) df.replace('A','B', inplace=True)\n",
    "2) df.map({'A':'B'}) #해당 값을 바꿔라.\n",
    "3) df.apply(lambda)"
   ]
  },
  {
   "cell_type": "markdown",
   "id": "49426e1a-f234-490e-b0c2-13126bd2028f",
   "metadata": {},
   "source": [
    "* 연습"
   ]
  },
  {
   "cell_type": "markdown",
   "id": "0a500c6f-3d39-4af7-b3f0-a05f45fc9c74",
   "metadata": {},
   "source": [
    "### replace()\n",
    "    - replace(기존값,바꿀값)\n",
    "    - replace([1,2,3],[11,22,33]) 식의 복수값도 가능"
   ]
  },
  {
   "cell_type": "code",
   "execution_count": 62,
   "id": "35986fd8-5828-4793-adae-398d170a4aa9",
   "metadata": {
    "tags": []
   },
   "outputs": [
    {
     "data": {
      "text/html": [
       "<div>\n",
       "<style scoped>\n",
       "    .dataframe tbody tr th:only-of-type {\n",
       "        vertical-align: middle;\n",
       "    }\n",
       "\n",
       "    .dataframe tbody tr th {\n",
       "        vertical-align: top;\n",
       "    }\n",
       "\n",
       "    .dataframe thead th {\n",
       "        text-align: right;\n",
       "    }\n",
       "</style>\n",
       "<table border=\"1\" class=\"dataframe\">\n",
       "  <thead>\n",
       "    <tr style=\"text-align: right;\">\n",
       "      <th></th>\n",
       "      <th>passengerid</th>\n",
       "      <th>survived</th>\n",
       "      <th>pclass</th>\n",
       "      <th>name</th>\n",
       "      <th>sex</th>\n",
       "      <th>age</th>\n",
       "      <th>sibsp</th>\n",
       "      <th>parch</th>\n",
       "      <th>ticket</th>\n",
       "      <th>fare</th>\n",
       "      <th>cabin</th>\n",
       "      <th>embarked</th>\n",
       "      <th>cabin2</th>\n",
       "      <th>name_title</th>\n",
       "    </tr>\n",
       "  </thead>\n",
       "  <tbody>\n",
       "    <tr>\n",
       "      <th>0</th>\n",
       "      <td>1</td>\n",
       "      <td>0</td>\n",
       "      <td>3</td>\n",
       "      <td>Braund, Mr. Owen Harris</td>\n",
       "      <td>male</td>\n",
       "      <td>22.0</td>\n",
       "      <td>1</td>\n",
       "      <td>0</td>\n",
       "      <td>A/5 21171</td>\n",
       "      <td>7.2500</td>\n",
       "      <td>NaN</td>\n",
       "      <td>S</td>\n",
       "      <td>NaN</td>\n",
       "      <td>Mr.</td>\n",
       "    </tr>\n",
       "    <tr>\n",
       "      <th>1</th>\n",
       "      <td>2</td>\n",
       "      <td>1</td>\n",
       "      <td>1</td>\n",
       "      <td>Cumings, Mrs. John Bradley (Florence Briggs Th...</td>\n",
       "      <td>female</td>\n",
       "      <td>38.0</td>\n",
       "      <td>1</td>\n",
       "      <td>0</td>\n",
       "      <td>PC 17599</td>\n",
       "      <td>71.2833</td>\n",
       "      <td>C85</td>\n",
       "      <td>C</td>\n",
       "      <td>C</td>\n",
       "      <td>Mrs.</td>\n",
       "    </tr>\n",
       "    <tr>\n",
       "      <th>2</th>\n",
       "      <td>3</td>\n",
       "      <td>1</td>\n",
       "      <td>3</td>\n",
       "      <td>Heikkinen, Miss. Laina</td>\n",
       "      <td>female</td>\n",
       "      <td>26.0</td>\n",
       "      <td>0</td>\n",
       "      <td>0</td>\n",
       "      <td>STON/O2. 3101282</td>\n",
       "      <td>7.9250</td>\n",
       "      <td>NaN</td>\n",
       "      <td>S</td>\n",
       "      <td>NaN</td>\n",
       "      <td>Miss.</td>\n",
       "    </tr>\n",
       "    <tr>\n",
       "      <th>3</th>\n",
       "      <td>4</td>\n",
       "      <td>1</td>\n",
       "      <td>1</td>\n",
       "      <td>Futrelle, Mrs. Jacques Heath (Lily May Peel)</td>\n",
       "      <td>female</td>\n",
       "      <td>35.0</td>\n",
       "      <td>1</td>\n",
       "      <td>0</td>\n",
       "      <td>113803</td>\n",
       "      <td>53.1000</td>\n",
       "      <td>C123</td>\n",
       "      <td>S</td>\n",
       "      <td>C</td>\n",
       "      <td>Mrs.</td>\n",
       "    </tr>\n",
       "    <tr>\n",
       "      <th>4</th>\n",
       "      <td>5</td>\n",
       "      <td>0</td>\n",
       "      <td>3</td>\n",
       "      <td>Allen, Mr. William Henry</td>\n",
       "      <td>male</td>\n",
       "      <td>35.0</td>\n",
       "      <td>0</td>\n",
       "      <td>0</td>\n",
       "      <td>373450</td>\n",
       "      <td>8.0500</td>\n",
       "      <td>NaN</td>\n",
       "      <td>S</td>\n",
       "      <td>NaN</td>\n",
       "      <td>Mr.</td>\n",
       "    </tr>\n",
       "  </tbody>\n",
       "</table>\n",
       "</div>"
      ],
      "text/plain": [
       "   passengerid  survived  pclass  \\\n",
       "0            1         0       3   \n",
       "1            2         1       1   \n",
       "2            3         1       3   \n",
       "3            4         1       1   \n",
       "4            5         0       3   \n",
       "\n",
       "                                                name     sex   age  sibsp  \\\n",
       "0                            Braund, Mr. Owen Harris    male  22.0      1   \n",
       "1  Cumings, Mrs. John Bradley (Florence Briggs Th...  female  38.0      1   \n",
       "2                             Heikkinen, Miss. Laina  female  26.0      0   \n",
       "3       Futrelle, Mrs. Jacques Heath (Lily May Peel)  female  35.0      1   \n",
       "4                           Allen, Mr. William Henry    male  35.0      0   \n",
       "\n",
       "   parch            ticket     fare cabin embarked cabin2 name_title  \n",
       "0      0         A/5 21171   7.2500   NaN        S    NaN        Mr.  \n",
       "1      0          PC 17599  71.2833   C85        C      C       Mrs.  \n",
       "2      0  STON/O2. 3101282   7.9250   NaN        S    NaN      Miss.  \n",
       "3      0            113803  53.1000  C123        S      C       Mrs.  \n",
       "4      0            373450   8.0500   NaN        S    NaN        Mr.  "
      ]
     },
     "execution_count": 62,
     "metadata": {},
     "output_type": "execute_result"
    }
   ],
   "source": [
    "trc = tr.copy()\n",
    "trc.head()"
   ]
  },
  {
   "cell_type": "code",
   "execution_count": 63,
   "id": "93e8d0fb-2c11-4201-9daa-0e4f2b23438a",
   "metadata": {
    "tags": []
   },
   "outputs": [
    {
     "data": {
      "text/html": [
       "<div>\n",
       "<style scoped>\n",
       "    .dataframe tbody tr th:only-of-type {\n",
       "        vertical-align: middle;\n",
       "    }\n",
       "\n",
       "    .dataframe tbody tr th {\n",
       "        vertical-align: top;\n",
       "    }\n",
       "\n",
       "    .dataframe thead th {\n",
       "        text-align: right;\n",
       "    }\n",
       "</style>\n",
       "<table border=\"1\" class=\"dataframe\">\n",
       "  <thead>\n",
       "    <tr style=\"text-align: right;\">\n",
       "      <th></th>\n",
       "      <th>passengerid</th>\n",
       "      <th>survived</th>\n",
       "      <th>pclass</th>\n",
       "      <th>name</th>\n",
       "      <th>sex</th>\n",
       "      <th>age</th>\n",
       "      <th>sibsp</th>\n",
       "      <th>parch</th>\n",
       "      <th>ticket</th>\n",
       "      <th>fare</th>\n",
       "      <th>cabin</th>\n",
       "      <th>embarked</th>\n",
       "      <th>cabin2</th>\n",
       "      <th>name_title</th>\n",
       "    </tr>\n",
       "  </thead>\n",
       "  <tbody>\n",
       "    <tr>\n",
       "      <th>0</th>\n",
       "      <td>1</td>\n",
       "      <td>0</td>\n",
       "      <td>33</td>\n",
       "      <td>Braund, Mr. Owen Harris</td>\n",
       "      <td>male</td>\n",
       "      <td>22.0</td>\n",
       "      <td>1</td>\n",
       "      <td>0</td>\n",
       "      <td>A/5 21171</td>\n",
       "      <td>7.2500</td>\n",
       "      <td>NaN</td>\n",
       "      <td>S</td>\n",
       "      <td>NaN</td>\n",
       "      <td>Mr.</td>\n",
       "    </tr>\n",
       "    <tr>\n",
       "      <th>1</th>\n",
       "      <td>2</td>\n",
       "      <td>1</td>\n",
       "      <td>1</td>\n",
       "      <td>Cumings, Mrs. John Bradley (Florence Briggs Th...</td>\n",
       "      <td>female</td>\n",
       "      <td>38.0</td>\n",
       "      <td>1</td>\n",
       "      <td>0</td>\n",
       "      <td>PC 17599</td>\n",
       "      <td>71.2833</td>\n",
       "      <td>C85</td>\n",
       "      <td>C</td>\n",
       "      <td>C</td>\n",
       "      <td>Mrs.</td>\n",
       "    </tr>\n",
       "    <tr>\n",
       "      <th>2</th>\n",
       "      <td>3</td>\n",
       "      <td>1</td>\n",
       "      <td>33</td>\n",
       "      <td>Heikkinen, Miss. Laina</td>\n",
       "      <td>female</td>\n",
       "      <td>26.0</td>\n",
       "      <td>0</td>\n",
       "      <td>0</td>\n",
       "      <td>STON/O2. 3101282</td>\n",
       "      <td>7.9250</td>\n",
       "      <td>NaN</td>\n",
       "      <td>S</td>\n",
       "      <td>NaN</td>\n",
       "      <td>Miss.</td>\n",
       "    </tr>\n",
       "    <tr>\n",
       "      <th>3</th>\n",
       "      <td>4</td>\n",
       "      <td>1</td>\n",
       "      <td>1</td>\n",
       "      <td>Futrelle, Mrs. Jacques Heath (Lily May Peel)</td>\n",
       "      <td>female</td>\n",
       "      <td>35.0</td>\n",
       "      <td>1</td>\n",
       "      <td>0</td>\n",
       "      <td>113803</td>\n",
       "      <td>53.1000</td>\n",
       "      <td>C123</td>\n",
       "      <td>S</td>\n",
       "      <td>C</td>\n",
       "      <td>Mrs.</td>\n",
       "    </tr>\n",
       "    <tr>\n",
       "      <th>4</th>\n",
       "      <td>5</td>\n",
       "      <td>0</td>\n",
       "      <td>33</td>\n",
       "      <td>Allen, Mr. William Henry</td>\n",
       "      <td>male</td>\n",
       "      <td>35.0</td>\n",
       "      <td>0</td>\n",
       "      <td>0</td>\n",
       "      <td>373450</td>\n",
       "      <td>8.0500</td>\n",
       "      <td>NaN</td>\n",
       "      <td>S</td>\n",
       "      <td>NaN</td>\n",
       "      <td>Mr.</td>\n",
       "    </tr>\n",
       "  </tbody>\n",
       "</table>\n",
       "</div>"
      ],
      "text/plain": [
       "   passengerid  survived  pclass  \\\n",
       "0            1         0      33   \n",
       "1            2         1       1   \n",
       "2            3         1      33   \n",
       "3            4         1       1   \n",
       "4            5         0      33   \n",
       "\n",
       "                                                name     sex   age  sibsp  \\\n",
       "0                            Braund, Mr. Owen Harris    male  22.0      1   \n",
       "1  Cumings, Mrs. John Bradley (Florence Briggs Th...  female  38.0      1   \n",
       "2                             Heikkinen, Miss. Laina  female  26.0      0   \n",
       "3       Futrelle, Mrs. Jacques Heath (Lily May Peel)  female  35.0      1   \n",
       "4                           Allen, Mr. William Henry    male  35.0      0   \n",
       "\n",
       "   parch            ticket     fare cabin embarked cabin2 name_title  \n",
       "0      0         A/5 21171   7.2500   NaN        S    NaN        Mr.  \n",
       "1      0          PC 17599  71.2833   C85        C      C       Mrs.  \n",
       "2      0  STON/O2. 3101282   7.9250   NaN        S    NaN      Miss.  \n",
       "3      0            113803  53.1000  C123        S      C       Mrs.  \n",
       "4      0            373450   8.0500   NaN        S    NaN        Mr.  "
      ]
     },
     "execution_count": 63,
     "metadata": {},
     "output_type": "execute_result"
    }
   ],
   "source": [
    "trc['pclass'].replace(3,33,inplace=True) #pclass의 3 값을 33으로 바꿔라.\n",
    "trc.head()"
   ]
  },
  {
   "cell_type": "code",
   "execution_count": 64,
   "id": "40a828c5-356e-493d-8bbe-501f59fcea84",
   "metadata": {
    "tags": []
   },
   "outputs": [
    {
     "data": {
      "text/html": [
       "<div>\n",
       "<style scoped>\n",
       "    .dataframe tbody tr th:only-of-type {\n",
       "        vertical-align: middle;\n",
       "    }\n",
       "\n",
       "    .dataframe tbody tr th {\n",
       "        vertical-align: top;\n",
       "    }\n",
       "\n",
       "    .dataframe thead th {\n",
       "        text-align: right;\n",
       "    }\n",
       "</style>\n",
       "<table border=\"1\" class=\"dataframe\">\n",
       "  <thead>\n",
       "    <tr style=\"text-align: right;\">\n",
       "      <th></th>\n",
       "      <th>passengerid</th>\n",
       "      <th>survived</th>\n",
       "      <th>pclass</th>\n",
       "      <th>name</th>\n",
       "      <th>sex</th>\n",
       "      <th>age</th>\n",
       "      <th>sibsp</th>\n",
       "      <th>parch</th>\n",
       "      <th>ticket</th>\n",
       "      <th>fare</th>\n",
       "      <th>cabin</th>\n",
       "      <th>embarked</th>\n",
       "      <th>cabin2</th>\n",
       "      <th>name_title</th>\n",
       "    </tr>\n",
       "  </thead>\n",
       "  <tbody>\n",
       "    <tr>\n",
       "      <th>0</th>\n",
       "      <td>1</td>\n",
       "      <td>0</td>\n",
       "      <td>33</td>\n",
       "      <td>Braund, Mr. Owen Harris</td>\n",
       "      <td>male</td>\n",
       "      <td>22.0</td>\n",
       "      <td>1</td>\n",
       "      <td>0</td>\n",
       "      <td>A/5 21171</td>\n",
       "      <td>7.2500</td>\n",
       "      <td>NaN</td>\n",
       "      <td>S</td>\n",
       "      <td>NaN</td>\n",
       "      <td>Mr.</td>\n",
       "    </tr>\n",
       "    <tr>\n",
       "      <th>1</th>\n",
       "      <td>2</td>\n",
       "      <td>1</td>\n",
       "      <td>11</td>\n",
       "      <td>Cumings, Mrs. John Bradley (Florence Briggs Th...</td>\n",
       "      <td>female</td>\n",
       "      <td>38.0</td>\n",
       "      <td>1</td>\n",
       "      <td>0</td>\n",
       "      <td>PC 17599</td>\n",
       "      <td>71.2833</td>\n",
       "      <td>C85</td>\n",
       "      <td>C</td>\n",
       "      <td>C</td>\n",
       "      <td>Mrs.</td>\n",
       "    </tr>\n",
       "    <tr>\n",
       "      <th>2</th>\n",
       "      <td>3</td>\n",
       "      <td>1</td>\n",
       "      <td>33</td>\n",
       "      <td>Heikkinen, Miss. Laina</td>\n",
       "      <td>female</td>\n",
       "      <td>26.0</td>\n",
       "      <td>0</td>\n",
       "      <td>0</td>\n",
       "      <td>STON/O2. 3101282</td>\n",
       "      <td>7.9250</td>\n",
       "      <td>NaN</td>\n",
       "      <td>S</td>\n",
       "      <td>NaN</td>\n",
       "      <td>Miss.</td>\n",
       "    </tr>\n",
       "    <tr>\n",
       "      <th>3</th>\n",
       "      <td>4</td>\n",
       "      <td>1</td>\n",
       "      <td>11</td>\n",
       "      <td>Futrelle, Mrs. Jacques Heath (Lily May Peel)</td>\n",
       "      <td>female</td>\n",
       "      <td>35.0</td>\n",
       "      <td>1</td>\n",
       "      <td>0</td>\n",
       "      <td>113803</td>\n",
       "      <td>53.1000</td>\n",
       "      <td>C123</td>\n",
       "      <td>S</td>\n",
       "      <td>C</td>\n",
       "      <td>Mrs.</td>\n",
       "    </tr>\n",
       "    <tr>\n",
       "      <th>4</th>\n",
       "      <td>5</td>\n",
       "      <td>0</td>\n",
       "      <td>33</td>\n",
       "      <td>Allen, Mr. William Henry</td>\n",
       "      <td>male</td>\n",
       "      <td>35.0</td>\n",
       "      <td>0</td>\n",
       "      <td>0</td>\n",
       "      <td>373450</td>\n",
       "      <td>8.0500</td>\n",
       "      <td>NaN</td>\n",
       "      <td>S</td>\n",
       "      <td>NaN</td>\n",
       "      <td>Mr.</td>\n",
       "    </tr>\n",
       "  </tbody>\n",
       "</table>\n",
       "</div>"
      ],
      "text/plain": [
       "   passengerid  survived  pclass  \\\n",
       "0            1         0      33   \n",
       "1            2         1      11   \n",
       "2            3         1      33   \n",
       "3            4         1      11   \n",
       "4            5         0      33   \n",
       "\n",
       "                                                name     sex   age  sibsp  \\\n",
       "0                            Braund, Mr. Owen Harris    male  22.0      1   \n",
       "1  Cumings, Mrs. John Bradley (Florence Briggs Th...  female  38.0      1   \n",
       "2                             Heikkinen, Miss. Laina  female  26.0      0   \n",
       "3       Futrelle, Mrs. Jacques Heath (Lily May Peel)  female  35.0      1   \n",
       "4                           Allen, Mr. William Henry    male  35.0      0   \n",
       "\n",
       "   parch            ticket     fare cabin embarked cabin2 name_title  \n",
       "0      0         A/5 21171   7.2500   NaN        S    NaN        Mr.  \n",
       "1      0          PC 17599  71.2833   C85        C      C       Mrs.  \n",
       "2      0  STON/O2. 3101282   7.9250   NaN        S    NaN      Miss.  \n",
       "3      0            113803  53.1000  C123        S      C       Mrs.  \n",
       "4      0            373450   8.0500   NaN        S    NaN        Mr.  "
      ]
     },
     "execution_count": 64,
     "metadata": {},
     "output_type": "execute_result"
    }
   ],
   "source": [
    "trc['pclass'].replace([1,2,3],[11,22,33],inplace=True) # 1,2,3을 11,22,33으로 바꿔라\n",
    "trc.head()"
   ]
  },
  {
   "cell_type": "markdown",
   "id": "b2d2db4f-1840-4d0c-bd93-83afb035ee9a",
   "metadata": {},
   "source": [
    "### map()\n",
    "    - 딕셔너리 정의 후 집어넣기"
   ]
  },
  {
   "cell_type": "code",
   "execution_count": 65,
   "id": "84d40d03-bd3a-4788-80d1-d68d82d0bdcf",
   "metadata": {
    "tags": []
   },
   "outputs": [
    {
     "data": {
      "text/html": [
       "<div>\n",
       "<style scoped>\n",
       "    .dataframe tbody tr th:only-of-type {\n",
       "        vertical-align: middle;\n",
       "    }\n",
       "\n",
       "    .dataframe tbody tr th {\n",
       "        vertical-align: top;\n",
       "    }\n",
       "\n",
       "    .dataframe thead th {\n",
       "        text-align: right;\n",
       "    }\n",
       "</style>\n",
       "<table border=\"1\" class=\"dataframe\">\n",
       "  <thead>\n",
       "    <tr style=\"text-align: right;\">\n",
       "      <th></th>\n",
       "      <th>passengerid</th>\n",
       "      <th>survived</th>\n",
       "      <th>pclass</th>\n",
       "      <th>name</th>\n",
       "      <th>sex</th>\n",
       "      <th>age</th>\n",
       "      <th>sibsp</th>\n",
       "      <th>parch</th>\n",
       "      <th>ticket</th>\n",
       "      <th>fare</th>\n",
       "      <th>cabin</th>\n",
       "      <th>embarked</th>\n",
       "      <th>cabin2</th>\n",
       "      <th>name_title</th>\n",
       "    </tr>\n",
       "  </thead>\n",
       "  <tbody>\n",
       "    <tr>\n",
       "      <th>888</th>\n",
       "      <td>889</td>\n",
       "      <td>0</td>\n",
       "      <td>33</td>\n",
       "      <td>Johnston, Miss. Catherine Helen \"Carrie\"</td>\n",
       "      <td>0</td>\n",
       "      <td>NaN</td>\n",
       "      <td>1</td>\n",
       "      <td>2</td>\n",
       "      <td>W./C. 6607</td>\n",
       "      <td>23.45</td>\n",
       "      <td>NaN</td>\n",
       "      <td>S</td>\n",
       "      <td>NaN</td>\n",
       "      <td>Miss.</td>\n",
       "    </tr>\n",
       "    <tr>\n",
       "      <th>889</th>\n",
       "      <td>890</td>\n",
       "      <td>1</td>\n",
       "      <td>11</td>\n",
       "      <td>Behr, Mr. Karl Howell</td>\n",
       "      <td>1</td>\n",
       "      <td>26.0</td>\n",
       "      <td>0</td>\n",
       "      <td>0</td>\n",
       "      <td>111369</td>\n",
       "      <td>30.00</td>\n",
       "      <td>C148</td>\n",
       "      <td>C</td>\n",
       "      <td>C</td>\n",
       "      <td>Mr.</td>\n",
       "    </tr>\n",
       "    <tr>\n",
       "      <th>890</th>\n",
       "      <td>891</td>\n",
       "      <td>0</td>\n",
       "      <td>33</td>\n",
       "      <td>Dooley, Mr. Patrick</td>\n",
       "      <td>1</td>\n",
       "      <td>32.0</td>\n",
       "      <td>0</td>\n",
       "      <td>0</td>\n",
       "      <td>370376</td>\n",
       "      <td>7.75</td>\n",
       "      <td>NaN</td>\n",
       "      <td>Q</td>\n",
       "      <td>NaN</td>\n",
       "      <td>Mr.</td>\n",
       "    </tr>\n",
       "  </tbody>\n",
       "</table>\n",
       "</div>"
      ],
      "text/plain": [
       "     passengerid  survived  pclass                                      name  \\\n",
       "888          889         0      33  Johnston, Miss. Catherine Helen \"Carrie\"   \n",
       "889          890         1      11                     Behr, Mr. Karl Howell   \n",
       "890          891         0      33                       Dooley, Mr. Patrick   \n",
       "\n",
       "     sex   age  sibsp  parch      ticket   fare cabin embarked cabin2  \\\n",
       "888    0   NaN      1      2  W./C. 6607  23.45   NaN        S    NaN   \n",
       "889    1  26.0      0      0      111369  30.00  C148        C      C   \n",
       "890    1  32.0      0      0      370376   7.75   NaN        Q    NaN   \n",
       "\n",
       "    name_title  \n",
       "888      Miss.  \n",
       "889        Mr.  \n",
       "890        Mr.  "
      ]
     },
     "execution_count": 65,
     "metadata": {},
     "output_type": "execute_result"
    }
   ],
   "source": [
    "dic = {'male':1, 'female':0} #원본값을 새 값으로 바꿔주는 딕셔너리\n",
    "\n",
    "trc['sex'] = trc['sex'].map(dic)\n",
    "\n",
    "trc.tail(3)"
   ]
  },
  {
   "cell_type": "markdown",
   "id": "e00f4c97-fbc4-4692-9331-5620f9a4e245",
   "metadata": {},
   "source": [
    "### apply(Lambda)\n",
    "    -람다를 이용해 한 줄 함수 사용하기"
   ]
  },
  {
   "cell_type": "code",
   "execution_count": 66,
   "id": "dc889ae7-be12-4160-949d-3a5d17bb8284",
   "metadata": {
    "tags": []
   },
   "outputs": [],
   "source": [
    "trc['sex'] = trc['sex'].apply(lambda x : 'male' if x == 1 else 'female')"
   ]
  },
  {
   "cell_type": "code",
   "execution_count": 67,
   "id": "50bac7b0-c3e9-49ad-a6ce-7fdc34c2377f",
   "metadata": {},
   "outputs": [],
   "source": [
    "# if x ==1 :\n",
    "#     male\n",
    "# else :\n",
    "#     female 를 람다식으로 올려준다."
   ]
  },
  {
   "cell_type": "code",
   "execution_count": 68,
   "id": "4284b7d4-a7cb-4d1e-84ae-09effe641fb7",
   "metadata": {
    "tags": []
   },
   "outputs": [
    {
     "data": {
      "text/plain": [
       "888    female\n",
       "889      male\n",
       "890      male\n",
       "Name: sex, dtype: object"
      ]
     },
     "execution_count": 68,
     "metadata": {},
     "output_type": "execute_result"
    }
   ],
   "source": [
    "trc['sex'].tail(3)"
   ]
  },
  {
   "cell_type": "code",
   "execution_count": 69,
   "id": "523cdd70-0add-48c8-aec1-40c8552d647f",
   "metadata": {},
   "outputs": [],
   "source": [
    "# iloc, loc 변경\n",
    "# df.iloc[줄,칸]"
   ]
  },
  {
   "cell_type": "markdown",
   "id": "af75c6a6-67cb-4865-b831-38819bdc53ca",
   "metadata": {
    "tags": []
   },
   "source": [
    "<pre>\n",
    "마드모아젤 : 어린 여자아이 = miss\n",
    "ms 결혼여부: miss\n",
    "Lady : miss\n",
    "\n",
    "#-------------------------#\n",
    "\n",
    "Mme : 마담 Mrs\n",
    "countness 백작부인 : mrs\n",
    "\n",
    "#--------------------------#\n",
    "\n",
    "sir 백작, 선생님 : mr\n",
    "capt 해군, 선생님, 공군 : mr\n",
    "Rev : 목사 -> Mr\n",
    "Major : 미군 Mr\n",
    "col : 육군 대령 Mr\n",
    "don 중남미 남성 호칭 : Mr\n",
    "jonkheer 무작위 귀족 : Mr\n",
    "\n",
    "Master , dr : 선생님, 의사는 유추 애매..\n",
    "</pre>"
   ]
  },
  {
   "cell_type": "markdown",
   "id": "6fcf13a6-c4af-4340-a8c7-3248373dff8f",
   "metadata": {
    "tags": []
   },
   "source": [
    " * mr로 변경하기"
   ]
  },
  {
   "cell_type": "code",
   "execution_count": 70,
   "id": "08b933b2-5632-45b0-9f81-e8f757c256f6",
   "metadata": {
    "tags": []
   },
   "outputs": [],
   "source": [
    "# trc['name_title'].replace(['Sir.','Capt.','Rev.','Major.','Col.','Don.','Jonkheer.'],['Mr','Mr.','Mr.','Mr.','Mr.','Mr.','Mr.'],inplace=True)\n",
    "\n",
    "# trc.tail(10)"
   ]
  },
  {
   "cell_type": "code",
   "execution_count": 71,
   "id": "f8826dbf-1fbd-4b5b-8b8d-fd5f62af653d",
   "metadata": {
    "tags": []
   },
   "outputs": [],
   "source": [
    "# dic2 = {'Mlle.':'Miss.', 'Countness.':'Miss.','Ms.':'Miss.'}\n",
    "\n",
    "# trc['name_title'] = trc['name_title'].map(dic2)\n",
    "\n",
    "# trc.head()"
   ]
  },
  {
   "cell_type": "code",
   "execution_count": 72,
   "id": "58602d96-d509-4e5f-bbda-46206d7346d6",
   "metadata": {
    "tags": []
   },
   "outputs": [
    {
     "data": {
      "text/plain": [
       "Mr.          517\n",
       "Miss.        182\n",
       "Mrs.         125\n",
       "Master.       40\n",
       "Dr.            7\n",
       "Rev.           6\n",
       "Mlle.          2\n",
       "Major.         2\n",
       "Col.           2\n",
       "Countess.      1\n",
       "Capt.          1\n",
       "Ms.            1\n",
       "Sir.           1\n",
       "Lady.          1\n",
       "Mme.           1\n",
       "Don.           1\n",
       "Jonkheer.      1\n",
       "Name: name_title, dtype: int64"
      ]
     },
     "execution_count": 72,
     "metadata": {},
     "output_type": "execute_result"
    }
   ],
   "source": [
    "trc['name_title'].value_counts()"
   ]
  },
  {
   "cell_type": "code",
   "execution_count": 73,
   "id": "b0fa15b6-6d2e-4fb6-8dfb-4a6e7c70bfd0",
   "metadata": {
    "tags": []
   },
   "outputs": [],
   "source": [
    "dic = {  'Mr.':'Mr.',\n",
    "         'Rev.':'Mr.',\n",
    "         'Don.':'Mr.',\n",
    "         'Jonkheer.':'Mr.',\n",
    "         'Major.':'Mr.',\n",
    "         'Col.':'Mr.',\n",
    "         'Capt.':'Mr.',\n",
    "         'Sir.':'Mr.',\n",
    "        'Countess.':'Mrs.',\n",
    "       'Mme.':'Mrs.',\n",
    "       'Mlle.':'Miss.', \n",
    "       'Ms.':'Miss.', \n",
    "       'Lady.':'Miss.',\n",
    "       'Dr.' :'Dr.',\n",
    "       'Master.':'Master.',\n",
    "       'Miss.':'Miss.',\n",
    "       'Mrs.':'Mrs.',\n",
    "       'Mr.':'Mr.'\n",
    "        }\n",
    "tr['name_title'] = tr['name_title'].map(dic)\n",
    "# tr[['name_title','name_title2']][ tr['name_title']=='Major.'].head()"
   ]
  },
  {
   "cell_type": "code",
   "execution_count": 74,
   "id": "207903d3-60ca-4c7e-8162-716b649929f6",
   "metadata": {
    "tags": []
   },
   "outputs": [
    {
     "data": {
      "text/plain": [
       "Mr.          517\n",
       "Miss.        182\n",
       "Mrs.         125\n",
       "Master.       40\n",
       "Dr.            7\n",
       "Rev.           6\n",
       "Mlle.          2\n",
       "Major.         2\n",
       "Col.           2\n",
       "Countess.      1\n",
       "Capt.          1\n",
       "Ms.            1\n",
       "Sir.           1\n",
       "Lady.          1\n",
       "Mme.           1\n",
       "Don.           1\n",
       "Jonkheer.      1\n",
       "Name: name_title, dtype: int64"
      ]
     },
     "execution_count": 74,
     "metadata": {},
     "output_type": "execute_result"
    }
   ],
   "source": [
    "trc['name_title'].value_counts()"
   ]
  },
  {
   "cell_type": "code",
   "execution_count": 75,
   "id": "f5858972-3d87-48d4-9e41-91b17d21bb1d",
   "metadata": {
    "tags": []
   },
   "outputs": [],
   "source": [
    "# trc['name_title2']  = trc['name_title'].replace(['Countess.','Mme.'],['Mrs.', 'Mrs.'])\n",
    "# trc[['name_title','name_title2']][ trc['name_title']=='Mme.'].head()"
   ]
  },
  {
   "cell_type": "code",
   "execution_count": 76,
   "id": "07be1bc7-76b5-463d-8c8e-80519aa541b9",
   "metadata": {
    "tags": []
   },
   "outputs": [],
   "source": [
    "# trc['name_title2']  = trc['name_title'].apply(lambda x : 'Miss.' if x in ('Mlle.', 'Ms.', 'Lady.') else x )\n",
    "# trc[['name_title','name_title2']][ trc['name_title']=='Ms.'].head()"
   ]
  },
  {
   "cell_type": "code",
   "execution_count": 77,
   "id": "6f82c025-0514-41f5-9018-cfd5230a6d0b",
   "metadata": {
    "tags": []
   },
   "outputs": [
    {
     "data": {
      "text/plain": [
       "0"
      ]
     },
     "execution_count": 77,
     "metadata": {},
     "output_type": "execute_result"
    }
   ],
   "source": [
    "tr['name_title'].isna().sum()"
   ]
  },
  {
   "cell_type": "code",
   "execution_count": 78,
   "id": "5304e156-70bc-4955-a130-d7a7521e2c07",
   "metadata": {
    "tags": []
   },
   "outputs": [
    {
     "data": {
      "text/plain": [
       "Mr.        531\n",
       "Miss.      186\n",
       "Mrs.       127\n",
       "Master.     40\n",
       "Dr.          7\n",
       "Name: name_title, dtype: int64"
      ]
     },
     "execution_count": 78,
     "metadata": {},
     "output_type": "execute_result"
    }
   ],
   "source": [
    "tr['name_title'].value_counts()"
   ]
  },
  {
   "cell_type": "code",
   "execution_count": 79,
   "id": "070baa17-2b02-40f4-95e2-fc4d0ab84286",
   "metadata": {
    "tags": []
   },
   "outputs": [
    {
     "data": {
      "text/html": [
       "<div>\n",
       "<style scoped>\n",
       "    .dataframe tbody tr th:only-of-type {\n",
       "        vertical-align: middle;\n",
       "    }\n",
       "\n",
       "    .dataframe tbody tr th {\n",
       "        vertical-align: top;\n",
       "    }\n",
       "\n",
       "    .dataframe thead th {\n",
       "        text-align: right;\n",
       "    }\n",
       "</style>\n",
       "<table border=\"1\" class=\"dataframe\">\n",
       "  <thead>\n",
       "    <tr style=\"text-align: right;\">\n",
       "      <th></th>\n",
       "      <th>passengerid</th>\n",
       "      <th>survived</th>\n",
       "      <th>pclass</th>\n",
       "      <th>sex</th>\n",
       "      <th>age</th>\n",
       "      <th>sibsp</th>\n",
       "      <th>parch</th>\n",
       "      <th>ticket</th>\n",
       "      <th>fare</th>\n",
       "      <th>cabin</th>\n",
       "      <th>embarked</th>\n",
       "      <th>cabin2</th>\n",
       "      <th>name_title</th>\n",
       "    </tr>\n",
       "  </thead>\n",
       "  <tbody>\n",
       "    <tr>\n",
       "      <th>0</th>\n",
       "      <td>1</td>\n",
       "      <td>0</td>\n",
       "      <td>3</td>\n",
       "      <td>male</td>\n",
       "      <td>22.0</td>\n",
       "      <td>1</td>\n",
       "      <td>0</td>\n",
       "      <td>A/5 21171</td>\n",
       "      <td>7.2500</td>\n",
       "      <td>NaN</td>\n",
       "      <td>S</td>\n",
       "      <td>NaN</td>\n",
       "      <td>Mr.</td>\n",
       "    </tr>\n",
       "    <tr>\n",
       "      <th>1</th>\n",
       "      <td>2</td>\n",
       "      <td>1</td>\n",
       "      <td>1</td>\n",
       "      <td>female</td>\n",
       "      <td>38.0</td>\n",
       "      <td>1</td>\n",
       "      <td>0</td>\n",
       "      <td>PC 17599</td>\n",
       "      <td>71.2833</td>\n",
       "      <td>C85</td>\n",
       "      <td>C</td>\n",
       "      <td>C</td>\n",
       "      <td>Mrs.</td>\n",
       "    </tr>\n",
       "    <tr>\n",
       "      <th>2</th>\n",
       "      <td>3</td>\n",
       "      <td>1</td>\n",
       "      <td>3</td>\n",
       "      <td>female</td>\n",
       "      <td>26.0</td>\n",
       "      <td>0</td>\n",
       "      <td>0</td>\n",
       "      <td>STON/O2. 3101282</td>\n",
       "      <td>7.9250</td>\n",
       "      <td>NaN</td>\n",
       "      <td>S</td>\n",
       "      <td>NaN</td>\n",
       "      <td>Miss.</td>\n",
       "    </tr>\n",
       "    <tr>\n",
       "      <th>3</th>\n",
       "      <td>4</td>\n",
       "      <td>1</td>\n",
       "      <td>1</td>\n",
       "      <td>female</td>\n",
       "      <td>35.0</td>\n",
       "      <td>1</td>\n",
       "      <td>0</td>\n",
       "      <td>113803</td>\n",
       "      <td>53.1000</td>\n",
       "      <td>C123</td>\n",
       "      <td>S</td>\n",
       "      <td>C</td>\n",
       "      <td>Mrs.</td>\n",
       "    </tr>\n",
       "    <tr>\n",
       "      <th>4</th>\n",
       "      <td>5</td>\n",
       "      <td>0</td>\n",
       "      <td>3</td>\n",
       "      <td>male</td>\n",
       "      <td>35.0</td>\n",
       "      <td>0</td>\n",
       "      <td>0</td>\n",
       "      <td>373450</td>\n",
       "      <td>8.0500</td>\n",
       "      <td>NaN</td>\n",
       "      <td>S</td>\n",
       "      <td>NaN</td>\n",
       "      <td>Mr.</td>\n",
       "    </tr>\n",
       "    <tr>\n",
       "      <th>...</th>\n",
       "      <td>...</td>\n",
       "      <td>...</td>\n",
       "      <td>...</td>\n",
       "      <td>...</td>\n",
       "      <td>...</td>\n",
       "      <td>...</td>\n",
       "      <td>...</td>\n",
       "      <td>...</td>\n",
       "      <td>...</td>\n",
       "      <td>...</td>\n",
       "      <td>...</td>\n",
       "      <td>...</td>\n",
       "      <td>...</td>\n",
       "    </tr>\n",
       "    <tr>\n",
       "      <th>886</th>\n",
       "      <td>887</td>\n",
       "      <td>0</td>\n",
       "      <td>2</td>\n",
       "      <td>male</td>\n",
       "      <td>27.0</td>\n",
       "      <td>0</td>\n",
       "      <td>0</td>\n",
       "      <td>211536</td>\n",
       "      <td>13.0000</td>\n",
       "      <td>NaN</td>\n",
       "      <td>S</td>\n",
       "      <td>NaN</td>\n",
       "      <td>Mr.</td>\n",
       "    </tr>\n",
       "    <tr>\n",
       "      <th>887</th>\n",
       "      <td>888</td>\n",
       "      <td>1</td>\n",
       "      <td>1</td>\n",
       "      <td>female</td>\n",
       "      <td>19.0</td>\n",
       "      <td>0</td>\n",
       "      <td>0</td>\n",
       "      <td>112053</td>\n",
       "      <td>30.0000</td>\n",
       "      <td>B42</td>\n",
       "      <td>S</td>\n",
       "      <td>B</td>\n",
       "      <td>Miss.</td>\n",
       "    </tr>\n",
       "    <tr>\n",
       "      <th>888</th>\n",
       "      <td>889</td>\n",
       "      <td>0</td>\n",
       "      <td>3</td>\n",
       "      <td>female</td>\n",
       "      <td>NaN</td>\n",
       "      <td>1</td>\n",
       "      <td>2</td>\n",
       "      <td>W./C. 6607</td>\n",
       "      <td>23.4500</td>\n",
       "      <td>NaN</td>\n",
       "      <td>S</td>\n",
       "      <td>NaN</td>\n",
       "      <td>Miss.</td>\n",
       "    </tr>\n",
       "    <tr>\n",
       "      <th>889</th>\n",
       "      <td>890</td>\n",
       "      <td>1</td>\n",
       "      <td>1</td>\n",
       "      <td>male</td>\n",
       "      <td>26.0</td>\n",
       "      <td>0</td>\n",
       "      <td>0</td>\n",
       "      <td>111369</td>\n",
       "      <td>30.0000</td>\n",
       "      <td>C148</td>\n",
       "      <td>C</td>\n",
       "      <td>C</td>\n",
       "      <td>Mr.</td>\n",
       "    </tr>\n",
       "    <tr>\n",
       "      <th>890</th>\n",
       "      <td>891</td>\n",
       "      <td>0</td>\n",
       "      <td>3</td>\n",
       "      <td>male</td>\n",
       "      <td>32.0</td>\n",
       "      <td>0</td>\n",
       "      <td>0</td>\n",
       "      <td>370376</td>\n",
       "      <td>7.7500</td>\n",
       "      <td>NaN</td>\n",
       "      <td>Q</td>\n",
       "      <td>NaN</td>\n",
       "      <td>Mr.</td>\n",
       "    </tr>\n",
       "  </tbody>\n",
       "</table>\n",
       "<p>891 rows × 13 columns</p>\n",
       "</div>"
      ],
      "text/plain": [
       "     passengerid  survived  pclass     sex   age  sibsp  parch  \\\n",
       "0              1         0       3    male  22.0      1      0   \n",
       "1              2         1       1  female  38.0      1      0   \n",
       "2              3         1       3  female  26.0      0      0   \n",
       "3              4         1       1  female  35.0      1      0   \n",
       "4              5         0       3    male  35.0      0      0   \n",
       "..           ...       ...     ...     ...   ...    ...    ...   \n",
       "886          887         0       2    male  27.0      0      0   \n",
       "887          888         1       1  female  19.0      0      0   \n",
       "888          889         0       3  female   NaN      1      2   \n",
       "889          890         1       1    male  26.0      0      0   \n",
       "890          891         0       3    male  32.0      0      0   \n",
       "\n",
       "               ticket     fare cabin embarked cabin2 name_title  \n",
       "0           A/5 21171   7.2500   NaN        S    NaN        Mr.  \n",
       "1            PC 17599  71.2833   C85        C      C       Mrs.  \n",
       "2    STON/O2. 3101282   7.9250   NaN        S    NaN      Miss.  \n",
       "3              113803  53.1000  C123        S      C       Mrs.  \n",
       "4              373450   8.0500   NaN        S    NaN        Mr.  \n",
       "..                ...      ...   ...      ...    ...        ...  \n",
       "886            211536  13.0000   NaN        S    NaN        Mr.  \n",
       "887            112053  30.0000   B42        S      B      Miss.  \n",
       "888        W./C. 6607  23.4500   NaN        S    NaN      Miss.  \n",
       "889            111369  30.0000  C148        C      C        Mr.  \n",
       "890            370376   7.7500   NaN        Q    NaN        Mr.  \n",
       "\n",
       "[891 rows x 13 columns]"
      ]
     },
     "execution_count": 79,
     "metadata": {},
     "output_type": "execute_result"
    }
   ],
   "source": [
    "#필요없는 자료값 지우기(정제되기 전의 name)\n",
    "\n",
    "tr.drop('name',axis = 1)"
   ]
  },
  {
   "cell_type": "markdown",
   "id": "56c16321-a815-42cb-9f35-3f5a9f88bf6c",
   "metadata": {},
   "source": [
    "### apply vs transform"
   ]
  },
  {
   "cell_type": "markdown",
   "id": "e32e0584-c9d1-42da-9d93-5edc9f9df5fb",
   "metadata": {
    "tags": []
   },
   "source": [
    "<table style=\"border-collapse: collapse; width: 100%;\" border=\"1\">\n",
    "<tbody>\n",
    "<tr>\n",
    "<td style=\"width: 33.3333%;\">&nbsp;</td>\n",
    "<td style=\"width: 33.3333%; text-align: center;\"><b>apply</b></td>\n",
    "<td style=\"width: 33.3333%; text-align: center;\"><b>transform</b></td>\n",
    "</tr>\n",
    "<tr>\n",
    "<td style=\"width: 33.3333%; text-align: center;\"><br><b>[공통]</b><br><br></td>\n",
    "<td style=\"width: 66.6666%; text-align: center;\" colspan=\"2\">컬럼명을 메서드 밖에서 명시하면 결과는 같게 나온다.</td>\n",
    "</tr>\n",
    "<tr>\n",
    "<td style=\"width: 33.3333%; text-align: center;\"><b>[차이1]</b><br><br><b>컬럼명을 메서드 안에서 명시하면</b></td>\n",
    "<td style=\"width: 33.3333%; text-align: center;\">그룹별 시리즈 리턴</td>\n",
    "<td style=\"width: 33.3333%; text-align: center;\">에러</td>\n",
    "</tr>\n",
    "<tr>\n",
    "<td style=\"width: 33.3333%; text-align: center;\"><b><span style=\"color: #333333;\">[차이2]<br></span></b><br><b><span style=\"color: #333333;\">컬럼명을 메서드 안과 밖에 <br>모두 명시하지 않는다면</span></b></td>\n",
    "<td style=\"width: 33.3333%; text-align: center;\">기존 데이터의 자료형과 함수가<br><br><u>연산 가능해야만 실행</u>된다.</td>\n",
    "<td style=\"width: 33.3333%; text-align: center;\"><u>연산 가능한 컬럼만 알아서</u><br><br><u>필터링</u>되어 결과가 나온다.</td>\n",
    "</tr>\n",
    "<tr>\n",
    "<td style=\"width: 33.3333%; text-align: center;\"><b><span style=\"color: #333333;\"><span style=\"color: #333333;\">[★차이3★]<br></span><br><span style=\"color: #333333;\">연산 가능한 컬럼만 함수 적용한다면</span></span></b></td>\n",
    "    <td style=\"width: 33.3333%; text-align: center;\"><u><b>그룹별 데이터프레임</b></u> 출력<br><br>(멀티인덱스)</td>\n",
    "<td style=\"width: 33.3333%; text-align: center;\"><u><b>기존 인덱스</u> 유지</b></td>\n",
    "</tr>\n",
    "</tbody>\n",
    "</table>"
   ]
  },
  {
   "cell_type": "markdown",
   "id": "cbdd3be7-5b95-46bb-a416-60cd7fca28f9",
   "metadata": {
    "tags": []
   },
   "source": [
    "#### 컬럼명을 매서드 밖에서 명시"
   ]
  },
  {
   "cell_type": "markdown",
   "id": "68ff3855-8928-429b-a2b5-01eec257558f",
   "metadata": {},
   "source": [
    "* 연습하기"
   ]
  },
  {
   "cell_type": "code",
   "execution_count": 80,
   "id": "7a5204fb-d6b5-4ba0-929c-594383377fa5",
   "metadata": {
    "tags": []
   },
   "outputs": [
    {
     "data": {
      "text/html": [
       "<div>\n",
       "<style scoped>\n",
       "    .dataframe tbody tr th:only-of-type {\n",
       "        vertical-align: middle;\n",
       "    }\n",
       "\n",
       "    .dataframe tbody tr th {\n",
       "        vertical-align: top;\n",
       "    }\n",
       "\n",
       "    .dataframe thead th {\n",
       "        text-align: right;\n",
       "    }\n",
       "</style>\n",
       "<table border=\"1\" class=\"dataframe\">\n",
       "  <thead>\n",
       "    <tr style=\"text-align: right;\">\n",
       "      <th></th>\n",
       "      <th>empno</th>\n",
       "      <th>ename</th>\n",
       "      <th>job</th>\n",
       "      <th>mgr</th>\n",
       "      <th>hiredate</th>\n",
       "      <th>sal</th>\n",
       "      <th>comm</th>\n",
       "      <th>deptno</th>\n",
       "    </tr>\n",
       "  </thead>\n",
       "  <tbody>\n",
       "    <tr>\n",
       "      <th>0</th>\n",
       "      <td>7369</td>\n",
       "      <td>SMITH</td>\n",
       "      <td>CLERK</td>\n",
       "      <td>7902.0</td>\n",
       "      <td>1980-12-17 00:00:00</td>\n",
       "      <td>800</td>\n",
       "      <td>NaN</td>\n",
       "      <td>20</td>\n",
       "    </tr>\n",
       "    <tr>\n",
       "      <th>1</th>\n",
       "      <td>7499</td>\n",
       "      <td>ALLEN</td>\n",
       "      <td>SALESMAN</td>\n",
       "      <td>7698.0</td>\n",
       "      <td>1981-02-20 00:00:00</td>\n",
       "      <td>1600</td>\n",
       "      <td>300.0</td>\n",
       "      <td>30</td>\n",
       "    </tr>\n",
       "  </tbody>\n",
       "</table>\n",
       "</div>"
      ],
      "text/plain": [
       "   empno  ename       job     mgr             hiredate   sal   comm  deptno\n",
       "0   7369  SMITH     CLERK  7902.0  1980-12-17 00:00:00   800    NaN      20\n",
       "1   7499  ALLEN  SALESMAN  7698.0  1981-02-20 00:00:00  1600  300.0      30"
      ]
     },
     "execution_count": 80,
     "metadata": {},
     "output_type": "execute_result"
    }
   ],
   "source": [
    "emp = pd.read_csv(\"../lec08_emp.csv\")\n",
    "emp.columns = emp.columns.str.lower()\n",
    "emp.head(2)"
   ]
  },
  {
   "cell_type": "code",
   "execution_count": 81,
   "id": "295a0564-40b2-44b3-90b4-d81767c76281",
   "metadata": {
    "tags": []
   },
   "outputs": [
    {
     "data": {
      "text/plain": [
       "deptno\n",
       "10    2916.666667\n",
       "20    2175.000000\n",
       "30    1566.666667\n",
       "Name: sal, dtype: float64"
      ]
     },
     "execution_count": 81,
     "metadata": {},
     "output_type": "execute_result"
    }
   ],
   "source": [
    "# 부서별 그룹화 후 급여의 평균값 조회\n",
    "\n",
    "emp.groupby('deptno')['sal'].mean()"
   ]
  },
  {
   "cell_type": "code",
   "execution_count": 82,
   "id": "60814742-2fa4-419f-a12d-e673fb255478",
   "metadata": {
    "tags": []
   },
   "outputs": [
    {
     "data": {
      "text/plain": [
       "6     2450\n",
       "8     5000\n",
       "13    1300\n",
       "Name: sal, dtype: int64"
      ]
     },
     "execution_count": 82,
     "metadata": {},
     "output_type": "execute_result"
    }
   ],
   "source": [
    "# 부서번호 10번의 급여 조회\n",
    "\n",
    "emp['sal'][emp['deptno']==10]"
   ]
  },
  {
   "cell_type": "code",
   "execution_count": 83,
   "id": "16187f0a-5768-4d21-8932-dea650cc543f",
   "metadata": {
    "tags": []
   },
   "outputs": [
    {
     "data": {
      "text/html": [
       "<div>\n",
       "<style scoped>\n",
       "    .dataframe tbody tr th:only-of-type {\n",
       "        vertical-align: middle;\n",
       "    }\n",
       "\n",
       "    .dataframe tbody tr th {\n",
       "        vertical-align: top;\n",
       "    }\n",
       "\n",
       "    .dataframe thead th {\n",
       "        text-align: right;\n",
       "    }\n",
       "</style>\n",
       "<table border=\"1\" class=\"dataframe\">\n",
       "  <thead>\n",
       "    <tr style=\"text-align: right;\">\n",
       "      <th></th>\n",
       "      <th>empno</th>\n",
       "      <th>mgr</th>\n",
       "      <th>sal</th>\n",
       "      <th>comm</th>\n",
       "      <th>deptno</th>\n",
       "    </tr>\n",
       "    <tr>\n",
       "      <th>deptno</th>\n",
       "      <th></th>\n",
       "      <th></th>\n",
       "      <th></th>\n",
       "      <th></th>\n",
       "      <th></th>\n",
       "    </tr>\n",
       "  </thead>\n",
       "  <tbody>\n",
       "    <tr>\n",
       "      <th>10</th>\n",
       "      <td>7851.666667</td>\n",
       "      <td>7810.5</td>\n",
       "      <td>2916.666667</td>\n",
       "      <td>NaN</td>\n",
       "      <td>10.0</td>\n",
       "    </tr>\n",
       "    <tr>\n",
       "      <th>20</th>\n",
       "      <td>7700.200000</td>\n",
       "      <td>7732.2</td>\n",
       "      <td>2175.000000</td>\n",
       "      <td>NaN</td>\n",
       "      <td>20.0</td>\n",
       "    </tr>\n",
       "    <tr>\n",
       "      <th>30</th>\n",
       "      <td>7686.000000</td>\n",
       "      <td>7721.5</td>\n",
       "      <td>1566.666667</td>\n",
       "      <td>550.0</td>\n",
       "      <td>30.0</td>\n",
       "    </tr>\n",
       "  </tbody>\n",
       "</table>\n",
       "</div>"
      ],
      "text/plain": [
       "              empno     mgr          sal   comm  deptno\n",
       "deptno                                                 \n",
       "10      7851.666667  7810.5  2916.666667    NaN    10.0\n",
       "20      7700.200000  7732.2  2175.000000    NaN    20.0\n",
       "30      7686.000000  7721.5  1566.666667  550.0    30.0"
      ]
     },
     "execution_count": 83,
     "metadata": {},
     "output_type": "execute_result"
    }
   ],
   "source": [
    "#부서별 그룹화해서 평균을 보여줘라\n",
    "# 원본 데이터 모양을 자동으로 변형해 필요한 정보만 보여준다.\n",
    "# apply는 연산이 안되는 컬럼이 있으면 에러를 낸다.\n",
    "\n",
    "\n",
    "emp.groupby('deptno').apply(np.mean)"
   ]
  },
  {
   "cell_type": "code",
   "execution_count": 84,
   "id": "864bad33-04ee-49c2-b72a-fcc5298c9468",
   "metadata": {
    "tags": []
   },
   "outputs": [
    {
     "data": {
      "text/plain": [
       "deptno\n",
       "10    2916.666667\n",
       "20    2175.000000\n",
       "30    1566.666667\n",
       "Name: sal, dtype: float64"
      ]
     },
     "execution_count": 84,
     "metadata": {},
     "output_type": "execute_result"
    }
   ],
   "source": [
    "#부서 그룹화의 sal컬럼만 보고싶을 때\n",
    "\n",
    "emp.groupby('deptno')['sal'].apply(np.mean)"
   ]
  },
  {
   "cell_type": "code",
   "execution_count": 85,
   "id": "05c27587-5a5d-44df-9604-f37c38185bc9",
   "metadata": {
    "tags": []
   },
   "outputs": [
    {
     "data": {
      "text/html": [
       "<div>\n",
       "<style scoped>\n",
       "    .dataframe tbody tr th:only-of-type {\n",
       "        vertical-align: middle;\n",
       "    }\n",
       "\n",
       "    .dataframe tbody tr th {\n",
       "        vertical-align: top;\n",
       "    }\n",
       "\n",
       "    .dataframe thead th {\n",
       "        text-align: right;\n",
       "    }\n",
       "</style>\n",
       "<table border=\"1\" class=\"dataframe\">\n",
       "  <thead>\n",
       "    <tr style=\"text-align: right;\">\n",
       "      <th></th>\n",
       "      <th>empno</th>\n",
       "      <th>mgr</th>\n",
       "      <th>sal</th>\n",
       "      <th>comm</th>\n",
       "    </tr>\n",
       "  </thead>\n",
       "  <tbody>\n",
       "    <tr>\n",
       "      <th>0</th>\n",
       "      <td>7700.200000</td>\n",
       "      <td>7732.2</td>\n",
       "      <td>2175.000000</td>\n",
       "      <td>NaN</td>\n",
       "    </tr>\n",
       "    <tr>\n",
       "      <th>1</th>\n",
       "      <td>7686.000000</td>\n",
       "      <td>7721.5</td>\n",
       "      <td>1566.666667</td>\n",
       "      <td>550.0</td>\n",
       "    </tr>\n",
       "    <tr>\n",
       "      <th>2</th>\n",
       "      <td>7686.000000</td>\n",
       "      <td>7721.5</td>\n",
       "      <td>1566.666667</td>\n",
       "      <td>550.0</td>\n",
       "    </tr>\n",
       "    <tr>\n",
       "      <th>3</th>\n",
       "      <td>7700.200000</td>\n",
       "      <td>7732.2</td>\n",
       "      <td>2175.000000</td>\n",
       "      <td>NaN</td>\n",
       "    </tr>\n",
       "    <tr>\n",
       "      <th>4</th>\n",
       "      <td>7686.000000</td>\n",
       "      <td>7721.5</td>\n",
       "      <td>1566.666667</td>\n",
       "      <td>550.0</td>\n",
       "    </tr>\n",
       "    <tr>\n",
       "      <th>5</th>\n",
       "      <td>7686.000000</td>\n",
       "      <td>7721.5</td>\n",
       "      <td>1566.666667</td>\n",
       "      <td>550.0</td>\n",
       "    </tr>\n",
       "    <tr>\n",
       "      <th>6</th>\n",
       "      <td>7851.666667</td>\n",
       "      <td>7810.5</td>\n",
       "      <td>2916.666667</td>\n",
       "      <td>NaN</td>\n",
       "    </tr>\n",
       "    <tr>\n",
       "      <th>7</th>\n",
       "      <td>7700.200000</td>\n",
       "      <td>7732.2</td>\n",
       "      <td>2175.000000</td>\n",
       "      <td>NaN</td>\n",
       "    </tr>\n",
       "    <tr>\n",
       "      <th>8</th>\n",
       "      <td>7851.666667</td>\n",
       "      <td>7810.5</td>\n",
       "      <td>2916.666667</td>\n",
       "      <td>NaN</td>\n",
       "    </tr>\n",
       "    <tr>\n",
       "      <th>9</th>\n",
       "      <td>7686.000000</td>\n",
       "      <td>7721.5</td>\n",
       "      <td>1566.666667</td>\n",
       "      <td>550.0</td>\n",
       "    </tr>\n",
       "    <tr>\n",
       "      <th>10</th>\n",
       "      <td>7700.200000</td>\n",
       "      <td>7732.2</td>\n",
       "      <td>2175.000000</td>\n",
       "      <td>NaN</td>\n",
       "    </tr>\n",
       "    <tr>\n",
       "      <th>11</th>\n",
       "      <td>7686.000000</td>\n",
       "      <td>7721.5</td>\n",
       "      <td>1566.666667</td>\n",
       "      <td>550.0</td>\n",
       "    </tr>\n",
       "    <tr>\n",
       "      <th>12</th>\n",
       "      <td>7700.200000</td>\n",
       "      <td>7732.2</td>\n",
       "      <td>2175.000000</td>\n",
       "      <td>NaN</td>\n",
       "    </tr>\n",
       "    <tr>\n",
       "      <th>13</th>\n",
       "      <td>7851.666667</td>\n",
       "      <td>7810.5</td>\n",
       "      <td>2916.666667</td>\n",
       "      <td>NaN</td>\n",
       "    </tr>\n",
       "  </tbody>\n",
       "</table>\n",
       "</div>"
      ],
      "text/plain": [
       "          empno     mgr          sal   comm\n",
       "0   7700.200000  7732.2  2175.000000    NaN\n",
       "1   7686.000000  7721.5  1566.666667  550.0\n",
       "2   7686.000000  7721.5  1566.666667  550.0\n",
       "3   7700.200000  7732.2  2175.000000    NaN\n",
       "4   7686.000000  7721.5  1566.666667  550.0\n",
       "5   7686.000000  7721.5  1566.666667  550.0\n",
       "6   7851.666667  7810.5  2916.666667    NaN\n",
       "7   7700.200000  7732.2  2175.000000    NaN\n",
       "8   7851.666667  7810.5  2916.666667    NaN\n",
       "9   7686.000000  7721.5  1566.666667  550.0\n",
       "10  7700.200000  7732.2  2175.000000    NaN\n",
       "11  7686.000000  7721.5  1566.666667  550.0\n",
       "12  7700.200000  7732.2  2175.000000    NaN\n",
       "13  7851.666667  7810.5  2916.666667    NaN"
      ]
     },
     "execution_count": 85,
     "metadata": {},
     "output_type": "execute_result"
    }
   ],
   "source": [
    "# 부서별로 각 컬럼의 평균값으로 채워져있다.\n",
    "# 10번 부서의 모든 값이 평균으로 채워져있다.\n",
    "# 원본 컬럼의 모양도 그대로 유지하고 있다.\n",
    "\n",
    "emp.groupby('deptno').transform(np.mean)# = (\"mean\")"
   ]
  },
  {
   "cell_type": "markdown",
   "id": "574f863b-4377-4702-9a9f-2a81764c541a",
   "metadata": {},
   "source": [
    "***"
   ]
  },
  {
   "cell_type": "markdown",
   "id": "3c5fc06d-7d11-4e8b-a1ee-4265ae26a22e",
   "metadata": {},
   "source": [
    "## transform과 apply를 활용하여 나이 결측 채우기"
   ]
  },
  {
   "cell_type": "code",
   "execution_count": 86,
   "id": "2c536549-239a-4249-aefd-88fed25c0a98",
   "metadata": {
    "tags": []
   },
   "outputs": [],
   "source": [
    "trcopy = tr.copy()"
   ]
  },
  {
   "cell_type": "markdown",
   "id": "6a8141a1-d94c-4687-ad44-11ce9e60d7a3",
   "metadata": {},
   "source": [
    "* 연습하기"
   ]
  },
  {
   "cell_type": "markdown",
   "id": "e0534f12-17ef-4a0e-9cba-8307c7f159f5",
   "metadata": {},
   "source": [
    "### apply"
   ]
  },
  {
   "cell_type": "code",
   "execution_count": 87,
   "id": "0732c38c-ec75-4ca0-903b-692c64af870b",
   "metadata": {
    "tags": []
   },
   "outputs": [
    {
     "data": {
      "text/plain": [
       "name_title     \n",
       "Dr.         245    43.0\n",
       "            317    53.0\n",
       "            398    22.0\n",
       "            632    31.0\n",
       "            660    49.0\n",
       "Name: age, dtype: float64"
      ]
     },
     "execution_count": 87,
     "metadata": {},
     "output_type": "execute_result"
    }
   ],
   "source": [
    "# 일괄적용하는 문법\n",
    "def age_minus(x):\n",
    "        return x - 1\n",
    "\n",
    "trcopy.groupby('name_title', group_keys = True)['age'].apply(age_minus).head() #일괄적으로 함수를 적용시킬 때 / 연산 안되는 애 있으면 에러 남\n",
    " #알아서 되는애들만 필터링해줌\n",
    "# trcopy.groupby('name_title', group_keys = True)['age'].first()"
   ]
  },
  {
   "cell_type": "code",
   "execution_count": 88,
   "id": "00a8bff7-57a9-48e5-ba9f-15f984add91a",
   "metadata": {
    "tags": []
   },
   "outputs": [
    {
     "data": {
      "text/plain": [
       "0    21.0\n",
       "1    37.0\n",
       "2    25.0\n",
       "3    34.0\n",
       "4    34.0\n",
       "Name: age, dtype: float64"
      ]
     },
     "execution_count": 88,
     "metadata": {},
     "output_type": "execute_result"
    }
   ],
   "source": [
    "def age_minus(x):\n",
    "        return x - 1\n",
    "    \n",
    "trcopy.groupby('name_title', group_keys = True)['age'].transform(age_minus).head()"
   ]
  },
  {
   "cell_type": "markdown",
   "id": "a111e863-fd23-4508-89c7-eb28b6ca9f08",
   "metadata": {},
   "source": [
    "**[컬럼명을 메서드 밖에서 명시하면 apply나 transform 이나 결과는 똑같다.]**"
   ]
  },
  {
   "cell_type": "markdown",
   "id": "6e96213d-24f9-4f72-b85a-8a2140d93dd9",
   "metadata": {},
   "source": [
    "### 안에 명시하면 transform만 구동된다."
   ]
  },
  {
   "cell_type": "code",
   "execution_count": 89,
   "id": "4960166a-5fd2-49ed-b7ae-a93d7464f901",
   "metadata": {
    "tags": []
   },
   "outputs": [
    {
     "data": {
      "text/html": [
       "<div>\n",
       "<style scoped>\n",
       "    .dataframe tbody tr th:only-of-type {\n",
       "        vertical-align: middle;\n",
       "    }\n",
       "\n",
       "    .dataframe tbody tr th {\n",
       "        vertical-align: top;\n",
       "    }\n",
       "\n",
       "    .dataframe thead th {\n",
       "        text-align: right;\n",
       "    }\n",
       "</style>\n",
       "<table border=\"1\" class=\"dataframe\">\n",
       "  <thead>\n",
       "    <tr style=\"text-align: right;\">\n",
       "      <th></th>\n",
       "      <th>passengerid</th>\n",
       "      <th>survived</th>\n",
       "      <th>pclass</th>\n",
       "      <th>name</th>\n",
       "      <th>sex</th>\n",
       "      <th>age</th>\n",
       "      <th>sibsp</th>\n",
       "      <th>parch</th>\n",
       "      <th>ticket</th>\n",
       "      <th>fare</th>\n",
       "      <th>cabin</th>\n",
       "      <th>embarked</th>\n",
       "      <th>cabin2</th>\n",
       "    </tr>\n",
       "    <tr>\n",
       "      <th>name_title</th>\n",
       "      <th></th>\n",
       "      <th></th>\n",
       "      <th></th>\n",
       "      <th></th>\n",
       "      <th></th>\n",
       "      <th></th>\n",
       "      <th></th>\n",
       "      <th></th>\n",
       "      <th></th>\n",
       "      <th></th>\n",
       "      <th></th>\n",
       "      <th></th>\n",
       "      <th></th>\n",
       "    </tr>\n",
       "  </thead>\n",
       "  <tbody>\n",
       "    <tr>\n",
       "      <th>Dr.</th>\n",
       "      <td>246</td>\n",
       "      <td>0</td>\n",
       "      <td>1</td>\n",
       "      <td>Minahan, Dr. William Edward</td>\n",
       "      <td>male</td>\n",
       "      <td>44.0</td>\n",
       "      <td>2</td>\n",
       "      <td>0</td>\n",
       "      <td>19928</td>\n",
       "      <td>90.0000</td>\n",
       "      <td>C78</td>\n",
       "      <td>Q</td>\n",
       "      <td>C</td>\n",
       "    </tr>\n",
       "    <tr>\n",
       "      <th>Master.</th>\n",
       "      <td>8</td>\n",
       "      <td>0</td>\n",
       "      <td>3</td>\n",
       "      <td>Palsson, Master. Gosta Leonard</td>\n",
       "      <td>male</td>\n",
       "      <td>2.0</td>\n",
       "      <td>3</td>\n",
       "      <td>1</td>\n",
       "      <td>349909</td>\n",
       "      <td>21.0750</td>\n",
       "      <td>F4</td>\n",
       "      <td>S</td>\n",
       "      <td>F</td>\n",
       "    </tr>\n",
       "    <tr>\n",
       "      <th>Miss.</th>\n",
       "      <td>3</td>\n",
       "      <td>1</td>\n",
       "      <td>3</td>\n",
       "      <td>Heikkinen, Miss. Laina</td>\n",
       "      <td>female</td>\n",
       "      <td>26.0</td>\n",
       "      <td>0</td>\n",
       "      <td>0</td>\n",
       "      <td>STON/O2. 3101282</td>\n",
       "      <td>7.9250</td>\n",
       "      <td>G6</td>\n",
       "      <td>S</td>\n",
       "      <td>G</td>\n",
       "    </tr>\n",
       "    <tr>\n",
       "      <th>Mr.</th>\n",
       "      <td>1</td>\n",
       "      <td>0</td>\n",
       "      <td>3</td>\n",
       "      <td>Braund, Mr. Owen Harris</td>\n",
       "      <td>male</td>\n",
       "      <td>22.0</td>\n",
       "      <td>1</td>\n",
       "      <td>0</td>\n",
       "      <td>A/5 21171</td>\n",
       "      <td>7.2500</td>\n",
       "      <td>E46</td>\n",
       "      <td>S</td>\n",
       "      <td>E</td>\n",
       "    </tr>\n",
       "    <tr>\n",
       "      <th>Mrs.</th>\n",
       "      <td>2</td>\n",
       "      <td>1</td>\n",
       "      <td>1</td>\n",
       "      <td>Cumings, Mrs. John Bradley (Florence Briggs Th...</td>\n",
       "      <td>female</td>\n",
       "      <td>38.0</td>\n",
       "      <td>1</td>\n",
       "      <td>0</td>\n",
       "      <td>PC 17599</td>\n",
       "      <td>71.2833</td>\n",
       "      <td>C85</td>\n",
       "      <td>C</td>\n",
       "      <td>C</td>\n",
       "    </tr>\n",
       "  </tbody>\n",
       "</table>\n",
       "</div>"
      ],
      "text/plain": [
       "            passengerid  survived  pclass  \\\n",
       "name_title                                  \n",
       "Dr.                 246         0       1   \n",
       "Master.               8         0       3   \n",
       "Miss.                 3         1       3   \n",
       "Mr.                   1         0       3   \n",
       "Mrs.                  2         1       1   \n",
       "\n",
       "                                                         name     sex   age  \\\n",
       "name_title                                                                    \n",
       "Dr.                               Minahan, Dr. William Edward    male  44.0   \n",
       "Master.                        Palsson, Master. Gosta Leonard    male   2.0   \n",
       "Miss.                                  Heikkinen, Miss. Laina  female  26.0   \n",
       "Mr.                                   Braund, Mr. Owen Harris    male  22.0   \n",
       "Mrs.        Cumings, Mrs. John Bradley (Florence Briggs Th...  female  38.0   \n",
       "\n",
       "            sibsp  parch            ticket     fare cabin embarked cabin2  \n",
       "name_title                                                                 \n",
       "Dr.             2      0             19928  90.0000   C78        Q      C  \n",
       "Master.         3      1            349909  21.0750    F4        S      F  \n",
       "Miss.           0      0  STON/O2. 3101282   7.9250    G6        S      G  \n",
       "Mr.             1      0         A/5 21171   7.2500   E46        S      E  \n",
       "Mrs.            1      0          PC 17599  71.2833   C85        C      C  "
      ]
     },
     "execution_count": 89,
     "metadata": {},
     "output_type": "execute_result"
    }
   ],
   "source": [
    "trcopy.groupby('name_title').first()"
   ]
  },
  {
   "cell_type": "code",
   "execution_count": 90,
   "id": "32f9e060-af82-4edd-adda-49d3eb532400",
   "metadata": {
    "tags": []
   },
   "outputs": [
    {
     "data": {
      "text/plain": [
       "name_title     \n",
       "Dr.         245    43.0\n",
       "            317    53.0\n",
       "            398    22.0\n",
       "            632    31.0\n",
       "            660    49.0\n",
       "Name: age, dtype: float64"
      ]
     },
     "execution_count": 90,
     "metadata": {},
     "output_type": "execute_result"
    }
   ],
   "source": [
    "def age_minus(x):\n",
    "        return x - 1\n",
    "\n",
    "    #그룹화 시킨 후, 나이만 그룹화한 함수에 적용\n",
    "trcopy.groupby('name_title', group_keys = True).apply(lambda gdf : age_minus(gdf['age'])).head()"
   ]
  },
  {
   "cell_type": "code",
   "execution_count": 91,
   "id": "bf8450f9-ac80-4bc6-ad19-e3e2eb337ce6",
   "metadata": {
    "tags": []
   },
   "outputs": [],
   "source": [
    "#트랜스폼은 에러난다.\n",
    "\n",
    "# def age_minus(x):\n",
    "#         return x - 1\n",
    "\n",
    "# trcopy.groupby('name_title', group_keys = True).transform(lambda gdf : age_minus(gdf['age'])).head()"
   ]
  },
  {
   "cell_type": "markdown",
   "id": "2bee5e40-928b-4099-946c-d952eeb09bcd",
   "metadata": {
    "tags": []
   },
   "source": [
    "### 컬럼명을 메서드 안,밖 모두에 명시하지 않는(컬럼명 쓰지 않는 경우)"
   ]
  },
  {
   "cell_type": "code",
   "execution_count": 92,
   "id": "88e443dc-e227-43a9-9bdc-5a94da536aec",
   "metadata": {
    "tags": []
   },
   "outputs": [
    {
     "data": {
      "text/html": [
       "<div>\n",
       "<style scoped>\n",
       "    .dataframe tbody tr th:only-of-type {\n",
       "        vertical-align: middle;\n",
       "    }\n",
       "\n",
       "    .dataframe tbody tr th {\n",
       "        vertical-align: top;\n",
       "    }\n",
       "\n",
       "    .dataframe thead th {\n",
       "        text-align: right;\n",
       "    }\n",
       "</style>\n",
       "<table border=\"1\" class=\"dataframe\">\n",
       "  <thead>\n",
       "    <tr style=\"text-align: right;\">\n",
       "      <th></th>\n",
       "      <th>passengerid</th>\n",
       "      <th>survived</th>\n",
       "      <th>pclass</th>\n",
       "      <th>age</th>\n",
       "      <th>sibsp</th>\n",
       "      <th>parch</th>\n",
       "      <th>fare</th>\n",
       "    </tr>\n",
       "  </thead>\n",
       "  <tbody>\n",
       "    <tr>\n",
       "      <th>0</th>\n",
       "      <td>0</td>\n",
       "      <td>-1</td>\n",
       "      <td>2</td>\n",
       "      <td>21.0</td>\n",
       "      <td>0</td>\n",
       "      <td>-1</td>\n",
       "      <td>6.2500</td>\n",
       "    </tr>\n",
       "    <tr>\n",
       "      <th>1</th>\n",
       "      <td>1</td>\n",
       "      <td>0</td>\n",
       "      <td>0</td>\n",
       "      <td>37.0</td>\n",
       "      <td>0</td>\n",
       "      <td>-1</td>\n",
       "      <td>70.2833</td>\n",
       "    </tr>\n",
       "    <tr>\n",
       "      <th>2</th>\n",
       "      <td>2</td>\n",
       "      <td>0</td>\n",
       "      <td>2</td>\n",
       "      <td>25.0</td>\n",
       "      <td>-1</td>\n",
       "      <td>-1</td>\n",
       "      <td>6.9250</td>\n",
       "    </tr>\n",
       "    <tr>\n",
       "      <th>3</th>\n",
       "      <td>3</td>\n",
       "      <td>0</td>\n",
       "      <td>0</td>\n",
       "      <td>34.0</td>\n",
       "      <td>0</td>\n",
       "      <td>-1</td>\n",
       "      <td>52.1000</td>\n",
       "    </tr>\n",
       "    <tr>\n",
       "      <th>4</th>\n",
       "      <td>4</td>\n",
       "      <td>-1</td>\n",
       "      <td>2</td>\n",
       "      <td>34.0</td>\n",
       "      <td>-1</td>\n",
       "      <td>-1</td>\n",
       "      <td>7.0500</td>\n",
       "    </tr>\n",
       "  </tbody>\n",
       "</table>\n",
       "</div>"
      ],
      "text/plain": [
       "   passengerid  survived  pclass   age  sibsp  parch     fare\n",
       "0            0        -1       2  21.0      0     -1   6.2500\n",
       "1            1         0       0  37.0      0     -1  70.2833\n",
       "2            2         0       2  25.0     -1     -1   6.9250\n",
       "3            3         0       0  34.0      0     -1  52.1000\n",
       "4            4        -1       2  34.0     -1     -1   7.0500"
      ]
     },
     "execution_count": 92,
     "metadata": {},
     "output_type": "execute_result"
    }
   ],
   "source": [
    "# 워닝은 뜨지만, 컬럼명 명시하지 않고 데이터 전체를 대상으로 transform 했을 때, 연산처리 되는 값들은 보여준다.\n",
    "#  = 자동필터링 해준다\n",
    "\n",
    "\n",
    "def age_minus(x):\n",
    "        return x - 1\n",
    "\n",
    "trcopy.groupby('name_title', group_keys = True).transform(age_minus).head()"
   ]
  },
  {
   "cell_type": "code",
   "execution_count": 93,
   "id": "73722659-854c-46ad-b20c-292c699d3962",
   "metadata": {
    "tags": []
   },
   "outputs": [],
   "source": [
    "# -1연산이 안되는 글자컬럼들이 있기 때문에, 에러가 난다.\n",
    "\n",
    "# def age_minus(x):\n",
    "#         return x - 1\n",
    "\n",
    "# trcopy.groupby('name_title', group_keys = True).apply(age_minus).head()"
   ]
  },
  {
   "cell_type": "code",
   "execution_count": 94,
   "id": "3228c4f3-6c8f-4e96-a7c7-a1aca8fbf77a",
   "metadata": {
    "tags": []
   },
   "outputs": [
    {
     "data": {
      "text/html": [
       "<div>\n",
       "<style scoped>\n",
       "    .dataframe tbody tr th:only-of-type {\n",
       "        vertical-align: middle;\n",
       "    }\n",
       "\n",
       "    .dataframe tbody tr th {\n",
       "        vertical-align: top;\n",
       "    }\n",
       "\n",
       "    .dataframe thead th {\n",
       "        text-align: right;\n",
       "    }\n",
       "</style>\n",
       "<table border=\"1\" class=\"dataframe\">\n",
       "  <thead>\n",
       "    <tr style=\"text-align: right;\">\n",
       "      <th></th>\n",
       "      <th>passengerid</th>\n",
       "      <th>survived</th>\n",
       "      <th>pclass</th>\n",
       "      <th>age</th>\n",
       "      <th>sibsp</th>\n",
       "      <th>parch</th>\n",
       "      <th>fare</th>\n",
       "    </tr>\n",
       "  </thead>\n",
       "  <tbody>\n",
       "    <tr>\n",
       "      <th>0</th>\n",
       "      <td>0</td>\n",
       "      <td>-1</td>\n",
       "      <td>2</td>\n",
       "      <td>21.0</td>\n",
       "      <td>0</td>\n",
       "      <td>-1</td>\n",
       "      <td>6.2500</td>\n",
       "    </tr>\n",
       "    <tr>\n",
       "      <th>1</th>\n",
       "      <td>1</td>\n",
       "      <td>0</td>\n",
       "      <td>0</td>\n",
       "      <td>37.0</td>\n",
       "      <td>0</td>\n",
       "      <td>-1</td>\n",
       "      <td>70.2833</td>\n",
       "    </tr>\n",
       "    <tr>\n",
       "      <th>2</th>\n",
       "      <td>2</td>\n",
       "      <td>0</td>\n",
       "      <td>2</td>\n",
       "      <td>25.0</td>\n",
       "      <td>-1</td>\n",
       "      <td>-1</td>\n",
       "      <td>6.9250</td>\n",
       "    </tr>\n",
       "    <tr>\n",
       "      <th>3</th>\n",
       "      <td>3</td>\n",
       "      <td>0</td>\n",
       "      <td>0</td>\n",
       "      <td>34.0</td>\n",
       "      <td>0</td>\n",
       "      <td>-1</td>\n",
       "      <td>52.1000</td>\n",
       "    </tr>\n",
       "    <tr>\n",
       "      <th>4</th>\n",
       "      <td>4</td>\n",
       "      <td>-1</td>\n",
       "      <td>2</td>\n",
       "      <td>34.0</td>\n",
       "      <td>-1</td>\n",
       "      <td>-1</td>\n",
       "      <td>7.0500</td>\n",
       "    </tr>\n",
       "  </tbody>\n",
       "</table>\n",
       "</div>"
      ],
      "text/plain": [
       "   passengerid  survived  pclass   age  sibsp  parch     fare\n",
       "0            0        -1       2  21.0      0     -1   6.2500\n",
       "1            1         0       0  37.0      0     -1  70.2833\n",
       "2            2         0       2  25.0     -1     -1   6.9250\n",
       "3            3         0       0  34.0      0     -1  52.1000\n",
       "4            4        -1       2  34.0     -1     -1   7.0500"
      ]
     },
     "execution_count": 94,
     "metadata": {},
     "output_type": "execute_result"
    }
   ],
   "source": [
    "def age_minus(x):\n",
    "        return x - 1\n",
    "\n",
    "trcopy.groupby('name_title', group_keys = True).transform(age_minus).head()"
   ]
  },
  {
   "cell_type": "markdown",
   "id": "23263e88-4596-453e-99af-275b80643d95",
   "metadata": {},
   "source": [
    "### 연산 가능한 컬럼만 함수 적용"
   ]
  },
  {
   "cell_type": "code",
   "execution_count": 95,
   "id": "2708ebf0-40e1-457c-a0e9-99132f5387ae",
   "metadata": {
    "tags": []
   },
   "outputs": [
    {
     "data": {
      "text/html": [
       "<div>\n",
       "<style scoped>\n",
       "    .dataframe tbody tr th:only-of-type {\n",
       "        vertical-align: middle;\n",
       "    }\n",
       "\n",
       "    .dataframe tbody tr th {\n",
       "        vertical-align: top;\n",
       "    }\n",
       "\n",
       "    .dataframe thead th {\n",
       "        text-align: right;\n",
       "    }\n",
       "</style>\n",
       "<table border=\"1\" class=\"dataframe\">\n",
       "  <thead>\n",
       "    <tr style=\"text-align: right;\">\n",
       "      <th></th>\n",
       "      <th>name_title</th>\n",
       "      <th>age</th>\n",
       "      <th>fare</th>\n",
       "    </tr>\n",
       "  </thead>\n",
       "  <tbody>\n",
       "    <tr>\n",
       "      <th>0</th>\n",
       "      <td>Dr.</td>\n",
       "      <td>6</td>\n",
       "      <td>7</td>\n",
       "    </tr>\n",
       "    <tr>\n",
       "      <th>1</th>\n",
       "      <td>Master.</td>\n",
       "      <td>36</td>\n",
       "      <td>40</td>\n",
       "    </tr>\n",
       "    <tr>\n",
       "      <th>2</th>\n",
       "      <td>Miss.</td>\n",
       "      <td>150</td>\n",
       "      <td>186</td>\n",
       "    </tr>\n",
       "    <tr>\n",
       "      <th>3</th>\n",
       "      <td>Mr.</td>\n",
       "      <td>412</td>\n",
       "      <td>531</td>\n",
       "    </tr>\n",
       "    <tr>\n",
       "      <th>4</th>\n",
       "      <td>Mrs.</td>\n",
       "      <td>110</td>\n",
       "      <td>127</td>\n",
       "    </tr>\n",
       "  </tbody>\n",
       "</table>\n",
       "</div>"
      ],
      "text/plain": [
       "  name_title  age  fare\n",
       "0        Dr.    6     7\n",
       "1    Master.   36    40\n",
       "2      Miss.  150   186\n",
       "3        Mr.  412   531\n",
       "4       Mrs.  110   127"
      ]
     },
     "execution_count": 95,
     "metadata": {},
     "output_type": "execute_result"
    }
   ],
   "source": [
    "trcopy2 = trcopy.groupby('name_title',as_index = False)[['age','fare']]\n",
    "trcopy2 = trcopy2.count()\n",
    "\n",
    "trcopy2"
   ]
  },
  {
   "cell_type": "code",
   "execution_count": 96,
   "id": "a1c28000-cc42-494d-bfb9-e44da732ce05",
   "metadata": {
    "tags": []
   },
   "outputs": [],
   "source": [
    "# fill_mean_func = lambda g : g.fillna(g.mean())\n",
    "\n",
    "#??"
   ]
  },
  {
   "cell_type": "code",
   "execution_count": 97,
   "id": "513490ba-0c2b-4869-82d1-a0a7fb22e163",
   "metadata": {
    "tags": []
   },
   "outputs": [
    {
     "data": {
      "text/html": [
       "<div>\n",
       "<style scoped>\n",
       "    .dataframe tbody tr th:only-of-type {\n",
       "        vertical-align: middle;\n",
       "    }\n",
       "\n",
       "    .dataframe tbody tr th {\n",
       "        vertical-align: top;\n",
       "    }\n",
       "\n",
       "    .dataframe thead th {\n",
       "        text-align: right;\n",
       "    }\n",
       "</style>\n",
       "<table border=\"1\" class=\"dataframe\">\n",
       "  <thead>\n",
       "    <tr style=\"text-align: right;\">\n",
       "      <th></th>\n",
       "      <th></th>\n",
       "      <th>name_title</th>\n",
       "      <th>age</th>\n",
       "      <th>fare</th>\n",
       "    </tr>\n",
       "    <tr>\n",
       "      <th>name_title</th>\n",
       "      <th></th>\n",
       "      <th></th>\n",
       "      <th></th>\n",
       "      <th></th>\n",
       "    </tr>\n",
       "  </thead>\n",
       "  <tbody>\n",
       "    <tr>\n",
       "      <th>Dr.</th>\n",
       "      <th>0</th>\n",
       "      <td>Dr.</td>\n",
       "      <td>6</td>\n",
       "      <td>7</td>\n",
       "    </tr>\n",
       "    <tr>\n",
       "      <th>Master.</th>\n",
       "      <th>1</th>\n",
       "      <td>Master.</td>\n",
       "      <td>36</td>\n",
       "      <td>40</td>\n",
       "    </tr>\n",
       "    <tr>\n",
       "      <th>Miss.</th>\n",
       "      <th>2</th>\n",
       "      <td>Miss.</td>\n",
       "      <td>150</td>\n",
       "      <td>186</td>\n",
       "    </tr>\n",
       "    <tr>\n",
       "      <th>Mr.</th>\n",
       "      <th>3</th>\n",
       "      <td>Mr.</td>\n",
       "      <td>412</td>\n",
       "      <td>531</td>\n",
       "    </tr>\n",
       "    <tr>\n",
       "      <th>Mrs.</th>\n",
       "      <th>4</th>\n",
       "      <td>Mrs.</td>\n",
       "      <td>110</td>\n",
       "      <td>127</td>\n",
       "    </tr>\n",
       "  </tbody>\n",
       "</table>\n",
       "</div>"
      ],
      "text/plain": [
       "             name_title  age  fare\n",
       "name_title                        \n",
       "Dr.        0        Dr.    6     7\n",
       "Master.    1    Master.   36    40\n",
       "Miss.      2      Miss.  150   186\n",
       "Mr.        3        Mr.  412   531\n",
       "Mrs.       4       Mrs.  110   127"
      ]
     },
     "execution_count": 97,
     "metadata": {},
     "output_type": "execute_result"
    }
   ],
   "source": [
    "# def age_minus(x):\n",
    "#         return x - 1\n",
    "\n",
    "# trcopy.groupby('name_title', group_keys = True).apply(lambda gdf : gdf.fillna(gdf.mean()))\n",
    "trcopy2.groupby('name_title', group_keys=True).apply(lambda gdf : gdf.fillna(gdf.mean()) )"
   ]
  },
  {
   "cell_type": "markdown",
   "id": "b574a60e-bd49-4c3a-b97b-2fd42254d3ec",
   "metadata": {},
   "source": [
    "### 원본에 적용해보기(transform)"
   ]
  },
  {
   "cell_type": "code",
   "execution_count": 98,
   "id": "f4ede02b-c9a3-40fa-b546-cbc5a091fe55",
   "metadata": {
    "tags": []
   },
   "outputs": [
    {
     "data": {
      "text/plain": [
       "name_title\n",
       "Dr.        42.000000\n",
       "Master.     4.574167\n",
       "Miss.      22.020000\n",
       "Mr.        32.891990\n",
       "Mrs.       35.763636\n",
       "Name: age, dtype: float64"
      ]
     },
     "execution_count": 98,
     "metadata": {},
     "output_type": "execute_result"
    }
   ],
   "source": [
    "tr.groupby('name_title', group_keys=True)['age'].mean()"
   ]
  },
  {
   "cell_type": "code",
   "execution_count": 99,
   "id": "42a5c459-207f-4680-835c-db3e346823f4",
   "metadata": {
    "tags": []
   },
   "outputs": [
    {
     "data": {
      "text/html": [
       "<div>\n",
       "<style scoped>\n",
       "    .dataframe tbody tr th:only-of-type {\n",
       "        vertical-align: middle;\n",
       "    }\n",
       "\n",
       "    .dataframe tbody tr th {\n",
       "        vertical-align: top;\n",
       "    }\n",
       "\n",
       "    .dataframe thead th {\n",
       "        text-align: right;\n",
       "    }\n",
       "</style>\n",
       "<table border=\"1\" class=\"dataframe\">\n",
       "  <thead>\n",
       "    <tr style=\"text-align: right;\">\n",
       "      <th></th>\n",
       "      <th>name_title</th>\n",
       "      <th>age</th>\n",
       "      <th>age2</th>\n",
       "    </tr>\n",
       "  </thead>\n",
       "  <tbody>\n",
       "    <tr>\n",
       "      <th>5</th>\n",
       "      <td>Mr.</td>\n",
       "      <td>NaN</td>\n",
       "      <td>32.891990</td>\n",
       "    </tr>\n",
       "    <tr>\n",
       "      <th>17</th>\n",
       "      <td>Mr.</td>\n",
       "      <td>NaN</td>\n",
       "      <td>32.891990</td>\n",
       "    </tr>\n",
       "    <tr>\n",
       "      <th>19</th>\n",
       "      <td>Mrs.</td>\n",
       "      <td>NaN</td>\n",
       "      <td>35.763636</td>\n",
       "    </tr>\n",
       "    <tr>\n",
       "      <th>26</th>\n",
       "      <td>Mr.</td>\n",
       "      <td>NaN</td>\n",
       "      <td>32.891990</td>\n",
       "    </tr>\n",
       "    <tr>\n",
       "      <th>28</th>\n",
       "      <td>Miss.</td>\n",
       "      <td>NaN</td>\n",
       "      <td>22.020000</td>\n",
       "    </tr>\n",
       "    <tr>\n",
       "      <th>...</th>\n",
       "      <td>...</td>\n",
       "      <td>...</td>\n",
       "      <td>...</td>\n",
       "    </tr>\n",
       "    <tr>\n",
       "      <th>859</th>\n",
       "      <td>Mr.</td>\n",
       "      <td>NaN</td>\n",
       "      <td>32.891990</td>\n",
       "    </tr>\n",
       "    <tr>\n",
       "      <th>863</th>\n",
       "      <td>Miss.</td>\n",
       "      <td>NaN</td>\n",
       "      <td>22.020000</td>\n",
       "    </tr>\n",
       "    <tr>\n",
       "      <th>868</th>\n",
       "      <td>Mr.</td>\n",
       "      <td>NaN</td>\n",
       "      <td>32.891990</td>\n",
       "    </tr>\n",
       "    <tr>\n",
       "      <th>878</th>\n",
       "      <td>Mr.</td>\n",
       "      <td>NaN</td>\n",
       "      <td>32.891990</td>\n",
       "    </tr>\n",
       "    <tr>\n",
       "      <th>888</th>\n",
       "      <td>Miss.</td>\n",
       "      <td>NaN</td>\n",
       "      <td>22.020000</td>\n",
       "    </tr>\n",
       "  </tbody>\n",
       "</table>\n",
       "<p>177 rows × 3 columns</p>\n",
       "</div>"
      ],
      "text/plain": [
       "    name_title  age       age2\n",
       "5          Mr.  NaN  32.891990\n",
       "17         Mr.  NaN  32.891990\n",
       "19        Mrs.  NaN  35.763636\n",
       "26         Mr.  NaN  32.891990\n",
       "28       Miss.  NaN  22.020000\n",
       "..         ...  ...        ...\n",
       "859        Mr.  NaN  32.891990\n",
       "863      Miss.  NaN  22.020000\n",
       "868        Mr.  NaN  32.891990\n",
       "878        Mr.  NaN  32.891990\n",
       "888      Miss.  NaN  22.020000\n",
       "\n",
       "[177 rows x 3 columns]"
      ]
     },
     "execution_count": 99,
     "metadata": {},
     "output_type": "execute_result"
    }
   ],
   "source": [
    "# trcopy.groupby('name_title', group_keys = True)['age'].transform(lambda gdfage : gdfage.fillna(gdfage.mean()))\n",
    "\n",
    "# train['age2'] = train['age'].fillna( train.groupby('name_title2', group_keys=True)['age'].transform(\"mean\") )     \n",
    "# train[['name_title2','age','age2']] [train['age'].isna()]\n",
    "\n",
    "              #결측인 값만    #tr을 네임타이틀로 그룹바이 해주고, 나이 컬럼을 평균으로 채워줘라.  \n",
    "tr['age2'] = tr['age'].fillna(tr.groupby('name_title', group_keys=True)['age'].transform(\"mean\"))\n",
    "tr[['name_title','age','age2']] [tr['age'].isna()]"
   ]
  },
  {
   "cell_type": "code",
   "execution_count": 100,
   "id": "064277e8-045d-4e42-9bfc-1766d4218dd0",
   "metadata": {},
   "outputs": [],
   "source": [
    "# 그룹의 평균나이 채워보자!"
   ]
  },
  {
   "cell_type": "code",
   "execution_count": 101,
   "id": "32099782-f17f-4e9c-ac44-0a422ec0c721",
   "metadata": {
    "tags": []
   },
   "outputs": [
    {
     "data": {
      "text/plain": [
       "Index(['passengerid', 'survived', 'pclass', 'name', 'sex', 'age', 'sibsp',\n",
       "       'parch', 'ticket', 'fare', 'cabin', 'embarked', 'cabin2', 'name_title',\n",
       "       'age2'],\n",
       "      dtype='object')"
      ]
     },
     "execution_count": 101,
     "metadata": {},
     "output_type": "execute_result"
    }
   ],
   "source": [
    "tr.columns"
   ]
  },
  {
   "cell_type": "markdown",
   "id": "4628bb17-bb11-4d60-ad28-e2aa3a7f25a3",
   "metadata": {},
   "source": [
    "## 호칭은 주요 Feature이다."
   ]
  },
  {
   "cell_type": "code",
   "execution_count": 102,
   "id": "3e138060-d79f-404d-a951-6516006503f2",
   "metadata": {},
   "outputs": [
    {
     "data": {
      "text/plain": [
       "name_title  survived\n",
       "Dr.         0             4\n",
       "            1             3\n",
       "Master.     0            17\n",
       "            1            23\n",
       "Miss.       0            55\n",
       "            1           131\n",
       "Mr.         0           447\n",
       "            1            84\n",
       "Mrs.        0            26\n",
       "            1           101\n",
       "dtype: int64"
      ]
     },
     "execution_count": 102,
     "metadata": {},
     "output_type": "execute_result"
    }
   ],
   "source": [
    "#호칭에 따른 생존율은 큰 의미가 있다.\n",
    "\n",
    "tr[['name_title','survived']].value_counts().sort_index()"
   ]
  },
  {
   "cell_type": "markdown",
   "id": "847cc433-899b-48ac-a7e6-6eac64968ee9",
   "metadata": {},
   "source": [
    "* 결측 채운 후 나이와 생존과의 관계 다시 확인"
   ]
  },
  {
   "cell_type": "markdown",
   "id": "a88558de-2e7a-4213-bf29-eba214f40d6f",
   "metadata": {
    "tags": []
   },
   "source": [
    "## Age "
   ]
  },
  {
   "cell_type": "code",
   "execution_count": 103,
   "id": "796d5c06-e8fb-40ec-b939-876a8e9d75d5",
   "metadata": {
    "tags": []
   },
   "outputs": [
    {
     "data": {
      "text/plain": [
       "177"
      ]
     },
     "execution_count": 103,
     "metadata": {},
     "output_type": "execute_result"
    }
   ],
   "source": [
    "tr['age'].isna().sum()"
   ]
  },
  {
   "cell_type": "code",
   "execution_count": 104,
   "id": "e6e4cc02-3be1-4b94-a03d-cb60957d8247",
   "metadata": {
    "tags": []
   },
   "outputs": [
    {
     "data": {
      "text/plain": [
       "0.42     1\n",
       "0.67     1\n",
       "0.75     2\n",
       "0.83     2\n",
       "0.92     1\n",
       "        ..\n",
       "70.00    2\n",
       "70.50    1\n",
       "71.00    2\n",
       "74.00    1\n",
       "80.00    1\n",
       "Name: age, Length: 88, dtype: int64"
      ]
     },
     "execution_count": 104,
     "metadata": {},
     "output_type": "execute_result"
    }
   ],
   "source": [
    "tr['age'].value_counts().sort_index()"
   ]
  },
  {
   "cell_type": "code",
   "execution_count": 105,
   "id": "e1fc615c-f584-4841-905f-3adc79083a33",
   "metadata": {
    "tags": []
   },
   "outputs": [
    {
     "data": {
      "text/plain": [
       "count    714.000000\n",
       "mean      29.699118\n",
       "std       14.526497\n",
       "min        0.420000\n",
       "25%       20.125000\n",
       "50%       28.000000\n",
       "75%       38.000000\n",
       "max       80.000000\n",
       "Name: age, dtype: float64"
      ]
     },
     "execution_count": 105,
     "metadata": {},
     "output_type": "execute_result"
    }
   ],
   "source": [
    "tr['age'].describe()\n",
    "\n",
    "# 29 평균\n",
    "# 29 (+- 14) 분포\n",
    "# 최소 0.42\n",
    "# 최대 80\n",
    "\n",
    "#왜도 : 어느 한 쪽으로 수치값이 쏠려있는 현상."
   ]
  },
  {
   "cell_type": "code",
   "execution_count": 106,
   "id": "76d9198a-c558-4b43-b367-04574e7ea918",
   "metadata": {
    "tags": []
   },
   "outputs": [
    {
     "data": {
      "text/plain": [
       "<AxesSubplot: >"
      ]
     },
     "execution_count": 106,
     "metadata": {},
     "output_type": "execute_result"
    },
    {
     "data": {
      "image/png": "[encoded data removed]",
      "text/plain": [
       "<Figure size 640x480 with 1 Axes>"
      ]
     },
     "metadata": {},
     "output_type": "display_data"
    }
   ],
   "source": [
    "tr['age'].describe().plot(kind = 'bar')"
   ]
  },
  {
   "cell_type": "markdown",
   "id": "0ce4e340-ca24-4775-8960-03376f27c11b",
   "metadata": {},
   "source": [
    "## 호칭별 평균 나이 : 나이 결측을 채우자"
   ]
  },
  {
   "cell_type": "markdown",
   "id": "84ceff2a-7547-41aa-8798-3057e53060b8",
   "metadata": {},
   "source": [
    "* age2 : name_title을 이용해서 호칭별 평균나이 결측을 채운다."
   ]
  },
  {
   "cell_type": "code",
   "execution_count": 107,
   "id": "eed46abb-41ad-47fa-b04f-dfc5706cdabf",
   "metadata": {
    "tags": []
   },
   "outputs": [
    {
     "data": {
      "text/plain": [
       "name_title\n",
       "Dr.        42.000000\n",
       "Master.     4.574167\n",
       "Miss.      22.020000\n",
       "Mr.        32.891990\n",
       "Mrs.       35.763636\n",
       "Name: age, dtype: float64"
      ]
     },
     "execution_count": 107,
     "metadata": {},
     "output_type": "execute_result"
    }
   ],
   "source": [
    "# 성별 평균 나이\n",
    "\n",
    "tr.groupby('name_title')['age'].mean()"
   ]
  },
  {
   "cell_type": "code",
   "execution_count": 108,
   "id": "373476bb-c6a8-4530-9445-4924a42512fa",
   "metadata": {
    "tags": []
   },
   "outputs": [],
   "source": [
    "# fillna() 는 단일값만 채워주는 것이라. 어떤 그룹의 값으로 일괄 변경해라~ 는 할 수 없다."
   ]
  },
  {
   "cell_type": "code",
   "execution_count": 109,
   "id": "02df7d16-72b5-404a-ab70-30db86af41a4",
   "metadata": {
    "tags": []
   },
   "outputs": [
    {
     "data": {
      "text/html": [
       "<div>\n",
       "<style scoped>\n",
       "    .dataframe tbody tr th:only-of-type {\n",
       "        vertical-align: middle;\n",
       "    }\n",
       "\n",
       "    .dataframe tbody tr th {\n",
       "        vertical-align: top;\n",
       "    }\n",
       "\n",
       "    .dataframe thead th {\n",
       "        text-align: right;\n",
       "    }\n",
       "</style>\n",
       "<table border=\"1\" class=\"dataframe\">\n",
       "  <thead>\n",
       "    <tr style=\"text-align: right;\">\n",
       "      <th></th>\n",
       "      <th>passengerid</th>\n",
       "      <th>survived</th>\n",
       "      <th>pclass</th>\n",
       "      <th>name</th>\n",
       "      <th>sex</th>\n",
       "      <th>age</th>\n",
       "      <th>sibsp</th>\n",
       "      <th>parch</th>\n",
       "      <th>ticket</th>\n",
       "      <th>fare</th>\n",
       "      <th>cabin</th>\n",
       "      <th>embarked</th>\n",
       "      <th>cabin2</th>\n",
       "      <th>name_title</th>\n",
       "      <th>age2</th>\n",
       "    </tr>\n",
       "  </thead>\n",
       "  <tbody>\n",
       "    <tr>\n",
       "      <th>0</th>\n",
       "      <td>1</td>\n",
       "      <td>0</td>\n",
       "      <td>3</td>\n",
       "      <td>Braund, Mr. Owen Harris</td>\n",
       "      <td>male</td>\n",
       "      <td>22.0</td>\n",
       "      <td>1</td>\n",
       "      <td>0</td>\n",
       "      <td>A/5 21171</td>\n",
       "      <td>7.2500</td>\n",
       "      <td>NaN</td>\n",
       "      <td>S</td>\n",
       "      <td>NaN</td>\n",
       "      <td>Mr.</td>\n",
       "      <td>22.0</td>\n",
       "    </tr>\n",
       "    <tr>\n",
       "      <th>1</th>\n",
       "      <td>2</td>\n",
       "      <td>1</td>\n",
       "      <td>1</td>\n",
       "      <td>Cumings, Mrs. John Bradley (Florence Briggs Th...</td>\n",
       "      <td>female</td>\n",
       "      <td>38.0</td>\n",
       "      <td>1</td>\n",
       "      <td>0</td>\n",
       "      <td>PC 17599</td>\n",
       "      <td>71.2833</td>\n",
       "      <td>C85</td>\n",
       "      <td>C</td>\n",
       "      <td>C</td>\n",
       "      <td>Mrs.</td>\n",
       "      <td>38.0</td>\n",
       "    </tr>\n",
       "    <tr>\n",
       "      <th>2</th>\n",
       "      <td>3</td>\n",
       "      <td>1</td>\n",
       "      <td>3</td>\n",
       "      <td>Heikkinen, Miss. Laina</td>\n",
       "      <td>female</td>\n",
       "      <td>26.0</td>\n",
       "      <td>0</td>\n",
       "      <td>0</td>\n",
       "      <td>STON/O2. 3101282</td>\n",
       "      <td>7.9250</td>\n",
       "      <td>NaN</td>\n",
       "      <td>S</td>\n",
       "      <td>NaN</td>\n",
       "      <td>Miss.</td>\n",
       "      <td>26.0</td>\n",
       "    </tr>\n",
       "    <tr>\n",
       "      <th>3</th>\n",
       "      <td>4</td>\n",
       "      <td>1</td>\n",
       "      <td>1</td>\n",
       "      <td>Futrelle, Mrs. Jacques Heath (Lily May Peel)</td>\n",
       "      <td>female</td>\n",
       "      <td>35.0</td>\n",
       "      <td>1</td>\n",
       "      <td>0</td>\n",
       "      <td>113803</td>\n",
       "      <td>53.1000</td>\n",
       "      <td>C123</td>\n",
       "      <td>S</td>\n",
       "      <td>C</td>\n",
       "      <td>Mrs.</td>\n",
       "      <td>35.0</td>\n",
       "    </tr>\n",
       "    <tr>\n",
       "      <th>4</th>\n",
       "      <td>5</td>\n",
       "      <td>0</td>\n",
       "      <td>3</td>\n",
       "      <td>Allen, Mr. William Henry</td>\n",
       "      <td>male</td>\n",
       "      <td>35.0</td>\n",
       "      <td>0</td>\n",
       "      <td>0</td>\n",
       "      <td>373450</td>\n",
       "      <td>8.0500</td>\n",
       "      <td>NaN</td>\n",
       "      <td>S</td>\n",
       "      <td>NaN</td>\n",
       "      <td>Mr.</td>\n",
       "      <td>35.0</td>\n",
       "    </tr>\n",
       "  </tbody>\n",
       "</table>\n",
       "</div>"
      ],
      "text/plain": [
       "   passengerid  survived  pclass  \\\n",
       "0            1         0       3   \n",
       "1            2         1       1   \n",
       "2            3         1       3   \n",
       "3            4         1       1   \n",
       "4            5         0       3   \n",
       "\n",
       "                                                name     sex   age  sibsp  \\\n",
       "0                            Braund, Mr. Owen Harris    male  22.0      1   \n",
       "1  Cumings, Mrs. John Bradley (Florence Briggs Th...  female  38.0      1   \n",
       "2                             Heikkinen, Miss. Laina  female  26.0      0   \n",
       "3       Futrelle, Mrs. Jacques Heath (Lily May Peel)  female  35.0      1   \n",
       "4                           Allen, Mr. William Henry    male  35.0      0   \n",
       "\n",
       "   parch            ticket     fare cabin embarked cabin2 name_title  age2  \n",
       "0      0         A/5 21171   7.2500   NaN        S    NaN        Mr.  22.0  \n",
       "1      0          PC 17599  71.2833   C85        C      C       Mrs.  38.0  \n",
       "2      0  STON/O2. 3101282   7.9250   NaN        S    NaN      Miss.  26.0  \n",
       "3      0            113803  53.1000  C123        S      C       Mrs.  35.0  \n",
       "4      0            373450   8.0500   NaN        S    NaN        Mr.  35.0  "
      ]
     },
     "execution_count": 109,
     "metadata": {},
     "output_type": "execute_result"
    }
   ],
   "source": [
    "# 호칭별 평균 나이, fillna\n",
    "\n",
    "# 나이가 nan인데, name_title이 mr인 사람은? : fillna로 \n",
    "\n",
    "trcc = tr.copy()\n",
    "\n",
    "trcc.head()"
   ]
  },
  {
   "cell_type": "markdown",
   "id": "28e1e7e5-1eea-48c8-9252-42762a9cb543",
   "metadata": {},
   "source": [
    "### 나이를 구간화 시켜보자"
   ]
  },
  {
   "cell_type": "code",
   "execution_count": 110,
   "id": "9e2899b9-17a6-497b-a8d6-ea656f41d816",
   "metadata": {
    "tags": []
   },
   "outputs": [
    {
     "data": {
      "text/plain": [
       "8"
      ]
     },
     "execution_count": 110,
     "metadata": {},
     "output_type": "execute_result"
    }
   ],
   "source": [
    "#가장 간단한 방법\n",
    "\n",
    "int(str(80)[0:1])"
   ]
  },
  {
   "cell_type": "code",
   "execution_count": 111,
   "id": "151874ff-0cfb-4065-ab73-11f7405b4615",
   "metadata": {
    "tags": []
   },
   "outputs": [
    {
     "data": {
      "text/plain": [
       "(8.9, 8, 9)"
      ]
     },
     "execution_count": 111,
     "metadata": {},
     "output_type": "execute_result"
    }
   ],
   "source": [
    "#나누기, 몫, 나머지\n",
    "\n",
    "89/10, 89//10, 89%10"
   ]
  },
  {
   "cell_type": "code",
   "execution_count": 112,
   "id": "4d6a960e-20bf-4ad7-9490-d7498054e349",
   "metadata": {
    "tags": []
   },
   "outputs": [],
   "source": [
    "tr['age_gugan'] = tr['age2']//10\n",
    "tr['age_gugan'] = tr['age_gugan'].astype('int')\n"
   ]
  },
  {
   "cell_type": "code",
   "execution_count": 113,
   "id": "95a78c2f-917e-4149-be8e-0cb515163bde",
   "metadata": {
    "tags": []
   },
   "outputs": [
    {
     "data": {
      "text/plain": [
       "age_gugan  survived\n",
       "0          0            26\n",
       "           1            40\n",
       "1          0            61\n",
       "           1            41\n",
       "2          0           157\n",
       "           1            99\n",
       "3          0           202\n",
       "           1           101\n",
       "4          0            56\n",
       "           1            34\n",
       "5          0            28\n",
       "           1            20\n",
       "6          0            13\n",
       "           1             6\n",
       "7          0             6\n",
       "8          1             1\n",
       "dtype: int64"
      ]
     },
     "execution_count": 113,
     "metadata": {},
     "output_type": "execute_result"
    }
   ],
   "source": [
    "#나이 구간별 생존 유무 : 나이 자체로만은 별 의미가 없어보인다.\n",
    "\n",
    "tr[['age_gugan','survived']].value_counts().sort_index()"
   ]
  },
  {
   "cell_type": "code",
   "execution_count": 114,
   "id": "1ba7f50b-4d0e-442e-8932-6622fa312e9b",
   "metadata": {
    "tags": []
   },
   "outputs": [
    {
     "data": {
      "text/plain": [
       "passengerid                                         889\n",
       "survived                                              0\n",
       "pclass                                                3\n",
       "name           Johnston, Miss. Catherine Helen \"Carrie\"\n",
       "sex                                              female\n",
       "age                                                 NaN\n",
       "sibsp                                                 1\n",
       "parch                                                 2\n",
       "ticket                                       W./C. 6607\n",
       "fare                                              23.45\n",
       "cabin                                               NaN\n",
       "embarked                                              S\n",
       "cabin2                                              NaN\n",
       "name_title                                        Miss.\n",
       "age2                                              22.02\n",
       "age_gugan                                             2\n",
       "Name: 888, dtype: object"
      ]
     },
     "execution_count": 114,
     "metadata": {},
     "output_type": "execute_result"
    }
   ],
   "source": [
    "tr.loc[888]"
   ]
  },
  {
   "cell_type": "code",
   "execution_count": 115,
   "id": "874de9f9-3a8a-47ce-acd6-d7f9696d3f92",
   "metadata": {
    "tags": []
   },
   "outputs": [],
   "source": [
    "tr.drop('name',axis = 1,inplace = True)"
   ]
  },
  {
   "cell_type": "markdown",
   "id": "3b0cdbe7-06f1-4d9c-93db-b5d2ed5febab",
   "metadata": {},
   "source": [
    "### age 구간과 생존관계 확인해보기"
   ]
  },
  {
   "cell_type": "code",
   "execution_count": 116,
   "id": "179d1cf7-48a3-49d0-94b2-5f6b4ad814dd",
   "metadata": {
    "tags": []
   },
   "outputs": [
    {
     "data": {
      "text/plain": [
       "age_gugan  survived\n",
       "0          0            26\n",
       "           1            40\n",
       "1          0            61\n",
       "           1            41\n",
       "2          0           157\n",
       "           1            99\n",
       "3          0           202\n",
       "           1           101\n",
       "4          0            56\n",
       "           1            34\n",
       "5          0            28\n",
       "           1            20\n",
       "6          0            13\n",
       "           1             6\n",
       "7          0             6\n",
       "8          1             1\n",
       "dtype: int64"
      ]
     },
     "execution_count": 116,
     "metadata": {},
     "output_type": "execute_result"
    }
   ],
   "source": [
    "tr[['age_gugan','survived']].value_counts().sort_index()"
   ]
  },
  {
   "cell_type": "markdown",
   "id": "cbeb7691-9ac7-41d3-b2af-486ef80d0bb6",
   "metadata": {},
   "source": [
    "***"
   ]
  },
  {
   "cell_type": "markdown",
   "id": "b101d284-523b-4f4e-b9cb-902dca1a461e",
   "metadata": {},
   "source": [
    "* Crosstab 함수\n",
    "\n",
    "<pre>\n",
    "\n",
    "def crosstab(\n",
    "  <b> index, -- y축\n",
    "    columns, -- x축</b>\n",
    "    values=None,\n",
    "    rownames=None,\n",
    "    colnames=None,\n",
    "    aggfunc=None,\n",
    "    margins: bool = False,\n",
    "    margins_name: str = \"All\",\n",
    "    dropna: bool = True,\n",
    "    normalize=False,\n",
    ") -> DataFrame:\n",
    "\n",
    "</pre>"
   ]
  },
  {
   "cell_type": "code",
   "execution_count": 117,
   "id": "fddbce7a-7b21-477e-a37d-e1a764bab9bb",
   "metadata": {
    "tags": []
   },
   "outputs": [
    {
     "data": {
      "text/html": [
       "<div>\n",
       "<style scoped>\n",
       "    .dataframe tbody tr th:only-of-type {\n",
       "        vertical-align: middle;\n",
       "    }\n",
       "\n",
       "    .dataframe tbody tr th {\n",
       "        vertical-align: top;\n",
       "    }\n",
       "\n",
       "    .dataframe thead tr th {\n",
       "        text-align: left;\n",
       "    }\n",
       "\n",
       "    .dataframe thead tr:last-of-type th {\n",
       "        text-align: right;\n",
       "    }\n",
       "</style>\n",
       "<table border=\"1\" class=\"dataframe\">\n",
       "  <thead>\n",
       "    <tr>\n",
       "      <th>age_gugan</th>\n",
       "      <th colspan=\"2\" halign=\"left\">0</th>\n",
       "      <th colspan=\"2\" halign=\"left\">1</th>\n",
       "      <th colspan=\"2\" halign=\"left\">2</th>\n",
       "      <th colspan=\"2\" halign=\"left\">3</th>\n",
       "      <th colspan=\"2\" halign=\"left\">4</th>\n",
       "      <th colspan=\"2\" halign=\"left\">5</th>\n",
       "      <th colspan=\"2\" halign=\"left\">6</th>\n",
       "      <th>7</th>\n",
       "      <th>8</th>\n",
       "    </tr>\n",
       "    <tr>\n",
       "      <th>survived</th>\n",
       "      <th>0</th>\n",
       "      <th>1</th>\n",
       "      <th>0</th>\n",
       "      <th>1</th>\n",
       "      <th>0</th>\n",
       "      <th>1</th>\n",
       "      <th>0</th>\n",
       "      <th>1</th>\n",
       "      <th>0</th>\n",
       "      <th>1</th>\n",
       "      <th>0</th>\n",
       "      <th>1</th>\n",
       "      <th>0</th>\n",
       "      <th>1</th>\n",
       "      <th>0</th>\n",
       "      <th>1</th>\n",
       "    </tr>\n",
       "    <tr>\n",
       "      <th>pclass</th>\n",
       "      <th></th>\n",
       "      <th></th>\n",
       "      <th></th>\n",
       "      <th></th>\n",
       "      <th></th>\n",
       "      <th></th>\n",
       "      <th></th>\n",
       "      <th></th>\n",
       "      <th></th>\n",
       "      <th></th>\n",
       "      <th></th>\n",
       "      <th></th>\n",
       "      <th></th>\n",
       "      <th></th>\n",
       "      <th></th>\n",
       "      <th></th>\n",
       "    </tr>\n",
       "  </thead>\n",
       "  <tbody>\n",
       "    <tr>\n",
       "      <th>1</th>\n",
       "      <td>1</td>\n",
       "      <td>2</td>\n",
       "      <td>3</td>\n",
       "      <td>15</td>\n",
       "      <td>10</td>\n",
       "      <td>25</td>\n",
       "      <td>26</td>\n",
       "      <td>52</td>\n",
       "      <td>16</td>\n",
       "      <td>22</td>\n",
       "      <td>12</td>\n",
       "      <td>15</td>\n",
       "      <td>9</td>\n",
       "      <td>4</td>\n",
       "      <td>3</td>\n",
       "      <td>1</td>\n",
       "    </tr>\n",
       "    <tr>\n",
       "      <th>2</th>\n",
       "      <td>0</td>\n",
       "      <td>17</td>\n",
       "      <td>9</td>\n",
       "      <td>9</td>\n",
       "      <td>31</td>\n",
       "      <td>24</td>\n",
       "      <td>36</td>\n",
       "      <td>21</td>\n",
       "      <td>8</td>\n",
       "      <td>10</td>\n",
       "      <td>10</td>\n",
       "      <td>5</td>\n",
       "      <td>2</td>\n",
       "      <td>1</td>\n",
       "      <td>1</td>\n",
       "      <td>0</td>\n",
       "    </tr>\n",
       "    <tr>\n",
       "      <th>3</th>\n",
       "      <td>25</td>\n",
       "      <td>21</td>\n",
       "      <td>49</td>\n",
       "      <td>17</td>\n",
       "      <td>116</td>\n",
       "      <td>50</td>\n",
       "      <td>140</td>\n",
       "      <td>28</td>\n",
       "      <td>32</td>\n",
       "      <td>2</td>\n",
       "      <td>6</td>\n",
       "      <td>0</td>\n",
       "      <td>2</td>\n",
       "      <td>1</td>\n",
       "      <td>2</td>\n",
       "      <td>0</td>\n",
       "    </tr>\n",
       "  </tbody>\n",
       "</table>\n",
       "</div>"
      ],
      "text/plain": [
       "age_gugan   0       1        2        3       4       5      6     7  8\n",
       "survived    0   1   0   1    0   1    0   1   0   1   0   1  0  1  0  1\n",
       "pclass                                                                 \n",
       "1           1   2   3  15   10  25   26  52  16  22  12  15  9  4  3  1\n",
       "2           0  17   9   9   31  24   36  21   8  10  10   5  2  1  1  0\n",
       "3          25  21  49  17  116  50  140  28  32   2   6   0  2  1  2  0"
      ]
     },
     "execution_count": 117,
     "metadata": {},
     "output_type": "execute_result"
    }
   ],
   "source": [
    "pd.crosstab(index=[tr['pclass']], columns = [tr['age_gugan'],tr['survived']])"
   ]
  },
  {
   "cell_type": "markdown",
   "id": "ff73a184-5b2a-4e0d-b427-ce89fb2ffcc0",
   "metadata": {},
   "source": [
    "* 어린 나이일 수록 칸의 등급에 따라 생존율이 달라진다. 노인은 칸 등급에 상관없다."
   ]
  },
  {
   "cell_type": "code",
   "execution_count": 118,
   "id": "d9d17be6-0674-4fb8-a52a-5a387d8cb7f9",
   "metadata": {
    "tags": []
   },
   "outputs": [
    {
     "data": {
      "text/html": [
       "<div>\n",
       "<style scoped>\n",
       "    .dataframe tbody tr th:only-of-type {\n",
       "        vertical-align: middle;\n",
       "    }\n",
       "\n",
       "    .dataframe tbody tr th {\n",
       "        vertical-align: top;\n",
       "    }\n",
       "\n",
       "    .dataframe thead tr th {\n",
       "        text-align: left;\n",
       "    }\n",
       "\n",
       "    .dataframe thead tr:last-of-type th {\n",
       "        text-align: right;\n",
       "    }\n",
       "</style>\n",
       "<table border=\"1\" class=\"dataframe\">\n",
       "  <thead>\n",
       "    <tr>\n",
       "      <th></th>\n",
       "      <th>age_gugan</th>\n",
       "      <th colspan=\"2\" halign=\"left\">0</th>\n",
       "      <th colspan=\"2\" halign=\"left\">1</th>\n",
       "      <th colspan=\"2\" halign=\"left\">2</th>\n",
       "      <th colspan=\"2\" halign=\"left\">3</th>\n",
       "      <th colspan=\"2\" halign=\"left\">4</th>\n",
       "      <th colspan=\"2\" halign=\"left\">5</th>\n",
       "      <th colspan=\"2\" halign=\"left\">6</th>\n",
       "      <th>7</th>\n",
       "      <th>8</th>\n",
       "    </tr>\n",
       "    <tr>\n",
       "      <th></th>\n",
       "      <th>survived</th>\n",
       "      <th>0</th>\n",
       "      <th>1</th>\n",
       "      <th>0</th>\n",
       "      <th>1</th>\n",
       "      <th>0</th>\n",
       "      <th>1</th>\n",
       "      <th>0</th>\n",
       "      <th>1</th>\n",
       "      <th>0</th>\n",
       "      <th>1</th>\n",
       "      <th>0</th>\n",
       "      <th>1</th>\n",
       "      <th>0</th>\n",
       "      <th>1</th>\n",
       "      <th>0</th>\n",
       "      <th>1</th>\n",
       "    </tr>\n",
       "    <tr>\n",
       "      <th>pclass</th>\n",
       "      <th>sex</th>\n",
       "      <th></th>\n",
       "      <th></th>\n",
       "      <th></th>\n",
       "      <th></th>\n",
       "      <th></th>\n",
       "      <th></th>\n",
       "      <th></th>\n",
       "      <th></th>\n",
       "      <th></th>\n",
       "      <th></th>\n",
       "      <th></th>\n",
       "      <th></th>\n",
       "      <th></th>\n",
       "      <th></th>\n",
       "      <th></th>\n",
       "      <th></th>\n",
       "    </tr>\n",
       "  </thead>\n",
       "  <tbody>\n",
       "    <tr>\n",
       "      <th rowspan=\"2\" valign=\"top\">1</th>\n",
       "      <th>female</th>\n",
       "      <td>1</td>\n",
       "      <td>0</td>\n",
       "      <td>0</td>\n",
       "      <td>13</td>\n",
       "      <td>1</td>\n",
       "      <td>16</td>\n",
       "      <td>0</td>\n",
       "      <td>35</td>\n",
       "      <td>0</td>\n",
       "      <td>13</td>\n",
       "      <td>1</td>\n",
       "      <td>11</td>\n",
       "      <td>0</td>\n",
       "      <td>3</td>\n",
       "      <td>0</td>\n",
       "      <td>0</td>\n",
       "    </tr>\n",
       "    <tr>\n",
       "      <th>male</th>\n",
       "      <td>0</td>\n",
       "      <td>2</td>\n",
       "      <td>3</td>\n",
       "      <td>2</td>\n",
       "      <td>9</td>\n",
       "      <td>9</td>\n",
       "      <td>26</td>\n",
       "      <td>17</td>\n",
       "      <td>16</td>\n",
       "      <td>9</td>\n",
       "      <td>11</td>\n",
       "      <td>4</td>\n",
       "      <td>9</td>\n",
       "      <td>1</td>\n",
       "      <td>3</td>\n",
       "      <td>1</td>\n",
       "    </tr>\n",
       "    <tr>\n",
       "      <th rowspan=\"2\" valign=\"top\">2</th>\n",
       "      <th>female</th>\n",
       "      <td>0</td>\n",
       "      <td>8</td>\n",
       "      <td>0</td>\n",
       "      <td>8</td>\n",
       "      <td>3</td>\n",
       "      <td>24</td>\n",
       "      <td>1</td>\n",
       "      <td>16</td>\n",
       "      <td>1</td>\n",
       "      <td>9</td>\n",
       "      <td>1</td>\n",
       "      <td>5</td>\n",
       "      <td>0</td>\n",
       "      <td>0</td>\n",
       "      <td>0</td>\n",
       "      <td>0</td>\n",
       "    </tr>\n",
       "    <tr>\n",
       "      <th>male</th>\n",
       "      <td>0</td>\n",
       "      <td>9</td>\n",
       "      <td>9</td>\n",
       "      <td>1</td>\n",
       "      <td>28</td>\n",
       "      <td>0</td>\n",
       "      <td>35</td>\n",
       "      <td>5</td>\n",
       "      <td>7</td>\n",
       "      <td>1</td>\n",
       "      <td>9</td>\n",
       "      <td>0</td>\n",
       "      <td>2</td>\n",
       "      <td>1</td>\n",
       "      <td>1</td>\n",
       "      <td>0</td>\n",
       "    </tr>\n",
       "    <tr>\n",
       "      <th rowspan=\"2\" valign=\"top\">3</th>\n",
       "      <th>female</th>\n",
       "      <td>10</td>\n",
       "      <td>11</td>\n",
       "      <td>11</td>\n",
       "      <td>13</td>\n",
       "      <td>30</td>\n",
       "      <td>34</td>\n",
       "      <td>12</td>\n",
       "      <td>13</td>\n",
       "      <td>9</td>\n",
       "      <td>0</td>\n",
       "      <td>0</td>\n",
       "      <td>0</td>\n",
       "      <td>0</td>\n",
       "      <td>1</td>\n",
       "      <td>0</td>\n",
       "      <td>0</td>\n",
       "    </tr>\n",
       "    <tr>\n",
       "      <th>male</th>\n",
       "      <td>15</td>\n",
       "      <td>10</td>\n",
       "      <td>38</td>\n",
       "      <td>4</td>\n",
       "      <td>86</td>\n",
       "      <td>16</td>\n",
       "      <td>128</td>\n",
       "      <td>15</td>\n",
       "      <td>23</td>\n",
       "      <td>2</td>\n",
       "      <td>6</td>\n",
       "      <td>0</td>\n",
       "      <td>2</td>\n",
       "      <td>0</td>\n",
       "      <td>2</td>\n",
       "      <td>0</td>\n",
       "    </tr>\n",
       "  </tbody>\n",
       "</table>\n",
       "</div>"
      ],
      "text/plain": [
       "age_gugan       0       1       2        3       4       5      6     7  8\n",
       "survived        0   1   0   1   0   1    0   1   0   1   0   1  0  1  0  1\n",
       "pclass sex                                                                \n",
       "1      female   1   0   0  13   1  16    0  35   0  13   1  11  0  3  0  0\n",
       "       male     0   2   3   2   9   9   26  17  16   9  11   4  9  1  3  1\n",
       "2      female   0   8   0   8   3  24    1  16   1   9   1   5  0  0  0  0\n",
       "       male     0   9   9   1  28   0   35   5   7   1   9   0  2  1  1  0\n",
       "3      female  10  11  11  13  30  34   12  13   9   0   0   0  0  1  0  0\n",
       "       male    15  10  38   4  86  16  128  15  23   2   6   0  2  0  2  0"
      ]
     },
     "execution_count": 118,
     "metadata": {},
     "output_type": "execute_result"
    }
   ],
   "source": [
    "pd.crosstab(index=[tr['pclass'],tr['sex']], columns = [tr['age_gugan'],tr['survived']])"
   ]
  },
  {
   "cell_type": "markdown",
   "id": "3fa5ab71-02bd-47d6-b77b-15135502dd0c",
   "metadata": {},
   "source": [
    "* 성별을 추가하면, 더 유의미한 데이터가 된다.\n",
    "* 50% 이상이 넘어가면 컴퓨터는 유의미한 데이터로 인식하지만,  \n",
    "  데이터 수가 현저히 적으면 우연일 수도 있기 때문에 데이터 양이 많아야 의미 있는 데이터를 도출할 수 있다."
   ]
  },
  {
   "cell_type": "markdown",
   "id": "d55b80f8-9b87-42ae-936b-adc61d4da6f3",
   "metadata": {},
   "source": [
    "## Pivot Table"
   ]
  },
  {
   "cell_type": "markdown",
   "id": "fcc1e0ea-fa0f-4305-94ca-c55a0bf1de54",
   "metadata": {},
   "source": [
    "<pre>\n",
    "\n",
    "pivot_table\n",
    "\n",
    "def pivot_table(\n",
    "        self,\n",
    "        <b>values=None,\n",
    "        index=None,\n",
    "        columns=None,\n",
    "        aggfunc=\"mean\"</b>,\n",
    "        fill_value=None,\n",
    "        margins=False,\n",
    "        dropna=True,\n",
    "        margins_name=\"All\",\n",
    "        observed=False,\n",
    "        sort=True,\n",
    "    )\n",
    "</pre>"
   ]
  },
  {
   "cell_type": "code",
   "execution_count": 119,
   "id": "19e54ca7-da28-4096-b3f4-31d111ec9965",
   "metadata": {
    "tags": []
   },
   "outputs": [
    {
     "data": {
      "text/html": [
       "<div>\n",
       "<style scoped>\n",
       "    .dataframe tbody tr th:only-of-type {\n",
       "        vertical-align: middle;\n",
       "    }\n",
       "\n",
       "    .dataframe tbody tr th {\n",
       "        vertical-align: top;\n",
       "    }\n",
       "\n",
       "    .dataframe thead th {\n",
       "        text-align: right;\n",
       "    }\n",
       "</style>\n",
       "<table border=\"1\" class=\"dataframe\">\n",
       "  <thead>\n",
       "    <tr style=\"text-align: right;\">\n",
       "      <th></th>\n",
       "      <th>sal</th>\n",
       "    </tr>\n",
       "    <tr>\n",
       "      <th>deptno</th>\n",
       "      <th></th>\n",
       "    </tr>\n",
       "  </thead>\n",
       "  <tbody>\n",
       "    <tr>\n",
       "      <th>10</th>\n",
       "      <td>2916.666667</td>\n",
       "    </tr>\n",
       "    <tr>\n",
       "      <th>20</th>\n",
       "      <td>2175.000000</td>\n",
       "    </tr>\n",
       "    <tr>\n",
       "      <th>30</th>\n",
       "      <td>1566.666667</td>\n",
       "    </tr>\n",
       "  </tbody>\n",
       "</table>\n",
       "</div>"
      ],
      "text/plain": [
       "                sal\n",
       "deptno             \n",
       "10      2916.666667\n",
       "20      2175.000000\n",
       "30      1566.666667"
      ]
     },
     "execution_count": 119,
     "metadata": {},
     "output_type": "execute_result"
    }
   ],
   "source": [
    "# 인덱스(그룹화) : 그렇기 때문에, empno같은 값으로 하면 그룹화가 되지 않는다.\n",
    "                                                  #그룹화한 값을 조회하자.\n",
    "emp.pivot_table(index = 'deptno', values = 'sal', aggfunc = 'mean')\n",
    "# = emp.groupby('deptno')['sal'].mean()"
   ]
  },
  {
   "cell_type": "markdown",
   "id": "54f01675-7633-4a60-9fe3-fcabb337ce29",
   "metadata": {},
   "source": [
    "## sibsp , parch "
   ]
  },
  {
   "cell_type": "markdown",
   "id": "d8a81449-81ed-4b1d-8704-bd55e08babad",
   "metadata": {},
   "source": [
    "* family는 합산"
   ]
  },
  {
   "cell_type": "code",
   "execution_count": 120,
   "id": "7af2d72e-e79a-4bb8-ba7d-da3b60562a7c",
   "metadata": {
    "tags": []
   },
   "outputs": [
    {
     "data": {
      "text/html": [
       "<div>\n",
       "<style scoped>\n",
       "    .dataframe tbody tr th:only-of-type {\n",
       "        vertical-align: middle;\n",
       "    }\n",
       "\n",
       "    .dataframe tbody tr th {\n",
       "        vertical-align: top;\n",
       "    }\n",
       "\n",
       "    .dataframe thead th {\n",
       "        text-align: right;\n",
       "    }\n",
       "</style>\n",
       "<table border=\"1\" class=\"dataframe\">\n",
       "  <thead>\n",
       "    <tr style=\"text-align: right;\">\n",
       "      <th></th>\n",
       "      <th>passengerid</th>\n",
       "      <th>survived</th>\n",
       "      <th>pclass</th>\n",
       "      <th>sex</th>\n",
       "      <th>age</th>\n",
       "      <th>sibsp</th>\n",
       "      <th>parch</th>\n",
       "      <th>ticket</th>\n",
       "      <th>fare</th>\n",
       "      <th>cabin</th>\n",
       "      <th>embarked</th>\n",
       "      <th>cabin2</th>\n",
       "      <th>name_title</th>\n",
       "      <th>age2</th>\n",
       "      <th>age_gugan</th>\n",
       "      <th>family</th>\n",
       "    </tr>\n",
       "  </thead>\n",
       "  <tbody>\n",
       "    <tr>\n",
       "      <th>890</th>\n",
       "      <td>891</td>\n",
       "      <td>0</td>\n",
       "      <td>3</td>\n",
       "      <td>male</td>\n",
       "      <td>32.0</td>\n",
       "      <td>0</td>\n",
       "      <td>0</td>\n",
       "      <td>370376</td>\n",
       "      <td>7.7500</td>\n",
       "      <td>NaN</td>\n",
       "      <td>Q</td>\n",
       "      <td>NaN</td>\n",
       "      <td>Mr.</td>\n",
       "      <td>32.000000</td>\n",
       "      <td>3</td>\n",
       "      <td>1</td>\n",
       "    </tr>\n",
       "    <tr>\n",
       "      <th>680</th>\n",
       "      <td>681</td>\n",
       "      <td>0</td>\n",
       "      <td>3</td>\n",
       "      <td>female</td>\n",
       "      <td>NaN</td>\n",
       "      <td>0</td>\n",
       "      <td>0</td>\n",
       "      <td>330935</td>\n",
       "      <td>8.1375</td>\n",
       "      <td>NaN</td>\n",
       "      <td>Q</td>\n",
       "      <td>NaN</td>\n",
       "      <td>Miss.</td>\n",
       "      <td>22.020000</td>\n",
       "      <td>2</td>\n",
       "      <td>1</td>\n",
       "    </tr>\n",
       "    <tr>\n",
       "      <th>681</th>\n",
       "      <td>682</td>\n",
       "      <td>1</td>\n",
       "      <td>1</td>\n",
       "      <td>male</td>\n",
       "      <td>27.0</td>\n",
       "      <td>0</td>\n",
       "      <td>0</td>\n",
       "      <td>PC 17572</td>\n",
       "      <td>76.7292</td>\n",
       "      <td>D49</td>\n",
       "      <td>C</td>\n",
       "      <td>D</td>\n",
       "      <td>Mr.</td>\n",
       "      <td>27.000000</td>\n",
       "      <td>2</td>\n",
       "      <td>1</td>\n",
       "    </tr>\n",
       "    <tr>\n",
       "      <th>391</th>\n",
       "      <td>392</td>\n",
       "      <td>1</td>\n",
       "      <td>3</td>\n",
       "      <td>male</td>\n",
       "      <td>21.0</td>\n",
       "      <td>0</td>\n",
       "      <td>0</td>\n",
       "      <td>350034</td>\n",
       "      <td>7.7958</td>\n",
       "      <td>NaN</td>\n",
       "      <td>S</td>\n",
       "      <td>NaN</td>\n",
       "      <td>Mr.</td>\n",
       "      <td>21.000000</td>\n",
       "      <td>2</td>\n",
       "      <td>1</td>\n",
       "    </tr>\n",
       "    <tr>\n",
       "      <th>682</th>\n",
       "      <td>683</td>\n",
       "      <td>0</td>\n",
       "      <td>3</td>\n",
       "      <td>male</td>\n",
       "      <td>20.0</td>\n",
       "      <td>0</td>\n",
       "      <td>0</td>\n",
       "      <td>6563</td>\n",
       "      <td>9.2250</td>\n",
       "      <td>NaN</td>\n",
       "      <td>S</td>\n",
       "      <td>NaN</td>\n",
       "      <td>Mr.</td>\n",
       "      <td>20.000000</td>\n",
       "      <td>2</td>\n",
       "      <td>1</td>\n",
       "    </tr>\n",
       "    <tr>\n",
       "      <th>...</th>\n",
       "      <td>...</td>\n",
       "      <td>...</td>\n",
       "      <td>...</td>\n",
       "      <td>...</td>\n",
       "      <td>...</td>\n",
       "      <td>...</td>\n",
       "      <td>...</td>\n",
       "      <td>...</td>\n",
       "      <td>...</td>\n",
       "      <td>...</td>\n",
       "      <td>...</td>\n",
       "      <td>...</td>\n",
       "      <td>...</td>\n",
       "      <td>...</td>\n",
       "      <td>...</td>\n",
       "      <td>...</td>\n",
       "    </tr>\n",
       "    <tr>\n",
       "      <th>201</th>\n",
       "      <td>202</td>\n",
       "      <td>0</td>\n",
       "      <td>3</td>\n",
       "      <td>male</td>\n",
       "      <td>NaN</td>\n",
       "      <td>8</td>\n",
       "      <td>2</td>\n",
       "      <td>CA. 2343</td>\n",
       "      <td>69.5500</td>\n",
       "      <td>NaN</td>\n",
       "      <td>S</td>\n",
       "      <td>NaN</td>\n",
       "      <td>Mr.</td>\n",
       "      <td>32.891990</td>\n",
       "      <td>3</td>\n",
       "      <td>11</td>\n",
       "    </tr>\n",
       "    <tr>\n",
       "      <th>159</th>\n",
       "      <td>160</td>\n",
       "      <td>0</td>\n",
       "      <td>3</td>\n",
       "      <td>male</td>\n",
       "      <td>NaN</td>\n",
       "      <td>8</td>\n",
       "      <td>2</td>\n",
       "      <td>CA. 2343</td>\n",
       "      <td>69.5500</td>\n",
       "      <td>NaN</td>\n",
       "      <td>S</td>\n",
       "      <td>NaN</td>\n",
       "      <td>Master.</td>\n",
       "      <td>4.574167</td>\n",
       "      <td>0</td>\n",
       "      <td>11</td>\n",
       "    </tr>\n",
       "    <tr>\n",
       "      <th>792</th>\n",
       "      <td>793</td>\n",
       "      <td>0</td>\n",
       "      <td>3</td>\n",
       "      <td>female</td>\n",
       "      <td>NaN</td>\n",
       "      <td>8</td>\n",
       "      <td>2</td>\n",
       "      <td>CA. 2343</td>\n",
       "      <td>69.5500</td>\n",
       "      <td>NaN</td>\n",
       "      <td>S</td>\n",
       "      <td>NaN</td>\n",
       "      <td>Miss.</td>\n",
       "      <td>22.020000</td>\n",
       "      <td>2</td>\n",
       "      <td>11</td>\n",
       "    </tr>\n",
       "    <tr>\n",
       "      <th>180</th>\n",
       "      <td>181</td>\n",
       "      <td>0</td>\n",
       "      <td>3</td>\n",
       "      <td>female</td>\n",
       "      <td>NaN</td>\n",
       "      <td>8</td>\n",
       "      <td>2</td>\n",
       "      <td>CA. 2343</td>\n",
       "      <td>69.5500</td>\n",
       "      <td>NaN</td>\n",
       "      <td>S</td>\n",
       "      <td>NaN</td>\n",
       "      <td>Miss.</td>\n",
       "      <td>22.020000</td>\n",
       "      <td>2</td>\n",
       "      <td>11</td>\n",
       "    </tr>\n",
       "    <tr>\n",
       "      <th>846</th>\n",
       "      <td>847</td>\n",
       "      <td>0</td>\n",
       "      <td>3</td>\n",
       "      <td>male</td>\n",
       "      <td>NaN</td>\n",
       "      <td>8</td>\n",
       "      <td>2</td>\n",
       "      <td>CA. 2343</td>\n",
       "      <td>69.5500</td>\n",
       "      <td>NaN</td>\n",
       "      <td>S</td>\n",
       "      <td>NaN</td>\n",
       "      <td>Mr.</td>\n",
       "      <td>32.891990</td>\n",
       "      <td>3</td>\n",
       "      <td>11</td>\n",
       "    </tr>\n",
       "  </tbody>\n",
       "</table>\n",
       "<p>891 rows × 16 columns</p>\n",
       "</div>"
      ],
      "text/plain": [
       "     passengerid  survived  pclass     sex   age  sibsp  parch    ticket  \\\n",
       "890          891         0       3    male  32.0      0      0    370376   \n",
       "680          681         0       3  female   NaN      0      0    330935   \n",
       "681          682         1       1    male  27.0      0      0  PC 17572   \n",
       "391          392         1       3    male  21.0      0      0    350034   \n",
       "682          683         0       3    male  20.0      0      0      6563   \n",
       "..           ...       ...     ...     ...   ...    ...    ...       ...   \n",
       "201          202         0       3    male   NaN      8      2  CA. 2343   \n",
       "159          160         0       3    male   NaN      8      2  CA. 2343   \n",
       "792          793         0       3  female   NaN      8      2  CA. 2343   \n",
       "180          181         0       3  female   NaN      8      2  CA. 2343   \n",
       "846          847         0       3    male   NaN      8      2  CA. 2343   \n",
       "\n",
       "        fare cabin embarked cabin2 name_title       age2  age_gugan  family  \n",
       "890   7.7500   NaN        Q    NaN        Mr.  32.000000          3       1  \n",
       "680   8.1375   NaN        Q    NaN      Miss.  22.020000          2       1  \n",
       "681  76.7292   D49        C      D        Mr.  27.000000          2       1  \n",
       "391   7.7958   NaN        S    NaN        Mr.  21.000000          2       1  \n",
       "682   9.2250   NaN        S    NaN        Mr.  20.000000          2       1  \n",
       "..       ...   ...      ...    ...        ...        ...        ...     ...  \n",
       "201  69.5500   NaN        S    NaN        Mr.  32.891990          3      11  \n",
       "159  69.5500   NaN        S    NaN    Master.   4.574167          0      11  \n",
       "792  69.5500   NaN        S    NaN      Miss.  22.020000          2      11  \n",
       "180  69.5500   NaN        S    NaN      Miss.  22.020000          2      11  \n",
       "846  69.5500   NaN        S    NaN        Mr.  32.891990          3      11  \n",
       "\n",
       "[891 rows x 16 columns]"
      ]
     },
     "execution_count": 120,
     "metadata": {},
     "output_type": "execute_result"
    }
   ],
   "source": [
    "tr['family'] = tr['sibsp'] + tr['parch'] + 1 #+1은 본인 포함한 수치이다.\n",
    "tr.sort_values('family')"
   ]
  },
  {
   "cell_type": "markdown",
   "id": "853a5d2b-ee15-4770-9054-d96311421bc1",
   "metadata": {},
   "source": [
    "* A/5 21171\t7.2500 2명 티켓번호 동행자"
   ]
  },
  {
   "cell_type": "code",
   "execution_count": 121,
   "id": "c408e647-ea44-4a98-b17e-ad857c31ec4f",
   "metadata": {
    "tags": []
   },
   "outputs": [
    {
     "data": {
      "text/html": [
       "<div>\n",
       "<style scoped>\n",
       "    .dataframe tbody tr th:only-of-type {\n",
       "        vertical-align: middle;\n",
       "    }\n",
       "\n",
       "    .dataframe tbody tr th {\n",
       "        vertical-align: top;\n",
       "    }\n",
       "\n",
       "    .dataframe thead th {\n",
       "        text-align: right;\n",
       "    }\n",
       "</style>\n",
       "<table border=\"1\" class=\"dataframe\">\n",
       "  <thead>\n",
       "    <tr style=\"text-align: right;\">\n",
       "      <th></th>\n",
       "      <th>passengerid</th>\n",
       "      <th>survived</th>\n",
       "      <th>pclass</th>\n",
       "      <th>sex</th>\n",
       "      <th>age</th>\n",
       "      <th>sibsp</th>\n",
       "      <th>parch</th>\n",
       "      <th>ticket</th>\n",
       "      <th>fare</th>\n",
       "      <th>cabin</th>\n",
       "      <th>embarked</th>\n",
       "      <th>cabin2</th>\n",
       "      <th>name_title</th>\n",
       "      <th>age2</th>\n",
       "      <th>age_gugan</th>\n",
       "      <th>family</th>\n",
       "    </tr>\n",
       "  </thead>\n",
       "  <tbody>\n",
       "    <tr>\n",
       "      <th>0</th>\n",
       "      <td>1</td>\n",
       "      <td>0</td>\n",
       "      <td>3</td>\n",
       "      <td>male</td>\n",
       "      <td>22.0</td>\n",
       "      <td>1</td>\n",
       "      <td>0</td>\n",
       "      <td>A/5 21171</td>\n",
       "      <td>7.25</td>\n",
       "      <td>NaN</td>\n",
       "      <td>S</td>\n",
       "      <td>NaN</td>\n",
       "      <td>Mr.</td>\n",
       "      <td>22.0</td>\n",
       "      <td>2</td>\n",
       "      <td>2</td>\n",
       "    </tr>\n",
       "  </tbody>\n",
       "</table>\n",
       "</div>"
      ],
      "text/plain": [
       "   passengerid  survived  pclass   sex   age  sibsp  parch     ticket  fare  \\\n",
       "0            1         0       3  male  22.0      1      0  A/5 21171  7.25   \n",
       "\n",
       "  cabin embarked cabin2 name_title  age2  age_gugan  family  \n",
       "0   NaN        S    NaN        Mr.  22.0          2       2  "
      ]
     },
     "execution_count": 121,
     "metadata": {},
     "output_type": "execute_result"
    }
   ],
   "source": [
    "tr[tr['ticket'] == \"A/5 21171\"]"
   ]
  },
  {
   "cell_type": "code",
   "execution_count": 122,
   "id": "8cc71726-1082-4003-bb5b-b51ac345f527",
   "metadata": {},
   "outputs": [
    {
     "data": {
      "text/html": [
       "<div>\n",
       "<style scoped>\n",
       "    .dataframe tbody tr th:only-of-type {\n",
       "        vertical-align: middle;\n",
       "    }\n",
       "\n",
       "    .dataframe tbody tr th {\n",
       "        vertical-align: top;\n",
       "    }\n",
       "\n",
       "    .dataframe thead th {\n",
       "        text-align: right;\n",
       "    }\n",
       "</style>\n",
       "<table border=\"1\" class=\"dataframe\">\n",
       "  <thead>\n",
       "    <tr style=\"text-align: right;\">\n",
       "      <th></th>\n",
       "      <th>passengerid</th>\n",
       "      <th>survived</th>\n",
       "      <th>pclass</th>\n",
       "      <th>sex</th>\n",
       "      <th>age</th>\n",
       "      <th>sibsp</th>\n",
       "      <th>parch</th>\n",
       "      <th>ticket</th>\n",
       "      <th>fare</th>\n",
       "      <th>cabin</th>\n",
       "      <th>embarked</th>\n",
       "      <th>cabin2</th>\n",
       "      <th>name_title</th>\n",
       "      <th>age2</th>\n",
       "      <th>age_gugan</th>\n",
       "      <th>family</th>\n",
       "    </tr>\n",
       "  </thead>\n",
       "  <tbody>\n",
       "    <tr>\n",
       "      <th>0</th>\n",
       "      <td>1</td>\n",
       "      <td>0</td>\n",
       "      <td>3</td>\n",
       "      <td>male</td>\n",
       "      <td>22.0</td>\n",
       "      <td>1</td>\n",
       "      <td>0</td>\n",
       "      <td>A/5 21171</td>\n",
       "      <td>7.25</td>\n",
       "      <td>NaN</td>\n",
       "      <td>S</td>\n",
       "      <td>NaN</td>\n",
       "      <td>Mr.</td>\n",
       "      <td>22.0</td>\n",
       "      <td>2</td>\n",
       "      <td>2</td>\n",
       "    </tr>\n",
       "  </tbody>\n",
       "</table>\n",
       "</div>"
      ],
      "text/plain": [
       "   passengerid  survived  pclass   sex   age  sibsp  parch     ticket  fare  \\\n",
       "0            1         0       3  male  22.0      1      0  A/5 21171  7.25   \n",
       "\n",
       "  cabin embarked cabin2 name_title  age2  age_gugan  family  \n",
       "0   NaN        S    NaN        Mr.  22.0          2       2  "
      ]
     },
     "execution_count": 122,
     "metadata": {},
     "output_type": "execute_result"
    }
   ],
   "source": [
    "tr[tr['ticket'] == \"A/5 21171\"]"
   ]
  },
  {
   "cell_type": "code",
   "execution_count": 123,
   "id": "1a228957-c491-4b5d-a8cd-b1a35966779d",
   "metadata": {
    "tags": []
   },
   "outputs": [
    {
     "data": {
      "text/plain": [
       "family  survived\n",
       "1       0           374\n",
       "        1           163\n",
       "2       0            72\n",
       "        1            89\n",
       "3       0            43\n",
       "        1            59\n",
       "4       0             8\n",
       "        1            21\n",
       "5       0            12\n",
       "        1             3\n",
       "6       0            19\n",
       "        1             3\n",
       "7       0             8\n",
       "        1             4\n",
       "8       0             6\n",
       "11      0             7\n",
       "dtype: int64"
      ]
     },
     "execution_count": 123,
     "metadata": {},
     "output_type": "execute_result"
    }
   ],
   "source": [
    "tr[['family','survived']].value_counts().sort_index()"
   ]
  },
  {
   "cell_type": "code",
   "execution_count": 124,
   "id": "9733384c-1426-48ce-a275-1d8eb2aa5ab0",
   "metadata": {
    "tags": []
   },
   "outputs": [
    {
     "data": {
      "text/html": [
       "<div>\n",
       "<style scoped>\n",
       "    .dataframe tbody tr th:only-of-type {\n",
       "        vertical-align: middle;\n",
       "    }\n",
       "\n",
       "    .dataframe tbody tr th {\n",
       "        vertical-align: top;\n",
       "    }\n",
       "\n",
       "    .dataframe thead th {\n",
       "        text-align: right;\n",
       "    }\n",
       "</style>\n",
       "<table border=\"1\" class=\"dataframe\">\n",
       "  <thead>\n",
       "    <tr style=\"text-align: right;\">\n",
       "      <th></th>\n",
       "      <th>family</th>\n",
       "      <th>1</th>\n",
       "      <th>2</th>\n",
       "      <th>3</th>\n",
       "      <th>4</th>\n",
       "      <th>5</th>\n",
       "      <th>6</th>\n",
       "      <th>7</th>\n",
       "      <th>8</th>\n",
       "      <th>11</th>\n",
       "    </tr>\n",
       "    <tr>\n",
       "      <th>pclass</th>\n",
       "      <th>survived</th>\n",
       "      <th></th>\n",
       "      <th></th>\n",
       "      <th></th>\n",
       "      <th></th>\n",
       "      <th></th>\n",
       "      <th></th>\n",
       "      <th></th>\n",
       "      <th></th>\n",
       "      <th></th>\n",
       "    </tr>\n",
       "  </thead>\n",
       "  <tbody>\n",
       "    <tr>\n",
       "      <th rowspan=\"2\" valign=\"top\">1</th>\n",
       "      <th>0</th>\n",
       "      <td>51</td>\n",
       "      <td>19</td>\n",
       "      <td>6</td>\n",
       "      <td>2</td>\n",
       "      <td>0</td>\n",
       "      <td>2</td>\n",
       "      <td>0</td>\n",
       "      <td>0</td>\n",
       "      <td>0</td>\n",
       "    </tr>\n",
       "    <tr>\n",
       "      <th>1</th>\n",
       "      <td>58</td>\n",
       "      <td>51</td>\n",
       "      <td>18</td>\n",
       "      <td>5</td>\n",
       "      <td>2</td>\n",
       "      <td>2</td>\n",
       "      <td>0</td>\n",
       "      <td>0</td>\n",
       "      <td>0</td>\n",
       "    </tr>\n",
       "    <tr>\n",
       "      <th rowspan=\"2\" valign=\"top\">2</th>\n",
       "      <th>0</th>\n",
       "      <td>68</td>\n",
       "      <td>16</td>\n",
       "      <td>10</td>\n",
       "      <td>3</td>\n",
       "      <td>0</td>\n",
       "      <td>0</td>\n",
       "      <td>0</td>\n",
       "      <td>0</td>\n",
       "      <td>0</td>\n",
       "    </tr>\n",
       "    <tr>\n",
       "      <th>1</th>\n",
       "      <td>36</td>\n",
       "      <td>18</td>\n",
       "      <td>21</td>\n",
       "      <td>10</td>\n",
       "      <td>1</td>\n",
       "      <td>1</td>\n",
       "      <td>0</td>\n",
       "      <td>0</td>\n",
       "      <td>0</td>\n",
       "    </tr>\n",
       "    <tr>\n",
       "      <th rowspan=\"2\" valign=\"top\">3</th>\n",
       "      <th>0</th>\n",
       "      <td>255</td>\n",
       "      <td>37</td>\n",
       "      <td>27</td>\n",
       "      <td>3</td>\n",
       "      <td>12</td>\n",
       "      <td>17</td>\n",
       "      <td>8</td>\n",
       "      <td>6</td>\n",
       "      <td>7</td>\n",
       "    </tr>\n",
       "    <tr>\n",
       "      <th>1</th>\n",
       "      <td>69</td>\n",
       "      <td>20</td>\n",
       "      <td>20</td>\n",
       "      <td>6</td>\n",
       "      <td>0</td>\n",
       "      <td>0</td>\n",
       "      <td>4</td>\n",
       "      <td>0</td>\n",
       "      <td>0</td>\n",
       "    </tr>\n",
       "  </tbody>\n",
       "</table>\n",
       "</div>"
      ],
      "text/plain": [
       "family            1   2   3   4   5   6   7   8   11\n",
       "pclass survived                                     \n",
       "1      0          51  19   6   2   0   2   0   0   0\n",
       "       1          58  51  18   5   2   2   0   0   0\n",
       "2      0          68  16  10   3   0   0   0   0   0\n",
       "       1          36  18  21  10   1   1   0   0   0\n",
       "3      0         255  37  27   3  12  17   8   6   7\n",
       "       1          69  20  20   6   0   0   4   0   0"
      ]
     },
     "execution_count": 124,
     "metadata": {},
     "output_type": "execute_result"
    }
   ],
   "source": [
    "pd.crosstab(index = [tr['pclass'],tr['survived']], columns = tr['family'])\n",
    "\n",
    "#티켓팅은 11명이 했지만 탑승은 7명이 해서 7명이라고 뜨는 것.\n",
    "#3등급이라 죽은건지, 11명이 타서 죽은건지는 애매하다.\n",
    "# 1등급 : 혼자는 비슷비슷, 동행 2-4명은 살 확률이 높아졌다. \n",
    "# 3등급 : 혼자는 죽을 확률이 월등히 높고, 동행이 적을 수록 살 확률이 생긴다.\n",
    "# 결론 : 혼자 혹은 너무 많은 것보다는 동행이 약간 있는 것이 살 확률이 생긴다."
   ]
  },
  {
   "cell_type": "code",
   "execution_count": 125,
   "id": "34df50e4-e9f5-48b6-a1e7-0ecfb9a9c619",
   "metadata": {
    "tags": []
   },
   "outputs": [
    {
     "data": {
      "text/html": [
       "<div>\n",
       "<style scoped>\n",
       "    .dataframe tbody tr th:only-of-type {\n",
       "        vertical-align: middle;\n",
       "    }\n",
       "\n",
       "    .dataframe tbody tr th {\n",
       "        vertical-align: top;\n",
       "    }\n",
       "\n",
       "    .dataframe thead th {\n",
       "        text-align: right;\n",
       "    }\n",
       "</style>\n",
       "<table border=\"1\" class=\"dataframe\">\n",
       "  <thead>\n",
       "    <tr style=\"text-align: right;\">\n",
       "      <th></th>\n",
       "      <th>passengerid</th>\n",
       "      <th>survived</th>\n",
       "      <th>pclass</th>\n",
       "      <th>sex</th>\n",
       "      <th>age</th>\n",
       "      <th>sibsp</th>\n",
       "      <th>parch</th>\n",
       "      <th>ticket</th>\n",
       "      <th>fare</th>\n",
       "      <th>cabin</th>\n",
       "      <th>embarked</th>\n",
       "      <th>cabin2</th>\n",
       "      <th>name_title</th>\n",
       "      <th>age2</th>\n",
       "      <th>age_gugan</th>\n",
       "      <th>family</th>\n",
       "    </tr>\n",
       "  </thead>\n",
       "  <tbody>\n",
       "    <tr>\n",
       "      <th>8</th>\n",
       "      <td>9</td>\n",
       "      <td>1</td>\n",
       "      <td>3</td>\n",
       "      <td>female</td>\n",
       "      <td>27.0</td>\n",
       "      <td>0</td>\n",
       "      <td>2</td>\n",
       "      <td>347742</td>\n",
       "      <td>11.1333</td>\n",
       "      <td>NaN</td>\n",
       "      <td>S</td>\n",
       "      <td>NaN</td>\n",
       "      <td>Mrs.</td>\n",
       "      <td>27.000000</td>\n",
       "      <td>2</td>\n",
       "      <td>3</td>\n",
       "    </tr>\n",
       "    <tr>\n",
       "      <th>10</th>\n",
       "      <td>11</td>\n",
       "      <td>1</td>\n",
       "      <td>3</td>\n",
       "      <td>female</td>\n",
       "      <td>4.0</td>\n",
       "      <td>1</td>\n",
       "      <td>1</td>\n",
       "      <td>PP 9549</td>\n",
       "      <td>16.7000</td>\n",
       "      <td>G6</td>\n",
       "      <td>S</td>\n",
       "      <td>G</td>\n",
       "      <td>Miss.</td>\n",
       "      <td>4.000000</td>\n",
       "      <td>0</td>\n",
       "      <td>3</td>\n",
       "    </tr>\n",
       "    <tr>\n",
       "      <th>38</th>\n",
       "      <td>39</td>\n",
       "      <td>0</td>\n",
       "      <td>3</td>\n",
       "      <td>female</td>\n",
       "      <td>18.0</td>\n",
       "      <td>2</td>\n",
       "      <td>0</td>\n",
       "      <td>345764</td>\n",
       "      <td>18.0000</td>\n",
       "      <td>NaN</td>\n",
       "      <td>S</td>\n",
       "      <td>NaN</td>\n",
       "      <td>Miss.</td>\n",
       "      <td>18.000000</td>\n",
       "      <td>1</td>\n",
       "      <td>3</td>\n",
       "    </tr>\n",
       "    <tr>\n",
       "      <th>48</th>\n",
       "      <td>49</td>\n",
       "      <td>0</td>\n",
       "      <td>3</td>\n",
       "      <td>male</td>\n",
       "      <td>NaN</td>\n",
       "      <td>2</td>\n",
       "      <td>0</td>\n",
       "      <td>2662</td>\n",
       "      <td>21.6792</td>\n",
       "      <td>NaN</td>\n",
       "      <td>C</td>\n",
       "      <td>NaN</td>\n",
       "      <td>Mr.</td>\n",
       "      <td>32.891990</td>\n",
       "      <td>3</td>\n",
       "      <td>3</td>\n",
       "    </tr>\n",
       "    <tr>\n",
       "      <th>65</th>\n",
       "      <td>66</td>\n",
       "      <td>1</td>\n",
       "      <td>3</td>\n",
       "      <td>male</td>\n",
       "      <td>NaN</td>\n",
       "      <td>1</td>\n",
       "      <td>1</td>\n",
       "      <td>2661</td>\n",
       "      <td>15.2458</td>\n",
       "      <td>NaN</td>\n",
       "      <td>C</td>\n",
       "      <td>NaN</td>\n",
       "      <td>Master.</td>\n",
       "      <td>4.574167</td>\n",
       "      <td>0</td>\n",
       "      <td>3</td>\n",
       "    </tr>\n",
       "    <tr>\n",
       "      <th>...</th>\n",
       "      <td>...</td>\n",
       "      <td>...</td>\n",
       "      <td>...</td>\n",
       "      <td>...</td>\n",
       "      <td>...</td>\n",
       "      <td>...</td>\n",
       "      <td>...</td>\n",
       "      <td>...</td>\n",
       "      <td>...</td>\n",
       "      <td>...</td>\n",
       "      <td>...</td>\n",
       "      <td>...</td>\n",
       "      <td>...</td>\n",
       "      <td>...</td>\n",
       "      <td>...</td>\n",
       "      <td>...</td>\n",
       "    </tr>\n",
       "    <tr>\n",
       "      <th>852</th>\n",
       "      <td>853</td>\n",
       "      <td>0</td>\n",
       "      <td>3</td>\n",
       "      <td>female</td>\n",
       "      <td>9.0</td>\n",
       "      <td>1</td>\n",
       "      <td>1</td>\n",
       "      <td>2678</td>\n",
       "      <td>15.2458</td>\n",
       "      <td>NaN</td>\n",
       "      <td>C</td>\n",
       "      <td>NaN</td>\n",
       "      <td>Miss.</td>\n",
       "      <td>9.000000</td>\n",
       "      <td>0</td>\n",
       "      <td>3</td>\n",
       "    </tr>\n",
       "    <tr>\n",
       "      <th>856</th>\n",
       "      <td>857</td>\n",
       "      <td>1</td>\n",
       "      <td>1</td>\n",
       "      <td>female</td>\n",
       "      <td>45.0</td>\n",
       "      <td>1</td>\n",
       "      <td>1</td>\n",
       "      <td>36928</td>\n",
       "      <td>164.8667</td>\n",
       "      <td>NaN</td>\n",
       "      <td>S</td>\n",
       "      <td>NaN</td>\n",
       "      <td>Mrs.</td>\n",
       "      <td>45.000000</td>\n",
       "      <td>4</td>\n",
       "      <td>3</td>\n",
       "    </tr>\n",
       "    <tr>\n",
       "      <th>860</th>\n",
       "      <td>861</td>\n",
       "      <td>0</td>\n",
       "      <td>3</td>\n",
       "      <td>male</td>\n",
       "      <td>41.0</td>\n",
       "      <td>2</td>\n",
       "      <td>0</td>\n",
       "      <td>350026</td>\n",
       "      <td>14.1083</td>\n",
       "      <td>NaN</td>\n",
       "      <td>S</td>\n",
       "      <td>NaN</td>\n",
       "      <td>Mr.</td>\n",
       "      <td>41.000000</td>\n",
       "      <td>4</td>\n",
       "      <td>3</td>\n",
       "    </tr>\n",
       "    <tr>\n",
       "      <th>869</th>\n",
       "      <td>870</td>\n",
       "      <td>1</td>\n",
       "      <td>3</td>\n",
       "      <td>male</td>\n",
       "      <td>4.0</td>\n",
       "      <td>1</td>\n",
       "      <td>1</td>\n",
       "      <td>347742</td>\n",
       "      <td>11.1333</td>\n",
       "      <td>NaN</td>\n",
       "      <td>S</td>\n",
       "      <td>NaN</td>\n",
       "      <td>Master.</td>\n",
       "      <td>4.000000</td>\n",
       "      <td>0</td>\n",
       "      <td>3</td>\n",
       "    </tr>\n",
       "    <tr>\n",
       "      <th>871</th>\n",
       "      <td>872</td>\n",
       "      <td>1</td>\n",
       "      <td>1</td>\n",
       "      <td>female</td>\n",
       "      <td>47.0</td>\n",
       "      <td>1</td>\n",
       "      <td>1</td>\n",
       "      <td>11751</td>\n",
       "      <td>52.5542</td>\n",
       "      <td>D35</td>\n",
       "      <td>S</td>\n",
       "      <td>D</td>\n",
       "      <td>Mrs.</td>\n",
       "      <td>47.000000</td>\n",
       "      <td>4</td>\n",
       "      <td>3</td>\n",
       "    </tr>\n",
       "  </tbody>\n",
       "</table>\n",
       "<p>102 rows × 16 columns</p>\n",
       "</div>"
      ],
      "text/plain": [
       "     passengerid  survived  pclass     sex   age  sibsp  parch   ticket  \\\n",
       "8              9         1       3  female  27.0      0      2   347742   \n",
       "10            11         1       3  female   4.0      1      1  PP 9549   \n",
       "38            39         0       3  female  18.0      2      0   345764   \n",
       "48            49         0       3    male   NaN      2      0     2662   \n",
       "65            66         1       3    male   NaN      1      1     2661   \n",
       "..           ...       ...     ...     ...   ...    ...    ...      ...   \n",
       "852          853         0       3  female   9.0      1      1     2678   \n",
       "856          857         1       1  female  45.0      1      1    36928   \n",
       "860          861         0       3    male  41.0      2      0   350026   \n",
       "869          870         1       3    male   4.0      1      1   347742   \n",
       "871          872         1       1  female  47.0      1      1    11751   \n",
       "\n",
       "         fare cabin embarked cabin2 name_title       age2  age_gugan  family  \n",
       "8     11.1333   NaN        S    NaN       Mrs.  27.000000          2       3  \n",
       "10    16.7000    G6        S      G      Miss.   4.000000          0       3  \n",
       "38    18.0000   NaN        S    NaN      Miss.  18.000000          1       3  \n",
       "48    21.6792   NaN        C    NaN        Mr.  32.891990          3       3  \n",
       "65    15.2458   NaN        C    NaN    Master.   4.574167          0       3  \n",
       "..        ...   ...      ...    ...        ...        ...        ...     ...  \n",
       "852   15.2458   NaN        C    NaN      Miss.   9.000000          0       3  \n",
       "856  164.8667   NaN        S    NaN       Mrs.  45.000000          4       3  \n",
       "860   14.1083   NaN        S    NaN        Mr.  41.000000          4       3  \n",
       "869   11.1333   NaN        S    NaN    Master.   4.000000          0       3  \n",
       "871   52.5542   D35        S      D       Mrs.  47.000000          4       3  \n",
       "\n",
       "[102 rows x 16 columns]"
      ]
     },
     "execution_count": 125,
     "metadata": {},
     "output_type": "execute_result"
    }
   ],
   "source": [
    "# 3명 동행인 사람들은 왜 생존율이 높을까?\n",
    "# 자녀 등의 가족이 있어서 힘이 있다...\n",
    "\n",
    "tr[tr['family'] == 3]"
   ]
  },
  {
   "cell_type": "markdown",
   "id": "75e4352a-b605-4094-9e2f-1239fc283573",
   "metadata": {
    "tags": []
   },
   "source": [
    "* 발권만 해놓고 미탑승한 사람이 있어서 티켓으로 의미 판별은 애매하다."
   ]
  },
  {
   "cell_type": "markdown",
   "id": "7b552b81-7bc6-4335-8b25-f16eac822903",
   "metadata": {},
   "source": [
    "## Fare per family "
   ]
  },
  {
   "cell_type": "markdown",
   "id": "9a22756f-4933-4d40-a038-f3ccf713ac34",
   "metadata": {},
   "source": [
    "* 두당 요금 : 'ticket' ,'sibsp','parch','family','survived' 비교"
   ]
  },
  {
   "cell_type": "code",
   "execution_count": 126,
   "id": "7803da90-d76f-46f8-b15d-85b92023805a",
   "metadata": {
    "tags": []
   },
   "outputs": [
    {
     "data": {
      "text/html": [
       "<div>\n",
       "<style scoped>\n",
       "    .dataframe tbody tr th:only-of-type {\n",
       "        vertical-align: middle;\n",
       "    }\n",
       "\n",
       "    .dataframe tbody tr th {\n",
       "        vertical-align: top;\n",
       "    }\n",
       "\n",
       "    .dataframe thead th {\n",
       "        text-align: right;\n",
       "    }\n",
       "</style>\n",
       "<table border=\"1\" class=\"dataframe\">\n",
       "  <thead>\n",
       "    <tr style=\"text-align: right;\">\n",
       "      <th></th>\n",
       "      <th>passengerid</th>\n",
       "      <th>survived</th>\n",
       "      <th>pclass</th>\n",
       "      <th>sex</th>\n",
       "      <th>age</th>\n",
       "      <th>sibsp</th>\n",
       "      <th>parch</th>\n",
       "      <th>ticket</th>\n",
       "      <th>fare</th>\n",
       "      <th>cabin</th>\n",
       "      <th>embarked</th>\n",
       "      <th>cabin2</th>\n",
       "      <th>name_title</th>\n",
       "      <th>age2</th>\n",
       "      <th>age_gugan</th>\n",
       "      <th>family</th>\n",
       "      <th>fare2</th>\n",
       "    </tr>\n",
       "  </thead>\n",
       "  <tbody>\n",
       "    <tr>\n",
       "      <th>0</th>\n",
       "      <td>1</td>\n",
       "      <td>0</td>\n",
       "      <td>3</td>\n",
       "      <td>male</td>\n",
       "      <td>22.0</td>\n",
       "      <td>1</td>\n",
       "      <td>0</td>\n",
       "      <td>A/5 21171</td>\n",
       "      <td>7.2500</td>\n",
       "      <td>NaN</td>\n",
       "      <td>S</td>\n",
       "      <td>NaN</td>\n",
       "      <td>Mr.</td>\n",
       "      <td>22.0</td>\n",
       "      <td>2</td>\n",
       "      <td>2</td>\n",
       "      <td>3.62500</td>\n",
       "    </tr>\n",
       "    <tr>\n",
       "      <th>1</th>\n",
       "      <td>2</td>\n",
       "      <td>1</td>\n",
       "      <td>1</td>\n",
       "      <td>female</td>\n",
       "      <td>38.0</td>\n",
       "      <td>1</td>\n",
       "      <td>0</td>\n",
       "      <td>PC 17599</td>\n",
       "      <td>71.2833</td>\n",
       "      <td>C85</td>\n",
       "      <td>C</td>\n",
       "      <td>C</td>\n",
       "      <td>Mrs.</td>\n",
       "      <td>38.0</td>\n",
       "      <td>3</td>\n",
       "      <td>2</td>\n",
       "      <td>35.64165</td>\n",
       "    </tr>\n",
       "    <tr>\n",
       "      <th>2</th>\n",
       "      <td>3</td>\n",
       "      <td>1</td>\n",
       "      <td>3</td>\n",
       "      <td>female</td>\n",
       "      <td>26.0</td>\n",
       "      <td>0</td>\n",
       "      <td>0</td>\n",
       "      <td>STON/O2. 3101282</td>\n",
       "      <td>7.9250</td>\n",
       "      <td>NaN</td>\n",
       "      <td>S</td>\n",
       "      <td>NaN</td>\n",
       "      <td>Miss.</td>\n",
       "      <td>26.0</td>\n",
       "      <td>2</td>\n",
       "      <td>1</td>\n",
       "      <td>7.92500</td>\n",
       "    </tr>\n",
       "    <tr>\n",
       "      <th>3</th>\n",
       "      <td>4</td>\n",
       "      <td>1</td>\n",
       "      <td>1</td>\n",
       "      <td>female</td>\n",
       "      <td>35.0</td>\n",
       "      <td>1</td>\n",
       "      <td>0</td>\n",
       "      <td>113803</td>\n",
       "      <td>53.1000</td>\n",
       "      <td>C123</td>\n",
       "      <td>S</td>\n",
       "      <td>C</td>\n",
       "      <td>Mrs.</td>\n",
       "      <td>35.0</td>\n",
       "      <td>3</td>\n",
       "      <td>2</td>\n",
       "      <td>26.55000</td>\n",
       "    </tr>\n",
       "    <tr>\n",
       "      <th>4</th>\n",
       "      <td>5</td>\n",
       "      <td>0</td>\n",
       "      <td>3</td>\n",
       "      <td>male</td>\n",
       "      <td>35.0</td>\n",
       "      <td>0</td>\n",
       "      <td>0</td>\n",
       "      <td>373450</td>\n",
       "      <td>8.0500</td>\n",
       "      <td>NaN</td>\n",
       "      <td>S</td>\n",
       "      <td>NaN</td>\n",
       "      <td>Mr.</td>\n",
       "      <td>35.0</td>\n",
       "      <td>3</td>\n",
       "      <td>1</td>\n",
       "      <td>8.05000</td>\n",
       "    </tr>\n",
       "  </tbody>\n",
       "</table>\n",
       "</div>"
      ],
      "text/plain": [
       "   passengerid  survived  pclass     sex   age  sibsp  parch  \\\n",
       "0            1         0       3    male  22.0      1      0   \n",
       "1            2         1       1  female  38.0      1      0   \n",
       "2            3         1       3  female  26.0      0      0   \n",
       "3            4         1       1  female  35.0      1      0   \n",
       "4            5         0       3    male  35.0      0      0   \n",
       "\n",
       "             ticket     fare cabin embarked cabin2 name_title  age2  \\\n",
       "0         A/5 21171   7.2500   NaN        S    NaN        Mr.  22.0   \n",
       "1          PC 17599  71.2833   C85        C      C       Mrs.  38.0   \n",
       "2  STON/O2. 3101282   7.9250   NaN        S    NaN      Miss.  26.0   \n",
       "3            113803  53.1000  C123        S      C       Mrs.  35.0   \n",
       "4            373450   8.0500   NaN        S    NaN        Mr.  35.0   \n",
       "\n",
       "   age_gugan  family     fare2  \n",
       "0          2       2   3.62500  \n",
       "1          3       2  35.64165  \n",
       "2          2       1   7.92500  \n",
       "3          3       2  26.55000  \n",
       "4          3       1   8.05000  "
      ]
     },
     "execution_count": 126,
     "metadata": {},
     "output_type": "execute_result"
    }
   ],
   "source": [
    "tr['fare2'] = tr['fare'] / tr['family']\n",
    "tr.head()"
   ]
  },
  {
   "cell_type": "code",
   "execution_count": 127,
   "id": "278649d8-9c4e-41d8-929b-606a76cbea4f",
   "metadata": {},
   "outputs": [],
   "source": [
    "# pd.crosstab(index = [tr['pclass'],tr['survived']], columns = tr['fare2'])"
   ]
  },
  {
   "cell_type": "code",
   "execution_count": 128,
   "id": "689a60c5-5feb-4144-9522-ef9910a4fb28",
   "metadata": {
    "tags": []
   },
   "outputs": [
    {
     "data": {
      "text/plain": [
       "(0.0, 512.3292)"
      ]
     },
     "execution_count": 128,
     "metadata": {},
     "output_type": "execute_result"
    }
   ],
   "source": [
    "tr['fare2'].min(),tr['fare2'].max()"
   ]
  },
  {
   "cell_type": "code",
   "execution_count": 129,
   "id": "89ecc82f-0b35-4aeb-956f-974de3687906",
   "metadata": {
    "tags": []
   },
   "outputs": [
    {
     "data": {
      "text/html": [
       "<div>\n",
       "<style scoped>\n",
       "    .dataframe tbody tr th:only-of-type {\n",
       "        vertical-align: middle;\n",
       "    }\n",
       "\n",
       "    .dataframe tbody tr th {\n",
       "        vertical-align: top;\n",
       "    }\n",
       "\n",
       "    .dataframe thead th {\n",
       "        text-align: right;\n",
       "    }\n",
       "</style>\n",
       "<table border=\"1\" class=\"dataframe\">\n",
       "  <thead>\n",
       "    <tr style=\"text-align: right;\">\n",
       "      <th></th>\n",
       "      <th>passengerid</th>\n",
       "      <th>survived</th>\n",
       "      <th>pclass</th>\n",
       "      <th>sex</th>\n",
       "      <th>age</th>\n",
       "      <th>sibsp</th>\n",
       "      <th>parch</th>\n",
       "      <th>ticket</th>\n",
       "      <th>fare</th>\n",
       "      <th>cabin</th>\n",
       "      <th>embarked</th>\n",
       "      <th>cabin2</th>\n",
       "      <th>name_title</th>\n",
       "      <th>age2</th>\n",
       "      <th>age_gugan</th>\n",
       "      <th>family</th>\n",
       "      <th>fare2</th>\n",
       "    </tr>\n",
       "  </thead>\n",
       "  <tbody>\n",
       "    <tr>\n",
       "      <th>179</th>\n",
       "      <td>180</td>\n",
       "      <td>0</td>\n",
       "      <td>3</td>\n",
       "      <td>male</td>\n",
       "      <td>36.0</td>\n",
       "      <td>0</td>\n",
       "      <td>0</td>\n",
       "      <td>LINE</td>\n",
       "      <td>0.0</td>\n",
       "      <td>NaN</td>\n",
       "      <td>S</td>\n",
       "      <td>NaN</td>\n",
       "      <td>Mr.</td>\n",
       "      <td>36.00000</td>\n",
       "      <td>3</td>\n",
       "      <td>1</td>\n",
       "      <td>0.0</td>\n",
       "    </tr>\n",
       "    <tr>\n",
       "      <th>263</th>\n",
       "      <td>264</td>\n",
       "      <td>0</td>\n",
       "      <td>1</td>\n",
       "      <td>male</td>\n",
       "      <td>40.0</td>\n",
       "      <td>0</td>\n",
       "      <td>0</td>\n",
       "      <td>112059</td>\n",
       "      <td>0.0</td>\n",
       "      <td>B94</td>\n",
       "      <td>S</td>\n",
       "      <td>B</td>\n",
       "      <td>Mr.</td>\n",
       "      <td>40.00000</td>\n",
       "      <td>4</td>\n",
       "      <td>1</td>\n",
       "      <td>0.0</td>\n",
       "    </tr>\n",
       "    <tr>\n",
       "      <th>271</th>\n",
       "      <td>272</td>\n",
       "      <td>1</td>\n",
       "      <td>3</td>\n",
       "      <td>male</td>\n",
       "      <td>25.0</td>\n",
       "      <td>0</td>\n",
       "      <td>0</td>\n",
       "      <td>LINE</td>\n",
       "      <td>0.0</td>\n",
       "      <td>NaN</td>\n",
       "      <td>S</td>\n",
       "      <td>NaN</td>\n",
       "      <td>Mr.</td>\n",
       "      <td>25.00000</td>\n",
       "      <td>2</td>\n",
       "      <td>1</td>\n",
       "      <td>0.0</td>\n",
       "    </tr>\n",
       "    <tr>\n",
       "      <th>277</th>\n",
       "      <td>278</td>\n",
       "      <td>0</td>\n",
       "      <td>2</td>\n",
       "      <td>male</td>\n",
       "      <td>NaN</td>\n",
       "      <td>0</td>\n",
       "      <td>0</td>\n",
       "      <td>239853</td>\n",
       "      <td>0.0</td>\n",
       "      <td>NaN</td>\n",
       "      <td>S</td>\n",
       "      <td>NaN</td>\n",
       "      <td>Mr.</td>\n",
       "      <td>32.89199</td>\n",
       "      <td>3</td>\n",
       "      <td>1</td>\n",
       "      <td>0.0</td>\n",
       "    </tr>\n",
       "    <tr>\n",
       "      <th>302</th>\n",
       "      <td>303</td>\n",
       "      <td>0</td>\n",
       "      <td>3</td>\n",
       "      <td>male</td>\n",
       "      <td>19.0</td>\n",
       "      <td>0</td>\n",
       "      <td>0</td>\n",
       "      <td>LINE</td>\n",
       "      <td>0.0</td>\n",
       "      <td>NaN</td>\n",
       "      <td>S</td>\n",
       "      <td>NaN</td>\n",
       "      <td>Mr.</td>\n",
       "      <td>19.00000</td>\n",
       "      <td>1</td>\n",
       "      <td>1</td>\n",
       "      <td>0.0</td>\n",
       "    </tr>\n",
       "    <tr>\n",
       "      <th>413</th>\n",
       "      <td>414</td>\n",
       "      <td>0</td>\n",
       "      <td>2</td>\n",
       "      <td>male</td>\n",
       "      <td>NaN</td>\n",
       "      <td>0</td>\n",
       "      <td>0</td>\n",
       "      <td>239853</td>\n",
       "      <td>0.0</td>\n",
       "      <td>NaN</td>\n",
       "      <td>S</td>\n",
       "      <td>NaN</td>\n",
       "      <td>Mr.</td>\n",
       "      <td>32.89199</td>\n",
       "      <td>3</td>\n",
       "      <td>1</td>\n",
       "      <td>0.0</td>\n",
       "    </tr>\n",
       "    <tr>\n",
       "      <th>466</th>\n",
       "      <td>467</td>\n",
       "      <td>0</td>\n",
       "      <td>2</td>\n",
       "      <td>male</td>\n",
       "      <td>NaN</td>\n",
       "      <td>0</td>\n",
       "      <td>0</td>\n",
       "      <td>239853</td>\n",
       "      <td>0.0</td>\n",
       "      <td>NaN</td>\n",
       "      <td>S</td>\n",
       "      <td>NaN</td>\n",
       "      <td>Mr.</td>\n",
       "      <td>32.89199</td>\n",
       "      <td>3</td>\n",
       "      <td>1</td>\n",
       "      <td>0.0</td>\n",
       "    </tr>\n",
       "    <tr>\n",
       "      <th>481</th>\n",
       "      <td>482</td>\n",
       "      <td>0</td>\n",
       "      <td>2</td>\n",
       "      <td>male</td>\n",
       "      <td>NaN</td>\n",
       "      <td>0</td>\n",
       "      <td>0</td>\n",
       "      <td>239854</td>\n",
       "      <td>0.0</td>\n",
       "      <td>NaN</td>\n",
       "      <td>S</td>\n",
       "      <td>NaN</td>\n",
       "      <td>Mr.</td>\n",
       "      <td>32.89199</td>\n",
       "      <td>3</td>\n",
       "      <td>1</td>\n",
       "      <td>0.0</td>\n",
       "    </tr>\n",
       "    <tr>\n",
       "      <th>597</th>\n",
       "      <td>598</td>\n",
       "      <td>0</td>\n",
       "      <td>3</td>\n",
       "      <td>male</td>\n",
       "      <td>49.0</td>\n",
       "      <td>0</td>\n",
       "      <td>0</td>\n",
       "      <td>LINE</td>\n",
       "      <td>0.0</td>\n",
       "      <td>NaN</td>\n",
       "      <td>S</td>\n",
       "      <td>NaN</td>\n",
       "      <td>Mr.</td>\n",
       "      <td>49.00000</td>\n",
       "      <td>4</td>\n",
       "      <td>1</td>\n",
       "      <td>0.0</td>\n",
       "    </tr>\n",
       "    <tr>\n",
       "      <th>633</th>\n",
       "      <td>634</td>\n",
       "      <td>0</td>\n",
       "      <td>1</td>\n",
       "      <td>male</td>\n",
       "      <td>NaN</td>\n",
       "      <td>0</td>\n",
       "      <td>0</td>\n",
       "      <td>112052</td>\n",
       "      <td>0.0</td>\n",
       "      <td>NaN</td>\n",
       "      <td>S</td>\n",
       "      <td>NaN</td>\n",
       "      <td>Mr.</td>\n",
       "      <td>32.89199</td>\n",
       "      <td>3</td>\n",
       "      <td>1</td>\n",
       "      <td>0.0</td>\n",
       "    </tr>\n",
       "    <tr>\n",
       "      <th>674</th>\n",
       "      <td>675</td>\n",
       "      <td>0</td>\n",
       "      <td>2</td>\n",
       "      <td>male</td>\n",
       "      <td>NaN</td>\n",
       "      <td>0</td>\n",
       "      <td>0</td>\n",
       "      <td>239856</td>\n",
       "      <td>0.0</td>\n",
       "      <td>NaN</td>\n",
       "      <td>S</td>\n",
       "      <td>NaN</td>\n",
       "      <td>Mr.</td>\n",
       "      <td>32.89199</td>\n",
       "      <td>3</td>\n",
       "      <td>1</td>\n",
       "      <td>0.0</td>\n",
       "    </tr>\n",
       "    <tr>\n",
       "      <th>732</th>\n",
       "      <td>733</td>\n",
       "      <td>0</td>\n",
       "      <td>2</td>\n",
       "      <td>male</td>\n",
       "      <td>NaN</td>\n",
       "      <td>0</td>\n",
       "      <td>0</td>\n",
       "      <td>239855</td>\n",
       "      <td>0.0</td>\n",
       "      <td>NaN</td>\n",
       "      <td>S</td>\n",
       "      <td>NaN</td>\n",
       "      <td>Mr.</td>\n",
       "      <td>32.89199</td>\n",
       "      <td>3</td>\n",
       "      <td>1</td>\n",
       "      <td>0.0</td>\n",
       "    </tr>\n",
       "    <tr>\n",
       "      <th>806</th>\n",
       "      <td>807</td>\n",
       "      <td>0</td>\n",
       "      <td>1</td>\n",
       "      <td>male</td>\n",
       "      <td>39.0</td>\n",
       "      <td>0</td>\n",
       "      <td>0</td>\n",
       "      <td>112050</td>\n",
       "      <td>0.0</td>\n",
       "      <td>A36</td>\n",
       "      <td>S</td>\n",
       "      <td>A</td>\n",
       "      <td>Mr.</td>\n",
       "      <td>39.00000</td>\n",
       "      <td>3</td>\n",
       "      <td>1</td>\n",
       "      <td>0.0</td>\n",
       "    </tr>\n",
       "    <tr>\n",
       "      <th>815</th>\n",
       "      <td>816</td>\n",
       "      <td>0</td>\n",
       "      <td>1</td>\n",
       "      <td>male</td>\n",
       "      <td>NaN</td>\n",
       "      <td>0</td>\n",
       "      <td>0</td>\n",
       "      <td>112058</td>\n",
       "      <td>0.0</td>\n",
       "      <td>B102</td>\n",
       "      <td>S</td>\n",
       "      <td>B</td>\n",
       "      <td>Mr.</td>\n",
       "      <td>32.89199</td>\n",
       "      <td>3</td>\n",
       "      <td>1</td>\n",
       "      <td>0.0</td>\n",
       "    </tr>\n",
       "    <tr>\n",
       "      <th>822</th>\n",
       "      <td>823</td>\n",
       "      <td>0</td>\n",
       "      <td>1</td>\n",
       "      <td>male</td>\n",
       "      <td>38.0</td>\n",
       "      <td>0</td>\n",
       "      <td>0</td>\n",
       "      <td>19972</td>\n",
       "      <td>0.0</td>\n",
       "      <td>NaN</td>\n",
       "      <td>S</td>\n",
       "      <td>NaN</td>\n",
       "      <td>Mr.</td>\n",
       "      <td>38.00000</td>\n",
       "      <td>3</td>\n",
       "      <td>1</td>\n",
       "      <td>0.0</td>\n",
       "    </tr>\n",
       "  </tbody>\n",
       "</table>\n",
       "</div>"
      ],
      "text/plain": [
       "     passengerid  survived  pclass   sex   age  sibsp  parch  ticket  fare  \\\n",
       "179          180         0       3  male  36.0      0      0    LINE   0.0   \n",
       "263          264         0       1  male  40.0      0      0  112059   0.0   \n",
       "271          272         1       3  male  25.0      0      0    LINE   0.0   \n",
       "277          278         0       2  male   NaN      0      0  239853   0.0   \n",
       "302          303         0       3  male  19.0      0      0    LINE   0.0   \n",
       "413          414         0       2  male   NaN      0      0  239853   0.0   \n",
       "466          467         0       2  male   NaN      0      0  239853   0.0   \n",
       "481          482         0       2  male   NaN      0      0  239854   0.0   \n",
       "597          598         0       3  male  49.0      0      0    LINE   0.0   \n",
       "633          634         0       1  male   NaN      0      0  112052   0.0   \n",
       "674          675         0       2  male   NaN      0      0  239856   0.0   \n",
       "732          733         0       2  male   NaN      0      0  239855   0.0   \n",
       "806          807         0       1  male  39.0      0      0  112050   0.0   \n",
       "815          816         0       1  male   NaN      0      0  112058   0.0   \n",
       "822          823         0       1  male  38.0      0      0   19972   0.0   \n",
       "\n",
       "    cabin embarked cabin2 name_title      age2  age_gugan  family  fare2  \n",
       "179   NaN        S    NaN        Mr.  36.00000          3       1    0.0  \n",
       "263   B94        S      B        Mr.  40.00000          4       1    0.0  \n",
       "271   NaN        S    NaN        Mr.  25.00000          2       1    0.0  \n",
       "277   NaN        S    NaN        Mr.  32.89199          3       1    0.0  \n",
       "302   NaN        S    NaN        Mr.  19.00000          1       1    0.0  \n",
       "413   NaN        S    NaN        Mr.  32.89199          3       1    0.0  \n",
       "466   NaN        S    NaN        Mr.  32.89199          3       1    0.0  \n",
       "481   NaN        S    NaN        Mr.  32.89199          3       1    0.0  \n",
       "597   NaN        S    NaN        Mr.  49.00000          4       1    0.0  \n",
       "633   NaN        S    NaN        Mr.  32.89199          3       1    0.0  \n",
       "674   NaN        S    NaN        Mr.  32.89199          3       1    0.0  \n",
       "732   NaN        S    NaN        Mr.  32.89199          3       1    0.0  \n",
       "806   A36        S      A        Mr.  39.00000          3       1    0.0  \n",
       "815  B102        S      B        Mr.  32.89199          3       1    0.0  \n",
       "822   NaN        S    NaN        Mr.  38.00000          3       1    0.0  "
      ]
     },
     "execution_count": 129,
     "metadata": {},
     "output_type": "execute_result"
    }
   ],
   "source": [
    "tr[tr['fare2']==0]\n",
    "\n",
    "#fare2가 0인 사람은 승무원일 확률이 높다."
   ]
  },
  {
   "cell_type": "code",
   "execution_count": 130,
   "id": "78234ba4-60b8-4485-bc12-9ba8e4751972",
   "metadata": {
    "tags": []
   },
   "outputs": [
    {
     "data": {
      "text/html": [
       "<div>\n",
       "<style scoped>\n",
       "    .dataframe tbody tr th:only-of-type {\n",
       "        vertical-align: middle;\n",
       "    }\n",
       "\n",
       "    .dataframe tbody tr th {\n",
       "        vertical-align: top;\n",
       "    }\n",
       "\n",
       "    .dataframe thead th {\n",
       "        text-align: right;\n",
       "    }\n",
       "</style>\n",
       "<table border=\"1\" class=\"dataframe\">\n",
       "  <thead>\n",
       "    <tr style=\"text-align: right;\">\n",
       "      <th></th>\n",
       "      <th>passengerid</th>\n",
       "      <th>survived</th>\n",
       "      <th>pclass</th>\n",
       "      <th>sex</th>\n",
       "      <th>age</th>\n",
       "      <th>sibsp</th>\n",
       "      <th>parch</th>\n",
       "      <th>ticket</th>\n",
       "      <th>fare</th>\n",
       "      <th>cabin</th>\n",
       "      <th>embarked</th>\n",
       "      <th>cabin2</th>\n",
       "      <th>name_title</th>\n",
       "      <th>age2</th>\n",
       "      <th>age_gugan</th>\n",
       "      <th>family</th>\n",
       "      <th>fare2</th>\n",
       "    </tr>\n",
       "  </thead>\n",
       "  <tbody>\n",
       "    <tr>\n",
       "      <th>258</th>\n",
       "      <td>259</td>\n",
       "      <td>1</td>\n",
       "      <td>1</td>\n",
       "      <td>female</td>\n",
       "      <td>35.0</td>\n",
       "      <td>0</td>\n",
       "      <td>0</td>\n",
       "      <td>PC 17755</td>\n",
       "      <td>512.3292</td>\n",
       "      <td>NaN</td>\n",
       "      <td>C</td>\n",
       "      <td>NaN</td>\n",
       "      <td>Miss.</td>\n",
       "      <td>35.0</td>\n",
       "      <td>3</td>\n",
       "      <td>1</td>\n",
       "      <td>512.3292</td>\n",
       "    </tr>\n",
       "    <tr>\n",
       "      <th>737</th>\n",
       "      <td>738</td>\n",
       "      <td>1</td>\n",
       "      <td>1</td>\n",
       "      <td>male</td>\n",
       "      <td>35.0</td>\n",
       "      <td>0</td>\n",
       "      <td>0</td>\n",
       "      <td>PC 17755</td>\n",
       "      <td>512.3292</td>\n",
       "      <td>B101</td>\n",
       "      <td>C</td>\n",
       "      <td>B</td>\n",
       "      <td>Mr.</td>\n",
       "      <td>35.0</td>\n",
       "      <td>3</td>\n",
       "      <td>1</td>\n",
       "      <td>512.3292</td>\n",
       "    </tr>\n",
       "  </tbody>\n",
       "</table>\n",
       "</div>"
      ],
      "text/plain": [
       "     passengerid  survived  pclass     sex   age  sibsp  parch    ticket  \\\n",
       "258          259         1       1  female  35.0      0      0  PC 17755   \n",
       "737          738         1       1    male  35.0      0      0  PC 17755   \n",
       "\n",
       "         fare cabin embarked cabin2 name_title  age2  age_gugan  family  \\\n",
       "258  512.3292   NaN        C    NaN      Miss.  35.0          3       1   \n",
       "737  512.3292  B101        C      B        Mr.  35.0          3       1   \n",
       "\n",
       "        fare2  \n",
       "258  512.3292  \n",
       "737  512.3292  "
      ]
     },
     "execution_count": 130,
     "metadata": {},
     "output_type": "execute_result"
    }
   ],
   "source": [
    "#티켓값 최대\n",
    "\n",
    "tr[tr['fare2']==tr['fare2'].max()]"
   ]
  },
  {
   "cell_type": "markdown",
   "id": "9a02613f-9759-474b-98b0-38090867cbca",
   "metadata": {},
   "source": [
    "* 요금을 많이 낼 수록 살 확률이 높은 것은 맞는 것 같지만, 그냥 pclass로 비교하면 된다."
   ]
  },
  {
   "cell_type": "markdown",
   "id": "6be88b31-f546-4d81-8e09-dda9b651d353",
   "metadata": {},
   "source": [
    "***"
   ]
  },
  {
   "cell_type": "markdown",
   "id": "b9c1e777-e311-456f-b29d-9742d631b603",
   "metadata": {},
   "source": [
    "# EDA분석 완료"
   ]
  },
  {
   "cell_type": "code",
   "execution_count": 131,
   "id": "04797d52-ddb7-4a94-bc2b-ea89d53f4c68",
   "metadata": {
    "tags": []
   },
   "outputs": [
    {
     "data": {
      "text/plain": [
       "Index(['passengerid', 'survived', 'pclass', 'sex', 'age', 'sibsp', 'parch',\n",
       "       'ticket', 'fare', 'cabin', 'embarked', 'cabin2', 'name_title', 'age2',\n",
       "       'age_gugan', 'family', 'fare2'],\n",
       "      dtype='object')"
      ]
     },
     "execution_count": 131,
     "metadata": {},
     "output_type": "execute_result"
    }
   ],
   "source": [
    "tr.columns"
   ]
  },
  {
   "cell_type": "markdown",
   "id": "238a06b9-e415-4378-ab31-6e3378d36f07",
   "metadata": {},
   "source": [
    "* 살려둘 값 : survived, pclass, sex, name_title, age2, age_gugan, family  \n",
    "    - age2는 필요에 의하면 10단위가 아닌 세분화된 단위로 분석할 수 있기 때문에 살려둔다."
   ]
  },
  {
   "cell_type": "markdown",
   "id": "4af1cb66-e424-4c22-9d7d-ca566e6c7a9d",
   "metadata": {},
   "source": [
    "## 삭제 대상 컬럼\n",
    "    - passengerid : 유니크값(가장 먼저 삭제)\n",
    "    - 파생 피쳐 생성으로 인한 불필요 컬럼 : 'age'=> age2(결측 처리) => age_gugan(나이구간화)\n",
    "                                        'sibsp', 'parch' => family\n",
    "                                        'ticket','cabin','embarked'\n",
    "                                         'name' => name_title(호칭 정리, 호칭 통일)\n",
    "                                         'fare','fare2' (두당요금)"
   ]
  },
  {
   "cell_type": "markdown",
   "id": "332a9bed-da56-4030-97ef-5d57714fda28",
   "metadata": {
    "tags": []
   },
   "source": [
    "### Passangerid 버리는 이유 (All unique라서)"
   ]
  },
  {
   "cell_type": "markdown",
   "id": "66ffc522-9c47-4c9f-9233-105620d65680",
   "metadata": {},
   "source": [
    "**id 지우는 이유  \n",
    "(유니크해서 : 891개의 값이 모두 달라서 데이터 분석에 쓸모없기 때문에 지운다)**"
   ]
  },
  {
   "cell_type": "markdown",
   "id": "4cd92555-0705-47e2-951f-cfe88bc994ca",
   "metadata": {
    "tags": []
   },
   "source": [
    "* 가능하면 drop은 실시간으로 하지 말고, 분석 후에 한꺼번에 지운다."
   ]
  },
  {
   "cell_type": "code",
   "execution_count": 132,
   "id": "b4071667-e898-45a8-9cca-00ae7a4e4864",
   "metadata": {
    "tags": []
   },
   "outputs": [
    {
     "name": "stdout",
     "output_type": "stream",
     "text": [
      "<class 'pandas.core.frame.DataFrame'>\n",
      "RangeIndex: 891 entries, 0 to 890\n",
      "Data columns (total 7 columns):\n",
      " #   Column      Non-Null Count  Dtype  \n",
      "---  ------      --------------  -----  \n",
      " 0   survived    891 non-null    int64  \n",
      " 1   pclass      891 non-null    int64  \n",
      " 2   sex         891 non-null    object \n",
      " 3   name_title  891 non-null    object \n",
      " 4   age2        891 non-null    float64\n",
      " 5   age_gugan   891 non-null    int32  \n",
      " 6   family      891 non-null    int64  \n",
      "dtypes: float64(1), int32(1), int64(3), object(2)\n",
      "memory usage: 45.4+ KB\n"
     ]
    }
   ],
   "source": [
    "#tr.drop(['passengerid','age', 'sibsp', 'parch', 'ticket', 'fare','cabin', 'embarked', 'cabin2','fare2'], axis=1,inplace=True)\n",
    "# drop을 해도 좋지만, 데이터의 안전을 위해서 불러올 데이터만 카피본으로 만드는 것도 좋다...?\n",
    "\n",
    "tr = tr[['survived','pclass', 'sex','name_title', 'age2', 'age_gugan', 'family']].copy()\n",
    "tr.info()"
   ]
  },
  {
   "cell_type": "markdown",
   "id": "9d5aa7c2-364a-47b8-bcc8-4d0a32854b25",
   "metadata": {},
   "source": [
    "# 최종 Feature\n",
    "    - Nan값이 없어야 한다.\n",
    "    - Object 타입이 없어야 한다.\n",
    "    - 그래야 컴퓨터가 학습을 할 수 있다."
   ]
  },
  {
   "cell_type": "markdown",
   "id": "8c5f69e8-6d31-49a9-8895-cf2cf89cba51",
   "metadata": {},
   "source": [
    "## 결측체크"
   ]
  },
  {
   "cell_type": "code",
   "execution_count": 133,
   "id": "d9bb9982-9c45-4d96-8c1a-7e76c0fee064",
   "metadata": {
    "tags": []
   },
   "outputs": [
    {
     "data": {
      "text/plain": [
       "survived      0\n",
       "pclass        0\n",
       "sex           0\n",
       "name_title    0\n",
       "age2          0\n",
       "age_gugan     0\n",
       "family        0\n",
       "dtype: int64"
      ]
     },
     "execution_count": 133,
     "metadata": {},
     "output_type": "execute_result"
    }
   ],
   "source": [
    "tr.isna().sum()"
   ]
  },
  {
   "cell_type": "code",
   "execution_count": 134,
   "id": "d380c7c6-0251-4b09-9bdc-64819cf12158",
   "metadata": {
    "tags": []
   },
   "outputs": [
    {
     "name": "stdout",
     "output_type": "stream",
     "text": [
      "<class 'pandas.core.frame.DataFrame'>\n",
      "RangeIndex: 891 entries, 0 to 890\n",
      "Data columns (total 7 columns):\n",
      " #   Column      Non-Null Count  Dtype  \n",
      "---  ------      --------------  -----  \n",
      " 0   survived    891 non-null    int64  \n",
      " 1   pclass      891 non-null    int64  \n",
      " 2   sex         891 non-null    object \n",
      " 3   name_title  891 non-null    object \n",
      " 4   age2        891 non-null    float64\n",
      " 5   age_gugan   891 non-null    int32  \n",
      " 6   family      891 non-null    int64  \n",
      "dtypes: float64(1), int32(1), int64(3), object(2)\n",
      "memory usage: 45.4+ KB\n"
     ]
    }
   ],
   "source": [
    "tr.info()"
   ]
  },
  {
   "cell_type": "code",
   "execution_count": null,
   "id": "46edb50e-c356-4ca8-b41c-183344195973",
   "metadata": {},
   "outputs": [],
   "source": []
  },
  {
   "cell_type": "markdown",
   "id": "3b15e1ec-c491-48b9-ac1d-e7ebb473da67",
   "metadata": {},
   "source": [
    "## Object 타입 변경하기"
   ]
  },
  {
   "cell_type": "markdown",
   "id": "20c23ca2-d67e-48c7-88e3-ce9cf46bba11",
   "metadata": {},
   "source": [
    "### 범주형 변수 categorical data 처리\n",
    " * lec10 파일 참고\n",
    "* 라벨인코딩(Label Encoding)\n",
    "* 원핫인코딩(One-hot Encoding)\n",
    "* get_dummies()\n",
    "* 범주화(Bining)\n",
    "* df[컬럼].astype(\"category\")"
   ]
  },
  {
   "cell_type": "code",
   "execution_count": 135,
   "id": "cffa3eba-faf0-4534-a24c-4514d4001841",
   "metadata": {
    "tags": []
   },
   "outputs": [
    {
     "data": {
      "text/plain": [
       "Index(['sex', 'name_title'], dtype='object')"
      ]
     },
     "execution_count": 135,
     "metadata": {},
     "output_type": "execute_result"
    }
   ],
   "source": [
    "#데이터 프레임의 d타입이 오브젝트인 컬럼을 뽑아내라\n",
    "\n",
    "tr.select_dtypes('object').columns"
   ]
  },
  {
   "cell_type": "code",
   "execution_count": 136,
   "id": "0a426077-4af4-46f7-ad83-5e52a4ed5d25",
   "metadata": {
    "tags": []
   },
   "outputs": [
    {
     "data": {
      "text/plain": [
       "Index(['sex', 'name_title'], dtype='object')"
      ]
     },
     "execution_count": 136,
     "metadata": {},
     "output_type": "execute_result"
    }
   ],
   "source": [
    "tr.dtypes[tr.dtypes == 'object'].index"
   ]
  },
  {
   "cell_type": "markdown",
   "id": "f8faf8e3-c3dc-4c15-b651-c7c6a5bb1a46",
   "metadata": {},
   "source": [
    "***"
   ]
  },
  {
   "cell_type": "code",
   "execution_count": 137,
   "id": "3d43eade-9a3b-4557-9688-449eb25441e8",
   "metadata": {
    "tags": []
   },
   "outputs": [
    {
     "data": {
      "text/plain": [
       "male      577\n",
       "female    314\n",
       "Name: sex, dtype: int64"
      ]
     },
     "execution_count": 137,
     "metadata": {},
     "output_type": "execute_result"
    }
   ],
   "source": [
    "tr['sex'].value_counts()"
   ]
  },
  {
   "cell_type": "code",
   "execution_count": 138,
   "id": "3e89f995-bca9-403e-9b2d-1c11eb0dc4e4",
   "metadata": {
    "tags": []
   },
   "outputs": [
    {
     "data": {
      "text/plain": [
       "Mr.        531\n",
       "Miss.      186\n",
       "Mrs.       127\n",
       "Master.     40\n",
       "Dr.          7\n",
       "Name: name_title, dtype: int64"
      ]
     },
     "execution_count": 138,
     "metadata": {},
     "output_type": "execute_result"
    }
   ],
   "source": [
    "tr['name_title'].value_counts()"
   ]
  },
  {
   "cell_type": "code",
   "execution_count": 139,
   "id": "c4caf741-b84e-4f84-81bc-26b4987164e8",
   "metadata": {
    "tags": []
   },
   "outputs": [],
   "source": [
    "dic = {'male':'0','female':'1'}\n",
    "\n",
    "\n",
    "tr['sex']= tr['sex'].map(dic)"
   ]
  },
  {
   "cell_type": "code",
   "execution_count": 140,
   "id": "0c39d21f-e59e-4602-b200-4b155cf1e4a0",
   "metadata": {
    "tags": []
   },
   "outputs": [],
   "source": [
    "dic2 = {'Mr.':'1','Miss.':'2','Mrs.':'3','Master.':'4','Dr.':'5'}\n",
    "\n",
    "\n",
    "tr['name_title'] = tr['name_title'].map(dic2)"
   ]
  },
  {
   "cell_type": "code",
   "execution_count": 141,
   "id": "1f56bf11-3bf1-4226-9b95-a7faf0911fe6",
   "metadata": {
    "tags": []
   },
   "outputs": [
    {
     "data": {
      "text/html": [
       "<div>\n",
       "<style scoped>\n",
       "    .dataframe tbody tr th:only-of-type {\n",
       "        vertical-align: middle;\n",
       "    }\n",
       "\n",
       "    .dataframe tbody tr th {\n",
       "        vertical-align: top;\n",
       "    }\n",
       "\n",
       "    .dataframe thead th {\n",
       "        text-align: right;\n",
       "    }\n",
       "</style>\n",
       "<table border=\"1\" class=\"dataframe\">\n",
       "  <thead>\n",
       "    <tr style=\"text-align: right;\">\n",
       "      <th></th>\n",
       "      <th>survived</th>\n",
       "      <th>pclass</th>\n",
       "      <th>sex</th>\n",
       "      <th>name_title</th>\n",
       "      <th>age2</th>\n",
       "      <th>age_gugan</th>\n",
       "      <th>family</th>\n",
       "    </tr>\n",
       "  </thead>\n",
       "  <tbody>\n",
       "    <tr>\n",
       "      <th>0</th>\n",
       "      <td>0</td>\n",
       "      <td>3</td>\n",
       "      <td>0</td>\n",
       "      <td>1</td>\n",
       "      <td>22.0</td>\n",
       "      <td>2</td>\n",
       "      <td>2</td>\n",
       "    </tr>\n",
       "    <tr>\n",
       "      <th>1</th>\n",
       "      <td>1</td>\n",
       "      <td>1</td>\n",
       "      <td>1</td>\n",
       "      <td>3</td>\n",
       "      <td>38.0</td>\n",
       "      <td>3</td>\n",
       "      <td>2</td>\n",
       "    </tr>\n",
       "    <tr>\n",
       "      <th>2</th>\n",
       "      <td>1</td>\n",
       "      <td>3</td>\n",
       "      <td>1</td>\n",
       "      <td>2</td>\n",
       "      <td>26.0</td>\n",
       "      <td>2</td>\n",
       "      <td>1</td>\n",
       "    </tr>\n",
       "    <tr>\n",
       "      <th>3</th>\n",
       "      <td>1</td>\n",
       "      <td>1</td>\n",
       "      <td>1</td>\n",
       "      <td>3</td>\n",
       "      <td>35.0</td>\n",
       "      <td>3</td>\n",
       "      <td>2</td>\n",
       "    </tr>\n",
       "    <tr>\n",
       "      <th>4</th>\n",
       "      <td>0</td>\n",
       "      <td>3</td>\n",
       "      <td>0</td>\n",
       "      <td>1</td>\n",
       "      <td>35.0</td>\n",
       "      <td>3</td>\n",
       "      <td>1</td>\n",
       "    </tr>\n",
       "  </tbody>\n",
       "</table>\n",
       "</div>"
      ],
      "text/plain": [
       "   survived  pclass sex name_title  age2  age_gugan  family\n",
       "0         0       3   0          1  22.0          2       2\n",
       "1         1       1   1          3  38.0          3       2\n",
       "2         1       3   1          2  26.0          2       1\n",
       "3         1       1   1          3  35.0          3       2\n",
       "4         0       3   0          1  35.0          3       1"
      ]
     },
     "execution_count": 141,
     "metadata": {},
     "output_type": "execute_result"
    }
   ],
   "source": [
    "tr.head()"
   ]
  },
  {
   "cell_type": "code",
   "execution_count": 142,
   "id": "c1019632-57a1-480c-8fb5-d224d9be44a9",
   "metadata": {},
   "outputs": [],
   "source": [
    "# pd.get_dummies()"
   ]
  },
  {
   "cell_type": "markdown",
   "id": "6b6d5a29-f9af-40b6-9024-a816ba7548b7",
   "metadata": {},
   "source": [
    "* get더미가 하는 일\n",
    "    - 자동 결측 처리 + LabelEncoder() + OneHotEncoder()\n",
    "    - 라벨 인코더 : 글자를 넣어주면 순서순으로 자동 순서부여?\n",
    "    - 원핫 : 차이가 크지 않게 나만 핫하게..?  \n",
    "      \n",
    "      \n",
    "<b>* 주의사항 : 원하는 결측처리를 하고 난 후에 써야 한다.  \n",
    "  그렇지 않으면, 자동 결측처리로 인해 다 0처리 해버려서 나중에 유의미한 결측처리 못함.</b>"
   ]
  },
  {
   "cell_type": "code",
   "execution_count": 143,
   "id": "31f5e74f-8de4-43bd-97c7-f5f32767c9b1",
   "metadata": {},
   "outputs": [],
   "source": [
    "from sklearn.preprocessing import LabelEncoder"
   ]
  },
  {
   "cell_type": "markdown",
   "id": "b30e3fef-1f14-4e30-8bff-499aa2a1d1fb",
   "metadata": {},
   "source": [
    "* 성별은 라벨 인코딩으로, 원핫 하나로 한번씩"
   ]
  },
  {
   "cell_type": "code",
   "execution_count": 144,
   "id": "6f501e17-f265-43ff-a8f4-1489a7beb6b1",
   "metadata": {
    "tags": []
   },
   "outputs": [],
   "source": [
    "le = LabelEncoder() \n",
    "le.fit(tr['sex']) \n",
    "\n",
    "tr['sex'] = le.transform(tr['sex'])"
   ]
  },
  {
   "cell_type": "code",
   "execution_count": 145,
   "id": "70675705-4f45-4ec0-a063-fe6cfa205bce",
   "metadata": {
    "tags": []
   },
   "outputs": [
    {
     "name": "stdout",
     "output_type": "stream",
     "text": [
      "<class 'pandas.core.frame.DataFrame'>\n",
      "RangeIndex: 891 entries, 0 to 890\n",
      "Data columns (total 7 columns):\n",
      " #   Column      Non-Null Count  Dtype  \n",
      "---  ------      --------------  -----  \n",
      " 0   survived    891 non-null    int64  \n",
      " 1   pclass      891 non-null    int64  \n",
      " 2   sex         891 non-null    int32  \n",
      " 3   name_title  891 non-null    object \n",
      " 4   age2        891 non-null    float64\n",
      " 5   age_gugan   891 non-null    int32  \n",
      " 6   family      891 non-null    int64  \n",
      "dtypes: float64(1), int32(2), int64(3), object(1)\n",
      "memory usage: 41.9+ KB\n"
     ]
    }
   ],
   "source": [
    "tr.info()"
   ]
  },
  {
   "cell_type": "markdown",
   "id": "7e8bbfc2-5b5a-4d6f-85ec-4cc357a15627",
   "metadata": {},
   "source": [
    "* name_title은 astype으로"
   ]
  },
  {
   "cell_type": "code",
   "execution_count": 146,
   "id": "8e917183-dc7f-4bf5-9c2c-de53c8f5e979",
   "metadata": {
    "tags": []
   },
   "outputs": [],
   "source": [
    "tr['name_title'] = tr['name_title'].astype('category')"
   ]
  },
  {
   "cell_type": "code",
   "execution_count": 147,
   "id": "025c72dd-b516-49fc-90cf-d9ffd1eb0938",
   "metadata": {
    "tags": []
   },
   "outputs": [
    {
     "name": "stdout",
     "output_type": "stream",
     "text": [
      "<class 'pandas.core.frame.DataFrame'>\n",
      "RangeIndex: 891 entries, 0 to 890\n",
      "Data columns (total 7 columns):\n",
      " #   Column      Non-Null Count  Dtype   \n",
      "---  ------      --------------  -----   \n",
      " 0   survived    891 non-null    int64   \n",
      " 1   pclass      891 non-null    int64   \n",
      " 2   sex         891 non-null    int32   \n",
      " 3   name_title  891 non-null    category\n",
      " 4   age2        891 non-null    float64 \n",
      " 5   age_gugan   891 non-null    int32   \n",
      " 6   family      891 non-null    int64   \n",
      "dtypes: category(1), float64(1), int32(2), int64(3)\n",
      "memory usage: 36.0 KB\n"
     ]
    }
   ],
   "source": [
    "tr.info()"
   ]
  },
  {
   "cell_type": "code",
   "execution_count": 148,
   "id": "d39e56f4-8303-4c35-9bd8-04f7107bdd10",
   "metadata": {
    "tags": []
   },
   "outputs": [
    {
     "data": {
      "text/html": [
       "<div>\n",
       "<style scoped>\n",
       "    .dataframe tbody tr th:only-of-type {\n",
       "        vertical-align: middle;\n",
       "    }\n",
       "\n",
       "    .dataframe tbody tr th {\n",
       "        vertical-align: top;\n",
       "    }\n",
       "\n",
       "    .dataframe thead th {\n",
       "        text-align: right;\n",
       "    }\n",
       "</style>\n",
       "<table border=\"1\" class=\"dataframe\">\n",
       "  <thead>\n",
       "    <tr style=\"text-align: right;\">\n",
       "      <th></th>\n",
       "      <th>survived</th>\n",
       "      <th>pclass</th>\n",
       "      <th>sex</th>\n",
       "      <th>name_title</th>\n",
       "      <th>age2</th>\n",
       "      <th>age_gugan</th>\n",
       "      <th>family</th>\n",
       "    </tr>\n",
       "  </thead>\n",
       "  <tbody>\n",
       "    <tr>\n",
       "      <th>0</th>\n",
       "      <td>0</td>\n",
       "      <td>3</td>\n",
       "      <td>0</td>\n",
       "      <td>1</td>\n",
       "      <td>22.0</td>\n",
       "      <td>2</td>\n",
       "      <td>2</td>\n",
       "    </tr>\n",
       "    <tr>\n",
       "      <th>1</th>\n",
       "      <td>1</td>\n",
       "      <td>1</td>\n",
       "      <td>1</td>\n",
       "      <td>3</td>\n",
       "      <td>38.0</td>\n",
       "      <td>3</td>\n",
       "      <td>2</td>\n",
       "    </tr>\n",
       "    <tr>\n",
       "      <th>2</th>\n",
       "      <td>1</td>\n",
       "      <td>3</td>\n",
       "      <td>1</td>\n",
       "      <td>2</td>\n",
       "      <td>26.0</td>\n",
       "      <td>2</td>\n",
       "      <td>1</td>\n",
       "    </tr>\n",
       "    <tr>\n",
       "      <th>3</th>\n",
       "      <td>1</td>\n",
       "      <td>1</td>\n",
       "      <td>1</td>\n",
       "      <td>3</td>\n",
       "      <td>35.0</td>\n",
       "      <td>3</td>\n",
       "      <td>2</td>\n",
       "    </tr>\n",
       "    <tr>\n",
       "      <th>4</th>\n",
       "      <td>0</td>\n",
       "      <td>3</td>\n",
       "      <td>0</td>\n",
       "      <td>1</td>\n",
       "      <td>35.0</td>\n",
       "      <td>3</td>\n",
       "      <td>1</td>\n",
       "    </tr>\n",
       "  </tbody>\n",
       "</table>\n",
       "</div>"
      ],
      "text/plain": [
       "   survived  pclass  sex name_title  age2  age_gugan  family\n",
       "0         0       3    0          1  22.0          2       2\n",
       "1         1       1    1          3  38.0          3       2\n",
       "2         1       3    1          2  26.0          2       1\n",
       "3         1       1    1          3  35.0          3       2\n",
       "4         0       3    0          1  35.0          3       1"
      ]
     },
     "execution_count": 148,
     "metadata": {},
     "output_type": "execute_result"
    }
   ],
   "source": [
    "tr.head()"
   ]
  },
  {
   "cell_type": "markdown",
   "id": "8317ebd3-5548-4b7d-bc6b-c5e1aeeb3bc7",
   "metadata": {},
   "source": [
    "<pre>\n",
    "\n",
    "survived      0\n",
    "pclass        0\n",
    "sex           0\n",
    "name_title    0\n",
    "age2          0\n",
    "age_gugan     0\n",
    "family\n",
    "\n",
    "</pre>"
   ]
  },
  {
   "cell_type": "code",
   "execution_count": 150,
   "id": "f8705ada-e75d-40fb-aad1-806f62fb6517",
   "metadata": {
    "tags": []
   },
   "outputs": [
    {
     "data": {
      "text/html": [
       "<div>\n",
       "<style scoped>\n",
       "    .dataframe tbody tr th:only-of-type {\n",
       "        vertical-align: middle;\n",
       "    }\n",
       "\n",
       "    .dataframe tbody tr th {\n",
       "        vertical-align: top;\n",
       "    }\n",
       "\n",
       "    .dataframe thead th {\n",
       "        text-align: right;\n",
       "    }\n",
       "</style>\n",
       "<table border=\"1\" class=\"dataframe\">\n",
       "  <thead>\n",
       "    <tr style=\"text-align: right;\">\n",
       "      <th></th>\n",
       "      <th>survived</th>\n",
       "      <th>pclass</th>\n",
       "      <th>sex</th>\n",
       "      <th>age2</th>\n",
       "      <th>age_gugan</th>\n",
       "      <th>family</th>\n",
       "      <th>name_title_1</th>\n",
       "      <th>name_title_2</th>\n",
       "      <th>name_title_3</th>\n",
       "      <th>name_title_4</th>\n",
       "      <th>name_title_5</th>\n",
       "    </tr>\n",
       "  </thead>\n",
       "  <tbody>\n",
       "    <tr>\n",
       "      <th>0</th>\n",
       "      <td>0</td>\n",
       "      <td>3</td>\n",
       "      <td>0</td>\n",
       "      <td>22.00</td>\n",
       "      <td>2</td>\n",
       "      <td>2</td>\n",
       "      <td>1</td>\n",
       "      <td>0</td>\n",
       "      <td>0</td>\n",
       "      <td>0</td>\n",
       "      <td>0</td>\n",
       "    </tr>\n",
       "    <tr>\n",
       "      <th>1</th>\n",
       "      <td>1</td>\n",
       "      <td>1</td>\n",
       "      <td>1</td>\n",
       "      <td>38.00</td>\n",
       "      <td>3</td>\n",
       "      <td>2</td>\n",
       "      <td>0</td>\n",
       "      <td>0</td>\n",
       "      <td>1</td>\n",
       "      <td>0</td>\n",
       "      <td>0</td>\n",
       "    </tr>\n",
       "    <tr>\n",
       "      <th>2</th>\n",
       "      <td>1</td>\n",
       "      <td>3</td>\n",
       "      <td>1</td>\n",
       "      <td>26.00</td>\n",
       "      <td>2</td>\n",
       "      <td>1</td>\n",
       "      <td>0</td>\n",
       "      <td>1</td>\n",
       "      <td>0</td>\n",
       "      <td>0</td>\n",
       "      <td>0</td>\n",
       "    </tr>\n",
       "    <tr>\n",
       "      <th>3</th>\n",
       "      <td>1</td>\n",
       "      <td>1</td>\n",
       "      <td>1</td>\n",
       "      <td>35.00</td>\n",
       "      <td>3</td>\n",
       "      <td>2</td>\n",
       "      <td>0</td>\n",
       "      <td>0</td>\n",
       "      <td>1</td>\n",
       "      <td>0</td>\n",
       "      <td>0</td>\n",
       "    </tr>\n",
       "    <tr>\n",
       "      <th>4</th>\n",
       "      <td>0</td>\n",
       "      <td>3</td>\n",
       "      <td>0</td>\n",
       "      <td>35.00</td>\n",
       "      <td>3</td>\n",
       "      <td>1</td>\n",
       "      <td>1</td>\n",
       "      <td>0</td>\n",
       "      <td>0</td>\n",
       "      <td>0</td>\n",
       "      <td>0</td>\n",
       "    </tr>\n",
       "    <tr>\n",
       "      <th>...</th>\n",
       "      <td>...</td>\n",
       "      <td>...</td>\n",
       "      <td>...</td>\n",
       "      <td>...</td>\n",
       "      <td>...</td>\n",
       "      <td>...</td>\n",
       "      <td>...</td>\n",
       "      <td>...</td>\n",
       "      <td>...</td>\n",
       "      <td>...</td>\n",
       "      <td>...</td>\n",
       "    </tr>\n",
       "    <tr>\n",
       "      <th>886</th>\n",
       "      <td>0</td>\n",
       "      <td>2</td>\n",
       "      <td>0</td>\n",
       "      <td>27.00</td>\n",
       "      <td>2</td>\n",
       "      <td>1</td>\n",
       "      <td>1</td>\n",
       "      <td>0</td>\n",
       "      <td>0</td>\n",
       "      <td>0</td>\n",
       "      <td>0</td>\n",
       "    </tr>\n",
       "    <tr>\n",
       "      <th>887</th>\n",
       "      <td>1</td>\n",
       "      <td>1</td>\n",
       "      <td>1</td>\n",
       "      <td>19.00</td>\n",
       "      <td>1</td>\n",
       "      <td>1</td>\n",
       "      <td>0</td>\n",
       "      <td>1</td>\n",
       "      <td>0</td>\n",
       "      <td>0</td>\n",
       "      <td>0</td>\n",
       "    </tr>\n",
       "    <tr>\n",
       "      <th>888</th>\n",
       "      <td>0</td>\n",
       "      <td>3</td>\n",
       "      <td>1</td>\n",
       "      <td>22.02</td>\n",
       "      <td>2</td>\n",
       "      <td>4</td>\n",
       "      <td>0</td>\n",
       "      <td>1</td>\n",
       "      <td>0</td>\n",
       "      <td>0</td>\n",
       "      <td>0</td>\n",
       "    </tr>\n",
       "    <tr>\n",
       "      <th>889</th>\n",
       "      <td>1</td>\n",
       "      <td>1</td>\n",
       "      <td>0</td>\n",
       "      <td>26.00</td>\n",
       "      <td>2</td>\n",
       "      <td>1</td>\n",
       "      <td>1</td>\n",
       "      <td>0</td>\n",
       "      <td>0</td>\n",
       "      <td>0</td>\n",
       "      <td>0</td>\n",
       "    </tr>\n",
       "    <tr>\n",
       "      <th>890</th>\n",
       "      <td>0</td>\n",
       "      <td>3</td>\n",
       "      <td>0</td>\n",
       "      <td>32.00</td>\n",
       "      <td>3</td>\n",
       "      <td>1</td>\n",
       "      <td>1</td>\n",
       "      <td>0</td>\n",
       "      <td>0</td>\n",
       "      <td>0</td>\n",
       "      <td>0</td>\n",
       "    </tr>\n",
       "  </tbody>\n",
       "</table>\n",
       "<p>891 rows × 11 columns</p>\n",
       "</div>"
      ],
      "text/plain": [
       "     survived  pclass  sex   age2  age_gugan  family  name_title_1  \\\n",
       "0           0       3    0  22.00          2       2             1   \n",
       "1           1       1    1  38.00          3       2             0   \n",
       "2           1       3    1  26.00          2       1             0   \n",
       "3           1       1    1  35.00          3       2             0   \n",
       "4           0       3    0  35.00          3       1             1   \n",
       "..        ...     ...  ...    ...        ...     ...           ...   \n",
       "886         0       2    0  27.00          2       1             1   \n",
       "887         1       1    1  19.00          1       1             0   \n",
       "888         0       3    1  22.02          2       4             0   \n",
       "889         1       1    0  26.00          2       1             1   \n",
       "890         0       3    0  32.00          3       1             1   \n",
       "\n",
       "     name_title_2  name_title_3  name_title_4  name_title_5  \n",
       "0               0             0             0             0  \n",
       "1               0             1             0             0  \n",
       "2               1             0             0             0  \n",
       "3               0             1             0             0  \n",
       "4               0             0             0             0  \n",
       "..            ...           ...           ...           ...  \n",
       "886             0             0             0             0  \n",
       "887             1             0             0             0  \n",
       "888             1             0             0             0  \n",
       "889             0             0             0             0  \n",
       "890             0             0             0             0  \n",
       "\n",
       "[891 rows x 11 columns]"
      ]
     },
     "execution_count": 150,
     "metadata": {},
     "output_type": "execute_result"
    }
   ],
   "source": [
    "ttr = pd.get_dummies(tr)\n",
    "ttr\n"
   ]
  },
  {
   "cell_type": "code",
   "execution_count": null,
   "id": "ef47331f-3747-47fb-a9eb-59c912089195",
   "metadata": {},
   "outputs": [],
   "source": []
  }
 ],
 "metadata": {
  "kernelspec": {
   "display_name": "Python 3 (ipykernel)",
   "language": "python",
   "name": "python3"
  },
  "language_info": {
   "codemirror_mode": {
    "name": "ipython",
    "version": 3
   },
   "file_extension": ".py",
   "mimetype": "text/x-python",
   "name": "python",
   "nbconvert_exporter": "python",
   "pygments_lexer": "ipython3",
   "version": "3.8.8"
  },
  "toc-autonumbering": true,
  "toc-showcode": false,
  "toc-showmarkdowntxt": false
 },
 "nbformat": 4,
 "nbformat_minor": 5
}
