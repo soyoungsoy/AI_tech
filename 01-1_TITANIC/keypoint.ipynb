{
 "cells": [
  {
   "cell_type": "markdown",
   "id": "acc319a8-bee9-44c5-b08d-4de8fe5859a2",
   "metadata": {},
   "source": [
    "<pre>\n",
    "1. 데이터 프레임을 불러오면\n",
    "2. info,isna 조회를 해서 nan값, type 파악한다.\n",
    "# 1. nan이 있어서는 안된다 : 결측은 버리거나, 채우거나(어떤 값으로 채울 것인가?)\n",
    "# 2. object가 있어서는 안된다 : 컴퓨터는 글자는 학습을 못하기 때문에, 숫자형태로 변경해줘야 학습이 가능하다.\n",
    "</pre>"
   ]
  },
  {
   "cell_type": "code",
   "execution_count": 3,
   "id": "ebfc8d9e-9891-40c9-b65d-d5c9c88dac43",
   "metadata": {
    "tags": []
   },
   "outputs": [
    {
     "name": "stdout",
     "output_type": "stream",
     "text": [
      "<class 'pandas.core.frame.DataFrame'>\n",
      "RangeIndex: 891 entries, 0 to 890\n",
      "Data columns (total 12 columns):\n",
      " #   Column       Non-Null Count  Dtype  \n",
      "---  ------       --------------  -----  \n",
      " 0   PassengerId  891 non-null    int64  \n",
      " 1   Survived     891 non-null    int64  \n",
      " 2   Pclass       891 non-null    int64  \n",
      " 3   Name         891 non-null    object \n",
      " 4   Sex          891 non-null    object \n",
      " 5   Age          714 non-null    float64\n",
      " 6   SibSp        891 non-null    int64  \n",
      " 7   Parch        891 non-null    int64  \n",
      " 8   Ticket       891 non-null    object \n",
      " 9   Fare         891 non-null    float64\n",
      " 10  Cabin        204 non-null    object \n",
      " 11  Embarked     889 non-null    object \n",
      "dtypes: float64(2), int64(5), object(5)\n",
      "memory usage: 83.7+ KB\n"
     ]
    }
   ],
   "source": [
    "#데이터 프레임 구조 확인하기\n",
    "# 1. nan이 있어서는 안된다 : 결측은 버리거나, 채우거나\n",
    "# 2. object가 있어서는 안된다 : 컴퓨터는 글자는 학습을 못하기 때문에, 숫자형태로 변경해줘야 학습이 가능하다.\n",
    "\n",
    "tr.info()"
   ]
  },
  {
   "cell_type": "markdown",
   "id": "0721f403-7c40-4102-9922-3e6e570d4751",
   "metadata": {},
   "source": [
    "# 중복값 확인\n",
    "\n",
    "    * df[컬럼].unique() = distinct\n",
    "    * df[컬럼].nunique()\n",
    "    * 유니크값은 일치되는 값이 적거나 너무 많거나 한다면(연관성이 적어서), 분석에 별로 도움이 안된다. "
   ]
  }
 ],
 "metadata": {
  "kernelspec": {
   "display_name": "Python 3 (ipykernel)",
   "language": "python",
   "name": "python3"
  },
  "language_info": {
   "codemirror_mode": {
    "name": "ipython",
    "version": 3
   },
   "file_extension": ".py",
   "mimetype": "text/x-python",
   "name": "python",
   "nbconvert_exporter": "python",
   "pygments_lexer": "ipython3",
   "version": "3.8.8"
  }
 },
 "nbformat": 4,
 "nbformat_minor": 5
}
