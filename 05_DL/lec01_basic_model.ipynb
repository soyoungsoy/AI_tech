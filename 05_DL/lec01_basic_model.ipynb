{
 "cells": [
  {
   "cell_type": "markdown",
   "id": "5ac9c037-e7cf-462f-a1a0-b6e95a84f303",
   "metadata": {},
   "source": [
    "<font size=6><b> Lec01. 딥러닝 기초"
   ]
  },
  {
   "cell_type": "markdown",
   "id": "1097856f-4dbc-4b41-b000-05d65296c3b4",
   "metadata": {},
   "source": [
    "* ref : https://www.tensorflow.org/?hl=ko\n",
    "* ref : https://keras.io/ko/\n",
    "* ref : https://keras.io/api/layers/core_layers/dense/"
   ]
  },
  {
   "cell_type": "code",
   "execution_count": 6,
   "id": "f7d79890-c577-4bcc-8d35-a0d39c8ae470",
   "metadata": {},
   "outputs": [
    {
     "data": {
      "text/html": [
       "<style>.container{width:100% !important;}</style>"
      ],
      "text/plain": [
       "<IPython.core.display.HTML object>"
      ]
     },
     "metadata": {},
     "output_type": "display_data"
    }
   ],
   "source": [
    "import numpy as np\n",
    "import pandas as pd\n",
    "\n",
    "import matplotlib.pyplot as plt\n",
    "import seaborn as sns\n",
    "\n",
    "\n",
    "sns.set()\n",
    "\n",
    "#-------------------- 차트 관련 속성 (한글처리, 그리드) -----------\n",
    "plt.rcParams['font.family']= 'Malgun Gothic'\n",
    "plt.rcParams['axes.unicode_minus'] = False\n",
    "\n",
    "#-------------------- 주피터 , 출력결과 넓이 늘리기 ---------------\n",
    "# from IPython.core.display import display, HTML\n",
    "from IPython.display import display, HTML\n",
    "\n",
    "display(HTML(\"<style>.container{width:100% !important;}</style>\"))\n",
    "pd.set_option('display.max_rows', 100)\n",
    "pd.set_option('display.max_columns', 100)\n",
    "pd.set_option('max_colwidth', None)\n",
    "\n",
    "import warnings\n",
    "warnings.filterwarnings(action='ignore')"
   ]
  },
  {
   "cell_type": "code",
   "execution_count": 8,
   "id": "7c812599-61d1-496b-b16a-5c3ad006c8be",
   "metadata": {
    "tags": []
   },
   "outputs": [
    {
     "data": {
      "text/html": [
       "<div>\n",
       "<style scoped>\n",
       "    .dataframe tbody tr th:only-of-type {\n",
       "        vertical-align: middle;\n",
       "    }\n",
       "\n",
       "    .dataframe tbody tr th {\n",
       "        vertical-align: top;\n",
       "    }\n",
       "\n",
       "    .dataframe thead th {\n",
       "        text-align: right;\n",
       "    }\n",
       "</style>\n",
       "<table border=\"1\" class=\"dataframe\">\n",
       "  <thead>\n",
       "    <tr style=\"text-align: right;\">\n",
       "      <th></th>\n",
       "      <th>sl</th>\n",
       "      <th>sw</th>\n",
       "      <th>pl</th>\n",
       "      <th>pw</th>\n",
       "      <th>target</th>\n",
       "    </tr>\n",
       "  </thead>\n",
       "  <tbody>\n",
       "    <tr>\n",
       "      <th>0</th>\n",
       "      <td>5.1</td>\n",
       "      <td>3.5</td>\n",
       "      <td>1.4</td>\n",
       "      <td>0.2</td>\n",
       "      <td>0</td>\n",
       "    </tr>\n",
       "    <tr>\n",
       "      <th>1</th>\n",
       "      <td>4.9</td>\n",
       "      <td>3.0</td>\n",
       "      <td>1.4</td>\n",
       "      <td>0.2</td>\n",
       "      <td>0</td>\n",
       "    </tr>\n",
       "    <tr>\n",
       "      <th>2</th>\n",
       "      <td>4.7</td>\n",
       "      <td>3.2</td>\n",
       "      <td>1.3</td>\n",
       "      <td>0.2</td>\n",
       "      <td>0</td>\n",
       "    </tr>\n",
       "    <tr>\n",
       "      <th>3</th>\n",
       "      <td>4.6</td>\n",
       "      <td>3.1</td>\n",
       "      <td>1.5</td>\n",
       "      <td>0.2</td>\n",
       "      <td>0</td>\n",
       "    </tr>\n",
       "    <tr>\n",
       "      <th>4</th>\n",
       "      <td>5.0</td>\n",
       "      <td>3.6</td>\n",
       "      <td>1.4</td>\n",
       "      <td>0.2</td>\n",
       "      <td>0</td>\n",
       "    </tr>\n",
       "  </tbody>\n",
       "</table>\n",
       "</div>"
      ],
      "text/plain": [
       "    sl   sw   pl   pw  target\n",
       "0  5.1  3.5  1.4  0.2       0\n",
       "1  4.9  3.0  1.4  0.2       0\n",
       "2  4.7  3.2  1.3  0.2       0\n",
       "3  4.6  3.1  1.5  0.2       0\n",
       "4  5.0  3.6  1.4  0.2       0"
      ]
     },
     "execution_count": 8,
     "metadata": {},
     "output_type": "execute_result"
    }
   ],
   "source": [
    "df = pd.read_csv(\"../ML/datasets/iris.csv\")\n",
    "df.head()"
   ]
  },
  {
   "cell_type": "code",
   "execution_count": 9,
   "id": "d025617b-e8fb-4f0a-a09b-364b28f2d662",
   "metadata": {
    "tags": []
   },
   "outputs": [],
   "source": [
    "from sklearn.model_selection import train_test_split"
   ]
  },
  {
   "cell_type": "code",
   "execution_count": 27,
   "id": "91d537d9-7c9b-476e-9607-7cb8204ef647",
   "metadata": {
    "tags": []
   },
   "outputs": [],
   "source": [
    "y = df['target']\n",
    "X = df.drop(['target'], axis=1)"
   ]
  },
  {
   "cell_type": "markdown",
   "id": "5ae05281-6bba-4e32-8eee-7a335bcc289b",
   "metadata": {},
   "source": [
    "## sparse_categorical_crossentropy\n",
    "* target값이 int인 경우 : sparse_categorical_crossentropy"
   ]
  },
  {
   "cell_type": "code",
   "execution_count": 23,
   "id": "8cc2173c-b770-4b8f-bbce-c3535b61c8f6",
   "metadata": {
    "tags": []
   },
   "outputs": [
    {
     "name": "stdout",
     "output_type": "stream",
     "text": [
      "8      0\n",
      "23     0\n",
      "101    2\n",
      "49     0\n",
      "111    2\n",
      "Name: target, dtype: int64\n"
     ]
    }
   ],
   "source": [
    "X_train,X_test, y_train, y_test = train_test_split(X, y , test_size=0.2, random_state=11, stratify=y)\n",
    "X_train.shape,X_test.shape, y_train.shape, y_test.shape\n",
    "print(y_train[:5])"
   ]
  },
  {
   "cell_type": "markdown",
   "id": "d9d3d259-f181-4c62-abc4-db4dcf2f70c7",
   "metadata": {
    "tags": []
   },
   "source": [
    "## categorical_crossentropy\n",
    "* target값이 categorical(one-hot)인 경우 : categorical_crossentropy"
   ]
  },
  {
   "cell_type": "code",
   "execution_count": 29,
   "id": "fc6388a9-3077-49d2-8061-3ae0d0c2d84d",
   "metadata": {
    "tags": []
   },
   "outputs": [
    {
     "name": "stdout",
     "output_type": "stream",
     "text": [
      "   0  1  2\n",
      "0  1  0  0\n",
      "1  1  0  0\n",
      "2  1  0  0\n",
      "3  1  0  0\n",
      "4  1  0  0\n",
      "[[1 0 0]\n",
      " [1 0 0]\n",
      " [1 0 0]\n",
      " [1 0 0]\n",
      " [1 0 0]]\n"
     ]
    }
   ],
   "source": [
    "yc = pd.get_dummies(y)\n",
    "print(yc[:5])\n",
    "\n",
    "from keras.utils import to_categorical\n",
    "yc2 = to_categorical(y, num_classes=3, dtype='int')\n",
    "print(yc2[:5])\n"
   ]
  },
  {
   "cell_type": "code",
   "execution_count": 30,
   "id": "7d1ff713-a73a-416c-aba8-1f16f9f9fd00",
   "metadata": {
    "tags": []
   },
   "outputs": [
    {
     "name": "stdout",
     "output_type": "stream",
     "text": [
      "     0  1  2\n",
      "8    1  0  0\n",
      "23   1  0  0\n",
      "101  0  0  1\n",
      "49   1  0  0\n",
      "111  0  0  1\n"
     ]
    },
    {
     "data": {
      "text/plain": [
       "((120, 4), (30, 4), (120, 3), (30, 3))"
      ]
     },
     "execution_count": 30,
     "metadata": {},
     "output_type": "execute_result"
    }
   ],
   "source": [
    "X_train,X_test, y_train, y_test = train_test_split(X, yc , test_size=0.2, random_state=11, stratify=y)\n",
    "X_train.shape,X_test.shape, y_train.shape, y_test.shape\n",
    "print(y_train[:5])\n",
    "X_train.shape,X_test.shape, y_train.shape, y_test.shape"
   ]
  },
  {
   "cell_type": "code",
   "execution_count": 31,
   "id": "3d354a40-0a69-4d27-8d36-4aa668868b95",
   "metadata": {
    "tags": []
   },
   "outputs": [
    {
     "data": {
      "text/html": [
       "<div>\n",
       "<style scoped>\n",
       "    .dataframe tbody tr th:only-of-type {\n",
       "        vertical-align: middle;\n",
       "    }\n",
       "\n",
       "    .dataframe tbody tr th {\n",
       "        vertical-align: top;\n",
       "    }\n",
       "\n",
       "    .dataframe thead th {\n",
       "        text-align: right;\n",
       "    }\n",
       "</style>\n",
       "<table border=\"1\" class=\"dataframe\">\n",
       "  <thead>\n",
       "    <tr style=\"text-align: right;\">\n",
       "      <th></th>\n",
       "      <th>sl</th>\n",
       "      <th>sw</th>\n",
       "      <th>pl</th>\n",
       "      <th>pw</th>\n",
       "    </tr>\n",
       "  </thead>\n",
       "  <tbody>\n",
       "    <tr>\n",
       "      <th>8</th>\n",
       "      <td>4.4</td>\n",
       "      <td>2.9</td>\n",
       "      <td>1.4</td>\n",
       "      <td>0.2</td>\n",
       "    </tr>\n",
       "    <tr>\n",
       "      <th>23</th>\n",
       "      <td>5.1</td>\n",
       "      <td>3.3</td>\n",
       "      <td>1.7</td>\n",
       "      <td>0.5</td>\n",
       "    </tr>\n",
       "    <tr>\n",
       "      <th>101</th>\n",
       "      <td>5.8</td>\n",
       "      <td>2.7</td>\n",
       "      <td>5.1</td>\n",
       "      <td>1.9</td>\n",
       "    </tr>\n",
       "    <tr>\n",
       "      <th>49</th>\n",
       "      <td>5.0</td>\n",
       "      <td>3.3</td>\n",
       "      <td>1.4</td>\n",
       "      <td>0.2</td>\n",
       "    </tr>\n",
       "    <tr>\n",
       "      <th>111</th>\n",
       "      <td>6.4</td>\n",
       "      <td>2.7</td>\n",
       "      <td>5.3</td>\n",
       "      <td>1.9</td>\n",
       "    </tr>\n",
       "  </tbody>\n",
       "</table>\n",
       "</div>"
      ],
      "text/plain": [
       "      sl   sw   pl   pw\n",
       "8    4.4  2.9  1.4  0.2\n",
       "23   5.1  3.3  1.7  0.5\n",
       "101  5.8  2.7  5.1  1.9\n",
       "49   5.0  3.3  1.4  0.2\n",
       "111  6.4  2.7  5.3  1.9"
      ]
     },
     "execution_count": 31,
     "metadata": {},
     "output_type": "execute_result"
    }
   ],
   "source": [
    "X_train.head()"
   ]
  },
  {
   "cell_type": "code",
   "execution_count": 33,
   "id": "901b455f-4c7a-4583-b3c5-bfe0852a3418",
   "metadata": {
    "tags": []
   },
   "outputs": [
    {
     "data": {
      "text/html": [
       "<div>\n",
       "<style scoped>\n",
       "    .dataframe tbody tr th:only-of-type {\n",
       "        vertical-align: middle;\n",
       "    }\n",
       "\n",
       "    .dataframe tbody tr th {\n",
       "        vertical-align: top;\n",
       "    }\n",
       "\n",
       "    .dataframe thead th {\n",
       "        text-align: right;\n",
       "    }\n",
       "</style>\n",
       "<table border=\"1\" class=\"dataframe\">\n",
       "  <thead>\n",
       "    <tr style=\"text-align: right;\">\n",
       "      <th></th>\n",
       "      <th>0</th>\n",
       "      <th>1</th>\n",
       "      <th>2</th>\n",
       "    </tr>\n",
       "  </thead>\n",
       "  <tbody>\n",
       "    <tr>\n",
       "      <th>8</th>\n",
       "      <td>1</td>\n",
       "      <td>0</td>\n",
       "      <td>0</td>\n",
       "    </tr>\n",
       "    <tr>\n",
       "      <th>23</th>\n",
       "      <td>1</td>\n",
       "      <td>0</td>\n",
       "      <td>0</td>\n",
       "    </tr>\n",
       "    <tr>\n",
       "      <th>101</th>\n",
       "      <td>0</td>\n",
       "      <td>0</td>\n",
       "      <td>1</td>\n",
       "    </tr>\n",
       "    <tr>\n",
       "      <th>49</th>\n",
       "      <td>1</td>\n",
       "      <td>0</td>\n",
       "      <td>0</td>\n",
       "    </tr>\n",
       "    <tr>\n",
       "      <th>111</th>\n",
       "      <td>0</td>\n",
       "      <td>0</td>\n",
       "      <td>1</td>\n",
       "    </tr>\n",
       "  </tbody>\n",
       "</table>\n",
       "</div>"
      ],
      "text/plain": [
       "     0  1  2\n",
       "8    1  0  0\n",
       "23   1  0  0\n",
       "101  0  0  1\n",
       "49   1  0  0\n",
       "111  0  0  1"
      ]
     },
     "execution_count": 33,
     "metadata": {},
     "output_type": "execute_result"
    }
   ],
   "source": [
    "y_train.head()"
   ]
  },
  {
   "cell_type": "code",
   "execution_count": null,
   "id": "76fb338f-97c6-49c3-a4d4-fe192d10cf68",
   "metadata": {},
   "outputs": [],
   "source": [
    "from keras.layers import Dense\n",
    "from keras import Sequential\n",
    "from keras.initializers import GlorotNormal  #Xavier"
   ]
  },
  {
   "cell_type": "markdown",
   "id": "40a51ce4-251c-49ee-a15a-bd59392ade86",
   "metadata": {
    "tags": []
   },
   "source": [
    "* kernel_initializer\n",
    "    * https://www.kaggle.com/code/sauravjoshi23/weight-initialization-methods-keras"
   ]
  },
  {
   "cell_type": "code",
   "execution_count": 47,
   "id": "985ffd23-94c9-47b1-985f-377c23b67da1",
   "metadata": {},
   "outputs": [],
   "source": [
    "model = Sequential()\n",
    "model.add(Dense(units=10, input_dim=4, activation='relu', kernel_initializer='glorot_normal')) #입력층\n",
    "model.add(Dense(units=6,  activation='relu'))              #히든레이어\n",
    "model.add(Dense(units=6,  activation='relu'))              #히든레이어\n",
    "model.add(Dense(units=3,  activation='softmax'))           #3종 출력층\n",
    "model.compile(loss='categorical_crossentropy', optimizer='Adam', metrics=['accuracy'])"
   ]
  },
  {
   "cell_type": "code",
   "execution_count": 49,
   "id": "22692baa-5a4a-486d-905f-5871c57a6878",
   "metadata": {},
   "outputs": [
    {
     "name": "stdout",
     "output_type": "stream",
     "text": [
      "Model: \"sequential_3\"\n",
      "_________________________________________________________________\n",
      " Layer (type)                Output Shape              Param #   \n",
      "=================================================================\n",
      " dense_8 (Dense)             (None, 10)                50        \n",
      "                                                                 \n",
      " dense_9 (Dense)             (None, 6)                 66        \n",
      "                                                                 \n",
      " dense_10 (Dense)            (None, 6)                 42        \n",
      "                                                                 \n",
      " dense_11 (Dense)            (None, 3)                 21        \n",
      "                                                                 \n",
      "=================================================================\n",
      "Total params: 179\n",
      "Trainable params: 179\n",
      "Non-trainable params: 0\n",
      "_________________________________________________________________\n"
     ]
    }
   ],
   "source": [
    "model.summary()"
   ]
  },
  {
   "cell_type": "code",
   "execution_count": 50,
   "id": "f499701a-23aa-49b4-bdc1-1fec506283e1",
   "metadata": {
    "tags": []
   },
   "outputs": [
    {
     "name": "stdout",
     "output_type": "stream",
     "text": [
      "Epoch 1/100\n",
      "4/4 [==============================] - 1s 78ms/step - loss: 1.1346 - accuracy: 0.6667 - val_loss: 1.1157 - val_accuracy: 0.6667\n",
      "Epoch 2/100\n",
      "4/4 [==============================] - 0s 14ms/step - loss: 1.1176 - accuracy: 0.6667 - val_loss: 1.1030 - val_accuracy: 0.6667\n",
      "Epoch 3/100\n",
      "4/4 [==============================] - 0s 12ms/step - loss: 1.1031 - accuracy: 0.6667 - val_loss: 1.0939 - val_accuracy: 0.6667\n",
      "Epoch 4/100\n",
      "4/4 [==============================] - 0s 13ms/step - loss: 1.0937 - accuracy: 0.6667 - val_loss: 1.0863 - val_accuracy: 0.6667\n",
      "Epoch 5/100\n",
      "4/4 [==============================] - 0s 13ms/step - loss: 1.0866 - accuracy: 0.6667 - val_loss: 1.0802 - val_accuracy: 0.6667\n",
      "Epoch 6/100\n",
      "4/4 [==============================] - 0s 13ms/step - loss: 1.0800 - accuracy: 0.6667 - val_loss: 1.0757 - val_accuracy: 0.6667\n",
      "Epoch 7/100\n",
      "4/4 [==============================] - 0s 13ms/step - loss: 1.0757 - accuracy: 0.6667 - val_loss: 1.0719 - val_accuracy: 0.6667\n",
      "Epoch 8/100\n",
      "4/4 [==============================] - 0s 13ms/step - loss: 1.0716 - accuracy: 0.6500 - val_loss: 1.0685 - val_accuracy: 0.6333\n",
      "Epoch 9/100\n",
      "4/4 [==============================] - 0s 14ms/step - loss: 1.0684 - accuracy: 0.4167 - val_loss: 1.0650 - val_accuracy: 0.3333\n",
      "Epoch 10/100\n",
      "4/4 [==============================] - 0s 11ms/step - loss: 1.0649 - accuracy: 0.3333 - val_loss: 1.0622 - val_accuracy: 0.3333\n",
      "Epoch 11/100\n",
      "4/4 [==============================] - 0s 13ms/step - loss: 1.0622 - accuracy: 0.3333 - val_loss: 1.0591 - val_accuracy: 0.3333\n",
      "Epoch 12/100\n",
      "4/4 [==============================] - 0s 12ms/step - loss: 1.0595 - accuracy: 0.3333 - val_loss: 1.0563 - val_accuracy: 0.3333\n",
      "Epoch 13/100\n",
      "4/4 [==============================] - 0s 12ms/step - loss: 1.0571 - accuracy: 0.3333 - val_loss: 1.0533 - val_accuracy: 0.3333\n",
      "Epoch 14/100\n",
      "4/4 [==============================] - 0s 12ms/step - loss: 1.0543 - accuracy: 0.3333 - val_loss: 1.0504 - val_accuracy: 0.3333\n",
      "Epoch 15/100\n",
      "4/4 [==============================] - 0s 13ms/step - loss: 1.0514 - accuracy: 0.3333 - val_loss: 1.0470 - val_accuracy: 0.3333\n",
      "Epoch 16/100\n",
      "4/4 [==============================] - 0s 12ms/step - loss: 1.0484 - accuracy: 0.3333 - val_loss: 1.0437 - val_accuracy: 0.3333\n",
      "Epoch 17/100\n",
      "4/4 [==============================] - 0s 12ms/step - loss: 1.0456 - accuracy: 0.3333 - val_loss: 1.0405 - val_accuracy: 0.3333\n",
      "Epoch 18/100\n",
      "4/4 [==============================] - 0s 12ms/step - loss: 1.0430 - accuracy: 0.3333 - val_loss: 1.0371 - val_accuracy: 0.3333\n",
      "Epoch 19/100\n",
      "4/4 [==============================] - 0s 12ms/step - loss: 1.0396 - accuracy: 0.3333 - val_loss: 1.0340 - val_accuracy: 0.3333\n",
      "Epoch 20/100\n",
      "4/4 [==============================] - 0s 14ms/step - loss: 1.0370 - accuracy: 0.3333 - val_loss: 1.0308 - val_accuracy: 0.3333\n",
      "Epoch 21/100\n",
      "4/4 [==============================] - 0s 14ms/step - loss: 1.0339 - accuracy: 0.3333 - val_loss: 1.0274 - val_accuracy: 0.3333\n",
      "Epoch 22/100\n",
      "4/4 [==============================] - 0s 27ms/step - loss: 1.0307 - accuracy: 0.3333 - val_loss: 1.0242 - val_accuracy: 0.3333\n",
      "Epoch 23/100\n",
      "4/4 [==============================] - 0s 15ms/step - loss: 1.0277 - accuracy: 0.3333 - val_loss: 1.0209 - val_accuracy: 0.3333\n",
      "Epoch 24/100\n",
      "4/4 [==============================] - 0s 16ms/step - loss: 1.0246 - accuracy: 0.3333 - val_loss: 1.0175 - val_accuracy: 0.3333\n",
      "Epoch 25/100\n",
      "4/4 [==============================] - 0s 13ms/step - loss: 1.0217 - accuracy: 0.3333 - val_loss: 1.0135 - val_accuracy: 0.3333\n",
      "Epoch 26/100\n",
      "4/4 [==============================] - 0s 12ms/step - loss: 1.0196 - accuracy: 0.3333 - val_loss: 1.0093 - val_accuracy: 0.3333\n",
      "Epoch 27/100\n",
      "4/4 [==============================] - 0s 13ms/step - loss: 1.0147 - accuracy: 0.3333 - val_loss: 1.0060 - val_accuracy: 0.3333\n",
      "Epoch 28/100\n",
      "4/4 [==============================] - 0s 14ms/step - loss: 1.0117 - accuracy: 0.3333 - val_loss: 1.0022 - val_accuracy: 0.3333\n",
      "Epoch 29/100\n",
      "4/4 [==============================] - 0s 14ms/step - loss: 1.0077 - accuracy: 0.3333 - val_loss: 0.9988 - val_accuracy: 0.3333\n",
      "Epoch 30/100\n",
      "4/4 [==============================] - 0s 12ms/step - loss: 1.0051 - accuracy: 0.3333 - val_loss: 0.9959 - val_accuracy: 0.3667\n",
      "Epoch 31/100\n",
      "4/4 [==============================] - 0s 13ms/step - loss: 1.0018 - accuracy: 0.3417 - val_loss: 0.9925 - val_accuracy: 0.3667\n",
      "Epoch 32/100\n",
      "4/4 [==============================] - 0s 13ms/step - loss: 0.9977 - accuracy: 0.3333 - val_loss: 0.9879 - val_accuracy: 0.3667\n",
      "Epoch 33/100\n",
      "4/4 [==============================] - 0s 13ms/step - loss: 0.9939 - accuracy: 0.3333 - val_loss: 0.9834 - val_accuracy: 0.3667\n",
      "Epoch 34/100\n",
      "4/4 [==============================] - 0s 13ms/step - loss: 0.9905 - accuracy: 0.3333 - val_loss: 0.9789 - val_accuracy: 0.3333\n",
      "Epoch 35/100\n",
      "4/4 [==============================] - 0s 13ms/step - loss: 0.9864 - accuracy: 0.3333 - val_loss: 0.9747 - val_accuracy: 0.3333\n",
      "Epoch 36/100\n",
      "4/4 [==============================] - 0s 14ms/step - loss: 0.9828 - accuracy: 0.3333 - val_loss: 0.9705 - val_accuracy: 0.3333\n",
      "Epoch 37/100\n",
      "4/4 [==============================] - 0s 13ms/step - loss: 0.9792 - accuracy: 0.3333 - val_loss: 0.9662 - val_accuracy: 0.3333\n",
      "Epoch 38/100\n",
      "4/4 [==============================] - 0s 12ms/step - loss: 0.9752 - accuracy: 0.3333 - val_loss: 0.9618 - val_accuracy: 0.3333\n",
      "Epoch 39/100\n",
      "4/4 [==============================] - 0s 13ms/step - loss: 0.9710 - accuracy: 0.3333 - val_loss: 0.9574 - val_accuracy: 0.3333\n",
      "Epoch 40/100\n",
      "4/4 [==============================] - 0s 14ms/step - loss: 0.9677 - accuracy: 0.3333 - val_loss: 0.9531 - val_accuracy: 0.3667\n",
      "Epoch 41/100\n",
      "4/4 [==============================] - 0s 14ms/step - loss: 0.9625 - accuracy: 0.3333 - val_loss: 0.9483 - val_accuracy: 0.3667\n",
      "Epoch 42/100\n",
      "4/4 [==============================] - 0s 14ms/step - loss: 0.9579 - accuracy: 0.3333 - val_loss: 0.9439 - val_accuracy: 0.3667\n",
      "Epoch 43/100\n",
      "4/4 [==============================] - 0s 12ms/step - loss: 0.9538 - accuracy: 0.3333 - val_loss: 0.9392 - val_accuracy: 0.3667\n",
      "Epoch 44/100\n",
      "4/4 [==============================] - 0s 13ms/step - loss: 0.9491 - accuracy: 0.3417 - val_loss: 0.9347 - val_accuracy: 0.3667\n",
      "Epoch 45/100\n",
      "4/4 [==============================] - 0s 12ms/step - loss: 0.9449 - accuracy: 0.3417 - val_loss: 0.9299 - val_accuracy: 0.3667\n",
      "Epoch 46/100\n",
      "4/4 [==============================] - 0s 13ms/step - loss: 0.9402 - accuracy: 0.3500 - val_loss: 0.9250 - val_accuracy: 0.3667\n",
      "Epoch 47/100\n",
      "4/4 [==============================] - 0s 24ms/step - loss: 0.9361 - accuracy: 0.3500 - val_loss: 0.9200 - val_accuracy: 0.3667\n",
      "Epoch 48/100\n",
      "4/4 [==============================] - 0s 13ms/step - loss: 0.9310 - accuracy: 0.3500 - val_loss: 0.9154 - val_accuracy: 0.3667\n",
      "Epoch 49/100\n",
      "4/4 [==============================] - 0s 11ms/step - loss: 0.9266 - accuracy: 0.3583 - val_loss: 0.9106 - val_accuracy: 0.4000\n",
      "Epoch 50/100\n",
      "4/4 [==============================] - 0s 13ms/step - loss: 0.9222 - accuracy: 0.3583 - val_loss: 0.9050 - val_accuracy: 0.3667\n",
      "Epoch 51/100\n",
      "4/4 [==============================] - 0s 12ms/step - loss: 0.9166 - accuracy: 0.3583 - val_loss: 0.8999 - val_accuracy: 0.3667\n",
      "Epoch 52/100\n",
      "4/4 [==============================] - 0s 13ms/step - loss: 0.9135 - accuracy: 0.3583 - val_loss: 0.8953 - val_accuracy: 0.4333\n",
      "Epoch 53/100\n",
      "4/4 [==============================] - 0s 12ms/step - loss: 0.9068 - accuracy: 0.3667 - val_loss: 0.8895 - val_accuracy: 0.4000\n",
      "Epoch 54/100\n",
      "4/4 [==============================] - 0s 14ms/step - loss: 0.9014 - accuracy: 0.3583 - val_loss: 0.8841 - val_accuracy: 0.4333\n",
      "Epoch 55/100\n",
      "4/4 [==============================] - 0s 13ms/step - loss: 0.8964 - accuracy: 0.3583 - val_loss: 0.8785 - val_accuracy: 0.4000\n",
      "Epoch 56/100\n",
      "4/4 [==============================] - 0s 13ms/step - loss: 0.8914 - accuracy: 0.3667 - val_loss: 0.8731 - val_accuracy: 0.4333\n",
      "Epoch 57/100\n",
      "4/4 [==============================] - 0s 13ms/step - loss: 0.8857 - accuracy: 0.3667 - val_loss: 0.8675 - val_accuracy: 0.4333\n",
      "Epoch 58/100\n",
      "4/4 [==============================] - 0s 12ms/step - loss: 0.8804 - accuracy: 0.3750 - val_loss: 0.8618 - val_accuracy: 0.4333\n",
      "Epoch 59/100\n",
      "4/4 [==============================] - 0s 12ms/step - loss: 0.8756 - accuracy: 0.3750 - val_loss: 0.8559 - val_accuracy: 0.4333\n",
      "Epoch 60/100\n",
      "4/4 [==============================] - 0s 12ms/step - loss: 0.8702 - accuracy: 0.3750 - val_loss: 0.8509 - val_accuracy: 0.5000\n",
      "Epoch 61/100\n",
      "4/4 [==============================] - 0s 13ms/step - loss: 0.8641 - accuracy: 0.3917 - val_loss: 0.8452 - val_accuracy: 0.5000\n",
      "Epoch 62/100\n",
      "4/4 [==============================] - 0s 13ms/step - loss: 0.8580 - accuracy: 0.3917 - val_loss: 0.8387 - val_accuracy: 0.5000\n",
      "Epoch 63/100\n",
      "4/4 [==============================] - 0s 13ms/step - loss: 0.8527 - accuracy: 0.3833 - val_loss: 0.8322 - val_accuracy: 0.5000\n",
      "Epoch 64/100\n",
      "4/4 [==============================] - 0s 14ms/step - loss: 0.8471 - accuracy: 0.3750 - val_loss: 0.8258 - val_accuracy: 0.4333\n",
      "Epoch 65/100\n",
      "4/4 [==============================] - 0s 14ms/step - loss: 0.8409 - accuracy: 0.3750 - val_loss: 0.8196 - val_accuracy: 0.4667\n",
      "Epoch 66/100\n",
      "4/4 [==============================] - 0s 13ms/step - loss: 0.8344 - accuracy: 0.3833 - val_loss: 0.8136 - val_accuracy: 0.5000\n",
      "Epoch 67/100\n",
      "4/4 [==============================] - 0s 14ms/step - loss: 0.8307 - accuracy: 0.4250 - val_loss: 0.8090 - val_accuracy: 0.5333\n",
      "Epoch 68/100\n",
      "4/4 [==============================] - 0s 13ms/step - loss: 0.8230 - accuracy: 0.4750 - val_loss: 0.8024 - val_accuracy: 0.5333\n",
      "Epoch 69/100\n",
      "4/4 [==============================] - 0s 13ms/step - loss: 0.8174 - accuracy: 0.4667 - val_loss: 0.7944 - val_accuracy: 0.5000\n",
      "Epoch 70/100\n",
      "4/4 [==============================] - 0s 12ms/step - loss: 0.8098 - accuracy: 0.4417 - val_loss: 0.7873 - val_accuracy: 0.5000\n",
      "Epoch 71/100\n",
      "4/4 [==============================] - 0s 13ms/step - loss: 0.8020 - accuracy: 0.4667 - val_loss: 0.7794 - val_accuracy: 0.5000\n",
      "Epoch 72/100\n",
      "4/4 [==============================] - 0s 25ms/step - loss: 0.7948 - accuracy: 0.4833 - val_loss: 0.7726 - val_accuracy: 0.5333\n",
      "Epoch 73/100\n",
      "4/4 [==============================] - 0s 13ms/step - loss: 0.7877 - accuracy: 0.4833 - val_loss: 0.7655 - val_accuracy: 0.5333\n",
      "Epoch 74/100\n",
      "4/4 [==============================] - 0s 12ms/step - loss: 0.7810 - accuracy: 0.4750 - val_loss: 0.7588 - val_accuracy: 0.5333\n",
      "Epoch 75/100\n",
      "4/4 [==============================] - 0s 14ms/step - loss: 0.7746 - accuracy: 0.4833 - val_loss: 0.7527 - val_accuracy: 0.5667\n",
      "Epoch 76/100\n",
      "4/4 [==============================] - 0s 14ms/step - loss: 0.7675 - accuracy: 0.5167 - val_loss: 0.7460 - val_accuracy: 0.6000\n",
      "Epoch 77/100\n",
      "4/4 [==============================] - 0s 13ms/step - loss: 0.7609 - accuracy: 0.5250 - val_loss: 0.7389 - val_accuracy: 0.6000\n",
      "Epoch 78/100\n",
      "4/4 [==============================] - 0s 13ms/step - loss: 0.7543 - accuracy: 0.5250 - val_loss: 0.7316 - val_accuracy: 0.6000\n",
      "Epoch 79/100\n",
      "4/4 [==============================] - 0s 14ms/step - loss: 0.7474 - accuracy: 0.5250 - val_loss: 0.7243 - val_accuracy: 0.6000\n",
      "Epoch 80/100\n",
      "4/4 [==============================] - 0s 12ms/step - loss: 0.7403 - accuracy: 0.5417 - val_loss: 0.7174 - val_accuracy: 0.6000\n",
      "Epoch 81/100\n",
      "4/4 [==============================] - 0s 13ms/step - loss: 0.7332 - accuracy: 0.5667 - val_loss: 0.7105 - val_accuracy: 0.6000\n",
      "Epoch 82/100\n",
      "4/4 [==============================] - 0s 15ms/step - loss: 0.7263 - accuracy: 0.5667 - val_loss: 0.7034 - val_accuracy: 0.6000\n",
      "Epoch 83/100\n",
      "4/4 [==============================] - 0s 15ms/step - loss: 0.7197 - accuracy: 0.5667 - val_loss: 0.6953 - val_accuracy: 0.6000\n",
      "Epoch 84/100\n",
      "4/4 [==============================] - 0s 14ms/step - loss: 0.7121 - accuracy: 0.5667 - val_loss: 0.6883 - val_accuracy: 0.6000\n",
      "Epoch 85/100\n",
      "4/4 [==============================] - 0s 15ms/step - loss: 0.7048 - accuracy: 0.5667 - val_loss: 0.6807 - val_accuracy: 0.6000\n",
      "Epoch 86/100\n",
      "4/4 [==============================] - 0s 12ms/step - loss: 0.6977 - accuracy: 0.5667 - val_loss: 0.6729 - val_accuracy: 0.6000\n",
      "Epoch 87/100\n",
      "4/4 [==============================] - 0s 12ms/step - loss: 0.6901 - accuracy: 0.5667 - val_loss: 0.6647 - val_accuracy: 0.6000\n",
      "Epoch 88/100\n",
      "4/4 [==============================] - 0s 13ms/step - loss: 0.6833 - accuracy: 0.5667 - val_loss: 0.6569 - val_accuracy: 0.6000\n",
      "Epoch 89/100\n",
      "4/4 [==============================] - 0s 14ms/step - loss: 0.6752 - accuracy: 0.5667 - val_loss: 0.6504 - val_accuracy: 0.6000\n",
      "Epoch 90/100\n",
      "4/4 [==============================] - 0s 12ms/step - loss: 0.6685 - accuracy: 0.6083 - val_loss: 0.6441 - val_accuracy: 0.6333\n",
      "Epoch 91/100\n",
      "4/4 [==============================] - 0s 15ms/step - loss: 0.6607 - accuracy: 0.6167 - val_loss: 0.6342 - val_accuracy: 0.6000\n",
      "Epoch 92/100\n",
      "4/4 [==============================] - 0s 13ms/step - loss: 0.6528 - accuracy: 0.6083 - val_loss: 0.6260 - val_accuracy: 0.6000\n",
      "Epoch 93/100\n",
      "4/4 [==============================] - 0s 20ms/step - loss: 0.6451 - accuracy: 0.6000 - val_loss: 0.6176 - val_accuracy: 0.6333\n",
      "Epoch 94/100\n",
      "4/4 [==============================] - 0s 14ms/step - loss: 0.6377 - accuracy: 0.6333 - val_loss: 0.6121 - val_accuracy: 0.7333\n",
      "Epoch 95/100\n",
      "4/4 [==============================] - 0s 20ms/step - loss: 0.6291 - accuracy: 0.8000 - val_loss: 0.6025 - val_accuracy: 0.9000\n",
      "Epoch 96/100\n",
      "4/4 [==============================] - 0s 12ms/step - loss: 0.6213 - accuracy: 0.9417 - val_loss: 0.5933 - val_accuracy: 0.9333\n",
      "Epoch 97/100\n",
      "4/4 [==============================] - 0s 14ms/step - loss: 0.6123 - accuracy: 0.9500 - val_loss: 0.5852 - val_accuracy: 0.9667\n",
      "Epoch 98/100\n",
      "4/4 [==============================] - 0s 14ms/step - loss: 0.6045 - accuracy: 0.9500 - val_loss: 0.5776 - val_accuracy: 1.0000\n",
      "Epoch 99/100\n",
      "4/4 [==============================] - 0s 12ms/step - loss: 0.5962 - accuracy: 0.9500 - val_loss: 0.5692 - val_accuracy: 1.0000\n",
      "Epoch 100/100\n",
      "4/4 [==============================] - 0s 12ms/step - loss: 0.5881 - accuracy: 0.9500 - val_loss: 0.5586 - val_accuracy: 0.9333\n",
      "<keras.callbacks.History object at 0x0000026934FE4BB0>\n"
     ]
    }
   ],
   "source": [
    "fit_hisroty = model.fit(X_train, y_train, validation_data=(X_test, y_test), epochs=100)\n",
    "print(fit_hisroty)\n",
    "# pred = model.predict(X_test)\n"
   ]
  },
  {
   "cell_type": "code",
   "execution_count": 52,
   "id": "266245c8-ea10-472f-851a-c4126ef97985",
   "metadata": {
    "tags": []
   },
   "outputs": [
    {
     "data": {
      "image/png": "[encoded data removed]",
      "text/plain": [
       "<Figure size 600x300 with 2 Axes>"
      ]
     },
     "metadata": {},
     "output_type": "display_data"
    }
   ],
   "source": [
    "plt.figure(figsize=(6,3))\n",
    "ax1 = plt.subplot(1,2,1)\n",
    "ax1.plot(fit_hisroty.history['loss']    , label='loss')\n",
    "ax1.plot(fit_hisroty.history['val_loss'], label='val_loss')\n",
    "ax1.legend()\n",
    "ax1.set_title(\"loss\")\n",
    "\n",
    "ax2 = plt.subplot(1,2,2)\n",
    "ax2.plot(fit_hisroty.history['accuracy']    , label='accuracy')\n",
    "ax2.plot(fit_hisroty.history['val_accuracy'], label='val_accuracy')\n",
    "ax2.legend()\n",
    "ax2.set_title(\"accuracy\")\n",
    "\n",
    "plt.show()"
   ]
  },
  {
   "cell_type": "code",
   "execution_count": 53,
   "id": "981d7e75-f810-41ca-a984-23458c7e1edc",
   "metadata": {
    "tags": []
   },
   "outputs": [
    {
     "name": "stdout",
     "output_type": "stream",
     "text": [
      "1/1 [==============================] - 0s 27ms/step - loss: 0.5586 - accuracy: 0.9333\n"
     ]
    },
    {
     "data": {
      "text/plain": [
       "[0.5586135387420654, 0.9333333373069763]"
      ]
     },
     "execution_count": 53,
     "metadata": {},
     "output_type": "execute_result"
    }
   ],
   "source": [
    "model.evaluate(X_test, y_test)"
   ]
  },
  {
   "cell_type": "code",
   "execution_count": 67,
   "id": "9ba5f24d-4f7d-4b54-ad91-413cc2e39fc6",
   "metadata": {
    "tags": []
   },
   "outputs": [
    {
     "name": "stdout",
     "output_type": "stream",
     "text": [
      "1/1 [==============================] - 0s 26ms/step\n",
      "proba : [[0.10726831 0.43371287 0.45901874]\n",
      " [0.510351   0.44782868 0.04182033]\n",
      " [0.2097315  0.544798   0.2454704 ]\n",
      " [0.01949558 0.1612339  0.8192705 ]\n",
      " [0.03595537 0.24262553 0.7214191 ]]\n",
      "pred : [2 0 1 2 2]\n",
      "y_test : [1 0 1 2 2]\n",
      "[[10  0  0]\n",
      " [ 0  8  2]\n",
      " [ 0  0 10]]\n"
     ]
    }
   ],
   "source": [
    "proba = model.predict(X_test)\n",
    "print(f\"proba : {proba[:5]}\")\n",
    "\n",
    "pred = np.argmax(proba, axis=1)\n",
    "print(f\"pred : {pred[:5]}\")  #------------submit에 제출할 예측답안\n",
    "\n",
    "\n",
    "#----------------------- 이런코딩 없다.. 그냥 해보자-----------------\n",
    "y_test22 = np.argmax(y_test.values, axis=1)\n",
    "print(f\"y_test : {y_test22[:5]}\")\n",
    "\n",
    "from sklearn.metrics import f1_score, confusion_matrix\n",
    "print( confusion_matrix(y_test22, pred) )"
   ]
  }
 ],
 "metadata": {
  "kernelspec": {
   "display_name": "Python 3 (ipykernel)",
   "language": "python",
   "name": "python3"
  },
  "language_info": {
   "codemirror_mode": {
    "name": "ipython",
    "version": 3
   },
   "file_extension": ".py",
   "mimetype": "text/x-python",
   "name": "python",
   "nbconvert_exporter": "python",
   "pygments_lexer": "ipython3",
   "version": "3.8.8"
  }
 },
 "nbformat": 4,
 "nbformat_minor": 5
}
