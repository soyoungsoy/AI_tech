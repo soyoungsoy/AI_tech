{
 "cells": [
  {
   "cell_type": "code",
   "execution_count": 1,
   "id": "87ee907b-bc21-4233-b52a-c4d974d6902c",
   "metadata": {
    "tags": []
   },
   "outputs": [
    {
     "name": "stdout",
     "output_type": "stream",
     "text": [
      "Requirement already satisfied: nbconvert in c:\\ai\\pythonproject\\venv\\lib\\site-packages (7.2.9)\n",
      "Requirement already satisfied: beautifulsoup4 in c:\\ai\\pythonproject\\venv\\lib\\site-packages (from nbconvert) (4.11.2)\n",
      "Requirement already satisfied: defusedxml in c:\\ai\\pythonproject\\venv\\lib\\site-packages (from nbconvert) (0.7.1)\n",
      "Requirement already satisfied: nbclient>=0.5.0 in c:\\ai\\pythonproject\\venv\\lib\\site-packages (from nbconvert) (0.7.2)\n",
      "Requirement already satisfied: pygments>=2.4.1 in c:\\ai\\pythonproject\\venv\\lib\\site-packages (from nbconvert) (2.14.0)\n",
      "Requirement already satisfied: pandocfilters>=1.4.1 in c:\\ai\\pythonproject\\venv\\lib\\site-packages (from nbconvert) (1.5.0)\n",
      "Requirement already satisfied: mistune<3,>=2.0.3 in c:\\ai\\pythonproject\\venv\\lib\\site-packages (from nbconvert) (2.0.4)\n",
      "Requirement already satisfied: bleach in c:\\ai\\pythonproject\\venv\\lib\\site-packages (from nbconvert) (6.0.0)\n",
      "Requirement already satisfied: tinycss2 in c:\\ai\\pythonproject\\venv\\lib\\site-packages (from nbconvert) (1.2.1)\n",
      "Requirement already satisfied: importlib-metadata>=3.6 in c:\\ai\\pythonproject\\venv\\lib\\site-packages (from nbconvert) (6.0.0)\n",
      "Requirement already satisfied: nbformat>=5.1 in c:\\ai\\pythonproject\\venv\\lib\\site-packages (from nbconvert) (5.7.3)\n",
      "Requirement already satisfied: packaging in c:\\ai\\pythonproject\\venv\\lib\\site-packages (from nbconvert) (23.0)\n",
      "Requirement already satisfied: jinja2>=3.0 in c:\\ai\\pythonproject\\venv\\lib\\site-packages (from nbconvert) (3.1.2)\n",
      "Requirement already satisfied: jupyter-core>=4.7 in c:\\ai\\pythonproject\\venv\\lib\\site-packages (from nbconvert) (5.2.0)\n",
      "Requirement already satisfied: jupyterlab-pygments in c:\\ai\\pythonproject\\venv\\lib\\site-packages (from nbconvert) (0.2.2)\n",
      "Requirement already satisfied: markupsafe>=2.0 in c:\\ai\\pythonproject\\venv\\lib\\site-packages (from nbconvert) (2.1.2)\n",
      "Requirement already satisfied: traitlets>=5.0 in c:\\ai\\pythonproject\\venv\\lib\\site-packages (from nbconvert) (5.9.0)\n",
      "Requirement already satisfied: zipp>=0.5 in c:\\ai\\pythonproject\\venv\\lib\\site-packages (from importlib-metadata>=3.6->nbconvert) (3.12.0)\n",
      "Requirement already satisfied: platformdirs>=2.5 in c:\\ai\\pythonproject\\venv\\lib\\site-packages (from jupyter-core>=4.7->nbconvert) (3.0.0)\n",
      "Requirement already satisfied: pywin32>=1.0 in c:\\ai\\pythonproject\\venv\\lib\\site-packages (from jupyter-core>=4.7->nbconvert) (305)\n",
      "Requirement already satisfied: jupyter-client>=6.1.12 in c:\\ai\\pythonproject\\venv\\lib\\site-packages (from nbclient>=0.5.0->nbconvert) (8.0.2)\n",
      "Requirement already satisfied: fastjsonschema in c:\\ai\\pythonproject\\venv\\lib\\site-packages (from nbformat>=5.1->nbconvert) (2.16.2)\n",
      "Requirement already satisfied: jsonschema>=2.6 in c:\\ai\\pythonproject\\venv\\lib\\site-packages (from nbformat>=5.1->nbconvert) (4.17.3)\n",
      "Requirement already satisfied: soupsieve>1.2 in c:\\ai\\pythonproject\\venv\\lib\\site-packages (from beautifulsoup4->nbconvert) (2.3.2.post1)\n",
      "Requirement already satisfied: webencodings in c:\\ai\\pythonproject\\venv\\lib\\site-packages (from bleach->nbconvert) (0.5.1)\n",
      "Requirement already satisfied: six>=1.9.0 in c:\\ai\\pythonproject\\venv\\lib\\site-packages (from bleach->nbconvert) (1.16.0)\n",
      "Requirement already satisfied: pkgutil-resolve-name>=1.3.10 in c:\\ai\\pythonproject\\venv\\lib\\site-packages (from jsonschema>=2.6->nbformat>=5.1->nbconvert) (1.3.10)\n",
      "Requirement already satisfied: attrs>=17.4.0 in c:\\ai\\pythonproject\\venv\\lib\\site-packages (from jsonschema>=2.6->nbformat>=5.1->nbconvert) (22.2.0)\n",
      "Requirement already satisfied: importlib-resources>=1.4.0 in c:\\ai\\pythonproject\\venv\\lib\\site-packages (from jsonschema>=2.6->nbformat>=5.1->nbconvert) (5.10.2)\n",
      "Requirement already satisfied: pyrsistent!=0.17.0,!=0.17.1,!=0.17.2,>=0.14.0 in c:\\ai\\pythonproject\\venv\\lib\\site-packages (from jsonschema>=2.6->nbformat>=5.1->nbconvert) (0.19.3)\n",
      "Requirement already satisfied: pyzmq>=23.0 in c:\\ai\\pythonproject\\venv\\lib\\site-packages (from jupyter-client>=6.1.12->nbclient>=0.5.0->nbconvert) (25.0.0)\n",
      "Requirement already satisfied: python-dateutil>=2.8.2 in c:\\ai\\pythonproject\\venv\\lib\\site-packages (from jupyter-client>=6.1.12->nbclient>=0.5.0->nbconvert) (2.8.2)\n",
      "Requirement already satisfied: tornado>=6.2 in c:\\ai\\pythonproject\\venv\\lib\\site-packages (from jupyter-client>=6.1.12->nbclient>=0.5.0->nbconvert) (6.2)\n"
     ]
    }
   ],
   "source": [
    "! pip install nbconvert"
   ]
  }
 ],
 "metadata": {
  "kernelspec": {
   "display_name": "Python 3 (ipykernel)",
   "language": "python",
   "name": "python3"
  },
  "language_info": {
   "codemirror_mode": {
    "name": "ipython",
    "version": 3
   },
   "file_extension": ".py",
   "mimetype": "text/x-python",
   "name": "python",
   "nbconvert_exporter": "python",
   "pygments_lexer": "ipython3",
   "version": "3.8.8"
  }
 },
 "nbformat": 4,
 "nbformat_minor": 5
}
