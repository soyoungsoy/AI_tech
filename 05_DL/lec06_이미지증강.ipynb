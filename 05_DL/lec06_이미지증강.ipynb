{
 "cells": [
  {
   "cell_type": "code",
   "execution_count": 1,
   "id": "38bb9a68-7e44-424b-b15c-3f9010ab7ee7",
   "metadata": {
    "tags": []
   },
   "outputs": [
    {
     "data": {
      "text/html": [
       "<style>.container{width:100% !important;}</style>"
      ],
      "text/plain": [
       "<IPython.core.display.HTML object>"
      ]
     },
     "metadata": {},
     "output_type": "display_data"
    }
   ],
   "source": [
    "import numpy as np\n",
    "import pandas as pd\n",
    "\n",
    "import matplotlib.pyplot as plt\n",
    "import seaborn as sns\n",
    "\n",
    "\n",
    "sns.set()\n",
    "\n",
    "#-------------------- 차트 관련 속성 (한글처리, 그리드) -----------\n",
    "plt.rcParams['font.family']= 'Malgun Gothic'\n",
    "plt.rcParams['axes.unicode_minus'] = False\n",
    "\n",
    "#-------------------- 주피터 , 출력결과 넓이 늘리기 ---------------\n",
    "# from IPython.core.display import display, HTML\n",
    "from IPython.display import display, HTML\n",
    "\n",
    "display(HTML(\"<style>.container{width:100% !important;}</style>\"))\n",
    "pd.set_option('display.max_rows', 100)\n",
    "pd.set_option('display.max_columns', 100)\n",
    "pd.set_option('max_colwidth', None)\n",
    "\n",
    "import warnings\n",
    "warnings.filterwarnings(action='ignore')"
   ]
  },
  {
   "cell_type": "code",
   "execution_count": 2,
   "id": "ce099679-d302-417f-b094-650c5913eabe",
   "metadata": {
    "tags": []
   },
   "outputs": [],
   "source": [
    "# ----------------- 학습 ----------------------\n",
    "from sklearn.model_selection import train_test_split\n",
    "from sklearn.tree import DecisionTreeClassifier\n",
    "from sklearn.linear_model import LogisticRegression\n",
    "\n",
    "# ----------------- 평가 ----------------------\n",
    "from sklearn.metrics import confusion_matrix\n",
    "\n",
    "from sklearn.metrics import classification_report\n",
    "from sklearn.metrics import accuracy_score\n",
    "from sklearn.metrics import f1_score, precision_score, recall_score\n",
    "from sklearn.metrics import precision_recall_curve, plot_precision_recall_curve\n",
    "\n",
    "from sklearn.metrics import roc_auc_score, roc_curve, plot_roc_curve"
   ]
  },
  {
   "cell_type": "code",
   "execution_count": 3,
   "id": "5e02a147-35c6-4b38-8c8f-38f85068e2fb",
   "metadata": {
    "tags": []
   },
   "outputs": [],
   "source": [
    "import tensorflow as tf\n",
    "tf.random.set_seed(1234)\n",
    "np.random.seed(1234)"
   ]
  },
  {
   "cell_type": "markdown",
   "id": "a000c2e6-577c-46d5-8543-c21f04dec3bc",
   "metadata": {},
   "source": [
    "# lec06. 이미지증강 Augmentation\n"
   ]
  },
  {
   "cell_type": "markdown",
   "id": "bbc446a3-1ac6-44f2-b655-3e9376faf6b2",
   "metadata": {},
   "source": [
    "# Data Load"
   ]
  },
  {
   "cell_type": "code",
   "execution_count": 4,
   "id": "957c7400-2b3f-4183-8951-f8e44ea13f57",
   "metadata": {
    "tags": []
   },
   "outputs": [],
   "source": [
    "from keras.datasets import mnist"
   ]
  },
  {
   "cell_type": "code",
   "execution_count": 5,
   "id": "2742bc57-eae9-43a5-89af-156787456208",
   "metadata": {
    "tags": []
   },
   "outputs": [
    {
     "data": {
      "text/plain": [
       "((60000, 28, 28), (60000,), (10000, 28, 28), (10000,))"
      ]
     },
     "execution_count": 5,
     "metadata": {},
     "output_type": "execute_result"
    }
   ],
   "source": [
    "(X_train,y_train), (X_test,y_test) = mnist.load_data()\n",
    "X_train.shape, y_train.shape, X_test.shape, y_test.shape"
   ]
  },
  {
   "cell_type": "code",
   "execution_count": 6,
   "id": "a15d4e59-6dd0-4299-95f4-57b65a26a337",
   "metadata": {
    "tags": []
   },
   "outputs": [
    {
     "data": {
      "text/plain": [
       "(array([5], dtype=uint8),\n",
       " (1, 28, 28),\n",
       " array([[[  0,   0,   0,   0,   0,   0,   0,   0,   0,   0,   0,   0,\n",
       "            0,   0,   0,   0,   0,   0,   0,   0,   0,   0,   0,   0,\n",
       "            0,   0,   0,   0],\n",
       "         [  0,   0,   0,   0,   0,   0,   0,   0,   0,   0,   0,   0,\n",
       "            0,   0,   0,   0,   0,   0,   0,   0,   0,   0,   0,   0,\n",
       "            0,   0,   0,   0],\n",
       "         [  0,   0,   0,   0,   0,   0,   0,   0,   0,   0,   0,   0,\n",
       "            0,   0,   0,   0,   0,   0,   0,   0,   0,   0,   0,   0,\n",
       "            0,   0,   0,   0],\n",
       "         [  0,   0,   0,   0,   0,   0,   0,   0,   0,   0,   0,   0,\n",
       "            0,   0,   0,   0,   0,   0,   0,   0,   0,   0,   0,   0,\n",
       "            0,   0,   0,   0],\n",
       "         [  0,   0,   0,   0,   0,   0,   0,   0,   0,   0,   0,   0,\n",
       "            0,   0,   0,   0,   0,   0,   0,   0,   0,   0,   0,   0,\n",
       "            0,   0,   0,   0],\n",
       "         [  0,   0,   0,   0,   0,   0,   0,   0,   0,   0,   0,   0,\n",
       "            3,  18,  18,  18, 126, 136, 175,  26, 166, 255, 247, 127,\n",
       "            0,   0,   0,   0],\n",
       "         [  0,   0,   0,   0,   0,   0,   0,   0,  30,  36,  94, 154,\n",
       "          170, 253, 253, 253, 253, 253, 225, 172, 253, 242, 195,  64,\n",
       "            0,   0,   0,   0],\n",
       "         [  0,   0,   0,   0,   0,   0,   0,  49, 238, 253, 253, 253,\n",
       "          253, 253, 253, 253, 253, 251,  93,  82,  82,  56,  39,   0,\n",
       "            0,   0,   0,   0],\n",
       "         [  0,   0,   0,   0,   0,   0,   0,  18, 219, 253, 253, 253,\n",
       "          253, 253, 198, 182, 247, 241,   0,   0,   0,   0,   0,   0,\n",
       "            0,   0,   0,   0],\n",
       "         [  0,   0,   0,   0,   0,   0,   0,   0,  80, 156, 107, 253,\n",
       "          253, 205,  11,   0,  43, 154,   0,   0,   0,   0,   0,   0,\n",
       "            0,   0,   0,   0],\n",
       "         [  0,   0,   0,   0,   0,   0,   0,   0,   0,  14,   1, 154,\n",
       "          253,  90,   0,   0,   0,   0,   0,   0,   0,   0,   0,   0,\n",
       "            0,   0,   0,   0],\n",
       "         [  0,   0,   0,   0,   0,   0,   0,   0,   0,   0,   0, 139,\n",
       "          253, 190,   2,   0,   0,   0,   0,   0,   0,   0,   0,   0,\n",
       "            0,   0,   0,   0],\n",
       "         [  0,   0,   0,   0,   0,   0,   0,   0,   0,   0,   0,  11,\n",
       "          190, 253,  70,   0,   0,   0,   0,   0,   0,   0,   0,   0,\n",
       "            0,   0,   0,   0],\n",
       "         [  0,   0,   0,   0,   0,   0,   0,   0,   0,   0,   0,   0,\n",
       "           35, 241, 225, 160, 108,   1,   0,   0,   0,   0,   0,   0,\n",
       "            0,   0,   0,   0],\n",
       "         [  0,   0,   0,   0,   0,   0,   0,   0,   0,   0,   0,   0,\n",
       "            0,  81, 240, 253, 253, 119,  25,   0,   0,   0,   0,   0,\n",
       "            0,   0,   0,   0],\n",
       "         [  0,   0,   0,   0,   0,   0,   0,   0,   0,   0,   0,   0,\n",
       "            0,   0,  45, 186, 253, 253, 150,  27,   0,   0,   0,   0,\n",
       "            0,   0,   0,   0],\n",
       "         [  0,   0,   0,   0,   0,   0,   0,   0,   0,   0,   0,   0,\n",
       "            0,   0,   0,  16,  93, 252, 253, 187,   0,   0,   0,   0,\n",
       "            0,   0,   0,   0],\n",
       "         [  0,   0,   0,   0,   0,   0,   0,   0,   0,   0,   0,   0,\n",
       "            0,   0,   0,   0,   0, 249, 253, 249,  64,   0,   0,   0,\n",
       "            0,   0,   0,   0],\n",
       "         [  0,   0,   0,   0,   0,   0,   0,   0,   0,   0,   0,   0,\n",
       "            0,   0,  46, 130, 183, 253, 253, 207,   2,   0,   0,   0,\n",
       "            0,   0,   0,   0],\n",
       "         [  0,   0,   0,   0,   0,   0,   0,   0,   0,   0,   0,   0,\n",
       "           39, 148, 229, 253, 253, 253, 250, 182,   0,   0,   0,   0,\n",
       "            0,   0,   0,   0],\n",
       "         [  0,   0,   0,   0,   0,   0,   0,   0,   0,   0,  24, 114,\n",
       "          221, 253, 253, 253, 253, 201,  78,   0,   0,   0,   0,   0,\n",
       "            0,   0,   0,   0],\n",
       "         [  0,   0,   0,   0,   0,   0,   0,   0,  23,  66, 213, 253,\n",
       "          253, 253, 253, 198,  81,   2,   0,   0,   0,   0,   0,   0,\n",
       "            0,   0,   0,   0],\n",
       "         [  0,   0,   0,   0,   0,   0,  18, 171, 219, 253, 253, 253,\n",
       "          253, 195,  80,   9,   0,   0,   0,   0,   0,   0,   0,   0,\n",
       "            0,   0,   0,   0],\n",
       "         [  0,   0,   0,   0,  55, 172, 226, 253, 253, 253, 253, 244,\n",
       "          133,  11,   0,   0,   0,   0,   0,   0,   0,   0,   0,   0,\n",
       "            0,   0,   0,   0],\n",
       "         [  0,   0,   0,   0, 136, 253, 253, 253, 212, 135, 132,  16,\n",
       "            0,   0,   0,   0,   0,   0,   0,   0,   0,   0,   0,   0,\n",
       "            0,   0,   0,   0],\n",
       "         [  0,   0,   0,   0,   0,   0,   0,   0,   0,   0,   0,   0,\n",
       "            0,   0,   0,   0,   0,   0,   0,   0,   0,   0,   0,   0,\n",
       "            0,   0,   0,   0],\n",
       "         [  0,   0,   0,   0,   0,   0,   0,   0,   0,   0,   0,   0,\n",
       "            0,   0,   0,   0,   0,   0,   0,   0,   0,   0,   0,   0,\n",
       "            0,   0,   0,   0],\n",
       "         [  0,   0,   0,   0,   0,   0,   0,   0,   0,   0,   0,   0,\n",
       "            0,   0,   0,   0,   0,   0,   0,   0,   0,   0,   0,   0,\n",
       "            0,   0,   0,   0]]], dtype=uint8))"
      ]
     },
     "execution_count": 6,
     "metadata": {},
     "output_type": "execute_result"
    }
   ],
   "source": [
    "y_train[:1], X_train[:1].shape, X_train[:1]"
   ]
  },
  {
   "cell_type": "markdown",
   "id": "d3664c5b-9ad2-447f-a4b3-81d74f952a9a",
   "metadata": {},
   "source": [
    "# 이미지 증강\n",
    "- https://keras.io/ko/preprocessing/image/ 케라스\n",
    "- https://ddolcat.tistory.com/690 파이썬으로 하는 법 \n",
    "- https://docs.opencv.org/4.x/ 더 디테일하게 하는 법\n",
    "- https://yerimoh.github.io/DL9/ 속성 안내\n",
    "- https://libertegrace.tistory.com/entry/3-%EB%8D%B0%EC%9D%B4%ED%84%B0-%EC%A6%9D%EA%B0%95%EA%B8%B0%EB%B2%95-Data-Augmentation 속성 안내\n",
    "\n",
    "<pre>\n",
    "\n",
    "<b>배치 생성 --> 배치 단위로 루프 --> 학습(fit) 시 순환하면서 데이터 증강</b>"
   ]
  },
  {
   "cell_type": "code",
   "execution_count": 7,
   "id": "4e8eda4b-dd57-495b-82ed-ee197d07a167",
   "metadata": {
    "tags": []
   },
   "outputs": [],
   "source": [
    "from keras.preprocessing.image import ImageDataGenerator"
   ]
  },
  {
   "cell_type": "markdown",
   "id": "e3806387-b676-4b1e-918e-5144f18c3d06",
   "metadata": {},
   "source": [
    "<pre>\n",
    "<B>keras.preprocessing.image.ImageDataGenerator(\n",
    "     rotation_range=0,                        회전\n",
    "     width_shift_range=0.0,                   이미지 밀기(좌우)                  \n",
    "     height_shift_range=0.0,                  이미지 밀기(상하)\n",
    "     brightness_range=None,                   밝기\n",
    "     zca_whitening=False,                     밝기\n",
    "     zoom_range=0.0,                          확대/축소 \n",
    "     fill_mode='nearest', cval=0.0,           빈픽셀 채우기          \n",
    "     horizontal_flip=False,                   가로 대칭\n",
    "     vertical_flip=False,                     세로 대칭\n",
    "     rescale=None,                            /255.0 \n",
    "     validation_split=0.0,                    8:2</B>\n",
    "     featurewise_center=False,                이미지 센터에 위치\n",
    "     samplewise_center=False,                      \n",
    "     featurewise_std_normalization=False,     색상정규화\n",
    "     samplewise_std_normalization=False, \n",
    "     zca_epsilon=1e-06, \n",
    "     shear_range=0.0,                         0~45 각도내 변환\n",
    "     channel_shift_range=0.0,                 색상보정\n",
    "     preprocessing_function=None,             \n",
    "     data_format=None,                 \n",
    "     dtype=None)"
   ]
  },
  {
   "cell_type": "markdown",
   "id": "dbee6c68-2468-4a8c-8a46-dc44aa9ba848",
   "metadata": {},
   "source": [
    "<pre>\n",
    "<ul> <li><code class=\"language-plaintext highlighter-rouge\">featurewise_center</code>: Boolean. 입력 평균을 데이터 집합 위에 0으로 설정</li> <li><code class=\"language-plaintext highlighter-rouge\">samplewise_center</code>: Boolean. 각 표본 평균을 0으로 설정</li> <li><code class=\"language-plaintext highlighter-rouge\">featurewise_std_normalization</code>: Boolean. 입력을 데이터 집합(특징맵)의 표준으로 나눔</li> <li><code class=\"language-plaintext highlighter-rouge\">samplewise_std_normalization</code>: Boolean. 각 입력을 표준으로 나눔</li> <li><code class=\"language-plaintext highlighter-rouge\">zca_epsilon</code>: ZCA 미백용 엡실론. 기본값은 1e-6</li> <li><code class=\"language-plaintext highlighter-rouge\">zca_whitening</code>: Boolean. ZCA 화이트닝</li> <li><code class=\"language-plaintext highlighter-rouge\">rotation_range</code>: Int. 무작위 회전에 대한 도(ㅇ) 단위 범위</li> <li><code class=\"language-plaintext highlighter-rouge\">width_shift_range</code>: Float, 이미지를 수평으로 임의로 이동(전체 너비의 대칭)</li> <li><code class=\"language-plaintext highlighter-rouge\">height_shift_range</code>: Float, 이미지를 수직으로 임의로 이동(전체 높이의 대칭)</li> <li><code class=\"language-plaintext highlighter-rouge\">brightness_range</code>: Tuple or list of two floats,밝기 이동 값 선택 범위</li> <li><code class=\"language-plaintext highlighter-rouge\">shear_range</code>: Float, 전단 강도(도 단위로 시계 반대 방향으로 전단 각도)</li> <li><code class=\"language-plaintext highlighter-rouge\">zoom_range</code>: Float or [lower, upper], 무작위 확대/축소 범위입니다. 부동 소수인 경우, [하위, 상한] = [1-dynam_range, 1+dynam_range].</li> <li><code class=\"language-plaintext highlighter-rouge\">channel_shift_range</code>: Float, 무작위 채널 이동 범위</li> <li><code class=\"language-plaintext highlighter-rouge\">fill_mode</code>: One of {“constant”, “nearest”, “reflect” or “wrap”}, “nearest”가 기본 <ul> <li>지정된 모드에 따라 입력 경계를 벗어나는 점이 채워짐</li> <li>constant’: kkkkkkkk[abcd]kkkkkkkk (cval=k)</li> <li>‘nearest’: aaaaaaaa[abcd]dddddddd</li> <li>‘reflect’: abcddcba[abcd]dcbaabcd</li> <li>‘wrap’: abcdabcd[abcd]abcdabcd</li> </ul> </li> <li><code class=\"language-plaintext highlighter-rouge\">cval</code>: Float or Int, 경계를 벗어나는 점에 사용되는 값</li> <li><code class=\"language-plaintext highlighter-rouge\">horizontal_flip</code>: Boolean, 입력을 수평으로 랜덤하게 뒤집음</li> <li><code class=\"language-plaintext highlighter-rouge\">vertical_flip</code>: Boolean. 입력을 수직으로 랜덤하게 뒤집음</li> <li><code class=\"language-plaintext highlighter-rouge\">rescale</code>: 데이터에 제공된 값을 곱함</li> <li><code class=\"language-plaintext highlighter-rouge\">preprocessing_function</code>: 각 입력에 적용될 함수 -&gt; 이미지 크기 조정 및 증강 후에 실행</li> <li><code class=\"language-plaintext highlighter-rouge\">dtype</code>: 생성된 어레이에 사용할 Dtype</li> </ul>"
   ]
  },
  {
   "cell_type": "markdown",
   "id": "b19f6596-62ba-4f56-99ee-b40a70c98d81",
   "metadata": {},
   "source": [
    "# example"
   ]
  },
  {
   "cell_type": "markdown",
   "id": "3c4589cd-abd9-41c5-b0ff-140dd2250357",
   "metadata": {},
   "source": [
    "## .flow(x, y)사용한 예시:"
   ]
  },
  {
   "cell_type": "markdown",
   "id": "a9297edd-ce50-45eb-8b59-e95bde4acddd",
   "metadata": {},
   "source": [
    "\n",
    "<pre>\n",
    "(x_train, y_train), (x_test, y_test) = cifar10.load_data()\n",
    "y_train = np_utils.to_categorical(y_train, num_classes)\n",
    "y_test = np_utils.to_categorical(y_test, num_classes)\n",
    "\n",
    "#랜덤한 옵션 #max값\n",
    "datagen = ImageDataGenerator(\n",
    "    featurewise_center=True,\n",
    "    featurewise_std_normalization=True,\n",
    "    rotation_range=20,\n",
    "    width_shift_range=0.2,\n",
    "    height_shift_range=0.2,\n",
    "    horizontal_flip=True)\n",
    "\n",
    "# 특성별 정규화에 필요한 수치를 계산합니다\n",
    "# (영위상 성분분석 백색화를 적용하는 경우, 표준편차, 평균, 그리고 주성분이 이에 해당합니다)\n",
    "datagen.fit(x_train)\n",
    "\n",
    "# 실시간 데이터 증강을 사용해 배치에 대해서 모델을 학습합니다:\n",
    "model.fit_generator(datagen.flow(x_train, y_train, batch_size=32),\n",
    "                    steps_per_epoch=len(x_train) / 32, epochs=epochs)\n"
   ]
  },
  {
   "cell_type": "markdown",
   "id": "304730ce-d6f3-4dec-bf92-e15ca44713e6",
   "metadata": {
    "tags": []
   },
   "source": [
    "### 수동 예시\n",
    "★배치 사이즈 조절 안하면 무한 증강된다 주의 ★★\n"
   ]
  },
  {
   "cell_type": "code",
   "execution_count": 11,
   "id": "6e5a82a1-e946-48fc-8eae-d0258b3d32c2",
   "metadata": {
    "tags": []
   },
   "outputs": [
    {
     "data": {
      "text/plain": [
       "(6, 28, 28, 1)"
      ]
     },
     "execution_count": 11,
     "metadata": {},
     "output_type": "execute_result"
    }
   ],
   "source": [
    "X_train_cp = X_train.reshape(-1,28,28,1)[:6]\n",
    "# y_train_cp = y_train.reshape(-1,28,28,1)[:6]\n",
    "y_train_cp = y_train[:6]\n",
    "X_train_cp.shape\n",
    "#y_train_cp.shape"
   ]
  },
  {
   "cell_type": "code",
   "execution_count": 26,
   "id": "2a117987-8e8f-4748-8da4-d172ac9c26c3",
   "metadata": {
    "tags": []
   },
   "outputs": [
    {
     "name": "stdout",
     "output_type": "stream",
     "text": [
      "Epoch 0\n",
      "Epoch 1\n"
     ]
    },
    {
     "data": {
      "image/png": "[encoded data removed]",
      "text/plain": [
       "<Figure size 1000x500 with 1 Axes>"
      ]
     },
     "metadata": {},
     "output_type": "display_data"
    }
   ],
   "source": [
    "# 다음은 보다 \"수동\"인 예시입니다\n",
    "datagen = ImageDataGenerator(rotation_range=50)\n",
    "\n",
    "plt.figure(figsize=(10,5))\n",
    "for e in range(2):\n",
    "    print('Epoch', e) #epoch당 몇번 학습할까\n",
    "    batches = 0 #★배치 사이즈 조절 안하면 무한 증강된다 주의 ★★\n",
    "    for x_batch, y_batch in datagen.flow(X_train_cp, y_train_cp, batch_size=1):\n",
    "        # model.fit(x_batch, y_batch)\n",
    "        # print(x_batch.reshape(28,28).shape)\n",
    "        plt.imshow(x_batch.reshape(28,28))\n",
    "        batches += 1\n",
    "        if batches >= len(y_batch) / 1: #숫자 : 배치 사이즈   * 샘플 / 배치 사이즈 = step_per_epoch : 한 에포크 당 증강 횟수. 증강 stop\n",
    "            # we need to break the loop by hand because\n",
    "            # the generator loops indefinitely\n",
    "            break"
   ]
  },
  {
   "cell_type": "code",
   "execution_count": 29,
   "id": "0d2a6e14-5929-46f7-9b06-ca1701b8804b",
   "metadata": {
    "tags": []
   },
   "outputs": [],
   "source": [
    "from keras.models import Sequential\n",
    "from keras.layers import Dropout, Conv2D, MaxPool2D, Flatten, Dense,MaxPooling2D\n",
    "from keras.initializers import GlorotNormal  #Xavier"
   ]
  },
  {
   "cell_type": "code",
   "execution_count": 1,
   "id": "94dbb532-cce2-4c16-93ee-b6a1837ddfa4",
   "metadata": {
    "tags": []
   },
   "outputs": [],
   "source": [
    "from keras.preprocessing.image import ImageDataGenerator"
   ]
  },
  {
   "cell_type": "code",
   "execution_count": 30,
   "id": "73c7f81c-2f3c-4470-a49e-4b0b94923bed",
   "metadata": {
    "tags": []
   },
   "outputs": [],
   "source": [
    "#위 그림 모형대로 모델 쌓기\n",
    "\n",
    "model = Sequential()\n",
    "\n",
    "#-------------------- CNN 합성곱 ------------------------\n",
    "model.add(Conv2D(filters = 16,input_shape=(28,28,1),kernel_size =(5,5),strides=(1, 1),padding=\"valid\",activation='relu',kernel_initializer=\"glorot_uniform\"))\n",
    "model.add(MaxPooling2D(pool_size=(2, 2), strides=None, padding=\"valid\")) #\n",
    "model.add(Conv2D(filters = 16, kernel_size =(5,5), activation='relu')) #필터 사이즈. 그대로 내보내냐 변형해서 내보내냐\n",
    "model.add(MaxPooling2D(pool_size=(2, 2), strides=None, padding=\"valid\")) \n",
    "\n",
    "#------------------- Fully Connected-----------------\n",
    "\n",
    "model.add(Flatten())\n",
    "model.add((Dense(units=60,  activation='relu'))) # 히든레이어 : 복잡할 필요 없다.\n",
    "model.add((Dense(units=10,  activation='softmax'))) # Output\n",
    "model.compile(loss='sparse_categorical_crossentropy', optimizer='Adam', metrics=['accuracy'])\n"
   ]
  },
  {
   "cell_type": "code",
   "execution_count": 31,
   "id": "fe138315-b82d-47da-8baa-64950a26958e",
   "metadata": {
    "tags": []
   },
   "outputs": [
    {
     "name": "stdout",
     "output_type": "stream",
     "text": [
      "Epoch: 0 \n",
      "1/1 [==============================] - 1s 858ms/step - loss: 32.4153 - accuracy: 0.0000e+00\n",
      "1/1 [==============================] - 0s 7ms/step - loss: 1.9439 - accuracy: 0.0000e+00\n",
      "1/1 [==============================] - 0s 6ms/step - loss: 15.9042 - accuracy: 0.0000e+00\n",
      "1/1 [==============================] - 0s 8ms/step - loss: 42.8519 - accuracy: 0.0000e+00\n",
      "1/1 [==============================] - 0s 8ms/step - loss: 27.8351 - accuracy: 0.0000e+00\n",
      "1/1 [==============================] - 0s 9ms/step - loss: 35.2192 - accuracy: 0.0000e+00\n"
     ]
    },
    {
     "data": {
      "image/png": "[encoded data removed]",
      "text/plain": [
       "<Figure size 1000x500 with 6 Axes>"
      ]
     },
     "metadata": {},
     "output_type": "display_data"
    },
    {
     "name": "stdout",
     "output_type": "stream",
     "text": [
      "Epoch: 1 \n",
      "1/1 [==============================] - 0s 6ms/step - loss: 22.0897 - accuracy: 0.0000e+00\n",
      "1/1 [==============================] - 0s 7ms/step - loss: 0.0000e+00 - accuracy: 1.0000\n",
      "1/1 [==============================] - 0s 7ms/step - loss: 13.3964 - accuracy: 0.0000e+00\n",
      "1/1 [==============================] - 0s 9ms/step - loss: 0.8512 - accuracy: 0.0000e+00\n",
      "1/1 [==============================] - 0s 7ms/step - loss: 3.9617e-04 - accuracy: 1.0000\n",
      "1/1 [==============================] - 0s 6ms/step - loss: 0.5621 - accuracy: 1.0000\n"
     ]
    },
    {
     "data": {
      "image/png": "[encoded data removed]",
      "text/plain": [
       "<Figure size 1000x500 with 6 Axes>"
      ]
     },
     "metadata": {},
     "output_type": "display_data"
    }
   ],
   "source": [
    "EPOCHS = 2\n",
    "for e in range(EPOCHS):\n",
    "    plt.figure(figsize=(10,5))\n",
    "    \n",
    "    batches = 0\n",
    "    print(f\"Epoch: {e} \")\n",
    "    for x_batch, y_batch in datagen.flow(X_train_cp, y_train_cp, batch_size=1): #flow : 무한 루프 반복(break로 멈춰준다)\n",
    "        model.fit(x_batch, y_batch)\n",
    "        \n",
    "        batches += 1 \n",
    "        \n",
    "        plt.subplot(1, len(X_train_cp), batches)\n",
    "        plt.imshow(x_batch.reshape(28,28)) #다시 차원축소해야\n",
    "        plt.title(f\" {y_batch}\")\n",
    "        \n",
    "        if batches >= len(X_train_cp) / 1:  #step_per_epoch\n",
    "            break\n",
    "    plt.show()"
   ]
  },
  {
   "cell_type": "markdown",
   "id": "fbee7491-01a5-4dd2-add6-389176ed0553",
   "metadata": {},
   "source": [
    "## .flow_from_directory(directory)사용한 예시:\n",
    "    - 디렉토리에 있는 전체 사진 활용\n",
    "    - 디렉토리(폴더) depth는 반드시 3단 구조여야 한다. ex) datasets/image/aa.png"
   ]
  },
  {
   "cell_type": "code",
   "execution_count": null,
   "id": "3e486cca-3397-41b8-a8b9-2ae161720543",
   "metadata": {
    "tags": []
   },
   "outputs": [],
   "source": [
    "\n",
    "train_datagen = ImageDataGenerator(\n",
    "        rescale=1./255,\n",
    "        shear_range=0.2,\n",
    "        zoom_range=0.1,\n",
    "        width_shift_range=0.1,\n",
    "        height_shift_range=0.1,\n",
    "        horizontal_flip=True,\n",
    "        vertical_flip=False)\n",
    "\n",
    "test_generator = ImageDataGenerator(rescale=1./255) #테스트는 스케일만 한 이유? -> ★테스트는 증강시키면 안된다.★ 100문제 푸세요 -> 800문제 푸세요(X)\n",
    "\n",
    "BATCH_SIZE = 256\n",
    "\n",
    "train_generator = train_datagen.flow_from_directory(\n",
    "        'data/train',#3단 구조\n",
    "        target_size=(150, 150), #150*150으로\n",
    "        batch_size=32, #사진당 32장씩 만들어라\n",
    "        class_mode='binary')\n",
    "\n",
    "validation_generator = test_datagen.flow_from_directory(\n",
    "        'data/validation',\n",
    "        target_size=(150, 150),\n",
    "        batch_size=32,\n",
    "        class_mode='binary')\n",
    "\n",
    "model.fit_generator(\n",
    "        train_generator,\n",
    "        steps_per_epoch=2000,\n",
    "        epochs=50,\n",
    "        validation_data=validation_generator,\n",
    "        validation_steps=800)"
   ]
  },
  {
   "cell_type": "code",
   "execution_count": null,
   "id": "4af6015a-b916-4f59-b948-387b78a04ff9",
   "metadata": {},
   "outputs": [],
   "source": []
  },
  {
   "cell_type": "code",
   "execution_count": null,
   "id": "4b4f8500-6d73-4d51-87d4-963886e7c509",
   "metadata": {},
   "outputs": [],
   "source": []
  },
  {
   "cell_type": "code",
   "execution_count": null,
   "id": "4433dc6b-dc3c-4c14-be8f-7a86d5f2a9dd",
   "metadata": {},
   "outputs": [],
   "source": []
  },
  {
   "cell_type": "code",
   "execution_count": null,
   "id": "5b5c5ef7-241f-43be-ab5f-3a094baed0ab",
   "metadata": {},
   "outputs": [],
   "source": []
  },
  {
   "cell_type": "code",
   "execution_count": null,
   "id": "b7cff08b-4165-43bd-b05d-1c0475c55ba3",
   "metadata": {},
   "outputs": [],
   "source": []
  },
  {
   "cell_type": "code",
   "execution_count": null,
   "id": "08c554e0-d43c-45b2-85d4-9271f2b663b8",
   "metadata": {},
   "outputs": [],
   "source": []
  },
  {
   "cell_type": "code",
   "execution_count": null,
   "id": "28ef39be-1143-4094-b324-6b40c9ad7812",
   "metadata": {},
   "outputs": [],
   "source": []
  },
  {
   "cell_type": "code",
   "execution_count": null,
   "id": "dcb270f2-1e84-4a35-9008-2c0ffd181a78",
   "metadata": {},
   "outputs": [],
   "source": []
  },
  {
   "cell_type": "markdown",
   "id": "1be6d3ff-8e19-4803-8d06-2fc5f8542111",
   "metadata": {},
   "source": [
    "# 모델"
   ]
  },
  {
   "cell_type": "code",
   "execution_count": null,
   "id": "7d48385f-c58c-4637-9a9e-8b631cd47aa6",
   "metadata": {},
   "outputs": [],
   "source": []
  },
  {
   "cell_type": "code",
   "execution_count": null,
   "id": "d871538b-0273-4021-8bfd-700edb1d5276",
   "metadata": {
    "tags": []
   },
   "outputs": [],
   "source": [
    "#위 그림 모형대로 모델 쌓기\n",
    "\n",
    "model = Sequential()\n",
    "\n",
    "#-------------------- CNN 합성곱 ------------------------\n",
    "model.add(Conv2D(filters = 16,input_shape=(28,28,1),kernel_size =(5,5),strides=(1, 1),padding=\"valid\",activation='relu',kernel_initializer=\"glorot_uniform\"))\n",
    "model.add(MaxPooling2D(pool_size=(2, 2), strides=None, padding=\"valid\")) #\n",
    "model.add(Conv2D(filters = 16, kernel_size =(5,5), activation='relu')) #필터 사이즈. 그대로 내보내냐 변형해서 내보내냐\n",
    "model.add(MaxPooling2D(pool_size=(2, 2), strides=None, padding=\"valid\")) \n",
    "\n",
    "#------------------- Fully Connected-----------------\n",
    "\n",
    "model.add(Flatten())\n",
    "model.add((Dense(units=60,  activation='relu'))) # 히든레이어 : 복잡할 필요 없다.\n",
    "model.add((Dense(units=10,  activation='softmax'))) # Output\n",
    "model.compile(loss='sparse_categorical_crossentropy', optimizer='Adam', metrics=['accuracy'])\n"
   ]
  },
  {
   "cell_type": "code",
   "execution_count": null,
   "id": "f7f5b4a8-c115-4c3c-993b-e1c59f6ce249",
   "metadata": {
    "tags": []
   },
   "outputs": [],
   "source": [
    "model.summary()"
   ]
  },
  {
   "cell_type": "code",
   "execution_count": null,
   "id": "b4c955a4-ff22-4cb3-a90b-642bb81a41a7",
   "metadata": {},
   "outputs": [],
   "source": []
  },
  {
   "cell_type": "code",
   "execution_count": null,
   "id": "ffbb0142-0a2f-4f41-973e-994c58e8e403",
   "metadata": {
    "tags": []
   },
   "outputs": [],
   "source": [
    "fit_hisroty = model.fit(X_train_scaler, y_train\n",
    "                        , batch_size = 128\n",
    "                        , validation_split=0.2, epochs=10)\n",
    "print(fit_hisroty)\n",
    "print ( model.evaluate(X_test_scaler, y_test)  )"
   ]
  },
  {
   "cell_type": "code",
   "execution_count": null,
   "id": "e67faa4b-ad34-4ac3-b6a0-b971536eafcd",
   "metadata": {},
   "outputs": [],
   "source": []
  },
  {
   "cell_type": "code",
   "execution_count": null,
   "id": "d39f510b-a6bd-476b-a150-bb0ddd73d177",
   "metadata": {
    "tags": []
   },
   "outputs": [],
   "source": [
    "plt.figure(figsize=(6,3))\n",
    "ax1 = plt.subplot(1,2,1)\n",
    "ax1.plot(fit_hisroty.history['loss']    , label='loss')\n",
    "ax1.plot(fit_hisroty.history['val_loss'], label='val_loss')\n",
    "ax1.legend()\n",
    "ax1.set_title(\"loss\")\n",
    "\n",
    "ax2 = plt.subplot(1,2,2)\n",
    "ax2.plot(fit_hisroty.history['accuracy']    , label='accuracy')\n",
    "ax2.plot(fit_hisroty.history['val_accuracy'], label='val_accuracy')\n",
    "ax2.legend()\n",
    "ax2.set_title(\"accuracy\")\n",
    "\n",
    "plt.show()"
   ]
  }
 ],
 "metadata": {
  "kernelspec": {
   "display_name": "Python 3 (ipykernel)",
   "language": "python",
   "name": "python3"
  },
  "language_info": {
   "codemirror_mode": {
    "name": "ipython",
    "version": 3
   },
   "file_extension": ".py",
   "mimetype": "text/x-python",
   "name": "python",
   "nbconvert_exporter": "python",
   "pygments_lexer": "ipython3",
   "version": "3.8.8"
  }
 },
 "nbformat": 4,
 "nbformat_minor": 5
}
