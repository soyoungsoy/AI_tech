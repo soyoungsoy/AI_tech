{
 "cells": [
  {
   "cell_type": "markdown",
   "id": "726798b3-78cb-4b20-8529-d45fde5fb3cf",
   "metadata": {},
   "source": [
    "# LEC04 . reshape"
   ]
  },
  {
   "cell_type": "code",
   "execution_count": null,
   "id": "c7fac6f2-4337-44cf-96dd-570bed890e71",
   "metadata": {},
   "outputs": [],
   "source": []
  },
  {
   "cell_type": "code",
   "execution_count": 1,
   "id": "2a2ba3f5-fe98-4b13-940e-ad48e20d1a27",
   "metadata": {
    "tags": []
   },
   "outputs": [],
   "source": [
    "import numpy as np\n",
    "import pandas as pd"
   ]
  },
  {
   "cell_type": "code",
   "execution_count": null,
   "id": "175d4681-5c19-472a-8b22-4bdc1b97fca3",
   "metadata": {},
   "outputs": [],
   "source": []
  },
  {
   "cell_type": "markdown",
   "id": "5bfb5608-eb30-4330-bcb2-e936e67cb0f8",
   "metadata": {},
   "source": [
    "# Scalar, Vector, Matrix\n"
   ]
  },
  {
   "cell_type": "markdown",
   "id": "0111df73-febb-4e33-8a7e-9a59f2b2e7a0",
   "metadata": {
    "tags": []
   },
   "source": [
    "<img src = 'https://mblogthumb-phinf.pstatic.net/MjAyMDA1MjVfMjMx/MDAxNTkwMzY0MTI4NTE1.f-y_r75ikUM3Mr406dl5ILpLArs8vtef5jOb1_bncZcg.t1-XQSmZiTGDdV2o2JS3LpCb2rb3rsRGCWgvmOuvYYYg.PNG.nabilera1/image.png?type=w800'>\n",
    "\n",
    "[ 데이터 구조 ]\n",
    "\n",
    "* Scalar = 1개의 숫자\n",
    "* Vector = 여러개 숫자 묶음 like array\n",
    "* Matrix = 벡터의 묶음 : 행, 열로 구성 \n",
    "* Tensor = 행렬의 묶음 "
   ]
  },
  {
   "cell_type": "code",
   "execution_count": null,
   "id": "57bdc258-c837-445d-9c76-26f0769d6c00",
   "metadata": {},
   "outputs": [],
   "source": []
  },
  {
   "cell_type": "code",
   "execution_count": null,
   "id": "ec06cda0-b900-4e31-9c5b-067e68c53cbb",
   "metadata": {},
   "outputs": [],
   "source": []
  },
  {
   "cell_type": "markdown",
   "id": "4be761ec-9b82-4e49-b779-6923f9dd0149",
   "metadata": {},
   "source": [
    "# Len , Shape"
   ]
  },
  {
   "cell_type": "code",
   "execution_count": 2,
   "id": "1d4cc029-2ade-435c-bad7-12e5776e5123",
   "metadata": {
    "tags": []
   },
   "outputs": [
    {
     "name": "stdout",
     "output_type": "stream",
     "text": [
      "4 [1, 2, 3, 4] 1\n",
      "(4,) [1 2 3 4] 1\n",
      "0    1\n",
      "1    2\n",
      "2    3\n",
      "3    4\n",
      "dtype: int32\n",
      "4 (4,) 1\n",
      "[1 2 3 4]\n",
      "(4,)\n"
     ]
    }
   ],
   "source": [
    "num_list = [1,2,3,4]\n",
    "print(len(num_list), num_list, np.ndim(num_list)) #ndim = 차원\n",
    "\n",
    "num_arr = np.array(num_list)\n",
    "print(num_arr.shape, num_arr, np.ndim(num_arr)) #4행이 아니라 4요소\n",
    "\n",
    "\n",
    "\n",
    "s = pd.Series(num_arr)\n",
    "print(s)\n",
    "print(len(s), s.shape , np.ndim(s)) #시리즈는 단일 컬럼값이기 때문에 s.values.shape = s.shape #len은 크기, shape은 모양\n",
    "print(s.values)\n",
    "print(s.values.shape)"
   ]
  },
  {
   "cell_type": "code",
   "execution_count": null,
   "id": "e45362bc-ccb0-499c-8244-9b18a67a9f16",
   "metadata": {},
   "outputs": [],
   "source": []
  },
  {
   "cell_type": "markdown",
   "id": "8a34c652-8720-4932-8959-009654615875",
   "metadata": {},
   "source": [
    "# 요소 접근"
   ]
  },
  {
   "cell_type": "code",
   "execution_count": 3,
   "id": "9d5feabc-745a-40bd-af79-d3e2c4aa656d",
   "metadata": {
    "tags": []
   },
   "outputs": [
    {
     "name": "stdout",
     "output_type": "stream",
     "text": [
      "[[[ 0  1  2  3]\n",
      "  [ 4  5  6  7]\n",
      "  [ 8  9 10 11]]\n",
      "\n",
      " [[12 13 14 15]\n",
      "  [16 17 18 19]\n",
      "  [20 21 22 23]]]\n"
     ]
    }
   ],
   "source": [
    "num_arr = np.arange(0,24)\n",
    "re_arr = num_arr.reshape(2,3,4) #2덩어리\n",
    "print(re_arr)"
   ]
  },
  {
   "cell_type": "code",
   "execution_count": 4,
   "id": "c8aadccd-1187-4a2c-ae15-1dfc497e7d6f",
   "metadata": {
    "tags": []
   },
   "outputs": [
    {
     "data": {
      "text/plain": [
       "3"
      ]
     },
     "execution_count": 4,
     "metadata": {},
     "output_type": "execute_result"
    }
   ],
   "source": [
    "len(re_arr[0])"
   ]
  },
  {
   "cell_type": "code",
   "execution_count": 5,
   "id": "0243ff5b-1346-4e3c-a909-ab5599ca2360",
   "metadata": {
    "tags": []
   },
   "outputs": [
    {
     "data": {
      "text/plain": [
       "array([[ 0,  1,  2,  3],\n",
       "       [ 4,  5,  6,  7],\n",
       "       [ 8,  9, 10, 11]])"
      ]
     },
     "execution_count": 5,
     "metadata": {},
     "output_type": "execute_result"
    }
   ],
   "source": [
    "re_arr[0]"
   ]
  },
  {
   "cell_type": "code",
   "execution_count": 6,
   "id": "6178e927-b6d1-4a16-abba-6267d1259636",
   "metadata": {
    "tags": []
   },
   "outputs": [
    {
     "data": {
      "text/plain": [
       "0"
      ]
     },
     "execution_count": 6,
     "metadata": {},
     "output_type": "execute_result"
    }
   ],
   "source": [
    "# len(re_arr[0][0][0]) # 숫자 scalar는 len이 없다. \n",
    "re_arr[0][0][0]"
   ]
  },
  {
   "cell_type": "markdown",
   "id": "8d405774-22e6-42e3-9914-3d66a228f462",
   "metadata": {},
   "source": [
    "# arange() vs range()\n",
    "    - arange(s, e, inc) vs range(s, e, inc)\n",
    "    - array             vs range 객체\n",
    "    - 요소값 출력        vs list(a)로 감싸서 요소값 출력\n",
    "    - for i in range(10) :"
   ]
  },
  {
   "cell_type": "code",
   "execution_count": 7,
   "id": "3b6670b3-9fad-4658-9920-f37e333555aa",
   "metadata": {
    "tags": []
   },
   "outputs": [
    {
     "data": {
      "text/plain": [
       "array([ 4,  6,  8, 10])"
      ]
     },
     "execution_count": 7,
     "metadata": {},
     "output_type": "execute_result"
    }
   ],
   "source": [
    "a = np.arange(4,12,2) # 4~12미만 까지 2 증가하면서\n",
    "a"
   ]
  },
  {
   "cell_type": "code",
   "execution_count": 8,
   "id": "234bb7f9-8195-4adb-b0f7-45c9a07568cb",
   "metadata": {
    "tags": []
   },
   "outputs": [
    {
     "name": "stdout",
     "output_type": "stream",
     "text": [
      "<class 'range'>\n"
     ]
    },
    {
     "data": {
      "text/plain": [
       "[4, 6, 8, 10]"
      ]
     },
     "execution_count": 8,
     "metadata": {},
     "output_type": "execute_result"
    }
   ],
   "source": [
    "a= range(4,12,2)\n",
    "\n",
    "print(type(a))\n",
    "list(a)\n"
   ]
  },
  {
   "cell_type": "code",
   "execution_count": 9,
   "id": "4e703bc6-4c65-442f-8f86-6ade7d111729",
   "metadata": {
    "tags": []
   },
   "outputs": [
    {
     "name": "stdout",
     "output_type": "stream",
     "text": [
      "1\n",
      "2\n",
      "3\n"
     ]
    }
   ],
   "source": [
    "for i in [1,2,3] :\n",
    "    print(i)"
   ]
  },
  {
   "cell_type": "code",
   "execution_count": 10,
   "id": "00b7c7d1-2d0e-4ea1-82f5-4168f2a42208",
   "metadata": {
    "tags": []
   },
   "outputs": [
    {
     "name": "stdout",
     "output_type": "stream",
     "text": [
      "1\n",
      "2\n",
      "3\n"
     ]
    }
   ],
   "source": [
    "for i in np.array([1,2,3]) :\n",
    "    print(i)"
   ]
  },
  {
   "cell_type": "markdown",
   "id": "73d10dbb-d9e4-4c03-b25e-ab02449882d2",
   "metadata": {},
   "source": [
    "## range"
   ]
  },
  {
   "cell_type": "code",
   "execution_count": 11,
   "id": "7f35cfca-689a-47cf-849d-02863387bc39",
   "metadata": {
    "tags": []
   },
   "outputs": [
    {
     "name": "stdout",
     "output_type": "stream",
     "text": [
      "1\n",
      "2\n",
      "3\n"
     ]
    }
   ],
   "source": [
    "for i in range(1,4) :\n",
    "    print(i)"
   ]
  },
  {
   "cell_type": "code",
   "execution_count": 12,
   "id": "45f8313c-d5fb-4bdc-8b71-918bf4c2c598",
   "metadata": {
    "tags": []
   },
   "outputs": [
    {
     "name": "stdout",
     "output_type": "stream",
     "text": [
      "0\n",
      "1\n",
      "2\n"
     ]
    }
   ],
   "source": [
    "for i in range(3) :\n",
    "    print(i)"
   ]
  },
  {
   "cell_type": "markdown",
   "id": "9e412990-22c1-469c-9040-2307f339b3b7",
   "metadata": {},
   "source": [
    "## arange"
   ]
  },
  {
   "cell_type": "code",
   "execution_count": 13,
   "id": "0369ca99-64ab-4b07-8013-1f9e1b1b7cfe",
   "metadata": {
    "tags": []
   },
   "outputs": [
    {
     "name": "stdout",
     "output_type": "stream",
     "text": [
      "0\n",
      "1\n",
      "2\n"
     ]
    }
   ],
   "source": [
    "for i in np.arange(3) : # array로 [0,1,2] 들어오는 값\n",
    "    print(i)"
   ]
  },
  {
   "cell_type": "code",
   "execution_count": 14,
   "id": "6c51e27f-fbf8-42e4-adf6-fa0afdec0fe4",
   "metadata": {
    "tags": []
   },
   "outputs": [
    {
     "name": "stdout",
     "output_type": "stream",
     "text": [
      "1\n",
      "2\n",
      "3\n"
     ]
    }
   ],
   "source": [
    "for i in np.arange(1,4) : # array로 [1,2,3] 들어오는 값\n",
    "    print(i)"
   ]
  },
  {
   "cell_type": "markdown",
   "id": "7121edeb-88ed-4a78-80cd-7a55188a3385",
   "metadata": {},
   "source": [
    "## 번외 리스트"
   ]
  },
  {
   "cell_type": "code",
   "execution_count": 15,
   "id": "0716eaf9-8614-4b86-8325-94374489bc22",
   "metadata": {
    "tags": []
   },
   "outputs": [
    {
     "name": "stdout",
     "output_type": "stream",
     "text": [
      "1\n",
      "2\n",
      "3\n"
     ]
    }
   ],
   "source": [
    "for i in list(range(1,4)): #[1,2,3]\n",
    "    print(i)"
   ]
  },
  {
   "cell_type": "markdown",
   "id": "68979081-a62d-4d83-83ee-da7801c9dfae",
   "metadata": {},
   "source": [
    "# np.zeros / np.likes / np.ones (더미 데이터 만들기)"
   ]
  },
  {
   "attachments": {
    "455fa8e4-37ec-456a-a98b-95cc4f3485bb.png": {
     "image/png": "[encoded data removed]"
    }
   },
   "cell_type": "markdown",
   "id": "f650b47c-57ec-4bce-873b-2f5cfa24fcf8",
   "metadata": {},
   "source": [
    "![image.png](attachment:455fa8e4-37ec-456a-a98b-95cc4f3485bb.png)\n",
    "\n",
    "- 2행, 3열, 2덩어리"
   ]
  },
  {
   "cell_type": "markdown",
   "id": "7a27f354-f65f-4ca0-a1a1-d625a963efcc",
   "metadata": {},
   "source": [
    "## zero"
   ]
  },
  {
   "cell_type": "code",
   "execution_count": 16,
   "id": "5c942f85-5432-4b44-af47-84dd15db4570",
   "metadata": {
    "tags": []
   },
   "outputs": [
    {
     "data": {
      "text/plain": [
       "array([0, 0, 0, 0, 0])"
      ]
     },
     "execution_count": 16,
     "metadata": {},
     "output_type": "execute_result"
    }
   ],
   "source": [
    "np.zeros((5), dtype = int) # int 없으면 0. float"
   ]
  },
  {
   "cell_type": "code",
   "execution_count": 17,
   "id": "5b02c01b-219e-499c-b433-8a013bc1c930",
   "metadata": {
    "tags": []
   },
   "outputs": [
    {
     "data": {
      "text/plain": [
       "array([[0, 0, 0],\n",
       "       [0, 0, 0],\n",
       "       [0, 0, 0],\n",
       "       [0, 0, 0],\n",
       "       [0, 0, 0]])"
      ]
     },
     "execution_count": 17,
     "metadata": {},
     "output_type": "execute_result"
    }
   ],
   "source": [
    "np.zeros((5,3), dtype = int) "
   ]
  },
  {
   "cell_type": "markdown",
   "id": "62408006-f55e-4223-b5c4-5af36c7099b2",
   "metadata": {},
   "source": [
    "## ones"
   ]
  },
  {
   "cell_type": "code",
   "execution_count": 18,
   "id": "7e2e7e4c-43ed-4c9c-8ecc-499effcef1ae",
   "metadata": {
    "tags": []
   },
   "outputs": [
    {
     "data": {
      "text/plain": [
       "array([1, 1, 1, 1, 1])"
      ]
     },
     "execution_count": 18,
     "metadata": {},
     "output_type": "execute_result"
    }
   ],
   "source": [
    "np.ones((5), dtype = int)"
   ]
  },
  {
   "cell_type": "code",
   "execution_count": 19,
   "id": "d15ce111-6f05-479e-beec-ae3a953f31e1",
   "metadata": {
    "tags": []
   },
   "outputs": [
    {
     "data": {
      "text/plain": [
       "array([[1, 1, 1, 1],\n",
       "       [1, 1, 1, 1],\n",
       "       [1, 1, 1, 1],\n",
       "       [1, 1, 1, 1],\n",
       "       [1, 1, 1, 1]])"
      ]
     },
     "execution_count": 19,
     "metadata": {},
     "output_type": "execute_result"
    }
   ],
   "source": [
    "np.ones((5,4), dtype = int)"
   ]
  },
  {
   "cell_type": "markdown",
   "id": "c29c0c7e-82ae-409c-a26b-d28f8a19e5ee",
   "metadata": {},
   "source": [
    "## like"
   ]
  },
  {
   "cell_type": "code",
   "execution_count": 20,
   "id": "32b4a70b-08c7-4c93-97d5-894cb8a3ce79",
   "metadata": {
    "tags": []
   },
   "outputs": [
    {
     "name": "stdout",
     "output_type": "stream",
     "text": [
      "(5, 3)\n",
      "[[0 0 0]\n",
      " [0 0 0]\n",
      " [0 0 0]\n",
      " [0 0 0]\n",
      " [0 0 0]]\n",
      "(5, 3)\n",
      "[[1 1 1]\n",
      " [1 1 1]\n",
      " [1 1 1]\n",
      " [1 1 1]\n",
      " [1 1 1]]\n"
     ]
    }
   ],
   "source": [
    "sample = np.zeros((5,3), dtype = int) \n",
    "print(sample.shape)\n",
    "print(sample)\n",
    "\n",
    "temp = np.ones_like(sample) #sample모양대로 1로 채워주세요.\n",
    "print(temp.shape)\n",
    "print(temp)"
   ]
  },
  {
   "cell_type": "code",
   "execution_count": null,
   "id": "0c985460-8b17-4dee-b6d9-ac0c3befb893",
   "metadata": {},
   "outputs": [],
   "source": []
  },
  {
   "cell_type": "code",
   "execution_count": null,
   "id": "7fefb0fc-7f02-40f8-bbc6-3ac51516b8c3",
   "metadata": {},
   "outputs": [],
   "source": []
  },
  {
   "cell_type": "markdown",
   "id": "793beabf-2a2a-4715-9c0c-f9574981cd78",
   "metadata": {},
   "source": [
    "# Dimension(차수)"
   ]
  },
  {
   "cell_type": "markdown",
   "id": "3b760c2b-9f91-4237-9ca7-4f6ee98744f4",
   "metadata": {
    "tags": []
   },
   "source": [
    "<img src ='https://img1.daumcdn.net/thumb/R1280x0/?scode=mtistory2&fname=https%3A%2F%2Fblog.kakaocdn.net%2Fdn%2FcSoMOs%2Fbtqt0a2Dc2y%2FQhkfwhiWqeUKvNfsM2H29K%2Fimg.png'>"
   ]
  },
  {
   "cell_type": "markdown",
   "id": "04d9b438-99fd-4eb0-ba26-7499191f0425",
   "metadata": {},
   "source": [
    "## 1차 : 1D [..]"
   ]
  },
  {
   "cell_type": "markdown",
   "id": "6378adda-4431-4ae5-984c-94f42829a125",
   "metadata": {},
   "source": [
    "* 가변 행렬 = [[1,2], [1], [1,3,5]..]의 경우 list를 하나의 값으로 인식"
   ]
  },
  {
   "cell_type": "code",
   "execution_count": 21,
   "id": "17a393d4-f773-4626-8c57-55dc1b9777dd",
   "metadata": {
    "tags": []
   },
   "outputs": [
    {
     "name": "stdout",
     "output_type": "stream",
     "text": [
      "1\n"
     ]
    }
   ],
   "source": [
    "num_list = [1,2,3,4]\n",
    "\n",
    "print(np.ndim(num_list))"
   ]
  },
  {
   "cell_type": "markdown",
   "id": "d87b525b-e701-4d56-9086-447fd6afb5b6",
   "metadata": {},
   "source": [
    "## 2차 : 2D  = [[..]]대괄호 갯수"
   ]
  },
  {
   "cell_type": "code",
   "execution_count": 22,
   "id": "9171aaf4-c747-4616-aec8-167a9f9080a6",
   "metadata": {
    "tags": []
   },
   "outputs": [
    {
     "name": "stdout",
     "output_type": "stream",
     "text": [
      "2\n"
     ]
    }
   ],
   "source": [
    "num_list = [[1,2],[3,2],[4,1]]\n",
    "\n",
    "print(np.ndim(num_list))"
   ]
  },
  {
   "cell_type": "markdown",
   "id": "5a197d4e-d012-4f90-9d32-34b69ece394d",
   "metadata": {},
   "source": [
    "## 3차 : 3D [[[ ... ]]]\n",
    "* (2,3,4) : 3행 4열 2덩어리\n",
    "* <font color=red><b>axis=0 (세로 ↓)\n",
    "* <font color=red><b>axis=1 (가로 →)\n",
    "* <font color=red><b>axis=2 (폭)"
   ]
  },
  {
   "cell_type": "code",
   "execution_count": 23,
   "id": "03be4a7d-3293-4655-bc64-6141c7b50c87",
   "metadata": {
    "tags": []
   },
   "outputs": [
    {
     "name": "stdout",
     "output_type": "stream",
     "text": [
      "3\n"
     ]
    }
   ],
   "source": [
    "num_list = [[[1,2,3,4]]]\n",
    "\n",
    "print(np.ndim(num_list))"
   ]
  },
  {
   "cell_type": "code",
   "execution_count": 24,
   "id": "29540d1c-cadc-44d4-bd64-089157986492",
   "metadata": {
    "tags": []
   },
   "outputs": [
    {
     "name": "stdout",
     "output_type": "stream",
     "text": [
      "(24,) \n",
      " [ 0  1  2  3  4  5  6  7  8  9 10 11 12 13 14 15 16 17 18 19 20 21 22 23]\n",
      "\n",
      "(6, 4) \n",
      " [[ 0  1  2  3]\n",
      " [ 4  5  6  7]\n",
      " [ 8  9 10 11]\n",
      " [12 13 14 15]\n",
      " [16 17 18 19]\n",
      " [20 21 22 23]]\n",
      "\n",
      "(2, 3, 4) \n",
      " [[[ 0  1  2  3]\n",
      "  [ 4  5  6  7]\n",
      "  [ 8  9 10 11]]\n",
      "\n",
      " [[12 13 14 15]\n",
      "  [16 17 18 19]\n",
      "  [20 21 22 23]]]\n",
      "\n"
     ]
    }
   ],
   "source": [
    "num_arr = np.arange(0,24)\n",
    "print(num_arr.shape, '\\n', num_arr)\n",
    "print()\n",
    "\n",
    "re_arr = num_arr.reshape(6,4)\n",
    "print(re_arr.shape, '\\n', re_arr)\n",
    "print()\n",
    "\n",
    "re_arr = num_arr.reshape(2,3,4) #2덩어리\n",
    "print(re_arr.shape, '\\n',  re_arr)\n",
    "print()"
   ]
  },
  {
   "cell_type": "markdown",
   "id": "481a6f49-3ab4-4547-b4c2-1b15a9d71b35",
   "metadata": {},
   "source": [
    "# 축(axis)"
   ]
  },
  {
   "cell_type": "markdown",
   "id": "b6660998-1627-4e25-bf0f-b4a6247b7c88",
   "metadata": {},
   "source": [
    "* <font color=red><b>axis=0 (세로 ↓)\n",
    "* <font color=red><b>axis=1 (가로 →)\n",
    "* <font color=red><b>axis=2 (폭)"
   ]
  },
  {
   "cell_type": "code",
   "execution_count": 25,
   "id": "5456dad1-3c93-4b52-b399-21d57311dfa2",
   "metadata": {
    "tags": []
   },
   "outputs": [
    {
     "name": "stdout",
     "output_type": "stream",
     "text": [
      "[ 0  1  2  3  4  5  6  7  8  9 10 11 12 13 14 15 16 17 18 19 20 21 22 23]\n"
     ]
    },
    {
     "data": {
      "text/plain": [
       "276"
      ]
     },
     "execution_count": 25,
     "metadata": {},
     "output_type": "execute_result"
    }
   ],
   "source": [
    "num_arr = np.arange(0,24)\n",
    "print(num_arr)\n",
    "\n",
    "np.sum(num_arr) #array 총합"
   ]
  },
  {
   "cell_type": "markdown",
   "id": "59aedd56-4876-48bf-a7f0-c184744248f5",
   "metadata": {},
   "source": [
    "## axis = None"
   ]
  },
  {
   "cell_type": "markdown",
   "id": "25a5fc42-9b13-41a3-9ce0-545e754be117",
   "metadata": {},
   "source": [
    "* axis = None : sum all of the elements"
   ]
  },
  {
   "cell_type": "code",
   "execution_count": 26,
   "id": "99caec67-2a9e-413b-946b-1e6031753afd",
   "metadata": {
    "tags": []
   },
   "outputs": [
    {
     "name": "stdout",
     "output_type": "stream",
     "text": [
      "[[ 0  1  2  3]\n",
      " [ 4  5  6  7]\n",
      " [ 8  9 10 11]\n",
      " [12 13 14 15]\n",
      " [16 17 18 19]\n",
      " [20 21 22 23]]\n"
     ]
    },
    {
     "data": {
      "text/plain": [
       "276"
      ]
     },
     "execution_count": 26,
     "metadata": {},
     "output_type": "execute_result"
    }
   ],
   "source": [
    "num_arr = np.arange(0,24)\n",
    "num_arr = num_arr.reshape(6,4) #6줄 4칸\n",
    "\n",
    "print(num_arr)\n",
    "np.sum(num_arr)"
   ]
  },
  {
   "cell_type": "markdown",
   "id": "1dc93a29-a818-412a-b50e-b7eaef1abfdf",
   "metadata": {},
   "source": [
    "## axis = 0"
   ]
  },
  {
   "cell_type": "code",
   "execution_count": 27,
   "id": "602fb1d3-b1a1-4d84-aabe-156641ef7c0e",
   "metadata": {
    "tags": []
   },
   "outputs": [
    {
     "name": "stdout",
     "output_type": "stream",
     "text": [
      "[[ 0  1  2  3]\n",
      " [ 4  5  6  7]\n",
      " [ 8  9 10 11]\n",
      " [12 13 14 15]\n",
      " [16 17 18 19]\n",
      " [20 21 22 23]]\n"
     ]
    },
    {
     "data": {
      "text/plain": [
       "array([60, 66, 72, 78])"
      ]
     },
     "execution_count": 27,
     "metadata": {},
     "output_type": "execute_result"
    }
   ],
   "source": [
    "num_arr = np.arange(0,24)\n",
    "num_arr = num_arr.reshape(6,4) #6줄 4칸\n",
    "\n",
    "print(num_arr)\n",
    "np.sum(num_arr, axis = 0) # 세로로 합"
   ]
  },
  {
   "cell_type": "markdown",
   "id": "4c1f98ed-29ce-417d-ae33-e7e03b204dcb",
   "metadata": {},
   "source": [
    "## axis = 1"
   ]
  },
  {
   "cell_type": "code",
   "execution_count": 28,
   "id": "4d5c1344-d933-48df-a0b7-77678f1f9c64",
   "metadata": {
    "tags": []
   },
   "outputs": [
    {
     "name": "stdout",
     "output_type": "stream",
     "text": [
      "[[ 0  1  2  3]\n",
      " [ 4  5  6  7]\n",
      " [ 8  9 10 11]\n",
      " [12 13 14 15]\n",
      " [16 17 18 19]\n",
      " [20 21 22 23]]\n"
     ]
    },
    {
     "data": {
      "text/plain": [
       "array([ 6, 22, 38, 54, 70, 86])"
      ]
     },
     "execution_count": 28,
     "metadata": {},
     "output_type": "execute_result"
    }
   ],
   "source": [
    "num_arr = np.arange(0,24)\n",
    "num_arr = num_arr.reshape(6,4) #6줄 4칸\n",
    "\n",
    "print(num_arr)\n",
    "np.sum(num_arr, axis = 1) # 가로로 합"
   ]
  },
  {
   "cell_type": "markdown",
   "id": "1325b074-bd19-44fd-bfbd-ab990fbc50b2",
   "metadata": {},
   "source": [
    "## axis = 2"
   ]
  },
  {
   "cell_type": "code",
   "execution_count": 29,
   "id": "00d56e5f-63cd-4e47-b50d-a50b39e8f21f",
   "metadata": {
    "tags": []
   },
   "outputs": [
    {
     "name": "stdout",
     "output_type": "stream",
     "text": [
      "[[[ 0  1  2  3]\n",
      "  [ 4  5  6  7]\n",
      "  [ 8  9 10 11]]\n",
      "\n",
      " [[12 13 14 15]\n",
      "  [16 17 18 19]\n",
      "  [20 21 22 23]]]\n"
     ]
    }
   ],
   "source": [
    "num_arr = np.arange(0,24)\n",
    "num_arr = num_arr.reshape(2,3,4) #6줄 4칸\n",
    "\n",
    "print(num_arr)\n",
    "# np.sum(num_arr, axis = 2) # 가로로 합"
   ]
  },
  {
   "cell_type": "markdown",
   "id": "6e1a57fc-41a1-405c-b477-f7eaafd2e2a4",
   "metadata": {},
   "source": [
    "# 3D\n",
    "* (0 덩어리, 1 행, 2 열)\n",
    "\n",
    "* <font color=red><b>axis=0 (덩어리 무시하고, 행 * 열 = 행 열 끼리 합산)\n",
    "* <font color=red><b>axis=1 (줄 무시하고, 덩어리 * 칸 = 줄(행)끼리 합산)\n",
    "* <font color=red><b>axis=2 (칸 무시하고, 덩어리 * 줄 = 열(칸)끼리 합산)"
   ]
  },
  {
   "cell_type": "code",
   "execution_count": 30,
   "id": "3d510bec-0b40-40b1-9443-483187252b86",
   "metadata": {
    "tags": []
   },
   "outputs": [
    {
     "name": "stdout",
     "output_type": "stream",
     "text": [
      "[[[ 0  1  2  3]\n",
      "  [ 4  5  6  7]\n",
      "  [ 8  9 10 11]]\n",
      "\n",
      " [[12 13 14 15]\n",
      "  [16 17 18 19]\n",
      "  [20 21 22 23]]] \n",
      "\n",
      "axis = 0 \n",
      " [[12 14 16 18]\n",
      " [20 22 24 26]\n",
      " [28 30 32 34]]\n",
      "axis = 1 \n",
      " [[12 15 18 21]\n",
      " [48 51 54 57]]\n",
      "axis = 2 \n",
      " [[ 6 22 38]\n",
      " [54 70 86]]\n"
     ]
    }
   ],
   "source": [
    "print(num_arr,  '\\n')\n",
    "print('axis = 0',  '\\n', np.sum(num_arr, axis = 0)) # 덩어리 무시하고 3행, 4열으로 만들어라 ( ,3,4)\n",
    "print('axis = 1',  '\\n', np.sum(num_arr, axis = 1)) # 행 무시하고, 2덩어리를 4열끼리 합산해라 (2, ,4)\n",
    "print('axis = 2',  '\\n', np.sum(num_arr, axis = 2)) # 열 무시하고, 2덩어리 3행 합산 (2,3, )\n",
    "\n",
    "#덩어리, 줄, 칸\n",
    "#축을 기준으로 하라는 것은 그 [](축)를 무시하라는 것"
   ]
  },
  {
   "cell_type": "markdown",
   "id": "75334381-fe23-4d74-949b-5489f8599250",
   "metadata": {},
   "source": [
    "# 브로드캐스팅..?\n",
    "\n",
    "https://jakevdp.github.io/PythonDataScienceHandbook/02.05-computation-on-arrays-broadcasting.html"
   ]
  },
  {
   "attachments": {
    "e0a15316-6e16-4358-8013-7fe10dd62d05.png": {
     "image/png": "[encoded data removed]"
    }
   },
   "cell_type": "markdown",
   "id": "ef9351ed-25a3-4bf3-a082-1bfd9d60e3b7",
   "metadata": {},
   "source": [
    "![image.png](attachment:e0a15316-6e16-4358-8013-7fe10dd62d05.png)"
   ]
  },
  {
   "cell_type": "markdown",
   "id": "46d09e96-7c7a-4131-9ce8-a613b1069b72",
   "metadata": {},
   "source": [
    "## List(extend, append)\n",
    "\n",
    "    - 곱하기 : 확장 extend\n",
    "    - 더하기 : 에러"
   ]
  },
  {
   "cell_type": "markdown",
   "id": "2ca7403f-0fc0-4cf7-87cc-90c9f6fecc15",
   "metadata": {},
   "source": [
    "## array(+,*) : 연산\n",
    "    - 더하기 +\n",
    "    - 곱하기 *"
   ]
  },
  {
   "cell_type": "code",
   "execution_count": 36,
   "id": "3f5c331c-927e-4ca2-8864-8ef4f2b1003d",
   "metadata": {
    "tags": []
   },
   "outputs": [
    {
     "name": "stdout",
     "output_type": "stream",
     "text": [
      "[1, 2, 3, 1, 2, 3, 1, 2, 3]\n"
     ]
    }
   ],
   "source": [
    "num_list = [1,2,3]\n",
    "# num_list = num_list + 3 #에러\n",
    "num_list = num_list * 3 #3번 반복\n",
    "print(num_list)"
   ]
  },
  {
   "cell_type": "code",
   "execution_count": 38,
   "id": "b9b9c983-1ab2-4aa4-a9c2-39ccbecbcd9b",
   "metadata": {
    "tags": []
   },
   "outputs": [
    {
     "name": "stdout",
     "output_type": "stream",
     "text": [
      "[1, 2, 3, [1, 2, 3]]\n"
     ]
    }
   ],
   "source": [
    "num_list = [1, 2, 3]\n",
    "arr = [1, 2, 3]\n",
    "num_list.append(arr) #요소값으로 추가된다.\n",
    "\n",
    "print(num_list)"
   ]
  },
  {
   "cell_type": "code",
   "execution_count": 39,
   "id": "377c6252-1eb6-42c3-9c7b-6dde173baeda",
   "metadata": {
    "tags": []
   },
   "outputs": [
    {
     "name": "stdout",
     "output_type": "stream",
     "text": [
      "[1, 2, 3, 1, 2, 3]\n"
     ]
    }
   ],
   "source": [
    "num_list = [1, 2, 3]\n",
    "arr = [1, 2, 3]\n",
    "num_list.extend(arr) #옆으로 확장하기.\n",
    "\n",
    "print(num_list)"
   ]
  },
  {
   "cell_type": "code",
   "execution_count": 45,
   "id": "078916e7-4be4-4826-952a-50d0de131ed4",
   "metadata": {
    "tags": []
   },
   "outputs": [
    {
     "name": "stdout",
     "output_type": "stream",
     "text": [
      "[3 6 9] [4 5 6]\n"
     ]
    }
   ],
   "source": [
    "num_arr = np.array([1,2,3])\n",
    "num_arr2 = num_arr + 3\n",
    "num_arr = num_arr * 3\n",
    "\n",
    "print(num_arr, num_arr2)\n",
    "\n",
    "#리스트는 확장해라의 뜻이지만 array는 *(곱하기) 연산이다."
   ]
  },
  {
   "cell_type": "code",
   "execution_count": null,
   "id": "fbd2b1e6-1181-4873-b8e9-be21ba6abd8b",
   "metadata": {},
   "outputs": [],
   "source": []
  },
  {
   "cell_type": "code",
   "execution_count": null,
   "id": "8cc37250-8e7e-44b1-aeef-7b43fdbcccda",
   "metadata": {},
   "outputs": [],
   "source": []
  },
  {
   "cell_type": "markdown",
   "id": "aa834986-e355-4a48-9016-c74565c4e742",
   "metadata": {},
   "source": [
    "# reshape\n",
    "\n",
    "    * reshape(행,열) = (행, -1) : 알아서 계산\n",
    "    * reshape(-1) : 1차로 만들기"
   ]
  },
  {
   "cell_type": "code",
   "execution_count": 31,
   "id": "87cbb626-4a14-49b2-a8e0-11a97fbf7b20",
   "metadata": {
    "tags": []
   },
   "outputs": [
    {
     "name": "stdout",
     "output_type": "stream",
     "text": [
      "[ 0  1  2  3  4  5  6  7  8  9 10 11 12 13 14 15 16 17 18 19 20 21 22 23]\n",
      "[[[ 0  1  2  3]\n",
      "  [ 4  5  6  7]\n",
      "  [ 8  9 10 11]]\n",
      "\n",
      " [[12 13 14 15]\n",
      "  [16 17 18 19]\n",
      "  [20 21 22 23]]]\n",
      "[ 0  1  2  3  4  5  6  7  8  9 10 11 12 13 14 15 16 17 18 19 20 21 22 23]\n",
      "[ 0  1  2  3  4  5  6  7  8  9 10 11 12 13 14 15 16 17 18 19 20 21 22 23]\n",
      "[ 0  1  2  3  4  5  6  7  8  9 10 11 12 13 14 15 16 17 18 19 20 21 22 23]\n"
     ]
    }
   ],
   "source": [
    "num_arr = np.arange(0,24)\n",
    "print(num_arr)\n",
    "\n",
    "#reshape(6,4)\n",
    "re_arr = num_arr.reshape(2, 3,-1) # 6줄,칸은 알아서 계산해\n",
    "print(re_arr)\n",
    "\n",
    "aa = re_arr.reshape(-1) # 1차로 바꾸기\n",
    "print(aa)\n",
    "\n",
    "bb = re_arr.ravel() # 1차로 바꾸기\n",
    "print(bb)\n",
    "\n",
    "cc = re_arr.flatten() # 1줄로 펴기\n",
    "print(cc)"
   ]
  },
  {
   "cell_type": "markdown",
   "id": "85a68111-7f2e-4ce4-97bb-b41a881cb0f9",
   "metadata": {},
   "source": [
    "## 차원변경 reshape / resize\n",
    "\n",
    "    - reshape() : 원본은 두고, 변환한 행열을 반환\n",
    "    - resize() : 원본 자체를 변환, 리턴이 없다\n",
    "    "
   ]
  },
  {
   "cell_type": "code",
   "execution_count": 51,
   "id": "0f771f8d-64c1-453c-9bf6-9f70f84aaafa",
   "metadata": {
    "tags": []
   },
   "outputs": [
    {
     "name": "stdout",
     "output_type": "stream",
     "text": [
      "[ 0  1  2  3  4  5  6  7  8  9 10 11 12 13 14 15 16 17 18 19 20 21 22 23]\n",
      "============================================================\n",
      "[ 0  1  2  3  4  5  6  7  8  9 10 11 12 13 14 15 16 17 18 19 20 21 22 23]\n",
      "[[ 0  1  2  3]\n",
      " [ 4  5  6  7]\n",
      " [ 8  9 10 11]\n",
      " [12 13 14 15]\n",
      " [16 17 18 19]\n",
      " [20 21 22 23]]\n"
     ]
    }
   ],
   "source": [
    "num_arr = np.arange(0,24)\n",
    "print(num_arr)\n",
    "print('='*60)\n",
    "#reshape(6,4)\n",
    "re_arr = num_arr.reshape(6,4)\n",
    "\n",
    "print(num_arr)\n",
    "print(re_arr)"
   ]
  },
  {
   "cell_type": "code",
   "execution_count": null,
   "id": "735f9e53-ee97-4c52-a45c-df7121374c0a",
   "metadata": {},
   "outputs": [],
   "source": []
  },
  {
   "cell_type": "code",
   "execution_count": null,
   "id": "b62c19e9-e476-4510-b3bf-0cbb04dc6f64",
   "metadata": {},
   "outputs": [],
   "source": []
  },
  {
   "cell_type": "code",
   "execution_count": null,
   "id": "355194c3-2e70-4875-b321-b87bc4c49438",
   "metadata": {},
   "outputs": [],
   "source": []
  },
  {
   "cell_type": "markdown",
   "id": "9e82cd26-a5fb-4ce0-9b49-b4039cb4e2f1",
   "metadata": {},
   "source": [
    "# 차원확대"
   ]
  },
  {
   "cell_type": "markdown",
   "id": "0cd92479-f5d8-471f-9f79-6c842239eb15",
   "metadata": {},
   "source": [
    "* reshape(1,-1)\n",
    "* 슬라이싱 [ : , np.newaxis or None ]\n",
    "* np.extend_dims(a, axis)\n"
   ]
  },
  {
   "cell_type": "markdown",
   "id": "5f2b6f67-2c9b-4b7d-a0b9-9981836a9279",
   "metadata": {},
   "source": [
    "## reshape(1,-1)"
   ]
  },
  {
   "cell_type": "code",
   "execution_count": 57,
   "id": "35057822-acb4-4bdf-8da5-41a89e699583",
   "metadata": {
    "tags": []
   },
   "outputs": [
    {
     "name": "stdout",
     "output_type": "stream",
     "text": [
      "1 \n",
      " [ 0  1  2  3  4  5  6  7  8  9 10 11 12 13 14 15 16 17 18 19 20 21 22 23]\n",
      "2 \n",
      " (1, 24) \n",
      " [[ 0  1  2  3  4  5  6  7  8  9 10 11 12 13 14 15 16 17 18 19 20 21 22 23]]\n",
      "2 \n",
      " (1, 24) \n",
      " [[ 0  1  2  3  4  5  6  7  8  9 10 11 12 13 14 15 16 17 18 19 20 21 22 23]]\n",
      "2 \n",
      " (24, 1) \n",
      " [[ 0]\n",
      " [ 1]\n",
      " [ 2]\n",
      " [ 3]\n",
      " [ 4]\n",
      " [ 5]\n",
      " [ 6]\n",
      " [ 7]\n",
      " [ 8]\n",
      " [ 9]\n",
      " [10]\n",
      " [11]\n",
      " [12]\n",
      " [13]\n",
      " [14]\n",
      " [15]\n",
      " [16]\n",
      " [17]\n",
      " [18]\n",
      " [19]\n",
      " [20]\n",
      " [21]\n",
      " [22]\n",
      " [23]]\n",
      "2 \n",
      " (24, 1) \n",
      " [[ 0]\n",
      " [ 1]\n",
      " [ 2]\n",
      " [ 3]\n",
      " [ 4]\n",
      " [ 5]\n",
      " [ 6]\n",
      " [ 7]\n",
      " [ 8]\n",
      " [ 9]\n",
      " [10]\n",
      " [11]\n",
      " [12]\n",
      " [13]\n",
      " [14]\n",
      " [15]\n",
      " [16]\n",
      " [17]\n",
      " [18]\n",
      " [19]\n",
      " [20]\n",
      " [21]\n",
      " [22]\n",
      " [23]]\n"
     ]
    }
   ],
   "source": [
    "num_arr = np.arange(0,24)\n",
    "print(num_arr.ndim, '\\n', num_arr) #1차 = []\n",
    "\n",
    "res = num_arr.reshape(1, 24) #2차 = [[0 1 2 3 4 ...]] 가로줄\n",
    "print(res.ndim, '\\n', res.shape, '\\n', res)\n",
    "\n",
    "res = num_arr.reshape(1, -1) #2차 = [[0 1 2 3 4 ....]] 가로줄\n",
    "print(res.ndim, '\\n', res.shape,'\\n', res)\n",
    "\n",
    "res = num_arr.reshape(24, 1) #2차 = [[0] [1] [2] ...] 세로줄\n",
    "print(res.ndim, '\\n', res.shape,'\\n', res)\n",
    "\n",
    "res = num_arr.reshape(-1, 1) #2차 = [[0] [1] [2] ...] 세로줄\n",
    "print(res.ndim, '\\n', res.shape,'\\n', res)"
   ]
  },
  {
   "cell_type": "markdown",
   "id": "3e2f862c-1499-4df8-90d0-eb12e6ed600e",
   "metadata": {},
   "source": [
    "## 슬라이싱"
   ]
  },
  {
   "cell_type": "code",
   "execution_count": 60,
   "id": "bdabbff4-de0f-4c2d-840f-8756c2ed8929",
   "metadata": {
    "tags": []
   },
   "outputs": [
    {
     "name": "stdout",
     "output_type": "stream",
     "text": [
      "1 \n",
      " (24,) \n",
      " [ 0  1  2  3  4  5  6  7  8  9 10 11 12 13 14 15 16 17 18 19 20 21 22 23]\n",
      "2 \n",
      " (1, 24) \n",
      " [[ 0  1  2  3  4  5  6  7  8  9 10 11 12 13 14 15 16 17 18 19 20 21 22 23]]\n",
      "2 \n",
      " (24, 1) \n",
      " [[ 0]\n",
      " [ 1]\n",
      " [ 2]\n",
      " [ 3]\n",
      " [ 4]\n",
      " [ 5]\n",
      " [ 6]\n",
      " [ 7]\n",
      " [ 8]\n",
      " [ 9]\n",
      " [10]\n",
      " [11]\n",
      " [12]\n",
      " [13]\n",
      " [14]\n",
      " [15]\n",
      " [16]\n",
      " [17]\n",
      " [18]\n",
      " [19]\n",
      " [20]\n",
      " [21]\n",
      " [22]\n",
      " [23]]\n"
     ]
    }
   ],
   "source": [
    "num_arr = np.arange(0,24)\n",
    "print(num_arr.ndim, '\\n', num_arr.shape, '\\n', num_arr)\n",
    "\n",
    "# res = num_arr[np.newaxis, :]\n",
    "res = num_arr[None, :]#2차 = [[0 1 2 3 4 ...n]] 가로줄\n",
    "print(res.ndim, '\\n', res.shape, '\\n', res)\n",
    "\n",
    "res = num_arr[:,None] #2차 = [[0] [1] [2] ...[n]] 세로줄\n",
    "print(res.ndim, '\\n', res.shape, '\\n', res)"
   ]
  },
  {
   "cell_type": "markdown",
   "id": "27a30eba-ccc7-4b17-bbbc-961490c01d9f",
   "metadata": {},
   "source": [
    "## np.extend_dims(a, axis)"
   ]
  },
  {
   "cell_type": "code",
   "execution_count": 63,
   "id": "f1788719-d0fb-48ee-9d8e-f95dac4a47bf",
   "metadata": {
    "tags": []
   },
   "outputs": [
    {
     "name": "stdout",
     "output_type": "stream",
     "text": [
      "1 \n",
      " (24,) \n",
      " [ 0  1  2  3  4  5  6  7  8  9 10 11 12 13 14 15 16 17 18 19 20 21 22 23]\n",
      "2 \n",
      " (1, 24) \n",
      " [[ 0  1  2  3  4  5  6  7  8  9 10 11 12 13 14 15 16 17 18 19 20 21 22 23]]\n",
      "2 \n",
      " (24, 1) \n",
      " [[ 0]\n",
      " [ 1]\n",
      " [ 2]\n",
      " [ 3]\n",
      " [ 4]\n",
      " [ 5]\n",
      " [ 6]\n",
      " [ 7]\n",
      " [ 8]\n",
      " [ 9]\n",
      " [10]\n",
      " [11]\n",
      " [12]\n",
      " [13]\n",
      " [14]\n",
      " [15]\n",
      " [16]\n",
      " [17]\n",
      " [18]\n",
      " [19]\n",
      " [20]\n",
      " [21]\n",
      " [22]\n",
      " [23]]\n",
      "3 \n",
      " (1, 1, 24) \n",
      " [[[ 0  1  2  3  4  5  6  7  8  9 10 11 12 13 14 15 16 17 18 19 20 21 22\n",
      "   23]]]\n"
     ]
    }
   ],
   "source": [
    "num_arr = np.arange(0,24)\n",
    "print(num_arr.ndim, '\\n', num_arr.shape, '\\n', num_arr)\n",
    "\n",
    "\n",
    "res = np.expand_dims(num_arr, axis=0)#2차 = [[0 1 2 3 4 ...n]] 가로줄\n",
    "print(res.ndim, '\\n', res.shape, '\\n', res)\n",
    "\n",
    "\n",
    "res = np.expand_dims(num_arr, axis=1) #2차 = [[0] [1] [2] ...[n]] 세로줄\n",
    "print(res.ndim, '\\n', res.shape, '\\n', res)\n",
    "\n",
    "res = np.expand_dims(num_arr, axis=(0,1)) #기존에 0번째 1번째 추가해라\n",
    "print(res.ndim, '\\n', res.shape, '\\n', res)"
   ]
  },
  {
   "cell_type": "code",
   "execution_count": null,
   "id": "9fdf4ef4-1e29-48e5-8884-502ece71861e",
   "metadata": {},
   "outputs": [],
   "source": []
  },
  {
   "cell_type": "code",
   "execution_count": null,
   "id": "13290013-55df-43a3-8f6f-9f38af02dff3",
   "metadata": {},
   "outputs": [],
   "source": []
  },
  {
   "cell_type": "code",
   "execution_count": null,
   "id": "d057f737-86ee-4b60-a780-f9aa878c78ed",
   "metadata": {},
   "outputs": [],
   "source": []
  },
  {
   "cell_type": "code",
   "execution_count": null,
   "id": "512289b4-693d-4c6d-909d-8637f28b4f3b",
   "metadata": {},
   "outputs": [],
   "source": []
  },
  {
   "cell_type": "markdown",
   "id": "df1cb20b-52ff-4f91-8eef-7b57b59b1c67",
   "metadata": {},
   "source": [
    "# 차원축소\n",
    "    \n",
    "    - reshape(-1) == ravel() == flatten()\n",
    "    - 1차원으로 축소 : reshape(-1, ) , ravel(), flatten()\n",
    "    - 슬라이싱  =>  ' : ', '...'\n",
    "    - np.squeeze(a,axis = None) : 차수 1 모두 지우기"
   ]
  },
  {
   "cell_type": "markdown",
   "id": "571fc5aa-7efe-48de-bb66-454a5c94ada6",
   "metadata": {},
   "source": [
    "## 2차"
   ]
  },
  {
   "cell_type": "code",
   "execution_count": 69,
   "id": "1b999b29-0a9a-4c66-8aae-9e701704f227",
   "metadata": {
    "tags": []
   },
   "outputs": [
    {
     "name": "stdout",
     "output_type": "stream",
     "text": [
      "1 \n",
      " (24,) \n",
      " [ 0  1  2  3  4  5  6  7  8  9 10 11 12 13 14 15 16 17 18 19 20 21 22 23]\n",
      "2 \n",
      " (6, 4) \n",
      " [[ 0  1  2  3]\n",
      " [ 4  5  6  7]\n",
      " [ 8  9 10 11]\n",
      " [12 13 14 15]\n",
      " [16 17 18 19]\n",
      " [20 21 22 23]]\n",
      "1 \n",
      " (4,) \n",
      " [4 5 6 7]\n",
      "1 \n",
      " (6,) \n",
      " [ 2  6 10 14 18 22]\n",
      "1 \n",
      " (6,) \n",
      " [ 3  7 11 15 19 23]\n"
     ]
    }
   ],
   "source": [
    "num_arr = np.arange(0,24)\n",
    "print(num_arr.ndim, '\\n', num_arr.shape, '\\n', num_arr)\n",
    "\n",
    "re_arr = num_arr.reshape(6,4)\n",
    "print(re_arr.ndim, '\\n', re_arr.shape, '\\n', re_arr)\n",
    "\n",
    "res = re_arr[1, :]\n",
    "print(res.ndim, '\\n', res.shape, '\\n', res) #해당 부분 가져오기 = 차원축소 개념 = 데이터 셀렉션\n",
    "\n",
    "res = re_arr[:, 2]\n",
    "print(res.ndim, '\\n', res.shape, '\\n', res)\n",
    "\n",
    "res = re_arr[:, -1]\n",
    "print(res.ndim, '\\n', res.shape, '\\n', res)"
   ]
  },
  {
   "cell_type": "markdown",
   "id": "d5697eef-37e9-4ef1-bf8f-2182003050b5",
   "metadata": {},
   "source": [
    "## 3차"
   ]
  },
  {
   "cell_type": "code",
   "execution_count": 78,
   "id": "88debc10-0a8f-4184-9b37-e4df79a5c9a5",
   "metadata": {
    "tags": []
   },
   "outputs": [
    {
     "name": "stdout",
     "output_type": "stream",
     "text": [
      "1 \n",
      " (24,) \n",
      " [ 0  1  2  3  4  5  6  7  8  9 10 11 12 13 14 15 16 17 18 19 20 21 22 23]\n",
      "3 \n",
      " (2, 3, 4) \n",
      " [[[ 0  1  2  3]\n",
      "  [ 4  5  6  7]\n",
      "  [ 8  9 10 11]]\n",
      "\n",
      " [[12 13 14 15]\n",
      "  [16 17 18 19]\n",
      "  [20 21 22 23]]]\n",
      "2 \n",
      " (3, 4) \n",
      " [[12 13 14 15]\n",
      " [16 17 18 19]\n",
      " [20 21 22 23]]\n",
      "2 \n",
      " (3, 4) \n",
      " [[12 13 14 15]\n",
      " [16 17 18 19]\n",
      " [20 21 22 23]]\n",
      "2 \n",
      " (2, 4) \n",
      " [[ 8  9 10 11]\n",
      " [20 21 22 23]]\n"
     ]
    }
   ],
   "source": [
    "num_arr = np.arange(0,24)\n",
    "print(num_arr.ndim, '\\n', num_arr.shape, '\\n', num_arr)\n",
    "\n",
    "re_arr = num_arr.reshape(2,3,4)\n",
    "print(re_arr.ndim, '\\n', re_arr.shape, '\\n', re_arr)\n",
    "\n",
    "res = re_arr[1, :] # 1번 덩어리 가져와\n",
    "print(res.ndim, '\\n', res.shape, '\\n', res) #해당 부분 가져오기 = 차원축소 개념 = 데이터 셀렉션\n",
    "\n",
    "res = re_arr[1, ...] #1차 하나 추가하고 나머지 알아서\n",
    "print(res.ndim, '\\n', res.shape, '\\n', res)\n",
    "\n"
   ]
  },
  {
   "cell_type": "markdown",
   "id": "5d7bac32-ebd3-4eb1-bc00-1645dad8fd6d",
   "metadata": {},
   "source": [
    "## squeeze\n",
    "\n",
    "    - 차수 1은 모두 지운다"
   ]
  },
  {
   "cell_type": "code",
   "execution_count": 81,
   "id": "c5c59709-a787-4e12-ae77-eec8c40dea1f",
   "metadata": {
    "tags": []
   },
   "outputs": [
    {
     "name": "stdout",
     "output_type": "stream",
     "text": [
      "1 \n",
      " (24,) \n",
      " [ 0  1  2  3  4  5  6  7  8  9 10 11 12 13 14 15 16 17 18 19 20 21 22 23]\n",
      "3 \n",
      " (1, 24, 1) \n",
      " [[[ 0]\n",
      "  [ 1]\n",
      "  [ 2]\n",
      "  [ 3]\n",
      "  [ 4]\n",
      "  [ 5]\n",
      "  [ 6]\n",
      "  [ 7]\n",
      "  [ 8]\n",
      "  [ 9]\n",
      "  [10]\n",
      "  [11]\n",
      "  [12]\n",
      "  [13]\n",
      "  [14]\n",
      "  [15]\n",
      "  [16]\n",
      "  [17]\n",
      "  [18]\n",
      "  [19]\n",
      "  [20]\n",
      "  [21]\n",
      "  [22]\n",
      "  [23]]]\n",
      "1 \n",
      " (24,) \n",
      " [ 0  1  2  3  4  5  6  7  8  9 10 11 12 13 14 15 16 17 18 19 20 21 22 23]\n"
     ]
    }
   ],
   "source": [
    "num_arr = np.arange(0,24)\n",
    "print(num_arr.ndim, '\\n', num_arr.shape, '\\n', num_arr)\n",
    "\n",
    "re_arr = num_arr.reshape(1,24,1)\n",
    "print(re_arr.ndim, '\\n', re_arr.shape, '\\n', re_arr)\n",
    "\n",
    "res = np.squeeze(re_arr) # 스퀴즈는 1을 지워버린다.\n",
    "print(res.ndim, '\\n', res.shape, '\\n', res)"
   ]
  },
  {
   "cell_type": "code",
   "execution_count": null,
   "id": "9b64d715-0bef-467f-bf35-5c6f91de3b0c",
   "metadata": {},
   "outputs": [],
   "source": []
  },
  {
   "cell_type": "code",
   "execution_count": null,
   "id": "e6ee3991-07bd-40ea-86fc-6e00b6a677cd",
   "metadata": {},
   "outputs": [],
   "source": []
  },
  {
   "cell_type": "code",
   "execution_count": null,
   "id": "037a63cf-9536-47b4-9c2f-7ad2c13f5f8e",
   "metadata": {},
   "outputs": [],
   "source": []
  },
  {
   "cell_type": "markdown",
   "id": "55fb5ecc-2916-401f-aedf-c0b4ed8bd8aa",
   "metadata": {},
   "source": [
    "# Stack\n",
    "\n",
    "    - hstack() 수평합산\n",
    "    - vstack() 수직합산\n",
    "    - column_stack() 열 합산\n",
    "    \n",
    "<img src = 'https://img1.daumcdn.net/thumb/R1280x0/?scode=mtistory2&fname=https%3A%2F%2Ft1.daumcdn.net%2Fcfile%2Ftistory%2F9909EF345D53F4D916'>"
   ]
  },
  {
   "cell_type": "code",
   "execution_count": 32,
   "id": "19715dee-a379-4428-b141-81443ab364cb",
   "metadata": {
    "tags": []
   },
   "outputs": [
    {
     "name": "stdout",
     "output_type": "stream",
     "text": [
      "[ 1  2  3 10 20 30]\n",
      "====================\n",
      "[ 1  2  3 10 20 30]\n"
     ]
    }
   ],
   "source": [
    "a = np.array([1,2,3])\n",
    "b = np.array([10,20,30])\n",
    "\n",
    "print(np.hstack([a,b])) #1,2,3 뒤에 10,20,30 concat해라\n",
    "print('====================')\n",
    "print(np.concatenate([a,b], axis = 0))\n",
    "\n"
   ]
  },
  {
   "cell_type": "code",
   "execution_count": 33,
   "id": "ae560543-129d-4175-a082-73813613d062",
   "metadata": {
    "tags": []
   },
   "outputs": [
    {
     "name": "stdout",
     "output_type": "stream",
     "text": [
      "[[ 1  2  3]\n",
      " [10 20 30]]\n",
      "==============\n",
      "[[ 1  2  3]\n",
      " [10 20 30]]\n",
      "====================\n",
      "[[ 1  2  3]\n",
      " [10 20 30]]\n"
     ]
    }
   ],
   "source": [
    "a = np.array([1,2,3])\n",
    "b = np.array([10,20,30])\n",
    "\n",
    "print(np.vstack([a,b]))\n",
    "print('==============')\n",
    "print(np.concatenate(([[a,b]]),axis = 1)) #2차로 변환 됨\n",
    "\n",
    "print('====================')\n",
    "print(np.stack([a,b])) #디폴트 axis = 0 "
   ]
  },
  {
   "cell_type": "code",
   "execution_count": 34,
   "id": "6d4c3043-136c-4ed0-98b1-c4fe17014a45",
   "metadata": {
    "tags": []
   },
   "outputs": [
    {
     "name": "stdout",
     "output_type": "stream",
     "text": [
      "[[ 1 10]\n",
      " [ 2 20]\n",
      " [ 3 30]]\n",
      "====================\n",
      "[[ 1 10]\n",
      " [ 2 20]\n",
      " [ 3 30]]\n"
     ]
    }
   ],
   "source": [
    "print(np.column_stack([a,b]))\n",
    "print('====================')\n",
    "print(np.stack([a,b], axis = 1)) "
   ]
  },
  {
   "cell_type": "code",
   "execution_count": null,
   "id": "8b3f71a6-93ca-4563-ab55-ad0edae43b9d",
   "metadata": {},
   "outputs": [],
   "source": []
  },
  {
   "cell_type": "code",
   "execution_count": null,
   "id": "7613565c-cff1-481e-9f2f-eef525b80aa7",
   "metadata": {},
   "outputs": [],
   "source": []
  },
  {
   "cell_type": "code",
   "execution_count": null,
   "id": "a61953be-cb82-4f21-bd50-19ddceb359de",
   "metadata": {},
   "outputs": [],
   "source": []
  }
 ],
 "metadata": {
  "kernelspec": {
   "display_name": "Python 3 (ipykernel)",
   "language": "python",
   "name": "python3"
  },
  "language_info": {
   "codemirror_mode": {
    "name": "ipython",
    "version": 3
   },
   "file_extension": ".py",
   "mimetype": "text/x-python",
   "name": "python",
   "nbconvert_exporter": "python",
   "pygments_lexer": "ipython3",
   "version": "3.8.8"
  },
  "toc-autonumbering": true
 },
 "nbformat": 4,
 "nbformat_minor": 5
}
