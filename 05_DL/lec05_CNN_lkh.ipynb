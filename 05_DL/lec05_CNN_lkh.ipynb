{
 "cells": [
  {
   "cell_type": "markdown",
   "id": "d198a0bf-4d9e-4279-bd22-84a4a4960d46",
   "metadata": {},
   "source": [
    "<font size=6><b> Lec05. 합성곱신경망(CNN:Convolution NN)"
   ]
  },
  {
   "cell_type": "markdown",
   "id": "124db160-55bb-4177-aada-9e3a891d963f",
   "metadata": {},
   "source": [
    "* ref : https://www.tensorflow.org/?hl=ko\n",
    "* ref : https://keras.io/ko/\n",
    "* ref : https://keras.io/api/layers/core_layers/dense/"
   ]
  },
  {
   "cell_type": "code",
   "execution_count": 1,
   "id": "3c8a784d-2046-427a-86dc-ead18dc4bbfa",
   "metadata": {},
   "outputs": [
    {
     "data": {
      "text/html": [
       "<style>.container{width:100% !important;}</style>"
      ],
      "text/plain": [
       "<IPython.core.display.HTML object>"
      ]
     },
     "metadata": {},
     "output_type": "display_data"
    }
   ],
   "source": [
    "import numpy as np\n",
    "import pandas as pd\n",
    "\n",
    "import matplotlib.pyplot as plt\n",
    "import seaborn as sns\n",
    "\n",
    "\n",
    "sns.set()\n",
    "\n",
    "#-------------------- 차트 관련 속성 (한글처리, 그리드) -----------\n",
    "plt.rcParams['font.family']= 'Malgun Gothic'\n",
    "plt.rcParams['axes.unicode_minus'] = False\n",
    "\n",
    "#-------------------- 주피터 , 출력결과 넓이 늘리기 ---------------\n",
    "# from IPython.core.display import display, HTML\n",
    "from IPython.display import display, HTML\n",
    "\n",
    "display(HTML(\"<style>.container{width:100% !important;}</style>\"))\n",
    "pd.set_option('display.max_rows', 100)\n",
    "pd.set_option('display.max_columns', 100)\n",
    "pd.set_option('max_colwidth', None)\n",
    "\n",
    "import warnings\n",
    "warnings.filterwarnings(action='ignore')"
   ]
  },
  {
   "cell_type": "code",
   "execution_count": 2,
   "id": "b0bad0e6-0553-4566-a766-06609aa0cc0a",
   "metadata": {
    "tags": []
   },
   "outputs": [],
   "source": [
    "import tensorflow as tf\n",
    "tf.random.set_seed(1234)\n",
    "np.random.seed(1234)"
   ]
  },
  {
   "cell_type": "markdown",
   "id": "83f65b98-0ee8-4a27-bf8a-03b82ab32275",
   "metadata": {},
   "source": [
    "# Data Load"
   ]
  },
  {
   "cell_type": "code",
   "execution_count": 3,
   "id": "75418753-37c2-4164-8306-22c236ee034f",
   "metadata": {
    "tags": []
   },
   "outputs": [],
   "source": [
    "from keras.datasets import mnist"
   ]
  },
  {
   "cell_type": "code",
   "execution_count": 4,
   "id": "b0fefeea-97b9-45bf-8cd5-10590db5bbdb",
   "metadata": {
    "tags": []
   },
   "outputs": [
    {
     "data": {
      "text/plain": [
       "((60000, 28, 28), (60000,), (10000, 28, 28), (10000,))"
      ]
     },
     "execution_count": 4,
     "metadata": {},
     "output_type": "execute_result"
    }
   ],
   "source": [
    "(X_train,y_train), (X_test,y_test) = mnist.load_data()\n",
    "X_train.shape, y_train.shape, X_test.shape, y_test.shape"
   ]
  },
  {
   "cell_type": "markdown",
   "id": "64cdc378-14da-4a42-85b1-10882f60d661",
   "metadata": {},
   "source": [
    "# 전처리 & 가공"
   ]
  },
  {
   "cell_type": "markdown",
   "id": "87baa130-122c-4eb7-af84-3d530020e977",
   "metadata": {},
   "source": [
    "## Flatten\n",
    "* 이미지 픽셀 (28*28) : 행렬(2D) --> arr(1D)"
   ]
  },
  {
   "cell_type": "code",
   "execution_count": 5,
   "id": "a5b4aa3c-9358-47fc-80db-f427eb7fa8b9",
   "metadata": {
    "tags": []
   },
   "outputs": [
    {
     "data": {
      "text/plain": [
       "(60000, 784)"
      ]
     },
     "execution_count": 5,
     "metadata": {},
     "output_type": "execute_result"
    }
   ],
   "source": [
    "X_train.reshape(60000, -1).shape"
   ]
  },
  {
   "cell_type": "code",
   "execution_count": 6,
   "id": "e5f2a23f-edda-4819-8bb5-191dcb072071",
   "metadata": {
    "tags": []
   },
   "outputs": [],
   "source": [
    "X_train = X_train.reshape(60000, -1)\n",
    "X_test  = X_test.reshape(10000, -1)\n"
   ]
  },
  {
   "cell_type": "markdown",
   "id": "97f7b4e8-ec86-40c5-8cec-42b55e6d84ac",
   "metadata": {},
   "source": [
    "## 정규화(픽셀값 스케일링)\n",
    "* 0 ~ 255 픽셀값을 0 ~1 값으로 변경\n",
    "* MinMaxScaler()"
   ]
  },
  {
   "cell_type": "code",
   "execution_count": 7,
   "id": "be72d8d1-f2a4-4871-8576-00e4c562db7d",
   "metadata": {
    "tags": []
   },
   "outputs": [],
   "source": [
    "X_train_scaler = X_train / 255.0\n",
    "X_test_scaler  = X_test / 255.0"
   ]
  },
  {
   "cell_type": "markdown",
   "id": "b9ab9dea-f636-4106-894a-9159ec5fffe0",
   "metadata": {},
   "source": [
    "# 모델 (Neural Network, FC)\n",
    "* <font color=red size=5><b>X_train : (60000, 784), input_dim=784"
   ]
  },
  {
   "cell_type": "markdown",
   "id": "a858c2ce-0244-4c9e-acef-040b361cfcac",
   "metadata": {},
   "source": [
    "## 모델&학습"
   ]
  },
  {
   "cell_type": "code",
   "execution_count": 8,
   "id": "8e116ea0-1d31-4961-8163-060901aecfc7",
   "metadata": {},
   "outputs": [
    {
     "data": {
      "text/plain": [
       "((60000, 784), (60000,))"
      ]
     },
     "execution_count": 8,
     "metadata": {},
     "output_type": "execute_result"
    }
   ],
   "source": [
    "X_train_scaler.shape, y_train.shape"
   ]
  },
  {
   "cell_type": "code",
   "execution_count": 9,
   "id": "724e84fd-6781-4d52-83df-ea37ee8e176e",
   "metadata": {
    "tags": []
   },
   "outputs": [],
   "source": [
    "from keras.layers import Dense\n",
    "from keras import Sequential\n",
    "from keras.initializers import GlorotNormal  #Xavier"
   ]
  },
  {
   "cell_type": "code",
   "execution_count": 10,
   "id": "b98076d5-8359-46e3-a333-c851bdc8275c",
   "metadata": {
    "tags": []
   },
   "outputs": [],
   "source": [
    "model = Sequential()\n",
    "model.add(Dense(units=300, input_dim=784, activation='relu', kernel_initializer='glorot_normal')) #입력층\n",
    "model.add(Dense(units=100,  activation='relu'))              #히든레이어\n",
    "model.add(Dense(units=60,  activation='relu'))              #히든레이어\n",
    "model.add(Dense(units=10,  activation='softmax'))           #3종 출력층\n",
    "model.compile(loss='sparse_categorical_crossentropy', optimizer='Adam', metrics=['accuracy'])"
   ]
  },
  {
   "cell_type": "code",
   "execution_count": 11,
   "id": "064715ae-aaa1-4d00-8700-9c2d939e7484",
   "metadata": {
    "tags": []
   },
   "outputs": [
    {
     "name": "stdout",
     "output_type": "stream",
     "text": [
      "Model: \"sequential\"\n",
      "_________________________________________________________________\n",
      " Layer (type)                Output Shape              Param #   \n",
      "=================================================================\n",
      " dense (Dense)               (None, 300)               235500    \n",
      "                                                                 \n",
      " dense_1 (Dense)             (None, 100)               30100     \n",
      "                                                                 \n",
      " dense_2 (Dense)             (None, 60)                6060      \n",
      "                                                                 \n",
      " dense_3 (Dense)             (None, 10)                610       \n",
      "                                                                 \n",
      "=================================================================\n",
      "Total params: 272,270\n",
      "Trainable params: 272,270\n",
      "Non-trainable params: 0\n",
      "_________________________________________________________________\n"
     ]
    }
   ],
   "source": [
    "model.summary()"
   ]
  },
  {
   "cell_type": "code",
   "execution_count": 12,
   "id": "dd78c3e6-f29f-471a-b3ed-2401c611fe97",
   "metadata": {
    "tags": []
   },
   "outputs": [
    {
     "name": "stdout",
     "output_type": "stream",
     "text": [
      "Epoch 1/10\n",
      "375/375 [==============================] - 3s 6ms/step - loss: 0.3174 - accuracy: 0.9077 - val_loss: 0.1510 - val_accuracy: 0.9563\n",
      "Epoch 2/10\n",
      "375/375 [==============================] - 2s 5ms/step - loss: 0.1159 - accuracy: 0.9653 - val_loss: 0.1022 - val_accuracy: 0.9684\n",
      "Epoch 3/10\n",
      "375/375 [==============================] - 2s 5ms/step - loss: 0.0765 - accuracy: 0.9770 - val_loss: 0.1041 - val_accuracy: 0.9683\n",
      "Epoch 4/10\n",
      "375/375 [==============================] - 2s 5ms/step - loss: 0.0545 - accuracy: 0.9828 - val_loss: 0.0887 - val_accuracy: 0.9727\n",
      "Epoch 5/10\n",
      "375/375 [==============================] - 2s 5ms/step - loss: 0.0389 - accuracy: 0.9879 - val_loss: 0.0940 - val_accuracy: 0.9727\n",
      "Epoch 6/10\n",
      "375/375 [==============================] - 2s 5ms/step - loss: 0.0298 - accuracy: 0.9903 - val_loss: 0.1004 - val_accuracy: 0.9728\n",
      "Epoch 7/10\n",
      "375/375 [==============================] - 2s 5ms/step - loss: 0.0235 - accuracy: 0.9923 - val_loss: 0.0982 - val_accuracy: 0.9743\n",
      "Epoch 8/10\n",
      "375/375 [==============================] - 2s 5ms/step - loss: 0.0198 - accuracy: 0.9932 - val_loss: 0.0875 - val_accuracy: 0.9778\n",
      "Epoch 9/10\n",
      "375/375 [==============================] - 2s 5ms/step - loss: 0.0177 - accuracy: 0.9940 - val_loss: 0.1094 - val_accuracy: 0.9736\n",
      "Epoch 10/10\n",
      "375/375 [==============================] - 2s 5ms/step - loss: 0.0159 - accuracy: 0.9951 - val_loss: 0.0937 - val_accuracy: 0.9786\n",
      "<keras.callbacks.History object at 0x000001735E2E9FD0>\n",
      "313/313 [==============================] - 1s 2ms/step - loss: 0.0885 - accuracy: 0.9797\n",
      "[0.08849435299634933, 0.9797000288963318]\n"
     ]
    }
   ],
   "source": [
    "fit_hisroty = model.fit(X_train_scaler, y_train\n",
    "                        , batch_size = 128\n",
    "                        , validation_split=0.2, epochs=10)\n",
    "print(fit_hisroty)\n",
    "print ( model.evaluate(X_test_scaler, y_test)  )"
   ]
  },
  {
   "cell_type": "markdown",
   "id": "495a17a0-7a5c-4998-9b86-80d62d113959",
   "metadata": {},
   "source": [
    "## 평가 시각화"
   ]
  },
  {
   "cell_type": "code",
   "execution_count": 13,
   "id": "110c324c-ae25-438b-aa22-cbf8682c52e3",
   "metadata": {
    "tags": []
   },
   "outputs": [
    {
     "data": {
      "image/png": "[encoded data removed]",
      "text/plain": [
       "<Figure size 600x300 with 2 Axes>"
      ]
     },
     "metadata": {},
     "output_type": "display_data"
    }
   ],
   "source": [
    "plt.figure(figsize=(6,3))\n",
    "ax1 = plt.subplot(1,2,1)\n",
    "ax1.plot(fit_hisroty.history['loss']    , label='loss')\n",
    "ax1.plot(fit_hisroty.history['val_loss'], label='val_loss')\n",
    "ax1.legend()\n",
    "ax1.set_title(\"loss\")\n",
    "\n",
    "ax2 = plt.subplot(1,2,2)\n",
    "ax2.plot(fit_hisroty.history['accuracy']    , label='accuracy')\n",
    "ax2.plot(fit_hisroty.history['val_accuracy'], label='val_accuracy')\n",
    "ax2.legend()\n",
    "ax2.set_title(\"accuracy\")\n",
    "\n",
    "plt.show()"
   ]
  },
  {
   "cell_type": "markdown",
   "id": "3fe02e8b-fede-4ff2-a7bb-8a52528b0df7",
   "metadata": {
    "tags": []
   },
   "source": [
    "# 합성곱신경망(CNN)\n",
    "* CNN(Convolution Neural Network)\n",
    "* ref : https://towardsdatascience.com/a-comprehensive-guide-to-convolutional-neural-networks-the-eli5-way-3bd2b1164a53"
   ]
  },
  {
   "cell_type": "markdown",
   "id": "8e3c0215-1055-4217-96d0-7e2bb07cb37c",
   "metadata": {},
   "source": [
    "<img src=\"https://codetorial.net/tensorflow/_images/convolutional_neural_network_05.png\" width=700>"
   ]
  },
  {
   "cell_type": "markdown",
   "id": "dab8b729-def1-4f70-8a19-52f908623366",
   "metadata": {},
   "source": [
    "<img src=\"https://miro.medium.com/v2/resize:fit:640/format:webp/1*uAeANQIOQPqWZnnuH-VEyw.jpeg\" width=700>"
   ]
  },
  {
   "cell_type": "markdown",
   "id": "2f751da1-bdda-482b-aba4-af63351582d5",
   "metadata": {
    "tags": []
   },
   "source": [
    "<pre>\n",
    "<b>tf.keras.layers.Conv2D(\n",
    "    filters,\n",
    "    kernel_size,\n",
    "    strides=(1, 1),\n",
    "    padding='valid',\n",
    "    activation=None,\n",
    "    kernel_initializer='glorot_uniform', </b>\n",
    "    data_format=None,\n",
    "    dilation_rate=(1, 1),\n",
    "    groups=1,\n",
    "    use_bias=True,\n",
    "    bias_initializer='zeros',\n",
    "    kernel_regularizer=None,\n",
    "    bias_regularizer=None,\n",
    "    activity_regularizer=None,\n",
    "    kernel_constraint=None,\n",
    "    bias_constraint=None,\n",
    "    **kwargs\n",
    ")\n",
    "\n",
    "<b>tf.keras.layers.MaxPooling2D(\n",
    "    pool_size=(2, 2), strides=None, padding=\"valid\"</b>, data_format=None, **kwargs\n",
    ")\n"
   ]
  },
  {
   "cell_type": "code",
   "execution_count": 14,
   "id": "012cfa18-eda3-4c45-830a-9aebef1a0677",
   "metadata": {
    "tags": []
   },
   "outputs": [],
   "source": [
    "from keras.models import Sequential\n",
    "from keras.layers import Dropout, Conv2D, MaxPool2D, Flatten, Dense\n",
    "from keras.initializers import GlorotNormal  #Xavier"
   ]
  },
  {
   "cell_type": "markdown",
   "id": "3b839ceb-805c-4177-bbac-3e428f275397",
   "metadata": {
    "tags": []
   },
   "source": [
    "<b> 가중치 초기화 </b>\n",
    "<pre>\n",
    "LOCAL.ALL_OBJECTS[\"ConstantV2\"] = initializers_v2.Constant\n",
    "LOCAL.ALL_OBJECTS[\"GlorotNormalV2\"] = initializers_v2.GlorotNormal\n",
    "LOCAL.ALL_OBJECTS[\"GlorotUniformV2\"] = initializers_v2.GlorotUniform\n",
    "LOCAL.ALL_OBJECTS[\"HeNormalV2\"] = initializers_v2.HeNormal\n",
    "LOCAL.ALL_OBJECTS[\"HeUniformV2\"] = initializers_v2.HeUniform\n",
    "LOCAL.ALL_OBJECTS[\"IdentityV2\"] = initializers_v2.Identity\n",
    "LOCAL.ALL_OBJECTS[\"LecunNormalV2\"] = initializers_v2.LecunNormal\n",
    "LOCAL.ALL_OBJECTS[\"LecunUniformV2\"] = initializers_v2.LecunUniform\n",
    "LOCAL.ALL_OBJECTS[\"OnesV2\"] = initializers_v2.Ones\n",
    "LOCAL.ALL_OBJECTS[\"OrthogonalV2\"] = initializers_v2.Orthogonal\n",
    "LOCAL.ALL_OBJECTS[\"RandomNormalV2\"] = initializers_v2.RandomNormal\n",
    "LOCAL.ALL_OBJECTS[\"RandomUniformV2\"] = initializers_v2.RandomUniform\n",
    "LOCAL.ALL_OBJECTS[\"TruncatedNormalV2\"] = initializers_v2.TruncatedNormal\n",
    "LOCAL.ALL_OBJECTS[\"VarianceScalingV2\"] = initializers_v2.VarianceScaling\n",
    "LOCAL.ALL_OBJECTS[\"ZerosV2\"] = initializers_v2.Zeros\n",
    "    "
   ]
  },
  {
   "cell_type": "markdown",
   "id": "a53c88ef-2e65-4937-a23e-66a0c7edb107",
   "metadata": {},
   "source": [
    "## FC vs CNN"
   ]
  },
  {
   "cell_type": "markdown",
   "id": "4a5e3652-a6b8-4cfb-a803-13eebde48a08",
   "metadata": {},
   "source": [
    "<pre>\n",
    "* FC  total param : 272,270  (0.977)  (60000, 784)\n",
    "* CNN total param :  33,750  (0.990)  (60000, 28,28,1)"
   ]
  },
  {
   "cell_type": "markdown",
   "id": "ce6e80a8-0045-4fce-a9ec-b4c827748a77",
   "metadata": {},
   "source": [
    "* <b>reshape 연습</b>\n",
    "    * np.expand_dims(X_train, axis=0).shape\n",
    "    * X_train[..., np.newaxis].shape\n",
    "    * X_train[..., None].shape"
   ]
  },
  {
   "cell_type": "code",
   "execution_count": 15,
   "id": "1b74e889-ad5b-47a1-8a86-65ed64faaef3",
   "metadata": {
    "tags": []
   },
   "outputs": [
    {
     "name": "stdout",
     "output_type": "stream",
     "text": [
      "(100, 28, 28)\n",
      "(100, 784)\n",
      "(100, 28, 28, 1)\n"
     ]
    }
   ],
   "source": [
    "arr = np.arange(78400)\n",
    "\n",
    "arr = arr.reshape(-1,28,28)        #(100, 28, 28)  \n",
    "print(arr.shape)                   \n",
    "\n",
    "# -----------------------------------------------\n",
    "# (100, 28, 28)  --> (100, 784) \n",
    "# -----------------------------------------------\n",
    "re_arr = arr.reshape(-1, 28*28)    \n",
    "print(re_arr.shape  )\n",
    "\n",
    "# -----------------------------------------------\n",
    "#(100, 784) --> (100, 28,28,1)\n",
    "# -----------------------------------------------\n",
    "re_re_arr = re_arr.reshape(-1, 28, 28 ,1)\n",
    "print( re_re_arr.shape )\n"
   ]
  },
  {
   "cell_type": "markdown",
   "id": "fd16b6de-92eb-4d05-9dc3-554b00cee5f3",
   "metadata": {
    "tags": []
   },
   "source": [
    "* <font color=red size=5><b> (60000, 28, 28) --> (60000, 784)\n",
    "* input_dim=784\n",
    "* input_shape=(28,28)    "
   ]
  },
  {
   "cell_type": "code",
   "execution_count": 16,
   "id": "fe8c5e7a-58a1-438c-8445-ee44ff96b2eb",
   "metadata": {
    "tags": []
   },
   "outputs": [],
   "source": [
    "# model = Sequential()\n",
    "# model.add(Dense(units=300,  input_dim=784, activation='relu', kernel_initializer='glorot_normal')) #입력층\n",
    "# model.add(Dense(units=100,  activation='relu'))              #히든레이어\n",
    "# model.add(Dense(units=60,  activation='relu'))              #히든레이어\n",
    "# model.add(Dense(units=10,  activation='softmax'))           #3종 출력층\n",
    "# model.compile(loss='sparse_categorical_crossentropy', optimizer='Adam', metrics=['accuracy'])\n",
    "# model.summary()"
   ]
  },
  {
   "cell_type": "markdown",
   "id": "71bb4865-30df-4891-94f3-d6d1674921e6",
   "metadata": {
    "tags": []
   },
   "source": [
    "* <font color=red size=5><b> (60000, 28, 28) --> (60000, 28,28,1)\n",
    "* input_shape = (28,28,1)   "
   ]
  },
  {
   "cell_type": "code",
   "execution_count": 17,
   "id": "5d003560-c715-43e4-bb39-c6ffdbb84ea4",
   "metadata": {},
   "outputs": [],
   "source": [
    "# (X_train,y_train), (X_test,y_test) = mnist.load_data()\n",
    "# X_train.shape, y_train.shape, X_test.shape, y_test.shape\n",
    "# # ((60000, 28, 28), (60000,), (10000, 28, 28), (10000,))"
   ]
  },
  {
   "cell_type": "markdown",
   "id": "b31dca96-818f-4f21-bca6-8befbc9163d9",
   "metadata": {
    "tags": []
   },
   "source": [
    "* <font color=red size=5><b> (60000, 784) --> (60000, 28,28,1)  input_shape=(28,28,1)\n",
    "* input_shape = (28,28,1)   "
   ]
  },
  {
   "cell_type": "code",
   "execution_count": 18,
   "id": "01d5a558-f199-41ce-bdba-faabde94e875",
   "metadata": {
    "tags": []
   },
   "outputs": [
    {
     "data": {
      "text/plain": [
       "((60000, 784), (10000, 784))"
      ]
     },
     "execution_count": 18,
     "metadata": {},
     "output_type": "execute_result"
    }
   ],
   "source": [
    "X_train_scaler.shape,  X_test_scaler.shape"
   ]
  },
  {
   "cell_type": "code",
   "execution_count": 19,
   "id": "6bf75bf7-89ea-4552-8e08-bd2382149d94",
   "metadata": {
    "tags": []
   },
   "outputs": [
    {
     "data": {
      "text/plain": [
       "((60000, 28, 28, 1), (10000, 28, 28, 1))"
      ]
     },
     "execution_count": 19,
     "metadata": {},
     "output_type": "execute_result"
    }
   ],
   "source": [
    "X_train_scaler = X_train_scaler.reshape(-1, 28, 28, 1)\n",
    "X_test_scaler = X_test_scaler.reshape(-1, 28, 28, 1)\n",
    "X_train_scaler.shape, X_test_scaler.shape"
   ]
  },
  {
   "cell_type": "code",
   "execution_count": 20,
   "id": "c71f247e-0e02-4f62-a66f-df60d428bdb1",
   "metadata": {
    "tags": []
   },
   "outputs": [],
   "source": [
    "model = Sequential()\n",
    "# ------------- CNN ---------------------\n",
    "model.add(Conv2D(filters=16, input_shape=(28,28,1), kernel_size=(5,5), strides=(1, 1), padding='valid', activation='relu', kernel_initializer='glorot_uniform')  )\n",
    "model.add(MaxPool2D(pool_size=(2, 2),                               strides=None  , padding=\"valid\"))\n",
    "model.add(Conv2D(filters=24, kernel_size=(5,5), activation='relu' ) )\n",
    "model.add(MaxPool2D(pool_size=(2, 2) ))\n",
    "\n",
    "# ------------- Fully Connected ---------\n",
    "model.add(Flatten())\n",
    "\n",
    "model.add(Dense(units=60,  activation='relu'))              #히든레이어\n",
    "model.add(Dense(units=10,  activation='softmax'))           #3종 출력층\n",
    "model.compile(loss='sparse_categorical_crossentropy', optimizer='Adam', metrics=['accuracy'])"
   ]
  },
  {
   "cell_type": "code",
   "execution_count": 21,
   "id": "deb99bc8-3e41-4b7a-8db5-30a6651d5a4e",
   "metadata": {
    "tags": []
   },
   "outputs": [
    {
     "name": "stdout",
     "output_type": "stream",
     "text": [
      "Model: \"sequential_1\"\n",
      "_________________________________________________________________\n",
      " Layer (type)                Output Shape              Param #   \n",
      "=================================================================\n",
      " conv2d (Conv2D)             (None, 24, 24, 16)        416       \n",
      "                                                                 \n",
      " max_pooling2d (MaxPooling2D  (None, 12, 12, 16)       0         \n",
      " )                                                               \n",
      "                                                                 \n",
      " conv2d_1 (Conv2D)           (None, 8, 8, 24)          9624      \n",
      "                                                                 \n",
      " max_pooling2d_1 (MaxPooling  (None, 4, 4, 24)         0         \n",
      " 2D)                                                             \n",
      "                                                                 \n",
      " flatten (Flatten)           (None, 384)               0         \n",
      "                                                                 \n",
      " dense_4 (Dense)             (None, 60)                23100     \n",
      "                                                                 \n",
      " dense_5 (Dense)             (None, 10)                610       \n",
      "                                                                 \n",
      "=================================================================\n",
      "Total params: 33,750\n",
      "Trainable params: 33,750\n",
      "Non-trainable params: 0\n",
      "_________________________________________________________________\n"
     ]
    }
   ],
   "source": [
    "model.summary()"
   ]
  },
  {
   "cell_type": "code",
   "execution_count": 22,
   "id": "f5f55e89-63de-49d9-80a9-5a7c0b151e2c",
   "metadata": {
    "tags": []
   },
   "outputs": [
    {
     "name": "stdout",
     "output_type": "stream",
     "text": [
      "Epoch 1/10\n",
      "375/375 [==============================] - 14s 35ms/step - loss: 0.3380 - accuracy: 0.8998 - val_loss: 0.1055 - val_accuracy: 0.9686\n",
      "Epoch 2/10\n",
      "375/375 [==============================] - 14s 37ms/step - loss: 0.0913 - accuracy: 0.9721 - val_loss: 0.0717 - val_accuracy: 0.9787\n",
      "Epoch 3/10\n",
      "375/375 [==============================] - 14s 38ms/step - loss: 0.0666 - accuracy: 0.9790 - val_loss: 0.0651 - val_accuracy: 0.9808\n",
      "Epoch 4/10\n",
      "375/375 [==============================] - 13s 36ms/step - loss: 0.0506 - accuracy: 0.9847 - val_loss: 0.0632 - val_accuracy: 0.9807\n",
      "Epoch 5/10\n",
      "375/375 [==============================] - 13s 34ms/step - loss: 0.0430 - accuracy: 0.9864 - val_loss: 0.0536 - val_accuracy: 0.9841\n",
      "Epoch 6/10\n",
      "375/375 [==============================] - 13s 34ms/step - loss: 0.0362 - accuracy: 0.9886 - val_loss: 0.0510 - val_accuracy: 0.9854\n",
      "Epoch 7/10\n",
      "375/375 [==============================] - 13s 34ms/step - loss: 0.0315 - accuracy: 0.9904 - val_loss: 0.0469 - val_accuracy: 0.9867\n",
      "Epoch 8/10\n",
      "375/375 [==============================] - 14s 37ms/step - loss: 0.0277 - accuracy: 0.9908 - val_loss: 0.0469 - val_accuracy: 0.9861\n",
      "Epoch 9/10\n",
      "375/375 [==============================] - 13s 34ms/step - loss: 0.0223 - accuracy: 0.9929 - val_loss: 0.0498 - val_accuracy: 0.9852\n",
      "Epoch 10/10\n",
      "375/375 [==============================] - 13s 35ms/step - loss: 0.0208 - accuracy: 0.9934 - val_loss: 0.0461 - val_accuracy: 0.9877\n",
      "<keras.callbacks.History object at 0x00000173573E6A90>\n",
      "313/313 [==============================] - 1s 3ms/step - loss: 0.0319 - accuracy: 0.9907\n",
      "[0.03190174326300621, 0.9907000064849854]\n"
     ]
    }
   ],
   "source": [
    "fit_hisroty = model.fit(X_train_scaler, y_train\n",
    "                        , batch_size = 128\n",
    "                        , validation_split=0.2, epochs=10)\n",
    "print(fit_hisroty)\n",
    "print ( model.evaluate(X_test_scaler, y_test)  )"
   ]
  },
  {
   "cell_type": "markdown",
   "id": "e5c8efd8-24cd-4005-8f92-9c8d1c6a8b24",
   "metadata": {},
   "source": [
    "* FC : [0.08849435299634933, 0.9797000288963318]\n",
    "* CNN : [0.03190174326300621, 0.9907000064849854]"
   ]
  },
  {
   "cell_type": "code",
   "execution_count": 23,
   "id": "d61d373a-909c-45cd-8234-4eac400f141c",
   "metadata": {},
   "outputs": [
    {
     "data": {
      "image/png": "[encoded data removed]",
      "text/plain": [
       "<Figure size 600x300 with 2 Axes>"
      ]
     },
     "metadata": {},
     "output_type": "display_data"
    }
   ],
   "source": [
    "plt.figure(figsize=(6,3))\n",
    "ax1 = plt.subplot(1,2,1)\n",
    "ax1.plot(fit_hisroty.history['loss']    , label='loss')\n",
    "ax1.plot(fit_hisroty.history['val_loss'], label='val_loss')\n",
    "ax1.legend()\n",
    "ax1.set_title(\"loss\")\n",
    "\n",
    "ax2 = plt.subplot(1,2,2)\n",
    "ax2.plot(fit_hisroty.history['accuracy']    , label='accuracy')\n",
    "ax2.plot(fit_hisroty.history['val_accuracy'], label='val_accuracy')\n",
    "ax2.legend()\n",
    "ax2.set_title(\"accuracy\")\n",
    "\n",
    "plt.show()"
   ]
  },
  {
   "cell_type": "markdown",
   "id": "c0bb0582-8d98-4b96-9118-5e4f264b3aa7",
   "metadata": {},
   "source": [
    "# 성능비교\n",
    "<pre>\n",
    "* FC  total param : 272,270  (60000, 784)\n",
    "                    [0.08849435299634933, 0.9797000288963318]\n",
    "* CNN total param :  33,750  (60000, 28,28,1)\n",
    "                    [0.03190174326300621, 0.9907000064849854]"
   ]
  }
 ],
 "metadata": {
  "kernelspec": {
   "display_name": "Python 3 (ipykernel)",
   "language": "python",
   "name": "python3"
  },
  "language_info": {
   "codemirror_mode": {
    "name": "ipython",
    "version": 3
   },
   "file_extension": ".py",
   "mimetype": "text/x-python",
   "name": "python",
   "nbconvert_exporter": "python",
   "pygments_lexer": "ipython3",
   "version": "3.8.8"
  }
 },
 "nbformat": 4,
 "nbformat_minor": 5
}
