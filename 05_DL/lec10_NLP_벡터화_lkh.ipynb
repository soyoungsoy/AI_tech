{
 "cells": [
  {
   "cell_type": "code",
   "execution_count": null,
   "id": "e115b409-0d5d-4f3d-b253-649041747a1f",
   "metadata": {},
   "outputs": [],
   "source": []
  },
  {
   "cell_type": "code",
   "execution_count": 1,
   "id": "88510ebb-137f-4ad5-99c8-81e0d3e82e76",
   "metadata": {},
   "outputs": [
    {
     "data": {
      "text/html": [
       "<style>.container{width:100% !important;}</style>"
      ],
      "text/plain": [
       "<IPython.core.display.HTML object>"
      ]
     },
     "metadata": {},
     "output_type": "display_data"
    }
   ],
   "source": [
    "import numpy as np\n",
    "import pandas as pd\n",
    "\n",
    "import matplotlib.pyplot as plt\n",
    "import seaborn as sns\n",
    "\n",
    "\n",
    "sns.set()\n",
    "\n",
    "#-------------------- 차트 관련 속성 (한글처리, 그리드) -----------\n",
    "plt.rcParams['font.family']= 'Malgun Gothic'\n",
    "plt.rcParams['axes.unicode_minus'] = False\n",
    "\n",
    "#-------------------- 주피터 , 출력결과 넓이 늘리기 ---------------\n",
    "# from IPython.core.display import display, HTML\n",
    "from IPython.display import display, HTML\n",
    "\n",
    "display(HTML(\"<style>.container{width:100% !important;}</style>\"))\n",
    "pd.set_option('display.max_rows', 100)\n",
    "pd.set_option('display.max_columns', 100)\n",
    "pd.set_option('max_colwidth', None)\n",
    "\n",
    "import warnings\n",
    "warnings.filterwarnings(action='ignore')"
   ]
  },
  {
   "cell_type": "markdown",
   "id": "0d557b4b-18f3-4965-b960-f07644259dc1",
   "metadata": {
    "tags": []
   },
   "source": [
    "<font size=6><b>Lec08.NLP 언어모델\n",
    "* NLP (Natural Language Processing, 자연어 처리)   * 언어 모델(Language Model, LM)은 언어라는 현상을 모델링하고자 단어 시퀀스(문장)에 확률을 할당(assign)하는 모델 \n"
   ]
  },
  {
   "cell_type": "markdown",
   "id": "1e503efc-f3ba-4f4f-b154-6f9a042bc75f",
   "metadata": {
    "tags": []
   },
   "source": [
    "<font size=6><b>언어모델\n",
    "* N-gram\n",
    "* <b>빈도기반 \n",
    "    * <b>BoW(Bag of Words)\n",
    "    * <b>TF-IDF(Term Frequency - Inverse Document Frequency)\n",
    "* 코사인 유사도(Cosine Similarity)"
   ]
  },
  {
   "cell_type": "markdown",
   "id": "68331642-5821-4953-af63-aedb5df54e3a",
   "metadata": {},
   "source": [
    "# N-gram"
   ]
  },
  {
   "cell_type": "code",
   "execution_count": null,
   "id": "9f1664f2-f976-4ecd-9f0f-f5888b931a2d",
   "metadata": {},
   "outputs": [],
   "source": []
  },
  {
   "cell_type": "markdown",
   "id": "88a251fa-c5ae-4eb5-bea6-a02e73512188",
   "metadata": {},
   "source": [
    "# BoW(Bag of Words) - 단어 출현 빈도\n",
    "* 단어들의 <b>순서는 전혀 고려하지 않고, 단어들의 출현 빈도(frequency)</b>에만 집중하는 텍스트 데이터의 수치화 표현 방법"
   ]
  },
  {
   "cell_type": "markdown",
   "id": "fe194939-4b47-4ed8-8374-813dcb646786",
   "metadata": {},
   "source": [
    "### corpus 에서 제공하는 불용어처리"
   ]
  },
  {
   "cell_type": "code",
   "execution_count": 2,
   "id": "6a1ed873-a355-44e4-8b3f-a14ff19f364a",
   "metadata": {},
   "outputs": [
    {
     "name": "stdout",
     "output_type": "stream",
     "text": [
      "불용어 개수 : 179\n",
      "불용어 10개 출력 : ['i', 'me', 'my', 'myself', 'we', 'our', 'ours', 'ourselves', 'you', \"you're\"]\n"
     ]
    }
   ],
   "source": [
    "from nltk.corpus import stopwords\n",
    "stop_words_list = stopwords.words('english')\n",
    "print('불용어 개수 :', len(stop_words_list))\n",
    "print('불용어 10개 출력 :',stop_words_list[:10])"
   ]
  },
  {
   "cell_type": "code",
   "execution_count": 3,
   "id": "947142a4-555e-4949-8b88-8e5df81621e2",
   "metadata": {
    "tags": []
   },
   "outputs": [
    {
     "name": "stdout",
     "output_type": "stream",
     "text": [
      "bag of words vector : [[1 1 1 1 1 1 1]]\n",
      "vocabulary : {'정부가': 6, '발표하는': 4, '물가상승률과': 2, '소비자가': 5, '느끼는': 0, '물가상승률은': 3, '다르다': 1}\n"
     ]
    }
   ],
   "source": [
    "# doc1 = \"정부가 발표하는 물가상승률과 소비자가 느끼는 물가상승률은 다르다.\"\n",
    "\n",
    "from sklearn.feature_extraction.text import CountVectorizer #벡터를 이용해 문장을 벡터화 시키고 빈도 리턴\n",
    "\n",
    "# corpus = ['you know I want your love. because I love you.']\n",
    "corpus = ['정부가 발표하는 물가상승률과 소비자가 느끼는 물가상승률은 다르다.']\n",
    "vector = CountVectorizer(stop_words=[\"because\", \"I\"]) #사용자 정의 불용어\n",
    "vector = CountVectorizer(stop_words='english')  #기본으로 제공하는 불용어\n",
    "vector = CountVectorizer(stop_words=stop_words_list) #사용자 + 기본\n",
    "\n",
    "\n",
    "\n",
    "# 코퍼스로부터 각 단어의 빈도수를 기록\n",
    "print('bag of words vector :', vector.fit_transform(corpus).toarray()) \n",
    "# 토큰화 : 단순히 글자를 잘라내는 기능\n",
    "# bag : 잘라내기 + 빈도수 체크\n",
    "# 카운트 기반 원핫 인코딩 문제 --> voca 사이즈만큼 행렬이 만들어진다. 희소행렬문제 발생[[10000],[01000],[00100],...,[00001]]]\n",
    "# bag of words vector : [[1 1 1 1 1 1 1]] --> voca 사이즈만큼 만들어서 희소행렬 문제 해소\n",
    "# 나는 밥과 국을 먹었다. [1 1 1 1]\n",
    "# 나는 밥을 밥을 먹었다. [1 2 0 1]\n",
    "# 1 array로 만들면서 count 까지 해준다.\n",
    "\n",
    "\n",
    "\n",
    "# 각 단어의 인덱스가 어떻게 부여되었는지를 출력\n",
    "print('vocabulary :',vector.vocabulary_)\n"
   ]
  },
  {
   "cell_type": "code",
   "execution_count": 4,
   "id": "2b6d3289-652b-4cb2-9a0e-d78e67e8ff9c",
   "metadata": {
    "tags": []
   },
   "outputs": [
    {
     "name": "stdout",
     "output_type": "stream",
     "text": [
      "[('느끼는', 0), ('다르다', 1), ('물가상승률과', 2), ('물가상승률은', 3), ('발표하는', 4), ('소비자가', 5), ('정부가', 6)]\n"
     ]
    }
   ],
   "source": [
    "#sorting 하기\n",
    "\n",
    "vocab_sorted = sorted(vector.vocabulary_.items(), key = lambda x:x[1], reverse = False)\n",
    "print(vocab_sorted)"
   ]
  },
  {
   "cell_type": "markdown",
   "id": "3149011e-8270-4498-beae-325f48991fca",
   "metadata": {
    "tags": []
   },
   "source": [
    "# DTM\n",
    "문서 단어 행렬(DTM, Document-Term Matrix)\n",
    "* 각 문서에서 등장한 단어의 빈도를 행렬의 값으로 표기해 서로 다른 문서들을 비교\n",
    "* 다수의 BoW : 각 문서에 대한 BoW를 하나의 행렬로 만든 것\n",
    "\n",
    "* **<단점>**\n",
    "    - <b>희소 표현(Sparse representation)</b> : 단어 집합의 크기 == 벡터의 차원이 되고 대부분의 값이 0이 된다\n",
    "    - <b>단순 빈도 수 기반 접근</b> : '이다'와 같은 중요하지 않은 최빈도 단어로 문서를 연관지으면??\n",
    "    - <font color='red'> <b>TF-IDF 필요 (DTM에 불용어와 중요한 단어에 대해서 가중치)</font></b>"
   ]
  },
  {
   "cell_type": "markdown",
   "id": "1221f75c-ab8e-4269-8c8f-5dba1ac634d2",
   "metadata": {},
   "source": [
    "## sorting, 단어행렬화"
   ]
  },
  {
   "cell_type": "code",
   "execution_count": 5,
   "id": "e61c9d11-f569-474e-ae42-06732a50e8d4",
   "metadata": {
    "tags": []
   },
   "outputs": [],
   "source": [
    "corpus = ['먹고 싶은 사과',\n",
    "'먹고 싶은 바나나',\n",
    "'길고 노란 바나나 바나나',\n",
    "'저는 과일이 좋아요']"
   ]
  },
  {
   "cell_type": "code",
   "execution_count": 6,
   "id": "a11d61fc-8230-43fd-855d-7fe2c526e541",
   "metadata": {
    "tags": []
   },
   "outputs": [
    {
     "name": "stdout",
     "output_type": "stream",
     "text": [
      "OrderedDict([('먹고', 2), ('싶은', 2), ('사과', 1), ('바나나', 3), ('길고', 1), ('노란', 1), ('저는', 1), ('과일이', 1), ('좋아요', 1)])\n"
     ]
    }
   ],
   "source": [
    "from keras.preprocessing.text import Tokenizer\n",
    "\n",
    "token = Tokenizer()\n",
    "token.fit_on_texts(corpus)\n",
    "print(token.word_counts) "
   ]
  },
  {
   "cell_type": "markdown",
   "id": "d6f5b9c4-265b-4241-a9ae-27e147d55365",
   "metadata": {},
   "source": [
    "* 문서 단어 행렬화 --> 정렬하기"
   ]
  },
  {
   "cell_type": "code",
   "execution_count": 7,
   "id": "57dab9ce-4f5b-4e40-8e52-6958349b5549",
   "metadata": {
    "tags": []
   },
   "outputs": [
    {
     "name": "stdout",
     "output_type": "stream",
     "text": [
      "[[0 0 0 1 0 1 1 0 0]\n",
      " [0 0 0 1 1 0 1 0 0]\n",
      " [0 1 1 0 2 0 0 0 0]\n",
      " [1 0 0 0 0 0 0 1 1]]\n",
      "{'먹고': 3, '싶은': 6, '사과': 5, '바나나': 4, '길고': 1, '노란': 2, '저는': 7, '과일이': 0, '좋아요': 8}\n",
      "[('과일이', 0), ('길고', 1), ('노란', 2), ('먹고', 3), ('바나나', 4), ('사과', 5), ('싶은', 6), ('저는', 7), ('좋아요', 8)]\n"
     ]
    }
   ],
   "source": [
    "vector = CountVectorizer()\n",
    "vec = vector.fit_transform(corpus).toarray() #문서 단어 행렬화\n",
    "\n",
    "voca_ = vector.vocabulary_ #vec에 있는 단어들 추출하기\n",
    "col = vector.vocabulary_.keys() #딕트 키값 산출\n",
    "vocab_sorted = sorted(vector.vocabulary_.items(), key = lambda x:x[1], reverse = False) #딕트 정렬\n",
    "\n",
    "\n",
    "print(vec)\n",
    "print(vector.vocabulary_) #딕트 리턴\n",
    "print(vocab_sorted)"
   ]
  },
  {
   "cell_type": "code",
   "execution_count": 8,
   "id": "2cfa882b-dc79-419a-b486-c1a95c9dc9a2",
   "metadata": {
    "tags": []
   },
   "outputs": [
    {
     "data": {
      "text/plain": [
       "dict_keys(['과일이', '길고', '노란', '먹고', '바나나', '사과', '싶은', '저는', '좋아요'])"
      ]
     },
     "execution_count": 8,
     "metadata": {},
     "output_type": "execute_result"
    }
   ],
   "source": [
    "col_dic = dict(vocab_sorted) # 보카 딕트로 변환\n",
    "\n",
    "col = col_dic.keys() #sorting된 키 꺼내기\n",
    "col"
   ]
  },
  {
   "cell_type": "code",
   "execution_count": 9,
   "id": "9fb582dc-982d-445d-a31e-3a05a17f25c8",
   "metadata": {
    "tags": []
   },
   "outputs": [
    {
     "data": {
      "text/html": [
       "<div>\n",
       "<style scoped>\n",
       "    .dataframe tbody tr th:only-of-type {\n",
       "        vertical-align: middle;\n",
       "    }\n",
       "\n",
       "    .dataframe tbody tr th {\n",
       "        vertical-align: top;\n",
       "    }\n",
       "\n",
       "    .dataframe thead th {\n",
       "        text-align: right;\n",
       "    }\n",
       "</style>\n",
       "<table border=\"1\" class=\"dataframe\">\n",
       "  <thead>\n",
       "    <tr style=\"text-align: right;\">\n",
       "      <th></th>\n",
       "      <th>과일이</th>\n",
       "      <th>길고</th>\n",
       "      <th>노란</th>\n",
       "      <th>먹고</th>\n",
       "      <th>바나나</th>\n",
       "      <th>사과</th>\n",
       "      <th>싶은</th>\n",
       "      <th>저는</th>\n",
       "      <th>좋아요</th>\n",
       "    </tr>\n",
       "  </thead>\n",
       "  <tbody>\n",
       "    <tr>\n",
       "      <th>0</th>\n",
       "      <td>0</td>\n",
       "      <td>0</td>\n",
       "      <td>0</td>\n",
       "      <td>1</td>\n",
       "      <td>0</td>\n",
       "      <td>1</td>\n",
       "      <td>1</td>\n",
       "      <td>0</td>\n",
       "      <td>0</td>\n",
       "    </tr>\n",
       "    <tr>\n",
       "      <th>1</th>\n",
       "      <td>0</td>\n",
       "      <td>0</td>\n",
       "      <td>0</td>\n",
       "      <td>1</td>\n",
       "      <td>1</td>\n",
       "      <td>0</td>\n",
       "      <td>1</td>\n",
       "      <td>0</td>\n",
       "      <td>0</td>\n",
       "    </tr>\n",
       "    <tr>\n",
       "      <th>2</th>\n",
       "      <td>0</td>\n",
       "      <td>1</td>\n",
       "      <td>1</td>\n",
       "      <td>0</td>\n",
       "      <td>2</td>\n",
       "      <td>0</td>\n",
       "      <td>0</td>\n",
       "      <td>0</td>\n",
       "      <td>0</td>\n",
       "    </tr>\n",
       "    <tr>\n",
       "      <th>3</th>\n",
       "      <td>1</td>\n",
       "      <td>0</td>\n",
       "      <td>0</td>\n",
       "      <td>0</td>\n",
       "      <td>0</td>\n",
       "      <td>0</td>\n",
       "      <td>0</td>\n",
       "      <td>1</td>\n",
       "      <td>1</td>\n",
       "    </tr>\n",
       "  </tbody>\n",
       "</table>\n",
       "</div>"
      ],
      "text/plain": [
       "   과일이  길고  노란  먹고  바나나  사과  싶은  저는  좋아요\n",
       "0    0   0   0   1    0   1   1   0    0\n",
       "1    0   0   0   1    1   0   1   0    0\n",
       "2    0   1   1   0    2   0   0   0    0\n",
       "3    1   0   0   0    0   0   0   1    1"
      ]
     },
     "execution_count": 9,
     "metadata": {},
     "output_type": "execute_result"
    }
   ],
   "source": [
    "from pandas import pandas as pd\n",
    "\n",
    "vecdf = pd.DataFrame(vec, columns = col )\n",
    "vecdf"
   ]
  },
  {
   "cell_type": "code",
   "execution_count": 10,
   "id": "213e4ef6-98fa-4b4a-bfa6-f86ce122ce64",
   "metadata": {
    "tags": []
   },
   "outputs": [
    {
     "name": "stdout",
     "output_type": "stream",
     "text": [
      "BoW : \n",
      " [[0 0 0 1 0 1 1 0 0]\n",
      " [0 0 0 1 1 0 1 0 0]\n",
      " [0 1 1 0 2 0 0 0 0]\n",
      " [1 0 0 0 0 0 0 1 1]]\n",
      "vocabulary \n",
      ": {'먹고': 3, '싶은': 6, '사과': 5, '바나나': 4, '길고': 1, '노란': 2, '저는': 7, '과일이': 0, '좋아요': 8}\n",
      "[('과일이', 0), ('길고', 1), ('노란', 2), ('먹고', 3), ('바나나', 4), ('사과', 5), ('싶은', 6), ('저는', 7), ('좋아요', 8)]\n",
      "dict_keys(['과일이', '길고', '노란', '먹고', '바나나', '사과', '싶은', '저는', '좋아요'])\n"
     ]
    },
    {
     "data": {
      "text/html": [
       "<div>\n",
       "<style scoped>\n",
       "    .dataframe tbody tr th:only-of-type {\n",
       "        vertical-align: middle;\n",
       "    }\n",
       "\n",
       "    .dataframe tbody tr th {\n",
       "        vertical-align: top;\n",
       "    }\n",
       "\n",
       "    .dataframe thead th {\n",
       "        text-align: right;\n",
       "    }\n",
       "</style>\n",
       "<table border=\"1\" class=\"dataframe\">\n",
       "  <thead>\n",
       "    <tr style=\"text-align: right;\">\n",
       "      <th></th>\n",
       "      <th>과일이</th>\n",
       "      <th>길고</th>\n",
       "      <th>노란</th>\n",
       "      <th>먹고</th>\n",
       "      <th>바나나</th>\n",
       "      <th>사과</th>\n",
       "      <th>싶은</th>\n",
       "      <th>저는</th>\n",
       "      <th>좋아요</th>\n",
       "    </tr>\n",
       "  </thead>\n",
       "  <tbody>\n",
       "    <tr>\n",
       "      <th>0</th>\n",
       "      <td>0</td>\n",
       "      <td>0</td>\n",
       "      <td>0</td>\n",
       "      <td>1</td>\n",
       "      <td>0</td>\n",
       "      <td>1</td>\n",
       "      <td>1</td>\n",
       "      <td>0</td>\n",
       "      <td>0</td>\n",
       "    </tr>\n",
       "    <tr>\n",
       "      <th>1</th>\n",
       "      <td>0</td>\n",
       "      <td>0</td>\n",
       "      <td>0</td>\n",
       "      <td>1</td>\n",
       "      <td>1</td>\n",
       "      <td>0</td>\n",
       "      <td>1</td>\n",
       "      <td>0</td>\n",
       "      <td>0</td>\n",
       "    </tr>\n",
       "    <tr>\n",
       "      <th>2</th>\n",
       "      <td>0</td>\n",
       "      <td>1</td>\n",
       "      <td>1</td>\n",
       "      <td>0</td>\n",
       "      <td>2</td>\n",
       "      <td>0</td>\n",
       "      <td>0</td>\n",
       "      <td>0</td>\n",
       "      <td>0</td>\n",
       "    </tr>\n",
       "    <tr>\n",
       "      <th>3</th>\n",
       "      <td>1</td>\n",
       "      <td>0</td>\n",
       "      <td>0</td>\n",
       "      <td>0</td>\n",
       "      <td>0</td>\n",
       "      <td>0</td>\n",
       "      <td>0</td>\n",
       "      <td>1</td>\n",
       "      <td>1</td>\n",
       "    </tr>\n",
       "  </tbody>\n",
       "</table>\n",
       "</div>"
      ],
      "text/plain": [
       "   과일이  길고  노란  먹고  바나나  사과  싶은  저는  좋아요\n",
       "0    0   0   0   1    0   1   1   0    0\n",
       "1    0   0   0   1    1   0   1   0    0\n",
       "2    0   1   1   0    2   0   0   0    0\n",
       "3    1   0   0   0    0   0   0   1    1"
      ]
     },
     "execution_count": 10,
     "metadata": {},
     "output_type": "execute_result"
    }
   ],
   "source": [
    "## DTM\n",
    "\n",
    "corpus_list = ['먹고 싶은 사과',\n",
    "        '먹고 싶은 바나나',\n",
    "        '길고 노란 바나나 바나나',\n",
    "        '저는 과일이 좋아요']\n",
    "\n",
    "# --- BoW : 사전에 있으면 1 없으면 0 또있으면 누적 [1,0,0,1,2]\n",
    "vector = CountVectorizer()  \n",
    "\n",
    "bow = vector.fit_transform(corpus_list).toarray()\n",
    "print('BoW : \\n', bow)   #COO(밀집) CSR(희소)\n",
    "\n",
    "# --- BoW : 에 있는 단어가 숫자 ?로 변경되었는지 확인\n",
    "print('vocabulary \\n:',vector.vocabulary_)\n",
    "# --- BoW : 에 있는 단어를 index 순으로 정렬\n",
    "vocab_sorted = sorted(vector.vocabulary_.items(), key = lambda x:x[1], reverse = False)\n",
    "print(vocab_sorted)\n",
    "\n",
    "\n",
    "# --- BoW : 에 있는 단어를 index 순으로 정렬 --> 중에서 key(단어)만 가져오기\n",
    "vocab_word = [t[0] for t in vocab_sorted ]\n",
    "# print(vocab_word)\n",
    "\n",
    "vocab_word = dict(vocab_sorted).keys()\n",
    "print(vocab_word)\n",
    "    \n",
    "\n",
    "# --- DTM : BoW집합  (인덱스:문서번호, 컬럼:단어들(vocab_word),  값:BoW)\n",
    "df = pd.DataFrame(bow, columns=vocab_word)\n",
    "df"
   ]
  },
  {
   "cell_type": "markdown",
   "id": "2ab6f8dd-ca01-473a-a1b5-eb24912c730a",
   "metadata": {},
   "source": [
    "# TF_IDF\n",
    "* 단어 빈도-역 문서 빈도(TF-IDF, Term Frequency-Inverse Document Frequency)\n",
    "* 우선 DTM을 만든 후, TF-IDF 가중치를 부여\n",
    "* 주로 문서의 유사도를 구하는 작업, 검색 시스템에서 검색 결과의 중요도를 정하는 작업, 문서 내에서 특정 단어의 중요도를 구하는 작업 등에 활용\n",
    "* TF-IDF = TF * IDF\n",
    "\n",
    "* 문서(d), 단어(t), 문서총개수(n)\n",
    "* <font color='red'> $tf(d,t)$ : 특정 문서 d에서의 특정 단어 t의 등장 횟수</font>\n",
    "* <font color='red'>  $df(t)$ : 특정 단어 t가 등장한 문서의 수 </font>\n",
    "* <font color='red'>  $idf(d, t) = log (\\frac{n}{1+df(t)})$ : df(t) 역수</font>"
   ]
  },
  {
   "cell_type": "markdown",
   "id": "28cf80af-5cca-4431-bcc3-911692298b3c",
   "metadata": {},
   "source": [
    "DF : 문서 어디에 바나나가 나왔나?  \n",
    "TF : 특정 문서에서 특정 바나나의 등장 횟수"
   ]
  },
  {
   "cell_type": "code",
   "execution_count": null,
   "id": "b98c2d6c-53a7-40f8-8ede-39985b53cf07",
   "metadata": {},
   "outputs": [],
   "source": []
  },
  {
   "cell_type": "code",
   "execution_count": null,
   "id": "4f65fe80-2590-4515-9bcc-1c6cb600eabf",
   "metadata": {},
   "outputs": [],
   "source": []
  },
  {
   "cell_type": "markdown",
   "id": "88cb4e61-e6c9-4520-9c2f-f98bea153784",
   "metadata": {},
   "source": [
    "## 공통함수"
   ]
  },
  {
   "cell_type": "code",
   "execution_count": 11,
   "id": "3dc1fd53-3d81-4e2f-9f0f-fa24aaa4be5e",
   "metadata": {
    "tags": []
   },
   "outputs": [],
   "source": [
    "corpus_list = ['먹고 싶은 사과',\n",
    "'먹고 싶은 바나나',\n",
    "'길고 노란 바나나 바나나',\n",
    "'저는 과일이 좋아요']\n",
    "\n",
    "#상위코드 참조 : 단어집 = vocab\n",
    "\n",
    "vocab = ['과일이', '길고', '노란', '먹고', '바나나', '사과', '싶은', '저는', '좋아요']"
   ]
  },
  {
   "cell_type": "code",
   "execution_count": 12,
   "id": "efd42070-165c-4c32-a58d-65c78bc597c9",
   "metadata": {
    "tags": []
   },
   "outputs": [],
   "source": [
    "def tf(t, d): #DTM = Bow 의 집합\n",
    "    return d.count(t)\n",
    "\n",
    "def idf(t):\n",
    "    #--- 문서들(docs)에서 해당 단어(t)가 쓰인 빈도수\n",
    "    DFCOUNT = 0\n",
    "    for doc in corpus_list:\n",
    "        DFCOUNT += t in doc #해당 문서doc에서 해당 DF가 얼마나 나왔는지(DFCOUNT)\n",
    "    return np.log(N/(DFCOUNT + 1)) # np.log1p(N/df) = 너무 작은 수는 안나올 수 있으니 로그처리, N = 문서갯수\n",
    "\n",
    "def tfidf(t, d):\n",
    "    return tf(t,d) * idf(t)"
   ]
  },
  {
   "cell_type": "markdown",
   "id": "64243c63-48b6-41a4-93cd-3abce3bbb727",
   "metadata": {},
   "source": [
    "## [실습]"
   ]
  },
  {
   "cell_type": "code",
   "execution_count": null,
   "id": "857b7f3d-238c-4fcb-b56d-48f2f7686885",
   "metadata": {},
   "outputs": [],
   "source": []
  },
  {
   "cell_type": "markdown",
   "id": "8f9f64b9-ef39-4e89-986d-2ce760e5b40a",
   "metadata": {},
   "source": [
    "## TF (TDM = BoWs)\n",
    "    - 특정 문서에서 특정 단어가 얼마나 등장하는가?\n",
    "    - 한 문장에 바나나가 몇 번 나오는가?"
   ]
  },
  {
   "cell_type": "code",
   "execution_count": 13,
   "id": "9da006e8-b17b-40b9-ac74-6469a8d61d61",
   "metadata": {
    "tags": []
   },
   "outputs": [
    {
     "data": {
      "text/plain": [
       "4"
      ]
     },
     "execution_count": 13,
     "metadata": {},
     "output_type": "execute_result"
    }
   ],
   "source": [
    "N = len(corpus_list) # 문서의 갯수\n",
    "N"
   ]
  },
  {
   "cell_type": "code",
   "execution_count": 14,
   "id": "084d0a15-f929-4a61-be1e-15f66d7c7711",
   "metadata": {
    "tags": []
   },
   "outputs": [
    {
     "data": {
      "text/plain": [
       "array([[0, 0, 0, 1, 0, 1, 1, 0, 0],\n",
       "       [0, 0, 0, 1, 1, 0, 1, 0, 0],\n",
       "       [0, 1, 1, 0, 2, 0, 0, 0, 0],\n",
       "       [1, 0, 0, 0, 0, 0, 0, 1, 1]])"
      ]
     },
     "execution_count": 14,
     "metadata": {},
     "output_type": "execute_result"
    }
   ],
   "source": [
    "N = len(corpus_list)\n",
    "wcnt_list = []\n",
    "\n",
    "for i in range(N) :\n",
    "    d = corpus_list[i]           # d : 문서 번호\n",
    "    # count_list.append([])\n",
    "    for t in vocab : # vocab size = 9\n",
    "        # t = vocab[j]             # 보캡 루프 돌면서 꺼낸 단어들을 t 변수에 넣는다.\n",
    "        tf(t,d)                  # 해당 문서에서 dtm 카운트 함수\n",
    "        wcnt_list.append(tf(t,d)) #d 문서에서 t단어가 출현한 빈도수 추가\n",
    "                   # -1 : count_list.append([])의 []안에 append해라\n",
    "\n",
    "wcnt_list = np.array(wcnt_list).reshape(N,-1) #문서갯수 N , -1 알아서         \n",
    "wcnt_list        # 1/np.log1p(빈도수)"
   ]
  },
  {
   "cell_type": "markdown",
   "id": "1ed0b95c-6641-48c1-b704-24dabcf0a697",
   "metadata": {},
   "source": [
    "## IDF\n",
    "\n",
    "    - 특정 단어 t가 등장한 문서의 수\n",
    "    - '바나나가 나오는 문서의 갯수'의 역수"
   ]
  },
  {
   "cell_type": "code",
   "execution_count": 15,
   "id": "6a04a7d9-201a-4fde-92bd-ba236e676cab",
   "metadata": {
    "tags": []
   },
   "outputs": [
    {
     "data": {
      "text/plain": [
       "[0.6931471805599453,\n",
       " 0.6931471805599453,\n",
       " 0.6931471805599453,\n",
       " 0.28768207245178085,\n",
       " 0.28768207245178085,\n",
       " 0.6931471805599453,\n",
       " 0.28768207245178085,\n",
       " 0.6931471805599453,\n",
       " 0.6931471805599453]"
      ]
     },
     "execution_count": 15,
     "metadata": {},
     "output_type": "execute_result"
    }
   ],
   "source": [
    "doccount_list = []\n",
    "\n",
    "for t in vocab :\n",
    "    doccount_list.append(idf(t))\n",
    "doccount_list"
   ]
  },
  {
   "cell_type": "code",
   "execution_count": 16,
   "id": "e0baefef-5654-45a5-930e-63bacbc3f1f0",
   "metadata": {
    "tags": []
   },
   "outputs": [],
   "source": [
    "# DFCOUNT = 0\n",
    "# for doc in corpus_list:\n",
    "#     DFCOUNT += t in doc #해당 문서doc에서 해당 DF가 얼마나 나왔는지(DFCOUNT)\n",
    "\n",
    "#     return np.log(N/(DFCOUNT + 1))"
   ]
  },
  {
   "cell_type": "code",
   "execution_count": null,
   "id": "5aca93a4-3c44-402c-bf1f-fa60979cdc1c",
   "metadata": {},
   "outputs": [],
   "source": []
  },
  {
   "cell_type": "code",
   "execution_count": null,
   "id": "0b92db67-a3dd-44a5-997d-79a4f0ff27e2",
   "metadata": {},
   "outputs": [],
   "source": []
  },
  {
   "cell_type": "markdown",
   "id": "f7c45cbe-1afa-42f0-b9dc-d3361da6a6aa",
   "metadata": {},
   "source": [
    "## TF-IDF"
   ]
  },
  {
   "cell_type": "markdown",
   "id": "6fc8023b-4cd9-401c-9292-1f3151fa137a",
   "metadata": {},
   "source": [
    "<pre>\n",
    "\n",
    "def tfidf(t, d):\n",
    "    return tf(t,d) * idf(t)"
   ]
  },
  {
   "cell_type": "code",
   "execution_count": 17,
   "id": "b25ac034-a8aa-463f-ab0d-746d3c368205",
   "metadata": {
    "tags": []
   },
   "outputs": [
    {
     "data": {
      "text/plain": [
       "array([[0.        , 0.        , 0.        , 0.28768207, 0.        ,\n",
       "        0.69314718, 0.28768207, 0.        , 0.        ],\n",
       "       [0.        , 0.        , 0.        , 0.28768207, 0.28768207,\n",
       "        0.        , 0.28768207, 0.        , 0.        ],\n",
       "       [0.        , 0.69314718, 0.69314718, 0.        , 0.57536414,\n",
       "        0.        , 0.        , 0.        , 0.        ],\n",
       "       [0.69314718, 0.        , 0.        , 0.        , 0.        ,\n",
       "        0.        , 0.        , 0.69314718, 0.69314718]])"
      ]
     },
     "execution_count": 17,
     "metadata": {},
     "output_type": "execute_result"
    }
   ],
   "source": [
    "tf_arr = wcnt_list\n",
    "idf_arr = np.array(doccount_list)\n",
    "tfidf_arr = tf_arr * idf_arr\n",
    "tfidf_arr"
   ]
  },
  {
   "cell_type": "code",
   "execution_count": 18,
   "id": "d702305f-9362-4421-bc3b-9603390a8788",
   "metadata": {
    "tags": []
   },
   "outputs": [],
   "source": [
    "import numpy as np"
   ]
  },
  {
   "cell_type": "code",
   "execution_count": 19,
   "id": "6971d4cf-224c-493e-a985-df0704fcc3eb",
   "metadata": {},
   "outputs": [
    {
     "data": {
      "text/plain": [
       "array([[0.        , 0.        , 0.        , 0.28768207, 0.        ,\n",
       "        0.69314718, 0.28768207, 0.        , 0.        ],\n",
       "       [0.        , 0.        , 0.        , 0.28768207, 0.28768207,\n",
       "        0.        , 0.28768207, 0.        , 0.        ],\n",
       "       [0.        , 0.69314718, 0.69314718, 0.        , 0.57536414,\n",
       "        0.        , 0.        , 0.        , 0.        ],\n",
       "       [0.69314718, 0.        , 0.        , 0.        , 0.        ,\n",
       "        0.        , 0.        , 0.69314718, 0.69314718]])"
      ]
     },
     "execution_count": 19,
     "metadata": {},
     "output_type": "execute_result"
    }
   ],
   "source": [
    "N = len(corpus_list)\n",
    "tfidf_list = []\n",
    "for d in corpus_list :\n",
    "    for t in vocab :\n",
    "        tfidf_list.append(tfidf(t, d))\n",
    "tfidf_list = np.array(tfidf_list).reshape(N,-1)\n",
    "tfidf_list"
   ]
  },
  {
   "cell_type": "code",
   "execution_count": 20,
   "id": "85940cbb-0dfc-4d65-b6b6-64d5f7fa9ebe",
   "metadata": {
    "tags": []
   },
   "outputs": [
    {
     "data": {
      "text/html": [
       "<div>\n",
       "<style scoped>\n",
       "    .dataframe tbody tr th:only-of-type {\n",
       "        vertical-align: middle;\n",
       "    }\n",
       "\n",
       "    .dataframe tbody tr th {\n",
       "        vertical-align: top;\n",
       "    }\n",
       "\n",
       "    .dataframe thead th {\n",
       "        text-align: right;\n",
       "    }\n",
       "</style>\n",
       "<table border=\"1\" class=\"dataframe\">\n",
       "  <thead>\n",
       "    <tr style=\"text-align: right;\">\n",
       "      <th></th>\n",
       "      <th>과일이</th>\n",
       "      <th>길고</th>\n",
       "      <th>노란</th>\n",
       "      <th>먹고</th>\n",
       "      <th>바나나</th>\n",
       "      <th>사과</th>\n",
       "      <th>싶은</th>\n",
       "      <th>저는</th>\n",
       "      <th>좋아요</th>\n",
       "    </tr>\n",
       "  </thead>\n",
       "  <tbody>\n",
       "    <tr>\n",
       "      <th>0</th>\n",
       "      <td>0.000000</td>\n",
       "      <td>0.000000</td>\n",
       "      <td>0.000000</td>\n",
       "      <td>0.287682</td>\n",
       "      <td>0.000000</td>\n",
       "      <td>0.693147</td>\n",
       "      <td>0.287682</td>\n",
       "      <td>0.000000</td>\n",
       "      <td>0.000000</td>\n",
       "    </tr>\n",
       "    <tr>\n",
       "      <th>1</th>\n",
       "      <td>0.000000</td>\n",
       "      <td>0.000000</td>\n",
       "      <td>0.000000</td>\n",
       "      <td>0.287682</td>\n",
       "      <td>0.287682</td>\n",
       "      <td>0.000000</td>\n",
       "      <td>0.287682</td>\n",
       "      <td>0.000000</td>\n",
       "      <td>0.000000</td>\n",
       "    </tr>\n",
       "    <tr>\n",
       "      <th>2</th>\n",
       "      <td>0.000000</td>\n",
       "      <td>0.693147</td>\n",
       "      <td>0.693147</td>\n",
       "      <td>0.000000</td>\n",
       "      <td>0.575364</td>\n",
       "      <td>0.000000</td>\n",
       "      <td>0.000000</td>\n",
       "      <td>0.000000</td>\n",
       "      <td>0.000000</td>\n",
       "    </tr>\n",
       "    <tr>\n",
       "      <th>3</th>\n",
       "      <td>0.693147</td>\n",
       "      <td>0.000000</td>\n",
       "      <td>0.000000</td>\n",
       "      <td>0.000000</td>\n",
       "      <td>0.000000</td>\n",
       "      <td>0.000000</td>\n",
       "      <td>0.000000</td>\n",
       "      <td>0.693147</td>\n",
       "      <td>0.693147</td>\n",
       "    </tr>\n",
       "  </tbody>\n",
       "</table>\n",
       "</div>"
      ],
      "text/plain": [
       "        과일이        길고        노란        먹고       바나나        사과        싶은  \\\n",
       "0  0.000000  0.000000  0.000000  0.287682  0.000000  0.693147  0.287682   \n",
       "1  0.000000  0.000000  0.000000  0.287682  0.287682  0.000000  0.287682   \n",
       "2  0.000000  0.693147  0.693147  0.000000  0.575364  0.000000  0.000000   \n",
       "3  0.693147  0.000000  0.000000  0.000000  0.000000  0.000000  0.000000   \n",
       "\n",
       "         저는       좋아요  \n",
       "0  0.000000  0.000000  \n",
       "1  0.000000  0.000000  \n",
       "2  0.000000  0.000000  \n",
       "3  0.693147  0.693147  "
      ]
     },
     "execution_count": 20,
     "metadata": {},
     "output_type": "execute_result"
    }
   ],
   "source": [
    "df = pd.DataFrame(tfidf_list, columns=vocab)\n",
    "df\n",
    "\n",
    "\n",
    "# 역수 데이터"
   ]
  },
  {
   "cell_type": "code",
   "execution_count": null,
   "id": "56b5f3ad-d7ca-4c87-8972-baf279e1121f",
   "metadata": {},
   "outputs": [],
   "source": []
  },
  {
   "cell_type": "markdown",
   "id": "2c7b9fd7-4a85-4ad7-a6ee-46f0ccb535e7",
   "metadata": {
    "tags": []
   },
   "source": [
    "# sklearn.CountVectorizer() ★ 간편 - 단어 freq\n",
    "\n"
   ]
  },
  {
   "cell_type": "markdown",
   "id": "8cb889d8-5515-43a1-a230-b07f9652187a",
   "metadata": {},
   "source": [
    "## [실습]"
   ]
  },
  {
   "cell_type": "code",
   "execution_count": 21,
   "id": "3c3722f4-569c-46df-929b-756698dc0416",
   "metadata": {
    "tags": []
   },
   "outputs": [
    {
     "name": "stdout",
     "output_type": "stream",
     "text": [
      "[[0 0 0 1 0 1 1 0 0]\n",
      " [0 0 0 1 1 0 1 0 0]\n",
      " [0 1 1 0 2 0 0 0 0]\n",
      " [1 0 0 0 0 0 0 1 1]]\n",
      "{'먹고': 3, '싶은': 6, '사과': 5, '바나나': 4, '길고': 1, '노란': 2, '저는': 7, '과일이': 0, '좋아요': 8}\n"
     ]
    }
   ],
   "source": [
    "vector = CountVectorizer()\n",
    "\n",
    "\n",
    "# 코퍼스로부터 각 단어의 빈도수를 기록\n",
    "print(vector.fit_transform(corpus_list).toarray())\n",
    "\n",
    "\n",
    "# 각 단어와 맵핑된 인덱스 출력\n",
    "print(vector.vocabulary_)"
   ]
  },
  {
   "cell_type": "markdown",
   "id": "c2ea6262-c021-4b33-b31c-7c1d8a534a6d",
   "metadata": {
    "tags": []
   },
   "source": [
    "# sklearn. TfidfVectorizer() ★ 간편 - doc 중요도\n",
    "* from sklearn.feature_extraction.text import TfidfVectorizer\n",
    "* (IDF의 로그항의 분자에 1을 더해주며, 로그항에 1을 더해주고, TF-IDF에 L2 정규화라는 방법으로 값을 조정"
   ]
  },
  {
   "cell_type": "code",
   "execution_count": 22,
   "id": "09b42209-bae2-4c57-8a19-73ac226be4fe",
   "metadata": {
    "tags": []
   },
   "outputs": [],
   "source": [
    "corpus_list = ['먹고 싶은 사과',\n",
    "'먹고 싶은 바나나',\n",
    "'길고 노란 바나나 바나나',\n",
    "'저는 과일이 좋아요']\n",
    "\n",
    "#상위코드 참조 : 단어집 = vocab\n",
    "\n",
    "vocab = ['과일이', '길고', '노란', '먹고', '바나나', '사과', '싶은', '저는', '좋아요']"
   ]
  },
  {
   "cell_type": "code",
   "execution_count": 23,
   "id": "92e4ac5d-7942-44d5-b9d1-b68c057262c7",
   "metadata": {
    "tags": []
   },
   "outputs": [
    {
     "name": "stdout",
     "output_type": "stream",
     "text": [
      "[[0.         0.         0.         0.52640543 0.         0.66767854\n",
      "  0.52640543 0.         0.        ]\n",
      " [0.         0.         0.         0.57735027 0.57735027 0.\n",
      "  0.57735027 0.         0.        ]\n",
      " [0.         0.47212003 0.47212003 0.         0.7444497  0.\n",
      "  0.         0.         0.        ]\n",
      " [0.57735027 0.         0.         0.         0.         0.\n",
      "  0.         0.57735027 0.57735027]]\n",
      "{'먹고': 3, '싶은': 6, '사과': 5, '바나나': 4, '길고': 1, '노란': 2, '저는': 7, '과일이': 0, '좋아요': 8}\n"
     ]
    }
   ],
   "source": [
    "from sklearn.feature_extraction.text import TfidfVectorizer\n",
    "\n",
    "tfidfv = TfidfVectorizer().fit(corpus_list)\n",
    "\n",
    "\n",
    "print(tfidfv.transform(corpus_list).toarray()) #------ TF-IDF 계산\n",
    "\n",
    "print(tfidfv.vocabulary_) # ----  = vocab"
   ]
  },
  {
   "cell_type": "code",
   "execution_count": 24,
   "id": "a3a79e4f-fc2e-40b9-a7b4-53ef8528874f",
   "metadata": {
    "tags": []
   },
   "outputs": [
    {
     "data": {
      "text/html": [
       "<div>\n",
       "<style scoped>\n",
       "    .dataframe tbody tr th:only-of-type {\n",
       "        vertical-align: middle;\n",
       "    }\n",
       "\n",
       "    .dataframe tbody tr th {\n",
       "        vertical-align: top;\n",
       "    }\n",
       "\n",
       "    .dataframe thead th {\n",
       "        text-align: right;\n",
       "    }\n",
       "</style>\n",
       "<table border=\"1\" class=\"dataframe\">\n",
       "  <thead>\n",
       "    <tr style=\"text-align: right;\">\n",
       "      <th></th>\n",
       "      <th>먹고</th>\n",
       "      <th>싶은</th>\n",
       "      <th>사과</th>\n",
       "      <th>바나나</th>\n",
       "      <th>길고</th>\n",
       "      <th>노란</th>\n",
       "      <th>저는</th>\n",
       "      <th>과일이</th>\n",
       "      <th>좋아요</th>\n",
       "    </tr>\n",
       "  </thead>\n",
       "  <tbody>\n",
       "    <tr>\n",
       "      <th>0</th>\n",
       "      <td>0.00000</td>\n",
       "      <td>0.00000</td>\n",
       "      <td>0.00000</td>\n",
       "      <td>0.526405</td>\n",
       "      <td>0.00000</td>\n",
       "      <td>0.667679</td>\n",
       "      <td>0.526405</td>\n",
       "      <td>0.00000</td>\n",
       "      <td>0.00000</td>\n",
       "    </tr>\n",
       "    <tr>\n",
       "      <th>1</th>\n",
       "      <td>0.00000</td>\n",
       "      <td>0.00000</td>\n",
       "      <td>0.00000</td>\n",
       "      <td>0.577350</td>\n",
       "      <td>0.57735</td>\n",
       "      <td>0.000000</td>\n",
       "      <td>0.577350</td>\n",
       "      <td>0.00000</td>\n",
       "      <td>0.00000</td>\n",
       "    </tr>\n",
       "    <tr>\n",
       "      <th>2</th>\n",
       "      <td>0.00000</td>\n",
       "      <td>0.47212</td>\n",
       "      <td>0.47212</td>\n",
       "      <td>0.000000</td>\n",
       "      <td>0.74445</td>\n",
       "      <td>0.000000</td>\n",
       "      <td>0.000000</td>\n",
       "      <td>0.00000</td>\n",
       "      <td>0.00000</td>\n",
       "    </tr>\n",
       "    <tr>\n",
       "      <th>3</th>\n",
       "      <td>0.57735</td>\n",
       "      <td>0.00000</td>\n",
       "      <td>0.00000</td>\n",
       "      <td>0.000000</td>\n",
       "      <td>0.00000</td>\n",
       "      <td>0.000000</td>\n",
       "      <td>0.000000</td>\n",
       "      <td>0.57735</td>\n",
       "      <td>0.57735</td>\n",
       "    </tr>\n",
       "  </tbody>\n",
       "</table>\n",
       "</div>"
      ],
      "text/plain": [
       "        먹고       싶은       사과       바나나       길고        노란        저는      과일이  \\\n",
       "0  0.00000  0.00000  0.00000  0.526405  0.00000  0.667679  0.526405  0.00000   \n",
       "1  0.00000  0.00000  0.00000  0.577350  0.57735  0.000000  0.577350  0.00000   \n",
       "2  0.00000  0.47212  0.47212  0.000000  0.74445  0.000000  0.000000  0.00000   \n",
       "3  0.57735  0.00000  0.00000  0.000000  0.00000  0.000000  0.000000  0.57735   \n",
       "\n",
       "       좋아요  \n",
       "0  0.00000  \n",
       "1  0.00000  \n",
       "2  0.00000  \n",
       "3  0.57735  "
      ]
     },
     "execution_count": 24,
     "metadata": {},
     "output_type": "execute_result"
    }
   ],
   "source": [
    "tfdif_arr = tfidfv.transform(corpus_list).toarray()\n",
    "\n",
    "tfdif_df = pd.DataFrame(tfdif_arr, columns = tfidfv.vocabulary_.keys()) # 보카 키 값 이용해서 df 만들기\n",
    "\n",
    "tfdif_df"
   ]
  },
  {
   "cell_type": "code",
   "execution_count": null,
   "id": "f35b2262-7b4c-4ee4-9f76-8273642e55d2",
   "metadata": {},
   "outputs": [],
   "source": []
  },
  {
   "cell_type": "code",
   "execution_count": null,
   "id": "cdd30264-6986-4a30-943d-cd0e8d940950",
   "metadata": {},
   "outputs": [],
   "source": []
  },
  {
   "attachments": {
    "93789dc4-e11d-4fe4-915c-4de24fea2c72.png": {
     "image/png": "[encoded data removed]"
    }
   },
   "cell_type": "markdown",
   "id": "689ef0ed-8886-48bb-b913-e9a1f1ca0b42",
   "metadata": {},
   "source": [
    "# <b>코사인 유사도(Cosine Similarity)</b>\n",
    "* 벡터의 크기가 아니라 방향(패턴)에 초점\n",
    "\n",
    "![image.png](attachment:93789dc4-e11d-4fe4-915c-4de24fea2c72.png)\n",
    "\n",
    "\n",
    "* 뭐로든(word_index, DTM, ...) 수치로 코사인 유사도 비교하면 유사도 결과는 나온다.\n",
    "* <b>그러나 중요도를 확인하고 싶으면 TF-IDF 로 비교해야 한다.</b>"
   ]
  },
  {
   "cell_type": "markdown",
   "id": "62fc8557-54f6-4dd1-a9af-dc994b748f46",
   "metadata": {},
   "source": [
    "<img src=\"https://img1.daumcdn.net/thumb/R1280x0/?scode=mtistory2&fname=https%3A%2F%2Fblog.kakaocdn.net%2Fdn%2FbpLIxd%2Fbtq03F9AfHS%2FRTzzEkvHWvqQ5XfQh6rkY1%2Fimg.png\"><br>\n",
    "<img src=\"https://img1.daumcdn.net/thumb/R1280x0/?scode=mtistory2&fname=https%3A%2F%2Fblog.kakaocdn.net%2Fdn%2FbayZ5E%2Fbtq04KWSnlM%2FAkYrOmeom4jOCLv2fBf1HK%2Fimg.png\">"
   ]
  },
  {
   "cell_type": "markdown",
   "id": "a10d852d-9024-4362-8712-5916fffcf3a4",
   "metadata": {},
   "source": [
    "* 코사인 유사도 수작업 계산법"
   ]
  },
  {
   "cell_type": "code",
   "execution_count": 25,
   "id": "01c237e6-bc3c-4b23-abf6-e98952e56907",
   "metadata": {
    "tags": []
   },
   "outputs": [
    {
     "data": {
      "text/html": [
       "<div>\n",
       "<style scoped>\n",
       "    .dataframe tbody tr th:only-of-type {\n",
       "        vertical-align: middle;\n",
       "    }\n",
       "\n",
       "    .dataframe tbody tr th {\n",
       "        vertical-align: top;\n",
       "    }\n",
       "\n",
       "    .dataframe thead th {\n",
       "        text-align: right;\n",
       "    }\n",
       "</style>\n",
       "<table border=\"1\" class=\"dataframe\">\n",
       "  <thead>\n",
       "    <tr style=\"text-align: right;\">\n",
       "      <th></th>\n",
       "      <th>과일이</th>\n",
       "      <th>길고</th>\n",
       "      <th>노란</th>\n",
       "      <th>먹고</th>\n",
       "      <th>바나나</th>\n",
       "      <th>사과</th>\n",
       "      <th>싶은</th>\n",
       "      <th>저는</th>\n",
       "      <th>좋아요</th>\n",
       "    </tr>\n",
       "  </thead>\n",
       "  <tbody>\n",
       "    <tr>\n",
       "      <th>0</th>\n",
       "      <td>0.000000</td>\n",
       "      <td>0.000000</td>\n",
       "      <td>0.000000</td>\n",
       "      <td>0.287682</td>\n",
       "      <td>0.000000</td>\n",
       "      <td>0.693147</td>\n",
       "      <td>0.287682</td>\n",
       "      <td>0.000000</td>\n",
       "      <td>0.000000</td>\n",
       "    </tr>\n",
       "    <tr>\n",
       "      <th>1</th>\n",
       "      <td>0.000000</td>\n",
       "      <td>0.000000</td>\n",
       "      <td>0.000000</td>\n",
       "      <td>0.287682</td>\n",
       "      <td>0.287682</td>\n",
       "      <td>0.000000</td>\n",
       "      <td>0.287682</td>\n",
       "      <td>0.000000</td>\n",
       "      <td>0.000000</td>\n",
       "    </tr>\n",
       "    <tr>\n",
       "      <th>2</th>\n",
       "      <td>0.000000</td>\n",
       "      <td>0.693147</td>\n",
       "      <td>0.693147</td>\n",
       "      <td>0.000000</td>\n",
       "      <td>0.575364</td>\n",
       "      <td>0.000000</td>\n",
       "      <td>0.000000</td>\n",
       "      <td>0.000000</td>\n",
       "      <td>0.000000</td>\n",
       "    </tr>\n",
       "    <tr>\n",
       "      <th>3</th>\n",
       "      <td>0.693147</td>\n",
       "      <td>0.000000</td>\n",
       "      <td>0.000000</td>\n",
       "      <td>0.000000</td>\n",
       "      <td>0.000000</td>\n",
       "      <td>0.000000</td>\n",
       "      <td>0.000000</td>\n",
       "      <td>0.693147</td>\n",
       "      <td>0.693147</td>\n",
       "    </tr>\n",
       "  </tbody>\n",
       "</table>\n",
       "</div>"
      ],
      "text/plain": [
       "        과일이        길고        노란        먹고       바나나        사과        싶은  \\\n",
       "0  0.000000  0.000000  0.000000  0.287682  0.000000  0.693147  0.287682   \n",
       "1  0.000000  0.000000  0.000000  0.287682  0.287682  0.000000  0.287682   \n",
       "2  0.000000  0.693147  0.693147  0.000000  0.575364  0.000000  0.000000   \n",
       "3  0.693147  0.000000  0.000000  0.000000  0.000000  0.000000  0.000000   \n",
       "\n",
       "         저는       좋아요  \n",
       "0  0.000000  0.000000  \n",
       "1  0.000000  0.000000  \n",
       "2  0.000000  0.000000  \n",
       "3  0.693147  0.693147  "
      ]
     },
     "execution_count": 25,
     "metadata": {},
     "output_type": "execute_result"
    }
   ],
   "source": [
    "df = pd.DataFrame(tfidf_list, columns=vocab)\n",
    "df\n",
    "\n",
    "\n",
    "# 역수 데이터"
   ]
  },
  {
   "cell_type": "code",
   "execution_count": 26,
   "id": "e42a7ab2-fba1-4c3a-b640-d8ab6c67a2e8",
   "metadata": {
    "tags": []
   },
   "outputs": [
    {
     "data": {
      "text/plain": [
       "0.4133084876261022"
      ]
     },
     "execution_count": 26,
     "metadata": {},
     "output_type": "execute_result"
    }
   ],
   "source": [
    "A = df.loc[0].values\n",
    "B = df.loc[1].values\n",
    "# A, B\n",
    "res1 = np.dot(A, B)\n",
    "res2 = np.sqrt(np.sum(A**2)) * np.sqrt(np.sum(B**2))\n",
    "cs = res1 / res2\n",
    "cs\n",
    "\n",
    "# np.sqrt(np.sum(B**2)) 계산 원리 -------------\n",
    "# B_sum = 0\n",
    "# for b in B:\n",
    "#     B_sum +=  b**2\n",
    "# np.sqrt(B_sum)"
   ]
  },
  {
   "cell_type": "code",
   "execution_count": null,
   "id": "f6ea41b7-734f-4471-83bc-4a8c87658c1d",
   "metadata": {},
   "outputs": [],
   "source": []
  },
  {
   "cell_type": "markdown",
   "id": "8d5e853f-2b5d-4ffd-bcda-7f08fe6aac2a",
   "metadata": {},
   "source": [
    "## 공통함수"
   ]
  },
  {
   "cell_type": "code",
   "execution_count": 27,
   "id": "069cc78a-9bb2-4dea-9fb7-467700efce7c",
   "metadata": {
    "tags": []
   },
   "outputs": [
    {
     "name": "stdout",
     "output_type": "stream",
     "text": [
      "0.7071067811865476\n",
      "0.7071067811865476\n",
      "1.0000000000000002\n"
     ]
    }
   ],
   "source": [
    "import numpy as np\n",
    "from numpy.linalg import norm  #--정규화 ||A||\n",
    "#from numpy import dot\n",
    "\n",
    "def my_cos_sim(A,B):\n",
    "    cos_sim = np.dot(A, B) / (norm(A) * norm(B))\n",
    "    print(cos_sim)   \n",
    "    \n",
    "# sklearn...vectorize.. [1,2,3,]\n",
    "doc1 = [0,1,2,1]\n",
    "doc2 = [1,0,1,1]\n",
    "doc3 = [2,0,2,2]\n",
    "my_cos_sim(doc1,doc2)\n",
    "my_cos_sim(doc1,doc3)\n",
    "my_cos_sim(doc2,doc3)    "
   ]
  },
  {
   "cell_type": "markdown",
   "id": "e8e27caf-e66c-4a0c-b2c1-96c0ea1ba4a1",
   "metadata": {},
   "source": [
    "## 사용예"
   ]
  },
  {
   "cell_type": "code",
   "execution_count": 28,
   "id": "d1900d28-8ebe-425f-8941-8a5d7ad53d82",
   "metadata": {
    "tags": []
   },
   "outputs": [],
   "source": [
    "text_list = ['어제 비가 와서 날씨가 추워졌다.',\n",
    "            '나는 고양이를 좋아한다.',\n",
    "            '나는 강아지를 좋아한다.']"
   ]
  },
  {
   "cell_type": "code",
   "execution_count": 29,
   "id": "f4e53c19-285b-4c10-990a-05f871734698",
   "metadata": {
    "tags": []
   },
   "outputs": [
    {
     "name": "stdout",
     "output_type": "stream",
     "text": [
      "[[0 0 0 1 1 1 1 0 1]\n",
      " [0 1 1 0 0 0 0 1 0]\n",
      " [1 0 1 0 0 0 0 1 0]] dict_keys(['어제', '비가', '와서', '날씨가', '추워졌다', '나는', '고양이를', '좋아한다', '강아지를'])\n"
     ]
    }
   ],
   "source": [
    "Bow = vector.fit_transform(text_list).toarray()\n",
    "\n",
    "text_col = vector.vocabulary_\n",
    "\n",
    "\n",
    "text_key = text_col.keys()\n",
    "print(Bow, text_key)"
   ]
  },
  {
   "cell_type": "code",
   "execution_count": 30,
   "id": "1c0dbfdb-5a6b-430e-a763-19e912026afc",
   "metadata": {
    "tags": []
   },
   "outputs": [
    {
     "data": {
      "text/html": [
       "<div>\n",
       "<style scoped>\n",
       "    .dataframe tbody tr th:only-of-type {\n",
       "        vertical-align: middle;\n",
       "    }\n",
       "\n",
       "    .dataframe tbody tr th {\n",
       "        vertical-align: top;\n",
       "    }\n",
       "\n",
       "    .dataframe thead th {\n",
       "        text-align: right;\n",
       "    }\n",
       "</style>\n",
       "<table border=\"1\" class=\"dataframe\">\n",
       "  <thead>\n",
       "    <tr style=\"text-align: right;\">\n",
       "      <th></th>\n",
       "      <th>어제</th>\n",
       "      <th>비가</th>\n",
       "      <th>와서</th>\n",
       "      <th>날씨가</th>\n",
       "      <th>추워졌다</th>\n",
       "      <th>나는</th>\n",
       "      <th>고양이를</th>\n",
       "      <th>좋아한다</th>\n",
       "      <th>강아지를</th>\n",
       "    </tr>\n",
       "  </thead>\n",
       "  <tbody>\n",
       "    <tr>\n",
       "      <th>0</th>\n",
       "      <td>0</td>\n",
       "      <td>0</td>\n",
       "      <td>0</td>\n",
       "      <td>1</td>\n",
       "      <td>1</td>\n",
       "      <td>1</td>\n",
       "      <td>1</td>\n",
       "      <td>0</td>\n",
       "      <td>1</td>\n",
       "    </tr>\n",
       "    <tr>\n",
       "      <th>1</th>\n",
       "      <td>0</td>\n",
       "      <td>1</td>\n",
       "      <td>1</td>\n",
       "      <td>0</td>\n",
       "      <td>0</td>\n",
       "      <td>0</td>\n",
       "      <td>0</td>\n",
       "      <td>1</td>\n",
       "      <td>0</td>\n",
       "    </tr>\n",
       "    <tr>\n",
       "      <th>2</th>\n",
       "      <td>1</td>\n",
       "      <td>0</td>\n",
       "      <td>1</td>\n",
       "      <td>0</td>\n",
       "      <td>0</td>\n",
       "      <td>0</td>\n",
       "      <td>0</td>\n",
       "      <td>1</td>\n",
       "      <td>0</td>\n",
       "    </tr>\n",
       "  </tbody>\n",
       "</table>\n",
       "</div>"
      ],
      "text/plain": [
       "   어제  비가  와서  날씨가  추워졌다  나는  고양이를  좋아한다  강아지를\n",
       "0   0   0   0    1     1   1     1     0     1\n",
       "1   0   1   1    0     0   0     0     1     0\n",
       "2   1   0   1    0     0   0     0     1     0"
      ]
     },
     "execution_count": 30,
     "metadata": {},
     "output_type": "execute_result"
    }
   ],
   "source": [
    "cos_df = pd.DataFrame(Bow, columns =text_key )\n",
    "cos_df"
   ]
  },
  {
   "cell_type": "code",
   "execution_count": 31,
   "id": "6ea3daee-32b9-4e10-898d-9b09476f5acf",
   "metadata": {
    "tags": []
   },
   "outputs": [
    {
     "name": "stdout",
     "output_type": "stream",
     "text": [
      "[[0.         0.         0.         0.4472136  0.4472136  0.4472136\n",
      "  0.4472136  0.         0.4472136 ]\n",
      " [0.         0.68091856 0.51785612 0.         0.         0.\n",
      "  0.         0.51785612 0.        ]\n",
      " [0.68091856 0.         0.51785612 0.         0.         0.\n",
      "  0.         0.51785612 0.        ]]\n",
      "{'어제': 5, '비가': 4, '와서': 6, '날씨가': 3, '추워졌다': 8, '나는': 2, '고양이를': 1, '좋아한다': 7, '강아지를': 0}\n"
     ]
    }
   ],
   "source": [
    "tfidfv = TfidfVectorizer().fit(text_list)\n",
    "\n",
    "\n",
    "print(tfidfv.transform(text_list).toarray()) #------ TF-IDF 계산\n",
    "\n",
    "print(tfidfv.vocabulary_)"
   ]
  },
  {
   "cell_type": "code",
   "execution_count": 32,
   "id": "1940b0fd-5fc0-4e3d-bcc4-a1159cc69e72",
   "metadata": {
    "tags": []
   },
   "outputs": [
    {
     "data": {
      "text/html": [
       "<div>\n",
       "<style scoped>\n",
       "    .dataframe tbody tr th:only-of-type {\n",
       "        vertical-align: middle;\n",
       "    }\n",
       "\n",
       "    .dataframe tbody tr th {\n",
       "        vertical-align: top;\n",
       "    }\n",
       "\n",
       "    .dataframe thead th {\n",
       "        text-align: right;\n",
       "    }\n",
       "</style>\n",
       "<table border=\"1\" class=\"dataframe\">\n",
       "  <thead>\n",
       "    <tr style=\"text-align: right;\">\n",
       "      <th></th>\n",
       "      <th>어제</th>\n",
       "      <th>비가</th>\n",
       "      <th>와서</th>\n",
       "      <th>날씨가</th>\n",
       "      <th>추워졌다</th>\n",
       "      <th>나는</th>\n",
       "      <th>고양이를</th>\n",
       "      <th>좋아한다</th>\n",
       "      <th>강아지를</th>\n",
       "    </tr>\n",
       "  </thead>\n",
       "  <tbody>\n",
       "    <tr>\n",
       "      <th>0</th>\n",
       "      <td>0.000000</td>\n",
       "      <td>0.000000</td>\n",
       "      <td>0.000000</td>\n",
       "      <td>0.447214</td>\n",
       "      <td>0.447214</td>\n",
       "      <td>0.447214</td>\n",
       "      <td>0.447214</td>\n",
       "      <td>0.000000</td>\n",
       "      <td>0.447214</td>\n",
       "    </tr>\n",
       "    <tr>\n",
       "      <th>1</th>\n",
       "      <td>0.000000</td>\n",
       "      <td>0.680919</td>\n",
       "      <td>0.517856</td>\n",
       "      <td>0.000000</td>\n",
       "      <td>0.000000</td>\n",
       "      <td>0.000000</td>\n",
       "      <td>0.000000</td>\n",
       "      <td>0.517856</td>\n",
       "      <td>0.000000</td>\n",
       "    </tr>\n",
       "    <tr>\n",
       "      <th>2</th>\n",
       "      <td>0.680919</td>\n",
       "      <td>0.000000</td>\n",
       "      <td>0.517856</td>\n",
       "      <td>0.000000</td>\n",
       "      <td>0.000000</td>\n",
       "      <td>0.000000</td>\n",
       "      <td>0.000000</td>\n",
       "      <td>0.517856</td>\n",
       "      <td>0.000000</td>\n",
       "    </tr>\n",
       "  </tbody>\n",
       "</table>\n",
       "</div>"
      ],
      "text/plain": [
       "         어제        비가        와서       날씨가      추워졌다        나는      고양이를  \\\n",
       "0  0.000000  0.000000  0.000000  0.447214  0.447214  0.447214  0.447214   \n",
       "1  0.000000  0.680919  0.517856  0.000000  0.000000  0.000000  0.000000   \n",
       "2  0.680919  0.000000  0.517856  0.000000  0.000000  0.000000  0.000000   \n",
       "\n",
       "       좋아한다      강아지를  \n",
       "0  0.000000  0.447214  \n",
       "1  0.517856  0.000000  \n",
       "2  0.517856  0.000000  "
      ]
     },
     "execution_count": 32,
     "metadata": {},
     "output_type": "execute_result"
    }
   ],
   "source": [
    "tfdif_arr = tfidfv.transform(text_list).toarray()\n",
    "\n",
    "tfdif_df = pd.DataFrame(tfdif_arr, columns = tfidfv.vocabulary_.keys()) # 보카 키 값 이용해서 df 만들기\n",
    "\n",
    "tfdif_df"
   ]
  },
  {
   "cell_type": "code",
   "execution_count": 33,
   "id": "8174a31f-54d1-4cc9-998e-128eb5181d99",
   "metadata": {
    "tags": []
   },
   "outputs": [],
   "source": [
    "# A = tfdif_df.loc[0].values\n",
    "# B = tfdif_df.loc[1].values\n",
    "# C = tfdif_df.loc[2].values\n",
    "# # A, B\n",
    "\n",
    "# for i, tfdif in enumerate(tfdif_df)\n",
    "# res1 = np.dot(B, C)\n",
    "# res2 = np.sqrt(np.sum(B**2)) * np.sqrt(np.sum(C**2))\n",
    "# cs = res1 / res2\n",
    "# cs\n"
   ]
  },
  {
   "cell_type": "markdown",
   "id": "cdd923a2-514b-4a29-941c-747da7578fcd",
   "metadata": {},
   "source": [
    "## [실습] 영화 추천 시스템\n",
    "\n",
    "- datasets : https://www.kaggle.com/datasets/rounakbanik/the-movies-dataset\n",
    "- https://wikidocs.net/24603 교재"
   ]
  },
  {
   "attachments": {
    "3255e5db-598f-451e-9499-18d99d57d8f1.png": {
     "image/png": "[encoded data removed]"
    }
   },
   "cell_type": "markdown",
   "id": "6b3d0e2e-9f2b-4f66-97dc-099acb747364",
   "metadata": {},
   "source": [
    "![image.png](attachment:3255e5db-598f-451e-9499-18d99d57d8f1.png)"
   ]
  },
  {
   "cell_type": "code",
   "execution_count": 34,
   "id": "eeec4219-464c-49b0-87ed-5373ab9e63b1",
   "metadata": {
    "tags": []
   },
   "outputs": [
    {
     "data": {
      "text/html": [
       "<div>\n",
       "<style scoped>\n",
       "    .dataframe tbody tr th:only-of-type {\n",
       "        vertical-align: middle;\n",
       "    }\n",
       "\n",
       "    .dataframe tbody tr th {\n",
       "        vertical-align: top;\n",
       "    }\n",
       "\n",
       "    .dataframe thead th {\n",
       "        text-align: right;\n",
       "    }\n",
       "</style>\n",
       "<table border=\"1\" class=\"dataframe\">\n",
       "  <thead>\n",
       "    <tr style=\"text-align: right;\">\n",
       "      <th></th>\n",
       "      <th>adult</th>\n",
       "      <th>belongs_to_collection</th>\n",
       "      <th>budget</th>\n",
       "      <th>genres</th>\n",
       "      <th>homepage</th>\n",
       "      <th>id</th>\n",
       "      <th>imdb_id</th>\n",
       "      <th>original_language</th>\n",
       "      <th>original_title</th>\n",
       "      <th>overview</th>\n",
       "      <th>popularity</th>\n",
       "      <th>poster_path</th>\n",
       "      <th>production_companies</th>\n",
       "      <th>production_countries</th>\n",
       "      <th>release_date</th>\n",
       "      <th>revenue</th>\n",
       "      <th>runtime</th>\n",
       "      <th>spoken_languages</th>\n",
       "      <th>status</th>\n",
       "      <th>tagline</th>\n",
       "      <th>title</th>\n",
       "      <th>video</th>\n",
       "      <th>vote_average</th>\n",
       "      <th>vote_count</th>\n",
       "    </tr>\n",
       "  </thead>\n",
       "  <tbody>\n",
       "    <tr>\n",
       "      <th>0</th>\n",
       "      <td>False</td>\n",
       "      <td>{'id': 10194, 'name': 'Toy Story Collection', 'poster_path': '/7G9915LfUQ2lVfwMEEhDsn3kT4B.jpg', 'backdrop_path': '/9FBwqcd9IRruEDUrTdcaafOMKUq.jpg'}</td>\n",
       "      <td>30000000</td>\n",
       "      <td>[{'id': 16, 'name': 'Animation'}, {'id': 35, 'name': 'Comedy'}, {'id': 10751, 'name': 'Family'}]</td>\n",
       "      <td>http://toystory.disney.com/toy-story</td>\n",
       "      <td>862</td>\n",
       "      <td>tt0114709</td>\n",
       "      <td>en</td>\n",
       "      <td>Toy Story</td>\n",
       "      <td>Led by Woody, Andy's toys live happily in his room until Andy's birthday brings Buzz Lightyear onto the scene. Afraid of losing his place in Andy's heart, Woody plots against Buzz. But when circumstances separate Buzz and Woody from their owner, the duo eventually learns to put aside their differences.</td>\n",
       "      <td>21.946943</td>\n",
       "      <td>/rhIRbceoE9lR4veEXuwCC2wARtG.jpg</td>\n",
       "      <td>[{'name': 'Pixar Animation Studios', 'id': 3}]</td>\n",
       "      <td>[{'iso_3166_1': 'US', 'name': 'United States of America'}]</td>\n",
       "      <td>1995-10-30</td>\n",
       "      <td>373554033.0</td>\n",
       "      <td>81.0</td>\n",
       "      <td>[{'iso_639_1': 'en', 'name': 'English'}]</td>\n",
       "      <td>Released</td>\n",
       "      <td>NaN</td>\n",
       "      <td>Toy Story</td>\n",
       "      <td>False</td>\n",
       "      <td>7.7</td>\n",
       "      <td>5415.0</td>\n",
       "    </tr>\n",
       "  </tbody>\n",
       "</table>\n",
       "</div>"
      ],
      "text/plain": [
       "   adult  \\\n",
       "0  False   \n",
       "\n",
       "                                                                                                                                   belongs_to_collection  \\\n",
       "0  {'id': 10194, 'name': 'Toy Story Collection', 'poster_path': '/7G9915LfUQ2lVfwMEEhDsn3kT4B.jpg', 'backdrop_path': '/9FBwqcd9IRruEDUrTdcaafOMKUq.jpg'}   \n",
       "\n",
       "     budget  \\\n",
       "0  30000000   \n",
       "\n",
       "                                                                                             genres  \\\n",
       "0  [{'id': 16, 'name': 'Animation'}, {'id': 35, 'name': 'Comedy'}, {'id': 10751, 'name': 'Family'}]   \n",
       "\n",
       "                               homepage   id    imdb_id original_language  \\\n",
       "0  http://toystory.disney.com/toy-story  862  tt0114709                en   \n",
       "\n",
       "  original_title  \\\n",
       "0      Toy Story   \n",
       "\n",
       "                                                                                                                                                                                                                                                                                                          overview  \\\n",
       "0  Led by Woody, Andy's toys live happily in his room until Andy's birthday brings Buzz Lightyear onto the scene. Afraid of losing his place in Andy's heart, Woody plots against Buzz. But when circumstances separate Buzz and Woody from their owner, the duo eventually learns to put aside their differences.   \n",
       "\n",
       "  popularity                       poster_path  \\\n",
       "0  21.946943  /rhIRbceoE9lR4veEXuwCC2wARtG.jpg   \n",
       "\n",
       "                             production_companies  \\\n",
       "0  [{'name': 'Pixar Animation Studios', 'id': 3}]   \n",
       "\n",
       "                                         production_countries release_date  \\\n",
       "0  [{'iso_3166_1': 'US', 'name': 'United States of America'}]   1995-10-30   \n",
       "\n",
       "       revenue  runtime                          spoken_languages    status  \\\n",
       "0  373554033.0     81.0  [{'iso_639_1': 'en', 'name': 'English'}]  Released   \n",
       "\n",
       "  tagline      title  video  vote_average  vote_count  \n",
       "0     NaN  Toy Story  False           7.7      5415.0  "
      ]
     },
     "execution_count": 34,
     "metadata": {},
     "output_type": "execute_result"
    }
   ],
   "source": [
    "data = pd.read_csv('./datasets/movies_metadata.csv')[:20000]\n",
    "data.head(1)\n"
   ]
  },
  {
   "cell_type": "markdown",
   "id": "4cd18f80-e0d5-49d4-a848-bbc2f6ceba0e",
   "metadata": {},
   "source": [
    "## 결측처리"
   ]
  },
  {
   "cell_type": "code",
   "execution_count": 35,
   "id": "7ebf4026-9bc4-4cb5-b5fc-95cd986baca7",
   "metadata": {
    "tags": []
   },
   "outputs": [
    {
     "name": "stdout",
     "output_type": "stream",
     "text": [
      "overview 열의 결측값의 수: 135\n"
     ]
    }
   ],
   "source": [
    "# overview 열에 존재하는 모든 결측값을 전부 카운트하여 출력\n",
    "print('overview 열의 결측값의 수:',data['overview'].isnull().sum())\n",
    "\n",
    "data['overview'] = data['overview'].fillna('')"
   ]
  },
  {
   "cell_type": "markdown",
   "id": "6e5f31d1-09e7-4df4-b4d5-92ec949313ca",
   "metadata": {
    "tags": []
   },
   "source": [
    "* import"
   ]
  },
  {
   "cell_type": "code",
   "execution_count": 36,
   "id": "f09a9fc3-7390-449e-98b0-ec7c9e87cf2d",
   "metadata": {
    "tags": []
   },
   "outputs": [],
   "source": [
    "import numpy as np\n",
    "import pandas as pd\n",
    "from keras.preprocessing.text import Tokenizer\n",
    "from tensorflow.keras.utils import pad_sequences\n",
    "from sklearn.feature_extraction.text import TfidfVectorizer\n",
    "from sklearn.feature_extraction.text import CountVectorizer"
   ]
  },
  {
   "cell_type": "code",
   "execution_count": 37,
   "id": "8380fd2d-13d3-4a72-bd02-2f409d9eb861",
   "metadata": {
    "tags": []
   },
   "outputs": [
    {
     "name": "stdout",
     "output_type": "stream",
     "text": [
      "TF-IDF 행렬의 크기(shape) : (20000, 47487)\n"
     ]
    }
   ],
   "source": [
    "tfidf = TfidfVectorizer(stop_words='english')\n",
    "tfidf_matrix = tfidf.fit_transform(data['overview'])\n",
    "print('TF-IDF 행렬의 크기(shape) :',tfidf_matrix.shape)"
   ]
  },
  {
   "cell_type": "markdown",
   "id": "990d6870-145a-40c4-b770-70c0d845bda7",
   "metadata": {},
   "source": [
    "## voca 확인하기"
   ]
  },
  {
   "cell_type": "code",
   "execution_count": 38,
   "id": "dca72d3f-7b27-4699-bf7d-6f868d75eb7d",
   "metadata": {
    "tags": []
   },
   "outputs": [],
   "source": [
    "# print(tfidf.vocabulary_)\n",
    "\n",
    "#{'led': 24361, 'woody': 46617, 'andy': 2051, 'toys': 43131,...."
   ]
  },
  {
   "cell_type": "code",
   "execution_count": 39,
   "id": "820b2176-40b1-4db4-9980-1d2aac661346",
   "metadata": {
    "tags": []
   },
   "outputs": [],
   "source": [
    "from sklearn.metrics.pairwise import cosine_similarity"
   ]
  },
  {
   "cell_type": "code",
   "execution_count": 40,
   "id": "fd40b509-f948-491e-9c43-45c34a70de18",
   "metadata": {
    "tags": []
   },
   "outputs": [
    {
     "name": "stdout",
     "output_type": "stream",
     "text": [
      "코사인 유사도 연산 결과 : (20000, 20000)\n"
     ]
    }
   ],
   "source": [
    "cosine_sim = cosine_similarity(tfidf_matrix, tfidf_matrix)\n",
    "print('코사인 유사도 연산 결과 :',cosine_sim.shape)"
   ]
  },
  {
   "cell_type": "code",
   "execution_count": 41,
   "id": "9adcb66f-2cfc-4f7b-9538-aa259444a51c",
   "metadata": {
    "tags": []
   },
   "outputs": [
    {
     "data": {
      "text/plain": [
       "[('a', 0), ('b', 1)]"
      ]
     },
     "execution_count": 41,
     "metadata": {},
     "output_type": "execute_result"
    }
   ],
   "source": [
    "list(zip(['a','b'],[0,1]))"
   ]
  },
  {
   "cell_type": "code",
   "execution_count": 42,
   "id": "e62447d8-52b8-424e-aa93-c4eb183dc1a0",
   "metadata": {
    "tags": []
   },
   "outputs": [
    {
     "name": "stdout",
     "output_type": "stream",
     "text": [
      "4\n"
     ]
    }
   ],
   "source": [
    "# movie_dic = {'영화제목':영화의인덱스}\n",
    "title_to_index = dict(zip(data['title'], data.index)) # zip : 같은 인덱스끼리 묶어준다.\n",
    "\n",
    "# 영화 제목 Father of the Bride Part II의 인덱스를 리턴\n",
    "idx = title_to_index['Father of the Bride Part II'] # title_to_index에 제목 넣으면 인덱스 뭔지 알려줄게\n",
    "print(idx)"
   ]
  },
  {
   "cell_type": "code",
   "execution_count": 43,
   "id": "737fe16e-e851-44e5-b899-84c7bdd43025",
   "metadata": {
    "tags": []
   },
   "outputs": [
    {
     "data": {
      "text/plain": [
       "'Father of the Bride Part II'"
      ]
     },
     "execution_count": 43,
     "metadata": {},
     "output_type": "execute_result"
    }
   ],
   "source": [
    "data.loc[4, 'title'] #4번 인덱스 타이틀 조회"
   ]
  },
  {
   "cell_type": "markdown",
   "id": "195cfb63-5e63-41b0-970c-5d5d07b85e1f",
   "metadata": {},
   "source": [
    "## 영화제목 넣으면 코사인 유사도 top 10 리턴"
   ]
  },
  {
   "cell_type": "code",
   "execution_count": null,
   "id": "95b8316f-bf04-43d8-9726-adc05ce7aff4",
   "metadata": {},
   "outputs": [],
   "source": []
  },
  {
   "cell_type": "code",
   "execution_count": 44,
   "id": "e6dfeed9-4f98-4c47-8ea7-0e01bbad8587",
   "metadata": {
    "tags": []
   },
   "outputs": [],
   "source": [
    "df = pd.DataFrame(cosine_sim, columns =data['title'].values , index = data['title'].values)"
   ]
  },
  {
   "cell_type": "code",
   "execution_count": 45,
   "id": "8e4155e7-6605-4c2e-a281-a10fb10f2170",
   "metadata": {
    "tags": []
   },
   "outputs": [
    {
     "data": {
      "text/html": [
       "<div>\n",
       "<style scoped>\n",
       "    .dataframe tbody tr th:only-of-type {\n",
       "        vertical-align: middle;\n",
       "    }\n",
       "\n",
       "    .dataframe tbody tr th {\n",
       "        vertical-align: top;\n",
       "    }\n",
       "\n",
       "    .dataframe thead th {\n",
       "        text-align: right;\n",
       "    }\n",
       "</style>\n",
       "<table border=\"1\" class=\"dataframe\">\n",
       "  <thead>\n",
       "    <tr style=\"text-align: right;\">\n",
       "      <th></th>\n",
       "      <th>Toy Story</th>\n",
       "      <th>Jumanji</th>\n",
       "      <th>Grumpier Old Men</th>\n",
       "      <th>Waiting to Exhale</th>\n",
       "      <th>Father of the Bride Part II</th>\n",
       "      <th>Heat</th>\n",
       "      <th>Sabrina</th>\n",
       "      <th>Tom and Huck</th>\n",
       "      <th>Sudden Death</th>\n",
       "      <th>GoldenEye</th>\n",
       "      <th>The American President</th>\n",
       "      <th>Dracula: Dead and Loving It</th>\n",
       "      <th>Balto</th>\n",
       "      <th>Nixon</th>\n",
       "      <th>Cutthroat Island</th>\n",
       "      <th>Casino</th>\n",
       "      <th>Sense and Sensibility</th>\n",
       "      <th>Four Rooms</th>\n",
       "      <th>Ace Ventura: When Nature Calls</th>\n",
       "      <th>Money Train</th>\n",
       "      <th>Get Shorty</th>\n",
       "      <th>Copycat</th>\n",
       "      <th>Assassins</th>\n",
       "      <th>Powder</th>\n",
       "      <th>Leaving Las Vegas</th>\n",
       "      <th>Othello</th>\n",
       "      <th>Now and Then</th>\n",
       "      <th>Persuasion</th>\n",
       "      <th>The City of Lost Children</th>\n",
       "      <th>Shanghai Triad</th>\n",
       "      <th>Dangerous Minds</th>\n",
       "      <th>Twelve Monkeys</th>\n",
       "      <th>Wings of Courage</th>\n",
       "      <th>Babe</th>\n",
       "      <th>Carrington</th>\n",
       "      <th>Dead Man Walking</th>\n",
       "      <th>Across the Sea of Time</th>\n",
       "      <th>It Takes Two</th>\n",
       "      <th>Clueless</th>\n",
       "      <th>Cry, the Beloved Country</th>\n",
       "      <th>Richard III</th>\n",
       "      <th>Dead Presidents</th>\n",
       "      <th>Restoration</th>\n",
       "      <th>Mortal Kombat</th>\n",
       "      <th>To Die For</th>\n",
       "      <th>How To Make An American Quilt</th>\n",
       "      <th>Se7en</th>\n",
       "      <th>Pocahontas</th>\n",
       "      <th>When Night Is Falling</th>\n",
       "      <th>The Usual Suspects</th>\n",
       "      <th>...</th>\n",
       "      <th>Kiss and Tell</th>\n",
       "      <th>Oui, mais...</th>\n",
       "      <th>Space Adventure Cobra</th>\n",
       "      <th>L'aventure c'est l'aventure</th>\n",
       "      <th>A Season for Miracles</th>\n",
       "      <th>The Awful Truth</th>\n",
       "      <th>1911</th>\n",
       "      <th>Looking for Jackie</th>\n",
       "      <th>The Shaolin Temple</th>\n",
       "      <th>Shaolin Temple 2: Kids from Shaolin</th>\n",
       "      <th>Carol Channing: Larger Than Life</th>\n",
       "      <th>Memory</th>\n",
       "      <th>Martial Arts of Shaolin</th>\n",
       "      <th>Snowmageddon</th>\n",
       "      <th>Stand Up and Fight</th>\n",
       "      <th>Jazz</th>\n",
       "      <th>Barbara</th>\n",
       "      <th>A Liar's Autobiography: The Untrue Story of Monty Python's Graham Chapman</th>\n",
       "      <th>Little Miss Broadway</th>\n",
       "      <th>Miss Annie Rooney</th>\n",
       "      <th>Mr. Belvedere Goes to College</th>\n",
       "      <th>The Hobbit: An Unexpected Journey</th>\n",
       "      <th>Mon Paradis - Der Winterpalast</th>\n",
       "      <th>No Flesh Shall Be Spared</th>\n",
       "      <th>I am Von Höfler Variation on Werther</th>\n",
       "      <th>Born to Defend</th>\n",
       "      <th>Dragon Fight</th>\n",
       "      <th>The Master</th>\n",
       "      <th>Kung Fu Cult Master</th>\n",
       "      <th>The Fitzgerald Family Christmas</th>\n",
       "      <th>Hyde Park on Hudson</th>\n",
       "      <th>Lay the Favorite</th>\n",
       "      <th>Audition/Talent Competition</th>\n",
       "      <th>All's Faire in Love</th>\n",
       "      <th>Crooked Arrows</th>\n",
       "      <th>The Enforcer</th>\n",
       "      <th>Dr. Wai in the Scriptures with No Words</th>\n",
       "      <th>Once Upon a Time in China and America</th>\n",
       "      <th>Contract Killer</th>\n",
       "      <th>The Executor</th>\n",
       "      <th>Never Say... Never!</th>\n",
       "      <th>Calmos</th>\n",
       "      <th>How to Make Love to a Woman</th>\n",
       "      <th>After Fall, Winter</th>\n",
       "      <th>Violeta Went to Heaven</th>\n",
       "      <th>Rebellion</th>\n",
       "      <th>Versailles</th>\n",
       "      <th>Two in the Wave</th>\n",
       "      <th>Lotte Reiniger: Homage to the Inventor of the Silhouette Film</th>\n",
       "      <th>RKO Production 601: The Making of 'Kong, the Eighth Wonder of the World'</th>\n",
       "    </tr>\n",
       "  </thead>\n",
       "  <tbody>\n",
       "    <tr>\n",
       "      <th>Toy Story</th>\n",
       "      <td>1.000000</td>\n",
       "      <td>0.015757</td>\n",
       "      <td>0.000000</td>\n",
       "      <td>0.0</td>\n",
       "      <td>0.0</td>\n",
       "      <td>0.00000</td>\n",
       "      <td>0.0</td>\n",
       "      <td>0.0</td>\n",
       "      <td>0.000000</td>\n",
       "      <td>0.0</td>\n",
       "      <td>0.000000</td>\n",
       "      <td>0.0</td>\n",
       "      <td>0.0</td>\n",
       "      <td>0.000000</td>\n",
       "      <td>0.0</td>\n",
       "      <td>0.0</td>\n",
       "      <td>0.0</td>\n",
       "      <td>0.041140</td>\n",
       "      <td>0.0</td>\n",
       "      <td>0.0</td>\n",
       "      <td>0.009941</td>\n",
       "      <td>0.0</td>\n",
       "      <td>0.000000</td>\n",
       "      <td>0.0</td>\n",
       "      <td>0.0</td>\n",
       "      <td>0.000000</td>\n",
       "      <td>0.000000</td>\n",
       "      <td>0.000000</td>\n",
       "      <td>0.0</td>\n",
       "      <td>0.0</td>\n",
       "      <td>0.0</td>\n",
       "      <td>0.00000</td>\n",
       "      <td>0.0</td>\n",
       "      <td>0.019831</td>\n",
       "      <td>0.000000</td>\n",
       "      <td>0.0</td>\n",
       "      <td>0.0</td>\n",
       "      <td>0.0</td>\n",
       "      <td>0.0</td>\n",
       "      <td>0.0</td>\n",
       "      <td>0.0</td>\n",
       "      <td>0.0</td>\n",
       "      <td>0.006348</td>\n",
       "      <td>0.000000</td>\n",
       "      <td>0.0</td>\n",
       "      <td>0.009321</td>\n",
       "      <td>0.00000</td>\n",
       "      <td>0.000000</td>\n",
       "      <td>0.0</td>\n",
       "      <td>0.013822</td>\n",
       "      <td>...</td>\n",
       "      <td>0.0</td>\n",
       "      <td>0.0</td>\n",
       "      <td>0.011365</td>\n",
       "      <td>0.0</td>\n",
       "      <td>0.0</td>\n",
       "      <td>0.0</td>\n",
       "      <td>0.011791</td>\n",
       "      <td>0.014688</td>\n",
       "      <td>0.013539</td>\n",
       "      <td>0.007355</td>\n",
       "      <td>0.011161</td>\n",
       "      <td>0.0</td>\n",
       "      <td>0.01452</td>\n",
       "      <td>0.000000</td>\n",
       "      <td>0.000000</td>\n",
       "      <td>0.0</td>\n",
       "      <td>0.000000</td>\n",
       "      <td>0.0</td>\n",
       "      <td>0.019853</td>\n",
       "      <td>0.027106</td>\n",
       "      <td>0.0</td>\n",
       "      <td>0.0</td>\n",
       "      <td>0.0</td>\n",
       "      <td>0.0</td>\n",
       "      <td>0.000000</td>\n",
       "      <td>0.00000</td>\n",
       "      <td>0.117982</td>\n",
       "      <td>0.0</td>\n",
       "      <td>0.0</td>\n",
       "      <td>0.000000</td>\n",
       "      <td>0.0</td>\n",
       "      <td>0.0</td>\n",
       "      <td>0.0</td>\n",
       "      <td>0.000000</td>\n",
       "      <td>0.0</td>\n",
       "      <td>0.0</td>\n",
       "      <td>0.0</td>\n",
       "      <td>0.0</td>\n",
       "      <td>0.0</td>\n",
       "      <td>0.0</td>\n",
       "      <td>0.000000</td>\n",
       "      <td>0.009979</td>\n",
       "      <td>0.060997</td>\n",
       "      <td>0.000000</td>\n",
       "      <td>0.0</td>\n",
       "      <td>0.0</td>\n",
       "      <td>0.024585</td>\n",
       "      <td>0.0</td>\n",
       "      <td>0.0</td>\n",
       "      <td>0.0</td>\n",
       "    </tr>\n",
       "    <tr>\n",
       "      <th>Jumanji</th>\n",
       "      <td>0.015757</td>\n",
       "      <td>1.000000</td>\n",
       "      <td>0.049073</td>\n",
       "      <td>0.0</td>\n",
       "      <td>0.0</td>\n",
       "      <td>0.05183</td>\n",
       "      <td>0.0</td>\n",
       "      <td>0.0</td>\n",
       "      <td>0.106355</td>\n",
       "      <td>0.0</td>\n",
       "      <td>0.007616</td>\n",
       "      <td>0.0</td>\n",
       "      <td>0.0</td>\n",
       "      <td>0.008233</td>\n",
       "      <td>0.0</td>\n",
       "      <td>0.0</td>\n",
       "      <td>0.0</td>\n",
       "      <td>0.028753</td>\n",
       "      <td>0.0</td>\n",
       "      <td>0.0</td>\n",
       "      <td>0.000000</td>\n",
       "      <td>0.0</td>\n",
       "      <td>0.006043</td>\n",
       "      <td>0.0</td>\n",
       "      <td>0.0</td>\n",
       "      <td>0.024285</td>\n",
       "      <td>0.024941</td>\n",
       "      <td>0.006489</td>\n",
       "      <td>0.0</td>\n",
       "      <td>0.0</td>\n",
       "      <td>0.0</td>\n",
       "      <td>0.04725</td>\n",
       "      <td>0.0</td>\n",
       "      <td>0.005560</td>\n",
       "      <td>0.004326</td>\n",
       "      <td>0.0</td>\n",
       "      <td>0.0</td>\n",
       "      <td>0.0</td>\n",
       "      <td>0.0</td>\n",
       "      <td>0.0</td>\n",
       "      <td>0.0</td>\n",
       "      <td>0.0</td>\n",
       "      <td>0.000000</td>\n",
       "      <td>0.025758</td>\n",
       "      <td>0.0</td>\n",
       "      <td>0.000000</td>\n",
       "      <td>0.01848</td>\n",
       "      <td>0.008127</td>\n",
       "      <td>0.0</td>\n",
       "      <td>0.016429</td>\n",
       "      <td>...</td>\n",
       "      <td>0.0</td>\n",
       "      <td>0.0</td>\n",
       "      <td>0.004063</td>\n",
       "      <td>0.0</td>\n",
       "      <td>0.0</td>\n",
       "      <td>0.0</td>\n",
       "      <td>0.006281</td>\n",
       "      <td>0.000000</td>\n",
       "      <td>0.000000</td>\n",
       "      <td>0.000000</td>\n",
       "      <td>0.030391</td>\n",
       "      <td>0.0</td>\n",
       "      <td>0.00000</td>\n",
       "      <td>0.027595</td>\n",
       "      <td>0.043131</td>\n",
       "      <td>0.0</td>\n",
       "      <td>0.011296</td>\n",
       "      <td>0.0</td>\n",
       "      <td>0.000000</td>\n",
       "      <td>0.000000</td>\n",
       "      <td>0.0</td>\n",
       "      <td>0.0</td>\n",
       "      <td>0.0</td>\n",
       "      <td>0.0</td>\n",
       "      <td>0.007418</td>\n",
       "      <td>0.01348</td>\n",
       "      <td>0.009529</td>\n",
       "      <td>0.0</td>\n",
       "      <td>0.0</td>\n",
       "      <td>0.060063</td>\n",
       "      <td>0.0</td>\n",
       "      <td>0.0</td>\n",
       "      <td>0.0</td>\n",
       "      <td>0.013191</td>\n",
       "      <td>0.0</td>\n",
       "      <td>0.0</td>\n",
       "      <td>0.0</td>\n",
       "      <td>0.0</td>\n",
       "      <td>0.0</td>\n",
       "      <td>0.0</td>\n",
       "      <td>0.029242</td>\n",
       "      <td>0.000000</td>\n",
       "      <td>0.000000</td>\n",
       "      <td>0.004271</td>\n",
       "      <td>0.0</td>\n",
       "      <td>0.0</td>\n",
       "      <td>0.000000</td>\n",
       "      <td>0.0</td>\n",
       "      <td>0.0</td>\n",
       "      <td>0.0</td>\n",
       "    </tr>\n",
       "  </tbody>\n",
       "</table>\n",
       "<p>2 rows × 20000 columns</p>\n",
       "</div>"
      ],
      "text/plain": [
       "           Toy Story   Jumanji  Grumpier Old Men  Waiting to Exhale  \\\n",
       "Toy Story   1.000000  0.015757          0.000000                0.0   \n",
       "Jumanji     0.015757  1.000000          0.049073                0.0   \n",
       "\n",
       "           Father of the Bride Part II     Heat  Sabrina  Tom and Huck  \\\n",
       "Toy Story                          0.0  0.00000      0.0           0.0   \n",
       "Jumanji                            0.0  0.05183      0.0           0.0   \n",
       "\n",
       "           Sudden Death  GoldenEye  The American President  \\\n",
       "Toy Story      0.000000        0.0                0.000000   \n",
       "Jumanji        0.106355        0.0                0.007616   \n",
       "\n",
       "           Dracula: Dead and Loving It  Balto     Nixon  Cutthroat Island  \\\n",
       "Toy Story                          0.0    0.0  0.000000               0.0   \n",
       "Jumanji                            0.0    0.0  0.008233               0.0   \n",
       "\n",
       "           Casino  Sense and Sensibility  Four Rooms  \\\n",
       "Toy Story     0.0                    0.0    0.041140   \n",
       "Jumanji       0.0                    0.0    0.028753   \n",
       "\n",
       "           Ace Ventura: When Nature Calls  Money Train  Get Shorty  Copycat  \\\n",
       "Toy Story                             0.0          0.0    0.009941      0.0   \n",
       "Jumanji                               0.0          0.0    0.000000      0.0   \n",
       "\n",
       "           Assassins  Powder  Leaving Las Vegas   Othello  Now and Then  \\\n",
       "Toy Story   0.000000     0.0                0.0  0.000000      0.000000   \n",
       "Jumanji     0.006043     0.0                0.0  0.024285      0.024941   \n",
       "\n",
       "           Persuasion  The City of Lost Children  Shanghai Triad  \\\n",
       "Toy Story    0.000000                        0.0             0.0   \n",
       "Jumanji      0.006489                        0.0             0.0   \n",
       "\n",
       "           Dangerous Minds  Twelve Monkeys  Wings of Courage      Babe  \\\n",
       "Toy Story              0.0         0.00000               0.0  0.019831   \n",
       "Jumanji                0.0         0.04725               0.0  0.005560   \n",
       "\n",
       "           Carrington  Dead Man Walking  Across the Sea of Time  It Takes Two  \\\n",
       "Toy Story    0.000000               0.0                     0.0           0.0   \n",
       "Jumanji      0.004326               0.0                     0.0           0.0   \n",
       "\n",
       "           Clueless  Cry, the Beloved Country  Richard III  Dead Presidents  \\\n",
       "Toy Story       0.0                       0.0          0.0              0.0   \n",
       "Jumanji         0.0                       0.0          0.0              0.0   \n",
       "\n",
       "           Restoration  Mortal Kombat  To Die For  \\\n",
       "Toy Story     0.006348       0.000000         0.0   \n",
       "Jumanji       0.000000       0.025758         0.0   \n",
       "\n",
       "           How To Make An American Quilt    Se7en  Pocahontas  \\\n",
       "Toy Story                       0.009321  0.00000    0.000000   \n",
       "Jumanji                         0.000000  0.01848    0.008127   \n",
       "\n",
       "           When Night Is Falling  The Usual Suspects  ...  Kiss and Tell  \\\n",
       "Toy Story                    0.0            0.013822  ...            0.0   \n",
       "Jumanji                      0.0            0.016429  ...            0.0   \n",
       "\n",
       "           Oui, mais...  Space Adventure Cobra  L'aventure c'est l'aventure  \\\n",
       "Toy Story           0.0               0.011365                          0.0   \n",
       "Jumanji             0.0               0.004063                          0.0   \n",
       "\n",
       "           A Season for Miracles  The Awful Truth      1911  \\\n",
       "Toy Story                    0.0              0.0  0.011791   \n",
       "Jumanji                      0.0              0.0  0.006281   \n",
       "\n",
       "           Looking for Jackie  The Shaolin Temple  \\\n",
       "Toy Story            0.014688            0.013539   \n",
       "Jumanji              0.000000            0.000000   \n",
       "\n",
       "           Shaolin Temple 2: Kids from Shaolin  \\\n",
       "Toy Story                             0.007355   \n",
       "Jumanji                               0.000000   \n",
       "\n",
       "           Carol Channing: Larger Than Life  Memory  Martial Arts of Shaolin  \\\n",
       "Toy Story                          0.011161     0.0                  0.01452   \n",
       "Jumanji                            0.030391     0.0                  0.00000   \n",
       "\n",
       "           Snowmageddon  Stand Up and Fight  Jazz   Barbara  \\\n",
       "Toy Story      0.000000            0.000000   0.0  0.000000   \n",
       "Jumanji        0.027595            0.043131   0.0  0.011296   \n",
       "\n",
       "           A Liar's Autobiography: The Untrue Story of Monty Python's Graham Chapman  \\\n",
       "Toy Story                                                                        0.0   \n",
       "Jumanji                                                                          0.0   \n",
       "\n",
       "           Little Miss Broadway  Miss Annie Rooney  \\\n",
       "Toy Story              0.019853           0.027106   \n",
       "Jumanji                0.000000           0.000000   \n",
       "\n",
       "           Mr. Belvedere Goes to College  The Hobbit: An Unexpected Journey  \\\n",
       "Toy Story                            0.0                                0.0   \n",
       "Jumanji                              0.0                                0.0   \n",
       "\n",
       "           Mon Paradis - Der Winterpalast  No Flesh Shall Be Spared  \\\n",
       "Toy Story                             0.0                       0.0   \n",
       "Jumanji                               0.0                       0.0   \n",
       "\n",
       "           I am Von Höfler Variation on Werther  Born to Defend  Dragon Fight  \\\n",
       "Toy Story                              0.000000         0.00000      0.117982   \n",
       "Jumanji                                0.007418         0.01348      0.009529   \n",
       "\n",
       "           The Master  Kung Fu Cult Master  The Fitzgerald Family Christmas  \\\n",
       "Toy Story         0.0                  0.0                         0.000000   \n",
       "Jumanji           0.0                  0.0                         0.060063   \n",
       "\n",
       "           Hyde Park on Hudson  Lay the Favorite  Audition/Talent Competition  \\\n",
       "Toy Story                  0.0               0.0                          0.0   \n",
       "Jumanji                    0.0               0.0                          0.0   \n",
       "\n",
       "           All's Faire in Love  Crooked Arrows  The Enforcer  \\\n",
       "Toy Story             0.000000             0.0           0.0   \n",
       "Jumanji               0.013191             0.0           0.0   \n",
       "\n",
       "           Dr. Wai in the Scriptures with No Words  \\\n",
       "Toy Story                                      0.0   \n",
       "Jumanji                                        0.0   \n",
       "\n",
       "           Once Upon a Time in China and America  Contract Killer  \\\n",
       "Toy Story                                    0.0              0.0   \n",
       "Jumanji                                      0.0              0.0   \n",
       "\n",
       "           The Executor  Never Say... Never!    Calmos  \\\n",
       "Toy Story           0.0             0.000000  0.009979   \n",
       "Jumanji             0.0             0.029242  0.000000   \n",
       "\n",
       "           How to Make Love to a Woman  After Fall, Winter  \\\n",
       "Toy Story                     0.060997            0.000000   \n",
       "Jumanji                       0.000000            0.004271   \n",
       "\n",
       "           Violeta Went to Heaven  Rebellion  Versailles  Two in the Wave  \\\n",
       "Toy Story                     0.0        0.0    0.024585              0.0   \n",
       "Jumanji                       0.0        0.0    0.000000              0.0   \n",
       "\n",
       "           Lotte Reiniger: Homage to the Inventor of the Silhouette Film  \\\n",
       "Toy Story                                                            0.0   \n",
       "Jumanji                                                              0.0   \n",
       "\n",
       "           RKO Production 601: The Making of 'Kong, the Eighth Wonder of the World'  \n",
       "Toy Story                                                                       0.0  \n",
       "Jumanji                                                                         0.0  \n",
       "\n",
       "[2 rows x 20000 columns]"
      ]
     },
     "execution_count": 45,
     "metadata": {},
     "output_type": "execute_result"
    }
   ],
   "source": [
    "df.head(2)"
   ]
  },
  {
   "cell_type": "code",
   "execution_count": 46,
   "id": "51f2f932-9bb3-4e9d-97c9-161ced9fd178",
   "metadata": {},
   "outputs": [
    {
     "ename": "SyntaxError",
     "evalue": "invalid syntax (4087107010.py, line 2)",
     "output_type": "error",
     "traceback": [
      "\u001b[1;36m  Cell \u001b[1;32mIn[46], line 2\u001b[1;36m\u001b[0m\n\u001b[1;33m    s =\u001b[0m\n\u001b[1;37m        ^\u001b[0m\n\u001b[1;31mSyntaxError\u001b[0m\u001b[1;31m:\u001b[0m invalid syntax\n"
     ]
    }
   ],
   "source": [
    "def my_top10_movie(title, cosine_sim=cosine_sim):\n",
    "    s = "
   ]
  },
  {
   "cell_type": "code",
   "execution_count": null,
   "id": "8baca493-fe1e-41f8-976c-a3390b69b078",
   "metadata": {
    "tags": []
   },
   "outputs": [],
   "source": [
    "def my_top10_movie(title, cosine_sim=cosine_sim):\n",
    "    \n",
    "    \n",
    "    # cos_sim_arr = cos_df.loc[title]\n",
    "    \n",
    "    # 선택한 영화의 타이틀로부터 해당 영화의 인덱스를 받아온다.\n",
    "    idx = title_to_index[title]\n",
    "\n",
    "    # 해당 영화와 모든 영화와의 유사도를 가져온다.\n",
    "    sim_scores = list(enumerate(cosine_sim[idx]))\n",
    "\n",
    "    # 유사도에 따라 영화들을 정렬한다.\n",
    "    sim_scores = sorted(sim_scores, key=lambda x: x[1], reverse=True)\n",
    "\n",
    "    # 가장 유사한 10개의 영화를 받아온다.\n",
    "    sim_scores = sim_scores[1:11]\n",
    "    # sorting 했을 때 제일 max 값은 1이다. 모든게 똑같은 유사도 = 즉 해당 컬럼이 되므로, 0번 index를 제외하고 1부터 추출 \n",
    "    \n",
    "    print(sim_scores)\n",
    "    \n",
    "    \n",
    "    # 가장 유사한 10개의 영화의 인덱스를 얻는다.\n",
    "    movie_indices = [idx_tuple[0] for idx_tuple in sim_scores]\n",
    "\n",
    "    # 가장 유사한 10개의 영화의 제목을 리턴한다.\n",
    "    return data['title'].loc[movie_indices]"
   ]
  },
  {
   "cell_type": "code",
   "execution_count": null,
   "id": "d138d9f4-82ba-4bf1-911b-82eac1477748",
   "metadata": {
    "tags": []
   },
   "outputs": [],
   "source": [
    "my_top10_movie('The Dark Knight Rises')"
   ]
  },
  {
   "cell_type": "code",
   "execution_count": null,
   "id": "1f128be0-edce-4b4d-a053-96ea11fea093",
   "metadata": {
    "tags": []
   },
   "outputs": [],
   "source": [
    "data['title'].values\n",
    "\n",
    "# 유사도 비교하는 것은 영화 대 영화의 비교 = 제목을 비교해야한다. (사실상 오버뷰지만)"
   ]
  },
  {
   "cell_type": "code",
   "execution_count": null,
   "id": "fe8d0e45-698c-483a-a355-781aae47524c",
   "metadata": {},
   "outputs": [],
   "source": []
  },
  {
   "cell_type": "code",
   "execution_count": null,
   "id": "da759e43-07ae-44ac-a809-e6e07c16c132",
   "metadata": {},
   "outputs": [],
   "source": []
  }
 ],
 "metadata": {
  "kernelspec": {
   "display_name": "Python 3 (ipykernel)",
   "language": "python",
   "name": "python3"
  },
  "language_info": {
   "codemirror_mode": {
    "name": "ipython",
    "version": 3
   },
   "file_extension": ".py",
   "mimetype": "text/x-python",
   "name": "python",
   "nbconvert_exporter": "python",
   "pygments_lexer": "ipython3",
   "version": "3.8.8"
  },
  "toc-autonumbering": true
 },
 "nbformat": 4,
 "nbformat_minor": 5
}
