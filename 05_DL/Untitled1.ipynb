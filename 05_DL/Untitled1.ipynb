{
 "cells": [
  {
   "cell_type": "markdown",
   "id": "a663f98e-7c89-4008-a5dd-890b791830bc",
   "metadata": {},
   "source": [
    "<pre>\n",
    "\n",
    "-----------------------------\n",
    "전처리(8) \n",
    "-----------------------------\n",
    " - 문장/단어 토큰화\n",
    " - 정제/정규화 : 불용어, 렘마, 스티밍\n",
    " - 원핫/라벨 인코딩 : 수치메트릭스,패딩\n",
    "\n",
    "-----------------------------\n",
    "워드임베딩 (단어->숫자 벡터화)\n",
    "-----------------------------\n",
    " : W2Vec,    Glove, Elmo,     (Wiki...)\n",
    "\n",
    "\n",
    "-----------------------------\n",
    "언어모델  **\n",
    "-----------------------------\n",
    " - n-gram\n",
    " - 빈도기반 : BoW, TF-IDF\n",
    " - cos 유사도\n",
    "\n",
    "-----------------------------\n",
    "RNN  **\n",
    "-----------------------------\n",
    "  - RNN, LSTM(BiLSTM), GRU\n",
    "\n",
    "\n",
    "\n",
    "[실습 : 감성(긍부정), 토픽(유사도), 요약(X), 챗봇(X)]\n",
    "- KO네이버 리뷰(쇼핑,영화,댓글)\n",
    "- EN로이터 뉴스(캐글..  NEWS... )\n",
    "- CNN : 필터링\n",
    "\n",
    "\n",
    "-----------------------------\n",
    "심화과정\n",
    "-----------------------------\n",
    " : Seq2Seq\n",
    " : Attention\n",
    " : Transfomer\n",
    " : BERT"
   ]
  },
  {
   "cell_type": "code",
   "execution_count": null,
   "id": "9ec2458b-51b5-413a-bfe9-de286d700d4d",
   "metadata": {},
   "outputs": [],
   "source": []
  },
  {
   "cell_type": "code",
   "execution_count": null,
   "id": "b206cb61-2f34-4c76-a98b-dea2e89ba950",
   "metadata": {},
   "outputs": [],
   "source": []
  },
  {
   "cell_type": "code",
   "execution_count": null,
   "id": "cc8a260d-5c7a-49e4-8c9c-dfc19d6abf1b",
   "metadata": {},
   "outputs": [],
   "source": []
  },
  {
   "cell_type": "code",
   "execution_count": null,
   "id": "2bfe02ff-4300-4e7d-aa5c-e4ffe02b6bea",
   "metadata": {},
   "outputs": [],
   "source": []
  },
  {
   "cell_type": "code",
   "execution_count": null,
   "id": "3b4ecec3-e9c4-4dfe-8190-d04b9408b287",
   "metadata": {},
   "outputs": [],
   "source": []
  }
 ],
 "metadata": {
  "kernelspec": {
   "display_name": "Python 3 (ipykernel)",
   "language": "python",
   "name": "python3"
  },
  "language_info": {
   "codemirror_mode": {
    "name": "ipython",
    "version": 3
   },
   "file_extension": ".py",
   "mimetype": "text/x-python",
   "name": "python",
   "nbconvert_exporter": "python",
   "pygments_lexer": "ipython3",
   "version": "3.8.8"
  }
 },
 "nbformat": 4,
 "nbformat_minor": 5
}
