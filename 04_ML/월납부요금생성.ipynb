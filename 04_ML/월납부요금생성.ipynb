{
 "cells": [
  {
   "cell_type": "code",
   "execution_count": null,
   "metadata": {
    "id": "yrns7UT4qDtz"
   },
   "outputs": [],
   "source": [
    "# 월납부요금,시간,횟수 생성 합본"
   ]
  },
  {
   "cell_type": "code",
   "execution_count": null,
   "metadata": {
    "id": "RQWIizre4TsJ"
   },
   "outputs": [],
   "source": [
    "traincp = train.copy()"
   ]
  },
  {
   "cell_type": "code",
   "execution_count": null,
   "metadata": {
    "id": "2be6e550-0df6-499b-bc5f-8b31f87b18e1",
    "tags": []
   },
   "outputs": [],
   "source": [
    "traincp = traincp[['총통화요금','가입기간월','총통화시간','총통화횟수']]"
   ]
  },
  {
   "cell_type": "code",
   "execution_count": null,
   "metadata": {
    "id": "7lWrHePUr_s1"
   },
   "outputs": [],
   "source": [
    "traincp['월납부요금'] = 1\n",
    "traincp['월통화시간'] = 1\n",
    "traincp['월통화횟수'] = 1"
   ]
  },
  {
   "cell_type": "code",
   "execution_count": null,
   "metadata": {
    "id": "tKJW4am6o91l"
   },
   "outputs": [],
   "source": [
    "for i in range(len(traincp)):\n",
    "    if traincp['가입기간월'].iloc[i] ==0.0 :\n",
    "        traincp['월납부요금'].iloc[i] = traincp['총통화요금'].iloc[i]\n",
    "        traincp['월통화시간'].iloc[i] = traincp['총통화시간'].iloc[i]\n",
    "        traincp['월통화횟수'].iloc[i] = traincp['총통화횟수'].iloc[i]\n",
    "    else :\n",
    "        traincp['월납부요금'].iloc[i] = traincp['총통화요금'].iloc[i]/traincp['가입기간월'].iloc[i]  \n",
    "        traincp['월통화시간'].iloc[i] = traincp['총통화시간'].iloc[i]/traincp['가입기간월'].iloc[i]\n",
    "        traincp['월통화횟수'].iloc[i] = traincp['총통화횟수'].iloc[i]/traincp['가입기간월'].iloc[i]\n"
   ]
  },
  {
   "cell_type": "code",
   "execution_count": null,
   "metadata": {
    "colab": {
     "base_uri": "https://localhost:8080/",
     "height": 206
    },
    "id": "vJzpppKGsxmu",
    "outputId": "d0948212-71f3-492c-d6d3-289dc0447dde"
   },
   "outputs": [
    {
     "data": {
      "text/html": [
       "\n",
       "  <div id=\"df-5bda074b-232d-41a0-9f8d-d96043bf690d\">\n",
       "    <div class=\"colab-df-container\">\n",
       "      <div>\n",
       "<style scoped>\n",
       "    .dataframe tbody tr th:only-of-type {\n",
       "        vertical-align: middle;\n",
       "    }\n",
       "\n",
       "    .dataframe tbody tr th {\n",
       "        vertical-align: top;\n",
       "    }\n",
       "\n",
       "    .dataframe thead th {\n",
       "        text-align: right;\n",
       "    }\n",
       "</style>\n",
       "<table border=\"1\" class=\"dataframe\">\n",
       "  <thead>\n",
       "    <tr style=\"text-align: right;\">\n",
       "      <th></th>\n",
       "      <th>총통화요금</th>\n",
       "      <th>가입기간월</th>\n",
       "      <th>총통화시간</th>\n",
       "      <th>총통화횟수</th>\n",
       "      <th>월납부요금</th>\n",
       "      <th>월통화시간</th>\n",
       "      <th>월통화횟수</th>\n",
       "    </tr>\n",
       "  </thead>\n",
       "  <tbody>\n",
       "    <tr>\n",
       "      <th>0</th>\n",
       "      <td>89.11</td>\n",
       "      <td>27.0</td>\n",
       "      <td>630.9</td>\n",
       "      <td>489</td>\n",
       "      <td>3.300370</td>\n",
       "      <td>23.366667</td>\n",
       "      <td>18.111111</td>\n",
       "    </tr>\n",
       "    <tr>\n",
       "      <th>1</th>\n",
       "      <td>148.11</td>\n",
       "      <td>0.0</td>\n",
       "      <td>916.1</td>\n",
       "      <td>858</td>\n",
       "      <td>148.110000</td>\n",
       "      <td>916.100000</td>\n",
       "      <td>858.000000</td>\n",
       "    </tr>\n",
       "    <tr>\n",
       "      <th>2</th>\n",
       "      <td>75.30</td>\n",
       "      <td>7.0</td>\n",
       "      <td>770.2</td>\n",
       "      <td>973</td>\n",
       "      <td>10.757143</td>\n",
       "      <td>110.028571</td>\n",
       "      <td>139.000000</td>\n",
       "    </tr>\n",
       "    <tr>\n",
       "      <th>3</th>\n",
       "      <td>58.36</td>\n",
       "      <td>18.0</td>\n",
       "      <td>658.2</td>\n",
       "      <td>518</td>\n",
       "      <td>3.242222</td>\n",
       "      <td>36.566667</td>\n",
       "      <td>28.777778</td>\n",
       "    </tr>\n",
       "    <tr>\n",
       "      <th>4</th>\n",
       "      <td>59.58</td>\n",
       "      <td>18.0</td>\n",
       "      <td>583.3</td>\n",
       "      <td>514</td>\n",
       "      <td>3.310000</td>\n",
       "      <td>32.405556</td>\n",
       "      <td>28.555556</td>\n",
       "    </tr>\n",
       "  </tbody>\n",
       "</table>\n",
       "</div>\n",
       "      <button class=\"colab-df-convert\" onclick=\"convertToInteractive('df-5bda074b-232d-41a0-9f8d-d96043bf690d')\"\n",
       "              title=\"Convert this dataframe to an interactive table.\"\n",
       "              style=\"display:none;\">\n",
       "        \n",
       "  <svg xmlns=\"http://www.w3.org/2000/svg\" height=\"24px\"viewBox=\"0 0 24 24\"\n",
       "       width=\"24px\">\n",
       "    <path d=\"M0 0h24v24H0V0z\" fill=\"none\"/>\n",
       "    <path d=\"M18.56 5.44l.94 2.06.94-2.06 2.06-.94-2.06-.94-.94-2.06-.94 2.06-2.06.94zm-11 1L8.5 8.5l.94-2.06 2.06-.94-2.06-.94L8.5 2.5l-.94 2.06-2.06.94zm10 10l.94 2.06.94-2.06 2.06-.94-2.06-.94-.94-2.06-.94 2.06-2.06.94z\"/><path d=\"M17.41 7.96l-1.37-1.37c-.4-.4-.92-.59-1.43-.59-.52 0-1.04.2-1.43.59L10.3 9.45l-7.72 7.72c-.78.78-.78 2.05 0 2.83L4 21.41c.39.39.9.59 1.41.59.51 0 1.02-.2 1.41-.59l7.78-7.78 2.81-2.81c.8-.78.8-2.07 0-2.86zM5.41 20L4 18.59l7.72-7.72 1.47 1.35L5.41 20z\"/>\n",
       "  </svg>\n",
       "      </button>\n",
       "      \n",
       "  <style>\n",
       "    .colab-df-container {\n",
       "      display:flex;\n",
       "      flex-wrap:wrap;\n",
       "      gap: 12px;\n",
       "    }\n",
       "\n",
       "    .colab-df-convert {\n",
       "      background-color: #E8F0FE;\n",
       "      border: none;\n",
       "      border-radius: 50%;\n",
       "      cursor: pointer;\n",
       "      display: none;\n",
       "      fill: #1967D2;\n",
       "      height: 32px;\n",
       "      padding: 0 0 0 0;\n",
       "      width: 32px;\n",
       "    }\n",
       "\n",
       "    .colab-df-convert:hover {\n",
       "      background-color: #E2EBFA;\n",
       "      box-shadow: 0px 1px 2px rgba(60, 64, 67, 0.3), 0px 1px 3px 1px rgba(60, 64, 67, 0.15);\n",
       "      fill: #174EA6;\n",
       "    }\n",
       "\n",
       "    [theme=dark] .colab-df-convert {\n",
       "      background-color: #3B4455;\n",
       "      fill: #D2E3FC;\n",
       "    }\n",
       "\n",
       "    [theme=dark] .colab-df-convert:hover {\n",
       "      background-color: #434B5C;\n",
       "      box-shadow: 0px 1px 3px 1px rgba(0, 0, 0, 0.15);\n",
       "      filter: drop-shadow(0px 1px 2px rgba(0, 0, 0, 0.3));\n",
       "      fill: #FFFFFF;\n",
       "    }\n",
       "  </style>\n",
       "\n",
       "      <script>\n",
       "        const buttonEl =\n",
       "          document.querySelector('#df-5bda074b-232d-41a0-9f8d-d96043bf690d button.colab-df-convert');\n",
       "        buttonEl.style.display =\n",
       "          google.colab.kernel.accessAllowed ? 'block' : 'none';\n",
       "\n",
       "        async function convertToInteractive(key) {\n",
       "          const element = document.querySelector('#df-5bda074b-232d-41a0-9f8d-d96043bf690d');\n",
       "          const dataTable =\n",
       "            await google.colab.kernel.invokeFunction('convertToInteractive',\n",
       "                                                     [key], {});\n",
       "          if (!dataTable) return;\n",
       "\n",
       "          const docLinkHtml = 'Like what you see? Visit the ' +\n",
       "            '<a target=\"_blank\" href=https://colab.research.google.com/notebooks/data_table.ipynb>data table notebook</a>'\n",
       "            + ' to learn more about interactive tables.';\n",
       "          element.innerHTML = '';\n",
       "          dataTable['output_type'] = 'display_data';\n",
       "          await google.colab.output.renderOutput(dataTable, element);\n",
       "          const docLink = document.createElement('div');\n",
       "          docLink.innerHTML = docLinkHtml;\n",
       "          element.appendChild(docLink);\n",
       "        }\n",
       "      </script>\n",
       "    </div>\n",
       "  </div>\n",
       "  "
      ],
      "text/plain": [
       "    총통화요금  가입기간월  총통화시간  총통화횟수       월납부요금       월통화시간       월통화횟수\n",
       "0   89.11   27.0  630.9    489    3.300370   23.366667   18.111111\n",
       "1  148.11    0.0  916.1    858  148.110000  916.100000  858.000000\n",
       "2   75.30    7.0  770.2    973   10.757143  110.028571  139.000000\n",
       "3   58.36   18.0  658.2    518    3.242222   36.566667   28.777778\n",
       "4   59.58   18.0  583.3    514    3.310000   32.405556   28.555556"
      ]
     },
     "execution_count": 194,
     "metadata": {},
     "output_type": "execute_result"
    }
   ],
   "source": [
    "traincp.head()"
   ]
  },
  {
   "cell_type": "code",
   "execution_count": null,
   "metadata": {
    "colab": {
     "base_uri": "https://localhost:8080/",
     "height": 206
    },
    "id": "Pq0FmamYwg0Q",
    "outputId": "dd2ea7fd-81fb-474a-aba0-8af39ff48f42"
   },
   "outputs": [
    {
     "data": {
      "text/html": [
       "\n",
       "  <div id=\"df-6a126074-2405-4b69-a61c-7aaa422411c3\">\n",
       "    <div class=\"colab-df-container\">\n",
       "      <div>\n",
       "<style scoped>\n",
       "    .dataframe tbody tr th:only-of-type {\n",
       "        vertical-align: middle;\n",
       "    }\n",
       "\n",
       "    .dataframe tbody tr th {\n",
       "        vertical-align: top;\n",
       "    }\n",
       "\n",
       "    .dataframe thead th {\n",
       "        text-align: right;\n",
       "    }\n",
       "</style>\n",
       "<table border=\"1\" class=\"dataframe\">\n",
       "  <thead>\n",
       "    <tr style=\"text-align: right;\">\n",
       "      <th></th>\n",
       "      <th>총통화요금</th>\n",
       "      <th>가입기간월</th>\n",
       "      <th>총통화시간</th>\n",
       "      <th>총통화횟수</th>\n",
       "    </tr>\n",
       "  </thead>\n",
       "  <tbody>\n",
       "    <tr>\n",
       "      <th>0</th>\n",
       "      <td>58.40</td>\n",
       "      <td>9.0</td>\n",
       "      <td>537.5</td>\n",
       "      <td>346</td>\n",
       "    </tr>\n",
       "    <tr>\n",
       "      <th>1</th>\n",
       "      <td>67.44</td>\n",
       "      <td>23.0</td>\n",
       "      <td>841.5</td>\n",
       "      <td>281</td>\n",
       "    </tr>\n",
       "    <tr>\n",
       "      <th>2</th>\n",
       "      <td>52.74</td>\n",
       "      <td>2.0</td>\n",
       "      <td>561.6</td>\n",
       "      <td>439</td>\n",
       "    </tr>\n",
       "    <tr>\n",
       "      <th>3</th>\n",
       "      <td>49.79</td>\n",
       "      <td>17.0</td>\n",
       "      <td>620.5</td>\n",
       "      <td>394</td>\n",
       "    </tr>\n",
       "    <tr>\n",
       "      <th>4</th>\n",
       "      <td>64.05</td>\n",
       "      <td>16.0</td>\n",
       "      <td>811.0</td>\n",
       "      <td>80</td>\n",
       "    </tr>\n",
       "  </tbody>\n",
       "</table>\n",
       "</div>\n",
       "      <button class=\"colab-df-convert\" onclick=\"convertToInteractive('df-6a126074-2405-4b69-a61c-7aaa422411c3')\"\n",
       "              title=\"Convert this dataframe to an interactive table.\"\n",
       "              style=\"display:none;\">\n",
       "        \n",
       "  <svg xmlns=\"http://www.w3.org/2000/svg\" height=\"24px\"viewBox=\"0 0 24 24\"\n",
       "       width=\"24px\">\n",
       "    <path d=\"M0 0h24v24H0V0z\" fill=\"none\"/>\n",
       "    <path d=\"M18.56 5.44l.94 2.06.94-2.06 2.06-.94-2.06-.94-.94-2.06-.94 2.06-2.06.94zm-11 1L8.5 8.5l.94-2.06 2.06-.94-2.06-.94L8.5 2.5l-.94 2.06-2.06.94zm10 10l.94 2.06.94-2.06 2.06-.94-2.06-.94-.94-2.06-.94 2.06-2.06.94z\"/><path d=\"M17.41 7.96l-1.37-1.37c-.4-.4-.92-.59-1.43-.59-.52 0-1.04.2-1.43.59L10.3 9.45l-7.72 7.72c-.78.78-.78 2.05 0 2.83L4 21.41c.39.39.9.59 1.41.59.51 0 1.02-.2 1.41-.59l7.78-7.78 2.81-2.81c.8-.78.8-2.07 0-2.86zM5.41 20L4 18.59l7.72-7.72 1.47 1.35L5.41 20z\"/>\n",
       "  </svg>\n",
       "      </button>\n",
       "      \n",
       "  <style>\n",
       "    .colab-df-container {\n",
       "      display:flex;\n",
       "      flex-wrap:wrap;\n",
       "      gap: 12px;\n",
       "    }\n",
       "\n",
       "    .colab-df-convert {\n",
       "      background-color: #E8F0FE;\n",
       "      border: none;\n",
       "      border-radius: 50%;\n",
       "      cursor: pointer;\n",
       "      display: none;\n",
       "      fill: #1967D2;\n",
       "      height: 32px;\n",
       "      padding: 0 0 0 0;\n",
       "      width: 32px;\n",
       "    }\n",
       "\n",
       "    .colab-df-convert:hover {\n",
       "      background-color: #E2EBFA;\n",
       "      box-shadow: 0px 1px 2px rgba(60, 64, 67, 0.3), 0px 1px 3px 1px rgba(60, 64, 67, 0.15);\n",
       "      fill: #174EA6;\n",
       "    }\n",
       "\n",
       "    [theme=dark] .colab-df-convert {\n",
       "      background-color: #3B4455;\n",
       "      fill: #D2E3FC;\n",
       "    }\n",
       "\n",
       "    [theme=dark] .colab-df-convert:hover {\n",
       "      background-color: #434B5C;\n",
       "      box-shadow: 0px 1px 3px 1px rgba(0, 0, 0, 0.15);\n",
       "      filter: drop-shadow(0px 1px 2px rgba(0, 0, 0, 0.3));\n",
       "      fill: #FFFFFF;\n",
       "    }\n",
       "  </style>\n",
       "\n",
       "      <script>\n",
       "        const buttonEl =\n",
       "          document.querySelector('#df-6a126074-2405-4b69-a61c-7aaa422411c3 button.colab-df-convert');\n",
       "        buttonEl.style.display =\n",
       "          google.colab.kernel.accessAllowed ? 'block' : 'none';\n",
       "\n",
       "        async function convertToInteractive(key) {\n",
       "          const element = document.querySelector('#df-6a126074-2405-4b69-a61c-7aaa422411c3');\n",
       "          const dataTable =\n",
       "            await google.colab.kernel.invokeFunction('convertToInteractive',\n",
       "                                                     [key], {});\n",
       "          if (!dataTable) return;\n",
       "\n",
       "          const docLinkHtml = 'Like what you see? Visit the ' +\n",
       "            '<a target=\"_blank\" href=https://colab.research.google.com/notebooks/data_table.ipynb>data table notebook</a>'\n",
       "            + ' to learn more about interactive tables.';\n",
       "          element.innerHTML = '';\n",
       "          dataTable['output_type'] = 'display_data';\n",
       "          await google.colab.output.renderOutput(dataTable, element);\n",
       "          const docLink = document.createElement('div');\n",
       "          docLink.innerHTML = docLinkHtml;\n",
       "          element.appendChild(docLink);\n",
       "        }\n",
       "      </script>\n",
       "    </div>\n",
       "  </div>\n",
       "  "
      ],
      "text/plain": [
       "   총통화요금  가입기간월  총통화시간  총통화횟수\n",
       "0  58.40    9.0  537.5    346\n",
       "1  67.44   23.0  841.5    281\n",
       "2  52.74    2.0  561.6    439\n",
       "3  49.79   17.0  620.5    394\n",
       "4  64.05   16.0  811.0     80"
      ]
     },
     "execution_count": 195,
     "metadata": {},
     "output_type": "execute_result"
    }
   ],
   "source": [
    "testcp = test.copy()\n",
    "testcp = testcp[['총통화요금','가입기간월','총통화시간','총통화횟수']]\n",
    "testcp.head()"
   ]
  },
  {
   "cell_type": "code",
   "execution_count": null,
   "metadata": {
    "id": "e17n-KPWxAP6"
   },
   "outputs": [],
   "source": [
    "testcp['월납부요금'] = 1\n",
    "testcp['월통화시간'] = 1\n",
    "testcp['월통화횟수'] = 1"
   ]
  },
  {
   "cell_type": "code",
   "execution_count": null,
   "metadata": {
    "id": "o5WXpQ4qxLyx"
   },
   "outputs": [],
   "source": [
    "for i in range(len(testcp)):\n",
    "  if testcp['가입기간월'].iloc[i] ==0.0 :\n",
    "    testcp['월납부요금'].iloc[i] = testcp['총통화요금'].iloc[i]\n",
    "    testcp['월통화시간'].iloc[i] = testcp['총통화시간'].iloc[i]\n",
    "    testcp['월통화횟수'].iloc[i] = testcp['총통화횟수'].iloc[i]\n",
    "  else :\n",
    "    testcp['월납부요금'].iloc[i] = testcp['총통화요금'].iloc[i]/testcp['가입기간월'].iloc[i]  \n",
    "    testcp['월통화시간'].iloc[i] = testcp['총통화시간'].iloc[i]/testcp['가입기간월'].iloc[i]\n",
    "    testcp['월통화횟수'].iloc[i] = testcp['총통화횟수'].iloc[i]/testcp['가입기간월'].iloc[i]\n"
   ]
  },
  {
   "cell_type": "code",
   "execution_count": null,
   "metadata": {
    "colab": {
     "base_uri": "https://localhost:8080/"
    },
    "id": "ymDl8c2Zv296",
    "outputId": "8cedcbdd-2475-44c0-f102-09fceaa21507"
   },
   "outputs": [
    {
     "data": {
      "text/plain": [
       "(   가입일  음성사서함이용  주간통화시간  주간통화횟수  주간통화요금  저녁통화시간  저녁통화횟수  저녁통화요금  밤통화시간  밤통화횟수  \\\n",
       " 0  329        0    99.2      93    27.3   268.8      68   28.92  262.9    328   \n",
       " 1    2       80   323.9     323    83.7   269.4     326   32.09  322.8    209   \n",
       " 2   93       28   282.4     323    34.2   207.0     322   32.82  280.8    328   \n",
       " 3  223        1   221.4     223    25.1   233.0      61   23.90  203.8    234   \n",
       " 4  222        0    96.3     222    28.7   223.9      69   28.08  263.1    223   \n",
       " \n",
       "    밤통화요금  상담전화건수  전화해지여부  가입기간년  가입기간월  가입기간주   가입월  총통화시간  총통화횟수   총통화요금  \\\n",
       " 0  32.89       2       0      0   27.0    6.0  10.0  630.9    489   89.11   \n",
       " 1  32.32       2       0      0    0.0    0.0   0.0  916.1    858  148.11   \n",
       " 2   8.28       0       0      0    7.0    1.0   3.0  770.2    973   75.30   \n",
       " 3   9.36       0       0      0   18.0    4.0   7.0  658.2    518   58.36   \n",
       " 4   2.80       8       0      0   18.0    4.0   7.0  583.3    514   59.58   \n",
       " \n",
       "       시간당요금     횟수당시간  주간통화시간당요금  저녁통화시간당요금  밤통화시간당요금       월납부요금       월통화시간  \\\n",
       " 0  0.141243  1.290184   0.275202   0.107589  0.125105    3.300370   23.366667   \n",
       " 1  0.161674  1.067716   0.258413   0.119117  0.100124  148.110000  916.100000   \n",
       " 2  0.097767  0.791572   0.121105   0.158551  0.029487   10.757143  110.028571   \n",
       " 3  0.088666  1.270656   0.113369   0.102575  0.045927    3.242222   36.566667   \n",
       " 4  0.102143  1.134825   0.298027   0.125413  0.010642    3.310000   32.405556   \n",
       " \n",
       "         월통화횟수  \n",
       " 0   18.111111  \n",
       " 1  858.000000  \n",
       " 2  139.000000  \n",
       " 3   28.777778  \n",
       " 4   28.555556  ,\n",
       "    가입일  음성사서함이용  주간통화시간  주간통화횟수  주간통화요금  저녁통화시간  저녁통화횟수  저녁통화요금  밤통화시간  밤통화횟수  \\\n",
       " 0  110        0   210.7     142    35.6   205.9      93   17.43  120.9    111   \n",
       " 1  283        1   268.5     100    30.3   283.0      92   28.32  290.0     89   \n",
       " 2   34        1   243.3     205    21.3   225.7     205   29.00   92.6     29   \n",
       " 3  209       86    83.0      93    24.1   270.6     220   22.89  266.9     81   \n",
       " 4  202        0   293.2      23    31.0   294.0      24   26.39  223.8     33   \n",
       " \n",
       "    밤통화요금  상담전화건수  가입기간년  가입기간월  가입기간주  가입월  총통화시간  총통화횟수  총통화요금     시간당요금  \\\n",
       " 0   5.37       2      0    9.0    2.0  3.0  537.5    346  58.40  0.108651   \n",
       " 1   8.82       0      0   23.0    5.0  9.0  841.5    281  67.44  0.080143   \n",
       " 2   2.44       2      0    2.0    0.0  1.0  561.6    439  52.74  0.093910   \n",
       " 3   2.80       6      0   17.0    4.0  6.0  620.5    394  49.79  0.080242   \n",
       " 4   6.66       2      0   16.0    3.0  6.0  811.0     80  64.05  0.078977   \n",
       " \n",
       "        횟수당시간      월납부요금       월통화시간       월통화횟수  \n",
       " 0   1.553468   6.488889   59.722222   38.444444  \n",
       " 1   2.994662   2.932174   36.586957   12.217391  \n",
       " 2   1.279271  26.370000  280.800000  219.500000  \n",
       " 3   1.574873   2.928824   36.500000   23.176471  \n",
       " 4  10.137500   4.003125   50.687500    5.000000  )"
      ]
     },
     "execution_count": 198,
     "metadata": {},
     "output_type": "execute_result"
    }
   ],
   "source": [
    "train[['월납부요금','월통화시간','월통화횟수']] = traincp[['월납부요금','월통화시간','월통화횟수']]\n",
    "test[['월납부요금','월통화시간','월통화횟수']] = testcp[['월납부요금','월통화시간','월통화횟수']]\n",
    "train.head(), test.head()"
   ]
  },
  {
   "cell_type": "code",
   "execution_count": null,
   "metadata": {
    "colab": {
     "base_uri": "https://localhost:8080/",
     "height": 175
    },
    "id": "2OS8WM373pER",
    "outputId": "22cd4342-ae67-4d4f-c1da-16e0ad91b67e"
   },
   "outputs": [
    {
     "ename": "NameError",
     "evalue": "ignored",
     "output_type": "error",
     "traceback": [
      "\u001b[0;31m---------------------------------------------------------------------------\u001b[0m",
      "\u001b[0;31mNameError\u001b[0m                                 Traceback (most recent call last)",
      "\u001b[0;32m<ipython-input-199-7d97e98f8af7>\u001b[0m in \u001b[0;36m<module>\u001b[0;34m\u001b[0m\n\u001b[0;32m----> 1\u001b[0;31m \u001b[0masdf\u001b[0m\u001b[0;34m\u001b[0m\u001b[0;34m\u001b[0m\u001b[0m\n\u001b[0m",
      "\u001b[0;31mNameError\u001b[0m: name 'asdf' is not defined"
     ]
    }
   ],
   "source": [
    "asdf"
   ]
  }
 ],
 "metadata": {
  "colab": {
   "provenance": []
  },
  "kernelspec": {
   "display_name": "Python 3 (ipykernel)",
   "language": "python",
   "name": "python3"
  },
  "language_info": {
   "codemirror_mode": {
    "name": "ipython",
    "version": 3
   },
   "file_extension": ".py",
   "mimetype": "text/x-python",
   "name": "python",
   "nbconvert_exporter": "python",
   "pygments_lexer": "ipython3",
   "version": "3.8.8"
  }
 },
 "nbformat": 4,
 "nbformat_minor": 4
}
