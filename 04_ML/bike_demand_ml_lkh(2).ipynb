{
 "cells": [
  {
   "cell_type": "markdown",
   "id": "6d36fd9b-8277-46dd-ab5d-3563dcc739b7",
   "metadata": {},
   "source": [
    "<font size=6><b>Bike Sharing Demand - ML"
   ]
  },
  {
   "cell_type": "markdown",
   "id": "5cb6f8bb-d3e1-457c-a482-430e612f90a4",
   "metadata": {
    "tags": []
   },
   "source": [
    "<img src=\"./logo.png\">\n",
    "* ref : https://www.kaggle.com/competitions/bike-sharing-demand/data <br>\n",
    "* ref : https://dacon.io/competitions/official/235985/data"
   ]
  },
  {
   "cell_type": "code",
   "execution_count": 1,
   "id": "11769cb6-b939-495e-96c1-ff3598956cec",
   "metadata": {
    "tags": []
   },
   "outputs": [
    {
     "data": {
      "text/html": [
       "<style>.container{width:100% !important;}</style>"
      ],
      "text/plain": [
       "<IPython.core.display.HTML object>"
      ]
     },
     "metadata": {},
     "output_type": "display_data"
    }
   ],
   "source": [
    "import numpy as np\n",
    "import pandas as pd\n",
    "\n",
    "import matplotlib.pyplot as plt\n",
    "import seaborn as sns\n",
    "\n",
    "\n",
    "sns.set()\n",
    "\n",
    "#-------------------- 차트 관련 속성 (한글처리, 그리드) -----------\n",
    "plt.rcParams['font.family']= 'Malgun Gothic'\n",
    "plt.rcParams['axes.unicode_minus'] = False\n",
    "\n",
    "#-------------------- 주피터 , 출력결과 넓이 늘리기 ---------------\n",
    "# from IPython.core.display import display, HTML\n",
    "from IPython.display import display, HTML\n",
    "\n",
    "display(HTML(\"<style>.container{width:100% !important;}</style>\"))\n",
    "pd.set_option('display.max_rows', 100)\n",
    "pd.set_option('display.max_columns', 100)\n",
    "pd.set_option('max_colwidth', None)\n",
    "\n",
    "import warnings\n",
    "warnings.filterwarnings(action='ignore')"
   ]
  },
  {
   "cell_type": "code",
   "execution_count": 2,
   "id": "02d88c79-95e1-4b95-96de-df858fcc943f",
   "metadata": {},
   "outputs": [],
   "source": [
    "\n",
    "from sklearn.model_selection import train_test_split,cross_val_score, GridSearchCV, KFold, StratifiedKFold, cross_validate\n",
    "from sklearn.metrics import mean_squared_error\n",
    "from sklearn.metrics import mean_squared_log_error\n",
    "\n",
    "from sklearn.ensemble     import RandomForestRegressor\n",
    "from sklearn.tree         import DecisionTreeRegressor, DecisionTreeClassifier\n",
    "from sklearn.linear_model import LinearRegression, Ridge, Lasso\n",
    "# ---- 추가 모델\n",
    "from sklearn.ensemble     import AdaBoostRegressor, VotingRegressor\n",
    "from xgboost              import XGBRegressor\n",
    "from lightgbm             import LGBMRegressor\n",
    "\n"
   ]
  },
  {
   "cell_type": "markdown",
   "id": "3f698b81-6a0b-4c55-b81e-c2fd498d4b74",
   "metadata": {},
   "source": [
    "# Data Load"
   ]
  },
  {
   "cell_type": "code",
   "execution_count": 3,
   "id": "aef310ea-ddad-4ad0-bcea-018ebbe0c5d5",
   "metadata": {
    "tags": []
   },
   "outputs": [],
   "source": [
    "train = pd.read_csv(\"datasets/bike_train.csv\", parse_dates=['datetime'])\n",
    "test  = pd.read_csv(\"datasets/test.csv\" , parse_dates=['datetime'])"
   ]
  },
  {
   "cell_type": "code",
   "execution_count": 4,
   "id": "23a0bbfd-d222-4822-bfad-0fe563517d46",
   "metadata": {
    "tags": []
   },
   "outputs": [
    {
     "name": "stdout",
     "output_type": "stream",
     "text": [
      "<class 'pandas.core.frame.DataFrame'>\n",
      "RangeIndex: 10886 entries, 0 to 10885\n",
      "Data columns (total 12 columns):\n",
      " #   Column      Non-Null Count  Dtype         \n",
      "---  ------      --------------  -----         \n",
      " 0   regdate     10886 non-null  datetime64[ns]\n",
      " 1   season      10886 non-null  int64         \n",
      " 2   holiday     10886 non-null  int64         \n",
      " 3   workingday  10886 non-null  int64         \n",
      " 4   weather     10886 non-null  int64         \n",
      " 5   temp        10886 non-null  float64       \n",
      " 6   atemp       10886 non-null  float64       \n",
      " 7   humidity    10886 non-null  int64         \n",
      " 8   windspeed   10886 non-null  float64       \n",
      " 9   casual      10886 non-null  int64         \n",
      " 10  registered  10886 non-null  int64         \n",
      " 11  regcount    10886 non-null  int64         \n",
      "dtypes: datetime64[ns](1), float64(3), int64(8)\n",
      "memory usage: 1020.7 KB\n",
      "None\n",
      "==================================================\n",
      "<class 'pandas.core.frame.DataFrame'>\n",
      "RangeIndex: 6493 entries, 0 to 6492\n",
      "Data columns (total 9 columns):\n",
      " #   Column      Non-Null Count  Dtype         \n",
      "---  ------      --------------  -----         \n",
      " 0   regdate     6493 non-null   datetime64[ns]\n",
      " 1   season      6493 non-null   int64         \n",
      " 2   holiday     6493 non-null   int64         \n",
      " 3   workingday  6493 non-null   int64         \n",
      " 4   weather     6493 non-null   int64         \n",
      " 5   temp        6493 non-null   float64       \n",
      " 6   atemp       6493 non-null   float64       \n",
      " 7   humidity    6493 non-null   int64         \n",
      " 8   windspeed   6493 non-null   float64       \n",
      "dtypes: datetime64[ns](1), float64(3), int64(5)\n",
      "memory usage: 456.7 KB\n",
      "None\n",
      "==================================================\n"
     ]
    }
   ],
   "source": [
    "df_list = [train, test]\n",
    "for df in df_list:\n",
    "    df.rename(columns = {'datetime' : 'regdate', 'count' : 'regcount'}, inplace = True)\n",
    "    df.columns = df.columns.str.lower()\n",
    "    print(df.info())    \n",
    "    print(\"=====\"*10)\n"
   ]
  },
  {
   "cell_type": "markdown",
   "id": "87d1e0d4-27a9-4fa8-8d33-d1e7a47e9153",
   "metadata": {},
   "source": [
    "# Feature Engineering"
   ]
  },
  {
   "cell_type": "markdown",
   "id": "48e56076-05c4-4424-9669-dea75029d881",
   "metadata": {},
   "source": [
    "## 파생피쳐\n",
    "* regdate\n",
    "* day_type"
   ]
  },
  {
   "cell_type": "code",
   "execution_count": 5,
   "id": "a7824002-3887-48c9-97f9-b50bd9862132",
   "metadata": {
    "tags": []
   },
   "outputs": [],
   "source": [
    "df_list = [train, test]\n",
    "for df in df_list:\n",
    "    df['y'] = df['regdate'].dt.year\n",
    "    df['m'] = df['regdate'].dt.month\n",
    "    df['d'] = df['regdate'].dt.day\n",
    "    df['h'] = df['regdate'].dt.hour\n",
    "    df['w'] = df['regdate'].dt.dayofweek\n",
    "    #df['woy'] = df['regdate'].dt.weekofyear\n",
    "    \n",
    "    \n",
    "    df['day_type'] = 0\n",
    "    df['day_type'] = np.where( (df['holiday']==0) & (df['workingday'] == 1),   1,  df['day_type'])\n",
    "    df['day_type'] = np.where( (df['holiday']==1) & (df['workingday'] == 0),   2,  df['day_type'])\n",
    "    \n",
    "    # df['peak']   = df[['h', 'workingday']].apply(lambda x: (0, 1)[(x['workingday'] == 1 and  ( x['h'] == 8 or 17 <= x['h'] <= 18 or 12 <= x['h'] <= 12)) or (x['workingday'] == 0 and  10 <= x['h'] <= 19)], axis = 1)\n",
    "    # df['ideal']  = df[['temp', 'windspeed']].apply(lambda x: (0, 1)[x['temp'] > 27 and x['windspeed'] < 30], axis = 1)\n",
    "    # df['sticky'] = df[['humidity', 'workingday']].apply(lambda x: (0, 1)[x['workingday'] == 1 and x['humidity'] >= 60], axis = 1)\n",
    "    \n",
    "    #sandy\n",
    "    df['holiday'] = df[['m', 'd', 'holiday', 'y']].apply(lambda x: (x['holiday'], 1)[x['y'] == 2012 and x['m'] == 10 and (x['m'] in [30])], axis = 1)\n",
    "    #christmas day and others\n",
    "    df['holiday'] = df[['m', 'd', 'holiday']].apply(lambda x: (x['holiday'], 1)[x['m'] == 12 and (x['m'] in [24, 26, 31])], axis = 1)\n",
    "    df['workingday'] = df[['m', 'd', 'workingday']].apply(lambda x: (x['workingday'], 0)[x['m'] == 12 and x['m'] in [24, 31]], axis = 1)\n",
    "    \n",
    "    df.set_index('regdate', inplace=True)\n",
    "    df = df.drop('d', axis=1, inplace=True)\n",
    "    \n",
    "          \n",
    "   \n",
    "    \n",
    "    # oh - encoding\n",
    "    \n",
    "    \n",
    "    # target scaler\n",
    "    \n",
    "    # "
   ]
  },
  {
   "cell_type": "code",
   "execution_count": 6,
   "id": "4a36428c-db62-4b4d-8a21-df45f986b2a2",
   "metadata": {
    "tags": []
   },
   "outputs": [
    {
     "name": "stdout",
     "output_type": "stream",
     "text": [
      "<class 'pandas.core.frame.DataFrame'>\n",
      "DatetimeIndex: 6493 entries, 2011-01-20 00:00:00 to 2012-12-31 23:00:00\n",
      "Data columns (total 13 columns):\n",
      " #   Column      Non-Null Count  Dtype  \n",
      "---  ------      --------------  -----  \n",
      " 0   season      6493 non-null   int64  \n",
      " 1   holiday     6493 non-null   int64  \n",
      " 2   workingday  6493 non-null   int64  \n",
      " 3   weather     6493 non-null   int64  \n",
      " 4   temp        6493 non-null   float64\n",
      " 5   atemp       6493 non-null   float64\n",
      " 6   humidity    6493 non-null   int64  \n",
      " 7   windspeed   6493 non-null   float64\n",
      " 8   y           6493 non-null   int64  \n",
      " 9   m           6493 non-null   int64  \n",
      " 10  h           6493 non-null   int64  \n",
      " 11  w           6493 non-null   int64  \n",
      " 12  day_type    6493 non-null   int64  \n",
      "dtypes: float64(3), int64(10)\n",
      "memory usage: 710.2 KB\n"
     ]
    }
   ],
   "source": [
    "test.info()"
   ]
  },
  {
   "cell_type": "code",
   "execution_count": 7,
   "id": "b862156b-ea56-4bed-bd48-7de9a2cf7b51",
   "metadata": {},
   "outputs": [
    {
     "name": "stdout",
     "output_type": "stream",
     "text": [
      "<class 'pandas.core.frame.DataFrame'>\n",
      "DatetimeIndex: 10886 entries, 2011-01-01 00:00:00 to 2012-12-19 23:00:00\n",
      "Data columns (total 16 columns):\n",
      " #   Column      Non-Null Count  Dtype  \n",
      "---  ------      --------------  -----  \n",
      " 0   season      10886 non-null  int64  \n",
      " 1   holiday     10886 non-null  int64  \n",
      " 2   workingday  10886 non-null  int64  \n",
      " 3   weather     10886 non-null  int64  \n",
      " 4   temp        10886 non-null  float64\n",
      " 5   atemp       10886 non-null  float64\n",
      " 6   humidity    10886 non-null  int64  \n",
      " 7   windspeed   10886 non-null  float64\n",
      " 8   casual      10886 non-null  int64  \n",
      " 9   registered  10886 non-null  int64  \n",
      " 10  regcount    10886 non-null  int64  \n",
      " 11  y           10886 non-null  int64  \n",
      " 12  m           10886 non-null  int64  \n",
      " 13  h           10886 non-null  int64  \n",
      " 14  w           10886 non-null  int64  \n",
      " 15  day_type    10886 non-null  int64  \n",
      "dtypes: float64(3), int64(13)\n",
      "memory usage: 1.4 MB\n"
     ]
    }
   ],
   "source": [
    "train.info()"
   ]
  },
  {
   "cell_type": "code",
   "execution_count": 8,
   "id": "e94da62c-d779-483f-b2f2-e87be46125a8",
   "metadata": {
    "tags": []
   },
   "outputs": [
    {
     "data": {
      "text/html": [
       "<div>\n",
       "<style scoped>\n",
       "    .dataframe tbody tr th:only-of-type {\n",
       "        vertical-align: middle;\n",
       "    }\n",
       "\n",
       "    .dataframe tbody tr th {\n",
       "        vertical-align: top;\n",
       "    }\n",
       "\n",
       "    .dataframe thead th {\n",
       "        text-align: right;\n",
       "    }\n",
       "</style>\n",
       "<table border=\"1\" class=\"dataframe\">\n",
       "  <thead>\n",
       "    <tr style=\"text-align: right;\">\n",
       "      <th></th>\n",
       "      <th>season</th>\n",
       "      <th>holiday</th>\n",
       "      <th>workingday</th>\n",
       "      <th>weather</th>\n",
       "      <th>temp</th>\n",
       "      <th>atemp</th>\n",
       "      <th>humidity</th>\n",
       "      <th>windspeed</th>\n",
       "      <th>casual</th>\n",
       "      <th>registered</th>\n",
       "      <th>regcount</th>\n",
       "      <th>y</th>\n",
       "      <th>m</th>\n",
       "      <th>h</th>\n",
       "      <th>w</th>\n",
       "      <th>day_type</th>\n",
       "    </tr>\n",
       "    <tr>\n",
       "      <th>regdate</th>\n",
       "      <th></th>\n",
       "      <th></th>\n",
       "      <th></th>\n",
       "      <th></th>\n",
       "      <th></th>\n",
       "      <th></th>\n",
       "      <th></th>\n",
       "      <th></th>\n",
       "      <th></th>\n",
       "      <th></th>\n",
       "      <th></th>\n",
       "      <th></th>\n",
       "      <th></th>\n",
       "      <th></th>\n",
       "      <th></th>\n",
       "      <th></th>\n",
       "    </tr>\n",
       "  </thead>\n",
       "  <tbody>\n",
       "    <tr>\n",
       "      <th>2011-01-01 00:00:00</th>\n",
       "      <td>1</td>\n",
       "      <td>0</td>\n",
       "      <td>0</td>\n",
       "      <td>1</td>\n",
       "      <td>9.84</td>\n",
       "      <td>14.395</td>\n",
       "      <td>81</td>\n",
       "      <td>0.0</td>\n",
       "      <td>3</td>\n",
       "      <td>13</td>\n",
       "      <td>16</td>\n",
       "      <td>2011</td>\n",
       "      <td>1</td>\n",
       "      <td>0</td>\n",
       "      <td>5</td>\n",
       "      <td>0</td>\n",
       "    </tr>\n",
       "    <tr>\n",
       "      <th>2011-01-01 01:00:00</th>\n",
       "      <td>1</td>\n",
       "      <td>0</td>\n",
       "      <td>0</td>\n",
       "      <td>1</td>\n",
       "      <td>9.02</td>\n",
       "      <td>13.635</td>\n",
       "      <td>80</td>\n",
       "      <td>0.0</td>\n",
       "      <td>8</td>\n",
       "      <td>32</td>\n",
       "      <td>40</td>\n",
       "      <td>2011</td>\n",
       "      <td>1</td>\n",
       "      <td>1</td>\n",
       "      <td>5</td>\n",
       "      <td>0</td>\n",
       "    </tr>\n",
       "    <tr>\n",
       "      <th>2011-01-01 02:00:00</th>\n",
       "      <td>1</td>\n",
       "      <td>0</td>\n",
       "      <td>0</td>\n",
       "      <td>1</td>\n",
       "      <td>9.02</td>\n",
       "      <td>13.635</td>\n",
       "      <td>80</td>\n",
       "      <td>0.0</td>\n",
       "      <td>5</td>\n",
       "      <td>27</td>\n",
       "      <td>32</td>\n",
       "      <td>2011</td>\n",
       "      <td>1</td>\n",
       "      <td>2</td>\n",
       "      <td>5</td>\n",
       "      <td>0</td>\n",
       "    </tr>\n",
       "    <tr>\n",
       "      <th>2011-01-01 03:00:00</th>\n",
       "      <td>1</td>\n",
       "      <td>0</td>\n",
       "      <td>0</td>\n",
       "      <td>1</td>\n",
       "      <td>9.84</td>\n",
       "      <td>14.395</td>\n",
       "      <td>75</td>\n",
       "      <td>0.0</td>\n",
       "      <td>3</td>\n",
       "      <td>10</td>\n",
       "      <td>13</td>\n",
       "      <td>2011</td>\n",
       "      <td>1</td>\n",
       "      <td>3</td>\n",
       "      <td>5</td>\n",
       "      <td>0</td>\n",
       "    </tr>\n",
       "    <tr>\n",
       "      <th>2011-01-01 04:00:00</th>\n",
       "      <td>1</td>\n",
       "      <td>0</td>\n",
       "      <td>0</td>\n",
       "      <td>1</td>\n",
       "      <td>9.84</td>\n",
       "      <td>14.395</td>\n",
       "      <td>75</td>\n",
       "      <td>0.0</td>\n",
       "      <td>0</td>\n",
       "      <td>1</td>\n",
       "      <td>1</td>\n",
       "      <td>2011</td>\n",
       "      <td>1</td>\n",
       "      <td>4</td>\n",
       "      <td>5</td>\n",
       "      <td>0</td>\n",
       "    </tr>\n",
       "  </tbody>\n",
       "</table>\n",
       "</div>"
      ],
      "text/plain": [
       "                     season  holiday  workingday  weather  temp   atemp  \\\n",
       "regdate                                                                   \n",
       "2011-01-01 00:00:00       1        0           0        1  9.84  14.395   \n",
       "2011-01-01 01:00:00       1        0           0        1  9.02  13.635   \n",
       "2011-01-01 02:00:00       1        0           0        1  9.02  13.635   \n",
       "2011-01-01 03:00:00       1        0           0        1  9.84  14.395   \n",
       "2011-01-01 04:00:00       1        0           0        1  9.84  14.395   \n",
       "\n",
       "                     humidity  windspeed  casual  registered  regcount     y  \\\n",
       "regdate                                                                        \n",
       "2011-01-01 00:00:00        81        0.0       3          13        16  2011   \n",
       "2011-01-01 01:00:00        80        0.0       8          32        40  2011   \n",
       "2011-01-01 02:00:00        80        0.0       5          27        32  2011   \n",
       "2011-01-01 03:00:00        75        0.0       3          10        13  2011   \n",
       "2011-01-01 04:00:00        75        0.0       0           1         1  2011   \n",
       "\n",
       "                     m  h  w  day_type  \n",
       "regdate                                 \n",
       "2011-01-01 00:00:00  1  0  5         0  \n",
       "2011-01-01 01:00:00  1  1  5         0  \n",
       "2011-01-01 02:00:00  1  2  5         0  \n",
       "2011-01-01 03:00:00  1  3  5         0  \n",
       "2011-01-01 04:00:00  1  4  5         0  "
      ]
     },
     "execution_count": 8,
     "metadata": {},
     "output_type": "execute_result"
    }
   ],
   "source": [
    "train.head()"
   ]
  },
  {
   "cell_type": "code",
   "execution_count": 9,
   "id": "b6ae0347-adb7-42d2-893c-41e34307ffee",
   "metadata": {},
   "outputs": [],
   "source": [
    "# my_fit_score(train)"
   ]
  },
  {
   "cell_type": "markdown",
   "id": "df184ea8-1393-4cb6-9fa5-642da70acb90",
   "metadata": {
    "tags": []
   },
   "source": [
    "## windspeed 0 채우기"
   ]
  },
  {
   "cell_type": "code",
   "execution_count": 10,
   "id": "3e425ffa-21f3-4c23-8c10-42a97c669ebd",
   "metadata": {},
   "outputs": [
    {
     "data": {
      "text/plain": [
       "((10886, 16), (6493, 13))"
      ]
     },
     "execution_count": 10,
     "metadata": {},
     "output_type": "execute_result"
    }
   ],
   "source": [
    "train.shape, test.shape"
   ]
  },
  {
   "cell_type": "code",
   "execution_count": 11,
   "id": "bf4d19cc-4b90-40e1-807e-3498347e2643",
   "metadata": {
    "tags": []
   },
   "outputs": [],
   "source": [
    "def my_fill_windspeed(df):\n",
    "    target = df[['regcount','casual','registered']]\n",
    "    df = df.drop(['regcount','casual','registered'], axis=1)\n",
    "\n",
    "    df1   = df[df['windspeed'] != 0]\n",
    "    y_df1 = df1['windspeed']\n",
    "    X_df1 = df1.drop('windspeed', axis=1)\n",
    "    \n",
    "    rf = RandomForestRegressor(random_state=11)\n",
    "    X_df1_8, X_df1_2, y_df1_8, y_df1_2 = train_test_split(X_df1, y_df1, test_size=0.2, random_state=11)\n",
    "    rf.fit(X_df1_8, y_df1_8)\n",
    "    \n",
    "    pred = rf.predict(X_df1_2)\n",
    "    mse_score = mean_squared_error(y_df1_2, pred)\n",
    "    print(\"RMSE : \", np.sqrt(mse_score) )\n",
    "\n",
    "    df0 = df[df['windspeed'] == 0]\n",
    "    y_df0 = df0['windspeed']\n",
    "    X_df0 = df0.drop('windspeed', axis=1)\n",
    "    pred = rf.predict(X_df0)\n",
    "    widx = X_df0.index.values\n",
    "    df.loc[widx, 'windspeed'] = pred\n",
    "    return pd.concat([df, target], axis=1)"
   ]
  },
  {
   "cell_type": "code",
   "execution_count": 12,
   "id": "e8f42329-3280-4766-95c0-190a44312815",
   "metadata": {
    "tags": []
   },
   "outputs": [
    {
     "name": "stdout",
     "output_type": "stream",
     "text": [
      "RMSE :  4.8540409129695705\n"
     ]
    }
   ],
   "source": [
    "df = pd.concat([train, test], axis=0, ignore_index=True)\n",
    "train_idx = df.iloc[:train.shape[0], :].index\n",
    "test_idx  = df.iloc[train.shape[0]:, :].index\n",
    "#---------------------------------\n",
    "df = my_fill_windspeed(df)\n",
    "#---------------------------------\n",
    "train = df.loc[train_idx]\n",
    "test  = df.loc[test_idx]\n",
    "test = test.reset_index(drop=True)"
   ]
  },
  {
   "cell_type": "markdown",
   "id": "6524f140-e3bd-4a02-927b-c19c796aee34",
   "metadata": {},
   "source": [
    "## 원핫인코딩"
   ]
  },
  {
   "cell_type": "code",
   "execution_count": 13,
   "id": "992e1ae1-088e-4dd8-9b30-0e07ffa32f0c",
   "metadata": {
    "tags": []
   },
   "outputs": [],
   "source": [
    "# for col in train.columns:\n",
    "#     print(col, df[col].nunique())"
   ]
  },
  {
   "cell_type": "code",
   "execution_count": 14,
   "id": "a56921d6-44ef-40d4-8569-de1fda61e29d",
   "metadata": {
    "tags": []
   },
   "outputs": [],
   "source": [
    "# print(df.shape)\n",
    "# df = pd.get_dummies(df, columns=['season', 'weather','m', 'y', 'h', 'w', 'day_type'])\n",
    "# df.info()"
   ]
  },
  {
   "cell_type": "code",
   "execution_count": 15,
   "id": "dc07bbd6-05ed-43b1-a2f1-4b2d1c1b8c34",
   "metadata": {
    "tags": []
   },
   "outputs": [
    {
     "data": {
      "text/plain": [
       "Index(['season', 'holiday', 'workingday', 'weather', 'temp', 'atemp',\n",
       "       'humidity', 'windspeed', 'y', 'm', 'h', 'w', 'day_type', 'regcount',\n",
       "       'casual', 'registered'],\n",
       "      dtype='object')"
      ]
     },
     "execution_count": 15,
     "metadata": {},
     "output_type": "execute_result"
    }
   ],
   "source": [
    "df.columns"
   ]
  },
  {
   "cell_type": "markdown",
   "id": "594ae4ee-4546-41e2-86bf-a92d2cb27649",
   "metadata": {},
   "source": [
    "* 22"
   ]
  },
  {
   "cell_type": "code",
   "execution_count": 16,
   "id": "7d293f4b-2a53-4e50-a0e5-404d49719d87",
   "metadata": {
    "tags": []
   },
   "outputs": [],
   "source": [
    "# plt.figure(figsize=(20,20))\n",
    "# sns.heatmap(train.corr(), annot=True, fmt=\".2f\", cmap=\"coolwarm\")\n",
    "# plt.show()\n"
   ]
  },
  {
   "cell_type": "code",
   "execution_count": 17,
   "id": "15cd5d42-87e7-4bf1-92dc-71db78d7aa81",
   "metadata": {
    "tags": []
   },
   "outputs": [],
   "source": [
    "# plt.figure(figsize=(20,20))\n",
    "# sns.heatmap(df[['casual', 'registered', \n",
    "#        'h_0', 'h_1','h_2', 'h_3', 'h_4', 'h_5', 'h_6', 'h_7', 'h_8', 'h_9', 'h_10', 'h_11',\n",
    "#        'h_12', 'h_13', 'h_14', 'h_15', 'h_16', 'h_17', 'h_18', 'h_19', 'h_20',\n",
    "#        'h_21', 'h_22', 'h_23',\n",
    "#        #          ,'m_1','m_2', 'm_3', 'm_4', 'm_5', 'm_6', 'm_7', 'm_8', 'm_9', 'm_10', 'm_11',\n",
    "#        # 'm_12', 'y_2011', 'y_2012',  'w_0', 'w_1', 'w_2', 'w_3', 'w_4', 'w_5', 'w_6',\n",
    "#        # ,'holiday', 'workingday',    \n",
    "#        # 'day_type_0', 'day_type_1', 'day_type_2'\n",
    "#         ]].corr(), annot=True, fmt=\".2f\", cmap=\"coolwarm\")\n",
    "# plt.show()\n"
   ]
  },
  {
   "cell_type": "markdown",
   "id": "c516d172-18e6-4c20-a600-c9848bbea7ce",
   "metadata": {},
   "source": [
    "# 학습"
   ]
  },
  {
   "cell_type": "markdown",
   "id": "92ab7888-d652-4b51-9ca7-68955435e546",
   "metadata": {},
   "source": [
    "## 타켓 선정\n",
    "* 답안지 : count 제출\n",
    "* regcount(A패턴)  = registered(A2패턴) + casual (B패턴) \n",
    "* <font color=red><b>registered(A2패턴) + casual (B패턴)  --> 이 값을 답안으로 제출"
   ]
  },
  {
   "cell_type": "markdown",
   "id": "2d3e9cb3-e89b-4e61-b663-a1d523740c10",
   "metadata": {
    "tags": []
   },
   "source": [
    "## 최종피쳐 선정"
   ]
  },
  {
   "cell_type": "code",
   "execution_count": 18,
   "id": "6e6f5611-73be-46cd-9554-9d4468b8dd1b",
   "metadata": {
    "tags": []
   },
   "outputs": [
    {
     "data": {
      "text/plain": [
       "Index(['season', 'holiday', 'workingday', 'weather', 'temp', 'atemp',\n",
       "       'humidity', 'windspeed', 'y', 'm', 'h', 'w', 'day_type', 'regcount',\n",
       "       'casual', 'registered'],\n",
       "      dtype='object')"
      ]
     },
     "execution_count": 18,
     "metadata": {},
     "output_type": "execute_result"
    }
   ],
   "source": [
    "train.columns"
   ]
  },
  {
   "cell_type": "markdown",
   "id": "5a225149-38b1-49d1-a28c-2646697efa4a",
   "metadata": {},
   "source": [
    "<pre>\n",
    "타겟(1) : 'casual' + 'registered'\n",
    "타겟(2) : 'regcount'\n",
    "\n",
    "\n",
    "'d' 피쳐 삭제\n",
    "('m', 'h'),  'y', 'd' -->'w'\n",
    "\n",
    "\n",
    "(+)3개 : 'holiday', 'workingday', 'day_type'\n",
    "(+)2개 : 'holiday', 'workingday'\n",
    "(+)1개 : 'day_type'\n",
    "\n",
    "\n",
    "'weather', 'humidity',  'season', \n",
    "(+)'windspeed' : 'h' 비례? / 'm' 반비례?\n",
    "\n",
    "\n",
    "다중공선 : (상관계수가 높은 경우)\n",
    "'regcount' 'registered' 'casual' : 0.97  --> 'regcount' vs. 'registered'+'casual'\n",
    "'temp' 'atemp'                   : 0.98  --> 'atemp' drop\n",
    "\n",
    "선택적으로 모델에 적용\n",
    "(+)'w' 'day_type' : -0.78\n",
    "(+)'season' 'm'   : 0.97\n",
    "\n",
    "\n",
    "* ('m', 'h'),  'y', 'w', 'weather', 'humidity',  'season', 'temp'\n",
    "* (+)'windspeed'\n",
    "* (+)('holiday', 'workingday'), ('day_type')\n",
    "* (+)('w' 'day_type') : -0.78\n",
    "* (+)('m') 'season'    : 0.97\n"
   ]
  },
  {
   "cell_type": "markdown",
   "id": "b0a8ef5c-ccb7-471e-86ee-e79371b957c6",
   "metadata": {},
   "source": [
    "## 학습 & 평가\n",
    "* ref : https://suboptimal.wiki/explanation/mse/"
   ]
  },
  {
   "cell_type": "markdown",
   "id": "c13f6955-1f3d-470c-addd-3f8da46a8c06",
   "metadata": {},
   "source": [
    "*  $ RMSLE = \\sqrt{\\frac{1}{n}\\Sigma_{i=1}^{n}{\\Big(\\frac{log(Y_i+1) - log(\\hat{Y_i}+1)}{N}\\Big)^2}}$"
   ]
  },
  {
   "cell_type": "markdown",
   "id": "29a1c744-f6c5-4551-9ed3-193de936a229",
   "metadata": {},
   "source": [
    "## 공통함수"
   ]
  },
  {
   "cell_type": "code",
   "execution_count": 19,
   "id": "75c1e36b-5262-41cc-854f-abb5cb91188c",
   "metadata": {
    "tags": []
   },
   "outputs": [],
   "source": [
    "# ! pip install xgboost\n",
    "# ! pip install lightgbm "
   ]
  },
  {
   "cell_type": "markdown",
   "id": "445d814d-2e21-45e3-9f71-9a37eb585c5c",
   "metadata": {},
   "source": [
    "* class sklearn.linear_model.Ridge(alpha=1.0, *, fit_intercept=True, copy_X=True, max_iter=None, tol=0.0001, solver='auto', positive=False, random_state=None)\n",
    "* class sklearn.linear_model.Lasso(alpha=1.0, *, fit_intercept=True, precompute=False, copy_X=True, max_iter=1000, tol=0.0001, warm_start=False, positive=False, random_state=None, selection='cyclic')"
   ]
  },
  {
   "cell_type": "markdown",
   "id": "38500382-7374-4947-8d7f-de2288cb0d06",
   "metadata": {},
   "source": [
    "* https://towardsdatascience.com/custom-implementation-of-feature-importance-for-your-voting-classifier-model-859b573ce0e0\n",
    "* [bagging vs boosting] : http://egloos.zum.com/incredible/v/7478090\n",
    "* [eval plot] https://hyemin-kim.github.io/2020/08/04/S-Python-sklearn4/#2-%ED%8F%89%EA%B0%80-%EC%A7%80%ED%91%9C-%EB%A7%8C%EB%93%A4%EA%B8%B0"
   ]
  },
  {
   "cell_type": "code",
   "execution_count": 20,
   "id": "00a2a05c-edb8-49a3-adbe-ec40beb55252",
   "metadata": {
    "tags": []
   },
   "outputs": [
    {
     "data": {
      "text/plain": [
       "'Ridge'"
      ]
     },
     "execution_count": 20,
     "metadata": {},
     "output_type": "execute_result"
    }
   ],
   "source": [
    "modelsss = Ridge(alpha=1.0, random_state=0)\n",
    "modelsss.__class__.__name__"
   ]
  },
  {
   "cell_type": "code",
   "execution_count": 21,
   "id": "a9238df6-b1a7-4a05-a5ac-63579e5e8acf",
   "metadata": {
    "tags": []
   },
   "outputs": [
    {
     "name": "stdout",
     "output_type": "stream",
     "text": [
      "<class 'pandas.core.frame.DataFrame'>\n",
      "Int64Index: 10886 entries, 0 to 10885\n",
      "Data columns (total 16 columns):\n",
      " #   Column      Non-Null Count  Dtype  \n",
      "---  ------      --------------  -----  \n",
      " 0   season      10886 non-null  int64  \n",
      " 1   holiday     10886 non-null  int64  \n",
      " 2   workingday  10886 non-null  int64  \n",
      " 3   weather     10886 non-null  int64  \n",
      " 4   temp        10886 non-null  float64\n",
      " 5   atemp       10886 non-null  float64\n",
      " 6   humidity    10886 non-null  int64  \n",
      " 7   windspeed   10886 non-null  float64\n",
      " 8   y           10886 non-null  int64  \n",
      " 9   m           10886 non-null  int64  \n",
      " 10  h           10886 non-null  int64  \n",
      " 11  w           10886 non-null  int64  \n",
      " 12  day_type    10886 non-null  int64  \n",
      " 13  regcount    10886 non-null  float64\n",
      " 14  casual      10886 non-null  float64\n",
      " 15  registered  10886 non-null  float64\n",
      "dtypes: float64(6), int64(10)\n",
      "memory usage: 1.4 MB\n"
     ]
    }
   ],
   "source": [
    "train.info()"
   ]
  },
  {
   "cell_type": "code",
   "execution_count": 22,
   "id": "cb76a413-3251-45d3-96d9-0baf3e8dfa2e",
   "metadata": {
    "tags": []
   },
   "outputs": [],
   "source": [
    "def my_fit_score(df, chart_view = False) :\n",
    "    model_list = [ \n",
    "                   # (\"RIDGE  , Ridge(alpha=1.0, random_state=0)),\n",
    "                   # (\"LASSO\"  , Lasso(alpha=1.0, random_state=0)),\n",
    "                   (\"DTR\"    , DecisionTreeClassifier(random_state=0)),\n",
    "                   (\"RF\"     , RandomForestRegressor(random_state=0)),\n",
    "                   # (\"LR\"     , LinearRegression()                   ),\n",
    "                   # (\"ABOOST\" , AdaBoostRegressor(random_state=0)                  ),\n",
    "                   (\"XGB\"    , XGBRegressor(random_state=0)                       ),   #booster=gblinear\n",
    "                   (\"LGBM\"   , LGBMRegressor(random_state=0)                      ),\n",
    "                   # model.booster().get_score(importance_type='weight')\n",
    "                   (\"VR-XGB-LGBM\"  , VotingRegressor([(\"XGB\", XGBRegressor(random_state=0)), (\"LGBM\", LGBMRegressor(random_state=0))]) ) ,\n",
    "                   (\"VR-RF-LGBM\"   , VotingRegressor([(\"DTR\", RandomForestRegressor(random_state=0)), (\"LGBM\", LGBMRegressor(random_state=0))]) )\n",
    "                 ]\n",
    "    \n",
    "\n",
    "    #------------------------------------------------\n",
    "    # 이산형 피쳐 원핫인코딩\n",
    "    # ['season', 'weather','m', 'y', 'h', 'w', 'day_type']\n",
    "    # X = pd.get_dummies(X, columns=['season', 'weather','m', 'y', 'h', 'w', 'day_type'])\n",
    "    kf = KFold(n_splits=5, shuffle=True, random_state=11)\n",
    "    for i, (train_index, test_index) in enumerate(kf.split(X)):\n",
    "    \n",
    "        X_train = X.iloc[train_index]\n",
    "        X_test = X.iloc[test_index]\n",
    "        y_rtrain = y_r.iloc[train_index]\n",
    "        y_rtest = y_y.iloc[test_index]\n",
    "    \n",
    "    for i, (train_index, test_index) in enumerate(kf.split(X)):\n",
    "    \n",
    "        X_train = X.iloc[train_index]\n",
    "        X_test = X.iloc[test_index]\n",
    "        y_ctrain = y_c.iloc[train_index]\n",
    "        y_ctest = y_c.iloc[test_index]\n",
    "    \n",
    "    for tpl in model_list :\n",
    "        # print( tpl[0] ) \n",
    "        \n",
    "        model = tpl[1]\n",
    "        score_list = cross_val_score(model,X,y_r,scoring = 'neg_mean_squared_log_error',cv=5)\n",
    "        \n",
    "        # model = tpl[1]\n",
    "        # X_train, X_test, y_train, y_r_test = train_test_split(X, y_r, random_state=0, test_size=0.2)\n",
    "        # model.fit(X_train, y_train)\n",
    "        \n",
    "        # if bool(chart_view): #차트뷰 옵션 걸기(true일 때만 실행)\n",
    "        #     my_view_chart(tpl[0], model, X_train)\n",
    "        \n",
    "        # y_r_pred = model.predict(X_test)\n",
    "        \n",
    "        \n",
    "\n",
    "    model = DecisionTreeClassifier(random_state=11)\n",
    "    mydic = {'min_samples_split':[1,2,3],\n",
    "            'min_samples_leaf':[1,2,3]}\n",
    "\n",
    "    models = GridSearchCV(model, scoring = 'neg_mean_squared_log_error', cv=kf, param_grid = mydic) #9개 케이스의 모델들 생성\n",
    "\n",
    "    models.fit(X_train, y_c)\n",
    "\n",
    "    best_scores_\n",
    "\n",
    "       \n",
    "        # model = tpl[1]\n",
    "        # # X_train, X_test, y_train, y_c_test = train_test_split(X, y_c, random_state=0, test_size=0.2)\n",
    "        # model.fit(X_train, y_train)\n",
    "        # y_c_pred = model.predict(X_test)\n",
    "        \n",
    "        #---------(타켓피쳐:로그스케일링) 복원-----------\n",
    "        # y_pred_comb = np.expm1(y_r_pred)+np.expm1(y_c_pred)\n",
    "        # y_real_comb = np.expm1(y_r_test)+np.expm1(y_c_test)\n",
    "        # y_pred_comb[y_pred_comb < 0] = 0\n",
    "        \n",
    "        # print(\"yrtest\", y_r_test[:5])\n",
    "        # print(\"yctest\", y_c_test[:5])\n",
    "        # print(\"ypred\", y_pred_comb[:5])\n",
    "        # msle_score = mean_squared_log_error(y_real_comb, y_pred_comb)\n",
    "\n",
    "        # print(\"RMSLE: \", np.sqrt(msle_score)) \n",
    "    print(\"SCORE: \", np.sqrt(np.mean(score_list)))\n",
    "    print(\"SCORE: \", best_scores_)\n",
    "    print(\"-\"*30)\n"
   ]
  },
  {
   "cell_type": "code",
   "execution_count": null,
   "id": "8e361003-ec32-419f-a83c-7c880e0d3603",
   "metadata": {},
   "outputs": [],
   "source": []
  },
  {
   "cell_type": "code",
   "execution_count": 23,
   "id": "60a37cd9-d429-4762-8d19-104ae09fc7a6",
   "metadata": {
    "tags": []
   },
   "outputs": [],
   "source": [
    "def my_view_chart(model_name, model, X_train):\n",
    "    if tpl[0] == \"RIDGE\" :\n",
    "            ax1 = plt.subplot(4,1,1)\n",
    "            s = pd.Series(model.coef_, index=X_train.columns).sort_values()\n",
    "            sns.barplot(x=s.values, y=s.index, ax=ax1)\n",
    "            plt.show()\n",
    "    elif tpl[0] == \"RF\" :\n",
    "            ax2 = plt.subplot(4,1,2)\n",
    "            s = pd.Series(model.feature_importances_, index=X_train.columns).sort_values()\n",
    "            sns.barplot(x=s.values, y=s.index, ax=ax2)\n",
    "            plt.show()\n",
    "    elif tpl[0] == \"XGB\" :\n",
    "            ax3 = plt.subplot(4,1,3)\n",
    "            # Weight, Gain, Cover\n",
    "            s = pd.Series(model.get_booster().get_score(importance_type='weight'), index=X_train.columns).sort_values()\n",
    "            sns.barplot(x=s.values, y=s.index, ax=ax3)\n",
    "            plt.show()\n",
    "    elif tpl[0] == \"LGBM\" :\n",
    "            ax4 = plt.subplot(4,1,4)  \n",
    "            # Gain, Split\n",
    "            #s = pd.Series(model.booster_.faeture_importance(importance_type=\"gain\"), index=X_train.columns).sort_values()\n",
    "            s = pd.Series(model.feature_importances_, index=X_train.columns).sort_values()\n",
    "            sns.barplot(x=s.values, y=s.index, ax=ax4)\n",
    "            plt.show()\n",
    "    "
   ]
  },
  {
   "cell_type": "markdown",
   "id": "d77c8815-a400-4774-bf01-3e4f789b9a60",
   "metadata": {
    "tags": []
   },
   "source": [
    "## 점수보기\n",
    "* RF  \n",
    "RMSLE:  0.3288546947603633  : 원본  \n",
    "RMSLE:  0.327712532218228   : 풍속채우기  \n",
    "RMSLE:  0.3029460779805034  : 스케일링  \n",
    "\n",
    "* VR-XGB-LGBM  \n",
    "RMSLE:  0.2839304212238602  : 타겟스케일링  \n",
    "RMSLE:  0.28362762650351697 : 연속형스케일링"
   ]
  },
  {
   "cell_type": "code",
   "execution_count": 24,
   "id": "79315927-e04b-44ed-b6be-121e82af0cbd",
   "metadata": {
    "tags": []
   },
   "outputs": [
    {
     "ename": "NameError",
     "evalue": "name 'X' is not defined",
     "output_type": "error",
     "traceback": [
      "\u001b[1;31m---------------------------------------------------------------------------\u001b[0m",
      "\u001b[1;31mNameError\u001b[0m                                 Traceback (most recent call last)",
      "Cell \u001b[1;32mIn[24], line 1\u001b[0m\n\u001b[1;32m----> 1\u001b[0m \u001b[43mmy_fit_score\u001b[49m\u001b[43m(\u001b[49m\u001b[43mtrain\u001b[49m\u001b[43m)\u001b[49m\n",
      "Cell \u001b[1;32mIn[22], line 22\u001b[0m, in \u001b[0;36mmy_fit_score\u001b[1;34m(df, chart_view)\u001b[0m\n\u001b[0;32m     17\u001b[0m \u001b[38;5;66;03m#------------------------------------------------\u001b[39;00m\n\u001b[0;32m     18\u001b[0m \u001b[38;5;66;03m# 이산형 피쳐 원핫인코딩\u001b[39;00m\n\u001b[0;32m     19\u001b[0m \u001b[38;5;66;03m# ['season', 'weather','m', 'y', 'h', 'w', 'day_type']\u001b[39;00m\n\u001b[0;32m     20\u001b[0m \u001b[38;5;66;03m# X = pd.get_dummies(X, columns=['season', 'weather','m', 'y', 'h', 'w', 'day_type'])\u001b[39;00m\n\u001b[0;32m     21\u001b[0m kf \u001b[38;5;241m=\u001b[39m KFold(n_splits\u001b[38;5;241m=\u001b[39m\u001b[38;5;241m5\u001b[39m, shuffle\u001b[38;5;241m=\u001b[39m\u001b[38;5;28;01mTrue\u001b[39;00m, random_state\u001b[38;5;241m=\u001b[39m\u001b[38;5;241m11\u001b[39m)\n\u001b[1;32m---> 22\u001b[0m \u001b[38;5;28;01mfor\u001b[39;00m i, (train_index, test_index) \u001b[38;5;129;01min\u001b[39;00m \u001b[38;5;28menumerate\u001b[39m(kf\u001b[38;5;241m.\u001b[39msplit(\u001b[43mX\u001b[49m)):\n\u001b[0;32m     24\u001b[0m     X_train \u001b[38;5;241m=\u001b[39m X\u001b[38;5;241m.\u001b[39miloc[train_index]\n\u001b[0;32m     25\u001b[0m     X_test \u001b[38;5;241m=\u001b[39m X\u001b[38;5;241m.\u001b[39miloc[test_index]\n",
      "\u001b[1;31mNameError\u001b[0m: name 'X' is not defined"
     ]
    }
   ],
   "source": [
    "my_fit_score(train)"
   ]
  },
  {
   "cell_type": "code",
   "execution_count": null,
   "id": "4084abd0-f0e7-461a-92e2-78a5615cb828",
   "metadata": {},
   "outputs": [],
   "source": []
  },
  {
   "cell_type": "code",
   "execution_count": null,
   "id": "0be532a1-db9e-416f-bca0-32d0edd9a633",
   "metadata": {},
   "outputs": [],
   "source": []
  },
  {
   "cell_type": "code",
   "execution_count": null,
   "id": "2a6a914f-7720-4ead-98ed-6b1c466c1c51",
   "metadata": {},
   "outputs": [],
   "source": [
    "ddfdfdfdff"
   ]
  },
  {
   "cell_type": "markdown",
   "id": "76e69766-80d8-4bd7-b143-d1bcf284ac48",
   "metadata": {},
   "source": [
    "## Outlier 처리\n",
    "* <font color=red size=4><b>train에만 처리"
   ]
  },
  {
   "cell_type": "markdown",
   "id": "589837e1-2664-427b-bee6-31e6b38d29f7",
   "metadata": {},
   "source": [
    "<pre>\n",
    "RIDGE\n",
    "RMSLE:  1.2381857382907928\n",
    "------------------------------\n",
    "LASSO\n",
    "RMSLE:  1.225011162068078\n",
    "------------------------------\n",
    "DTR\n",
    "RMSLE:  0.40846452875216704\n",
    "------------------------------\n",
    "RF\n",
    "RMSLE:  0.33285798378220866\n",
    "------------------------------\n",
    "LR\n",
    "RMSLE:  1.2382780216954419\n",
    "------------------------------\n",
    "ABOOST\n",
    "RMSLE:  1.115326753305681\n",
    "------------------------------\n",
    "XGB\n",
    "RMSLE:  0.4611753550135809\n",
    "------------------------------\n",
    "LGBM\n",
    "RMSLE:  0.3999441627321239\n",
    "------------------------------\n",
    "VR-XGB-LGBM\n",
    "RMSLE:  0.3877526497892151\n",
    "------------------------------\n",
    "VR-RF-LGBM\n",
    "RMSLE:  0.34299001906970344\n",
    "------------------------------"
   ]
  },
  {
   "cell_type": "code",
   "execution_count": null,
   "id": "4daec778-eb95-4b72-b8e8-909e8cdb9309",
   "metadata": {},
   "outputs": [],
   "source": [
    "train.shape, test.shape"
   ]
  },
  {
   "cell_type": "markdown",
   "id": "ce0e04b1-cec5-4189-89a6-4477558537c2",
   "metadata": {},
   "source": [
    "* 아웃라이어는 스케일 전에 df에서 처리해서, 정규화를 더 디테일하게 만든다."
   ]
  },
  {
   "cell_type": "code",
   "execution_count": null,
   "id": "e9ea4257-3ae3-476a-93c3-965c43430965",
   "metadata": {},
   "outputs": [],
   "source": []
  },
  {
   "cell_type": "code",
   "execution_count": null,
   "id": "6e134f2d-9eaa-4f4d-b19a-11b37cada50c",
   "metadata": {},
   "outputs": [],
   "source": [
    "train.shape, test.shape"
   ]
  },
  {
   "cell_type": "markdown",
   "id": "65f2676b-df2f-4007-9011-827612423ee8",
   "metadata": {},
   "source": [
    "## 점수보기"
   ]
  },
  {
   "cell_type": "code",
   "execution_count": null,
   "id": "05cd0dbc-4c38-44df-b361-196e9ccf6e01",
   "metadata": {
    "tags": []
   },
   "outputs": [],
   "source": [
    "# my_fit_score(train)"
   ]
  },
  {
   "cell_type": "code",
   "execution_count": null,
   "id": "cdd58b76-88cd-4f8b-8cce-491612e8fbee",
   "metadata": {},
   "outputs": [],
   "source": []
  },
  {
   "cell_type": "code",
   "execution_count": null,
   "id": "18e9f51f-bacc-49f3-8427-298f0bd31e14",
   "metadata": {},
   "outputs": [],
   "source": []
  },
  {
   "cell_type": "code",
   "execution_count": null,
   "id": "e0ba2399-08aa-486c-b23f-d8437cdc27f6",
   "metadata": {},
   "outputs": [],
   "source": []
  },
  {
   "cell_type": "code",
   "execution_count": null,
   "id": "09e23d8f-07a6-4b3c-a163-c18f722eb642",
   "metadata": {},
   "outputs": [],
   "source": []
  },
  {
   "cell_type": "code",
   "execution_count": null,
   "id": "9b7f84e5-dda3-4ca0-86f8-bb52f97c6ff0",
   "metadata": {},
   "outputs": [],
   "source": []
  },
  {
   "cell_type": "code",
   "execution_count": null,
   "id": "3d621c2f-ea88-47e6-b2d7-2a8f9f553276",
   "metadata": {
    "tags": []
   },
   "outputs": [],
   "source": []
  }
 ],
 "metadata": {
  "kernelspec": {
   "display_name": "Python 3 (ipykernel)",
   "language": "python",
   "name": "python3"
  },
  "language_info": {
   "codemirror_mode": {
    "name": "ipython",
    "version": 3
   },
   "file_extension": ".py",
   "mimetype": "text/x-python",
   "name": "python",
   "nbconvert_exporter": "python",
   "pygments_lexer": "ipython3",
   "version": "3.8.8"
  },
  "toc-autonumbering": true,
  "toc-showmarkdowntxt": false
 },
 "nbformat": 4,
 "nbformat_minor": 5
}
