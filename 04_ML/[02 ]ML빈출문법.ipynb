{
 "cells": [
  {
   "cell_type": "code",
   "execution_count": 1,
   "id": "60691223-e796-4b11-b75a-19c7598ddf1f",
   "metadata": {
    "tags": []
   },
   "outputs": [
    {
     "data": {
      "text/html": [
       "<style>.container{width:100% !important;}</style>"
      ],
      "text/plain": [
       "<IPython.core.display.HTML object>"
      ]
     },
     "metadata": {},
     "output_type": "display_data"
    }
   ],
   "source": [
    "import numpy as np\n",
    "import pandas as pd\n",
    "\n",
    "import matplotlib.pyplot as plt\n",
    "import seaborn as sns\n",
    "\n",
    "sns.set()\n",
    "\n",
    "\n",
    "\n",
    "sns.set()\n",
    "\n",
    "#-------------------- 차트 관련 속성 (한글처리, 그리드) -----------\n",
    "plt.rcParams['font.family']= 'Malgun Gothic'\n",
    "plt.rcParams['axes.unicode_minus'] = False\n",
    "\n",
    "#-------------------- 주피터 , 출력결과 넓이 늘리기 ---------------\n",
    "# from IPython.core.display import display, HTML\n",
    "from IPython.display import display, HTML\n",
    "\n",
    "display(HTML(\"<style>.container{width:100% !important;}</style>\"))\n",
    "pd.set_option('display.max_rows', 100)\n",
    "pd.set_option('display.max_columns', 100)\n",
    "pd.set_option('max_colwidth', None)\n",
    "\n",
    "import warnings\n",
    "warnings.filterwarnings(action='ignore')"
   ]
  },
  {
   "cell_type": "code",
   "execution_count": 2,
   "id": "0e93f373-11e5-473e-978d-1bf30d8c015c",
   "metadata": {
    "tags": []
   },
   "outputs": [],
   "source": [
    "# ! pip install scikit-Learn"
   ]
  },
  {
   "cell_type": "markdown",
   "id": "560f688c-fa0c-4e62-a658-e512388a673a",
   "metadata": {},
   "source": [
    "# ML 에 자주 쓰이는 빈출 문법"
   ]
  },
  {
   "cell_type": "markdown",
   "id": "64a1e305-84d3-4419-bd15-4ec98467f074",
   "metadata": {},
   "source": [
    "<img src=\"https://scikit-learn.org/stable/_static/ml_map.png\">"
   ]
  },
  {
   "cell_type": "markdown",
   "id": "2ac7e0a9-0c22-4e38-99fe-6c28f3c78320",
   "metadata": {},
   "source": [
    " * sklearn으로 주로 쓰이는 방법 "
   ]
  },
  {
   "cell_type": "markdown",
   "id": "184556fe-157f-42e4-a13a-fddf76559c2e",
   "metadata": {},
   "source": [
    "# 분석 프로세스 절차"
   ]
  },
  {
   "cell_type": "markdown",
   "id": "d73b7a7b-7c04-4a8b-9a42-e132d330f00a",
   "metadata": {
    "tags": []
   },
   "source": [
    "<pre><font size = 3><b>\n",
    "\n",
    "------------------------------------------------------------------------\n",
    "1. Data Load\n",
    "------------------------------------------------------------------------\n",
    "2. EDA (Exploratory Data Analysis) 탐색적 데이터 분석\n",
    "    -통계적 데이터 분포 확인\n",
    "    - 차트 시각화\n",
    "------------------------------------------------------------------------    \n",
    "3. Feature Engineering ---> 전처리 : preprocessing / 가공 : Engineering\n",
    "    - \n",
    "    - 타입변환(날짜, 카테고리변환(ABC->123)\n",
    "    - 결측처리(버리기 dropna(), 채우기 fillna(), 모델로 채우기)\n",
    "    - 바이닝(범주화 : cut, qcut)\n",
    "    - 인코딩(라벨인코딩, 원핫인코딩, pd.get_dummies())\n",
    "    - 정규화(스케일링 : MinMaxScaler, StandatdScaler, RobustScaler, Log)\n",
    "    - 이상치(outlier)\n",
    "------------------------------------------------------------------------    \n",
    "4. 모델 선정(Model Selection : pycaret)\n",
    "    - 회귀 Regression\n",
    "    - 분류 Classification\n",
    "    - 군집 Clustering, PCA\n",
    "------------------------------------------------------------------------\n",
    "5. 모델 학습 및 예측(train_test_split & fit & Predict)\n",
    "------------------------------------------------------------------------\n",
    "6. 모델 검증 및 평가 (Validation & Evaluation metrics)\n",
    "------------------------------------------------------------------------\n",
    "7. 하이퍼파미터 튜닝(Hyper-parameter(모델의 속성값) optimization)\n",
    "------------------------------------------------------------------------\n",
    "8. 모델 저장 및 배포(Model Save & Deployment)\n",
    "------------------------------------------------------------------------\n",
    "\n"
   ]
  },
  {
   "cell_type": "markdown",
   "id": "ee897a69-0474-4ad8-928c-98329fbffc70",
   "metadata": {
    "tags": []
   },
   "source": [
    "# 결측\n",
    "    - None,np.nan\n",
    "    - 삭제 : dropna()\n",
    "    - 보간(대체해서 채우기) : 채우기 fillna(), 모델로 채우기"
   ]
  },
  {
   "cell_type": "code",
   "execution_count": 29,
   "id": "c3fc5336-95d9-468d-8afe-ed46ff5481d2",
   "metadata": {
    "tags": []
   },
   "outputs": [
    {
     "data": {
      "text/html": [
       "<div>\n",
       "<style scoped>\n",
       "    .dataframe tbody tr th:only-of-type {\n",
       "        vertical-align: middle;\n",
       "    }\n",
       "\n",
       "    .dataframe tbody tr th {\n",
       "        vertical-align: top;\n",
       "    }\n",
       "\n",
       "    .dataframe thead th {\n",
       "        text-align: right;\n",
       "    }\n",
       "</style>\n",
       "<table border=\"1\" class=\"dataframe\">\n",
       "  <thead>\n",
       "    <tr style=\"text-align: right;\">\n",
       "      <th></th>\n",
       "      <th>name</th>\n",
       "      <th>score</th>\n",
       "    </tr>\n",
       "  </thead>\n",
       "  <tbody>\n",
       "    <tr>\n",
       "      <th>0</th>\n",
       "      <td>None</td>\n",
       "      <td>A</td>\n",
       "    </tr>\n",
       "    <tr>\n",
       "      <th>1</th>\n",
       "      <td>NaN</td>\n",
       "      <td>NaN</td>\n",
       "    </tr>\n",
       "    <tr>\n",
       "      <th>2</th>\n",
       "      <td>NaN(글자)</td>\n",
       "      <td>NaN</td>\n",
       "    </tr>\n",
       "    <tr>\n",
       "      <th>3</th>\n",
       "      <td>allen</td>\n",
       "      <td>D</td>\n",
       "    </tr>\n",
       "    <tr>\n",
       "      <th>4</th>\n",
       "      <td>king</td>\n",
       "      <td>C</td>\n",
       "    </tr>\n",
       "  </tbody>\n",
       "</table>\n",
       "</div>"
      ],
      "text/plain": [
       "      name score\n",
       "0     None     A\n",
       "1      NaN   NaN\n",
       "2  NaN(글자)   NaN\n",
       "3    allen     D\n",
       "4     king     C"
      ]
     },
     "execution_count": 29,
     "metadata": {},
     "output_type": "execute_result"
    }
   ],
   "source": [
    "df = pd.DataFrame({\"name\":[None,np.nan,\"NaN(글자)\",\"allen\",\"king\"],\"score\": [\"A\",np.nan,np.nan,\"D\",\"C\"]})\n",
    "df.head()"
   ]
  },
  {
   "cell_type": "markdown",
   "id": "1114168c-cb78-41a3-afe3-210de0a397c1",
   "metadata": {},
   "source": [
    "## 결측 체크"
   ]
  },
  {
   "cell_type": "code",
   "execution_count": 31,
   "id": "acbbbf34-eb29-4bf9-ba8c-a2431c99755d",
   "metadata": {
    "tags": []
   },
   "outputs": [
    {
     "name": "stdout",
     "output_type": "stream",
     "text": [
      "['name' 'score']\n"
     ]
    }
   ],
   "source": [
    "print(df.isna().sum()[df.isna().sum()>0].index.values)\n",
    "\n",
    "#none인 애들 인덱스의 컬럼 뽑기"
   ]
  },
  {
   "cell_type": "markdown",
   "id": "0fc0671e-4b89-44ad-b156-d84ac70cb1ae",
   "metadata": {
    "tags": []
   },
   "source": [
    "<pre>\n",
    "df.isna() df.notna()\n",
    "df.isnull() df.notnull()"
   ]
  },
  {
   "cell_type": "markdown",
   "id": "6ab10d02-d464-41fe-9e2a-493b2259350c",
   "metadata": {},
   "source": [
    "## 결측이 있는 컬럼만 가져오기"
   ]
  },
  {
   "cell_type": "code",
   "execution_count": 32,
   "id": "fe772cfb-1790-4684-945d-963b023dbf16",
   "metadata": {
    "tags": []
   },
   "outputs": [
    {
     "data": {
      "text/html": [
       "<div>\n",
       "<style scoped>\n",
       "    .dataframe tbody tr th:only-of-type {\n",
       "        vertical-align: middle;\n",
       "    }\n",
       "\n",
       "    .dataframe tbody tr th {\n",
       "        vertical-align: top;\n",
       "    }\n",
       "\n",
       "    .dataframe thead th {\n",
       "        text-align: right;\n",
       "    }\n",
       "</style>\n",
       "<table border=\"1\" class=\"dataframe\">\n",
       "  <thead>\n",
       "    <tr style=\"text-align: right;\">\n",
       "      <th></th>\n",
       "      <th>name</th>\n",
       "      <th>score</th>\n",
       "    </tr>\n",
       "  </thead>\n",
       "  <tbody>\n",
       "    <tr>\n",
       "      <th>0</th>\n",
       "      <td>None</td>\n",
       "      <td>A</td>\n",
       "    </tr>\n",
       "    <tr>\n",
       "      <th>3</th>\n",
       "      <td>allen</td>\n",
       "      <td>D</td>\n",
       "    </tr>\n",
       "    <tr>\n",
       "      <th>4</th>\n",
       "      <td>king</td>\n",
       "      <td>C</td>\n",
       "    </tr>\n",
       "  </tbody>\n",
       "</table>\n",
       "</div>"
      ],
      "text/plain": [
       "    name score\n",
       "0   None     A\n",
       "3  allen     D\n",
       "4   king     C"
      ]
     },
     "execution_count": 32,
     "metadata": {},
     "output_type": "execute_result"
    }
   ],
   "source": [
    "# df[df['score'].isna() == False]\n",
    "\n",
    "df[df['score'].notna()]"
   ]
  },
  {
   "cell_type": "markdown",
   "id": "a43e5ff9-9837-4770-b125-7cdf42377d72",
   "metadata": {},
   "source": [
    "## 결측 삭제"
   ]
  },
  {
   "cell_type": "markdown",
   "id": "c97356b6-c273-4707-a63b-107611e1e74b",
   "metadata": {},
   "source": [
    "<pre>\n",
    "<b>DataFrame.dropna(*, axis=0, how=_NoDefault.no_default, inplace=False</b> ,thresh=_NoDefault.no_default, subset=None)\n",
    "\n",
    "    - axis{0 or ‘index’, 1 or ‘columns’}, default 0\n",
    "    - how{‘any’, ‘all’}, default ‘any’\n",
    "      <b>  - any : 컬럼 중에 하나라도 결측이면 삭제\n",
    "        - all : 전부 Nan이면 삭제</b>"
   ]
  },
  {
   "cell_type": "code",
   "execution_count": 6,
   "id": "5a8d7296-656b-4031-a3cd-2c48f3da594b",
   "metadata": {
    "tags": []
   },
   "outputs": [
    {
     "data": {
      "text/html": [
       "<div>\n",
       "<style scoped>\n",
       "    .dataframe tbody tr th:only-of-type {\n",
       "        vertical-align: middle;\n",
       "    }\n",
       "\n",
       "    .dataframe tbody tr th {\n",
       "        vertical-align: top;\n",
       "    }\n",
       "\n",
       "    .dataframe thead th {\n",
       "        text-align: right;\n",
       "    }\n",
       "</style>\n",
       "<table border=\"1\" class=\"dataframe\">\n",
       "  <thead>\n",
       "    <tr style=\"text-align: right;\">\n",
       "      <th></th>\n",
       "      <th>name</th>\n",
       "      <th>score</th>\n",
       "    </tr>\n",
       "  </thead>\n",
       "  <tbody>\n",
       "    <tr>\n",
       "      <th>0</th>\n",
       "      <td>None</td>\n",
       "      <td>A</td>\n",
       "    </tr>\n",
       "    <tr>\n",
       "      <th>1</th>\n",
       "      <td>NaN</td>\n",
       "      <td>NaN</td>\n",
       "    </tr>\n",
       "    <tr>\n",
       "      <th>2</th>\n",
       "      <td>NaN</td>\n",
       "      <td>NaN</td>\n",
       "    </tr>\n",
       "    <tr>\n",
       "      <th>3</th>\n",
       "      <td>allen</td>\n",
       "      <td>D</td>\n",
       "    </tr>\n",
       "    <tr>\n",
       "      <th>4</th>\n",
       "      <td>king</td>\n",
       "      <td>C</td>\n",
       "    </tr>\n",
       "  </tbody>\n",
       "</table>\n",
       "</div>"
      ],
      "text/plain": [
       "    name score\n",
       "0   None     A\n",
       "1    NaN   NaN\n",
       "2    NaN   NaN\n",
       "3  allen     D\n",
       "4   king     C"
      ]
     },
     "execution_count": 6,
     "metadata": {},
     "output_type": "execute_result"
    }
   ],
   "source": [
    "df"
   ]
  },
  {
   "cell_type": "markdown",
   "id": "e9f4bb0f-7510-4ade-92a2-af93fec37613",
   "metadata": {},
   "source": [
    "### 열만 지우기"
   ]
  },
  {
   "cell_type": "code",
   "execution_count": 7,
   "id": "71ab71ef-2323-4d1d-8768-5b07098dcceb",
   "metadata": {
    "tags": []
   },
   "outputs": [
    {
     "data": {
      "text/html": [
       "<div>\n",
       "<style scoped>\n",
       "    .dataframe tbody tr th:only-of-type {\n",
       "        vertical-align: middle;\n",
       "    }\n",
       "\n",
       "    .dataframe tbody tr th {\n",
       "        vertical-align: top;\n",
       "    }\n",
       "\n",
       "    .dataframe thead th {\n",
       "        text-align: right;\n",
       "    }\n",
       "</style>\n",
       "<table border=\"1\" class=\"dataframe\">\n",
       "  <thead>\n",
       "    <tr style=\"text-align: right;\">\n",
       "      <th></th>\n",
       "      <th>score</th>\n",
       "    </tr>\n",
       "  </thead>\n",
       "  <tbody>\n",
       "    <tr>\n",
       "      <th>0</th>\n",
       "      <td>A</td>\n",
       "    </tr>\n",
       "    <tr>\n",
       "      <th>1</th>\n",
       "      <td>NaN</td>\n",
       "    </tr>\n",
       "    <tr>\n",
       "      <th>2</th>\n",
       "      <td>NaN</td>\n",
       "    </tr>\n",
       "    <tr>\n",
       "      <th>3</th>\n",
       "      <td>D</td>\n",
       "    </tr>\n",
       "    <tr>\n",
       "      <th>4</th>\n",
       "      <td>C</td>\n",
       "    </tr>\n",
       "  </tbody>\n",
       "</table>\n",
       "</div>"
      ],
      "text/plain": [
       "  score\n",
       "0     A\n",
       "1   NaN\n",
       "2   NaN\n",
       "3     D\n",
       "4     C"
      ]
     },
     "execution_count": 7,
     "metadata": {},
     "output_type": "execute_result"
    }
   ],
   "source": [
    "df.drop('name', axis =1)\n",
    "\n",
    "#컬럼만 지워라"
   ]
  },
  {
   "cell_type": "markdown",
   "id": "88c7c797-964b-4378-ae4c-bc7ae71680da",
   "metadata": {},
   "source": [
    "### 행만 지우기"
   ]
  },
  {
   "cell_type": "code",
   "execution_count": 8,
   "id": "cb06a412-b77d-4a93-b5fc-7c1a1c4d4234",
   "metadata": {
    "tags": []
   },
   "outputs": [
    {
     "data": {
      "text/html": [
       "<div>\n",
       "<style scoped>\n",
       "    .dataframe tbody tr th:only-of-type {\n",
       "        vertical-align: middle;\n",
       "    }\n",
       "\n",
       "    .dataframe tbody tr th {\n",
       "        vertical-align: top;\n",
       "    }\n",
       "\n",
       "    .dataframe thead th {\n",
       "        text-align: right;\n",
       "    }\n",
       "</style>\n",
       "<table border=\"1\" class=\"dataframe\">\n",
       "  <thead>\n",
       "    <tr style=\"text-align: right;\">\n",
       "      <th></th>\n",
       "      <th>name</th>\n",
       "      <th>score</th>\n",
       "    </tr>\n",
       "  </thead>\n",
       "  <tbody>\n",
       "    <tr>\n",
       "      <th>0</th>\n",
       "      <td>None</td>\n",
       "      <td>A</td>\n",
       "    </tr>\n",
       "    <tr>\n",
       "      <th>2</th>\n",
       "      <td>NaN</td>\n",
       "      <td>NaN</td>\n",
       "    </tr>\n",
       "    <tr>\n",
       "      <th>3</th>\n",
       "      <td>allen</td>\n",
       "      <td>D</td>\n",
       "    </tr>\n",
       "    <tr>\n",
       "      <th>4</th>\n",
       "      <td>king</td>\n",
       "      <td>C</td>\n",
       "    </tr>\n",
       "  </tbody>\n",
       "</table>\n",
       "</div>"
      ],
      "text/plain": [
       "    name score\n",
       "0   None     A\n",
       "2    NaN   NaN\n",
       "3  allen     D\n",
       "4   king     C"
      ]
     },
     "execution_count": 8,
     "metadata": {},
     "output_type": "execute_result"
    }
   ],
   "source": [
    "df.drop(1, axis =0)"
   ]
  },
  {
   "cell_type": "markdown",
   "id": "2c639fd2-989e-4c29-b54e-cd9cae73a634",
   "metadata": {},
   "source": [
    "### how = 'all'   ---> 전부 Nan일 때만 지우기"
   ]
  },
  {
   "cell_type": "code",
   "execution_count": 9,
   "id": "8df2d593-55b1-4931-a7f8-0ba77a04ca15",
   "metadata": {
    "tags": []
   },
   "outputs": [
    {
     "data": {
      "text/html": [
       "<div>\n",
       "<style scoped>\n",
       "    .dataframe tbody tr th:only-of-type {\n",
       "        vertical-align: middle;\n",
       "    }\n",
       "\n",
       "    .dataframe tbody tr th {\n",
       "        vertical-align: top;\n",
       "    }\n",
       "\n",
       "    .dataframe thead th {\n",
       "        text-align: right;\n",
       "    }\n",
       "</style>\n",
       "<table border=\"1\" class=\"dataframe\">\n",
       "  <thead>\n",
       "    <tr style=\"text-align: right;\">\n",
       "      <th></th>\n",
       "      <th>name</th>\n",
       "      <th>score</th>\n",
       "    </tr>\n",
       "  </thead>\n",
       "  <tbody>\n",
       "    <tr>\n",
       "      <th>0</th>\n",
       "      <td>None</td>\n",
       "      <td>A</td>\n",
       "    </tr>\n",
       "    <tr>\n",
       "      <th>2</th>\n",
       "      <td>NaN</td>\n",
       "      <td>NaN</td>\n",
       "    </tr>\n",
       "    <tr>\n",
       "      <th>3</th>\n",
       "      <td>allen</td>\n",
       "      <td>D</td>\n",
       "    </tr>\n",
       "    <tr>\n",
       "      <th>4</th>\n",
       "      <td>king</td>\n",
       "      <td>C</td>\n",
       "    </tr>\n",
       "  </tbody>\n",
       "</table>\n",
       "</div>"
      ],
      "text/plain": [
       "    name score\n",
       "0   None     A\n",
       "2    NaN   NaN\n",
       "3  allen     D\n",
       "4   king     C"
      ]
     },
     "execution_count": 9,
     "metadata": {},
     "output_type": "execute_result"
    }
   ],
   "source": [
    "df.dropna(how='all')\n",
    "\n",
    "#NAN이 전부인 애들 지우기\n",
    "#2행의 NaN 중 하나는 글자라서 안지워짐"
   ]
  },
  {
   "cell_type": "markdown",
   "id": "d94263da-6ddf-4f37-a068-93557524e1ec",
   "metadata": {},
   "source": [
    "### how = 'any'   ---> 하나라도 Nan일 때 지우기"
   ]
  },
  {
   "cell_type": "code",
   "execution_count": 10,
   "id": "6d793a31-537c-47bf-b98c-f3be35db5e20",
   "metadata": {
    "tags": []
   },
   "outputs": [
    {
     "data": {
      "text/html": [
       "<div>\n",
       "<style scoped>\n",
       "    .dataframe tbody tr th:only-of-type {\n",
       "        vertical-align: middle;\n",
       "    }\n",
       "\n",
       "    .dataframe tbody tr th {\n",
       "        vertical-align: top;\n",
       "    }\n",
       "\n",
       "    .dataframe thead th {\n",
       "        text-align: right;\n",
       "    }\n",
       "</style>\n",
       "<table border=\"1\" class=\"dataframe\">\n",
       "  <thead>\n",
       "    <tr style=\"text-align: right;\">\n",
       "      <th></th>\n",
       "      <th>name</th>\n",
       "      <th>score</th>\n",
       "    </tr>\n",
       "  </thead>\n",
       "  <tbody>\n",
       "    <tr>\n",
       "      <th>3</th>\n",
       "      <td>allen</td>\n",
       "      <td>D</td>\n",
       "    </tr>\n",
       "    <tr>\n",
       "      <th>4</th>\n",
       "      <td>king</td>\n",
       "      <td>C</td>\n",
       "    </tr>\n",
       "  </tbody>\n",
       "</table>\n",
       "</div>"
      ],
      "text/plain": [
       "    name score\n",
       "3  allen     D\n",
       "4   king     C"
      ]
     },
     "execution_count": 10,
     "metadata": {},
     "output_type": "execute_result"
    }
   ],
   "source": [
    "df.dropna(how='any')\n",
    "\n",
    "#Nan이 하나라도 있으면 지우기"
   ]
  },
  {
   "cell_type": "markdown",
   "id": "32d0b871-4cec-4a4a-beb2-d497ddda8320",
   "metadata": {},
   "source": [
    "## 결측 보간(대체해서 채우기)\n",
    "    - fillna()"
   ]
  },
  {
   "cell_type": "markdown",
   "id": "8832aa7c-6257-40b6-b704-b62ed5ed227a",
   "metadata": {},
   "source": [
    "<pre>\n",
    "\n",
    "<b>DataFrame.fillna(value=None, *, method=None, axis=None</b>, inplace=False, limit=None, downcast=None)\n",
    "\n",
    "    - value : scalar, dict, Series, or DataFrame\n",
    "    - <b>method : {‘backfill’, ‘bfill’, ‘pad’, ‘ffill’, None}, default None</b>\n",
    "    - axis : {0 or ‘index’, 1 or ‘columns’}"
   ]
  },
  {
   "cell_type": "code",
   "execution_count": 11,
   "id": "51cd3d16-af5c-413d-999f-b87a8a4061a7",
   "metadata": {
    "tags": []
   },
   "outputs": [
    {
     "data": {
      "text/html": [
       "<div>\n",
       "<style scoped>\n",
       "    .dataframe tbody tr th:only-of-type {\n",
       "        vertical-align: middle;\n",
       "    }\n",
       "\n",
       "    .dataframe tbody tr th {\n",
       "        vertical-align: top;\n",
       "    }\n",
       "\n",
       "    .dataframe thead th {\n",
       "        text-align: right;\n",
       "    }\n",
       "</style>\n",
       "<table border=\"1\" class=\"dataframe\">\n",
       "  <thead>\n",
       "    <tr style=\"text-align: right;\">\n",
       "      <th></th>\n",
       "      <th>name</th>\n",
       "      <th>score</th>\n",
       "    </tr>\n",
       "  </thead>\n",
       "  <tbody>\n",
       "    <tr>\n",
       "      <th>0</th>\n",
       "      <td>None</td>\n",
       "      <td>A</td>\n",
       "    </tr>\n",
       "    <tr>\n",
       "      <th>1</th>\n",
       "      <td>NaN</td>\n",
       "      <td>NaN</td>\n",
       "    </tr>\n",
       "    <tr>\n",
       "      <th>2</th>\n",
       "      <td>NaN</td>\n",
       "      <td>NaN</td>\n",
       "    </tr>\n",
       "    <tr>\n",
       "      <th>3</th>\n",
       "      <td>allen</td>\n",
       "      <td>D</td>\n",
       "    </tr>\n",
       "    <tr>\n",
       "      <th>4</th>\n",
       "      <td>king</td>\n",
       "      <td>C</td>\n",
       "    </tr>\n",
       "  </tbody>\n",
       "</table>\n",
       "</div>"
      ],
      "text/plain": [
       "    name score\n",
       "0   None     A\n",
       "1    NaN   NaN\n",
       "2    NaN   NaN\n",
       "3  allen     D\n",
       "4   king     C"
      ]
     },
     "execution_count": 11,
     "metadata": {},
     "output_type": "execute_result"
    }
   ],
   "source": [
    "df"
   ]
  },
  {
   "cell_type": "markdown",
   "id": "97527d5b-5328-4bee-8b31-26849b5151f1",
   "metadata": {},
   "source": [
    "### 결측 채우기"
   ]
  },
  {
   "cell_type": "code",
   "execution_count": 12,
   "id": "18302372-b30c-4dc1-bd1b-19f81b314cb2",
   "metadata": {
    "tags": []
   },
   "outputs": [
    {
     "data": {
      "text/html": [
       "<div>\n",
       "<style scoped>\n",
       "    .dataframe tbody tr th:only-of-type {\n",
       "        vertical-align: middle;\n",
       "    }\n",
       "\n",
       "    .dataframe tbody tr th {\n",
       "        vertical-align: top;\n",
       "    }\n",
       "\n",
       "    .dataframe thead th {\n",
       "        text-align: right;\n",
       "    }\n",
       "</style>\n",
       "<table border=\"1\" class=\"dataframe\">\n",
       "  <thead>\n",
       "    <tr style=\"text-align: right;\">\n",
       "      <th></th>\n",
       "      <th>name</th>\n",
       "      <th>score</th>\n",
       "    </tr>\n",
       "  </thead>\n",
       "  <tbody>\n",
       "    <tr>\n",
       "      <th>0</th>\n",
       "      <td>999</td>\n",
       "      <td>A</td>\n",
       "    </tr>\n",
       "    <tr>\n",
       "      <th>1</th>\n",
       "      <td>999</td>\n",
       "      <td>999</td>\n",
       "    </tr>\n",
       "    <tr>\n",
       "      <th>2</th>\n",
       "      <td>NaN</td>\n",
       "      <td>999</td>\n",
       "    </tr>\n",
       "    <tr>\n",
       "      <th>3</th>\n",
       "      <td>allen</td>\n",
       "      <td>D</td>\n",
       "    </tr>\n",
       "    <tr>\n",
       "      <th>4</th>\n",
       "      <td>king</td>\n",
       "      <td>C</td>\n",
       "    </tr>\n",
       "  </tbody>\n",
       "</table>\n",
       "</div>"
      ],
      "text/plain": [
       "    name score\n",
       "0    999     A\n",
       "1    999   999\n",
       "2    NaN   999\n",
       "3  allen     D\n",
       "4   king     C"
      ]
     },
     "execution_count": 12,
     "metadata": {},
     "output_type": "execute_result"
    }
   ],
   "source": [
    "df2 = df.fillna('999')\n",
    "df2"
   ]
  },
  {
   "cell_type": "markdown",
   "id": "e0951b45-b9cb-4e4f-9344-dc939214551e",
   "metadata": {},
   "source": [
    "### 특정 컬럼 대상 채우기"
   ]
  },
  {
   "cell_type": "code",
   "execution_count": 13,
   "id": "29eb368f-7ea1-43f7-b292-e8106afe7722",
   "metadata": {
    "tags": []
   },
   "outputs": [
    {
     "data": {
      "text/html": [
       "<div>\n",
       "<style scoped>\n",
       "    .dataframe tbody tr th:only-of-type {\n",
       "        vertical-align: middle;\n",
       "    }\n",
       "\n",
       "    .dataframe tbody tr th {\n",
       "        vertical-align: top;\n",
       "    }\n",
       "\n",
       "    .dataframe thead th {\n",
       "        text-align: right;\n",
       "    }\n",
       "</style>\n",
       "<table border=\"1\" class=\"dataframe\">\n",
       "  <thead>\n",
       "    <tr style=\"text-align: right;\">\n",
       "      <th></th>\n",
       "      <th>name</th>\n",
       "      <th>score</th>\n",
       "    </tr>\n",
       "  </thead>\n",
       "  <tbody>\n",
       "    <tr>\n",
       "      <th>0</th>\n",
       "      <td>None</td>\n",
       "      <td>A</td>\n",
       "    </tr>\n",
       "    <tr>\n",
       "      <th>1</th>\n",
       "      <td>NaN</td>\n",
       "      <td>NaN</td>\n",
       "    </tr>\n",
       "    <tr>\n",
       "      <th>2</th>\n",
       "      <td>NaN</td>\n",
       "      <td>NaN</td>\n",
       "    </tr>\n",
       "    <tr>\n",
       "      <th>3</th>\n",
       "      <td>allen</td>\n",
       "      <td>D</td>\n",
       "    </tr>\n",
       "    <tr>\n",
       "      <th>4</th>\n",
       "      <td>king</td>\n",
       "      <td>C</td>\n",
       "    </tr>\n",
       "  </tbody>\n",
       "</table>\n",
       "</div>"
      ],
      "text/plain": [
       "    name score\n",
       "0   None     A\n",
       "1    NaN   NaN\n",
       "2    NaN   NaN\n",
       "3  allen     D\n",
       "4   king     C"
      ]
     },
     "execution_count": 13,
     "metadata": {},
     "output_type": "execute_result"
    }
   ],
   "source": [
    "df['score'].fillna('F')\n",
    "df"
   ]
  },
  {
   "cell_type": "markdown",
   "id": "1bf71e48-3351-4a05-97cb-b8af6532c869",
   "metadata": {},
   "source": [
    "### 앞/뒤 값을 이용해서 채우기"
   ]
  },
  {
   "cell_type": "markdown",
   "id": "9a510d75-9de5-494f-963a-203ea8ffd3b5",
   "metadata": {},
   "source": [
    "<pre>\n",
    "\n",
    "method : {‘backfill’, ‘bfill’, ‘pad’, ‘ffill’, None}, default None\n",
    "\n",
    "    <b>- ffill : 앞의 값으로 채우기\n",
    "    - bfill : 뒤의 값으로 채우기</b>"
   ]
  },
  {
   "cell_type": "code",
   "execution_count": 14,
   "id": "ae006e99-327e-4410-bbb6-48be3696a311",
   "metadata": {
    "tags": []
   },
   "outputs": [
    {
     "data": {
      "text/html": [
       "<div>\n",
       "<style scoped>\n",
       "    .dataframe tbody tr th:only-of-type {\n",
       "        vertical-align: middle;\n",
       "    }\n",
       "\n",
       "    .dataframe tbody tr th {\n",
       "        vertical-align: top;\n",
       "    }\n",
       "\n",
       "    .dataframe thead th {\n",
       "        text-align: right;\n",
       "    }\n",
       "</style>\n",
       "<table border=\"1\" class=\"dataframe\">\n",
       "  <thead>\n",
       "    <tr style=\"text-align: right;\">\n",
       "      <th></th>\n",
       "      <th>name</th>\n",
       "      <th>score</th>\n",
       "    </tr>\n",
       "  </thead>\n",
       "  <tbody>\n",
       "    <tr>\n",
       "      <th>0</th>\n",
       "      <td>None</td>\n",
       "      <td>A</td>\n",
       "    </tr>\n",
       "    <tr>\n",
       "      <th>1</th>\n",
       "      <td>NaN</td>\n",
       "      <td>NaN</td>\n",
       "    </tr>\n",
       "    <tr>\n",
       "      <th>2</th>\n",
       "      <td>NaN</td>\n",
       "      <td>NaN</td>\n",
       "    </tr>\n",
       "    <tr>\n",
       "      <th>3</th>\n",
       "      <td>allen</td>\n",
       "      <td>D</td>\n",
       "    </tr>\n",
       "    <tr>\n",
       "      <th>4</th>\n",
       "      <td>king</td>\n",
       "      <td>C</td>\n",
       "    </tr>\n",
       "  </tbody>\n",
       "</table>\n",
       "</div>"
      ],
      "text/plain": [
       "    name score\n",
       "0   None     A\n",
       "1    NaN   NaN\n",
       "2    NaN   NaN\n",
       "3  allen     D\n",
       "4   king     C"
      ]
     },
     "execution_count": 14,
     "metadata": {},
     "output_type": "execute_result"
    }
   ],
   "source": [
    "df"
   ]
  },
  {
   "cell_type": "code",
   "execution_count": 15,
   "id": "43a62d18-cddd-45c1-ad96-c8e7a3b84702",
   "metadata": {
    "tags": []
   },
   "outputs": [
    {
     "data": {
      "text/plain": [
       "0    A\n",
       "1    D\n",
       "2    D\n",
       "3    D\n",
       "4    C\n",
       "Name: score, dtype: object"
      ]
     },
     "execution_count": 15,
     "metadata": {},
     "output_type": "execute_result"
    }
   ],
   "source": [
    "df['score'].fillna(method='bfill')\n",
    "\n",
    "#뒤의 값으로 채우기 : D"
   ]
  },
  {
   "cell_type": "code",
   "execution_count": 16,
   "id": "18c3cd65-6961-440e-a778-45d89ebfe9c7",
   "metadata": {
    "tags": []
   },
   "outputs": [
    {
     "data": {
      "text/plain": [
       "0    A\n",
       "1    A\n",
       "2    A\n",
       "3    D\n",
       "4    C\n",
       "Name: score, dtype: object"
      ]
     },
     "execution_count": 16,
     "metadata": {},
     "output_type": "execute_result"
    }
   ],
   "source": [
    "df['score'].fillna(method='ffill')\n",
    "\n",
    "#앞의 값으로 채우기 : A"
   ]
  },
  {
   "cell_type": "markdown",
   "id": "9f3b4c57-5305-41ee-addc-317888de494b",
   "metadata": {},
   "source": [
    "## 결측 대체\n",
    "    * 사용자 지정 값\n",
    "    * 통계적 수치\n",
    "    - 평균 mean()\n",
    "    - 최빈도 mode()\n",
    "    - 중앙 median()\n",
    "    \n",
    "    * 모델 예측 값"
   ]
  },
  {
   "cell_type": "code",
   "execution_count": 17,
   "id": "50533c40-8bc4-42f4-9209-029b64c12931",
   "metadata": {
    "tags": []
   },
   "outputs": [],
   "source": [
    "df = pd.DataFrame({\"name\":[\"smith\",np.nan,\"jones\",\"allen\",\"king\"],\n",
    "                   \"score\": [\"A\",\"B\",'B',\"A\",\"A\"],\n",
    "                   \"sal\": [1000,1000,3000,np.nan,4000]})"
   ]
  },
  {
   "cell_type": "code",
   "execution_count": 18,
   "id": "e37c4832-4f80-4742-9511-70708ab8013c",
   "metadata": {
    "tags": []
   },
   "outputs": [
    {
     "data": {
      "text/html": [
       "<div>\n",
       "<style scoped>\n",
       "    .dataframe tbody tr th:only-of-type {\n",
       "        vertical-align: middle;\n",
       "    }\n",
       "\n",
       "    .dataframe tbody tr th {\n",
       "        vertical-align: top;\n",
       "    }\n",
       "\n",
       "    .dataframe thead th {\n",
       "        text-align: right;\n",
       "    }\n",
       "</style>\n",
       "<table border=\"1\" class=\"dataframe\">\n",
       "  <thead>\n",
       "    <tr style=\"text-align: right;\">\n",
       "      <th></th>\n",
       "      <th>name</th>\n",
       "      <th>score</th>\n",
       "      <th>sal</th>\n",
       "    </tr>\n",
       "  </thead>\n",
       "  <tbody>\n",
       "    <tr>\n",
       "      <th>0</th>\n",
       "      <td>smith</td>\n",
       "      <td>A</td>\n",
       "      <td>1000.0</td>\n",
       "    </tr>\n",
       "    <tr>\n",
       "      <th>1</th>\n",
       "      <td>NaN</td>\n",
       "      <td>B</td>\n",
       "      <td>1000.0</td>\n",
       "    </tr>\n",
       "    <tr>\n",
       "      <th>2</th>\n",
       "      <td>jones</td>\n",
       "      <td>B</td>\n",
       "      <td>3000.0</td>\n",
       "    </tr>\n",
       "    <tr>\n",
       "      <th>3</th>\n",
       "      <td>allen</td>\n",
       "      <td>A</td>\n",
       "      <td>NaN</td>\n",
       "    </tr>\n",
       "    <tr>\n",
       "      <th>4</th>\n",
       "      <td>king</td>\n",
       "      <td>A</td>\n",
       "      <td>4000.0</td>\n",
       "    </tr>\n",
       "  </tbody>\n",
       "</table>\n",
       "</div>"
      ],
      "text/plain": [
       "    name score     sal\n",
       "0  smith     A  1000.0\n",
       "1    NaN     B  1000.0\n",
       "2  jones     B  3000.0\n",
       "3  allen     A     NaN\n",
       "4   king     A  4000.0"
      ]
     },
     "execution_count": 18,
     "metadata": {},
     "output_type": "execute_result"
    }
   ],
   "source": [
    "df"
   ]
  },
  {
   "cell_type": "markdown",
   "id": "669ce3b3-96bc-4358-856b-8d36e46e1b75",
   "metadata": {},
   "source": [
    "<pre>\n",
    "name : AAA\n",
    "score : F\n",
    "sal : 999\n"
   ]
  },
  {
   "cell_type": "markdown",
   "id": "0d5af993-70fa-4a14-8cfc-2141809c7547",
   "metadata": {},
   "source": [
    "### 컬럼마다 사용자 지정 값으로 채우기"
   ]
  },
  {
   "cell_type": "code",
   "execution_count": 19,
   "id": "b30dd3bd-6a5b-4b88-ba4f-a139bc9e3585",
   "metadata": {
    "tags": []
   },
   "outputs": [
    {
     "data": {
      "text/html": [
       "<div>\n",
       "<style scoped>\n",
       "    .dataframe tbody tr th:only-of-type {\n",
       "        vertical-align: middle;\n",
       "    }\n",
       "\n",
       "    .dataframe tbody tr th {\n",
       "        vertical-align: top;\n",
       "    }\n",
       "\n",
       "    .dataframe thead th {\n",
       "        text-align: right;\n",
       "    }\n",
       "</style>\n",
       "<table border=\"1\" class=\"dataframe\">\n",
       "  <thead>\n",
       "    <tr style=\"text-align: right;\">\n",
       "      <th></th>\n",
       "      <th>name</th>\n",
       "      <th>score</th>\n",
       "      <th>sal</th>\n",
       "    </tr>\n",
       "  </thead>\n",
       "  <tbody>\n",
       "    <tr>\n",
       "      <th>0</th>\n",
       "      <td>smith</td>\n",
       "      <td>A</td>\n",
       "      <td>1000.0</td>\n",
       "    </tr>\n",
       "    <tr>\n",
       "      <th>1</th>\n",
       "      <td>AAA</td>\n",
       "      <td>B</td>\n",
       "      <td>1000.0</td>\n",
       "    </tr>\n",
       "    <tr>\n",
       "      <th>2</th>\n",
       "      <td>jones</td>\n",
       "      <td>B</td>\n",
       "      <td>3000.0</td>\n",
       "    </tr>\n",
       "    <tr>\n",
       "      <th>3</th>\n",
       "      <td>allen</td>\n",
       "      <td>A</td>\n",
       "      <td>999.0</td>\n",
       "    </tr>\n",
       "    <tr>\n",
       "      <th>4</th>\n",
       "      <td>king</td>\n",
       "      <td>A</td>\n",
       "      <td>4000.0</td>\n",
       "    </tr>\n",
       "  </tbody>\n",
       "</table>\n",
       "</div>"
      ],
      "text/plain": [
       "    name score     sal\n",
       "0  smith     A  1000.0\n",
       "1    AAA     B  1000.0\n",
       "2  jones     B  3000.0\n",
       "3  allen     A   999.0\n",
       "4   king     A  4000.0"
      ]
     },
     "execution_count": 19,
     "metadata": {},
     "output_type": "execute_result"
    }
   ],
   "source": [
    "dic = {'name' : 'AAA',\n",
    "       'score' : 'F',\n",
    "       'sal' : 999}\n",
    "\n",
    "df.fillna(dic)\n",
    "\n",
    "#각각 지정한 값으로 채우기"
   ]
  },
  {
   "cell_type": "markdown",
   "id": "abe189b7-bcf9-48a3-893c-59bf31a76f36",
   "metadata": {},
   "source": [
    "### 통계적 수치 채우기"
   ]
  },
  {
   "cell_type": "markdown",
   "id": "8332201c-84b0-4a24-a986-f433d9207cff",
   "metadata": {
    "tags": []
   },
   "source": [
    "\n",
    "\n",
    "* 통계적 수치\n",
    "* 평균 : 결측 제외 합 / 결측 제외 갯수 <font size = 4><b> mean()</b> </font>\n",
    "* 중앙값 : 크기 순으로 나열 후, 순서상 딱 가운데 값 <font size = 4> <b>median()</b> </font><b>★outlier의 영향을 받지 않는다★</b>\n",
    "    * 짝수 : _ _ (?) _ _ 앞, 뒤 두 수의 평균 값\n",
    "    * 홀수 : _ _ (?) _ _ 정 중앙 값\n",
    "* 빈도 : 가장 많이 출현한 값  <font size = 4><b> mode().values[0]</b> </font>"
   ]
  },
  {
   "cell_type": "code",
   "execution_count": 20,
   "id": "16fed0a3-034a-4ddb-87cd-71c1ca33c4e8",
   "metadata": {
    "tags": []
   },
   "outputs": [
    {
     "name": "stdout",
     "output_type": "stream",
     "text": [
      "평균값 : 2250.0  중앙값 : 2000.0  최빈도값: 1000.0\n"
     ]
    }
   ],
   "source": [
    "# 평균 : 1000 + 1000 + 3000 + 4000 / 4\n",
    "# 중앙값 : 1000 1000 3000 4000  --> 짝수라 가운데 값이 비어있다. 그러므로 1000과 3000의 중간값(2000) 반환.\n",
    "                                   #5개(홀수)면 가운데 값(3) 반환\n",
    "\n",
    "    \n",
    "\n",
    "df['sal'].mean(), df['sal'].median() #-------- scalar 리턴(단일 값)\n",
    "\n",
    "df['sal'].mode().values[0] #-------- Series 리턴 -------> df.mode().values[0] 으로 값을 빼줘야 한다.\n",
    "\n",
    "\n",
    "\n",
    "\n",
    "print('평균값 :', df['sal'].mean(),  \" 중앙값 :\", df['sal'].median(), ' 최빈도값:', df['sal'].mode().values[0])"
   ]
  },
  {
   "cell_type": "markdown",
   "id": "318d5143-74a6-4c26-a8c7-32ec00457ed5",
   "metadata": {},
   "source": [
    "**중앙값은 outlier의 영향을 받지 않는다.**"
   ]
  },
  {
   "cell_type": "code",
   "execution_count": 21,
   "id": "c897488a-d3bd-47a4-9e6b-abd9146daf77",
   "metadata": {
    "tags": []
   },
   "outputs": [
    {
     "data": {
      "text/plain": [
       "(28.0, 30.0)"
      ]
     },
     "execution_count": 21,
     "metadata": {},
     "output_type": "execute_result"
    }
   ],
   "source": [
    "np.mean([10,10,30,40,50]), np.median([10,10,30,40,50])"
   ]
  },
  {
   "cell_type": "code",
   "execution_count": 22,
   "id": "64c84e07-d657-4ac3-bcf6-90ddd5ce19d8",
   "metadata": {
    "tags": []
   },
   "outputs": [
    {
     "data": {
      "text/plain": [
       "(22.5, 20.0)"
      ]
     },
     "execution_count": 22,
     "metadata": {},
     "output_type": "execute_result"
    }
   ],
   "source": [
    "np.mean([10,10,30,40]), np.median([10,10,30,40])"
   ]
  },
  {
   "cell_type": "code",
   "execution_count": 23,
   "id": "f6c7c0c3-f178-45fb-9b9a-a27556c634cb",
   "metadata": {
    "tags": []
   },
   "outputs": [
    {
     "data": {
      "text/plain": [
       "(37.5, 20.0)"
      ]
     },
     "execution_count": 23,
     "metadata": {},
     "output_type": "execute_result"
    }
   ],
   "source": [
    "np.mean([10,10,30,100]), np.median([10,10,30,100])"
   ]
  },
  {
   "cell_type": "markdown",
   "id": "61eed9f8-0ec4-470e-91f9-f3ad29ef0128",
   "metadata": {},
   "source": [
    "### 실습\n",
    "    - sal의 결측을 평균값으로 채우기"
   ]
  },
  {
   "cell_type": "code",
   "execution_count": 24,
   "id": "d1303055-74a1-426c-8734-d751cf087250",
   "metadata": {
    "tags": []
   },
   "outputs": [
    {
     "data": {
      "text/html": [
       "<div>\n",
       "<style scoped>\n",
       "    .dataframe tbody tr th:only-of-type {\n",
       "        vertical-align: middle;\n",
       "    }\n",
       "\n",
       "    .dataframe tbody tr th {\n",
       "        vertical-align: top;\n",
       "    }\n",
       "\n",
       "    .dataframe thead th {\n",
       "        text-align: right;\n",
       "    }\n",
       "</style>\n",
       "<table border=\"1\" class=\"dataframe\">\n",
       "  <thead>\n",
       "    <tr style=\"text-align: right;\">\n",
       "      <th></th>\n",
       "      <th>name</th>\n",
       "      <th>score</th>\n",
       "      <th>sal</th>\n",
       "    </tr>\n",
       "  </thead>\n",
       "  <tbody>\n",
       "    <tr>\n",
       "      <th>0</th>\n",
       "      <td>smith</td>\n",
       "      <td>A</td>\n",
       "      <td>1000.0</td>\n",
       "    </tr>\n",
       "    <tr>\n",
       "      <th>1</th>\n",
       "      <td>NaN</td>\n",
       "      <td>B</td>\n",
       "      <td>1000.0</td>\n",
       "    </tr>\n",
       "    <tr>\n",
       "      <th>2</th>\n",
       "      <td>jones</td>\n",
       "      <td>B</td>\n",
       "      <td>3000.0</td>\n",
       "    </tr>\n",
       "    <tr>\n",
       "      <th>3</th>\n",
       "      <td>allen</td>\n",
       "      <td>A</td>\n",
       "      <td>NaN</td>\n",
       "    </tr>\n",
       "    <tr>\n",
       "      <th>4</th>\n",
       "      <td>king</td>\n",
       "      <td>A</td>\n",
       "      <td>4000.0</td>\n",
       "    </tr>\n",
       "  </tbody>\n",
       "</table>\n",
       "</div>"
      ],
      "text/plain": [
       "    name score     sal\n",
       "0  smith     A  1000.0\n",
       "1    NaN     B  1000.0\n",
       "2  jones     B  3000.0\n",
       "3  allen     A     NaN\n",
       "4   king     A  4000.0"
      ]
     },
     "execution_count": 24,
     "metadata": {},
     "output_type": "execute_result"
    }
   ],
   "source": [
    "df"
   ]
  },
  {
   "cell_type": "code",
   "execution_count": 25,
   "id": "10bae93e-7fe4-41d4-b85a-6bfadee4ff92",
   "metadata": {
    "tags": []
   },
   "outputs": [
    {
     "data": {
      "text/plain": [
       "0    1000.0\n",
       "1    1000.0\n",
       "2    3000.0\n",
       "3    2250.0\n",
       "4    4000.0\n",
       "Name: sal, dtype: float64"
      ]
     },
     "execution_count": 25,
     "metadata": {},
     "output_type": "execute_result"
    }
   ],
   "source": [
    "df['sal'].fillna(df['sal'].mean())"
   ]
  },
  {
   "cell_type": "markdown",
   "id": "737d8469-eee9-4ee4-a557-04a9c4a59bf8",
   "metadata": {},
   "source": [
    "### transform 사용하기\n",
    "\n",
    "* sal 의 결측을 score의 그룹바이한 평균값으로 채워라  \n",
    "    * fillna()  \n",
    "    * lambda"
   ]
  },
  {
   "cell_type": "code",
   "execution_count": 26,
   "id": "6a4df35c-6162-4d7d-94d0-90acf9c15e82",
   "metadata": {
    "tags": []
   },
   "outputs": [
    {
     "data": {
      "text/plain": [
       "0    2500.0\n",
       "1    2000.0\n",
       "2    2000.0\n",
       "3    2500.0\n",
       "4    2500.0\n",
       "Name: sal, dtype: float64"
      ]
     },
     "execution_count": 26,
     "metadata": {},
     "output_type": "execute_result"
    }
   ],
   "source": [
    "# df.groupby('score')['sal'].mean() : score의 그룹바이한 평균값\n",
    "\n",
    "a = df.groupby('score')['sal'].transform('mean')\n",
    "a"
   ]
  },
  {
   "cell_type": "code",
   "execution_count": 27,
   "id": "9a8ea74f-c3b3-41f9-b51e-75f5a05483a5",
   "metadata": {
    "tags": []
   },
   "outputs": [],
   "source": [
    "#위의 값을 결측에 채워넣기\n",
    "\n",
    "df['sal'] = df['sal'].fillna(a)"
   ]
  },
  {
   "cell_type": "code",
   "execution_count": 28,
   "id": "81399531-bcda-404a-99b8-ad8484f8c278",
   "metadata": {
    "tags": []
   },
   "outputs": [
    {
     "data": {
      "text/html": [
       "<div>\n",
       "<style scoped>\n",
       "    .dataframe tbody tr th:only-of-type {\n",
       "        vertical-align: middle;\n",
       "    }\n",
       "\n",
       "    .dataframe tbody tr th {\n",
       "        vertical-align: top;\n",
       "    }\n",
       "\n",
       "    .dataframe thead th {\n",
       "        text-align: right;\n",
       "    }\n",
       "</style>\n",
       "<table border=\"1\" class=\"dataframe\">\n",
       "  <thead>\n",
       "    <tr style=\"text-align: right;\">\n",
       "      <th></th>\n",
       "      <th>name</th>\n",
       "      <th>score</th>\n",
       "      <th>sal</th>\n",
       "    </tr>\n",
       "  </thead>\n",
       "  <tbody>\n",
       "    <tr>\n",
       "      <th>0</th>\n",
       "      <td>smith</td>\n",
       "      <td>A</td>\n",
       "      <td>1000.0</td>\n",
       "    </tr>\n",
       "    <tr>\n",
       "      <th>1</th>\n",
       "      <td>NaN</td>\n",
       "      <td>B</td>\n",
       "      <td>1000.0</td>\n",
       "    </tr>\n",
       "    <tr>\n",
       "      <th>2</th>\n",
       "      <td>jones</td>\n",
       "      <td>B</td>\n",
       "      <td>3000.0</td>\n",
       "    </tr>\n",
       "    <tr>\n",
       "      <th>3</th>\n",
       "      <td>allen</td>\n",
       "      <td>A</td>\n",
       "      <td>2500.0</td>\n",
       "    </tr>\n",
       "    <tr>\n",
       "      <th>4</th>\n",
       "      <td>king</td>\n",
       "      <td>A</td>\n",
       "      <td>4000.0</td>\n",
       "    </tr>\n",
       "  </tbody>\n",
       "</table>\n",
       "</div>"
      ],
      "text/plain": [
       "    name score     sal\n",
       "0  smith     A  1000.0\n",
       "1    NaN     B  1000.0\n",
       "2  jones     B  3000.0\n",
       "3  allen     A  2500.0\n",
       "4   king     A  4000.0"
      ]
     },
     "execution_count": 28,
     "metadata": {},
     "output_type": "execute_result"
    }
   ],
   "source": [
    "df"
   ]
  },
  {
   "cell_type": "markdown",
   "id": "ff1fb272-c34f-4750-bc4a-1d228b254d12",
   "metadata": {},
   "source": [
    "### 모델 예측 값으로 채워넣기"
   ]
  },
  {
   "cell_type": "code",
   "execution_count": null,
   "id": "72dc042d-3258-48bf-b88b-c4b452918c7d",
   "metadata": {},
   "outputs": [],
   "source": []
  },
  {
   "cell_type": "code",
   "execution_count": null,
   "id": "856afc3d-1146-4b3a-8996-f4e03fd840c9",
   "metadata": {},
   "outputs": [],
   "source": []
  },
  {
   "cell_type": "code",
   "execution_count": null,
   "id": "6fa4bd2c-7740-4d02-8a9e-f083d143898a",
   "metadata": {},
   "outputs": [],
   "source": []
  },
  {
   "cell_type": "code",
   "execution_count": null,
   "id": "7a43ad10-3990-4245-a8ae-727a7139814a",
   "metadata": {},
   "outputs": [],
   "source": []
  },
  {
   "cell_type": "code",
   "execution_count": null,
   "id": "9b8fe49f-7842-4cac-87be-b6c1831e1edc",
   "metadata": {},
   "outputs": [],
   "source": []
  },
  {
   "cell_type": "code",
   "execution_count": null,
   "id": "a07d1a82-fedd-4967-acf1-d9828a2c3298",
   "metadata": {},
   "outputs": [],
   "source": []
  },
  {
   "cell_type": "markdown",
   "id": "2683974a-6cd9-4a9c-88d1-c0b2ad29c12b",
   "metadata": {},
   "source": [
    "# 타입"
   ]
  },
  {
   "cell_type": "markdown",
   "id": "44b2dc07-9915-47a1-9945-fae3f03da860",
   "metadata": {},
   "source": [
    "# 인코딩"
   ]
  },
  {
   "cell_type": "markdown",
   "id": "2431ba20-341f-4094-be30-dd31bd9a7184",
   "metadata": {},
   "source": [
    "# 바이닝"
   ]
  },
  {
   "cell_type": "markdown",
   "id": "a1611723-6d84-4915-8b35-c5c8e9ac54f0",
   "metadata": {},
   "source": [
    "# 정규화(정규분포)"
   ]
  },
  {
   "cell_type": "code",
   "execution_count": null,
   "id": "ddda85b1-d908-44b7-b805-1d4c3ec64617",
   "metadata": {},
   "outputs": [],
   "source": []
  },
  {
   "cell_type": "code",
   "execution_count": null,
   "id": "d6d60043-3436-48b6-adb8-88d2abd5c655",
   "metadata": {},
   "outputs": [],
   "source": []
  },
  {
   "cell_type": "code",
   "execution_count": null,
   "id": "3e9e8a38-dcb4-4e80-8b18-4f1c3471544f",
   "metadata": {},
   "outputs": [],
   "source": []
  },
  {
   "cell_type": "code",
   "execution_count": null,
   "id": "ad73b272-aa11-4b24-bc89-928746e3bb95",
   "metadata": {},
   "outputs": [],
   "source": []
  },
  {
   "cell_type": "code",
   "execution_count": null,
   "id": "72d2f197-b5f5-45d1-ab00-7aa9b5e82b08",
   "metadata": {},
   "outputs": [],
   "source": []
  },
  {
   "cell_type": "code",
   "execution_count": null,
   "id": "402d3b45-21a0-440b-af3b-f5def28f33e4",
   "metadata": {},
   "outputs": [],
   "source": []
  }
 ],
 "metadata": {
  "kernelspec": {
   "display_name": "Python 3 (ipykernel)",
   "language": "python",
   "name": "python3"
  },
  "language_info": {
   "codemirror_mode": {
    "name": "ipython",
    "version": 3
   },
   "file_extension": ".py",
   "mimetype": "text/x-python",
   "name": "python",
   "nbconvert_exporter": "python",
   "pygments_lexer": "ipython3",
   "version": "3.8.8"
  },
  "toc-autonumbering": true
 },
 "nbformat": 4,
 "nbformat_minor": 5
}
