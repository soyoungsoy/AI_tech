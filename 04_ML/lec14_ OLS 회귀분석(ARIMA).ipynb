{
 "cells": [
  {
   "cell_type": "code",
   "execution_count": null,
   "id": "5ddeea7c-e5b9-4d13-b833-0fc6321a0a68",
   "metadata": {},
   "outputs": [],
   "source": []
  },
  {
   "cell_type": "code",
   "execution_count": 1,
   "id": "c6f0be22-ac71-4a35-bd87-8fa7035cd6fa",
   "metadata": {
    "tags": []
   },
   "outputs": [],
   "source": [
    "from statsmodels.tsa.arima.model import ARIMA"
   ]
  },
  {
   "cell_type": "code",
   "execution_count": 2,
   "id": "224691d8-7296-44d3-8cc4-b3810d06dc8c",
   "metadata": {
    "tags": []
   },
   "outputs": [],
   "source": [
    "from statsmodels.graphics.tsaplots import plot_acf, plot_pacf"
   ]
  },
  {
   "cell_type": "code",
   "execution_count": 3,
   "id": "8402c6bc-9d57-413f-be8b-9611412b9dc7",
   "metadata": {},
   "outputs": [],
   "source": [
    "from statsmodels.tsa.stattools import adfuller"
   ]
  },
  {
   "cell_type": "code",
   "execution_count": 4,
   "id": "a6802e72-d2ee-4658-85f1-99667244762c",
   "metadata": {
    "tags": []
   },
   "outputs": [],
   "source": [
    "from statsmodels.tsa.seasonal import seasonal_decompose"
   ]
  },
  {
   "cell_type": "code",
   "execution_count": 5,
   "id": "9ca376b5-00b3-4412-b030-9647f6b91ba5",
   "metadata": {
    "tags": []
   },
   "outputs": [
    {
     "data": {
      "text/html": [
       "<style>.container{width:100% !important;}</style>"
      ],
      "text/plain": [
       "<IPython.core.display.HTML object>"
      ]
     },
     "metadata": {},
     "output_type": "display_data"
    }
   ],
   "source": [
    "import numpy as np\n",
    "import pandas as pd\n",
    "\n",
    "import matplotlib.pyplot as plt\n",
    "import seaborn as sns\n",
    "\n",
    "\n",
    "sns.set()\n",
    "\n",
    "#-------------------- 차트 관련 속성 (한글처리, 그리드) -----------\n",
    "plt.rcParams['font.family']= 'Malgun Gothic'\n",
    "plt.rcParams['axes.unicode_minus'] = False\n",
    "\n",
    "#-------------------- 주피터 , 출력결과 넓이 늘리기 ---------------\n",
    "# from IPython.core.display import display, HTML\n",
    "from IPython.display import display, HTML\n",
    "\n",
    "display(HTML(\"<style>.container{width:100% !important;}</style>\"))\n",
    "pd.set_option('display.max_rows', 100)\n",
    "pd.set_option('display.max_columns', 100)\n",
    "pd.set_option('max_colwidth', None)\n",
    "\n",
    "import warnings\n",
    "warnings.filterwarnings(action='ignore')"
   ]
  },
  {
   "cell_type": "code",
   "execution_count": 6,
   "id": "d2b3191a-ca17-4ab2-8b0a-4ce5a6f06598",
   "metadata": {
    "tags": []
   },
   "outputs": [],
   "source": [
    "# ----------------- 학습 ----------------------\n",
    "from sklearn.model_selection import train_test_split\n",
    "from sklearn.tree import DecisionTreeClassifier\n",
    "from sklearn.linear_model import LogisticRegression\n",
    "\n",
    "# ----------------- 평가 ----------------------\n",
    "from sklearn.metrics import confusion_matrix\n",
    "\n",
    "from sklearn.metrics import classification_report\n",
    "from sklearn.metrics import accuracy_score\n",
    "from sklearn.metrics import f1_score, precision_score, recall_score\n",
    "from sklearn.metrics import precision_recall_curve, plot_precision_recall_curve\n",
    "\n",
    "from sklearn.metrics import roc_auc_score, roc_curve, plot_roc_curve"
   ]
  },
  {
   "cell_type": "markdown",
   "id": "0087af80-0f74-4831-9108-7c10d2fb64d8",
   "metadata": {
    "tags": []
   },
   "source": [
    "# lec14. OLS 회귀분석"
   ]
  },
  {
   "cell_type": "markdown",
   "id": "e808109b-6c90-492b-800f-5dd900a4aa58",
   "metadata": {},
   "source": [
    "* 잔차 제곱 합을 최소화시키는 벡터 선 하나 찾기  \n",
    " = 최소 제곱 법"
   ]
  },
  {
   "cell_type": "markdown",
   "id": "89d57e64-47c1-4858-9e24-908f76791a23",
   "metadata": {},
   "source": [
    "* OLS(Ordinary Least Squares) : 최소제곱(자승)법\n",
    "* RSS = 잔차제곱합(Y-Y^)^2를  최소화하는 가중치(w = 기울기) 벡터를 구하는 방법"
   ]
  },
  {
   "cell_type": "markdown",
   "id": "31566d13-7757-499b-a941-a2990edb0cbc",
   "metadata": {},
   "source": [
    "https://www.statsmodels.org/dev/generated/statsmodels.regression.linear_model.OLS.html\n",
    "\n",
    "statsmodels.regression.linear_model.OLS¶\n",
    "class statsmodels.regression.linear_model.OLS(endog, exog=None, missing='none', hasconst=None, **kwargs)"
   ]
  },
  {
   "cell_type": "code",
   "execution_count": 7,
   "id": "cef422aa-6360-4ec4-825a-806fd62a23fd",
   "metadata": {
    "tags": []
   },
   "outputs": [],
   "source": [
    "from statsmodels.regression.linear_model import OLS"
   ]
  },
  {
   "cell_type": "code",
   "execution_count": 8,
   "id": "61c7f4ab-2a5f-4415-b607-5eede421091c",
   "metadata": {
    "tags": []
   },
   "outputs": [],
   "source": [
    "# column_names = ['CRIM', 'ZN', 'INDUS', 'CHAS', 'NOX', 'RM', 'AGE', 'DIS', 'RAD', 'TAX', 'PTRATIO', 'B', 'LSTAT', 'MEDV']\n",
    "# df = pd.read_csv('./datasets/housing.csv', header=None, delimiter=r\"\\s+\", names=column_names)\n",
    "\n",
    "# df"
   ]
  },
  {
   "cell_type": "code",
   "execution_count": 9,
   "id": "77f26dc7-d12d-4269-abb3-733ee28529f0",
   "metadata": {
    "tags": []
   },
   "outputs": [
    {
     "data": {
      "text/plain": [
       "{'data': array([[6.3200e-03, 1.8000e+01, 2.3100e+00, ..., 1.5300e+01, 3.9690e+02,\n",
       "         4.9800e+00],\n",
       "        [2.7310e-02, 0.0000e+00, 7.0700e+00, ..., 1.7800e+01, 3.9690e+02,\n",
       "         9.1400e+00],\n",
       "        [2.7290e-02, 0.0000e+00, 7.0700e+00, ..., 1.7800e+01, 3.9283e+02,\n",
       "         4.0300e+00],\n",
       "        ...,\n",
       "        [6.0760e-02, 0.0000e+00, 1.1930e+01, ..., 2.1000e+01, 3.9690e+02,\n",
       "         5.6400e+00],\n",
       "        [1.0959e-01, 0.0000e+00, 1.1930e+01, ..., 2.1000e+01, 3.9345e+02,\n",
       "         6.4800e+00],\n",
       "        [4.7410e-02, 0.0000e+00, 1.1930e+01, ..., 2.1000e+01, 3.9690e+02,\n",
       "         7.8800e+00]]),\n",
       " 'target': array([24. , 21.6, 34.7, 33.4, 36.2, 28.7, 22.9, 27.1, 16.5, 18.9, 15. ,\n",
       "        18.9, 21.7, 20.4, 18.2, 19.9, 23.1, 17.5, 20.2, 18.2, 13.6, 19.6,\n",
       "        15.2, 14.5, 15.6, 13.9, 16.6, 14.8, 18.4, 21. , 12.7, 14.5, 13.2,\n",
       "        13.1, 13.5, 18.9, 20. , 21. , 24.7, 30.8, 34.9, 26.6, 25.3, 24.7,\n",
       "        21.2, 19.3, 20. , 16.6, 14.4, 19.4, 19.7, 20.5, 25. , 23.4, 18.9,\n",
       "        35.4, 24.7, 31.6, 23.3, 19.6, 18.7, 16. , 22.2, 25. , 33. , 23.5,\n",
       "        19.4, 22. , 17.4, 20.9, 24.2, 21.7, 22.8, 23.4, 24.1, 21.4, 20. ,\n",
       "        20.8, 21.2, 20.3, 28. , 23.9, 24.8, 22.9, 23.9, 26.6, 22.5, 22.2,\n",
       "        23.6, 28.7, 22.6, 22. , 22.9, 25. , 20.6, 28.4, 21.4, 38.7, 43.8,\n",
       "        33.2, 27.5, 26.5, 18.6, 19.3, 20.1, 19.5, 19.5, 20.4, 19.8, 19.4,\n",
       "        21.7, 22.8, 18.8, 18.7, 18.5, 18.3, 21.2, 19.2, 20.4, 19.3, 22. ,\n",
       "        20.3, 20.5, 17.3, 18.8, 21.4, 15.7, 16.2, 18. , 14.3, 19.2, 19.6,\n",
       "        23. , 18.4, 15.6, 18.1, 17.4, 17.1, 13.3, 17.8, 14. , 14.4, 13.4,\n",
       "        15.6, 11.8, 13.8, 15.6, 14.6, 17.8, 15.4, 21.5, 19.6, 15.3, 19.4,\n",
       "        17. , 15.6, 13.1, 41.3, 24.3, 23.3, 27. , 50. , 50. , 50. , 22.7,\n",
       "        25. , 50. , 23.8, 23.8, 22.3, 17.4, 19.1, 23.1, 23.6, 22.6, 29.4,\n",
       "        23.2, 24.6, 29.9, 37.2, 39.8, 36.2, 37.9, 32.5, 26.4, 29.6, 50. ,\n",
       "        32. , 29.8, 34.9, 37. , 30.5, 36.4, 31.1, 29.1, 50. , 33.3, 30.3,\n",
       "        34.6, 34.9, 32.9, 24.1, 42.3, 48.5, 50. , 22.6, 24.4, 22.5, 24.4,\n",
       "        20. , 21.7, 19.3, 22.4, 28.1, 23.7, 25. , 23.3, 28.7, 21.5, 23. ,\n",
       "        26.7, 21.7, 27.5, 30.1, 44.8, 50. , 37.6, 31.6, 46.7, 31.5, 24.3,\n",
       "        31.7, 41.7, 48.3, 29. , 24. , 25.1, 31.5, 23.7, 23.3, 22. , 20.1,\n",
       "        22.2, 23.7, 17.6, 18.5, 24.3, 20.5, 24.5, 26.2, 24.4, 24.8, 29.6,\n",
       "        42.8, 21.9, 20.9, 44. , 50. , 36. , 30.1, 33.8, 43.1, 48.8, 31. ,\n",
       "        36.5, 22.8, 30.7, 50. , 43.5, 20.7, 21.1, 25.2, 24.4, 35.2, 32.4,\n",
       "        32. , 33.2, 33.1, 29.1, 35.1, 45.4, 35.4, 46. , 50. , 32.2, 22. ,\n",
       "        20.1, 23.2, 22.3, 24.8, 28.5, 37.3, 27.9, 23.9, 21.7, 28.6, 27.1,\n",
       "        20.3, 22.5, 29. , 24.8, 22. , 26.4, 33.1, 36.1, 28.4, 33.4, 28.2,\n",
       "        22.8, 20.3, 16.1, 22.1, 19.4, 21.6, 23.8, 16.2, 17.8, 19.8, 23.1,\n",
       "        21. , 23.8, 23.1, 20.4, 18.5, 25. , 24.6, 23. , 22.2, 19.3, 22.6,\n",
       "        19.8, 17.1, 19.4, 22.2, 20.7, 21.1, 19.5, 18.5, 20.6, 19. , 18.7,\n",
       "        32.7, 16.5, 23.9, 31.2, 17.5, 17.2, 23.1, 24.5, 26.6, 22.9, 24.1,\n",
       "        18.6, 30.1, 18.2, 20.6, 17.8, 21.7, 22.7, 22.6, 25. , 19.9, 20.8,\n",
       "        16.8, 21.9, 27.5, 21.9, 23.1, 50. , 50. , 50. , 50. , 50. , 13.8,\n",
       "        13.8, 15. , 13.9, 13.3, 13.1, 10.2, 10.4, 10.9, 11.3, 12.3,  8.8,\n",
       "         7.2, 10.5,  7.4, 10.2, 11.5, 15.1, 23.2,  9.7, 13.8, 12.7, 13.1,\n",
       "        12.5,  8.5,  5. ,  6.3,  5.6,  7.2, 12.1,  8.3,  8.5,  5. , 11.9,\n",
       "        27.9, 17.2, 27.5, 15. , 17.2, 17.9, 16.3,  7. ,  7.2,  7.5, 10.4,\n",
       "         8.8,  8.4, 16.7, 14.2, 20.8, 13.4, 11.7,  8.3, 10.2, 10.9, 11. ,\n",
       "         9.5, 14.5, 14.1, 16.1, 14.3, 11.7, 13.4,  9.6,  8.7,  8.4, 12.8,\n",
       "        10.5, 17.1, 18.4, 15.4, 10.8, 11.8, 14.9, 12.6, 14.1, 13. , 13.4,\n",
       "        15.2, 16.1, 17.8, 14.9, 14.1, 12.7, 13.5, 14.9, 20. , 16.4, 17.7,\n",
       "        19.5, 20.2, 21.4, 19.9, 19. , 19.1, 19.1, 20.1, 19.9, 19.6, 23.2,\n",
       "        29.8, 13.8, 13.3, 16.7, 12. , 14.6, 21.4, 23. , 23.7, 25. , 21.8,\n",
       "        20.6, 21.2, 19.1, 20.6, 15.2,  7. ,  8.1, 13.6, 20.1, 21.8, 24.5,\n",
       "        23.1, 19.7, 18.3, 21.2, 17.5, 16.8, 22.4, 20.6, 23.9, 22. , 11.9]),\n",
       " 'feature_names': array(['CRIM', 'ZN', 'INDUS', 'CHAS', 'NOX', 'RM', 'AGE', 'DIS', 'RAD',\n",
       "        'TAX', 'PTRATIO', 'B', 'LSTAT'], dtype='<U7'),\n",
       " 'DESCR': \".. _boston_dataset:\\n\\nBoston house prices dataset\\n---------------------------\\n\\n**Data Set Characteristics:**  \\n\\n    :Number of Instances: 506 \\n\\n    :Number of Attributes: 13 numeric/categorical predictive. Median Value (attribute 14) is usually the target.\\n\\n    :Attribute Information (in order):\\n        - CRIM     per capita crime rate by town\\n        - ZN       proportion of residential land zoned for lots over 25,000 sq.ft.\\n        - INDUS    proportion of non-retail business acres per town\\n        - CHAS     Charles River dummy variable (= 1 if tract bounds river; 0 otherwise)\\n        - NOX      nitric oxides concentration (parts per 10 million)\\n        - RM       average number of rooms per dwelling\\n        - AGE      proportion of owner-occupied units built prior to 1940\\n        - DIS      weighted distances to five Boston employment centres\\n        - RAD      index of accessibility to radial highways\\n        - TAX      full-value property-tax rate per $10,000\\n        - PTRATIO  pupil-teacher ratio by town\\n        - B        1000(Bk - 0.63)^2 where Bk is the proportion of blacks by town\\n        - LSTAT    % lower status of the population\\n        - MEDV     Median value of owner-occupied homes in $1000's\\n\\n    :Missing Attribute Values: None\\n\\n    :Creator: Harrison, D. and Rubinfeld, D.L.\\n\\nThis is a copy of UCI ML housing dataset.\\nhttps://archive.ics.uci.edu/ml/machine-learning-databases/housing/\\n\\n\\nThis dataset was taken from the StatLib library which is maintained at Carnegie Mellon University.\\n\\nThe Boston house-price data of Harrison, D. and Rubinfeld, D.L. 'Hedonic\\nprices and the demand for clean air', J. Environ. Economics & Management,\\nvol.5, 81-102, 1978.   Used in Belsley, Kuh & Welsch, 'Regression diagnostics\\n...', Wiley, 1980.   N.B. Various transformations are used in the table on\\npages 244-261 of the latter.\\n\\nThe Boston house-price data has been used in many machine learning papers that address regression\\nproblems.   \\n     \\n.. topic:: References\\n\\n   - Belsley, Kuh & Welsch, 'Regression diagnostics: Identifying Influential Data and Sources of Collinearity', Wiley, 1980. 244-261.\\n   - Quinlan,R. (1993). Combining Instance-Based and Model-Based Learning. In Proceedings on the Tenth International Conference of Machine Learning, 236-243, University of Massachusetts, Amherst. Morgan Kaufmann.\\n\",\n",
       " 'filename': 'C:\\\\AI\\\\pythonProject\\\\venv\\\\lib\\\\site-packages\\\\sklearn\\\\datasets\\\\data\\\\boston_house_prices.csv'}"
      ]
     },
     "execution_count": 9,
     "metadata": {},
     "output_type": "execute_result"
    }
   ],
   "source": [
    "from sklearn.datasets import load_boston\n",
    "\n",
    "df = load_boston()\n",
    "df"
   ]
  },
  {
   "cell_type": "code",
   "execution_count": 10,
   "id": "cf92ae04-e2a5-4599-85f4-b071052cdb83",
   "metadata": {
    "tags": []
   },
   "outputs": [
    {
     "data": {
      "text/plain": [
       "array(['CRIM', 'ZN', 'INDUS', 'CHAS', 'NOX', 'RM', 'AGE', 'DIS', 'RAD',\n",
       "       'TAX', 'PTRATIO', 'B', 'LSTAT'], dtype='<U7')"
      ]
     },
     "execution_count": 10,
     "metadata": {},
     "output_type": "execute_result"
    }
   ],
   "source": [
    "col = df['feature_names']\n",
    "col"
   ]
  },
  {
   "cell_type": "code",
   "execution_count": 12,
   "id": "d4b60ec1-323c-4281-92b3-c7192fec40bf",
   "metadata": {
    "tags": []
   },
   "outputs": [],
   "source": [
    "# df = pd.DataFrame(df['data'])\n",
    "\n",
    "# df.columns = col\n",
    "# df.head()"
   ]
  },
  {
   "cell_type": "markdown",
   "id": "84abc975-a1d7-4ff7-af0b-8c63907ca995",
   "metadata": {
    "tags": []
   },
   "source": [
    "# OLS 회귀모델\n",
    "\n",
    "    * y = wX + b\n",
    "        * w : 회귀계수(coef)\n",
    "        * b : 편향(bias)"
   ]
  },
  {
   "cell_type": "code",
   "execution_count": 20,
   "id": "6817d987-fc9c-4cc5-9ffd-32636760c188",
   "metadata": {
    "tags": []
   },
   "outputs": [
    {
     "data": {
      "text/html": [
       "<table class=\"simpletable\">\n",
       "<caption>OLS Regression Results</caption>\n",
       "<tr>\n",
       "  <th>Dep. Variable:</th>            <td>y</td>        <th>  R-squared:         </th> <td>   0.660</td>\n",
       "</tr>\n",
       "<tr>\n",
       "  <th>Model:</th>                   <td>OLS</td>       <th>  Adj. R-squared:    </th> <td>   0.617</td>\n",
       "</tr>\n",
       "<tr>\n",
       "  <th>Method:</th>             <td>Least Squares</td>  <th>  F-statistic:       </th> <td>   15.52</td>\n",
       "</tr>\n",
       "<tr>\n",
       "  <th>Date:</th>             <td>Tue, 04 Apr 2023</td> <th>  Prob (F-statistic):</th>  <td>0.00430</td>\n",
       "</tr>\n",
       "<tr>\n",
       "  <th>Time:</th>                 <td>16:55:42</td>     <th>  Log-Likelihood:    </th> <td> -42.623</td>\n",
       "</tr>\n",
       "<tr>\n",
       "  <th>No. Observations:</th>      <td>    10</td>      <th>  AIC:               </th> <td>   89.25</td>\n",
       "</tr>\n",
       "<tr>\n",
       "  <th>Df Residuals:</th>          <td>     8</td>      <th>  BIC:               </th> <td>   89.85</td>\n",
       "</tr>\n",
       "<tr>\n",
       "  <th>Df Model:</th>              <td>     1</td>      <th>                     </th>     <td> </td>   \n",
       "</tr>\n",
       "<tr>\n",
       "  <th>Covariance Type:</th>      <td>nonrobust</td>    <th>                     </th>     <td> </td>   \n",
       "</tr>\n",
       "</table>\n",
       "<table class=\"simpletable\">\n",
       "<tr>\n",
       "    <td></td>       <th>coef</th>     <th>std err</th>      <th>t</th>      <th>P>|t|</th>  <th>[0.025</th>    <th>0.975]</th>  \n",
       "</tr>\n",
       "<tr>\n",
       "  <th>const</th> <td>   37.5081</td> <td>    8.045</td> <td>    4.662</td> <td> 0.002</td> <td>   18.956</td> <td>   56.061</td>\n",
       "</tr>\n",
       "<tr>\n",
       "  <th>x1</th>    <td>    1.3328</td> <td>    0.338</td> <td>    3.939</td> <td> 0.004</td> <td>    0.553</td> <td>    2.113</td>\n",
       "</tr>\n",
       "</table>\n",
       "<table class=\"simpletable\">\n",
       "<tr>\n",
       "  <th>Omnibus:</th>       <td> 1.535</td> <th>  Durbin-Watson:     </th> <td>   0.422</td>\n",
       "</tr>\n",
       "<tr>\n",
       "  <th>Prob(Omnibus):</th> <td> 0.464</td> <th>  Jarque-Bera (JB):  </th> <td>   0.810</td>\n",
       "</tr>\n",
       "<tr>\n",
       "  <th>Skew:</th>          <td>-0.256</td> <th>  Prob(JB):          </th> <td>   0.667</td>\n",
       "</tr>\n",
       "<tr>\n",
       "  <th>Kurtosis:</th>      <td> 1.704</td> <th>  Cond. No.          </th> <td>    31.5</td>\n",
       "</tr>\n",
       "</table><br/><br/>Notes:<br/>[1] Standard Errors assume that the covariance matrix of the errors is correctly specified."
      ],
      "text/plain": [
       "<class 'statsmodels.iolib.summary.Summary'>\n",
       "\"\"\"\n",
       "                            OLS Regression Results                            \n",
       "==============================================================================\n",
       "Dep. Variable:                      y   R-squared:                       0.660\n",
       "Model:                            OLS   Adj. R-squared:                  0.617\n",
       "Method:                 Least Squares   F-statistic:                     15.52\n",
       "Date:                Tue, 04 Apr 2023   Prob (F-statistic):            0.00430\n",
       "Time:                        16:55:42   Log-Likelihood:                -42.623\n",
       "No. Observations:                  10   AIC:                             89.25\n",
       "Df Residuals:                       8   BIC:                             89.85\n",
       "Df Model:                           1                                         \n",
       "Covariance Type:            nonrobust                                         \n",
       "==============================================================================\n",
       "                 coef    std err          t      P>|t|      [0.025      0.975]\n",
       "------------------------------------------------------------------------------\n",
       "const         37.5081      8.045      4.662      0.002      18.956      56.061\n",
       "x1             1.3328      0.338      3.939      0.004       0.553       2.113\n",
       "==============================================================================\n",
       "Omnibus:                        1.535   Durbin-Watson:                   0.422\n",
       "Prob(Omnibus):                  0.464   Jarque-Bera (JB):                0.810\n",
       "Skew:                          -0.256   Prob(JB):                        0.667\n",
       "Kurtosis:                       1.704   Cond. No.                         31.5\n",
       "==============================================================================\n",
       "\n",
       "Notes:\n",
       "[1] Standard Errors assume that the covariance matrix of the errors is correctly specified.\n",
       "\"\"\""
      ]
     },
     "execution_count": 20,
     "metadata": {},
     "output_type": "execute_result"
    }
   ],
   "source": [
    "x = [1,3,2,5,6,9,12,23,35,60]\n",
    "y = [10,21,32,44,56,65,76,89,90,100]\n",
    "\n",
    "import statsmodels.api as sm\n",
    "# from statsmodels.regression.linear_model import OLS\n",
    "\n",
    "\n",
    "x = sm.add_constant(x) #상수항 결합?\n",
    "\n",
    "model = OLS(y , x)\n",
    "\n",
    "fit_res = model.fit()\n",
    "fit_res.summary()"
   ]
  },
  {
   "cell_type": "markdown",
   "id": "a42f3f69-e26e-4c48-a96c-c406924a2f67",
   "metadata": {},
   "source": [
    "## formula 방식"
   ]
  },
  {
   "cell_type": "markdown",
   "id": "69284932-7e95-4125-ac5a-4ad3c1e5384a",
   "metadata": {},
   "source": [
    "https://www.statsmodels.org/dev/generated/statsmodels.regression.linear_model.OLS.from_formula.html\n",
    "\n",
    "statsmodels.regression.linear_model.OLS.from_formula¶\n",
    "classmethod OLS.from_formula(formula, data, subset=None, drop_cols=None, *args, **kwargs)¶"
   ]
  },
  {
   "cell_type": "code",
   "execution_count": null,
   "id": "7cbf6abd-95c2-48d6-9ada-301d19678805",
   "metadata": {},
   "outputs": [],
   "source": []
  },
  {
   "cell_type": "code",
   "execution_count": 24,
   "id": "443feeaa-a087-49ce-88cd-d10f0face5c3",
   "metadata": {
    "tags": []
   },
   "outputs": [
    {
     "data": {
      "text/html": [
       "<table class=\"simpletable\">\n",
       "<caption>OLS Regression Results</caption>\n",
       "<tr>\n",
       "  <th>Dep. Variable:</th>            <td>y</td>        <th>  R-squared:         </th> <td>   0.660</td>\n",
       "</tr>\n",
       "<tr>\n",
       "  <th>Model:</th>                   <td>OLS</td>       <th>  Adj. R-squared:    </th> <td>   0.617</td>\n",
       "</tr>\n",
       "<tr>\n",
       "  <th>Method:</th>             <td>Least Squares</td>  <th>  F-statistic:       </th> <td>   15.52</td>\n",
       "</tr>\n",
       "<tr>\n",
       "  <th>Date:</th>             <td>Tue, 04 Apr 2023</td> <th>  Prob (F-statistic):</th>  <td>0.00430</td>\n",
       "</tr>\n",
       "<tr>\n",
       "  <th>Time:</th>                 <td>17:02:50</td>     <th>  Log-Likelihood:    </th> <td> -42.623</td>\n",
       "</tr>\n",
       "<tr>\n",
       "  <th>No. Observations:</th>      <td>    10</td>      <th>  AIC:               </th> <td>   89.25</td>\n",
       "</tr>\n",
       "<tr>\n",
       "  <th>Df Residuals:</th>          <td>     8</td>      <th>  BIC:               </th> <td>   89.85</td>\n",
       "</tr>\n",
       "<tr>\n",
       "  <th>Df Model:</th>              <td>     1</td>      <th>                     </th>     <td> </td>   \n",
       "</tr>\n",
       "<tr>\n",
       "  <th>Covariance Type:</th>      <td>nonrobust</td>    <th>                     </th>     <td> </td>   \n",
       "</tr>\n",
       "</table>\n",
       "<table class=\"simpletable\">\n",
       "<tr>\n",
       "      <td></td>         <th>coef</th>     <th>std err</th>      <th>t</th>      <th>P>|t|</th>  <th>[0.025</th>    <th>0.975]</th>  \n",
       "</tr>\n",
       "<tr>\n",
       "  <th>Intercept</th> <td>   37.5081</td> <td>    8.045</td> <td>    4.662</td> <td> 0.002</td> <td>   18.956</td> <td>   56.061</td>\n",
       "</tr>\n",
       "<tr>\n",
       "  <th>x</th>         <td>    1.3328</td> <td>    0.338</td> <td>    3.939</td> <td> 0.004</td> <td>    0.553</td> <td>    2.113</td>\n",
       "</tr>\n",
       "</table>\n",
       "<table class=\"simpletable\">\n",
       "<tr>\n",
       "  <th>Omnibus:</th>       <td> 1.535</td> <th>  Durbin-Watson:     </th> <td>   0.422</td>\n",
       "</tr>\n",
       "<tr>\n",
       "  <th>Prob(Omnibus):</th> <td> 0.464</td> <th>  Jarque-Bera (JB):  </th> <td>   0.810</td>\n",
       "</tr>\n",
       "<tr>\n",
       "  <th>Skew:</th>          <td>-0.256</td> <th>  Prob(JB):          </th> <td>   0.667</td>\n",
       "</tr>\n",
       "<tr>\n",
       "  <th>Kurtosis:</th>      <td> 1.704</td> <th>  Cond. No.          </th> <td>    31.5</td>\n",
       "</tr>\n",
       "</table><br/><br/>Notes:<br/>[1] Standard Errors assume that the covariance matrix of the errors is correctly specified."
      ],
      "text/plain": [
       "<class 'statsmodels.iolib.summary.Summary'>\n",
       "\"\"\"\n",
       "                            OLS Regression Results                            \n",
       "==============================================================================\n",
       "Dep. Variable:                      y   R-squared:                       0.660\n",
       "Model:                            OLS   Adj. R-squared:                  0.617\n",
       "Method:                 Least Squares   F-statistic:                     15.52\n",
       "Date:                Tue, 04 Apr 2023   Prob (F-statistic):            0.00430\n",
       "Time:                        17:02:50   Log-Likelihood:                -42.623\n",
       "No. Observations:                  10   AIC:                             89.25\n",
       "Df Residuals:                       8   BIC:                             89.85\n",
       "Df Model:                           1                                         \n",
       "Covariance Type:            nonrobust                                         \n",
       "==============================================================================\n",
       "                 coef    std err          t      P>|t|      [0.025      0.975]\n",
       "------------------------------------------------------------------------------\n",
       "Intercept     37.5081      8.045      4.662      0.002      18.956      56.061\n",
       "x              1.3328      0.338      3.939      0.004       0.553       2.113\n",
       "==============================================================================\n",
       "Omnibus:                        1.535   Durbin-Watson:                   0.422\n",
       "Prob(Omnibus):                  0.464   Jarque-Bera (JB):                0.810\n",
       "Skew:                          -0.256   Prob(JB):                        0.667\n",
       "Kurtosis:                       1.704   Cond. No.                         31.5\n",
       "==============================================================================\n",
       "\n",
       "Notes:\n",
       "[1] Standard Errors assume that the covariance matrix of the errors is correctly specified.\n",
       "\"\"\""
      ]
     },
     "execution_count": 24,
     "metadata": {},
     "output_type": "execute_result"
    }
   ],
   "source": [
    "\n",
    "#----------------------------------------------formula 방식\n",
    "\n",
    "X = [1,3,2,5,6,9,12,23,35,60]\n",
    "Y = [10,21,32,44,56,65,76,89,90,100]\n",
    "\n",
    "df = pd.DataFrame({'x' :X,\n",
    "                   'y':Y})\n",
    "\n",
    "model = OLS.from_formula('y ~ x ' ,data = df) # 포뮬라 사용법\n",
    "\n",
    "fit_res = model.fit()\n",
    "fit_res.summary()"
   ]
  },
  {
   "cell_type": "markdown",
   "id": "053951d5-8b82-4b84-a0f5-329a1672db1b",
   "metadata": {},
   "source": [
    "* y = 1.3328x + 37.5081\n",
    "\n",
    "최소자승법 y 햇"
   ]
  },
  {
   "cell_type": "markdown",
   "id": "80228d83-860b-4b91-a675-c3c46967da98",
   "metadata": {},
   "source": [
    "<pre>\n",
    "\n",
    "Dep. Variable: 타겟변수명\n",
    "Model:\tOLS\n",
    "Method:\tLeast Squares(최소제곱)\n",
    "No. Observations: 샘플갯수(10건)\n",
    "Df Residuals: 잔차자유도(샘플갯수-종속변수갯수(y)-독립변수갯수(x))\n",
    "Df Model: 독립변수 갯수(x)\t\n",
    "Covariance Type: nonrobust(non-constant variance)\n",
    "\n",
    "R-squared(R2) : 결정계수(모델의 설명력)\n",
    "   * 전체 데이터에서 회귀모델이 설명할 수 있는 데이터 비율\n",
    "   * 회귀모델 y = 1.3x + 37은 전체 데이터의 66%를 설명할 수 있다\n",
    "\n",
    "Adj. R-squared : 보정된 R2\n",
    "F-statistic: F분포(통계량)\n",
    "\t* F통계량으로 회귀모델 y = 1.3x + 37의 적절성 평가\n",
    "Prob (F-statistic) : : F분포(통계량) 유의수준"
   ]
  },
  {
   "cell_type": "markdown",
   "id": "82b7a656-ab4f-4a8c-9eb5-49cbdd219876",
   "metadata": {},
   "source": [
    "# F통계량 / SSR SSE SST\n",
    "\n",
    "<pre>\n",
    "- SSError = SSResidual    : Sum of Squares for Errors (or Residuals) 잔차의 제곱합\n",
    "- SSReg. SSTr = SSExplain : Sum of Squares for Regression (or Treated) 회귀(예측값) 제곱합\n",
    "- SSTotal                 : Sum of Squares Total (SSE + SSTr)\n",
    "\n",
    "- MSE = Mean of Squared Error      = SSError / Df Residuals(8) (총샘플수-독립변수갯수-종속변수갯수)\n",
    "- MSR = Mean of Sauqred Regression = SSReg   / Df Model(1)     (독립변수의 개수)\n",
    "- F-statistic (F통계량)            = SSReg.의 평균(MSR) / SSError의 평균(MSE)"
   ]
  },
  {
   "cell_type": "markdown",
   "id": "9fd1707b-f67d-4523-aa1a-89a25d116552",
   "metadata": {},
   "source": [
    "## 위의 서머리가 나오게 된 계산"
   ]
  },
  {
   "cell_type": "code",
   "execution_count": 35,
   "id": "331ec0dc-8829-4ca3-94f3-0a893122743f",
   "metadata": {
    "tags": []
   },
   "outputs": [
    {
     "name": "stdout",
     "output_type": "stream",
     "text": [
      "15.51664628471745 0.6598154386835811 2949.3880276200007 5720.576347620001 8669.96437524\n"
     ]
    }
   ],
   "source": [
    "X = [1,3,2,5,6,9,12,23,35,60]\n",
    "Y = [10,21,32,44,56,65,76,89,90,100]\n",
    "# Y = 1.3328x + 37.5081\n",
    "\n",
    "y_mean = np.mean(Y)                         #Y 평균\n",
    "x_arr = np.array(X)\n",
    "\n",
    "y_pred = x_arr * 1.3328 + 37.5081           # 회귀식으로 구현한 예측 값\n",
    "y_true = np.array(Y)                        # 실제값                         \n",
    "\n",
    "SSError = ((y_true - y_pred)**2).sum()      # 잔차 (실제값 - 예측값) 제곱 총 합\n",
    "\n",
    "SSReg = ((y_mean - y_pred)**2).sum()        # 편차 ( 평균 - 예측값 ) 제곱 총 합\n",
    "SST = SSError + SSReg\n",
    "\n",
    "R2 = SSReg / SST                            # 결정계수 : 모델이 얼마나 잘 설명할 수 있냐\n",
    "\n",
    "MSE = SSError / 8                           # SSError / Df Residuals(8)\n",
    "MSR = SSReg / 1                             # SSReg / Df Model(1) (독립변수의 갯수)\n",
    "F = MSR / MSE                               # SSReg. 의 평균(MSR) / MSE\n",
    "print(F, R2 , SSError,SSReg,SST)"
   ]
  },
  {
   "cell_type": "markdown",
   "id": "a0418dcf-0cd3-4075-b76c-b2c85dd43d9e",
   "metadata": {},
   "source": [
    "<pre>\n",
    "\n",
    "Dep. Variable    : 타겟변수명\n",
    "Model            : OLS\n",
    "Method           : Least Squares(최소제곱)\n",
    "No. Observations : 샘플갯수(10건)\n",
    "Df Residuals     : 잔차자유도(샘플갯수-종속변수갯수(y)-독립변수갯수(x))\n",
    "Df Model         : 독립변수 갯수(x)\n",
    "Covariance Type  : nonrobust(non-constant variance)\n",
    "\n",
    "---------------------------------------------------------\n",
    "\n",
    "<font color=red><b>R-squared(R2)</b></font>    : 결정계수(회귀식의 설명력) =  SSReg / SST\n",
    "                   전체 데이터에서 회귀모델이 설명할 수 있는 데이터 비율\n",
    "                   회귀모델 y = 1.3x + 37은 전체 데이터의 66%를 설명할 수 있다\n",
    "Adj. R-squared    : 보정된 R2\n",
    "\n",
    "<font color=red><b>F-statistic</b></font>       : F분포(통계량)\n",
    "                    F통계량으로 회귀모델 y = 1.3x + 37의 적절성 평가\n",
    "Prob (F-statistic): F분포(통계량) 유의수준\n",
    "\n",
    "<font color=red><b>AIC</b></font> BIC           : 손실 가중치 계산 (낮을 수록 좋음)\n",
    "                  : X피쳐를 이용해 Y를 예측할 수 있는 정도\n",
    "                    AIC (Akaikie’s Information Criteria)\n",
    "                    BIC (Bayesian Information Criterion)\n",
    "                    \n",
    "---------------------------------------------------------\n",
    "\n",
    "<font color=red><b>coef</b></font>              : 회귀계수(클수록 y에 영향도가 크다)\n",
    "std err           : 표준오차 (오차합 / 표준편차) (낮을 수록 좋음)\n",
    "t                 : t테스트 (평균값이용 : x피쳐가 y에 영향을 주는 정도 : 상관도)\n",
    "<font color=red><b>P>|t|</b></font>             : 유의수준 (p-value)\n",
    "[0.025 0.975]     : 신뢰구간\n",
    "\n",
    "---------------------------------------------------------\n",
    "\n",
    "Omnibus           : 비대칭도(왜도) 정규성 테스트 값 (크다:정규분포를 따른다)\n",
    "Prob(Omnibus)     : Omnibus 유의수준\n",
    "\n",
    "<font color=red><b>Skew</b></font>              : 왜도 (좌우 비대칭도)\n",
    "<font color=red><b>Kurtosis</b></font>          : 첨도(뾰족)\n",
    "Durbin-Watson     : (DW검정)잔차의 독립성을 확인할 수 있는 수치\n",
    "                     1.5 ~ 2.5 사이이면 독립으로 판단(회귀 모형이 적합하다)\n",
    "                     0 : 잔차들이 양의 자기 상관\n",
    "                     2 : 독립성(자기 상관이 없다)\n",
    "                     4 : 잔차들이 음의 자기 상관"
   ]
  },
  {
   "cell_type": "markdown",
   "id": "777cba00-3a7e-455a-8e55-4dbce8564ecb",
   "metadata": {},
   "source": [
    "* R-squared(R2) : 1이면 좋다\n",
    "* F-statistic   : 클 수록 분포에 차이가 있다\n",
    "* AIC           : 낮을 수록 좋음\n",
    "* coef          : 클수록 y에 영향도가 크다 \n",
    "* P>|t|         : 0.05보다 낮아야 유의미하다\n",
    "* Skew          : 정규분포의 왜도 0  \n",
    "* Kurtosis      : 정규분포의 첨도 0"
   ]
  },
  {
   "cell_type": "code",
   "execution_count": null,
   "id": "9e0c7391-933c-4048-a23b-4f79c3179ad4",
   "metadata": {},
   "outputs": [],
   "source": []
  },
  {
   "cell_type": "code",
   "execution_count": null,
   "id": "664a9b8a-dfc5-44cd-a65a-1b604d4ed5ea",
   "metadata": {},
   "outputs": [],
   "source": []
  }
 ],
 "metadata": {
  "kernelspec": {
   "display_name": "Python 3 (ipykernel)",
   "language": "python",
   "name": "python3"
  },
  "language_info": {
   "codemirror_mode": {
    "name": "ipython",
    "version": 3
   },
   "file_extension": ".py",
   "mimetype": "text/x-python",
   "name": "python",
   "nbconvert_exporter": "python",
   "pygments_lexer": "ipython3",
   "version": "3.8.8"
  }
 },
 "nbformat": 4,
 "nbformat_minor": 5
}
