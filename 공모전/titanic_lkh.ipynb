{
 "cells": [
  {
   "cell_type": "markdown",
   "id": "71749df6-a6fc-4480-b797-77d2215d85a9",
   "metadata": {},
   "source": [
    "<font size=6><b>Titanic\n",
    "    "
   ]
  },
  {
   "cell_type": "markdown",
   "id": "a1107eb0-1b33-4baf-bfdb-305c547d42b2",
   "metadata": {},
   "source": [
    "<img src=\"./logo.png\">"
   ]
  },
  {
   "cell_type": "markdown",
   "id": "b6400da5-890a-42fb-b9ee-617eef392bff",
   "metadata": {
    "tags": []
   },
   "source": [
    "* ref :  https://www.kaggle.com/competitions/titanic/data\n",
    "* Data Desc.\n",
    "<pre>\n",
    "survival\tSurvival\t0 = No, 1 = Yes\n",
    "pclass\tTicket class\t1 = 1st, 2 = 2nd, 3 = 3rd\n",
    "sex\tSex\t\n",
    "Age\tAge in years\t\n",
    "sibsp\t# of siblings / spouses aboard the Titanic\t\n",
    "parch\t# of parents / children aboard the Titanic\t\n",
    "ticket\tTicket number\t\n",
    "fare\tPassenger fare\t\n",
    "cabin\tCabin number\t\n",
    "embarked\tPort of Embarkation\tC = Cherbourg, Q = Queenstown, S = Southampton\n"
   ]
  },
  {
   "cell_type": "code",
   "execution_count": 1,
   "id": "c547eb88-7d48-47c6-8f85-6d4ed15cc9d8",
   "metadata": {
    "tags": []
   },
   "outputs": [],
   "source": [
    "import numpy as np\n",
    "import pandas as pd\n",
    "\n",
    "import warnings\n",
    "warnings.filterwarnings(action='ignore')"
   ]
  },
  {
   "cell_type": "markdown",
   "id": "9108e737-e577-4834-8502-a85d0e23e891",
   "metadata": {},
   "source": [
    "# Data Load\n",
    "* head()\n",
    "* info() .. shape"
   ]
  },
  {
   "cell_type": "code",
   "execution_count": 2,
   "id": "c6590128-fab5-4703-9b62-1c5e6b3b8a10",
   "metadata": {
    "tags": []
   },
   "outputs": [
    {
     "data": {
      "text/html": [
       "<div>\n",
       "<style scoped>\n",
       "    .dataframe tbody tr th:only-of-type {\n",
       "        vertical-align: middle;\n",
       "    }\n",
       "\n",
       "    .dataframe tbody tr th {\n",
       "        vertical-align: top;\n",
       "    }\n",
       "\n",
       "    .dataframe thead th {\n",
       "        text-align: right;\n",
       "    }\n",
       "</style>\n",
       "<table border=\"1\" class=\"dataframe\">\n",
       "  <thead>\n",
       "    <tr style=\"text-align: right;\">\n",
       "      <th></th>\n",
       "      <th>PassengerId</th>\n",
       "      <th>Survived</th>\n",
       "      <th>Pclass</th>\n",
       "      <th>Name</th>\n",
       "      <th>Sex</th>\n",
       "      <th>Age</th>\n",
       "      <th>SibSp</th>\n",
       "      <th>Parch</th>\n",
       "      <th>Ticket</th>\n",
       "      <th>Fare</th>\n",
       "      <th>Cabin</th>\n",
       "      <th>Embarked</th>\n",
       "    </tr>\n",
       "  </thead>\n",
       "  <tbody>\n",
       "    <tr>\n",
       "      <th>0</th>\n",
       "      <td>1</td>\n",
       "      <td>0</td>\n",
       "      <td>3</td>\n",
       "      <td>Braund, Mr. Owen Harris</td>\n",
       "      <td>male</td>\n",
       "      <td>22.0</td>\n",
       "      <td>1</td>\n",
       "      <td>0</td>\n",
       "      <td>A/5 21171</td>\n",
       "      <td>7.25</td>\n",
       "      <td>NaN</td>\n",
       "      <td>S</td>\n",
       "    </tr>\n",
       "  </tbody>\n",
       "</table>\n",
       "</div>"
      ],
      "text/plain": [
       "   PassengerId  Survived  Pclass                     Name   Sex   Age  SibSp  \\\n",
       "0            1         0       3  Braund, Mr. Owen Harris  male  22.0      1   \n",
       "\n",
       "   Parch     Ticket  Fare Cabin Embarked  \n",
       "0      0  A/5 21171  7.25   NaN        S  "
      ]
     },
     "execution_count": 2,
     "metadata": {},
     "output_type": "execute_result"
    }
   ],
   "source": [
    "train = pd.read_csv(\"./train.csv\")\n",
    "train.head(1)"
   ]
  },
  {
   "cell_type": "code",
   "execution_count": 3,
   "id": "c812fe71-ab98-4d57-a72b-318875ab8b8c",
   "metadata": {
    "tags": []
   },
   "outputs": [
    {
     "name": "stdout",
     "output_type": "stream",
     "text": [
      "<class 'pandas.core.frame.DataFrame'>\n",
      "RangeIndex: 891 entries, 0 to 890\n",
      "Data columns (total 12 columns):\n",
      " #   Column       Non-Null Count  Dtype  \n",
      "---  ------       --------------  -----  \n",
      " 0   PassengerId  891 non-null    int64  \n",
      " 1   Survived     891 non-null    int64  \n",
      " 2   Pclass       891 non-null    int64  \n",
      " 3   Name         891 non-null    object \n",
      " 4   Sex          891 non-null    object \n",
      " 5   Age          714 non-null    float64\n",
      " 6   SibSp        891 non-null    int64  \n",
      " 7   Parch        891 non-null    int64  \n",
      " 8   Ticket       891 non-null    object \n",
      " 9   Fare         891 non-null    float64\n",
      " 10  Cabin        204 non-null    object \n",
      " 11  Embarked     889 non-null    object \n",
      "dtypes: float64(2), int64(5), object(5)\n",
      "memory usage: 83.7+ KB\n"
     ]
    }
   ],
   "source": [
    "train.info()"
   ]
  },
  {
   "cell_type": "code",
   "execution_count": 4,
   "id": "05877153-f912-4fb3-a48c-79563b34c289",
   "metadata": {
    "tags": []
   },
   "outputs": [
    {
     "data": {
      "text/plain": [
       "(891, 12)"
      ]
     },
     "execution_count": 4,
     "metadata": {},
     "output_type": "execute_result"
    }
   ],
   "source": [
    "train.shape"
   ]
  },
  {
   "cell_type": "code",
   "execution_count": 5,
   "id": "b5c8da66-1304-4eac-8d38-4db7c0af5e29",
   "metadata": {
    "tags": []
   },
   "outputs": [
    {
     "data": {
      "text/plain": [
       "Index(['passengerid', 'survived', 'pclass', 'name', 'sex', 'age', 'sibsp',\n",
       "       'parch', 'ticket', 'fare', 'cabin', 'embarked'],\n",
       "      dtype='object')"
      ]
     },
     "execution_count": 5,
     "metadata": {},
     "output_type": "execute_result"
    }
   ],
   "source": [
    "train.columns = train.columns.str.lower()\n",
    "train.columns"
   ]
  },
  {
   "cell_type": "code",
   "execution_count": 6,
   "id": "e077a408-6490-498f-872e-53f7282d7e3f",
   "metadata": {
    "tags": []
   },
   "outputs": [
    {
     "data": {
      "text/html": [
       "<div>\n",
       "<style scoped>\n",
       "    .dataframe tbody tr th:only-of-type {\n",
       "        vertical-align: middle;\n",
       "    }\n",
       "\n",
       "    .dataframe tbody tr th {\n",
       "        vertical-align: top;\n",
       "    }\n",
       "\n",
       "    .dataframe thead th {\n",
       "        text-align: right;\n",
       "    }\n",
       "</style>\n",
       "<table border=\"1\" class=\"dataframe\">\n",
       "  <thead>\n",
       "    <tr style=\"text-align: right;\">\n",
       "      <th></th>\n",
       "      <th>passengerid</th>\n",
       "      <th>survived</th>\n",
       "      <th>pclass</th>\n",
       "      <th>name</th>\n",
       "      <th>sex</th>\n",
       "      <th>age</th>\n",
       "      <th>sibsp</th>\n",
       "      <th>parch</th>\n",
       "      <th>ticket</th>\n",
       "      <th>fare</th>\n",
       "      <th>cabin</th>\n",
       "      <th>embarked</th>\n",
       "    </tr>\n",
       "  </thead>\n",
       "  <tbody>\n",
       "    <tr>\n",
       "      <th>0</th>\n",
       "      <td>1</td>\n",
       "      <td>0</td>\n",
       "      <td>3</td>\n",
       "      <td>Braund, Mr. Owen Harris</td>\n",
       "      <td>male</td>\n",
       "      <td>22.0</td>\n",
       "      <td>1</td>\n",
       "      <td>0</td>\n",
       "      <td>A/5 21171</td>\n",
       "      <td>7.25</td>\n",
       "      <td>NaN</td>\n",
       "      <td>S</td>\n",
       "    </tr>\n",
       "  </tbody>\n",
       "</table>\n",
       "</div>"
      ],
      "text/plain": [
       "   passengerid  survived  pclass                     name   sex   age  sibsp  \\\n",
       "0            1         0       3  Braund, Mr. Owen Harris  male  22.0      1   \n",
       "\n",
       "   parch     ticket  fare cabin embarked  \n",
       "0      0  A/5 21171  7.25   NaN        S  "
      ]
     },
     "execution_count": 6,
     "metadata": {},
     "output_type": "execute_result"
    }
   ],
   "source": [
    "train.head(1)"
   ]
  },
  {
   "cell_type": "markdown",
   "id": "23e3a89d-c5da-41a1-9a4c-c3df735d5b2e",
   "metadata": {},
   "source": [
    "# 결측 확인"
   ]
  },
  {
   "cell_type": "code",
   "execution_count": 7,
   "id": "696246c3-2995-4afa-a9c5-1ed28cc0fbdd",
   "metadata": {
    "tags": []
   },
   "outputs": [
    {
     "data": {
      "text/plain": [
       "passengerid      0\n",
       "survived         0\n",
       "pclass           0\n",
       "name             0\n",
       "sex              0\n",
       "age            177\n",
       "sibsp            0\n",
       "parch            0\n",
       "ticket           0\n",
       "fare             0\n",
       "cabin          687\n",
       "embarked         2\n",
       "dtype: int64"
      ]
     },
     "execution_count": 7,
     "metadata": {},
     "output_type": "execute_result"
    }
   ],
   "source": [
    "train.isna().sum()"
   ]
  },
  {
   "cell_type": "code",
   "execution_count": 8,
   "id": "b06428cf-06d5-45bc-b7ba-1fa30cbedb48",
   "metadata": {
    "tags": []
   },
   "outputs": [
    {
     "data": {
      "text/plain": [
       "age         177\n",
       "cabin       687\n",
       "embarked      2\n",
       "dtype: int64"
      ]
     },
     "execution_count": 8,
     "metadata": {},
     "output_type": "execute_result"
    }
   ],
   "source": [
    "train.isna().sum() [   train.isna().sum()>0   ]"
   ]
  },
  {
   "cell_type": "markdown",
   "id": "0d1d2e2f-bafa-4919-8460-406a78d92745",
   "metadata": {
    "tags": []
   },
   "source": [
    "* 출력결과 다음과 같이 출력\n",
    "<pre>\n",
    "col    cnt     nan_cnt     nan_rate\n",
    "age    891     177         23%"
   ]
  },
  {
   "cell_type": "code",
   "execution_count": 9,
   "id": "31eb9e03-84d3-4387-95dd-ee26dddaefa0",
   "metadata": {
    "tags": []
   },
   "outputs": [
    {
     "data": {
      "text/html": [
       "<div>\n",
       "<style scoped>\n",
       "    .dataframe tbody tr th:only-of-type {\n",
       "        vertical-align: middle;\n",
       "    }\n",
       "\n",
       "    .dataframe tbody tr th {\n",
       "        vertical-align: top;\n",
       "    }\n",
       "\n",
       "    .dataframe thead th {\n",
       "        text-align: right;\n",
       "    }\n",
       "</style>\n",
       "<table border=\"1\" class=\"dataframe\">\n",
       "  <thead>\n",
       "    <tr style=\"text-align: right;\">\n",
       "      <th></th>\n",
       "      <th>cabin</th>\n",
       "      <th>age</th>\n",
       "      <th>embarked</th>\n",
       "      <th>passengerid</th>\n",
       "      <th>survived</th>\n",
       "      <th>pclass</th>\n",
       "      <th>name</th>\n",
       "      <th>sex</th>\n",
       "      <th>sibsp</th>\n",
       "      <th>parch</th>\n",
       "      <th>ticket</th>\n",
       "      <th>fare</th>\n",
       "    </tr>\n",
       "  </thead>\n",
       "  <tbody>\n",
       "    <tr>\n",
       "      <th>cnt</th>\n",
       "      <td>204.0</td>\n",
       "      <td>714.00</td>\n",
       "      <td>889.00</td>\n",
       "      <td>891.0</td>\n",
       "      <td>891.0</td>\n",
       "      <td>891.0</td>\n",
       "      <td>891.0</td>\n",
       "      <td>891.0</td>\n",
       "      <td>891.0</td>\n",
       "      <td>891.0</td>\n",
       "      <td>891.0</td>\n",
       "      <td>891.0</td>\n",
       "    </tr>\n",
       "    <tr>\n",
       "      <th>nan_cnt</th>\n",
       "      <td>687.0</td>\n",
       "      <td>177.00</td>\n",
       "      <td>2.00</td>\n",
       "      <td>0.0</td>\n",
       "      <td>0.0</td>\n",
       "      <td>0.0</td>\n",
       "      <td>0.0</td>\n",
       "      <td>0.0</td>\n",
       "      <td>0.0</td>\n",
       "      <td>0.0</td>\n",
       "      <td>0.0</td>\n",
       "      <td>0.0</td>\n",
       "    </tr>\n",
       "    <tr>\n",
       "      <th>nan_rate</th>\n",
       "      <td>77.1</td>\n",
       "      <td>19.87</td>\n",
       "      <td>0.22</td>\n",
       "      <td>0.0</td>\n",
       "      <td>0.0</td>\n",
       "      <td>0.0</td>\n",
       "      <td>0.0</td>\n",
       "      <td>0.0</td>\n",
       "      <td>0.0</td>\n",
       "      <td>0.0</td>\n",
       "      <td>0.0</td>\n",
       "      <td>0.0</td>\n",
       "    </tr>\n",
       "    <tr>\n",
       "      <th>unique_cnt</th>\n",
       "      <td>147.0</td>\n",
       "      <td>88.00</td>\n",
       "      <td>3.00</td>\n",
       "      <td>891.0</td>\n",
       "      <td>2.0</td>\n",
       "      <td>3.0</td>\n",
       "      <td>891.0</td>\n",
       "      <td>2.0</td>\n",
       "      <td>7.0</td>\n",
       "      <td>7.0</td>\n",
       "      <td>681.0</td>\n",
       "      <td>248.0</td>\n",
       "    </tr>\n",
       "  </tbody>\n",
       "</table>\n",
       "</div>"
      ],
      "text/plain": [
       "            cabin     age  embarked  passengerid  survived  pclass   name  \\\n",
       "cnt         204.0  714.00    889.00        891.0     891.0   891.0  891.0   \n",
       "nan_cnt     687.0  177.00      2.00          0.0       0.0     0.0    0.0   \n",
       "nan_rate     77.1   19.87      0.22          0.0       0.0     0.0    0.0   \n",
       "unique_cnt  147.0   88.00      3.00        891.0       2.0     3.0  891.0   \n",
       "\n",
       "              sex  sibsp  parch  ticket   fare  \n",
       "cnt         891.0  891.0  891.0   891.0  891.0  \n",
       "nan_cnt       0.0    0.0    0.0     0.0    0.0  \n",
       "nan_rate      0.0    0.0    0.0     0.0    0.0  \n",
       "unique_cnt    2.0    7.0    7.0   681.0  248.0  "
      ]
     },
     "execution_count": 9,
     "metadata": {},
     "output_type": "execute_result"
    }
   ],
   "source": [
    "col       = train.columns   \n",
    "cnt       = train.notna().sum()   \n",
    "nan_cnt   = train.isna().sum()       \n",
    "nan_rate  = round(  (nan_cnt / train.shape[0]) * 100,  2 )\n",
    "unique_cnt = train.nunique()\n",
    "\n",
    "dic   = {\"cnt\":cnt, \"nan_cnt\":nan_cnt, \"nan_rate\":nan_rate, \"unique_cnt\":unique_cnt}\n",
    "nandf = pd.DataFrame(dic)\n",
    "nandf.sort_values(by=\"nan_cnt\", ascending=False).T"
   ]
  },
  {
   "cell_type": "markdown",
   "id": "f308935c-17b7-4e1d-9780-7a3b4e99c38b",
   "metadata": {},
   "source": [
    "# 중복값 확인\n",
    "* df[컬럼].unique()\n",
    "* df[컬럼].nunique()"
   ]
  },
  {
   "cell_type": "code",
   "execution_count": 10,
   "id": "2b31235c-0eec-47cf-bccc-006fd052047d",
   "metadata": {
    "tags": []
   },
   "outputs": [
    {
     "data": {
      "text/plain": [
       "array(['male', 'female'], dtype=object)"
      ]
     },
     "execution_count": 10,
     "metadata": {},
     "output_type": "execute_result"
    }
   ],
   "source": [
    "# select distinct job from emp;\n",
    "train['sex'].unique()"
   ]
  },
  {
   "cell_type": "code",
   "execution_count": 11,
   "id": "cb9dfd19-73ff-4108-8988-f575d488e080",
   "metadata": {
    "tags": []
   },
   "outputs": [
    {
     "data": {
      "text/plain": [
       "2"
      ]
     },
     "execution_count": 11,
     "metadata": {},
     "output_type": "execute_result"
    }
   ],
   "source": [
    "train['sex'].nunique()"
   ]
  },
  {
   "cell_type": "code",
   "execution_count": 12,
   "id": "158c3730-0ee5-49b1-a517-932a8977ab77",
   "metadata": {
    "tags": []
   },
   "outputs": [
    {
     "data": {
      "text/plain": [
       "male      577\n",
       "female    314\n",
       "Name: sex, dtype: int64"
      ]
     },
     "execution_count": 12,
     "metadata": {},
     "output_type": "execute_result"
    }
   ],
   "source": [
    "train['sex'].value_counts()"
   ]
  },
  {
   "cell_type": "code",
   "execution_count": 13,
   "id": "1d8597a5-2092-44cc-9626-f39910896760",
   "metadata": {
    "tags": []
   },
   "outputs": [
    {
     "name": "stdout",
     "output_type": "stream",
     "text": [
      "survived 2 [0 1]\n",
      "pclass 3 [3 1 2]\n",
      "sex 2 ['male' 'female']\n",
      "age 88 [22.   38.   26.   35.     nan 54.    2.   27.   14.    4.   58.   20.\n",
      " 39.   55.   31.   34.   15.   28.    8.   19.   40.   66.   42.   21.\n",
      " 18.    3.    7.   49.   29.   65.   28.5   5.   11.   45.   17.   32.\n",
      " 16.   25.    0.83 30.   33.   23.   24.   46.   59.   71.   37.   47.\n",
      " 14.5  70.5  32.5  12.    9.   36.5  51.   55.5  40.5  44.    1.   61.\n",
      " 56.   50.   36.   45.5  20.5  62.   41.   52.   63.   23.5   0.92 43.\n",
      " 60.   10.   64.   13.   48.    0.75 53.   57.   80.   70.   24.5   6.\n",
      "  0.67 30.5   0.42 34.5  74.  ]\n",
      "sibsp 7 [1 0 3 4 2 5 8]\n",
      "parch 7 [0 1 2 5 3 4 6]\n",
      "embarked 3 ['S' 'C' 'Q' nan]\n"
     ]
    }
   ],
   "source": [
    "# train.nunique() --- 정상\n",
    "# train.unique()  --- 에러\n",
    "\n",
    "for col in train.columns:\n",
    "    if train[col].nunique() < 100:\n",
    "        print( col, train[col].nunique(),  train[col].unique() )"
   ]
  },
  {
   "cell_type": "markdown",
   "id": "1b69e0df-ad1d-476e-b79c-6200142a2a0f",
   "metadata": {
    "tags": []
   },
   "source": [
    "# EDA \n",
    "* EDA (Exploratory Data Analysis, 탐색적 데이터 분석)\n",
    "* 통계적 분석 & 차트(시각화)"
   ]
  },
  {
   "cell_type": "code",
   "execution_count": 14,
   "id": "a4d2a7c4-25f8-4bb7-97c8-591989c0f789",
   "metadata": {
    "tags": []
   },
   "outputs": [
    {
     "data": {
      "text/plain": [
       "Index(['passengerid', 'survived', 'pclass', 'name', 'sex', 'age', 'sibsp',\n",
       "       'parch', 'ticket', 'fare', 'cabin', 'embarked'],\n",
       "      dtype='object')"
      ]
     },
     "execution_count": 14,
     "metadata": {},
     "output_type": "execute_result"
    }
   ],
   "source": [
    "train.columns"
   ]
  },
  {
   "cell_type": "code",
   "execution_count": 15,
   "id": "384c2724-ee1b-4d03-81a5-6720e428140c",
   "metadata": {
    "tags": []
   },
   "outputs": [],
   "source": [
    "### # ! pip install matplotlib"
   ]
  },
  {
   "cell_type": "markdown",
   "id": "16149917-b2d6-4674-8e94-6d89260b0c20",
   "metadata": {},
   "source": [
    "<pre>\n",
    "Collecting matplotlib\n",
    "  Downloading matplotlib-3.6.3-cp38-cp38-win_amd64.whl (7.2 MB)\n",
    "     ---------------------------------------- 7.2/7.2 MB 7.8 MB/s eta 0:00:00\n",
    "Collecting kiwisolver>=1.0.1\n",
    "  Downloading kiwisolver-1.4.4-cp38-cp38-win_amd64.whl (55 kB)\n",
    "     ---------------------------------------- 55.4/55.4 kB 2.8 MB/s eta 0:00:00\n",
    "Collecting fonttools>=4.22.0\n",
    "  Downloading fonttools-4.38.0-py3-none-any.whl (965 kB)\n",
    "     -------------------------------------- 965.4/965.4 kB 2.3 MB/s eta 0:00:00\n",
    "Collecting cycler>=0.10\n",
    "  Downloading cycler-0.11.0-py3-none-any.whl (6.4 kB)\n",
    "Collecting pillow>=6.2.0\n",
    "  Downloading Pillow-9.4.0-cp38-cp38-win_amd64.whl (2.5 MB)\n",
    "     ---------------------------------------- 2.5/2.5 MB 1.9 MB/s eta 0:00:00\n",
    "Collecting pyparsing>=2.2.1\n",
    "  Downloading pyparsing-3.0.9-py3-none-any.whl (98 kB)\n",
    "     ---------------------------------------- 98.3/98.3 kB 1.9 MB/s eta 0:00:00\n",
    "Collecting contourpy>=1.0.1\n",
    "  Downloading contourpy-1.0.7-cp38-cp38-win_amd64.whl (162 kB)\n",
    "     -------------------------------------- 163.0/163.0 kB 2.0 MB/s eta 0:00:00\n",
    "Requirement already satisfied: packaging>=20.0 in c:\\ai\\pythonproject\\venv\\lib\\site-packages (from matplotlib) (23.0)\n",
    "Requirement already satisfied: python-dateutil>=2.7 in c:\\ai\\pythonproject\\venv\\lib\\site-packages (from matplotlib) (2.8.2)\n",
    "Requirement already satisfied: numpy>=1.19 in c:\\ai\\pythonproject\\venv\\lib\\site-packages (from matplotlib) (1.24.2)\n",
    "Requirement already satisfied: six>=1.5 in c:\\ai\\pythonproject\\venv\\lib\\site-packages (from python-dateutil>=2.7->matplotlib) (1.16.0)\n",
    "Installing collected packages: pyparsing, pillow, kiwisolver, fonttools, cycler, contourpy, matplotlib\n",
    "Successfully installed contourpy-1.0.7 cycler-0.11.0 fonttools-4.38.0 kiwisolver-1.4.4 matplotlib-3.6.3 pillow-9.4.0 pyparsing-3.0.9"
   ]
  },
  {
   "cell_type": "code",
   "execution_count": 16,
   "id": "3c48f3a0-3ed6-4ccb-a78a-e9efe2fb47c7",
   "metadata": {
    "tags": []
   },
   "outputs": [
    {
     "data": {
      "image/png": "[encoded data removed]",
      "text/plain": [
       "<Figure size 640x480 with 1 Axes>"
      ]
     },
     "metadata": {},
     "output_type": "display_data"
    }
   ],
   "source": [
    "import matplotlib.pyplot as plt\n",
    "plt.plot([1,2,3,8,4])\n",
    "plt.show()"
   ]
  },
  {
   "cell_type": "markdown",
   "id": "7535e6ec-4e3d-4884-b6fb-b78cbd3d1855",
   "metadata": {},
   "source": [
    "## passengerid : all unique drop()\n",
    "* unique해서 패턴을 보이지 않음 -- 분석대상에서 제외(삭제)"
   ]
  },
  {
   "cell_type": "code",
   "execution_count": 17,
   "id": "80881b80-b2e0-4c73-93ef-ceb0d23bd66b",
   "metadata": {
    "tags": []
   },
   "outputs": [
    {
     "data": {
      "text/html": [
       "<div>\n",
       "<style scoped>\n",
       "    .dataframe tbody tr th:only-of-type {\n",
       "        vertical-align: middle;\n",
       "    }\n",
       "\n",
       "    .dataframe tbody tr th {\n",
       "        vertical-align: top;\n",
       "    }\n",
       "\n",
       "    .dataframe thead th {\n",
       "        text-align: right;\n",
       "    }\n",
       "</style>\n",
       "<table border=\"1\" class=\"dataframe\">\n",
       "  <thead>\n",
       "    <tr style=\"text-align: right;\">\n",
       "      <th></th>\n",
       "      <th>passengerid</th>\n",
       "      <th>survived</th>\n",
       "      <th>pclass</th>\n",
       "      <th>name</th>\n",
       "      <th>sex</th>\n",
       "      <th>age</th>\n",
       "      <th>sibsp</th>\n",
       "      <th>parch</th>\n",
       "      <th>ticket</th>\n",
       "      <th>fare</th>\n",
       "      <th>cabin</th>\n",
       "      <th>embarked</th>\n",
       "    </tr>\n",
       "  </thead>\n",
       "  <tbody>\n",
       "    <tr>\n",
       "      <th>0</th>\n",
       "      <td>1</td>\n",
       "      <td>0</td>\n",
       "      <td>3</td>\n",
       "      <td>Braund, Mr. Owen Harris</td>\n",
       "      <td>male</td>\n",
       "      <td>22.0</td>\n",
       "      <td>1</td>\n",
       "      <td>0</td>\n",
       "      <td>A/5 21171</td>\n",
       "      <td>7.2500</td>\n",
       "      <td>NaN</td>\n",
       "      <td>S</td>\n",
       "    </tr>\n",
       "    <tr>\n",
       "      <th>1</th>\n",
       "      <td>2</td>\n",
       "      <td>1</td>\n",
       "      <td>1</td>\n",
       "      <td>Cumings, Mrs. John Bradley (Florence Briggs Th...</td>\n",
       "      <td>female</td>\n",
       "      <td>38.0</td>\n",
       "      <td>1</td>\n",
       "      <td>0</td>\n",
       "      <td>PC 17599</td>\n",
       "      <td>71.2833</td>\n",
       "      <td>C85</td>\n",
       "      <td>C</td>\n",
       "    </tr>\n",
       "  </tbody>\n",
       "</table>\n",
       "</div>"
      ],
      "text/plain": [
       "   passengerid  survived  pclass  \\\n",
       "0            1         0       3   \n",
       "1            2         1       1   \n",
       "\n",
       "                                                name     sex   age  sibsp  \\\n",
       "0                            Braund, Mr. Owen Harris    male  22.0      1   \n",
       "1  Cumings, Mrs. John Bradley (Florence Briggs Th...  female  38.0      1   \n",
       "\n",
       "   parch     ticket     fare cabin embarked  \n",
       "0      0  A/5 21171   7.2500   NaN        S  \n",
       "1      0   PC 17599  71.2833   C85        C  "
      ]
     },
     "execution_count": 17,
     "metadata": {},
     "output_type": "execute_result"
    }
   ],
   "source": [
    "traincp = train.copy()\n",
    "traincp.head(2)"
   ]
  },
  {
   "cell_type": "code",
   "execution_count": 18,
   "id": "e362fd5a-acf2-4106-ba39-e7d9de7d5e9f",
   "metadata": {
    "tags": []
   },
   "outputs": [],
   "source": [
    "traincp = traincp.drop(0, axis=0)  #--- drop(row인덱스값, 줄단위로지우기)\n",
    "# traincp.drop(0, axis=0, inplace=True)"
   ]
  },
  {
   "cell_type": "code",
   "execution_count": 19,
   "id": "3dbb0be4-d28b-4c1e-8b06-8407b0ed82c6",
   "metadata": {
    "tags": []
   },
   "outputs": [
    {
     "data": {
      "text/html": [
       "<div>\n",
       "<style scoped>\n",
       "    .dataframe tbody tr th:only-of-type {\n",
       "        vertical-align: middle;\n",
       "    }\n",
       "\n",
       "    .dataframe tbody tr th {\n",
       "        vertical-align: top;\n",
       "    }\n",
       "\n",
       "    .dataframe thead th {\n",
       "        text-align: right;\n",
       "    }\n",
       "</style>\n",
       "<table border=\"1\" class=\"dataframe\">\n",
       "  <thead>\n",
       "    <tr style=\"text-align: right;\">\n",
       "      <th></th>\n",
       "      <th>passengerid</th>\n",
       "      <th>survived</th>\n",
       "      <th>pclass</th>\n",
       "      <th>name</th>\n",
       "      <th>sex</th>\n",
       "      <th>age</th>\n",
       "      <th>sibsp</th>\n",
       "      <th>parch</th>\n",
       "      <th>ticket</th>\n",
       "      <th>fare</th>\n",
       "      <th>cabin</th>\n",
       "      <th>embarked</th>\n",
       "    </tr>\n",
       "  </thead>\n",
       "  <tbody>\n",
       "    <tr>\n",
       "      <th>1</th>\n",
       "      <td>2</td>\n",
       "      <td>1</td>\n",
       "      <td>1</td>\n",
       "      <td>Cumings, Mrs. John Bradley (Florence Briggs Th...</td>\n",
       "      <td>female</td>\n",
       "      <td>38.0</td>\n",
       "      <td>1</td>\n",
       "      <td>0</td>\n",
       "      <td>PC 17599</td>\n",
       "      <td>71.2833</td>\n",
       "      <td>C85</td>\n",
       "      <td>C</td>\n",
       "    </tr>\n",
       "    <tr>\n",
       "      <th>2</th>\n",
       "      <td>3</td>\n",
       "      <td>1</td>\n",
       "      <td>3</td>\n",
       "      <td>Heikkinen, Miss. Laina</td>\n",
       "      <td>female</td>\n",
       "      <td>26.0</td>\n",
       "      <td>0</td>\n",
       "      <td>0</td>\n",
       "      <td>STON/O2. 3101282</td>\n",
       "      <td>7.9250</td>\n",
       "      <td>NaN</td>\n",
       "      <td>S</td>\n",
       "    </tr>\n",
       "    <tr>\n",
       "      <th>3</th>\n",
       "      <td>4</td>\n",
       "      <td>1</td>\n",
       "      <td>1</td>\n",
       "      <td>Futrelle, Mrs. Jacques Heath (Lily May Peel)</td>\n",
       "      <td>female</td>\n",
       "      <td>35.0</td>\n",
       "      <td>1</td>\n",
       "      <td>0</td>\n",
       "      <td>113803</td>\n",
       "      <td>53.1000</td>\n",
       "      <td>C123</td>\n",
       "      <td>S</td>\n",
       "    </tr>\n",
       "  </tbody>\n",
       "</table>\n",
       "</div>"
      ],
      "text/plain": [
       "   passengerid  survived  pclass  \\\n",
       "1            2         1       1   \n",
       "2            3         1       3   \n",
       "3            4         1       1   \n",
       "\n",
       "                                                name     sex   age  sibsp  \\\n",
       "1  Cumings, Mrs. John Bradley (Florence Briggs Th...  female  38.0      1   \n",
       "2                             Heikkinen, Miss. Laina  female  26.0      0   \n",
       "3       Futrelle, Mrs. Jacques Heath (Lily May Peel)  female  35.0      1   \n",
       "\n",
       "   parch            ticket     fare cabin embarked  \n",
       "1      0          PC 17599  71.2833   C85        C  \n",
       "2      0  STON/O2. 3101282   7.9250   NaN        S  \n",
       "3      0            113803  53.1000  C123        S  "
      ]
     },
     "execution_count": 19,
     "metadata": {},
     "output_type": "execute_result"
    }
   ],
   "source": [
    "traincp.head(3)"
   ]
  },
  {
   "cell_type": "code",
   "execution_count": 20,
   "id": "9316d719-02e4-4c20-b255-53ca04fcd4c6",
   "metadata": {
    "tags": []
   },
   "outputs": [
    {
     "data": {
      "text/html": [
       "<div>\n",
       "<style scoped>\n",
       "    .dataframe tbody tr th:only-of-type {\n",
       "        vertical-align: middle;\n",
       "    }\n",
       "\n",
       "    .dataframe tbody tr th {\n",
       "        vertical-align: top;\n",
       "    }\n",
       "\n",
       "    .dataframe thead th {\n",
       "        text-align: right;\n",
       "    }\n",
       "</style>\n",
       "<table border=\"1\" class=\"dataframe\">\n",
       "  <thead>\n",
       "    <tr style=\"text-align: right;\">\n",
       "      <th></th>\n",
       "      <th>survived</th>\n",
       "      <th>pclass</th>\n",
       "      <th>name</th>\n",
       "      <th>sex</th>\n",
       "      <th>age</th>\n",
       "      <th>sibsp</th>\n",
       "      <th>parch</th>\n",
       "      <th>ticket</th>\n",
       "      <th>fare</th>\n",
       "      <th>cabin</th>\n",
       "      <th>embarked</th>\n",
       "    </tr>\n",
       "  </thead>\n",
       "  <tbody>\n",
       "    <tr>\n",
       "      <th>1</th>\n",
       "      <td>1</td>\n",
       "      <td>1</td>\n",
       "      <td>Cumings, Mrs. John Bradley (Florence Briggs Th...</td>\n",
       "      <td>female</td>\n",
       "      <td>38.0</td>\n",
       "      <td>1</td>\n",
       "      <td>0</td>\n",
       "      <td>PC 17599</td>\n",
       "      <td>71.2833</td>\n",
       "      <td>C85</td>\n",
       "      <td>C</td>\n",
       "    </tr>\n",
       "  </tbody>\n",
       "</table>\n",
       "</div>"
      ],
      "text/plain": [
       "   survived  pclass                                               name  \\\n",
       "1         1       1  Cumings, Mrs. John Bradley (Florence Briggs Th...   \n",
       "\n",
       "      sex   age  sibsp  parch    ticket     fare cabin embarked  \n",
       "1  female  38.0      1      0  PC 17599  71.2833   C85        C  "
      ]
     },
     "execution_count": 20,
     "metadata": {},
     "output_type": "execute_result"
    }
   ],
   "source": [
    "traincp = traincp.drop('passengerid', axis=1) # drop(컬럼이름, axis=1)  컬럼 단위로 지우기\n",
    "traincp.head(1)"
   ]
  },
  {
   "cell_type": "code",
   "execution_count": 21,
   "id": "503477be-572f-4aae-8aec-800600c41915",
   "metadata": {
    "tags": []
   },
   "outputs": [],
   "source": [
    "del traincp  # 연습끝 메모리 해제"
   ]
  },
  {
   "cell_type": "code",
   "execution_count": 22,
   "id": "4d357487-655e-49c9-8ba2-7e52d802e611",
   "metadata": {
    "tags": []
   },
   "outputs": [],
   "source": [
    "train = train.drop('passengerid', axis=1)"
   ]
  },
  {
   "cell_type": "code",
   "execution_count": 23,
   "id": "00e1ae41-c35f-43b2-a68f-da2b3606d490",
   "metadata": {
    "tags": []
   },
   "outputs": [
    {
     "data": {
      "text/html": [
       "<div>\n",
       "<style scoped>\n",
       "    .dataframe tbody tr th:only-of-type {\n",
       "        vertical-align: middle;\n",
       "    }\n",
       "\n",
       "    .dataframe tbody tr th {\n",
       "        vertical-align: top;\n",
       "    }\n",
       "\n",
       "    .dataframe thead th {\n",
       "        text-align: right;\n",
       "    }\n",
       "</style>\n",
       "<table border=\"1\" class=\"dataframe\">\n",
       "  <thead>\n",
       "    <tr style=\"text-align: right;\">\n",
       "      <th></th>\n",
       "      <th>survived</th>\n",
       "      <th>pclass</th>\n",
       "      <th>name</th>\n",
       "      <th>sex</th>\n",
       "      <th>age</th>\n",
       "      <th>sibsp</th>\n",
       "      <th>parch</th>\n",
       "      <th>ticket</th>\n",
       "      <th>fare</th>\n",
       "      <th>cabin</th>\n",
       "      <th>embarked</th>\n",
       "    </tr>\n",
       "  </thead>\n",
       "  <tbody>\n",
       "    <tr>\n",
       "      <th>0</th>\n",
       "      <td>0</td>\n",
       "      <td>3</td>\n",
       "      <td>Braund, Mr. Owen Harris</td>\n",
       "      <td>male</td>\n",
       "      <td>22.0</td>\n",
       "      <td>1</td>\n",
       "      <td>0</td>\n",
       "      <td>A/5 21171</td>\n",
       "      <td>7.25</td>\n",
       "      <td>NaN</td>\n",
       "      <td>S</td>\n",
       "    </tr>\n",
       "  </tbody>\n",
       "</table>\n",
       "</div>"
      ],
      "text/plain": [
       "   survived  pclass                     name   sex   age  sibsp  parch  \\\n",
       "0         0       3  Braund, Mr. Owen Harris  male  22.0      1      0   \n",
       "\n",
       "      ticket  fare cabin embarked  \n",
       "0  A/5 21171  7.25   NaN        S  "
      ]
     },
     "execution_count": 23,
     "metadata": {},
     "output_type": "execute_result"
    }
   ],
   "source": [
    "train.head(1)"
   ]
  },
  {
   "cell_type": "markdown",
   "id": "9edc71dd-75aa-461d-a2c1-813a61b2ac5c",
   "metadata": {
    "tags": []
   },
   "source": [
    "## survived : target"
   ]
  },
  {
   "cell_type": "code",
   "execution_count": 24,
   "id": "80c598a3-3ece-476d-9ee3-a6c2bba308b4",
   "metadata": {
    "tags": []
   },
   "outputs": [
    {
     "name": "stdout",
     "output_type": "stream",
     "text": [
      "0    549\n",
      "1    342\n",
      "Name: survived, dtype: int64\n"
     ]
    },
    {
     "data": {
      "image/png": "[encoded data removed]",
      "text/plain": [
       "<Figure size 640x480 with 1 Axes>"
      ]
     },
     "metadata": {},
     "output_type": "display_data"
    }
   ],
   "source": [
    "print(train['survived'].value_counts())\n",
    "\n",
    "train['survived'].value_counts().plot(kind='bar')\n",
    "plt.show()"
   ]
  },
  {
   "cell_type": "code",
   "execution_count": 25,
   "id": "44f4eba9-336d-40f6-8720-63e0c8c5e568",
   "metadata": {
    "tags": []
   },
   "outputs": [
    {
     "data": {
      "text/plain": [
       "survived\n",
       "0    549\n",
       "1    342\n",
       "Name: survived, dtype: int64"
      ]
     },
     "execution_count": 25,
     "metadata": {},
     "output_type": "execute_result"
    }
   ],
   "source": [
    "train.groupby('survived')['survived'].count()"
   ]
  },
  {
   "cell_type": "markdown",
   "id": "a3574714-3573-4f54-9212-9589e16ef0ea",
   "metadata": {},
   "source": [
    "## pclass : 주요 feature"
   ]
  },
  {
   "cell_type": "code",
   "execution_count": 26,
   "id": "2348ac70-9951-4520-ba12-bea4e63ad564",
   "metadata": {
    "tags": []
   },
   "outputs": [
    {
     "name": "stdout",
     "output_type": "stream",
     "text": [
      "3    491\n",
      "1    216\n",
      "2    184\n",
      "Name: pclass, dtype: int64\n"
     ]
    },
    {
     "data": {
      "image/png": "[encoded data removed]",
      "text/plain": [
       "<Figure size 640x480 with 1 Axes>"
      ]
     },
     "metadata": {},
     "output_type": "display_data"
    }
   ],
   "source": [
    "print(  train['pclass'].value_counts()  )\n",
    "train['pclass'].value_counts().plot(kind='bar')\n",
    "plt.show()"
   ]
  },
  {
   "cell_type": "code",
   "execution_count": 27,
   "id": "28cd91bc-88d8-4ea8-81d8-4cc68155f812",
   "metadata": {
    "tags": []
   },
   "outputs": [
    {
     "data": {
      "text/plain": [
       "pclass  survived\n",
       "1       0            80\n",
       "        1           136\n",
       "2       0            97\n",
       "        1            87\n",
       "3       0           372\n",
       "        1           119\n",
       "dtype: int64"
      ]
     },
     "execution_count": 27,
     "metadata": {},
     "output_type": "execute_result"
    }
   ],
   "source": [
    "train[['pclass','survived']].value_counts().sort_index() "
   ]
  },
  {
   "cell_type": "code",
   "execution_count": 28,
   "id": "7f1dc237-07c8-4099-a02b-7357488f799c",
   "metadata": {
    "tags": []
   },
   "outputs": [
    {
     "data": {
      "text/plain": [
       "<AxesSubplot: xlabel='pclass,survived'>"
      ]
     },
     "execution_count": 28,
     "metadata": {},
     "output_type": "execute_result"
    },
    {
     "data": {
      "image/png": "[encoded data removed]",
      "text/plain": [
       "<Figure size 640x480 with 1 Axes>"
      ]
     },
     "metadata": {},
     "output_type": "display_data"
    }
   ],
   "source": [
    "train[['pclass','survived']].value_counts().sort_index().plot(kind='bar')"
   ]
  },
  {
   "cell_type": "markdown",
   "id": "0ec075b2-7c55-4208-a086-5cd1a6fa9398",
   "metadata": {},
   "source": [
    "## cabin : drop()예정"
   ]
  },
  {
   "cell_type": "code",
   "execution_count": 29,
   "id": "fca6be19-eb3a-4e8a-a818-118f2e765ab0",
   "metadata": {
    "tags": []
   },
   "outputs": [
    {
     "data": {
      "text/plain": [
       "1              C85\n",
       "3             C123\n",
       "6              E46\n",
       "10              G6\n",
       "11            C103\n",
       "          ...     \n",
       "871            D35\n",
       "872    B51 B53 B55\n",
       "879            C50\n",
       "887            B42\n",
       "889           C148\n",
       "Name: cabin, Length: 204, dtype: object"
      ]
     },
     "execution_count": 29,
     "metadata": {},
     "output_type": "execute_result"
    }
   ],
   "source": [
    "train[ train['cabin'].notna() ] ['cabin']"
   ]
  },
  {
   "cell_type": "code",
   "execution_count": 30,
   "id": "95355531-21a5-4773-a979-9dec218c5ad4",
   "metadata": {
    "tags": []
   },
   "outputs": [
    {
     "data": {
      "text/html": [
       "<div>\n",
       "<style scoped>\n",
       "    .dataframe tbody tr th:only-of-type {\n",
       "        vertical-align: middle;\n",
       "    }\n",
       "\n",
       "    .dataframe tbody tr th {\n",
       "        vertical-align: top;\n",
       "    }\n",
       "\n",
       "    .dataframe thead th {\n",
       "        text-align: right;\n",
       "    }\n",
       "</style>\n",
       "<table border=\"1\" class=\"dataframe\">\n",
       "  <thead>\n",
       "    <tr style=\"text-align: right;\">\n",
       "      <th></th>\n",
       "      <th>cabin</th>\n",
       "      <th>cabin2</th>\n",
       "    </tr>\n",
       "  </thead>\n",
       "  <tbody>\n",
       "    <tr>\n",
       "      <th>0</th>\n",
       "      <td>NaN</td>\n",
       "      <td>NaN</td>\n",
       "    </tr>\n",
       "    <tr>\n",
       "      <th>1</th>\n",
       "      <td>C85</td>\n",
       "      <td>C</td>\n",
       "    </tr>\n",
       "    <tr>\n",
       "      <th>2</th>\n",
       "      <td>NaN</td>\n",
       "      <td>NaN</td>\n",
       "    </tr>\n",
       "  </tbody>\n",
       "</table>\n",
       "</div>"
      ],
      "text/plain": [
       "  cabin cabin2\n",
       "0   NaN    NaN\n",
       "1   C85      C\n",
       "2   NaN    NaN"
      ]
     },
     "execution_count": 30,
     "metadata": {},
     "output_type": "execute_result"
    }
   ],
   "source": [
    "train['cabin2'] = train['cabin'].str[0:1]\n",
    "train[['cabin','cabin2']].head(3)"
   ]
  },
  {
   "cell_type": "code",
   "execution_count": 31,
   "id": "9942ba8e-5947-4fab-a9c3-a2e3d23c733b",
   "metadata": {
    "tags": []
   },
   "outputs": [
    {
     "data": {
      "text/plain": [
       "cabin2  survived\n",
       "A       0            8\n",
       "        1            7\n",
       "B       0           12\n",
       "        1           35\n",
       "C       0           24\n",
       "        1           35\n",
       "D       0            8\n",
       "        1           25\n",
       "E       0            8\n",
       "        1           24\n",
       "F       0            5\n",
       "        1            8\n",
       "G       0            2\n",
       "        1            2\n",
       "T       0            1\n",
       "dtype: int64"
      ]
     },
     "execution_count": 31,
     "metadata": {},
     "output_type": "execute_result"
    }
   ],
   "source": [
    "train[['cabin2','survived']].value_counts().sort_index()"
   ]
  },
  {
   "cell_type": "code",
   "execution_count": 32,
   "id": "05ba0df0-06c2-4de5-9125-c21af2216137",
   "metadata": {
    "tags": []
   },
   "outputs": [
    {
     "data": {
      "text/plain": [
       "cabin2  pclass\n",
       "A       1         15\n",
       "B       1         47\n",
       "C       1         59\n",
       "D       1         29\n",
       "        2          4\n",
       "E       1         25\n",
       "        2          4\n",
       "        3          3\n",
       "F       2          8\n",
       "        3          5\n",
       "G       3          4\n",
       "T       1          1\n",
       "dtype: int64"
      ]
     },
     "execution_count": 32,
     "metadata": {},
     "output_type": "execute_result"
    }
   ],
   "source": [
    "train[['cabin2','pclass']].value_counts().sort_index()"
   ]
  },
  {
   "cell_type": "markdown",
   "id": "b0535e2e-bba9-434a-bff6-c494481e5b4c",
   "metadata": {},
   "source": [
    "## embarked : 최빈도 mode()"
   ]
  },
  {
   "cell_type": "code",
   "execution_count": 33,
   "id": "6fd68965-2dec-4616-b3ba-d2628d29c38f",
   "metadata": {
    "tags": []
   },
   "outputs": [
    {
     "data": {
      "text/plain": [
       "embarked  survived\n",
       "C         0            75\n",
       "          1            93\n",
       "Q         0            47\n",
       "          1            30\n",
       "S         0           427\n",
       "          1           217\n",
       "dtype: int64"
      ]
     },
     "execution_count": 33,
     "metadata": {},
     "output_type": "execute_result"
    }
   ],
   "source": [
    "train[['embarked','survived']].value_counts().sort_index()"
   ]
  },
  {
   "cell_type": "markdown",
   "id": "5391210a-03ce-4771-8570-f2f4db255121",
   "metadata": {},
   "source": [
    "* 결측채우기"
   ]
  },
  {
   "cell_type": "code",
   "execution_count": 34,
   "id": "8e1ad793-d36c-4f43-911b-cfe3a39dc0ae",
   "metadata": {
    "tags": []
   },
   "outputs": [
    {
     "data": {
      "text/plain": [
       "2"
      ]
     },
     "execution_count": 34,
     "metadata": {},
     "output_type": "execute_result"
    }
   ],
   "source": [
    "train['embarked'].isna().sum()"
   ]
  },
  {
   "cell_type": "code",
   "execution_count": 35,
   "id": "8e151645-cdee-4039-9fa8-d1bbf3417eaa",
   "metadata": {
    "tags": []
   },
   "outputs": [
    {
     "data": {
      "text/html": [
       "<div>\n",
       "<style scoped>\n",
       "    .dataframe tbody tr th:only-of-type {\n",
       "        vertical-align: middle;\n",
       "    }\n",
       "\n",
       "    .dataframe tbody tr th {\n",
       "        vertical-align: top;\n",
       "    }\n",
       "\n",
       "    .dataframe thead th {\n",
       "        text-align: right;\n",
       "    }\n",
       "</style>\n",
       "<table border=\"1\" class=\"dataframe\">\n",
       "  <thead>\n",
       "    <tr style=\"text-align: right;\">\n",
       "      <th></th>\n",
       "      <th>age</th>\n",
       "      <th>fare</th>\n",
       "    </tr>\n",
       "  </thead>\n",
       "  <tbody>\n",
       "    <tr>\n",
       "      <th>count</th>\n",
       "      <td>714.000000</td>\n",
       "      <td>891.000000</td>\n",
       "    </tr>\n",
       "    <tr>\n",
       "      <th>mean</th>\n",
       "      <td>29.699118</td>\n",
       "      <td>32.204208</td>\n",
       "    </tr>\n",
       "    <tr>\n",
       "      <th>std</th>\n",
       "      <td>14.526497</td>\n",
       "      <td>49.693429</td>\n",
       "    </tr>\n",
       "    <tr>\n",
       "      <th>min</th>\n",
       "      <td>0.420000</td>\n",
       "      <td>0.000000</td>\n",
       "    </tr>\n",
       "    <tr>\n",
       "      <th>25%</th>\n",
       "      <td>20.125000</td>\n",
       "      <td>7.910400</td>\n",
       "    </tr>\n",
       "    <tr>\n",
       "      <th>50%</th>\n",
       "      <td>28.000000</td>\n",
       "      <td>14.454200</td>\n",
       "    </tr>\n",
       "    <tr>\n",
       "      <th>75%</th>\n",
       "      <td>38.000000</td>\n",
       "      <td>31.000000</td>\n",
       "    </tr>\n",
       "    <tr>\n",
       "      <th>max</th>\n",
       "      <td>80.000000</td>\n",
       "      <td>512.329200</td>\n",
       "    </tr>\n",
       "  </tbody>\n",
       "</table>\n",
       "</div>"
      ],
      "text/plain": [
       "              age        fare\n",
       "count  714.000000  891.000000\n",
       "mean    29.699118   32.204208\n",
       "std     14.526497   49.693429\n",
       "min      0.420000    0.000000\n",
       "25%     20.125000    7.910400\n",
       "50%     28.000000   14.454200\n",
       "75%     38.000000   31.000000\n",
       "max     80.000000  512.329200"
      ]
     },
     "execution_count": 35,
     "metadata": {},
     "output_type": "execute_result"
    }
   ],
   "source": [
    "train[['age','fare']].describe()"
   ]
  },
  {
   "cell_type": "code",
   "execution_count": 36,
   "id": "4f152f04-ed80-43c2-a2f2-dad700353fa1",
   "metadata": {
    "tags": []
   },
   "outputs": [
    {
     "data": {
      "text/html": [
       "<div>\n",
       "<style scoped>\n",
       "    .dataframe tbody tr th:only-of-type {\n",
       "        vertical-align: middle;\n",
       "    }\n",
       "\n",
       "    .dataframe tbody tr th {\n",
       "        vertical-align: top;\n",
       "    }\n",
       "\n",
       "    .dataframe thead th {\n",
       "        text-align: right;\n",
       "    }\n",
       "</style>\n",
       "<table border=\"1\" class=\"dataframe\">\n",
       "  <thead>\n",
       "    <tr style=\"text-align: right;\">\n",
       "      <th></th>\n",
       "      <th>embarked</th>\n",
       "      <th>sex</th>\n",
       "    </tr>\n",
       "  </thead>\n",
       "  <tbody>\n",
       "    <tr>\n",
       "      <th>count</th>\n",
       "      <td>889</td>\n",
       "      <td>891</td>\n",
       "    </tr>\n",
       "    <tr>\n",
       "      <th>unique</th>\n",
       "      <td>3</td>\n",
       "      <td>2</td>\n",
       "    </tr>\n",
       "    <tr>\n",
       "      <th>top</th>\n",
       "      <td>S</td>\n",
       "      <td>male</td>\n",
       "    </tr>\n",
       "    <tr>\n",
       "      <th>freq</th>\n",
       "      <td>644</td>\n",
       "      <td>577</td>\n",
       "    </tr>\n",
       "  </tbody>\n",
       "</table>\n",
       "</div>"
      ],
      "text/plain": [
       "       embarked   sex\n",
       "count       889   891\n",
       "unique        3     2\n",
       "top           S  male\n",
       "freq        644   577"
      ]
     },
     "execution_count": 36,
     "metadata": {},
     "output_type": "execute_result"
    }
   ],
   "source": [
    "train[['embarked','sex']].describe()"
   ]
  },
  {
   "cell_type": "code",
   "execution_count": 37,
   "id": "c429792e-e5d1-4e39-907f-5b79b2989d4f",
   "metadata": {
    "tags": []
   },
   "outputs": [
    {
     "name": "stdout",
     "output_type": "stream",
     "text": [
      "S\n"
     ]
    }
   ],
   "source": [
    "print( train['embarked'].mode().values[0] )"
   ]
  },
  {
   "cell_type": "code",
   "execution_count": 38,
   "id": "dc709531-181f-48d8-b938-029c8cd97813",
   "metadata": {
    "tags": []
   },
   "outputs": [
    {
     "name": "stdout",
     "output_type": "stream",
     "text": [
      "S\n"
     ]
    }
   ],
   "source": [
    "mode_val = train['embarked'].mode().values[0]\n",
    "print(mode_val)\n",
    "train['embarked'] =  train['embarked'].fillna(mode_val)"
   ]
  },
  {
   "cell_type": "code",
   "execution_count": 39,
   "id": "b088dc1d-e062-4f5e-8394-fe484cb8bf3b",
   "metadata": {
    "tags": []
   },
   "outputs": [
    {
     "data": {
      "text/plain": [
       "0"
      ]
     },
     "execution_count": 39,
     "metadata": {},
     "output_type": "execute_result"
    }
   ],
   "source": [
    "# 확인용\n",
    "train['embarked'].isna().sum()"
   ]
  },
  {
   "cell_type": "markdown",
   "id": "d1ca2adb-5346-406e-8d21-90543646bf9b",
   "metadata": {},
   "source": [
    "## sex : 주요 feature"
   ]
  },
  {
   "cell_type": "code",
   "execution_count": 40,
   "id": "d77c4d99-162f-486f-9ecb-269ee3dafd0a",
   "metadata": {
    "tags": []
   },
   "outputs": [
    {
     "data": {
      "text/plain": [
       "male      577\n",
       "female    314\n",
       "Name: sex, dtype: int64"
      ]
     },
     "execution_count": 40,
     "metadata": {},
     "output_type": "execute_result"
    }
   ],
   "source": [
    "train['sex'].value_counts()"
   ]
  },
  {
   "cell_type": "code",
   "execution_count": 41,
   "id": "3678af5b-426f-4f4e-b258-fe0031f5e102",
   "metadata": {
    "tags": []
   },
   "outputs": [
    {
     "data": {
      "text/plain": [
       "sex     survived\n",
       "female  0            81\n",
       "        1           233\n",
       "male    0           468\n",
       "        1           109\n",
       "dtype: int64"
      ]
     },
     "execution_count": 41,
     "metadata": {},
     "output_type": "execute_result"
    }
   ],
   "source": [
    "train[['sex','survived']].value_counts().sort_index()"
   ]
  },
  {
   "cell_type": "markdown",
   "id": "92cd1650-a7be-463c-aaf9-65fa7af3a908",
   "metadata": {},
   "source": [
    "## name : 호칭분리"
   ]
  },
  {
   "cell_type": "markdown",
   "id": "a4d5713d-8707-426c-ae1b-06f4c46819d8",
   "metadata": {},
   "source": [
    "* <b>정규표현식</b>\n",
    "* match() search() findall()\n",
    "    * re.search(패턴, 타겟문장)\n",
    "    * p = re.compile(패턴) <b>p.search(타겟문장)  </b>"
   ]
  },
  {
   "cell_type": "code",
   "execution_count": 42,
   "id": "c101a2dc-fd3a-415d-8f52-f9806d8671cc",
   "metadata": {
    "tags": []
   },
   "outputs": [
    {
     "data": {
      "text/plain": [
       "0                              Braund, Mr. Owen Harris\n",
       "1    Cumings, Mrs. John Bradley (Florence Briggs Th...\n",
       "2                               Heikkinen, Miss. Laina\n",
       "3         Futrelle, Mrs. Jacques Heath (Lily May Peel)\n",
       "4                             Allen, Mr. William Henry\n",
       "Name: name, dtype: object"
      ]
     },
     "execution_count": 42,
     "metadata": {},
     "output_type": "execute_result"
    }
   ],
   "source": [
    "train['name'].head()"
   ]
  },
  {
   "cell_type": "markdown",
   "id": "abba59f2-ef53-4d79-a120-caca4d90b85c",
   "metadata": {},
   "source": [
    "### 정규표현식\n",
    "* df['컬럼'].str.extract(정규표현식)"
   ]
  },
  {
   "cell_type": "code",
   "execution_count": 43,
   "id": "95ecb1b5-1059-40ae-8035-6ce58c577359",
   "metadata": {
    "tags": []
   },
   "outputs": [],
   "source": [
    "import re"
   ]
  },
  {
   "cell_type": "markdown",
   "id": "c5edc19b-220e-40ff-a7c8-da6f27e548f5",
   "metadata": {},
   "source": [
    "#### by 예림"
   ]
  },
  {
   "cell_type": "code",
   "execution_count": 44,
   "id": "e157d8fd-33a9-4c1d-89b3-8ec245fed4bd",
   "metadata": {
    "tags": []
   },
   "outputs": [
    {
     "data": {
      "text/plain": [
       "'Mrs'"
      ]
     },
     "execution_count": 44,
     "metadata": {},
     "output_type": "execute_result"
    }
   ],
   "source": [
    "p=re.compile('\\s*\\w+\\s*')\n",
    "p.findall(\"Futrelle, Mrs. Jacques Heath (Lily May Peel)\")[1].strip()"
   ]
  },
  {
   "cell_type": "markdown",
   "id": "ac7323e6-17e8-477a-a941-95e136a06b58",
   "metadata": {},
   "source": [
    "#### by 영기"
   ]
  },
  {
   "cell_type": "code",
   "execution_count": 45,
   "id": "32adc413-caf3-4237-b602-be4527b1976e",
   "metadata": {
    "tags": []
   },
   "outputs": [
    {
     "name": "stdout",
     "output_type": "stream",
     "text": [
      "<re.Match object; span=(10, 15), match='Miss.'>\n",
      "search()한 결과를 string으로 받기 :  Miss.\n"
     ]
    }
   ],
   "source": [
    "A = re.search('[A-Za-z]*[.]','helradad, Miss. adaf')\n",
    "print ( A)\n",
    "print( \"search()한 결과를 string으로 받기 : \" , A.group() )"
   ]
  },
  {
   "cell_type": "markdown",
   "id": "86b8b2f1-59b5-401c-a3ba-434ff6b84762",
   "metadata": {},
   "source": [
    "#### by 형진"
   ]
  },
  {
   "cell_type": "code",
   "execution_count": 46,
   "id": "0c465390-f9b4-420a-99c7-7866d1da0962",
   "metadata": {
    "tags": []
   },
   "outputs": [
    {
     "data": {
      "text/plain": [
       "'Mrs.'"
      ]
     },
     "execution_count": 46,
     "metadata": {},
     "output_type": "execute_result"
    }
   ],
   "source": [
    "p = re.compile('\\s[A-Za-z]+[.]\\s')\n",
    "p.findall(\"Futrelle, Mrs. Jacques Heath (Lily May Peel)\")[0].strip()"
   ]
  },
  {
   "cell_type": "code",
   "execution_count": 47,
   "id": "87bc49f7-c6ab-4cdd-9f1a-7c540bb6f511",
   "metadata": {
    "tags": []
   },
   "outputs": [
    {
     "data": {
      "text/plain": [
       "'Mrs.'"
      ]
     },
     "execution_count": 47,
     "metadata": {},
     "output_type": "execute_result"
    }
   ],
   "source": [
    "p = re.compile('\\s[\\w]+[.]\\s')\n",
    "p.findall(\"Futrelle, Mrs. Jacques Heath (Lily May Peel)\")[0].strip()"
   ]
  },
  {
   "cell_type": "code",
   "execution_count": 48,
   "id": "514fdc21-a585-469d-9633-1a9f6e914a86",
   "metadata": {
    "tags": []
   },
   "outputs": [
    {
     "data": {
      "text/html": [
       "<div>\n",
       "<style scoped>\n",
       "    .dataframe tbody tr th:only-of-type {\n",
       "        vertical-align: middle;\n",
       "    }\n",
       "\n",
       "    .dataframe tbody tr th {\n",
       "        vertical-align: top;\n",
       "    }\n",
       "\n",
       "    .dataframe thead th {\n",
       "        text-align: right;\n",
       "    }\n",
       "</style>\n",
       "<table border=\"1\" class=\"dataframe\">\n",
       "  <thead>\n",
       "    <tr style=\"text-align: right;\">\n",
       "      <th></th>\n",
       "      <th>name</th>\n",
       "      <th>name_title</th>\n",
       "    </tr>\n",
       "  </thead>\n",
       "  <tbody>\n",
       "    <tr>\n",
       "      <th>886</th>\n",
       "      <td>Montvila, Rev. Juozas</td>\n",
       "      <td>Rev.</td>\n",
       "    </tr>\n",
       "    <tr>\n",
       "      <th>887</th>\n",
       "      <td>Graham, Miss. Margaret Edith</td>\n",
       "      <td>Miss.</td>\n",
       "    </tr>\n",
       "    <tr>\n",
       "      <th>888</th>\n",
       "      <td>Johnston, Miss. Catherine Helen \"Carrie\"</td>\n",
       "      <td>Miss.</td>\n",
       "    </tr>\n",
       "    <tr>\n",
       "      <th>889</th>\n",
       "      <td>Behr, Mr. Karl Howell</td>\n",
       "      <td>Mr.</td>\n",
       "    </tr>\n",
       "    <tr>\n",
       "      <th>890</th>\n",
       "      <td>Dooley, Mr. Patrick</td>\n",
       "      <td>Mr.</td>\n",
       "    </tr>\n",
       "  </tbody>\n",
       "</table>\n",
       "</div>"
      ],
      "text/plain": [
       "                                         name name_title\n",
       "886                     Montvila, Rev. Juozas       Rev.\n",
       "887              Graham, Miss. Margaret Edith      Miss.\n",
       "888  Johnston, Miss. Catherine Helen \"Carrie\"      Miss.\n",
       "889                     Behr, Mr. Karl Howell        Mr.\n",
       "890                       Dooley, Mr. Patrick        Mr."
      ]
     },
     "execution_count": 48,
     "metadata": {},
     "output_type": "execute_result"
    }
   ],
   "source": [
    "# train['name'].str.extract('정규표현식패턴')\n",
    "\n",
    "train['name_title'] = train['name'].str.extract('(\\s[\\w]+[.]\\s)')\n",
    "train['name_title'] = train['name_title'].str.strip()\n",
    "train[['name','name_title']].tail()"
   ]
  },
  {
   "cell_type": "code",
   "execution_count": 49,
   "id": "14371065-e954-430b-94a3-0b530704158d",
   "metadata": {
    "tags": []
   },
   "outputs": [
    {
     "data": {
      "text/plain": [
       "0        -Mr.-\n",
       "1       -Mrs.-\n",
       "2      -Miss.-\n",
       "3       -Mrs.-\n",
       "4        -Mr.-\n",
       "        ...   \n",
       "886     -Rev.-\n",
       "887    -Miss.-\n",
       "888    -Miss.-\n",
       "889      -Mr.-\n",
       "890      -Mr.-\n",
       "Name: name_title, Length: 891, dtype: object"
      ]
     },
     "execution_count": 49,
     "metadata": {},
     "output_type": "execute_result"
    }
   ],
   "source": [
    "\"-\"+train['name_title']+\"-\""
   ]
  },
  {
   "cell_type": "markdown",
   "id": "e7df734f-3c01-443a-96b0-d0d2baea3c64",
   "metadata": {},
   "source": [
    "* name_title의 평균 나이"
   ]
  },
  {
   "cell_type": "code",
   "execution_count": 50,
   "id": "17b24fa7-a624-4148-8a77-4d7e3f96005a",
   "metadata": {
    "tags": []
   },
   "outputs": [
    {
     "data": {
      "text/plain": [
       "Mr.          517\n",
       "Miss.        182\n",
       "Mrs.         125\n",
       "Master.       40\n",
       "Dr.            7\n",
       "Rev.           6\n",
       "Mlle.          2\n",
       "Major.         2\n",
       "Col.           2\n",
       "Countess.      1\n",
       "Capt.          1\n",
       "Ms.            1\n",
       "Sir.           1\n",
       "Lady.          1\n",
       "Mme.           1\n",
       "Don.           1\n",
       "Jonkheer.      1\n",
       "Name: name_title, dtype: int64"
      ]
     },
     "execution_count": 50,
     "metadata": {},
     "output_type": "execute_result"
    }
   ],
   "source": [
    "# train.groupby('name_title')['name_title'].count().sort_values(ascending=False)\n",
    "train['name_title'].value_counts()"
   ]
  },
  {
   "cell_type": "markdown",
   "id": "3534bc8d-5709-470e-afb6-6c63a7413d68",
   "metadata": {},
   "source": [
    "<pre>\n",
    "Rev.   목사 --> Mr.\n",
    "Don. 상대 남성의 존칭 --> Mr.\n",
    "Jonkheer.  無작위귀족(Jonkheer)  --> Mr.\n",
    "Major. 미군계급  --> Mr.\n",
    "Col.   미군장교  --> Mr.\n",
    "Capt.  선생님,공군 --> Mr.\n",
    "Sir.      귀족남석 --> Mr.\n",
    "\n",
    "Countess. 백작부인  --> Mrs.\n",
    "Mme.  Madame  --> Mrs.\n",
    "\n",
    "Mlle.  나이어린여아  --> Miss.\n",
    "Ms.   결혼여부     --> Miss.\n",
    "Lady. 나이어린여성 --> Miss."
   ]
  },
  {
   "cell_type": "markdown",
   "id": "ce7a0f67-5e16-4b6c-8426-1b850ae504a1",
   "metadata": {},
   "source": [
    "### 피쳐 값 변경\n",
    "1) df.replace('A','B', inplace=True)  \n",
    "2) df.map({'A':'B'})\n",
    "3) df.apply(lambda\n",
    "4) df.loc(줄,칸) = 변경값"
   ]
  },
  {
   "cell_type": "markdown",
   "id": "7edccc95-65ac-4c7d-b380-d69e2e31a280",
   "metadata": {
    "tags": []
   },
   "source": [
    "#### replace()"
   ]
  },
  {
   "cell_type": "code",
   "execution_count": 51,
   "id": "6a930f7b-acda-4537-bc1a-d972ec1ece23",
   "metadata": {
    "tags": []
   },
   "outputs": [
    {
     "data": {
      "text/html": [
       "<div>\n",
       "<style scoped>\n",
       "    .dataframe tbody tr th:only-of-type {\n",
       "        vertical-align: middle;\n",
       "    }\n",
       "\n",
       "    .dataframe tbody tr th {\n",
       "        vertical-align: top;\n",
       "    }\n",
       "\n",
       "    .dataframe thead th {\n",
       "        text-align: right;\n",
       "    }\n",
       "</style>\n",
       "<table border=\"1\" class=\"dataframe\">\n",
       "  <thead>\n",
       "    <tr style=\"text-align: right;\">\n",
       "      <th></th>\n",
       "      <th>survived</th>\n",
       "      <th>pclass</th>\n",
       "      <th>name</th>\n",
       "      <th>sex</th>\n",
       "      <th>age</th>\n",
       "      <th>sibsp</th>\n",
       "      <th>parch</th>\n",
       "      <th>ticket</th>\n",
       "      <th>fare</th>\n",
       "      <th>cabin</th>\n",
       "      <th>embarked</th>\n",
       "      <th>cabin2</th>\n",
       "      <th>name_title</th>\n",
       "    </tr>\n",
       "  </thead>\n",
       "  <tbody>\n",
       "    <tr>\n",
       "      <th>0</th>\n",
       "      <td>0</td>\n",
       "      <td>33</td>\n",
       "      <td>Braund, Mr. Owen Harris</td>\n",
       "      <td>male</td>\n",
       "      <td>22.0</td>\n",
       "      <td>1</td>\n",
       "      <td>0</td>\n",
       "      <td>A/5 21171</td>\n",
       "      <td>7.2500</td>\n",
       "      <td>NaN</td>\n",
       "      <td>S</td>\n",
       "      <td>NaN</td>\n",
       "      <td>Mr.</td>\n",
       "    </tr>\n",
       "    <tr>\n",
       "      <th>1</th>\n",
       "      <td>1</td>\n",
       "      <td>11</td>\n",
       "      <td>Cumings, Mrs. John Bradley (Florence Briggs Th...</td>\n",
       "      <td>female</td>\n",
       "      <td>38.0</td>\n",
       "      <td>1</td>\n",
       "      <td>0</td>\n",
       "      <td>PC 17599</td>\n",
       "      <td>71.2833</td>\n",
       "      <td>C85</td>\n",
       "      <td>C</td>\n",
       "      <td>C</td>\n",
       "      <td>Mrs.</td>\n",
       "    </tr>\n",
       "    <tr>\n",
       "      <th>2</th>\n",
       "      <td>1</td>\n",
       "      <td>33</td>\n",
       "      <td>Heikkinen, Miss. Laina</td>\n",
       "      <td>female</td>\n",
       "      <td>26.0</td>\n",
       "      <td>0</td>\n",
       "      <td>0</td>\n",
       "      <td>STON/O2. 3101282</td>\n",
       "      <td>7.9250</td>\n",
       "      <td>NaN</td>\n",
       "      <td>S</td>\n",
       "      <td>NaN</td>\n",
       "      <td>Miss.</td>\n",
       "    </tr>\n",
       "  </tbody>\n",
       "</table>\n",
       "</div>"
      ],
      "text/plain": [
       "   survived  pclass                                               name  \\\n",
       "0         0      33                            Braund, Mr. Owen Harris   \n",
       "1         1      11  Cumings, Mrs. John Bradley (Florence Briggs Th...   \n",
       "2         1      33                             Heikkinen, Miss. Laina   \n",
       "\n",
       "      sex   age  sibsp  parch            ticket     fare cabin embarked  \\\n",
       "0    male  22.0      1      0         A/5 21171   7.2500   NaN        S   \n",
       "1  female  38.0      1      0          PC 17599  71.2833   C85        C   \n",
       "2  female  26.0      0      0  STON/O2. 3101282   7.9250   NaN        S   \n",
       "\n",
       "  cabin2 name_title  \n",
       "0    NaN        Mr.  \n",
       "1      C       Mrs.  \n",
       "2    NaN      Miss.  "
      ]
     },
     "execution_count": 51,
     "metadata": {},
     "output_type": "execute_result"
    }
   ],
   "source": [
    "traincp = train.copy()\n",
    "traincp['pclass'] = traincp['pclass'].replace(3, 33)\n",
    "# traincp['pclass'].replace(3, 33, inplace=True)\n",
    "\n",
    "traincp['pclass'] = traincp['pclass'].replace([1,2,3], [11,22,33])\n",
    "traincp.head(3)"
   ]
  },
  {
   "cell_type": "markdown",
   "id": "57ac676e-2402-4575-a4d5-cbf906b6c402",
   "metadata": {},
   "source": [
    "#### map()"
   ]
  },
  {
   "cell_type": "code",
   "execution_count": 52,
   "id": "2ed915b3-cf44-4a54-be30-f871df075f5a",
   "metadata": {
    "tags": []
   },
   "outputs": [
    {
     "data": {
      "text/html": [
       "<div>\n",
       "<style scoped>\n",
       "    .dataframe tbody tr th:only-of-type {\n",
       "        vertical-align: middle;\n",
       "    }\n",
       "\n",
       "    .dataframe tbody tr th {\n",
       "        vertical-align: top;\n",
       "    }\n",
       "\n",
       "    .dataframe thead th {\n",
       "        text-align: right;\n",
       "    }\n",
       "</style>\n",
       "<table border=\"1\" class=\"dataframe\">\n",
       "  <thead>\n",
       "    <tr style=\"text-align: right;\">\n",
       "      <th></th>\n",
       "      <th>sex</th>\n",
       "      <th>sex2</th>\n",
       "    </tr>\n",
       "  </thead>\n",
       "  <tbody>\n",
       "    <tr>\n",
       "      <th>791</th>\n",
       "      <td>male</td>\n",
       "      <td>1</td>\n",
       "    </tr>\n",
       "    <tr>\n",
       "      <th>792</th>\n",
       "      <td>female</td>\n",
       "      <td>0</td>\n",
       "    </tr>\n",
       "    <tr>\n",
       "      <th>793</th>\n",
       "      <td>male</td>\n",
       "      <td>1</td>\n",
       "    </tr>\n",
       "    <tr>\n",
       "      <th>794</th>\n",
       "      <td>male</td>\n",
       "      <td>1</td>\n",
       "    </tr>\n",
       "    <tr>\n",
       "      <th>795</th>\n",
       "      <td>male</td>\n",
       "      <td>1</td>\n",
       "    </tr>\n",
       "    <tr>\n",
       "      <th>...</th>\n",
       "      <td>...</td>\n",
       "      <td>...</td>\n",
       "    </tr>\n",
       "    <tr>\n",
       "      <th>886</th>\n",
       "      <td>male</td>\n",
       "      <td>1</td>\n",
       "    </tr>\n",
       "    <tr>\n",
       "      <th>887</th>\n",
       "      <td>female</td>\n",
       "      <td>0</td>\n",
       "    </tr>\n",
       "    <tr>\n",
       "      <th>888</th>\n",
       "      <td>female</td>\n",
       "      <td>0</td>\n",
       "    </tr>\n",
       "    <tr>\n",
       "      <th>889</th>\n",
       "      <td>male</td>\n",
       "      <td>1</td>\n",
       "    </tr>\n",
       "    <tr>\n",
       "      <th>890</th>\n",
       "      <td>male</td>\n",
       "      <td>1</td>\n",
       "    </tr>\n",
       "  </tbody>\n",
       "</table>\n",
       "<p>100 rows × 2 columns</p>\n",
       "</div>"
      ],
      "text/plain": [
       "        sex  sex2\n",
       "791    male     1\n",
       "792  female     0\n",
       "793    male     1\n",
       "794    male     1\n",
       "795    male     1\n",
       "..      ...   ...\n",
       "886    male     1\n",
       "887  female     0\n",
       "888  female     0\n",
       "889    male     1\n",
       "890    male     1\n",
       "\n",
       "[100 rows x 2 columns]"
      ]
     },
     "execution_count": 52,
     "metadata": {},
     "output_type": "execute_result"
    }
   ],
   "source": [
    "dic = {\"male\":1, \"female\":0}\n",
    "traincp['sex2'] = traincp['sex'].map(dic)\n",
    "traincp[['sex','sex2']].tail(100)"
   ]
  },
  {
   "cell_type": "markdown",
   "id": "8449b060-a530-4610-9bd0-d7166a834df3",
   "metadata": {},
   "source": [
    "#### apply(lambda)"
   ]
  },
  {
   "cell_type": "code",
   "execution_count": 53,
   "id": "58b90704-3eab-4dc6-841c-b756c60ea27c",
   "metadata": {
    "tags": []
   },
   "outputs": [
    {
     "data": {
      "text/html": [
       "<div>\n",
       "<style scoped>\n",
       "    .dataframe tbody tr th:only-of-type {\n",
       "        vertical-align: middle;\n",
       "    }\n",
       "\n",
       "    .dataframe tbody tr th {\n",
       "        vertical-align: top;\n",
       "    }\n",
       "\n",
       "    .dataframe thead th {\n",
       "        text-align: right;\n",
       "    }\n",
       "</style>\n",
       "<table border=\"1\" class=\"dataframe\">\n",
       "  <thead>\n",
       "    <tr style=\"text-align: right;\">\n",
       "      <th></th>\n",
       "      <th>survived</th>\n",
       "      <th>pclass</th>\n",
       "      <th>name</th>\n",
       "      <th>sex</th>\n",
       "      <th>age</th>\n",
       "      <th>sibsp</th>\n",
       "      <th>parch</th>\n",
       "      <th>ticket</th>\n",
       "      <th>fare</th>\n",
       "      <th>cabin</th>\n",
       "      <th>embarked</th>\n",
       "      <th>cabin2</th>\n",
       "      <th>name_title</th>\n",
       "      <th>sex2</th>\n",
       "    </tr>\n",
       "  </thead>\n",
       "  <tbody>\n",
       "    <tr>\n",
       "      <th>0</th>\n",
       "      <td>0</td>\n",
       "      <td>33</td>\n",
       "      <td>Braund, Mr. Owen Harris</td>\n",
       "      <td>female</td>\n",
       "      <td>22.0</td>\n",
       "      <td>1</td>\n",
       "      <td>0</td>\n",
       "      <td>A/5 21171</td>\n",
       "      <td>7.2500</td>\n",
       "      <td>NaN</td>\n",
       "      <td>S</td>\n",
       "      <td>NaN</td>\n",
       "      <td>Mr.</td>\n",
       "      <td>1</td>\n",
       "    </tr>\n",
       "    <tr>\n",
       "      <th>1</th>\n",
       "      <td>1</td>\n",
       "      <td>11</td>\n",
       "      <td>Cumings, Mrs. John Bradley (Florence Briggs Th...</td>\n",
       "      <td>female</td>\n",
       "      <td>38.0</td>\n",
       "      <td>1</td>\n",
       "      <td>0</td>\n",
       "      <td>PC 17599</td>\n",
       "      <td>71.2833</td>\n",
       "      <td>C85</td>\n",
       "      <td>C</td>\n",
       "      <td>C</td>\n",
       "      <td>Mrs.</td>\n",
       "      <td>0</td>\n",
       "    </tr>\n",
       "    <tr>\n",
       "      <th>2</th>\n",
       "      <td>1</td>\n",
       "      <td>33</td>\n",
       "      <td>Heikkinen, Miss. Laina</td>\n",
       "      <td>female</td>\n",
       "      <td>26.0</td>\n",
       "      <td>0</td>\n",
       "      <td>0</td>\n",
       "      <td>STON/O2. 3101282</td>\n",
       "      <td>7.9250</td>\n",
       "      <td>NaN</td>\n",
       "      <td>S</td>\n",
       "      <td>NaN</td>\n",
       "      <td>Miss.</td>\n",
       "      <td>0</td>\n",
       "    </tr>\n",
       "  </tbody>\n",
       "</table>\n",
       "</div>"
      ],
      "text/plain": [
       "   survived  pclass                                               name  \\\n",
       "0         0      33                            Braund, Mr. Owen Harris   \n",
       "1         1      11  Cumings, Mrs. John Bradley (Florence Briggs Th...   \n",
       "2         1      33                             Heikkinen, Miss. Laina   \n",
       "\n",
       "      sex   age  sibsp  parch            ticket     fare cabin embarked  \\\n",
       "0  female  22.0      1      0         A/5 21171   7.2500   NaN        S   \n",
       "1  female  38.0      1      0          PC 17599  71.2833   C85        C   \n",
       "2  female  26.0      0      0  STON/O2. 3101282   7.9250   NaN        S   \n",
       "\n",
       "  cabin2 name_title  sex2  \n",
       "0    NaN        Mr.     1  \n",
       "1      C       Mrs.     0  \n",
       "2    NaN      Miss.     0  "
      ]
     },
     "execution_count": 53,
     "metadata": {},
     "output_type": "execute_result"
    }
   ],
   "source": [
    "traincp['sex'] = traincp['sex'].apply(lambda x : 'male' if x == 1 else 'female')\n",
    "traincp.head(3)"
   ]
  },
  {
   "cell_type": "markdown",
   "id": "2f7e552f-0399-4d73-bd4f-98c619be072d",
   "metadata": {},
   "source": [
    "#### 연습용"
   ]
  },
  {
   "cell_type": "code",
   "execution_count": 54,
   "id": "312dbf83-2a8e-47a1-aa94-84a8fc22bdee",
   "metadata": {
    "tags": []
   },
   "outputs": [
    {
     "data": {
      "text/html": [
       "<div>\n",
       "<style scoped>\n",
       "    .dataframe tbody tr th:only-of-type {\n",
       "        vertical-align: middle;\n",
       "    }\n",
       "\n",
       "    .dataframe tbody tr th {\n",
       "        vertical-align: top;\n",
       "    }\n",
       "\n",
       "    .dataframe thead th {\n",
       "        text-align: right;\n",
       "    }\n",
       "</style>\n",
       "<table border=\"1\" class=\"dataframe\">\n",
       "  <thead>\n",
       "    <tr style=\"text-align: right;\">\n",
       "      <th></th>\n",
       "      <th>name_title</th>\n",
       "      <th>name_title2</th>\n",
       "    </tr>\n",
       "  </thead>\n",
       "  <tbody>\n",
       "    <tr>\n",
       "      <th>449</th>\n",
       "      <td>Major.</td>\n",
       "      <td>Mr.</td>\n",
       "    </tr>\n",
       "    <tr>\n",
       "      <th>536</th>\n",
       "      <td>Major.</td>\n",
       "      <td>Mr.</td>\n",
       "    </tr>\n",
       "  </tbody>\n",
       "</table>\n",
       "</div>"
      ],
      "text/plain": [
       "    name_title name_title2\n",
       "449     Major.         Mr.\n",
       "536     Major.         Mr."
      ]
     },
     "execution_count": 54,
     "metadata": {},
     "output_type": "execute_result"
    }
   ],
   "source": [
    "dic = {  'Mr.':'Mr.',\n",
    "         'Rev.':'Mr.',\n",
    "         'Don.':'Mr.',\n",
    "         'Jonkheer.':'Mr.',\n",
    "         'Major.':'Mr.',\n",
    "         'Col.':'Mr.',\n",
    "         'Capt.':'Mr.',\n",
    "         'Sir.':'Mr.'\n",
    "        }\n",
    "traincp['name_title2'] = traincp['name_title'].map(dic)\n",
    "traincp[['name_title','name_title2']][ traincp['name_title']=='Major.'].head()"
   ]
  },
  {
   "cell_type": "code",
   "execution_count": 55,
   "id": "f1feec8a-0a08-4964-84f1-5109544f327a",
   "metadata": {
    "tags": []
   },
   "outputs": [
    {
     "data": {
      "text/html": [
       "<div>\n",
       "<style scoped>\n",
       "    .dataframe tbody tr th:only-of-type {\n",
       "        vertical-align: middle;\n",
       "    }\n",
       "\n",
       "    .dataframe tbody tr th {\n",
       "        vertical-align: top;\n",
       "    }\n",
       "\n",
       "    .dataframe thead th {\n",
       "        text-align: right;\n",
       "    }\n",
       "</style>\n",
       "<table border=\"1\" class=\"dataframe\">\n",
       "  <thead>\n",
       "    <tr style=\"text-align: right;\">\n",
       "      <th></th>\n",
       "      <th>name_title</th>\n",
       "      <th>name_title2</th>\n",
       "    </tr>\n",
       "  </thead>\n",
       "  <tbody>\n",
       "    <tr>\n",
       "      <th>369</th>\n",
       "      <td>Mme.</td>\n",
       "      <td>Mrs.</td>\n",
       "    </tr>\n",
       "  </tbody>\n",
       "</table>\n",
       "</div>"
      ],
      "text/plain": [
       "    name_title name_title2\n",
       "369       Mme.        Mrs."
      ]
     },
     "execution_count": 55,
     "metadata": {},
     "output_type": "execute_result"
    }
   ],
   "source": [
    "traincp['name_title2']  = traincp['name_title'].replace(['Countess.','Mme.'],['Mrs.', 'Mrs.'])\n",
    "traincp[['name_title','name_title2']][ traincp['name_title']=='Mme.'].head()"
   ]
  },
  {
   "cell_type": "code",
   "execution_count": 56,
   "id": "0aa0d251-92dd-47b2-a6d9-97d07d2d85d7",
   "metadata": {
    "tags": []
   },
   "outputs": [
    {
     "data": {
      "text/html": [
       "<div>\n",
       "<style scoped>\n",
       "    .dataframe tbody tr th:only-of-type {\n",
       "        vertical-align: middle;\n",
       "    }\n",
       "\n",
       "    .dataframe tbody tr th {\n",
       "        vertical-align: top;\n",
       "    }\n",
       "\n",
       "    .dataframe thead th {\n",
       "        text-align: right;\n",
       "    }\n",
       "</style>\n",
       "<table border=\"1\" class=\"dataframe\">\n",
       "  <thead>\n",
       "    <tr style=\"text-align: right;\">\n",
       "      <th></th>\n",
       "      <th>name_title</th>\n",
       "      <th>name_title2</th>\n",
       "    </tr>\n",
       "  </thead>\n",
       "  <tbody>\n",
       "    <tr>\n",
       "      <th>443</th>\n",
       "      <td>Ms.</td>\n",
       "      <td>Miss.</td>\n",
       "    </tr>\n",
       "  </tbody>\n",
       "</table>\n",
       "</div>"
      ],
      "text/plain": [
       "    name_title name_title2\n",
       "443        Ms.       Miss."
      ]
     },
     "execution_count": 56,
     "metadata": {},
     "output_type": "execute_result"
    }
   ],
   "source": [
    "traincp['name_title2']  = traincp['name_title'].apply(lambda x : 'Miss.' if x in ('Mlle.', 'Ms.', 'Lady.') else x )\n",
    "traincp[['name_title','name_title2']][ traincp['name_title']=='Ms.'].head()"
   ]
  },
  {
   "cell_type": "code",
   "execution_count": 57,
   "id": "ce121829-d11f-47ad-8178-5ce4d62d9100",
   "metadata": {
    "tags": []
   },
   "outputs": [],
   "source": [
    "del traincp"
   ]
  },
  {
   "cell_type": "markdown",
   "id": "c95a2303-004c-4ef0-bf96-bca0a2b7755e",
   "metadata": {},
   "source": [
    "#### 원본에 적용\n",
    "*<font size=4 color=red><b> train.groupby(\"name_title2\")['age'].transform(\"mean\")"
   ]
  },
  {
   "cell_type": "code",
   "execution_count": 58,
   "id": "94fff386-4155-4edc-b03f-edd7960ff06b",
   "metadata": {
    "tags": []
   },
   "outputs": [
    {
     "data": {
      "text/html": [
       "<div>\n",
       "<style scoped>\n",
       "    .dataframe tbody tr th:only-of-type {\n",
       "        vertical-align: middle;\n",
       "    }\n",
       "\n",
       "    .dataframe tbody tr th {\n",
       "        vertical-align: top;\n",
       "    }\n",
       "\n",
       "    .dataframe thead th {\n",
       "        text-align: right;\n",
       "    }\n",
       "</style>\n",
       "<table border=\"1\" class=\"dataframe\">\n",
       "  <thead>\n",
       "    <tr style=\"text-align: right;\">\n",
       "      <th></th>\n",
       "      <th>name_title</th>\n",
       "      <th>name_title2</th>\n",
       "    </tr>\n",
       "  </thead>\n",
       "  <tbody>\n",
       "    <tr>\n",
       "      <th>0</th>\n",
       "      <td>Mr.</td>\n",
       "      <td>Mr.</td>\n",
       "    </tr>\n",
       "    <tr>\n",
       "      <th>1</th>\n",
       "      <td>Mrs.</td>\n",
       "      <td>Mrs.</td>\n",
       "    </tr>\n",
       "    <tr>\n",
       "      <th>2</th>\n",
       "      <td>Miss.</td>\n",
       "      <td>Miss.</td>\n",
       "    </tr>\n",
       "    <tr>\n",
       "      <th>3</th>\n",
       "      <td>Mrs.</td>\n",
       "      <td>Mrs.</td>\n",
       "    </tr>\n",
       "    <tr>\n",
       "      <th>4</th>\n",
       "      <td>Mr.</td>\n",
       "      <td>Mr.</td>\n",
       "    </tr>\n",
       "  </tbody>\n",
       "</table>\n",
       "</div>"
      ],
      "text/plain": [
       "  name_title name_title2\n",
       "0        Mr.         Mr.\n",
       "1       Mrs.        Mrs.\n",
       "2      Miss.       Miss.\n",
       "3       Mrs.        Mrs.\n",
       "4        Mr.         Mr."
      ]
     },
     "execution_count": 58,
     "metadata": {},
     "output_type": "execute_result"
    }
   ],
   "source": [
    "dic = {  'Mr.':'Mr.',\n",
    "         'Rev.':'Mr.',\n",
    "         'Don.':'Mr.',\n",
    "         'Jonkheer.':'Mr.',\n",
    "         'Major.':'Mr.',\n",
    "         'Col.':'Mr.',\n",
    "         'Capt.':'Mr.',\n",
    "         'Sir.':'Mr.',  #------------------------\n",
    "        'Mrs.':'Mrs.',\n",
    "        'Countess.':'Mrs.',\n",
    "        'Mme.':'Mrs.', #------------------------\n",
    "        'Miss.':'Miss.',\n",
    "        'Mlle.':'Miss.',\n",
    "        'Ms.':'Miss.',\n",
    "        'Lady.':'Miss.',\n",
    "        'Master.':'Master.',  #------------------------\n",
    "        'Dr.':'Dr.'\n",
    "        }\n",
    "train['name_title2'] = train['name_title'].map(dic)\n",
    "# train[['name_title','name_title2']][ train['name_title']=='Major.'].head()\n",
    "train[['name_title','name_title2']].head()"
   ]
  },
  {
   "cell_type": "code",
   "execution_count": 59,
   "id": "5dafd99b-c19b-4791-bb5b-6b1571b736ef",
   "metadata": {
    "tags": []
   },
   "outputs": [
    {
     "data": {
      "text/plain": [
       "0"
      ]
     },
     "execution_count": 59,
     "metadata": {},
     "output_type": "execute_result"
    }
   ],
   "source": [
    "train['name_title2'].isna().sum()"
   ]
  },
  {
   "cell_type": "code",
   "execution_count": 60,
   "id": "d10d8212-85b9-428d-981b-255e35b45829",
   "metadata": {
    "tags": []
   },
   "outputs": [
    {
     "data": {
      "text/plain": [
       "Mr.        531\n",
       "Miss.      186\n",
       "Mrs.       127\n",
       "Master.     40\n",
       "Dr.          7\n",
       "Name: name_title2, dtype: int64"
      ]
     },
     "execution_count": 60,
     "metadata": {},
     "output_type": "execute_result"
    }
   ],
   "source": [
    "train['name_title2'].value_counts()"
   ]
  },
  {
   "cell_type": "code",
   "execution_count": 61,
   "id": "767fa72a-4df5-49e5-849c-592c9d86a89c",
   "metadata": {
    "tags": []
   },
   "outputs": [
    {
     "name": "stdout",
     "output_type": "stream",
     "text": [
      "<class 'pandas.core.frame.DataFrame'>\n",
      "RangeIndex: 891 entries, 0 to 890\n",
      "Data columns (total 14 columns):\n",
      " #   Column       Non-Null Count  Dtype  \n",
      "---  ------       --------------  -----  \n",
      " 0   survived     891 non-null    int64  \n",
      " 1   pclass       891 non-null    int64  \n",
      " 2   name         891 non-null    object \n",
      " 3   sex          891 non-null    object \n",
      " 4   age          714 non-null    float64\n",
      " 5   sibsp        891 non-null    int64  \n",
      " 6   parch        891 non-null    int64  \n",
      " 7   ticket       891 non-null    object \n",
      " 8   fare         891 non-null    float64\n",
      " 9   cabin        204 non-null    object \n",
      " 10  embarked     891 non-null    object \n",
      " 11  cabin2       204 non-null    object \n",
      " 12  name_title   891 non-null    object \n",
      " 13  name_title2  891 non-null    object \n",
      "dtypes: float64(2), int64(4), object(8)\n",
      "memory usage: 97.6+ KB\n"
     ]
    }
   ],
   "source": [
    "train.info()"
   ]
  },
  {
   "cell_type": "markdown",
   "id": "b83bfe61-dcce-47d0-a333-061bba7c2b49",
   "metadata": {},
   "source": [
    "### 호칭별 평균 나이"
   ]
  },
  {
   "cell_type": "code",
   "execution_count": 62,
   "id": "719f2ad4-0472-48ac-b7b8-24e2f33a5bd1",
   "metadata": {
    "tags": []
   },
   "outputs": [
    {
     "data": {
      "text/html": [
       "<div>\n",
       "<style scoped>\n",
       "    .dataframe tbody tr th:only-of-type {\n",
       "        vertical-align: middle;\n",
       "    }\n",
       "\n",
       "    .dataframe tbody tr th {\n",
       "        vertical-align: top;\n",
       "    }\n",
       "\n",
       "    .dataframe thead th {\n",
       "        text-align: right;\n",
       "    }\n",
       "</style>\n",
       "<table border=\"1\" class=\"dataframe\">\n",
       "  <thead>\n",
       "    <tr style=\"text-align: right;\">\n",
       "      <th></th>\n",
       "      <th>survived</th>\n",
       "      <th>pclass</th>\n",
       "      <th>name</th>\n",
       "      <th>sex</th>\n",
       "      <th>age</th>\n",
       "      <th>sibsp</th>\n",
       "      <th>parch</th>\n",
       "      <th>ticket</th>\n",
       "      <th>fare</th>\n",
       "      <th>cabin</th>\n",
       "      <th>embarked</th>\n",
       "      <th>cabin2</th>\n",
       "      <th>name_title</th>\n",
       "    </tr>\n",
       "    <tr>\n",
       "      <th>name_title2</th>\n",
       "      <th></th>\n",
       "      <th></th>\n",
       "      <th></th>\n",
       "      <th></th>\n",
       "      <th></th>\n",
       "      <th></th>\n",
       "      <th></th>\n",
       "      <th></th>\n",
       "      <th></th>\n",
       "      <th></th>\n",
       "      <th></th>\n",
       "      <th></th>\n",
       "      <th></th>\n",
       "    </tr>\n",
       "  </thead>\n",
       "  <tbody>\n",
       "    <tr>\n",
       "      <th>Dr.</th>\n",
       "      <td>0</td>\n",
       "      <td>1</td>\n",
       "      <td>Minahan, Dr. William Edward</td>\n",
       "      <td>male</td>\n",
       "      <td>44.0</td>\n",
       "      <td>2</td>\n",
       "      <td>0</td>\n",
       "      <td>19928</td>\n",
       "      <td>90.0000</td>\n",
       "      <td>C78</td>\n",
       "      <td>Q</td>\n",
       "      <td>C</td>\n",
       "      <td>Dr.</td>\n",
       "    </tr>\n",
       "    <tr>\n",
       "      <th>Master.</th>\n",
       "      <td>0</td>\n",
       "      <td>3</td>\n",
       "      <td>Palsson, Master. Gosta Leonard</td>\n",
       "      <td>male</td>\n",
       "      <td>2.0</td>\n",
       "      <td>3</td>\n",
       "      <td>1</td>\n",
       "      <td>349909</td>\n",
       "      <td>21.0750</td>\n",
       "      <td>F4</td>\n",
       "      <td>S</td>\n",
       "      <td>F</td>\n",
       "      <td>Master.</td>\n",
       "    </tr>\n",
       "    <tr>\n",
       "      <th>Miss.</th>\n",
       "      <td>1</td>\n",
       "      <td>3</td>\n",
       "      <td>Heikkinen, Miss. Laina</td>\n",
       "      <td>female</td>\n",
       "      <td>26.0</td>\n",
       "      <td>0</td>\n",
       "      <td>0</td>\n",
       "      <td>STON/O2. 3101282</td>\n",
       "      <td>7.9250</td>\n",
       "      <td>G6</td>\n",
       "      <td>S</td>\n",
       "      <td>G</td>\n",
       "      <td>Miss.</td>\n",
       "    </tr>\n",
       "    <tr>\n",
       "      <th>Mr.</th>\n",
       "      <td>0</td>\n",
       "      <td>3</td>\n",
       "      <td>Braund, Mr. Owen Harris</td>\n",
       "      <td>male</td>\n",
       "      <td>22.0</td>\n",
       "      <td>1</td>\n",
       "      <td>0</td>\n",
       "      <td>A/5 21171</td>\n",
       "      <td>7.2500</td>\n",
       "      <td>E46</td>\n",
       "      <td>S</td>\n",
       "      <td>E</td>\n",
       "      <td>Mr.</td>\n",
       "    </tr>\n",
       "    <tr>\n",
       "      <th>Mrs.</th>\n",
       "      <td>1</td>\n",
       "      <td>1</td>\n",
       "      <td>Cumings, Mrs. John Bradley (Florence Briggs Th...</td>\n",
       "      <td>female</td>\n",
       "      <td>38.0</td>\n",
       "      <td>1</td>\n",
       "      <td>0</td>\n",
       "      <td>PC 17599</td>\n",
       "      <td>71.2833</td>\n",
       "      <td>C85</td>\n",
       "      <td>C</td>\n",
       "      <td>C</td>\n",
       "      <td>Mrs.</td>\n",
       "    </tr>\n",
       "  </tbody>\n",
       "</table>\n",
       "</div>"
      ],
      "text/plain": [
       "             survived  pclass  \\\n",
       "name_title2                     \n",
       "Dr.                 0       1   \n",
       "Master.             0       3   \n",
       "Miss.               1       3   \n",
       "Mr.                 0       3   \n",
       "Mrs.                1       1   \n",
       "\n",
       "                                                          name     sex   age  \\\n",
       "name_title2                                                                    \n",
       "Dr.                                Minahan, Dr. William Edward    male  44.0   \n",
       "Master.                         Palsson, Master. Gosta Leonard    male   2.0   \n",
       "Miss.                                   Heikkinen, Miss. Laina  female  26.0   \n",
       "Mr.                                    Braund, Mr. Owen Harris    male  22.0   \n",
       "Mrs.         Cumings, Mrs. John Bradley (Florence Briggs Th...  female  38.0   \n",
       "\n",
       "             sibsp  parch            ticket     fare cabin embarked cabin2  \\\n",
       "name_title2                                                                  \n",
       "Dr.              2      0             19928  90.0000   C78        Q      C   \n",
       "Master.          3      1            349909  21.0750    F4        S      F   \n",
       "Miss.            0      0  STON/O2. 3101282   7.9250    G6        S      G   \n",
       "Mr.              1      0         A/5 21171   7.2500   E46        S      E   \n",
       "Mrs.             1      0          PC 17599  71.2833   C85        C      C   \n",
       "\n",
       "            name_title  \n",
       "name_title2             \n",
       "Dr.                Dr.  \n",
       "Master.        Master.  \n",
       "Miss.            Miss.  \n",
       "Mr.                Mr.  \n",
       "Mrs.              Mrs.  "
      ]
     },
     "execution_count": 62,
     "metadata": {},
     "output_type": "execute_result"
    }
   ],
   "source": [
    "train.groupby('name_title2').first()"
   ]
  },
  {
   "cell_type": "markdown",
   "id": "227c57fd-89f1-4e49-8dee-84f3479109af",
   "metadata": {},
   "source": [
    "#### apply() vs transform()\n",
    "* ref : https://steadiness-193.tistory.com/42\n",
    "* <font color=red size=4><b> emp.groupby(\"deptno\")['sal'].transform(np.mean)"
   ]
  },
  {
   "cell_type": "markdown",
   "id": "5c11184b-9d4d-411c-b9d4-782f505ef745",
   "metadata": {},
   "source": [
    "<table style=\"border-collapse: collapse; width: 100%;\" border=\"1\">\n",
    "<tbody>\n",
    "<tr>\n",
    "<td style=\"width: 33.3333%;\">&nbsp;</td>\n",
    "<td style=\"width: 33.3333%; text-align: center;\"><b>apply</b></td>\n",
    "<td style=\"width: 33.3333%; text-align: center;\"><b>transform</b></td>\n",
    "</tr>\n",
    "<tr>\n",
    "<td style=\"width: 33.3333%; text-align: center;\"><br><b>[공통]</b><br><br></td>\n",
    "<td style=\"width: 66.6666%; text-align: center;\" colspan=\"2\">컬럼명을 메서드 밖에서 명시하면 결과는 같게 나온다.</td>\n",
    "</tr>\n",
    "<tr>\n",
    "<td style=\"width: 33.3333%; text-align: center;\"><b>[차이1]</b><br><br><b>컬럼명을 메서드 안에서 명시하면</b></td>\n",
    "<td style=\"width: 33.3333%; text-align: center;\">그룹별 시리즈 리턴</td>\n",
    "<td style=\"width: 33.3333%; text-align: center;\">에러</td>\n",
    "</tr>\n",
    "<tr>\n",
    "<td style=\"width: 33.3333%; text-align: center;\"><b><span style=\"color: #333333;\">[차이2]<br></span></b><br><b><span style=\"color: #333333;\">컬럼명을 메서드 안과 밖에 <br>모두 명시하지 않는다면</span></b></td>\n",
    "<td style=\"width: 33.3333%; text-align: center;\">기존 데이터의 자료형과 함수가<br><br><u>연산 가능해야만 실행</u>된다.</td>\n",
    "<td style=\"width: 33.3333%; text-align: center;\"><u>연산 가능한 컬럼만 알아서</u><br><br><u>필터링</u>되어 결과가 나온다.</td>\n",
    "</tr>\n",
    "<tr>\n",
    "<td style=\"width: 33.3333%; text-align: center;\"><b><span style=\"color: #333333;\"><span style=\"color: #333333;\">[차이3]<br></span><br><span style=\"color: #333333;\">연산 가능한 컬럼만 함수 적용한다면</span></span></b></td>\n",
    "<td style=\"width: 33.3333%; text-align: center;\"><u>\n",
    "    <font color=red><b>그룹별 데이터프레임</u> 출력<br><br> <font color=red><b>(멀티인덱스)</td>\n",
    "<td style=\"width: 33.3333%; text-align: center;\"><u><font color=red><b>기존 인덱스</u> 유지</td>\n",
    "</tr>\n",
    "</tbody>\n",
    "</table>"
   ]
  },
  {
   "cell_type": "code",
   "execution_count": 63,
   "id": "e38d98db-30b0-4c66-89c5-956627de88db",
   "metadata": {
    "tags": []
   },
   "outputs": [
    {
     "data": {
      "text/html": [
       "<div>\n",
       "<style scoped>\n",
       "    .dataframe tbody tr th:only-of-type {\n",
       "        vertical-align: middle;\n",
       "    }\n",
       "\n",
       "    .dataframe tbody tr th {\n",
       "        vertical-align: top;\n",
       "    }\n",
       "\n",
       "    .dataframe thead th {\n",
       "        text-align: right;\n",
       "    }\n",
       "</style>\n",
       "<table border=\"1\" class=\"dataframe\">\n",
       "  <thead>\n",
       "    <tr style=\"text-align: right;\">\n",
       "      <th></th>\n",
       "      <th>empno</th>\n",
       "      <th>ename</th>\n",
       "      <th>job</th>\n",
       "      <th>mgr</th>\n",
       "      <th>hiredate</th>\n",
       "      <th>sal</th>\n",
       "      <th>comm</th>\n",
       "      <th>deptno</th>\n",
       "    </tr>\n",
       "  </thead>\n",
       "  <tbody>\n",
       "    <tr>\n",
       "      <th>0</th>\n",
       "      <td>7369</td>\n",
       "      <td>SMITH</td>\n",
       "      <td>CLERK</td>\n",
       "      <td>7902.0</td>\n",
       "      <td>1980-12-17 00:00:00</td>\n",
       "      <td>800</td>\n",
       "      <td>NaN</td>\n",
       "      <td>20</td>\n",
       "    </tr>\n",
       "    <tr>\n",
       "      <th>1</th>\n",
       "      <td>7499</td>\n",
       "      <td>ALLEN</td>\n",
       "      <td>SALESMAN</td>\n",
       "      <td>7698.0</td>\n",
       "      <td>1981-02-20 00:00:00</td>\n",
       "      <td>1600</td>\n",
       "      <td>300.0</td>\n",
       "      <td>30</td>\n",
       "    </tr>\n",
       "  </tbody>\n",
       "</table>\n",
       "</div>"
      ],
      "text/plain": [
       "   empno  ename       job     mgr             hiredate   sal   comm  deptno\n",
       "0   7369  SMITH     CLERK  7902.0  1980-12-17 00:00:00   800    NaN      20\n",
       "1   7499  ALLEN  SALESMAN  7698.0  1981-02-20 00:00:00  1600  300.0      30"
      ]
     },
     "execution_count": 63,
     "metadata": {},
     "output_type": "execute_result"
    }
   ],
   "source": [
    "emp = pd.read_csv(\"../lec08_emp.csv\")\n",
    "emp.columns = emp.columns.str.lower()\n",
    "emp.head(2)"
   ]
  },
  {
   "cell_type": "code",
   "execution_count": 64,
   "id": "3d4817c7-78a3-4f84-8ef8-9ca428ee3c59",
   "metadata": {
    "tags": []
   },
   "outputs": [
    {
     "data": {
      "text/plain": [
       "deptno\n",
       "10    2916.666667\n",
       "20    2175.000000\n",
       "30    1566.666667\n",
       "Name: sal, dtype: float64"
      ]
     },
     "execution_count": 64,
     "metadata": {},
     "output_type": "execute_result"
    }
   ],
   "source": [
    "emp.groupby(\"deptno\")[\"sal\"].mean()"
   ]
  },
  {
   "cell_type": "code",
   "execution_count": 65,
   "id": "bfaf915e-b786-43f9-87ae-2eec8e7a31ab",
   "metadata": {
    "tags": []
   },
   "outputs": [
    {
     "data": {
      "text/plain": [
       "6     2450\n",
       "8     5000\n",
       "13    1300\n",
       "Name: sal, dtype: int64"
      ]
     },
     "execution_count": 65,
     "metadata": {},
     "output_type": "execute_result"
    }
   ],
   "source": [
    "emp['sal'][emp['deptno']==10]"
   ]
  },
  {
   "cell_type": "code",
   "execution_count": 66,
   "id": "dd0f77bd-09dd-4699-85df-4e11fa69dcd4",
   "metadata": {
    "tags": []
   },
   "outputs": [
    {
     "data": {
      "text/plain": [
       "0      800\n",
       "1     1600\n",
       "2     1250\n",
       "3     2975\n",
       "4     1250\n",
       "5     2850\n",
       "6     2450\n",
       "7     3000\n",
       "8     5000\n",
       "9     1500\n",
       "10    1100\n",
       "11     950\n",
       "12    3000\n",
       "13    1300\n",
       "Name: sal, dtype: int64"
      ]
     },
     "execution_count": 66,
     "metadata": {},
     "output_type": "execute_result"
    }
   ],
   "source": [
    "emp['sal']"
   ]
  },
  {
   "cell_type": "code",
   "execution_count": 67,
   "id": "17b17dfb-3c69-418b-8577-92489df9ea56",
   "metadata": {
    "tags": []
   },
   "outputs": [
    {
     "data": {
      "text/plain": [
       "deptno\n",
       "10    2916.666667\n",
       "20    2175.000000\n",
       "30    1566.666667\n",
       "Name: sal, dtype: float64"
      ]
     },
     "execution_count": 67,
     "metadata": {},
     "output_type": "execute_result"
    }
   ],
   "source": [
    "# emp.groupby(\"deptno\").apply(np.mean)\n",
    "emp.groupby(\"deptno\")['sal'].apply(np.mean)"
   ]
  },
  {
   "cell_type": "code",
   "execution_count": 68,
   "id": "a5ab68ef-d859-49ef-92d1-80ed9dc84244",
   "metadata": {
    "tags": []
   },
   "outputs": [
    {
     "data": {
      "text/html": [
       "<div>\n",
       "<style scoped>\n",
       "    .dataframe tbody tr th:only-of-type {\n",
       "        vertical-align: middle;\n",
       "    }\n",
       "\n",
       "    .dataframe tbody tr th {\n",
       "        vertical-align: top;\n",
       "    }\n",
       "\n",
       "    .dataframe thead th {\n",
       "        text-align: right;\n",
       "    }\n",
       "</style>\n",
       "<table border=\"1\" class=\"dataframe\">\n",
       "  <thead>\n",
       "    <tr style=\"text-align: right;\">\n",
       "      <th></th>\n",
       "      <th>empno</th>\n",
       "      <th>mgr</th>\n",
       "      <th>sal</th>\n",
       "      <th>comm</th>\n",
       "    </tr>\n",
       "  </thead>\n",
       "  <tbody>\n",
       "    <tr>\n",
       "      <th>0</th>\n",
       "      <td>7700.200000</td>\n",
       "      <td>7732.2</td>\n",
       "      <td>2175.000000</td>\n",
       "      <td>NaN</td>\n",
       "    </tr>\n",
       "    <tr>\n",
       "      <th>1</th>\n",
       "      <td>7686.000000</td>\n",
       "      <td>7721.5</td>\n",
       "      <td>1566.666667</td>\n",
       "      <td>550.0</td>\n",
       "    </tr>\n",
       "    <tr>\n",
       "      <th>2</th>\n",
       "      <td>7686.000000</td>\n",
       "      <td>7721.5</td>\n",
       "      <td>1566.666667</td>\n",
       "      <td>550.0</td>\n",
       "    </tr>\n",
       "    <tr>\n",
       "      <th>3</th>\n",
       "      <td>7700.200000</td>\n",
       "      <td>7732.2</td>\n",
       "      <td>2175.000000</td>\n",
       "      <td>NaN</td>\n",
       "    </tr>\n",
       "    <tr>\n",
       "      <th>4</th>\n",
       "      <td>7686.000000</td>\n",
       "      <td>7721.5</td>\n",
       "      <td>1566.666667</td>\n",
       "      <td>550.0</td>\n",
       "    </tr>\n",
       "    <tr>\n",
       "      <th>5</th>\n",
       "      <td>7686.000000</td>\n",
       "      <td>7721.5</td>\n",
       "      <td>1566.666667</td>\n",
       "      <td>550.0</td>\n",
       "    </tr>\n",
       "    <tr>\n",
       "      <th>6</th>\n",
       "      <td>7851.666667</td>\n",
       "      <td>7810.5</td>\n",
       "      <td>2916.666667</td>\n",
       "      <td>NaN</td>\n",
       "    </tr>\n",
       "    <tr>\n",
       "      <th>7</th>\n",
       "      <td>7700.200000</td>\n",
       "      <td>7732.2</td>\n",
       "      <td>2175.000000</td>\n",
       "      <td>NaN</td>\n",
       "    </tr>\n",
       "    <tr>\n",
       "      <th>8</th>\n",
       "      <td>7851.666667</td>\n",
       "      <td>7810.5</td>\n",
       "      <td>2916.666667</td>\n",
       "      <td>NaN</td>\n",
       "    </tr>\n",
       "    <tr>\n",
       "      <th>9</th>\n",
       "      <td>7686.000000</td>\n",
       "      <td>7721.5</td>\n",
       "      <td>1566.666667</td>\n",
       "      <td>550.0</td>\n",
       "    </tr>\n",
       "    <tr>\n",
       "      <th>10</th>\n",
       "      <td>7700.200000</td>\n",
       "      <td>7732.2</td>\n",
       "      <td>2175.000000</td>\n",
       "      <td>NaN</td>\n",
       "    </tr>\n",
       "    <tr>\n",
       "      <th>11</th>\n",
       "      <td>7686.000000</td>\n",
       "      <td>7721.5</td>\n",
       "      <td>1566.666667</td>\n",
       "      <td>550.0</td>\n",
       "    </tr>\n",
       "    <tr>\n",
       "      <th>12</th>\n",
       "      <td>7700.200000</td>\n",
       "      <td>7732.2</td>\n",
       "      <td>2175.000000</td>\n",
       "      <td>NaN</td>\n",
       "    </tr>\n",
       "    <tr>\n",
       "      <th>13</th>\n",
       "      <td>7851.666667</td>\n",
       "      <td>7810.5</td>\n",
       "      <td>2916.666667</td>\n",
       "      <td>NaN</td>\n",
       "    </tr>\n",
       "  </tbody>\n",
       "</table>\n",
       "</div>"
      ],
      "text/plain": [
       "          empno     mgr          sal   comm\n",
       "0   7700.200000  7732.2  2175.000000    NaN\n",
       "1   7686.000000  7721.5  1566.666667  550.0\n",
       "2   7686.000000  7721.5  1566.666667  550.0\n",
       "3   7700.200000  7732.2  2175.000000    NaN\n",
       "4   7686.000000  7721.5  1566.666667  550.0\n",
       "5   7686.000000  7721.5  1566.666667  550.0\n",
       "6   7851.666667  7810.5  2916.666667    NaN\n",
       "7   7700.200000  7732.2  2175.000000    NaN\n",
       "8   7851.666667  7810.5  2916.666667    NaN\n",
       "9   7686.000000  7721.5  1566.666667  550.0\n",
       "10  7700.200000  7732.2  2175.000000    NaN\n",
       "11  7686.000000  7721.5  1566.666667  550.0\n",
       "12  7700.200000  7732.2  2175.000000    NaN\n",
       "13  7851.666667  7810.5  2916.666667    NaN"
      ]
     },
     "execution_count": 68,
     "metadata": {},
     "output_type": "execute_result"
    }
   ],
   "source": [
    "emp.groupby(\"deptno\").transform(\"mean\")\n",
    "# emp.groupby(\"deptno\")['sal'].transform(np.mean)"
   ]
  },
  {
   "cell_type": "markdown",
   "id": "f3b90e4d-1c80-4e0e-a389-b72c4980704f",
   "metadata": {
    "tags": []
   },
   "source": [
    "#### pivot_table()\n",
    "<pre>def pivot_table(\n",
    "        <b>\n",
    "        values=None,\n",
    "        index=None,\n",
    "        columns=None,\n",
    "        aggfunc=\"mean\",\n",
    "        </b>\n",
    "        fill_value=None,\n",
    "        margins=False,\n",
    "        dropna=True,\n",
    "        margins_name=\"All\",\n",
    "        observed=False,\n",
    "        sort=True,\n",
    "    )"
   ]
  },
  {
   "cell_type": "code",
   "execution_count": 69,
   "id": "0bcbff37-8246-4383-8364-69655c835795",
   "metadata": {},
   "outputs": [
    {
     "data": {
      "text/html": [
       "<div>\n",
       "<style scoped>\n",
       "    .dataframe tbody tr th:only-of-type {\n",
       "        vertical-align: middle;\n",
       "    }\n",
       "\n",
       "    .dataframe tbody tr th {\n",
       "        vertical-align: top;\n",
       "    }\n",
       "\n",
       "    .dataframe thead th {\n",
       "        text-align: right;\n",
       "    }\n",
       "</style>\n",
       "<table border=\"1\" class=\"dataframe\">\n",
       "  <thead>\n",
       "    <tr style=\"text-align: right;\">\n",
       "      <th></th>\n",
       "      <th>sal</th>\n",
       "    </tr>\n",
       "    <tr>\n",
       "      <th>deptno</th>\n",
       "      <th></th>\n",
       "    </tr>\n",
       "  </thead>\n",
       "  <tbody>\n",
       "    <tr>\n",
       "      <th>10</th>\n",
       "      <td>2916.666667</td>\n",
       "    </tr>\n",
       "    <tr>\n",
       "      <th>20</th>\n",
       "      <td>2175.000000</td>\n",
       "    </tr>\n",
       "    <tr>\n",
       "      <th>30</th>\n",
       "      <td>1566.666667</td>\n",
       "    </tr>\n",
       "  </tbody>\n",
       "</table>\n",
       "</div>"
      ],
      "text/plain": [
       "                sal\n",
       "deptno             \n",
       "10      2916.666667\n",
       "20      2175.000000\n",
       "30      1566.666667"
      ]
     },
     "execution_count": 69,
     "metadata": {},
     "output_type": "execute_result"
    }
   ],
   "source": [
    "emp.pivot_table(index=\"deptno\", values=\"sal\", aggfunc=\"mean\")"
   ]
  },
  {
   "cell_type": "code",
   "execution_count": 70,
   "id": "247261c2-c3e1-4df5-a9bc-8eb0e597bd00",
   "metadata": {
    "tags": []
   },
   "outputs": [
    {
     "data": {
      "text/plain": [
       "deptno\n",
       "10    2916.666667\n",
       "20    2175.000000\n",
       "30    1566.666667\n",
       "Name: sal, dtype: float64"
      ]
     },
     "execution_count": 70,
     "metadata": {},
     "output_type": "execute_result"
    }
   ],
   "source": [
    "emp.groupby(\"deptno\")[\"sal\"].mean()"
   ]
  },
  {
   "cell_type": "markdown",
   "id": "e50c94a5-f91d-41f1-ab3b-8115a118151b",
   "metadata": {},
   "source": [
    "#### 컬럼명을 메서드 밖에서 명시"
   ]
  },
  {
   "cell_type": "code",
   "execution_count": 71,
   "id": "d7a0a587-b834-49e8-8429-a19cf589c9ed",
   "metadata": {
    "tags": []
   },
   "outputs": [],
   "source": [
    "traincp =  train.copy()"
   ]
  },
  {
   "cell_type": "code",
   "execution_count": 72,
   "id": "1e288c1e-72d1-4a78-8b7a-155f4a24a241",
   "metadata": {
    "tags": []
   },
   "outputs": [
    {
     "data": {
      "text/plain": [
       "22.0"
      ]
     },
     "execution_count": 72,
     "metadata": {},
     "output_type": "execute_result"
    }
   ],
   "source": [
    "traincp.loc[0, 'age']"
   ]
  },
  {
   "cell_type": "code",
   "execution_count": 73,
   "id": "b59df01b-1f60-433b-ad30-b4c0d49a82ee",
   "metadata": {
    "tags": []
   },
   "outputs": [
    {
     "data": {
      "text/plain": [
       "name_title2     \n",
       "Dr.          245    43.0\n",
       "             317    53.0\n",
       "             398    22.0\n",
       "             632    31.0\n",
       "             660    49.0\n",
       "Name: age, dtype: float64"
      ]
     },
     "execution_count": 73,
     "metadata": {},
     "output_type": "execute_result"
    }
   ],
   "source": [
    "def age_minus(x):\n",
    "    return x - 1\n",
    "traincp.groupby('name_title2', group_keys=True)['age'].apply( age_minus).head()"
   ]
  },
  {
   "cell_type": "markdown",
   "id": "9bed9aa9-2d51-4182-b161-686ea4cd4de0",
   "metadata": {},
   "source": [
    "* 결과 이상하다.. apply()와 동일한 결과가 나와야 하는데..."
   ]
  },
  {
   "cell_type": "code",
   "execution_count": 74,
   "id": "c7ac43b2-46f7-4b3d-ab11-a7f44ec09bf5",
   "metadata": {
    "tags": []
   },
   "outputs": [
    {
     "data": {
      "text/plain": [
       "0    21.0\n",
       "1    37.0\n",
       "2    25.0\n",
       "3    34.0\n",
       "4    34.0\n",
       "Name: age, dtype: float64"
      ]
     },
     "execution_count": 74,
     "metadata": {},
     "output_type": "execute_result"
    }
   ],
   "source": [
    "def age_minus(x):\n",
    "    return x - 1\n",
    "traincp.groupby('name_title2', group_keys=True)['age'].transform( age_minus).head()"
   ]
  },
  {
   "cell_type": "markdown",
   "id": "6572f25b-0589-4ba1-af9c-5e2dc09057e7",
   "metadata": {},
   "source": [
    "#### 컬럼명을 메서드 안에서 명시"
   ]
  },
  {
   "cell_type": "code",
   "execution_count": 75,
   "id": "4960166a-5fd2-49ed-b7ae-a93d7464f901",
   "metadata": {
    "tags": []
   },
   "outputs": [
    {
     "data": {
      "text/html": [
       "<div>\n",
       "<style scoped>\n",
       "    .dataframe tbody tr th:only-of-type {\n",
       "        vertical-align: middle;\n",
       "    }\n",
       "\n",
       "    .dataframe tbody tr th {\n",
       "        vertical-align: top;\n",
       "    }\n",
       "\n",
       "    .dataframe thead th {\n",
       "        text-align: right;\n",
       "    }\n",
       "</style>\n",
       "<table border=\"1\" class=\"dataframe\">\n",
       "  <thead>\n",
       "    <tr style=\"text-align: right;\">\n",
       "      <th></th>\n",
       "      <th>survived</th>\n",
       "      <th>pclass</th>\n",
       "      <th>name</th>\n",
       "      <th>sex</th>\n",
       "      <th>age</th>\n",
       "      <th>sibsp</th>\n",
       "      <th>parch</th>\n",
       "      <th>ticket</th>\n",
       "      <th>fare</th>\n",
       "      <th>cabin</th>\n",
       "      <th>embarked</th>\n",
       "      <th>cabin2</th>\n",
       "      <th>name_title</th>\n",
       "    </tr>\n",
       "    <tr>\n",
       "      <th>name_title2</th>\n",
       "      <th></th>\n",
       "      <th></th>\n",
       "      <th></th>\n",
       "      <th></th>\n",
       "      <th></th>\n",
       "      <th></th>\n",
       "      <th></th>\n",
       "      <th></th>\n",
       "      <th></th>\n",
       "      <th></th>\n",
       "      <th></th>\n",
       "      <th></th>\n",
       "      <th></th>\n",
       "    </tr>\n",
       "  </thead>\n",
       "  <tbody>\n",
       "    <tr>\n",
       "      <th>Dr.</th>\n",
       "      <td>0</td>\n",
       "      <td>1</td>\n",
       "      <td>Minahan, Dr. William Edward</td>\n",
       "      <td>male</td>\n",
       "      <td>44.0</td>\n",
       "      <td>2</td>\n",
       "      <td>0</td>\n",
       "      <td>19928</td>\n",
       "      <td>90.0000</td>\n",
       "      <td>C78</td>\n",
       "      <td>Q</td>\n",
       "      <td>C</td>\n",
       "      <td>Dr.</td>\n",
       "    </tr>\n",
       "    <tr>\n",
       "      <th>Master.</th>\n",
       "      <td>0</td>\n",
       "      <td>3</td>\n",
       "      <td>Palsson, Master. Gosta Leonard</td>\n",
       "      <td>male</td>\n",
       "      <td>2.0</td>\n",
       "      <td>3</td>\n",
       "      <td>1</td>\n",
       "      <td>349909</td>\n",
       "      <td>21.0750</td>\n",
       "      <td>F4</td>\n",
       "      <td>S</td>\n",
       "      <td>F</td>\n",
       "      <td>Master.</td>\n",
       "    </tr>\n",
       "    <tr>\n",
       "      <th>Miss.</th>\n",
       "      <td>1</td>\n",
       "      <td>3</td>\n",
       "      <td>Heikkinen, Miss. Laina</td>\n",
       "      <td>female</td>\n",
       "      <td>26.0</td>\n",
       "      <td>0</td>\n",
       "      <td>0</td>\n",
       "      <td>STON/O2. 3101282</td>\n",
       "      <td>7.9250</td>\n",
       "      <td>G6</td>\n",
       "      <td>S</td>\n",
       "      <td>G</td>\n",
       "      <td>Miss.</td>\n",
       "    </tr>\n",
       "    <tr>\n",
       "      <th>Mr.</th>\n",
       "      <td>0</td>\n",
       "      <td>3</td>\n",
       "      <td>Braund, Mr. Owen Harris</td>\n",
       "      <td>male</td>\n",
       "      <td>22.0</td>\n",
       "      <td>1</td>\n",
       "      <td>0</td>\n",
       "      <td>A/5 21171</td>\n",
       "      <td>7.2500</td>\n",
       "      <td>E46</td>\n",
       "      <td>S</td>\n",
       "      <td>E</td>\n",
       "      <td>Mr.</td>\n",
       "    </tr>\n",
       "    <tr>\n",
       "      <th>Mrs.</th>\n",
       "      <td>1</td>\n",
       "      <td>1</td>\n",
       "      <td>Cumings, Mrs. John Bradley (Florence Briggs Th...</td>\n",
       "      <td>female</td>\n",
       "      <td>38.0</td>\n",
       "      <td>1</td>\n",
       "      <td>0</td>\n",
       "      <td>PC 17599</td>\n",
       "      <td>71.2833</td>\n",
       "      <td>C85</td>\n",
       "      <td>C</td>\n",
       "      <td>C</td>\n",
       "      <td>Mrs.</td>\n",
       "    </tr>\n",
       "  </tbody>\n",
       "</table>\n",
       "</div>"
      ],
      "text/plain": [
       "             survived  pclass  \\\n",
       "name_title2                     \n",
       "Dr.                 0       1   \n",
       "Master.             0       3   \n",
       "Miss.               1       3   \n",
       "Mr.                 0       3   \n",
       "Mrs.                1       1   \n",
       "\n",
       "                                                          name     sex   age  \\\n",
       "name_title2                                                                    \n",
       "Dr.                                Minahan, Dr. William Edward    male  44.0   \n",
       "Master.                         Palsson, Master. Gosta Leonard    male   2.0   \n",
       "Miss.                                   Heikkinen, Miss. Laina  female  26.0   \n",
       "Mr.                                    Braund, Mr. Owen Harris    male  22.0   \n",
       "Mrs.         Cumings, Mrs. John Bradley (Florence Briggs Th...  female  38.0   \n",
       "\n",
       "             sibsp  parch            ticket     fare cabin embarked cabin2  \\\n",
       "name_title2                                                                  \n",
       "Dr.              2      0             19928  90.0000   C78        Q      C   \n",
       "Master.          3      1            349909  21.0750    F4        S      F   \n",
       "Miss.            0      0  STON/O2. 3101282   7.9250    G6        S      G   \n",
       "Mr.              1      0         A/5 21171   7.2500   E46        S      E   \n",
       "Mrs.             1      0          PC 17599  71.2833   C85        C      C   \n",
       "\n",
       "            name_title  \n",
       "name_title2             \n",
       "Dr.                Dr.  \n",
       "Master.        Master.  \n",
       "Miss.            Miss.  \n",
       "Mr.                Mr.  \n",
       "Mrs.              Mrs.  "
      ]
     },
     "execution_count": 75,
     "metadata": {},
     "output_type": "execute_result"
    }
   ],
   "source": [
    "traincp.groupby('name_title2').first()"
   ]
  },
  {
   "cell_type": "code",
   "execution_count": 76,
   "id": "c8df3292-1ce9-4550-8677-6115794baf66",
   "metadata": {
    "tags": []
   },
   "outputs": [
    {
     "data": {
      "text/plain": [
       "name_title2     \n",
       "Dr.          245    43.0\n",
       "             317    53.0\n",
       "             398    22.0\n",
       "             632    31.0\n",
       "             660    49.0\n",
       "Name: age, dtype: float64"
      ]
     },
     "execution_count": 76,
     "metadata": {},
     "output_type": "execute_result"
    }
   ],
   "source": [
    "def age_minus(x):\n",
    "    return x - 1\n",
    "\n",
    "# 그룹화 시킨 후 그룹된 나이만 함수에 적용\n",
    "traincp.groupby('name_title2', group_keys=True).apply(lambda gdf : age_minus(gdf['age'])  ).head()"
   ]
  },
  {
   "cell_type": "code",
   "execution_count": 77,
   "id": "a40f7314-42c7-48cd-97e4-76daa5edad16",
   "metadata": {
    "tags": []
   },
   "outputs": [],
   "source": [
    "# ---------------------------------------------------\n",
    "# transform은 에러 난다 \n",
    "# ---------------------------------------------------\n",
    "# def age_minus(x):\n",
    "#     return x - 1\n",
    "# traincp.groupby('name_title2', group_keys=True).transform(lambda gdf : age_minus(gdf['age'])  ).head()"
   ]
  },
  {
   "cell_type": "markdown",
   "id": "27f2c4c1-3525-4ef5-9b8e-09ce0f6914fa",
   "metadata": {},
   "source": [
    "#### 컬럼명을 사용하지 않는 경우 \n",
    "* 컬럼명을 메서드 안과 밖에 모두 명시하지 않는다"
   ]
  },
  {
   "cell_type": "code",
   "execution_count": 78,
   "id": "a404a47f-f061-4382-86bb-58b67792ac17",
   "metadata": {
    "tags": []
   },
   "outputs": [],
   "source": [
    "# ---------------------------------------------------\n",
    "# apply는 에러 난다  : -1연산이 안되는 글자 컬럼들이 있기 때문에\n",
    "# ---------------------------------------------------\n",
    "# def age_minus(x):\n",
    "#     return x - 1\n",
    "# traincp.groupby('name_title2', group_keys=True).apply(age_minus).head()"
   ]
  },
  {
   "cell_type": "code",
   "execution_count": 79,
   "id": "734ffa46-149c-426c-b559-213eaa67254a",
   "metadata": {
    "tags": []
   },
   "outputs": [
    {
     "data": {
      "text/html": [
       "<div>\n",
       "<style scoped>\n",
       "    .dataframe tbody tr th:only-of-type {\n",
       "        vertical-align: middle;\n",
       "    }\n",
       "\n",
       "    .dataframe tbody tr th {\n",
       "        vertical-align: top;\n",
       "    }\n",
       "\n",
       "    .dataframe thead th {\n",
       "        text-align: right;\n",
       "    }\n",
       "</style>\n",
       "<table border=\"1\" class=\"dataframe\">\n",
       "  <thead>\n",
       "    <tr style=\"text-align: right;\">\n",
       "      <th></th>\n",
       "      <th>survived</th>\n",
       "      <th>pclass</th>\n",
       "      <th>age</th>\n",
       "      <th>sibsp</th>\n",
       "      <th>parch</th>\n",
       "      <th>fare</th>\n",
       "    </tr>\n",
       "  </thead>\n",
       "  <tbody>\n",
       "    <tr>\n",
       "      <th>0</th>\n",
       "      <td>-1</td>\n",
       "      <td>2</td>\n",
       "      <td>21.0</td>\n",
       "      <td>0</td>\n",
       "      <td>-1</td>\n",
       "      <td>6.2500</td>\n",
       "    </tr>\n",
       "    <tr>\n",
       "      <th>1</th>\n",
       "      <td>0</td>\n",
       "      <td>0</td>\n",
       "      <td>37.0</td>\n",
       "      <td>0</td>\n",
       "      <td>-1</td>\n",
       "      <td>70.2833</td>\n",
       "    </tr>\n",
       "    <tr>\n",
       "      <th>2</th>\n",
       "      <td>0</td>\n",
       "      <td>2</td>\n",
       "      <td>25.0</td>\n",
       "      <td>-1</td>\n",
       "      <td>-1</td>\n",
       "      <td>6.9250</td>\n",
       "    </tr>\n",
       "    <tr>\n",
       "      <th>3</th>\n",
       "      <td>0</td>\n",
       "      <td>0</td>\n",
       "      <td>34.0</td>\n",
       "      <td>0</td>\n",
       "      <td>-1</td>\n",
       "      <td>52.1000</td>\n",
       "    </tr>\n",
       "    <tr>\n",
       "      <th>4</th>\n",
       "      <td>-1</td>\n",
       "      <td>2</td>\n",
       "      <td>34.0</td>\n",
       "      <td>-1</td>\n",
       "      <td>-1</td>\n",
       "      <td>7.0500</td>\n",
       "    </tr>\n",
       "  </tbody>\n",
       "</table>\n",
       "</div>"
      ],
      "text/plain": [
       "   survived  pclass   age  sibsp  parch     fare\n",
       "0        -1       2  21.0      0     -1   6.2500\n",
       "1         0       0  37.0      0     -1  70.2833\n",
       "2         0       2  25.0     -1     -1   6.9250\n",
       "3         0       0  34.0      0     -1  52.1000\n",
       "4        -1       2  34.0     -1     -1   7.0500"
      ]
     },
     "execution_count": 79,
     "metadata": {},
     "output_type": "execute_result"
    }
   ],
   "source": [
    "# 데이터프레임 전체를 대상으로 함수를 적용하면 : 연산이 되는 컬럼만 골라서 연산한다.\n",
    "# (== 자동 필러링한다)\n",
    "def age_minus(x):\n",
    "    return x - 1\n",
    "traincp.groupby('name_title2', group_keys=True).transform(age_minus).head()"
   ]
  },
  {
   "cell_type": "markdown",
   "id": "9c4177a0-f9da-4dcb-a16d-7b68a8068035",
   "metadata": {},
   "source": [
    "#### 연산 가능한 컬럼만 함수 적용"
   ]
  },
  {
   "cell_type": "code",
   "execution_count": 80,
   "id": "1f011b5b-e1ac-4970-bd60-5fd207b6fcde",
   "metadata": {
    "tags": []
   },
   "outputs": [
    {
     "name": "stdout",
     "output_type": "stream",
     "text": [
      "<class 'pandas.core.frame.DataFrame'>\n"
     ]
    },
    {
     "data": {
      "text/html": [
       "<div>\n",
       "<style scoped>\n",
       "    .dataframe tbody tr th:only-of-type {\n",
       "        vertical-align: middle;\n",
       "    }\n",
       "\n",
       "    .dataframe tbody tr th {\n",
       "        vertical-align: top;\n",
       "    }\n",
       "\n",
       "    .dataframe thead th {\n",
       "        text-align: right;\n",
       "    }\n",
       "</style>\n",
       "<table border=\"1\" class=\"dataframe\">\n",
       "  <thead>\n",
       "    <tr style=\"text-align: right;\">\n",
       "      <th></th>\n",
       "      <th>name_title2</th>\n",
       "      <th>age</th>\n",
       "      <th>fare</th>\n",
       "    </tr>\n",
       "  </thead>\n",
       "  <tbody>\n",
       "    <tr>\n",
       "      <th>0</th>\n",
       "      <td>Dr.</td>\n",
       "      <td>6</td>\n",
       "      <td>7</td>\n",
       "    </tr>\n",
       "    <tr>\n",
       "      <th>1</th>\n",
       "      <td>Master.</td>\n",
       "      <td>36</td>\n",
       "      <td>40</td>\n",
       "    </tr>\n",
       "    <tr>\n",
       "      <th>2</th>\n",
       "      <td>Miss.</td>\n",
       "      <td>150</td>\n",
       "      <td>186</td>\n",
       "    </tr>\n",
       "    <tr>\n",
       "      <th>3</th>\n",
       "      <td>Mr.</td>\n",
       "      <td>412</td>\n",
       "      <td>531</td>\n",
       "    </tr>\n",
       "    <tr>\n",
       "      <th>4</th>\n",
       "      <td>Mrs.</td>\n",
       "      <td>110</td>\n",
       "      <td>127</td>\n",
       "    </tr>\n",
       "  </tbody>\n",
       "</table>\n",
       "</div>"
      ],
      "text/plain": [
       "  name_title2  age  fare\n",
       "0         Dr.    6     7\n",
       "1     Master.   36    40\n",
       "2       Miss.  150   186\n",
       "3         Mr.  412   531\n",
       "4        Mrs.  110   127"
      ]
     },
     "execution_count": 80,
     "metadata": {},
     "output_type": "execute_result"
    }
   ],
   "source": [
    "traincp2 = traincp.groupby('name_title2', as_index=False)[['age','fare']]\n",
    "traincp2 = traincp2.count()  # g.count() :  group화된 프레임 ---> 일반 데이터프레임으로 변경\n",
    "print(type(traincp2))\n",
    "traincp2"
   ]
  },
  {
   "cell_type": "code",
   "execution_count": 81,
   "id": "807945a1-3cfa-43df-a15d-58e8853ac3d0",
   "metadata": {
    "tags": []
   },
   "outputs": [
    {
     "data": {
      "text/html": [
       "<div>\n",
       "<style scoped>\n",
       "    .dataframe tbody tr th:only-of-type {\n",
       "        vertical-align: middle;\n",
       "    }\n",
       "\n",
       "    .dataframe tbody tr th {\n",
       "        vertical-align: top;\n",
       "    }\n",
       "\n",
       "    .dataframe thead th {\n",
       "        text-align: right;\n",
       "    }\n",
       "</style>\n",
       "<table border=\"1\" class=\"dataframe\">\n",
       "  <thead>\n",
       "    <tr style=\"text-align: right;\">\n",
       "      <th></th>\n",
       "      <th></th>\n",
       "      <th>name_title2</th>\n",
       "      <th>age</th>\n",
       "      <th>fare</th>\n",
       "    </tr>\n",
       "    <tr>\n",
       "      <th>name_title2</th>\n",
       "      <th></th>\n",
       "      <th></th>\n",
       "      <th></th>\n",
       "      <th></th>\n",
       "    </tr>\n",
       "  </thead>\n",
       "  <tbody>\n",
       "    <tr>\n",
       "      <th>Dr.</th>\n",
       "      <th>0</th>\n",
       "      <td>Dr.</td>\n",
       "      <td>6</td>\n",
       "      <td>7</td>\n",
       "    </tr>\n",
       "    <tr>\n",
       "      <th>Master.</th>\n",
       "      <th>1</th>\n",
       "      <td>Master.</td>\n",
       "      <td>36</td>\n",
       "      <td>40</td>\n",
       "    </tr>\n",
       "    <tr>\n",
       "      <th>Miss.</th>\n",
       "      <th>2</th>\n",
       "      <td>Miss.</td>\n",
       "      <td>150</td>\n",
       "      <td>186</td>\n",
       "    </tr>\n",
       "    <tr>\n",
       "      <th>Mr.</th>\n",
       "      <th>3</th>\n",
       "      <td>Mr.</td>\n",
       "      <td>412</td>\n",
       "      <td>531</td>\n",
       "    </tr>\n",
       "    <tr>\n",
       "      <th>Mrs.</th>\n",
       "      <th>4</th>\n",
       "      <td>Mrs.</td>\n",
       "      <td>110</td>\n",
       "      <td>127</td>\n",
       "    </tr>\n",
       "  </tbody>\n",
       "</table>\n",
       "</div>"
      ],
      "text/plain": [
       "              name_title2  age  fare\n",
       "name_title2                         \n",
       "Dr.         0         Dr.    6     7\n",
       "Master.     1     Master.   36    40\n",
       "Miss.       2       Miss.  150   186\n",
       "Mr.         3         Mr.  412   531\n",
       "Mrs.        4        Mrs.  110   127"
      ]
     },
     "execution_count": 81,
     "metadata": {},
     "output_type": "execute_result"
    }
   ],
   "source": [
    "traincp2.groupby('name_title2', group_keys=True).apply(lambda gdf : gdf.fillna(gdf.mean()) )"
   ]
  },
  {
   "cell_type": "code",
   "execution_count": 82,
   "id": "f749331b-3ef2-4bd6-98ce-2efe02764fae",
   "metadata": {
    "tags": []
   },
   "outputs": [
    {
     "data": {
      "text/html": [
       "<div>\n",
       "<style scoped>\n",
       "    .dataframe tbody tr th:only-of-type {\n",
       "        vertical-align: middle;\n",
       "    }\n",
       "\n",
       "    .dataframe tbody tr th {\n",
       "        vertical-align: top;\n",
       "    }\n",
       "\n",
       "    .dataframe thead th {\n",
       "        text-align: right;\n",
       "    }\n",
       "</style>\n",
       "<table border=\"1\" class=\"dataframe\">\n",
       "  <thead>\n",
       "    <tr style=\"text-align: right;\">\n",
       "      <th></th>\n",
       "      <th>age</th>\n",
       "      <th>fare</th>\n",
       "    </tr>\n",
       "  </thead>\n",
       "  <tbody>\n",
       "    <tr>\n",
       "      <th>0</th>\n",
       "      <td>6</td>\n",
       "      <td>7</td>\n",
       "    </tr>\n",
       "    <tr>\n",
       "      <th>1</th>\n",
       "      <td>36</td>\n",
       "      <td>40</td>\n",
       "    </tr>\n",
       "    <tr>\n",
       "      <th>2</th>\n",
       "      <td>150</td>\n",
       "      <td>186</td>\n",
       "    </tr>\n",
       "    <tr>\n",
       "      <th>3</th>\n",
       "      <td>412</td>\n",
       "      <td>531</td>\n",
       "    </tr>\n",
       "    <tr>\n",
       "      <th>4</th>\n",
       "      <td>110</td>\n",
       "      <td>127</td>\n",
       "    </tr>\n",
       "  </tbody>\n",
       "</table>\n",
       "</div>"
      ],
      "text/plain": [
       "   age  fare\n",
       "0    6     7\n",
       "1   36    40\n",
       "2  150   186\n",
       "3  412   531\n",
       "4  110   127"
      ]
     },
     "execution_count": 82,
     "metadata": {},
     "output_type": "execute_result"
    }
   ],
   "source": [
    "traincp2.groupby('name_title2', group_keys=True).transform(lambda gdf : gdf.fillna(gdf.mean()) )"
   ]
  },
  {
   "cell_type": "code",
   "execution_count": 83,
   "id": "9c834306-86c8-4b36-95c4-ce6c907b9f51",
   "metadata": {
    "tags": []
   },
   "outputs": [],
   "source": [
    "del traincp\n",
    "del traincp2"
   ]
  },
  {
   "cell_type": "markdown",
   "id": "7520aeb9-bc90-458f-b0c6-42c1671e988a",
   "metadata": {},
   "source": [
    "#### 원본에 적용"
   ]
  },
  {
   "cell_type": "markdown",
   "id": "4010ad5d-c3a7-400b-bc14-7814f756e181",
   "metadata": {
    "tags": []
   },
   "source": [
    "<font size=3><b>이름의 호칭을 이용해 평균 나이로 결측 채우기 시도"
   ]
  },
  {
   "cell_type": "code",
   "execution_count": 84,
   "id": "f4ede02b-c9a3-40fa-b546-cbc5a091fe55",
   "metadata": {
    "tags": []
   },
   "outputs": [
    {
     "data": {
      "text/plain": [
       "name_title2\n",
       "Dr.        42.000000\n",
       "Master.     4.574167\n",
       "Miss.      22.020000\n",
       "Mr.        32.891990\n",
       "Mrs.       35.763636\n",
       "Name: age, dtype: float64"
      ]
     },
     "execution_count": 84,
     "metadata": {},
     "output_type": "execute_result"
    }
   ],
   "source": [
    "train.groupby('name_title2', group_keys=True)['age'].mean()"
   ]
  },
  {
   "cell_type": "markdown",
   "id": "b102eae2-f732-4b70-a8bc-46f4448a2945",
   "metadata": {},
   "source": [
    "<font color=red size=4> train.groupby(\"name_title2\")<b>['age'].mean()</b><br>\n",
    "<font color=red size=4> train.groupby(\"name_title2\")<b>['age'].transform(\"mean\")</b><br>\n",
    "<font color=red size=4><b> train.groupby(\"name_title2\")['age'].transform(np.mean)<br>"
   ]
  },
  {
   "cell_type": "code",
   "execution_count": 85,
   "id": "682b8739-9ed1-4bce-8a05-c73e533256da",
   "metadata": {
    "tags": []
   },
   "outputs": [
    {
     "data": {
      "text/html": [
       "<div>\n",
       "<style scoped>\n",
       "    .dataframe tbody tr th:only-of-type {\n",
       "        vertical-align: middle;\n",
       "    }\n",
       "\n",
       "    .dataframe tbody tr th {\n",
       "        vertical-align: top;\n",
       "    }\n",
       "\n",
       "    .dataframe thead th {\n",
       "        text-align: right;\n",
       "    }\n",
       "</style>\n",
       "<table border=\"1\" class=\"dataframe\">\n",
       "  <thead>\n",
       "    <tr style=\"text-align: right;\">\n",
       "      <th></th>\n",
       "      <th>name_title2</th>\n",
       "      <th>age</th>\n",
       "      <th>age2</th>\n",
       "    </tr>\n",
       "  </thead>\n",
       "  <tbody>\n",
       "    <tr>\n",
       "      <th>5</th>\n",
       "      <td>Mr.</td>\n",
       "      <td>NaN</td>\n",
       "      <td>32.891990</td>\n",
       "    </tr>\n",
       "    <tr>\n",
       "      <th>17</th>\n",
       "      <td>Mr.</td>\n",
       "      <td>NaN</td>\n",
       "      <td>32.891990</td>\n",
       "    </tr>\n",
       "    <tr>\n",
       "      <th>19</th>\n",
       "      <td>Mrs.</td>\n",
       "      <td>NaN</td>\n",
       "      <td>35.763636</td>\n",
       "    </tr>\n",
       "    <tr>\n",
       "      <th>26</th>\n",
       "      <td>Mr.</td>\n",
       "      <td>NaN</td>\n",
       "      <td>32.891990</td>\n",
       "    </tr>\n",
       "    <tr>\n",
       "      <th>28</th>\n",
       "      <td>Miss.</td>\n",
       "      <td>NaN</td>\n",
       "      <td>22.020000</td>\n",
       "    </tr>\n",
       "    <tr>\n",
       "      <th>...</th>\n",
       "      <td>...</td>\n",
       "      <td>...</td>\n",
       "      <td>...</td>\n",
       "    </tr>\n",
       "    <tr>\n",
       "      <th>859</th>\n",
       "      <td>Mr.</td>\n",
       "      <td>NaN</td>\n",
       "      <td>32.891990</td>\n",
       "    </tr>\n",
       "    <tr>\n",
       "      <th>863</th>\n",
       "      <td>Miss.</td>\n",
       "      <td>NaN</td>\n",
       "      <td>22.020000</td>\n",
       "    </tr>\n",
       "    <tr>\n",
       "      <th>868</th>\n",
       "      <td>Mr.</td>\n",
       "      <td>NaN</td>\n",
       "      <td>32.891990</td>\n",
       "    </tr>\n",
       "    <tr>\n",
       "      <th>878</th>\n",
       "      <td>Mr.</td>\n",
       "      <td>NaN</td>\n",
       "      <td>32.891990</td>\n",
       "    </tr>\n",
       "    <tr>\n",
       "      <th>888</th>\n",
       "      <td>Miss.</td>\n",
       "      <td>NaN</td>\n",
       "      <td>22.020000</td>\n",
       "    </tr>\n",
       "  </tbody>\n",
       "</table>\n",
       "<p>177 rows × 3 columns</p>\n",
       "</div>"
      ],
      "text/plain": [
       "    name_title2  age       age2\n",
       "5           Mr.  NaN  32.891990\n",
       "17          Mr.  NaN  32.891990\n",
       "19         Mrs.  NaN  35.763636\n",
       "26          Mr.  NaN  32.891990\n",
       "28        Miss.  NaN  22.020000\n",
       "..          ...  ...        ...\n",
       "859         Mr.  NaN  32.891990\n",
       "863       Miss.  NaN  22.020000\n",
       "868         Mr.  NaN  32.891990\n",
       "878         Mr.  NaN  32.891990\n",
       "888       Miss.  NaN  22.020000\n",
       "\n",
       "[177 rows x 3 columns]"
      ]
     },
     "execution_count": 85,
     "metadata": {},
     "output_type": "execute_result"
    }
   ],
   "source": [
    "# train.groupby('name_title2', group_keys=True)['age'].transform(lambda gdf : gdf.fillna(gdf.mean()) )\n",
    "\n",
    "train['age2'] = train['age'].fillna( train.groupby('name_title2')['age'].transform(\"mean\") )     \n",
    "train[['name_title2','age','age2']] [train['age'].isna()]"
   ]
  },
  {
   "cell_type": "code",
   "execution_count": 86,
   "id": "0349038e-1204-4c27-ab6d-2f8b51bc215f",
   "metadata": {
    "tags": []
   },
   "outputs": [
    {
     "data": {
      "text/plain": [
       "name_title2  survived\n",
       "Dr.          0             4\n",
       "             1             3\n",
       "Master.      0            17\n",
       "             1            23\n",
       "Miss.        0            55\n",
       "             1           131\n",
       "Mr.          0           447\n",
       "             1            84\n",
       "Mrs.         0            26\n",
       "             1           101\n",
       "dtype: int64"
      ]
     },
     "execution_count": 86,
     "metadata": {},
     "output_type": "execute_result"
    }
   ],
   "source": [
    "train[['name_title2', \"survived\"]].value_counts().sort_index()"
   ]
  },
  {
   "cell_type": "markdown",
   "id": "88d9c6f8-6d0b-4da0-b873-ac9c9e73c1ff",
   "metadata": {},
   "source": [
    "## age\n",
    "* age2 : name_title2 를 이용해서 호칭별 평균나이로 결측 채우기"
   ]
  },
  {
   "cell_type": "markdown",
   "id": "a1a1895e-272c-4f40-9e31-111e89a7ad9a",
   "metadata": {},
   "source": [
    "* 나이 통계치"
   ]
  },
  {
   "cell_type": "code",
   "execution_count": 87,
   "id": "6869b4ff-41a4-47d1-aa8b-ad04fdad13f6",
   "metadata": {
    "tags": []
   },
   "outputs": [
    {
     "data": {
      "text/html": [
       "<div>\n",
       "<style scoped>\n",
       "    .dataframe tbody tr th:only-of-type {\n",
       "        vertical-align: middle;\n",
       "    }\n",
       "\n",
       "    .dataframe tbody tr th {\n",
       "        vertical-align: top;\n",
       "    }\n",
       "\n",
       "    .dataframe thead th {\n",
       "        text-align: right;\n",
       "    }\n",
       "</style>\n",
       "<table border=\"1\" class=\"dataframe\">\n",
       "  <thead>\n",
       "    <tr style=\"text-align: right;\">\n",
       "      <th></th>\n",
       "      <th>age2</th>\n",
       "    </tr>\n",
       "  </thead>\n",
       "  <tbody>\n",
       "    <tr>\n",
       "      <th>count</th>\n",
       "      <td>891.000000</td>\n",
       "    </tr>\n",
       "    <tr>\n",
       "      <th>mean</th>\n",
       "      <td>29.832004</td>\n",
       "    </tr>\n",
       "    <tr>\n",
       "      <th>std</th>\n",
       "      <td>13.285056</td>\n",
       "    </tr>\n",
       "    <tr>\n",
       "      <th>min</th>\n",
       "      <td>0.420000</td>\n",
       "    </tr>\n",
       "    <tr>\n",
       "      <th>25%</th>\n",
       "      <td>22.000000</td>\n",
       "    </tr>\n",
       "    <tr>\n",
       "      <th>50%</th>\n",
       "      <td>30.000000</td>\n",
       "    </tr>\n",
       "    <tr>\n",
       "      <th>75%</th>\n",
       "      <td>35.763636</td>\n",
       "    </tr>\n",
       "    <tr>\n",
       "      <th>max</th>\n",
       "      <td>80.000000</td>\n",
       "    </tr>\n",
       "  </tbody>\n",
       "</table>\n",
       "</div>"
      ],
      "text/plain": [
       "             age2\n",
       "count  891.000000\n",
       "mean    29.832004\n",
       "std     13.285056\n",
       "min      0.420000\n",
       "25%     22.000000\n",
       "50%     30.000000\n",
       "75%     35.763636\n",
       "max     80.000000"
      ]
     },
     "execution_count": 87,
     "metadata": {},
     "output_type": "execute_result"
    }
   ],
   "source": [
    "train[['age2']].describe()"
   ]
  },
  {
   "cell_type": "markdown",
   "id": "087368cc-9e78-4963-9716-3998c318fce5",
   "metadata": {
    "tags": []
   },
   "source": [
    "* 나이 구간화"
   ]
  },
  {
   "cell_type": "code",
   "execution_count": 88,
   "id": "a716e442-5367-4228-8d5e-592e01ce8ef8",
   "metadata": {
    "tags": []
   },
   "outputs": [
    {
     "data": {
      "text/plain": [
       "(8.9, 8, 9)"
      ]
     },
     "execution_count": 88,
     "metadata": {},
     "output_type": "execute_result"
    }
   ],
   "source": [
    "#나누기   몫   나머지\n",
    "89/10,  89//10 , 89%10"
   ]
  },
  {
   "cell_type": "code",
   "execution_count": 89,
   "id": "edf2eef8-437b-43fe-ae87-7692e708e230",
   "metadata": {
    "tags": []
   },
   "outputs": [
    {
     "data": {
      "text/plain": [
       "age2   survived\n",
       "0.42   1           1\n",
       "0.67   1           1\n",
       "0.75   1           2\n",
       "0.83   1           2\n",
       "0.92   1           1\n",
       "                  ..\n",
       "70.00  0           2\n",
       "70.50  0           1\n",
       "71.00  0           2\n",
       "74.00  0           1\n",
       "80.00  1           1\n",
       "Length: 150, dtype: int64"
      ]
     },
     "execution_count": 89,
     "metadata": {},
     "output_type": "execute_result"
    }
   ],
   "source": [
    "train[['age2','survived']].value_counts().sort_index()"
   ]
  },
  {
   "cell_type": "code",
   "execution_count": 90,
   "id": "7c3dc05d-98a2-47a8-8094-9755267352bb",
   "metadata": {
    "tags": []
   },
   "outputs": [
    {
     "data": {
      "text/html": [
       "<div>\n",
       "<style scoped>\n",
       "    .dataframe tbody tr th:only-of-type {\n",
       "        vertical-align: middle;\n",
       "    }\n",
       "\n",
       "    .dataframe tbody tr th {\n",
       "        vertical-align: top;\n",
       "    }\n",
       "\n",
       "    .dataframe thead th {\n",
       "        text-align: right;\n",
       "    }\n",
       "</style>\n",
       "<table border=\"1\" class=\"dataframe\">\n",
       "  <thead>\n",
       "    <tr style=\"text-align: right;\">\n",
       "      <th></th>\n",
       "      <th>age2</th>\n",
       "      <th>age_gugan</th>\n",
       "    </tr>\n",
       "  </thead>\n",
       "  <tbody>\n",
       "    <tr>\n",
       "      <th>0</th>\n",
       "      <td>22.00</td>\n",
       "      <td>2</td>\n",
       "    </tr>\n",
       "    <tr>\n",
       "      <th>1</th>\n",
       "      <td>38.00</td>\n",
       "      <td>3</td>\n",
       "    </tr>\n",
       "    <tr>\n",
       "      <th>2</th>\n",
       "      <td>26.00</td>\n",
       "      <td>2</td>\n",
       "    </tr>\n",
       "    <tr>\n",
       "      <th>3</th>\n",
       "      <td>35.00</td>\n",
       "      <td>3</td>\n",
       "    </tr>\n",
       "    <tr>\n",
       "      <th>4</th>\n",
       "      <td>35.00</td>\n",
       "      <td>3</td>\n",
       "    </tr>\n",
       "    <tr>\n",
       "      <th>...</th>\n",
       "      <td>...</td>\n",
       "      <td>...</td>\n",
       "    </tr>\n",
       "    <tr>\n",
       "      <th>886</th>\n",
       "      <td>27.00</td>\n",
       "      <td>2</td>\n",
       "    </tr>\n",
       "    <tr>\n",
       "      <th>887</th>\n",
       "      <td>19.00</td>\n",
       "      <td>1</td>\n",
       "    </tr>\n",
       "    <tr>\n",
       "      <th>888</th>\n",
       "      <td>22.02</td>\n",
       "      <td>2</td>\n",
       "    </tr>\n",
       "    <tr>\n",
       "      <th>889</th>\n",
       "      <td>26.00</td>\n",
       "      <td>2</td>\n",
       "    </tr>\n",
       "    <tr>\n",
       "      <th>890</th>\n",
       "      <td>32.00</td>\n",
       "      <td>3</td>\n",
       "    </tr>\n",
       "  </tbody>\n",
       "</table>\n",
       "<p>891 rows × 2 columns</p>\n",
       "</div>"
      ],
      "text/plain": [
       "      age2  age_gugan\n",
       "0    22.00          2\n",
       "1    38.00          3\n",
       "2    26.00          2\n",
       "3    35.00          3\n",
       "4    35.00          3\n",
       "..     ...        ...\n",
       "886  27.00          2\n",
       "887  19.00          1\n",
       "888  22.02          2\n",
       "889  26.00          2\n",
       "890  32.00          3\n",
       "\n",
       "[891 rows x 2 columns]"
      ]
     },
     "execution_count": 90,
     "metadata": {},
     "output_type": "execute_result"
    }
   ],
   "source": [
    "train['age_gugan'] = train['age2']//10\n",
    "train['age_gugan'] = train['age_gugan'].astype(\"int\")\n",
    "train[['age2','age_gugan']]\n",
    "# int(str(80)[0:1])"
   ]
  },
  {
   "cell_type": "code",
   "execution_count": 91,
   "id": "f5474c3d-64e5-4e33-ad3b-098179d1df1e",
   "metadata": {
    "tags": []
   },
   "outputs": [
    {
     "data": {
      "text/plain": [
       "age_gugan  survived\n",
       "0          0            26\n",
       "           1            40\n",
       "1          0            61\n",
       "           1            41\n",
       "2          0           157\n",
       "           1            99\n",
       "3          0           202\n",
       "           1           101\n",
       "4          0            56\n",
       "           1            34\n",
       "5          0            28\n",
       "           1            20\n",
       "6          0            13\n",
       "           1             6\n",
       "7          0             6\n",
       "8          1             1\n",
       "dtype: int64"
      ]
     },
     "execution_count": 91,
     "metadata": {},
     "output_type": "execute_result"
    }
   ],
   "source": [
    "train[['age_gugan','survived']].value_counts().sort_index()"
   ]
  },
  {
   "cell_type": "markdown",
   "id": "1434e122-b5eb-4b01-a0aa-620a4dcdf7c1",
   "metadata": {},
   "source": [
    "## crosstab()\n",
    "<pre>\n",
    "def crosstab(\n",
    "    <b>\n",
    "    index,     -- y축\n",
    "    columns,   -- x축\n",
    "    values=None,\n",
    "    </b>\n",
    "    rownames=None,\n",
    "    colnames=None,\n",
    "    aggfunc=None,\n",
    "    margins: bool = False,\n",
    "    margins_name: str = \"All\",\n",
    "    dropna: bool = True,\n",
    "    normalize=False,\n",
    ") -> DataFrame:"
   ]
  },
  {
   "cell_type": "code",
   "execution_count": 92,
   "id": "979f40bf-4e18-485c-ac6c-1d74ab96de2b",
   "metadata": {
    "tags": []
   },
   "outputs": [
    {
     "data": {
      "text/html": [
       "<div>\n",
       "<style scoped>\n",
       "    .dataframe tbody tr th:only-of-type {\n",
       "        vertical-align: middle;\n",
       "    }\n",
       "\n",
       "    .dataframe tbody tr th {\n",
       "        vertical-align: top;\n",
       "    }\n",
       "\n",
       "    .dataframe thead tr th {\n",
       "        text-align: left;\n",
       "    }\n",
       "\n",
       "    .dataframe thead tr:last-of-type th {\n",
       "        text-align: right;\n",
       "    }\n",
       "</style>\n",
       "<table border=\"1\" class=\"dataframe\">\n",
       "  <thead>\n",
       "    <tr>\n",
       "      <th></th>\n",
       "      <th>age_gugan</th>\n",
       "      <th colspan=\"2\" halign=\"left\">0</th>\n",
       "      <th colspan=\"2\" halign=\"left\">1</th>\n",
       "      <th colspan=\"2\" halign=\"left\">2</th>\n",
       "      <th colspan=\"2\" halign=\"left\">3</th>\n",
       "      <th colspan=\"2\" halign=\"left\">4</th>\n",
       "      <th colspan=\"2\" halign=\"left\">5</th>\n",
       "      <th colspan=\"2\" halign=\"left\">6</th>\n",
       "      <th>7</th>\n",
       "      <th>8</th>\n",
       "    </tr>\n",
       "    <tr>\n",
       "      <th></th>\n",
       "      <th>survived</th>\n",
       "      <th>0</th>\n",
       "      <th>1</th>\n",
       "      <th>0</th>\n",
       "      <th>1</th>\n",
       "      <th>0</th>\n",
       "      <th>1</th>\n",
       "      <th>0</th>\n",
       "      <th>1</th>\n",
       "      <th>0</th>\n",
       "      <th>1</th>\n",
       "      <th>0</th>\n",
       "      <th>1</th>\n",
       "      <th>0</th>\n",
       "      <th>1</th>\n",
       "      <th>0</th>\n",
       "      <th>1</th>\n",
       "    </tr>\n",
       "    <tr>\n",
       "      <th>pclass</th>\n",
       "      <th>sex</th>\n",
       "      <th></th>\n",
       "      <th></th>\n",
       "      <th></th>\n",
       "      <th></th>\n",
       "      <th></th>\n",
       "      <th></th>\n",
       "      <th></th>\n",
       "      <th></th>\n",
       "      <th></th>\n",
       "      <th></th>\n",
       "      <th></th>\n",
       "      <th></th>\n",
       "      <th></th>\n",
       "      <th></th>\n",
       "      <th></th>\n",
       "      <th></th>\n",
       "    </tr>\n",
       "  </thead>\n",
       "  <tbody>\n",
       "    <tr>\n",
       "      <th rowspan=\"2\" valign=\"top\">1</th>\n",
       "      <th>female</th>\n",
       "      <td>1</td>\n",
       "      <td>0</td>\n",
       "      <td>0</td>\n",
       "      <td>13</td>\n",
       "      <td>1</td>\n",
       "      <td>16</td>\n",
       "      <td>0</td>\n",
       "      <td>35</td>\n",
       "      <td>0</td>\n",
       "      <td>13</td>\n",
       "      <td>1</td>\n",
       "      <td>11</td>\n",
       "      <td>0</td>\n",
       "      <td>3</td>\n",
       "      <td>0</td>\n",
       "      <td>0</td>\n",
       "    </tr>\n",
       "    <tr>\n",
       "      <th>male</th>\n",
       "      <td>0</td>\n",
       "      <td>2</td>\n",
       "      <td>3</td>\n",
       "      <td>2</td>\n",
       "      <td>9</td>\n",
       "      <td>9</td>\n",
       "      <td>26</td>\n",
       "      <td>17</td>\n",
       "      <td>16</td>\n",
       "      <td>9</td>\n",
       "      <td>11</td>\n",
       "      <td>4</td>\n",
       "      <td>9</td>\n",
       "      <td>1</td>\n",
       "      <td>3</td>\n",
       "      <td>1</td>\n",
       "    </tr>\n",
       "    <tr>\n",
       "      <th rowspan=\"2\" valign=\"top\">2</th>\n",
       "      <th>female</th>\n",
       "      <td>0</td>\n",
       "      <td>8</td>\n",
       "      <td>0</td>\n",
       "      <td>8</td>\n",
       "      <td>3</td>\n",
       "      <td>24</td>\n",
       "      <td>1</td>\n",
       "      <td>16</td>\n",
       "      <td>1</td>\n",
       "      <td>9</td>\n",
       "      <td>1</td>\n",
       "      <td>5</td>\n",
       "      <td>0</td>\n",
       "      <td>0</td>\n",
       "      <td>0</td>\n",
       "      <td>0</td>\n",
       "    </tr>\n",
       "    <tr>\n",
       "      <th>male</th>\n",
       "      <td>0</td>\n",
       "      <td>9</td>\n",
       "      <td>9</td>\n",
       "      <td>1</td>\n",
       "      <td>28</td>\n",
       "      <td>0</td>\n",
       "      <td>35</td>\n",
       "      <td>5</td>\n",
       "      <td>7</td>\n",
       "      <td>1</td>\n",
       "      <td>9</td>\n",
       "      <td>0</td>\n",
       "      <td>2</td>\n",
       "      <td>1</td>\n",
       "      <td>1</td>\n",
       "      <td>0</td>\n",
       "    </tr>\n",
       "    <tr>\n",
       "      <th rowspan=\"2\" valign=\"top\">3</th>\n",
       "      <th>female</th>\n",
       "      <td>10</td>\n",
       "      <td>11</td>\n",
       "      <td>11</td>\n",
       "      <td>13</td>\n",
       "      <td>30</td>\n",
       "      <td>34</td>\n",
       "      <td>12</td>\n",
       "      <td>13</td>\n",
       "      <td>9</td>\n",
       "      <td>0</td>\n",
       "      <td>0</td>\n",
       "      <td>0</td>\n",
       "      <td>0</td>\n",
       "      <td>1</td>\n",
       "      <td>0</td>\n",
       "      <td>0</td>\n",
       "    </tr>\n",
       "    <tr>\n",
       "      <th>male</th>\n",
       "      <td>15</td>\n",
       "      <td>10</td>\n",
       "      <td>38</td>\n",
       "      <td>4</td>\n",
       "      <td>86</td>\n",
       "      <td>16</td>\n",
       "      <td>128</td>\n",
       "      <td>15</td>\n",
       "      <td>23</td>\n",
       "      <td>2</td>\n",
       "      <td>6</td>\n",
       "      <td>0</td>\n",
       "      <td>2</td>\n",
       "      <td>0</td>\n",
       "      <td>2</td>\n",
       "      <td>0</td>\n",
       "    </tr>\n",
       "  </tbody>\n",
       "</table>\n",
       "</div>"
      ],
      "text/plain": [
       "age_gugan       0       1       2        3       4       5      6     7  8\n",
       "survived        0   1   0   1   0   1    0   1   0   1   0   1  0  1  0  1\n",
       "pclass sex                                                                \n",
       "1      female   1   0   0  13   1  16    0  35   0  13   1  11  0  3  0  0\n",
       "       male     0   2   3   2   9   9   26  17  16   9  11   4  9  1  3  1\n",
       "2      female   0   8   0   8   3  24    1  16   1   9   1   5  0  0  0  0\n",
       "       male     0   9   9   1  28   0   35   5   7   1   9   0  2  1  1  0\n",
       "3      female  10  11  11  13  30  34   12  13   9   0   0   0  0  1  0  0\n",
       "       male    15  10  38   4  86  16  128  15  23   2   6   0  2  0  2  0"
      ]
     },
     "execution_count": 92,
     "metadata": {},
     "output_type": "execute_result"
    }
   ],
   "source": [
    "pd.crosstab(index  =[  train[\"pclass\"]   , train['sex']       ],  \n",
    "            columns=[  train[\"age_gugan\"], train[\"survived\"]  ]  \n",
    "            # , values=train[\"survived\"]    \n",
    "            # , aggfunc=\"sum\"\n",
    "           )\n"
   ]
  },
  {
   "cell_type": "markdown",
   "id": "826c976b-20aa-4d04-89f8-755dfd18c294",
   "metadata": {},
   "source": [
    "## sibsp, parch"
   ]
  },
  {
   "cell_type": "code",
   "execution_count": 93,
   "id": "edf1bc96-42db-48b7-aedc-4511e2ced3c4",
   "metadata": {
    "tags": []
   },
   "outputs": [
    {
     "data": {
      "text/html": [
       "<div>\n",
       "<style scoped>\n",
       "    .dataframe tbody tr th:only-of-type {\n",
       "        vertical-align: middle;\n",
       "    }\n",
       "\n",
       "    .dataframe tbody tr th {\n",
       "        vertical-align: top;\n",
       "    }\n",
       "\n",
       "    .dataframe thead th {\n",
       "        text-align: right;\n",
       "    }\n",
       "</style>\n",
       "<table border=\"1\" class=\"dataframe\">\n",
       "  <thead>\n",
       "    <tr style=\"text-align: right;\">\n",
       "      <th></th>\n",
       "      <th>survived</th>\n",
       "      <th>pclass</th>\n",
       "      <th>name</th>\n",
       "      <th>sex</th>\n",
       "      <th>age</th>\n",
       "      <th>sibsp</th>\n",
       "      <th>parch</th>\n",
       "      <th>ticket</th>\n",
       "      <th>fare</th>\n",
       "      <th>cabin</th>\n",
       "      <th>embarked</th>\n",
       "      <th>cabin2</th>\n",
       "      <th>name_title</th>\n",
       "      <th>name_title2</th>\n",
       "      <th>age2</th>\n",
       "      <th>age_gugan</th>\n",
       "      <th>family</th>\n",
       "    </tr>\n",
       "  </thead>\n",
       "  <tbody>\n",
       "    <tr>\n",
       "      <th>180</th>\n",
       "      <td>0</td>\n",
       "      <td>3</td>\n",
       "      <td>Sage, Miss. Constance Gladys</td>\n",
       "      <td>female</td>\n",
       "      <td>NaN</td>\n",
       "      <td>8</td>\n",
       "      <td>2</td>\n",
       "      <td>CA. 2343</td>\n",
       "      <td>69.55</td>\n",
       "      <td>NaN</td>\n",
       "      <td>S</td>\n",
       "      <td>NaN</td>\n",
       "      <td>Miss.</td>\n",
       "      <td>Miss.</td>\n",
       "      <td>22.02000</td>\n",
       "      <td>2</td>\n",
       "      <td>11</td>\n",
       "    </tr>\n",
       "    <tr>\n",
       "      <th>846</th>\n",
       "      <td>0</td>\n",
       "      <td>3</td>\n",
       "      <td>Sage, Mr. Douglas Bullen</td>\n",
       "      <td>male</td>\n",
       "      <td>NaN</td>\n",
       "      <td>8</td>\n",
       "      <td>2</td>\n",
       "      <td>CA. 2343</td>\n",
       "      <td>69.55</td>\n",
       "      <td>NaN</td>\n",
       "      <td>S</td>\n",
       "      <td>NaN</td>\n",
       "      <td>Mr.</td>\n",
       "      <td>Mr.</td>\n",
       "      <td>32.89199</td>\n",
       "      <td>3</td>\n",
       "      <td>11</td>\n",
       "    </tr>\n",
       "    <tr>\n",
       "      <th>792</th>\n",
       "      <td>0</td>\n",
       "      <td>3</td>\n",
       "      <td>Sage, Miss. Stella Anna</td>\n",
       "      <td>female</td>\n",
       "      <td>NaN</td>\n",
       "      <td>8</td>\n",
       "      <td>2</td>\n",
       "      <td>CA. 2343</td>\n",
       "      <td>69.55</td>\n",
       "      <td>NaN</td>\n",
       "      <td>S</td>\n",
       "      <td>NaN</td>\n",
       "      <td>Miss.</td>\n",
       "      <td>Miss.</td>\n",
       "      <td>22.02000</td>\n",
       "      <td>2</td>\n",
       "      <td>11</td>\n",
       "    </tr>\n",
       "  </tbody>\n",
       "</table>\n",
       "</div>"
      ],
      "text/plain": [
       "     survived  pclass                          name     sex  age  sibsp  \\\n",
       "180         0       3  Sage, Miss. Constance Gladys  female  NaN      8   \n",
       "846         0       3      Sage, Mr. Douglas Bullen    male  NaN      8   \n",
       "792         0       3       Sage, Miss. Stella Anna  female  NaN      8   \n",
       "\n",
       "     parch    ticket   fare cabin embarked cabin2 name_title name_title2  \\\n",
       "180      2  CA. 2343  69.55   NaN        S    NaN      Miss.       Miss.   \n",
       "846      2  CA. 2343  69.55   NaN        S    NaN        Mr.         Mr.   \n",
       "792      2  CA. 2343  69.55   NaN        S    NaN      Miss.       Miss.   \n",
       "\n",
       "         age2  age_gugan  family  \n",
       "180  22.02000          2      11  \n",
       "846  32.89199          3      11  \n",
       "792  22.02000          2      11  "
      ]
     },
     "execution_count": 93,
     "metadata": {},
     "output_type": "execute_result"
    }
   ],
   "source": [
    "train['family'] = train['sibsp'] + train['parch'] + 1 #(+1은 본인)\n",
    "train.sort_values(\"family\", ascending=False).head(3)"
   ]
  },
  {
   "cell_type": "code",
   "execution_count": 94,
   "id": "a3a23618-b42c-44b3-8e7e-9512f9a8c4c2",
   "metadata": {
    "tags": []
   },
   "outputs": [
    {
     "data": {
      "text/html": [
       "<div>\n",
       "<style scoped>\n",
       "    .dataframe tbody tr th:only-of-type {\n",
       "        vertical-align: middle;\n",
       "    }\n",
       "\n",
       "    .dataframe tbody tr th {\n",
       "        vertical-align: top;\n",
       "    }\n",
       "\n",
       "    .dataframe thead th {\n",
       "        text-align: right;\n",
       "    }\n",
       "</style>\n",
       "<table border=\"1\" class=\"dataframe\">\n",
       "  <thead>\n",
       "    <tr style=\"text-align: right;\">\n",
       "      <th></th>\n",
       "      <th>survived</th>\n",
       "      <th>pclass</th>\n",
       "      <th>name</th>\n",
       "      <th>sex</th>\n",
       "      <th>age</th>\n",
       "      <th>sibsp</th>\n",
       "      <th>parch</th>\n",
       "      <th>ticket</th>\n",
       "      <th>fare</th>\n",
       "      <th>cabin</th>\n",
       "      <th>embarked</th>\n",
       "      <th>cabin2</th>\n",
       "      <th>name_title</th>\n",
       "      <th>name_title2</th>\n",
       "      <th>age2</th>\n",
       "      <th>age_gugan</th>\n",
       "      <th>family</th>\n",
       "    </tr>\n",
       "  </thead>\n",
       "  <tbody>\n",
       "    <tr>\n",
       "      <th>65</th>\n",
       "      <td>1</td>\n",
       "      <td>3</td>\n",
       "      <td>Moubarek, Master. Gerios</td>\n",
       "      <td>male</td>\n",
       "      <td>NaN</td>\n",
       "      <td>1</td>\n",
       "      <td>1</td>\n",
       "      <td>2661</td>\n",
       "      <td>15.2458</td>\n",
       "      <td>NaN</td>\n",
       "      <td>C</td>\n",
       "      <td>NaN</td>\n",
       "      <td>Master.</td>\n",
       "      <td>Master.</td>\n",
       "      <td>4.574167</td>\n",
       "      <td>0</td>\n",
       "      <td>3</td>\n",
       "    </tr>\n",
       "    <tr>\n",
       "      <th>709</th>\n",
       "      <td>1</td>\n",
       "      <td>3</td>\n",
       "      <td>Moubarek, Master. Halim Gonios (\"William George\")</td>\n",
       "      <td>male</td>\n",
       "      <td>NaN</td>\n",
       "      <td>1</td>\n",
       "      <td>1</td>\n",
       "      <td>2661</td>\n",
       "      <td>15.2458</td>\n",
       "      <td>NaN</td>\n",
       "      <td>C</td>\n",
       "      <td>NaN</td>\n",
       "      <td>Master.</td>\n",
       "      <td>Master.</td>\n",
       "      <td>4.574167</td>\n",
       "      <td>0</td>\n",
       "      <td>3</td>\n",
       "    </tr>\n",
       "  </tbody>\n",
       "</table>\n",
       "</div>"
      ],
      "text/plain": [
       "     survived  pclass                                               name  \\\n",
       "65          1       3                           Moubarek, Master. Gerios   \n",
       "709         1       3  Moubarek, Master. Halim Gonios (\"William George\")   \n",
       "\n",
       "      sex  age  sibsp  parch ticket     fare cabin embarked cabin2 name_title  \\\n",
       "65   male  NaN      1      1   2661  15.2458   NaN        C    NaN    Master.   \n",
       "709  male  NaN      1      1   2661  15.2458   NaN        C    NaN    Master.   \n",
       "\n",
       "    name_title2      age2  age_gugan  family  \n",
       "65      Master.  4.574167          0       3  \n",
       "709     Master.  4.574167          0       3  "
      ]
     },
     "execution_count": 94,
     "metadata": {},
     "output_type": "execute_result"
    }
   ],
   "source": [
    "train[train['ticket'] == \"A/5 21171\"]\n",
    "train[train['ticket'] == \"PC 17599\"]\n",
    "train[train['ticket'] == \"CA. 2343\"]\n",
    "train[train['ticket'] == \"2661\"]"
   ]
  },
  {
   "cell_type": "code",
   "execution_count": 95,
   "id": "af1f6dcc-bcf4-4385-b9ac-f2afe762d9bd",
   "metadata": {
    "tags": []
   },
   "outputs": [
    {
     "data": {
      "text/plain": [
       "family  survived\n",
       "1       0           374\n",
       "        1           163\n",
       "2       0            72\n",
       "        1            89\n",
       "3       0            43\n",
       "        1            59\n",
       "4       0             8\n",
       "        1            21\n",
       "5       0            12\n",
       "        1             3\n",
       "6       0            19\n",
       "        1             3\n",
       "7       0             8\n",
       "        1             4\n",
       "8       0             6\n",
       "11      0             7\n",
       "dtype: int64"
      ]
     },
     "execution_count": 95,
     "metadata": {},
     "output_type": "execute_result"
    }
   ],
   "source": [
    "train[['family','survived']].value_counts().sort_index()"
   ]
  },
  {
   "cell_type": "code",
   "execution_count": 96,
   "id": "9c7006ec-0d44-4f1b-8d6d-f2085055b141",
   "metadata": {
    "tags": []
   },
   "outputs": [
    {
     "data": {
      "text/html": [
       "<div>\n",
       "<style scoped>\n",
       "    .dataframe tbody tr th:only-of-type {\n",
       "        vertical-align: middle;\n",
       "    }\n",
       "\n",
       "    .dataframe tbody tr th {\n",
       "        vertical-align: top;\n",
       "    }\n",
       "\n",
       "    .dataframe thead th {\n",
       "        text-align: right;\n",
       "    }\n",
       "</style>\n",
       "<table border=\"1\" class=\"dataframe\">\n",
       "  <thead>\n",
       "    <tr style=\"text-align: right;\">\n",
       "      <th></th>\n",
       "      <th>family</th>\n",
       "      <th>1</th>\n",
       "      <th>2</th>\n",
       "      <th>3</th>\n",
       "      <th>4</th>\n",
       "      <th>5</th>\n",
       "      <th>6</th>\n",
       "      <th>7</th>\n",
       "      <th>8</th>\n",
       "      <th>11</th>\n",
       "    </tr>\n",
       "    <tr>\n",
       "      <th>pclass</th>\n",
       "      <th>survived</th>\n",
       "      <th></th>\n",
       "      <th></th>\n",
       "      <th></th>\n",
       "      <th></th>\n",
       "      <th></th>\n",
       "      <th></th>\n",
       "      <th></th>\n",
       "      <th></th>\n",
       "      <th></th>\n",
       "    </tr>\n",
       "  </thead>\n",
       "  <tbody>\n",
       "    <tr>\n",
       "      <th rowspan=\"2\" valign=\"top\">1</th>\n",
       "      <th>0</th>\n",
       "      <td>51</td>\n",
       "      <td>19</td>\n",
       "      <td>6</td>\n",
       "      <td>2</td>\n",
       "      <td>0</td>\n",
       "      <td>2</td>\n",
       "      <td>0</td>\n",
       "      <td>0</td>\n",
       "      <td>0</td>\n",
       "    </tr>\n",
       "    <tr>\n",
       "      <th>1</th>\n",
       "      <td>58</td>\n",
       "      <td>51</td>\n",
       "      <td>18</td>\n",
       "      <td>5</td>\n",
       "      <td>2</td>\n",
       "      <td>2</td>\n",
       "      <td>0</td>\n",
       "      <td>0</td>\n",
       "      <td>0</td>\n",
       "    </tr>\n",
       "    <tr>\n",
       "      <th rowspan=\"2\" valign=\"top\">2</th>\n",
       "      <th>0</th>\n",
       "      <td>68</td>\n",
       "      <td>16</td>\n",
       "      <td>10</td>\n",
       "      <td>3</td>\n",
       "      <td>0</td>\n",
       "      <td>0</td>\n",
       "      <td>0</td>\n",
       "      <td>0</td>\n",
       "      <td>0</td>\n",
       "    </tr>\n",
       "    <tr>\n",
       "      <th>1</th>\n",
       "      <td>36</td>\n",
       "      <td>18</td>\n",
       "      <td>21</td>\n",
       "      <td>10</td>\n",
       "      <td>1</td>\n",
       "      <td>1</td>\n",
       "      <td>0</td>\n",
       "      <td>0</td>\n",
       "      <td>0</td>\n",
       "    </tr>\n",
       "    <tr>\n",
       "      <th rowspan=\"2\" valign=\"top\">3</th>\n",
       "      <th>0</th>\n",
       "      <td>255</td>\n",
       "      <td>37</td>\n",
       "      <td>27</td>\n",
       "      <td>3</td>\n",
       "      <td>12</td>\n",
       "      <td>17</td>\n",
       "      <td>8</td>\n",
       "      <td>6</td>\n",
       "      <td>7</td>\n",
       "    </tr>\n",
       "    <tr>\n",
       "      <th>1</th>\n",
       "      <td>69</td>\n",
       "      <td>20</td>\n",
       "      <td>20</td>\n",
       "      <td>6</td>\n",
       "      <td>0</td>\n",
       "      <td>0</td>\n",
       "      <td>4</td>\n",
       "      <td>0</td>\n",
       "      <td>0</td>\n",
       "    </tr>\n",
       "  </tbody>\n",
       "</table>\n",
       "</div>"
      ],
      "text/plain": [
       "family            1   2   3   4   5   6   7   8   11\n",
       "pclass survived                                     \n",
       "1      0          51  19   6   2   0   2   0   0   0\n",
       "       1          58  51  18   5   2   2   0   0   0\n",
       "2      0          68  16  10   3   0   0   0   0   0\n",
       "       1          36  18  21  10   1   1   0   0   0\n",
       "3      0         255  37  27   3  12  17   8   6   7\n",
       "       1          69  20  20   6   0   0   4   0   0"
      ]
     },
     "execution_count": 96,
     "metadata": {},
     "output_type": "execute_result"
    }
   ],
   "source": [
    "pd.crosstab( index=[  train['pclass'], train['survived']  ] , \n",
    "             columns = train['family']\n",
    "           )"
   ]
  },
  {
   "cell_type": "code",
   "execution_count": 97,
   "id": "e9a3030f-d8b2-44c3-8408-4a53e83c11b0",
   "metadata": {
    "tags": []
   },
   "outputs": [
    {
     "data": {
      "text/html": [
       "<div>\n",
       "<style scoped>\n",
       "    .dataframe tbody tr th:only-of-type {\n",
       "        vertical-align: middle;\n",
       "    }\n",
       "\n",
       "    .dataframe tbody tr th {\n",
       "        vertical-align: top;\n",
       "    }\n",
       "\n",
       "    .dataframe thead th {\n",
       "        text-align: right;\n",
       "    }\n",
       "</style>\n",
       "<table border=\"1\" class=\"dataframe\">\n",
       "  <thead>\n",
       "    <tr style=\"text-align: right;\">\n",
       "      <th></th>\n",
       "      <th>survived</th>\n",
       "      <th>pclass</th>\n",
       "      <th>name</th>\n",
       "      <th>sex</th>\n",
       "      <th>age</th>\n",
       "      <th>sibsp</th>\n",
       "      <th>parch</th>\n",
       "      <th>ticket</th>\n",
       "      <th>fare</th>\n",
       "      <th>cabin</th>\n",
       "      <th>embarked</th>\n",
       "      <th>cabin2</th>\n",
       "      <th>name_title</th>\n",
       "      <th>name_title2</th>\n",
       "      <th>age2</th>\n",
       "      <th>age_gugan</th>\n",
       "      <th>family</th>\n",
       "    </tr>\n",
       "  </thead>\n",
       "  <tbody>\n",
       "    <tr>\n",
       "      <th>8</th>\n",
       "      <td>1</td>\n",
       "      <td>3</td>\n",
       "      <td>Johnson, Mrs. Oscar W (Elisabeth Vilhelmina Berg)</td>\n",
       "      <td>female</td>\n",
       "      <td>27.0</td>\n",
       "      <td>0</td>\n",
       "      <td>2</td>\n",
       "      <td>347742</td>\n",
       "      <td>11.1333</td>\n",
       "      <td>NaN</td>\n",
       "      <td>S</td>\n",
       "      <td>NaN</td>\n",
       "      <td>Mrs.</td>\n",
       "      <td>Mrs.</td>\n",
       "      <td>27.000000</td>\n",
       "      <td>2</td>\n",
       "      <td>3</td>\n",
       "    </tr>\n",
       "    <tr>\n",
       "      <th>10</th>\n",
       "      <td>1</td>\n",
       "      <td>3</td>\n",
       "      <td>Sandstrom, Miss. Marguerite Rut</td>\n",
       "      <td>female</td>\n",
       "      <td>4.0</td>\n",
       "      <td>1</td>\n",
       "      <td>1</td>\n",
       "      <td>PP 9549</td>\n",
       "      <td>16.7000</td>\n",
       "      <td>G6</td>\n",
       "      <td>S</td>\n",
       "      <td>G</td>\n",
       "      <td>Miss.</td>\n",
       "      <td>Miss.</td>\n",
       "      <td>4.000000</td>\n",
       "      <td>0</td>\n",
       "      <td>3</td>\n",
       "    </tr>\n",
       "    <tr>\n",
       "      <th>38</th>\n",
       "      <td>0</td>\n",
       "      <td>3</td>\n",
       "      <td>Vander Planke, Miss. Augusta Maria</td>\n",
       "      <td>female</td>\n",
       "      <td>18.0</td>\n",
       "      <td>2</td>\n",
       "      <td>0</td>\n",
       "      <td>345764</td>\n",
       "      <td>18.0000</td>\n",
       "      <td>NaN</td>\n",
       "      <td>S</td>\n",
       "      <td>NaN</td>\n",
       "      <td>Miss.</td>\n",
       "      <td>Miss.</td>\n",
       "      <td>18.000000</td>\n",
       "      <td>1</td>\n",
       "      <td>3</td>\n",
       "    </tr>\n",
       "    <tr>\n",
       "      <th>48</th>\n",
       "      <td>0</td>\n",
       "      <td>3</td>\n",
       "      <td>Samaan, Mr. Youssef</td>\n",
       "      <td>male</td>\n",
       "      <td>NaN</td>\n",
       "      <td>2</td>\n",
       "      <td>0</td>\n",
       "      <td>2662</td>\n",
       "      <td>21.6792</td>\n",
       "      <td>NaN</td>\n",
       "      <td>C</td>\n",
       "      <td>NaN</td>\n",
       "      <td>Mr.</td>\n",
       "      <td>Mr.</td>\n",
       "      <td>32.891990</td>\n",
       "      <td>3</td>\n",
       "      <td>3</td>\n",
       "    </tr>\n",
       "    <tr>\n",
       "      <th>65</th>\n",
       "      <td>1</td>\n",
       "      <td>3</td>\n",
       "      <td>Moubarek, Master. Gerios</td>\n",
       "      <td>male</td>\n",
       "      <td>NaN</td>\n",
       "      <td>1</td>\n",
       "      <td>1</td>\n",
       "      <td>2661</td>\n",
       "      <td>15.2458</td>\n",
       "      <td>NaN</td>\n",
       "      <td>C</td>\n",
       "      <td>NaN</td>\n",
       "      <td>Master.</td>\n",
       "      <td>Master.</td>\n",
       "      <td>4.574167</td>\n",
       "      <td>0</td>\n",
       "      <td>3</td>\n",
       "    </tr>\n",
       "    <tr>\n",
       "      <th>...</th>\n",
       "      <td>...</td>\n",
       "      <td>...</td>\n",
       "      <td>...</td>\n",
       "      <td>...</td>\n",
       "      <td>...</td>\n",
       "      <td>...</td>\n",
       "      <td>...</td>\n",
       "      <td>...</td>\n",
       "      <td>...</td>\n",
       "      <td>...</td>\n",
       "      <td>...</td>\n",
       "      <td>...</td>\n",
       "      <td>...</td>\n",
       "      <td>...</td>\n",
       "      <td>...</td>\n",
       "      <td>...</td>\n",
       "      <td>...</td>\n",
       "    </tr>\n",
       "    <tr>\n",
       "      <th>852</th>\n",
       "      <td>0</td>\n",
       "      <td>3</td>\n",
       "      <td>Boulos, Miss. Nourelain</td>\n",
       "      <td>female</td>\n",
       "      <td>9.0</td>\n",
       "      <td>1</td>\n",
       "      <td>1</td>\n",
       "      <td>2678</td>\n",
       "      <td>15.2458</td>\n",
       "      <td>NaN</td>\n",
       "      <td>C</td>\n",
       "      <td>NaN</td>\n",
       "      <td>Miss.</td>\n",
       "      <td>Miss.</td>\n",
       "      <td>9.000000</td>\n",
       "      <td>0</td>\n",
       "      <td>3</td>\n",
       "    </tr>\n",
       "    <tr>\n",
       "      <th>856</th>\n",
       "      <td>1</td>\n",
       "      <td>1</td>\n",
       "      <td>Wick, Mrs. George Dennick (Mary Hitchcock)</td>\n",
       "      <td>female</td>\n",
       "      <td>45.0</td>\n",
       "      <td>1</td>\n",
       "      <td>1</td>\n",
       "      <td>36928</td>\n",
       "      <td>164.8667</td>\n",
       "      <td>NaN</td>\n",
       "      <td>S</td>\n",
       "      <td>NaN</td>\n",
       "      <td>Mrs.</td>\n",
       "      <td>Mrs.</td>\n",
       "      <td>45.000000</td>\n",
       "      <td>4</td>\n",
       "      <td>3</td>\n",
       "    </tr>\n",
       "    <tr>\n",
       "      <th>860</th>\n",
       "      <td>0</td>\n",
       "      <td>3</td>\n",
       "      <td>Hansen, Mr. Claus Peter</td>\n",
       "      <td>male</td>\n",
       "      <td>41.0</td>\n",
       "      <td>2</td>\n",
       "      <td>0</td>\n",
       "      <td>350026</td>\n",
       "      <td>14.1083</td>\n",
       "      <td>NaN</td>\n",
       "      <td>S</td>\n",
       "      <td>NaN</td>\n",
       "      <td>Mr.</td>\n",
       "      <td>Mr.</td>\n",
       "      <td>41.000000</td>\n",
       "      <td>4</td>\n",
       "      <td>3</td>\n",
       "    </tr>\n",
       "    <tr>\n",
       "      <th>869</th>\n",
       "      <td>1</td>\n",
       "      <td>3</td>\n",
       "      <td>Johnson, Master. Harold Theodor</td>\n",
       "      <td>male</td>\n",
       "      <td>4.0</td>\n",
       "      <td>1</td>\n",
       "      <td>1</td>\n",
       "      <td>347742</td>\n",
       "      <td>11.1333</td>\n",
       "      <td>NaN</td>\n",
       "      <td>S</td>\n",
       "      <td>NaN</td>\n",
       "      <td>Master.</td>\n",
       "      <td>Master.</td>\n",
       "      <td>4.000000</td>\n",
       "      <td>0</td>\n",
       "      <td>3</td>\n",
       "    </tr>\n",
       "    <tr>\n",
       "      <th>871</th>\n",
       "      <td>1</td>\n",
       "      <td>1</td>\n",
       "      <td>Beckwith, Mrs. Richard Leonard (Sallie Monypeny)</td>\n",
       "      <td>female</td>\n",
       "      <td>47.0</td>\n",
       "      <td>1</td>\n",
       "      <td>1</td>\n",
       "      <td>11751</td>\n",
       "      <td>52.5542</td>\n",
       "      <td>D35</td>\n",
       "      <td>S</td>\n",
       "      <td>D</td>\n",
       "      <td>Mrs.</td>\n",
       "      <td>Mrs.</td>\n",
       "      <td>47.000000</td>\n",
       "      <td>4</td>\n",
       "      <td>3</td>\n",
       "    </tr>\n",
       "  </tbody>\n",
       "</table>\n",
       "<p>102 rows × 17 columns</p>\n",
       "</div>"
      ],
      "text/plain": [
       "     survived  pclass                                               name  \\\n",
       "8           1       3  Johnson, Mrs. Oscar W (Elisabeth Vilhelmina Berg)   \n",
       "10          1       3                    Sandstrom, Miss. Marguerite Rut   \n",
       "38          0       3                 Vander Planke, Miss. Augusta Maria   \n",
       "48          0       3                                Samaan, Mr. Youssef   \n",
       "65          1       3                           Moubarek, Master. Gerios   \n",
       "..        ...     ...                                                ...   \n",
       "852         0       3                            Boulos, Miss. Nourelain   \n",
       "856         1       1         Wick, Mrs. George Dennick (Mary Hitchcock)   \n",
       "860         0       3                            Hansen, Mr. Claus Peter   \n",
       "869         1       3                    Johnson, Master. Harold Theodor   \n",
       "871         1       1   Beckwith, Mrs. Richard Leonard (Sallie Monypeny)   \n",
       "\n",
       "        sex   age  sibsp  parch   ticket      fare cabin embarked cabin2  \\\n",
       "8    female  27.0      0      2   347742   11.1333   NaN        S    NaN   \n",
       "10   female   4.0      1      1  PP 9549   16.7000    G6        S      G   \n",
       "38   female  18.0      2      0   345764   18.0000   NaN        S    NaN   \n",
       "48     male   NaN      2      0     2662   21.6792   NaN        C    NaN   \n",
       "65     male   NaN      1      1     2661   15.2458   NaN        C    NaN   \n",
       "..      ...   ...    ...    ...      ...       ...   ...      ...    ...   \n",
       "852  female   9.0      1      1     2678   15.2458   NaN        C    NaN   \n",
       "856  female  45.0      1      1    36928  164.8667   NaN        S    NaN   \n",
       "860    male  41.0      2      0   350026   14.1083   NaN        S    NaN   \n",
       "869    male   4.0      1      1   347742   11.1333   NaN        S    NaN   \n",
       "871  female  47.0      1      1    11751   52.5542   D35        S      D   \n",
       "\n",
       "    name_title name_title2       age2  age_gugan  family  \n",
       "8         Mrs.        Mrs.  27.000000          2       3  \n",
       "10       Miss.       Miss.   4.000000          0       3  \n",
       "38       Miss.       Miss.  18.000000          1       3  \n",
       "48         Mr.         Mr.  32.891990          3       3  \n",
       "65     Master.     Master.   4.574167          0       3  \n",
       "..         ...         ...        ...        ...     ...  \n",
       "852      Miss.       Miss.   9.000000          0       3  \n",
       "856       Mrs.        Mrs.  45.000000          4       3  \n",
       "860        Mr.         Mr.  41.000000          4       3  \n",
       "869    Master.     Master.   4.000000          0       3  \n",
       "871       Mrs.        Mrs.  47.000000          4       3  \n",
       "\n",
       "[102 rows x 17 columns]"
      ]
     },
     "execution_count": 97,
     "metadata": {},
     "output_type": "execute_result"
    }
   ],
   "source": [
    "train[train['family']==3]"
   ]
  },
  {
   "cell_type": "markdown",
   "id": "7c16b1a8-0117-4af5-8091-a489f5797f17",
   "metadata": {},
   "source": [
    "## fare per family\n",
    "* 두당요금 : 'ticket', ('sibsp', 'parch'), 'fare', 'pclass' 관계"
   ]
  },
  {
   "cell_type": "code",
   "execution_count": 98,
   "id": "28c5eb6b-44cd-43ec-aba8-852efbe998ed",
   "metadata": {
    "tags": []
   },
   "outputs": [
    {
     "data": {
      "text/html": [
       "<div>\n",
       "<style scoped>\n",
       "    .dataframe tbody tr th:only-of-type {\n",
       "        vertical-align: middle;\n",
       "    }\n",
       "\n",
       "    .dataframe tbody tr th {\n",
       "        vertical-align: top;\n",
       "    }\n",
       "\n",
       "    .dataframe thead th {\n",
       "        text-align: right;\n",
       "    }\n",
       "</style>\n",
       "<table border=\"1\" class=\"dataframe\">\n",
       "  <thead>\n",
       "    <tr style=\"text-align: right;\">\n",
       "      <th></th>\n",
       "      <th>survived</th>\n",
       "      <th>pclass</th>\n",
       "      <th>name</th>\n",
       "      <th>sex</th>\n",
       "      <th>age</th>\n",
       "      <th>sibsp</th>\n",
       "      <th>parch</th>\n",
       "      <th>ticket</th>\n",
       "      <th>fare</th>\n",
       "      <th>cabin</th>\n",
       "      <th>embarked</th>\n",
       "      <th>cabin2</th>\n",
       "      <th>name_title</th>\n",
       "      <th>name_title2</th>\n",
       "      <th>age2</th>\n",
       "      <th>age_gugan</th>\n",
       "      <th>family</th>\n",
       "      <th>fare2</th>\n",
       "    </tr>\n",
       "  </thead>\n",
       "  <tbody>\n",
       "    <tr>\n",
       "      <th>0</th>\n",
       "      <td>0</td>\n",
       "      <td>3</td>\n",
       "      <td>Braund, Mr. Owen Harris</td>\n",
       "      <td>male</td>\n",
       "      <td>22.0</td>\n",
       "      <td>1</td>\n",
       "      <td>0</td>\n",
       "      <td>A/5 21171</td>\n",
       "      <td>7.2500</td>\n",
       "      <td>NaN</td>\n",
       "      <td>S</td>\n",
       "      <td>NaN</td>\n",
       "      <td>Mr.</td>\n",
       "      <td>Mr.</td>\n",
       "      <td>22.0</td>\n",
       "      <td>2</td>\n",
       "      <td>2</td>\n",
       "      <td>3.62500</td>\n",
       "    </tr>\n",
       "    <tr>\n",
       "      <th>1</th>\n",
       "      <td>1</td>\n",
       "      <td>1</td>\n",
       "      <td>Cumings, Mrs. John Bradley (Florence Briggs Th...</td>\n",
       "      <td>female</td>\n",
       "      <td>38.0</td>\n",
       "      <td>1</td>\n",
       "      <td>0</td>\n",
       "      <td>PC 17599</td>\n",
       "      <td>71.2833</td>\n",
       "      <td>C85</td>\n",
       "      <td>C</td>\n",
       "      <td>C</td>\n",
       "      <td>Mrs.</td>\n",
       "      <td>Mrs.</td>\n",
       "      <td>38.0</td>\n",
       "      <td>3</td>\n",
       "      <td>2</td>\n",
       "      <td>35.64165</td>\n",
       "    </tr>\n",
       "    <tr>\n",
       "      <th>2</th>\n",
       "      <td>1</td>\n",
       "      <td>3</td>\n",
       "      <td>Heikkinen, Miss. Laina</td>\n",
       "      <td>female</td>\n",
       "      <td>26.0</td>\n",
       "      <td>0</td>\n",
       "      <td>0</td>\n",
       "      <td>STON/O2. 3101282</td>\n",
       "      <td>7.9250</td>\n",
       "      <td>NaN</td>\n",
       "      <td>S</td>\n",
       "      <td>NaN</td>\n",
       "      <td>Miss.</td>\n",
       "      <td>Miss.</td>\n",
       "      <td>26.0</td>\n",
       "      <td>2</td>\n",
       "      <td>1</td>\n",
       "      <td>7.92500</td>\n",
       "    </tr>\n",
       "  </tbody>\n",
       "</table>\n",
       "</div>"
      ],
      "text/plain": [
       "   survived  pclass                                               name  \\\n",
       "0         0       3                            Braund, Mr. Owen Harris   \n",
       "1         1       1  Cumings, Mrs. John Bradley (Florence Briggs Th...   \n",
       "2         1       3                             Heikkinen, Miss. Laina   \n",
       "\n",
       "      sex   age  sibsp  parch            ticket     fare cabin embarked  \\\n",
       "0    male  22.0      1      0         A/5 21171   7.2500   NaN        S   \n",
       "1  female  38.0      1      0          PC 17599  71.2833   C85        C   \n",
       "2  female  26.0      0      0  STON/O2. 3101282   7.9250   NaN        S   \n",
       "\n",
       "  cabin2 name_title name_title2  age2  age_gugan  family     fare2  \n",
       "0    NaN        Mr.         Mr.  22.0          2       2   3.62500  \n",
       "1      C       Mrs.        Mrs.  38.0          3       2  35.64165  \n",
       "2    NaN      Miss.       Miss.  26.0          2       1   7.92500  "
      ]
     },
     "execution_count": 98,
     "metadata": {},
     "output_type": "execute_result"
    }
   ],
   "source": [
    "train['fare2'] = train['fare'] / train['family']\n",
    "train.head(3)"
   ]
  },
  {
   "cell_type": "code",
   "execution_count": 99,
   "id": "3775cdcc-cfc7-47a6-a206-e606df93304a",
   "metadata": {
    "tags": []
   },
   "outputs": [
    {
     "data": {
      "text/html": [
       "<div>\n",
       "<style scoped>\n",
       "    .dataframe tbody tr th:only-of-type {\n",
       "        vertical-align: middle;\n",
       "    }\n",
       "\n",
       "    .dataframe tbody tr th {\n",
       "        vertical-align: top;\n",
       "    }\n",
       "\n",
       "    .dataframe thead th {\n",
       "        text-align: right;\n",
       "    }\n",
       "</style>\n",
       "<table border=\"1\" class=\"dataframe\">\n",
       "  <thead>\n",
       "    <tr style=\"text-align: right;\">\n",
       "      <th></th>\n",
       "      <th>survived</th>\n",
       "      <th>pclass</th>\n",
       "      <th>name</th>\n",
       "      <th>sex</th>\n",
       "      <th>age</th>\n",
       "      <th>sibsp</th>\n",
       "      <th>parch</th>\n",
       "      <th>ticket</th>\n",
       "      <th>fare</th>\n",
       "      <th>cabin</th>\n",
       "      <th>embarked</th>\n",
       "      <th>cabin2</th>\n",
       "      <th>name_title</th>\n",
       "      <th>name_title2</th>\n",
       "      <th>age2</th>\n",
       "      <th>age_gugan</th>\n",
       "      <th>family</th>\n",
       "      <th>fare2</th>\n",
       "    </tr>\n",
       "  </thead>\n",
       "  <tbody>\n",
       "    <tr>\n",
       "      <th>179</th>\n",
       "      <td>0</td>\n",
       "      <td>3</td>\n",
       "      <td>Leonard, Mr. Lionel</td>\n",
       "      <td>male</td>\n",
       "      <td>36.0</td>\n",
       "      <td>0</td>\n",
       "      <td>0</td>\n",
       "      <td>LINE</td>\n",
       "      <td>0.0</td>\n",
       "      <td>NaN</td>\n",
       "      <td>S</td>\n",
       "      <td>NaN</td>\n",
       "      <td>Mr.</td>\n",
       "      <td>Mr.</td>\n",
       "      <td>36.00000</td>\n",
       "      <td>3</td>\n",
       "      <td>1</td>\n",
       "      <td>0.0</td>\n",
       "    </tr>\n",
       "    <tr>\n",
       "      <th>263</th>\n",
       "      <td>0</td>\n",
       "      <td>1</td>\n",
       "      <td>Harrison, Mr. William</td>\n",
       "      <td>male</td>\n",
       "      <td>40.0</td>\n",
       "      <td>0</td>\n",
       "      <td>0</td>\n",
       "      <td>112059</td>\n",
       "      <td>0.0</td>\n",
       "      <td>B94</td>\n",
       "      <td>S</td>\n",
       "      <td>B</td>\n",
       "      <td>Mr.</td>\n",
       "      <td>Mr.</td>\n",
       "      <td>40.00000</td>\n",
       "      <td>4</td>\n",
       "      <td>1</td>\n",
       "      <td>0.0</td>\n",
       "    </tr>\n",
       "    <tr>\n",
       "      <th>271</th>\n",
       "      <td>1</td>\n",
       "      <td>3</td>\n",
       "      <td>Tornquist, Mr. William Henry</td>\n",
       "      <td>male</td>\n",
       "      <td>25.0</td>\n",
       "      <td>0</td>\n",
       "      <td>0</td>\n",
       "      <td>LINE</td>\n",
       "      <td>0.0</td>\n",
       "      <td>NaN</td>\n",
       "      <td>S</td>\n",
       "      <td>NaN</td>\n",
       "      <td>Mr.</td>\n",
       "      <td>Mr.</td>\n",
       "      <td>25.00000</td>\n",
       "      <td>2</td>\n",
       "      <td>1</td>\n",
       "      <td>0.0</td>\n",
       "    </tr>\n",
       "    <tr>\n",
       "      <th>277</th>\n",
       "      <td>0</td>\n",
       "      <td>2</td>\n",
       "      <td>Parkes, Mr. Francis \"Frank\"</td>\n",
       "      <td>male</td>\n",
       "      <td>NaN</td>\n",
       "      <td>0</td>\n",
       "      <td>0</td>\n",
       "      <td>239853</td>\n",
       "      <td>0.0</td>\n",
       "      <td>NaN</td>\n",
       "      <td>S</td>\n",
       "      <td>NaN</td>\n",
       "      <td>Mr.</td>\n",
       "      <td>Mr.</td>\n",
       "      <td>32.89199</td>\n",
       "      <td>3</td>\n",
       "      <td>1</td>\n",
       "      <td>0.0</td>\n",
       "    </tr>\n",
       "    <tr>\n",
       "      <th>302</th>\n",
       "      <td>0</td>\n",
       "      <td>3</td>\n",
       "      <td>Johnson, Mr. William Cahoone Jr</td>\n",
       "      <td>male</td>\n",
       "      <td>19.0</td>\n",
       "      <td>0</td>\n",
       "      <td>0</td>\n",
       "      <td>LINE</td>\n",
       "      <td>0.0</td>\n",
       "      <td>NaN</td>\n",
       "      <td>S</td>\n",
       "      <td>NaN</td>\n",
       "      <td>Mr.</td>\n",
       "      <td>Mr.</td>\n",
       "      <td>19.00000</td>\n",
       "      <td>1</td>\n",
       "      <td>1</td>\n",
       "      <td>0.0</td>\n",
       "    </tr>\n",
       "    <tr>\n",
       "      <th>413</th>\n",
       "      <td>0</td>\n",
       "      <td>2</td>\n",
       "      <td>Cunningham, Mr. Alfred Fleming</td>\n",
       "      <td>male</td>\n",
       "      <td>NaN</td>\n",
       "      <td>0</td>\n",
       "      <td>0</td>\n",
       "      <td>239853</td>\n",
       "      <td>0.0</td>\n",
       "      <td>NaN</td>\n",
       "      <td>S</td>\n",
       "      <td>NaN</td>\n",
       "      <td>Mr.</td>\n",
       "      <td>Mr.</td>\n",
       "      <td>32.89199</td>\n",
       "      <td>3</td>\n",
       "      <td>1</td>\n",
       "      <td>0.0</td>\n",
       "    </tr>\n",
       "    <tr>\n",
       "      <th>466</th>\n",
       "      <td>0</td>\n",
       "      <td>2</td>\n",
       "      <td>Campbell, Mr. William</td>\n",
       "      <td>male</td>\n",
       "      <td>NaN</td>\n",
       "      <td>0</td>\n",
       "      <td>0</td>\n",
       "      <td>239853</td>\n",
       "      <td>0.0</td>\n",
       "      <td>NaN</td>\n",
       "      <td>S</td>\n",
       "      <td>NaN</td>\n",
       "      <td>Mr.</td>\n",
       "      <td>Mr.</td>\n",
       "      <td>32.89199</td>\n",
       "      <td>3</td>\n",
       "      <td>1</td>\n",
       "      <td>0.0</td>\n",
       "    </tr>\n",
       "    <tr>\n",
       "      <th>481</th>\n",
       "      <td>0</td>\n",
       "      <td>2</td>\n",
       "      <td>Frost, Mr. Anthony Wood \"Archie\"</td>\n",
       "      <td>male</td>\n",
       "      <td>NaN</td>\n",
       "      <td>0</td>\n",
       "      <td>0</td>\n",
       "      <td>239854</td>\n",
       "      <td>0.0</td>\n",
       "      <td>NaN</td>\n",
       "      <td>S</td>\n",
       "      <td>NaN</td>\n",
       "      <td>Mr.</td>\n",
       "      <td>Mr.</td>\n",
       "      <td>32.89199</td>\n",
       "      <td>3</td>\n",
       "      <td>1</td>\n",
       "      <td>0.0</td>\n",
       "    </tr>\n",
       "    <tr>\n",
       "      <th>597</th>\n",
       "      <td>0</td>\n",
       "      <td>3</td>\n",
       "      <td>Johnson, Mr. Alfred</td>\n",
       "      <td>male</td>\n",
       "      <td>49.0</td>\n",
       "      <td>0</td>\n",
       "      <td>0</td>\n",
       "      <td>LINE</td>\n",
       "      <td>0.0</td>\n",
       "      <td>NaN</td>\n",
       "      <td>S</td>\n",
       "      <td>NaN</td>\n",
       "      <td>Mr.</td>\n",
       "      <td>Mr.</td>\n",
       "      <td>49.00000</td>\n",
       "      <td>4</td>\n",
       "      <td>1</td>\n",
       "      <td>0.0</td>\n",
       "    </tr>\n",
       "    <tr>\n",
       "      <th>633</th>\n",
       "      <td>0</td>\n",
       "      <td>1</td>\n",
       "      <td>Parr, Mr. William Henry Marsh</td>\n",
       "      <td>male</td>\n",
       "      <td>NaN</td>\n",
       "      <td>0</td>\n",
       "      <td>0</td>\n",
       "      <td>112052</td>\n",
       "      <td>0.0</td>\n",
       "      <td>NaN</td>\n",
       "      <td>S</td>\n",
       "      <td>NaN</td>\n",
       "      <td>Mr.</td>\n",
       "      <td>Mr.</td>\n",
       "      <td>32.89199</td>\n",
       "      <td>3</td>\n",
       "      <td>1</td>\n",
       "      <td>0.0</td>\n",
       "    </tr>\n",
       "    <tr>\n",
       "      <th>674</th>\n",
       "      <td>0</td>\n",
       "      <td>2</td>\n",
       "      <td>Watson, Mr. Ennis Hastings</td>\n",
       "      <td>male</td>\n",
       "      <td>NaN</td>\n",
       "      <td>0</td>\n",
       "      <td>0</td>\n",
       "      <td>239856</td>\n",
       "      <td>0.0</td>\n",
       "      <td>NaN</td>\n",
       "      <td>S</td>\n",
       "      <td>NaN</td>\n",
       "      <td>Mr.</td>\n",
       "      <td>Mr.</td>\n",
       "      <td>32.89199</td>\n",
       "      <td>3</td>\n",
       "      <td>1</td>\n",
       "      <td>0.0</td>\n",
       "    </tr>\n",
       "    <tr>\n",
       "      <th>732</th>\n",
       "      <td>0</td>\n",
       "      <td>2</td>\n",
       "      <td>Knight, Mr. Robert J</td>\n",
       "      <td>male</td>\n",
       "      <td>NaN</td>\n",
       "      <td>0</td>\n",
       "      <td>0</td>\n",
       "      <td>239855</td>\n",
       "      <td>0.0</td>\n",
       "      <td>NaN</td>\n",
       "      <td>S</td>\n",
       "      <td>NaN</td>\n",
       "      <td>Mr.</td>\n",
       "      <td>Mr.</td>\n",
       "      <td>32.89199</td>\n",
       "      <td>3</td>\n",
       "      <td>1</td>\n",
       "      <td>0.0</td>\n",
       "    </tr>\n",
       "    <tr>\n",
       "      <th>806</th>\n",
       "      <td>0</td>\n",
       "      <td>1</td>\n",
       "      <td>Andrews, Mr. Thomas Jr</td>\n",
       "      <td>male</td>\n",
       "      <td>39.0</td>\n",
       "      <td>0</td>\n",
       "      <td>0</td>\n",
       "      <td>112050</td>\n",
       "      <td>0.0</td>\n",
       "      <td>A36</td>\n",
       "      <td>S</td>\n",
       "      <td>A</td>\n",
       "      <td>Mr.</td>\n",
       "      <td>Mr.</td>\n",
       "      <td>39.00000</td>\n",
       "      <td>3</td>\n",
       "      <td>1</td>\n",
       "      <td>0.0</td>\n",
       "    </tr>\n",
       "    <tr>\n",
       "      <th>815</th>\n",
       "      <td>0</td>\n",
       "      <td>1</td>\n",
       "      <td>Fry, Mr. Richard</td>\n",
       "      <td>male</td>\n",
       "      <td>NaN</td>\n",
       "      <td>0</td>\n",
       "      <td>0</td>\n",
       "      <td>112058</td>\n",
       "      <td>0.0</td>\n",
       "      <td>B102</td>\n",
       "      <td>S</td>\n",
       "      <td>B</td>\n",
       "      <td>Mr.</td>\n",
       "      <td>Mr.</td>\n",
       "      <td>32.89199</td>\n",
       "      <td>3</td>\n",
       "      <td>1</td>\n",
       "      <td>0.0</td>\n",
       "    </tr>\n",
       "    <tr>\n",
       "      <th>822</th>\n",
       "      <td>0</td>\n",
       "      <td>1</td>\n",
       "      <td>Reuchlin, Jonkheer. John George</td>\n",
       "      <td>male</td>\n",
       "      <td>38.0</td>\n",
       "      <td>0</td>\n",
       "      <td>0</td>\n",
       "      <td>19972</td>\n",
       "      <td>0.0</td>\n",
       "      <td>NaN</td>\n",
       "      <td>S</td>\n",
       "      <td>NaN</td>\n",
       "      <td>Jonkheer.</td>\n",
       "      <td>Mr.</td>\n",
       "      <td>38.00000</td>\n",
       "      <td>3</td>\n",
       "      <td>1</td>\n",
       "      <td>0.0</td>\n",
       "    </tr>\n",
       "  </tbody>\n",
       "</table>\n",
       "</div>"
      ],
      "text/plain": [
       "     survived  pclass                              name   sex   age  sibsp  \\\n",
       "179         0       3               Leonard, Mr. Lionel  male  36.0      0   \n",
       "263         0       1             Harrison, Mr. William  male  40.0      0   \n",
       "271         1       3      Tornquist, Mr. William Henry  male  25.0      0   \n",
       "277         0       2       Parkes, Mr. Francis \"Frank\"  male   NaN      0   \n",
       "302         0       3   Johnson, Mr. William Cahoone Jr  male  19.0      0   \n",
       "413         0       2    Cunningham, Mr. Alfred Fleming  male   NaN      0   \n",
       "466         0       2             Campbell, Mr. William  male   NaN      0   \n",
       "481         0       2  Frost, Mr. Anthony Wood \"Archie\"  male   NaN      0   \n",
       "597         0       3               Johnson, Mr. Alfred  male  49.0      0   \n",
       "633         0       1     Parr, Mr. William Henry Marsh  male   NaN      0   \n",
       "674         0       2        Watson, Mr. Ennis Hastings  male   NaN      0   \n",
       "732         0       2              Knight, Mr. Robert J  male   NaN      0   \n",
       "806         0       1            Andrews, Mr. Thomas Jr  male  39.0      0   \n",
       "815         0       1                  Fry, Mr. Richard  male   NaN      0   \n",
       "822         0       1   Reuchlin, Jonkheer. John George  male  38.0      0   \n",
       "\n",
       "     parch  ticket  fare cabin embarked cabin2 name_title name_title2  \\\n",
       "179      0    LINE   0.0   NaN        S    NaN        Mr.         Mr.   \n",
       "263      0  112059   0.0   B94        S      B        Mr.         Mr.   \n",
       "271      0    LINE   0.0   NaN        S    NaN        Mr.         Mr.   \n",
       "277      0  239853   0.0   NaN        S    NaN        Mr.         Mr.   \n",
       "302      0    LINE   0.0   NaN        S    NaN        Mr.         Mr.   \n",
       "413      0  239853   0.0   NaN        S    NaN        Mr.         Mr.   \n",
       "466      0  239853   0.0   NaN        S    NaN        Mr.         Mr.   \n",
       "481      0  239854   0.0   NaN        S    NaN        Mr.         Mr.   \n",
       "597      0    LINE   0.0   NaN        S    NaN        Mr.         Mr.   \n",
       "633      0  112052   0.0   NaN        S    NaN        Mr.         Mr.   \n",
       "674      0  239856   0.0   NaN        S    NaN        Mr.         Mr.   \n",
       "732      0  239855   0.0   NaN        S    NaN        Mr.         Mr.   \n",
       "806      0  112050   0.0   A36        S      A        Mr.         Mr.   \n",
       "815      0  112058   0.0  B102        S      B        Mr.         Mr.   \n",
       "822      0   19972   0.0   NaN        S    NaN  Jonkheer.         Mr.   \n",
       "\n",
       "         age2  age_gugan  family  fare2  \n",
       "179  36.00000          3       1    0.0  \n",
       "263  40.00000          4       1    0.0  \n",
       "271  25.00000          2       1    0.0  \n",
       "277  32.89199          3       1    0.0  \n",
       "302  19.00000          1       1    0.0  \n",
       "413  32.89199          3       1    0.0  \n",
       "466  32.89199          3       1    0.0  \n",
       "481  32.89199          3       1    0.0  \n",
       "597  49.00000          4       1    0.0  \n",
       "633  32.89199          3       1    0.0  \n",
       "674  32.89199          3       1    0.0  \n",
       "732  32.89199          3       1    0.0  \n",
       "806  39.00000          3       1    0.0  \n",
       "815  32.89199          3       1    0.0  \n",
       "822  38.00000          3       1    0.0  "
      ]
     },
     "execution_count": 99,
     "metadata": {},
     "output_type": "execute_result"
    }
   ],
   "source": [
    "# free_fare_yn = 1 무료탑승자(승무원?)는 생존확률이 희박하다\n",
    "train[train['fare2']==0]"
   ]
  },
  {
   "cell_type": "code",
   "execution_count": 100,
   "id": "13c91ef1-b9ff-4f47-9ccb-82599a128bab",
   "metadata": {
    "tags": []
   },
   "outputs": [
    {
     "data": {
      "text/plain": [
       "(0.0, 512.3292)"
      ]
     },
     "execution_count": 100,
     "metadata": {},
     "output_type": "execute_result"
    }
   ],
   "source": [
    "train['fare2'].min(), train['fare2'].max()"
   ]
  },
  {
   "cell_type": "code",
   "execution_count": 101,
   "id": "034368ef-9702-45b6-aa4b-5473e8ee2d66",
   "metadata": {
    "tags": []
   },
   "outputs": [
    {
     "data": {
      "text/html": [
       "<div>\n",
       "<style scoped>\n",
       "    .dataframe tbody tr th:only-of-type {\n",
       "        vertical-align: middle;\n",
       "    }\n",
       "\n",
       "    .dataframe tbody tr th {\n",
       "        vertical-align: top;\n",
       "    }\n",
       "\n",
       "    .dataframe thead th {\n",
       "        text-align: right;\n",
       "    }\n",
       "</style>\n",
       "<table border=\"1\" class=\"dataframe\">\n",
       "  <thead>\n",
       "    <tr style=\"text-align: right;\">\n",
       "      <th></th>\n",
       "      <th>survived</th>\n",
       "      <th>pclass</th>\n",
       "      <th>name</th>\n",
       "      <th>sex</th>\n",
       "      <th>age</th>\n",
       "      <th>sibsp</th>\n",
       "      <th>parch</th>\n",
       "      <th>ticket</th>\n",
       "      <th>fare</th>\n",
       "      <th>cabin</th>\n",
       "      <th>embarked</th>\n",
       "      <th>cabin2</th>\n",
       "      <th>name_title</th>\n",
       "      <th>name_title2</th>\n",
       "      <th>age2</th>\n",
       "      <th>age_gugan</th>\n",
       "      <th>family</th>\n",
       "      <th>fare2</th>\n",
       "    </tr>\n",
       "  </thead>\n",
       "  <tbody>\n",
       "    <tr>\n",
       "      <th>258</th>\n",
       "      <td>1</td>\n",
       "      <td>1</td>\n",
       "      <td>Ward, Miss. Anna</td>\n",
       "      <td>female</td>\n",
       "      <td>35.0</td>\n",
       "      <td>0</td>\n",
       "      <td>0</td>\n",
       "      <td>PC 17755</td>\n",
       "      <td>512.3292</td>\n",
       "      <td>NaN</td>\n",
       "      <td>C</td>\n",
       "      <td>NaN</td>\n",
       "      <td>Miss.</td>\n",
       "      <td>Miss.</td>\n",
       "      <td>35.0</td>\n",
       "      <td>3</td>\n",
       "      <td>1</td>\n",
       "      <td>512.3292</td>\n",
       "    </tr>\n",
       "    <tr>\n",
       "      <th>737</th>\n",
       "      <td>1</td>\n",
       "      <td>1</td>\n",
       "      <td>Lesurer, Mr. Gustave J</td>\n",
       "      <td>male</td>\n",
       "      <td>35.0</td>\n",
       "      <td>0</td>\n",
       "      <td>0</td>\n",
       "      <td>PC 17755</td>\n",
       "      <td>512.3292</td>\n",
       "      <td>B101</td>\n",
       "      <td>C</td>\n",
       "      <td>B</td>\n",
       "      <td>Mr.</td>\n",
       "      <td>Mr.</td>\n",
       "      <td>35.0</td>\n",
       "      <td>3</td>\n",
       "      <td>1</td>\n",
       "      <td>512.3292</td>\n",
       "    </tr>\n",
       "  </tbody>\n",
       "</table>\n",
       "</div>"
      ],
      "text/plain": [
       "     survived  pclass                    name     sex   age  sibsp  parch  \\\n",
       "258         1       1        Ward, Miss. Anna  female  35.0      0      0   \n",
       "737         1       1  Lesurer, Mr. Gustave J    male  35.0      0      0   \n",
       "\n",
       "       ticket      fare cabin embarked cabin2 name_title name_title2  age2  \\\n",
       "258  PC 17755  512.3292   NaN        C    NaN      Miss.       Miss.  35.0   \n",
       "737  PC 17755  512.3292  B101        C      B        Mr.         Mr.  35.0   \n",
       "\n",
       "     age_gugan  family     fare2  \n",
       "258          3       1  512.3292  \n",
       "737          3       1  512.3292  "
      ]
     },
     "execution_count": 101,
     "metadata": {},
     "output_type": "execute_result"
    }
   ],
   "source": [
    "train[train['fare2'] ==  train['fare2'].max()]"
   ]
  },
  {
   "cell_type": "markdown",
   "id": "4bc3afba-9333-44d6-a129-98d965b4d4e9",
   "metadata": {
    "tags": []
   },
   "source": [
    "## 삭제 대상 컬럼\n",
    "* passengerid : 유니크값 (가장먼저 삭제)\n",
    "* 파생 피쳐 생성으로 인한 불필요 컬럼 \n",
    "    * 'age' --> 'age2'(결측처리) --> 'age_gugan' (나이구간화)\n",
    "    * 'sibsp', 'parch' --> 'family'\n",
    "    * 'ticket', 'cabin', 'embarked'\n",
    "    * 'name' --> 'name_title'(호칭다..) --> 'name_title2'(5개로정리)\n",
    "    * 'fare' --> 'fare2'(두당요금)"
   ]
  },
  {
   "cell_type": "code",
   "execution_count": 102,
   "id": "f1026c23-03c5-4ae6-af18-35c0e4641943",
   "metadata": {
    "tags": []
   },
   "outputs": [
    {
     "data": {
      "text/plain": [
       "Index(['survived', 'pclass', 'name', 'sex', 'age', 'sibsp', 'parch', 'ticket',\n",
       "       'fare', 'cabin', 'embarked', 'cabin2', 'name_title', 'name_title2',\n",
       "       'age2', 'age_gugan', 'family', 'fare2'],\n",
       "      dtype='object')"
      ]
     },
     "execution_count": 102,
     "metadata": {},
     "output_type": "execute_result"
    }
   ],
   "source": [
    "train.columns"
   ]
  },
  {
   "cell_type": "markdown",
   "id": "c33595c1-5a22-4919-b9f2-a7314f8a1148",
   "metadata": {},
   "source": [
    "* 불필요컬럼 삭제 or 필요한컬럼만복제"
   ]
  },
  {
   "cell_type": "code",
   "execution_count": 103,
   "id": "d737c688-d2a3-4010-8407-46658cb9943b",
   "metadata": {
    "tags": []
   },
   "outputs": [],
   "source": [
    "# train.drop(['name','name_title'], axis=1, inplace=True)"
   ]
  },
  {
   "cell_type": "code",
   "execution_count": 104,
   "id": "f2daaf34-ab0f-4de2-9d18-ae565ee5e83b",
   "metadata": {
    "tags": []
   },
   "outputs": [
    {
     "data": {
      "text/html": [
       "<div>\n",
       "<style scoped>\n",
       "    .dataframe tbody tr th:only-of-type {\n",
       "        vertical-align: middle;\n",
       "    }\n",
       "\n",
       "    .dataframe tbody tr th {\n",
       "        vertical-align: top;\n",
       "    }\n",
       "\n",
       "    .dataframe thead th {\n",
       "        text-align: right;\n",
       "    }\n",
       "</style>\n",
       "<table border=\"1\" class=\"dataframe\">\n",
       "  <thead>\n",
       "    <tr style=\"text-align: right;\">\n",
       "      <th></th>\n",
       "      <th>survived</th>\n",
       "      <th>pclass</th>\n",
       "      <th>sex</th>\n",
       "      <th>name_title2</th>\n",
       "      <th>age_gugan</th>\n",
       "      <th>family</th>\n",
       "      <th>age2</th>\n",
       "    </tr>\n",
       "  </thead>\n",
       "  <tbody>\n",
       "    <tr>\n",
       "      <th>0</th>\n",
       "      <td>0</td>\n",
       "      <td>3</td>\n",
       "      <td>male</td>\n",
       "      <td>Mr.</td>\n",
       "      <td>2</td>\n",
       "      <td>2</td>\n",
       "      <td>22.0</td>\n",
       "    </tr>\n",
       "    <tr>\n",
       "      <th>1</th>\n",
       "      <td>1</td>\n",
       "      <td>1</td>\n",
       "      <td>female</td>\n",
       "      <td>Mrs.</td>\n",
       "      <td>3</td>\n",
       "      <td>2</td>\n",
       "      <td>38.0</td>\n",
       "    </tr>\n",
       "    <tr>\n",
       "      <th>2</th>\n",
       "      <td>1</td>\n",
       "      <td>3</td>\n",
       "      <td>female</td>\n",
       "      <td>Miss.</td>\n",
       "      <td>2</td>\n",
       "      <td>1</td>\n",
       "      <td>26.0</td>\n",
       "    </tr>\n",
       "    <tr>\n",
       "      <th>3</th>\n",
       "      <td>1</td>\n",
       "      <td>1</td>\n",
       "      <td>female</td>\n",
       "      <td>Mrs.</td>\n",
       "      <td>3</td>\n",
       "      <td>2</td>\n",
       "      <td>35.0</td>\n",
       "    </tr>\n",
       "    <tr>\n",
       "      <th>4</th>\n",
       "      <td>0</td>\n",
       "      <td>3</td>\n",
       "      <td>male</td>\n",
       "      <td>Mr.</td>\n",
       "      <td>3</td>\n",
       "      <td>1</td>\n",
       "      <td>35.0</td>\n",
       "    </tr>\n",
       "  </tbody>\n",
       "</table>\n",
       "</div>"
      ],
      "text/plain": [
       "   survived  pclass     sex name_title2  age_gugan  family  age2\n",
       "0         0       3    male         Mr.          2       2  22.0\n",
       "1         1       1  female        Mrs.          3       2  38.0\n",
       "2         1       3  female       Miss.          2       1  26.0\n",
       "3         1       1  female        Mrs.          3       2  35.0\n",
       "4         0       3    male         Mr.          3       1  35.0"
      ]
     },
     "execution_count": 104,
     "metadata": {},
     "output_type": "execute_result"
    }
   ],
   "source": [
    "train = train[['survived', 'pclass', 'sex', 'name_title2','age_gugan', 'family', 'age2']].copy()\n",
    "train.head()"
   ]
  },
  {
   "cell_type": "markdown",
   "id": "3576c85d-739c-4267-8d51-fdaa3b07ae30",
   "metadata": {},
   "source": [
    "# 최종 피쳐\n",
    "* <font color=red size=4><b>결측 X\n",
    "* <font color=red size=4><b>object 타입 X"
   ]
  },
  {
   "cell_type": "markdown",
   "id": "5521658f-1c85-4243-8240-eb7f90040861",
   "metadata": {},
   "source": [
    "## 결측체크"
   ]
  },
  {
   "cell_type": "code",
   "execution_count": 105,
   "id": "79263f83-ea30-438d-9e2f-a049fac203ae",
   "metadata": {
    "tags": []
   },
   "outputs": [
    {
     "data": {
      "text/plain": [
       "survived       0\n",
       "pclass         0\n",
       "sex            0\n",
       "name_title2    0\n",
       "age_gugan      0\n",
       "family         0\n",
       "age2           0\n",
       "dtype: int64"
      ]
     },
     "execution_count": 105,
     "metadata": {},
     "output_type": "execute_result"
    }
   ],
   "source": [
    "train.isna().sum()"
   ]
  },
  {
   "cell_type": "markdown",
   "id": "8ef97d27-c260-4d6e-9a8c-d05f7710d36b",
   "metadata": {},
   "source": [
    "## Object타입 변경"
   ]
  },
  {
   "cell_type": "markdown",
   "id": "df2548da-4430-4e51-bbc3-761ad486fd35",
   "metadata": {},
   "source": [
    "### 타입 체크"
   ]
  },
  {
   "cell_type": "code",
   "execution_count": 106,
   "id": "0e0460c1-8c07-4ee1-9ba1-150d21b092c6",
   "metadata": {
    "tags": []
   },
   "outputs": [
    {
     "name": "stdout",
     "output_type": "stream",
     "text": [
      "<class 'pandas.core.frame.DataFrame'>\n",
      "RangeIndex: 891 entries, 0 to 890\n",
      "Data columns (total 7 columns):\n",
      " #   Column       Non-Null Count  Dtype  \n",
      "---  ------       --------------  -----  \n",
      " 0   survived     891 non-null    int64  \n",
      " 1   pclass       891 non-null    int64  \n",
      " 2   sex          891 non-null    object \n",
      " 3   name_title2  891 non-null    object \n",
      " 4   age_gugan    891 non-null    int32  \n",
      " 5   family       891 non-null    int64  \n",
      " 6   age2         891 non-null    float64\n",
      "dtypes: float64(1), int32(1), int64(3), object(2)\n",
      "memory usage: 45.4+ KB\n"
     ]
    }
   ],
   "source": [
    "train.info()"
   ]
  },
  {
   "cell_type": "code",
   "execution_count": 107,
   "id": "28e7cae8-aa93-49b6-8377-52c08a4bdc39",
   "metadata": {
    "tags": []
   },
   "outputs": [
    {
     "data": {
      "text/plain": [
       "Index(['sex', 'name_title2'], dtype='object')"
      ]
     },
     "execution_count": 107,
     "metadata": {},
     "output_type": "execute_result"
    }
   ],
   "source": [
    "train.select_dtypes(\"object\").columns"
   ]
  },
  {
   "cell_type": "code",
   "execution_count": 108,
   "id": "e433c2c1-63ba-4f34-bed7-8c61331cc932",
   "metadata": {
    "tags": []
   },
   "outputs": [
    {
     "data": {
      "text/plain": [
       "Index(['sex', 'name_title2'], dtype='object')"
      ]
     },
     "execution_count": 108,
     "metadata": {},
     "output_type": "execute_result"
    }
   ],
   "source": [
    "train.dtypes[ train.dtypes == 'object'].index"
   ]
  },
  {
   "cell_type": "markdown",
   "id": "8499bc49-d79c-4b82-aec6-18134c8b398e",
   "metadata": {},
   "source": [
    "### 변경대상 : sex, name_title2\n",
    "* replace()\n",
    "* map()\n",
    "* apply(lambda x..)\n",
    "* loc(줄, 칸)\n",
    "* <font color=red><b> pd.get_dummies() = 자동결측처리 + LabelEncoder() + OneHotEncoder()\n",
    "    * 사용 전 원하는 결측처리를 하고 사용 권장\n",
    "    \n",
    "<pre> \n",
    "* 참고용 :  lec10_Object처리_lkh.ipynb\n",
    "    * 라벨인코딩(Label Encoding)\n",
    "    * 원핫인코딩(One-hot Encoding)\n",
    "    * get_dummies()\n",
    "    * df[컬럼].astype(\"category\")"
   ]
  },
  {
   "cell_type": "code",
   "execution_count": 109,
   "id": "ef5ca818-3fc1-4e21-a12e-2ae720873a73",
   "metadata": {
    "tags": []
   },
   "outputs": [
    {
     "data": {
      "text/plain": [
       "(male      577\n",
       " female    314\n",
       " Name: sex, dtype: int64,\n",
       " Mr.        531\n",
       " Miss.      186\n",
       " Mrs.       127\n",
       " Master.     40\n",
       " Dr.          7\n",
       " Name: name_title2, dtype: int64)"
      ]
     },
     "execution_count": 109,
     "metadata": {},
     "output_type": "execute_result"
    }
   ],
   "source": [
    "# train[['sex', 'name_title2']].value_counts()\n",
    "train['sex'].value_counts(), train['name_title2'].value_counts()\n"
   ]
  },
  {
   "cell_type": "code",
   "execution_count": 112,
   "id": "27f50251-a5e8-45bb-b595-e8d40abf5e92",
   "metadata": {
    "tags": []
   },
   "outputs": [
    {
     "name": "stdout",
     "output_type": "stream",
     "text": [
      "<class 'pandas.core.frame.DataFrame'>\n",
      "RangeIndex: 891 entries, 0 to 890\n",
      "Data columns (total 7 columns):\n",
      " #   Column       Non-Null Count  Dtype  \n",
      "---  ------       --------------  -----  \n",
      " 0   survived     891 non-null    int64  \n",
      " 1   pclass       891 non-null    int64  \n",
      " 2   sex          891 non-null    object \n",
      " 3   name_title2  891 non-null    object \n",
      " 4   age_gugan    891 non-null    int32  \n",
      " 5   family       891 non-null    int64  \n",
      " 6   age2         891 non-null    float64\n",
      "dtypes: float64(1), int32(1), int64(3), object(2)\n",
      "memory usage: 45.4+ KB\n"
     ]
    }
   ],
   "source": [
    "train.info()"
   ]
  },
  {
   "cell_type": "markdown",
   "id": "8d39b6c1-baae-40bc-ad0a-0b29e2d03520",
   "metadata": {},
   "source": [
    "### 연습용\n",
    "* traincp"
   ]
  },
  {
   "cell_type": "code",
   "execution_count": 113,
   "id": "7cf3a7d5-f0f5-44a2-8e85-021dbf1ec6b8",
   "metadata": {
    "tags": []
   },
   "outputs": [],
   "source": [
    "traincp = train.copy()"
   ]
  },
  {
   "cell_type": "markdown",
   "id": "b4325da3-0ee8-40bd-8a9c-0f84af33ec4a",
   "metadata": {},
   "source": [
    "#### 라벨인코딩(Label Encoding)\n",
    "* sex object\n",
    "* male:1,  female:0 변경"
   ]
  },
  {
   "cell_type": "code",
   "execution_count": 114,
   "id": "74c59f25-b397-400e-9317-79e3ea981458",
   "metadata": {
    "tags": []
   },
   "outputs": [
    {
     "data": {
      "text/html": [
       "<div>\n",
       "<style scoped>\n",
       "    .dataframe tbody tr th:only-of-type {\n",
       "        vertical-align: middle;\n",
       "    }\n",
       "\n",
       "    .dataframe tbody tr th {\n",
       "        vertical-align: top;\n",
       "    }\n",
       "\n",
       "    .dataframe thead th {\n",
       "        text-align: right;\n",
       "    }\n",
       "</style>\n",
       "<table border=\"1\" class=\"dataframe\">\n",
       "  <thead>\n",
       "    <tr style=\"text-align: right;\">\n",
       "      <th></th>\n",
       "      <th>sex</th>\n",
       "      <th>sex_le</th>\n",
       "    </tr>\n",
       "  </thead>\n",
       "  <tbody>\n",
       "    <tr>\n",
       "      <th>0</th>\n",
       "      <td>male</td>\n",
       "      <td>1</td>\n",
       "    </tr>\n",
       "    <tr>\n",
       "      <th>1</th>\n",
       "      <td>female</td>\n",
       "      <td>0</td>\n",
       "    </tr>\n",
       "    <tr>\n",
       "      <th>2</th>\n",
       "      <td>female</td>\n",
       "      <td>0</td>\n",
       "    </tr>\n",
       "    <tr>\n",
       "      <th>3</th>\n",
       "      <td>female</td>\n",
       "      <td>0</td>\n",
       "    </tr>\n",
       "    <tr>\n",
       "      <th>4</th>\n",
       "      <td>male</td>\n",
       "      <td>1</td>\n",
       "    </tr>\n",
       "  </tbody>\n",
       "</table>\n",
       "</div>"
      ],
      "text/plain": [
       "      sex  sex_le\n",
       "0    male       1\n",
       "1  female       0\n",
       "2  female       0\n",
       "3  female       0\n",
       "4    male       1"
      ]
     },
     "execution_count": 114,
     "metadata": {},
     "output_type": "execute_result"
    }
   ],
   "source": [
    "from sklearn.preprocessing import LabelEncoder\n",
    "le = LabelEncoder()\n",
    "le.fit(traincp['sex'])\n",
    "traincp[\"sex_le\"]  = le.transform(traincp['sex'])\n",
    "traincp[['sex','sex_le']].head()"
   ]
  },
  {
   "cell_type": "markdown",
   "id": "82d069bb-86b2-450c-8409-227d77382b83",
   "metadata": {
    "tags": []
   },
   "source": [
    "#### 원핫인코딩(One-hot Encoding)\n",
    "* sex object\n",
    "* male:1,  female:0 변경"
   ]
  },
  {
   "cell_type": "code",
   "execution_count": 118,
   "id": "c748fbca-7f10-4fce-b652-b5590953637c",
   "metadata": {
    "tags": []
   },
   "outputs": [
    {
     "data": {
      "text/plain": [
       "array([['male'],\n",
       "       ['female'],\n",
       "       ['female'],\n",
       "       ['female'],\n",
       "       ['male']], dtype=object)"
      ]
     },
     "execution_count": 118,
     "metadata": {},
     "output_type": "execute_result"
    }
   ],
   "source": [
    "#train['sex'].reshape(-1, 1)  XXXX안된다.. reshape은 array 함수\n",
    "traincp['sex'].values.reshape(-1, 1)[:5]"
   ]
  },
  {
   "cell_type": "code",
   "execution_count": 115,
   "id": "85dbc1b1-9b27-4237-bdfc-d4706f5be8b0",
   "metadata": {
    "tags": []
   },
   "outputs": [
    {
     "data": {
      "text/html": [
       "<div>\n",
       "<style scoped>\n",
       "    .dataframe tbody tr th:only-of-type {\n",
       "        vertical-align: middle;\n",
       "    }\n",
       "\n",
       "    .dataframe tbody tr th {\n",
       "        vertical-align: top;\n",
       "    }\n",
       "\n",
       "    .dataframe thead th {\n",
       "        text-align: right;\n",
       "    }\n",
       "</style>\n",
       "<table border=\"1\" class=\"dataframe\">\n",
       "  <thead>\n",
       "    <tr style=\"text-align: right;\">\n",
       "      <th></th>\n",
       "      <th>female</th>\n",
       "      <th>male</th>\n",
       "    </tr>\n",
       "  </thead>\n",
       "  <tbody>\n",
       "    <tr>\n",
       "      <th>0</th>\n",
       "      <td>0</td>\n",
       "      <td>1</td>\n",
       "    </tr>\n",
       "    <tr>\n",
       "      <th>1</th>\n",
       "      <td>1</td>\n",
       "      <td>0</td>\n",
       "    </tr>\n",
       "    <tr>\n",
       "      <th>2</th>\n",
       "      <td>1</td>\n",
       "      <td>0</td>\n",
       "    </tr>\n",
       "    <tr>\n",
       "      <th>3</th>\n",
       "      <td>1</td>\n",
       "      <td>0</td>\n",
       "    </tr>\n",
       "    <tr>\n",
       "      <th>4</th>\n",
       "      <td>0</td>\n",
       "      <td>1</td>\n",
       "    </tr>\n",
       "  </tbody>\n",
       "</table>\n",
       "</div>"
      ],
      "text/plain": [
       "   female  male\n",
       "0       0     1\n",
       "1       1     0\n",
       "2       1     0\n",
       "3       1     0\n",
       "4       0     1"
      ]
     },
     "execution_count": 115,
     "metadata": {},
     "output_type": "execute_result"
    }
   ],
   "source": [
    "from sklearn.preprocessing import OneHotEncoder\n",
    "oh = OneHotEncoder(sparse=False, dtype=\"int\")\n",
    "oh.fit(traincp['sex'].values.reshape(-1, 1))              #--------metrics\n",
    "\n",
    "res = oh.transform(traincp['sex'].values.reshape(-1, 1))  #--------metrics\n",
    "ohdf = pd.DataFrame(res,  columns=oh.categories_[0])\n",
    "ohdf.head()"
   ]
  },
  {
   "cell_type": "code",
   "execution_count": 116,
   "id": "7d6cc07c-234a-4791-8d59-8a21130c3e6a",
   "metadata": {
    "tags": []
   },
   "outputs": [
    {
     "data": {
      "text/html": [
       "<div>\n",
       "<style scoped>\n",
       "    .dataframe tbody tr th:only-of-type {\n",
       "        vertical-align: middle;\n",
       "    }\n",
       "\n",
       "    .dataframe tbody tr th {\n",
       "        vertical-align: top;\n",
       "    }\n",
       "\n",
       "    .dataframe thead th {\n",
       "        text-align: right;\n",
       "    }\n",
       "</style>\n",
       "<table border=\"1\" class=\"dataframe\">\n",
       "  <thead>\n",
       "    <tr style=\"text-align: right;\">\n",
       "      <th></th>\n",
       "      <th>survived</th>\n",
       "      <th>pclass</th>\n",
       "      <th>sex</th>\n",
       "      <th>name_title2</th>\n",
       "      <th>age_gugan</th>\n",
       "      <th>family</th>\n",
       "      <th>age2</th>\n",
       "      <th>sex_le</th>\n",
       "      <th>female</th>\n",
       "      <th>male</th>\n",
       "    </tr>\n",
       "  </thead>\n",
       "  <tbody>\n",
       "    <tr>\n",
       "      <th>0</th>\n",
       "      <td>0</td>\n",
       "      <td>3</td>\n",
       "      <td>male</td>\n",
       "      <td>Mr.</td>\n",
       "      <td>2</td>\n",
       "      <td>2</td>\n",
       "      <td>22.0</td>\n",
       "      <td>1</td>\n",
       "      <td>0</td>\n",
       "      <td>1</td>\n",
       "    </tr>\n",
       "    <tr>\n",
       "      <th>1</th>\n",
       "      <td>1</td>\n",
       "      <td>1</td>\n",
       "      <td>female</td>\n",
       "      <td>Mrs.</td>\n",
       "      <td>3</td>\n",
       "      <td>2</td>\n",
       "      <td>38.0</td>\n",
       "      <td>0</td>\n",
       "      <td>1</td>\n",
       "      <td>0</td>\n",
       "    </tr>\n",
       "  </tbody>\n",
       "</table>\n",
       "</div>"
      ],
      "text/plain": [
       "   survived  pclass     sex name_title2  age_gugan  family  age2  sex_le  \\\n",
       "0         0       3    male         Mr.          2       2  22.0       1   \n",
       "1         1       1  female        Mrs.          3       2  38.0       0   \n",
       "\n",
       "   female  male  \n",
       "0       0     1  \n",
       "1       1     0  "
      ]
     },
     "execution_count": 116,
     "metadata": {},
     "output_type": "execute_result"
    }
   ],
   "source": [
    "tdf = pd.concat([traincp, ohdf], axis=1)\n",
    "tdf.head(2)"
   ]
  },
  {
   "cell_type": "markdown",
   "id": "13ab509d-5672-4119-9076-94d1ca4175ed",
   "metadata": {},
   "source": [
    "#### df[컬럼].astype(\"category\")\n",
    "* name_title2\n",
    "* Mr.:1, Miss.:2 , Mrs.:3, Master.:4, Dr.:5 변경"
   ]
  },
  {
   "cell_type": "code",
   "execution_count": 120,
   "id": "cbec7045-2c70-4895-aba5-c87591074e0a",
   "metadata": {
    "tags": []
   },
   "outputs": [
    {
     "name": "stdout",
     "output_type": "stream",
     "text": [
      "<class 'pandas.core.frame.DataFrame'>\n",
      "RangeIndex: 891 entries, 0 to 890\n",
      "Data columns (total 9 columns):\n",
      " #   Column       Non-Null Count  Dtype   \n",
      "---  ------       --------------  -----   \n",
      " 0   survived     891 non-null    int64   \n",
      " 1   pclass       891 non-null    int64   \n",
      " 2   sex          891 non-null    object  \n",
      " 3   name_title2  891 non-null    object  \n",
      " 4   age_gugan    891 non-null    int32   \n",
      " 5   family       891 non-null    int64   \n",
      " 6   age2         891 non-null    float64 \n",
      " 7   sex_le       891 non-null    int32   \n",
      " 8   name_title3  891 non-null    category\n",
      "dtypes: category(1), float64(1), int32(2), int64(3), object(2)\n",
      "memory usage: 49.9+ KB\n"
     ]
    }
   ],
   "source": [
    "traincp['name_title3'] = traincp['name_title2'].astype('category')\n",
    "traincp.info()"
   ]
  },
  {
   "cell_type": "code",
   "execution_count": 121,
   "id": "4544e00d-9e1c-4a7a-ba24-a4aeafe60a97",
   "metadata": {
    "tags": []
   },
   "outputs": [
    {
     "data": {
      "text/html": [
       "<div>\n",
       "<style scoped>\n",
       "    .dataframe tbody tr th:only-of-type {\n",
       "        vertical-align: middle;\n",
       "    }\n",
       "\n",
       "    .dataframe tbody tr th {\n",
       "        vertical-align: top;\n",
       "    }\n",
       "\n",
       "    .dataframe thead th {\n",
       "        text-align: right;\n",
       "    }\n",
       "</style>\n",
       "<table border=\"1\" class=\"dataframe\">\n",
       "  <thead>\n",
       "    <tr style=\"text-align: right;\">\n",
       "      <th></th>\n",
       "      <th>survived</th>\n",
       "      <th>pclass</th>\n",
       "      <th>sex</th>\n",
       "      <th>name_title2</th>\n",
       "      <th>age_gugan</th>\n",
       "      <th>family</th>\n",
       "      <th>age2</th>\n",
       "      <th>sex_le</th>\n",
       "      <th>name_title3</th>\n",
       "    </tr>\n",
       "  </thead>\n",
       "  <tbody>\n",
       "    <tr>\n",
       "      <th>0</th>\n",
       "      <td>0</td>\n",
       "      <td>3</td>\n",
       "      <td>male</td>\n",
       "      <td>Mr.</td>\n",
       "      <td>2</td>\n",
       "      <td>2</td>\n",
       "      <td>22.0</td>\n",
       "      <td>1</td>\n",
       "      <td>Mr.</td>\n",
       "    </tr>\n",
       "    <tr>\n",
       "      <th>1</th>\n",
       "      <td>1</td>\n",
       "      <td>1</td>\n",
       "      <td>female</td>\n",
       "      <td>Mrs.</td>\n",
       "      <td>3</td>\n",
       "      <td>2</td>\n",
       "      <td>38.0</td>\n",
       "      <td>0</td>\n",
       "      <td>Mrs.</td>\n",
       "    </tr>\n",
       "    <tr>\n",
       "      <th>2</th>\n",
       "      <td>1</td>\n",
       "      <td>3</td>\n",
       "      <td>female</td>\n",
       "      <td>Miss.</td>\n",
       "      <td>2</td>\n",
       "      <td>1</td>\n",
       "      <td>26.0</td>\n",
       "      <td>0</td>\n",
       "      <td>Miss.</td>\n",
       "    </tr>\n",
       "  </tbody>\n",
       "</table>\n",
       "</div>"
      ],
      "text/plain": [
       "   survived  pclass     sex name_title2  age_gugan  family  age2  sex_le  \\\n",
       "0         0       3    male         Mr.          2       2  22.0       1   \n",
       "1         1       1  female        Mrs.          3       2  38.0       0   \n",
       "2         1       3  female       Miss.          2       1  26.0       0   \n",
       "\n",
       "  name_title3  \n",
       "0         Mr.  \n",
       "1        Mrs.  \n",
       "2       Miss.  "
      ]
     },
     "execution_count": 121,
     "metadata": {},
     "output_type": "execute_result"
    }
   ],
   "source": [
    "traincp.head(3)"
   ]
  },
  {
   "cell_type": "code",
   "execution_count": 122,
   "id": "afa28b6d-f53a-433f-95db-faa0cd66a3be",
   "metadata": {
    "tags": []
   },
   "outputs": [
    {
     "data": {
      "text/html": [
       "<div>\n",
       "<style scoped>\n",
       "    .dataframe tbody tr th:only-of-type {\n",
       "        vertical-align: middle;\n",
       "    }\n",
       "\n",
       "    .dataframe tbody tr th {\n",
       "        vertical-align: top;\n",
       "    }\n",
       "\n",
       "    .dataframe thead th {\n",
       "        text-align: right;\n",
       "    }\n",
       "</style>\n",
       "<table border=\"1\" class=\"dataframe\">\n",
       "  <thead>\n",
       "    <tr style=\"text-align: right;\">\n",
       "      <th></th>\n",
       "      <th>survived</th>\n",
       "      <th>pclass</th>\n",
       "      <th>sex</th>\n",
       "      <th>name_title2</th>\n",
       "      <th>age_gugan</th>\n",
       "      <th>family</th>\n",
       "      <th>age2</th>\n",
       "      <th>sex_le</th>\n",
       "      <th>name_title3</th>\n",
       "      <th>name_title3_cat_code</th>\n",
       "    </tr>\n",
       "  </thead>\n",
       "  <tbody>\n",
       "    <tr>\n",
       "      <th>0</th>\n",
       "      <td>0</td>\n",
       "      <td>3</td>\n",
       "      <td>male</td>\n",
       "      <td>Mr.</td>\n",
       "      <td>2</td>\n",
       "      <td>2</td>\n",
       "      <td>22.0</td>\n",
       "      <td>1</td>\n",
       "      <td>Mr.</td>\n",
       "      <td>3</td>\n",
       "    </tr>\n",
       "    <tr>\n",
       "      <th>1</th>\n",
       "      <td>1</td>\n",
       "      <td>1</td>\n",
       "      <td>female</td>\n",
       "      <td>Mrs.</td>\n",
       "      <td>3</td>\n",
       "      <td>2</td>\n",
       "      <td>38.0</td>\n",
       "      <td>0</td>\n",
       "      <td>Mrs.</td>\n",
       "      <td>4</td>\n",
       "    </tr>\n",
       "    <tr>\n",
       "      <th>2</th>\n",
       "      <td>1</td>\n",
       "      <td>3</td>\n",
       "      <td>female</td>\n",
       "      <td>Miss.</td>\n",
       "      <td>2</td>\n",
       "      <td>1</td>\n",
       "      <td>26.0</td>\n",
       "      <td>0</td>\n",
       "      <td>Miss.</td>\n",
       "      <td>2</td>\n",
       "    </tr>\n",
       "  </tbody>\n",
       "</table>\n",
       "</div>"
      ],
      "text/plain": [
       "   survived  pclass     sex name_title2  age_gugan  family  age2  sex_le  \\\n",
       "0         0       3    male         Mr.          2       2  22.0       1   \n",
       "1         1       1  female        Mrs.          3       2  38.0       0   \n",
       "2         1       3  female       Miss.          2       1  26.0       0   \n",
       "\n",
       "  name_title3  name_title3_cat_code  \n",
       "0         Mr.                     3  \n",
       "1        Mrs.                     4  \n",
       "2       Miss.                     2  "
      ]
     },
     "execution_count": 122,
     "metadata": {},
     "output_type": "execute_result"
    }
   ],
   "source": [
    "traincp['name_title3_cat_code'] = traincp['name_title3'].cat.codes\n",
    "traincp.head(3)"
   ]
  },
  {
   "cell_type": "markdown",
   "id": "e0b3f41e-cf64-4b70-b2d5-33f430c5e2d9",
   "metadata": {},
   "source": [
    "#### pd.get_dummies(df['컬럼'])\n",
    "name_title2\n",
    "Mr.:1, Miss.:2 , Mrs.:3, Master.:4, Dr.:5 변경"
   ]
  },
  {
   "cell_type": "code",
   "execution_count": 123,
   "id": "1372bc64-f528-47c7-8dfa-efe89324c91e",
   "metadata": {
    "tags": []
   },
   "outputs": [
    {
     "data": {
      "text/html": [
       "<div>\n",
       "<style scoped>\n",
       "    .dataframe tbody tr th:only-of-type {\n",
       "        vertical-align: middle;\n",
       "    }\n",
       "\n",
       "    .dataframe tbody tr th {\n",
       "        vertical-align: top;\n",
       "    }\n",
       "\n",
       "    .dataframe thead th {\n",
       "        text-align: right;\n",
       "    }\n",
       "</style>\n",
       "<table border=\"1\" class=\"dataframe\">\n",
       "  <thead>\n",
       "    <tr style=\"text-align: right;\">\n",
       "      <th></th>\n",
       "      <th>Dr.</th>\n",
       "      <th>Master.</th>\n",
       "      <th>Miss.</th>\n",
       "      <th>Mr.</th>\n",
       "      <th>Mrs.</th>\n",
       "    </tr>\n",
       "  </thead>\n",
       "  <tbody>\n",
       "    <tr>\n",
       "      <th>0</th>\n",
       "      <td>0</td>\n",
       "      <td>0</td>\n",
       "      <td>0</td>\n",
       "      <td>1</td>\n",
       "      <td>0</td>\n",
       "    </tr>\n",
       "    <tr>\n",
       "      <th>1</th>\n",
       "      <td>0</td>\n",
       "      <td>0</td>\n",
       "      <td>0</td>\n",
       "      <td>0</td>\n",
       "      <td>1</td>\n",
       "    </tr>\n",
       "    <tr>\n",
       "      <th>2</th>\n",
       "      <td>0</td>\n",
       "      <td>0</td>\n",
       "      <td>1</td>\n",
       "      <td>0</td>\n",
       "      <td>0</td>\n",
       "    </tr>\n",
       "  </tbody>\n",
       "</table>\n",
       "</div>"
      ],
      "text/plain": [
       "   Dr.  Master.  Miss.  Mr.  Mrs.\n",
       "0    0        0      0    1     0\n",
       "1    0        0      0    0     1\n",
       "2    0        0      1    0     0"
      ]
     },
     "execution_count": 123,
     "metadata": {},
     "output_type": "execute_result"
    }
   ],
   "source": [
    "    gdf = pd.get_dummies(traincp['name_title2'])\n",
    "gdf.head(3)"
   ]
  },
  {
   "cell_type": "code",
   "execution_count": 124,
   "id": "b182bcd4-3e26-4765-82af-6f3edaed916e",
   "metadata": {
    "tags": []
   },
   "outputs": [
    {
     "data": {
      "text/html": [
       "<div>\n",
       "<style scoped>\n",
       "    .dataframe tbody tr th:only-of-type {\n",
       "        vertical-align: middle;\n",
       "    }\n",
       "\n",
       "    .dataframe tbody tr th {\n",
       "        vertical-align: top;\n",
       "    }\n",
       "\n",
       "    .dataframe thead th {\n",
       "        text-align: right;\n",
       "    }\n",
       "</style>\n",
       "<table border=\"1\" class=\"dataframe\">\n",
       "  <thead>\n",
       "    <tr style=\"text-align: right;\">\n",
       "      <th></th>\n",
       "      <th>survived</th>\n",
       "      <th>pclass</th>\n",
       "      <th>sex</th>\n",
       "      <th>name_title2</th>\n",
       "      <th>age_gugan</th>\n",
       "      <th>family</th>\n",
       "      <th>age2</th>\n",
       "      <th>sex_le</th>\n",
       "      <th>name_title3</th>\n",
       "      <th>name_title3_cat_code</th>\n",
       "      <th>Dr.</th>\n",
       "      <th>Master.</th>\n",
       "      <th>Miss.</th>\n",
       "      <th>Mr.</th>\n",
       "      <th>Mrs.</th>\n",
       "    </tr>\n",
       "  </thead>\n",
       "  <tbody>\n",
       "    <tr>\n",
       "      <th>0</th>\n",
       "      <td>0</td>\n",
       "      <td>3</td>\n",
       "      <td>male</td>\n",
       "      <td>Mr.</td>\n",
       "      <td>2</td>\n",
       "      <td>2</td>\n",
       "      <td>22.0</td>\n",
       "      <td>1</td>\n",
       "      <td>Mr.</td>\n",
       "      <td>3</td>\n",
       "      <td>0</td>\n",
       "      <td>0</td>\n",
       "      <td>0</td>\n",
       "      <td>1</td>\n",
       "      <td>0</td>\n",
       "    </tr>\n",
       "    <tr>\n",
       "      <th>1</th>\n",
       "      <td>1</td>\n",
       "      <td>1</td>\n",
       "      <td>female</td>\n",
       "      <td>Mrs.</td>\n",
       "      <td>3</td>\n",
       "      <td>2</td>\n",
       "      <td>38.0</td>\n",
       "      <td>0</td>\n",
       "      <td>Mrs.</td>\n",
       "      <td>4</td>\n",
       "      <td>0</td>\n",
       "      <td>0</td>\n",
       "      <td>0</td>\n",
       "      <td>0</td>\n",
       "      <td>1</td>\n",
       "    </tr>\n",
       "    <tr>\n",
       "      <th>2</th>\n",
       "      <td>1</td>\n",
       "      <td>3</td>\n",
       "      <td>female</td>\n",
       "      <td>Miss.</td>\n",
       "      <td>2</td>\n",
       "      <td>1</td>\n",
       "      <td>26.0</td>\n",
       "      <td>0</td>\n",
       "      <td>Miss.</td>\n",
       "      <td>2</td>\n",
       "      <td>0</td>\n",
       "      <td>0</td>\n",
       "      <td>1</td>\n",
       "      <td>0</td>\n",
       "      <td>0</td>\n",
       "    </tr>\n",
       "  </tbody>\n",
       "</table>\n",
       "</div>"
      ],
      "text/plain": [
       "   survived  pclass     sex name_title2  age_gugan  family  age2  sex_le  \\\n",
       "0         0       3    male         Mr.          2       2  22.0       1   \n",
       "1         1       1  female        Mrs.          3       2  38.0       0   \n",
       "2         1       3  female       Miss.          2       1  26.0       0   \n",
       "\n",
       "  name_title3  name_title3_cat_code  Dr.  Master.  Miss.  Mr.  Mrs.  \n",
       "0         Mr.                     3    0        0      0    1     0  \n",
       "1        Mrs.                     4    0        0      0    0     1  \n",
       "2       Miss.                     2    0        0      1    0     0  "
      ]
     },
     "execution_count": 124,
     "metadata": {},
     "output_type": "execute_result"
    }
   ],
   "source": [
    "tdf = pd.concat([traincp, gdf], axis=1)\n",
    "tdf.head(3)"
   ]
  },
  {
   "cell_type": "code",
   "execution_count": 125,
   "id": "ebef54b0-cf53-4a2f-bb75-72f6498e4b18",
   "metadata": {
    "tags": []
   },
   "outputs": [],
   "source": [
    "del traincp"
   ]
  },
  {
   "cell_type": "markdown",
   "id": "c85f166e-5d51-48d1-ae9a-fb2f8c3cda56",
   "metadata": {},
   "source": [
    "### 원본적용"
   ]
  },
  {
   "cell_type": "code",
   "execution_count": 127,
   "id": "f6c7cbc5-4ec9-43f7-aa7c-700e980c9d90",
   "metadata": {
    "tags": []
   },
   "outputs": [],
   "source": [
    "from sklearn.preprocessing import LabelEncoder\n",
    "le = LabelEncoder()\n",
    "le.fit(train['sex'])\n",
    "train[\"sex\"]  = le.transform(train['sex'])\n",
    "\n",
    "train['name_title2'] = train['name_title2'].astype('category')\n",
    "train['name_title2'] = train['name_title2'].cat.codes\n"
   ]
  },
  {
   "cell_type": "code",
   "execution_count": 128,
   "id": "32c4d6d1-f69f-4695-be62-07c6408ef5a7",
   "metadata": {
    "tags": []
   },
   "outputs": [
    {
     "name": "stdout",
     "output_type": "stream",
     "text": [
      "<class 'pandas.core.frame.DataFrame'>\n",
      "RangeIndex: 891 entries, 0 to 890\n",
      "Data columns (total 7 columns):\n",
      " #   Column       Non-Null Count  Dtype  \n",
      "---  ------       --------------  -----  \n",
      " 0   survived     891 non-null    int64  \n",
      " 1   pclass       891 non-null    int64  \n",
      " 2   sex          891 non-null    int32  \n",
      " 3   name_title2  891 non-null    int8   \n",
      " 4   age_gugan    891 non-null    int32  \n",
      " 5   family       891 non-null    int64  \n",
      " 6   age2         891 non-null    float64\n",
      "dtypes: float64(1), int32(2), int64(3), int8(1)\n",
      "memory usage: 35.8 KB\n"
     ]
    }
   ],
   "source": [
    "train.info()"
   ]
  },
  {
   "cell_type": "code",
   "execution_count": 129,
   "id": "c0d0b2de-5376-44d7-ab05-1744c4bebe08",
   "metadata": {
    "tags": []
   },
   "outputs": [
    {
     "data": {
      "text/html": [
       "<div>\n",
       "<style scoped>\n",
       "    .dataframe tbody tr th:only-of-type {\n",
       "        vertical-align: middle;\n",
       "    }\n",
       "\n",
       "    .dataframe tbody tr th {\n",
       "        vertical-align: top;\n",
       "    }\n",
       "\n",
       "    .dataframe thead th {\n",
       "        text-align: right;\n",
       "    }\n",
       "</style>\n",
       "<table border=\"1\" class=\"dataframe\">\n",
       "  <thead>\n",
       "    <tr style=\"text-align: right;\">\n",
       "      <th></th>\n",
       "      <th>survived</th>\n",
       "      <th>pclass</th>\n",
       "      <th>sex</th>\n",
       "      <th>name_title2</th>\n",
       "      <th>age_gugan</th>\n",
       "      <th>family</th>\n",
       "      <th>age2</th>\n",
       "    </tr>\n",
       "  </thead>\n",
       "  <tbody>\n",
       "    <tr>\n",
       "      <th>0</th>\n",
       "      <td>0</td>\n",
       "      <td>3</td>\n",
       "      <td>1</td>\n",
       "      <td>3</td>\n",
       "      <td>2</td>\n",
       "      <td>2</td>\n",
       "      <td>22.0</td>\n",
       "    </tr>\n",
       "  </tbody>\n",
       "</table>\n",
       "</div>"
      ],
      "text/plain": [
       "   survived  pclass  sex  name_title2  age_gugan  family  age2\n",
       "0         0       3    1            3          2       2  22.0"
      ]
     },
     "execution_count": 129,
     "metadata": {},
     "output_type": "execute_result"
    }
   ],
   "source": [
    "train.head(1)"
   ]
  },
  {
   "cell_type": "markdown",
   "id": "404cff6b-df6f-47dc-8cd3-91c338a1614f",
   "metadata": {},
   "source": [
    "# 모델 학습"
   ]
  },
  {
   "cell_type": "markdown",
   "id": "4b9bdc57-914a-40a5-9ed9-ac8b2142ba93",
   "metadata": {},
   "source": [
    "* <font color=red><b>class sklearn.tree.DecisionTreeClassifier</b></font>(*, criterion='gini', splitter='best', max_depth=None, min_samples_split=2, min_samples_leaf=1, min_weight_fraction_leaf=0.0, max_features=None, random_state=None, max_leaf_nodes=None, min_impurity_decrease=0.0, class_weight=None, ccp_alpha=0.0)\n",
    "* <font color=red><b>sklearn.model_selection.train_test_split(*arrays,  test_size=None, random_state=None</b></font>, shuffle=True, train_size=None,  stratify=None)\n",
    "* <font color=red><b>모델.fit(X, y=None</b></font>, sample_weight=None)\n",
    "* <font color=red><b>y_pred = 모델.predict(X</b></font>, sample_weight=None)   \n",
    "* <font color=red><b>sklearn.metrics.accuracy_score(y_true, y_pred</b></font>, *, normalize=True, sample_weight=None)"
   ]
  },
  {
   "cell_type": "code",
   "execution_count": 130,
   "id": "0fc62dd2-d168-4030-a863-a8ffad93ba23",
   "metadata": {
    "tags": []
   },
   "outputs": [],
   "source": [
    "from sklearn.model_selection import train_test_split\n",
    "from sklearn.tree import DecisionTreeClassifier\n",
    "from sklearn.metrics import accuracy_score"
   ]
  },
  {
   "cell_type": "code",
   "execution_count": 133,
   "id": "9b5573a0-5b35-4f3c-99ab-80215ab7335e",
   "metadata": {
    "tags": []
   },
   "outputs": [
    {
     "data": {
      "text/plain": [
       "(0    0\n",
       " 1    1\n",
       " 2    1\n",
       " 3    1\n",
       " 4    0\n",
       " Name: survived, dtype: int64,\n",
       "    pclass  sex  name_title2  age_gugan  family  age2\n",
       " 0       3    1            3          2       2  22.0\n",
       " 1       1    0            4          3       2  38.0\n",
       " 2       3    0            2          2       1  26.0\n",
       " 3       1    0            4          3       2  35.0\n",
       " 4       3    1            3          3       1  35.0)"
      ]
     },
     "execution_count": 133,
     "metadata": {},
     "output_type": "execute_result"
    }
   ],
   "source": [
    "y = train['survived']\n",
    "X = train.drop('survived', axis=1)\n",
    "\n",
    "y[:5], X[:5]"
   ]
  },
  {
   "cell_type": "code",
   "execution_count": 142,
   "id": "01847df1-7fa9-4cd7-9371-6e33316865fb",
   "metadata": {
    "tags": []
   },
   "outputs": [
    {
     "name": "stdout",
     "output_type": "stream",
     "text": [
      "(891, 6) (891,)\n"
     ]
    },
    {
     "data": {
      "text/plain": [
       "((712, 6), (179, 6), (712,), (179,))"
      ]
     },
     "execution_count": 142,
     "metadata": {},
     "output_type": "execute_result"
    }
   ],
   "source": [
    "print(X.shape, y.shape)\n",
    "X_train,X_test,   y_train,y_test = train_test_split(X, y, test_size=0.2, random_state=1212)\n",
    "X_train.shape, X_test.shape,     y_train.shape, y_test.shape"
   ]
  },
  {
   "cell_type": "code",
   "execution_count": 147,
   "id": "bc5bb93b-dbf3-4beb-9d7b-d31d86304d00",
   "metadata": {
    "tags": []
   },
   "outputs": [
    {
     "name": "stdout",
     "output_type": "stream",
     "text": [
      "[0 0 1 0 0]\n",
      "[1 0 0 1 1]\n",
      "     pclass  sex  name_title2  age_gugan  family  age2\n",
      "81        3    1            3          2       1  29.0\n",
      "182       3    1            1          0       7   9.0\n",
      "114       3    0            2          1       1  17.0\n",
      "85        3    0            4          3       4  33.0\n",
      "400       3    1            3          3       1  39.0\n"
     ]
    }
   ],
   "source": [
    "dtc = DecisionTreeClassifier()\n",
    "dtc.fit(X_train, y_train)      #fit: train(80%)로 학습\n",
    "y_pred = dtc.predict(X_test)   #predict : train(20%)로 예측\n",
    "\n",
    "print(y_pred[:5])\n",
    "print(y_test[:5].values)\n",
    "print(X_test[:5])"
   ]
  },
  {
   "cell_type": "code",
   "execution_count": 148,
   "id": "1f809bb1-b73f-451b-ac52-eba683c828f2",
   "metadata": {
    "tags": []
   },
   "outputs": [
    {
     "name": "stdout",
     "output_type": "stream",
     "text": [
      "0.8044692737430168\n"
     ]
    }
   ],
   "source": [
    "accuracy =  accuracy_score(y_test, y_pred)\n",
    "print(accuracy)"
   ]
  }
 ],
 "metadata": {
  "kernelspec": {
   "display_name": "Python 3 (ipykernel)",
   "language": "python",
   "name": "python3"
  },
  "language_info": {
   "codemirror_mode": {
    "name": "ipython",
    "version": 3
   },
   "file_extension": ".py",
   "mimetype": "text/x-python",
   "name": "python",
   "nbconvert_exporter": "python",
   "pygments_lexer": "ipython3",
   "version": "3.8.8"
  },
  "toc-autonumbering": true
 },
 "nbformat": 4,
 "nbformat_minor": 5
}
