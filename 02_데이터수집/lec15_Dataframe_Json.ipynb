{
 "cells": [
  {
   "cell_type": "code",
   "execution_count": 1,
   "id": "9a66063b-c024-4205-b5ac-f480d61bf250",
   "metadata": {
    "tags": []
   },
   "outputs": [],
   "source": [
    "import numpy as np\n",
    "import pandas as pd\n",
    "\n",
    "import pprint\n",
    "import json"
   ]
  },
  {
   "cell_type": "markdown",
   "id": "d2977704-0ac4-4293-a120-9115300d2459",
   "metadata": {},
   "source": [
    "# DataFrame ( Json )"
   ]
  },
  {
   "cell_type": "markdown",
   "id": "07ea1dae-4470-4fd3-a2da-063751b9aa3c",
   "metadata": {
    "tags": []
   },
   "source": [
    "* load() **loads()** : 글자 ==> dic\n",
    "* dump() **dumps()** : dic ==> 글자"
   ]
  },
  {
   "cell_type": "code",
   "execution_count": 2,
   "id": "024fe55b-cb37-4a66-b78c-b51d76e7a762",
   "metadata": {},
   "outputs": [],
   "source": [
    "# Json\n",
    "\n",
    "# json.loads()\n",
    "# json.dumps()"
   ]
  },
  {
   "cell_type": "markdown",
   "id": "19449697-a918-4553-817f-f728833f3708",
   "metadata": {
    "tags": []
   },
   "source": [
    "# DataFrame : list + dict(Json)\n",
    "    * dict에 사용된 키 값이 dataframe의 컬럼명이 된다."
   ]
  },
  {
   "cell_type": "code",
   "execution_count": 3,
   "id": "a4a2c48e-729a-4850-a315-64139f497766",
   "metadata": {
    "tags": []
   },
   "outputs": [
    {
     "name": "stdout",
     "output_type": "stream",
     "text": [
      "[{'uid': 'kim', 'upw': '1111'}, {'uid': 'hong', 'upw': '2222'}] <class 'list'>\n"
     ]
    },
    {
     "data": {
      "text/html": [
       "<div>\n",
       "<style scoped>\n",
       "    .dataframe tbody tr th:only-of-type {\n",
       "        vertical-align: middle;\n",
       "    }\n",
       "\n",
       "    .dataframe tbody tr th {\n",
       "        vertical-align: top;\n",
       "    }\n",
       "\n",
       "    .dataframe thead th {\n",
       "        text-align: right;\n",
       "    }\n",
       "</style>\n",
       "<table border=\"1\" class=\"dataframe\">\n",
       "  <thead>\n",
       "    <tr style=\"text-align: right;\">\n",
       "      <th></th>\n",
       "      <th>uid</th>\n",
       "      <th>upw</th>\n",
       "    </tr>\n",
       "  </thead>\n",
       "  <tbody>\n",
       "    <tr>\n",
       "      <th>idx77</th>\n",
       "      <td>kim</td>\n",
       "      <td>1111</td>\n",
       "    </tr>\n",
       "    <tr>\n",
       "      <th>idx88</th>\n",
       "      <td>hong</td>\n",
       "      <td>2222</td>\n",
       "    </tr>\n",
       "  </tbody>\n",
       "</table>\n",
       "</div>"
      ],
      "text/plain": [
       "        uid   upw\n",
       "idx77   kim  1111\n",
       "idx88  hong  2222"
      ]
     },
     "execution_count": 3,
     "metadata": {},
     "output_type": "execute_result"
    }
   ],
   "source": [
    "list_dic2 =[ {\"uid\" : \"kim\" , \"upw\":\"1111\"},\n",
    "              {\"uid\" : \"hong\" , \"upw\":\"2222\"}]\n",
    "\n",
    "print(list_dic2, type(list_dic2))\n",
    "\n",
    "df = pd.DataFrame(list_dic2,index =['idx77','idx88'])\n",
    "\n",
    "# df = pd.DataFrame(list_dic2)\n",
    "# df.index = ['77','88'] 동일한 문법\n",
    "\n",
    "df"
   ]
  },
  {
   "cell_type": "markdown",
   "id": "d79b274c-58e5-43fe-b2c0-4620fa54c93a",
   "metadata": {},
   "source": [
    "# Converter(변환)"
   ]
  },
  {
   "cell_type": "code",
   "execution_count": 4,
   "id": "c5038f33-a379-4de6-aadf-38fc563f2584",
   "metadata": {
    "tags": []
   },
   "outputs": [
    {
     "data": {
      "text/plain": [
       "'{\"uid\":{\"idx77\":\"kim\",\"idx88\":\"hong\"},\"upw\":{\"idx77\":\"1111\",\"idx88\":\"2222\"}}'"
      ]
     },
     "execution_count": 4,
     "metadata": {},
     "output_type": "execute_result"
    }
   ],
   "source": [
    "df.to_json()\n",
    "\n",
    "#type string\n",
    "#DataFrame ==> Json 문법을 갖는 글자로 변환"
   ]
  },
  {
   "cell_type": "code",
   "execution_count": 5,
   "id": "0d527b44-0317-4058-a1ce-01b526677828",
   "metadata": {
    "tags": []
   },
   "outputs": [
    {
     "data": {
      "text/plain": [
       "{'uid': {'idx77': 'kim', 'idx88': 'hong'},\n",
       " 'upw': {'idx77': '1111', 'idx88': '2222'}}"
      ]
     },
     "execution_count": 5,
     "metadata": {},
     "output_type": "execute_result"
    }
   ],
   "source": [
    "json.loads(df.to_json())"
   ]
  },
  {
   "cell_type": "markdown",
   "id": "4d105d99-134f-4cdc-8ca3-b5daec57110a",
   "metadata": {},
   "source": [
    "## 익숙한 형태로 변환하는 옵션\n",
    "\n",
    "    *orient = 속성\n",
    "    *orient = 'records' (인덱스 무시)  \n",
    " \n",
    " \n",
    "    *orient = 'columns' (인덱스 가져감)\n",
    "    *orient = 'index'   (인덱스 가져감) 인덱스가 컬럼이 됨"
   ]
  },
  {
   "cell_type": "code",
   "execution_count": 6,
   "id": "bd07ce74-9857-47fd-8d44-eb5751c07138",
   "metadata": {
    "tags": []
   },
   "outputs": [
    {
     "data": {
      "text/plain": [
       "'{\"uid\":{\"idx77\":\"kim\",\"idx88\":\"hong\"},\"upw\":{\"idx77\":\"1111\",\"idx88\":\"2222\"}}'"
      ]
     },
     "execution_count": 6,
     "metadata": {},
     "output_type": "execute_result"
    }
   ],
   "source": [
    "df.to_json(orient = 'columns')\n",
    "\n",
    "#디폴트는 컬럼이다."
   ]
  },
  {
   "cell_type": "code",
   "execution_count": 7,
   "id": "e579a158-c8bb-4058-8a2f-2a05126066cc",
   "metadata": {
    "tags": []
   },
   "outputs": [
    {
     "data": {
      "text/plain": [
       "'[{\"uid\":\"kim\",\"upw\":\"1111\"},{\"uid\":\"hong\",\"upw\":\"2222\"}]'"
      ]
     },
     "execution_count": 7,
     "metadata": {},
     "output_type": "execute_result"
    }
   ],
   "source": [
    "df.to_json(orient = 'records')\n"
   ]
  },
  {
   "cell_type": "code",
   "execution_count": 8,
   "id": "ac1f9118-436c-44b0-a210-d53357f90060",
   "metadata": {
    "tags": []
   },
   "outputs": [
    {
     "data": {
      "text/plain": [
       "'{\"idx77\":{\"uid\":\"kim\",\"upw\":\"1111\"},\"idx88\":{\"uid\":\"hong\",\"upw\":\"2222\"}}'"
      ]
     },
     "execution_count": 8,
     "metadata": {},
     "output_type": "execute_result"
    }
   ],
   "source": [
    "df.to_json(orient = 'index')\n"
   ]
  },
  {
   "cell_type": "markdown",
   "id": "668705cc-efc9-40cf-90aa-e8f4995f5bea",
   "metadata": {},
   "source": [
    "'[{\"uid\":\"kim\",\"upw\":\"1111\"},{\"uid\":\"hong\",\"upw\":\"2222\"}]'"
   ]
  },
  {
   "cell_type": "markdown",
   "id": "5963394a-f9e3-445f-ac7b-e1b48a1ef86d",
   "metadata": {},
   "source": [
    "* Json 데이터를 파일에 쓰기"
   ]
  },
  {
   "cell_type": "code",
   "execution_count": 9,
   "id": "6c3c6166-7497-4e63-9fd0-e5cf1b17bc68",
   "metadata": {
    "tags": []
   },
   "outputs": [],
   "source": [
    "data = df.to_json(orient = 'records')\n",
    "with open(file=\"C:\\\\AI\\\\pythonProject\\\\venv\\\\python_basic\\\\lec15_datajson_write.txt\",mode='w') as f:\n",
    "    f.write(data)"
   ]
  },
  {
   "cell_type": "code",
   "execution_count": 10,
   "id": "7012daf5-b5fe-4d95-af94-0488f37fd8d1",
   "metadata": {
    "tags": []
   },
   "outputs": [],
   "source": [
    "df.to_json(\"C:\\\\AI\\\\pythonProject\\\\venv\\\\python_basic\\\\lec15_datajson_write2.txt\",orient = 'records')\n",
    "\n",
    "#to_json에 파일경로/파일명을 쓰면 자동으로 쓰고 기록된다.\n",
    "#위의 with open 문법 쓰면 바보다."
   ]
  },
  {
   "cell_type": "markdown",
   "id": "3df8d03b-9622-4a80-b1bf-6901feb50fc6",
   "metadata": {},
   "source": [
    "* Json으로 된 데이터 파일 읽어오기"
   ]
  },
  {
   "cell_type": "code",
   "execution_count": null,
   "id": "67c6bc17-4e58-4cd6-97a2-77f22fca6b8f",
   "metadata": {},
   "outputs": [],
   "source": [
    "df.read_json(\"C:\\\\AI\\\\pythonProject\\\\venv\\\\python_basic\\\\lec15_datajson_write2.txt\")"
   ]
  }
 ],
 "metadata": {
  "kernelspec": {
   "display_name": "Python 3 (ipykernel)",
   "language": "python",
   "name": "python3"
  },
  "language_info": {
   "codemirror_mode": {
    "name": "ipython",
    "version": 3
   },
   "file_extension": ".py",
   "mimetype": "text/x-python",
   "name": "python",
   "nbconvert_exporter": "python",
   "pygments_lexer": "ipython3",
   "version": "3.8.8"
  }
 },
 "nbformat": 4,
 "nbformat_minor": 5
}
