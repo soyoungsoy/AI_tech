{
 "cells": [
  {
   "cell_type": "markdown",
   "id": "3243833e-2e89-4469-9fee-27abd61d1253",
   "metadata": {},
   "source": [
    "<font size=6><b>Lec15. DataFrame , json"
   ]
  },
  {
   "cell_type": "markdown",
   "id": "4d7ea7ad-8181-411e-b308-7ebe1d4afcda",
   "metadata": {
    "tags": []
   },
   "source": [
    "# python json\n",
    "<pre>\n",
    "* load() <b>loads()</b> : 글자-->dic\n",
    "* dump() <b>dumps()</b> : dic -->글자"
   ]
  },
  {
   "cell_type": "code",
   "execution_count": 1,
   "id": "4ffe1641-bbe8-4735-b89f-4ac0d27b2cb8",
   "metadata": {
    "tags": []
   },
   "outputs": [
    {
     "data": {
      "text/html": [
       "<style>.container{width:100% !important;}</style>"
      ],
      "text/plain": [
       "<IPython.core.display.HTML object>"
      ]
     },
     "metadata": {},
     "output_type": "display_data"
    }
   ],
   "source": [
    "import numpy as np\n",
    "import pandas as pd\n",
    "import json\n",
    "\n",
    "\n",
    "#-------------------- 주피터 , 출력결과 넓이 늘리기 ---------------\n",
    "# from IPython.core.display import display, HTML\n",
    "from IPython.display import display, HTML\n",
    "\n",
    "display(HTML(\"<style>.container{width:100% !important;}</style>\"))\n",
    "pd.set_option('display.max_rows', 100)\n",
    "pd.set_option('display.max_columns', 100)\n",
    "pd.set_option('max_colwidth', None)\n",
    "\n",
    "import warnings\n",
    "warnings.filterwarnings(action='ignore')"
   ]
  },
  {
   "cell_type": "markdown",
   "id": "9303ed98-d62c-4990-a220-5bbf729a930b",
   "metadata": {
    "tags": []
   },
   "source": [
    "<font color=red size=3><b> json.loads() 사용시 :  반드시 더블쿼트 dic 데이터 사용"
   ]
  },
  {
   "cell_type": "code",
   "execution_count": 2,
   "id": "2e74192b-40a2-41f4-80b2-7288095d7737",
   "metadata": {
    "tags": []
   },
   "outputs": [
    {
     "name": "stdout",
     "output_type": "stream",
     "text": [
      "[  {\"userid\":\"kim\", \"userpw\":1111}, \n",
      "                {\"userid\":\"lee\", \"userpw\":2222}\n",
      "             ] <class 'str'>\n",
      "[{'userid': 'kim', 'userpw': 1111}, {'userid': 'lee', 'userpw': 2222}] <class 'list'>\n",
      "비번: 2222\n"
     ]
    }
   ],
   "source": [
    "dic_str = \"\"\"[  {\"userid\":\"kim\", \"userpw\":1111}, \n",
    "                {\"userid\":\"lee\", \"userpw\":2222}\n",
    "             ]\"\"\"\n",
    "print(dic_str , type(dic_str))\n",
    "\n",
    "\n",
    "list_dic = json.loads(dic_str)\n",
    "print(list_dic, type(list_dic))\n",
    "print(\"비번:\", list_dic[1][\"userpw\"])"
   ]
  },
  {
   "cell_type": "code",
   "execution_count": 3,
   "id": "5aa91da7-c357-4375-9db7-1a802b230929",
   "metadata": {
    "tags": []
   },
   "outputs": [
    {
     "name": "stdout",
     "output_type": "stream",
     "text": [
      "[{'userid': 'kim', 'userpw': 1111}, {'userid': 'lee', 'userpw': 2222}] <class 'list'>\n",
      "[{\"userid\": \"kim\", \"userpw\": 1111}, {\"userid\": \"lee\", \"userpw\": 2222}] <class 'str'>\n"
     ]
    }
   ],
   "source": [
    "list_dic = [{'userid': 'kim', 'userpw': 1111}, \n",
    "            {'userid': 'lee', 'userpw': 2222}\n",
    "           ]\n",
    "print(list_dic, type(list_dic))\n",
    "\n",
    "list_dic_string = json.dumps(list_dic)\n",
    "print(list_dic_string, type(list_dic_string))"
   ]
  },
  {
   "cell_type": "markdown",
   "id": "d9aa2ea3-088b-4f59-a122-1f5f2753846b",
   "metadata": {},
   "source": [
    "# DataFrame : list + dict(JSON)\n",
    "* dict에 사용된 키 값이 dataframe의 컬럼명이 된다"
   ]
  },
  {
   "cell_type": "code",
   "execution_count": 4,
   "id": "11d73244-18b5-40e3-91e7-d4b1b7c365bd",
   "metadata": {
    "tags": []
   },
   "outputs": [
    {
     "data": {
      "text/html": [
       "<div>\n",
       "<style scoped>\n",
       "    .dataframe tbody tr th:only-of-type {\n",
       "        vertical-align: middle;\n",
       "    }\n",
       "\n",
       "    .dataframe tbody tr th {\n",
       "        vertical-align: top;\n",
       "    }\n",
       "\n",
       "    .dataframe thead th {\n",
       "        text-align: right;\n",
       "    }\n",
       "</style>\n",
       "<table border=\"1\" class=\"dataframe\">\n",
       "  <thead>\n",
       "    <tr style=\"text-align: right;\">\n",
       "      <th></th>\n",
       "      <th>uid</th>\n",
       "      <th>upw</th>\n",
       "    </tr>\n",
       "  </thead>\n",
       "  <tbody>\n",
       "    <tr>\n",
       "      <th>idx77</th>\n",
       "      <td>kim</td>\n",
       "      <td>111</td>\n",
       "    </tr>\n",
       "    <tr>\n",
       "      <th>idx88</th>\n",
       "      <td>hong</td>\n",
       "      <td>222</td>\n",
       "    </tr>\n",
       "  </tbody>\n",
       "</table>\n",
       "</div>"
      ],
      "text/plain": [
       "        uid  upw\n",
       "idx77   kim  111\n",
       "idx88  hong  222"
      ]
     },
     "execution_count": 4,
     "metadata": {},
     "output_type": "execute_result"
    }
   ],
   "source": [
    "listdic = [ {\"uid\":\"kim\" , \"upw\": 111} ,\n",
    "            {\"uid\":\"hong\", \"upw\": 222}   \n",
    "          ]\n",
    "df = pd.DataFrame(listdic, index=[\"idx77\",\"idx88\"])\n",
    "df\n",
    "\n",
    "df = pd.DataFrame(listdic)\n",
    "df.index =[\"idx77\",\"idx88\"]\n",
    "df"
   ]
  },
  {
   "cell_type": "markdown",
   "id": "30c5824b-5556-4ca2-a5a5-2f5ed8a17c8a",
   "metadata": {},
   "source": [
    "# Converter(변환)"
   ]
  },
  {
   "cell_type": "markdown",
   "id": "52aaa91e-5117-45ac-9375-e5247c3d627d",
   "metadata": {},
   "source": [
    "## DataFrame --> JSON\n",
    "* <font color=red><b>df.to_json()</b></font> : DataFrame --> JSON 문법을 갖는 글자 "
   ]
  },
  {
   "cell_type": "code",
   "execution_count": 5,
   "id": "e6049f41-a031-4c5e-ab8a-44d15b1a027d",
   "metadata": {
    "tags": []
   },
   "outputs": [
    {
     "name": "stdout",
     "output_type": "stream",
     "text": [
      "<class 'str'> {\"uid\":{\"idx77\":\"kim\",\"idx88\":\"hong\"},\"upw\":{\"idx77\":111,\"idx88\":222}}\n",
      "<class 'dict'> {'uid': {'idx77': 'kim', 'idx88': 'hong'}, 'upw': {'idx77': 111, 'idx88': 222}}\n"
     ]
    }
   ],
   "source": [
    "df_json_str =  df.to_json()\n",
    "print( type(df_json_str), df_json_str )\n",
    "\n",
    "df_json_str_dic = json.loads(  df_json_str  )\n",
    "print( type(df_json_str_dic), df_json_str_dic )\n"
   ]
  },
  {
   "cell_type": "markdown",
   "id": "0183ef98-6210-4081-a369-6f4d715db0cb",
   "metadata": {},
   "source": [
    "* <font color=red><b>df.to_json(orient=\"___\")</b></font>\n",
    "    * orient='records'    //인덱스 무시\n",
    "    * orient='columns'    //인덱스 가져감  \n",
    "    * orient='index'      //인덱스 가져감"
   ]
  },
  {
   "cell_type": "markdown",
   "id": "8b26b784-7b3f-4805-b982-2fd8fd16b06b",
   "metadata": {},
   "source": [
    "### orient='records' "
   ]
  },
  {
   "cell_type": "code",
   "execution_count": 6,
   "id": "b7d5b6f9-828f-4379-bf78-d6e4c42c5e78",
   "metadata": {
    "tags": []
   },
   "outputs": [
    {
     "data": {
      "text/plain": [
       "'[{\"uid\":\"kim\",\"upw\":111},{\"uid\":\"hong\",\"upw\":222}]'"
      ]
     },
     "execution_count": 6,
     "metadata": {},
     "output_type": "execute_result"
    }
   ],
   "source": [
    "df.to_json(orient=\"records\")"
   ]
  },
  {
   "cell_type": "code",
   "execution_count": 7,
   "id": "9548aa46-b7b7-44a0-b696-5349330c60ff",
   "metadata": {
    "tags": []
   },
   "outputs": [
    {
     "data": {
      "text/html": [
       "<div>\n",
       "<style scoped>\n",
       "    .dataframe tbody tr th:only-of-type {\n",
       "        vertical-align: middle;\n",
       "    }\n",
       "\n",
       "    .dataframe tbody tr th {\n",
       "        vertical-align: top;\n",
       "    }\n",
       "\n",
       "    .dataframe thead th {\n",
       "        text-align: right;\n",
       "    }\n",
       "</style>\n",
       "<table border=\"1\" class=\"dataframe\">\n",
       "  <thead>\n",
       "    <tr style=\"text-align: right;\">\n",
       "      <th></th>\n",
       "      <th>uid</th>\n",
       "      <th>upw</th>\n",
       "    </tr>\n",
       "  </thead>\n",
       "  <tbody>\n",
       "    <tr>\n",
       "      <th>0</th>\n",
       "      <td>kim</td>\n",
       "      <td>111</td>\n",
       "    </tr>\n",
       "    <tr>\n",
       "      <th>1</th>\n",
       "      <td>hong</td>\n",
       "      <td>222</td>\n",
       "    </tr>\n",
       "  </tbody>\n",
       "</table>\n",
       "</div>"
      ],
      "text/plain": [
       "    uid  upw\n",
       "0   kim  111\n",
       "1  hong  222"
      ]
     },
     "execution_count": 7,
     "metadata": {},
     "output_type": "execute_result"
    }
   ],
   "source": [
    "pd.DataFrame( [{\"uid\":\"kim\",\"upw\":111},{\"uid\":\"hong\",\"upw\":222}] )"
   ]
  },
  {
   "cell_type": "markdown",
   "id": "412d06be-b1af-4885-8ddd-6ede112a0100",
   "metadata": {
    "tags": []
   },
   "source": [
    "### orient='columns'  "
   ]
  },
  {
   "cell_type": "code",
   "execution_count": 8,
   "id": "59caacb8-2fb8-47b6-b121-78e3410f36ec",
   "metadata": {
    "tags": []
   },
   "outputs": [
    {
     "data": {
      "text/plain": [
       "'{\"uid\":{\"idx77\":\"kim\",\"idx88\":\"hong\"},\"upw\":{\"idx77\":111,\"idx88\":222}}'"
      ]
     },
     "execution_count": 8,
     "metadata": {},
     "output_type": "execute_result"
    }
   ],
   "source": [
    "df.to_json(orient=\"columns\")"
   ]
  },
  {
   "cell_type": "code",
   "execution_count": 9,
   "id": "7c1ff86d-1463-4ea0-94ff-84ae36d03c8a",
   "metadata": {
    "tags": []
   },
   "outputs": [
    {
     "data": {
      "text/html": [
       "<div>\n",
       "<style scoped>\n",
       "    .dataframe tbody tr th:only-of-type {\n",
       "        vertical-align: middle;\n",
       "    }\n",
       "\n",
       "    .dataframe tbody tr th {\n",
       "        vertical-align: top;\n",
       "    }\n",
       "\n",
       "    .dataframe thead th {\n",
       "        text-align: right;\n",
       "    }\n",
       "</style>\n",
       "<table border=\"1\" class=\"dataframe\">\n",
       "  <thead>\n",
       "    <tr style=\"text-align: right;\">\n",
       "      <th></th>\n",
       "      <th>uid</th>\n",
       "      <th>upw</th>\n",
       "    </tr>\n",
       "  </thead>\n",
       "  <tbody>\n",
       "    <tr>\n",
       "      <th>idx77</th>\n",
       "      <td>kim</td>\n",
       "      <td>111</td>\n",
       "    </tr>\n",
       "    <tr>\n",
       "      <th>idx88</th>\n",
       "      <td>hong</td>\n",
       "      <td>222</td>\n",
       "    </tr>\n",
       "  </tbody>\n",
       "</table>\n",
       "</div>"
      ],
      "text/plain": [
       "        uid  upw\n",
       "idx77   kim  111\n",
       "idx88  hong  222"
      ]
     },
     "execution_count": 9,
     "metadata": {},
     "output_type": "execute_result"
    }
   ],
   "source": [
    "pd.DataFrame({\"uid\":{\"idx77\":\"kim\",\"idx88\":\"hong\"},\"upw\":{\"idx77\":111,\"idx88\":222}})"
   ]
  },
  {
   "cell_type": "markdown",
   "id": "fa708944-c7a7-4cd6-a779-a5a6e07979a7",
   "metadata": {},
   "source": [
    "### orient='index'  "
   ]
  },
  {
   "cell_type": "code",
   "execution_count": 10,
   "id": "2752d154-7c9e-4603-9599-593487ffc16c",
   "metadata": {
    "tags": []
   },
   "outputs": [
    {
     "data": {
      "text/plain": [
       "'{\"idx77\":{\"uid\":\"kim\",\"upw\":111},\"idx88\":{\"uid\":\"hong\",\"upw\":222}}'"
      ]
     },
     "execution_count": 10,
     "metadata": {},
     "output_type": "execute_result"
    }
   ],
   "source": [
    "df.to_json(orient=\"index\")"
   ]
  },
  {
   "cell_type": "code",
   "execution_count": 11,
   "id": "cac906ab-3535-49f8-99b7-5df1f357e3a1",
   "metadata": {
    "tags": []
   },
   "outputs": [
    {
     "data": {
      "text/html": [
       "<div>\n",
       "<style scoped>\n",
       "    .dataframe tbody tr th:only-of-type {\n",
       "        vertical-align: middle;\n",
       "    }\n",
       "\n",
       "    .dataframe tbody tr th {\n",
       "        vertical-align: top;\n",
       "    }\n",
       "\n",
       "    .dataframe thead th {\n",
       "        text-align: right;\n",
       "    }\n",
       "</style>\n",
       "<table border=\"1\" class=\"dataframe\">\n",
       "  <thead>\n",
       "    <tr style=\"text-align: right;\">\n",
       "      <th></th>\n",
       "      <th>idx77</th>\n",
       "      <th>idx88</th>\n",
       "    </tr>\n",
       "  </thead>\n",
       "  <tbody>\n",
       "    <tr>\n",
       "      <th>uid</th>\n",
       "      <td>kim</td>\n",
       "      <td>hong</td>\n",
       "    </tr>\n",
       "    <tr>\n",
       "      <th>upw</th>\n",
       "      <td>111</td>\n",
       "      <td>222</td>\n",
       "    </tr>\n",
       "  </tbody>\n",
       "</table>\n",
       "</div>"
      ],
      "text/plain": [
       "    idx77 idx88\n",
       "uid   kim  hong\n",
       "upw   111   222"
      ]
     },
     "execution_count": 11,
     "metadata": {},
     "output_type": "execute_result"
    }
   ],
   "source": [
    "pd.DataFrame( {\"idx77\":{\"uid\":\"kim\",\"upw\":111},\"idx88\":{\"uid\":\"hong\",\"upw\":222}} )"
   ]
  },
  {
   "cell_type": "markdown",
   "id": "a51c12c2-8e44-42c4-9d2a-1011a6eaae33",
   "metadata": {},
   "source": [
    "### 파일 쓰기 \n",
    "* 파일 쓰기 기능도 가지고 있다."
   ]
  },
  {
   "cell_type": "code",
   "execution_count": null,
   "id": "89220ad5-0dbd-4655-a08c-277c5ed84848",
   "metadata": {},
   "outputs": [],
   "source": [
    "df.to_json(\"./lec15_data2.json\", orient=\"records\")\n",
    "\n",
    "#--------------------------------------------------------\n",
    "# to_json(파일명) 사용 시 자동으로 파일에 기록\n",
    "#--------------------------------------------------------"
   ]
  },
  {
   "cell_type": "markdown",
   "id": "12a10e58-36a4-4cb4-b670-99b0f5d8c2f3",
   "metadata": {},
   "source": [
    "## JSON --> DataFrame"
   ]
  },
  {
   "cell_type": "code",
   "execution_count": 12,
   "id": "fda54b77-2a21-4c94-8829-f0fbbb86c1e3",
   "metadata": {
    "tags": []
   },
   "outputs": [
    {
     "data": {
      "text/html": [
       "<div>\n",
       "<style scoped>\n",
       "    .dataframe tbody tr th:only-of-type {\n",
       "        vertical-align: middle;\n",
       "    }\n",
       "\n",
       "    .dataframe tbody tr th {\n",
       "        vertical-align: top;\n",
       "    }\n",
       "\n",
       "    .dataframe thead th {\n",
       "        text-align: right;\n",
       "    }\n",
       "</style>\n",
       "<table border=\"1\" class=\"dataframe\">\n",
       "  <thead>\n",
       "    <tr style=\"text-align: right;\">\n",
       "      <th></th>\n",
       "      <th>uid</th>\n",
       "      <th>upw</th>\n",
       "    </tr>\n",
       "  </thead>\n",
       "  <tbody>\n",
       "    <tr>\n",
       "      <th>0</th>\n",
       "      <td>kim</td>\n",
       "      <td>111</td>\n",
       "    </tr>\n",
       "    <tr>\n",
       "      <th>1</th>\n",
       "      <td>hong</td>\n",
       "      <td>222</td>\n",
       "    </tr>\n",
       "  </tbody>\n",
       "</table>\n",
       "</div>"
      ],
      "text/plain": [
       "    uid  upw\n",
       "0   kim  111\n",
       "1  hong  222"
      ]
     },
     "execution_count": 12,
     "metadata": {},
     "output_type": "execute_result"
    }
   ],
   "source": [
    "dic = [{\"uid\":\"kim\",\"upw\":111},{\"uid\":\"hong\",\"upw\":222}]\n",
    "pd.DataFrame(dic)"
   ]
  },
  {
   "cell_type": "markdown",
   "id": "80a6224e-c4e5-48bf-9e24-fd63b6628232",
   "metadata": {},
   "source": [
    "## JSON 파일에 쓰기"
   ]
  },
  {
   "cell_type": "markdown",
   "id": "7d64e5ec-cd38-443b-91b8-9d740cdba12a",
   "metadata": {
    "tags": []
   },
   "source": [
    "* JSON 데이터를 파일에 쓰기"
   ]
  },
  {
   "cell_type": "code",
   "execution_count": 13,
   "id": "cafcfa3d-b0ad-4bf3-b7b1-d4e57b351493",
   "metadata": {
    "tags": []
   },
   "outputs": [],
   "source": [
    "df.to_json(\"./lec15_data2.json\", orient=\"records\")\n",
    "\n",
    "#--------------------------------------------------------\n",
    "# to_json(파일명) 사용 시 자동으로 파일에 기록\n",
    "#--------------------------------------------------------\n",
    "# data = df.to_json(orient=\"records\")\n",
    "# with open(\"./lec15_data.json\", \"w\") as f:\n",
    "#     f.write(data)   "
   ]
  },
  {
   "cell_type": "markdown",
   "id": "a928792c-5d03-48b8-8e39-4448f970bfbe",
   "metadata": {},
   "source": [
    "* JSON 데이터 파일을 읽어오기\n",
    "* <font color=red size=4><b>pd.read_XXX(\"파일명\"): 읽기</b></font>\n",
    "* <font color=red size=4><b>df.to_XXXX(\"파일명\") : 쓰기</b></font>\n",
    "    * df = pd.read_csv(\"aa.csv\")\n",
    "    * df = pd.read_sql(\"select * from emp\", conn)\n",
    "    * df = pd.read_json(\"aa.json\")\n",
    "    * df = gpd.read_file(\"geojson.json\")"
   ]
  },
  {
   "cell_type": "code",
   "execution_count": 14,
   "id": "43246739-6754-47c5-ab00-6ccf34e12c87",
   "metadata": {
    "tags": []
   },
   "outputs": [
    {
     "data": {
      "text/html": [
       "<div>\n",
       "<style scoped>\n",
       "    .dataframe tbody tr th:only-of-type {\n",
       "        vertical-align: middle;\n",
       "    }\n",
       "\n",
       "    .dataframe tbody tr th {\n",
       "        vertical-align: top;\n",
       "    }\n",
       "\n",
       "    .dataframe thead th {\n",
       "        text-align: right;\n",
       "    }\n",
       "</style>\n",
       "<table border=\"1\" class=\"dataframe\">\n",
       "  <thead>\n",
       "    <tr style=\"text-align: right;\">\n",
       "      <th></th>\n",
       "      <th>uid</th>\n",
       "      <th>upw</th>\n",
       "    </tr>\n",
       "  </thead>\n",
       "  <tbody>\n",
       "    <tr>\n",
       "      <th>0</th>\n",
       "      <td>kim</td>\n",
       "      <td>111</td>\n",
       "    </tr>\n",
       "    <tr>\n",
       "      <th>1</th>\n",
       "      <td>hong</td>\n",
       "      <td>222</td>\n",
       "    </tr>\n",
       "  </tbody>\n",
       "</table>\n",
       "</div>"
      ],
      "text/plain": [
       "    uid  upw\n",
       "0   kim  111\n",
       "1  hong  222"
      ]
     },
     "execution_count": 14,
     "metadata": {},
     "output_type": "execute_result"
    }
   ],
   "source": [
    "pd.read_json(\"./lec15_data2.json\")"
   ]
  },
  {
   "cell_type": "code",
   "execution_count": null,
   "id": "16e3c351-15fa-4363-b236-ef53c0eea62f",
   "metadata": {},
   "outputs": [],
   "source": []
  }
 ],
 "metadata": {
  "kernelspec": {
   "display_name": "Python 3 (ipykernel)",
   "language": "python",
   "name": "python3"
  },
  "language_info": {
   "codemirror_mode": {
    "name": "ipython",
    "version": 3
   },
   "file_extension": ".py",
   "mimetype": "text/x-python",
   "name": "python",
   "nbconvert_exporter": "python",
   "pygments_lexer": "ipython3",
   "version": "3.8.8"
  },
  "toc-autonumbering": true,
  "toc-showmarkdowntxt": false
 },
 "nbformat": 4,
 "nbformat_minor": 5
}
