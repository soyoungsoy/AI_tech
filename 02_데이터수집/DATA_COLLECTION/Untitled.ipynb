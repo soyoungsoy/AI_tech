{
 "cells": [
  {
   "cell_type": "code",
   "execution_count": 1,
   "id": "18d43fef-f178-4c11-a106-1fb2ef934ae3",
   "metadata": {},
   "outputs": [],
   "source": [
    "import numpy as np\n",
    "import pandas as pd\n",
    "import json\n",
    "from bs4 import BeautifulSoup\n",
    "import requests"
   ]
  },
  {
   "cell_type": "code",
   "execution_count": 16,
   "id": "007c00e3-1f82-4288-9ef5-606154360b34",
   "metadata": {
    "tags": []
   },
   "outputs": [
    {
     "name": "stdout",
     "output_type": "stream",
     "text": [
      "200\n"
     ]
    },
    {
     "data": {
      "text/plain": [
       "'<!doctype html><html lang=\"ko\"><head><meta charset=\"UTF-8\"><meta content=\"/images/branding/googleg/1x/googleg_standard_color_128dp.png\" itemprop=\"image\"><title>&#45208;&#49828;&#45797; - Google &#44160;&#49353;</title><script nonce=\"CpOfK2D04cWZJNvh_8mPhg\">(function(){\\ndocument.documentElement.addEventListener(\"submit\",function(b){var a;if(a=b.target){var c=a.getAttribute(\"data-submitfalse\");a=\"1\"===c||\"q\"===c&&!a.elements.q.value?!0:!1}else a=!1;a&&(b.preventDefault(),b.stopPropagation())},!0);'"
      ]
     },
     "execution_count": 16,
     "metadata": {},
     "output_type": "execute_result"
    }
   ],
   "source": [
    "res = requests.get(\"https://www.google.com/search?q=%EB%82%98%EC%8A%A4%EB%8B%A5&oq=%EB%82%98%EC%8A%A4%EB%8B%A5&aqs=chrome.0.69i59j69i57.2218j0j7&sourceid=chrome&ie=UTF-8\")\n",
    "print(res.status_code)\n",
    "res.text[:500]"
   ]
  },
  {
   "cell_type": "code",
   "execution_count": 21,
   "id": "501d43d7-e084-4d1b-ad5d-545f0b9e35f9",
   "metadata": {
    "tags": []
   },
   "outputs": [
    {
     "data": {
      "text/plain": [
       "[]"
      ]
     },
     "execution_count": 21,
     "metadata": {},
     "output_type": "execute_result"
    }
   ],
   "source": [
    "soup = BeautifulSoup(res.text, 'html.parser')\n",
    "aaul = soup.select('#knowledge-finance-wholepage__entity-summary > div.aviV4d > g-card-section > div > g-card-section > div.wGt0Bc > div.PZPZlf > span.WlRRw.IsqQVc.fw-price-up')\n",
    "\n",
    "\n",
    "aaul"
   ]
  }
 ],
 "metadata": {
  "kernelspec": {
   "display_name": "Python 3 (ipykernel)",
   "language": "python",
   "name": "python3"
  },
  "language_info": {
   "codemirror_mode": {
    "name": "ipython",
    "version": 3
   },
   "file_extension": ".py",
   "mimetype": "text/x-python",
   "name": "python",
   "nbconvert_exporter": "python",
   "pygments_lexer": "ipython3",
   "version": "3.8.8"
  }
 },
 "nbformat": 4,
 "nbformat_minor": 5
}
