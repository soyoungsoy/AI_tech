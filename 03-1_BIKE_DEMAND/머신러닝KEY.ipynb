{
 "cells": [
  {
   "cell_type": "code",
   "execution_count": null,
   "id": "cacc2119-4f37-4f2c-8b27-ac3059f032c1",
   "metadata": {},
   "outputs": [],
   "source": []
  },
  {
   "cell_type": "code",
   "execution_count": null,
   "id": "083c428f-ac3c-4367-8103-1d9b0bf56b07",
   "metadata": {},
   "outputs": [],
   "source": [
    "#LinearRegression() 별로"
   ]
  },
  {
   "cell_type": "markdown",
   "id": "e9f04c12-5693-4ec7-931e-f5a377298828",
   "metadata": {},
   "source": [
    "# 머신러닝 예제 적용(BIKE DEMAND)"
   ]
  },
  {
   "cell_type": "markdown",
   "id": "69a900c0-90f8-40b1-9540-5b9917f39d25",
   "metadata": {},
   "source": [
    "## MSE(score방식, 오차범위)"
   ]
  },
  {
   "cell_type": "code",
   "execution_count": null,
   "id": "7c4d7483-6ffe-481d-af6b-6f305ce8cabf",
   "metadata": {},
   "outputs": [],
   "source": [
    "#mse는 이상치 데이터에 민감하게 반응하기 때문에, 이상치 데이터를 찾아내는데 적합.\n",
    "# 이상치 데이터의 제곱은 오차 범위를 급격하게 벌어지게 한다.\n",
    "# 이상치 데이터를 드랍하는 것이 오차 범위 줄이는데 기여\n",
    "# rmse는 점수는 좋게 나올 수 있지만, 이상치를 발견하는데 어렵다. mse로 점수를 보면서 계속 찾는게 좋다."
   ]
  },
  {
   "cell_type": "code",
   "execution_count": 312,
   "id": "0a2aa82c-3db7-45b6-87b4-c2ccc4eebd8c",
   "metadata": {
    "tags": []
   },
   "outputs": [
    {
     "data": {
      "text/plain": [
       "35.57719413366156"
      ]
     },
     "execution_count": 312,
     "metadata": {},
     "output_type": "execute_result"
    }
   ],
   "source": [
    "from sklearn.metrics import mean_squared_error , r2_score #mean square import\n",
    "\n",
    "mse = mean_squared_error(정답20, 예측답안)\n",
    "mse**(1/2)"
   ]
  },
  {
   "cell_type": "markdown",
   "id": "95225777-aece-416a-9a3a-652aba5519c6",
   "metadata": {
    "jp-MarkdownHeadingCollapsed": true,
    "tags": []
   },
   "source": [
    "## MSE의 단점\n",
    "\n",
    "    - outlier 에 민감하게 분석하기 때문에, 점수를 줄여나갈 수록 오버피팅 될 가능성이 높다.\n",
    "    - 고정값으로 놓고 테스트하면 오버피팅될 가능성이 높다."
   ]
  }
 ],
 "metadata": {
  "kernelspec": {
   "display_name": "Python 3 (ipykernel)",
   "language": "python",
   "name": "python3"
  },
  "language_info": {
   "codemirror_mode": {
    "name": "ipython",
    "version": 3
   },
   "file_extension": ".py",
   "mimetype": "text/x-python",
   "name": "python",
   "nbconvert_exporter": "python",
   "pygments_lexer": "ipython3",
   "version": "3.8.8"
  }
 },
 "nbformat": 4,
 "nbformat_minor": 5
}
