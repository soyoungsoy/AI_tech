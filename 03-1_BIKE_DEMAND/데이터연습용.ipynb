{
 "cells": [
  {
   "cell_type": "markdown",
   "id": "12985d00-e397-4927-bf17-0abad5c86858",
   "metadata": {},
   "source": [
    "# **Bike Sharing Demand** "
   ]
  },
  {
   "cell_type": "markdown",
   "id": "e1771366-4d66-430c-9469-686ede3e7d91",
   "metadata": {},
   "source": [
    "https://www.kaggle.com/competitions/bike-sharing-demand/data\n",
    "\n",
    "**META DATA**\n",
    "<pre>\n",
    "\n",
    "Data Fields\n",
    "\n",
    "\n",
    "datetime - hourly date + timestamp  \n",
    "season -  1 = spring, 2 = summer, 3 = fall, 4 = winter \n",
    "holiday - whether the day is considered a holiday\n",
    "workingday - whether the day is neither a weekend nor holiday\n",
    "weather - 1: Clear, Few clouds, Partly cloudy, Partly cloudy\n",
    "2: Mist + Cloudy, Mist + Broken clouds, Mist + Few clouds, Mist\n",
    "3: Light Snow, Light Rain + Thunderstorm + Scattered clouds, Light Rain + Scattered clouds\n",
    "4: Heavy Rain + Ice Pallets + Thunderstorm + Mist, Snow + Fog \n",
    "temp - temperature in Celsius\n",
    "atemp - \"feels like\" temperature in Celsius\n",
    "humidity - relative humidity\n",
    "windspeed - wind speed\n",
    "casual - number of non-registered user rentals initiated\n",
    "registered - number of registered user rentals initiated\n",
    "count - number of total rentals\n",
    "\n",
    "datetime - 시간별 날짜 + 타임스탬프  \n",
    "season - 1 = 봄, 2 = 여름, 3 = 가을, 4 = 겨울 \n",
    "holiday - 해당 요일을 휴일\n",
    "workingday - 요일이 주말이나 휴일 날씨가 아닌지\n",
    "weather\n",
    "1: 맑음, 약간 구름, 부분 흐림, 부분 흐림\n",
    "2: 안개 + 흐림, 안개 + 부서진 구름, 안개 + 약간 구름, 안개\n",
    "3: 가벼운 눈, 약한 비 + 뇌우 + 흩어진 구름, 약한 비 + 흩어진 구름\n",
    "4: 폭우 + 얼음 팔레트 + 뇌우 + 안개, 눈 + 안개 \n",
    "temp - 섭씨 온도\n",
    "atemp - 섭씨 온도\n",
    "humidity - 상대습도\n",
    "windspeed - 풍속\n",
    "casual - 미등록 사용자 대여 시작 수\n",
    "registered - 등록 사용자 대여 시작\n",
    "<b>count - 총 대여 수 => Target Feature </b>\n",
    "</pre>"
   ]
  },
  {
   "cell_type": "code",
   "execution_count": 1,
   "id": "9ff457df-a717-456e-bf47-23e2120c3466",
   "metadata": {
    "tags": []
   },
   "outputs": [],
   "source": [
    "import numpy as np\n",
    "import pandas as pd"
   ]
  },
  {
   "cell_type": "code",
   "execution_count": 2,
   "id": "95f9cfd0-5208-4ccb-84d8-50309e510281",
   "metadata": {
    "tags": []
   },
   "outputs": [],
   "source": [
    "import warnings\n",
    "warnings.filterwarnings(action = 'ignore')"
   ]
  },
  {
   "cell_type": "code",
   "execution_count": 3,
   "id": "35af9cad-b0b1-4d2b-96b6-4c681afb71eb",
   "metadata": {
    "tags": []
   },
   "outputs": [
    {
     "data": {
      "text/html": [
       "<div>\n",
       "<style scoped>\n",
       "    .dataframe tbody tr th:only-of-type {\n",
       "        vertical-align: middle;\n",
       "    }\n",
       "\n",
       "    .dataframe tbody tr th {\n",
       "        vertical-align: top;\n",
       "    }\n",
       "\n",
       "    .dataframe thead th {\n",
       "        text-align: right;\n",
       "    }\n",
       "</style>\n",
       "<table border=\"1\" class=\"dataframe\">\n",
       "  <thead>\n",
       "    <tr style=\"text-align: right;\">\n",
       "      <th></th>\n",
       "      <th>datetime</th>\n",
       "      <th>season</th>\n",
       "      <th>holiday</th>\n",
       "      <th>workingday</th>\n",
       "      <th>weather</th>\n",
       "      <th>temp</th>\n",
       "      <th>atemp</th>\n",
       "      <th>humidity</th>\n",
       "      <th>windspeed</th>\n",
       "      <th>casual</th>\n",
       "      <th>registered</th>\n",
       "      <th>count</th>\n",
       "    </tr>\n",
       "  </thead>\n",
       "  <tbody>\n",
       "    <tr>\n",
       "      <th>0</th>\n",
       "      <td>2011-01-01 00:00:00</td>\n",
       "      <td>1</td>\n",
       "      <td>0</td>\n",
       "      <td>0</td>\n",
       "      <td>1</td>\n",
       "      <td>9.84</td>\n",
       "      <td>14.395</td>\n",
       "      <td>81</td>\n",
       "      <td>0.0</td>\n",
       "      <td>3</td>\n",
       "      <td>13</td>\n",
       "      <td>16</td>\n",
       "    </tr>\n",
       "    <tr>\n",
       "      <th>1</th>\n",
       "      <td>2011-01-01 01:00:00</td>\n",
       "      <td>1</td>\n",
       "      <td>0</td>\n",
       "      <td>0</td>\n",
       "      <td>1</td>\n",
       "      <td>9.02</td>\n",
       "      <td>13.635</td>\n",
       "      <td>80</td>\n",
       "      <td>0.0</td>\n",
       "      <td>8</td>\n",
       "      <td>32</td>\n",
       "      <td>40</td>\n",
       "    </tr>\n",
       "    <tr>\n",
       "      <th>2</th>\n",
       "      <td>2011-01-01 02:00:00</td>\n",
       "      <td>1</td>\n",
       "      <td>0</td>\n",
       "      <td>0</td>\n",
       "      <td>1</td>\n",
       "      <td>9.02</td>\n",
       "      <td>13.635</td>\n",
       "      <td>80</td>\n",
       "      <td>0.0</td>\n",
       "      <td>5</td>\n",
       "      <td>27</td>\n",
       "      <td>32</td>\n",
       "    </tr>\n",
       "    <tr>\n",
       "      <th>3</th>\n",
       "      <td>2011-01-01 03:00:00</td>\n",
       "      <td>1</td>\n",
       "      <td>0</td>\n",
       "      <td>0</td>\n",
       "      <td>1</td>\n",
       "      <td>9.84</td>\n",
       "      <td>14.395</td>\n",
       "      <td>75</td>\n",
       "      <td>0.0</td>\n",
       "      <td>3</td>\n",
       "      <td>10</td>\n",
       "      <td>13</td>\n",
       "    </tr>\n",
       "    <tr>\n",
       "      <th>4</th>\n",
       "      <td>2011-01-01 04:00:00</td>\n",
       "      <td>1</td>\n",
       "      <td>0</td>\n",
       "      <td>0</td>\n",
       "      <td>1</td>\n",
       "      <td>9.84</td>\n",
       "      <td>14.395</td>\n",
       "      <td>75</td>\n",
       "      <td>0.0</td>\n",
       "      <td>0</td>\n",
       "      <td>1</td>\n",
       "      <td>1</td>\n",
       "    </tr>\n",
       "  </tbody>\n",
       "</table>\n",
       "</div>"
      ],
      "text/plain": [
       "              datetime  season  holiday  workingday  weather  temp   atemp  \\\n",
       "0  2011-01-01 00:00:00       1        0           0        1  9.84  14.395   \n",
       "1  2011-01-01 01:00:00       1        0           0        1  9.02  13.635   \n",
       "2  2011-01-01 02:00:00       1        0           0        1  9.02  13.635   \n",
       "3  2011-01-01 03:00:00       1        0           0        1  9.84  14.395   \n",
       "4  2011-01-01 04:00:00       1        0           0        1  9.84  14.395   \n",
       "\n",
       "   humidity  windspeed  casual  registered  count  \n",
       "0        81        0.0       3          13     16  \n",
       "1        80        0.0       8          32     40  \n",
       "2        80        0.0       5          27     32  \n",
       "3        75        0.0       3          10     13  \n",
       "4        75        0.0       0           1      1  "
      ]
     },
     "execution_count": 3,
     "metadata": {},
     "output_type": "execute_result"
    }
   ],
   "source": [
    "tr = pd.read_csv('./train.csv') #로드! np, pd import\n",
    "tr.columns = tr.columns.str.lower() #작업하기 편하게 컬럼명 소문자로 변경\n",
    "tr.head()"
   ]
  },
  {
   "cell_type": "markdown",
   "id": "4bbb3045-89ac-4891-9b30-c283beaf2ab6",
   "metadata": {},
   "source": [
    "* 만약에 컬럼 리스트가 있다면..?\n",
    ">tr.columns = ['컬럼명','컬럼명','컬럼명','컬럼명',..]\n",
    " 이런식으로 넣어줘도 컬럼은 바뀐다.\n",
    "\n",
    "다만, 컬럼 갯수는 맞춰야 에러나지 않는다."
   ]
  },
  {
   "cell_type": "markdown",
   "id": "9cb7065f-943c-4caa-bf2f-83447752d6bc",
   "metadata": {},
   "source": [
    "* 일반적으로 Data road할 때, 날짜로 변경하지만(parse_dates=['date_time']) 연습을 위해 보류"
   ]
  },
  {
   "cell_type": "code",
   "execution_count": 4,
   "id": "7cb9d6fe-ac10-4817-823e-a96de5cd8ec1",
   "metadata": {
    "tags": []
   },
   "outputs": [
    {
     "name": "stdout",
     "output_type": "stream",
     "text": [
      "<class 'pandas.core.frame.DataFrame'>\n",
      "RangeIndex: 10886 entries, 0 to 10885\n",
      "Data columns (total 12 columns):\n",
      " #   Column      Non-Null Count  Dtype  \n",
      "---  ------      --------------  -----  \n",
      " 0   datetime    10886 non-null  object \n",
      " 1   season      10886 non-null  int64  \n",
      " 2   holiday     10886 non-null  int64  \n",
      " 3   workingday  10886 non-null  int64  \n",
      " 4   weather     10886 non-null  int64  \n",
      " 5   temp        10886 non-null  float64\n",
      " 6   atemp       10886 non-null  float64\n",
      " 7   humidity    10886 non-null  int64  \n",
      " 8   windspeed   10886 non-null  float64\n",
      " 9   casual      10886 non-null  int64  \n",
      " 10  registered  10886 non-null  int64  \n",
      " 11  count       10886 non-null  int64  \n",
      "dtypes: float64(3), int64(8), object(1)\n",
      "memory usage: 1020.7+ KB\n"
     ]
    }
   ],
   "source": [
    "tr.info()\n",
    "\n",
    "#결측이 없다. 오브젝트는 있다.\n",
    "\n",
    "#날짜로 바꿀 수 있지만(parse_dates[]), 연습을 위해 보류\n",
    "#datetime 컬럼이름이 예약어라서 rename할 것"
   ]
  },
  {
   "cell_type": "markdown",
   "id": "535f0ebc-df7c-49d4-8efd-56ece94cd71b",
   "metadata": {},
   "source": [
    "# Rename\n",
    "* datetime은 보통 예약어이기 때문에, 컬럼이름을 변경해준다.\n",
    "\n",
    "> <font color = blue>df.rename(columns = {'old_nm' : 'new_nm'}, inplace = True)"
   ]
  },
  {
   "cell_type": "code",
   "execution_count": 5,
   "id": "dfcccd9e-b1ce-4631-81ae-f092af3265d9",
   "metadata": {
    "tags": []
   },
   "outputs": [],
   "source": [
    "tr.rename(columns = {'datetime' : 'regdate'}, inplace = True)"
   ]
  },
  {
   "cell_type": "markdown",
   "id": "89950216-eb22-404e-a4ff-7ec1a45c1769",
   "metadata": {},
   "source": [
    "# 구조확인 3종\n",
    "    - df.head()\n",
    "    - df.info()\n",
    "    - df.shape : 필요할 때"
   ]
  },
  {
   "cell_type": "markdown",
   "id": "b25d1a20-e6a4-47b4-bb4b-eee0563d122c",
   "metadata": {},
   "source": [
    "## 결측 체크"
   ]
  },
  {
   "cell_type": "code",
   "execution_count": 6,
   "id": "5c50f264-7a57-4b4a-a2f3-dfa8f4567203",
   "metadata": {
    "tags": []
   },
   "outputs": [
    {
     "data": {
      "text/plain": [
       "0    12\n",
       "dtype: int64"
      ]
     },
     "execution_count": 6,
     "metadata": {},
     "output_type": "execute_result"
    }
   ],
   "source": [
    "tr.isna().sum().value_counts()"
   ]
  },
  {
   "cell_type": "markdown",
   "id": "bb2e6d20-eae4-4858-9f1b-9b2bb0119c1f",
   "metadata": {},
   "source": [
    "## Object 체크"
   ]
  },
  {
   "cell_type": "code",
   "execution_count": 7,
   "id": "7d1c0eba-5f4e-4d59-96f0-1aee2c2b6bf5",
   "metadata": {
    "tags": []
   },
   "outputs": [
    {
     "data": {
      "text/plain": [
       "Index(['regdate'], dtype='object')"
      ]
     },
     "execution_count": 7,
     "metadata": {},
     "output_type": "execute_result"
    }
   ],
   "source": [
    "tr.select_dtypes('object').columns"
   ]
  },
  {
   "cell_type": "markdown",
   "id": "9c9c2cd2-3a89-448c-9c9d-777d8dc126db",
   "metadata": {},
   "source": [
    "### regdate 포맷(타입) 변환\n",
    "    - object(str) ---> datetime"
   ]
  },
  {
   "cell_type": "code",
   "execution_count": 8,
   "id": "4cb661f5-1428-4610-8265-4db1b7faaf12",
   "metadata": {
    "tags": []
   },
   "outputs": [],
   "source": [
    "from datetime import datetime"
   ]
  },
  {
   "cell_type": "code",
   "execution_count": 9,
   "id": "365d8b40-0a33-4653-8067-d4411dc3f658",
   "metadata": {
    "tags": []
   },
   "outputs": [
    {
     "data": {
      "text/plain": [
       "datetime.datetime(2020, 12, 14, 20, 12, 59)"
      ]
     },
     "execution_count": 9,
     "metadata": {},
     "output_type": "execute_result"
    }
   ],
   "source": [
    "datetime.strptime('2020-12-14 20:12:59','%Y-%m-%d %H:%M:%S')\n",
    "\n",
    "#글자를 날짜로"
   ]
  },
  {
   "cell_type": "code",
   "execution_count": 10,
   "id": "97fbe4b2-4fef-4b4d-967f-e08efff88fb3",
   "metadata": {
    "tags": []
   },
   "outputs": [
    {
     "data": {
      "text/plain": [
       "datetime.datetime(2020, 12, 14, 20, 12, 59)"
      ]
     },
     "execution_count": 10,
     "metadata": {},
     "output_type": "execute_result"
    }
   ],
   "source": [
    "datetime.fromisoformat('2020-12-14 20:12:59')\n",
    "\n",
    "#글자를 날짜로"
   ]
  },
  {
   "cell_type": "markdown",
   "id": "46894543-513d-499f-87b5-05e9ea62e69c",
   "metadata": {},
   "source": [
    "* Dataframe '2020-01-01' ------> datetime.datetime(2020,1,1)"
   ]
  },
  {
   "cell_type": "markdown",
   "id": "82107432-93c3-4b92-9e2e-2fe70d11d021",
   "metadata": {},
   "source": [
    "### 기타 방법\n",
    "    - pd.read_csv(..parse_dates=[컬럼명])\n",
    "    - pd.to_datetime(df[컬럼])\n",
    "    -df[].astype('datetime64')"
   ]
  },
  {
   "cell_type": "code",
   "execution_count": 11,
   "id": "fb41e917-632e-452f-8eaf-e6f137073c59",
   "metadata": {
    "tags": []
   },
   "outputs": [
    {
     "data": {
      "text/html": [
       "<div>\n",
       "<style scoped>\n",
       "    .dataframe tbody tr th:only-of-type {\n",
       "        vertical-align: middle;\n",
       "    }\n",
       "\n",
       "    .dataframe tbody tr th {\n",
       "        vertical-align: top;\n",
       "    }\n",
       "\n",
       "    .dataframe thead th {\n",
       "        text-align: right;\n",
       "    }\n",
       "</style>\n",
       "<table border=\"1\" class=\"dataframe\">\n",
       "  <thead>\n",
       "    <tr style=\"text-align: right;\">\n",
       "      <th></th>\n",
       "      <th>regdate</th>\n",
       "      <th>season</th>\n",
       "      <th>holiday</th>\n",
       "      <th>workingday</th>\n",
       "      <th>weather</th>\n",
       "      <th>temp</th>\n",
       "      <th>atemp</th>\n",
       "      <th>humidity</th>\n",
       "      <th>windspeed</th>\n",
       "      <th>casual</th>\n",
       "      <th>registered</th>\n",
       "      <th>count</th>\n",
       "      <th>regdate_datetype22</th>\n",
       "    </tr>\n",
       "  </thead>\n",
       "  <tbody>\n",
       "    <tr>\n",
       "      <th>0</th>\n",
       "      <td>2011-01-01 00:00:00</td>\n",
       "      <td>1</td>\n",
       "      <td>0</td>\n",
       "      <td>0</td>\n",
       "      <td>1</td>\n",
       "      <td>9.84</td>\n",
       "      <td>14.395</td>\n",
       "      <td>81</td>\n",
       "      <td>0.0</td>\n",
       "      <td>3</td>\n",
       "      <td>13</td>\n",
       "      <td>16</td>\n",
       "      <td>2011-01-01 00:00:00</td>\n",
       "    </tr>\n",
       "    <tr>\n",
       "      <th>1</th>\n",
       "      <td>2011-01-01 01:00:00</td>\n",
       "      <td>1</td>\n",
       "      <td>0</td>\n",
       "      <td>0</td>\n",
       "      <td>1</td>\n",
       "      <td>9.02</td>\n",
       "      <td>13.635</td>\n",
       "      <td>80</td>\n",
       "      <td>0.0</td>\n",
       "      <td>8</td>\n",
       "      <td>32</td>\n",
       "      <td>40</td>\n",
       "      <td>2011-01-01 01:00:00</td>\n",
       "    </tr>\n",
       "  </tbody>\n",
       "</table>\n",
       "</div>"
      ],
      "text/plain": [
       "               regdate  season  holiday  workingday  weather  temp   atemp  \\\n",
       "0  2011-01-01 00:00:00       1        0           0        1  9.84  14.395   \n",
       "1  2011-01-01 01:00:00       1        0           0        1  9.02  13.635   \n",
       "\n",
       "   humidity  windspeed  casual  registered  count  regdate_datetype22  \n",
       "0        81        0.0       3          13     16 2011-01-01 00:00:00  \n",
       "1        80        0.0       8          32     40 2011-01-01 01:00:00  "
      ]
     },
     "execution_count": 11,
     "metadata": {},
     "output_type": "execute_result"
    }
   ],
   "source": [
    "tr['regdate_datetype22']=pd.to_datetime(tr['regdate'])\n",
    "tr.head(2)"
   ]
  },
  {
   "cell_type": "code",
   "execution_count": 12,
   "id": "218f4004-59f3-4d9f-b3dc-c322feac8e7c",
   "metadata": {
    "tags": []
   },
   "outputs": [
    {
     "name": "stdout",
     "output_type": "stream",
     "text": [
      "<class 'pandas.core.frame.DataFrame'>\n",
      "RangeIndex: 10886 entries, 0 to 10885\n",
      "Data columns (total 13 columns):\n",
      " #   Column              Non-Null Count  Dtype         \n",
      "---  ------              --------------  -----         \n",
      " 0   regdate             10886 non-null  object        \n",
      " 1   season              10886 non-null  int64         \n",
      " 2   holiday             10886 non-null  int64         \n",
      " 3   workingday          10886 non-null  int64         \n",
      " 4   weather             10886 non-null  int64         \n",
      " 5   temp                10886 non-null  float64       \n",
      " 6   atemp               10886 non-null  float64       \n",
      " 7   humidity            10886 non-null  int64         \n",
      " 8   windspeed           10886 non-null  float64       \n",
      " 9   casual              10886 non-null  int64         \n",
      " 10  registered          10886 non-null  int64         \n",
      " 11  count               10886 non-null  int64         \n",
      " 12  regdate_datetype22  10886 non-null  datetime64[ns]\n",
      "dtypes: datetime64[ns](1), float64(3), int64(8), object(1)\n",
      "memory usage: 1.1+ MB\n"
     ]
    }
   ],
   "source": [
    "tr.info()"
   ]
  },
  {
   "cell_type": "code",
   "execution_count": 13,
   "id": "ce8fbd3f-71d4-4d61-b035-ecddd10f714d",
   "metadata": {
    "tags": []
   },
   "outputs": [
    {
     "data": {
      "text/html": [
       "<div>\n",
       "<style scoped>\n",
       "    .dataframe tbody tr th:only-of-type {\n",
       "        vertical-align: middle;\n",
       "    }\n",
       "\n",
       "    .dataframe tbody tr th {\n",
       "        vertical-align: top;\n",
       "    }\n",
       "\n",
       "    .dataframe thead th {\n",
       "        text-align: right;\n",
       "    }\n",
       "</style>\n",
       "<table border=\"1\" class=\"dataframe\">\n",
       "  <thead>\n",
       "    <tr style=\"text-align: right;\">\n",
       "      <th></th>\n",
       "      <th>regdate</th>\n",
       "      <th>season</th>\n",
       "      <th>holiday</th>\n",
       "      <th>workingday</th>\n",
       "      <th>weather</th>\n",
       "      <th>temp</th>\n",
       "      <th>atemp</th>\n",
       "      <th>humidity</th>\n",
       "      <th>windspeed</th>\n",
       "      <th>casual</th>\n",
       "      <th>registered</th>\n",
       "      <th>count</th>\n",
       "      <th>regdate_datetype22</th>\n",
       "      <th>regdate_datetype33</th>\n",
       "    </tr>\n",
       "  </thead>\n",
       "  <tbody>\n",
       "    <tr>\n",
       "      <th>0</th>\n",
       "      <td>2011-01-01 00:00:00</td>\n",
       "      <td>1</td>\n",
       "      <td>0</td>\n",
       "      <td>0</td>\n",
       "      <td>1</td>\n",
       "      <td>9.84</td>\n",
       "      <td>14.395</td>\n",
       "      <td>81</td>\n",
       "      <td>0.0</td>\n",
       "      <td>3</td>\n",
       "      <td>13</td>\n",
       "      <td>16</td>\n",
       "      <td>2011-01-01 00:00:00</td>\n",
       "      <td>2011-01-01 00:00:00</td>\n",
       "    </tr>\n",
       "    <tr>\n",
       "      <th>1</th>\n",
       "      <td>2011-01-01 01:00:00</td>\n",
       "      <td>1</td>\n",
       "      <td>0</td>\n",
       "      <td>0</td>\n",
       "      <td>1</td>\n",
       "      <td>9.02</td>\n",
       "      <td>13.635</td>\n",
       "      <td>80</td>\n",
       "      <td>0.0</td>\n",
       "      <td>8</td>\n",
       "      <td>32</td>\n",
       "      <td>40</td>\n",
       "      <td>2011-01-01 01:00:00</td>\n",
       "      <td>2011-01-01 01:00:00</td>\n",
       "    </tr>\n",
       "  </tbody>\n",
       "</table>\n",
       "</div>"
      ],
      "text/plain": [
       "               regdate  season  holiday  workingday  weather  temp   atemp  \\\n",
       "0  2011-01-01 00:00:00       1        0           0        1  9.84  14.395   \n",
       "1  2011-01-01 01:00:00       1        0           0        1  9.02  13.635   \n",
       "\n",
       "   humidity  windspeed  casual  registered  count  regdate_datetype22  \\\n",
       "0        81        0.0       3          13     16 2011-01-01 00:00:00   \n",
       "1        80        0.0       8          32     40 2011-01-01 01:00:00   \n",
       "\n",
       "   regdate_datetype33  \n",
       "0 2011-01-01 00:00:00  \n",
       "1 2011-01-01 01:00:00  "
      ]
     },
     "execution_count": 13,
     "metadata": {},
     "output_type": "execute_result"
    }
   ],
   "source": [
    "tr['regdate_datetype33']=tr['regdate'].apply(lambda x : datetime.strptime(x,'%Y-%m-%d %H:%M:%S'))\n",
    "tr.head(2)\n",
    "\n",
    "#바꾼 값을 전체에 적용해라 : 람다"
   ]
  },
  {
   "cell_type": "code",
   "execution_count": 14,
   "id": "304e8851-166d-4738-aaae-1c4abb14ec29",
   "metadata": {
    "tags": []
   },
   "outputs": [
    {
     "name": "stdout",
     "output_type": "stream",
     "text": [
      "<class 'pandas.core.frame.DataFrame'>\n",
      "RangeIndex: 10886 entries, 0 to 10885\n",
      "Data columns (total 15 columns):\n",
      " #   Column              Non-Null Count  Dtype         \n",
      "---  ------              --------------  -----         \n",
      " 0   regdate             10886 non-null  object        \n",
      " 1   season              10886 non-null  int64         \n",
      " 2   holiday             10886 non-null  int64         \n",
      " 3   workingday          10886 non-null  int64         \n",
      " 4   weather             10886 non-null  int64         \n",
      " 5   temp                10886 non-null  float64       \n",
      " 6   atemp               10886 non-null  float64       \n",
      " 7   humidity            10886 non-null  int64         \n",
      " 8   windspeed           10886 non-null  float64       \n",
      " 9   casual              10886 non-null  int64         \n",
      " 10  registered          10886 non-null  int64         \n",
      " 11  count               10886 non-null  int64         \n",
      " 12  regdate_datetype22  10886 non-null  datetime64[ns]\n",
      " 13  regdate_datetype33  10886 non-null  datetime64[ns]\n",
      " 14  regdate44           10886 non-null  datetime64[ns]\n",
      "dtypes: datetime64[ns](3), float64(3), int64(8), object(1)\n",
      "memory usage: 1.2+ MB\n"
     ]
    }
   ],
   "source": [
    "tr['regdate44']= tr['regdate'].astype('datetime64[ns]')\n",
    "tr.info()"
   ]
  },
  {
   "cell_type": "markdown",
   "id": "0cb44926-1bce-495f-8497-a51c8b0c695c",
   "metadata": {
    "tags": []
   },
   "source": [
    "## Shape 체크"
   ]
  },
  {
   "cell_type": "code",
   "execution_count": 15,
   "id": "f179894c-9338-47a8-82ab-ae109c341b27",
   "metadata": {
    "tags": []
   },
   "outputs": [
    {
     "data": {
      "text/plain": [
       "(10886, 15)"
      ]
     },
     "execution_count": 15,
     "metadata": {},
     "output_type": "execute_result"
    }
   ],
   "source": [
    "tr.shape"
   ]
  },
  {
   "cell_type": "markdown",
   "id": "c0a00a98-24c2-401c-9392-4c9a34e3148b",
   "metadata": {},
   "source": [
    "# EDA 시작"
   ]
  },
  {
   "cell_type": "code",
   "execution_count": 16,
   "id": "6e7475a9-fa07-41a4-b610-a9f61a246050",
   "metadata": {
    "tags": []
   },
   "outputs": [
    {
     "data": {
      "text/html": [
       "<div>\n",
       "<style scoped>\n",
       "    .dataframe tbody tr th:only-of-type {\n",
       "        vertical-align: middle;\n",
       "    }\n",
       "\n",
       "    .dataframe tbody tr th {\n",
       "        vertical-align: top;\n",
       "    }\n",
       "\n",
       "    .dataframe thead th {\n",
       "        text-align: right;\n",
       "    }\n",
       "</style>\n",
       "<table border=\"1\" class=\"dataframe\">\n",
       "  <thead>\n",
       "    <tr style=\"text-align: right;\">\n",
       "      <th></th>\n",
       "      <th>datetime</th>\n",
       "      <th>season</th>\n",
       "      <th>holiday</th>\n",
       "      <th>workingday</th>\n",
       "      <th>weather</th>\n",
       "      <th>temp</th>\n",
       "      <th>atemp</th>\n",
       "      <th>humidity</th>\n",
       "      <th>windspeed</th>\n",
       "      <th>casual</th>\n",
       "      <th>registered</th>\n",
       "      <th>count</th>\n",
       "    </tr>\n",
       "  </thead>\n",
       "  <tbody>\n",
       "    <tr>\n",
       "      <th>0</th>\n",
       "      <td>2011-01-01 00:00:00</td>\n",
       "      <td>1</td>\n",
       "      <td>0</td>\n",
       "      <td>0</td>\n",
       "      <td>1</td>\n",
       "      <td>9.84</td>\n",
       "      <td>14.395</td>\n",
       "      <td>81</td>\n",
       "      <td>0.0</td>\n",
       "      <td>3</td>\n",
       "      <td>13</td>\n",
       "      <td>16</td>\n",
       "    </tr>\n",
       "    <tr>\n",
       "      <th>1</th>\n",
       "      <td>2011-01-01 01:00:00</td>\n",
       "      <td>1</td>\n",
       "      <td>0</td>\n",
       "      <td>0</td>\n",
       "      <td>1</td>\n",
       "      <td>9.02</td>\n",
       "      <td>13.635</td>\n",
       "      <td>80</td>\n",
       "      <td>0.0</td>\n",
       "      <td>8</td>\n",
       "      <td>32</td>\n",
       "      <td>40</td>\n",
       "    </tr>\n",
       "  </tbody>\n",
       "</table>\n",
       "</div>"
      ],
      "text/plain": [
       "             datetime  season  holiday  workingday  weather  temp   atemp  \\\n",
       "0 2011-01-01 00:00:00       1        0           0        1  9.84  14.395   \n",
       "1 2011-01-01 01:00:00       1        0           0        1  9.02  13.635   \n",
       "\n",
       "   humidity  windspeed  casual  registered  count  \n",
       "0        81        0.0       3          13     16  \n",
       "1        80        0.0       8          32     40  "
      ]
     },
     "execution_count": 16,
     "metadata": {},
     "output_type": "execute_result"
    }
   ],
   "source": [
    "tr = pd.read_csv('./train.csv', parse_dates=[\"datetime\"]) #로드! np, pd import\n",
    "tr.columns = tr.columns.str.lower() #작업하기 편하게 컬럼명 소문자로 변경\n",
    "tr.head(2)"
   ]
  },
  {
   "cell_type": "code",
   "execution_count": 17,
   "id": "fca93bc1-5e88-49c5-b516-5ab70da0b8b4",
   "metadata": {
    "tags": []
   },
   "outputs": [
    {
     "data": {
      "text/html": [
       "<div>\n",
       "<style scoped>\n",
       "    .dataframe tbody tr th:only-of-type {\n",
       "        vertical-align: middle;\n",
       "    }\n",
       "\n",
       "    .dataframe tbody tr th {\n",
       "        vertical-align: top;\n",
       "    }\n",
       "\n",
       "    .dataframe thead th {\n",
       "        text-align: right;\n",
       "    }\n",
       "</style>\n",
       "<table border=\"1\" class=\"dataframe\">\n",
       "  <thead>\n",
       "    <tr style=\"text-align: right;\">\n",
       "      <th></th>\n",
       "      <th>regdate</th>\n",
       "      <th>season</th>\n",
       "      <th>holiday</th>\n",
       "      <th>workingday</th>\n",
       "      <th>weather</th>\n",
       "      <th>temp</th>\n",
       "      <th>atemp</th>\n",
       "      <th>humidity</th>\n",
       "      <th>windspeed</th>\n",
       "      <th>casual</th>\n",
       "      <th>registered</th>\n",
       "      <th>count</th>\n",
       "    </tr>\n",
       "  </thead>\n",
       "  <tbody>\n",
       "    <tr>\n",
       "      <th>0</th>\n",
       "      <td>2011-01-01 00:00:00</td>\n",
       "      <td>1</td>\n",
       "      <td>0</td>\n",
       "      <td>0</td>\n",
       "      <td>1</td>\n",
       "      <td>9.84</td>\n",
       "      <td>14.395</td>\n",
       "      <td>81</td>\n",
       "      <td>0.0</td>\n",
       "      <td>3</td>\n",
       "      <td>13</td>\n",
       "      <td>16</td>\n",
       "    </tr>\n",
       "    <tr>\n",
       "      <th>1</th>\n",
       "      <td>2011-01-01 01:00:00</td>\n",
       "      <td>1</td>\n",
       "      <td>0</td>\n",
       "      <td>0</td>\n",
       "      <td>1</td>\n",
       "      <td>9.02</td>\n",
       "      <td>13.635</td>\n",
       "      <td>80</td>\n",
       "      <td>0.0</td>\n",
       "      <td>8</td>\n",
       "      <td>32</td>\n",
       "      <td>40</td>\n",
       "    </tr>\n",
       "  </tbody>\n",
       "</table>\n",
       "</div>"
      ],
      "text/plain": [
       "              regdate  season  holiday  workingday  weather  temp   atemp  \\\n",
       "0 2011-01-01 00:00:00       1        0           0        1  9.84  14.395   \n",
       "1 2011-01-01 01:00:00       1        0           0        1  9.02  13.635   \n",
       "\n",
       "   humidity  windspeed  casual  registered  count  \n",
       "0        81        0.0       3          13     16  \n",
       "1        80        0.0       8          32     40  "
      ]
     },
     "execution_count": 17,
     "metadata": {},
     "output_type": "execute_result"
    }
   ],
   "source": [
    "tr.rename(columns = {'datetime' : 'regdate'}, inplace = True)\n",
    "tr.head(2)"
   ]
  },
  {
   "cell_type": "code",
   "execution_count": 18,
   "id": "420b40ba-97a5-4b7c-aa41-9b95b7d766e1",
   "metadata": {
    "tags": []
   },
   "outputs": [
    {
     "name": "stdout",
     "output_type": "stream",
     "text": [
      "<class 'pandas.core.frame.DataFrame'>\n",
      "RangeIndex: 10886 entries, 0 to 10885\n",
      "Data columns (total 12 columns):\n",
      " #   Column      Non-Null Count  Dtype         \n",
      "---  ------      --------------  -----         \n",
      " 0   regdate     10886 non-null  datetime64[ns]\n",
      " 1   season      10886 non-null  int64         \n",
      " 2   holiday     10886 non-null  int64         \n",
      " 3   workingday  10886 non-null  int64         \n",
      " 4   weather     10886 non-null  int64         \n",
      " 5   temp        10886 non-null  float64       \n",
      " 6   atemp       10886 non-null  float64       \n",
      " 7   humidity    10886 non-null  int64         \n",
      " 8   windspeed   10886 non-null  float64       \n",
      " 9   casual      10886 non-null  int64         \n",
      " 10  registered  10886 non-null  int64         \n",
      " 11  count       10886 non-null  int64         \n",
      "dtypes: datetime64[ns](1), float64(3), int64(8)\n",
      "memory usage: 1020.7 KB\n"
     ]
    }
   ],
   "source": [
    "tr.info()"
   ]
  },
  {
   "cell_type": "markdown",
   "id": "29694df0-0a97-40e3-9bc0-218b0e0793aa",
   "metadata": {},
   "source": [
    "## regdate"
   ]
  },
  {
   "cell_type": "code",
   "execution_count": 19,
   "id": "7a30f404-c1eb-4c2b-92e1-a602aee901eb",
   "metadata": {
    "tags": []
   },
   "outputs": [],
   "source": [
    "from datetime import datetime, date"
   ]
  },
  {
   "cell_type": "code",
   "execution_count": 20,
   "id": "5ef4c07a-97f9-4c61-9136-63df7f326c81",
   "metadata": {
    "tags": []
   },
   "outputs": [
    {
     "data": {
      "text/plain": [
       "0   2011-01-01 00:00:00\n",
       "1   2011-01-01 01:00:00\n",
       "2   2011-01-01 02:00:00\n",
       "3   2011-01-01 03:00:00\n",
       "4   2011-01-01 04:00:00\n",
       "Name: regdate, dtype: datetime64[ns]"
      ]
     },
     "execution_count": 20,
     "metadata": {},
     "output_type": "execute_result"
    }
   ],
   "source": [
    "tr['regdate'].head()"
   ]
  },
  {
   "cell_type": "code",
   "execution_count": 21,
   "id": "2514189c-a814-43d4-b5b2-93e430eae89a",
   "metadata": {
    "tags": []
   },
   "outputs": [],
   "source": [
    "tr['regdate']\n",
    "\n",
    "tr['y'] = tr['regdate'].dt.year\n",
    "tr['m'] = tr['regdate'].dt.month\n",
    "tr['d'] = tr['regdate'].dt.day\n",
    "tr['h'] = tr['regdate'].dt.hour"
   ]
  },
  {
   "cell_type": "code",
   "execution_count": 22,
   "id": "d494673a-3807-45ba-b292-9039fee7d144",
   "metadata": {
    "tags": []
   },
   "outputs": [
    {
     "name": "stdout",
     "output_type": "stream",
     "text": [
      "<class 'pandas.core.frame.DataFrame'>\n",
      "RangeIndex: 10886 entries, 0 to 10885\n",
      "Data columns (total 16 columns):\n",
      " #   Column      Non-Null Count  Dtype         \n",
      "---  ------      --------------  -----         \n",
      " 0   regdate     10886 non-null  datetime64[ns]\n",
      " 1   season      10886 non-null  int64         \n",
      " 2   holiday     10886 non-null  int64         \n",
      " 3   workingday  10886 non-null  int64         \n",
      " 4   weather     10886 non-null  int64         \n",
      " 5   temp        10886 non-null  float64       \n",
      " 6   atemp       10886 non-null  float64       \n",
      " 7   humidity    10886 non-null  int64         \n",
      " 8   windspeed   10886 non-null  float64       \n",
      " 9   casual      10886 non-null  int64         \n",
      " 10  registered  10886 non-null  int64         \n",
      " 11  count       10886 non-null  int64         \n",
      " 12  y           10886 non-null  int64         \n",
      " 13  m           10886 non-null  int64         \n",
      " 14  d           10886 non-null  int64         \n",
      " 15  h           10886 non-null  int64         \n",
      "dtypes: datetime64[ns](1), float64(3), int64(12)\n",
      "memory usage: 1.3 MB\n"
     ]
    }
   ],
   "source": [
    "tr.info()"
   ]
  },
  {
   "cell_type": "markdown",
   "id": "0e9b7c26-b619-485b-8591-5092b341bd51",
   "metadata": {},
   "source": [
    "## 인덱스 지정"
   ]
  },
  {
   "cell_type": "markdown",
   "id": "018ff08d-5fb4-441c-a74b-2ef7ca69b9ca",
   "metadata": {},
   "source": [
    "* regdate 컬럼을 index 값으로 변환 : 컴퓨터는 index를 학습에서 제외하기 때문에\n",
    "* 버리지 않는 이유? 필요하면 나중에 꺼내서 값으로 쓰려고"
   ]
  },
  {
   "cell_type": "code",
   "execution_count": 23,
   "id": "382dd58c-9def-4d18-ae4e-b1b8e7382cc2",
   "metadata": {
    "tags": []
   },
   "outputs": [
    {
     "data": {
      "text/html": [
       "<div>\n",
       "<style scoped>\n",
       "    .dataframe tbody tr th:only-of-type {\n",
       "        vertical-align: middle;\n",
       "    }\n",
       "\n",
       "    .dataframe tbody tr th {\n",
       "        vertical-align: top;\n",
       "    }\n",
       "\n",
       "    .dataframe thead th {\n",
       "        text-align: right;\n",
       "    }\n",
       "</style>\n",
       "<table border=\"1\" class=\"dataframe\">\n",
       "  <thead>\n",
       "    <tr style=\"text-align: right;\">\n",
       "      <th></th>\n",
       "      <th>season</th>\n",
       "      <th>holiday</th>\n",
       "      <th>workingday</th>\n",
       "      <th>weather</th>\n",
       "      <th>temp</th>\n",
       "      <th>atemp</th>\n",
       "      <th>humidity</th>\n",
       "      <th>windspeed</th>\n",
       "      <th>casual</th>\n",
       "      <th>registered</th>\n",
       "      <th>count</th>\n",
       "      <th>y</th>\n",
       "      <th>m</th>\n",
       "      <th>d</th>\n",
       "      <th>h</th>\n",
       "    </tr>\n",
       "    <tr>\n",
       "      <th>regdate</th>\n",
       "      <th></th>\n",
       "      <th></th>\n",
       "      <th></th>\n",
       "      <th></th>\n",
       "      <th></th>\n",
       "      <th></th>\n",
       "      <th></th>\n",
       "      <th></th>\n",
       "      <th></th>\n",
       "      <th></th>\n",
       "      <th></th>\n",
       "      <th></th>\n",
       "      <th></th>\n",
       "      <th></th>\n",
       "      <th></th>\n",
       "    </tr>\n",
       "  </thead>\n",
       "  <tbody>\n",
       "    <tr>\n",
       "      <th>2011-01-01 00:00:00</th>\n",
       "      <td>1</td>\n",
       "      <td>0</td>\n",
       "      <td>0</td>\n",
       "      <td>1</td>\n",
       "      <td>9.84</td>\n",
       "      <td>14.395</td>\n",
       "      <td>81</td>\n",
       "      <td>0.0</td>\n",
       "      <td>3</td>\n",
       "      <td>13</td>\n",
       "      <td>16</td>\n",
       "      <td>2011</td>\n",
       "      <td>1</td>\n",
       "      <td>1</td>\n",
       "      <td>0</td>\n",
       "    </tr>\n",
       "    <tr>\n",
       "      <th>2011-01-01 01:00:00</th>\n",
       "      <td>1</td>\n",
       "      <td>0</td>\n",
       "      <td>0</td>\n",
       "      <td>1</td>\n",
       "      <td>9.02</td>\n",
       "      <td>13.635</td>\n",
       "      <td>80</td>\n",
       "      <td>0.0</td>\n",
       "      <td>8</td>\n",
       "      <td>32</td>\n",
       "      <td>40</td>\n",
       "      <td>2011</td>\n",
       "      <td>1</td>\n",
       "      <td>1</td>\n",
       "      <td>1</td>\n",
       "    </tr>\n",
       "    <tr>\n",
       "      <th>2011-01-01 02:00:00</th>\n",
       "      <td>1</td>\n",
       "      <td>0</td>\n",
       "      <td>0</td>\n",
       "      <td>1</td>\n",
       "      <td>9.02</td>\n",
       "      <td>13.635</td>\n",
       "      <td>80</td>\n",
       "      <td>0.0</td>\n",
       "      <td>5</td>\n",
       "      <td>27</td>\n",
       "      <td>32</td>\n",
       "      <td>2011</td>\n",
       "      <td>1</td>\n",
       "      <td>1</td>\n",
       "      <td>2</td>\n",
       "    </tr>\n",
       "    <tr>\n",
       "      <th>2011-01-01 03:00:00</th>\n",
       "      <td>1</td>\n",
       "      <td>0</td>\n",
       "      <td>0</td>\n",
       "      <td>1</td>\n",
       "      <td>9.84</td>\n",
       "      <td>14.395</td>\n",
       "      <td>75</td>\n",
       "      <td>0.0</td>\n",
       "      <td>3</td>\n",
       "      <td>10</td>\n",
       "      <td>13</td>\n",
       "      <td>2011</td>\n",
       "      <td>1</td>\n",
       "      <td>1</td>\n",
       "      <td>3</td>\n",
       "    </tr>\n",
       "    <tr>\n",
       "      <th>2011-01-01 04:00:00</th>\n",
       "      <td>1</td>\n",
       "      <td>0</td>\n",
       "      <td>0</td>\n",
       "      <td>1</td>\n",
       "      <td>9.84</td>\n",
       "      <td>14.395</td>\n",
       "      <td>75</td>\n",
       "      <td>0.0</td>\n",
       "      <td>0</td>\n",
       "      <td>1</td>\n",
       "      <td>1</td>\n",
       "      <td>2011</td>\n",
       "      <td>1</td>\n",
       "      <td>1</td>\n",
       "      <td>4</td>\n",
       "    </tr>\n",
       "  </tbody>\n",
       "</table>\n",
       "</div>"
      ],
      "text/plain": [
       "                     season  holiday  workingday  weather  temp   atemp  \\\n",
       "regdate                                                                   \n",
       "2011-01-01 00:00:00       1        0           0        1  9.84  14.395   \n",
       "2011-01-01 01:00:00       1        0           0        1  9.02  13.635   \n",
       "2011-01-01 02:00:00       1        0           0        1  9.02  13.635   \n",
       "2011-01-01 03:00:00       1        0           0        1  9.84  14.395   \n",
       "2011-01-01 04:00:00       1        0           0        1  9.84  14.395   \n",
       "\n",
       "                     humidity  windspeed  casual  registered  count     y  m  \\\n",
       "regdate                                                                        \n",
       "2011-01-01 00:00:00        81        0.0       3          13     16  2011  1   \n",
       "2011-01-01 01:00:00        80        0.0       8          32     40  2011  1   \n",
       "2011-01-01 02:00:00        80        0.0       5          27     32  2011  1   \n",
       "2011-01-01 03:00:00        75        0.0       3          10     13  2011  1   \n",
       "2011-01-01 04:00:00        75        0.0       0           1      1  2011  1   \n",
       "\n",
       "                     d  h  \n",
       "regdate                    \n",
       "2011-01-01 00:00:00  1  0  \n",
       "2011-01-01 01:00:00  1  1  \n",
       "2011-01-01 02:00:00  1  2  \n",
       "2011-01-01 03:00:00  1  3  \n",
       "2011-01-01 04:00:00  1  4  "
      ]
     },
     "execution_count": 23,
     "metadata": {},
     "output_type": "execute_result"
    }
   ],
   "source": [
    "tr = tr.set_index('regdate')\n",
    "tr.head()"
   ]
  },
  {
   "cell_type": "markdown",
   "id": "3810b00d-a599-474e-8e57-e61ab586d12b",
   "metadata": {
    "tags": []
   },
   "source": [
    "## 인덱스에서 빼내기"
   ]
  },
  {
   "cell_type": "code",
   "execution_count": 24,
   "id": "05c523bc-adfa-41bf-a614-ec98b7309f4a",
   "metadata": {
    "tags": []
   },
   "outputs": [],
   "source": [
    "# tr = tr.reset_index('regdate')\n",
    "# tr.head()"
   ]
  },
  {
   "cell_type": "markdown",
   "id": "026eb970-212a-403c-8c9a-3d0665a73ad0",
   "metadata": {},
   "source": [
    "* 시간을 인덱스로 하는 또 다른 이유 : x축이 날짜여야 시계열 분석이 가능하다. 포맷 관계 없이"
   ]
  },
  {
   "cell_type": "markdown",
   "id": "d3ada2e4-e6ae-43a5-9801-d68f870aa558",
   "metadata": {},
   "source": [
    "##  casual,    registered       ,  count"
   ]
  },
  {
   "cell_type": "code",
   "execution_count": 25,
   "id": "6322d044-0913-46be-8318-047e3813427f",
   "metadata": {
    "tags": []
   },
   "outputs": [
    {
     "data": {
      "text/plain": [
       "(0, 15)"
      ]
     },
     "execution_count": 25,
     "metadata": {},
     "output_type": "execute_result"
    }
   ],
   "source": [
    "tr[(tr['casual']+tr['registered']) != tr['count']].shape"
   ]
  },
  {
   "cell_type": "markdown",
   "id": "29dc86d0-e137-457d-a550-0814e3387257",
   "metadata": {},
   "source": [
    "* 합산인 count만 살려놓거나, 각 값인 casual, registerd 만 살려놓거나\n",
    "* 정답 제출했을 때 점수 높은 애들로 놓는다.\n",
    "* 그냥 계속 다시 재시도만이 답이다."
   ]
  },
  {
   "cell_type": "code",
   "execution_count": 26,
   "id": "cd4f1e69-1c5d-4e30-87a7-60c01351ad3c",
   "metadata": {
    "tags": []
   },
   "outputs": [
    {
     "data": {
      "text/html": [
       "<div>\n",
       "<style scoped>\n",
       "    .dataframe tbody tr th:only-of-type {\n",
       "        vertical-align: middle;\n",
       "    }\n",
       "\n",
       "    .dataframe tbody tr th {\n",
       "        vertical-align: top;\n",
       "    }\n",
       "\n",
       "    .dataframe thead th {\n",
       "        text-align: right;\n",
       "    }\n",
       "</style>\n",
       "<table border=\"1\" class=\"dataframe\">\n",
       "  <thead>\n",
       "    <tr style=\"text-align: right;\">\n",
       "      <th></th>\n",
       "      <th>season</th>\n",
       "      <th>holiday</th>\n",
       "      <th>workingday</th>\n",
       "      <th>weather</th>\n",
       "      <th>temp</th>\n",
       "      <th>atemp</th>\n",
       "      <th>humidity</th>\n",
       "      <th>windspeed</th>\n",
       "      <th>casual</th>\n",
       "      <th>registered</th>\n",
       "      <th>count</th>\n",
       "      <th>y</th>\n",
       "      <th>m</th>\n",
       "      <th>d</th>\n",
       "      <th>h</th>\n",
       "    </tr>\n",
       "    <tr>\n",
       "      <th>regdate</th>\n",
       "      <th></th>\n",
       "      <th></th>\n",
       "      <th></th>\n",
       "      <th></th>\n",
       "      <th></th>\n",
       "      <th></th>\n",
       "      <th></th>\n",
       "      <th></th>\n",
       "      <th></th>\n",
       "      <th></th>\n",
       "      <th></th>\n",
       "      <th></th>\n",
       "      <th></th>\n",
       "      <th></th>\n",
       "      <th></th>\n",
       "    </tr>\n",
       "  </thead>\n",
       "  <tbody>\n",
       "    <tr>\n",
       "      <th>2011-01-01 00:00:00</th>\n",
       "      <td>1</td>\n",
       "      <td>0</td>\n",
       "      <td>0</td>\n",
       "      <td>1</td>\n",
       "      <td>9.84</td>\n",
       "      <td>14.395</td>\n",
       "      <td>81</td>\n",
       "      <td>0.0</td>\n",
       "      <td>3</td>\n",
       "      <td>13</td>\n",
       "      <td>16</td>\n",
       "      <td>2011</td>\n",
       "      <td>1</td>\n",
       "      <td>1</td>\n",
       "      <td>0</td>\n",
       "    </tr>\n",
       "    <tr>\n",
       "      <th>2011-01-01 01:00:00</th>\n",
       "      <td>1</td>\n",
       "      <td>0</td>\n",
       "      <td>0</td>\n",
       "      <td>1</td>\n",
       "      <td>9.02</td>\n",
       "      <td>13.635</td>\n",
       "      <td>80</td>\n",
       "      <td>0.0</td>\n",
       "      <td>8</td>\n",
       "      <td>32</td>\n",
       "      <td>40</td>\n",
       "      <td>2011</td>\n",
       "      <td>1</td>\n",
       "      <td>1</td>\n",
       "      <td>1</td>\n",
       "    </tr>\n",
       "    <tr>\n",
       "      <th>2011-01-01 02:00:00</th>\n",
       "      <td>1</td>\n",
       "      <td>0</td>\n",
       "      <td>0</td>\n",
       "      <td>1</td>\n",
       "      <td>9.02</td>\n",
       "      <td>13.635</td>\n",
       "      <td>80</td>\n",
       "      <td>0.0</td>\n",
       "      <td>5</td>\n",
       "      <td>27</td>\n",
       "      <td>32</td>\n",
       "      <td>2011</td>\n",
       "      <td>1</td>\n",
       "      <td>1</td>\n",
       "      <td>2</td>\n",
       "    </tr>\n",
       "    <tr>\n",
       "      <th>2011-01-01 03:00:00</th>\n",
       "      <td>1</td>\n",
       "      <td>0</td>\n",
       "      <td>0</td>\n",
       "      <td>1</td>\n",
       "      <td>9.84</td>\n",
       "      <td>14.395</td>\n",
       "      <td>75</td>\n",
       "      <td>0.0</td>\n",
       "      <td>3</td>\n",
       "      <td>10</td>\n",
       "      <td>13</td>\n",
       "      <td>2011</td>\n",
       "      <td>1</td>\n",
       "      <td>1</td>\n",
       "      <td>3</td>\n",
       "    </tr>\n",
       "    <tr>\n",
       "      <th>2011-01-01 04:00:00</th>\n",
       "      <td>1</td>\n",
       "      <td>0</td>\n",
       "      <td>0</td>\n",
       "      <td>1</td>\n",
       "      <td>9.84</td>\n",
       "      <td>14.395</td>\n",
       "      <td>75</td>\n",
       "      <td>0.0</td>\n",
       "      <td>0</td>\n",
       "      <td>1</td>\n",
       "      <td>1</td>\n",
       "      <td>2011</td>\n",
       "      <td>1</td>\n",
       "      <td>1</td>\n",
       "      <td>4</td>\n",
       "    </tr>\n",
       "  </tbody>\n",
       "</table>\n",
       "</div>"
      ],
      "text/plain": [
       "                     season  holiday  workingday  weather  temp   atemp  \\\n",
       "regdate                                                                   \n",
       "2011-01-01 00:00:00       1        0           0        1  9.84  14.395   \n",
       "2011-01-01 01:00:00       1        0           0        1  9.02  13.635   \n",
       "2011-01-01 02:00:00       1        0           0        1  9.02  13.635   \n",
       "2011-01-01 03:00:00       1        0           0        1  9.84  14.395   \n",
       "2011-01-01 04:00:00       1        0           0        1  9.84  14.395   \n",
       "\n",
       "                     humidity  windspeed  casual  registered  count     y  m  \\\n",
       "regdate                                                                        \n",
       "2011-01-01 00:00:00        81        0.0       3          13     16  2011  1   \n",
       "2011-01-01 01:00:00        80        0.0       8          32     40  2011  1   \n",
       "2011-01-01 02:00:00        80        0.0       5          27     32  2011  1   \n",
       "2011-01-01 03:00:00        75        0.0       3          10     13  2011  1   \n",
       "2011-01-01 04:00:00        75        0.0       0           1      1  2011  1   \n",
       "\n",
       "                     d  h  \n",
       "regdate                    \n",
       "2011-01-01 00:00:00  1  0  \n",
       "2011-01-01 01:00:00  1  1  \n",
       "2011-01-01 02:00:00  1  2  \n",
       "2011-01-01 03:00:00  1  3  \n",
       "2011-01-01 04:00:00  1  4  "
      ]
     },
     "execution_count": 26,
     "metadata": {},
     "output_type": "execute_result"
    }
   ],
   "source": [
    "tr.head()"
   ]
  },
  {
   "cell_type": "markdown",
   "id": "75c6637a-3c98-41bd-b168-0df94cf16e97",
   "metadata": {},
   "source": [
    "***"
   ]
  },
  {
   "cell_type": "code",
   "execution_count": null,
   "id": "f8b973f8-2943-4df6-b939-c88732a54ec9",
   "metadata": {},
   "outputs": [],
   "source": []
  },
  {
   "cell_type": "code",
   "execution_count": null,
   "id": "17f98f8a-f5dc-43c0-9e98-6123f6418329",
   "metadata": {},
   "outputs": [],
   "source": []
  }
 ],
 "metadata": {
  "kernelspec": {
   "display_name": "Python 3 (ipykernel)",
   "language": "python",
   "name": "python3"
  },
  "language_info": {
   "codemirror_mode": {
    "name": "ipython",
    "version": 3
   },
   "file_extension": ".py",
   "mimetype": "text/x-python",
   "name": "python",
   "nbconvert_exporter": "python",
   "pygments_lexer": "ipython3",
   "version": "3.8.8"
  }
 },
 "nbformat": 4,
 "nbformat_minor": 5
}
