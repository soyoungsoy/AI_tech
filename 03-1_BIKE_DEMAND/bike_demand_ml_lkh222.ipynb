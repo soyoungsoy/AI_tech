{
 "cells": [
  {
   "cell_type": "markdown",
   "id": "6d36fd9b-8277-46dd-ab5d-3563dcc739b7",
   "metadata": {},
   "source": [
    "<font size=6><b>Bike Sharing Demand - ML"
   ]
  },
  {
   "cell_type": "markdown",
   "id": "5cb6f8bb-d3e1-457c-a482-430e612f90a4",
   "metadata": {
    "tags": []
   },
   "source": [
    "<img src=\"./logo.png\">\n",
    "* ref : https://www.kaggle.com/competitions/bike-sharing-demand/data <br>\n",
    "* ref : https://dacon.io/competitions/official/235985/data"
   ]
  },
  {
   "cell_type": "code",
   "execution_count": 1,
   "id": "11769cb6-b939-495e-96c1-ff3598956cec",
   "metadata": {
    "tags": []
   },
   "outputs": [
    {
     "data": {
      "text/html": [
       "<style>.container{width:100% !important;}</style>"
      ],
      "text/plain": [
       "<IPython.core.display.HTML object>"
      ]
     },
     "metadata": {},
     "output_type": "display_data"
    }
   ],
   "source": [
    "import numpy as np\n",
    "import pandas as pd\n",
    "\n",
    "import matplotlib.pyplot as plt\n",
    "import seaborn as sns\n",
    "\n",
    "\n",
    "sns.set()\n",
    "\n",
    "#-------------------- 차트 관련 속성 (한글처리, 그리드) -----------\n",
    "plt.rcParams['font.family']= 'Malgun Gothic'\n",
    "plt.rcParams['axes.unicode_minus'] = False\n",
    "\n",
    "#-------------------- 주피터 , 출력결과 넓이 늘리기 ---------------\n",
    "# from IPython.core.display import display, HTML\n",
    "from IPython.display import display, HTML\n",
    "\n",
    "display(HTML(\"<style>.container{width:100% !important;}</style>\"))\n",
    "pd.set_option('display.max_rows', 100)\n",
    "pd.set_option('display.max_columns', 100)\n",
    "pd.set_option('max_colwidth', None)\n",
    "\n",
    "import warnings\n",
    "warnings.filterwarnings(action='ignore')"
   ]
  },
  {
   "cell_type": "code",
   "execution_count": 2,
   "id": "02d88c79-95e1-4b95-96de-df858fcc943f",
   "metadata": {},
   "outputs": [],
   "source": [
    "\n",
    "from sklearn.model_selection import train_test_split, cross_val_score, cross_validate, GridSearchCV, KFold, StratifiedKFold\n",
    "from sklearn.metrics import mean_squared_error\n",
    "from sklearn.metrics import mean_squared_log_error\n",
    "\n",
    "\n",
    "from sklearn.ensemble     import RandomForestRegressor\n",
    "from sklearn.tree         import DecisionTreeRegressor\n",
    "from sklearn.linear_model import LinearRegression, Ridge, Lasso\n",
    "# ---- 추가 모델\n",
    "from sklearn.ensemble     import AdaBoostRegressor, VotingRegressor\n",
    "from xgboost              import XGBRegressor\n",
    "from lightgbm             import LGBMRegressor\n",
    "\n"
   ]
  },
  {
   "cell_type": "markdown",
   "id": "3f698b81-6a0b-4c55-b81e-c2fd498d4b74",
   "metadata": {},
   "source": [
    "# Data Load"
   ]
  },
  {
   "cell_type": "code",
   "execution_count": 3,
   "id": "aef310ea-ddad-4ad0-bcea-018ebbe0c5d5",
   "metadata": {
    "tags": []
   },
   "outputs": [],
   "source": [
    "train = pd.read_csv(\"./train.csv\", parse_dates=['datetime'])\n",
    "test  = pd.read_csv(\"./test.csv\" , parse_dates=['datetime'])"
   ]
  },
  {
   "cell_type": "code",
   "execution_count": 4,
   "id": "23a0bbfd-d222-4822-bfad-0fe563517d46",
   "metadata": {
    "tags": []
   },
   "outputs": [
    {
     "name": "stdout",
     "output_type": "stream",
     "text": [
      "<class 'pandas.core.frame.DataFrame'>\n",
      "RangeIndex: 10886 entries, 0 to 10885\n",
      "Data columns (total 12 columns):\n",
      " #   Column      Non-Null Count  Dtype         \n",
      "---  ------      --------------  -----         \n",
      " 0   regdate     10886 non-null  datetime64[ns]\n",
      " 1   season      10886 non-null  int64         \n",
      " 2   holiday     10886 non-null  int64         \n",
      " 3   workingday  10886 non-null  int64         \n",
      " 4   weather     10886 non-null  int64         \n",
      " 5   temp        10886 non-null  float64       \n",
      " 6   atemp       10886 non-null  float64       \n",
      " 7   humidity    10886 non-null  int64         \n",
      " 8   windspeed   10886 non-null  float64       \n",
      " 9   casual      10886 non-null  int64         \n",
      " 10  registered  10886 non-null  int64         \n",
      " 11  regcount    10886 non-null  int64         \n",
      "dtypes: datetime64[ns](1), float64(3), int64(8)\n",
      "memory usage: 1020.7 KB\n",
      "None\n",
      "==================================================\n",
      "<class 'pandas.core.frame.DataFrame'>\n",
      "RangeIndex: 6493 entries, 0 to 6492\n",
      "Data columns (total 9 columns):\n",
      " #   Column      Non-Null Count  Dtype         \n",
      "---  ------      --------------  -----         \n",
      " 0   regdate     6493 non-null   datetime64[ns]\n",
      " 1   season      6493 non-null   int64         \n",
      " 2   holiday     6493 non-null   int64         \n",
      " 3   workingday  6493 non-null   int64         \n",
      " 4   weather     6493 non-null   int64         \n",
      " 5   temp        6493 non-null   float64       \n",
      " 6   atemp       6493 non-null   float64       \n",
      " 7   humidity    6493 non-null   int64         \n",
      " 8   windspeed   6493 non-null   float64       \n",
      "dtypes: datetime64[ns](1), float64(3), int64(5)\n",
      "memory usage: 456.7 KB\n",
      "None\n",
      "==================================================\n"
     ]
    }
   ],
   "source": [
    "df_list = [train, test]\n",
    "for df in df_list:\n",
    "    df.rename(columns = {'datetime' : 'regdate', 'count' : 'regcount'}, inplace = True)\n",
    "    df.columns = df.columns.str.lower()\n",
    "    print(df.info())    \n",
    "    print(\"=====\"*10)\n"
   ]
  },
  {
   "cell_type": "markdown",
   "id": "87d1e0d4-27a9-4fa8-8d33-d1e7a47e9153",
   "metadata": {},
   "source": [
    "# Feature Engineering"
   ]
  },
  {
   "cell_type": "code",
   "execution_count": 5,
   "id": "1d6e7b20-3587-44b2-b7ad-97a536005062",
   "metadata": {
    "tags": []
   },
   "outputs": [
    {
     "data": {
      "text/plain": [
       "Index(['regdate', 'season', 'holiday', 'workingday', 'weather', 'temp',\n",
       "       'atemp', 'humidity', 'windspeed', 'casual', 'registered', 'regcount'],\n",
       "      dtype='object')"
      ]
     },
     "execution_count": 5,
     "metadata": {},
     "output_type": "execute_result"
    }
   ],
   "source": [
    "train.columns"
   ]
  },
  {
   "cell_type": "code",
   "execution_count": 6,
   "id": "992e1ae1-088e-4dd8-9b30-0e07ffa32f0c",
   "metadata": {
    "tags": []
   },
   "outputs": [
    {
     "name": "stdout",
     "output_type": "stream",
     "text": [
      "regdate 10886\n",
      "season 4\n",
      "holiday 2\n",
      "workingday 2\n",
      "weather 4\n",
      "temp 49\n",
      "atemp 60\n",
      "humidity 89\n",
      "windspeed 28\n",
      "casual 309\n",
      "registered 731\n",
      "regcount 822\n"
     ]
    }
   ],
   "source": [
    "for col in train.columns:\n",
    "    print(col, train[col].nunique())"
   ]
  },
  {
   "cell_type": "markdown",
   "id": "88670d3d-932f-4f9a-bb96-89423a2e4892",
   "metadata": {},
   "source": [
    "* 22"
   ]
  },
  {
   "cell_type": "code",
   "execution_count": 7,
   "id": "7d293f4b-2a53-4e50-a0e5-404d49719d87",
   "metadata": {
    "tags": []
   },
   "outputs": [
    {
     "data": {
      "image/png": "[encoded data removed]",
      "text/plain": [
       "<Figure size 2000x2000 with 2 Axes>"
      ]
     },
     "metadata": {},
     "output_type": "display_data"
    }
   ],
   "source": [
    "plt.figure(figsize=(20,20))\n",
    "sns.heatmap(train.corr(), annot=True, fmt=\".2f\", cmap=\"coolwarm\")\n",
    "plt.show()\n"
   ]
  },
  {
   "cell_type": "code",
   "execution_count": 8,
   "id": "15cd5d42-87e7-4bf1-92dc-71db78d7aa81",
   "metadata": {
    "tags": []
   },
   "outputs": [],
   "source": [
    "# plt.figure(figsize=(20,20))\n",
    "# sns.heatmap(df[['casual', 'registered', \n",
    "#        'h_0', 'h_1','h_2', 'h_3', 'h_4', 'h_5', 'h_6', 'h_7', 'h_8', 'h_9', 'h_10', 'h_11',\n",
    "#        'h_12', 'h_13', 'h_14', 'h_15', 'h_16', 'h_17', 'h_18', 'h_19', 'h_20',\n",
    "#        'h_21', 'h_22', 'h_23',\n",
    "#        #          ,'m_1','m_2', 'm_3', 'm_4', 'm_5', 'm_6', 'm_7', 'm_8', 'm_9', 'm_10', 'm_11',\n",
    "#        # 'm_12', 'y_2011', 'y_2012',  'w_0', 'w_1', 'w_2', 'w_3', 'w_4', 'w_5', 'w_6',\n",
    "#        # ,'holiday', 'workingday',    \n",
    "#        # 'day_type_0', 'day_type_1', 'day_type_2'\n",
    "#         ]].corr(), annot=True, fmt=\".2f\", cmap=\"coolwarm\")\n",
    "# plt.show()\n"
   ]
  },
  {
   "cell_type": "markdown",
   "id": "91eaefe0-88b0-4473-956d-584fa5f096a0",
   "metadata": {
    "tags": []
   },
   "source": [
    "## windspeed 0 채우기"
   ]
  },
  {
   "cell_type": "code",
   "execution_count": 9,
   "id": "3e425ffa-21f3-4c23-8c10-42a97c669ebd",
   "metadata": {},
   "outputs": [
    {
     "data": {
      "text/plain": [
       "((10886, 12), (6493, 9))"
      ]
     },
     "execution_count": 9,
     "metadata": {},
     "output_type": "execute_result"
    }
   ],
   "source": [
    "train.shape, test.shape"
   ]
  },
  {
   "cell_type": "code",
   "execution_count": 10,
   "id": "bf4d19cc-4b90-40e1-807e-3498347e2643",
   "metadata": {
    "tags": []
   },
   "outputs": [],
   "source": [
    "def my_fill_windspeed(df):\n",
    "    target  = df[['regcount','casual','registered', 'regdate']]\n",
    "    df = df.drop(['regcount','casual','registered','regdate'], axis=1)\n",
    "    \n",
    "    df1   = df[df['windspeed'] != 0]\n",
    "    y_df1 = df1['windspeed']\n",
    "    X_df1 = df1.drop('windspeed', axis=1)\n",
    "    \n",
    "    rf = LGBMRegressor(random_state=0)  #RandomForestRegressor(random_state=11)\n",
    "    X_df1_8, X_df1_2, y_df1_8, y_df1_2 = train_test_split(X_df1, y_df1, test_size=0.2, random_state=11)\n",
    "    rf.fit(X_df1_8, y_df1_8)\n",
    "    \n",
    "    pred = rf.predict(X_df1_2)\n",
    "    mse_score = mean_squared_error(y_df1_2, pred)\n",
    "    print(\"RMSE : \", np.sqrt(mse_score) )\n",
    "\n",
    "    df0 = df[df['windspeed'] == 0]\n",
    "    y_df0 = df0['windspeed']\n",
    "    X_df0 = df0.drop('windspeed', axis=1)\n",
    "    pred = rf.predict(X_df0)\n",
    "    widx = X_df0.index.values\n",
    "    df.loc[widx, 'windspeed'] = pred\n",
    "    \n",
    "    return pd.concat([df, target], axis=1)"
   ]
  },
  {
   "cell_type": "code",
   "execution_count": 11,
   "id": "ed13bc6b-bc5a-46ca-ab9b-0900e5d1c611",
   "metadata": {},
   "outputs": [
    {
     "data": {
      "text/plain": [
       "(Index(['regdate', 'season', 'holiday', 'workingday', 'weather', 'temp',\n",
       "        'atemp', 'humidity', 'windspeed', 'casual', 'registered', 'regcount'],\n",
       "       dtype='object'),\n",
       " Index(['regdate', 'season', 'holiday', 'workingday', 'weather', 'temp',\n",
       "        'atemp', 'humidity', 'windspeed'],\n",
       "       dtype='object'))"
      ]
     },
     "execution_count": 11,
     "metadata": {},
     "output_type": "execute_result"
    }
   ],
   "source": [
    "train.columns, test.columns"
   ]
  },
  {
   "cell_type": "code",
   "execution_count": 12,
   "id": "e8f42329-3280-4766-95c0-190a44312815",
   "metadata": {
    "tags": []
   },
   "outputs": [
    {
     "name": "stdout",
     "output_type": "stream",
     "text": [
      "RMSE :  5.427882362943079\n"
     ]
    }
   ],
   "source": [
    "df = pd.concat([train, test], axis=0, ignore_index=True)\n",
    "train_idx = df.iloc[:train.shape[0], :].index\n",
    "test_idx  = df.iloc[train.shape[0]:, :].index\n",
    "#---------------------------------\n",
    "df = my_fill_windspeed(df)\n",
    "#---------------------------------\n",
    "train = df.loc[train_idx]\n",
    "test  = df.loc[test_idx]\n",
    "test = test.drop(['casual', 'registered', 'regcount'], axis=1)\n",
    "test = test.reset_index(drop=True)"
   ]
  },
  {
   "cell_type": "code",
   "execution_count": 13,
   "id": "5505f8e8-d1ed-4ff1-8e37-aba36d1a6a8b",
   "metadata": {},
   "outputs": [
    {
     "data": {
      "text/plain": [
       "(Index(['season', 'holiday', 'workingday', 'weather', 'temp', 'atemp',\n",
       "        'humidity', 'windspeed', 'regcount', 'casual', 'registered', 'regdate'],\n",
       "       dtype='object'),\n",
       " Index(['season', 'holiday', 'workingday', 'weather', 'temp', 'atemp',\n",
       "        'humidity', 'windspeed', 'regdate'],\n",
       "       dtype='object'))"
      ]
     },
     "execution_count": 13,
     "metadata": {},
     "output_type": "execute_result"
    }
   ],
   "source": [
    "train.columns, test.columns"
   ]
  },
  {
   "cell_type": "code",
   "execution_count": 14,
   "id": "d9a4052a-aeeb-4154-a254-67b6d7040f88",
   "metadata": {
    "tags": []
   },
   "outputs": [
    {
     "data": {
      "text/plain": [
       "((10886, 12), (6493, 9))"
      ]
     },
     "execution_count": 14,
     "metadata": {},
     "output_type": "execute_result"
    }
   ],
   "source": [
    "train.shape, test.shape"
   ]
  },
  {
   "cell_type": "markdown",
   "id": "48e56076-05c4-4424-9669-dea75029d881",
   "metadata": {},
   "source": [
    "## 피쳐가공\n",
    "* 파생 피쳐: regdate, day_type\n",
    "* 휴무처리 : holiday, workingday\n",
    "* 아웃라이어 : weather, temp, windspeed\n",
    "* 로그스케일링(연속형) : 'temp', 'atemp','humidity', 'windspeed'\n",
    "* 원핫인코딩(이산형) :  'season', 'weather','m', 'y', 'h', 'w', 'day_type'\n",
    "* 다중공선 : ('temp', 'atemp') ('season', 'm') ('w', 'day_type')\n",
    "* 불필요컬럼 삭제 :'d'"
   ]
  },
  {
   "cell_type": "code",
   "execution_count": 15,
   "id": "a7824002-3887-48c9-97f9-b50bd9862132",
   "metadata": {
    "tags": []
   },
   "outputs": [
    {
     "name": "stdout",
     "output_type": "stream",
     "text": [
      "train\n",
      "test\n"
     ]
    }
   ],
   "source": [
    "df_list = [train, test]\n",
    "df_name = ['train', 'test']\n",
    "for i, df in enumerate(df_list):\n",
    "    df['y'] = df['regdate'].dt.year\n",
    "    df['m'] = df['regdate'].dt.month\n",
    "    df['d'] = df['regdate'].dt.day\n",
    "    df['h'] = df['regdate'].dt.hour\n",
    "    df['w'] = df['regdate'].dt.dayofweek\n",
    "    #df['woy'] = df['regdate'].dt.weekofyear\n",
    "    \n",
    "    \n",
    "    df['day_type'] = 0\n",
    "    df['day_type'] = np.where( (df['holiday']==0) & (df['workingday'] == 1),   1,  df['day_type'])\n",
    "    df['day_type'] = np.where( (df['holiday']==1) & (df['workingday'] == 0),   2,  df['day_type'])\n",
    "    \n",
    "    df['peak']   = df[['h', 'workingday']].apply(lambda x: (0, 1)[(x['workingday'] == 1 and  ( x['h'] == 8 or 17 <= x['h'] <= 18 or 12 <= x['h'] <= 12)) or (x['workingday'] == 0 and  10 <= x['h'] <= 19)], axis = 1)\n",
    "    df['ideal']  = df[['temp', 'windspeed']].apply(lambda x: (0, 1)[x['temp'] > 27 and x['windspeed'] < 30], axis = 1)\n",
    "    df['sticky'] = df[['humidity', 'workingday']].apply(lambda x: (0, 1)[x['workingday'] == 1 and x['humidity'] >= 60], axis = 1)\n",
    "    \n",
    "    #sandy\n",
    "    df['holiday'] = df[['m', 'd', 'holiday', 'y']].apply(lambda x: (x['holiday'], 1)[x['y'] == 2012 and x['m'] == 10 and (x['m'] in [30])], axis = 1)\n",
    "    #christmas day and others\n",
    "    df['holiday'] = df[['m', 'd', 'holiday']].apply(lambda x: (x['holiday'], 1)[x['m'] == 12 and (x['m'] in [24, 26, 31])], axis = 1)\n",
    "    df['workingday'] = df[['m', 'd', 'workingday']].apply(lambda x: (x['workingday'], 0)[x['m'] == 12 and x['m'] in [24, 31]], axis = 1)\n",
    "    \n",
    "    \n",
    "    if i == 0 : # 아웃라이어 : train만 삭제\n",
    "        #------------------------------------------------\n",
    "        # windspeed는 0채우기 후 아웃라이어로 한꺼번에 이상치 삭제\n",
    "        # 아웃라이어 삭제 : 주의주의주의 train만 지운다\n",
    "        # df == train 넣고 호출\n",
    "        #------------------------------------------------\n",
    "        del_idx_list = []\n",
    "        #idx = df[df['weather']==4].index\n",
    "        #del_idx_list.extend(idx)\n",
    "        idx = df[df['temp']>40].index\n",
    "        del_idx_list.extend(idx)\n",
    "        idx = df[df['windspeed']>50].index\n",
    "        del_idx_list.extend(idx)\n",
    "        df.drop(del_idx_list, axis=0, inplace=True)\n",
    "\n",
    "    \n",
    "    #---------(연속형피쳐:로그스케일링) ---------------\n",
    "    # 'temp', 'atemp','humidity', 'windspeed'\n",
    "    #------------------------------------------------\n",
    "    df['temp']      = np.log1p( df['temp'] )\n",
    "    df['atemp']     = np.log1p( df['atemp'] )\n",
    "    df['humidity']  = np.log1p( df['humidity'] )\n",
    "    df['windspeed'] = np.log1p( df['windspeed'] )\n",
    "    \n",
    "    #------------------------------------------------\n",
    "    # 다중공선\n",
    "    # 'temp', 'atemp'\n",
    "    # 'season', 'm'\n",
    "    # 'w', 'day_type'\n",
    "    #------------------------------------------------\n",
    "    df = df.drop(['atemp'], axis=1)\n",
    "    # X = X.drop(['season'], axis=1)\n",
    "    # X = X.drop(['day_type'], axis=1)\n",
    "    \n",
    "    \n",
    "    #------------------------------------------------\n",
    "    # 이산형 피쳐 원핫인코딩\n",
    "    # ['season', 'weather','m', 'y', 'h', 'w', 'day_type']\n",
    "    df = pd.get_dummies(df, columns=['season', 'weather','m', 'y', 'h', 'w', 'day_type'])\n",
    "    \n",
    "    #------------------------------------------------\n",
    "    #X = df.drop(['regcount','casual','registered'], axis=1)\n",
    "    df.drop('d', axis=1, inplace=True)\n",
    "    df = df.set_index('regdate')\n",
    "    \n",
    "    #------------------------------------------------\n",
    "    #print(df.info())\n",
    "    print(df_name[i])\n",
    "    globals()[df_name[i]] = df.copy()"
   ]
  },
  {
   "cell_type": "code",
   "execution_count": 16,
   "id": "4a36428c-db62-4b4d-8a21-df45f986b2a2",
   "metadata": {},
   "outputs": [
    {
     "name": "stdout",
     "output_type": "stream",
     "text": [
      "<class 'pandas.core.frame.DataFrame'>\n",
      "DatetimeIndex: 10881 entries, 2011-01-01 00:00:00 to 2012-12-19 23:00:00\n",
      "Data columns (total 67 columns):\n",
      " #   Column      Non-Null Count  Dtype  \n",
      "---  ------      --------------  -----  \n",
      " 0   holiday     10881 non-null  int64  \n",
      " 1   workingday  10881 non-null  int64  \n",
      " 2   temp        10881 non-null  float64\n",
      " 3   humidity    10881 non-null  float64\n",
      " 4   windspeed   10881 non-null  float64\n",
      " 5   regcount    10881 non-null  float64\n",
      " 6   casual      10881 non-null  float64\n",
      " 7   registered  10881 non-null  float64\n",
      " 8   peak        10881 non-null  int64  \n",
      " 9   ideal       10881 non-null  int64  \n",
      " 10  sticky      10881 non-null  int64  \n",
      " 11  season_1    10881 non-null  uint8  \n",
      " 12  season_2    10881 non-null  uint8  \n",
      " 13  season_3    10881 non-null  uint8  \n",
      " 14  season_4    10881 non-null  uint8  \n",
      " 15  weather_1   10881 non-null  uint8  \n",
      " 16  weather_2   10881 non-null  uint8  \n",
      " 17  weather_3   10881 non-null  uint8  \n",
      " 18  weather_4   10881 non-null  uint8  \n",
      " 19  m_1         10881 non-null  uint8  \n",
      " 20  m_2         10881 non-null  uint8  \n",
      " 21  m_3         10881 non-null  uint8  \n",
      " 22  m_4         10881 non-null  uint8  \n",
      " 23  m_5         10881 non-null  uint8  \n",
      " 24  m_6         10881 non-null  uint8  \n",
      " 25  m_7         10881 non-null  uint8  \n",
      " 26  m_8         10881 non-null  uint8  \n",
      " 27  m_9         10881 non-null  uint8  \n",
      " 28  m_10        10881 non-null  uint8  \n",
      " 29  m_11        10881 non-null  uint8  \n",
      " 30  m_12        10881 non-null  uint8  \n",
      " 31  y_2011      10881 non-null  uint8  \n",
      " 32  y_2012      10881 non-null  uint8  \n",
      " 33  h_0         10881 non-null  uint8  \n",
      " 34  h_1         10881 non-null  uint8  \n",
      " 35  h_2         10881 non-null  uint8  \n",
      " 36  h_3         10881 non-null  uint8  \n",
      " 37  h_4         10881 non-null  uint8  \n",
      " 38  h_5         10881 non-null  uint8  \n",
      " 39  h_6         10881 non-null  uint8  \n",
      " 40  h_7         10881 non-null  uint8  \n",
      " 41  h_8         10881 non-null  uint8  \n",
      " 42  h_9         10881 non-null  uint8  \n",
      " 43  h_10        10881 non-null  uint8  \n",
      " 44  h_11        10881 non-null  uint8  \n",
      " 45  h_12        10881 non-null  uint8  \n",
      " 46  h_13        10881 non-null  uint8  \n",
      " 47  h_14        10881 non-null  uint8  \n",
      " 48  h_15        10881 non-null  uint8  \n",
      " 49  h_16        10881 non-null  uint8  \n",
      " 50  h_17        10881 non-null  uint8  \n",
      " 51  h_18        10881 non-null  uint8  \n",
      " 52  h_19        10881 non-null  uint8  \n",
      " 53  h_20        10881 non-null  uint8  \n",
      " 54  h_21        10881 non-null  uint8  \n",
      " 55  h_22        10881 non-null  uint8  \n",
      " 56  h_23        10881 non-null  uint8  \n",
      " 57  w_0         10881 non-null  uint8  \n",
      " 58  w_1         10881 non-null  uint8  \n",
      " 59  w_2         10881 non-null  uint8  \n",
      " 60  w_3         10881 non-null  uint8  \n",
      " 61  w_4         10881 non-null  uint8  \n",
      " 62  w_5         10881 non-null  uint8  \n",
      " 63  w_6         10881 non-null  uint8  \n",
      " 64  day_type_0  10881 non-null  uint8  \n",
      " 65  day_type_1  10881 non-null  uint8  \n",
      " 66  day_type_2  10881 non-null  uint8  \n",
      "dtypes: float64(6), int64(5), uint8(56)\n",
      "memory usage: 1.6 MB\n"
     ]
    }
   ],
   "source": [
    "train.info()"
   ]
  },
  {
   "cell_type": "code",
   "execution_count": 17,
   "id": "b862156b-ea56-4bed-bd48-7de9a2cf7b51",
   "metadata": {},
   "outputs": [
    {
     "name": "stdout",
     "output_type": "stream",
     "text": [
      "<class 'pandas.core.frame.DataFrame'>\n",
      "DatetimeIndex: 6493 entries, 2011-01-20 00:00:00 to 2012-12-31 23:00:00\n",
      "Data columns (total 64 columns):\n",
      " #   Column      Non-Null Count  Dtype  \n",
      "---  ------      --------------  -----  \n",
      " 0   holiday     6493 non-null   int64  \n",
      " 1   workingday  6493 non-null   int64  \n",
      " 2   temp        6493 non-null   float64\n",
      " 3   humidity    6493 non-null   float64\n",
      " 4   windspeed   6493 non-null   float64\n",
      " 5   peak        6493 non-null   int64  \n",
      " 6   ideal       6493 non-null   int64  \n",
      " 7   sticky      6493 non-null   int64  \n",
      " 8   season_1    6493 non-null   uint8  \n",
      " 9   season_2    6493 non-null   uint8  \n",
      " 10  season_3    6493 non-null   uint8  \n",
      " 11  season_4    6493 non-null   uint8  \n",
      " 12  weather_1   6493 non-null   uint8  \n",
      " 13  weather_2   6493 non-null   uint8  \n",
      " 14  weather_3   6493 non-null   uint8  \n",
      " 15  weather_4   6493 non-null   uint8  \n",
      " 16  m_1         6493 non-null   uint8  \n",
      " 17  m_2         6493 non-null   uint8  \n",
      " 18  m_3         6493 non-null   uint8  \n",
      " 19  m_4         6493 non-null   uint8  \n",
      " 20  m_5         6493 non-null   uint8  \n",
      " 21  m_6         6493 non-null   uint8  \n",
      " 22  m_7         6493 non-null   uint8  \n",
      " 23  m_8         6493 non-null   uint8  \n",
      " 24  m_9         6493 non-null   uint8  \n",
      " 25  m_10        6493 non-null   uint8  \n",
      " 26  m_11        6493 non-null   uint8  \n",
      " 27  m_12        6493 non-null   uint8  \n",
      " 28  y_2011      6493 non-null   uint8  \n",
      " 29  y_2012      6493 non-null   uint8  \n",
      " 30  h_0         6493 non-null   uint8  \n",
      " 31  h_1         6493 non-null   uint8  \n",
      " 32  h_2         6493 non-null   uint8  \n",
      " 33  h_3         6493 non-null   uint8  \n",
      " 34  h_4         6493 non-null   uint8  \n",
      " 35  h_5         6493 non-null   uint8  \n",
      " 36  h_6         6493 non-null   uint8  \n",
      " 37  h_7         6493 non-null   uint8  \n",
      " 38  h_8         6493 non-null   uint8  \n",
      " 39  h_9         6493 non-null   uint8  \n",
      " 40  h_10        6493 non-null   uint8  \n",
      " 41  h_11        6493 non-null   uint8  \n",
      " 42  h_12        6493 non-null   uint8  \n",
      " 43  h_13        6493 non-null   uint8  \n",
      " 44  h_14        6493 non-null   uint8  \n",
      " 45  h_15        6493 non-null   uint8  \n",
      " 46  h_16        6493 non-null   uint8  \n",
      " 47  h_17        6493 non-null   uint8  \n",
      " 48  h_18        6493 non-null   uint8  \n",
      " 49  h_19        6493 non-null   uint8  \n",
      " 50  h_20        6493 non-null   uint8  \n",
      " 51  h_21        6493 non-null   uint8  \n",
      " 52  h_22        6493 non-null   uint8  \n",
      " 53  h_23        6493 non-null   uint8  \n",
      " 54  w_0         6493 non-null   uint8  \n",
      " 55  w_1         6493 non-null   uint8  \n",
      " 56  w_2         6493 non-null   uint8  \n",
      " 57  w_3         6493 non-null   uint8  \n",
      " 58  w_4         6493 non-null   uint8  \n",
      " 59  w_5         6493 non-null   uint8  \n",
      " 60  w_6         6493 non-null   uint8  \n",
      " 61  day_type_0  6493 non-null   uint8  \n",
      " 62  day_type_1  6493 non-null   uint8  \n",
      " 63  day_type_2  6493 non-null   uint8  \n",
      "dtypes: float64(3), int64(5), uint8(56)\n",
      "memory usage: 811.6 KB\n"
     ]
    }
   ],
   "source": [
    "test.info()"
   ]
  },
  {
   "cell_type": "markdown",
   "id": "c516d172-18e6-4c20-a600-c9848bbea7ce",
   "metadata": {},
   "source": [
    "# 학습"
   ]
  },
  {
   "cell_type": "markdown",
   "id": "92ab7888-d652-4b51-9ca7-68955435e546",
   "metadata": {},
   "source": [
    "## 타켓 선정\n",
    "* 답안지 : count 제출\n",
    "* regcount(A패턴)  = registered(A2패턴) + casual (B패턴) \n",
    "* <font color=red><b>registered(A2패턴) + casual (B패턴)  --> 이 값을 답안으로 제출"
   ]
  },
  {
   "cell_type": "markdown",
   "id": "2d3e9cb3-e89b-4e61-b663-a1d523740c10",
   "metadata": {
    "tags": []
   },
   "source": [
    "## 최종피쳐 선정"
   ]
  },
  {
   "cell_type": "code",
   "execution_count": 18,
   "id": "6e6f5611-73be-46cd-9554-9d4468b8dd1b",
   "metadata": {
    "tags": []
   },
   "outputs": [
    {
     "data": {
      "text/plain": [
       "Index(['holiday', 'workingday', 'temp', 'humidity', 'windspeed', 'regcount',\n",
       "       'casual', 'registered', 'peak', 'ideal', 'sticky', 'season_1',\n",
       "       'season_2', 'season_3', 'season_4', 'weather_1', 'weather_2',\n",
       "       'weather_3', 'weather_4', 'm_1', 'm_2', 'm_3', 'm_4', 'm_5', 'm_6',\n",
       "       'm_7', 'm_8', 'm_9', 'm_10', 'm_11', 'm_12', 'y_2011', 'y_2012', 'h_0',\n",
       "       'h_1', 'h_2', 'h_3', 'h_4', 'h_5', 'h_6', 'h_7', 'h_8', 'h_9', 'h_10',\n",
       "       'h_11', 'h_12', 'h_13', 'h_14', 'h_15', 'h_16', 'h_17', 'h_18', 'h_19',\n",
       "       'h_20', 'h_21', 'h_22', 'h_23', 'w_0', 'w_1', 'w_2', 'w_3', 'w_4',\n",
       "       'w_5', 'w_6', 'day_type_0', 'day_type_1', 'day_type_2'],\n",
       "      dtype='object')"
      ]
     },
     "execution_count": 18,
     "metadata": {},
     "output_type": "execute_result"
    }
   ],
   "source": [
    "train.columns"
   ]
  },
  {
   "cell_type": "markdown",
   "id": "5a225149-38b1-49d1-a28c-2646697efa4a",
   "metadata": {},
   "source": [
    "<pre>\n",
    "타겟(1) : 'casual' + 'registered'\n",
    "타겟(2) : 'regcount'\n",
    "\n",
    "\n",
    "'d' 피쳐 삭제\n",
    "('m', 'h'),  'y', 'd' -->'w'\n",
    "\n",
    "\n",
    "(+)3개 : 'holiday', 'workingday', 'day_type'\n",
    "(+)2개 : 'holiday', 'workingday'\n",
    "(+)1개 : 'day_type'\n",
    "\n",
    "\n",
    "'weather', 'humidity',  'season', \n",
    "(+)'windspeed' : 'h' 비례? / 'm' 반비례?\n",
    "\n",
    "\n",
    "다중공선 : (상관계수가 높은 경우)\n",
    "'regcount' 'registered' 'casual' : 0.97  --> 'regcount' vs. 'registered'+'casual'\n",
    "'temp' 'atemp'                   : 0.98  --> 'atemp' drop\n",
    "\n",
    "선택적으로 모델에 적용\n",
    "(+)'w' 'day_type' : -0.78\n",
    "(+)'season' 'm'   : 0.97\n",
    "\n",
    "\n",
    "* ('m', 'h'),  'y', 'w', 'weather', 'humidity',  'season', 'temp'\n",
    "* (+)'windspeed'\n",
    "* (+)('holiday', 'workingday'), ('day_type')\n",
    "* (+)('w' 'day_type') : -0.78\n",
    "* (+)('m') 'season'    : 0.97\n"
   ]
  },
  {
   "cell_type": "markdown",
   "id": "b0a8ef5c-ccb7-471e-86ee-e79371b957c6",
   "metadata": {},
   "source": [
    "## 학습 & 평가\n",
    "* ref : https://suboptimal.wiki/explanation/mse/"
   ]
  },
  {
   "cell_type": "markdown",
   "id": "c13f6955-1f3d-470c-addd-3f8da46a8c06",
   "metadata": {},
   "source": [
    "*  $ RMSLE = \\sqrt{\\frac{1}{n}\\Sigma_{i=1}^{n}{\\Big(\\frac{log(Y_i+1) - log(\\hat{Y_i}+1)}{N}\\Big)^2}}$"
   ]
  },
  {
   "cell_type": "markdown",
   "id": "29a1c744-f6c5-4551-9ed3-193de936a229",
   "metadata": {},
   "source": [
    "## 공통함수"
   ]
  },
  {
   "cell_type": "code",
   "execution_count": 19,
   "id": "75c1e36b-5262-41cc-854f-abb5cb91188c",
   "metadata": {
    "tags": []
   },
   "outputs": [],
   "source": [
    "# ! pip install xgboost\n",
    "# ! pip install lightgbm "
   ]
  },
  {
   "cell_type": "markdown",
   "id": "445d814d-2e21-45e3-9f71-9a37eb585c5c",
   "metadata": {},
   "source": [
    "* class sklearn.linear_model.Ridge(alpha=1.0, *, fit_intercept=True, copy_X=True, max_iter=None, tol=0.0001, solver='auto', positive=False, random_state=None)\n",
    "* class sklearn.linear_model.Lasso(alpha=1.0, *, fit_intercept=True, precompute=False, copy_X=True, max_iter=1000, tol=0.0001, warm_start=False, positive=False, random_state=None, selection='cyclic')"
   ]
  },
  {
   "cell_type": "markdown",
   "id": "38500382-7374-4947-8d7f-de2288cb0d06",
   "metadata": {},
   "source": [
    "* https://towardsdatascience.com/custom-implementation-of-feature-importance-for-your-voting-classifier-model-859b573ce0e0\n",
    "* [bagging vs boosting] : http://egloos.zum.com/incredible/v/7478090\n",
    "* [eval plot] https://hyemin-kim.github.io/2020/08/04/S-Python-sklearn4/#2-%ED%8F%89%EA%B0%80-%EC%A7%80%ED%91%9C-%EB%A7%8C%EB%93%A4%EA%B8%B0"
   ]
  },
  {
   "cell_type": "code",
   "execution_count": 20,
   "id": "00a2a05c-edb8-49a3-adbe-ec40beb55252",
   "metadata": {
    "tags": []
   },
   "outputs": [
    {
     "data": {
      "text/plain": [
       "'Ridge'"
      ]
     },
     "execution_count": 20,
     "metadata": {},
     "output_type": "execute_result"
    }
   ],
   "source": [
    "modelsss = Ridge(alpha=1.0, random_state=0)\n",
    "modelsss.__class__.__name__"
   ]
  },
  {
   "cell_type": "code",
   "execution_count": 21,
   "id": "671be953-520f-491d-bf59-cc74882e9db2",
   "metadata": {
    "tags": []
   },
   "outputs": [],
   "source": [
    "def my_view_chart(model_name, model, X_train):\n",
    "    if model_name == \"RIDGE\" :\n",
    "        ax1 = plt.subplot(4,1,1)\n",
    "        s = pd.Series(model.coef_, index=X_train.columns).sort_values()\n",
    "        sns.barplot(x=s.values, y=s.index, ax=ax1)\n",
    "        plt.show()\n",
    "    elif model_name == \"RF\" :\n",
    "        ax2 = plt.subplot(4,1,2)\n",
    "        s = pd.Series(model.feature_importances_, index=X_train.columns).sort_values()\n",
    "        sns.barplot(x=s.values, y=s.index, ax=ax2)\n",
    "        plt.show()\n",
    "    elif model_name == \"XGB\" :\n",
    "        ax3 = plt.subplot(4,1,3)\n",
    "        # Weight, Gain, Cover\n",
    "        s = pd.Series(model.get_booster().get_score(importance_type='weight'), index=X_train.columns).sort_values()\n",
    "        sns.barplot(x=s.values, y=s.index, ax=ax3)\n",
    "        plt.show()\n",
    "    elif model_name == \"LGBM\" :\n",
    "        ax4 = plt.subplot(4,1,4)  \n",
    "        # Gain, Split\n",
    "        #s = pd.Series(model.booster_.faeture_importance(importance_type=\"gain\"), index=X_train.columns).sort_values()\n",
    "        s = pd.Series(model.feature_importances_, index=X_train.columns).sort_values()\n",
    "        sns.barplot(x=s.values, y=s.index, ax=ax4)\n",
    "        plt.show()\n",
    "            "
   ]
  },
  {
   "cell_type": "code",
   "execution_count": 22,
   "id": "cb76a413-3251-45d3-96d9-0baf3e8dfa2e",
   "metadata": {},
   "outputs": [],
   "source": [
    "def my_fit_score(df, chart_view=False) :\n",
    "    model_list = [ \n",
    "                   #(\"RIDGE\"  , Ridge(alpha=1.0, random_state=0)),\n",
    "                   #(\"LASSO\"  , Lasso(alpha=1.0, random_state=0)),\n",
    "                   (\"DTR\"    , DecisionTreeRegressor(random_state=0)),\n",
    "                   (\"RF\"     , RandomForestRegressor(random_state=0)),\n",
    "                   #(\"LR\"     , LinearRegression()                   ),\n",
    "                   #(\"ABOOST\" , AdaBoostRegressor(random_state=0)                  ),\n",
    "                   (\"XGB\"    , XGBRegressor(random_state=0)                       ),   #booster=gblinear\n",
    "                   (\"LGBM\"   , LGBMRegressor(random_state=0)                      ),\n",
    "                   # model.booster().get_score(importance_type='weight')\n",
    "                   (\"VR-XGB-LGBM\"  , VotingRegressor([(\"XGB\", XGBRegressor(random_state=0)), (\"LGBM\", LGBMRegressor(random_state=0))]) ) ,\n",
    "                   (\"VR-RF-LGBM\"   , VotingRegressor([(\"DTR\", RandomForestRegressor(random_state=0)), (\"LGBM\", LGBMRegressor(random_state=0))]) )\n",
    "                 ]\n",
    "   \n",
    "    \n",
    "    #---------(타켓피쳐:로그스케일링) -----------\n",
    "    # y_c = df['casual'] \n",
    "    # y_r = df['registered'] \n",
    "    y_c = np.log1p( df['casual'] )\n",
    "    y_r = np.log1p( df['registered'] )\n",
    "    # print(y_c[:5], y_r[:5])\n",
    "    \n",
    "    X = df.drop(['regcount','casual','registered'], axis=1)\n",
    "    \n",
    "\n",
    "    for tpl in model_list :\n",
    "        print( tpl[0] )         \n",
    "        model = tpl[1]\n",
    "        X_train, X_test, y_train, y_r_test = train_test_split(X, y_r, random_state=0, test_size=0.2)\n",
    "        model.fit(X_train, y_train)  \n",
    "        #------------------------------------------------\n",
    "        # feature_importance 차트 그리기\n",
    "        if bool(chart_view) : \n",
    "            my_view_chart(tpl[0], model, X_train)\n",
    "        #------------------------------------------------\n",
    "        y_r_pred = model.predict(X_test)\n",
    "        \n",
    "        \n",
    "        model = tpl[1]\n",
    "        X_train, X_test, y_train, y_c_test = train_test_split(X, y_c, random_state=0, test_size=0.2)\n",
    "        model.fit(X_train, y_train)\n",
    "        y_c_pred = model.predict(X_test)\n",
    "        \n",
    "        \n",
    "        #---------(타켓피쳐:로그스케일링) 복원-----------\n",
    "        y_pred_comb = np.expm1(y_r_pred)+np.expm1(y_c_pred)\n",
    "        y_real_comb = np.expm1(y_r_test)+np.expm1(y_c_test)\n",
    "        y_pred_comb[y_pred_comb < 0] = 0\n",
    "        \n",
    "        # print(\"yrtest\", y_r_test[:5])\n",
    "        # print(\"yctest\", y_c_test[:5])\n",
    "        # print(\"ypred\", y_pred_comb[:5])\n",
    "        msle_score = mean_squared_log_error(y_real_comb, y_pred_comb)\n",
    "\n",
    "        print(\"RMSLE: \", np.sqrt(msle_score)) \n",
    "        print(\"-\"*30)\n",
    "        "
   ]
  },
  {
   "cell_type": "markdown",
   "id": "d77c8815-a400-4774-bf01-3e4f789b9a60",
   "metadata": {
    "tags": []
   },
   "source": [
    "## 점수보기\n",
    "* RF  \n",
    "RMSLE:  0.3288546947603633  : 원본  \n",
    "RMSLE:  0.327712532218228   : 풍속채우기  \n",
    "RMSLE:  0.3029460779805034  : 스케일링  \n",
    "\n",
    "* VR-XGB-LGBM  \n",
    "RMSLE:  0.2839304212238602  : 타겟스케일링  \n",
    "RMSLE:  0.28362762650351697 : 연속형스케일링  \n",
    "RMSLE : 0.28753884621648423 : atemp 다중공선 삭제  \n",
    "RMSLE:  0.3094906507392463  : 원핫인코딩  \n",
    "RMSLE:  0.3050329198155958  : 아웃라이어\n",
    "* VR-XGB-LGBM  \n",
    "RMSLE:  0.3021050186280649  : 아웃라이어"
   ]
  },
  {
   "cell_type": "code",
   "execution_count": 23,
   "id": "79315927-e04b-44ed-b6be-121e82af0cbd",
   "metadata": {
    "tags": []
   },
   "outputs": [
    {
     "name": "stdout",
     "output_type": "stream",
     "text": [
      "DTR\n",
      "RMSLE:  0.39513136629600504\n",
      "------------------------------\n",
      "RF\n",
      "RMSLE:  0.30527037468363344\n",
      "------------------------------\n",
      "XGB\n",
      "RMSLE:  0.30162506914820986\n",
      "------------------------------\n",
      "LGBM\n",
      "RMSLE:  0.29414778468571606\n",
      "------------------------------\n",
      "VR-XGB-LGBM\n",
      "RMSLE:  0.28915645477161256\n",
      "------------------------------\n",
      "VR-RF-LGBM\n",
      "RMSLE:  0.28955359080389625\n",
      "------------------------------\n"
     ]
    }
   ],
   "source": [
    "my_fit_score(train)\n",
    "# my_fit_score(train, chart_view=True)"
   ]
  },
  {
   "cell_type": "markdown",
   "id": "d66acdee-980c-4c62-8029-dad0007fa463",
   "metadata": {},
   "source": [
    "# 평가 검증"
   ]
  },
  {
   "cell_type": "markdown",
   "id": "261030f3-a3a5-4dc5-8cce-638923d98625",
   "metadata": {},
   "source": [
    "<pre>\n",
    "RF\n",
    "RMSLE:  0.3240882615968124\n",
    "------------------------------\n",
    "XGB\n",
    "RMSLE:  0.31444042937265204\n",
    "------------------------------\n",
    "LGBM\n",
    "RMSLE:  0.3084384282190159"
   ]
  },
  {
   "cell_type": "markdown",
   "id": "61612bd3-c8d7-4d70-bfec-67702c2291fe",
   "metadata": {},
   "source": [
    "## X, y 분리"
   ]
  },
  {
   "cell_type": "code",
   "execution_count": 24,
   "id": "1b47dad9-a83e-4431-9dbf-2b2fa6225165",
   "metadata": {
    "tags": []
   },
   "outputs": [
    {
     "name": "stdout",
     "output_type": "stream",
     "text": [
      "(10881, 67)\n"
     ]
    },
    {
     "data": {
      "text/plain": [
       "Index(['holiday', 'workingday', 'temp', 'humidity', 'windspeed', 'regcount',\n",
       "       'casual', 'registered', 'peak', 'ideal', 'sticky', 'season_1',\n",
       "       'season_2', 'season_3', 'season_4', 'weather_1', 'weather_2',\n",
       "       'weather_3', 'weather_4', 'm_1', 'm_2', 'm_3', 'm_4', 'm_5', 'm_6',\n",
       "       'm_7', 'm_8', 'm_9', 'm_10', 'm_11', 'm_12', 'y_2011', 'y_2012', 'h_0',\n",
       "       'h_1', 'h_2', 'h_3', 'h_4', 'h_5', 'h_6', 'h_7', 'h_8', 'h_9', 'h_10',\n",
       "       'h_11', 'h_12', 'h_13', 'h_14', 'h_15', 'h_16', 'h_17', 'h_18', 'h_19',\n",
       "       'h_20', 'h_21', 'h_22', 'h_23', 'w_0', 'w_1', 'w_2', 'w_3', 'w_4',\n",
       "       'w_5', 'w_6', 'day_type_0', 'day_type_1', 'day_type_2'],\n",
       "      dtype='object')"
      ]
     },
     "execution_count": 24,
     "metadata": {},
     "output_type": "execute_result"
    }
   ],
   "source": [
    "print(train.shape)\n",
    "train.columns"
   ]
  },
  {
   "cell_type": "code",
   "execution_count": 25,
   "id": "d9390b19-53c9-41a7-a670-4f7df62d1332",
   "metadata": {
    "tags": []
   },
   "outputs": [
    {
     "data": {
      "text/html": [
       "<div>\n",
       "<style scoped>\n",
       "    .dataframe tbody tr th:only-of-type {\n",
       "        vertical-align: middle;\n",
       "    }\n",
       "\n",
       "    .dataframe tbody tr th {\n",
       "        vertical-align: top;\n",
       "    }\n",
       "\n",
       "    .dataframe thead th {\n",
       "        text-align: right;\n",
       "    }\n",
       "</style>\n",
       "<table border=\"1\" class=\"dataframe\">\n",
       "  <thead>\n",
       "    <tr style=\"text-align: right;\">\n",
       "      <th></th>\n",
       "      <th>holiday</th>\n",
       "      <th>workingday</th>\n",
       "      <th>temp</th>\n",
       "      <th>humidity</th>\n",
       "      <th>windspeed</th>\n",
       "      <th>regcount</th>\n",
       "      <th>casual</th>\n",
       "      <th>registered</th>\n",
       "      <th>peak</th>\n",
       "      <th>ideal</th>\n",
       "      <th>sticky</th>\n",
       "      <th>season_1</th>\n",
       "      <th>season_2</th>\n",
       "      <th>season_3</th>\n",
       "      <th>season_4</th>\n",
       "      <th>weather_1</th>\n",
       "      <th>weather_2</th>\n",
       "      <th>weather_3</th>\n",
       "      <th>weather_4</th>\n",
       "      <th>m_1</th>\n",
       "      <th>m_2</th>\n",
       "      <th>m_3</th>\n",
       "      <th>m_4</th>\n",
       "      <th>m_5</th>\n",
       "      <th>m_6</th>\n",
       "      <th>m_7</th>\n",
       "      <th>m_8</th>\n",
       "      <th>m_9</th>\n",
       "      <th>m_10</th>\n",
       "      <th>m_11</th>\n",
       "      <th>m_12</th>\n",
       "      <th>y_2011</th>\n",
       "      <th>y_2012</th>\n",
       "      <th>h_0</th>\n",
       "      <th>h_1</th>\n",
       "      <th>h_2</th>\n",
       "      <th>h_3</th>\n",
       "      <th>h_4</th>\n",
       "      <th>h_5</th>\n",
       "      <th>h_6</th>\n",
       "      <th>h_7</th>\n",
       "      <th>h_8</th>\n",
       "      <th>h_9</th>\n",
       "      <th>h_10</th>\n",
       "      <th>h_11</th>\n",
       "      <th>h_12</th>\n",
       "      <th>h_13</th>\n",
       "      <th>h_14</th>\n",
       "      <th>h_15</th>\n",
       "      <th>h_16</th>\n",
       "      <th>h_17</th>\n",
       "      <th>h_18</th>\n",
       "      <th>h_19</th>\n",
       "      <th>h_20</th>\n",
       "      <th>h_21</th>\n",
       "      <th>h_22</th>\n",
       "      <th>h_23</th>\n",
       "      <th>w_0</th>\n",
       "      <th>w_1</th>\n",
       "      <th>w_2</th>\n",
       "      <th>w_3</th>\n",
       "      <th>w_4</th>\n",
       "      <th>w_5</th>\n",
       "      <th>w_6</th>\n",
       "      <th>day_type_0</th>\n",
       "      <th>day_type_1</th>\n",
       "      <th>day_type_2</th>\n",
       "    </tr>\n",
       "    <tr>\n",
       "      <th>regdate</th>\n",
       "      <th></th>\n",
       "      <th></th>\n",
       "      <th></th>\n",
       "      <th></th>\n",
       "      <th></th>\n",
       "      <th></th>\n",
       "      <th></th>\n",
       "      <th></th>\n",
       "      <th></th>\n",
       "      <th></th>\n",
       "      <th></th>\n",
       "      <th></th>\n",
       "      <th></th>\n",
       "      <th></th>\n",
       "      <th></th>\n",
       "      <th></th>\n",
       "      <th></th>\n",
       "      <th></th>\n",
       "      <th></th>\n",
       "      <th></th>\n",
       "      <th></th>\n",
       "      <th></th>\n",
       "      <th></th>\n",
       "      <th></th>\n",
       "      <th></th>\n",
       "      <th></th>\n",
       "      <th></th>\n",
       "      <th></th>\n",
       "      <th></th>\n",
       "      <th></th>\n",
       "      <th></th>\n",
       "      <th></th>\n",
       "      <th></th>\n",
       "      <th></th>\n",
       "      <th></th>\n",
       "      <th></th>\n",
       "      <th></th>\n",
       "      <th></th>\n",
       "      <th></th>\n",
       "      <th></th>\n",
       "      <th></th>\n",
       "      <th></th>\n",
       "      <th></th>\n",
       "      <th></th>\n",
       "      <th></th>\n",
       "      <th></th>\n",
       "      <th></th>\n",
       "      <th></th>\n",
       "      <th></th>\n",
       "      <th></th>\n",
       "      <th></th>\n",
       "      <th></th>\n",
       "      <th></th>\n",
       "      <th></th>\n",
       "      <th></th>\n",
       "      <th></th>\n",
       "      <th></th>\n",
       "      <th></th>\n",
       "      <th></th>\n",
       "      <th></th>\n",
       "      <th></th>\n",
       "      <th></th>\n",
       "      <th></th>\n",
       "      <th></th>\n",
       "      <th></th>\n",
       "      <th></th>\n",
       "      <th></th>\n",
       "    </tr>\n",
       "  </thead>\n",
       "  <tbody>\n",
       "    <tr>\n",
       "      <th>2011-01-01 00:00:00</th>\n",
       "      <td>0</td>\n",
       "      <td>0</td>\n",
       "      <td>2.383243</td>\n",
       "      <td>4.406719</td>\n",
       "      <td>1.933883</td>\n",
       "      <td>16.0</td>\n",
       "      <td>3.0</td>\n",
       "      <td>13.0</td>\n",
       "      <td>0</td>\n",
       "      <td>0</td>\n",
       "      <td>0</td>\n",
       "      <td>1</td>\n",
       "      <td>0</td>\n",
       "      <td>0</td>\n",
       "      <td>0</td>\n",
       "      <td>1</td>\n",
       "      <td>0</td>\n",
       "      <td>0</td>\n",
       "      <td>0</td>\n",
       "      <td>1</td>\n",
       "      <td>0</td>\n",
       "      <td>0</td>\n",
       "      <td>0</td>\n",
       "      <td>0</td>\n",
       "      <td>0</td>\n",
       "      <td>0</td>\n",
       "      <td>0</td>\n",
       "      <td>0</td>\n",
       "      <td>0</td>\n",
       "      <td>0</td>\n",
       "      <td>0</td>\n",
       "      <td>1</td>\n",
       "      <td>0</td>\n",
       "      <td>1</td>\n",
       "      <td>0</td>\n",
       "      <td>0</td>\n",
       "      <td>0</td>\n",
       "      <td>0</td>\n",
       "      <td>0</td>\n",
       "      <td>0</td>\n",
       "      <td>0</td>\n",
       "      <td>0</td>\n",
       "      <td>0</td>\n",
       "      <td>0</td>\n",
       "      <td>0</td>\n",
       "      <td>0</td>\n",
       "      <td>0</td>\n",
       "      <td>0</td>\n",
       "      <td>0</td>\n",
       "      <td>0</td>\n",
       "      <td>0</td>\n",
       "      <td>0</td>\n",
       "      <td>0</td>\n",
       "      <td>0</td>\n",
       "      <td>0</td>\n",
       "      <td>0</td>\n",
       "      <td>0</td>\n",
       "      <td>0</td>\n",
       "      <td>0</td>\n",
       "      <td>0</td>\n",
       "      <td>0</td>\n",
       "      <td>0</td>\n",
       "      <td>1</td>\n",
       "      <td>0</td>\n",
       "      <td>1</td>\n",
       "      <td>0</td>\n",
       "      <td>0</td>\n",
       "    </tr>\n",
       "    <tr>\n",
       "      <th>2011-01-01 01:00:00</th>\n",
       "      <td>0</td>\n",
       "      <td>0</td>\n",
       "      <td>2.304583</td>\n",
       "      <td>4.394449</td>\n",
       "      <td>1.976391</td>\n",
       "      <td>40.0</td>\n",
       "      <td>8.0</td>\n",
       "      <td>32.0</td>\n",
       "      <td>0</td>\n",
       "      <td>0</td>\n",
       "      <td>0</td>\n",
       "      <td>1</td>\n",
       "      <td>0</td>\n",
       "      <td>0</td>\n",
       "      <td>0</td>\n",
       "      <td>1</td>\n",
       "      <td>0</td>\n",
       "      <td>0</td>\n",
       "      <td>0</td>\n",
       "      <td>1</td>\n",
       "      <td>0</td>\n",
       "      <td>0</td>\n",
       "      <td>0</td>\n",
       "      <td>0</td>\n",
       "      <td>0</td>\n",
       "      <td>0</td>\n",
       "      <td>0</td>\n",
       "      <td>0</td>\n",
       "      <td>0</td>\n",
       "      <td>0</td>\n",
       "      <td>0</td>\n",
       "      <td>1</td>\n",
       "      <td>0</td>\n",
       "      <td>0</td>\n",
       "      <td>1</td>\n",
       "      <td>0</td>\n",
       "      <td>0</td>\n",
       "      <td>0</td>\n",
       "      <td>0</td>\n",
       "      <td>0</td>\n",
       "      <td>0</td>\n",
       "      <td>0</td>\n",
       "      <td>0</td>\n",
       "      <td>0</td>\n",
       "      <td>0</td>\n",
       "      <td>0</td>\n",
       "      <td>0</td>\n",
       "      <td>0</td>\n",
       "      <td>0</td>\n",
       "      <td>0</td>\n",
       "      <td>0</td>\n",
       "      <td>0</td>\n",
       "      <td>0</td>\n",
       "      <td>0</td>\n",
       "      <td>0</td>\n",
       "      <td>0</td>\n",
       "      <td>0</td>\n",
       "      <td>0</td>\n",
       "      <td>0</td>\n",
       "      <td>0</td>\n",
       "      <td>0</td>\n",
       "      <td>0</td>\n",
       "      <td>1</td>\n",
       "      <td>0</td>\n",
       "      <td>1</td>\n",
       "      <td>0</td>\n",
       "      <td>0</td>\n",
       "    </tr>\n",
       "  </tbody>\n",
       "</table>\n",
       "</div>"
      ],
      "text/plain": [
       "                     holiday  workingday      temp  humidity  windspeed  \\\n",
       "regdate                                                                   \n",
       "2011-01-01 00:00:00        0           0  2.383243  4.406719   1.933883   \n",
       "2011-01-01 01:00:00        0           0  2.304583  4.394449   1.976391   \n",
       "\n",
       "                     regcount  casual  registered  peak  ideal  sticky  \\\n",
       "regdate                                                                  \n",
       "2011-01-01 00:00:00      16.0     3.0        13.0     0      0       0   \n",
       "2011-01-01 01:00:00      40.0     8.0        32.0     0      0       0   \n",
       "\n",
       "                     season_1  season_2  season_3  season_4  weather_1  \\\n",
       "regdate                                                                  \n",
       "2011-01-01 00:00:00         1         0         0         0          1   \n",
       "2011-01-01 01:00:00         1         0         0         0          1   \n",
       "\n",
       "                     weather_2  weather_3  weather_4  m_1  m_2  m_3  m_4  m_5  \\\n",
       "regdate                                                                         \n",
       "2011-01-01 00:00:00          0          0          0    1    0    0    0    0   \n",
       "2011-01-01 01:00:00          0          0          0    1    0    0    0    0   \n",
       "\n",
       "                     m_6  m_7  m_8  m_9  m_10  m_11  m_12  y_2011  y_2012  \\\n",
       "regdate                                                                     \n",
       "2011-01-01 00:00:00    0    0    0    0     0     0     0       1       0   \n",
       "2011-01-01 01:00:00    0    0    0    0     0     0     0       1       0   \n",
       "\n",
       "                     h_0  h_1  h_2  h_3  h_4  h_5  h_6  h_7  h_8  h_9  h_10  \\\n",
       "regdate                                                                       \n",
       "2011-01-01 00:00:00    1    0    0    0    0    0    0    0    0    0     0   \n",
       "2011-01-01 01:00:00    0    1    0    0    0    0    0    0    0    0     0   \n",
       "\n",
       "                     h_11  h_12  h_13  h_14  h_15  h_16  h_17  h_18  h_19  \\\n",
       "regdate                                                                     \n",
       "2011-01-01 00:00:00     0     0     0     0     0     0     0     0     0   \n",
       "2011-01-01 01:00:00     0     0     0     0     0     0     0     0     0   \n",
       "\n",
       "                     h_20  h_21  h_22  h_23  w_0  w_1  w_2  w_3  w_4  w_5  \\\n",
       "regdate                                                                     \n",
       "2011-01-01 00:00:00     0     0     0     0    0    0    0    0    0    1   \n",
       "2011-01-01 01:00:00     0     0     0     0    0    0    0    0    0    1   \n",
       "\n",
       "                     w_6  day_type_0  day_type_1  day_type_2  \n",
       "regdate                                                       \n",
       "2011-01-01 00:00:00    0           1           0           0  \n",
       "2011-01-01 01:00:00    0           1           0           0  "
      ]
     },
     "execution_count": 25,
     "metadata": {},
     "output_type": "execute_result"
    }
   ],
   "source": [
    "train.head(2)"
   ]
  },
  {
   "cell_type": "code",
   "execution_count": 26,
   "id": "8584d816-9660-4a8e-9564-83db19142286",
   "metadata": {
    "tags": []
   },
   "outputs": [
    {
     "data": {
      "text/html": [
       "<div>\n",
       "<style scoped>\n",
       "    .dataframe tbody tr th:only-of-type {\n",
       "        vertical-align: middle;\n",
       "    }\n",
       "\n",
       "    .dataframe tbody tr th {\n",
       "        vertical-align: top;\n",
       "    }\n",
       "\n",
       "    .dataframe thead th {\n",
       "        text-align: right;\n",
       "    }\n",
       "</style>\n",
       "<table border=\"1\" class=\"dataframe\">\n",
       "  <thead>\n",
       "    <tr style=\"text-align: right;\">\n",
       "      <th></th>\n",
       "      <th>holiday</th>\n",
       "      <th>workingday</th>\n",
       "      <th>temp</th>\n",
       "      <th>humidity</th>\n",
       "      <th>windspeed</th>\n",
       "      <th>regcount</th>\n",
       "      <th>casual</th>\n",
       "      <th>registered</th>\n",
       "      <th>peak</th>\n",
       "      <th>ideal</th>\n",
       "      <th>sticky</th>\n",
       "      <th>season_1</th>\n",
       "      <th>season_2</th>\n",
       "      <th>season_3</th>\n",
       "      <th>season_4</th>\n",
       "      <th>weather_1</th>\n",
       "      <th>weather_2</th>\n",
       "      <th>weather_3</th>\n",
       "      <th>weather_4</th>\n",
       "      <th>m_1</th>\n",
       "      <th>m_2</th>\n",
       "      <th>m_3</th>\n",
       "      <th>m_4</th>\n",
       "      <th>m_5</th>\n",
       "      <th>m_6</th>\n",
       "      <th>m_7</th>\n",
       "      <th>m_8</th>\n",
       "      <th>m_9</th>\n",
       "      <th>m_10</th>\n",
       "      <th>m_11</th>\n",
       "      <th>m_12</th>\n",
       "      <th>y_2011</th>\n",
       "      <th>y_2012</th>\n",
       "      <th>h_0</th>\n",
       "      <th>h_1</th>\n",
       "      <th>h_2</th>\n",
       "      <th>h_3</th>\n",
       "      <th>h_4</th>\n",
       "      <th>h_5</th>\n",
       "      <th>h_6</th>\n",
       "      <th>h_7</th>\n",
       "      <th>h_8</th>\n",
       "      <th>h_9</th>\n",
       "      <th>h_10</th>\n",
       "      <th>h_11</th>\n",
       "      <th>h_12</th>\n",
       "      <th>h_13</th>\n",
       "      <th>h_14</th>\n",
       "      <th>h_15</th>\n",
       "      <th>h_16</th>\n",
       "      <th>h_17</th>\n",
       "      <th>h_18</th>\n",
       "      <th>h_19</th>\n",
       "      <th>h_20</th>\n",
       "      <th>h_21</th>\n",
       "      <th>h_22</th>\n",
       "      <th>h_23</th>\n",
       "      <th>w_0</th>\n",
       "      <th>w_1</th>\n",
       "      <th>w_2</th>\n",
       "      <th>w_3</th>\n",
       "      <th>w_4</th>\n",
       "      <th>w_5</th>\n",
       "      <th>w_6</th>\n",
       "      <th>day_type_0</th>\n",
       "      <th>day_type_1</th>\n",
       "      <th>day_type_2</th>\n",
       "    </tr>\n",
       "  </thead>\n",
       "  <tbody>\n",
       "    <tr>\n",
       "      <th>count</th>\n",
       "      <td>10881.000000</td>\n",
       "      <td>10881.000000</td>\n",
       "      <td>10881.000000</td>\n",
       "      <td>10881.000000</td>\n",
       "      <td>10881.000000</td>\n",
       "      <td>10881.000000</td>\n",
       "      <td>10881.000000</td>\n",
       "      <td>10881.000000</td>\n",
       "      <td>10881.000000</td>\n",
       "      <td>10881.000000</td>\n",
       "      <td>10881.000000</td>\n",
       "      <td>10881.000000</td>\n",
       "      <td>10881.000000</td>\n",
       "      <td>10881.000000</td>\n",
       "      <td>10881.000000</td>\n",
       "      <td>10881.000000</td>\n",
       "      <td>10881.000000</td>\n",
       "      <td>10881.000000</td>\n",
       "      <td>10881.000000</td>\n",
       "      <td>10881.000000</td>\n",
       "      <td>10881.000000</td>\n",
       "      <td>10881.000000</td>\n",
       "      <td>10881.00000</td>\n",
       "      <td>10881.000000</td>\n",
       "      <td>10881.000000</td>\n",
       "      <td>10881.00000</td>\n",
       "      <td>10881.000000</td>\n",
       "      <td>10881.00000</td>\n",
       "      <td>10881.000000</td>\n",
       "      <td>10881.000000</td>\n",
       "      <td>10881.000000</td>\n",
       "      <td>10881.000000</td>\n",
       "      <td>10881.000000</td>\n",
       "      <td>10881.000000</td>\n",
       "      <td>10881.000000</td>\n",
       "      <td>10881.000000</td>\n",
       "      <td>10881.000000</td>\n",
       "      <td>10881.000000</td>\n",
       "      <td>10881.000000</td>\n",
       "      <td>10881.000000</td>\n",
       "      <td>10881.000000</td>\n",
       "      <td>10881.000000</td>\n",
       "      <td>10881.000000</td>\n",
       "      <td>10881.000000</td>\n",
       "      <td>10881.000000</td>\n",
       "      <td>10881.000000</td>\n",
       "      <td>10881.000000</td>\n",
       "      <td>10881.000000</td>\n",
       "      <td>10881.000000</td>\n",
       "      <td>10881.000000</td>\n",
       "      <td>10881.000000</td>\n",
       "      <td>10881.000000</td>\n",
       "      <td>10881.000000</td>\n",
       "      <td>10881.000000</td>\n",
       "      <td>10881.000000</td>\n",
       "      <td>10881.000000</td>\n",
       "      <td>10881.000000</td>\n",
       "      <td>10881.000000</td>\n",
       "      <td>10881.000000</td>\n",
       "      <td>10881.000000</td>\n",
       "      <td>10881.000000</td>\n",
       "      <td>10881.000000</td>\n",
       "      <td>10881.000000</td>\n",
       "      <td>10881.000000</td>\n",
       "      <td>10881.000000</td>\n",
       "      <td>10881.000000</td>\n",
       "      <td>10881.000000</td>\n",
       "    </tr>\n",
       "    <tr>\n",
       "      <th>mean</th>\n",
       "      <td>0.028582</td>\n",
       "      <td>0.681095</td>\n",
       "      <td>2.974899</td>\n",
       "      <td>4.083434</td>\n",
       "      <td>2.622525</td>\n",
       "      <td>191.569433</td>\n",
       "      <td>35.997978</td>\n",
       "      <td>155.571455</td>\n",
       "      <td>0.247128</td>\n",
       "      <td>0.236192</td>\n",
       "      <td>0.361823</td>\n",
       "      <td>0.246669</td>\n",
       "      <td>0.251172</td>\n",
       "      <td>0.250896</td>\n",
       "      <td>0.251264</td>\n",
       "      <td>0.660693</td>\n",
       "      <td>0.260454</td>\n",
       "      <td>0.078761</td>\n",
       "      <td>0.000092</td>\n",
       "      <td>0.081243</td>\n",
       "      <td>0.082621</td>\n",
       "      <td>0.082805</td>\n",
       "      <td>0.08354</td>\n",
       "      <td>0.083816</td>\n",
       "      <td>0.083816</td>\n",
       "      <td>0.08354</td>\n",
       "      <td>0.083816</td>\n",
       "      <td>0.08354</td>\n",
       "      <td>0.083724</td>\n",
       "      <td>0.083724</td>\n",
       "      <td>0.083816</td>\n",
       "      <td>0.497932</td>\n",
       "      <td>0.502068</td>\n",
       "      <td>0.041816</td>\n",
       "      <td>0.041632</td>\n",
       "      <td>0.041173</td>\n",
       "      <td>0.039794</td>\n",
       "      <td>0.040621</td>\n",
       "      <td>0.041540</td>\n",
       "      <td>0.041816</td>\n",
       "      <td>0.041816</td>\n",
       "      <td>0.041816</td>\n",
       "      <td>0.041816</td>\n",
       "      <td>0.041816</td>\n",
       "      <td>0.041816</td>\n",
       "      <td>0.041908</td>\n",
       "      <td>0.041908</td>\n",
       "      <td>0.041908</td>\n",
       "      <td>0.041816</td>\n",
       "      <td>0.041816</td>\n",
       "      <td>0.041816</td>\n",
       "      <td>0.041816</td>\n",
       "      <td>0.041908</td>\n",
       "      <td>0.041908</td>\n",
       "      <td>0.041908</td>\n",
       "      <td>0.041908</td>\n",
       "      <td>0.041908</td>\n",
       "      <td>0.142542</td>\n",
       "      <td>0.141347</td>\n",
       "      <td>0.142542</td>\n",
       "      <td>0.142726</td>\n",
       "      <td>0.140520</td>\n",
       "      <td>0.145391</td>\n",
       "      <td>0.144932</td>\n",
       "      <td>0.290323</td>\n",
       "      <td>0.681095</td>\n",
       "      <td>0.028582</td>\n",
       "    </tr>\n",
       "    <tr>\n",
       "      <th>std</th>\n",
       "      <td>0.166636</td>\n",
       "      <td>0.466073</td>\n",
       "      <td>0.425546</td>\n",
       "      <td>0.381993</td>\n",
       "      <td>0.433482</td>\n",
       "      <td>181.167420</td>\n",
       "      <td>49.943972</td>\n",
       "      <td>151.064148</td>\n",
       "      <td>0.431362</td>\n",
       "      <td>0.424761</td>\n",
       "      <td>0.480550</td>\n",
       "      <td>0.431092</td>\n",
       "      <td>0.433707</td>\n",
       "      <td>0.433549</td>\n",
       "      <td>0.433760</td>\n",
       "      <td>0.473496</td>\n",
       "      <td>0.438903</td>\n",
       "      <td>0.269378</td>\n",
       "      <td>0.009587</td>\n",
       "      <td>0.273220</td>\n",
       "      <td>0.275321</td>\n",
       "      <td>0.275600</td>\n",
       "      <td>0.27671</td>\n",
       "      <td>0.277124</td>\n",
       "      <td>0.277124</td>\n",
       "      <td>0.27671</td>\n",
       "      <td>0.277124</td>\n",
       "      <td>0.27671</td>\n",
       "      <td>0.276986</td>\n",
       "      <td>0.276986</td>\n",
       "      <td>0.277124</td>\n",
       "      <td>0.500019</td>\n",
       "      <td>0.500019</td>\n",
       "      <td>0.200178</td>\n",
       "      <td>0.199756</td>\n",
       "      <td>0.198699</td>\n",
       "      <td>0.195484</td>\n",
       "      <td>0.197420</td>\n",
       "      <td>0.199545</td>\n",
       "      <td>0.200178</td>\n",
       "      <td>0.200178</td>\n",
       "      <td>0.200178</td>\n",
       "      <td>0.200178</td>\n",
       "      <td>0.200178</td>\n",
       "      <td>0.200178</td>\n",
       "      <td>0.200388</td>\n",
       "      <td>0.200388</td>\n",
       "      <td>0.200388</td>\n",
       "      <td>0.200178</td>\n",
       "      <td>0.200178</td>\n",
       "      <td>0.200178</td>\n",
       "      <td>0.200178</td>\n",
       "      <td>0.200388</td>\n",
       "      <td>0.200388</td>\n",
       "      <td>0.200388</td>\n",
       "      <td>0.200388</td>\n",
       "      <td>0.200388</td>\n",
       "      <td>0.349621</td>\n",
       "      <td>0.348395</td>\n",
       "      <td>0.349621</td>\n",
       "      <td>0.349809</td>\n",
       "      <td>0.347542</td>\n",
       "      <td>0.352511</td>\n",
       "      <td>0.352048</td>\n",
       "      <td>0.453932</td>\n",
       "      <td>0.466073</td>\n",
       "      <td>0.166636</td>\n",
       "    </tr>\n",
       "    <tr>\n",
       "      <th>min</th>\n",
       "      <td>0.000000</td>\n",
       "      <td>0.000000</td>\n",
       "      <td>0.598837</td>\n",
       "      <td>0.000000</td>\n",
       "      <td>1.792236</td>\n",
       "      <td>1.000000</td>\n",
       "      <td>0.000000</td>\n",
       "      <td>0.000000</td>\n",
       "      <td>0.000000</td>\n",
       "      <td>0.000000</td>\n",
       "      <td>0.000000</td>\n",
       "      <td>0.000000</td>\n",
       "      <td>0.000000</td>\n",
       "      <td>0.000000</td>\n",
       "      <td>0.000000</td>\n",
       "      <td>0.000000</td>\n",
       "      <td>0.000000</td>\n",
       "      <td>0.000000</td>\n",
       "      <td>0.000000</td>\n",
       "      <td>0.000000</td>\n",
       "      <td>0.000000</td>\n",
       "      <td>0.000000</td>\n",
       "      <td>0.00000</td>\n",
       "      <td>0.000000</td>\n",
       "      <td>0.000000</td>\n",
       "      <td>0.00000</td>\n",
       "      <td>0.000000</td>\n",
       "      <td>0.00000</td>\n",
       "      <td>0.000000</td>\n",
       "      <td>0.000000</td>\n",
       "      <td>0.000000</td>\n",
       "      <td>0.000000</td>\n",
       "      <td>0.000000</td>\n",
       "      <td>0.000000</td>\n",
       "      <td>0.000000</td>\n",
       "      <td>0.000000</td>\n",
       "      <td>0.000000</td>\n",
       "      <td>0.000000</td>\n",
       "      <td>0.000000</td>\n",
       "      <td>0.000000</td>\n",
       "      <td>0.000000</td>\n",
       "      <td>0.000000</td>\n",
       "      <td>0.000000</td>\n",
       "      <td>0.000000</td>\n",
       "      <td>0.000000</td>\n",
       "      <td>0.000000</td>\n",
       "      <td>0.000000</td>\n",
       "      <td>0.000000</td>\n",
       "      <td>0.000000</td>\n",
       "      <td>0.000000</td>\n",
       "      <td>0.000000</td>\n",
       "      <td>0.000000</td>\n",
       "      <td>0.000000</td>\n",
       "      <td>0.000000</td>\n",
       "      <td>0.000000</td>\n",
       "      <td>0.000000</td>\n",
       "      <td>0.000000</td>\n",
       "      <td>0.000000</td>\n",
       "      <td>0.000000</td>\n",
       "      <td>0.000000</td>\n",
       "      <td>0.000000</td>\n",
       "      <td>0.000000</td>\n",
       "      <td>0.000000</td>\n",
       "      <td>0.000000</td>\n",
       "      <td>0.000000</td>\n",
       "      <td>0.000000</td>\n",
       "      <td>0.000000</td>\n",
       "    </tr>\n",
       "    <tr>\n",
       "      <th>25%</th>\n",
       "      <td>0.000000</td>\n",
       "      <td>0.000000</td>\n",
       "      <td>2.704042</td>\n",
       "      <td>3.871201</td>\n",
       "      <td>2.302395</td>\n",
       "      <td>42.000000</td>\n",
       "      <td>4.000000</td>\n",
       "      <td>36.000000</td>\n",
       "      <td>0.000000</td>\n",
       "      <td>0.000000</td>\n",
       "      <td>0.000000</td>\n",
       "      <td>0.000000</td>\n",
       "      <td>0.000000</td>\n",
       "      <td>0.000000</td>\n",
       "      <td>0.000000</td>\n",
       "      <td>0.000000</td>\n",
       "      <td>0.000000</td>\n",
       "      <td>0.000000</td>\n",
       "      <td>0.000000</td>\n",
       "      <td>0.000000</td>\n",
       "      <td>0.000000</td>\n",
       "      <td>0.000000</td>\n",
       "      <td>0.00000</td>\n",
       "      <td>0.000000</td>\n",
       "      <td>0.000000</td>\n",
       "      <td>0.00000</td>\n",
       "      <td>0.000000</td>\n",
       "      <td>0.00000</td>\n",
       "      <td>0.000000</td>\n",
       "      <td>0.000000</td>\n",
       "      <td>0.000000</td>\n",
       "      <td>0.000000</td>\n",
       "      <td>0.000000</td>\n",
       "      <td>0.000000</td>\n",
       "      <td>0.000000</td>\n",
       "      <td>0.000000</td>\n",
       "      <td>0.000000</td>\n",
       "      <td>0.000000</td>\n",
       "      <td>0.000000</td>\n",
       "      <td>0.000000</td>\n",
       "      <td>0.000000</td>\n",
       "      <td>0.000000</td>\n",
       "      <td>0.000000</td>\n",
       "      <td>0.000000</td>\n",
       "      <td>0.000000</td>\n",
       "      <td>0.000000</td>\n",
       "      <td>0.000000</td>\n",
       "      <td>0.000000</td>\n",
       "      <td>0.000000</td>\n",
       "      <td>0.000000</td>\n",
       "      <td>0.000000</td>\n",
       "      <td>0.000000</td>\n",
       "      <td>0.000000</td>\n",
       "      <td>0.000000</td>\n",
       "      <td>0.000000</td>\n",
       "      <td>0.000000</td>\n",
       "      <td>0.000000</td>\n",
       "      <td>0.000000</td>\n",
       "      <td>0.000000</td>\n",
       "      <td>0.000000</td>\n",
       "      <td>0.000000</td>\n",
       "      <td>0.000000</td>\n",
       "      <td>0.000000</td>\n",
       "      <td>0.000000</td>\n",
       "      <td>0.000000</td>\n",
       "      <td>0.000000</td>\n",
       "      <td>0.000000</td>\n",
       "    </tr>\n",
       "    <tr>\n",
       "      <th>50%</th>\n",
       "      <td>0.000000</td>\n",
       "      <td>1.000000</td>\n",
       "      <td>3.068053</td>\n",
       "      <td>4.143135</td>\n",
       "      <td>2.638914</td>\n",
       "      <td>145.000000</td>\n",
       "      <td>17.000000</td>\n",
       "      <td>118.000000</td>\n",
       "      <td>0.000000</td>\n",
       "      <td>0.000000</td>\n",
       "      <td>0.000000</td>\n",
       "      <td>0.000000</td>\n",
       "      <td>0.000000</td>\n",
       "      <td>0.000000</td>\n",
       "      <td>0.000000</td>\n",
       "      <td>1.000000</td>\n",
       "      <td>0.000000</td>\n",
       "      <td>0.000000</td>\n",
       "      <td>0.000000</td>\n",
       "      <td>0.000000</td>\n",
       "      <td>0.000000</td>\n",
       "      <td>0.000000</td>\n",
       "      <td>0.00000</td>\n",
       "      <td>0.000000</td>\n",
       "      <td>0.000000</td>\n",
       "      <td>0.00000</td>\n",
       "      <td>0.000000</td>\n",
       "      <td>0.00000</td>\n",
       "      <td>0.000000</td>\n",
       "      <td>0.000000</td>\n",
       "      <td>0.000000</td>\n",
       "      <td>0.000000</td>\n",
       "      <td>1.000000</td>\n",
       "      <td>0.000000</td>\n",
       "      <td>0.000000</td>\n",
       "      <td>0.000000</td>\n",
       "      <td>0.000000</td>\n",
       "      <td>0.000000</td>\n",
       "      <td>0.000000</td>\n",
       "      <td>0.000000</td>\n",
       "      <td>0.000000</td>\n",
       "      <td>0.000000</td>\n",
       "      <td>0.000000</td>\n",
       "      <td>0.000000</td>\n",
       "      <td>0.000000</td>\n",
       "      <td>0.000000</td>\n",
       "      <td>0.000000</td>\n",
       "      <td>0.000000</td>\n",
       "      <td>0.000000</td>\n",
       "      <td>0.000000</td>\n",
       "      <td>0.000000</td>\n",
       "      <td>0.000000</td>\n",
       "      <td>0.000000</td>\n",
       "      <td>0.000000</td>\n",
       "      <td>0.000000</td>\n",
       "      <td>0.000000</td>\n",
       "      <td>0.000000</td>\n",
       "      <td>0.000000</td>\n",
       "      <td>0.000000</td>\n",
       "      <td>0.000000</td>\n",
       "      <td>0.000000</td>\n",
       "      <td>0.000000</td>\n",
       "      <td>0.000000</td>\n",
       "      <td>0.000000</td>\n",
       "      <td>0.000000</td>\n",
       "      <td>1.000000</td>\n",
       "      <td>0.000000</td>\n",
       "    </tr>\n",
       "    <tr>\n",
       "      <th>75%</th>\n",
       "      <td>0.000000</td>\n",
       "      <td>1.000000</td>\n",
       "      <td>3.304686</td>\n",
       "      <td>4.356709</td>\n",
       "      <td>2.910155</td>\n",
       "      <td>284.000000</td>\n",
       "      <td>49.000000</td>\n",
       "      <td>222.000000</td>\n",
       "      <td>0.000000</td>\n",
       "      <td>0.000000</td>\n",
       "      <td>1.000000</td>\n",
       "      <td>0.000000</td>\n",
       "      <td>1.000000</td>\n",
       "      <td>1.000000</td>\n",
       "      <td>1.000000</td>\n",
       "      <td>1.000000</td>\n",
       "      <td>1.000000</td>\n",
       "      <td>0.000000</td>\n",
       "      <td>0.000000</td>\n",
       "      <td>0.000000</td>\n",
       "      <td>0.000000</td>\n",
       "      <td>0.000000</td>\n",
       "      <td>0.00000</td>\n",
       "      <td>0.000000</td>\n",
       "      <td>0.000000</td>\n",
       "      <td>0.00000</td>\n",
       "      <td>0.000000</td>\n",
       "      <td>0.00000</td>\n",
       "      <td>0.000000</td>\n",
       "      <td>0.000000</td>\n",
       "      <td>0.000000</td>\n",
       "      <td>1.000000</td>\n",
       "      <td>1.000000</td>\n",
       "      <td>0.000000</td>\n",
       "      <td>0.000000</td>\n",
       "      <td>0.000000</td>\n",
       "      <td>0.000000</td>\n",
       "      <td>0.000000</td>\n",
       "      <td>0.000000</td>\n",
       "      <td>0.000000</td>\n",
       "      <td>0.000000</td>\n",
       "      <td>0.000000</td>\n",
       "      <td>0.000000</td>\n",
       "      <td>0.000000</td>\n",
       "      <td>0.000000</td>\n",
       "      <td>0.000000</td>\n",
       "      <td>0.000000</td>\n",
       "      <td>0.000000</td>\n",
       "      <td>0.000000</td>\n",
       "      <td>0.000000</td>\n",
       "      <td>0.000000</td>\n",
       "      <td>0.000000</td>\n",
       "      <td>0.000000</td>\n",
       "      <td>0.000000</td>\n",
       "      <td>0.000000</td>\n",
       "      <td>0.000000</td>\n",
       "      <td>0.000000</td>\n",
       "      <td>0.000000</td>\n",
       "      <td>0.000000</td>\n",
       "      <td>0.000000</td>\n",
       "      <td>0.000000</td>\n",
       "      <td>0.000000</td>\n",
       "      <td>0.000000</td>\n",
       "      <td>0.000000</td>\n",
       "      <td>1.000000</td>\n",
       "      <td>1.000000</td>\n",
       "      <td>0.000000</td>\n",
       "    </tr>\n",
       "    <tr>\n",
       "      <th>max</th>\n",
       "      <td>1.000000</td>\n",
       "      <td>1.000000</td>\n",
       "      <td>3.697839</td>\n",
       "      <td>4.615121</td>\n",
       "      <td>3.891796</td>\n",
       "      <td>977.000000</td>\n",
       "      <td>367.000000</td>\n",
       "      <td>886.000000</td>\n",
       "      <td>1.000000</td>\n",
       "      <td>1.000000</td>\n",
       "      <td>1.000000</td>\n",
       "      <td>1.000000</td>\n",
       "      <td>1.000000</td>\n",
       "      <td>1.000000</td>\n",
       "      <td>1.000000</td>\n",
       "      <td>1.000000</td>\n",
       "      <td>1.000000</td>\n",
       "      <td>1.000000</td>\n",
       "      <td>1.000000</td>\n",
       "      <td>1.000000</td>\n",
       "      <td>1.000000</td>\n",
       "      <td>1.000000</td>\n",
       "      <td>1.00000</td>\n",
       "      <td>1.000000</td>\n",
       "      <td>1.000000</td>\n",
       "      <td>1.00000</td>\n",
       "      <td>1.000000</td>\n",
       "      <td>1.00000</td>\n",
       "      <td>1.000000</td>\n",
       "      <td>1.000000</td>\n",
       "      <td>1.000000</td>\n",
       "      <td>1.000000</td>\n",
       "      <td>1.000000</td>\n",
       "      <td>1.000000</td>\n",
       "      <td>1.000000</td>\n",
       "      <td>1.000000</td>\n",
       "      <td>1.000000</td>\n",
       "      <td>1.000000</td>\n",
       "      <td>1.000000</td>\n",
       "      <td>1.000000</td>\n",
       "      <td>1.000000</td>\n",
       "      <td>1.000000</td>\n",
       "      <td>1.000000</td>\n",
       "      <td>1.000000</td>\n",
       "      <td>1.000000</td>\n",
       "      <td>1.000000</td>\n",
       "      <td>1.000000</td>\n",
       "      <td>1.000000</td>\n",
       "      <td>1.000000</td>\n",
       "      <td>1.000000</td>\n",
       "      <td>1.000000</td>\n",
       "      <td>1.000000</td>\n",
       "      <td>1.000000</td>\n",
       "      <td>1.000000</td>\n",
       "      <td>1.000000</td>\n",
       "      <td>1.000000</td>\n",
       "      <td>1.000000</td>\n",
       "      <td>1.000000</td>\n",
       "      <td>1.000000</td>\n",
       "      <td>1.000000</td>\n",
       "      <td>1.000000</td>\n",
       "      <td>1.000000</td>\n",
       "      <td>1.000000</td>\n",
       "      <td>1.000000</td>\n",
       "      <td>1.000000</td>\n",
       "      <td>1.000000</td>\n",
       "      <td>1.000000</td>\n",
       "    </tr>\n",
       "  </tbody>\n",
       "</table>\n",
       "</div>"
      ],
      "text/plain": [
       "            holiday    workingday          temp      humidity     windspeed  \\\n",
       "count  10881.000000  10881.000000  10881.000000  10881.000000  10881.000000   \n",
       "mean       0.028582      0.681095      2.974899      4.083434      2.622525   \n",
       "std        0.166636      0.466073      0.425546      0.381993      0.433482   \n",
       "min        0.000000      0.000000      0.598837      0.000000      1.792236   \n",
       "25%        0.000000      0.000000      2.704042      3.871201      2.302395   \n",
       "50%        0.000000      1.000000      3.068053      4.143135      2.638914   \n",
       "75%        0.000000      1.000000      3.304686      4.356709      2.910155   \n",
       "max        1.000000      1.000000      3.697839      4.615121      3.891796   \n",
       "\n",
       "           regcount        casual    registered          peak         ideal  \\\n",
       "count  10881.000000  10881.000000  10881.000000  10881.000000  10881.000000   \n",
       "mean     191.569433     35.997978    155.571455      0.247128      0.236192   \n",
       "std      181.167420     49.943972    151.064148      0.431362      0.424761   \n",
       "min        1.000000      0.000000      0.000000      0.000000      0.000000   \n",
       "25%       42.000000      4.000000     36.000000      0.000000      0.000000   \n",
       "50%      145.000000     17.000000    118.000000      0.000000      0.000000   \n",
       "75%      284.000000     49.000000    222.000000      0.000000      0.000000   \n",
       "max      977.000000    367.000000    886.000000      1.000000      1.000000   \n",
       "\n",
       "             sticky      season_1      season_2      season_3      season_4  \\\n",
       "count  10881.000000  10881.000000  10881.000000  10881.000000  10881.000000   \n",
       "mean       0.361823      0.246669      0.251172      0.250896      0.251264   \n",
       "std        0.480550      0.431092      0.433707      0.433549      0.433760   \n",
       "min        0.000000      0.000000      0.000000      0.000000      0.000000   \n",
       "25%        0.000000      0.000000      0.000000      0.000000      0.000000   \n",
       "50%        0.000000      0.000000      0.000000      0.000000      0.000000   \n",
       "75%        1.000000      0.000000      1.000000      1.000000      1.000000   \n",
       "max        1.000000      1.000000      1.000000      1.000000      1.000000   \n",
       "\n",
       "          weather_1     weather_2     weather_3     weather_4           m_1  \\\n",
       "count  10881.000000  10881.000000  10881.000000  10881.000000  10881.000000   \n",
       "mean       0.660693      0.260454      0.078761      0.000092      0.081243   \n",
       "std        0.473496      0.438903      0.269378      0.009587      0.273220   \n",
       "min        0.000000      0.000000      0.000000      0.000000      0.000000   \n",
       "25%        0.000000      0.000000      0.000000      0.000000      0.000000   \n",
       "50%        1.000000      0.000000      0.000000      0.000000      0.000000   \n",
       "75%        1.000000      1.000000      0.000000      0.000000      0.000000   \n",
       "max        1.000000      1.000000      1.000000      1.000000      1.000000   \n",
       "\n",
       "                m_2           m_3          m_4           m_5           m_6  \\\n",
       "count  10881.000000  10881.000000  10881.00000  10881.000000  10881.000000   \n",
       "mean       0.082621      0.082805      0.08354      0.083816      0.083816   \n",
       "std        0.275321      0.275600      0.27671      0.277124      0.277124   \n",
       "min        0.000000      0.000000      0.00000      0.000000      0.000000   \n",
       "25%        0.000000      0.000000      0.00000      0.000000      0.000000   \n",
       "50%        0.000000      0.000000      0.00000      0.000000      0.000000   \n",
       "75%        0.000000      0.000000      0.00000      0.000000      0.000000   \n",
       "max        1.000000      1.000000      1.00000      1.000000      1.000000   \n",
       "\n",
       "               m_7           m_8          m_9          m_10          m_11  \\\n",
       "count  10881.00000  10881.000000  10881.00000  10881.000000  10881.000000   \n",
       "mean       0.08354      0.083816      0.08354      0.083724      0.083724   \n",
       "std        0.27671      0.277124      0.27671      0.276986      0.276986   \n",
       "min        0.00000      0.000000      0.00000      0.000000      0.000000   \n",
       "25%        0.00000      0.000000      0.00000      0.000000      0.000000   \n",
       "50%        0.00000      0.000000      0.00000      0.000000      0.000000   \n",
       "75%        0.00000      0.000000      0.00000      0.000000      0.000000   \n",
       "max        1.00000      1.000000      1.00000      1.000000      1.000000   \n",
       "\n",
       "               m_12        y_2011        y_2012           h_0           h_1  \\\n",
       "count  10881.000000  10881.000000  10881.000000  10881.000000  10881.000000   \n",
       "mean       0.083816      0.497932      0.502068      0.041816      0.041632   \n",
       "std        0.277124      0.500019      0.500019      0.200178      0.199756   \n",
       "min        0.000000      0.000000      0.000000      0.000000      0.000000   \n",
       "25%        0.000000      0.000000      0.000000      0.000000      0.000000   \n",
       "50%        0.000000      0.000000      1.000000      0.000000      0.000000   \n",
       "75%        0.000000      1.000000      1.000000      0.000000      0.000000   \n",
       "max        1.000000      1.000000      1.000000      1.000000      1.000000   \n",
       "\n",
       "                h_2           h_3           h_4           h_5           h_6  \\\n",
       "count  10881.000000  10881.000000  10881.000000  10881.000000  10881.000000   \n",
       "mean       0.041173      0.039794      0.040621      0.041540      0.041816   \n",
       "std        0.198699      0.195484      0.197420      0.199545      0.200178   \n",
       "min        0.000000      0.000000      0.000000      0.000000      0.000000   \n",
       "25%        0.000000      0.000000      0.000000      0.000000      0.000000   \n",
       "50%        0.000000      0.000000      0.000000      0.000000      0.000000   \n",
       "75%        0.000000      0.000000      0.000000      0.000000      0.000000   \n",
       "max        1.000000      1.000000      1.000000      1.000000      1.000000   \n",
       "\n",
       "                h_7           h_8           h_9          h_10          h_11  \\\n",
       "count  10881.000000  10881.000000  10881.000000  10881.000000  10881.000000   \n",
       "mean       0.041816      0.041816      0.041816      0.041816      0.041816   \n",
       "std        0.200178      0.200178      0.200178      0.200178      0.200178   \n",
       "min        0.000000      0.000000      0.000000      0.000000      0.000000   \n",
       "25%        0.000000      0.000000      0.000000      0.000000      0.000000   \n",
       "50%        0.000000      0.000000      0.000000      0.000000      0.000000   \n",
       "75%        0.000000      0.000000      0.000000      0.000000      0.000000   \n",
       "max        1.000000      1.000000      1.000000      1.000000      1.000000   \n",
       "\n",
       "               h_12          h_13          h_14          h_15          h_16  \\\n",
       "count  10881.000000  10881.000000  10881.000000  10881.000000  10881.000000   \n",
       "mean       0.041908      0.041908      0.041908      0.041816      0.041816   \n",
       "std        0.200388      0.200388      0.200388      0.200178      0.200178   \n",
       "min        0.000000      0.000000      0.000000      0.000000      0.000000   \n",
       "25%        0.000000      0.000000      0.000000      0.000000      0.000000   \n",
       "50%        0.000000      0.000000      0.000000      0.000000      0.000000   \n",
       "75%        0.000000      0.000000      0.000000      0.000000      0.000000   \n",
       "max        1.000000      1.000000      1.000000      1.000000      1.000000   \n",
       "\n",
       "               h_17          h_18          h_19          h_20          h_21  \\\n",
       "count  10881.000000  10881.000000  10881.000000  10881.000000  10881.000000   \n",
       "mean       0.041816      0.041816      0.041908      0.041908      0.041908   \n",
       "std        0.200178      0.200178      0.200388      0.200388      0.200388   \n",
       "min        0.000000      0.000000      0.000000      0.000000      0.000000   \n",
       "25%        0.000000      0.000000      0.000000      0.000000      0.000000   \n",
       "50%        0.000000      0.000000      0.000000      0.000000      0.000000   \n",
       "75%        0.000000      0.000000      0.000000      0.000000      0.000000   \n",
       "max        1.000000      1.000000      1.000000      1.000000      1.000000   \n",
       "\n",
       "               h_22          h_23           w_0           w_1           w_2  \\\n",
       "count  10881.000000  10881.000000  10881.000000  10881.000000  10881.000000   \n",
       "mean       0.041908      0.041908      0.142542      0.141347      0.142542   \n",
       "std        0.200388      0.200388      0.349621      0.348395      0.349621   \n",
       "min        0.000000      0.000000      0.000000      0.000000      0.000000   \n",
       "25%        0.000000      0.000000      0.000000      0.000000      0.000000   \n",
       "50%        0.000000      0.000000      0.000000      0.000000      0.000000   \n",
       "75%        0.000000      0.000000      0.000000      0.000000      0.000000   \n",
       "max        1.000000      1.000000      1.000000      1.000000      1.000000   \n",
       "\n",
       "                w_3           w_4           w_5           w_6    day_type_0  \\\n",
       "count  10881.000000  10881.000000  10881.000000  10881.000000  10881.000000   \n",
       "mean       0.142726      0.140520      0.145391      0.144932      0.290323   \n",
       "std        0.349809      0.347542      0.352511      0.352048      0.453932   \n",
       "min        0.000000      0.000000      0.000000      0.000000      0.000000   \n",
       "25%        0.000000      0.000000      0.000000      0.000000      0.000000   \n",
       "50%        0.000000      0.000000      0.000000      0.000000      0.000000   \n",
       "75%        0.000000      0.000000      0.000000      0.000000      1.000000   \n",
       "max        1.000000      1.000000      1.000000      1.000000      1.000000   \n",
       "\n",
       "         day_type_1    day_type_2  \n",
       "count  10881.000000  10881.000000  \n",
       "mean       0.681095      0.028582  \n",
       "std        0.466073      0.166636  \n",
       "min        0.000000      0.000000  \n",
       "25%        0.000000      0.000000  \n",
       "50%        1.000000      0.000000  \n",
       "75%        1.000000      0.000000  \n",
       "max        1.000000      1.000000  "
      ]
     },
     "execution_count": 26,
     "metadata": {},
     "output_type": "execute_result"
    }
   ],
   "source": [
    "train.describe()"
   ]
  },
  {
   "cell_type": "code",
   "execution_count": 27,
   "id": "48430c25-c8dc-4b7a-bc37-8661d6d3f088",
   "metadata": {},
   "outputs": [
    {
     "data": {
      "text/plain": [
       "((10881, 67),\n",
       " Index(['holiday', 'workingday', 'temp', 'humidity', 'windspeed', 'regcount',\n",
       "        'casual', 'registered', 'peak', 'ideal', 'sticky', 'season_1',\n",
       "        'season_2', 'season_3', 'season_4', 'weather_1', 'weather_2',\n",
       "        'weather_3', 'weather_4', 'm_1', 'm_2', 'm_3', 'm_4', 'm_5', 'm_6',\n",
       "        'm_7', 'm_8', 'm_9', 'm_10', 'm_11', 'm_12', 'y_2011', 'y_2012', 'h_0',\n",
       "        'h_1', 'h_2', 'h_3', 'h_4', 'h_5', 'h_6', 'h_7', 'h_8', 'h_9', 'h_10',\n",
       "        'h_11', 'h_12', 'h_13', 'h_14', 'h_15', 'h_16', 'h_17', 'h_18', 'h_19',\n",
       "        'h_20', 'h_21', 'h_22', 'h_23', 'w_0', 'w_1', 'w_2', 'w_3', 'w_4',\n",
       "        'w_5', 'w_6', 'day_type_0', 'day_type_1', 'day_type_2'],\n",
       "       dtype='object'))"
      ]
     },
     "execution_count": 27,
     "metadata": {},
     "output_type": "execute_result"
    }
   ],
   "source": [
    "train.shape, train.columns"
   ]
  },
  {
   "cell_type": "code",
   "execution_count": 28,
   "id": "24071880-c68d-4561-8e32-8e531157f94a",
   "metadata": {},
   "outputs": [
    {
     "data": {
      "text/plain": [
       "((6493, 64),\n",
       " Index(['holiday', 'workingday', 'temp', 'humidity', 'windspeed', 'peak',\n",
       "        'ideal', 'sticky', 'season_1', 'season_2', 'season_3', 'season_4',\n",
       "        'weather_1', 'weather_2', 'weather_3', 'weather_4', 'm_1', 'm_2', 'm_3',\n",
       "        'm_4', 'm_5', 'm_6', 'm_7', 'm_8', 'm_9', 'm_10', 'm_11', 'm_12',\n",
       "        'y_2011', 'y_2012', 'h_0', 'h_1', 'h_2', 'h_3', 'h_4', 'h_5', 'h_6',\n",
       "        'h_7', 'h_8', 'h_9', 'h_10', 'h_11', 'h_12', 'h_13', 'h_14', 'h_15',\n",
       "        'h_16', 'h_17', 'h_18', 'h_19', 'h_20', 'h_21', 'h_22', 'h_23', 'w_0',\n",
       "        'w_1', 'w_2', 'w_3', 'w_4', 'w_5', 'w_6', 'day_type_0', 'day_type_1',\n",
       "        'day_type_2'],\n",
       "       dtype='object'))"
      ]
     },
     "execution_count": 28,
     "metadata": {},
     "output_type": "execute_result"
    }
   ],
   "source": [
    "test.shape, test.columns"
   ]
  },
  {
   "cell_type": "code",
   "execution_count": 29,
   "id": "223425d6-9143-471c-910b-c6a675fb4eac",
   "metadata": {
    "tags": []
   },
   "outputs": [
    {
     "data": {
      "text/plain": [
       "((10881, 64), (10881,), (10881,))"
      ]
     },
     "execution_count": 29,
     "metadata": {},
     "output_type": "execute_result"
    }
   ],
   "source": [
    "y_train_c = train['casual']\n",
    "y_train_r = train['registered']\n",
    "X_train = train.drop(['regcount', 'casual', 'registered'], axis=1)\n",
    "X_train.shape, y_train_c.shape, y_train_r.shape"
   ]
  },
  {
   "cell_type": "markdown",
   "id": "99a6e5a5-f502-4093-915f-4322ef623169",
   "metadata": {},
   "source": [
    "## 평가함수"
   ]
  },
  {
   "cell_type": "code",
   "execution_count": 30,
   "id": "e85ef4b7-ed76-4e5a-ad6e-21045383a66d",
   "metadata": {},
   "outputs": [],
   "source": [
    "from sklearn.metrics import make_scorer\n",
    "def my_rmsle_func(y_true, y_pred):    \n",
    "    msle_score = mean_squared_log_error(y_true, y_pred)\n",
    "    # print(\"RMSLE: \", np.sqrt(msle_score)) \n",
    "    return np.sqrt(msle_score)\n",
    "\n",
    "myfunc = make_scorer(my_rmsle_func, greater_is_better=False)  #낮은값 선택"
   ]
  },
  {
   "cell_type": "markdown",
   "id": "fbaa1db5-de0f-4803-a7e3-2064e0a31d56",
   "metadata": {},
   "source": [
    "## RandomForestRegressor"
   ]
  },
  {
   "cell_type": "markdown",
   "id": "2cec66a2-dba0-4baf-956f-d3814dc4a350",
   "metadata": {
    "tags": []
   },
   "source": [
    "### casual 예측"
   ]
  },
  {
   "cell_type": "code",
   "execution_count": 31,
   "id": "ac9e0405-4a1d-491d-a472-8b32660c1f99",
   "metadata": {
    "tags": []
   },
   "outputs": [
    {
     "name": "stdout",
     "output_type": "stream",
     "text": [
      "{'min_samples_leaf': 2, 'min_samples_split': 1}\n",
      "-0.22401534459845102\n",
      "[1.19313688 0.77430622 1.26263065 0.34603675 0.01663553]\n"
     ]
    }
   ],
   "source": [
    "kf = KFold(n_splits=5, shuffle=True, random_state=11)\n",
    "model = RandomForestRegressor(random_state=0)  \n",
    "mydic = {\"min_samples_split\":[1,2], \"min_samples_leaf\":[1,2]}\n",
    "models_rf = GridSearchCV(model, scoring=myfunc, cv=kf, param_grid = mydic)\n",
    "models_rf.fit(X_train, np.log1p(y_train_c))\n",
    "print(models_rf.best_params_)\n",
    "print(models_rf.best_score_)  \n",
    "\n",
    "# 예측\n",
    "best_model = models_rf.best_estimator_\n",
    "pred_c_rf = best_model.predict(test)\n",
    "print(pred_c_rf[:5])"
   ]
  },
  {
   "cell_type": "markdown",
   "id": "153e7923-8426-46ee-996d-26bc48b24560",
   "metadata": {
    "tags": []
   },
   "source": [
    "### registered 예측"
   ]
  },
  {
   "cell_type": "code",
   "execution_count": 32,
   "id": "c57185ad-4b9a-41ce-a8ce-5526daa5f71c",
   "metadata": {
    "tags": []
   },
   "outputs": [
    {
     "name": "stdout",
     "output_type": "stream",
     "text": [
      "{'min_samples_leaf': 2, 'min_samples_split': 1}\n",
      "-0.08929503634825514\n",
      "[2.22565176 1.57161678 1.06350859 1.0760182  1.03738179]\n"
     ]
    }
   ],
   "source": [
    "kf = KFold(n_splits=5, shuffle=True, random_state=11)\n",
    "model = RandomForestRegressor(random_state=0)  \n",
    "mydic = {\"min_samples_split\":[1,2], \"min_samples_leaf\":[1,2]}\n",
    "models_rf = GridSearchCV(model, scoring=myfunc, cv=kf, param_grid = mydic)\n",
    "models_rf.fit(X_train, np.log1p(y_train_r))\n",
    "print(models_rf.best_params_)\n",
    "print(models_rf.best_score_)  \n",
    "\n",
    "# 예측\n",
    "best_model = models_rf.best_estimator_\n",
    "pred_r_rf = best_model.predict(test)\n",
    "print(pred_r_rf[:5])"
   ]
  },
  {
   "cell_type": "markdown",
   "id": "6048918b-8595-48cd-8593-f3ba8f2ba42e",
   "metadata": {
    "tags": []
   },
   "source": [
    "## XGBRegressor\n",
    "* ref : https://xgboost.readthedocs.io/en/stable/python/python_api.html#module-xgboost.sklearn"
   ]
  },
  {
   "cell_type": "markdown",
   "id": "141b5463-3c0e-472d-b556-ec80e466488b",
   "metadata": {
    "tags": []
   },
   "source": [
    "### casual 예측"
   ]
  },
  {
   "cell_type": "code",
   "execution_count": 33,
   "id": "f6a921c8-3dd1-440c-8dfe-1cacd084a198",
   "metadata": {
    "tags": []
   },
   "outputs": [
    {
     "name": "stdout",
     "output_type": "stream",
     "text": [
      "{'learning_rate': 0.01, 'n_estimators': 300}\n",
      "-0.25121734463173573\n",
      "[1.1682856  0.94843847 0.9108432  0.8280098  0.42309403]\n"
     ]
    }
   ],
   "source": [
    "kf = KFold(n_splits=5, shuffle=True, random_state=11)\n",
    "model = XGBRegressor(random_state=0)  \n",
    "mydic = {\"learning_rate\":[0.001, 0.01, 0.1, 0.3], \"n_estimators\":[100,200,300]}\n",
    "models_xgb = GridSearchCV(model, scoring=myfunc, cv=kf, param_grid = mydic)\n",
    "models_xgb.fit(X_train, np.log1p(y_train_c))\n",
    "print(models_xgb.best_params_)\n",
    "print(models_xgb.best_score_)      \n",
    "\n",
    "# 예측\n",
    "best_model = models_xgb.best_estimator_\n",
    "pred_c_xgb = best_model.predict(test)\n",
    "print(pred_c_xgb[:5])"
   ]
  },
  {
   "cell_type": "markdown",
   "id": "bf399a74-d6b2-4e8a-8fb1-ddfdee7bef7c",
   "metadata": {
    "tags": []
   },
   "source": [
    "### registered 예측"
   ]
  },
  {
   "cell_type": "code",
   "execution_count": 34,
   "id": "4fc771e8-79b7-4ac1-bf06-ed1778c12a05",
   "metadata": {
    "tags": []
   },
   "outputs": [
    {
     "name": "stdout",
     "output_type": "stream",
     "text": [
      "{'learning_rate': 0.1, 'n_estimators': 100}\n",
      "-0.08986214542712087\n",
      "[2.3134341 1.7191383 1.3235322 1.1706604 1.1053602]\n"
     ]
    }
   ],
   "source": [
    "kf = KFold(n_splits=5, shuffle=True, random_state=11)\n",
    "model = XGBRegressor(random_state=0)  \n",
    "mydic = {\"learning_rate\":[0.001, 0.01, 0.1, 0.3], \"n_estimators\":[100,200,300]}\n",
    "models_xgb = GridSearchCV(model, scoring=myfunc, cv=kf, param_grid = mydic)\n",
    "models_xgb.fit(X_train, np.log1p(y_train_r))\n",
    "print(models_xgb.best_params_)\n",
    "print(models_xgb.best_score_)   \n",
    "\n",
    "# 예측\n",
    "best_model = models_xgb.best_estimator_\n",
    "pred_r_xgb = best_model.predict(test)\n",
    "print(pred_r_xgb[:5])"
   ]
  },
  {
   "cell_type": "markdown",
   "id": "2e0ea819-a5df-4568-831b-0537fbdc56f3",
   "metadata": {},
   "source": [
    "## LGBMRegressor"
   ]
  },
  {
   "cell_type": "markdown",
   "id": "8ab8a9e3-a21f-4482-9fa7-9ecb41739836",
   "metadata": {
    "tags": []
   },
   "source": [
    "### casual 예측"
   ]
  },
  {
   "cell_type": "code",
   "execution_count": 35,
   "id": "774c8172-24a0-4c74-8a2f-99efbcd85689",
   "metadata": {
    "tags": []
   },
   "outputs": [
    {
     "name": "stdout",
     "output_type": "stream",
     "text": [
      "{'learning_rate': 0.01, 'n_estimators': 300}\n",
      "-0.2475746627336967\n",
      "[1.27555367 1.02692384 1.00116455 0.83196462 0.58917053]\n"
     ]
    }
   ],
   "source": [
    "kf = KFold(n_splits=5, shuffle=True, random_state=11)\n",
    "model = LGBMRegressor(random_state=0)  \n",
    "mydic = {\"learning_rate\":[0.001, 0.01, 0.1, 0.3], \"n_estimators\":[100,200,300]}\n",
    "models_lgbm = GridSearchCV(model, scoring=myfunc, cv=kf, param_grid = mydic)\n",
    "models_lgbm.fit(X_train, np.log1p(y_train_c))\n",
    "print(models_lgbm.best_params_)\n",
    "print(models_lgbm.best_score_)     \n",
    "\n",
    "# 예측\n",
    "best_model = models_lgbm.best_estimator_\n",
    "pred_c_lgbm = best_model.predict(test)\n",
    "print(pred_c_lgbm[:5])"
   ]
  },
  {
   "cell_type": "markdown",
   "id": "35e818be-68ba-4016-8583-20c553ea56a8",
   "metadata": {
    "tags": []
   },
   "source": [
    "### registered 예측"
   ]
  },
  {
   "cell_type": "code",
   "execution_count": 36,
   "id": "78ab8b83-13cc-4a0e-8d24-ea7c9c0131b7",
   "metadata": {
    "tags": []
   },
   "outputs": [
    {
     "name": "stdout",
     "output_type": "stream",
     "text": [
      "{'learning_rate': 0.1, 'n_estimators': 200}\n",
      "-0.08434895829208816\n",
      "[2.39351698 1.68918991 1.19063743 1.11605551 1.02791861]\n"
     ]
    }
   ],
   "source": [
    "kf = KFold(n_splits=5, shuffle=True, random_state=11)\n",
    "model = LGBMRegressor(random_state=0)  \n",
    "mydic = {\"learning_rate\":[0.001, 0.01, 0.1, 0.3], \"n_estimators\":[100,200,300]}\n",
    "models_lgbm = GridSearchCV(model, scoring=myfunc, cv=kf, param_grid = mydic)\n",
    "models_lgbm.fit(X_train, np.log1p(y_train_r))\n",
    "print(models_lgbm.best_params_)\n",
    "print(models_lgbm.best_score_)  \n",
    "\n",
    "# 예측\n",
    "best_model = models_lgbm.best_estimator_\n",
    "pred_r_lgbm = best_model.predict(test)\n",
    "print(pred_r_lgbm[:5])"
   ]
  },
  {
   "cell_type": "markdown",
   "id": "dfb0bcd8-777d-4611-9ef5-ada1be709bca",
   "metadata": {},
   "source": [
    "# 답안제출"
   ]
  },
  {
   "cell_type": "markdown",
   "id": "d8e21aa3-00c3-46ea-85d1-cad6ea517a9e",
   "metadata": {
    "tags": []
   },
   "source": [
    "## submit 파일 로드"
   ]
  },
  {
   "cell_type": "code",
   "execution_count": 37,
   "id": "12281c32-5c91-4b7d-aedf-e8fb08a3d119",
   "metadata": {
    "tags": []
   },
   "outputs": [
    {
     "name": "stdout",
     "output_type": "stream",
     "text": [
      "(6493, 2)\n"
     ]
    },
    {
     "data": {
      "text/html": [
       "<div>\n",
       "<style scoped>\n",
       "    .dataframe tbody tr th:only-of-type {\n",
       "        vertical-align: middle;\n",
       "    }\n",
       "\n",
       "    .dataframe tbody tr th {\n",
       "        vertical-align: top;\n",
       "    }\n",
       "\n",
       "    .dataframe thead th {\n",
       "        text-align: right;\n",
       "    }\n",
       "</style>\n",
       "<table border=\"1\" class=\"dataframe\">\n",
       "  <thead>\n",
       "    <tr style=\"text-align: right;\">\n",
       "      <th></th>\n",
       "      <th>datetime</th>\n",
       "      <th>count</th>\n",
       "    </tr>\n",
       "  </thead>\n",
       "  <tbody>\n",
       "    <tr>\n",
       "      <th>0</th>\n",
       "      <td>2011-01-20 00:00:00</td>\n",
       "      <td>0</td>\n",
       "    </tr>\n",
       "    <tr>\n",
       "      <th>1</th>\n",
       "      <td>2011-01-20 01:00:00</td>\n",
       "      <td>0</td>\n",
       "    </tr>\n",
       "    <tr>\n",
       "      <th>2</th>\n",
       "      <td>2011-01-20 02:00:00</td>\n",
       "      <td>0</td>\n",
       "    </tr>\n",
       "    <tr>\n",
       "      <th>3</th>\n",
       "      <td>2011-01-20 03:00:00</td>\n",
       "      <td>0</td>\n",
       "    </tr>\n",
       "    <tr>\n",
       "      <th>4</th>\n",
       "      <td>2011-01-20 04:00:00</td>\n",
       "      <td>0</td>\n",
       "    </tr>\n",
       "  </tbody>\n",
       "</table>\n",
       "</div>"
      ],
      "text/plain": [
       "              datetime  count\n",
       "0  2011-01-20 00:00:00      0\n",
       "1  2011-01-20 01:00:00      0\n",
       "2  2011-01-20 02:00:00      0\n",
       "3  2011-01-20 03:00:00      0\n",
       "4  2011-01-20 04:00:00      0"
      ]
     },
     "execution_count": 37,
     "metadata": {},
     "output_type": "execute_result"
    }
   ],
   "source": [
    "sub_df = pd.read_csv(\"sampleSubmission.csv\")\n",
    "print(sub_df.shape)\n",
    "sub_df.head()"
   ]
  },
  {
   "cell_type": "markdown",
   "id": "efb4689f-149e-4129-a436-700e75fe97ca",
   "metadata": {},
   "source": [
    "## pred"
   ]
  },
  {
   "cell_type": "markdown",
   "id": "cf25c4ae-f49d-4e35-b000-91b0f85dbde4",
   "metadata": {},
   "source": [
    "<pre>\n",
    "rf   : 0.2240 0.0892\n",
    "xgb  : 0.2512 0.0898\n",
    "lgbm : 0.2475 0.0843"
   ]
  },
  {
   "cell_type": "code",
   "execution_count": 38,
   "id": "3d621c2f-ea88-47e6-b2d7-2a8f9f553276",
   "metadata": {
    "tags": []
   },
   "outputs": [],
   "source": [
    "#---------(타켓피쳐:로그스케일링) 복원-----------\n",
    "test_pred_rf   = np.expm1(pred_c_rf)     + np.expm1(pred_r_rf)\n",
    "test_pred_xgb  = np.expm1(pred_c_xgb) + np.expm1(pred_r_xgb)\n",
    "test_pred_lgbm = np.expm1(pred_c_lgbm)+ np.expm1(pred_r_lgbm)\n",
    "test_pred_rf[test_pred_rf < 0] = 0\n",
    "test_pred_xgb[test_pred_xgb < 0] = 0\n",
    "test_pred_lgbm[test_pred_lgbm < 0] = 0"
   ]
  },
  {
   "cell_type": "code",
   "execution_count": 39,
   "id": "3268321a-8e58-475a-b077-b5ab24ac2821",
   "metadata": {
    "tags": []
   },
   "outputs": [
    {
     "data": {
      "text/html": [
       "<div>\n",
       "<style scoped>\n",
       "    .dataframe tbody tr th:only-of-type {\n",
       "        vertical-align: middle;\n",
       "    }\n",
       "\n",
       "    .dataframe tbody tr th {\n",
       "        vertical-align: top;\n",
       "    }\n",
       "\n",
       "    .dataframe thead th {\n",
       "        text-align: right;\n",
       "    }\n",
       "</style>\n",
       "<table border=\"1\" class=\"dataframe\">\n",
       "  <thead>\n",
       "    <tr style=\"text-align: right;\">\n",
       "      <th></th>\n",
       "      <th>datetime</th>\n",
       "      <th>count</th>\n",
       "    </tr>\n",
       "  </thead>\n",
       "  <tbody>\n",
       "    <tr>\n",
       "      <th>0</th>\n",
       "      <td>2011-01-20 00:00:00</td>\n",
       "      <td>12.137487</td>\n",
       "    </tr>\n",
       "    <tr>\n",
       "      <th>1</th>\n",
       "      <td>2011-01-20 01:00:00</td>\n",
       "      <td>5.962746</td>\n",
       "    </tr>\n",
       "    <tr>\n",
       "      <th>2</th>\n",
       "      <td>2011-01-20 02:00:00</td>\n",
       "      <td>4.094746</td>\n",
       "    </tr>\n",
       "    <tr>\n",
       "      <th>3</th>\n",
       "      <td>2011-01-20 03:00:00</td>\n",
       "      <td>3.149780</td>\n",
       "    </tr>\n",
       "    <tr>\n",
       "      <th>4</th>\n",
       "      <td>2011-01-20 04:00:00</td>\n",
       "      <td>2.445906</td>\n",
       "    </tr>\n",
       "  </tbody>\n",
       "</table>\n",
       "</div>"
      ],
      "text/plain": [
       "              datetime      count\n",
       "0  2011-01-20 00:00:00  12.137487\n",
       "1  2011-01-20 01:00:00   5.962746\n",
       "2  2011-01-20 02:00:00   4.094746\n",
       "3  2011-01-20 03:00:00   3.149780\n",
       "4  2011-01-20 04:00:00   2.445906"
      ]
     },
     "execution_count": 39,
     "metadata": {},
     "output_type": "execute_result"
    }
   ],
   "source": [
    "#sub_df['count'] = test_pred_rf*0.3 + test_pred_xgb*0.3 + test_pred_lgbm*0.4\n",
    "#sub_df['count'] = np.expm1(pred_c) + np.expm1(pred_r_lgbm)\n",
    "sub_df['count'] = test_pred_rf*0.2 + test_pred_lgbm*0.8\n",
    "sub_df.head()"
   ]
  },
  {
   "cell_type": "code",
   "execution_count": 40,
   "id": "eeb80170-a4cb-49e7-94e8-26d0ff7ab7f8",
   "metadata": {
    "tags": []
   },
   "outputs": [
    {
     "data": {
      "text/html": [
       "<div>\n",
       "<style scoped>\n",
       "    .dataframe tbody tr th:only-of-type {\n",
       "        vertical-align: middle;\n",
       "    }\n",
       "\n",
       "    .dataframe tbody tr th {\n",
       "        vertical-align: top;\n",
       "    }\n",
       "\n",
       "    .dataframe thead th {\n",
       "        text-align: right;\n",
       "    }\n",
       "</style>\n",
       "<table border=\"1\" class=\"dataframe\">\n",
       "  <thead>\n",
       "    <tr style=\"text-align: right;\">\n",
       "      <th></th>\n",
       "      <th>rf</th>\n",
       "      <th>xgb</th>\n",
       "      <th>lgbm</th>\n",
       "      <th>w_pred</th>\n",
       "      <th>train-regcount</th>\n",
       "    </tr>\n",
       "  </thead>\n",
       "  <tbody>\n",
       "    <tr>\n",
       "      <th>count</th>\n",
       "      <td>6493.000000</td>\n",
       "      <td>6493.000000</td>\n",
       "      <td>6493.000000</td>\n",
       "      <td>6493.000000</td>\n",
       "      <td>10881.000000</td>\n",
       "    </tr>\n",
       "    <tr>\n",
       "      <th>mean</th>\n",
       "      <td>184.112974</td>\n",
       "      <td>169.819214</td>\n",
       "      <td>177.426543</td>\n",
       "      <td>178.763829</td>\n",
       "      <td>191.569433</td>\n",
       "    </tr>\n",
       "    <tr>\n",
       "      <th>std</th>\n",
       "      <td>173.241977</td>\n",
       "      <td>158.130173</td>\n",
       "      <td>166.156307</td>\n",
       "      <td>167.250501</td>\n",
       "      <td>181.167420</td>\n",
       "    </tr>\n",
       "    <tr>\n",
       "      <th>min</th>\n",
       "      <td>1.451570</td>\n",
       "      <td>1.152584</td>\n",
       "      <td>1.350923</td>\n",
       "      <td>1.406183</td>\n",
       "      <td>1.000000</td>\n",
       "    </tr>\n",
       "    <tr>\n",
       "      <th>25%</th>\n",
       "      <td>40.976372</td>\n",
       "      <td>41.741909</td>\n",
       "      <td>40.559254</td>\n",
       "      <td>40.827032</td>\n",
       "      <td>42.000000</td>\n",
       "    </tr>\n",
       "    <tr>\n",
       "      <th>50%</th>\n",
       "      <td>143.222710</td>\n",
       "      <td>132.941376</td>\n",
       "      <td>135.517757</td>\n",
       "      <td>137.028091</td>\n",
       "      <td>145.000000</td>\n",
       "    </tr>\n",
       "    <tr>\n",
       "      <th>75%</th>\n",
       "      <td>271.936434</td>\n",
       "      <td>245.761719</td>\n",
       "      <td>262.523869</td>\n",
       "      <td>265.327600</td>\n",
       "      <td>284.000000</td>\n",
       "    </tr>\n",
       "    <tr>\n",
       "      <th>max</th>\n",
       "      <td>914.120971</td>\n",
       "      <td>815.450256</td>\n",
       "      <td>905.908214</td>\n",
       "      <td>903.879292</td>\n",
       "      <td>977.000000</td>\n",
       "    </tr>\n",
       "  </tbody>\n",
       "</table>\n",
       "</div>"
      ],
      "text/plain": [
       "                rf          xgb         lgbm       w_pred  train-regcount\n",
       "count  6493.000000  6493.000000  6493.000000  6493.000000    10881.000000\n",
       "mean    184.112974   169.819214   177.426543   178.763829      191.569433\n",
       "std     173.241977   158.130173   166.156307   167.250501      181.167420\n",
       "min       1.451570     1.152584     1.350923     1.406183        1.000000\n",
       "25%      40.976372    41.741909    40.559254    40.827032       42.000000\n",
       "50%     143.222710   132.941376   135.517757   137.028091      145.000000\n",
       "75%     271.936434   245.761719   262.523869   265.327600      284.000000\n",
       "max     914.120971   815.450256   905.908214   903.879292      977.000000"
      ]
     },
     "execution_count": 40,
     "metadata": {},
     "output_type": "execute_result"
    }
   ],
   "source": [
    "desc_df = pd.concat([pd.DataFrame([test_pred_rf]).T.describe(),\n",
    "           pd.DataFrame([test_pred_xgb]).T.describe(),\n",
    "           pd.DataFrame([test_pred_lgbm]).T.describe(),\n",
    "           sub_df['count'].describe(),\n",
    "           train[['regcount']].describe(),\n",
    "          ]\n",
    "          , axis=1\n",
    "          #, names=['rf','xgb','lgbm', 'train-regcount']\n",
    "         )\n",
    "desc_df.columns = ['rf','xgb','lgbm', 'w_pred', 'train-regcount']\n",
    "desc_df"
   ]
  },
  {
   "cell_type": "markdown",
   "id": "c539fdef-0933-444e-8704-922e33790c91",
   "metadata": {},
   "source": [
    "## 답지 생성"
   ]
  },
  {
   "cell_type": "code",
   "execution_count": 41,
   "id": "60d38d79-0bac-4b3e-a082-b5044f247048",
   "metadata": {
    "tags": []
   },
   "outputs": [
    {
     "data": {
      "text/html": [
       "<div>\n",
       "<style scoped>\n",
       "    .dataframe tbody tr th:only-of-type {\n",
       "        vertical-align: middle;\n",
       "    }\n",
       "\n",
       "    .dataframe tbody tr th {\n",
       "        vertical-align: top;\n",
       "    }\n",
       "\n",
       "    .dataframe thead th {\n",
       "        text-align: right;\n",
       "    }\n",
       "</style>\n",
       "<table border=\"1\" class=\"dataframe\">\n",
       "  <thead>\n",
       "    <tr style=\"text-align: right;\">\n",
       "      <th></th>\n",
       "      <th>datetime</th>\n",
       "      <th>count</th>\n",
       "    </tr>\n",
       "  </thead>\n",
       "  <tbody>\n",
       "    <tr>\n",
       "      <th>0</th>\n",
       "      <td>2011-01-20 00:00:00</td>\n",
       "      <td>12.137487</td>\n",
       "    </tr>\n",
       "    <tr>\n",
       "      <th>1</th>\n",
       "      <td>2011-01-20 01:00:00</td>\n",
       "      <td>5.962746</td>\n",
       "    </tr>\n",
       "    <tr>\n",
       "      <th>2</th>\n",
       "      <td>2011-01-20 02:00:00</td>\n",
       "      <td>4.094746</td>\n",
       "    </tr>\n",
       "    <tr>\n",
       "      <th>3</th>\n",
       "      <td>2011-01-20 03:00:00</td>\n",
       "      <td>3.149780</td>\n",
       "    </tr>\n",
       "    <tr>\n",
       "      <th>4</th>\n",
       "      <td>2011-01-20 04:00:00</td>\n",
       "      <td>2.445906</td>\n",
       "    </tr>\n",
       "  </tbody>\n",
       "</table>\n",
       "</div>"
      ],
      "text/plain": [
       "              datetime      count\n",
       "0  2011-01-20 00:00:00  12.137487\n",
       "1  2011-01-20 01:00:00   5.962746\n",
       "2  2011-01-20 02:00:00   4.094746\n",
       "3  2011-01-20 03:00:00   3.149780\n",
       "4  2011-01-20 04:00:00   2.445906"
      ]
     },
     "execution_count": 41,
     "metadata": {},
     "output_type": "execute_result"
    }
   ],
   "source": [
    "sub_df.to_csv(\"v01.csv\", index=False)\n",
    "v = pd.read_csv(\"v01.csv\")\n",
    "v.head()"
   ]
  }
 ],
 "metadata": {
  "kernelspec": {
   "display_name": "Python 3 (ipykernel)",
   "language": "python",
   "name": "python3"
  },
  "language_info": {
   "codemirror_mode": {
    "name": "ipython",
    "version": 3
   },
   "file_extension": ".py",
   "mimetype": "text/x-python",
   "name": "python",
   "nbconvert_exporter": "python",
   "pygments_lexer": "ipython3",
   "version": "3.8.8"
  },
  "toc-autonumbering": true,
  "toc-showmarkdowntxt": false
 },
 "nbformat": 4,
 "nbformat_minor": 5
}
