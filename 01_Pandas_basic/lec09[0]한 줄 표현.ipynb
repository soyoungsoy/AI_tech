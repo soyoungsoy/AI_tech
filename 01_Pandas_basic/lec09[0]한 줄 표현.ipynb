{
 "cells": [
  {
   "cell_type": "markdown",
   "id": "19b31218-4ec5-4845-8c6c-aeef2f6cd658",
   "metadata": {},
   "source": [
    "# 번외 : 한 줄 표현식"
   ]
  },
  {
   "cell_type": "markdown",
   "id": "50bb49ff-c6e6-4b23-a6c9-1a5f0e0617cb",
   "metadata": {
    "tags": []
   },
   "source": [
    "## for 문 한줄 표현식\n",
    "    * [처리부 for n in [1,2,3]]"
   ]
  },
  {
   "cell_type": "markdown",
   "id": "73ac4f0e-f6fa-4ba5-833d-1f1f60c89b5d",
   "metadata": {
    "tags": []
   },
   "source": [
    " **frames  = [process_your_file(f) for f in files]**  \n",
    " >**[1.어떻게 처리할래?(ex.print)               2.for문(순서대로)]**"
   ]
  },
  {
   "cell_type": "code",
   "execution_count": 18,
   "id": "95706956-da0f-44df-be83-6e92235897ba",
   "metadata": {
    "tags": []
   },
   "outputs": [
    {
     "name": "stdout",
     "output_type": "stream",
     "text": [
      "10\n"
     ]
    }
   ],
   "source": [
    "sum = 0\n",
    "for n in [1,2,3,4] :\n",
    "    sum = sum + n\n",
    "print(sum)"
   ]
  },
  {
   "cell_type": "code",
   "execution_count": 21,
   "id": "b4d76328-f8ca-4c5d-8f84-1b7edb2c16b6",
   "metadata": {
    "tags": []
   },
   "outputs": [
    {
     "name": "stdout",
     "output_type": "stream",
     "text": [
      "2 * 1  =  2\n",
      "2 * 2  =  4\n",
      "2 * 3  =  6\n",
      "2 * 4  =  8\n",
      "3 * 1  =  3\n",
      "3 * 2  =  6\n",
      "3 * 3  =  9\n",
      "3 * 4  =  12\n",
      "4 * 1  =  4\n",
      "4 * 2  =  8\n",
      "4 * 3  =  12\n",
      "4 * 4  =  16\n"
     ]
    }
   ],
   "source": [
    "for dan in [2,3,4] : \n",
    "    for gob in [1,2,3,4] :\n",
    "        print(dan, \"*\", gob , \" = \" , dan*gob)"
   ]
  },
  {
   "cell_type": "markdown",
   "id": "0927eca5-7886-4090-9a11-89830d98d143",
   "metadata": {},
   "source": [
    "## for + for"
   ]
  },
  {
   "cell_type": "code",
   "execution_count": 24,
   "id": "21e412c6-62a1-496f-8834-df8fc4e0d4d3",
   "metadata": {
    "tags": []
   },
   "outputs": [
    {
     "name": "stdout",
     "output_type": "stream",
     "text": [
      "2 * 1  =  2\n",
      "2 * 2  =  4\n",
      "2 * 3  =  6\n",
      "2 * 4  =  8\n",
      "3 * 1  =  3\n",
      "3 * 2  =  6\n",
      "3 * 3  =  9\n",
      "3 * 4  =  12\n",
      "4 * 1  =  4\n",
      "4 * 2  =  8\n",
      "4 * 3  =  12\n",
      "4 * 4  =  16\n"
     ]
    },
    {
     "data": {
      "text/plain": [
       "[None, None, None, None, None, None, None, None, None, None, None, None]"
      ]
     },
     "execution_count": 24,
     "metadata": {},
     "output_type": "execute_result"
    }
   ],
   "source": [
    "[print(dan, \"*\", gob , \" = \" , dan*gob) for dan in [2,3,4] for gob in [1,2,3,4]]"
   ]
  },
  {
   "cell_type": "markdown",
   "id": "db7a4436-418a-4d24-bdac-817aeb6dd5cb",
   "metadata": {},
   "source": [
    "## IF문의 한 줄 표현식\n",
    "    * 1.처리부 2.if 조건식 3.else 처리부\n",
    "    * []는 안해도 된다. 루프를 도는 것이 아니기 때문에"
   ]
  },
  {
   "cell_type": "markdown",
   "id": "610d2266-dbd9-4564-8b96-0ce5b02c14f3",
   "metadata": {},
   "source": [
    "### 기본"
   ]
  },
  {
   "cell_type": "code",
   "execution_count": 6,
   "id": "8b20f4b9-67e8-4fde-a48b-f7cbb02cc6b0",
   "metadata": {
    "tags": []
   },
   "outputs": [
    {
     "name": "stdout",
     "output_type": "stream",
     "text": [
      "작다\n"
     ]
    }
   ],
   "source": [
    "#원래 표현\n",
    "\n",
    "score = 80 \n",
    "if score < 90 :\n",
    "    print(\"작다\")\n",
    "else :\n",
    "    print(\"크다\")"
   ]
  },
  {
   "cell_type": "code",
   "execution_count": 5,
   "id": "aa4a1119-bb9e-435f-8e62-c33515022b42",
   "metadata": {
    "tags": []
   },
   "outputs": [
    {
     "name": "stdout",
     "output_type": "stream",
     "text": [
      "작다\n"
     ]
    }
   ],
   "source": [
    "#한 줄 표현\n",
    "\n",
    "score = 80\n",
    "\n",
    "print(\"작다\" if score < 90 else '크다') #루프 도는게 아니니까 [] 리스트화(범주화..?) 할 필요 없다.    "
   ]
  },
  {
   "cell_type": "markdown",
   "id": "1782ba86-0703-48a8-b19a-01cb829a1f69",
   "metadata": {},
   "source": [
    "### elif"
   ]
  },
  {
   "cell_type": "code",
   "execution_count": 4,
   "id": "d6e0a814-b4f9-4b69-9f2a-ddb3718643d6",
   "metadata": {
    "tags": []
   },
   "outputs": [
    {
     "name": "stdout",
     "output_type": "stream",
     "text": [
      "B\n"
     ]
    }
   ],
   "source": [
    "#원래 표현\n",
    "\n",
    "score = 80 \n",
    "if score < 90 :\n",
    "    print(\"B\")\n",
    "elif score < 80 :\n",
    "    print(\"C\")\n",
    "else :\n",
    "    print(\"D\")"
   ]
  },
  {
   "cell_type": "code",
   "execution_count": 3,
   "id": "2b0f9cce-77cd-41c7-bd88-5dff82af160d",
   "metadata": {
    "tags": []
   },
   "outputs": [
    {
     "name": "stdout",
     "output_type": "stream",
     "text": [
      "B\n"
     ]
    }
   ],
   "source": [
    "#한 줄 표현\n",
    "\n",
    "score = 80\n",
    "print('B' if score < 90 else 'C' if score <80 else 'D')\n",
    "# else 로 한 if가 끝난다. pandas엔 elif가 없다."
   ]
  },
  {
   "cell_type": "markdown",
   "id": "92b614b1-52c1-4122-b3ac-850ae195c0b0",
   "metadata": {},
   "source": [
    "## FOR + IF\n",
    "    - 처리부 맨 앞으로 보내고 뒤에 for if 차례로"
   ]
  },
  {
   "cell_type": "markdown",
   "id": "a1cf4a9b-12bf-4c67-807f-7f21404d188f",
   "metadata": {
    "tags": []
   },
   "source": [
    "for 변수 in [값1,값2,값3,..] :  \n",
    "    if 조건식 : (for 아래의 덩어리 부분)  \n",
    "        처리부\n",
    "        \n",
    "\n",
    "1. 처리부 for ~ in ~ 먼저 하고\n",
    "2. for 아래 if 덩어리부분을 앞으로 뺀다."
   ]
  },
  {
   "cell_type": "code",
   "execution_count": 7,
   "id": "fb76e74f-502c-4c5a-9fd5-50d0ee9cf9a2",
   "metadata": {
    "tags": []
   },
   "outputs": [
    {
     "name": "stdout",
     "output_type": "stream",
     "text": [
      "이\n"
     ]
    }
   ],
   "source": [
    "for n in [1,2,3] :\n",
    "    if n == 2:\n",
    "        print(\"이\")"
   ]
  },
  {
   "cell_type": "code",
   "execution_count": 45,
   "id": "60af6eeb-adbb-42dd-a105-dcd787f08171",
   "metadata": {
    "tags": []
   },
   "outputs": [
    {
     "data": {
      "text/plain": [
       "['이']"
      ]
     },
     "execution_count": 45,
     "metadata": {},
     "output_type": "execute_result"
    }
   ],
   "source": [
    "[\"이\" for n in [1,2,3] if n == 2] #print는 써도 되고 안써도 되고"
   ]
  },
  {
   "cell_type": "code",
   "execution_count": 47,
   "id": "4c1b8705-78da-4ab9-8e06-4bfa6f5cd0f0",
   "metadata": {
    "tags": []
   },
   "outputs": [
    {
     "name": "stdout",
     "output_type": "stream",
     "text": [
      "일\n",
      "이\n",
      "일\n"
     ]
    },
    {
     "data": {
      "text/plain": [
       "[None, None, None]"
      ]
     },
     "execution_count": 47,
     "metadata": {},
     "output_type": "execute_result"
    }
   ],
   "source": [
    "#석영님 코드\n",
    "\n",
    "[print('이' if n == 2 else '일') for n in [1,2,3]]"
   ]
  },
  {
   "cell_type": "code",
   "execution_count": 48,
   "id": "72ce039e-9eff-4ed7-a9ec-4787f4755a96",
   "metadata": {
    "tags": []
   },
   "outputs": [
    {
     "name": "stdout",
     "output_type": "stream",
     "text": [
      "그 외\n",
      "일\n",
      "그 외\n"
     ]
    }
   ],
   "source": [
    "for n in [1,2,3]:\n",
    "    if n ==2:\n",
    "        print(\"일\")\n",
    "    else :\n",
    "        print(\"그 외\")"
   ]
  },
  {
   "cell_type": "code",
   "execution_count": 53,
   "id": "b448dc59-b545-47c4-ae44-94a3310109f5",
   "metadata": {
    "tags": []
   },
   "outputs": [
    {
     "name": "stdout",
     "output_type": "stream",
     "text": [
      "일\n"
     ]
    },
    {
     "data": {
      "text/plain": [
       "['그 외', None, '그 외']"
      ]
     },
     "execution_count": 53,
     "metadata": {},
     "output_type": "execute_result"
    }
   ],
   "source": [
    "#서브쿼리처럼 활용하자\n",
    "\n",
    "[print(\"일\") if n==2 else \"그 외\" for n in [1,2,3] ]"
   ]
  },
  {
   "cell_type": "markdown",
   "id": "c1f08dbd-e12b-4dd4-b2e3-51fe7fb22a80",
   "metadata": {},
   "source": [
    "# 람다(Lambda) : 1회용 함수\n",
    "    = 한 줄 표현식\n",
    "    = 이름 없는 함수\n",
    "    = unknown 함수"
   ]
  },
  {
   "cell_type": "markdown",
   "id": "630fb505-b2be-474b-9008-621d5d4487a8",
   "metadata": {},
   "source": [
    "## 기본 문법  \n",
    "    - lambda 파라미터 : 표현식"
   ]
  },
  {
   "cell_type": "code",
   "execution_count": 56,
   "id": "e78f5674-cf8d-4a2c-9fc1-78d80e0b8d6b",
   "metadata": {
    "tags": []
   },
   "outputs": [
    {
     "data": {
      "text/plain": [
       "9"
      ]
     },
     "execution_count": 56,
     "metadata": {},
     "output_type": "execute_result"
    }
   ],
   "source": [
    "#보통 함수\n",
    "\n",
    "def add(a,b):\n",
    "    return a+b\n",
    "\n",
    "add(4,5)"
   ]
  },
  {
   "cell_type": "code",
   "execution_count": 59,
   "id": "c017978c-d451-43c4-aed1-7d0d0726a2f2",
   "metadata": {
    "tags": []
   },
   "outputs": [
    {
     "data": {
      "text/plain": [
       "<function __main__.<lambda>(a, b)>"
      ]
     },
     "execution_count": 59,
     "metadata": {},
     "output_type": "execute_result"
    }
   ],
   "source": [
    "#람다 함수 : 일회성, 다른 곳에서 import 해서 사용할 수 없다.\n",
    "\n",
    "lambda a,b : a+b"
   ]
  },
  {
   "cell_type": "code",
   "execution_count": 60,
   "id": "04c52dee-e8be-4625-89fd-2c82e448e40b",
   "metadata": {
    "tags": []
   },
   "outputs": [
    {
     "data": {
      "text/plain": [
       "<function __main__.<lambda>(a, b)>"
      ]
     },
     "execution_count": 60,
     "metadata": {},
     "output_type": "execute_result"
    }
   ],
   "source": [
    "#람다 정의하기\n",
    "\n",
    "aaa = (lambda a,b : a+b)\n",
    "aaa"
   ]
  },
  {
   "cell_type": "code",
   "execution_count": 61,
   "id": "af1499af-443d-4e0a-b7a6-a185d4a73fa9",
   "metadata": {
    "tags": []
   },
   "outputs": [
    {
     "data": {
      "text/plain": [
       "13"
      ]
     },
     "execution_count": 61,
     "metadata": {},
     "output_type": "execute_result"
    }
   ],
   "source": [
    "aaa(5,8)"
   ]
  },
  {
   "cell_type": "code",
   "execution_count": 67,
   "id": "18953d0c-d170-4ff3-ba83-1e7077ea82f8",
   "metadata": {
    "tags": []
   },
   "outputs": [
    {
     "data": {
      "text/plain": [
       "9"
      ]
     },
     "execution_count": 67,
     "metadata": {},
     "output_type": "execute_result"
    }
   ],
   "source": [
    "# 결국 이 것도 같은 구조다\n",
    "\n",
    "(lambda a,b : a+b)(7,2)"
   ]
  },
  {
   "cell_type": "markdown",
   "id": "729f8824-2114-4a72-9218-909a5c59c529",
   "metadata": {
    "tags": []
   },
   "source": [
    "## 사용 예"
   ]
  },
  {
   "cell_type": "code",
   "execution_count": 75,
   "id": "96242432-6394-4fc1-aa03-734c3b403f1a",
   "metadata": {
    "tags": []
   },
   "outputs": [
    {
     "data": {
      "text/plain": [
       "'탈락'"
      ]
     },
     "execution_count": 75,
     "metadata": {},
     "output_type": "execute_result"
    }
   ],
   "source": [
    "def score_check(score) :\n",
    "    if score > 90 :\n",
    "        return '합격'\n",
    "    else :\n",
    "        return '탈락'\n",
    "    \n",
    "score_check(70) #이 때의 람다명은 '함수명'이다."
   ]
  },
  {
   "cell_type": "code",
   "execution_count": 72,
   "id": "ace85a35-ddf8-4c15-93f2-8d9659b57984",
   "metadata": {
    "tags": []
   },
   "outputs": [
    {
     "data": {
      "text/plain": [
       "'탈락'"
      ]
     },
     "execution_count": 72,
     "metadata": {},
     "output_type": "execute_result"
    }
   ],
   "source": [
    "# 람다 뒤의 표현식은 한 줄로 써야한다.\n",
    "(lambda score : '합격' if  score > 90 else '탈락')(70)"
   ]
  },
  {
   "cell_type": "code",
   "execution_count": 73,
   "id": "9e5702ee-300a-45ed-b3dd-0f06a454c289",
   "metadata": {
    "tags": []
   },
   "outputs": [],
   "source": [
    "#람다를 변수지정 해놓으면 다회용으로 쓸 수 있다. 이 때의 정의는 변수일 뿐 함수는 아님\n",
    "\n",
    "mylamb = (lambda score : '합격' if  score > 90 else '탈락')"
   ]
  },
  {
   "cell_type": "code",
   "execution_count": 74,
   "id": "cc115f4d-a10f-4f0c-b9a9-2aa559821689",
   "metadata": {
    "tags": []
   },
   "outputs": [
    {
     "data": {
      "text/plain": [
       "'탈락'"
      ]
     },
     "execution_count": 74,
     "metadata": {},
     "output_type": "execute_result"
    }
   ],
   "source": [
    "mylamb(80)"
   ]
  },
  {
   "cell_type": "markdown",
   "id": "4be0beb3-4595-4306-bb81-817bf434fb44",
   "metadata": {},
   "source": [
    "## 또 다른 사용 예"
   ]
  },
  {
   "cell_type": "code",
   "execution_count": null,
   "id": "1788535c-05a4-4ee1-bfd0-96f45dc9319a",
   "metadata": {},
   "outputs": [],
   "source": [
    "def score_check(score) :\n",
    "    if score > 90 :\n",
    "        return '합격'\n",
    "    else :\n",
    "        return '탈락'\n",
    "    \n",
    "score_check(70)"
   ]
  },
  {
   "cell_type": "code",
   "execution_count": 79,
   "id": "a5699d65-75ad-4de9-a69c-43bdf67791c1",
   "metadata": {
    "tags": []
   },
   "outputs": [
    {
     "data": {
      "text/plain": [
       "'합격'"
      ]
     },
     "execution_count": 79,
     "metadata": {},
     "output_type": "execute_result"
    }
   ],
   "source": [
    "#한 줄 표현이 힘든 경우\n",
    "\n",
    "(lambda 변수 : score_check(변수))(95)"
   ]
  },
  {
   "cell_type": "markdown",
   "id": "4f0f97cc-63c5-469e-a952-59fe9578c66a",
   "metadata": {},
   "source": [
    "# map (lambda함수, 리스트)"
   ]
  },
  {
   "cell_type": "code",
   "execution_count": 80,
   "id": "2bf14316-8133-4aba-8d3f-dc0f65341a66",
   "metadata": {
    "tags": []
   },
   "outputs": [
    {
     "data": {
      "text/plain": [
       "<function __main__.<lambda>(x)>"
      ]
     },
     "execution_count": 80,
     "metadata": {},
     "output_type": "execute_result"
    }
   ],
   "source": [
    "#보통의 람다\n",
    "\n",
    "(lambda x : x +10)"
   ]
  },
  {
   "cell_type": "code",
   "execution_count": 81,
   "id": "a9b6f8d0-8b10-41d1-8cfd-88515b4488c8",
   "metadata": {
    "tags": []
   },
   "outputs": [
    {
     "data": {
      "text/plain": [
       "11"
      ]
     },
     "execution_count": 81,
     "metadata": {},
     "output_type": "execute_result"
    }
   ],
   "source": [
    "람다변수 = (lambda x : x +10)\n",
    "람다변수(1)"
   ]
  },
  {
   "cell_type": "code",
   "execution_count": 82,
   "id": "b8e39501-9d12-4f55-8498-7d4508e8f509",
   "metadata": {
    "tags": []
   },
   "outputs": [
    {
     "data": {
      "text/plain": [
       "[11, 12, 13, 14]"
      ]
     },
     "execution_count": 82,
     "metadata": {},
     "output_type": "execute_result"
    }
   ],
   "source": [
    "#list(map(람다함수,리스트))\n",
    "\n",
    "list(map( lambda x : x +10, [1,2,3,4] ))"
   ]
  },
  {
   "cell_type": "code",
   "execution_count": 85,
   "id": "c7f29504-5ba0-42ee-8824-a4c129d942af",
   "metadata": {
    "tags": []
   },
   "outputs": [],
   "source": [
    "#맵 변수 정의하기\n",
    "\n",
    "맵변수 = map( lambda x : x +10, [1,2,3,4] )"
   ]
  },
  {
   "cell_type": "code",
   "execution_count": 84,
   "id": "6ff4be74-6c49-466a-a65b-16ded4a2885f",
   "metadata": {
    "tags": []
   },
   "outputs": [
    {
     "data": {
      "text/plain": [
       "[11, 12, 13, 14]"
      ]
     },
     "execution_count": 84,
     "metadata": {},
     "output_type": "execute_result"
    }
   ],
   "source": [
    "list(맵변수)"
   ]
  },
  {
   "cell_type": "markdown",
   "id": "39275631-3bc9-485f-9f7c-bd1c821c9427",
   "metadata": {},
   "source": [
    "**Quiz**"
   ]
  },
  {
   "cell_type": "code",
   "execution_count": null,
   "id": "94b192f1-2df5-4780-aa13-9bc59f11e808",
   "metadata": {},
   "outputs": [],
   "source": [
    "tel = ['02-222-3333','032-222-3333','032-222-3333','031-222-3333']\n",
    "02 : 서울\n",
    "032 : 인천\n",
    "031 : 경기\n",
    "\n",
    "람다식 사용해서 앞자리 끊었을 때, 서울 인천 경기로 출력되게 해라."
   ]
  },
  {
   "cell_type": "code",
   "execution_count": 27,
   "id": "c7c4dbe6-0bfe-46a6-9d25-ae82d9dd02b7",
   "metadata": {
    "tags": []
   },
   "outputs": [
    {
     "data": {
      "text/plain": [
       "['02-222-3333', '032-222-3333', '032-222-3333', '031-222-3333']"
      ]
     },
     "execution_count": 27,
     "metadata": {},
     "output_type": "execute_result"
    }
   ],
   "source": [
    "tel_list = [\"02-222-3333\", \"032-222-3333\",\"032-222-3333\",\"031-222-3333\"]\n",
    "tel_list"
   ]
  },
  {
   "cell_type": "markdown",
   "id": "91e27047-f849-4d40-a703-dd2aeb7b491d",
   "metadata": {},
   "source": [
    "* 해결1 )  단순 함수 정의 후 호출"
   ]
  },
  {
   "cell_type": "code",
   "execution_count": 28,
   "id": "230b3a6c-f4ca-498a-a71d-99a67493214c",
   "metadata": {
    "tags": []
   },
   "outputs": [
    {
     "name": "stdout",
     "output_type": "stream",
     "text": [
      "02 서울\n",
      "032 인천\n",
      "032 인천\n",
      "031 경기\n"
     ]
    }
   ],
   "source": [
    "# (lambda x : x.split(\"-\") )\n",
    "def tel_check(tel_list) :\n",
    "    for tel in tel_list:\n",
    "        loc_tel = tel.split(\"-\")[0]\n",
    "        loc = \"그외\"\n",
    "        if loc_tel == '02' :\n",
    "            loc = \"서울\"\n",
    "        elif loc_tel == '032' :\n",
    "            loc = \"인천\"\n",
    "        elif loc_tel == '031' :\n",
    "            loc = \"경기\"\n",
    "        print(loc_tel, loc)\n",
    "tel_check([\"02-222-3333\", \"032-222-3333\",\"032-222-3333\",\"031-222-3333\"])   \n",
    "\n",
    "\n",
    "\n"
   ]
  },
  {
   "cell_type": "markdown",
   "id": "db52a78e-55fd-414b-a98b-ccb7cb757f36",
   "metadata": {},
   "source": [
    "* 해결2 )  람다 + 사용자정의함수\n",
    "* (lambda x : 사용자정의함수(x))"
   ]
  },
  {
   "cell_type": "code",
   "execution_count": 29,
   "id": "a996ce44-118c-4560-8bd7-d8dc002366a0",
   "metadata": {
    "tags": []
   },
   "outputs": [
    {
     "name": "stdout",
     "output_type": "stream",
     "text": [
      "02 서울\n",
      "032 인천\n",
      "032 인천\n",
      "031 경기\n"
     ]
    }
   ],
   "source": [
    "# (lambda x : x + 10) (10)\n",
    "prm_list = [\"02-222-3333\", \"032-222-3333\",\"032-222-3333\",\"031-222-3333\"]\n",
    "(lambda x : tel_check(x)  ) (prm_list) "
   ]
  },
  {
   "cell_type": "markdown",
   "id": "cf8e854f-2084-458e-9b3a-68608bb403d1",
   "metadata": {},
   "source": [
    "* 해결3 )  list( map (lambda함수, 리스트) )"
   ]
  },
  {
   "cell_type": "code",
   "execution_count": 30,
   "id": "d038d111-d201-40a1-b6f5-c9b4d816fd5c",
   "metadata": {
    "tags": []
   },
   "outputs": [
    {
     "name": "stdout",
     "output_type": "stream",
     "text": [
      "[('서울', '02'), ('인천', '032'), ('인천', '032'), ('경기', '031')]\n"
     ]
    }
   ],
   "source": [
    "def tel_check(tel) :\n",
    "    loc_tel = tel.split(\"-\")[0]\n",
    "    loc = \"그외\"\n",
    "    if loc_tel == '02' :\n",
    "        loc = \"서울\"\n",
    "    elif loc_tel == '032' :\n",
    "        loc = \"인천\"\n",
    "    elif loc_tel == '031' :\n",
    "        loc = \"경기\"\n",
    "    return loc, loc_tel\n",
    "        \n",
    "prm_list = [\"02-222-3333\", \"032-222-3333\",\"032-222-3333\",\"031-222-3333\"]\n",
    "res = list (  map(  lambda prm : tel_check(prm) , prm_list )   )\n",
    "print(res)"
   ]
  },
  {
   "cell_type": "markdown",
   "id": "3131ea93-525a-46ae-a7ae-1992caf5ad44",
   "metadata": {},
   "source": [
    "# Quiz : 1~100 합 출력"
   ]
  },
  {
   "cell_type": "code",
   "execution_count": 1,
   "id": "2b40c672-610e-4262-a3ab-bf8e9febd857",
   "metadata": {
    "tags": []
   },
   "outputs": [
    {
     "data": {
      "text/plain": [
       "range(1, 10)"
      ]
     },
     "execution_count": 1,
     "metadata": {},
     "output_type": "execute_result"
    }
   ],
   "source": [
    "range(1,10) #range는 값이 아니라 객체이다."
   ]
  },
  {
   "cell_type": "code",
   "execution_count": 3,
   "id": "abe060e0-04a9-4ba3-a0db-7f371b5860a4",
   "metadata": {
    "tags": []
   },
   "outputs": [
    {
     "data": {
      "text/plain": [
       "[1, 2, 3, 4, 5, 6, 7, 8, 9]"
      ]
     },
     "execution_count": 3,
     "metadata": {},
     "output_type": "execute_result"
    }
   ],
   "source": [
    "list(range(1,10)) #그러므로 리스트화해서 값을 조회해야한다."
   ]
  },
  {
   "cell_type": "code",
   "execution_count": 5,
   "id": "9be3ff17-4212-4af0-9740-fc4355ed62ba",
   "metadata": {
    "tags": []
   },
   "outputs": [],
   "source": [
    "r = range(1,10)"
   ]
  },
  {
   "cell_type": "raw",
   "id": "be01089a-7a9c-4623-af83-d276b21bc1c6",
   "metadata": {},
   "source": []
  },
  {
   "cell_type": "markdown",
   "id": "50225ee5-505d-4222-b930-e2812bbd11d2",
   "metadata": {},
   "source": [
    "해결책1)"
   ]
  },
  {
   "cell_type": "code",
   "execution_count": 31,
   "id": "8e717f7d-f2cc-4e74-a910-7844f12cdd3d",
   "metadata": {
    "tags": []
   },
   "outputs": [
    {
     "name": "stdout",
     "output_type": "stream",
     "text": [
      "100\n"
     ]
    }
   ],
   "source": [
    "mysum = 0\n",
    "for n in range(1,101):\n",
    "    mysum  = mysum + 1\n",
    "print(mysum)"
   ]
  },
  {
   "cell_type": "markdown",
   "id": "329bbc7b-6a1a-4179-a520-3c39d320a8b5",
   "metadata": {},
   "source": [
    "해결책2)"
   ]
  },
  {
   "cell_type": "code",
   "execution_count": 32,
   "id": "bf0f71a3-fd13-4348-b90a-2f0afd4ea644",
   "metadata": {
    "tags": []
   },
   "outputs": [
    {
     "name": "stdout",
     "output_type": "stream",
     "text": [
      "5050\n"
     ]
    }
   ],
   "source": [
    "def cacl_sum():\n",
    "    mysum = 0\n",
    "    for n in range(1,101):\n",
    "        mysum  = mysum + n\n",
    "    print(mysum)\n",
    "cacl_sum()"
   ]
  },
  {
   "cell_type": "markdown",
   "id": "a8f3ae0c-55ae-463b-9912-c064940de88c",
   "metadata": {},
   "source": [
    "# 해결책3) by 영기"
   ]
  },
  {
   "cell_type": "code",
   "execution_count": 33,
   "id": "6ed7bfd0-f191-4c52-92c6-23e80ab869a0",
   "metadata": {
    "tags": []
   },
   "outputs": [
    {
     "name": "stdout",
     "output_type": "stream",
     "text": [
      "5050\n"
     ]
    }
   ],
   "source": [
    "def cacl_sum() :\n",
    "    mysum = 0\n",
    "    for n in range(1,101):\n",
    "        mysum  = mysum + n\n",
    "    print(mysum)\n",
    "\n",
    "(lambda x :  cacl_sum()) (\"아무값\")"
   ]
  },
  {
   "cell_type": "markdown",
   "id": "8c42a00c-e730-45b5-88d9-ee7c1c86f642",
   "metadata": {},
   "source": [
    "해결책4)"
   ]
  },
  {
   "cell_type": "code",
   "execution_count": 34,
   "id": "6738c1da-8908-4f27-adb0-965a115a71f9",
   "metadata": {
    "tags": []
   },
   "outputs": [
    {
     "data": {
      "text/plain": [
       "6"
      ]
     },
     "execution_count": 34,
     "metadata": {},
     "output_type": "execute_result"
    }
   ],
   "source": [
    "import numpy as np\n",
    "np.sum(  [1,2,3] )"
   ]
  },
  {
   "cell_type": "code",
   "execution_count": 39,
   "id": "fb7b2fcb-f1c9-4472-ac41-2151524af329",
   "metadata": {},
   "outputs": [
    {
     "data": {
      "text/plain": [
       "6"
      ]
     },
     "execution_count": 39,
     "metadata": {},
     "output_type": "execute_result"
    }
   ],
   "source": [
    "sum([1,2,3])  #python 내장 함수"
   ]
  },
  {
   "cell_type": "code",
   "execution_count": 41,
   "id": "eb85bbf7-2285-4f2f-980d-0c05146f670f",
   "metadata": {
    "tags": []
   },
   "outputs": [
    {
     "data": {
      "text/plain": [
       "5050"
      ]
     },
     "execution_count": 41,
     "metadata": {},
     "output_type": "execute_result"
    }
   ],
   "source": [
    "AA = (  lambda s,e : sum( range(s,e) )   )\n",
    "AA(1,101)"
   ]
  },
  {
   "cell_type": "code",
   "execution_count": 40,
   "id": "80b40903-f14d-4293-a4aa-a738a0f55325",
   "metadata": {
    "tags": []
   },
   "outputs": [
    {
     "data": {
      "text/plain": [
       "5050"
      ]
     },
     "execution_count": 40,
     "metadata": {},
     "output_type": "execute_result"
    }
   ],
   "source": [
    "AA = (  lambda x : sum( range(1,101) )   )\n",
    "AA('아무값')"
   ]
  },
  {
   "cell_type": "code",
   "execution_count": 42,
   "id": "4bfe25ca-5702-451a-bff8-1659d9381808",
   "metadata": {
    "tags": []
   },
   "outputs": [
    {
     "data": {
      "text/plain": [
       "5050"
      ]
     },
     "execution_count": 42,
     "metadata": {},
     "output_type": "execute_result"
    }
   ],
   "source": [
    "np.sum( [x for x in range(1,101)]  )"
   ]
  },
  {
   "cell_type": "markdown",
   "id": "edd6b40a-cd9c-4930-b964-48b0e45c9118",
   "metadata": {},
   "source": [
    "* 해결책5) 가장 추천"
   ]
  },
  {
   "cell_type": "code",
   "execution_count": 43,
   "id": "9c7971e6-ae55-4078-84ba-7d41bfab7c52",
   "metadata": {
    "tags": []
   },
   "outputs": [
    {
     "data": {
      "text/plain": [
       "5050"
      ]
     },
     "execution_count": 43,
     "metadata": {},
     "output_type": "execute_result"
    }
   ],
   "source": [
    "np.sum( range(1,101)  )"
   ]
  },
  {
   "cell_type": "markdown",
   "id": "05fcf2c7-b474-42c4-90cc-9d060a8924c8",
   "metadata": {},
   "source": [
    "* 해결책6) reduce() 누적함수"
   ]
  },
  {
   "cell_type": "code",
   "execution_count": 53,
   "id": "bcf3e72a-4077-4a6d-8fb3-441175ae8239",
   "metadata": {
    "tags": []
   },
   "outputs": [
    {
     "data": {
      "text/plain": [
       "5050"
      ]
     },
     "execution_count": 53,
     "metadata": {},
     "output_type": "execute_result"
    }
   ],
   "source": [
    "from functools import reduce\n",
    "res = reduce ( (lambda s, n : s+n) ,  [n for n in range(1,101) ]  )  \n",
    "res"
   ]
  }
 ],
 "metadata": {
  "kernelspec": {
   "display_name": "Python 3 (ipykernel)",
   "language": "python",
   "name": "python3"
  },
  "language_info": {
   "codemirror_mode": {
    "name": "ipython",
    "version": 3
   },
   "file_extension": ".py",
   "mimetype": "text/x-python",
   "name": "python",
   "nbconvert_exporter": "python",
   "pygments_lexer": "ipython3",
   "version": "3.8.8"
  }
 },
 "nbformat": 4,
 "nbformat_minor": 5
}
