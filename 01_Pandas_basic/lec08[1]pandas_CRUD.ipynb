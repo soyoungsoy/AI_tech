{
 "cells": [
  {
   "cell_type": "markdown",
   "id": "bddaf35d-9391-418d-bc66-3e3a1218e109",
   "metadata": {
    "tags": []
   },
   "source": [
    "# **Pandas 2회차**"
   ]
  },
  {
   "cell_type": "code",
   "execution_count": 1,
   "id": "36e4e4be-a42d-4732-bf42-3cd4ff939380",
   "metadata": {},
   "outputs": [],
   "source": [
    "import pandas as pd\n",
    "import numpy as np"
   ]
  },
  {
   "cell_type": "markdown",
   "id": "b75d78d4-b36e-40c7-bf4e-acff667c1710",
   "metadata": {
    "tags": []
   },
   "source": [
    "# SELECT in DataFrame\n",
    "\n",
    "* **loc[줄,칸]** : 값 으로 꺼내기\n",
    "* **iloc[줄,칸]** : index로 꺼내기\n",
    "\n",
    "* [줄,칸]에 들어갈 수 있는 값\n",
    "    - 단일값\n",
    "    - [단일값,단일값,단일값]\n",
    "    - 슬라이싱[ : ]"
   ]
  },
  {
   "cell_type": "markdown",
   "id": "1c44ec26-c674-4853-a18a-f817a665fa20",
   "metadata": {},
   "source": [
    "## SELECT vs SQL"
   ]
  },
  {
   "cell_type": "code",
   "execution_count": 2,
   "id": "384b3bf0-ac28-4565-9eac-9a36c1cd8f3f",
   "metadata": {
    "tags": []
   },
   "outputs": [
    {
     "data": {
      "text/html": [
       "<div>\n",
       "<style scoped>\n",
       "    .dataframe tbody tr th:only-of-type {\n",
       "        vertical-align: middle;\n",
       "    }\n",
       "\n",
       "    .dataframe tbody tr th {\n",
       "        vertical-align: top;\n",
       "    }\n",
       "\n",
       "    .dataframe thead th {\n",
       "        text-align: right;\n",
       "    }\n",
       "</style>\n",
       "<table border=\"1\" class=\"dataframe\">\n",
       "  <thead>\n",
       "    <tr style=\"text-align: right;\">\n",
       "      <th></th>\n",
       "      <th>EMPNO</th>\n",
       "      <th>ENAME</th>\n",
       "      <th>JOB</th>\n",
       "      <th>MGR</th>\n",
       "      <th>HIREDATE</th>\n",
       "      <th>SAL</th>\n",
       "      <th>COMM</th>\n",
       "      <th>DEPTNO</th>\n",
       "    </tr>\n",
       "  </thead>\n",
       "  <tbody>\n",
       "    <tr>\n",
       "      <th>0</th>\n",
       "      <td>7369</td>\n",
       "      <td>SMITH</td>\n",
       "      <td>CLERK</td>\n",
       "      <td>7902.0</td>\n",
       "      <td>1980-12-17</td>\n",
       "      <td>800</td>\n",
       "      <td>NaN</td>\n",
       "      <td>20</td>\n",
       "    </tr>\n",
       "    <tr>\n",
       "      <th>1</th>\n",
       "      <td>7499</td>\n",
       "      <td>ALLEN</td>\n",
       "      <td>SALESMAN</td>\n",
       "      <td>7698.0</td>\n",
       "      <td>1981-02-20</td>\n",
       "      <td>1600</td>\n",
       "      <td>300.0</td>\n",
       "      <td>30</td>\n",
       "    </tr>\n",
       "    <tr>\n",
       "      <th>2</th>\n",
       "      <td>7521</td>\n",
       "      <td>WARD</td>\n",
       "      <td>SALESMAN</td>\n",
       "      <td>7698.0</td>\n",
       "      <td>1981-02-22</td>\n",
       "      <td>1250</td>\n",
       "      <td>500.0</td>\n",
       "      <td>30</td>\n",
       "    </tr>\n",
       "  </tbody>\n",
       "</table>\n",
       "</div>"
      ],
      "text/plain": [
       "   EMPNO  ENAME       JOB     MGR   HIREDATE   SAL   COMM  DEPTNO\n",
       "0   7369  SMITH     CLERK  7902.0 1980-12-17   800    NaN      20\n",
       "1   7499  ALLEN  SALESMAN  7698.0 1981-02-20  1600  300.0      30\n",
       "2   7521   WARD  SALESMAN  7698.0 1981-02-22  1250  500.0      30"
      ]
     },
     "execution_count": 2,
     "metadata": {},
     "output_type": "execute_result"
    }
   ],
   "source": [
    "emp = pd.read_csv(\"./lec08_emp.csv\", parse_dates=['HIREDATE'])\n",
    "emp.head(3)"
   ]
  },
  {
   "cell_type": "code",
   "execution_count": 3,
   "id": "648cd864-916d-4f6a-8b3a-1861c423ffb9",
   "metadata": {
    "tags": []
   },
   "outputs": [],
   "source": [
    "emp.columns.str.lower() #컬럼값 뽑아서 소문자로 바꿔라. 먼저 글자형으로 바꾸고\n",
    "emp.columns = emp.columns.str.lower() #그리고 메모리상이 아닌 변수로 재정의 해줘라"
   ]
  },
  {
   "cell_type": "markdown",
   "id": "a8537a0e-931a-4f7b-ab25-acd77b9eaa69",
   "metadata": {},
   "source": [
    "### **select**\n",
    "    - select * from emp;"
   ]
  },
  {
   "cell_type": "markdown",
   "id": "44529ba0-d753-4967-8990-db44c831c3a5",
   "metadata": {},
   "source": [
    "**기본 문법**\n",
    "\n",
    "* df [단일 컬럼]\n",
    "* df [ [컬럼1], [컬럼2] ]\n",
    "* df [ 조건 ]"
   ]
  },
  {
   "cell_type": "code",
   "execution_count": 4,
   "id": "7e3d0667-8bd1-4f22-802a-411182978489",
   "metadata": {
    "tags": []
   },
   "outputs": [
    {
     "data": {
      "text/html": [
       "<div>\n",
       "<style scoped>\n",
       "    .dataframe tbody tr th:only-of-type {\n",
       "        vertical-align: middle;\n",
       "    }\n",
       "\n",
       "    .dataframe tbody tr th {\n",
       "        vertical-align: top;\n",
       "    }\n",
       "\n",
       "    .dataframe thead th {\n",
       "        text-align: right;\n",
       "    }\n",
       "</style>\n",
       "<table border=\"1\" class=\"dataframe\">\n",
       "  <thead>\n",
       "    <tr style=\"text-align: right;\">\n",
       "      <th></th>\n",
       "      <th>empno</th>\n",
       "      <th>ename</th>\n",
       "      <th>job</th>\n",
       "      <th>mgr</th>\n",
       "      <th>hiredate</th>\n",
       "      <th>sal</th>\n",
       "      <th>comm</th>\n",
       "      <th>deptno</th>\n",
       "    </tr>\n",
       "  </thead>\n",
       "  <tbody>\n",
       "    <tr>\n",
       "      <th>0</th>\n",
       "      <td>7369</td>\n",
       "      <td>SMITH</td>\n",
       "      <td>CLERK</td>\n",
       "      <td>7902.0</td>\n",
       "      <td>1980-12-17</td>\n",
       "      <td>800</td>\n",
       "      <td>NaN</td>\n",
       "      <td>20</td>\n",
       "    </tr>\n",
       "    <tr>\n",
       "      <th>1</th>\n",
       "      <td>7499</td>\n",
       "      <td>ALLEN</td>\n",
       "      <td>SALESMAN</td>\n",
       "      <td>7698.0</td>\n",
       "      <td>1981-02-20</td>\n",
       "      <td>1600</td>\n",
       "      <td>300.0</td>\n",
       "      <td>30</td>\n",
       "    </tr>\n",
       "    <tr>\n",
       "      <th>2</th>\n",
       "      <td>7521</td>\n",
       "      <td>WARD</td>\n",
       "      <td>SALESMAN</td>\n",
       "      <td>7698.0</td>\n",
       "      <td>1981-02-22</td>\n",
       "      <td>1250</td>\n",
       "      <td>500.0</td>\n",
       "      <td>30</td>\n",
       "    </tr>\n",
       "  </tbody>\n",
       "</table>\n",
       "</div>"
      ],
      "text/plain": [
       "   empno  ename       job     mgr   hiredate   sal   comm  deptno\n",
       "0   7369  SMITH     CLERK  7902.0 1980-12-17   800    NaN      20\n",
       "1   7499  ALLEN  SALESMAN  7698.0 1981-02-20  1600  300.0      30\n",
       "2   7521   WARD  SALESMAN  7698.0 1981-02-22  1250  500.0      30"
      ]
     },
     "execution_count": 4,
     "metadata": {},
     "output_type": "execute_result"
    }
   ],
   "source": [
    "emp.head(3) #just dataframe 명을 조회"
   ]
  },
  {
   "cell_type": "markdown",
   "id": "d2cad80b-d018-4a05-8f88-f2ab03b0e6d9",
   "metadata": {},
   "source": [
    "### **컬럼값 select**\n",
    "    - select ename from emp; - 컬럼값 출력"
   ]
  },
  {
   "cell_type": "code",
   "execution_count": 5,
   "id": "3eaddfa2-da14-4dda-85a9-d981ca574f23",
   "metadata": {
    "tags": []
   },
   "outputs": [
    {
     "data": {
      "text/plain": [
       "0      SMITH\n",
       "1      ALLEN\n",
       "2       WARD\n",
       "3      JONES\n",
       "4     MARTIN\n",
       "5      BLAKE\n",
       "6        CCC\n",
       "7      SCOTT\n",
       "8       KING\n",
       "9     TURNER\n",
       "10     ADAMS\n",
       "11     JAMES\n",
       "12      FORD\n",
       "13    MILLER\n",
       "Name: ename, dtype: object"
      ]
     },
     "execution_count": 5,
     "metadata": {},
     "output_type": "execute_result"
    }
   ],
   "source": [
    "emp['ename'] # ename만 출력해라"
   ]
  },
  {
   "cell_type": "markdown",
   "id": "6b603668-9f77-4443-a8c1-76309216346d",
   "metadata": {},
   "source": [
    "---"
   ]
  },
  {
   "cell_type": "markdown",
   "id": "a3f920bc-22ef-413d-a43c-a2648c023d65",
   "metadata": {
    "tags": []
   },
   "source": [
    "### **복수 컬럼값 select**\n",
    "\n",
    "    -select ename, empno from emp;"
   ]
  },
  {
   "cell_type": "code",
   "execution_count": 6,
   "id": "990225a5-fc1d-4393-b12b-1dd87a4cf2ac",
   "metadata": {
    "tags": []
   },
   "outputs": [
    {
     "data": {
      "text/html": [
       "<div>\n",
       "<style scoped>\n",
       "    .dataframe tbody tr th:only-of-type {\n",
       "        vertical-align: middle;\n",
       "    }\n",
       "\n",
       "    .dataframe tbody tr th {\n",
       "        vertical-align: top;\n",
       "    }\n",
       "\n",
       "    .dataframe thead th {\n",
       "        text-align: right;\n",
       "    }\n",
       "</style>\n",
       "<table border=\"1\" class=\"dataframe\">\n",
       "  <thead>\n",
       "    <tr style=\"text-align: right;\">\n",
       "      <th></th>\n",
       "      <th>ename</th>\n",
       "      <th>empno</th>\n",
       "    </tr>\n",
       "  </thead>\n",
       "  <tbody>\n",
       "    <tr>\n",
       "      <th>0</th>\n",
       "      <td>SMITH</td>\n",
       "      <td>7369</td>\n",
       "    </tr>\n",
       "    <tr>\n",
       "      <th>1</th>\n",
       "      <td>ALLEN</td>\n",
       "      <td>7499</td>\n",
       "    </tr>\n",
       "    <tr>\n",
       "      <th>2</th>\n",
       "      <td>WARD</td>\n",
       "      <td>7521</td>\n",
       "    </tr>\n",
       "  </tbody>\n",
       "</table>\n",
       "</div>"
      ],
      "text/plain": [
       "   ename  empno\n",
       "0  SMITH   7369\n",
       "1  ALLEN   7499\n",
       "2   WARD   7521"
      ]
     },
     "execution_count": 6,
     "metadata": {},
     "output_type": "execute_result"
    }
   ],
   "source": [
    "emp[['ename','empno']].head(3) #떼거지는 []로 묶는다. df명[['...','...']]"
   ]
  },
  {
   "cell_type": "markdown",
   "id": "79d7524f-182b-419a-91f3-4c2a4d3c4007",
   "metadata": {},
   "source": [
    "***"
   ]
  },
  {
   "cell_type": "markdown",
   "id": "167dc9c6-44c5-452d-98dd-4471e610b43c",
   "metadata": {},
   "source": [
    "## loc 와 iloc\n",
    "\n",
    "* **loc[줄,칸]** : 값 으로 꺼내기 ★★ 주의 : 이상, 미만\n",
    "* **iloc[줄,칸]** : index로 꺼내기 ★★ 주의 : 이상, 이하\n",
    "\n",
    "* [줄,칸]에 들어갈 수 있는 값\n",
    "    - df.iloc[단일값]\n",
    "    - df.iloc[단일값,단일값,단일값]\n",
    "    - df.iloc[ : ] 슬라이싱"
   ]
  },
  {
   "cell_type": "markdown",
   "id": "1d8238e9-5b5f-47e2-b355-059b718a2fe1",
   "metadata": {},
   "source": [
    "### **iloc 예제**"
   ]
  },
  {
   "cell_type": "code",
   "execution_count": 7,
   "id": "3f1a70c1-bfd2-4cde-ac6a-4b5a1f41dee5",
   "metadata": {
    "tags": []
   },
   "outputs": [
    {
     "data": {
      "text/plain": [
       "empno                      7369\n",
       "ename                     SMITH\n",
       "job                       CLERK\n",
       "mgr                      7902.0\n",
       "hiredate    1980-12-17 00:00:00\n",
       "sal                         800\n",
       "comm                        NaN\n",
       "deptno                       20\n",
       "Name: 0, dtype: object"
      ]
     },
     "execution_count": 7,
     "metadata": {},
     "output_type": "execute_result"
    }
   ],
   "source": [
    "emp.iloc[0] \n",
    "\n",
    "#한 줄만 가져오기(한 줄은 리턴타입이 시리즈 데이터)\n",
    "#줄 단일값"
   ]
  },
  {
   "cell_type": "code",
   "execution_count": 8,
   "id": "60fc7f8b-4012-4316-86e7-75326f6ffc5f",
   "metadata": {
    "tags": []
   },
   "outputs": [
    {
     "data": {
      "text/html": [
       "<div>\n",
       "<style scoped>\n",
       "    .dataframe tbody tr th:only-of-type {\n",
       "        vertical-align: middle;\n",
       "    }\n",
       "\n",
       "    .dataframe tbody tr th {\n",
       "        vertical-align: top;\n",
       "    }\n",
       "\n",
       "    .dataframe thead th {\n",
       "        text-align: right;\n",
       "    }\n",
       "</style>\n",
       "<table border=\"1\" class=\"dataframe\">\n",
       "  <thead>\n",
       "    <tr style=\"text-align: right;\">\n",
       "      <th></th>\n",
       "      <th>empno</th>\n",
       "      <th>ename</th>\n",
       "      <th>job</th>\n",
       "      <th>mgr</th>\n",
       "      <th>hiredate</th>\n",
       "      <th>sal</th>\n",
       "      <th>comm</th>\n",
       "      <th>deptno</th>\n",
       "    </tr>\n",
       "  </thead>\n",
       "  <tbody>\n",
       "    <tr>\n",
       "      <th>0</th>\n",
       "      <td>7369</td>\n",
       "      <td>SMITH</td>\n",
       "      <td>CLERK</td>\n",
       "      <td>7902.0</td>\n",
       "      <td>1980-12-17</td>\n",
       "      <td>800</td>\n",
       "      <td>NaN</td>\n",
       "      <td>20</td>\n",
       "    </tr>\n",
       "    <tr>\n",
       "      <th>1</th>\n",
       "      <td>7499</td>\n",
       "      <td>ALLEN</td>\n",
       "      <td>SALESMAN</td>\n",
       "      <td>7698.0</td>\n",
       "      <td>1981-02-20</td>\n",
       "      <td>1600</td>\n",
       "      <td>300.0</td>\n",
       "      <td>30</td>\n",
       "    </tr>\n",
       "  </tbody>\n",
       "</table>\n",
       "</div>"
      ],
      "text/plain": [
       "   empno  ename       job     mgr   hiredate   sal   comm  deptno\n",
       "0   7369  SMITH     CLERK  7902.0 1980-12-17   800    NaN      20\n",
       "1   7499  ALLEN  SALESMAN  7698.0 1981-02-20  1600  300.0      30"
      ]
     },
     "execution_count": 8,
     "metadata": {},
     "output_type": "execute_result"
    }
   ],
   "source": [
    "emp.iloc[ [0,1] ] \n",
    "\n",
    "#2줄 가져오기(2줄은 리턴타입이 데이터프레임)\n",
    "#줄 [단일값, 단일값]"
   ]
  },
  {
   "cell_type": "code",
   "execution_count": 9,
   "id": "ddb309ba-de45-4f3d-b96b-771de914c982",
   "metadata": {
    "tags": []
   },
   "outputs": [
    {
     "data": {
      "text/html": [
       "<div>\n",
       "<style scoped>\n",
       "    .dataframe tbody tr th:only-of-type {\n",
       "        vertical-align: middle;\n",
       "    }\n",
       "\n",
       "    .dataframe tbody tr th {\n",
       "        vertical-align: top;\n",
       "    }\n",
       "\n",
       "    .dataframe thead th {\n",
       "        text-align: right;\n",
       "    }\n",
       "</style>\n",
       "<table border=\"1\" class=\"dataframe\">\n",
       "  <thead>\n",
       "    <tr style=\"text-align: right;\">\n",
       "      <th></th>\n",
       "      <th>empno</th>\n",
       "      <th>ename</th>\n",
       "      <th>job</th>\n",
       "      <th>mgr</th>\n",
       "      <th>hiredate</th>\n",
       "      <th>sal</th>\n",
       "      <th>comm</th>\n",
       "      <th>deptno</th>\n",
       "    </tr>\n",
       "  </thead>\n",
       "  <tbody>\n",
       "    <tr>\n",
       "      <th>0</th>\n",
       "      <td>7369</td>\n",
       "      <td>SMITH</td>\n",
       "      <td>CLERK</td>\n",
       "      <td>7902.0</td>\n",
       "      <td>1980-12-17</td>\n",
       "      <td>800</td>\n",
       "      <td>NaN</td>\n",
       "      <td>20</td>\n",
       "    </tr>\n",
       "    <tr>\n",
       "      <th>3</th>\n",
       "      <td>7566</td>\n",
       "      <td>JONES</td>\n",
       "      <td>MANAGER</td>\n",
       "      <td>7839.0</td>\n",
       "      <td>1981-04-02</td>\n",
       "      <td>2975</td>\n",
       "      <td>NaN</td>\n",
       "      <td>20</td>\n",
       "    </tr>\n",
       "    <tr>\n",
       "      <th>5</th>\n",
       "      <td>7698</td>\n",
       "      <td>BLAKE</td>\n",
       "      <td>MANAGER</td>\n",
       "      <td>7839.0</td>\n",
       "      <td>1981-05-01</td>\n",
       "      <td>2850</td>\n",
       "      <td>NaN</td>\n",
       "      <td>30</td>\n",
       "    </tr>\n",
       "  </tbody>\n",
       "</table>\n",
       "</div>"
      ],
      "text/plain": [
       "   empno  ename      job     mgr   hiredate   sal  comm  deptno\n",
       "0   7369  SMITH    CLERK  7902.0 1980-12-17   800   NaN      20\n",
       "3   7566  JONES  MANAGER  7839.0 1981-04-02  2975   NaN      20\n",
       "5   7698  BLAKE  MANAGER  7839.0 1981-05-01  2850   NaN      30"
      ]
     },
     "execution_count": 9,
     "metadata": {},
     "output_type": "execute_result"
    }
   ],
   "source": [
    "emp.iloc[ [0,3,5] ] \n",
    "\n",
    "#3줄 가져오기 (줄(행=값)에 대해서만 가져와)\n",
    "#줄 [단일값, 단일값, 단일값]"
   ]
  },
  {
   "cell_type": "markdown",
   "id": "9f6c5cf2-fd21-4de3-bf07-6f113ba7fb34",
   "metadata": {},
   "source": [
    ">**칸 가져오기**"
   ]
  },
  {
   "cell_type": "code",
   "execution_count": 10,
   "id": "01d0be6e-719d-48f8-a2e4-8a58ea0b8f83",
   "metadata": {
    "tags": []
   },
   "outputs": [
    {
     "data": {
      "text/plain": [
       "7369"
      ]
     },
     "execution_count": 10,
     "metadata": {},
     "output_type": "execute_result"
    }
   ],
   "source": [
    "emp.iloc[0 , 0]\n",
    "\n",
    "#0(1)번째 행의 0(1)열 가져와 / 줄 단일값, 칸 단일값"
   ]
  },
  {
   "cell_type": "code",
   "execution_count": 11,
   "id": "1a74a350-3643-4c68-93cb-1c506caaa7a9",
   "metadata": {
    "tags": []
   },
   "outputs": [
    {
     "data": {
      "text/plain": [
       "empno     7369\n",
       "ename    SMITH\n",
       "Name: 0, dtype: object"
      ]
     },
     "execution_count": 11,
     "metadata": {},
     "output_type": "execute_result"
    }
   ],
   "source": [
    "emp.iloc[0 , [0,1]]\n",
    "\n",
    "# 0번째 행에서 0,1열 가져와 / 줄 단일값, 칸 복수값"
   ]
  },
  {
   "cell_type": "code",
   "execution_count": 12,
   "id": "8967c8e6-2884-48b3-abbf-de15f4473e65",
   "metadata": {
    "tags": []
   },
   "outputs": [
    {
     "data": {
      "text/html": [
       "<div>\n",
       "<style scoped>\n",
       "    .dataframe tbody tr th:only-of-type {\n",
       "        vertical-align: middle;\n",
       "    }\n",
       "\n",
       "    .dataframe tbody tr th {\n",
       "        vertical-align: top;\n",
       "    }\n",
       "\n",
       "    .dataframe thead th {\n",
       "        text-align: right;\n",
       "    }\n",
       "</style>\n",
       "<table border=\"1\" class=\"dataframe\">\n",
       "  <thead>\n",
       "    <tr style=\"text-align: right;\">\n",
       "      <th></th>\n",
       "      <th>empno</th>\n",
       "      <th>ename</th>\n",
       "    </tr>\n",
       "  </thead>\n",
       "  <tbody>\n",
       "    <tr>\n",
       "      <th>0</th>\n",
       "      <td>7369</td>\n",
       "      <td>SMITH</td>\n",
       "    </tr>\n",
       "    <tr>\n",
       "      <th>1</th>\n",
       "      <td>7499</td>\n",
       "      <td>ALLEN</td>\n",
       "    </tr>\n",
       "    <tr>\n",
       "      <th>2</th>\n",
       "      <td>7521</td>\n",
       "      <td>WARD</td>\n",
       "    </tr>\n",
       "  </tbody>\n",
       "</table>\n",
       "</div>"
      ],
      "text/plain": [
       "   empno  ename\n",
       "0   7369  SMITH\n",
       "1   7499  ALLEN\n",
       "2   7521   WARD"
      ]
     },
     "execution_count": 12,
     "metadata": {},
     "output_type": "execute_result"
    }
   ],
   "source": [
    "emp.iloc[[0,1,2] , [0,1]]\n",
    "\n",
    "# 0,1,2번 행에서 0,1열 가져와 / 줄 복수값, 칸 복수값"
   ]
  },
  {
   "cell_type": "markdown",
   "id": "5fb62cec-172a-48c8-9ab6-146b30b9651c",
   "metadata": {},
   "source": [
    ">**슬라이싱**"
   ]
  },
  {
   "cell_type": "code",
   "execution_count": 13,
   "id": "4d76e087-31c5-45f4-ba9b-df1d2c922e7a",
   "metadata": {
    "tags": []
   },
   "outputs": [
    {
     "data": {
      "text/html": [
       "<div>\n",
       "<style scoped>\n",
       "    .dataframe tbody tr th:only-of-type {\n",
       "        vertical-align: middle;\n",
       "    }\n",
       "\n",
       "    .dataframe tbody tr th {\n",
       "        vertical-align: top;\n",
       "    }\n",
       "\n",
       "    .dataframe thead th {\n",
       "        text-align: right;\n",
       "    }\n",
       "</style>\n",
       "<table border=\"1\" class=\"dataframe\">\n",
       "  <thead>\n",
       "    <tr style=\"text-align: right;\">\n",
       "      <th></th>\n",
       "      <th>empno</th>\n",
       "      <th>ename</th>\n",
       "      <th>job</th>\n",
       "      <th>mgr</th>\n",
       "      <th>hiredate</th>\n",
       "      <th>sal</th>\n",
       "      <th>comm</th>\n",
       "      <th>deptno</th>\n",
       "    </tr>\n",
       "  </thead>\n",
       "  <tbody>\n",
       "    <tr>\n",
       "      <th>0</th>\n",
       "      <td>7369</td>\n",
       "      <td>SMITH</td>\n",
       "      <td>CLERK</td>\n",
       "      <td>7902.0</td>\n",
       "      <td>1980-12-17</td>\n",
       "      <td>800</td>\n",
       "      <td>NaN</td>\n",
       "      <td>20</td>\n",
       "    </tr>\n",
       "    <tr>\n",
       "      <th>1</th>\n",
       "      <td>7499</td>\n",
       "      <td>ALLEN</td>\n",
       "      <td>SALESMAN</td>\n",
       "      <td>7698.0</td>\n",
       "      <td>1981-02-20</td>\n",
       "      <td>1600</td>\n",
       "      <td>300.0</td>\n",
       "      <td>30</td>\n",
       "    </tr>\n",
       "    <tr>\n",
       "      <th>2</th>\n",
       "      <td>7521</td>\n",
       "      <td>WARD</td>\n",
       "      <td>SALESMAN</td>\n",
       "      <td>7698.0</td>\n",
       "      <td>1981-02-22</td>\n",
       "      <td>1250</td>\n",
       "      <td>500.0</td>\n",
       "      <td>30</td>\n",
       "    </tr>\n",
       "  </tbody>\n",
       "</table>\n",
       "</div>"
      ],
      "text/plain": [
       "   empno  ename       job     mgr   hiredate   sal   comm  deptno\n",
       "0   7369  SMITH     CLERK  7902.0 1980-12-17   800    NaN      20\n",
       "1   7499  ALLEN  SALESMAN  7698.0 1981-02-20  1600  300.0      30\n",
       "2   7521   WARD  SALESMAN  7698.0 1981-02-22  1250  500.0      30"
      ]
     },
     "execution_count": 13,
     "metadata": {},
     "output_type": "execute_result"
    }
   ],
   "source": [
    "# emp.iloc[ 줄, 칸 ]\n",
    "emp.iloc[ 0 : 3 ] #줄에 대해 슬라이싱"
   ]
  },
  {
   "cell_type": "code",
   "execution_count": 14,
   "id": "b3e08bca-e6bb-4ed7-b8b9-52c2442b7573",
   "metadata": {
    "tags": []
   },
   "outputs": [
    {
     "data": {
      "text/html": [
       "<div>\n",
       "<style scoped>\n",
       "    .dataframe tbody tr th:only-of-type {\n",
       "        vertical-align: middle;\n",
       "    }\n",
       "\n",
       "    .dataframe tbody tr th {\n",
       "        vertical-align: top;\n",
       "    }\n",
       "\n",
       "    .dataframe thead th {\n",
       "        text-align: right;\n",
       "    }\n",
       "</style>\n",
       "<table border=\"1\" class=\"dataframe\">\n",
       "  <thead>\n",
       "    <tr style=\"text-align: right;\">\n",
       "      <th></th>\n",
       "      <th>ename</th>\n",
       "      <th>job</th>\n",
       "      <th>mgr</th>\n",
       "    </tr>\n",
       "  </thead>\n",
       "  <tbody>\n",
       "    <tr>\n",
       "      <th>0</th>\n",
       "      <td>SMITH</td>\n",
       "      <td>CLERK</td>\n",
       "      <td>7902.0</td>\n",
       "    </tr>\n",
       "    <tr>\n",
       "      <th>1</th>\n",
       "      <td>ALLEN</td>\n",
       "      <td>SALESMAN</td>\n",
       "      <td>7698.0</td>\n",
       "    </tr>\n",
       "    <tr>\n",
       "      <th>2</th>\n",
       "      <td>WARD</td>\n",
       "      <td>SALESMAN</td>\n",
       "      <td>7698.0</td>\n",
       "    </tr>\n",
       "  </tbody>\n",
       "</table>\n",
       "</div>"
      ],
      "text/plain": [
       "   ename       job     mgr\n",
       "0  SMITH     CLERK  7902.0\n",
       "1  ALLEN  SALESMAN  7698.0\n",
       "2   WARD  SALESMAN  7698.0"
      ]
     },
     "execution_count": 14,
     "metadata": {},
     "output_type": "execute_result"
    }
   ],
   "source": [
    "emp.iloc[ 0 : 3 , 1 : 4] #줄 슬라이싱, 칸 슬라이싱"
   ]
  },
  {
   "cell_type": "code",
   "execution_count": 15,
   "id": "f95150e9-92e0-4b98-a976-3540baf520ff",
   "metadata": {
    "tags": []
   },
   "outputs": [
    {
     "data": {
      "text/html": [
       "<div>\n",
       "<style scoped>\n",
       "    .dataframe tbody tr th:only-of-type {\n",
       "        vertical-align: middle;\n",
       "    }\n",
       "\n",
       "    .dataframe tbody tr th {\n",
       "        vertical-align: top;\n",
       "    }\n",
       "\n",
       "    .dataframe thead th {\n",
       "        text-align: right;\n",
       "    }\n",
       "</style>\n",
       "<table border=\"1\" class=\"dataframe\">\n",
       "  <thead>\n",
       "    <tr style=\"text-align: right;\">\n",
       "      <th></th>\n",
       "      <th>ename</th>\n",
       "      <th>job</th>\n",
       "      <th>mgr</th>\n",
       "    </tr>\n",
       "  </thead>\n",
       "  <tbody>\n",
       "    <tr>\n",
       "      <th>0</th>\n",
       "      <td>SMITH</td>\n",
       "      <td>CLERK</td>\n",
       "      <td>7902.0</td>\n",
       "    </tr>\n",
       "    <tr>\n",
       "      <th>2</th>\n",
       "      <td>WARD</td>\n",
       "      <td>SALESMAN</td>\n",
       "      <td>7698.0</td>\n",
       "    </tr>\n",
       "    <tr>\n",
       "      <th>5</th>\n",
       "      <td>BLAKE</td>\n",
       "      <td>MANAGER</td>\n",
       "      <td>7839.0</td>\n",
       "    </tr>\n",
       "  </tbody>\n",
       "</table>\n",
       "</div>"
      ],
      "text/plain": [
       "   ename       job     mgr\n",
       "0  SMITH     CLERK  7902.0\n",
       "2   WARD  SALESMAN  7698.0\n",
       "5  BLAKE   MANAGER  7839.0"
      ]
     },
     "execution_count": 15,
     "metadata": {},
     "output_type": "execute_result"
    }
   ],
   "source": [
    "emp.iloc[ [0,2,5] , 1 : 4] #줄 [단일값,단일값,단일값], 칸 슬라이싱"
   ]
  },
  {
   "cell_type": "markdown",
   "id": "ecadbead-247e-41a3-931e-1b132e997df6",
   "metadata": {},
   "source": [
    "***"
   ]
  },
  {
   "cell_type": "markdown",
   "id": "e6187d5e-1893-4c45-bd2a-de2f538903ab",
   "metadata": {},
   "source": [
    "***"
   ]
  },
  {
   "cell_type": "markdown",
   "id": "4c83e15e-3545-42a3-9cf9-c7efe01ac484",
   "metadata": {},
   "source": [
    "### **loc 예제**"
   ]
  },
  {
   "cell_type": "markdown",
   "id": "3e02d4e3-1579-4922-b541-888f8c6bf473",
   "metadata": {},
   "source": [
    "**★★★    loc은 값에 의한 접근    ★★★**"
   ]
  },
  {
   "cell_type": "markdown",
   "id": "27e1dd29-32fd-4770-9ea5-c800ef815800",
   "metadata": {},
   "source": [
    ">df.loc[줄의 값, 칸의 값] : 이 때의 줄의 값이라는 것은 인덱스의 값이다."
   ]
  },
  {
   "cell_type": "code",
   "execution_count": 16,
   "id": "18fffefd-0d90-426f-8820-4cbe661f919d",
   "metadata": {
    "tags": []
   },
   "outputs": [
    {
     "name": "stdout",
     "output_type": "stream",
     "text": [
      "    empno   ename        job     mgr   hiredate   sal    comm  deptno\n",
      "0    7369   SMITH      CLERK  7902.0 1980-12-17   800     NaN      20\n",
      "1    7499   ALLEN   SALESMAN  7698.0 1981-02-20  1600   300.0      30\n",
      "2    7521    WARD   SALESMAN  7698.0 1981-02-22  1250   500.0      30\n",
      "3    7566   JONES    MANAGER  7839.0 1981-04-02  2975     NaN      20\n",
      "4    7654  MARTIN   SALESMAN  7698.0 1981-09-28  1250  1400.0      30\n",
      "5    7698   BLAKE    MANAGER  7839.0 1981-05-01  2850     NaN      30\n",
      "6    7782     CCC    MANAGER  7839.0 1981-06-09  2450     NaN      10\n",
      "7    7788   SCOTT    ANALYST  7566.0 1987-07-13  3000     NaN      20\n",
      "8    7839    KING  PRESIDENT     NaN 1981-11-17  5000     NaN      10\n",
      "9    7844  TURNER   SALESMAN  7698.0 1981-09-08  1500     0.0      30\n",
      "10   7876   ADAMS      CLERK  7788.0 1987-07-13  1100     NaN      20\n",
      "11   7900   JAMES      CLERK  7698.0 1981-12-03   950     NaN      30\n",
      "12   7902    FORD    ANALYST  7566.0 1981-12-03  3000     NaN      20\n",
      "13   7934  MILLER      CLERK  7782.0 1982-01-23  1300     NaN      10\n"
     ]
    },
    {
     "data": {
      "text/plain": [
       "1    7499\n",
       "2    7521\n",
       "3    7566\n",
       "Name: empno, dtype: int64"
      ]
     },
     "execution_count": 16,
     "metadata": {},
     "output_type": "execute_result"
    }
   ],
   "source": [
    "print(emp)\n",
    "emp.loc[[1,2,3],'empno'] #1,2,3 인덱스의 empno 값을 가져와라"
   ]
  },
  {
   "cell_type": "code",
   "execution_count": 17,
   "id": "76a99523-f06f-4a55-826d-945d563b3abe",
   "metadata": {
    "tags": []
   },
   "outputs": [
    {
     "data": {
      "text/html": [
       "<div>\n",
       "<style scoped>\n",
       "    .dataframe tbody tr th:only-of-type {\n",
       "        vertical-align: middle;\n",
       "    }\n",
       "\n",
       "    .dataframe tbody tr th {\n",
       "        vertical-align: top;\n",
       "    }\n",
       "\n",
       "    .dataframe thead th {\n",
       "        text-align: right;\n",
       "    }\n",
       "</style>\n",
       "<table border=\"1\" class=\"dataframe\">\n",
       "  <thead>\n",
       "    <tr style=\"text-align: right;\">\n",
       "      <th></th>\n",
       "      <th>empno</th>\n",
       "      <th>ename</th>\n",
       "    </tr>\n",
       "  </thead>\n",
       "  <tbody>\n",
       "    <tr>\n",
       "      <th>1</th>\n",
       "      <td>7499</td>\n",
       "      <td>ALLEN</td>\n",
       "    </tr>\n",
       "    <tr>\n",
       "      <th>2</th>\n",
       "      <td>7521</td>\n",
       "      <td>WARD</td>\n",
       "    </tr>\n",
       "    <tr>\n",
       "      <th>3</th>\n",
       "      <td>7566</td>\n",
       "      <td>JONES</td>\n",
       "    </tr>\n",
       "  </tbody>\n",
       "</table>\n",
       "</div>"
      ],
      "text/plain": [
       "   empno  ename\n",
       "1   7499  ALLEN\n",
       "2   7521   WARD\n",
       "3   7566  JONES"
      ]
     },
     "execution_count": 17,
     "metadata": {},
     "output_type": "execute_result"
    }
   ],
   "source": [
    "emp.loc[[1,2,3],['empno','ename']] #1,2,3 인덱스의 empno,ename 값을 가져와라"
   ]
  },
  {
   "cell_type": "markdown",
   "id": "6d63d39c-042e-4385-8cbe-d009f15068a3",
   "metadata": {},
   "source": [
    "**★★★ loc으로 슬라이싱 시, 미만이 아니다. 주의 ★★★**  \n",
    "**★★★ loc과 iloc은 혼용 불가이다. ★★★**"
   ]
  },
  {
   "cell_type": "code",
   "execution_count": 18,
   "id": "8ed748ac-31ce-4493-9eee-2c3e4f54fc52",
   "metadata": {
    "tags": []
   },
   "outputs": [
    {
     "data": {
      "text/html": [
       "<div>\n",
       "<style scoped>\n",
       "    .dataframe tbody tr th:only-of-type {\n",
       "        vertical-align: middle;\n",
       "    }\n",
       "\n",
       "    .dataframe tbody tr th {\n",
       "        vertical-align: top;\n",
       "    }\n",
       "\n",
       "    .dataframe thead th {\n",
       "        text-align: right;\n",
       "    }\n",
       "</style>\n",
       "<table border=\"1\" class=\"dataframe\">\n",
       "  <thead>\n",
       "    <tr style=\"text-align: right;\">\n",
       "      <th></th>\n",
       "      <th>empno</th>\n",
       "      <th>ename</th>\n",
       "      <th>job</th>\n",
       "      <th>mgr</th>\n",
       "    </tr>\n",
       "  </thead>\n",
       "  <tbody>\n",
       "    <tr>\n",
       "      <th>0</th>\n",
       "      <td>7369</td>\n",
       "      <td>SMITH</td>\n",
       "      <td>CLERK</td>\n",
       "      <td>7902.0</td>\n",
       "    </tr>\n",
       "    <tr>\n",
       "      <th>1</th>\n",
       "      <td>7499</td>\n",
       "      <td>ALLEN</td>\n",
       "      <td>SALESMAN</td>\n",
       "      <td>7698.0</td>\n",
       "    </tr>\n",
       "    <tr>\n",
       "      <th>2</th>\n",
       "      <td>7521</td>\n",
       "      <td>WARD</td>\n",
       "      <td>SALESMAN</td>\n",
       "      <td>7698.0</td>\n",
       "    </tr>\n",
       "    <tr>\n",
       "      <th>3</th>\n",
       "      <td>7566</td>\n",
       "      <td>JONES</td>\n",
       "      <td>MANAGER</td>\n",
       "      <td>7839.0</td>\n",
       "    </tr>\n",
       "  </tbody>\n",
       "</table>\n",
       "</div>"
      ],
      "text/plain": [
       "   empno  ename       job     mgr\n",
       "0   7369  SMITH     CLERK  7902.0\n",
       "1   7499  ALLEN  SALESMAN  7698.0\n",
       "2   7521   WARD  SALESMAN  7698.0\n",
       "3   7566  JONES   MANAGER  7839.0"
      ]
     },
     "execution_count": 18,
     "metadata": {},
     "output_type": "execute_result"
    }
   ],
   "source": [
    "emp.loc[0:3, 'empno':'mgr'] #값은 미만이 아니라 포함이다. 0,1,2,3 인덱스의 empno부터 mgr까지 불러줘. "
   ]
  },
  {
   "cell_type": "code",
   "execution_count": 19,
   "id": "a8ae398a-1dd8-4a57-b424-215f23a45564",
   "metadata": {
    "tags": []
   },
   "outputs": [
    {
     "data": {
      "text/html": [
       "<div>\n",
       "<style scoped>\n",
       "    .dataframe tbody tr th:only-of-type {\n",
       "        vertical-align: middle;\n",
       "    }\n",
       "\n",
       "    .dataframe tbody tr th {\n",
       "        vertical-align: top;\n",
       "    }\n",
       "\n",
       "    .dataframe thead th {\n",
       "        text-align: right;\n",
       "    }\n",
       "</style>\n",
       "<table border=\"1\" class=\"dataframe\">\n",
       "  <thead>\n",
       "    <tr style=\"text-align: right;\">\n",
       "      <th></th>\n",
       "      <th>job</th>\n",
       "      <th>mgr</th>\n",
       "      <th>hiredate</th>\n",
       "    </tr>\n",
       "  </thead>\n",
       "  <tbody>\n",
       "    <tr>\n",
       "      <th>1</th>\n",
       "      <td>SALESMAN</td>\n",
       "      <td>7698.0</td>\n",
       "      <td>1981-02-20</td>\n",
       "    </tr>\n",
       "    <tr>\n",
       "      <th>2</th>\n",
       "      <td>SALESMAN</td>\n",
       "      <td>7698.0</td>\n",
       "      <td>1981-02-22</td>\n",
       "    </tr>\n",
       "    <tr>\n",
       "      <th>3</th>\n",
       "      <td>MANAGER</td>\n",
       "      <td>7839.0</td>\n",
       "      <td>1981-04-02</td>\n",
       "    </tr>\n",
       "    <tr>\n",
       "      <th>4</th>\n",
       "      <td>SALESMAN</td>\n",
       "      <td>7698.0</td>\n",
       "      <td>1981-09-28</td>\n",
       "    </tr>\n",
       "  </tbody>\n",
       "</table>\n",
       "</div>"
      ],
      "text/plain": [
       "        job     mgr   hiredate\n",
       "1  SALESMAN  7698.0 1981-02-20\n",
       "2  SALESMAN  7698.0 1981-02-22\n",
       "3   MANAGER  7839.0 1981-04-02\n",
       "4  SALESMAN  7698.0 1981-09-28"
      ]
     },
     "execution_count": 19,
     "metadata": {},
     "output_type": "execute_result"
    }
   ],
   "source": [
    "#예제\n",
    "\n",
    "emp.loc[1:4,'job':'hiredate']\n",
    "# emp.iloc[1:5, 2:5] iloc은 인덱스이기 때문에 무조건 숫자로만. loc은 값이기 때문에 값도 슬라이싱 할 수 있는 것."
   ]
  },
  {
   "cell_type": "markdown",
   "id": "49709eab-afb5-4349-9964-3fae911b3eaf",
   "metadata": {},
   "source": [
    "***"
   ]
  },
  {
   "cell_type": "markdown",
   "id": "cdf5806b-b976-47f1-9171-ec35420d1b66",
   "metadata": {},
   "source": [
    "## where 조건\n",
    "    - df [조건부] ★★★★★★★★★★★★\n",
    "    - df [조건부][컬럼명] : 조건을 만족하는 컬럼\n",
    "    - df [컬럼명][조건부] : 조건, 컬럼 순서 바뀌어도 상관없다.\n",
    "    - 항상 df[조건][컬럼] 이 수식을 만들어놓고 코딩을 해라. 안그러면 햇갈림"
   ]
  },
  {
   "cell_type": "markdown",
   "id": "417b58af-8e3b-4dfa-83cf-0f67a73e666d",
   "metadata": {},
   "source": [
    "### 기본예제"
   ]
  },
  {
   "cell_type": "markdown",
   "id": "7438e5e7-e2f2-417f-bb50-5ca685594974",
   "metadata": {},
   "source": [
    ">select * from emp where deptno = 10;"
   ]
  },
  {
   "cell_type": "code",
   "execution_count": 20,
   "id": "206eb770-21fc-4d63-aa77-3b1e6665e74b",
   "metadata": {
    "tags": []
   },
   "outputs": [
    {
     "data": {
      "text/html": [
       "<div>\n",
       "<style scoped>\n",
       "    .dataframe tbody tr th:only-of-type {\n",
       "        vertical-align: middle;\n",
       "    }\n",
       "\n",
       "    .dataframe tbody tr th {\n",
       "        vertical-align: top;\n",
       "    }\n",
       "\n",
       "    .dataframe thead th {\n",
       "        text-align: right;\n",
       "    }\n",
       "</style>\n",
       "<table border=\"1\" class=\"dataframe\">\n",
       "  <thead>\n",
       "    <tr style=\"text-align: right;\">\n",
       "      <th></th>\n",
       "      <th>empno</th>\n",
       "      <th>ename</th>\n",
       "      <th>job</th>\n",
       "      <th>mgr</th>\n",
       "      <th>hiredate</th>\n",
       "      <th>sal</th>\n",
       "      <th>comm</th>\n",
       "      <th>deptno</th>\n",
       "    </tr>\n",
       "  </thead>\n",
       "  <tbody>\n",
       "    <tr>\n",
       "      <th>6</th>\n",
       "      <td>7782</td>\n",
       "      <td>CCC</td>\n",
       "      <td>MANAGER</td>\n",
       "      <td>7839.0</td>\n",
       "      <td>1981-06-09</td>\n",
       "      <td>2450</td>\n",
       "      <td>NaN</td>\n",
       "      <td>10</td>\n",
       "    </tr>\n",
       "    <tr>\n",
       "      <th>8</th>\n",
       "      <td>7839</td>\n",
       "      <td>KING</td>\n",
       "      <td>PRESIDENT</td>\n",
       "      <td>NaN</td>\n",
       "      <td>1981-11-17</td>\n",
       "      <td>5000</td>\n",
       "      <td>NaN</td>\n",
       "      <td>10</td>\n",
       "    </tr>\n",
       "    <tr>\n",
       "      <th>13</th>\n",
       "      <td>7934</td>\n",
       "      <td>MILLER</td>\n",
       "      <td>CLERK</td>\n",
       "      <td>7782.0</td>\n",
       "      <td>1982-01-23</td>\n",
       "      <td>1300</td>\n",
       "      <td>NaN</td>\n",
       "      <td>10</td>\n",
       "    </tr>\n",
       "  </tbody>\n",
       "</table>\n",
       "</div>"
      ],
      "text/plain": [
       "    empno   ename        job     mgr   hiredate   sal  comm  deptno\n",
       "6    7782     CCC    MANAGER  7839.0 1981-06-09  2450   NaN      10\n",
       "8    7839    KING  PRESIDENT     NaN 1981-11-17  5000   NaN      10\n",
       "13   7934  MILLER      CLERK  7782.0 1982-01-23  1300   NaN      10"
      ]
     },
     "execution_count": 20,
     "metadata": {},
     "output_type": "execute_result"
    }
   ],
   "source": [
    "emp[emp['deptno']==10] # '='한개만 쓰면 수정이 된다. 유의"
   ]
  },
  {
   "cell_type": "markdown",
   "id": "8c70a0f8-605c-4e5f-bec0-67233eb93f0e",
   "metadata": {},
   "source": [
    "> select empno, ename from emp where deptno = 10; "
   ]
  },
  {
   "cell_type": "code",
   "execution_count": 21,
   "id": "90cc1824-aee8-42ef-92f8-49c1b0373488",
   "metadata": {
    "tags": []
   },
   "outputs": [
    {
     "data": {
      "text/html": [
       "<div>\n",
       "<style scoped>\n",
       "    .dataframe tbody tr th:only-of-type {\n",
       "        vertical-align: middle;\n",
       "    }\n",
       "\n",
       "    .dataframe tbody tr th {\n",
       "        vertical-align: top;\n",
       "    }\n",
       "\n",
       "    .dataframe thead th {\n",
       "        text-align: right;\n",
       "    }\n",
       "</style>\n",
       "<table border=\"1\" class=\"dataframe\">\n",
       "  <thead>\n",
       "    <tr style=\"text-align: right;\">\n",
       "      <th></th>\n",
       "      <th>empno</th>\n",
       "      <th>ename</th>\n",
       "    </tr>\n",
       "  </thead>\n",
       "  <tbody>\n",
       "    <tr>\n",
       "      <th>6</th>\n",
       "      <td>7782</td>\n",
       "      <td>CCC</td>\n",
       "    </tr>\n",
       "    <tr>\n",
       "      <th>8</th>\n",
       "      <td>7839</td>\n",
       "      <td>KING</td>\n",
       "    </tr>\n",
       "    <tr>\n",
       "      <th>13</th>\n",
       "      <td>7934</td>\n",
       "      <td>MILLER</td>\n",
       "    </tr>\n",
       "  </tbody>\n",
       "</table>\n",
       "</div>"
      ],
      "text/plain": [
       "    empno   ename\n",
       "6    7782     CCC\n",
       "8    7839    KING\n",
       "13   7934  MILLER"
      ]
     },
     "execution_count": 21,
     "metadata": {},
     "output_type": "execute_result"
    }
   ],
   "source": [
    "emp[emp['deptno']==10][['empno','ename']] #조건과 컬럼을 *(조합)해주면 된다. 순서는 상관없다. \n",
    "emp[['empno','ename']][emp['deptno']==10]"
   ]
  },
  {
   "cell_type": "markdown",
   "id": "00fb72ec-7fb8-4537-96e8-d36094212000",
   "metadata": {},
   "source": [
    "### 조건이 2개일 때"
   ]
  },
  {
   "cell_type": "markdown",
   "id": "dcd131f1-8452-44d5-8105-8655e47c0093",
   "metadata": {},
   "source": [
    "* 멀티 조건은 반드시 (     )를 써야한다.\n",
    "* and  : &\n",
    "* or  : |\n",
    "* df[컬럼][(조건) & (조건) | (조건)]\n",
    "* df[컬럼][(조건) & ( (조건) | (조건) )] 식으로 괄호로 조건 순서 지정도 가능(괄호 안부터 처리)\n",
    "* 반드시 모든 조건을 괄호로 묶어라 df[(df['컬럼']==10)&(df['컬럼2']=='A')]"
   ]
  },
  {
   "cell_type": "markdown",
   "id": "30f16d47-0c59-4af6-a879-19f973f892d5",
   "metadata": {},
   "source": [
    ">select empno, ename, sal from emp where deptno = 10 and sal > 2000;"
   ]
  },
  {
   "cell_type": "code",
   "execution_count": 22,
   "id": "475f5285-cdcf-4c82-8691-48f3d6df4db0",
   "metadata": {
    "tags": []
   },
   "outputs": [
    {
     "data": {
      "text/html": [
       "<div>\n",
       "<style scoped>\n",
       "    .dataframe tbody tr th:only-of-type {\n",
       "        vertical-align: middle;\n",
       "    }\n",
       "\n",
       "    .dataframe tbody tr th {\n",
       "        vertical-align: top;\n",
       "    }\n",
       "\n",
       "    .dataframe thead th {\n",
       "        text-align: right;\n",
       "    }\n",
       "</style>\n",
       "<table border=\"1\" class=\"dataframe\">\n",
       "  <thead>\n",
       "    <tr style=\"text-align: right;\">\n",
       "      <th></th>\n",
       "      <th>empno</th>\n",
       "      <th>ename</th>\n",
       "      <th>sal</th>\n",
       "    </tr>\n",
       "  </thead>\n",
       "  <tbody>\n",
       "    <tr>\n",
       "      <th>6</th>\n",
       "      <td>7782</td>\n",
       "      <td>CCC</td>\n",
       "      <td>2450</td>\n",
       "    </tr>\n",
       "    <tr>\n",
       "      <th>8</th>\n",
       "      <td>7839</td>\n",
       "      <td>KING</td>\n",
       "      <td>5000</td>\n",
       "    </tr>\n",
       "  </tbody>\n",
       "</table>\n",
       "</div>"
      ],
      "text/plain": [
       "   empno ename   sal\n",
       "6   7782   CCC  2450\n",
       "8   7839  KING  5000"
      ]
     },
     "execution_count": 22,
     "metadata": {},
     "output_type": "execute_result"
    }
   ],
   "source": [
    "#df[(조건) & (조건) ][['컬럼','컬럼']]\n",
    "\n",
    "emp[(emp['deptno']==10) & (emp['sal']>2000)][['empno','ename','sal']]"
   ]
  },
  {
   "cell_type": "markdown",
   "id": "663a43f8-096d-4f02-aaa4-6629be8868f7",
   "metadata": {},
   "source": [
    "# subquery (비추)"
   ]
  },
  {
   "cell_type": "markdown",
   "id": "7c8b6a64-ed91-4d1d-ae2b-b74a83295e5e",
   "metadata": {},
   "source": [
    "#sql\n",
    "\n",
    "    *select job from emp where empno = 7369; \n",
    "        -사번이 7369인 사원의 직업 출력\n",
    "\n",
    "    *select ename, job\n",
    "        -from emp \n",
    "        where job = (select job\n",
    "        from emp where empno = 7369); 서브쿼리\n",
    "        사번이 7369인 사원과 직업이 같은 직원들의 이름과 직업 출력\n",
    "\n"
   ]
  },
  {
   "cell_type": "code",
   "execution_count": 23,
   "id": "966d955e-4207-447c-b26c-8cf37e7b97b0",
   "metadata": {
    "tags": []
   },
   "outputs": [
    {
     "data": {
      "text/plain": [
       "0    CLERK\n",
       "Name: job, dtype: object"
      ]
     },
     "execution_count": 23,
     "metadata": {},
     "output_type": "execute_result"
    }
   ],
   "source": [
    "emp[emp['empno']==7369]['job']"
   ]
  },
  {
   "cell_type": "code",
   "execution_count": 24,
   "id": "914a7d3a-a093-4edc-9ddc-11a2728a6281",
   "metadata": {
    "tags": []
   },
   "outputs": [
    {
     "data": {
      "text/plain": [
       "'CLERK'"
      ]
     },
     "execution_count": 24,
     "metadata": {},
     "output_type": "execute_result"
    }
   ],
   "source": [
    "job7369=emp[emp['empno']==7369]['job'].values[0] #0번째 값만 뽑아라(인덱스 빼고)\n",
    "job7369"
   ]
  },
  {
   "cell_type": "code",
   "execution_count": 25,
   "id": "961d74af-f609-4c6f-a9bc-8a0c9d55315b",
   "metadata": {
    "tags": []
   },
   "outputs": [
    {
     "data": {
      "text/html": [
       "<div>\n",
       "<style scoped>\n",
       "    .dataframe tbody tr th:only-of-type {\n",
       "        vertical-align: middle;\n",
       "    }\n",
       "\n",
       "    .dataframe tbody tr th {\n",
       "        vertical-align: top;\n",
       "    }\n",
       "\n",
       "    .dataframe thead th {\n",
       "        text-align: right;\n",
       "    }\n",
       "</style>\n",
       "<table border=\"1\" class=\"dataframe\">\n",
       "  <thead>\n",
       "    <tr style=\"text-align: right;\">\n",
       "      <th></th>\n",
       "      <th>ename</th>\n",
       "      <th>job</th>\n",
       "    </tr>\n",
       "  </thead>\n",
       "  <tbody>\n",
       "    <tr>\n",
       "      <th>0</th>\n",
       "      <td>SMITH</td>\n",
       "      <td>CLERK</td>\n",
       "    </tr>\n",
       "    <tr>\n",
       "      <th>10</th>\n",
       "      <td>ADAMS</td>\n",
       "      <td>CLERK</td>\n",
       "    </tr>\n",
       "    <tr>\n",
       "      <th>11</th>\n",
       "      <td>JAMES</td>\n",
       "      <td>CLERK</td>\n",
       "    </tr>\n",
       "    <tr>\n",
       "      <th>13</th>\n",
       "      <td>MILLER</td>\n",
       "      <td>CLERK</td>\n",
       "    </tr>\n",
       "  </tbody>\n",
       "</table>\n",
       "</div>"
      ],
      "text/plain": [
       "     ename    job\n",
       "0    SMITH  CLERK\n",
       "10   ADAMS  CLERK\n",
       "11   JAMES  CLERK\n",
       "13  MILLER  CLERK"
      ]
     },
     "execution_count": 25,
     "metadata": {},
     "output_type": "execute_result"
    }
   ],
   "source": [
    "#select ename, job from emp where job = (select job from emp where empno = 7369);\n",
    "\n",
    "emp[['ename','job']][emp['job']==job7369]"
   ]
  },
  {
   "cell_type": "markdown",
   "id": "f6013106-02ab-4078-93a8-a69d1bed5551",
   "metadata": {},
   "source": [
    ">select job from emp where deptno = 10 group by job;\n",
    ">- 10번 부서 사람들의 직업들"
   ]
  },
  {
   "cell_type": "code",
   "execution_count": 26,
   "id": "7ed02fa8-b186-4b1d-ad44-45cb0d33be4f",
   "metadata": {
    "tags": []
   },
   "outputs": [
    {
     "data": {
      "text/plain": [
       "array(['MANAGER', 'PRESIDENT', 'CLERK'], dtype=object)"
      ]
     },
     "execution_count": 26,
     "metadata": {},
     "output_type": "execute_result"
    }
   ],
   "source": [
    "job10 = emp['job'][emp['deptno']==10].values #values로 값을 뽑아줘야 [ , , , ..] 등의 객체 값으로 뽑아낼 수 있다.\n",
    "\n",
    "job10"
   ]
  },
  {
   "cell_type": "code",
   "execution_count": 27,
   "id": "3cf03679-f4b8-4b92-871b-fe47043552dc",
   "metadata": {
    "tags": []
   },
   "outputs": [
    {
     "data": {
      "text/plain": [
       "0      True\n",
       "1     False\n",
       "2     False\n",
       "3      True\n",
       "4     False\n",
       "5      True\n",
       "6      True\n",
       "7     False\n",
       "8      True\n",
       "9     False\n",
       "10     True\n",
       "11     True\n",
       "12    False\n",
       "13     True\n",
       "Name: job, dtype: bool"
      ]
     },
     "execution_count": 27,
     "metadata": {},
     "output_type": "execute_result"
    }
   ],
   "source": [
    "# emp[['job','ename']]\n",
    "emp['job'].isin(job10) #emp데이터프레임의 'job'컬럼 중에서 job10의 값을 포함한 데이터가 있는가?"
   ]
  },
  {
   "cell_type": "code",
   "execution_count": 28,
   "id": "e753291a-764b-4690-9cdb-31490156df3f",
   "metadata": {
    "tags": []
   },
   "outputs": [
    {
     "data": {
      "text/html": [
       "<div>\n",
       "<style scoped>\n",
       "    .dataframe tbody tr th:only-of-type {\n",
       "        vertical-align: middle;\n",
       "    }\n",
       "\n",
       "    .dataframe tbody tr th {\n",
       "        vertical-align: top;\n",
       "    }\n",
       "\n",
       "    .dataframe thead th {\n",
       "        text-align: right;\n",
       "    }\n",
       "</style>\n",
       "<table border=\"1\" class=\"dataframe\">\n",
       "  <thead>\n",
       "    <tr style=\"text-align: right;\">\n",
       "      <th></th>\n",
       "      <th>ename</th>\n",
       "      <th>job</th>\n",
       "    </tr>\n",
       "  </thead>\n",
       "  <tbody>\n",
       "    <tr>\n",
       "      <th>0</th>\n",
       "      <td>SMITH</td>\n",
       "      <td>CLERK</td>\n",
       "    </tr>\n",
       "    <tr>\n",
       "      <th>3</th>\n",
       "      <td>JONES</td>\n",
       "      <td>MANAGER</td>\n",
       "    </tr>\n",
       "    <tr>\n",
       "      <th>5</th>\n",
       "      <td>BLAKE</td>\n",
       "      <td>MANAGER</td>\n",
       "    </tr>\n",
       "  </tbody>\n",
       "</table>\n",
       "</div>"
      ],
      "text/plain": [
       "   ename      job\n",
       "0  SMITH    CLERK\n",
       "3  JONES  MANAGER\n",
       "5  BLAKE  MANAGER"
      ]
     },
     "execution_count": 28,
     "metadata": {},
     "output_type": "execute_result"
    }
   ],
   "source": [
    "emp[['ename','job']][emp['job'].isin(job10)].head(3)"
   ]
  },
  {
   "cell_type": "markdown",
   "id": "485d671f-b146-4865-b7ee-9d2004d04eba",
   "metadata": {},
   "source": [
    "## **문자열 합치기**"
   ]
  },
  {
   "cell_type": "markdown",
   "id": "eed0dff9-c8b0-44f1-abd9-939d18c1b334",
   "metadata": {},
   "source": [
    ">select job || ename from emp;\n",
    "\n",
    ">select concat(job,ename) from emp;"
   ]
  },
  {
   "cell_type": "code",
   "execution_count": 29,
   "id": "07ef5089-bbd6-493c-9594-f952417104ea",
   "metadata": {
    "tags": []
   },
   "outputs": [
    {
     "data": {
      "text/plain": [
       "0         CLERKSMITH\n",
       "1      SALESMANALLEN\n",
       "2       SALESMANWARD\n",
       "3       MANAGERJONES\n",
       "4     SALESMANMARTIN\n",
       "5       MANAGERBLAKE\n",
       "6         MANAGERCCC\n",
       "7       ANALYSTSCOTT\n",
       "8      PRESIDENTKING\n",
       "9     SALESMANTURNER\n",
       "10        CLERKADAMS\n",
       "11        CLERKJAMES\n",
       "12       ANALYSTFORD\n",
       "13       CLERKMILLER\n",
       "dtype: object"
      ]
     },
     "execution_count": 29,
     "metadata": {},
     "output_type": "execute_result"
    }
   ],
   "source": [
    "emp['job'] + emp['ename']"
   ]
  },
  {
   "cell_type": "markdown",
   "id": "f885fc43-aad2-4afc-a6b9-83a53579779a",
   "metadata": {},
   "source": [
    "## 컬럼 연산하기(=연산한 컬럼 추가하기)"
   ]
  },
  {
   "cell_type": "markdown",
   "id": "b43dfc1c-e61a-4804-8c9b-8fb11d49f31f",
   "metadata": {},
   "source": [
    ">**select sal*12 asal from emp;  #데이터 프레임에서도 컬럼연산 가능한가?**"
   ]
  },
  {
   "cell_type": "code",
   "execution_count": 30,
   "id": "285d5c38-3c97-4496-83c4-14798c684f40",
   "metadata": {
    "tags": []
   },
   "outputs": [
    {
     "data": {
      "text/plain": [
       "0     9600\n",
       "1    19200\n",
       "2    15000\n",
       "Name: asal, dtype: int64"
      ]
     },
     "execution_count": 30,
     "metadata": {},
     "output_type": "execute_result"
    }
   ],
   "source": [
    "emp['sal']*12 # 값은 나오지만 변수 정의 하지 않아서 데이터상에만 있음\n",
    "emp['asal'] = emp['sal']*12 # emp의 asal 이라는 컬럼에 해당 값을 넣어주세요.\n",
    "emp['asal'].head(3)"
   ]
  },
  {
   "cell_type": "code",
   "execution_count": 31,
   "id": "59013145-8807-4118-bd80-c0b239220fbe",
   "metadata": {
    "tags": []
   },
   "outputs": [
    {
     "data": {
      "text/html": [
       "<div>\n",
       "<style scoped>\n",
       "    .dataframe tbody tr th:only-of-type {\n",
       "        vertical-align: middle;\n",
       "    }\n",
       "\n",
       "    .dataframe tbody tr th {\n",
       "        vertical-align: top;\n",
       "    }\n",
       "\n",
       "    .dataframe thead th {\n",
       "        text-align: right;\n",
       "    }\n",
       "</style>\n",
       "<table border=\"1\" class=\"dataframe\">\n",
       "  <thead>\n",
       "    <tr style=\"text-align: right;\">\n",
       "      <th></th>\n",
       "      <th>empno</th>\n",
       "      <th>ename</th>\n",
       "      <th>job</th>\n",
       "      <th>mgr</th>\n",
       "      <th>hiredate</th>\n",
       "      <th>sal</th>\n",
       "      <th>comm</th>\n",
       "      <th>deptno</th>\n",
       "      <th>asal</th>\n",
       "    </tr>\n",
       "  </thead>\n",
       "  <tbody>\n",
       "    <tr>\n",
       "      <th>0</th>\n",
       "      <td>7369</td>\n",
       "      <td>SMITH</td>\n",
       "      <td>CLERK</td>\n",
       "      <td>7902.0</td>\n",
       "      <td>1980-12-17</td>\n",
       "      <td>800</td>\n",
       "      <td>NaN</td>\n",
       "      <td>20</td>\n",
       "      <td>9600</td>\n",
       "    </tr>\n",
       "    <tr>\n",
       "      <th>1</th>\n",
       "      <td>7499</td>\n",
       "      <td>ALLEN</td>\n",
       "      <td>SALESMAN</td>\n",
       "      <td>7698.0</td>\n",
       "      <td>1981-02-20</td>\n",
       "      <td>1600</td>\n",
       "      <td>300.0</td>\n",
       "      <td>30</td>\n",
       "      <td>19200</td>\n",
       "    </tr>\n",
       "    <tr>\n",
       "      <th>2</th>\n",
       "      <td>7521</td>\n",
       "      <td>WARD</td>\n",
       "      <td>SALESMAN</td>\n",
       "      <td>7698.0</td>\n",
       "      <td>1981-02-22</td>\n",
       "      <td>1250</td>\n",
       "      <td>500.0</td>\n",
       "      <td>30</td>\n",
       "      <td>15000</td>\n",
       "    </tr>\n",
       "  </tbody>\n",
       "</table>\n",
       "</div>"
      ],
      "text/plain": [
       "   empno  ename       job     mgr   hiredate   sal   comm  deptno   asal\n",
       "0   7369  SMITH     CLERK  7902.0 1980-12-17   800    NaN      20   9600\n",
       "1   7499  ALLEN  SALESMAN  7698.0 1981-02-20  1600  300.0      30  19200\n",
       "2   7521   WARD  SALESMAN  7698.0 1981-02-22  1250  500.0      30  15000"
      ]
     },
     "execution_count": 31,
     "metadata": {},
     "output_type": "execute_result"
    }
   ],
   "source": [
    "emp.head(3)"
   ]
  },
  {
   "cell_type": "markdown",
   "id": "0d30f69f-676f-4c4b-9abb-b9b903322f3e",
   "metadata": {
    "tags": []
   },
   "source": [
    ">emp['job'] + emp['sal'] # 타입이 다른 컬럼은 연산이 되지 않는다."
   ]
  },
  {
   "cell_type": "markdown",
   "id": "de63d189-3f6d-42c1-bc04-b04cb7372b25",
   "metadata": {},
   "source": [
    "# 결측처리\n",
    "    \n",
    "    - df.dropna()\n",
    "    - df.fillna() \n",
    "        - emp['comm'].fillna(0) = nvl(comm,0)\n",
    "    - df.isna()\n",
    "        - emp['comm'].isna() = where comm is null;"
   ]
  },
  {
   "cell_type": "markdown",
   "id": "0632261d-f29a-4062-85af-959997dd317c",
   "metadata": {},
   "source": [
    ">select nvl(comm,0) from emp;"
   ]
  },
  {
   "cell_type": "code",
   "execution_count": 32,
   "id": "b0a7f19e-dc42-4e31-a15a-3b72e607778f",
   "metadata": {
    "tags": []
   },
   "outputs": [
    {
     "data": {
      "text/html": [
       "<div>\n",
       "<style scoped>\n",
       "    .dataframe tbody tr th:only-of-type {\n",
       "        vertical-align: middle;\n",
       "    }\n",
       "\n",
       "    .dataframe tbody tr th {\n",
       "        vertical-align: top;\n",
       "    }\n",
       "\n",
       "    .dataframe thead th {\n",
       "        text-align: right;\n",
       "    }\n",
       "</style>\n",
       "<table border=\"1\" class=\"dataframe\">\n",
       "  <thead>\n",
       "    <tr style=\"text-align: right;\">\n",
       "      <th></th>\n",
       "      <th>empno</th>\n",
       "      <th>ename</th>\n",
       "      <th>job</th>\n",
       "      <th>mgr</th>\n",
       "      <th>hiredate</th>\n",
       "      <th>sal</th>\n",
       "      <th>comm</th>\n",
       "      <th>deptno</th>\n",
       "      <th>asal</th>\n",
       "    </tr>\n",
       "  </thead>\n",
       "  <tbody>\n",
       "    <tr>\n",
       "      <th>0</th>\n",
       "      <td>False</td>\n",
       "      <td>False</td>\n",
       "      <td>False</td>\n",
       "      <td>False</td>\n",
       "      <td>False</td>\n",
       "      <td>False</td>\n",
       "      <td>True</td>\n",
       "      <td>False</td>\n",
       "      <td>False</td>\n",
       "    </tr>\n",
       "    <tr>\n",
       "      <th>1</th>\n",
       "      <td>False</td>\n",
       "      <td>False</td>\n",
       "      <td>False</td>\n",
       "      <td>False</td>\n",
       "      <td>False</td>\n",
       "      <td>False</td>\n",
       "      <td>False</td>\n",
       "      <td>False</td>\n",
       "      <td>False</td>\n",
       "    </tr>\n",
       "    <tr>\n",
       "      <th>2</th>\n",
       "      <td>False</td>\n",
       "      <td>False</td>\n",
       "      <td>False</td>\n",
       "      <td>False</td>\n",
       "      <td>False</td>\n",
       "      <td>False</td>\n",
       "      <td>False</td>\n",
       "      <td>False</td>\n",
       "      <td>False</td>\n",
       "    </tr>\n",
       "  </tbody>\n",
       "</table>\n",
       "</div>"
      ],
      "text/plain": [
       "   empno  ename    job    mgr  hiredate    sal   comm  deptno   asal\n",
       "0  False  False  False  False     False  False   True   False  False\n",
       "1  False  False  False  False     False  False  False   False  False\n",
       "2  False  False  False  False     False  False  False   False  False"
      ]
     },
     "execution_count": 32,
     "metadata": {},
     "output_type": "execute_result"
    }
   ],
   "source": [
    "emp.isna().head(3)"
   ]
  },
  {
   "cell_type": "code",
   "execution_count": 33,
   "id": "2f3a5394-8868-46b3-a116-1d53ef938ec9",
   "metadata": {
    "tags": []
   },
   "outputs": [
    {
     "data": {
      "text/plain": [
       "0        0\n",
       "1      300\n",
       "2      500\n",
       "3        0\n",
       "4     1400\n",
       "5        0\n",
       "6        0\n",
       "7        0\n",
       "8        0\n",
       "9        0\n",
       "10       0\n",
       "11       0\n",
       "12       0\n",
       "13       0\n",
       "Name: comm, dtype: int32"
      ]
     },
     "execution_count": 33,
     "metadata": {},
     "output_type": "execute_result"
    }
   ],
   "source": [
    "n = emp['comm'].fillna(0).astype('int')\n",
    "n"
   ]
  },
  {
   "cell_type": "code",
   "execution_count": 34,
   "id": "74c70c79-eeed-41b3-85ca-4e80666c5c0d",
   "metadata": {
    "tags": []
   },
   "outputs": [
    {
     "data": {
      "text/html": [
       "<div>\n",
       "<style scoped>\n",
       "    .dataframe tbody tr th:only-of-type {\n",
       "        vertical-align: middle;\n",
       "    }\n",
       "\n",
       "    .dataframe tbody tr th {\n",
       "        vertical-align: top;\n",
       "    }\n",
       "\n",
       "    .dataframe thead th {\n",
       "        text-align: right;\n",
       "    }\n",
       "</style>\n",
       "<table border=\"1\" class=\"dataframe\">\n",
       "  <thead>\n",
       "    <tr style=\"text-align: right;\">\n",
       "      <th></th>\n",
       "      <th>comm</th>\n",
       "      <th>comm2</th>\n",
       "    </tr>\n",
       "  </thead>\n",
       "  <tbody>\n",
       "    <tr>\n",
       "      <th>0</th>\n",
       "      <td>NaN</td>\n",
       "      <td>0.0</td>\n",
       "    </tr>\n",
       "    <tr>\n",
       "      <th>1</th>\n",
       "      <td>300.0</td>\n",
       "      <td>300.0</td>\n",
       "    </tr>\n",
       "    <tr>\n",
       "      <th>2</th>\n",
       "      <td>500.0</td>\n",
       "      <td>500.0</td>\n",
       "    </tr>\n",
       "  </tbody>\n",
       "</table>\n",
       "</div>"
      ],
      "text/plain": [
       "    comm  comm2\n",
       "0    NaN    0.0\n",
       "1  300.0  300.0\n",
       "2  500.0  500.0"
      ]
     },
     "execution_count": 34,
     "metadata": {},
     "output_type": "execute_result"
    }
   ],
   "source": [
    "emp['comm2']= emp['comm'].fillna(0) #comm2라는 컬럼을 comm에 결측이 있다면 0으로 채워서 만들어줘라\n",
    "emp[['comm','comm2']].head(3)"
   ]
  },
  {
   "cell_type": "markdown",
   "id": "6a0ee907-0524-41f5-a1a9-ef744142ebf2",
   "metadata": {},
   "source": [
    "---"
   ]
  },
  {
   "cell_type": "markdown",
   "id": "96d730f5-fbad-4905-bd62-fb5c906304a4",
   "metadata": {},
   "source": [
    "---"
   ]
  },
  {
   "cell_type": "markdown",
   "id": "1cf8ea45-fa63-4e7c-9f7c-d60e5ca26926",
   "metadata": {},
   "source": [
    "# Groupby 함수"
   ]
  },
  {
   "cell_type": "markdown",
   "id": "8244396a-0b2b-4dab-942e-9f778c31c87c",
   "metadata": {},
   "source": [
    "* df.groupby( '컬럼' )[ '컬럼' ] . 함수()\n",
    "\n",
    "* 그룹함수 종류\n",
    "    - mean(),max(),min(),count(), sum() std()"
   ]
  },
  {
   "cell_type": "markdown",
   "id": "2ed3b4d0-852e-4d1a-844d-f7f111734e8b",
   "metadata": {
    "tags": []
   },
   "source": [
    "> select deptno, count(empno) from emp group by deptno; "
   ]
  },
  {
   "cell_type": "code",
   "execution_count": 35,
   "id": "179029e5-68be-466c-b9a1-f88978845ce2",
   "metadata": {
    "tags": []
   },
   "outputs": [
    {
     "name": "stdout",
     "output_type": "stream",
     "text": [
      "<pandas.core.groupby.generic.DataFrameGroupBy object at 0x000001E1EFFBC970>\n"
     ]
    }
   ],
   "source": [
    "gemp = emp.groupby(\"deptno\") #부서로 그룹화해라\n",
    "print(gemp)"
   ]
  },
  {
   "cell_type": "code",
   "execution_count": 36,
   "id": "0e1d89c0-6c9a-4a67-961e-a33b22d98fcf",
   "metadata": {
    "tags": []
   },
   "outputs": [
    {
     "data": {
      "text/html": [
       "<div>\n",
       "<style scoped>\n",
       "    .dataframe tbody tr th:only-of-type {\n",
       "        vertical-align: middle;\n",
       "    }\n",
       "\n",
       "    .dataframe tbody tr th {\n",
       "        vertical-align: top;\n",
       "    }\n",
       "\n",
       "    .dataframe thead th {\n",
       "        text-align: right;\n",
       "    }\n",
       "</style>\n",
       "<table border=\"1\" class=\"dataframe\">\n",
       "  <thead>\n",
       "    <tr style=\"text-align: right;\">\n",
       "      <th></th>\n",
       "      <th>empno</th>\n",
       "      <th>ename</th>\n",
       "      <th>job</th>\n",
       "      <th>mgr</th>\n",
       "      <th>hiredate</th>\n",
       "      <th>sal</th>\n",
       "      <th>comm</th>\n",
       "      <th>asal</th>\n",
       "      <th>comm2</th>\n",
       "    </tr>\n",
       "    <tr>\n",
       "      <th>deptno</th>\n",
       "      <th></th>\n",
       "      <th></th>\n",
       "      <th></th>\n",
       "      <th></th>\n",
       "      <th></th>\n",
       "      <th></th>\n",
       "      <th></th>\n",
       "      <th></th>\n",
       "      <th></th>\n",
       "    </tr>\n",
       "  </thead>\n",
       "  <tbody>\n",
       "    <tr>\n",
       "      <th>10</th>\n",
       "      <td>7782</td>\n",
       "      <td>CCC</td>\n",
       "      <td>MANAGER</td>\n",
       "      <td>7839.0</td>\n",
       "      <td>1981-06-09</td>\n",
       "      <td>2450</td>\n",
       "      <td>NaN</td>\n",
       "      <td>29400</td>\n",
       "      <td>0.0</td>\n",
       "    </tr>\n",
       "    <tr>\n",
       "      <th>20</th>\n",
       "      <td>7369</td>\n",
       "      <td>SMITH</td>\n",
       "      <td>CLERK</td>\n",
       "      <td>7902.0</td>\n",
       "      <td>1980-12-17</td>\n",
       "      <td>800</td>\n",
       "      <td>NaN</td>\n",
       "      <td>9600</td>\n",
       "      <td>0.0</td>\n",
       "    </tr>\n",
       "    <tr>\n",
       "      <th>30</th>\n",
       "      <td>7499</td>\n",
       "      <td>ALLEN</td>\n",
       "      <td>SALESMAN</td>\n",
       "      <td>7698.0</td>\n",
       "      <td>1981-02-20</td>\n",
       "      <td>1600</td>\n",
       "      <td>300.0</td>\n",
       "      <td>19200</td>\n",
       "      <td>300.0</td>\n",
       "    </tr>\n",
       "  </tbody>\n",
       "</table>\n",
       "</div>"
      ],
      "text/plain": [
       "        empno  ename       job     mgr   hiredate   sal   comm   asal  comm2\n",
       "deptno                                                                      \n",
       "10       7782    CCC   MANAGER  7839.0 1981-06-09  2450    NaN  29400    0.0\n",
       "20       7369  SMITH     CLERK  7902.0 1980-12-17   800    NaN   9600    0.0\n",
       "30       7499  ALLEN  SALESMAN  7698.0 1981-02-20  1600  300.0  19200  300.0"
      ]
     },
     "execution_count": 36,
     "metadata": {},
     "output_type": "execute_result"
    }
   ],
   "source": [
    "emp.groupby(\"deptno\").first() #그룹별 첫번째 행 가져오기"
   ]
  },
  {
   "cell_type": "code",
   "execution_count": 37,
   "id": "27bae4ec-9ddf-4088-85be-96c9c4622f58",
   "metadata": {
    "tags": []
   },
   "outputs": [
    {
     "data": {
      "text/plain": [
       "deptno\n",
       "10    3\n",
       "20    5\n",
       "30    6\n",
       "Name: deptno, dtype: int64"
      ]
     },
     "execution_count": 37,
     "metadata": {},
     "output_type": "execute_result"
    }
   ],
   "source": [
    "emp.groupby(\"deptno\")['deptno'].count()"
   ]
  },
  {
   "cell_type": "markdown",
   "id": "3aab4034-afce-43d9-8b38-9cb749cfe053",
   "metadata": {
    "tags": []
   },
   "source": [
    "## 각 부서별 급여 합\n",
    "\n",
    "    - select deptno, sum(sal) from emp group by deptno;"
   ]
  },
  {
   "cell_type": "code",
   "execution_count": 38,
   "id": "d4ffa508-e6fe-47c0-9c3b-3a309a48369b",
   "metadata": {
    "tags": []
   },
   "outputs": [
    {
     "data": {
      "text/plain": [
       "deptno\n",
       "10     30\n",
       "20    100\n",
       "30    180\n",
       "Name: deptno, dtype: int64"
      ]
     },
     "execution_count": 38,
     "metadata": {},
     "output_type": "execute_result"
    }
   ],
   "source": [
    "emp.groupby(\"deptno\")['deptno'].sum()"
   ]
  },
  {
   "cell_type": "markdown",
   "id": "aa5488ee-9797-43c5-bb62-517845143957",
   "metadata": {
    "tags": []
   },
   "source": [
    "## 부서별 최대 , 최소 급여"
   ]
  },
  {
   "cell_type": "code",
   "execution_count": 39,
   "id": "24e12438-d745-47e3-9fac-5b459c34ae96",
   "metadata": {
    "tags": []
   },
   "outputs": [
    {
     "data": {
      "text/plain": [
       "deptno\n",
       "10    5000\n",
       "20    3000\n",
       "30    2850\n",
       "Name: sal, dtype: int64"
      ]
     },
     "execution_count": 39,
     "metadata": {},
     "output_type": "execute_result"
    }
   ],
   "source": [
    "maxsal = emp.groupby(\"deptno\")['sal'].max()\n",
    "maxsal"
   ]
  },
  {
   "cell_type": "code",
   "execution_count": 40,
   "id": "3e8c2b42-c784-4f49-8e3f-541e064c499d",
   "metadata": {
    "tags": []
   },
   "outputs": [
    {
     "data": {
      "text/plain": [
       "deptno\n",
       "10    1300\n",
       "20     800\n",
       "30     950\n",
       "Name: sal, dtype: int64"
      ]
     },
     "execution_count": 40,
     "metadata": {},
     "output_type": "execute_result"
    }
   ],
   "source": [
    "minsal = emp.groupby(\"deptno\")['sal'].min()\n",
    "minsal"
   ]
  },
  {
   "cell_type": "markdown",
   "id": "a1c3b90d-d364-4d36-808d-cba62b58fac0",
   "metadata": {},
   "source": [
    "***"
   ]
  },
  {
   "cell_type": "markdown",
   "id": "857985fc-da70-4fc2-b76b-58cf3239239d",
   "metadata": {},
   "source": [
    "> 단일 컬럼의 함수값을 동시 출력할 수 있을까? = 안된다. \n",
    "\n",
    "> 컬럼이 상이할 때는 다양한 함수값 출력에 단순한 딕셔너리값도 가능."
   ]
  },
  {
   "cell_type": "code",
   "execution_count": 41,
   "id": "cba56dff-d459-46b9-bb10-c78f884674ad",
   "metadata": {
    "tags": []
   },
   "outputs": [
    {
     "data": {
      "text/html": [
       "<div>\n",
       "<style scoped>\n",
       "    .dataframe tbody tr th:only-of-type {\n",
       "        vertical-align: middle;\n",
       "    }\n",
       "\n",
       "    .dataframe tbody tr th {\n",
       "        vertical-align: top;\n",
       "    }\n",
       "\n",
       "    .dataframe thead th {\n",
       "        text-align: right;\n",
       "    }\n",
       "</style>\n",
       "<table border=\"1\" class=\"dataframe\">\n",
       "  <thead>\n",
       "    <tr style=\"text-align: right;\">\n",
       "      <th></th>\n",
       "      <th>sal</th>\n",
       "      <th>comm</th>\n",
       "    </tr>\n",
       "    <tr>\n",
       "      <th>deptno</th>\n",
       "      <th></th>\n",
       "      <th></th>\n",
       "    </tr>\n",
       "  </thead>\n",
       "  <tbody>\n",
       "    <tr>\n",
       "      <th>10</th>\n",
       "      <td>5000</td>\n",
       "      <td>NaN</td>\n",
       "    </tr>\n",
       "    <tr>\n",
       "      <th>20</th>\n",
       "      <td>3000</td>\n",
       "      <td>NaN</td>\n",
       "    </tr>\n",
       "    <tr>\n",
       "      <th>30</th>\n",
       "      <td>2850</td>\n",
       "      <td>0.0</td>\n",
       "    </tr>\n",
       "  </tbody>\n",
       "</table>\n",
       "</div>"
      ],
      "text/plain": [
       "         sal  comm\n",
       "deptno            \n",
       "10      5000   NaN\n",
       "20      3000   NaN\n",
       "30      2850   0.0"
      ]
     },
     "execution_count": 41,
     "metadata": {},
     "output_type": "execute_result"
    }
   ],
   "source": [
    "#max와 min 동시에 출력\n",
    "\n",
    "emp.groupby(\"deptno\").agg({\"sal\":\"max\", \"comm\":\"min\"})"
   ]
  },
  {
   "cell_type": "code",
   "execution_count": 42,
   "id": "dc53e784-7c37-4df1-b5cf-e2b2e8269bc7",
   "metadata": {
    "tags": []
   },
   "outputs": [
    {
     "data": {
      "text/html": [
       "<div>\n",
       "<style scoped>\n",
       "    .dataframe tbody tr th:only-of-type {\n",
       "        vertical-align: middle;\n",
       "    }\n",
       "\n",
       "    .dataframe tbody tr th {\n",
       "        vertical-align: top;\n",
       "    }\n",
       "\n",
       "    .dataframe thead th {\n",
       "        text-align: right;\n",
       "    }\n",
       "</style>\n",
       "<table border=\"1\" class=\"dataframe\">\n",
       "  <thead>\n",
       "    <tr style=\"text-align: right;\">\n",
       "      <th></th>\n",
       "      <th>sal</th>\n",
       "    </tr>\n",
       "    <tr>\n",
       "      <th>deptno</th>\n",
       "      <th></th>\n",
       "    </tr>\n",
       "  </thead>\n",
       "  <tbody>\n",
       "    <tr>\n",
       "      <th>10</th>\n",
       "      <td>1300</td>\n",
       "    </tr>\n",
       "    <tr>\n",
       "      <th>20</th>\n",
       "      <td>800</td>\n",
       "    </tr>\n",
       "    <tr>\n",
       "      <th>30</th>\n",
       "      <td>950</td>\n",
       "    </tr>\n",
       "  </tbody>\n",
       "</table>\n",
       "</div>"
      ],
      "text/plain": [
       "         sal\n",
       "deptno      \n",
       "10      1300\n",
       "20       800\n",
       "30       950"
      ]
     },
     "execution_count": 42,
     "metadata": {},
     "output_type": "execute_result"
    }
   ],
   "source": [
    "emp.groupby(\"deptno\").agg({\"sal\":\"max\", \"sal\":\"min\"}) \n",
    "\n",
    "#딕트에 같은 키 값을 써서 제대로 출력되지 않는다."
   ]
  },
  {
   "cell_type": "markdown",
   "id": "0cc4ded1-8cfd-4963-af36-f758d5d6f3fd",
   "metadata": {},
   "source": [
    "## 단일 컬럼의 복수 값 출력하는 법"
   ]
  },
  {
   "cell_type": "markdown",
   "id": "0ce92555-4213-4039-becf-a651f9ff34ab",
   "metadata": {},
   "source": [
    "> * dict 안에 sal 키 값이 중복되면 에러(제대로 출력이 되지 않는다.)  \n",
    "    그렇기 때문에, 키 값(컬럼)이 하나일 때는 agg를 이용해 함수를 나열해서 합쳐준다.\n",
    "* **df . groupby (\"그룹화 할 컬럼명\") ['출력할 값 컬럼명'] . agg ( ['그룹함수이름1' , '그룹함수이름2' , ...] )**\n",
    "* 파이썬은 '', \"\" 구분 안함"
   ]
  },
  {
   "cell_type": "code",
   "execution_count": 43,
   "id": "580a63fd-e22e-4a24-9b8d-a898fc34fce2",
   "metadata": {
    "tags": []
   },
   "outputs": [
    {
     "data": {
      "text/html": [
       "<div>\n",
       "<style scoped>\n",
       "    .dataframe tbody tr th:only-of-type {\n",
       "        vertical-align: middle;\n",
       "    }\n",
       "\n",
       "    .dataframe tbody tr th {\n",
       "        vertical-align: top;\n",
       "    }\n",
       "\n",
       "    .dataframe thead th {\n",
       "        text-align: right;\n",
       "    }\n",
       "</style>\n",
       "<table border=\"1\" class=\"dataframe\">\n",
       "  <thead>\n",
       "    <tr style=\"text-align: right;\">\n",
       "      <th></th>\n",
       "      <th>max</th>\n",
       "      <th>min</th>\n",
       "    </tr>\n",
       "    <tr>\n",
       "      <th>deptno</th>\n",
       "      <th></th>\n",
       "      <th></th>\n",
       "    </tr>\n",
       "  </thead>\n",
       "  <tbody>\n",
       "    <tr>\n",
       "      <th>10</th>\n",
       "      <td>5000</td>\n",
       "      <td>1300</td>\n",
       "    </tr>\n",
       "    <tr>\n",
       "      <th>20</th>\n",
       "      <td>3000</td>\n",
       "      <td>800</td>\n",
       "    </tr>\n",
       "    <tr>\n",
       "      <th>30</th>\n",
       "      <td>2850</td>\n",
       "      <td>950</td>\n",
       "    </tr>\n",
       "  </tbody>\n",
       "</table>\n",
       "</div>"
      ],
      "text/plain": [
       "         max   min\n",
       "deptno            \n",
       "10      5000  1300\n",
       "20      3000   800\n",
       "30      2850   950"
      ]
     },
     "execution_count": 43,
     "metadata": {},
     "output_type": "execute_result"
    }
   ],
   "source": [
    "emp.groupby(\"deptno\")['sal'].agg(['max','min']) \n",
    "#부서로 그룹화 된 sal 컬럼을 agg 해줘라. max와 min 값을"
   ]
  },
  {
   "cell_type": "markdown",
   "id": "cfc45aa6-a6bd-499c-afbc-dea988907e59",
   "metadata": {},
   "source": [
    "#예제 : 각 부서별 급여 합, 최대, 최소, 평균, 카운트"
   ]
  },
  {
   "cell_type": "code",
   "execution_count": 44,
   "id": "b26881db-34a0-4c61-8f77-74d44fe4ab57",
   "metadata": {
    "tags": []
   },
   "outputs": [
    {
     "data": {
      "text/html": [
       "<div>\n",
       "<style scoped>\n",
       "    .dataframe tbody tr th:only-of-type {\n",
       "        vertical-align: middle;\n",
       "    }\n",
       "\n",
       "    .dataframe tbody tr th {\n",
       "        vertical-align: top;\n",
       "    }\n",
       "\n",
       "    .dataframe thead th {\n",
       "        text-align: right;\n",
       "    }\n",
       "</style>\n",
       "<table border=\"1\" class=\"dataframe\">\n",
       "  <thead>\n",
       "    <tr style=\"text-align: right;\">\n",
       "      <th></th>\n",
       "      <th>sum</th>\n",
       "      <th>max</th>\n",
       "      <th>min</th>\n",
       "      <th>mean</th>\n",
       "      <th>count</th>\n",
       "    </tr>\n",
       "    <tr>\n",
       "      <th>deptno</th>\n",
       "      <th></th>\n",
       "      <th></th>\n",
       "      <th></th>\n",
       "      <th></th>\n",
       "      <th></th>\n",
       "    </tr>\n",
       "  </thead>\n",
       "  <tbody>\n",
       "    <tr>\n",
       "      <th>10</th>\n",
       "      <td>8750</td>\n",
       "      <td>5000</td>\n",
       "      <td>1300</td>\n",
       "      <td>2916.666667</td>\n",
       "      <td>3</td>\n",
       "    </tr>\n",
       "    <tr>\n",
       "      <th>20</th>\n",
       "      <td>10875</td>\n",
       "      <td>3000</td>\n",
       "      <td>800</td>\n",
       "      <td>2175.000000</td>\n",
       "      <td>5</td>\n",
       "    </tr>\n",
       "    <tr>\n",
       "      <th>30</th>\n",
       "      <td>9400</td>\n",
       "      <td>2850</td>\n",
       "      <td>950</td>\n",
       "      <td>1566.666667</td>\n",
       "      <td>6</td>\n",
       "    </tr>\n",
       "  </tbody>\n",
       "</table>\n",
       "</div>"
      ],
      "text/plain": [
       "          sum   max   min         mean  count\n",
       "deptno                                       \n",
       "10       8750  5000  1300  2916.666667      3\n",
       "20      10875  3000   800  2175.000000      5\n",
       "30       9400  2850   950  1566.666667      6"
      ]
     },
     "execution_count": 44,
     "metadata": {},
     "output_type": "execute_result"
    }
   ],
   "source": [
    "emp.groupby('deptno')['sal'].agg(['sum','max','min','mean','count']) #어그리게이션 : 묶어줘라"
   ]
  },
  {
   "cell_type": "code",
   "execution_count": 45,
   "id": "3e1d9c9d-0e2f-412f-bdd2-b8c8bbc32534",
   "metadata": {
    "tags": []
   },
   "outputs": [
    {
     "data": {
      "text/html": [
       "<div>\n",
       "<style scoped>\n",
       "    .dataframe tbody tr th:only-of-type {\n",
       "        vertical-align: middle;\n",
       "    }\n",
       "\n",
       "    .dataframe tbody tr th {\n",
       "        vertical-align: top;\n",
       "    }\n",
       "\n",
       "    .dataframe thead th {\n",
       "        text-align: right;\n",
       "    }\n",
       "</style>\n",
       "<table border=\"1\" class=\"dataframe\">\n",
       "  <thead>\n",
       "    <tr style=\"text-align: right;\">\n",
       "      <th></th>\n",
       "      <th>sum</th>\n",
       "      <th>max</th>\n",
       "      <th>min</th>\n",
       "      <th>mean</th>\n",
       "      <th>count</th>\n",
       "      <th>std</th>\n",
       "      <th>var</th>\n",
       "    </tr>\n",
       "    <tr>\n",
       "      <th>deptno</th>\n",
       "      <th></th>\n",
       "      <th></th>\n",
       "      <th></th>\n",
       "      <th></th>\n",
       "      <th></th>\n",
       "      <th></th>\n",
       "      <th></th>\n",
       "    </tr>\n",
       "  </thead>\n",
       "  <tbody>\n",
       "    <tr>\n",
       "      <th>10</th>\n",
       "      <td>8750</td>\n",
       "      <td>5000</td>\n",
       "      <td>1300</td>\n",
       "      <td>2916.666667</td>\n",
       "      <td>3</td>\n",
       "      <td>1893.629672</td>\n",
       "      <td>3.585833e+06</td>\n",
       "    </tr>\n",
       "    <tr>\n",
       "      <th>20</th>\n",
       "      <td>10875</td>\n",
       "      <td>3000</td>\n",
       "      <td>800</td>\n",
       "      <td>2175.000000</td>\n",
       "      <td>5</td>\n",
       "      <td>1123.332097</td>\n",
       "      <td>1.261875e+06</td>\n",
       "    </tr>\n",
       "    <tr>\n",
       "      <th>30</th>\n",
       "      <td>9400</td>\n",
       "      <td>2850</td>\n",
       "      <td>950</td>\n",
       "      <td>1566.666667</td>\n",
       "      <td>6</td>\n",
       "      <td>668.331255</td>\n",
       "      <td>4.466667e+05</td>\n",
       "    </tr>\n",
       "  </tbody>\n",
       "</table>\n",
       "</div>"
      ],
      "text/plain": [
       "          sum   max   min         mean  count          std           var\n",
       "deptno                                                                  \n",
       "10       8750  5000  1300  2916.666667      3  1893.629672  3.585833e+06\n",
       "20      10875  3000   800  2175.000000      5  1123.332097  1.261875e+06\n",
       "30       9400  2850   950  1566.666667      6   668.331255  4.466667e+05"
      ]
     },
     "execution_count": 45,
     "metadata": {},
     "output_type": "execute_result"
    }
   ],
   "source": [
    "emp.groupby('deptno')['sal'].agg(['sum','max','min','mean','count', 'std','var']) #표준편차, 분산"
   ]
  },
  {
   "cell_type": "markdown",
   "id": "2dd66a89-cb0b-4a21-bb41-3cda6c9a06d7",
   "metadata": {},
   "source": [
    "# orderby 정렬 :  SORT"
   ]
  },
  {
   "cell_type": "markdown",
   "id": "fbf0f000-4d1d-4270-9f64-a3ceae531e20",
   "metadata": {},
   "source": [
    "> sort_value  \n",
    "\n",
    "> sort_index"
   ]
  },
  {
   "cell_type": "markdown",
   "id": "fe9b5a37-2e33-46c6-a66a-b47dfa9c7a02",
   "metadata": {},
   "source": [
    "* **데이터 프레임에서 꺼내진 컬럼에 대해서만 정렬이 가능**  \n",
    "    \n",
    "    -꺼내지도 않은 데이터는 쓸 수가 없다.\n",
    "    - emp[['empno','sal']].sort_values(by='sal') 가능\n",
    "    - emp[['empno','sal']].sort_values(by='job') 불가능\n",
    "\n"
   ]
  },
  {
   "cell_type": "markdown",
   "id": "e23c0180-a7f4-4502-967a-2239018c75c4",
   "metadata": {},
   "source": [
    "##  sort_values()"
   ]
  },
  {
   "cell_type": "code",
   "execution_count": 46,
   "id": "626a538c-7218-4c7b-9613-9f646b0af980",
   "metadata": {
    "tags": []
   },
   "outputs": [
    {
     "data": {
      "text/plain": [
       "0      800\n",
       "11     950\n",
       "10    1100\n",
       "2     1250\n",
       "4     1250\n",
       "13    1300\n",
       "9     1500\n",
       "1     1600\n",
       "6     2450\n",
       "5     2850\n",
       "3     2975\n",
       "7     3000\n",
       "12    3000\n",
       "8     5000\n",
       "Name: sal, dtype: int64"
      ]
     },
     "execution_count": 46,
     "metadata": {},
     "output_type": "execute_result"
    }
   ],
   "source": [
    "emp['sal'].sort_values()"
   ]
  },
  {
   "cell_type": "markdown",
   "id": "abc3903e-e54b-4d56-bf7d-b96166094851",
   "metadata": {},
   "source": [
    "> select sal from emp orderby asc;"
   ]
  },
  {
   "cell_type": "code",
   "execution_count": 47,
   "id": "062d6ebc-8998-4a9b-b1e3-5b32db99e82f",
   "metadata": {
    "tags": []
   },
   "outputs": [
    {
     "data": {
      "text/plain": [
       "8     5000\n",
       "7     3000\n",
       "12    3000\n",
       "3     2975\n",
       "5     2850\n",
       "6     2450\n",
       "1     1600\n",
       "9     1500\n",
       "13    1300\n",
       "2     1250\n",
       "4     1250\n",
       "10    1100\n",
       "11     950\n",
       "0      800\n",
       "Name: sal, dtype: int64"
      ]
     },
     "execution_count": 47,
     "metadata": {},
     "output_type": "execute_result"
    }
   ],
   "source": [
    "emp['sal'].sort_values(ascending =  True)\n",
    "emp['sal'].sort_values(ascending =  False) #desc는 없다."
   ]
  },
  {
   "cell_type": "markdown",
   "id": "3bb34994-27f9-4fc5-899d-22aa9969be1a",
   "metadata": {},
   "source": [
    "> select empno, ename, sal from emp where deptno = 20 order by ename asc;"
   ]
  },
  {
   "cell_type": "code",
   "execution_count": 48,
   "id": "37c02080-3f86-4f19-a33f-eb315f61d72e",
   "metadata": {
    "tags": []
   },
   "outputs": [
    {
     "data": {
      "text/html": [
       "<div>\n",
       "<style scoped>\n",
       "    .dataframe tbody tr th:only-of-type {\n",
       "        vertical-align: middle;\n",
       "    }\n",
       "\n",
       "    .dataframe tbody tr th {\n",
       "        vertical-align: top;\n",
       "    }\n",
       "\n",
       "    .dataframe thead th {\n",
       "        text-align: right;\n",
       "    }\n",
       "</style>\n",
       "<table border=\"1\" class=\"dataframe\">\n",
       "  <thead>\n",
       "    <tr style=\"text-align: right;\">\n",
       "      <th></th>\n",
       "      <th>empno</th>\n",
       "      <th>ename</th>\n",
       "      <th>sal</th>\n",
       "    </tr>\n",
       "  </thead>\n",
       "  <tbody>\n",
       "    <tr>\n",
       "      <th>10</th>\n",
       "      <td>7876</td>\n",
       "      <td>ADAMS</td>\n",
       "      <td>1100</td>\n",
       "    </tr>\n",
       "    <tr>\n",
       "      <th>12</th>\n",
       "      <td>7902</td>\n",
       "      <td>FORD</td>\n",
       "      <td>3000</td>\n",
       "    </tr>\n",
       "    <tr>\n",
       "      <th>3</th>\n",
       "      <td>7566</td>\n",
       "      <td>JONES</td>\n",
       "      <td>2975</td>\n",
       "    </tr>\n",
       "    <tr>\n",
       "      <th>7</th>\n",
       "      <td>7788</td>\n",
       "      <td>SCOTT</td>\n",
       "      <td>3000</td>\n",
       "    </tr>\n",
       "    <tr>\n",
       "      <th>0</th>\n",
       "      <td>7369</td>\n",
       "      <td>SMITH</td>\n",
       "      <td>800</td>\n",
       "    </tr>\n",
       "  </tbody>\n",
       "</table>\n",
       "</div>"
      ],
      "text/plain": [
       "    empno  ename   sal\n",
       "10   7876  ADAMS  1100\n",
       "12   7902   FORD  3000\n",
       "3    7566  JONES  2975\n",
       "7    7788  SCOTT  3000\n",
       "0    7369  SMITH   800"
      ]
     },
     "execution_count": 48,
     "metadata": {},
     "output_type": "execute_result"
    }
   ],
   "source": [
    "emp[['empno','ename','sal']][emp['deptno'] == 20].sort_values(by='ename', ascending = True) \n",
    "\n",
    "#by는 써도 그만 안써도 그만이지만 특정 기준으로 정렬하라고 하면 써줘야한다."
   ]
  },
  {
   "cell_type": "markdown",
   "id": "947357fe-f36c-4c18-af8a-dd42075b6891",
   "metadata": {},
   "source": [
    "> select empno, ename, sal from emp order by deptno asc, sal desc;"
   ]
  },
  {
   "cell_type": "code",
   "execution_count": 49,
   "id": "3f5a15ac-ae4a-4f91-9eba-49ad2441095e",
   "metadata": {
    "tags": []
   },
   "outputs": [
    {
     "data": {
      "text/html": [
       "<div>\n",
       "<style scoped>\n",
       "    .dataframe tbody tr th:only-of-type {\n",
       "        vertical-align: middle;\n",
       "    }\n",
       "\n",
       "    .dataframe tbody tr th {\n",
       "        vertical-align: top;\n",
       "    }\n",
       "\n",
       "    .dataframe thead th {\n",
       "        text-align: right;\n",
       "    }\n",
       "</style>\n",
       "<table border=\"1\" class=\"dataframe\">\n",
       "  <thead>\n",
       "    <tr style=\"text-align: right;\">\n",
       "      <th></th>\n",
       "      <th>empno</th>\n",
       "      <th>deptno</th>\n",
       "      <th>sal</th>\n",
       "    </tr>\n",
       "  </thead>\n",
       "  <tbody>\n",
       "    <tr>\n",
       "      <th>13</th>\n",
       "      <td>7934</td>\n",
       "      <td>10</td>\n",
       "      <td>1300</td>\n",
       "    </tr>\n",
       "    <tr>\n",
       "      <th>6</th>\n",
       "      <td>7782</td>\n",
       "      <td>10</td>\n",
       "      <td>2450</td>\n",
       "    </tr>\n",
       "    <tr>\n",
       "      <th>8</th>\n",
       "      <td>7839</td>\n",
       "      <td>10</td>\n",
       "      <td>5000</td>\n",
       "    </tr>\n",
       "    <tr>\n",
       "      <th>0</th>\n",
       "      <td>7369</td>\n",
       "      <td>20</td>\n",
       "      <td>800</td>\n",
       "    </tr>\n",
       "    <tr>\n",
       "      <th>10</th>\n",
       "      <td>7876</td>\n",
       "      <td>20</td>\n",
       "      <td>1100</td>\n",
       "    </tr>\n",
       "  </tbody>\n",
       "</table>\n",
       "</div>"
      ],
      "text/plain": [
       "    empno  deptno   sal\n",
       "13   7934      10  1300\n",
       "6    7782      10  2450\n",
       "8    7839      10  5000\n",
       "0    7369      20   800\n",
       "10   7876      20  1100"
      ]
     },
     "execution_count": 49,
     "metadata": {},
     "output_type": "execute_result"
    }
   ],
   "source": [
    "#둘다 asc 인 경우\n",
    "emp[['empno', 'deptno', 'sal']].sort_values(by=[\"deptno\",\"sal\"],ascending=True).head()"
   ]
  },
  {
   "cell_type": "code",
   "execution_count": 50,
   "id": "6dcd4dfd-52a4-4cd0-9308-ef39cd72bab1",
   "metadata": {
    "tags": []
   },
   "outputs": [
    {
     "data": {
      "text/html": [
       "<div>\n",
       "<style scoped>\n",
       "    .dataframe tbody tr th:only-of-type {\n",
       "        vertical-align: middle;\n",
       "    }\n",
       "\n",
       "    .dataframe tbody tr th {\n",
       "        vertical-align: top;\n",
       "    }\n",
       "\n",
       "    .dataframe thead th {\n",
       "        text-align: right;\n",
       "    }\n",
       "</style>\n",
       "<table border=\"1\" class=\"dataframe\">\n",
       "  <thead>\n",
       "    <tr style=\"text-align: right;\">\n",
       "      <th></th>\n",
       "      <th>empno</th>\n",
       "      <th>deptno</th>\n",
       "      <th>sal</th>\n",
       "    </tr>\n",
       "  </thead>\n",
       "  <tbody>\n",
       "    <tr>\n",
       "      <th>13</th>\n",
       "      <td>7934</td>\n",
       "      <td>10</td>\n",
       "      <td>1300</td>\n",
       "    </tr>\n",
       "    <tr>\n",
       "      <th>6</th>\n",
       "      <td>7782</td>\n",
       "      <td>10</td>\n",
       "      <td>2450</td>\n",
       "    </tr>\n",
       "    <tr>\n",
       "      <th>8</th>\n",
       "      <td>7839</td>\n",
       "      <td>10</td>\n",
       "      <td>5000</td>\n",
       "    </tr>\n",
       "  </tbody>\n",
       "</table>\n",
       "</div>"
      ],
      "text/plain": [
       "    empno  deptno   sal\n",
       "13   7934      10  1300\n",
       "6    7782      10  2450\n",
       "8    7839      10  5000"
      ]
     },
     "execution_count": 50,
     "metadata": {},
     "output_type": "execute_result"
    }
   ],
   "source": [
    "emp[['empno','deptno','sal']].sort_values( by=[\"deptno\",\"sal\"], ascending = True).head(3)\n",
    "\n",
    "# 둘 다 asc일 때는 떼거지 가능"
   ]
  },
  {
   "cell_type": "code",
   "execution_count": 51,
   "id": "727b33db-12dd-4e7f-bca2-8c0e36c2ea9b",
   "metadata": {
    "tags": []
   },
   "outputs": [
    {
     "data": {
      "text/html": [
       "<div>\n",
       "<style scoped>\n",
       "    .dataframe tbody tr th:only-of-type {\n",
       "        vertical-align: middle;\n",
       "    }\n",
       "\n",
       "    .dataframe tbody tr th {\n",
       "        vertical-align: top;\n",
       "    }\n",
       "\n",
       "    .dataframe thead th {\n",
       "        text-align: right;\n",
       "    }\n",
       "</style>\n",
       "<table border=\"1\" class=\"dataframe\">\n",
       "  <thead>\n",
       "    <tr style=\"text-align: right;\">\n",
       "      <th></th>\n",
       "      <th>empno</th>\n",
       "      <th>deptno</th>\n",
       "      <th>sal</th>\n",
       "    </tr>\n",
       "  </thead>\n",
       "  <tbody>\n",
       "    <tr>\n",
       "      <th>8</th>\n",
       "      <td>7839</td>\n",
       "      <td>10</td>\n",
       "      <td>5000</td>\n",
       "    </tr>\n",
       "    <tr>\n",
       "      <th>6</th>\n",
       "      <td>7782</td>\n",
       "      <td>10</td>\n",
       "      <td>2450</td>\n",
       "    </tr>\n",
       "    <tr>\n",
       "      <th>13</th>\n",
       "      <td>7934</td>\n",
       "      <td>10</td>\n",
       "      <td>1300</td>\n",
       "    </tr>\n",
       "  </tbody>\n",
       "</table>\n",
       "</div>"
      ],
      "text/plain": [
       "    empno  deptno   sal\n",
       "8    7839      10  5000\n",
       "6    7782      10  2450\n",
       "13   7934      10  1300"
      ]
     },
     "execution_count": 51,
     "metadata": {},
     "output_type": "execute_result"
    }
   ],
   "source": [
    "emp[['empno','deptno','sal']].sort_values( by=[\"deptno\",\"sal\"], ascending = [True,False]).head(3) \n",
    "\n",
    "# 정렬방법도 떼거지 가능"
   ]
  },
  {
   "cell_type": "markdown",
   "id": "5aef6cb3-7ca0-442e-94cb-a976d3d7a64e",
   "metadata": {},
   "source": [
    "## sort_index()"
   ]
  },
  {
   "cell_type": "code",
   "execution_count": 52,
   "id": "268e6119-7945-4b04-bc86-72aba9b65ad8",
   "metadata": {
    "tags": []
   },
   "outputs": [
    {
     "data": {
      "text/html": [
       "<div>\n",
       "<style scoped>\n",
       "    .dataframe tbody tr th:only-of-type {\n",
       "        vertical-align: middle;\n",
       "    }\n",
       "\n",
       "    .dataframe tbody tr th {\n",
       "        vertical-align: top;\n",
       "    }\n",
       "\n",
       "    .dataframe thead th {\n",
       "        text-align: right;\n",
       "    }\n",
       "</style>\n",
       "<table border=\"1\" class=\"dataframe\">\n",
       "  <thead>\n",
       "    <tr style=\"text-align: right;\">\n",
       "      <th></th>\n",
       "      <th>empno</th>\n",
       "      <th>ename</th>\n",
       "      <th>job</th>\n",
       "      <th>mgr</th>\n",
       "      <th>hiredate</th>\n",
       "      <th>sal</th>\n",
       "      <th>comm</th>\n",
       "      <th>deptno</th>\n",
       "      <th>asal</th>\n",
       "      <th>comm2</th>\n",
       "    </tr>\n",
       "  </thead>\n",
       "  <tbody>\n",
       "    <tr>\n",
       "      <th>13</th>\n",
       "      <td>7934</td>\n",
       "      <td>MILLER</td>\n",
       "      <td>CLERK</td>\n",
       "      <td>7782.0</td>\n",
       "      <td>1982-01-23</td>\n",
       "      <td>1300</td>\n",
       "      <td>NaN</td>\n",
       "      <td>10</td>\n",
       "      <td>15600</td>\n",
       "      <td>0.0</td>\n",
       "    </tr>\n",
       "    <tr>\n",
       "      <th>12</th>\n",
       "      <td>7902</td>\n",
       "      <td>FORD</td>\n",
       "      <td>ANALYST</td>\n",
       "      <td>7566.0</td>\n",
       "      <td>1981-12-03</td>\n",
       "      <td>3000</td>\n",
       "      <td>NaN</td>\n",
       "      <td>20</td>\n",
       "      <td>36000</td>\n",
       "      <td>0.0</td>\n",
       "    </tr>\n",
       "    <tr>\n",
       "      <th>11</th>\n",
       "      <td>7900</td>\n",
       "      <td>JAMES</td>\n",
       "      <td>CLERK</td>\n",
       "      <td>7698.0</td>\n",
       "      <td>1981-12-03</td>\n",
       "      <td>950</td>\n",
       "      <td>NaN</td>\n",
       "      <td>30</td>\n",
       "      <td>11400</td>\n",
       "      <td>0.0</td>\n",
       "    </tr>\n",
       "  </tbody>\n",
       "</table>\n",
       "</div>"
      ],
      "text/plain": [
       "    empno   ename      job     mgr   hiredate   sal  comm  deptno   asal  \\\n",
       "13   7934  MILLER    CLERK  7782.0 1982-01-23  1300   NaN      10  15600   \n",
       "12   7902    FORD  ANALYST  7566.0 1981-12-03  3000   NaN      20  36000   \n",
       "11   7900   JAMES    CLERK  7698.0 1981-12-03   950   NaN      30  11400   \n",
       "\n",
       "    comm2  \n",
       "13    0.0  \n",
       "12    0.0  \n",
       "11    0.0  "
      ]
     },
     "execution_count": 52,
     "metadata": {},
     "output_type": "execute_result"
    }
   ],
   "source": [
    "emp.sort_index(ascending = False).head(3)"
   ]
  },
  {
   "cell_type": "markdown",
   "id": "78f34513-7626-491c-ab70-1457202501e0",
   "metadata": {},
   "source": [
    "***"
   ]
  },
  {
   "cell_type": "markdown",
   "id": "116260f3-bb95-4e2d-9ddc-c3fd62ac4786",
   "metadata": {},
   "source": [
    "# Update "
   ]
  },
  {
   "cell_type": "markdown",
   "id": "ea9a2fc5-d481-4626-bf68-6b312a95fa2a",
   "metadata": {},
   "source": [
    "## **기본 문법**\n",
    "\n",
    "    *df[기존컬럼] = 값    :   값 수정\n",
    "    *df[신규컬럼] = 값    :   신규 컬럼 생성"
   ]
  },
  {
   "cell_type": "code",
   "execution_count": 53,
   "id": "37b8cf21-dc5d-4db2-a76a-a61a3090b239",
   "metadata": {
    "tags": []
   },
   "outputs": [
    {
     "data": {
      "text/html": [
       "<div>\n",
       "<style scoped>\n",
       "    .dataframe tbody tr th:only-of-type {\n",
       "        vertical-align: middle;\n",
       "    }\n",
       "\n",
       "    .dataframe tbody tr th {\n",
       "        vertical-align: top;\n",
       "    }\n",
       "\n",
       "    .dataframe thead th {\n",
       "        text-align: right;\n",
       "    }\n",
       "</style>\n",
       "<table border=\"1\" class=\"dataframe\">\n",
       "  <thead>\n",
       "    <tr style=\"text-align: right;\">\n",
       "      <th></th>\n",
       "      <th>empno</th>\n",
       "      <th>ename</th>\n",
       "      <th>job</th>\n",
       "      <th>mgr</th>\n",
       "      <th>hiredate</th>\n",
       "      <th>sal</th>\n",
       "      <th>comm</th>\n",
       "      <th>deptno</th>\n",
       "      <th>asal</th>\n",
       "      <th>comm2</th>\n",
       "    </tr>\n",
       "  </thead>\n",
       "  <tbody>\n",
       "    <tr>\n",
       "      <th>0</th>\n",
       "      <td>7369</td>\n",
       "      <td>SMITH</td>\n",
       "      <td>CLERK</td>\n",
       "      <td>7902.0</td>\n",
       "      <td>1980-12-17</td>\n",
       "      <td>800</td>\n",
       "      <td>9999</td>\n",
       "      <td>20</td>\n",
       "      <td>9600</td>\n",
       "      <td>0.0</td>\n",
       "    </tr>\n",
       "    <tr>\n",
       "      <th>1</th>\n",
       "      <td>7499</td>\n",
       "      <td>ALLEN</td>\n",
       "      <td>SALESMAN</td>\n",
       "      <td>7698.0</td>\n",
       "      <td>1981-02-20</td>\n",
       "      <td>1600</td>\n",
       "      <td>9999</td>\n",
       "      <td>30</td>\n",
       "      <td>19200</td>\n",
       "      <td>300.0</td>\n",
       "    </tr>\n",
       "    <tr>\n",
       "      <th>2</th>\n",
       "      <td>7521</td>\n",
       "      <td>WARD</td>\n",
       "      <td>SALESMAN</td>\n",
       "      <td>7698.0</td>\n",
       "      <td>1981-02-22</td>\n",
       "      <td>1250</td>\n",
       "      <td>9999</td>\n",
       "      <td>30</td>\n",
       "      <td>15000</td>\n",
       "      <td>500.0</td>\n",
       "    </tr>\n",
       "  </tbody>\n",
       "</table>\n",
       "</div>"
      ],
      "text/plain": [
       "   empno  ename       job     mgr   hiredate   sal  comm  deptno   asal  comm2\n",
       "0   7369  SMITH     CLERK  7902.0 1980-12-17   800  9999      20   9600    0.0\n",
       "1   7499  ALLEN  SALESMAN  7698.0 1981-02-20  1600  9999      30  19200  300.0\n",
       "2   7521   WARD  SALESMAN  7698.0 1981-02-22  1250  9999      30  15000  500.0"
      ]
     },
     "execution_count": 53,
     "metadata": {},
     "output_type": "execute_result"
    }
   ],
   "source": [
    "emp['comm'] = 9999 #comm 컬럼 9999로 수정해라. 데이터 프레임에 있는 기존 컬럼에 값을 입력하면 수정이 된다.\n",
    "emp.head(3)"
   ]
  },
  {
   "cell_type": "markdown",
   "id": "011f9d04-a34c-489d-be97-bcc9f8085784",
   "metadata": {},
   "source": [
    "## df.at 문법 (단일값 수정)\n",
    "\n",
    "    * df.at[줄, 칸] = 변경값\n",
    "    * df.iat[줄idx, 칸idx] = 변경값  , idx 인덱스값\n",
    "    \n",
    "    ★at과 iat은 단일값만 변경 가능하다. 복수의 값은 변경 불가능"
   ]
  },
  {
   "cell_type": "code",
   "execution_count": 54,
   "id": "315bf2ff-3337-4027-955e-1daf212e09c5",
   "metadata": {
    "tags": []
   },
   "outputs": [
    {
     "data": {
      "text/html": [
       "<div>\n",
       "<style scoped>\n",
       "    .dataframe tbody tr th:only-of-type {\n",
       "        vertical-align: middle;\n",
       "    }\n",
       "\n",
       "    .dataframe tbody tr th {\n",
       "        vertical-align: top;\n",
       "    }\n",
       "\n",
       "    .dataframe thead th {\n",
       "        text-align: right;\n",
       "    }\n",
       "</style>\n",
       "<table border=\"1\" class=\"dataframe\">\n",
       "  <thead>\n",
       "    <tr style=\"text-align: right;\">\n",
       "      <th></th>\n",
       "      <th>empno</th>\n",
       "      <th>ename</th>\n",
       "      <th>job</th>\n",
       "      <th>mgr</th>\n",
       "      <th>hiredate</th>\n",
       "      <th>sal</th>\n",
       "      <th>comm</th>\n",
       "      <th>deptno</th>\n",
       "      <th>asal</th>\n",
       "      <th>comm2</th>\n",
       "    </tr>\n",
       "  </thead>\n",
       "  <tbody>\n",
       "    <tr>\n",
       "      <th>0</th>\n",
       "      <td>7369</td>\n",
       "      <td>ssmithss</td>\n",
       "      <td>CLERK</td>\n",
       "      <td>7902.0</td>\n",
       "      <td>1980-12-17</td>\n",
       "      <td>800</td>\n",
       "      <td>9999</td>\n",
       "      <td>20</td>\n",
       "      <td>9600</td>\n",
       "      <td>0.0</td>\n",
       "    </tr>\n",
       "    <tr>\n",
       "      <th>1</th>\n",
       "      <td>7499</td>\n",
       "      <td>ALLEN</td>\n",
       "      <td>SALESMAN</td>\n",
       "      <td>7698.0</td>\n",
       "      <td>1981-02-20</td>\n",
       "      <td>1600</td>\n",
       "      <td>9999</td>\n",
       "      <td>30</td>\n",
       "      <td>19200</td>\n",
       "      <td>300.0</td>\n",
       "    </tr>\n",
       "    <tr>\n",
       "      <th>2</th>\n",
       "      <td>7521</td>\n",
       "      <td>WARD</td>\n",
       "      <td>SALESMAN</td>\n",
       "      <td>7698.0</td>\n",
       "      <td>1981-02-22</td>\n",
       "      <td>1250</td>\n",
       "      <td>9999</td>\n",
       "      <td>30</td>\n",
       "      <td>15000</td>\n",
       "      <td>500.0</td>\n",
       "    </tr>\n",
       "  </tbody>\n",
       "</table>\n",
       "</div>"
      ],
      "text/plain": [
       "   empno     ename       job     mgr   hiredate   sal  comm  deptno   asal  \\\n",
       "0   7369  ssmithss     CLERK  7902.0 1980-12-17   800  9999      20   9600   \n",
       "1   7499     ALLEN  SALESMAN  7698.0 1981-02-20  1600  9999      30  19200   \n",
       "2   7521      WARD  SALESMAN  7698.0 1981-02-22  1250  9999      30  15000   \n",
       "\n",
       "   comm2  \n",
       "0    0.0  \n",
       "1  300.0  \n",
       "2  500.0  "
      ]
     },
     "execution_count": 54,
     "metadata": {},
     "output_type": "execute_result"
    }
   ],
   "source": [
    "emp.at[0,'ename'] = 'ssmithss' #0번째 줄의 ename 변경해\n",
    "emp.head(3)"
   ]
  },
  {
   "cell_type": "code",
   "execution_count": 55,
   "id": "cc7be711-ce79-4180-b4b0-634ea9f95ffd",
   "metadata": {
    "tags": []
   },
   "outputs": [
    {
     "name": "stderr",
     "output_type": "stream",
     "text": [
      "C:\\Users\\ASIAE\\AppData\\Local\\Temp\\ipykernel_14100\\297044691.py:4: SettingWithCopyWarning: \n",
      "A value is trying to be set on a copy of a slice from a DataFrame.\n",
      "Try using .loc[row_indexer,col_indexer] = value instead\n",
      "\n",
      "See the caveats in the documentation: https://pandas.pydata.org/pandas-docs/stable/user_guide/indexing.html#returning-a-view-versus-a-copy\n",
      "  emp[emp['deptno']==10]['job'] = 'sale10' # 안됨\n",
      "C:\\Users\\ASIAE\\AppData\\Local\\Temp\\ipykernel_14100\\297044691.py:5: SettingWithCopyWarning: \n",
      "A value is trying to be set on a copy of a slice from a DataFrame\n",
      "\n",
      "See the caveats in the documentation: https://pandas.pydata.org/pandas-docs/stable/user_guide/indexing.html#returning-a-view-versus-a-copy\n",
      "  emp['job'][emp['deptno']==10] = 'sale10'  #되긴하는데 쓰지말기\n"
     ]
    },
    {
     "data": {
      "text/html": [
       "<div>\n",
       "<style scoped>\n",
       "    .dataframe tbody tr th:only-of-type {\n",
       "        vertical-align: middle;\n",
       "    }\n",
       "\n",
       "    .dataframe tbody tr th {\n",
       "        vertical-align: top;\n",
       "    }\n",
       "\n",
       "    .dataframe thead th {\n",
       "        text-align: right;\n",
       "    }\n",
       "</style>\n",
       "<table border=\"1\" class=\"dataframe\">\n",
       "  <thead>\n",
       "    <tr style=\"text-align: right;\">\n",
       "      <th></th>\n",
       "      <th>empno</th>\n",
       "      <th>ename</th>\n",
       "      <th>job</th>\n",
       "      <th>mgr</th>\n",
       "      <th>hiredate</th>\n",
       "      <th>sal</th>\n",
       "      <th>comm</th>\n",
       "      <th>deptno</th>\n",
       "      <th>asal</th>\n",
       "      <th>comm2</th>\n",
       "    </tr>\n",
       "  </thead>\n",
       "  <tbody>\n",
       "    <tr>\n",
       "      <th>0</th>\n",
       "      <td>7369</td>\n",
       "      <td>ssmithss</td>\n",
       "      <td>CLERK</td>\n",
       "      <td>7902.0</td>\n",
       "      <td>1980-12-17</td>\n",
       "      <td>800</td>\n",
       "      <td>9999</td>\n",
       "      <td>20</td>\n",
       "      <td>9600</td>\n",
       "      <td>0.0</td>\n",
       "    </tr>\n",
       "    <tr>\n",
       "      <th>1</th>\n",
       "      <td>7499</td>\n",
       "      <td>ALLEN</td>\n",
       "      <td>SALESMAN</td>\n",
       "      <td>7698.0</td>\n",
       "      <td>1981-02-20</td>\n",
       "      <td>1600</td>\n",
       "      <td>9999</td>\n",
       "      <td>30</td>\n",
       "      <td>19200</td>\n",
       "      <td>300.0</td>\n",
       "    </tr>\n",
       "    <tr>\n",
       "      <th>2</th>\n",
       "      <td>7521</td>\n",
       "      <td>WARD</td>\n",
       "      <td>SALESMAN</td>\n",
       "      <td>7698.0</td>\n",
       "      <td>1981-02-22</td>\n",
       "      <td>1250</td>\n",
       "      <td>9999</td>\n",
       "      <td>30</td>\n",
       "      <td>15000</td>\n",
       "      <td>500.0</td>\n",
       "    </tr>\n",
       "  </tbody>\n",
       "</table>\n",
       "</div>"
      ],
      "text/plain": [
       "   empno     ename       job     mgr   hiredate   sal  comm  deptno   asal  \\\n",
       "0   7369  ssmithss     CLERK  7902.0 1980-12-17   800  9999      20   9600   \n",
       "1   7499     ALLEN  SALESMAN  7698.0 1981-02-20  1600  9999      30  19200   \n",
       "2   7521      WARD  SALESMAN  7698.0 1981-02-22  1250  9999      30  15000   \n",
       "\n",
       "   comm2  \n",
       "0    0.0  \n",
       "1  300.0  \n",
       "2  500.0  "
      ]
     },
     "execution_count": 55,
     "metadata": {},
     "output_type": "execute_result"
    }
   ],
   "source": [
    "#update emp set job = 'sales' where deptno =10;\n",
    "# 에러나는 문법 : Try using .loc[row_indexer,col_indexer] = value instead . loc등을 이용해서 써라.\n",
    "\n",
    "emp[emp['deptno']==10]['job'] = 'sale10' # 안됨\n",
    "emp['job'][emp['deptno']==10] = 'sale10'  #되긴하는데 쓰지말기\n",
    "emp.head(3)"
   ]
  },
  {
   "cell_type": "markdown",
   "id": "07e85bd9-fef3-4bab-aec6-3af0e5cefd72",
   "metadata": {
    "tags": []
   },
   "source": [
    "> emp.iat[0,1] = 'kkk' / 단일값이라서 변경 가능  \n",
    "> emp.iat[0:2,1] = 'ddd' / 복수값이라서 변경 불가능"
   ]
  },
  {
   "cell_type": "markdown",
   "id": "45628516-b0b5-4c1e-9a33-80462910a1bc",
   "metadata": {},
   "source": [
    "## 여러값 변경 가능 loc, iloc이용 "
   ]
  },
  {
   "cell_type": "code",
   "execution_count": 56,
   "id": "bd5af22f-d8ae-4d04-bf02-de321a185ef1",
   "metadata": {
    "tags": []
   },
   "outputs": [
    {
     "data": {
      "text/html": [
       "<div>\n",
       "<style scoped>\n",
       "    .dataframe tbody tr th:only-of-type {\n",
       "        vertical-align: middle;\n",
       "    }\n",
       "\n",
       "    .dataframe tbody tr th {\n",
       "        vertical-align: top;\n",
       "    }\n",
       "\n",
       "    .dataframe thead th {\n",
       "        text-align: right;\n",
       "    }\n",
       "</style>\n",
       "<table border=\"1\" class=\"dataframe\">\n",
       "  <thead>\n",
       "    <tr style=\"text-align: right;\">\n",
       "      <th></th>\n",
       "      <th>empno</th>\n",
       "      <th>ename</th>\n",
       "      <th>job</th>\n",
       "      <th>mgr</th>\n",
       "      <th>hiredate</th>\n",
       "      <th>sal</th>\n",
       "      <th>comm</th>\n",
       "      <th>deptno</th>\n",
       "      <th>asal</th>\n",
       "      <th>comm2</th>\n",
       "    </tr>\n",
       "  </thead>\n",
       "  <tbody>\n",
       "    <tr>\n",
       "      <th>0</th>\n",
       "      <td>7369</td>\n",
       "      <td>OOO</td>\n",
       "      <td>CLERK</td>\n",
       "      <td>7902.0</td>\n",
       "      <td>1980-12-17</td>\n",
       "      <td>800</td>\n",
       "      <td>9999</td>\n",
       "      <td>20</td>\n",
       "      <td>9600</td>\n",
       "      <td>0.0</td>\n",
       "    </tr>\n",
       "    <tr>\n",
       "      <th>1</th>\n",
       "      <td>7499</td>\n",
       "      <td>OOO</td>\n",
       "      <td>SALESMAN</td>\n",
       "      <td>7698.0</td>\n",
       "      <td>1981-02-20</td>\n",
       "      <td>1600</td>\n",
       "      <td>9999</td>\n",
       "      <td>30</td>\n",
       "      <td>19200</td>\n",
       "      <td>300.0</td>\n",
       "    </tr>\n",
       "    <tr>\n",
       "      <th>2</th>\n",
       "      <td>7521</td>\n",
       "      <td>WARD</td>\n",
       "      <td>SALESMAN</td>\n",
       "      <td>7698.0</td>\n",
       "      <td>1981-02-22</td>\n",
       "      <td>1250</td>\n",
       "      <td>9999</td>\n",
       "      <td>30</td>\n",
       "      <td>15000</td>\n",
       "      <td>500.0</td>\n",
       "    </tr>\n",
       "  </tbody>\n",
       "</table>\n",
       "</div>"
      ],
      "text/plain": [
       "   empno ename       job     mgr   hiredate   sal  comm  deptno   asal  comm2\n",
       "0   7369   OOO     CLERK  7902.0 1980-12-17   800  9999      20   9600    0.0\n",
       "1   7499   OOO  SALESMAN  7698.0 1981-02-20  1600  9999      30  19200  300.0\n",
       "2   7521  WARD  SALESMAN  7698.0 1981-02-22  1250  9999      30  15000  500.0"
      ]
     },
     "execution_count": 56,
     "metadata": {},
     "output_type": "execute_result"
    }
   ],
   "source": [
    "emp.iloc[0:2,1] = \"OOO\"\n",
    "emp.head(3)"
   ]
  },
  {
   "cell_type": "markdown",
   "id": "4a6617c7-6655-4e45-97e6-7c72437335e5",
   "metadata": {},
   "source": [
    "## 조건부 수정 "
   ]
  },
  {
   "cell_type": "markdown",
   "id": "9d71bd77-a74d-459b-9209-7d24f0b8dde4",
   "metadata": {},
   "source": [
    "> * np.where(조건절, 참값, 거짓값) -- decode(deptno, 10, '십', '그 외')  \n",
    "    -np.where(df['deptno']==10,'십','그 외')  \n",
    "    \n",
    "> * df[컬럼1].where(조건문, 거짓값)  \n",
    "    -df['deptno'].where(df['deptno']==10, '그 외')"
   ]
  },
  {
   "cell_type": "code",
   "execution_count": 57,
   "id": "a4ea73bd-a4cb-46d7-b553-34a22a49ad02",
   "metadata": {
    "tags": []
   },
   "outputs": [
    {
     "data": {
      "text/plain": [
       "array(['그 외', '그 외', '그 외', '그 외', '그 외', '그 외', '십', '그 외', '십', '그 외',\n",
       "       '그 외', '그 외', '그 외', '십'], dtype='<U3')"
      ]
     },
     "execution_count": 57,
     "metadata": {},
     "output_type": "execute_result"
    }
   ],
   "source": [
    "np.where(emp['deptno']==10,'십','그 외')"
   ]
  },
  {
   "cell_type": "code",
   "execution_count": 58,
   "id": "c890afaa-964f-4207-9bcf-2ee3260c8f8c",
   "metadata": {
    "tags": []
   },
   "outputs": [],
   "source": [
    "emp['dept_str'] = np.where(emp['deptno']==10,'십','그 외')\n"
   ]
  },
  {
   "cell_type": "markdown",
   "id": "6e02a41f-09c0-4ea6-a5e2-095f4157bc1a",
   "metadata": {},
   "source": [
    ">update emp set job = 'sales10' where deptno = 10;"
   ]
  },
  {
   "cell_type": "code",
   "execution_count": 59,
   "id": "d3ac1fe5-f65b-4c1d-8b38-90ab8a3dae9e",
   "metadata": {
    "tags": []
   },
   "outputs": [
    {
     "data": {
      "text/html": [
       "<div>\n",
       "<style scoped>\n",
       "    .dataframe tbody tr th:only-of-type {\n",
       "        vertical-align: middle;\n",
       "    }\n",
       "\n",
       "    .dataframe tbody tr th {\n",
       "        vertical-align: top;\n",
       "    }\n",
       "\n",
       "    .dataframe thead th {\n",
       "        text-align: right;\n",
       "    }\n",
       "</style>\n",
       "<table border=\"1\" class=\"dataframe\">\n",
       "  <thead>\n",
       "    <tr style=\"text-align: right;\">\n",
       "      <th></th>\n",
       "      <th>job2</th>\n",
       "      <th>deptno</th>\n",
       "    </tr>\n",
       "  </thead>\n",
       "  <tbody>\n",
       "    <tr>\n",
       "      <th>6</th>\n",
       "      <td>sales10</td>\n",
       "      <td>10</td>\n",
       "    </tr>\n",
       "    <tr>\n",
       "      <th>8</th>\n",
       "      <td>sales10</td>\n",
       "      <td>10</td>\n",
       "    </tr>\n",
       "    <tr>\n",
       "      <th>13</th>\n",
       "      <td>sales10</td>\n",
       "      <td>10</td>\n",
       "    </tr>\n",
       "  </tbody>\n",
       "</table>\n",
       "</div>"
      ],
      "text/plain": [
       "       job2  deptno\n",
       "6   sales10      10\n",
       "8   sales10      10\n",
       "13  sales10      10"
      ]
     },
     "execution_count": 59,
     "metadata": {},
     "output_type": "execute_result"
    }
   ],
   "source": [
    "emp['job2'] = np.where(emp['deptno']==10,'sales10',emp['job']) #맞으면 그대로 컬럼값을 써야되니까 job을 쓴다. 새로운 컬럼 생성\n",
    "emp[['job2','deptno']].sort_values(by=['deptno']).head(3)"
   ]
  },
  {
   "cell_type": "markdown",
   "id": "b22b4395-f57a-4206-adba-1e1896092791",
   "metadata": {},
   "source": [
    "* df[컬럼1].where(조건문, 거짓값)  \n",
    "    -df['deptno'].where(df['deptno']==10, '그 외')"
   ]
  },
  {
   "cell_type": "code",
   "execution_count": 60,
   "id": "89c9b095-03c2-4851-9d67-f9ba80cd7095",
   "metadata": {
    "tags": []
   },
   "outputs": [
    {
     "data": {
      "text/html": [
       "<div>\n",
       "<style scoped>\n",
       "    .dataframe tbody tr th:only-of-type {\n",
       "        vertical-align: middle;\n",
       "    }\n",
       "\n",
       "    .dataframe tbody tr th {\n",
       "        vertical-align: top;\n",
       "    }\n",
       "\n",
       "    .dataframe thead th {\n",
       "        text-align: right;\n",
       "    }\n",
       "</style>\n",
       "<table border=\"1\" class=\"dataframe\">\n",
       "  <thead>\n",
       "    <tr style=\"text-align: right;\">\n",
       "      <th></th>\n",
       "      <th>empno</th>\n",
       "      <th>ename</th>\n",
       "      <th>job</th>\n",
       "      <th>mgr</th>\n",
       "      <th>hiredate</th>\n",
       "      <th>sal</th>\n",
       "      <th>comm</th>\n",
       "      <th>deptno</th>\n",
       "      <th>asal</th>\n",
       "      <th>comm2</th>\n",
       "      <th>dept_str</th>\n",
       "      <th>job2</th>\n",
       "    </tr>\n",
       "  </thead>\n",
       "  <tbody>\n",
       "    <tr>\n",
       "      <th>0</th>\n",
       "      <td>7369</td>\n",
       "      <td>OOO</td>\n",
       "      <td>CLERK</td>\n",
       "      <td>7902.0</td>\n",
       "      <td>1980-12-17</td>\n",
       "      <td>800</td>\n",
       "      <td>9999</td>\n",
       "      <td>20</td>\n",
       "      <td>9600</td>\n",
       "      <td>0.0</td>\n",
       "      <td>그 외</td>\n",
       "      <td>CLERK</td>\n",
       "    </tr>\n",
       "    <tr>\n",
       "      <th>1</th>\n",
       "      <td>7499</td>\n",
       "      <td>OOO</td>\n",
       "      <td>SALESMAN</td>\n",
       "      <td>7698.0</td>\n",
       "      <td>1981-02-20</td>\n",
       "      <td>1600</td>\n",
       "      <td>9999</td>\n",
       "      <td>30</td>\n",
       "      <td>19200</td>\n",
       "      <td>300.0</td>\n",
       "      <td>그 외</td>\n",
       "      <td>SALESMAN</td>\n",
       "    </tr>\n",
       "    <tr>\n",
       "      <th>2</th>\n",
       "      <td>7521</td>\n",
       "      <td>WARD</td>\n",
       "      <td>SALESMAN</td>\n",
       "      <td>7698.0</td>\n",
       "      <td>1981-02-22</td>\n",
       "      <td>1250</td>\n",
       "      <td>9999</td>\n",
       "      <td>30</td>\n",
       "      <td>15000</td>\n",
       "      <td>500.0</td>\n",
       "      <td>그 외</td>\n",
       "      <td>SALESMAN</td>\n",
       "    </tr>\n",
       "  </tbody>\n",
       "</table>\n",
       "</div>"
      ],
      "text/plain": [
       "   empno ename       job     mgr   hiredate   sal  comm  deptno   asal  comm2  \\\n",
       "0   7369   OOO     CLERK  7902.0 1980-12-17   800  9999      20   9600    0.0   \n",
       "1   7499   OOO  SALESMAN  7698.0 1981-02-20  1600  9999      30  19200  300.0   \n",
       "2   7521  WARD  SALESMAN  7698.0 1981-02-22  1250  9999      30  15000  500.0   \n",
       "\n",
       "  dept_str      job2  \n",
       "0      그 외     CLERK  \n",
       "1      그 외  SALESMAN  \n",
       "2      그 외  SALESMAN  "
      ]
     },
     "execution_count": 60,
     "metadata": {},
     "output_type": "execute_result"
    }
   ],
   "source": [
    "emp['job'].where(emp['deptno']!=10, 'sales1010')\n",
    "emp.head(3)"
   ]
  },
  {
   "cell_type": "code",
   "execution_count": 61,
   "id": "730fb67f-2ea9-4cad-a3f4-382438168473",
   "metadata": {
    "tags": []
   },
   "outputs": [
    {
     "data": {
      "text/html": [
       "<div>\n",
       "<style scoped>\n",
       "    .dataframe tbody tr th:only-of-type {\n",
       "        vertical-align: middle;\n",
       "    }\n",
       "\n",
       "    .dataframe tbody tr th {\n",
       "        vertical-align: top;\n",
       "    }\n",
       "\n",
       "    .dataframe thead th {\n",
       "        text-align: right;\n",
       "    }\n",
       "</style>\n",
       "<table border=\"1\" class=\"dataframe\">\n",
       "  <thead>\n",
       "    <tr style=\"text-align: right;\">\n",
       "      <th></th>\n",
       "      <th>empno</th>\n",
       "      <th>ename</th>\n",
       "      <th>job</th>\n",
       "      <th>mgr</th>\n",
       "      <th>hiredate</th>\n",
       "      <th>sal</th>\n",
       "      <th>comm</th>\n",
       "      <th>deptno</th>\n",
       "      <th>asal</th>\n",
       "      <th>comm2</th>\n",
       "      <th>dept_str</th>\n",
       "      <th>job2</th>\n",
       "      <th>job3</th>\n",
       "    </tr>\n",
       "  </thead>\n",
       "  <tbody>\n",
       "    <tr>\n",
       "      <th>0</th>\n",
       "      <td>7369</td>\n",
       "      <td>OOO</td>\n",
       "      <td>CLERK</td>\n",
       "      <td>7902.0</td>\n",
       "      <td>1980-12-17</td>\n",
       "      <td>800</td>\n",
       "      <td>9999</td>\n",
       "      <td>20</td>\n",
       "      <td>9600</td>\n",
       "      <td>0.0</td>\n",
       "      <td>그 외</td>\n",
       "      <td>CLERK</td>\n",
       "      <td>CLERK</td>\n",
       "    </tr>\n",
       "    <tr>\n",
       "      <th>1</th>\n",
       "      <td>7499</td>\n",
       "      <td>OOO</td>\n",
       "      <td>SALESMAN</td>\n",
       "      <td>7698.0</td>\n",
       "      <td>1981-02-20</td>\n",
       "      <td>1600</td>\n",
       "      <td>9999</td>\n",
       "      <td>30</td>\n",
       "      <td>19200</td>\n",
       "      <td>300.0</td>\n",
       "      <td>그 외</td>\n",
       "      <td>SALESMAN</td>\n",
       "      <td>SALESMAN</td>\n",
       "    </tr>\n",
       "    <tr>\n",
       "      <th>2</th>\n",
       "      <td>7521</td>\n",
       "      <td>WARD</td>\n",
       "      <td>SALESMAN</td>\n",
       "      <td>7698.0</td>\n",
       "      <td>1981-02-22</td>\n",
       "      <td>1250</td>\n",
       "      <td>9999</td>\n",
       "      <td>30</td>\n",
       "      <td>15000</td>\n",
       "      <td>500.0</td>\n",
       "      <td>그 외</td>\n",
       "      <td>SALESMAN</td>\n",
       "      <td>SALESMAN</td>\n",
       "    </tr>\n",
       "  </tbody>\n",
       "</table>\n",
       "</div>"
      ],
      "text/plain": [
       "   empno ename       job     mgr   hiredate   sal  comm  deptno   asal  comm2  \\\n",
       "0   7369   OOO     CLERK  7902.0 1980-12-17   800  9999      20   9600    0.0   \n",
       "1   7499   OOO  SALESMAN  7698.0 1981-02-20  1600  9999      30  19200  300.0   \n",
       "2   7521  WARD  SALESMAN  7698.0 1981-02-22  1250  9999      30  15000  500.0   \n",
       "\n",
       "  dept_str      job2      job3  \n",
       "0      그 외     CLERK     CLERK  \n",
       "1      그 외  SALESMAN  SALESMAN  \n",
       "2      그 외  SALESMAN  SALESMAN  "
      ]
     },
     "execution_count": 61,
     "metadata": {},
     "output_type": "execute_result"
    }
   ],
   "source": [
    "#참일 경우(10이 아닌 경우) 직업 그대로 찍어라.\n",
    "\n",
    "#참값.조건((만족하지 못하는), 거짓값)\n",
    "emp['job3'] = emp['job'].where(emp['deptno']!=10, 'sales1010') #새 변수를 쓰면 새 컬럼 생성, 기존 컬럼은 업데이트 된 것.\n",
    "emp.head(3)"
   ]
  },
  {
   "cell_type": "code",
   "execution_count": null,
   "id": "90397d6a-f946-4104-8a9a-00c24f19125a",
   "metadata": {
    "tags": []
   },
   "outputs": [],
   "source": []
  },
  {
   "cell_type": "markdown",
   "id": "99d81d1d-ee15-41c8-9665-0ff733f312de",
   "metadata": {},
   "source": [
    "# delete"
   ]
  },
  {
   "cell_type": "markdown",
   "id": "a3d38334-281c-49e2-bfb6-9e584cf652a3",
   "metadata": {},
   "source": [
    "* DML : delete from emp -- 데이터 삭제\n",
    "* DDL : drop table emp -- 테이블 객체 삭제\n",
    "----------------------------------------------------\n",
    "\n",
    "* del emp             -- 데이터프레임객체 삭제\n",
    "------------------------------------------------------\n",
    "\n",
    ">* drop(**인덱스값**) / dropna()   -- 데이터 삭제  \n",
    "* drop(컬럼명, axis = 1)   ---- 컬럼 삭제(세로 지우기)\n",
    "* drop(인덱스값, axis = 0) ---- 행 삭제(가로 지우기) / 단일값이거나 [,]한 묶음으로 하거나"
   ]
  },
  {
   "cell_type": "code",
   "execution_count": 62,
   "id": "6336884a-466a-4f0c-8724-f19d877a8933",
   "metadata": {
    "tags": []
   },
   "outputs": [
    {
     "data": {
      "text/html": [
       "<div>\n",
       "<style scoped>\n",
       "    .dataframe tbody tr th:only-of-type {\n",
       "        vertical-align: middle;\n",
       "    }\n",
       "\n",
       "    .dataframe tbody tr th {\n",
       "        vertical-align: top;\n",
       "    }\n",
       "\n",
       "    .dataframe thead th {\n",
       "        text-align: right;\n",
       "    }\n",
       "</style>\n",
       "<table border=\"1\" class=\"dataframe\">\n",
       "  <thead>\n",
       "    <tr style=\"text-align: right;\">\n",
       "      <th></th>\n",
       "      <th>empno</th>\n",
       "      <th>ename</th>\n",
       "      <th>job</th>\n",
       "      <th>mgr</th>\n",
       "      <th>hiredate</th>\n",
       "      <th>sal</th>\n",
       "      <th>comm</th>\n",
       "      <th>deptno</th>\n",
       "      <th>asal</th>\n",
       "      <th>comm2</th>\n",
       "      <th>dept_str</th>\n",
       "      <th>job2</th>\n",
       "      <th>job3</th>\n",
       "    </tr>\n",
       "  </thead>\n",
       "  <tbody>\n",
       "    <tr>\n",
       "      <th>1</th>\n",
       "      <td>7499</td>\n",
       "      <td>OOO</td>\n",
       "      <td>SALESMAN</td>\n",
       "      <td>7698.0</td>\n",
       "      <td>1981-02-20</td>\n",
       "      <td>1600</td>\n",
       "      <td>9999</td>\n",
       "      <td>30</td>\n",
       "      <td>19200</td>\n",
       "      <td>300.0</td>\n",
       "      <td>그 외</td>\n",
       "      <td>SALESMAN</td>\n",
       "      <td>SALESMAN</td>\n",
       "    </tr>\n",
       "    <tr>\n",
       "      <th>2</th>\n",
       "      <td>7521</td>\n",
       "      <td>WARD</td>\n",
       "      <td>SALESMAN</td>\n",
       "      <td>7698.0</td>\n",
       "      <td>1981-02-22</td>\n",
       "      <td>1250</td>\n",
       "      <td>9999</td>\n",
       "      <td>30</td>\n",
       "      <td>15000</td>\n",
       "      <td>500.0</td>\n",
       "      <td>그 외</td>\n",
       "      <td>SALESMAN</td>\n",
       "      <td>SALESMAN</td>\n",
       "    </tr>\n",
       "    <tr>\n",
       "      <th>3</th>\n",
       "      <td>7566</td>\n",
       "      <td>JONES</td>\n",
       "      <td>MANAGER</td>\n",
       "      <td>7839.0</td>\n",
       "      <td>1981-04-02</td>\n",
       "      <td>2975</td>\n",
       "      <td>9999</td>\n",
       "      <td>20</td>\n",
       "      <td>35700</td>\n",
       "      <td>0.0</td>\n",
       "      <td>그 외</td>\n",
       "      <td>MANAGER</td>\n",
       "      <td>MANAGER</td>\n",
       "    </tr>\n",
       "  </tbody>\n",
       "</table>\n",
       "</div>"
      ],
      "text/plain": [
       "   empno  ename       job     mgr   hiredate   sal  comm  deptno   asal  \\\n",
       "1   7499    OOO  SALESMAN  7698.0 1981-02-20  1600  9999      30  19200   \n",
       "2   7521   WARD  SALESMAN  7698.0 1981-02-22  1250  9999      30  15000   \n",
       "3   7566  JONES   MANAGER  7839.0 1981-04-02  2975  9999      20  35700   \n",
       "\n",
       "   comm2 dept_str      job2      job3  \n",
       "1  300.0      그 외  SALESMAN  SALESMAN  \n",
       "2  500.0      그 외  SALESMAN  SALESMAN  \n",
       "3    0.0      그 외   MANAGER   MANAGER  "
      ]
     },
     "execution_count": 62,
     "metadata": {},
     "output_type": "execute_result"
    }
   ],
   "source": [
    "emp.drop(0).head(3)"
   ]
  },
  {
   "cell_type": "code",
   "execution_count": 63,
   "id": "2d67cc1a-0293-404a-a28d-4bd8d4e044d5",
   "metadata": {
    "tags": []
   },
   "outputs": [],
   "source": [
    "emp = emp.drop(0) #emp에 다시 넣어줘야 완전 삭제. 인덱스값 0 지웠는데 똑같이 0번 지우라고 재실행하면 이미 인덱스 0이 사라져서 에러가 난다."
   ]
  },
  {
   "cell_type": "code",
   "execution_count": 64,
   "id": "1b27a10c-0f4e-497d-bc98-471af09356f1",
   "metadata": {
    "tags": []
   },
   "outputs": [],
   "source": [
    "emp = emp.drop(2,axis=0) #인덱스2 행을 삭제해라"
   ]
  },
  {
   "cell_type": "code",
   "execution_count": 65,
   "id": "590f5207-5d60-4f60-a688-3dbee5958c0e",
   "metadata": {
    "tags": []
   },
   "outputs": [
    {
     "data": {
      "text/html": [
       "<div>\n",
       "<style scoped>\n",
       "    .dataframe tbody tr th:only-of-type {\n",
       "        vertical-align: middle;\n",
       "    }\n",
       "\n",
       "    .dataframe tbody tr th {\n",
       "        vertical-align: top;\n",
       "    }\n",
       "\n",
       "    .dataframe thead th {\n",
       "        text-align: right;\n",
       "    }\n",
       "</style>\n",
       "<table border=\"1\" class=\"dataframe\">\n",
       "  <thead>\n",
       "    <tr style=\"text-align: right;\">\n",
       "      <th></th>\n",
       "      <th>empno</th>\n",
       "      <th>ename</th>\n",
       "      <th>job</th>\n",
       "      <th>mgr</th>\n",
       "      <th>hiredate</th>\n",
       "      <th>sal</th>\n",
       "      <th>comm</th>\n",
       "      <th>deptno</th>\n",
       "      <th>asal</th>\n",
       "      <th>comm2</th>\n",
       "      <th>dept_str</th>\n",
       "      <th>job2</th>\n",
       "      <th>job3</th>\n",
       "    </tr>\n",
       "  </thead>\n",
       "  <tbody>\n",
       "    <tr>\n",
       "      <th>1</th>\n",
       "      <td>7499</td>\n",
       "      <td>OOO</td>\n",
       "      <td>SALESMAN</td>\n",
       "      <td>7698.0</td>\n",
       "      <td>1981-02-20</td>\n",
       "      <td>1600</td>\n",
       "      <td>9999</td>\n",
       "      <td>30</td>\n",
       "      <td>19200</td>\n",
       "      <td>300.0</td>\n",
       "      <td>그 외</td>\n",
       "      <td>SALESMAN</td>\n",
       "      <td>SALESMAN</td>\n",
       "    </tr>\n",
       "    <tr>\n",
       "      <th>3</th>\n",
       "      <td>7566</td>\n",
       "      <td>JONES</td>\n",
       "      <td>MANAGER</td>\n",
       "      <td>7839.0</td>\n",
       "      <td>1981-04-02</td>\n",
       "      <td>2975</td>\n",
       "      <td>9999</td>\n",
       "      <td>20</td>\n",
       "      <td>35700</td>\n",
       "      <td>0.0</td>\n",
       "      <td>그 외</td>\n",
       "      <td>MANAGER</td>\n",
       "      <td>MANAGER</td>\n",
       "    </tr>\n",
       "    <tr>\n",
       "      <th>4</th>\n",
       "      <td>7654</td>\n",
       "      <td>MARTIN</td>\n",
       "      <td>SALESMAN</td>\n",
       "      <td>7698.0</td>\n",
       "      <td>1981-09-28</td>\n",
       "      <td>1250</td>\n",
       "      <td>9999</td>\n",
       "      <td>30</td>\n",
       "      <td>15000</td>\n",
       "      <td>1400.0</td>\n",
       "      <td>그 외</td>\n",
       "      <td>SALESMAN</td>\n",
       "      <td>SALESMAN</td>\n",
       "    </tr>\n",
       "  </tbody>\n",
       "</table>\n",
       "</div>"
      ],
      "text/plain": [
       "   empno   ename       job     mgr   hiredate   sal  comm  deptno   asal  \\\n",
       "1   7499     OOO  SALESMAN  7698.0 1981-02-20  1600  9999      30  19200   \n",
       "3   7566   JONES   MANAGER  7839.0 1981-04-02  2975  9999      20  35700   \n",
       "4   7654  MARTIN  SALESMAN  7698.0 1981-09-28  1250  9999      30  15000   \n",
       "\n",
       "    comm2 dept_str      job2      job3  \n",
       "1   300.0      그 외  SALESMAN  SALESMAN  \n",
       "3     0.0      그 외   MANAGER   MANAGER  \n",
       "4  1400.0      그 외  SALESMAN  SALESMAN  "
      ]
     },
     "execution_count": 65,
     "metadata": {},
     "output_type": "execute_result"
    }
   ],
   "source": [
    "emp.head(3)"
   ]
  },
  {
   "cell_type": "code",
   "execution_count": 66,
   "id": "088c306e-f08b-4303-bb3d-713d3985964e",
   "metadata": {
    "tags": []
   },
   "outputs": [
    {
     "data": {
      "text/html": [
       "<div>\n",
       "<style scoped>\n",
       "    .dataframe tbody tr th:only-of-type {\n",
       "        vertical-align: middle;\n",
       "    }\n",
       "\n",
       "    .dataframe tbody tr th {\n",
       "        vertical-align: top;\n",
       "    }\n",
       "\n",
       "    .dataframe thead th {\n",
       "        text-align: right;\n",
       "    }\n",
       "</style>\n",
       "<table border=\"1\" class=\"dataframe\">\n",
       "  <thead>\n",
       "    <tr style=\"text-align: right;\">\n",
       "      <th></th>\n",
       "      <th>empno</th>\n",
       "      <th>job</th>\n",
       "      <th>mgr</th>\n",
       "      <th>hiredate</th>\n",
       "      <th>sal</th>\n",
       "      <th>comm</th>\n",
       "      <th>deptno</th>\n",
       "      <th>asal</th>\n",
       "      <th>comm2</th>\n",
       "      <th>dept_str</th>\n",
       "      <th>job2</th>\n",
       "      <th>job3</th>\n",
       "    </tr>\n",
       "  </thead>\n",
       "  <tbody>\n",
       "    <tr>\n",
       "      <th>1</th>\n",
       "      <td>7499</td>\n",
       "      <td>SALESMAN</td>\n",
       "      <td>7698.0</td>\n",
       "      <td>1981-02-20</td>\n",
       "      <td>1600</td>\n",
       "      <td>9999</td>\n",
       "      <td>30</td>\n",
       "      <td>19200</td>\n",
       "      <td>300.0</td>\n",
       "      <td>그 외</td>\n",
       "      <td>SALESMAN</td>\n",
       "      <td>SALESMAN</td>\n",
       "    </tr>\n",
       "    <tr>\n",
       "      <th>3</th>\n",
       "      <td>7566</td>\n",
       "      <td>MANAGER</td>\n",
       "      <td>7839.0</td>\n",
       "      <td>1981-04-02</td>\n",
       "      <td>2975</td>\n",
       "      <td>9999</td>\n",
       "      <td>20</td>\n",
       "      <td>35700</td>\n",
       "      <td>0.0</td>\n",
       "      <td>그 외</td>\n",
       "      <td>MANAGER</td>\n",
       "      <td>MANAGER</td>\n",
       "    </tr>\n",
       "    <tr>\n",
       "      <th>4</th>\n",
       "      <td>7654</td>\n",
       "      <td>SALESMAN</td>\n",
       "      <td>7698.0</td>\n",
       "      <td>1981-09-28</td>\n",
       "      <td>1250</td>\n",
       "      <td>9999</td>\n",
       "      <td>30</td>\n",
       "      <td>15000</td>\n",
       "      <td>1400.0</td>\n",
       "      <td>그 외</td>\n",
       "      <td>SALESMAN</td>\n",
       "      <td>SALESMAN</td>\n",
       "    </tr>\n",
       "  </tbody>\n",
       "</table>\n",
       "</div>"
      ],
      "text/plain": [
       "   empno       job     mgr   hiredate   sal  comm  deptno   asal   comm2  \\\n",
       "1   7499  SALESMAN  7698.0 1981-02-20  1600  9999      30  19200   300.0   \n",
       "3   7566   MANAGER  7839.0 1981-04-02  2975  9999      20  35700     0.0   \n",
       "4   7654  SALESMAN  7698.0 1981-09-28  1250  9999      30  15000  1400.0   \n",
       "\n",
       "  dept_str      job2      job3  \n",
       "1      그 외  SALESMAN  SALESMAN  \n",
       "3      그 외   MANAGER   MANAGER  \n",
       "4      그 외  SALESMAN  SALESMAN  "
      ]
     },
     "execution_count": 66,
     "metadata": {},
     "output_type": "execute_result"
    }
   ],
   "source": [
    "emp = emp.drop('ename',axis = 1) #컬럼 ename 삭제\n",
    "emp.head(3)"
   ]
  },
  {
   "cell_type": "markdown",
   "id": "538e6720-fba9-42d5-85f5-180936858576",
   "metadata": {},
   "source": [
    "* 보통은 drop이 아닌 필요한 데이터를 출력해서 새 변수 프레임을 만들어 사용한다. "
   ]
  },
  {
   "cell_type": "code",
   "execution_count": 67,
   "id": "bf814164-b67e-46e9-9904-00c6065df704",
   "metadata": {
    "tags": []
   },
   "outputs": [],
   "source": [
    "empcp = emp.copy()"
   ]
  },
  {
   "cell_type": "code",
   "execution_count": 1,
   "id": "4cd4df3d-86af-4435-890a-7d568d60579b",
   "metadata": {
    "tags": []
   },
   "outputs": [
    {
     "ename": "NameError",
     "evalue": "name 'empcp' is not defined",
     "output_type": "error",
     "traceback": [
      "\u001b[1;31m---------------------------------------------------------------------------\u001b[0m",
      "\u001b[1;31mNameError\u001b[0m                                 Traceback (most recent call last)",
      "Cell \u001b[1;32mIn[1], line 1\u001b[0m\n\u001b[1;32m----> 1\u001b[0m \u001b[38;5;28;01mdel\u001b[39;00m empcp \u001b[38;5;66;03m#drop table 과 유사. 메모리에서 아예 삭제시켜버린다.\u001b[39;00m\n\u001b[0;32m      3\u001b[0m \u001b[38;5;66;03m# empcp\u001b[39;00m\n\u001b[0;32m      4\u001b[0m \u001b[38;5;66;03m# NameError: name 'empcp' is not defined\u001b[39;00m\n\u001b[0;32m      5\u001b[0m \u001b[38;5;66;03m# pd.read_csv 로 다시 읽어들이기 전까지 쓸 수 없다.\u001b[39;00m\n",
      "\u001b[1;31mNameError\u001b[0m: name 'empcp' is not defined"
     ]
    }
   ],
   "source": [
    "del empcp #drop table 과 유사. 메모리에서 아예 삭제시켜버린다.\n",
    "\n",
    "# empcp\n",
    "# NameError: name 'empcp' is not defined\n",
    "# pd.read_csv 로 다시 읽어들이기 전까지 쓸 수 없다."
   ]
  },
  {
   "cell_type": "code",
   "execution_count": null,
   "id": "1e8ba0e7-db8f-4505-9545-82228f7aa00a",
   "metadata": {},
   "outputs": [],
   "source": []
  },
  {
   "cell_type": "code",
   "execution_count": null,
   "id": "ca01ac2c-dcd8-4e3a-a185-6b7c1a36e72a",
   "metadata": {},
   "outputs": [],
   "source": []
  },
  {
   "cell_type": "code",
   "execution_count": null,
   "id": "ff4fa9d5-8292-4309-903b-a4d5035f4617",
   "metadata": {},
   "outputs": [],
   "source": []
  },
  {
   "cell_type": "code",
   "execution_count": null,
   "id": "b86e0a71-2446-441a-afbe-68668ce8a3c5",
   "metadata": {},
   "outputs": [],
   "source": []
  },
  {
   "cell_type": "code",
   "execution_count": null,
   "id": "6e1cf592-1e9b-431c-93a7-4ed93c96e391",
   "metadata": {},
   "outputs": [],
   "source": []
  },
  {
   "cell_type": "code",
   "execution_count": null,
   "id": "532bf75b-3e3e-4e37-b420-c4cfc431977d",
   "metadata": {},
   "outputs": [],
   "source": []
  },
  {
   "cell_type": "code",
   "execution_count": null,
   "id": "dc7fd008-fc62-40ec-b55e-f5f52335cbc9",
   "metadata": {},
   "outputs": [],
   "source": []
  },
  {
   "cell_type": "markdown",
   "id": "ed850643-aaf2-457b-a2d9-4439322ed7d7",
   "metadata": {},
   "source": [
    "**어제 배운 것 추가**"
   ]
  },
  {
   "cell_type": "code",
   "execution_count": null,
   "id": "d3d9c280-cd88-4223-9137-9b13d75ab8f1",
   "metadata": {
    "tags": []
   },
   "outputs": [],
   "source": [
    "df = pd.read_csv(\"./lec08_emp.csv\", sep=\",\", parse_dates =['HIREDATE'])\n",
    "#해당 컬럼을 날짜 형태로, 안하면(위에 지저분한 데이터값 보기) 나중에 또 변환해야한다.\n",
    "\n",
    "df.head(13) # 데이터 과부하 막기 위해 항상 df(변수)만 불러오는게 아닌, head나 tail 습관화하자."
   ]
  },
  {
   "cell_type": "code",
   "execution_count": null,
   "id": "2081f379-0aa0-4e00-9f46-7c6f90ac6af7",
   "metadata": {},
   "outputs": [],
   "source": []
  },
  {
   "cell_type": "code",
   "execution_count": null,
   "id": "427e5b3a-3d8a-4f0c-94a1-f8c35d0c3179",
   "metadata": {
    "tags": []
   },
   "outputs": [],
   "source": [
    "dfcp = df.copy()\n",
    "dfcp"
   ]
  },
  {
   "cell_type": "code",
   "execution_count": null,
   "id": "0b11902e-3c9e-4328-92c8-246fb2be80ad",
   "metadata": {
    "tags": []
   },
   "outputs": [],
   "source": [
    "dfcp.isna().sum\n",
    "dfcp"
   ]
  }
 ],
 "metadata": {
  "kernelspec": {
   "display_name": "Python 3 (ipykernel)",
   "language": "python",
   "name": "python3"
  },
  "language_info": {
   "codemirror_mode": {
    "name": "ipython",
    "version": 3
   },
   "file_extension": ".py",
   "mimetype": "text/x-python",
   "name": "python",
   "nbconvert_exporter": "python",
   "pygments_lexer": "ipython3",
   "version": "3.8.8"
  },
  "toc-autonumbering": true,
  "toc-showcode": false,
  "toc-showmarkdowntxt": false
 },
 "nbformat": 4,
 "nbformat_minor": 5
}
