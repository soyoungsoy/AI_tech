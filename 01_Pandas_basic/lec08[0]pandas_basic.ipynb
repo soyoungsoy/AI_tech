{
 "cells": [
  {
   "cell_type": "markdown",
   "id": "30023132-35f6-42c6-b3fc-000f73a82055",
   "metadata": {},
   "source": [
    "# **pandas, numpy import**"
   ]
  },
  {
   "cell_type": "code",
   "execution_count": 2,
   "id": "55e9ab03-b289-4a8e-a3c4-7188d64a7e7a",
   "metadata": {},
   "outputs": [],
   "source": [
    "import pandas as pd\n",
    "import numpy as np"
   ]
  },
  {
   "cell_type": "markdown",
   "id": "19988ea7-2250-4bec-aef4-686726ae478a",
   "metadata": {},
   "source": [
    "***series와 dataframe*"
   ]
  },
  {
   "cell_type": "markdown",
   "id": "b1774f51-e501-4d07-80af-37e3a9a8b086",
   "metadata": {},
   "source": [
    "---"
   ]
  },
  {
   "cell_type": "markdown",
   "id": "b225d786-8989-40bc-bd5e-e4cca7aa2c78",
   "metadata": {},
   "source": [
    "---"
   ]
  },
  {
   "cell_type": "markdown",
   "id": "2db67bad-aeee-4f0c-92d2-c45e7fb78052",
   "metadata": {},
   "source": [
    "---"
   ]
  },
  {
   "cell_type": "markdown",
   "id": "d9905523-53d9-4193-9990-f5be2a7b4384",
   "metadata": {},
   "source": [
    "# **Series(열) 만드는 다양한 방법**\n",
    "        pd.Series(data=None, index=None, dtype: Dtype, name=None,...)"
   ]
  },
  {
   "cell_type": "markdown",
   "id": "c9eb4474-dbce-48cf-bb1e-877f047b189f",
   "metadata": {},
   "source": [
    "## **List**"
   ]
  },
  {
   "cell_type": "code",
   "execution_count": 11,
   "id": "3427d1fe-45db-4ef2-a9e6-579c23799e75",
   "metadata": {
    "tags": []
   },
   "outputs": [
    {
     "data": {
      "text/plain": [
       "0      1\n",
       "1      2\n",
       "2      3\n",
       "3      A\n",
       "4    NaN\n",
       "Name: seq, dtype: object"
      ]
     },
     "execution_count": 11,
     "metadata": {},
     "output_type": "execute_result"
    }
   ],
   "source": [
    "mylist = [1,2,3,'A',np.nan] #리스트를\n",
    "s = pd.Series(data =mylist, index=range(5), name =\"seq\") #시리즈화한다.\n",
    "s #인덱스 설정 안하면 알아서 잡힘..?"
   ]
  },
  {
   "cell_type": "markdown",
   "id": "2130aa8a-d1aa-437f-82da-d244f0efef2a",
   "metadata": {},
   "source": [
    "## **array**"
   ]
  },
  {
   "cell_type": "markdown",
   "id": "862dfd94-2c67-453b-b7b7-5fe9aa112e49",
   "metadata": {},
   "source": [
    "**★array[[ ] , [ ]]  는 array타입이다. array로 감싸주면 array**"
   ]
  },
  {
   "cell_type": "code",
   "execution_count": 26,
   "id": "e43ad124-d716-463a-8aff-40c9187697f6",
   "metadata": {
    "tags": []
   },
   "outputs": [
    {
     "name": "stdout",
     "output_type": "stream",
     "text": [
      "['1' '2' '3' 'A' 'nan']\n",
      "(5,) 주의:1행 5열\n"
     ]
    }
   ],
   "source": [
    "mylist = [1,2,3,'A',np.nan]\n",
    "myarr = np.array(mylist) #np.array는 리스트를 배열화한 것이다.\n",
    "\n",
    "myarr #array(['1', '2', '3', 'A', 'nan'], dtype='<U32')\n",
    "\n",
    "print(myarr)#['1' '2' '3' 'A' 'nan']#array는 만들어서 쓰는게 아니라 리스트를 담아서 array화 시키는 것이다.\n",
    "print(myarr.shape,\"주의:1행 5열\") #(5,) 배열에선 5열 1행 "
   ]
  },
  {
   "cell_type": "markdown",
   "id": "715bf9d4-b184-48ba-9175-d750fa814a2b",
   "metadata": {},
   "source": [
    "## **shape, len**"
   ]
  },
  {
   "cell_type": "code",
   "execution_count": 151,
   "id": "a4aacbfc-6077-4213-810f-0cff2de3cac7",
   "metadata": {
    "tags": []
   },
   "outputs": [
    {
     "name": "stdout",
     "output_type": "stream",
     "text": [
      "[[1, 2, 3], [10, 20, 30]]\n",
      "[[ 1  2  3]\n",
      " [10 20 30]]\n",
      "(2, 3)\n",
      "마이리스트의 리스트 갯수: 2 마이리스트의 0번째 리스트의 갯수: 3\n"
     ]
    }
   ],
   "source": [
    "mylist = [[1,2,3],[10,20,30]]\n",
    "print(mylist) #[[1, 2, 3], [10, 20, 30]]\n",
    "\n",
    "myarr = np.array(mylist) #array로 배열화시킨 리스트\n",
    "print(myarr)# [[ 1  2  3]\n",
    "             #[10 20 30]]\n",
    "    \n",
    "print(myarr.shape)#mylist.shape는 안된다. 리스트는 쉐입이 아니라 len(list[])\n",
    "#array의 shape = 2행, 3열\n",
    "\n",
    "print(\"마이리스트의 리스트 갯수:\",len(mylist), \"마이리스트의 0번째 리스트의 갯수:\",len(mylist[0]))\n"
   ]
  },
  {
   "cell_type": "markdown",
   "id": "b52ed8b0-0b69-48bb-bd32-b27bda0e35cc",
   "metadata": {},
   "source": [
    "**★shape() : 함수 아님  \n",
    "★mylist.shape : 에러 , list는 쉐입 없다. len으로 조회해야한다.  \n",
    "★array의 shape는 (열,행) 이다. array(배열화)된 값들이 series화된다는 것은 배열화된 값이 가로에서 세로로로만 바뀐 것이기 때문에, array의 열값이 행으로 보이는 것**"
   ]
  },
  {
   "cell_type": "code",
   "execution_count": 12,
   "id": "efe99d23-c473-4e04-aad5-e23d80d194f5",
   "metadata": {
    "tags": []
   },
   "outputs": [
    {
     "name": "stdout",
     "output_type": "stream",
     "text": [
      "0      1\n",
      "1      2\n",
      "2      3\n",
      "3      A\n",
      "4    nan\n",
      "Name: seq, dtype: object\n",
      "(5,)\n",
      "5\n"
     ]
    }
   ],
   "source": [
    "mylist = [1,2,3,'A',np.nan]\n",
    "myarr = np.array(mylist)\n",
    "s = pd.Series(data = myarr, index=range(5), name =\"seq\") #어레이로 시리즈 만드는 법\n",
    "s\n",
    "print(s)\n",
    "print(s.shape) #array로 만들었으니까 (5,)으로 shape이 조회된다.... array요소가 5개 있다.\n",
    "#결국 배열화 전(리스트의 갯수(열값),리스트 안의 객체 값(행값))\n",
    "print(len(s)) # row, 행 , record 갯수"
   ]
  },
  {
   "cell_type": "markdown",
   "id": "f18015b5-d8f8-4db2-aff6-fbe472b734f8",
   "metadata": {},
   "source": [
    "---"
   ]
  },
  {
   "cell_type": "markdown",
   "id": "704a9564-b4af-4cf4-a787-a4ac229c6e33",
   "metadata": {},
   "source": [
    "---"
   ]
  },
  {
   "cell_type": "markdown",
   "id": "240342e8-ddda-4c79-9315-e02bfff0a5a6",
   "metadata": {},
   "source": [
    "---"
   ]
  },
  {
   "cell_type": "markdown",
   "id": "ab4e0d0a-8dc4-4672-ab9c-8ef674fcd432",
   "metadata": {},
   "source": [
    "# **Dataframe**"
   ]
  },
  {
   "cell_type": "markdown",
   "id": "ad6517c5-9723-4f44-be49-c598c795e80f",
   "metadata": {},
   "source": [
    "        *head(),tail(),describe(),shape()\n",
    "        *data=None,\n",
    "        index: Axes | None = None,\n",
    "        columns: Axes | None = None,\n",
    "        dtype: Dtype | None = None,"
   ]
  },
  {
   "cell_type": "markdown",
   "id": "728cae57-c03b-4830-aaf4-667a596bc1aa",
   "metadata": {
    "tags": []
   },
   "source": [
    "## **데이터프레임에 넣을 수 있는 것** : list / array /List + dict [ {} ]"
   ]
  },
  {
   "cell_type": "code",
   "execution_count": 13,
   "id": "f55ba1b8-5e99-41bf-a738-e99ba946bc67",
   "metadata": {
    "tags": []
   },
   "outputs": [
    {
     "name": "stdout",
     "output_type": "stream",
     "text": [
      "(2, 3)\n",
      "row갯수: 2\n"
     ]
    }
   ],
   "source": [
    "mylist = [[1,2,3],[10,20,30]]\n",
    "myarr = np.array(mylist)\n",
    "\n",
    "# df = pd.DataFrame(data=myarr)\n",
    "df = pd.DataFrame(data=mylist, columns=['a','b','c'],index = [10,20]) #떼거지는 무조건 []안에 넣기\n",
    "print(df.shape)\n",
    "print(\"row갯수:\",len(df)) #row갯수\n"
   ]
  },
  {
   "cell_type": "markdown",
   "id": "fd2bb04f-5cdc-4397-88b0-97da34a95f8c",
   "metadata": {
    "tags": []
   },
   "source": [
    "## **List + dict [ {} ]**"
   ]
  },
  {
   "cell_type": "markdown",
   "id": "952ede15-80a6-4a47-9bd4-3013e9772b05",
   "metadata": {},
   "source": [
    "**★dict에 사용된 키 값이 데이터프레임의 컬럼명이 된다.**"
   ]
  },
  {
   "cell_type": "code",
   "execution_count": 14,
   "id": "fd11307a-2e1f-4cc6-aef4-f3623ae7a2ac",
   "metadata": {
    "tags": []
   },
   "outputs": [
    {
     "name": "stdout",
     "output_type": "stream",
     "text": [
      "   uid  upw\n",
      "0  kim  111\n",
      "1  kim  111\n"
     ]
    }
   ],
   "source": [
    "listdic = [{\"uid\":\"kim\",\"upw\":111} ,\n",
    "           {\"uid\":\"kim\",\"upw\":111}] #딕셔너리를 리스트화한 것\n",
    "\n",
    "df = pd.DataFrame(listdic) #딕셔너리에 사용된 키 값이 데이터프레임의 컬럼명이 되는 것\n",
    "df\n",
    "print(df)"
   ]
  },
  {
   "cell_type": "markdown",
   "id": "bb89116d-c517-4be3-8fba-86f94e7339cd",
   "metadata": {},
   "source": [
    "## **List + List [ [] ]**"
   ]
  },
  {
   "cell_type": "code",
   "execution_count": 83,
   "id": "51b31640-28b4-4b33-b0bc-4d26c6add6e3",
   "metadata": {
    "tags": []
   },
   "outputs": [
    {
     "data": {
      "text/html": [
       "<div>\n",
       "<style scoped>\n",
       "    .dataframe tbody tr th:only-of-type {\n",
       "        vertical-align: middle;\n",
       "    }\n",
       "\n",
       "    .dataframe tbody tr th {\n",
       "        vertical-align: top;\n",
       "    }\n",
       "\n",
       "    .dataframe thead th {\n",
       "        text-align: right;\n",
       "    }\n",
       "</style>\n",
       "<table border=\"1\" class=\"dataframe\">\n",
       "  <thead>\n",
       "    <tr style=\"text-align: right;\">\n",
       "      <th></th>\n",
       "      <th>a</th>\n",
       "      <th>b</th>\n",
       "    </tr>\n",
       "  </thead>\n",
       "  <tbody>\n",
       "    <tr>\n",
       "      <th>0</th>\n",
       "      <td>kim</td>\n",
       "      <td>111</td>\n",
       "    </tr>\n",
       "    <tr>\n",
       "      <th>1</th>\n",
       "      <td>kim</td>\n",
       "      <td>111</td>\n",
       "    </tr>\n",
       "  </tbody>\n",
       "</table>\n",
       "</div>"
      ],
      "text/plain": [
       "     a    b\n",
       "0  kim  111\n",
       "1  kim  111"
      ]
     },
     "execution_count": 83,
     "metadata": {},
     "output_type": "execute_result"
    }
   ],
   "source": [
    "listlist = [[\"kim\",111] ,\n",
    "           [\"kim\",111]] #리스트에 리스트(값만)\n",
    "\n",
    "df = pd.DataFrame(listlist, columns = ['a','b']) # 컬럼명 따로 지정\n",
    "df"
   ]
  },
  {
   "cell_type": "markdown",
   "id": "b61bdff2-1764-4fab-a65b-dc49436af17e",
   "metadata": {},
   "source": [
    "---"
   ]
  },
  {
   "cell_type": "markdown",
   "id": "2fe18253-aff5-431f-a395-348656c8e0a4",
   "metadata": {},
   "source": [
    "---"
   ]
  },
  {
   "cell_type": "markdown",
   "id": "143b72af-a079-4d47-8c9b-bc5cd4f0f834",
   "metadata": {},
   "source": [
    "---"
   ]
  },
  {
   "cell_type": "markdown",
   "id": "ea44745b-63df-4235-a5df-63fbe98d20ca",
   "metadata": {},
   "source": [
    "---"
   ]
  },
  {
   "cell_type": "markdown",
   "id": "7a349390-0ee1-4542-abc7-b87c640ff61f",
   "metadata": {
    "tags": []
   },
   "source": [
    "# **데이터프레임 조회하기**"
   ]
  },
  {
   "cell_type": "markdown",
   "id": "0a0403fa-a2e2-4544-99c2-afed2d92c95b",
   "metadata": {},
   "source": [
    "## df.info()"
   ]
  },
  {
   "cell_type": "code",
   "execution_count": 152,
   "id": "37d34e02-b1f4-4a73-94aa-e1dcfa55c04e",
   "metadata": {
    "tags": []
   },
   "outputs": [
    {
     "name": "stdout",
     "output_type": "stream",
     "text": [
      "<class 'pandas.core.frame.DataFrame'>\n",
      "Int64Index: 2 entries, 10 to 20\n",
      "Data columns (total 3 columns):\n",
      " #   Column  Non-Null Count  Dtype\n",
      "---  ------  --------------  -----\n",
      " 0   a       2 non-null      int64\n",
      " 1   b       2 non-null      int64\n",
      " 2   c       2 non-null      int64\n",
      "dtypes: int64(3)\n",
      "memory usage: 64.0 bytes\n"
     ]
    }
   ],
   "source": [
    "df.info() #해당하는 데이터프레임이 갖고있는 사이즈, 타입 등 정보 확인 용"
   ]
  },
  {
   "cell_type": "markdown",
   "id": "7bd9c713-8c0a-4654-ab46-ac91436768a7",
   "metadata": {},
   "source": [
    "## df.head()"
   ]
  },
  {
   "cell_type": "code",
   "execution_count": 52,
   "id": "cf575753-09e7-4815-bda2-f0b406b242bd",
   "metadata": {
    "tags": []
   },
   "outputs": [
    {
     "data": {
      "text/html": [
       "<div>\n",
       "<style scoped>\n",
       "    .dataframe tbody tr th:only-of-type {\n",
       "        vertical-align: middle;\n",
       "    }\n",
       "\n",
       "    .dataframe tbody tr th {\n",
       "        vertical-align: top;\n",
       "    }\n",
       "\n",
       "    .dataframe thead th {\n",
       "        text-align: right;\n",
       "    }\n",
       "</style>\n",
       "<table border=\"1\" class=\"dataframe\">\n",
       "  <thead>\n",
       "    <tr style=\"text-align: right;\">\n",
       "      <th></th>\n",
       "      <th>a</th>\n",
       "      <th>b</th>\n",
       "      <th>c</th>\n",
       "    </tr>\n",
       "  </thead>\n",
       "  <tbody>\n",
       "    <tr>\n",
       "      <th>10</th>\n",
       "      <td>1</td>\n",
       "      <td>2</td>\n",
       "      <td>3</td>\n",
       "    </tr>\n",
       "  </tbody>\n",
       "</table>\n",
       "</div>"
      ],
      "text/plain": [
       "    a  b  c\n",
       "10  1  2  3"
      ]
     },
     "execution_count": 52,
     "metadata": {},
     "output_type": "execute_result"
    }
   ],
   "source": [
    "df.head(1) #디폴트 5, 앞에서부터 값 꺼내와"
   ]
  },
  {
   "cell_type": "markdown",
   "id": "902de7e0-012b-45cd-b281-6cb1a266ff73",
   "metadata": {},
   "source": [
    "## df.tail()"
   ]
  },
  {
   "cell_type": "code",
   "execution_count": 53,
   "id": "3ec4e39c-41bd-4b9b-8d5c-b4aa4c9e35f3",
   "metadata": {
    "tags": []
   },
   "outputs": [
    {
     "data": {
      "text/html": [
       "<div>\n",
       "<style scoped>\n",
       "    .dataframe tbody tr th:only-of-type {\n",
       "        vertical-align: middle;\n",
       "    }\n",
       "\n",
       "    .dataframe tbody tr th {\n",
       "        vertical-align: top;\n",
       "    }\n",
       "\n",
       "    .dataframe thead th {\n",
       "        text-align: right;\n",
       "    }\n",
       "</style>\n",
       "<table border=\"1\" class=\"dataframe\">\n",
       "  <thead>\n",
       "    <tr style=\"text-align: right;\">\n",
       "      <th></th>\n",
       "      <th>a</th>\n",
       "      <th>b</th>\n",
       "      <th>c</th>\n",
       "    </tr>\n",
       "  </thead>\n",
       "  <tbody>\n",
       "    <tr>\n",
       "      <th>20</th>\n",
       "      <td>10</td>\n",
       "      <td>20</td>\n",
       "      <td>30</td>\n",
       "    </tr>\n",
       "  </tbody>\n",
       "</table>\n",
       "</div>"
      ],
      "text/plain": [
       "     a   b   c\n",
       "20  10  20  30"
      ]
     },
     "execution_count": 53,
     "metadata": {},
     "output_type": "execute_result"
    }
   ],
   "source": [
    "df.tail(1) #디폴트 5, 뒤에서부터 값 꺼내와"
   ]
  },
  {
   "cell_type": "markdown",
   "id": "9b51f852-347c-4755-b47a-330a463493bd",
   "metadata": {},
   "source": [
    "## df.describe()"
   ]
  },
  {
   "cell_type": "code",
   "execution_count": 55,
   "id": "3c7a77fb-450e-4223-8936-1aaad38e44e0",
   "metadata": {
    "tags": []
   },
   "outputs": [
    {
     "data": {
      "text/html": [
       "<div>\n",
       "<style scoped>\n",
       "    .dataframe tbody tr th:only-of-type {\n",
       "        vertical-align: middle;\n",
       "    }\n",
       "\n",
       "    .dataframe tbody tr th {\n",
       "        vertical-align: top;\n",
       "    }\n",
       "\n",
       "    .dataframe thead th {\n",
       "        text-align: right;\n",
       "    }\n",
       "</style>\n",
       "<table border=\"1\" class=\"dataframe\">\n",
       "  <thead>\n",
       "    <tr style=\"text-align: right;\">\n",
       "      <th></th>\n",
       "      <th>a</th>\n",
       "      <th>b</th>\n",
       "      <th>c</th>\n",
       "    </tr>\n",
       "  </thead>\n",
       "  <tbody>\n",
       "    <tr>\n",
       "      <th>count</th>\n",
       "      <td>2.000000</td>\n",
       "      <td>2.000000</td>\n",
       "      <td>2.000000</td>\n",
       "    </tr>\n",
       "    <tr>\n",
       "      <th>mean</th>\n",
       "      <td>5.500000</td>\n",
       "      <td>11.000000</td>\n",
       "      <td>16.500000</td>\n",
       "    </tr>\n",
       "    <tr>\n",
       "      <th>std</th>\n",
       "      <td>6.363961</td>\n",
       "      <td>12.727922</td>\n",
       "      <td>19.091883</td>\n",
       "    </tr>\n",
       "    <tr>\n",
       "      <th>min</th>\n",
       "      <td>1.000000</td>\n",
       "      <td>2.000000</td>\n",
       "      <td>3.000000</td>\n",
       "    </tr>\n",
       "    <tr>\n",
       "      <th>25%</th>\n",
       "      <td>3.250000</td>\n",
       "      <td>6.500000</td>\n",
       "      <td>9.750000</td>\n",
       "    </tr>\n",
       "    <tr>\n",
       "      <th>50%</th>\n",
       "      <td>5.500000</td>\n",
       "      <td>11.000000</td>\n",
       "      <td>16.500000</td>\n",
       "    </tr>\n",
       "    <tr>\n",
       "      <th>75%</th>\n",
       "      <td>7.750000</td>\n",
       "      <td>15.500000</td>\n",
       "      <td>23.250000</td>\n",
       "    </tr>\n",
       "    <tr>\n",
       "      <th>max</th>\n",
       "      <td>10.000000</td>\n",
       "      <td>20.000000</td>\n",
       "      <td>30.000000</td>\n",
       "    </tr>\n",
       "  </tbody>\n",
       "</table>\n",
       "</div>"
      ],
      "text/plain": [
       "               a          b          c\n",
       "count   2.000000   2.000000   2.000000\n",
       "mean    5.500000  11.000000  16.500000\n",
       "std     6.363961  12.727922  19.091883\n",
       "min     1.000000   2.000000   3.000000\n",
       "25%     3.250000   6.500000   9.750000\n",
       "50%     5.500000  11.000000  16.500000\n",
       "75%     7.750000  15.500000  23.250000\n",
       "max    10.000000  20.000000  30.000000"
      ]
     },
     "execution_count": 55,
     "metadata": {},
     "output_type": "execute_result"
    }
   ],
   "source": [
    "df.describe() #값 요약 정보 보여줘"
   ]
  },
  {
   "cell_type": "markdown",
   "id": "bbbae97b-42c1-4e67-8ae1-012e1d414c7e",
   "metadata": {},
   "source": [
    "---"
   ]
  },
  {
   "cell_type": "markdown",
   "id": "6f748674-c22d-4fe2-ba33-b57412a0e3da",
   "metadata": {},
   "source": [
    "---"
   ]
  },
  {
   "cell_type": "markdown",
   "id": "9c49b1e2-7855-4b2c-9c6b-8cc2141f375c",
   "metadata": {},
   "source": [
    "---"
   ]
  },
  {
   "cell_type": "markdown",
   "id": "b62337c4-574f-4865-b58f-5b226adf6e7b",
   "metadata": {},
   "source": [
    "---"
   ]
  },
  {
   "cell_type": "markdown",
   "id": "d5e087a9-eb8c-48c3-a790-204768fab55a",
   "metadata": {},
   "source": [
    "# **데이터프레임 구조 보기**"
   ]
  },
  {
   "cell_type": "code",
   "execution_count": 65,
   "id": "b34409a9-f748-4c8a-b7b6-eea34ee1f43e",
   "metadata": {
    "tags": []
   },
   "outputs": [
    {
     "data": {
      "text/html": [
       "<div>\n",
       "<style scoped>\n",
       "    .dataframe tbody tr th:only-of-type {\n",
       "        vertical-align: middle;\n",
       "    }\n",
       "\n",
       "    .dataframe tbody tr th {\n",
       "        vertical-align: top;\n",
       "    }\n",
       "\n",
       "    .dataframe thead th {\n",
       "        text-align: right;\n",
       "    }\n",
       "</style>\n",
       "<table border=\"1\" class=\"dataframe\">\n",
       "  <thead>\n",
       "    <tr style=\"text-align: right;\">\n",
       "      <th></th>\n",
       "      <th>code</th>\n",
       "      <th>seq</th>\n",
       "      <th>sal</th>\n",
       "      <th>id</th>\n",
       "      <th>pw</th>\n",
       "      <th>tel</th>\n",
       "    </tr>\n",
       "  </thead>\n",
       "  <tbody>\n",
       "    <tr>\n",
       "      <th>0</th>\n",
       "      <td>a</td>\n",
       "      <td>1</td>\n",
       "      <td>100</td>\n",
       "      <td>kim</td>\n",
       "      <td>11</td>\n",
       "      <td>000</td>\n",
       "    </tr>\n",
       "    <tr>\n",
       "      <th>1</th>\n",
       "      <td>b</td>\n",
       "      <td>2</td>\n",
       "      <td>200</td>\n",
       "      <td>kim</td>\n",
       "      <td>11</td>\n",
       "      <td>000</td>\n",
       "    </tr>\n",
       "    <tr>\n",
       "      <th>2</th>\n",
       "      <td>c</td>\n",
       "      <td>3</td>\n",
       "      <td>300</td>\n",
       "      <td>kim</td>\n",
       "      <td>11</td>\n",
       "      <td>000</td>\n",
       "    </tr>\n",
       "    <tr>\n",
       "      <th>3</th>\n",
       "      <td>d</td>\n",
       "      <td>4</td>\n",
       "      <td>400</td>\n",
       "      <td>kim</td>\n",
       "      <td>11</td>\n",
       "      <td>000</td>\n",
       "    </tr>\n",
       "  </tbody>\n",
       "</table>\n",
       "</div>"
      ],
      "text/plain": [
       "  code  seq  sal   id  pw  tel\n",
       "0    a    1  100  kim  11  000\n",
       "1    b    2  200  kim  11  000\n",
       "2    c    3  300  kim  11  000\n",
       "3    d    4  400  kim  11  000"
      ]
     },
     "execution_count": 65,
     "metadata": {},
     "output_type": "execute_result"
    }
   ],
   "source": [
    "s= pd.Series([1,2,3,4])\n",
    "df = pd.DataFrame(['a','b','c','d'], columns = ['code'])\n",
    "\n",
    "df['seq'] = s # 시리즈에 값 넣기\n",
    "df['sal'] = [100,200,300,400]\n",
    "df[['id','pw']] = np.array([['kim',11]]*4)\n",
    "#[]사이엔 값 하나만 넣는 것. 떼거지는 무조건  [] 묶기\n",
    "df['tel'] = '000'\n",
    "#df['tel'] = '010' 해당 키 값에 새 값을 넣으면 수정 \n",
    "df"
   ]
  },
  {
   "cell_type": "markdown",
   "id": "1697a583-1345-441b-b25e-59f7dd71defc",
   "metadata": {},
   "source": [
    "## **index 꺼내는 방법**"
   ]
  },
  {
   "cell_type": "code",
   "execution_count": 71,
   "id": "8bb5aaed-fe5a-426a-abd9-670bf20856bb",
   "metadata": {
    "tags": []
   },
   "outputs": [
    {
     "name": "stdout",
     "output_type": "stream",
     "text": [
      "Int64Index([10, 20, 30, 40], dtype='int64')\n",
      "[10 20 30 40]\n",
      "[10, 20, 30, 40]\n"
     ]
    }
   ],
   "source": [
    "df = pd.DataFrame(['a','b','c','d'], columns = ['code'], index = [10,20,30,40]) #인덱스는 무조건 따라다닌다. 안보이게 안된다. \n",
    "df\n",
    "#df.index 인덱스만 보이게\n",
    "print(df.index)\n",
    "print(df.index.values)\n",
    "print(df.index.values.tolist()) #리스트화 하기"
   ]
  },
  {
   "cell_type": "code",
   "execution_count": 75,
   "id": "65649042-8d8a-414d-98b2-a19717ad5a04",
   "metadata": {
    "tags": []
   },
   "outputs": [
    {
     "data": {
      "text/html": [
       "<div>\n",
       "<style scoped>\n",
       "    .dataframe tbody tr th:only-of-type {\n",
       "        vertical-align: middle;\n",
       "    }\n",
       "\n",
       "    .dataframe tbody tr th {\n",
       "        vertical-align: top;\n",
       "    }\n",
       "\n",
       "    .dataframe thead th {\n",
       "        text-align: right;\n",
       "    }\n",
       "</style>\n",
       "<table border=\"1\" class=\"dataframe\">\n",
       "  <thead>\n",
       "    <tr style=\"text-align: right;\">\n",
       "      <th></th>\n",
       "      <th>code</th>\n",
       "    </tr>\n",
       "  </thead>\n",
       "  <tbody>\n",
       "    <tr>\n",
       "      <th>10</th>\n",
       "      <td>a</td>\n",
       "    </tr>\n",
       "    <tr>\n",
       "      <th>20</th>\n",
       "      <td>b</td>\n",
       "    </tr>\n",
       "    <tr>\n",
       "      <th>30</th>\n",
       "      <td>c</td>\n",
       "    </tr>\n",
       "    <tr>\n",
       "      <th>40</th>\n",
       "      <td>d</td>\n",
       "    </tr>\n",
       "  </tbody>\n",
       "</table>\n",
       "</div>"
      ],
      "text/plain": [
       "   code\n",
       "10    a\n",
       "20    b\n",
       "30    c\n",
       "40    d"
      ]
     },
     "execution_count": 75,
     "metadata": {},
     "output_type": "execute_result"
    }
   ],
   "source": [
    "df = pd.DataFrame(['a','b','c','d'], columns = ['code'])\n",
    "df.index = [10,20,30,40] # 인덱스는 밖으로 따로 빼서 부여해줘도 된다.\n",
    "df"
   ]
  },
  {
   "cell_type": "markdown",
   "id": "8edf4704-ce59-414c-929a-8d96334583f9",
   "metadata": {},
   "source": [
    "## **columns 꺼내는 방법**"
   ]
  },
  {
   "cell_type": "code",
   "execution_count": 6,
   "id": "3f3fbe86-2cdd-4fce-8b53-69fbda77ef9d",
   "metadata": {
    "tags": []
   },
   "outputs": [
    {
     "name": "stdout",
     "output_type": "stream",
     "text": [
      "  code  seq  sal\n",
      "0    a    1  100\n",
      "1    b    2  200\n",
      "2    c    3  300\n",
      "3    d    4  400\n"
     ]
    },
    {
     "data": {
      "text/plain": [
       "array([['a', 1, 100],\n",
       "       ['b', 2, 200],\n",
       "       ['c', 3, 300],\n",
       "       ['d', 4, 400]], dtype=object)"
      ]
     },
     "execution_count": 6,
     "metadata": {},
     "output_type": "execute_result"
    }
   ],
   "source": [
    "s= pd.Series([1,2,3,4])\n",
    "df = pd.DataFrame(['a','b','c','d'], columns = ['code'])\n",
    "df['seq'] = s\n",
    "df['sal'] = [100,200,300,400]\n",
    "# df.columns #컬럼명만 떼오고싶다.\n",
    "\n",
    "print(df)\n",
    "df.values"
   ]
  },
  {
   "cell_type": "code",
   "execution_count": 79,
   "id": "99b3f8d0-92c5-42e6-b829-35527fcd3c47",
   "metadata": {
    "tags": []
   },
   "outputs": [
    {
     "name": "stdout",
     "output_type": "stream",
     "text": [
      "Index(['code', 'seq', 'sal'], dtype='object')\n",
      "['code' 'seq' 'sal']\n",
      "['code', 'seq', 'sal']\n"
     ]
    }
   ],
   "source": [
    "s= pd.Series([1,2,3,4])\n",
    "df = pd.DataFrame(['a','b','c','d'], columns = ['code'])\n",
    "df['seq'] = s\n",
    "df['sal'] = [100,200,300,400]\n",
    "df.columns #컬럼명만 떼오고싶다.\n",
    "\n",
    "print(df.columns)\n",
    "print(df.columns.values)\n",
    "print(df.columns.values.tolist()) #리스트화 하기, 인덱스나 컬럼이나 똑같다."
   ]
  },
  {
   "cell_type": "markdown",
   "id": "12e83244-29c2-4710-ba88-f0790ec04ed5",
   "metadata": {},
   "source": [
    "## **values 꺼내는 법**"
   ]
  },
  {
   "cell_type": "code",
   "execution_count": 80,
   "id": "20d310d6-609c-4230-93de-25b8952da28d",
   "metadata": {
    "tags": []
   },
   "outputs": [
    {
     "name": "stdout",
     "output_type": "stream",
     "text": [
      "[['a' 1 100]\n",
      " ['b' 2 200]\n",
      " ['c' 3 300]\n",
      " ['d' 4 400]]\n",
      "[['a', 1, 100], ['b', 2, 200], ['c', 3, 300], ['d', 4, 400]]\n"
     ]
    }
   ],
   "source": [
    "s= pd.Series([1,2,3,4])\n",
    "df = pd.DataFrame(['a','b','c','d'], columns = ['code'])\n",
    "df['seq'] = s\n",
    "df['sal'] = [100,200,300,400]\n",
    "\n",
    "print(df.values)\n",
    "print(df.values.tolist())\n",
    "\n",
    "# 값 꺼내기"
   ]
  },
  {
   "cell_type": "markdown",
   "id": "31ff780d-f39a-45c8-95f7-4258b27448fe",
   "metadata": {},
   "source": [
    "---"
   ]
  },
  {
   "cell_type": "markdown",
   "id": "241e4d9b-bb1b-44e4-a9d7-26fd6965f6e3",
   "metadata": {},
   "source": [
    "---"
   ]
  },
  {
   "cell_type": "markdown",
   "id": "9d0188b1-6a9b-4bc3-a10d-139f1093c641",
   "metadata": {},
   "source": [
    "---"
   ]
  },
  {
   "cell_type": "markdown",
   "id": "8185b4a9-e6cd-464e-b63c-f6a8f48ba626",
   "metadata": {},
   "source": [
    "---"
   ]
  },
  {
   "cell_type": "markdown",
   "id": "4bd2b6ec-adc9-403d-af81-9637fc66fafe",
   "metadata": {
    "tags": []
   },
   "source": [
    "# **파일 꺼내오기**"
   ]
  },
  {
   "cell_type": "markdown",
   "id": "280be40d-a6b0-4b2b-8a96-8afce31093ee",
   "metadata": {},
   "source": [
    "## **pd.read_확장자(\"경로+파일명.확장자\", sep=\"객체구분기준\" )**"
   ]
  },
  {
   "cell_type": "code",
   "execution_count": 85,
   "id": "df1320c5-fa15-4d56-8aab-54ddfd66047a",
   "metadata": {
    "tags": []
   },
   "outputs": [
    {
     "data": {
      "text/html": [
       "<div>\n",
       "<style scoped>\n",
       "    .dataframe tbody tr th:only-of-type {\n",
       "        vertical-align: middle;\n",
       "    }\n",
       "\n",
       "    .dataframe tbody tr th {\n",
       "        vertical-align: top;\n",
       "    }\n",
       "\n",
       "    .dataframe thead th {\n",
       "        text-align: right;\n",
       "    }\n",
       "</style>\n",
       "<table border=\"1\" class=\"dataframe\">\n",
       "  <thead>\n",
       "    <tr style=\"text-align: right;\">\n",
       "      <th></th>\n",
       "      <th>EMPNO</th>\n",
       "      <th>ENAME</th>\n",
       "      <th>JOB</th>\n",
       "      <th>MGR</th>\n",
       "      <th>HIREDATE</th>\n",
       "      <th>SAL</th>\n",
       "      <th>COMM</th>\n",
       "      <th>DEPTNO</th>\n",
       "    </tr>\n",
       "  </thead>\n",
       "  <tbody>\n",
       "    <tr>\n",
       "      <th>0</th>\n",
       "      <td>7369</td>\n",
       "      <td>SMITH</td>\n",
       "      <td>CLERK</td>\n",
       "      <td>7902.0</td>\n",
       "      <td>1980-12-17 00:00:00</td>\n",
       "      <td>800</td>\n",
       "      <td>NaN</td>\n",
       "      <td>20</td>\n",
       "    </tr>\n",
       "    <tr>\n",
       "      <th>1</th>\n",
       "      <td>7499</td>\n",
       "      <td>ALLEN</td>\n",
       "      <td>SALESMAN</td>\n",
       "      <td>7698.0</td>\n",
       "      <td>1981-02-20 00:00:00</td>\n",
       "      <td>1600</td>\n",
       "      <td>300.0</td>\n",
       "      <td>30</td>\n",
       "    </tr>\n",
       "    <tr>\n",
       "      <th>2</th>\n",
       "      <td>7521</td>\n",
       "      <td>WARD</td>\n",
       "      <td>SALESMAN</td>\n",
       "      <td>7698.0</td>\n",
       "      <td>1981-02-22 00:00:00</td>\n",
       "      <td>1250</td>\n",
       "      <td>500.0</td>\n",
       "      <td>30</td>\n",
       "    </tr>\n",
       "    <tr>\n",
       "      <th>3</th>\n",
       "      <td>7566</td>\n",
       "      <td>JONES</td>\n",
       "      <td>MANAGER</td>\n",
       "      <td>7839.0</td>\n",
       "      <td>1981-04-02 00:00:00</td>\n",
       "      <td>2975</td>\n",
       "      <td>NaN</td>\n",
       "      <td>20</td>\n",
       "    </tr>\n",
       "    <tr>\n",
       "      <th>4</th>\n",
       "      <td>7654</td>\n",
       "      <td>MARTIN</td>\n",
       "      <td>SALESMAN</td>\n",
       "      <td>7698.0</td>\n",
       "      <td>1981-09-28 00:00:00</td>\n",
       "      <td>1250</td>\n",
       "      <td>1400.0</td>\n",
       "      <td>30</td>\n",
       "    </tr>\n",
       "  </tbody>\n",
       "</table>\n",
       "</div>"
      ],
      "text/plain": [
       "   EMPNO   ENAME       JOB     MGR             HIREDATE   SAL    COMM  DEPTNO\n",
       "0   7369   SMITH     CLERK  7902.0  1980-12-17 00:00:00   800     NaN      20\n",
       "1   7499   ALLEN  SALESMAN  7698.0  1981-02-20 00:00:00  1600   300.0      30\n",
       "2   7521    WARD  SALESMAN  7698.0  1981-02-22 00:00:00  1250   500.0      30\n",
       "3   7566   JONES   MANAGER  7839.0  1981-04-02 00:00:00  2975     NaN      20\n",
       "4   7654  MARTIN  SALESMAN  7698.0  1981-09-28 00:00:00  1250  1400.0      30"
      ]
     },
     "execution_count": 85,
     "metadata": {},
     "output_type": "execute_result"
    }
   ],
   "source": [
    "df = pd.read_csv(\"./lec08_emp.csv\", sep=\",\") #구분자 sep 쓰든 안쓰든 디폴트는 ', 컴마' 이다.\n",
    "df.head()"
   ]
  },
  {
   "cell_type": "markdown",
   "id": "81810ff3-ad30-43a4-89c1-e750a25cdcb9",
   "metadata": {},
   "source": [
    "## **숫자값에 nan이 있으면 데이터프레임 타입은 float 소숫점이 된다.**"
   ]
  },
  {
   "cell_type": "code",
   "execution_count": 86,
   "id": "b6b677bc-0e53-42b4-9148-401fa2225355",
   "metadata": {
    "tags": []
   },
   "outputs": [
    {
     "name": "stdout",
     "output_type": "stream",
     "text": [
      "<class 'pandas.core.frame.DataFrame'>\n",
      "RangeIndex: 14 entries, 0 to 13\n",
      "Data columns (total 8 columns):\n",
      " #   Column    Non-Null Count  Dtype  \n",
      "---  ------    --------------  -----  \n",
      " 0   EMPNO     14 non-null     int64  \n",
      " 1   ENAME     14 non-null     object \n",
      " 2   JOB       14 non-null     object \n",
      " 3   MGR       13 non-null     float64\n",
      " 4   HIREDATE  14 non-null     object \n",
      " 5   SAL       14 non-null     int64  \n",
      " 6   COMM      4 non-null      float64\n",
      " 7   DEPTNO    14 non-null     int64  \n",
      "dtypes: float64(2), int64(3), object(3)\n",
      "memory usage: 1.0+ KB\n"
     ]
    }
   ],
   "source": [
    "df.info() #nan 있는 열만 Dtype가 float64로 조회"
   ]
  },
  {
   "cell_type": "code",
   "execution_count": 89,
   "id": "d3d9c280-cd88-4223-9137-9b13d75ab8f1",
   "metadata": {
    "tags": []
   },
   "outputs": [
    {
     "data": {
      "text/html": [
       "<div>\n",
       "<style scoped>\n",
       "    .dataframe tbody tr th:only-of-type {\n",
       "        vertical-align: middle;\n",
       "    }\n",
       "\n",
       "    .dataframe tbody tr th {\n",
       "        vertical-align: top;\n",
       "    }\n",
       "\n",
       "    .dataframe thead th {\n",
       "        text-align: right;\n",
       "    }\n",
       "</style>\n",
       "<table border=\"1\" class=\"dataframe\">\n",
       "  <thead>\n",
       "    <tr style=\"text-align: right;\">\n",
       "      <th></th>\n",
       "      <th>EMPNO</th>\n",
       "      <th>ENAME</th>\n",
       "      <th>JOB</th>\n",
       "      <th>MGR</th>\n",
       "      <th>HIREDATE</th>\n",
       "      <th>SAL</th>\n",
       "      <th>COMM</th>\n",
       "      <th>DEPTNO</th>\n",
       "    </tr>\n",
       "  </thead>\n",
       "  <tbody>\n",
       "    <tr>\n",
       "      <th>0</th>\n",
       "      <td>7369</td>\n",
       "      <td>SMITH</td>\n",
       "      <td>CLERK</td>\n",
       "      <td>7902.0</td>\n",
       "      <td>1980-12-17</td>\n",
       "      <td>800</td>\n",
       "      <td>NaN</td>\n",
       "      <td>20</td>\n",
       "    </tr>\n",
       "    <tr>\n",
       "      <th>1</th>\n",
       "      <td>7499</td>\n",
       "      <td>ALLEN</td>\n",
       "      <td>SALESMAN</td>\n",
       "      <td>7698.0</td>\n",
       "      <td>1981-02-20</td>\n",
       "      <td>1600</td>\n",
       "      <td>300.0</td>\n",
       "      <td>30</td>\n",
       "    </tr>\n",
       "    <tr>\n",
       "      <th>2</th>\n",
       "      <td>7521</td>\n",
       "      <td>WARD</td>\n",
       "      <td>SALESMAN</td>\n",
       "      <td>7698.0</td>\n",
       "      <td>1981-02-22</td>\n",
       "      <td>1250</td>\n",
       "      <td>500.0</td>\n",
       "      <td>30</td>\n",
       "    </tr>\n",
       "    <tr>\n",
       "      <th>3</th>\n",
       "      <td>7566</td>\n",
       "      <td>JONES</td>\n",
       "      <td>MANAGER</td>\n",
       "      <td>7839.0</td>\n",
       "      <td>1981-04-02</td>\n",
       "      <td>2975</td>\n",
       "      <td>NaN</td>\n",
       "      <td>20</td>\n",
       "    </tr>\n",
       "    <tr>\n",
       "      <th>4</th>\n",
       "      <td>7654</td>\n",
       "      <td>MARTIN</td>\n",
       "      <td>SALESMAN</td>\n",
       "      <td>7698.0</td>\n",
       "      <td>1981-09-28</td>\n",
       "      <td>1250</td>\n",
       "      <td>1400.0</td>\n",
       "      <td>30</td>\n",
       "    </tr>\n",
       "    <tr>\n",
       "      <th>5</th>\n",
       "      <td>7698</td>\n",
       "      <td>BLAKE</td>\n",
       "      <td>MANAGER</td>\n",
       "      <td>7839.0</td>\n",
       "      <td>1981-05-01</td>\n",
       "      <td>2850</td>\n",
       "      <td>NaN</td>\n",
       "      <td>30</td>\n",
       "    </tr>\n",
       "    <tr>\n",
       "      <th>6</th>\n",
       "      <td>7782</td>\n",
       "      <td>CCC</td>\n",
       "      <td>MANAGER</td>\n",
       "      <td>7839.0</td>\n",
       "      <td>1981-06-09</td>\n",
       "      <td>2450</td>\n",
       "      <td>NaN</td>\n",
       "      <td>10</td>\n",
       "    </tr>\n",
       "    <tr>\n",
       "      <th>7</th>\n",
       "      <td>7788</td>\n",
       "      <td>SCOTT</td>\n",
       "      <td>ANALYST</td>\n",
       "      <td>7566.0</td>\n",
       "      <td>1987-07-13</td>\n",
       "      <td>3000</td>\n",
       "      <td>NaN</td>\n",
       "      <td>20</td>\n",
       "    </tr>\n",
       "    <tr>\n",
       "      <th>8</th>\n",
       "      <td>7839</td>\n",
       "      <td>KING</td>\n",
       "      <td>PRESIDENT</td>\n",
       "      <td>NaN</td>\n",
       "      <td>1981-11-17</td>\n",
       "      <td>5000</td>\n",
       "      <td>NaN</td>\n",
       "      <td>10</td>\n",
       "    </tr>\n",
       "    <tr>\n",
       "      <th>9</th>\n",
       "      <td>7844</td>\n",
       "      <td>TURNER</td>\n",
       "      <td>SALESMAN</td>\n",
       "      <td>7698.0</td>\n",
       "      <td>1981-09-08</td>\n",
       "      <td>1500</td>\n",
       "      <td>0.0</td>\n",
       "      <td>30</td>\n",
       "    </tr>\n",
       "    <tr>\n",
       "      <th>10</th>\n",
       "      <td>7876</td>\n",
       "      <td>ADAMS</td>\n",
       "      <td>CLERK</td>\n",
       "      <td>7788.0</td>\n",
       "      <td>1987-07-13</td>\n",
       "      <td>1100</td>\n",
       "      <td>NaN</td>\n",
       "      <td>20</td>\n",
       "    </tr>\n",
       "    <tr>\n",
       "      <th>11</th>\n",
       "      <td>7900</td>\n",
       "      <td>JAMES</td>\n",
       "      <td>CLERK</td>\n",
       "      <td>7698.0</td>\n",
       "      <td>1981-12-03</td>\n",
       "      <td>950</td>\n",
       "      <td>NaN</td>\n",
       "      <td>30</td>\n",
       "    </tr>\n",
       "    <tr>\n",
       "      <th>12</th>\n",
       "      <td>7902</td>\n",
       "      <td>FORD</td>\n",
       "      <td>ANALYST</td>\n",
       "      <td>7566.0</td>\n",
       "      <td>1981-12-03</td>\n",
       "      <td>3000</td>\n",
       "      <td>NaN</td>\n",
       "      <td>20</td>\n",
       "    </tr>\n",
       "  </tbody>\n",
       "</table>\n",
       "</div>"
      ],
      "text/plain": [
       "    EMPNO   ENAME        JOB     MGR   HIREDATE   SAL    COMM  DEPTNO\n",
       "0    7369   SMITH      CLERK  7902.0 1980-12-17   800     NaN      20\n",
       "1    7499   ALLEN   SALESMAN  7698.0 1981-02-20  1600   300.0      30\n",
       "2    7521    WARD   SALESMAN  7698.0 1981-02-22  1250   500.0      30\n",
       "3    7566   JONES    MANAGER  7839.0 1981-04-02  2975     NaN      20\n",
       "4    7654  MARTIN   SALESMAN  7698.0 1981-09-28  1250  1400.0      30\n",
       "5    7698   BLAKE    MANAGER  7839.0 1981-05-01  2850     NaN      30\n",
       "6    7782     CCC    MANAGER  7839.0 1981-06-09  2450     NaN      10\n",
       "7    7788   SCOTT    ANALYST  7566.0 1987-07-13  3000     NaN      20\n",
       "8    7839    KING  PRESIDENT     NaN 1981-11-17  5000     NaN      10\n",
       "9    7844  TURNER   SALESMAN  7698.0 1981-09-08  1500     0.0      30\n",
       "10   7876   ADAMS      CLERK  7788.0 1987-07-13  1100     NaN      20\n",
       "11   7900   JAMES      CLERK  7698.0 1981-12-03   950     NaN      30\n",
       "12   7902    FORD    ANALYST  7566.0 1981-12-03  3000     NaN      20"
      ]
     },
     "execution_count": 89,
     "metadata": {},
     "output_type": "execute_result"
    }
   ],
   "source": [
    "df = pd.read_csv(\"./lec08_emp.csv\", sep=\",\", parse_dates =['HIREDATE'])\n",
    "#해당 컬럼을 날짜 형태로, 안하면(위에 지저분한 데이터값 보기) 나중에 또 변환해야한다.\n",
    "\n",
    "df.head(13) # 데이터 과부하 막기 위해 항상 df(변수)만 불러오는게 아닌, head나 tail 습관화하자."
   ]
  },
  {
   "cell_type": "code",
   "execution_count": 91,
   "id": "062bd26c-3cff-492d-9d60-21af55721f8a",
   "metadata": {
    "tags": []
   },
   "outputs": [
    {
     "name": "stdout",
     "output_type": "stream",
     "text": [
      "<class 'pandas.core.frame.DataFrame'>\n",
      "RangeIndex: 14 entries, 0 to 13\n",
      "Data columns (total 8 columns):\n",
      " #   Column    Non-Null Count  Dtype         \n",
      "---  ------    --------------  -----         \n",
      " 0   EMPNO     14 non-null     int64         \n",
      " 1   ENAME     14 non-null     object        \n",
      " 2   JOB       14 non-null     object        \n",
      " 3   MGR       13 non-null     float64       \n",
      " 4   HIREDATE  14 non-null     datetime64[ns]\n",
      " 5   SAL       14 non-null     int64         \n",
      " 6   COMM      4 non-null      float64       \n",
      " 7   DEPTNO    14 non-null     int64         \n",
      "dtypes: datetime64[ns](1), float64(2), int64(3), object(2)\n",
      "memory usage: 1.0+ KB\n"
     ]
    }
   ],
   "source": [
    "df.info() #entry : 총 데이터 건수 (총 열값 알 수 있다.)"
   ]
  },
  {
   "cell_type": "markdown",
   "id": "203633e9-08ef-4b59-b969-9d275675e5fd",
   "metadata": {},
   "source": [
    "# **결측(missing value)처리**\n",
    "* np.nan\n",
    "\n",
    "* df1.dropna(axis =1 또는 axis=0) : 지우기 \n",
    "* df1.fillna(값) : 채우기\n",
    "* pd.isna(df1) : 널값 찾기"
   ]
  },
  {
   "cell_type": "code",
   "execution_count": 18,
   "id": "b24bfcb6-96b5-4463-9f61-fd75c442121a",
   "metadata": {
    "tags": []
   },
   "outputs": [
    {
     "data": {
      "text/html": [
       "<div>\n",
       "<style scoped>\n",
       "    .dataframe tbody tr th:only-of-type {\n",
       "        vertical-align: middle;\n",
       "    }\n",
       "\n",
       "    .dataframe tbody tr th {\n",
       "        vertical-align: top;\n",
       "    }\n",
       "\n",
       "    .dataframe thead th {\n",
       "        text-align: right;\n",
       "    }\n",
       "</style>\n",
       "<table border=\"1\" class=\"dataframe\">\n",
       "  <thead>\n",
       "    <tr style=\"text-align: right;\">\n",
       "      <th></th>\n",
       "      <th>code</th>\n",
       "      <th>seq</th>\n",
       "      <th>sal</th>\n",
       "    </tr>\n",
       "  </thead>\n",
       "  <tbody>\n",
       "    <tr>\n",
       "      <th>0</th>\n",
       "      <td>a</td>\n",
       "      <td>1</td>\n",
       "      <td>100</td>\n",
       "    </tr>\n",
       "    <tr>\n",
       "      <th>1</th>\n",
       "      <td>b</td>\n",
       "      <td>2</td>\n",
       "      <td>200</td>\n",
       "    </tr>\n",
       "    <tr>\n",
       "      <th>2</th>\n",
       "      <td>c</td>\n",
       "      <td>3</td>\n",
       "      <td>300</td>\n",
       "    </tr>\n",
       "    <tr>\n",
       "      <th>3</th>\n",
       "      <td>d</td>\n",
       "      <td>4</td>\n",
       "      <td>400</td>\n",
       "    </tr>\n",
       "  </tbody>\n",
       "</table>\n",
       "</div>"
      ],
      "text/plain": [
       "  code  seq  sal\n",
       "0    a    1  100\n",
       "1    b    2  200\n",
       "2    c    3  300\n",
       "3    d    4  400"
      ]
     },
     "execution_count": 18,
     "metadata": {},
     "output_type": "execute_result"
    }
   ],
   "source": [
    "dfcp = df.copy()\n",
    "dfcp"
   ]
  },
  {
   "cell_type": "markdown",
   "id": "bd5f664b-1960-4328-a585-02f06dc21071",
   "metadata": {},
   "source": [
    "* <font color=red><b> 숫자값에 nan이 있으면 타입은 float(소숫점)"
   ]
  },
  {
   "cell_type": "markdown",
   "id": "5def3927-600e-4e4d-becb-899f510bd30b",
   "metadata": {},
   "source": [
    "## **Dropna()** : 결측을 버리는 것\n",
    "\n",
    "* axis = 0 : 결측이 있는 행을 지운다.\n",
    "* axis = 1 : 결측이 있는 열을 지운다."
   ]
  },
  {
   "cell_type": "code",
   "execution_count": 118,
   "id": "6f104556-9eab-4ad3-aaa6-432d7ef9b3e5",
   "metadata": {
    "tags": []
   },
   "outputs": [
    {
     "data": {
      "text/html": [
       "<div>\n",
       "<style scoped>\n",
       "    .dataframe tbody tr th:only-of-type {\n",
       "        vertical-align: middle;\n",
       "    }\n",
       "\n",
       "    .dataframe tbody tr th {\n",
       "        vertical-align: top;\n",
       "    }\n",
       "\n",
       "    .dataframe thead th {\n",
       "        text-align: right;\n",
       "    }\n",
       "</style>\n",
       "<table border=\"1\" class=\"dataframe\">\n",
       "  <thead>\n",
       "    <tr style=\"text-align: right;\">\n",
       "      <th></th>\n",
       "      <th>EMPNO</th>\n",
       "      <th>ENAME</th>\n",
       "      <th>JOB</th>\n",
       "      <th>MGR</th>\n",
       "      <th>HIREDATE</th>\n",
       "      <th>SAL</th>\n",
       "      <th>COMM</th>\n",
       "      <th>DEPTNO</th>\n",
       "    </tr>\n",
       "  </thead>\n",
       "  <tbody>\n",
       "    <tr>\n",
       "      <th>1</th>\n",
       "      <td>7499</td>\n",
       "      <td>ALLEN</td>\n",
       "      <td>SALESMAN</td>\n",
       "      <td>7698.0</td>\n",
       "      <td>1981-02-20</td>\n",
       "      <td>1600</td>\n",
       "      <td>300.0</td>\n",
       "      <td>30</td>\n",
       "    </tr>\n",
       "    <tr>\n",
       "      <th>2</th>\n",
       "      <td>7521</td>\n",
       "      <td>WARD</td>\n",
       "      <td>SALESMAN</td>\n",
       "      <td>7698.0</td>\n",
       "      <td>1981-02-22</td>\n",
       "      <td>1250</td>\n",
       "      <td>500.0</td>\n",
       "      <td>30</td>\n",
       "    </tr>\n",
       "    <tr>\n",
       "      <th>4</th>\n",
       "      <td>7654</td>\n",
       "      <td>MARTIN</td>\n",
       "      <td>SALESMAN</td>\n",
       "      <td>7698.0</td>\n",
       "      <td>1981-09-28</td>\n",
       "      <td>1250</td>\n",
       "      <td>1400.0</td>\n",
       "      <td>30</td>\n",
       "    </tr>\n",
       "    <tr>\n",
       "      <th>9</th>\n",
       "      <td>7844</td>\n",
       "      <td>TURNER</td>\n",
       "      <td>SALESMAN</td>\n",
       "      <td>7698.0</td>\n",
       "      <td>1981-09-08</td>\n",
       "      <td>1500</td>\n",
       "      <td>0.0</td>\n",
       "      <td>30</td>\n",
       "    </tr>\n",
       "  </tbody>\n",
       "</table>\n",
       "</div>"
      ],
      "text/plain": [
       "   EMPNO   ENAME       JOB     MGR   HIREDATE   SAL    COMM  DEPTNO\n",
       "1   7499   ALLEN  SALESMAN  7698.0 1981-02-20  1600   300.0      30\n",
       "2   7521    WARD  SALESMAN  7698.0 1981-02-22  1250   500.0      30\n",
       "4   7654  MARTIN  SALESMAN  7698.0 1981-09-28  1250  1400.0      30\n",
       "9   7844  TURNER  SALESMAN  7698.0 1981-09-08  1500     0.0      30"
      ]
     },
     "execution_count": 118,
     "metadata": {},
     "output_type": "execute_result"
    }
   ],
   "source": [
    "dfcp.dropna() #결측 지워라\n",
    "dfcp.dropna(axis=0)\n",
    "# dfcp.dropna(axis=0, inplace = True) #교체 명령어를 실행하면 변수 재정의랑 같은 의미이다.\n",
    "dfcp"
   ]
  },
  {
   "cell_type": "markdown",
   "id": "1ba869e6-14d5-415a-a502-a30e21797d94",
   "metadata": {
    "tags": []
   },
   "source": [
    "**★드롭 후 dfcp(변수)를 재정의해줘야 메모리상에서가 아닌 실제로 지워진다.**"
   ]
  },
  {
   "cell_type": "code",
   "execution_count": 22,
   "id": "a37f9e0e-31bb-40dd-be51-a45ffa3e9af1",
   "metadata": {
    "tags": []
   },
   "outputs": [
    {
     "data": {
      "text/html": [
       "<div>\n",
       "<style scoped>\n",
       "    .dataframe tbody tr th:only-of-type {\n",
       "        vertical-align: middle;\n",
       "    }\n",
       "\n",
       "    .dataframe tbody tr th {\n",
       "        vertical-align: top;\n",
       "    }\n",
       "\n",
       "    .dataframe thead th {\n",
       "        text-align: right;\n",
       "    }\n",
       "</style>\n",
       "<table border=\"1\" class=\"dataframe\">\n",
       "  <thead>\n",
       "    <tr style=\"text-align: right;\">\n",
       "      <th></th>\n",
       "      <th>code</th>\n",
       "      <th>seq</th>\n",
       "      <th>sal</th>\n",
       "    </tr>\n",
       "  </thead>\n",
       "  <tbody>\n",
       "    <tr>\n",
       "      <th>0</th>\n",
       "      <td>a</td>\n",
       "      <td>1</td>\n",
       "      <td>100</td>\n",
       "    </tr>\n",
       "    <tr>\n",
       "      <th>1</th>\n",
       "      <td>b</td>\n",
       "      <td>2</td>\n",
       "      <td>200</td>\n",
       "    </tr>\n",
       "    <tr>\n",
       "      <th>2</th>\n",
       "      <td>c</td>\n",
       "      <td>3</td>\n",
       "      <td>300</td>\n",
       "    </tr>\n",
       "    <tr>\n",
       "      <th>3</th>\n",
       "      <td>d</td>\n",
       "      <td>4</td>\n",
       "      <td>400</td>\n",
       "    </tr>\n",
       "  </tbody>\n",
       "</table>\n",
       "</div>"
      ],
      "text/plain": [
       "  code  seq  sal\n",
       "0    a    1  100\n",
       "1    b    2  200\n",
       "2    c    3  300\n",
       "3    d    4  400"
      ]
     },
     "execution_count": 22,
     "metadata": {},
     "output_type": "execute_result"
    }
   ],
   "source": [
    "dfcp = df.copy()\n",
    "\n",
    "dfcp = dfcp.dropna(axis=1)\n",
    "dfcp"
   ]
  },
  {
   "cell_type": "markdown",
   "id": "d2bd9bca-ffcc-4844-8352-855e1fefa6c1",
   "metadata": {},
   "source": [
    "## **fillna()** : 결측을 채우는 것\n",
    "\n",
    "* 결측 채우기 후 일반적으로 형변환을 한다. (int)\n",
    "* df['컬럼'] = df['컬럼'].astype('int')"
   ]
  },
  {
   "cell_type": "code",
   "execution_count": 21,
   "id": "eff8b1a9-ee9b-4864-9d55-fd0bd5725d2e",
   "metadata": {
    "tags": []
   },
   "outputs": [],
   "source": [
    "dfcp = df.copy()\n",
    "dfcp.fillna(9999)\n",
    "\n",
    "dfcp = dfcp.fillna(9999) #변수 재정의 or inplace"
   ]
  },
  {
   "cell_type": "markdown",
   "id": "a18c4c09-e1d9-4ca0-9c2e-ad873485f012",
   "metadata": {
    "tags": []
   },
   "source": [
    "## **n개의 컬럼 지정하여 값 넣기**"
   ]
  },
  {
   "cell_type": "code",
   "execution_count": 24,
   "id": "dde70bb6-fbcc-46f5-b123-935052654a90",
   "metadata": {
    "tags": []
   },
   "outputs": [
    {
     "ename": "KeyError",
     "evalue": "\"None of [Index(['COMM', 'MGR'], dtype='object')] are in the [columns]\"",
     "output_type": "error",
     "traceback": [
      "\u001b[1;31m---------------------------------------------------------------------------\u001b[0m",
      "\u001b[1;31mKeyError\u001b[0m                                  Traceback (most recent call last)",
      "Cell \u001b[1;32mIn[24], line 2\u001b[0m\n\u001b[0;32m      1\u001b[0m dfcp \u001b[38;5;241m=\u001b[39m df\u001b[38;5;241m.\u001b[39mcopy()\n\u001b[1;32m----> 2\u001b[0m dfcp[[\u001b[38;5;124m'\u001b[39m\u001b[38;5;124mCOMM\u001b[39m\u001b[38;5;124m'\u001b[39m,\u001b[38;5;124m'\u001b[39m\u001b[38;5;124mMGR\u001b[39m\u001b[38;5;124m'\u001b[39m]] \u001b[38;5;241m=\u001b[39m \u001b[43mdfcp\u001b[49m\u001b[43m[\u001b[49m\u001b[43m[\u001b[49m\u001b[38;5;124;43m'\u001b[39;49m\u001b[38;5;124;43mCOMM\u001b[39;49m\u001b[38;5;124;43m'\u001b[39;49m\u001b[43m,\u001b[49m\u001b[38;5;124;43m'\u001b[39;49m\u001b[38;5;124;43mMGR\u001b[39;49m\u001b[38;5;124;43m'\u001b[39;49m\u001b[43m]\u001b[49m\u001b[43m]\u001b[49m\u001b[38;5;241m.\u001b[39mfillna(\u001b[38;5;241m2222\u001b[39m) \u001b[38;5;66;03m# n개의 컬럼값 지정하기. 떼거지는 []묶기\u001b[39;00m\n\u001b[0;32m      3\u001b[0m \u001b[38;5;66;03m# dfcp['COMM'] = dfcp['COMM'].fillna(8888) #각 컬럼별로 결측값 지정하기\u001b[39;00m\n\u001b[0;32m      4\u001b[0m \u001b[38;5;66;03m# dfcp['MGR'] = dfcp['MGR'].fillna(77)\u001b[39;00m\n\u001b[0;32m      6\u001b[0m dfcp[[\u001b[38;5;124m'\u001b[39m\u001b[38;5;124mCOMM\u001b[39m\u001b[38;5;124m'\u001b[39m,\u001b[38;5;124m'\u001b[39m\u001b[38;5;124mMGR\u001b[39m\u001b[38;5;124m'\u001b[39m]] \u001b[38;5;241m=\u001b[39m dfcp[[\u001b[38;5;124m'\u001b[39m\u001b[38;5;124mCOMM\u001b[39m\u001b[38;5;124m'\u001b[39m,\u001b[38;5;124m'\u001b[39m\u001b[38;5;124mMGR\u001b[39m\u001b[38;5;124m'\u001b[39m]]\u001b[38;5;241m.\u001b[39mastype(\u001b[38;5;124m'\u001b[39m\u001b[38;5;124mint\u001b[39m\u001b[38;5;124m'\u001b[39m) \u001b[38;5;66;03m#결측 채우기 후, 보통 소숫점으로 바뀌는 값을 다시 int로 형변환을 한다. \u001b[39;00m\n",
      "File \u001b[1;32mC:\\AI\\pythonProject\\venv\\lib\\site-packages\\pandas\\core\\frame.py:3813\u001b[0m, in \u001b[0;36mDataFrame.__getitem__\u001b[1;34m(self, key)\u001b[0m\n\u001b[0;32m   3811\u001b[0m     \u001b[38;5;28;01mif\u001b[39;00m is_iterator(key):\n\u001b[0;32m   3812\u001b[0m         key \u001b[38;5;241m=\u001b[39m \u001b[38;5;28mlist\u001b[39m(key)\n\u001b[1;32m-> 3813\u001b[0m     indexer \u001b[38;5;241m=\u001b[39m \u001b[38;5;28;43mself\u001b[39;49m\u001b[38;5;241;43m.\u001b[39;49m\u001b[43mcolumns\u001b[49m\u001b[38;5;241;43m.\u001b[39;49m\u001b[43m_get_indexer_strict\u001b[49m\u001b[43m(\u001b[49m\u001b[43mkey\u001b[49m\u001b[43m,\u001b[49m\u001b[43m \u001b[49m\u001b[38;5;124;43m\"\u001b[39;49m\u001b[38;5;124;43mcolumns\u001b[39;49m\u001b[38;5;124;43m\"\u001b[39;49m\u001b[43m)\u001b[49m[\u001b[38;5;241m1\u001b[39m]\n\u001b[0;32m   3815\u001b[0m \u001b[38;5;66;03m# take() does not accept boolean indexers\u001b[39;00m\n\u001b[0;32m   3816\u001b[0m \u001b[38;5;28;01mif\u001b[39;00m \u001b[38;5;28mgetattr\u001b[39m(indexer, \u001b[38;5;124m\"\u001b[39m\u001b[38;5;124mdtype\u001b[39m\u001b[38;5;124m\"\u001b[39m, \u001b[38;5;28;01mNone\u001b[39;00m) \u001b[38;5;241m==\u001b[39m \u001b[38;5;28mbool\u001b[39m:\n",
      "File \u001b[1;32mC:\\AI\\pythonProject\\venv\\lib\\site-packages\\pandas\\core\\indexes\\base.py:6070\u001b[0m, in \u001b[0;36mIndex._get_indexer_strict\u001b[1;34m(self, key, axis_name)\u001b[0m\n\u001b[0;32m   6067\u001b[0m \u001b[38;5;28;01melse\u001b[39;00m:\n\u001b[0;32m   6068\u001b[0m     keyarr, indexer, new_indexer \u001b[38;5;241m=\u001b[39m \u001b[38;5;28mself\u001b[39m\u001b[38;5;241m.\u001b[39m_reindex_non_unique(keyarr)\n\u001b[1;32m-> 6070\u001b[0m \u001b[38;5;28;43mself\u001b[39;49m\u001b[38;5;241;43m.\u001b[39;49m\u001b[43m_raise_if_missing\u001b[49m\u001b[43m(\u001b[49m\u001b[43mkeyarr\u001b[49m\u001b[43m,\u001b[49m\u001b[43m \u001b[49m\u001b[43mindexer\u001b[49m\u001b[43m,\u001b[49m\u001b[43m \u001b[49m\u001b[43maxis_name\u001b[49m\u001b[43m)\u001b[49m\n\u001b[0;32m   6072\u001b[0m keyarr \u001b[38;5;241m=\u001b[39m \u001b[38;5;28mself\u001b[39m\u001b[38;5;241m.\u001b[39mtake(indexer)\n\u001b[0;32m   6073\u001b[0m \u001b[38;5;28;01mif\u001b[39;00m \u001b[38;5;28misinstance\u001b[39m(key, Index):\n\u001b[0;32m   6074\u001b[0m     \u001b[38;5;66;03m# GH 42790 - Preserve name from an Index\u001b[39;00m\n",
      "File \u001b[1;32mC:\\AI\\pythonProject\\venv\\lib\\site-packages\\pandas\\core\\indexes\\base.py:6130\u001b[0m, in \u001b[0;36mIndex._raise_if_missing\u001b[1;34m(self, key, indexer, axis_name)\u001b[0m\n\u001b[0;32m   6128\u001b[0m     \u001b[38;5;28;01mif\u001b[39;00m use_interval_msg:\n\u001b[0;32m   6129\u001b[0m         key \u001b[38;5;241m=\u001b[39m \u001b[38;5;28mlist\u001b[39m(key)\n\u001b[1;32m-> 6130\u001b[0m     \u001b[38;5;28;01mraise\u001b[39;00m \u001b[38;5;167;01mKeyError\u001b[39;00m(\u001b[38;5;124mf\u001b[39m\u001b[38;5;124m\"\u001b[39m\u001b[38;5;124mNone of [\u001b[39m\u001b[38;5;132;01m{\u001b[39;00mkey\u001b[38;5;132;01m}\u001b[39;00m\u001b[38;5;124m] are in the [\u001b[39m\u001b[38;5;132;01m{\u001b[39;00maxis_name\u001b[38;5;132;01m}\u001b[39;00m\u001b[38;5;124m]\u001b[39m\u001b[38;5;124m\"\u001b[39m)\n\u001b[0;32m   6132\u001b[0m not_found \u001b[38;5;241m=\u001b[39m \u001b[38;5;28mlist\u001b[39m(ensure_index(key)[missing_mask\u001b[38;5;241m.\u001b[39mnonzero()[\u001b[38;5;241m0\u001b[39m]]\u001b[38;5;241m.\u001b[39munique())\n\u001b[0;32m   6133\u001b[0m \u001b[38;5;28;01mraise\u001b[39;00m \u001b[38;5;167;01mKeyError\u001b[39;00m(\u001b[38;5;124mf\u001b[39m\u001b[38;5;124m\"\u001b[39m\u001b[38;5;132;01m{\u001b[39;00mnot_found\u001b[38;5;132;01m}\u001b[39;00m\u001b[38;5;124m not in index\u001b[39m\u001b[38;5;124m\"\u001b[39m)\n",
      "\u001b[1;31mKeyError\u001b[0m: \"None of [Index(['COMM', 'MGR'], dtype='object')] are in the [columns]\""
     ]
    }
   ],
   "source": [
    "dfcp = df.copy()\n",
    "dfcp[['COMM','MGR']] = dfcp[['COMM','MGR']].fillna(2222) # n개의 컬럼값 지정하기. 떼거지는 []묶기\n",
    "# dfcp['COMM'] = dfcp['COMM'].fillna(8888) #각 컬럼별로 결측값 지정하기\n",
    "# dfcp['MGR'] = dfcp['MGR'].fillna(77)\n",
    "\n",
    "dfcp[['COMM','MGR']] = dfcp[['COMM','MGR']].astype('int') #결측 채우기 후, 보통 소숫점으로 바뀌는 값을 다시 int로 형변환을 한다. \n",
    "dfcp"
   ]
  },
  {
   "cell_type": "code",
   "execution_count": 23,
   "id": "2fce051b-9273-4c66-a570-2157d5ac25da",
   "metadata": {
    "tags": []
   },
   "outputs": [
    {
     "data": {
      "text/plain": [
       "<bound method NDFrame._add_numeric_operations.<locals>.sum of     code    seq    sal\n",
       "0  False  False  False\n",
       "1  False  False  False\n",
       "2  False  False  False\n",
       "3  False  False  False>"
      ]
     },
     "execution_count": 23,
     "metadata": {},
     "output_type": "execute_result"
    }
   ],
   "source": [
    "dfcp.isna().sum"
   ]
  },
  {
   "cell_type": "markdown",
   "id": "16361ac6-9b67-4db2-ae04-bedbfb3e019e",
   "metadata": {},
   "source": [
    "## **isna(df1)** : 결측 판단\n",
    "\n",
    "* df.isna()\n",
    "* pd.isna(df1)"
   ]
  },
  {
   "cell_type": "code",
   "execution_count": 8,
   "id": "4d8be18d-0734-402b-8aab-6c38c80f07ea",
   "metadata": {
    "tags": []
   },
   "outputs": [],
   "source": [
    "dfcp = df.copy()\n",
    "# pd.isna(dfcp)\n",
    "\n",
    "# dfcp.isna()\n",
    "# pd.notna(dfcp)\n",
    "# pd.isnull(dfcp)\n",
    "# pd.notnull(dfcp)"
   ]
  },
  {
   "cell_type": "code",
   "execution_count": 99,
   "id": "d1b41e06-1a16-4eeb-9a96-9c95ea8bb267",
   "metadata": {
    "tags": []
   },
   "outputs": [
    {
     "data": {
      "text/html": [
       "<div>\n",
       "<style scoped>\n",
       "    .dataframe tbody tr th:only-of-type {\n",
       "        vertical-align: middle;\n",
       "    }\n",
       "\n",
       "    .dataframe tbody tr th {\n",
       "        vertical-align: top;\n",
       "    }\n",
       "\n",
       "    .dataframe thead th {\n",
       "        text-align: right;\n",
       "    }\n",
       "</style>\n",
       "<table border=\"1\" class=\"dataframe\">\n",
       "  <thead>\n",
       "    <tr style=\"text-align: right;\">\n",
       "      <th></th>\n",
       "      <th>EMPNO</th>\n",
       "      <th>ENAME</th>\n",
       "      <th>JOB</th>\n",
       "      <th>MGR</th>\n",
       "      <th>HIREDATE</th>\n",
       "      <th>SAL</th>\n",
       "      <th>COMM</th>\n",
       "      <th>DEPTNO</th>\n",
       "    </tr>\n",
       "  </thead>\n",
       "  <tbody>\n",
       "    <tr>\n",
       "      <th>0</th>\n",
       "      <td>False</td>\n",
       "      <td>False</td>\n",
       "      <td>False</td>\n",
       "      <td>False</td>\n",
       "      <td>False</td>\n",
       "      <td>False</td>\n",
       "      <td>True</td>\n",
       "      <td>False</td>\n",
       "    </tr>\n",
       "    <tr>\n",
       "      <th>1</th>\n",
       "      <td>False</td>\n",
       "      <td>False</td>\n",
       "      <td>False</td>\n",
       "      <td>False</td>\n",
       "      <td>False</td>\n",
       "      <td>False</td>\n",
       "      <td>False</td>\n",
       "      <td>False</td>\n",
       "    </tr>\n",
       "    <tr>\n",
       "      <th>2</th>\n",
       "      <td>False</td>\n",
       "      <td>False</td>\n",
       "      <td>False</td>\n",
       "      <td>False</td>\n",
       "      <td>False</td>\n",
       "      <td>False</td>\n",
       "      <td>False</td>\n",
       "      <td>False</td>\n",
       "    </tr>\n",
       "    <tr>\n",
       "      <th>3</th>\n",
       "      <td>False</td>\n",
       "      <td>False</td>\n",
       "      <td>False</td>\n",
       "      <td>False</td>\n",
       "      <td>False</td>\n",
       "      <td>False</td>\n",
       "      <td>True</td>\n",
       "      <td>False</td>\n",
       "    </tr>\n",
       "    <tr>\n",
       "      <th>4</th>\n",
       "      <td>False</td>\n",
       "      <td>False</td>\n",
       "      <td>False</td>\n",
       "      <td>False</td>\n",
       "      <td>False</td>\n",
       "      <td>False</td>\n",
       "      <td>False</td>\n",
       "      <td>False</td>\n",
       "    </tr>\n",
       "    <tr>\n",
       "      <th>5</th>\n",
       "      <td>False</td>\n",
       "      <td>False</td>\n",
       "      <td>False</td>\n",
       "      <td>False</td>\n",
       "      <td>False</td>\n",
       "      <td>False</td>\n",
       "      <td>True</td>\n",
       "      <td>False</td>\n",
       "    </tr>\n",
       "    <tr>\n",
       "      <th>6</th>\n",
       "      <td>False</td>\n",
       "      <td>False</td>\n",
       "      <td>False</td>\n",
       "      <td>False</td>\n",
       "      <td>False</td>\n",
       "      <td>False</td>\n",
       "      <td>True</td>\n",
       "      <td>False</td>\n",
       "    </tr>\n",
       "    <tr>\n",
       "      <th>7</th>\n",
       "      <td>False</td>\n",
       "      <td>False</td>\n",
       "      <td>False</td>\n",
       "      <td>False</td>\n",
       "      <td>False</td>\n",
       "      <td>False</td>\n",
       "      <td>True</td>\n",
       "      <td>False</td>\n",
       "    </tr>\n",
       "    <tr>\n",
       "      <th>8</th>\n",
       "      <td>False</td>\n",
       "      <td>False</td>\n",
       "      <td>False</td>\n",
       "      <td>True</td>\n",
       "      <td>False</td>\n",
       "      <td>False</td>\n",
       "      <td>True</td>\n",
       "      <td>False</td>\n",
       "    </tr>\n",
       "    <tr>\n",
       "      <th>9</th>\n",
       "      <td>False</td>\n",
       "      <td>False</td>\n",
       "      <td>False</td>\n",
       "      <td>False</td>\n",
       "      <td>False</td>\n",
       "      <td>False</td>\n",
       "      <td>False</td>\n",
       "      <td>False</td>\n",
       "    </tr>\n",
       "    <tr>\n",
       "      <th>10</th>\n",
       "      <td>False</td>\n",
       "      <td>False</td>\n",
       "      <td>False</td>\n",
       "      <td>False</td>\n",
       "      <td>False</td>\n",
       "      <td>False</td>\n",
       "      <td>True</td>\n",
       "      <td>False</td>\n",
       "    </tr>\n",
       "    <tr>\n",
       "      <th>11</th>\n",
       "      <td>False</td>\n",
       "      <td>False</td>\n",
       "      <td>False</td>\n",
       "      <td>False</td>\n",
       "      <td>False</td>\n",
       "      <td>False</td>\n",
       "      <td>True</td>\n",
       "      <td>False</td>\n",
       "    </tr>\n",
       "    <tr>\n",
       "      <th>12</th>\n",
       "      <td>False</td>\n",
       "      <td>False</td>\n",
       "      <td>False</td>\n",
       "      <td>False</td>\n",
       "      <td>False</td>\n",
       "      <td>False</td>\n",
       "      <td>True</td>\n",
       "      <td>False</td>\n",
       "    </tr>\n",
       "    <tr>\n",
       "      <th>13</th>\n",
       "      <td>False</td>\n",
       "      <td>False</td>\n",
       "      <td>False</td>\n",
       "      <td>False</td>\n",
       "      <td>False</td>\n",
       "      <td>False</td>\n",
       "      <td>True</td>\n",
       "      <td>False</td>\n",
       "    </tr>\n",
       "  </tbody>\n",
       "</table>\n",
       "</div>"
      ],
      "text/plain": [
       "    EMPNO  ENAME    JOB    MGR  HIREDATE    SAL   COMM  DEPTNO\n",
       "0   False  False  False  False     False  False   True   False\n",
       "1   False  False  False  False     False  False  False   False\n",
       "2   False  False  False  False     False  False  False   False\n",
       "3   False  False  False  False     False  False   True   False\n",
       "4   False  False  False  False     False  False  False   False\n",
       "5   False  False  False  False     False  False   True   False\n",
       "6   False  False  False  False     False  False   True   False\n",
       "7   False  False  False  False     False  False   True   False\n",
       "8   False  False  False   True     False  False   True   False\n",
       "9   False  False  False  False     False  False  False   False\n",
       "10  False  False  False  False     False  False   True   False\n",
       "11  False  False  False  False     False  False   True   False\n",
       "12  False  False  False  False     False  False   True   False\n",
       "13  False  False  False  False     False  False   True   False"
      ]
     },
     "execution_count": 99,
     "metadata": {},
     "output_type": "execute_result"
    }
   ],
   "source": [
    "pd.isna(df)"
   ]
  },
  {
   "cell_type": "markdown",
   "id": "33ff15e1-8413-4b25-8bb1-e1afaed369e4",
   "metadata": {},
   "source": [
    "---"
   ]
  },
  {
   "cell_type": "markdown",
   "id": "9a2f8267-1140-4d3c-87df-1ade368b3c08",
   "metadata": {},
   "source": [
    "---"
   ]
  },
  {
   "cell_type": "markdown",
   "id": "acbbe4a5-3dc0-4609-a36e-bd4b02a6acab",
   "metadata": {},
   "source": [
    "---"
   ]
  },
  {
   "cell_type": "markdown",
   "id": "0f8ef917-9f3d-4cba-a6e5-da11acb6e1fb",
   "metadata": {
    "tags": []
   },
   "source": [
    "# SELECT in DataFrame\n",
    "\n",
    "* **loc[줄,칸]** : 값 으로 꺼내기\n",
    "* **ioc[줄,칸]** : index로 꺼내기\n",
    "\n",
    "* [줄,칸]에 들어갈 수 있는 값\n",
    "    - 단일값\n",
    "    - [단일값,단일값,단일값]\n",
    "    - 슬라이싱[ : ]"
   ]
  }
 ],
 "metadata": {
  "kernelspec": {
   "display_name": "Python 3 (ipykernel)",
   "language": "python",
   "name": "python3"
  },
  "language_info": {
   "codemirror_mode": {
    "name": "ipython",
    "version": 3
   },
   "file_extension": ".py",
   "mimetype": "text/x-python",
   "name": "python",
   "nbconvert_exporter": "python",
   "pygments_lexer": "ipython3",
   "version": "3.8.8"
  },
  "toc-autonumbering": true,
  "toc-showcode": false,
  "toc-showmarkdowntxt": false
 },
 "nbformat": 4,
 "nbformat_minor": 5
}
