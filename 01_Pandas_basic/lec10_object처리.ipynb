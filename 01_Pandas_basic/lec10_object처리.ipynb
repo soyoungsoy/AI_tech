{
 "cells": [
  {
   "cell_type": "markdown",
   "id": "05a94e25-2e11-4585-9df5-93e177f73048",
   "metadata": {},
   "source": [
    "**DB 불러오기**"
   ]
  },
  {
   "cell_type": "code",
   "execution_count": 1,
   "id": "a749951e-315c-4535-bc0f-a4c5123a6d87",
   "metadata": {
    "tags": []
   },
   "outputs": [],
   "source": [
    "import numpy as np\n",
    "import pandas as pd"
   ]
  },
  {
   "cell_type": "code",
   "execution_count": 31,
   "id": "ffbb9692-eef3-4d20-9549-2b14d4e1b376",
   "metadata": {
    "tags": []
   },
   "outputs": [],
   "source": [
    "import warnings\n",
    "warnings.filterwarnings(action = 'ignore')"
   ]
  },
  {
   "cell_type": "code",
   "execution_count": 3,
   "id": "5a0d3c7b-8195-4b90-87d9-0af32d44ca75",
   "metadata": {
    "tags": []
   },
   "outputs": [
    {
     "data": {
      "text/html": [
       "<div>\n",
       "<style scoped>\n",
       "    .dataframe tbody tr th:only-of-type {\n",
       "        vertical-align: middle;\n",
       "    }\n",
       "\n",
       "    .dataframe tbody tr th {\n",
       "        vertical-align: top;\n",
       "    }\n",
       "\n",
       "    .dataframe thead th {\n",
       "        text-align: right;\n",
       "    }\n",
       "</style>\n",
       "<table border=\"1\" class=\"dataframe\">\n",
       "  <thead>\n",
       "    <tr style=\"text-align: right;\">\n",
       "      <th></th>\n",
       "      <th>PassengerId</th>\n",
       "      <th>Survived</th>\n",
       "      <th>Pclass</th>\n",
       "      <th>Name</th>\n",
       "      <th>Sex</th>\n",
       "      <th>Age</th>\n",
       "      <th>SibSp</th>\n",
       "      <th>Parch</th>\n",
       "      <th>Ticket</th>\n",
       "      <th>Fare</th>\n",
       "      <th>Cabin</th>\n",
       "      <th>Embarked</th>\n",
       "    </tr>\n",
       "  </thead>\n",
       "  <tbody>\n",
       "    <tr>\n",
       "      <th>0</th>\n",
       "      <td>1</td>\n",
       "      <td>0</td>\n",
       "      <td>3</td>\n",
       "      <td>Braund, Mr. Owen Harris</td>\n",
       "      <td>male</td>\n",
       "      <td>22.0</td>\n",
       "      <td>1</td>\n",
       "      <td>0</td>\n",
       "      <td>A/5 21171</td>\n",
       "      <td>7.2500</td>\n",
       "      <td>NaN</td>\n",
       "      <td>S</td>\n",
       "    </tr>\n",
       "    <tr>\n",
       "      <th>1</th>\n",
       "      <td>2</td>\n",
       "      <td>1</td>\n",
       "      <td>1</td>\n",
       "      <td>Cumings, Mrs. John Bradley (Florence Briggs Th...</td>\n",
       "      <td>female</td>\n",
       "      <td>38.0</td>\n",
       "      <td>1</td>\n",
       "      <td>0</td>\n",
       "      <td>PC 17599</td>\n",
       "      <td>71.2833</td>\n",
       "      <td>C85</td>\n",
       "      <td>C</td>\n",
       "    </tr>\n",
       "    <tr>\n",
       "      <th>2</th>\n",
       "      <td>3</td>\n",
       "      <td>1</td>\n",
       "      <td>3</td>\n",
       "      <td>Heikkinen, Miss. Laina</td>\n",
       "      <td>female</td>\n",
       "      <td>26.0</td>\n",
       "      <td>0</td>\n",
       "      <td>0</td>\n",
       "      <td>STON/O2. 3101282</td>\n",
       "      <td>7.9250</td>\n",
       "      <td>NaN</td>\n",
       "      <td>S</td>\n",
       "    </tr>\n",
       "    <tr>\n",
       "      <th>3</th>\n",
       "      <td>4</td>\n",
       "      <td>1</td>\n",
       "      <td>1</td>\n",
       "      <td>Futrelle, Mrs. Jacques Heath (Lily May Peel)</td>\n",
       "      <td>female</td>\n",
       "      <td>35.0</td>\n",
       "      <td>1</td>\n",
       "      <td>0</td>\n",
       "      <td>113803</td>\n",
       "      <td>53.1000</td>\n",
       "      <td>C123</td>\n",
       "      <td>S</td>\n",
       "    </tr>\n",
       "    <tr>\n",
       "      <th>4</th>\n",
       "      <td>5</td>\n",
       "      <td>0</td>\n",
       "      <td>3</td>\n",
       "      <td>Allen, Mr. William Henry</td>\n",
       "      <td>male</td>\n",
       "      <td>35.0</td>\n",
       "      <td>0</td>\n",
       "      <td>0</td>\n",
       "      <td>373450</td>\n",
       "      <td>8.0500</td>\n",
       "      <td>NaN</td>\n",
       "      <td>S</td>\n",
       "    </tr>\n",
       "  </tbody>\n",
       "</table>\n",
       "</div>"
      ],
      "text/plain": [
       "   PassengerId  Survived  Pclass  \\\n",
       "0            1         0       3   \n",
       "1            2         1       1   \n",
       "2            3         1       3   \n",
       "3            4         1       1   \n",
       "4            5         0       3   \n",
       "\n",
       "                                                Name     Sex   Age  SibSp  \\\n",
       "0                            Braund, Mr. Owen Harris    male  22.0      1   \n",
       "1  Cumings, Mrs. John Bradley (Florence Briggs Th...  female  38.0      1   \n",
       "2                             Heikkinen, Miss. Laina  female  26.0      0   \n",
       "3       Futrelle, Mrs. Jacques Heath (Lily May Peel)  female  35.0      1   \n",
       "4                           Allen, Mr. William Henry    male  35.0      0   \n",
       "\n",
       "   Parch            Ticket     Fare Cabin Embarked  \n",
       "0      0         A/5 21171   7.2500   NaN        S  \n",
       "1      0          PC 17599  71.2833   C85        C  \n",
       "2      0  STON/O2. 3101282   7.9250   NaN        S  \n",
       "3      0            113803  53.1000  C123        S  \n",
       "4      0            373450   8.0500   NaN        S  "
      ]
     },
     "execution_count": 3,
     "metadata": {},
     "output_type": "execute_result"
    }
   ],
   "source": [
    "tr = pd.read_csv(\"./TITANIC/train.csv\")\n",
    "tr.head()"
   ]
  },
  {
   "cell_type": "code",
   "execution_count": 4,
   "id": "08241c52-a987-4202-8ee6-cf88cbf7ffc1",
   "metadata": {
    "tags": []
   },
   "outputs": [],
   "source": [
    "tr.columns = tr.columns.str.lower() #소문자 변형"
   ]
  },
  {
   "cell_type": "code",
   "execution_count": null,
   "id": "4721eff2-9ddd-4eb7-8d63-36b4b9e83467",
   "metadata": {},
   "outputs": [],
   "source": []
  },
  {
   "cell_type": "markdown",
   "id": "f03b9319-62a9-4240-b00d-97f1868001a6",
   "metadata": {},
   "source": [
    "# <font size=6><b> lec10.머신러닝_전처리 : Object 변수"
   ]
  },
  {
   "cell_type": "markdown",
   "id": "dcd3cfcb-6ba9-4005-ad72-d6a855d63f53",
   "metadata": {},
   "source": [
    "## 범주형 변수 categorical data 처리\n",
    "\n",
    "<글자를 숫자로 바꾸기>\n",
    "* 라벨인코딩(Label Encoding)\n",
    "* 원핫인코딩(One-hot Encoding)\n",
    "* get_dummies()\n",
    "* df[컬럼].astype(\"category\")  \n",
    "  \n",
    "<범주화>  \n",
    "* 범주화(Bining)"
   ]
  },
  {
   "cell_type": "markdown",
   "id": "83d5f075-6f7a-40c6-8610-70d7f70995ee",
   "metadata": {},
   "source": [
    "## (1) 라벨인코딩(Label Encoding) \n",
    "        \n",
    "> * n개의 범주형 데이터를 0부터 n-1까지의 연속적 수치 데이터로 표현\n",
    "> * 글자를 숫자로 바꾸기"
   ]
  },
  {
   "cell_type": "code",
   "execution_count": 5,
   "id": "12ece0ef-bb6c-4a22-bcec-8ed422c81dab",
   "metadata": {
    "tags": []
   },
   "outputs": [],
   "source": [
    "# 설치 위해서 pip 버전 2.30 이상 필요(2023.02.14 기준)\n",
    "#!pip install scikit-learn"
   ]
  },
  {
   "cell_type": "code",
   "execution_count": 6,
   "id": "cbcfbbf7-a80a-417f-bf4a-05f35dd1ec81",
   "metadata": {},
   "outputs": [],
   "source": [
    "#머신러닝의 대표적 패키지\n",
    "# self 함수는 인자 (a=함수)과정이 꼭 필요한 종류라서, import할 때 클래스를 불러와서 인자를 설정해야 한다.\n",
    "\n",
    "#fit : 전체 데이터를 메모리에 올려놓고, distinct 값 찾는 것\n",
    "\n",
    "from sklearn.preprocessing import LabelEncoder #----------신규(클래스명)"
   ]
  },
  {
   "cell_type": "code",
   "execution_count": 17,
   "id": "a1093241-c702-4952-99ca-d88159b62521",
   "metadata": {
    "tags": []
   },
   "outputs": [
    {
     "data": {
      "text/html": [
       "<div>\n",
       "<style scoped>\n",
       "    .dataframe tbody tr th:only-of-type {\n",
       "        vertical-align: middle;\n",
       "    }\n",
       "\n",
       "    .dataframe tbody tr th {\n",
       "        vertical-align: top;\n",
       "    }\n",
       "\n",
       "    .dataframe thead th {\n",
       "        text-align: right;\n",
       "    }\n",
       "</style>\n",
       "<table border=\"1\" class=\"dataframe\">\n",
       "  <thead>\n",
       "    <tr style=\"text-align: right;\">\n",
       "      <th></th>\n",
       "      <th>name</th>\n",
       "      <th>score</th>\n",
       "    </tr>\n",
       "  </thead>\n",
       "  <tbody>\n",
       "    <tr>\n",
       "      <th>0</th>\n",
       "      <td>smith</td>\n",
       "      <td>A</td>\n",
       "    </tr>\n",
       "    <tr>\n",
       "      <th>1</th>\n",
       "      <td>martin</td>\n",
       "      <td>B</td>\n",
       "    </tr>\n",
       "    <tr>\n",
       "      <th>2</th>\n",
       "      <td>jones</td>\n",
       "      <td>NaN</td>\n",
       "    </tr>\n",
       "    <tr>\n",
       "      <th>3</th>\n",
       "      <td>allen</td>\n",
       "      <td>A</td>\n",
       "    </tr>\n",
       "    <tr>\n",
       "      <th>4</th>\n",
       "      <td>king</td>\n",
       "      <td>C</td>\n",
       "    </tr>\n",
       "  </tbody>\n",
       "</table>\n",
       "</div>"
      ],
      "text/plain": [
       "     name score\n",
       "0   smith     A\n",
       "1  martin     B\n",
       "2   jones   NaN\n",
       "3   allen     A\n",
       "4    king     C"
      ]
     },
     "execution_count": 17,
     "metadata": {},
     "output_type": "execute_result"
    }
   ],
   "source": [
    "df = pd.DataFrame({\"name\":[\"smith\",'martin',\"jones\",\"allen\",\"king\"],\"score\": [\"A\",\"B\",np.nan,\"A\",\"C\"]})\n",
    "df.head()"
   ]
  },
  {
   "cell_type": "code",
   "execution_count": 18,
   "id": "5111744c-8a9d-4e21-8bdf-359cfaff9dfc",
   "metadata": {
    "tags": []
   },
   "outputs": [
    {
     "name": "stdout",
     "output_type": "stream",
     "text": [
      "['smith' 'martin' 'jones' 'allen' 'king']\n",
      "[4 3 1 0 2]\n"
     ]
    }
   ],
   "source": [
    "le = LabelEncoder() #클래스이름() == 생성자 함수 : 초기화\n",
    "le.fit(df['name'])\n",
    "#df에 있는 'name'값을 피팅하겠다. 떼거지도 가능.\n",
    "# **주의 : 변수에 받을 수 없다. (메모리 상에 피팅하는 것이기 때문에, 결과를 반환 받을 수 없다?)\n",
    "# fit 하는 순간 메모리에 라벨 인코딩을 한다. 메모리가 계산작업 시작.\n",
    "\n",
    "res = le.transform(df['name'])\n",
    "print(df['name'].values) # 핏 하는 순간 네임을 라벨 인코더한 값.\n",
    "print(res)"
   ]
  },
  {
   "cell_type": "code",
   "execution_count": 19,
   "id": "9da4e502-3d3f-47a8-9b1c-72fcd5ff5f93",
   "metadata": {
    "tags": []
   },
   "outputs": [
    {
     "name": "stdout",
     "output_type": "stream",
     "text": [
      "['A' 'B' nan 'A' 'C']\n",
      "[0 1 3 0 2]\n"
     ]
    }
   ],
   "source": [
    "le = LabelEncoder() #클래스이름() == 생성자 함수 : 초기화\n",
    "le.fit(df['score']) #df에 있는 'score'값을 피팅하겠다. 떼거지도 가능. **주의 : 변수에 받을 수 없다. (메모리 상에 피팅하는 것이기 때문에, 결과를 반환 받을 수 없다?)\n",
    "# fit 하는 순간 메모리에 라벨 인코딩을 한다.\n",
    "\n",
    "resb = le.transform(df['score'])\n",
    "print(df['score'].values) # 핏 하는 순간 스코어를 라벨 인코더한 값.\n",
    "print(resb)"
   ]
  },
  {
   "cell_type": "code",
   "execution_count": 18,
   "id": "3ef3b510-0076-46f7-a846-4aeee793e902",
   "metadata": {
    "tags": []
   },
   "outputs": [
    {
     "name": "stdout",
     "output_type": "stream",
     "text": [
      "['smith' 'martin' 'jones' 'allen' 'king']\n",
      "[4 3 1 0 2]\n"
     ]
    }
   ],
   "source": [
    "le = LabelEncoder() #클래스이름() == 생성자 함수 : 초기화\n",
    "le.fit(df['name']) #df에 있는 'name'값을 피팅하겠다. 떼거지도 가능. **주의 : 변수에 받을 수 없다. (메모리 상에 피팅하는 것이기 때문에, 결과를 반환 받을 수 없다?)\n",
    "# fit 하는 순간 메모리에 라벨 인코딩을 한다.\n",
    "\n",
    "res = le.transform(df['name'])\n",
    "print(df['name'].values) # 핏 하는 순간 네임을 라벨 인코더한 값.\n",
    "print(res)"
   ]
  },
  {
   "cell_type": "code",
   "execution_count": 26,
   "id": "44de09f2-26fd-4975-81c0-b80564f43d3d",
   "metadata": {
    "tags": []
   },
   "outputs": [
    {
     "data": {
      "text/html": [
       "<div>\n",
       "<style scoped>\n",
       "    .dataframe tbody tr th:only-of-type {\n",
       "        vertical-align: middle;\n",
       "    }\n",
       "\n",
       "    .dataframe tbody tr th {\n",
       "        vertical-align: top;\n",
       "    }\n",
       "\n",
       "    .dataframe thead th {\n",
       "        text-align: right;\n",
       "    }\n",
       "</style>\n",
       "<table border=\"1\" class=\"dataframe\">\n",
       "  <thead>\n",
       "    <tr style=\"text-align: right;\">\n",
       "      <th></th>\n",
       "      <th>name</th>\n",
       "      <th>score</th>\n",
       "      <th>le_name</th>\n",
       "    </tr>\n",
       "  </thead>\n",
       "  <tbody>\n",
       "    <tr>\n",
       "      <th>0</th>\n",
       "      <td>smith</td>\n",
       "      <td>A</td>\n",
       "      <td>4</td>\n",
       "    </tr>\n",
       "    <tr>\n",
       "      <th>1</th>\n",
       "      <td>martin</td>\n",
       "      <td>B</td>\n",
       "      <td>3</td>\n",
       "    </tr>\n",
       "    <tr>\n",
       "      <th>2</th>\n",
       "      <td>jones</td>\n",
       "      <td>NaN</td>\n",
       "      <td>1</td>\n",
       "    </tr>\n",
       "    <tr>\n",
       "      <th>3</th>\n",
       "      <td>allen</td>\n",
       "      <td>A</td>\n",
       "      <td>0</td>\n",
       "    </tr>\n",
       "    <tr>\n",
       "      <th>4</th>\n",
       "      <td>king</td>\n",
       "      <td>C</td>\n",
       "      <td>2</td>\n",
       "    </tr>\n",
       "  </tbody>\n",
       "</table>\n",
       "</div>"
      ],
      "text/plain": [
       "     name score  le_name\n",
       "0   smith     A        4\n",
       "1  martin     B        3\n",
       "2   jones   NaN        1\n",
       "3   allen     A        0\n",
       "4    king     C        2"
      ]
     },
     "execution_count": 26,
     "metadata": {},
     "output_type": "execute_result"
    }
   ],
   "source": [
    "#array를 그냥 create한다. 값이 들어간다.\n",
    "df['le_name']=res\n",
    "\n",
    "df.head()"
   ]
  },
  {
   "cell_type": "markdown",
   "id": "c4ed68e2-f762-418a-b777-2434667151a1",
   "metadata": {
    "tags": []
   },
   "source": [
    "## (2) 원핫인코딩(One-hot Encoding)\n",
    "> * 집합의 크기를 벡터(1차원:한줄)의 차원으로 하고,  \n",
    "    표현하고 싶은 단어(나만)의 인덱스에 1의 값을 부여하고, 다른 인덱스(그 외)에는 0을 부여하는 벡터 표현 방식\n",
    "> *  데이터프레임에서 object 타입으로 되어있는 변수는 dummy 변수화\n",
    "> * <font color=red><b> 판다스의 시리즈가 아닌 numpy 행렬을 입력해야함 → df['컬럼'].values\n",
    "> * <font color=red><b> 벡터 입력을 허용하지 않음(=반드시 2차원으로) → reshape(-1,1)을 이용해 Matrix로 변환  (N,)(=array의 shape) → (N,1)"
   ]
  },
  {
   "cell_type": "code",
   "execution_count": 35,
   "id": "a878e8d8-111a-427b-bca3-2956e76571ec",
   "metadata": {},
   "outputs": [],
   "source": [
    "#패키지ㅡ패키지ㅡ클래스\n",
    "from sklearn.preprocessing import OneHotEncoder"
   ]
  },
  {
   "cell_type": "code",
   "execution_count": 30,
   "id": "a76cb126-638b-4a6f-9722-d6d86c3f942a",
   "metadata": {
    "tags": []
   },
   "outputs": [
    {
     "data": {
      "text/plain": [
       "array(['A', 'B', nan, 'A', 'C'], dtype=object)"
      ]
     },
     "execution_count": 30,
     "metadata": {},
     "output_type": "execute_result"
    }
   ],
   "source": [
    "df['score'].values                     #시리즈 : 1차 vector"
   ]
  },
  {
   "cell_type": "code",
   "execution_count": 32,
   "id": "665a9f8d-5521-4e31-ae68-a4a43d9537b8",
   "metadata": {
    "tags": []
   },
   "outputs": [
    {
     "data": {
      "text/plain": [
       "((5,), (5, 3))"
      ]
     },
     "execution_count": 32,
     "metadata": {},
     "output_type": "execute_result"
    }
   ],
   "source": [
    "df['score'].shape , df.shape"
   ]
  },
  {
   "cell_type": "code",
   "execution_count": 130,
   "id": "c4434d7c-beb0-440f-8a2c-f54aa4b7350f",
   "metadata": {
    "tags": []
   },
   "outputs": [
    {
     "data": {
      "text/plain": [
       "array([['A'],\n",
       "       ['B'],\n",
       "       [nan],\n",
       "       ['A'],\n",
       "       ['C']], dtype=object)"
      ]
     },
     "execution_count": 130,
     "metadata": {},
     "output_type": "execute_result"
    }
   ],
   "source": [
    "#df의 모양을 변경하values떨어지지 않으면 에러)\n",
    "#(row는 알겠는데 컬럼값은 모르겠을 때 : -1 => 컴퓨터가 알아서 해준다)\n",
    "\n",
    "df['score'].values.reshape(-1,1)                                      #2차 matrix\n",
    "#줄(헹)은 몇줄이어도 상관없지만 칸(열)은 1칸으로 해줘라 : 2차로 변경됨 [[ ]]"
   ]
  },
  {
   "cell_type": "code",
   "execution_count": 38,
   "id": "325c8313-f791-40ad-8ada-2ad1b235c61a",
   "metadata": {
    "tags": []
   },
   "outputs": [
    {
     "name": "stdout",
     "output_type": "stream",
     "text": [
      "  (0, 0)\t1.0\n",
      "  (1, 1)\t1.0\n",
      "  (2, 3)\t1.0\n",
      "  (3, 0)\t1.0\n",
      "  (4, 2)\t1.0\n"
     ]
    }
   ],
   "source": [
    "oe = OneHotEncoder()\n",
    "oe.fit(df['score'].values.reshape(-1,1) ) #fit할 때, 2차 매트릭스를 넣어줘라\n",
    "res = oe.transform(df['score'].values.reshape(-1,1))\n",
    "res\n",
    "\n",
    "#sparse matrix : 희소 행렬 . 행렬 안에 든 원소가 희소한 행렬(0이 많다.)\n",
    "print(res)\n",
    "#메모리 아끼려고 아래처럼 출력 된다."
   ]
  },
  {
   "cell_type": "code",
   "execution_count": 39,
   "id": "325e5229-9682-4a4a-8a1d-02192298099f",
   "metadata": {
    "tags": []
   },
   "outputs": [
    {
     "name": "stdout",
     "output_type": "stream",
     "text": [
      "[[1. 0. 0. 0.]\n",
      " [0. 1. 0. 0.]\n",
      " [0. 0. 0. 1.]\n",
      " [1. 0. 0. 0.]\n",
      " [0. 0. 1. 0.]]\n"
     ]
    }
   ],
   "source": [
    "oe = OneHotEncoder(sparse=False) #희소값 false\n",
    "oe.fit(df['score'].values.reshape(-1,1) ) #fit할 때, 2차 매트릭스를 넣어줘라\n",
    "res = oe.transform(df['score'].values.reshape(-1,1))\n",
    "res\n",
    "\n",
    "#sparse matrix : 희소 행렬 . 행렬 안에 든 원소가 희소한 행렬(0이 많다.)\n",
    "print(res) #결측이 있어서 float으로 나온다. "
   ]
  },
  {
   "cell_type": "code",
   "execution_count": 48,
   "id": "1fc157cc-9795-42c2-b45f-77cd84ceeea3",
   "metadata": {
    "tags": []
   },
   "outputs": [
    {
     "name": "stdout",
     "output_type": "stream",
     "text": [
      "[array(['A', 'B', 'C', nan], dtype=object)]\n"
     ]
    }
   ],
   "source": [
    "#oe의 카테고리 명이 뭡니까?\n",
    "\n",
    "print(oe.categories_)"
   ]
  },
  {
   "cell_type": "code",
   "execution_count": 49,
   "id": "4e41d260-92b7-4b47-a0d9-cec34a49d7dd",
   "metadata": {
    "tags": []
   },
   "outputs": [
    {
     "name": "stdout",
     "output_type": "stream",
     "text": [
      "['A' 'B' 'C' nan]\n"
     ]
    }
   ],
   "source": [
    "#array(카테고리) 추출하기\n",
    "#array로 뱉으니까 순서 지정해주기\n",
    "\n",
    "print(oe.categories_[0])"
   ]
  },
  {
   "cell_type": "code",
   "execution_count": 50,
   "id": "546e6ed4-12e8-4af5-a042-f237ae23f859",
   "metadata": {
    "tags": []
   },
   "outputs": [
    {
     "data": {
      "text/html": [
       "<div>\n",
       "<style scoped>\n",
       "    .dataframe tbody tr th:only-of-type {\n",
       "        vertical-align: middle;\n",
       "    }\n",
       "\n",
       "    .dataframe tbody tr th {\n",
       "        vertical-align: top;\n",
       "    }\n",
       "\n",
       "    .dataframe thead th {\n",
       "        text-align: right;\n",
       "    }\n",
       "</style>\n",
       "<table border=\"1\" class=\"dataframe\">\n",
       "  <thead>\n",
       "    <tr style=\"text-align: right;\">\n",
       "      <th></th>\n",
       "      <th>A</th>\n",
       "      <th>B</th>\n",
       "      <th>C</th>\n",
       "      <th>NaN</th>\n",
       "    </tr>\n",
       "  </thead>\n",
       "  <tbody>\n",
       "    <tr>\n",
       "      <th>0</th>\n",
       "      <td>1.0</td>\n",
       "      <td>0.0</td>\n",
       "      <td>0.0</td>\n",
       "      <td>0.0</td>\n",
       "    </tr>\n",
       "    <tr>\n",
       "      <th>1</th>\n",
       "      <td>0.0</td>\n",
       "      <td>1.0</td>\n",
       "      <td>0.0</td>\n",
       "      <td>0.0</td>\n",
       "    </tr>\n",
       "    <tr>\n",
       "      <th>2</th>\n",
       "      <td>0.0</td>\n",
       "      <td>0.0</td>\n",
       "      <td>0.0</td>\n",
       "      <td>1.0</td>\n",
       "    </tr>\n",
       "    <tr>\n",
       "      <th>3</th>\n",
       "      <td>1.0</td>\n",
       "      <td>0.0</td>\n",
       "      <td>0.0</td>\n",
       "      <td>0.0</td>\n",
       "    </tr>\n",
       "    <tr>\n",
       "      <th>4</th>\n",
       "      <td>0.0</td>\n",
       "      <td>0.0</td>\n",
       "      <td>1.0</td>\n",
       "      <td>0.0</td>\n",
       "    </tr>\n",
       "  </tbody>\n",
       "</table>\n",
       "</div>"
      ],
      "text/plain": [
       "     A    B    C  NaN\n",
       "0  1.0  0.0  0.0  0.0\n",
       "1  0.0  1.0  0.0  0.0\n",
       "2  0.0  0.0  0.0  1.0\n",
       "3  1.0  0.0  0.0  0.0\n",
       "4  0.0  0.0  1.0  0.0"
      ]
     },
     "execution_count": 50,
     "metadata": {},
     "output_type": "execute_result"
    }
   ],
   "source": [
    "#2차원은 df로 만들기 가장 편하다. 그냥 넣기만 하면 됨.\n",
    "# 컬럼명은 위에 카테고리명 추출한 것을 넣는다.\n",
    "\n",
    "ohdf = pd.DataFrame(res,columns = oe.categories_[0] )\n",
    "ohdf"
   ]
  },
  {
   "cell_type": "code",
   "execution_count": 51,
   "id": "2e5b5081-ed02-4148-8ec8-2f0c58eb81d6",
   "metadata": {
    "tags": []
   },
   "outputs": [
    {
     "data": {
      "text/html": [
       "<div>\n",
       "<style scoped>\n",
       "    .dataframe tbody tr th:only-of-type {\n",
       "        vertical-align: middle;\n",
       "    }\n",
       "\n",
       "    .dataframe tbody tr th {\n",
       "        vertical-align: top;\n",
       "    }\n",
       "\n",
       "    .dataframe thead th {\n",
       "        text-align: right;\n",
       "    }\n",
       "</style>\n",
       "<table border=\"1\" class=\"dataframe\">\n",
       "  <thead>\n",
       "    <tr style=\"text-align: right;\">\n",
       "      <th></th>\n",
       "      <th>name</th>\n",
       "      <th>score</th>\n",
       "      <th>le_name</th>\n",
       "      <th>A</th>\n",
       "      <th>B</th>\n",
       "      <th>C</th>\n",
       "      <th>NaN</th>\n",
       "    </tr>\n",
       "  </thead>\n",
       "  <tbody>\n",
       "    <tr>\n",
       "      <th>0</th>\n",
       "      <td>smith</td>\n",
       "      <td>A</td>\n",
       "      <td>4</td>\n",
       "      <td>1.0</td>\n",
       "      <td>0.0</td>\n",
       "      <td>0.0</td>\n",
       "      <td>0.0</td>\n",
       "    </tr>\n",
       "    <tr>\n",
       "      <th>1</th>\n",
       "      <td>martin</td>\n",
       "      <td>B</td>\n",
       "      <td>3</td>\n",
       "      <td>0.0</td>\n",
       "      <td>1.0</td>\n",
       "      <td>0.0</td>\n",
       "      <td>0.0</td>\n",
       "    </tr>\n",
       "    <tr>\n",
       "      <th>2</th>\n",
       "      <td>jones</td>\n",
       "      <td>NaN</td>\n",
       "      <td>1</td>\n",
       "      <td>0.0</td>\n",
       "      <td>0.0</td>\n",
       "      <td>0.0</td>\n",
       "      <td>1.0</td>\n",
       "    </tr>\n",
       "    <tr>\n",
       "      <th>3</th>\n",
       "      <td>allen</td>\n",
       "      <td>A</td>\n",
       "      <td>0</td>\n",
       "      <td>1.0</td>\n",
       "      <td>0.0</td>\n",
       "      <td>0.0</td>\n",
       "      <td>0.0</td>\n",
       "    </tr>\n",
       "    <tr>\n",
       "      <th>4</th>\n",
       "      <td>king</td>\n",
       "      <td>C</td>\n",
       "      <td>2</td>\n",
       "      <td>0.0</td>\n",
       "      <td>0.0</td>\n",
       "      <td>1.0</td>\n",
       "      <td>0.0</td>\n",
       "    </tr>\n",
       "  </tbody>\n",
       "</table>\n",
       "</div>"
      ],
      "text/plain": [
       "     name score  le_name    A    B    C  NaN\n",
       "0   smith     A        4  1.0  0.0  0.0  0.0\n",
       "1  martin     B        3  0.0  1.0  0.0  0.0\n",
       "2   jones   NaN        1  0.0  0.0  0.0  1.0\n",
       "3   allen     A        0  1.0  0.0  0.0  0.0\n",
       "4    king     C        2  0.0  0.0  1.0  0.0"
      ]
     },
     "execution_count": 51,
     "metadata": {},
     "output_type": "execute_result"
    }
   ],
   "source": [
    "                # 원본 + 2차원\n",
    "totdf = pd.concat([df,ohdf],axis = 1)\n",
    "totdf"
   ]
  },
  {
   "cell_type": "code",
   "execution_count": null,
   "id": "9259637a-63f5-4f03-984e-492e458dffb5",
   "metadata": {},
   "outputs": [],
   "source": []
  },
  {
   "cell_type": "code",
   "execution_count": null,
   "id": "c3246e71-2628-42fe-bce1-aaf2b245aa79",
   "metadata": {},
   "outputs": [],
   "source": []
  },
  {
   "cell_type": "markdown",
   "id": "926e42ad-deb8-454d-8997-49f07cdc2394",
   "metadata": {},
   "source": [
    "## (3) get_dummies()  \n",
    "    * 결측처리+라벨인코딩(Label Encoding)+원핫인코딩(One-hot Encoding)"
   ]
  },
  {
   "cell_type": "code",
   "execution_count": 52,
   "id": "a29e11c7-3ac0-4325-b253-aee874fa9c02",
   "metadata": {
    "tags": []
   },
   "outputs": [
    {
     "data": {
      "text/html": [
       "<div>\n",
       "<style scoped>\n",
       "    .dataframe tbody tr th:only-of-type {\n",
       "        vertical-align: middle;\n",
       "    }\n",
       "\n",
       "    .dataframe tbody tr th {\n",
       "        vertical-align: top;\n",
       "    }\n",
       "\n",
       "    .dataframe thead th {\n",
       "        text-align: right;\n",
       "    }\n",
       "</style>\n",
       "<table border=\"1\" class=\"dataframe\">\n",
       "  <thead>\n",
       "    <tr style=\"text-align: right;\">\n",
       "      <th></th>\n",
       "      <th>name</th>\n",
       "      <th>score</th>\n",
       "    </tr>\n",
       "  </thead>\n",
       "  <tbody>\n",
       "    <tr>\n",
       "      <th>0</th>\n",
       "      <td>smith</td>\n",
       "      <td>A</td>\n",
       "    </tr>\n",
       "    <tr>\n",
       "      <th>1</th>\n",
       "      <td>martin</td>\n",
       "      <td>B</td>\n",
       "    </tr>\n",
       "    <tr>\n",
       "      <th>2</th>\n",
       "      <td>jones</td>\n",
       "      <td>NaN</td>\n",
       "    </tr>\n",
       "    <tr>\n",
       "      <th>3</th>\n",
       "      <td>allen</td>\n",
       "      <td>A</td>\n",
       "    </tr>\n",
       "    <tr>\n",
       "      <th>4</th>\n",
       "      <td>king</td>\n",
       "      <td>C</td>\n",
       "    </tr>\n",
       "  </tbody>\n",
       "</table>\n",
       "</div>"
      ],
      "text/plain": [
       "     name score\n",
       "0   smith     A\n",
       "1  martin     B\n",
       "2   jones   NaN\n",
       "3   allen     A\n",
       "4    king     C"
      ]
     },
     "execution_count": 52,
     "metadata": {},
     "output_type": "execute_result"
    }
   ],
   "source": [
    "df = pd.DataFrame({\"name\":[\"smith\",'martin',\"jones\",\"allen\",\"king\"],\"score\": [\"A\",\"B\",np.nan,\"A\",\"C\"]})\n",
    "df.head()"
   ]
  },
  {
   "cell_type": "code",
   "execution_count": 53,
   "id": "03bad284-48e1-4ddf-a278-8835fdb2699c",
   "metadata": {
    "tags": []
   },
   "outputs": [
    {
     "data": {
      "text/html": [
       "<div>\n",
       "<style scoped>\n",
       "    .dataframe tbody tr th:only-of-type {\n",
       "        vertical-align: middle;\n",
       "    }\n",
       "\n",
       "    .dataframe tbody tr th {\n",
       "        vertical-align: top;\n",
       "    }\n",
       "\n",
       "    .dataframe thead th {\n",
       "        text-align: right;\n",
       "    }\n",
       "</style>\n",
       "<table border=\"1\" class=\"dataframe\">\n",
       "  <thead>\n",
       "    <tr style=\"text-align: right;\">\n",
       "      <th></th>\n",
       "      <th>name_allen</th>\n",
       "      <th>name_jones</th>\n",
       "      <th>name_king</th>\n",
       "      <th>name_martin</th>\n",
       "      <th>name_smith</th>\n",
       "      <th>score_A</th>\n",
       "      <th>score_B</th>\n",
       "      <th>score_C</th>\n",
       "    </tr>\n",
       "  </thead>\n",
       "  <tbody>\n",
       "    <tr>\n",
       "      <th>0</th>\n",
       "      <td>0</td>\n",
       "      <td>0</td>\n",
       "      <td>0</td>\n",
       "      <td>0</td>\n",
       "      <td>1</td>\n",
       "      <td>1</td>\n",
       "      <td>0</td>\n",
       "      <td>0</td>\n",
       "    </tr>\n",
       "    <tr>\n",
       "      <th>1</th>\n",
       "      <td>0</td>\n",
       "      <td>0</td>\n",
       "      <td>0</td>\n",
       "      <td>1</td>\n",
       "      <td>0</td>\n",
       "      <td>0</td>\n",
       "      <td>1</td>\n",
       "      <td>0</td>\n",
       "    </tr>\n",
       "    <tr>\n",
       "      <th>2</th>\n",
       "      <td>0</td>\n",
       "      <td>1</td>\n",
       "      <td>0</td>\n",
       "      <td>0</td>\n",
       "      <td>0</td>\n",
       "      <td>0</td>\n",
       "      <td>0</td>\n",
       "      <td>0</td>\n",
       "    </tr>\n",
       "    <tr>\n",
       "      <th>3</th>\n",
       "      <td>1</td>\n",
       "      <td>0</td>\n",
       "      <td>0</td>\n",
       "      <td>0</td>\n",
       "      <td>0</td>\n",
       "      <td>1</td>\n",
       "      <td>0</td>\n",
       "      <td>0</td>\n",
       "    </tr>\n",
       "    <tr>\n",
       "      <th>4</th>\n",
       "      <td>0</td>\n",
       "      <td>0</td>\n",
       "      <td>1</td>\n",
       "      <td>0</td>\n",
       "      <td>0</td>\n",
       "      <td>0</td>\n",
       "      <td>0</td>\n",
       "      <td>1</td>\n",
       "    </tr>\n",
       "  </tbody>\n",
       "</table>\n",
       "</div>"
      ],
      "text/plain": [
       "   name_allen  name_jones  name_king  name_martin  name_smith  score_A  \\\n",
       "0           0           0          0            0           1        1   \n",
       "1           0           0          0            1           0        0   \n",
       "2           0           1          0            0           0        0   \n",
       "3           1           0          0            0           0        1   \n",
       "4           0           0          1            0           0        0   \n",
       "\n",
       "   score_B  score_C  \n",
       "0        0        0  \n",
       "1        1        0  \n",
       "2        0        0  \n",
       "3        0        0  \n",
       "4        0        1  "
      ]
     },
     "execution_count": 53,
     "metadata": {},
     "output_type": "execute_result"
    }
   ],
   "source": [
    "ddf = pd.get_dummies(df)\n",
    "ddf\n",
    "\n",
    "#1.이름이 컬럼자리로 올라오고, 하나하나 나는 핫해 표시하느라 길어짐.\n",
    "# 레코드 2천갠데 생성하면? : 유니크한 도메인 갯수만큼 2천개 생긴다. 우리 눈엔 어렵지만, 컴퓨터 눈엔 보기 좋은 형태\n",
    "# fillna 안해주면 자동으로 0으로 채운다. ex) 2행의 score = 0\n",
    "# 자동결측처리 하기 전에 원하는 결측 처리 먼저 하기!"
   ]
  },
  {
   "cell_type": "markdown",
   "id": "d5dc7993-524f-485b-a860-f8673ea1bc5a",
   "metadata": {
    "tags": []
   },
   "source": [
    "## (4) category타입\n",
    "> * df['컬럼'].astype('category').cat.codes\n",
    "> * df['컬럼'].astype('category').cat.categories\n",
    "    \n",
    "    * 보기엔 변화없어보이지만, 타입은 코드로 바껴서 int로 바껴있다.\n",
    "    * object인 'name'컬럼은 drop하고 컴퓨터에게 학습시키면 된다.\n",
    "    * 변환한 값들은 어딘가에 기록을 해놔야 인식할 수 있다. ex) 메타데이터 : 데이터를 위한 데이터 female = 0, male = 1"
   ]
  },
  {
   "cell_type": "code",
   "execution_count": 110,
   "id": "181c202a-c956-4842-be14-cc7ad6a09f8f",
   "metadata": {
    "tags": []
   },
   "outputs": [
    {
     "data": {
      "text/html": [
       "<div>\n",
       "<style scoped>\n",
       "    .dataframe tbody tr th:only-of-type {\n",
       "        vertical-align: middle;\n",
       "    }\n",
       "\n",
       "    .dataframe tbody tr th {\n",
       "        vertical-align: top;\n",
       "    }\n",
       "\n",
       "    .dataframe thead th {\n",
       "        text-align: right;\n",
       "    }\n",
       "</style>\n",
       "<table border=\"1\" class=\"dataframe\">\n",
       "  <thead>\n",
       "    <tr style=\"text-align: right;\">\n",
       "      <th></th>\n",
       "      <th>name</th>\n",
       "      <th>score</th>\n",
       "    </tr>\n",
       "  </thead>\n",
       "  <tbody>\n",
       "    <tr>\n",
       "      <th>0</th>\n",
       "      <td>smith</td>\n",
       "      <td>A</td>\n",
       "    </tr>\n",
       "    <tr>\n",
       "      <th>1</th>\n",
       "      <td>martin</td>\n",
       "      <td>B</td>\n",
       "    </tr>\n",
       "    <tr>\n",
       "      <th>2</th>\n",
       "      <td>jones</td>\n",
       "      <td>NaN</td>\n",
       "    </tr>\n",
       "    <tr>\n",
       "      <th>3</th>\n",
       "      <td>allen</td>\n",
       "      <td>A</td>\n",
       "    </tr>\n",
       "    <tr>\n",
       "      <th>4</th>\n",
       "      <td>king</td>\n",
       "      <td>C</td>\n",
       "    </tr>\n",
       "  </tbody>\n",
       "</table>\n",
       "</div>"
      ],
      "text/plain": [
       "     name score\n",
       "0   smith     A\n",
       "1  martin     B\n",
       "2   jones   NaN\n",
       "3   allen     A\n",
       "4    king     C"
      ]
     },
     "execution_count": 110,
     "metadata": {},
     "output_type": "execute_result"
    }
   ],
   "source": [
    "df = pd.DataFrame({\"name\":[\"smith\",'martin',\"jones\",\"allen\",\"king\"],\"score\": [\"A\",\"B\",np.nan,\"A\",\"C\"]})\n",
    "df.head()"
   ]
  },
  {
   "cell_type": "code",
   "execution_count": 111,
   "id": "b8445c1a-26cf-45b3-af49-87a1185e0657",
   "metadata": {},
   "outputs": [
    {
     "name": "stdout",
     "output_type": "stream",
     "text": [
      "<class 'pandas.core.frame.DataFrame'>\n",
      "RangeIndex: 5 entries, 0 to 4\n",
      "Data columns (total 2 columns):\n",
      " #   Column  Non-Null Count  Dtype   \n",
      "---  ------  --------------  -----   \n",
      " 0   name    5 non-null      category\n",
      " 1   score   4 non-null      object  \n",
      "dtypes: category(1), object(1)\n",
      "memory usage: 385.0+ bytes\n"
     ]
    }
   ],
   "source": [
    "df['name'] = df['name'].astype('category')\n",
    "df.info()"
   ]
  },
  {
   "cell_type": "code",
   "execution_count": 112,
   "id": "fc230d03-c38b-4303-8bc1-93d118a3d8ac",
   "metadata": {
    "tags": []
   },
   "outputs": [
    {
     "data": {
      "text/html": [
       "<div>\n",
       "<style scoped>\n",
       "    .dataframe tbody tr th:only-of-type {\n",
       "        vertical-align: middle;\n",
       "    }\n",
       "\n",
       "    .dataframe tbody tr th {\n",
       "        vertical-align: top;\n",
       "    }\n",
       "\n",
       "    .dataframe thead th {\n",
       "        text-align: right;\n",
       "    }\n",
       "</style>\n",
       "<table border=\"1\" class=\"dataframe\">\n",
       "  <thead>\n",
       "    <tr style=\"text-align: right;\">\n",
       "      <th></th>\n",
       "      <th>name</th>\n",
       "      <th>score</th>\n",
       "    </tr>\n",
       "  </thead>\n",
       "  <tbody>\n",
       "    <tr>\n",
       "      <th>0</th>\n",
       "      <td>smith</td>\n",
       "      <td>A</td>\n",
       "    </tr>\n",
       "    <tr>\n",
       "      <th>1</th>\n",
       "      <td>martin</td>\n",
       "      <td>B</td>\n",
       "    </tr>\n",
       "    <tr>\n",
       "      <th>2</th>\n",
       "      <td>jones</td>\n",
       "      <td>NaN</td>\n",
       "    </tr>\n",
       "    <tr>\n",
       "      <th>3</th>\n",
       "      <td>allen</td>\n",
       "      <td>A</td>\n",
       "    </tr>\n",
       "    <tr>\n",
       "      <th>4</th>\n",
       "      <td>king</td>\n",
       "      <td>C</td>\n",
       "    </tr>\n",
       "  </tbody>\n",
       "</table>\n",
       "</div>"
      ],
      "text/plain": [
       "     name score\n",
       "0   smith     A\n",
       "1  martin     B\n",
       "2   jones   NaN\n",
       "3   allen     A\n",
       "4    king     C"
      ]
     },
     "execution_count": 112,
     "metadata": {},
     "output_type": "execute_result"
    }
   ],
   "source": [
    "df\n",
    "\n",
    "#눈으로 봤을 때는 별 차이가 없다. 코드화 됐지만.."
   ]
  },
  {
   "cell_type": "code",
   "execution_count": 125,
   "id": "6f8c5eb6-afe6-437f-850e-a9a23fbc09c4",
   "metadata": {
    "tags": []
   },
   "outputs": [
    {
     "data": {
      "text/html": [
       "<div>\n",
       "<style scoped>\n",
       "    .dataframe tbody tr th:only-of-type {\n",
       "        vertical-align: middle;\n",
       "    }\n",
       "\n",
       "    .dataframe tbody tr th {\n",
       "        vertical-align: top;\n",
       "    }\n",
       "\n",
       "    .dataframe thead th {\n",
       "        text-align: right;\n",
       "    }\n",
       "</style>\n",
       "<table border=\"1\" class=\"dataframe\">\n",
       "  <thead>\n",
       "    <tr style=\"text-align: right;\">\n",
       "      <th></th>\n",
       "      <th>name</th>\n",
       "      <th>score</th>\n",
       "      <th>name_cat_categories</th>\n",
       "      <th>name_cat_codes</th>\n",
       "    </tr>\n",
       "  </thead>\n",
       "  <tbody>\n",
       "    <tr>\n",
       "      <th>0</th>\n",
       "      <td>smith</td>\n",
       "      <td>A</td>\n",
       "      <td>allen</td>\n",
       "      <td>4</td>\n",
       "    </tr>\n",
       "    <tr>\n",
       "      <th>1</th>\n",
       "      <td>martin</td>\n",
       "      <td>B</td>\n",
       "      <td>jones</td>\n",
       "      <td>3</td>\n",
       "    </tr>\n",
       "    <tr>\n",
       "      <th>2</th>\n",
       "      <td>jones</td>\n",
       "      <td>NaN</td>\n",
       "      <td>king</td>\n",
       "      <td>1</td>\n",
       "    </tr>\n",
       "    <tr>\n",
       "      <th>3</th>\n",
       "      <td>allen</td>\n",
       "      <td>A</td>\n",
       "      <td>martin</td>\n",
       "      <td>0</td>\n",
       "    </tr>\n",
       "    <tr>\n",
       "      <th>4</th>\n",
       "      <td>king</td>\n",
       "      <td>C</td>\n",
       "      <td>smith</td>\n",
       "      <td>2</td>\n",
       "    </tr>\n",
       "  </tbody>\n",
       "</table>\n",
       "</div>"
      ],
      "text/plain": [
       "     name score name_cat_categories  name_cat_codes\n",
       "0   smith     A               allen               4\n",
       "1  martin     B               jones               3\n",
       "2   jones   NaN                king               1\n",
       "3   allen     A              martin               0\n",
       "4    king     C               smith               2"
      ]
     },
     "execution_count": 125,
     "metadata": {},
     "output_type": "execute_result"
    }
   ],
   "source": [
    "#카테고리로 바꿨을 때 코드를 조회한 것\n",
    "\n",
    "df['name_cat_codes'] = df['name'].cat.codes\n",
    "df"
   ]
  },
  {
   "cell_type": "code",
   "execution_count": 123,
   "id": "7d61bdff-9d37-4567-ba54-a49363bd3914",
   "metadata": {
    "tags": []
   },
   "outputs": [
    {
     "data": {
      "text/html": [
       "<div>\n",
       "<style scoped>\n",
       "    .dataframe tbody tr th:only-of-type {\n",
       "        vertical-align: middle;\n",
       "    }\n",
       "\n",
       "    .dataframe tbody tr th {\n",
       "        vertical-align: top;\n",
       "    }\n",
       "\n",
       "    .dataframe thead th {\n",
       "        text-align: right;\n",
       "    }\n",
       "</style>\n",
       "<table border=\"1\" class=\"dataframe\">\n",
       "  <thead>\n",
       "    <tr style=\"text-align: right;\">\n",
       "      <th></th>\n",
       "      <th>name</th>\n",
       "      <th>score</th>\n",
       "      <th>name_cat_categories</th>\n",
       "    </tr>\n",
       "  </thead>\n",
       "  <tbody>\n",
       "    <tr>\n",
       "      <th>0</th>\n",
       "      <td>smith</td>\n",
       "      <td>A</td>\n",
       "      <td>allen</td>\n",
       "    </tr>\n",
       "    <tr>\n",
       "      <th>1</th>\n",
       "      <td>martin</td>\n",
       "      <td>B</td>\n",
       "      <td>jones</td>\n",
       "    </tr>\n",
       "    <tr>\n",
       "      <th>2</th>\n",
       "      <td>jones</td>\n",
       "      <td>NaN</td>\n",
       "      <td>king</td>\n",
       "    </tr>\n",
       "    <tr>\n",
       "      <th>3</th>\n",
       "      <td>allen</td>\n",
       "      <td>A</td>\n",
       "      <td>martin</td>\n",
       "    </tr>\n",
       "    <tr>\n",
       "      <th>4</th>\n",
       "      <td>king</td>\n",
       "      <td>C</td>\n",
       "      <td>smith</td>\n",
       "    </tr>\n",
       "  </tbody>\n",
       "</table>\n",
       "</div>"
      ],
      "text/plain": [
       "     name score name_cat_categories\n",
       "0   smith     A               allen\n",
       "1  martin     B               jones\n",
       "2   jones   NaN                king\n",
       "3   allen     A              martin\n",
       "4    king     C               smith"
      ]
     },
     "execution_count": 123,
     "metadata": {},
     "output_type": "execute_result"
    }
   ],
   "source": [
    "#네임을 지웠을 때 코드만 남아 원본을 복원하고 싶을 때\n",
    "\n",
    "df['name_cat_categories'] = df['name'].cat.categories\n",
    "df"
   ]
  },
  {
   "cell_type": "code",
   "execution_count": 118,
   "id": "2214432e-71cc-47e7-b589-8231c1d60e58",
   "metadata": {
    "tags": []
   },
   "outputs": [
    {
     "data": {
      "text/plain": [
       "pandas.core.indexes.base.Index"
      ]
     },
     "execution_count": 118,
     "metadata": {},
     "output_type": "execute_result"
    }
   ],
   "source": [
    "#타입 확인\n",
    "\n",
    "type(df['name'].cat.categories)"
   ]
  },
  {
   "cell_type": "code",
   "execution_count": 121,
   "id": "209daf34-bf23-4577-8435-bfef7e473aa7",
   "metadata": {
    "tags": []
   },
   "outputs": [
    {
     "data": {
      "text/plain": [
       "{0: 'allen', 1: 'jones', 2: 'king', 3: 'martin', 4: 'smith'}"
      ]
     },
     "execution_count": 121,
     "metadata": {},
     "output_type": "execute_result"
    }
   ],
   "source": [
    "#API 참고용. 이렇게도 조회할 수 있다.\n",
    "\n",
    "d = dict(enumerate(df['name'].cat.categories))\n",
    "d"
   ]
  },
  {
   "cell_type": "code",
   "execution_count": 127,
   "id": "79449eaf-1993-4549-8ec4-d403c295073b",
   "metadata": {
    "tags": []
   },
   "outputs": [
    {
     "data": {
      "text/html": [
       "<div>\n",
       "<style scoped>\n",
       "    .dataframe tbody tr th:only-of-type {\n",
       "        vertical-align: middle;\n",
       "    }\n",
       "\n",
       "    .dataframe tbody tr th {\n",
       "        vertical-align: top;\n",
       "    }\n",
       "\n",
       "    .dataframe thead th {\n",
       "        text-align: right;\n",
       "    }\n",
       "</style>\n",
       "<table border=\"1\" class=\"dataframe\">\n",
       "  <thead>\n",
       "    <tr style=\"text-align: right;\">\n",
       "      <th></th>\n",
       "      <th>name</th>\n",
       "      <th>score</th>\n",
       "      <th>name_cat_categories</th>\n",
       "      <th>name_cat_codes</th>\n",
       "    </tr>\n",
       "  </thead>\n",
       "  <tbody>\n",
       "    <tr>\n",
       "      <th>0</th>\n",
       "      <td>smith</td>\n",
       "      <td>A</td>\n",
       "      <td>smith</td>\n",
       "      <td>4</td>\n",
       "    </tr>\n",
       "    <tr>\n",
       "      <th>1</th>\n",
       "      <td>martin</td>\n",
       "      <td>B</td>\n",
       "      <td>martin</td>\n",
       "      <td>3</td>\n",
       "    </tr>\n",
       "    <tr>\n",
       "      <th>2</th>\n",
       "      <td>jones</td>\n",
       "      <td>NaN</td>\n",
       "      <td>jones</td>\n",
       "      <td>1</td>\n",
       "    </tr>\n",
       "    <tr>\n",
       "      <th>3</th>\n",
       "      <td>allen</td>\n",
       "      <td>A</td>\n",
       "      <td>allen</td>\n",
       "      <td>0</td>\n",
       "    </tr>\n",
       "    <tr>\n",
       "      <th>4</th>\n",
       "      <td>king</td>\n",
       "      <td>C</td>\n",
       "      <td>king</td>\n",
       "      <td>2</td>\n",
       "    </tr>\n",
       "  </tbody>\n",
       "</table>\n",
       "</div>"
      ],
      "text/plain": [
       "     name score name_cat_categories  name_cat_codes\n",
       "0   smith     A               smith               4\n",
       "1  martin     B              martin               3\n",
       "2   jones   NaN               jones               1\n",
       "3   allen     A               allen               0\n",
       "4    king     C                king               2"
      ]
     },
     "execution_count": 127,
     "metadata": {},
     "output_type": "execute_result"
    }
   ],
   "source": [
    "#API 참고용. 이렇게도 조회할 수 있다.\n",
    "\n",
    "df['name_cat_categories'] = df['name_cat_codes'].map(d)\n",
    "df"
   ]
  },
  {
   "cell_type": "code",
   "execution_count": 129,
   "id": "b5a61a83-2efe-49ce-9076-09959f5fde93",
   "metadata": {
    "tags": []
   },
   "outputs": [
    {
     "name": "stdout",
     "output_type": "stream",
     "text": [
      "[0 1 2 3 4]\n",
      "CategoricalIndex(['smith', 'martin', 'jones', 'allen', 'king'], categories=['allen', 'jones', 'king', 'martin', 'smith'], ordered=False, dtype='category')\n",
      "CategoricalIndex(['smith', 'martin', 'jones', 'allen', 'king'], categories=['allen', 'jones', 'king', 'martin', 'smith'], ordered=False, dtype='category')\n"
     ]
    }
   ],
   "source": [
    "code, cate = pd.factorize(df['name'])\n",
    "print(code)\n",
    "print(cate)\n",
    "print(cate[code])"
   ]
  },
  {
   "cell_type": "code",
   "execution_count": null,
   "id": "d05537d2-0269-47a6-833d-b4a3b72054e0",
   "metadata": {},
   "outputs": [],
   "source": []
  },
  {
   "cell_type": "markdown",
   "id": "9d1ff091-b193-44c8-8b8f-c85c37fe1139",
   "metadata": {},
   "source": [
    "## (5) 범주화(Bining)\n",
    "> * 구간화 / 범주화    \n",
    "> * 연속형 데이터를 구간으로 나누어 범주화하는 방법\n",
    "> * pd.cut()  : 동일하게 구간으로 나누기(같은 사이즈) ex. 0-100점 점수 구간 동일하게 나누기\n",
    "> * pd.qcut() : 동일 갯수로 나누기 ex. 0-100점 사이 점수가 안비슷해도 되니까, 25명씩 구분 quantity"
   ]
  },
  {
   "cell_type": "markdown",
   "id": "f6982e88-bb6d-42b0-bceb-c52faf807ecb",
   "metadata": {},
   "source": [
    "정규분포도를 따르는 랜덤성 데이터 생성\n",
    "\n",
    "<pre>\n",
    "\n",
    "np.random.normal(loc=0.0, scale=1.0, <b>size=None</b>)"
   ]
  },
  {
   "cell_type": "code",
   "execution_count": 90,
   "id": "509e7026-41a4-47dd-9acb-bd45481b57b6",
   "metadata": {
    "tags": []
   },
   "outputs": [
    {
     "data": {
      "text/plain": [
       "array([-8.73861470e-01, -3.87429919e-01, -1.75310983e+00,  7.91707323e-01,\n",
       "        2.28393269e-01,  1.56692525e+00, -8.43183049e-01, -1.07024581e+00,\n",
       "       -3.71566444e-01, -6.25877434e-01,  2.29913530e+00,  2.37419282e-01,\n",
       "       -1.38229128e+00,  1.60021565e-01, -1.16842343e+00,  5.04790881e-01,\n",
       "       -5.60336003e-01, -1.54300935e+00,  5.15012935e-01, -1.86345653e+00,\n",
       "        4.93907103e-01,  9.27737330e-01,  1.10596588e-01,  1.52537628e+00,\n",
       "        6.18928520e-01, -1.69079010e+00,  2.50859030e+00,  1.35180813e+00,\n",
       "        1.09710686e+00,  2.11149930e-01, -4.93631850e-01, -1.41105845e+00,\n",
       "        5.86149570e-01, -1.20464507e-01,  6.29820165e-01,  1.30260698e+00,\n",
       "       -2.26084913e+00, -5.60354436e-01,  3.45981425e-02,  4.47747205e-01,\n",
       "        5.56297694e-01, -1.25031798e+00,  5.89381889e-01, -8.99368235e-01,\n",
       "        5.47524448e-01,  9.64114088e-01, -7.50397442e-01, -8.62329121e-01,\n",
       "        1.72939932e+00,  1.46903831e-01, -2.00594379e+00,  2.79724351e-01,\n",
       "        1.03823383e+00,  6.46064292e-01, -2.51216853e-01,  3.72077788e-01,\n",
       "        1.91448425e+00, -6.07196164e-01,  1.35268623e+00,  1.01427451e+00,\n",
       "       -4.54072328e-01,  6.55451065e-01,  1.17529226e-01, -3.66154548e-01,\n",
       "       -1.00617050e+00,  9.89302898e-01,  3.90949041e-01,  9.95343855e-01,\n",
       "       -3.34818416e-02, -3.33391359e-01, -6.27110595e-01,  1.55530413e+00,\n",
       "        4.96776911e-01, -1.00387849e-01,  8.64524437e-01,  7.96522410e-01,\n",
       "       -7.41469218e-01, -3.85157753e-01,  2.37905737e+00,  1.34708432e+00,\n",
       "        2.07179700e+00,  9.12596559e-01, -4.08457545e-02,  1.24885831e+00,\n",
       "        1.20484430e+00, -3.83876068e-01,  3.12710026e-02, -2.40452436e-01,\n",
       "       -6.70299168e-02, -1.36552160e-03, -8.14983031e-02,  3.65872361e-01,\n",
       "       -4.07609512e-01, -1.79082339e-01, -8.48527470e-02, -4.84085340e-02,\n",
       "       -2.28164291e-01,  1.02034641e+00,  1.03949489e-01, -1.00121759e-01])"
      ]
     },
     "execution_count": 90,
     "metadata": {},
     "output_type": "execute_result"
    }
   ],
   "source": [
    "np.random.seed(989899) #seed값을 고정시키면 랜덤해도 똑같다. \n",
    "\n",
    "ndata = np.random.normal(size = 100)\n",
    "ndata"
   ]
  },
  {
   "cell_type": "code",
   "execution_count": 92,
   "id": "a79d133c-3e78-4fec-90a4-14a68cf93253",
   "metadata": {
    "tags": []
   },
   "outputs": [
    {
     "data": {
      "image/png": "[encoded data removed]",
      "text/plain": [
       "<Figure size 640x480 with 1 Axes>"
      ]
     },
     "metadata": {},
     "output_type": "display_data"
    }
   ],
   "source": [
    "import matplotlib.pyplot as plt\n",
    "plt.hist(ndata)\n",
    "plt.show()"
   ]
  },
  {
   "cell_type": "markdown",
   "id": "61632180-f811-43f2-8b59-e2cbc0c92983",
   "metadata": {},
   "source": [
    "### pd.cut()"
   ]
  },
  {
   "cell_type": "code",
   "execution_count": 91,
   "id": "5baaf4ec-e499-4daa-9158-94b3a51d637d",
   "metadata": {
    "tags": []
   },
   "outputs": [
    {
     "data": {
      "text/plain": [
       "(-2.266, -1.307]     8\n",
       "(-1.307, -0.353]    23\n",
       "(-0.353, 0.601]     38\n",
       "(0.601, 1.555]      23\n",
       "(1.555, 2.509]       8\n",
       "dtype: int64"
      ]
     },
     "execution_count": 91,
     "metadata": {},
     "output_type": "execute_result"
    }
   ],
   "source": [
    "cutdata = pd.cut(ndata,5) #10개를 2등분해라. 동일 구간 사이즈로 나누기.\n",
    "cutdata.value_counts()"
   ]
  },
  {
   "cell_type": "code",
   "execution_count": 96,
   "id": "7d917842-03b1-41e2-a9e3-a8681692540c",
   "metadata": {
    "tags": []
   },
   "outputs": [
    {
     "data": {
      "text/plain": [
       "(0.991, 2.8]    2\n",
       "(2.8, 4.6]      2\n",
       "(4.6, 6.4]      2\n",
       "(6.4, 8.2]      2\n",
       "(8.2, 10.0]     2\n",
       "dtype: int64"
      ]
     },
     "execution_count": 96,
     "metadata": {},
     "output_type": "execute_result"
    }
   ],
   "source": [
    "cutdata = pd.cut([1,2,3,4,5,6,7,8,9,10],5) #동일구간(2등분)으로 나눠준다.\n",
    "cutdata.value_counts()\n",
    "\n",
    "#구간이 일정하다. 1.8차이"
   ]
  },
  {
   "cell_type": "code",
   "execution_count": 100,
   "id": "f48a03f3-c01f-44d3-8598-7ad44b60a7f5",
   "metadata": {
    "tags": []
   },
   "outputs": [
    {
     "data": {
      "text/html": [
       "<div>\n",
       "<style scoped>\n",
       "    .dataframe tbody tr th:only-of-type {\n",
       "        vertical-align: middle;\n",
       "    }\n",
       "\n",
       "    .dataframe tbody tr th {\n",
       "        vertical-align: top;\n",
       "    }\n",
       "\n",
       "    .dataframe thead th {\n",
       "        text-align: right;\n",
       "    }\n",
       "</style>\n",
       "<table border=\"1\" class=\"dataframe\">\n",
       "  <thead>\n",
       "    <tr style=\"text-align: right;\">\n",
       "      <th></th>\n",
       "      <th>counts</th>\n",
       "      <th>freqs</th>\n",
       "    </tr>\n",
       "    <tr>\n",
       "      <th>categories</th>\n",
       "      <th></th>\n",
       "      <th></th>\n",
       "    </tr>\n",
       "  </thead>\n",
       "  <tbody>\n",
       "    <tr>\n",
       "      <th>(0.991, 2.8]</th>\n",
       "      <td>2</td>\n",
       "      <td>0.2</td>\n",
       "    </tr>\n",
       "    <tr>\n",
       "      <th>(2.8, 4.6]</th>\n",
       "      <td>2</td>\n",
       "      <td>0.2</td>\n",
       "    </tr>\n",
       "    <tr>\n",
       "      <th>(4.6, 6.4]</th>\n",
       "      <td>2</td>\n",
       "      <td>0.2</td>\n",
       "    </tr>\n",
       "    <tr>\n",
       "      <th>(6.4, 8.2]</th>\n",
       "      <td>2</td>\n",
       "      <td>0.2</td>\n",
       "    </tr>\n",
       "    <tr>\n",
       "      <th>(8.2, 10.0]</th>\n",
       "      <td>2</td>\n",
       "      <td>0.2</td>\n",
       "    </tr>\n",
       "  </tbody>\n",
       "</table>\n",
       "</div>"
      ],
      "text/plain": [
       "              counts  freqs\n",
       "categories                 \n",
       "(0.991, 2.8]       2    0.2\n",
       "(2.8, 4.6]         2    0.2\n",
       "(4.6, 6.4]         2    0.2\n",
       "(6.4, 8.2]         2    0.2\n",
       "(8.2, 10.0]        2    0.2"
      ]
     },
     "execution_count": 100,
     "metadata": {},
     "output_type": "execute_result"
    }
   ],
   "source": [
    "cutdata.describe()"
   ]
  },
  {
   "cell_type": "code",
   "execution_count": 102,
   "id": "92dfd99b-c4f6-4ff5-b866-0fc44380e2b7",
   "metadata": {
    "tags": []
   },
   "outputs": [
    {
     "data": {
      "text/html": [
       "<div>\n",
       "<style scoped>\n",
       "    .dataframe tbody tr th:only-of-type {\n",
       "        vertical-align: middle;\n",
       "    }\n",
       "\n",
       "    .dataframe tbody tr th {\n",
       "        vertical-align: top;\n",
       "    }\n",
       "\n",
       "    .dataframe thead th {\n",
       "        text-align: right;\n",
       "    }\n",
       "</style>\n",
       "<table border=\"1\" class=\"dataframe\">\n",
       "  <thead>\n",
       "    <tr style=\"text-align: right;\">\n",
       "      <th></th>\n",
       "      <th>counts</th>\n",
       "      <th>freqs</th>\n",
       "    </tr>\n",
       "    <tr>\n",
       "      <th>categories</th>\n",
       "      <th></th>\n",
       "      <th></th>\n",
       "    </tr>\n",
       "  </thead>\n",
       "  <tbody>\n",
       "    <tr>\n",
       "      <th>(0, 3]</th>\n",
       "      <td>3</td>\n",
       "      <td>0.3</td>\n",
       "    </tr>\n",
       "    <tr>\n",
       "      <th>(3, 7]</th>\n",
       "      <td>4</td>\n",
       "      <td>0.4</td>\n",
       "    </tr>\n",
       "    <tr>\n",
       "      <th>(7, 10]</th>\n",
       "      <td>3</td>\n",
       "      <td>0.3</td>\n",
       "    </tr>\n",
       "  </tbody>\n",
       "</table>\n",
       "</div>"
      ],
      "text/plain": [
       "            counts  freqs\n",
       "categories               \n",
       "(0, 3]           3    0.3\n",
       "(3, 7]           4    0.4\n",
       "(7, 10]          3    0.3"
      ]
     },
     "execution_count": 102,
     "metadata": {},
     "output_type": "execute_result"
    }
   ],
   "source": [
    "my_rage = [0,3,7,10] #0~3 4~7 8~10 내가 지정한 구간화로 하고 싶을 때\n",
    "\n",
    "res = pd.cut( [1,2,3,4,5,6,7,8,9,10], my_rage)\n",
    "res.describe()"
   ]
  },
  {
   "cell_type": "code",
   "execution_count": 104,
   "id": "cf95d91f-4848-4084-90c1-839f2955c3d6",
   "metadata": {
    "tags": []
   },
   "outputs": [
    {
     "data": {
      "text/html": [
       "<div>\n",
       "<style scoped>\n",
       "    .dataframe tbody tr th:only-of-type {\n",
       "        vertical-align: middle;\n",
       "    }\n",
       "\n",
       "    .dataframe tbody tr th {\n",
       "        vertical-align: top;\n",
       "    }\n",
       "\n",
       "    .dataframe thead th {\n",
       "        text-align: right;\n",
       "    }\n",
       "</style>\n",
       "<table border=\"1\" class=\"dataframe\">\n",
       "  <thead>\n",
       "    <tr style=\"text-align: right;\">\n",
       "      <th></th>\n",
       "      <th>counts</th>\n",
       "      <th>freqs</th>\n",
       "    </tr>\n",
       "    <tr>\n",
       "      <th>categories</th>\n",
       "      <th></th>\n",
       "      <th></th>\n",
       "    </tr>\n",
       "  </thead>\n",
       "  <tbody>\n",
       "    <tr>\n",
       "      <th>대</th>\n",
       "      <td>3</td>\n",
       "      <td>0.3</td>\n",
       "    </tr>\n",
       "    <tr>\n",
       "      <th>중</th>\n",
       "      <td>4</td>\n",
       "      <td>0.4</td>\n",
       "    </tr>\n",
       "    <tr>\n",
       "      <th>소</th>\n",
       "      <td>3</td>\n",
       "      <td>0.3</td>\n",
       "    </tr>\n",
       "  </tbody>\n",
       "</table>\n",
       "</div>"
      ],
      "text/plain": [
       "            counts  freqs\n",
       "categories               \n",
       "대                3    0.3\n",
       "중                4    0.4\n",
       "소                3    0.3"
      ]
     },
     "execution_count": 104,
     "metadata": {},
     "output_type": "execute_result"
    }
   ],
   "source": [
    "my_range = [0,3,7,10] #0~3 4~7 8~10 내가 지정한 구간화로 하고 싶을 때\n",
    "my_label = ['대','중','소'] #내가 지정한 라벨로 지정하고 싶을 때\n",
    "res = pd.cut( [1,2,3,4,5,6,7,8,9,10], my_range, labels = my_label)\n",
    "res.describe()"
   ]
  },
  {
   "cell_type": "markdown",
   "id": "4b7b1160-ddae-431f-aa74-606ba856ffe9",
   "metadata": {},
   "source": [
    "### pd.qcut()"
   ]
  },
  {
   "cell_type": "code",
   "execution_count": 106,
   "id": "6814acfd-5acf-4f95-8614-a4e9814ac0d2",
   "metadata": {
    "tags": []
   },
   "outputs": [
    {
     "data": {
      "text/plain": [
       "array([-8.73861470e-01, -3.87429919e-01, -1.75310983e+00,  7.91707323e-01,\n",
       "        2.28393269e-01,  1.56692525e+00, -8.43183049e-01, -1.07024581e+00,\n",
       "       -3.71566444e-01, -6.25877434e-01,  2.29913530e+00,  2.37419282e-01,\n",
       "       -1.38229128e+00,  1.60021565e-01, -1.16842343e+00,  5.04790881e-01,\n",
       "       -5.60336003e-01, -1.54300935e+00,  5.15012935e-01, -1.86345653e+00,\n",
       "        4.93907103e-01,  9.27737330e-01,  1.10596588e-01,  1.52537628e+00,\n",
       "        6.18928520e-01, -1.69079010e+00,  2.50859030e+00,  1.35180813e+00,\n",
       "        1.09710686e+00,  2.11149930e-01, -4.93631850e-01, -1.41105845e+00,\n",
       "        5.86149570e-01, -1.20464507e-01,  6.29820165e-01,  1.30260698e+00,\n",
       "       -2.26084913e+00, -5.60354436e-01,  3.45981425e-02,  4.47747205e-01,\n",
       "        5.56297694e-01, -1.25031798e+00,  5.89381889e-01, -8.99368235e-01,\n",
       "        5.47524448e-01,  9.64114088e-01, -7.50397442e-01, -8.62329121e-01,\n",
       "        1.72939932e+00,  1.46903831e-01, -2.00594379e+00,  2.79724351e-01,\n",
       "        1.03823383e+00,  6.46064292e-01, -2.51216853e-01,  3.72077788e-01,\n",
       "        1.91448425e+00, -6.07196164e-01,  1.35268623e+00,  1.01427451e+00,\n",
       "       -4.54072328e-01,  6.55451065e-01,  1.17529226e-01, -3.66154548e-01,\n",
       "       -1.00617050e+00,  9.89302898e-01,  3.90949041e-01,  9.95343855e-01,\n",
       "       -3.34818416e-02, -3.33391359e-01, -6.27110595e-01,  1.55530413e+00,\n",
       "        4.96776911e-01, -1.00387849e-01,  8.64524437e-01,  7.96522410e-01,\n",
       "       -7.41469218e-01, -3.85157753e-01,  2.37905737e+00,  1.34708432e+00,\n",
       "        2.07179700e+00,  9.12596559e-01, -4.08457545e-02,  1.24885831e+00,\n",
       "        1.20484430e+00, -3.83876068e-01,  3.12710026e-02, -2.40452436e-01,\n",
       "       -6.70299168e-02, -1.36552160e-03, -8.14983031e-02,  3.65872361e-01,\n",
       "       -4.07609512e-01, -1.79082339e-01, -8.48527470e-02, -4.84085340e-02,\n",
       "       -2.28164291e-01,  1.02034641e+00,  1.03949489e-01, -1.00121759e-01])"
      ]
     },
     "execution_count": 106,
     "metadata": {},
     "output_type": "execute_result"
    }
   ],
   "source": [
    "np.random.seed(989899) #seed값을 고정시키면 랜덤해도 똑같다. \n",
    "\n",
    "ndata = np.random.normal(size = 100)\n",
    "ndata"
   ]
  },
  {
   "cell_type": "code",
   "execution_count": 109,
   "id": "bd24685e-deb9-44e7-9840-710c4dd8802f",
   "metadata": {
    "tags": []
   },
   "outputs": [
    {
     "data": {
      "text/html": [
       "<div>\n",
       "<style scoped>\n",
       "    .dataframe tbody tr th:only-of-type {\n",
       "        vertical-align: middle;\n",
       "    }\n",
       "\n",
       "    .dataframe tbody tr th {\n",
       "        vertical-align: top;\n",
       "    }\n",
       "\n",
       "    .dataframe thead th {\n",
       "        text-align: right;\n",
       "    }\n",
       "</style>\n",
       "<table border=\"1\" class=\"dataframe\">\n",
       "  <thead>\n",
       "    <tr style=\"text-align: right;\">\n",
       "      <th></th>\n",
       "      <th>counts</th>\n",
       "      <th>freqs</th>\n",
       "    </tr>\n",
       "    <tr>\n",
       "      <th>categories</th>\n",
       "      <th></th>\n",
       "      <th></th>\n",
       "    </tr>\n",
       "  </thead>\n",
       "  <tbody>\n",
       "    <tr>\n",
       "      <th>(-2.262, -0.611]</th>\n",
       "      <td>20</td>\n",
       "      <td>0.2</td>\n",
       "    </tr>\n",
       "    <tr>\n",
       "      <th>(-0.611, -0.0828]</th>\n",
       "      <td>20</td>\n",
       "      <td>0.2</td>\n",
       "    </tr>\n",
       "    <tr>\n",
       "      <th>(-0.0828, 0.414]</th>\n",
       "      <td>20</td>\n",
       "      <td>0.2</td>\n",
       "    </tr>\n",
       "    <tr>\n",
       "      <th>(0.414, 0.991]</th>\n",
       "      <td>20</td>\n",
       "      <td>0.2</td>\n",
       "    </tr>\n",
       "    <tr>\n",
       "      <th>(0.991, 2.509]</th>\n",
       "      <td>20</td>\n",
       "      <td>0.2</td>\n",
       "    </tr>\n",
       "  </tbody>\n",
       "</table>\n",
       "</div>"
      ],
      "text/plain": [
       "                   counts  freqs\n",
       "categories                      \n",
       "(-2.262, -0.611]       20    0.2\n",
       "(-0.611, -0.0828]      20    0.2\n",
       "(-0.0828, 0.414]       20    0.2\n",
       "(0.414, 0.991]         20    0.2\n",
       "(0.991, 2.509]         20    0.2"
      ]
     },
     "execution_count": 109,
     "metadata": {},
     "output_type": "execute_result"
    }
   ],
   "source": [
    "qdata = pd.qcut(ndata, 5) #카운트 수량을 똑같이 해. 구간은 상관없어.\n",
    "qdata.describe()\n",
    "\n",
    "#구간차는 다르지만, 카운트 값은 같다.\n",
    "#이상, 미만이라서 ( , ]이다."
   ]
  },
  {
   "cell_type": "code",
   "execution_count": null,
   "id": "b21b695c-8446-47a6-a1b2-83266708f694",
   "metadata": {},
   "outputs": [],
   "source": []
  }
 ],
 "metadata": {
  "kernelspec": {
   "display_name": "Python 3 (ipykernel)",
   "language": "python",
   "name": "python3"
  },
  "language_info": {
   "codemirror_mode": {
    "name": "ipython",
    "version": 3
   },
   "file_extension": ".py",
   "mimetype": "text/x-python",
   "name": "python",
   "nbconvert_exporter": "python",
   "pygments_lexer": "ipython3",
   "version": "3.8.8"
  }
 },
 "nbformat": 4,
 "nbformat_minor": 5
}
