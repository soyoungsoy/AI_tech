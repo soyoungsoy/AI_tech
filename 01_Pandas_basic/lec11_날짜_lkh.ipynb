{
 "cells": [
  {
   "cell_type": "markdown",
   "id": "4d1daf0e-3255-4d5d-a032-5362c3b36c43",
   "metadata": {},
   "source": [
    "<font size=6><b>Lec11. 날짜"
   ]
  },
  {
   "cell_type": "markdown",
   "id": "8433e79a-50fb-4f74-b263-a61175812f20",
   "metadata": {},
   "source": [
    "#  datetime.py 모듈"
   ]
  },
  {
   "cell_type": "markdown",
   "id": "64e88ae1-601c-47c2-b17c-fb5f79df87c5",
   "metadata": {
    "tags": []
   },
   "source": [
    "<font color=red><b>from datetime.py import 클래스</b></font>\n",
    "* datetime.py에는 총 6개의 클래스가 존재\n",
    "<pre>\n",
    "    * <b>class date: 년월일</b>\n",
    "    * <b>class datetime(date): 년월일 시분초</b>\n",
    "    * <b>class time: 시분초</b>\n",
    "    * <b>class timedelta: 날짜 사이의 간격</b>\n",
    "    \n",
    "    * class tzinfo:\n",
    "    * class timezone(tzinfo):"
   ]
  },
  {
   "cell_type": "markdown",
   "id": "da2fafbf-2de0-4617-99a5-8270446d626e",
   "metadata": {},
   "source": [
    "# 타임 포맷"
   ]
  },
  {
   "cell_type": "markdown",
   "id": "9ebc2fc0-3a68-4db5-b9ee-5a1f3b6b2393",
   "metadata": {},
   "source": [
    "<table width=200 style=\"border-collapse: collapse; height: 452px;\" border=\"1\" data-ke-align=\"alignLeft\" data-ke-style=\"style3\">\n",
    "<tbody>\n",
    "<tr style=\"height: 20px;\">\n",
    "<td style=\"width: 197.75px; text-align: center; height: 20px;\"><span style=\"color: #000000;\"><b>그룹</b></span></td>\n",
    "<td style=\"width: 197.75px; text-align: center; height: 20px;\"><span style=\"color: #000000;\"><b>코드</b></span></td>\n",
    "<td style=\"width: 412.5px; text-align: center; height: 20px;\"><span style=\"color: #000000;\"><b>의미</b></span></td>\n",
    "</tr>\n",
    "<tr style=\"height: 18px;\">\n",
    "<td style=\"width: 197.75px; text-align: center; height: 36px;\" rowspan=\"2\"><span style=\"color: #000000;\">년</span></td>\n",
    "<td style=\"width: 197.75px; text-align: center; height: 18px;\"><span style=\"color: #000000;\">%Y</span></td>\n",
    "<td style=\"width: 412.5px; text-align: center; height: 18px;\"><span style=\"color: #000000;\">연도 (전체)</span></td>\n",
    "</tr>\n",
    "<tr style=\"height: 18px;\">\n",
    "<td style=\"width: 197.75px; text-align: center; height: 18px;\"><span style=\"color: #000000;\">%y</span></td>\n",
    "<td style=\"width: 412.5px; text-align: center; height: 18px;\"><span style=\"color: #000000;\">연도 (뒤에 2자리만)</span></td>\n",
    "</tr>\n",
    "<tr style=\"height: 20px;\">\n",
    "<td style=\"width: 197.75px; text-align: center; height: 56px;\" rowspan=\"3\"><span style=\"color: #000000;\">월</span></td>\n",
    "<td style=\"width: 197.75px; text-align: center; height: 20px;\"><span style=\"color: #000000;\">%m</span></td>\n",
    "<td style=\"width: 412.5px; text-align: center; height: 20px;\"><span style=\"color: #000000;\">월</span></td>\n",
    "</tr>\n",
    "<tr style=\"height: 18px;\">\n",
    "<td style=\"width: 197.75px; text-align: center; height: 18px;\"><span style=\"color: #000000;\">%B</span></td>\n",
    "<td style=\"width: 412.5px; text-align: center; height: 18px;\"><span style=\"color: #000000;\">Locale 월 표현 (전체)</span></td>\n",
    "</tr>\n",
    "<tr style=\"height: 18px;\">\n",
    "<td style=\"width: 197.75px; text-align: center; height: 18px;\"><span style=\"color: #000000;\">%b</span></td>\n",
    "<td style=\"width: 412.5px; text-align: center; height: 18px;\"><span style=\"color: #000000;\">Locale 월 표현 (축약형)</span></td>\n",
    "</tr>\n",
    "<tr style=\"height: 20px;\">\n",
    "<td style=\"width: 197.75px; text-align: center; height: 40px;\" rowspan=\"2\"><span style=\"color: #000000;\">일</span></td>\n",
    "<td style=\"width: 197.75px; text-align: center; height: 20px;\"><span style=\"color: #000000;\">%d</span></td>\n",
    "<td style=\"width: 412.5px; text-align: center; height: 20px;\"><span style=\"color: #000000;\">일</span></td>\n",
    "</tr>\n",
    "<tr style=\"height: 20px;\">\n",
    "<td style=\"width: 197.75px; text-align: center; height: 20px;\"><span style=\"color: #000000;\">%j</span></td>\n",
    "<td style=\"width: 412.5px; text-align: center; height: 20px;\"><span style=\"color: #000000;\">연중 일</span></td>\n",
    "</tr>\n",
    "<tr style=\"height: 20px;\">\n",
    "<td style=\"width: 197.75px; text-align: center; height: 60px;\" rowspan=\"3\"><span style=\"color: #000000;\">시</span></td>\n",
    "<td style=\"width: 197.75px; text-align: center; height: 20px;\"><span style=\"color: #000000;\">%H</span></td>\n",
    "<td style=\"width: 412.5px; text-align: center; height: 20px;\"><span style=\"color: #000000;\">시 (24시간제)</span></td>\n",
    "</tr>\n",
    "<tr style=\"height: 20px;\">\n",
    "<td style=\"width: 197.75px; text-align: center; height: 20px;\"><span style=\"color: #000000;\">%I</span></td>\n",
    "<td style=\"width: 412.5px; text-align: center; height: 20px;\"><span style=\"color: #000000;\">시 (12시간제)</span></td>\n",
    "</tr>\n",
    "<tr style=\"height: 20px;\">\n",
    "<td style=\"width: 197.75px; text-align: center; height: 20px;\"><span style=\"color: #000000;\">%p</span></td>\n",
    "<td style=\"width: 412.5px; text-align: center; height: 20px;\"><span style=\"color: #000000;\">Locale 오전, 오후</span></td>\n",
    "</tr>\n",
    "<tr style=\"height: 20px;\">\n",
    "<td style=\"width: 197.75px; text-align: center; height: 20px;\"><span style=\"color: #000000;\">분</span></td>\n",
    "<td style=\"width: 197.75px; text-align: center; height: 20px;\"><span style=\"color: #000000;\">%M</span></td>\n",
    "<td style=\"width: 412.5px; text-align: center; height: 20px;\"><span style=\"color: #000000;\">분</span></td>\n",
    "</tr>\n",
    "<tr style=\"height: 20px;\">\n",
    "<td style=\"width: 197.75px; text-align: center; height: 20px;\"><span style=\"color: #000000;\">초</span></td>\n",
    "<td style=\"width: 197.75px; text-align: center; height: 20px;\"><span style=\"color: #000000;\">%S</span></td>\n",
    "<td style=\"width: 412.5px; text-align: center; height: 20px;\"><span style=\"color: #000000;\">초</span></td>\n",
    "</tr>\n",
    "<tr style=\"height: 20px;\">\n",
    "<td style=\"width: 197.75px; text-align: center; height: 20px;\"><span style=\"color: #000000;\">마이크로초</span></td>\n",
    "<td style=\"width: 197.75px; text-align: center; height: 20px;\"><span style=\"color: #000000;\">%f</span></td>\n",
    "<td style=\"width: 412.5px; text-align: center; height: 20px;\"><span style=\"color: #000000;\">마이크로초</span></td>\n",
    "</tr>\n",
    "<tr style=\"height: 20px;\">\n",
    "<td style=\"width: 197.75px; text-align: center; height: 60px;\" rowspan=\"3\"><span style=\"color: #000000;\">요일</span></td>\n",
    "<td style=\"width: 197.75px; text-align: center; height: 20px;\"><span style=\"color: #000000;\">%w</span></td>\n",
    "<td style=\"width: 412.5px; text-align: center; height: 20px;\"><span style=\"color: #000000;\">요일 (0 : 일요일, 6일 : 토요일)</span></td>\n",
    "</tr>\n",
    "<tr style=\"height: 20px;\">\n",
    "<td style=\"width: 197.75px; text-align: center; height: 20px;\"><span style=\"color: #000000;\">%A</span></td>\n",
    "<td style=\"width: 412.5px; text-align: center; height: 20px;\"><span style=\"color: #000000;\">Locale 요일 (전체)</span></td>\n",
    "</tr>\n",
    "<tr style=\"height: 20px;\">\n",
    "<td style=\"width: 197.75px; text-align: center; height: 20px;\"><span style=\"color: #000000;\">%a</span></td>\n",
    "<td style=\"width: 412.5px; text-align: center; height: 20px;\"><span style=\"color: #000000;\">Locale 요일 (축약형)</span></td>\n",
    "</tr>\n",
    "<tr style=\"height: 20px;\">\n",
    "<td style=\"width: 197.75px; text-align: center; height: 40px;\" rowspan=\"2\"><span style=\"color: #000000;\">주</span></td>\n",
    "<td style=\"width: 197.75px; text-align: center; height: 20px;\"><span style=\"color: #000000;\">%W</span></td>\n",
    "<td style=\"width: 412.5px; text-align: center; height: 20px;\"><span style=\"color: #000000;\">연중 몇 번째 주인지 표현 (월요일 시작 기준)</span></td>\n",
    "</tr>\n",
    "<tr style=\"height: 20px;\">\n",
    "<td style=\"width: 197.75px; text-align: center; height: 20px;\"><span style=\"color: #000000;\">%U</span></td>\n",
    "<td style=\"width: 412.5px; text-align: center; height: 20px;\"><span style=\"color: #000000;\">연중 몇 번째 주인지 표현 (일요일 시작 기준)</span></td>\n",
    "</tr>\n",
    "<tr style=\"height: 20px;\">\n",
    "<td style=\"width: 197.75px; text-align: center; height: 60px;\" rowspan=\"3\"><span style=\"color: #000000;\">날짜 표현</span></td>\n",
    "<td style=\"width: 197.75px; text-align: center; height: 20px;\"><span style=\"color: #000000;\">%c</span></td>\n",
    "<td style=\"width: 412.5px; text-align: center; height: 20px;\"><span style=\"color: #000000;\">Locale 날짜와 시간 표현</span></td>\n",
    "</tr>\n",
    "<tr style=\"height: 20px;\">\n",
    "<td style=\"width: 197.75px; text-align: center; height: 20px;\"><span style=\"color: #000000;\">%x</span></td>\n",
    "<td style=\"width: 412.5px; text-align: center; height: 20px;\"><span style=\"color: #000000;\">Locale 날짜 표현</span></td>\n",
    "</tr>\n",
    "<tr style=\"height: 20px;\">\n",
    "<td style=\"width: 197.75px; text-align: center; height: 20px;\"><span style=\"color: #000000;\">%X</span></td>\n",
    "<td style=\"width: 412.5px; text-align: center; height: 20px;\"><span style=\"color: #000000;\">Locale 시간 표현</span></td>\n",
    "</tr>\n",
    "<tr style=\"height: 20px;\">\n",
    "<td style=\"width: 197.75px; text-align: center; height: 20px;\"><span style=\"color: #000000;\">문자 표현</span></td>\n",
    "<td style=\"width: 197.75px; text-align: center; height: 20px;\"><span style=\"color: #000000;\">%%</span></td>\n",
    "<td style=\"width: 412.5px; text-align: center; height: 20px;\"><span style=\"color: #000000;\">리터럴 '%' 문자</span></td>\n",
    "</tr>\n",
    "</tbody>\n",
    "</table>"
   ]
  },
  {
   "cell_type": "markdown",
   "id": "e9565815-f7b7-4446-856e-1f20e1343ffa",
   "metadata": {},
   "source": [
    "# (class) date"
   ]
  },
  {
   "cell_type": "code",
   "execution_count": 4,
   "id": "cd894ba1-1d38-4e03-8fb4-423dd8cad904",
   "metadata": {
    "tags": []
   },
   "outputs": [],
   "source": [
    "# from datetime import datetime as dt  #--- 클래스는 일반적으로 예명을 사용하지 않는다\n",
    "# from datetime import date     as d   #--- 클래스는 일반적으로 예명을 사용하지 않는다\n",
    "from datetime import date    #--- 클래스 2개 "
   ]
  },
  {
   "cell_type": "markdown",
   "id": "8b90779c-9cb7-4a33-bd60-3505cca1419c",
   "metadata": {},
   "source": [
    "<pre>\n",
    "-----------------------------------------------------------------------------------------\n",
    "    <b>DATE                          TIME                      DATETIME</b>\n",
    "-----------------------------------------------------------------------------------------\n",
    "date.today()                                                datetime.today()  \n",
    "                                                            datetime.now()\n",
    "-----------------------------------------------------------------------------------------\n",
    "<font color=red><b>\n",
    "date.strftime()                    time.strftime()          datetime.strftime()     날짜티입 --> 글자 </font></b>\n",
    "-----------------------------------------------------------------------------------------\n",
    "<font color=red><b>                                                            datetime.strptime()     글자 -> 날짜티입\n",
    "                                                            </font></b>\n",
    "-----------------------------------------------------------------------------------------\n",
    "<font color=blue><b>date.isoformat()                    time.isoformat()        datetime.isoformat()       날짜티입 --> 글자</font></b>\n",
    "-----------------------------------------------------------------------------------------\n",
    "<font color=blue><b>date.fromisoformat()                time.fromisoformat()    datetime.fromisoformat()   글자 -> 날짜티입</font></b> \n",
    "\n",
    "-----------------------------------------------------------------------------------------\n",
    "date.fromtimestamp()                                        datetime.fromtimestamp()\n",
    "-----------------------------------------------------------------------------------------\n",
    "date.weekday()                                              datetime.weekday()\n",
    "-----------------------------------------------------------------------------------------\n",
    "                                                            datetime.date()  datetime.time() datetime.timestamp()\n",
    "----------------------------------------------------------------------------------------- <br><br><br>     <br>          \n",
    "date.year,date.month, date.day                              datetime.year, datetime.month, datetime.day, \n",
    "-----------------------------------------------------------------------------------------\n",
    "                                    time.hour,              datetime.hour \n",
    "                                    time.minute,            datetime.minute \n",
    "                                    time.second,            datetime.second\n",
    "                                    time.microsecond        datetime.microsecond \n",
    "-----------------------------------------------------------------------------------------\n"
   ]
  },
  {
   "cell_type": "markdown",
   "id": "5384b14e-3b7e-4667-b594-d23a71198920",
   "metadata": {},
   "source": [
    "## date.today()\n",
    "* 오늘 날짜 : 년월일"
   ]
  },
  {
   "cell_type": "code",
   "execution_count": 10,
   "id": "fb9ce216-9fa7-40e1-b6fa-2d692773aeb8",
   "metadata": {
    "tags": []
   },
   "outputs": [
    {
     "data": {
      "text/plain": [
       "datetime.date(2023, 2, 15)"
      ]
     },
     "execution_count": 10,
     "metadata": {},
     "output_type": "execute_result"
    }
   ],
   "source": [
    "mytoday = date.today()  #type(date.today())\n",
    "mytoday"
   ]
  },
  {
   "cell_type": "markdown",
   "id": "890cc517-c3ed-4730-91f9-548b8ec18b6b",
   "metadata": {},
   "source": [
    "* #(1970, 1, 1) 기준으로 N초가 지난 년월일 날짜 반환"
   ]
  },
  {
   "cell_type": "code",
   "execution_count": 24,
   "id": "2f7ce66f-7a00-4f89-a452-96de49383cae",
   "metadata": {
    "tags": []
   },
   "outputs": [
    {
     "data": {
      "text/plain": [
       "datetime.date(2023, 5, 20)"
      ]
     },
     "execution_count": 24,
     "metadata": {},
     "output_type": "execute_result"
    }
   ],
   "source": [
    "date.fromtimestamp(1684581234)   "
   ]
  },
  {
   "cell_type": "markdown",
   "id": "c367f68d-f65a-42e6-a069-77ee131f60cf",
   "metadata": {
    "tags": []
   },
   "source": [
    "## date 형변환\n",
    "* date --> str  : <font color=red><b>.isoformat()</b></font>   기본:'%Y-%m-%d\n",
    "* date --> str  : <font color=red><b>.strftime('%Y-%m-%d %H:%M:%S')</b></font>  \n",
    "* str  --> date : <font color=red><b>.fromisoformat('2023-02-15')</b></font>    "
   ]
  },
  {
   "cell_type": "markdown",
   "id": "58f0cbaa-d064-4080-b06c-e290aa7fd033",
   "metadata": {
    "tags": []
   },
   "source": [
    "### isoformat()\n",
    "* <font color=red><b>★날짜 --> 글자"
   ]
  },
  {
   "cell_type": "code",
   "execution_count": 40,
   "id": "4cebf94e-97f5-424e-94a1-a5b115fb83b0",
   "metadata": {
    "tags": []
   },
   "outputs": [
    {
     "data": {
      "text/plain": [
       "'2023-02-15'"
      ]
     },
     "execution_count": 40,
     "metadata": {},
     "output_type": "execute_result"
    }
   ],
   "source": [
    "date.today().isoformat()    "
   ]
  },
  {
   "cell_type": "markdown",
   "id": "2a41c66c-e4a7-42a2-a25a-b0a0c7e004aa",
   "metadata": {},
   "source": [
    "### strftime('%Y-%m-%d')\n",
    "* <font color=red><b>★날짜 --> 글자\n",
    "* 날짜의 포맷 변경\n",
    "* select to_char(sysdate, 'YYYY-MM-DD HH24:MI:SS') from dual"
   ]
  },
  {
   "cell_type": "code",
   "execution_count": 31,
   "id": "62761d9b-2240-4f06-96dd-1d4b4e14de76",
   "metadata": {
    "tags": []
   },
   "outputs": [
    {
     "data": {
      "text/plain": [
       "'2023-02-15 00:00:00'"
      ]
     },
     "execution_count": 31,
     "metadata": {},
     "output_type": "execute_result"
    }
   ],
   "source": [
    "date.today().strftime('%Y-%m-%d %H:%M:%S')  "
   ]
  },
  {
   "cell_type": "code",
   "execution_count": 39,
   "id": "b7b40a53-ba17-4f9c-a9f7-1a98c939a7e4",
   "metadata": {
    "tags": []
   },
   "outputs": [
    {
     "data": {
      "text/plain": [
       "str"
      ]
     },
     "execution_count": 39,
     "metadata": {},
     "output_type": "execute_result"
    }
   ],
   "source": [
    "type(date.today().strftime('%Y-%m-%d %H:%M:%S')  )"
   ]
  },
  {
   "cell_type": "markdown",
   "id": "96dd1533-35b9-4166-83e3-dd6bb6a8559f",
   "metadata": {},
   "source": [
    "### fromisoformat(str)\n",
    "* <font color=red><b>★글자 --> 날짜"
   ]
  },
  {
   "cell_type": "code",
   "execution_count": 37,
   "id": "7a7a0d94-7216-42c6-974f-fe34fe96167a",
   "metadata": {
    "tags": []
   },
   "outputs": [
    {
     "data": {
      "text/plain": [
       "datetime.date(2023, 2, 15)"
      ]
     },
     "execution_count": 37,
     "metadata": {},
     "output_type": "execute_result"
    }
   ],
   "source": [
    "date.fromisoformat('2023-02-15')    "
   ]
  },
  {
   "cell_type": "markdown",
   "id": "9fd4e1a7-738c-49cb-bf98-e6551756bf23",
   "metadata": {},
   "source": [
    "## weekday()\n",
    "* def weekday(self):\n",
    "* 정수로 요일을 반환 (월요일: 0,   일요일:6)\n",
    "* date(2022, 12, 25).weekday()"
   ]
  },
  {
   "cell_type": "code",
   "execution_count": 36,
   "id": "0041241b-2a7b-4ac5-ad80-6fee8b02e3b5",
   "metadata": {
    "tags": []
   },
   "outputs": [
    {
     "data": {
      "text/plain": [
       "6"
      ]
     },
     "execution_count": 36,
     "metadata": {},
     "output_type": "execute_result"
    }
   ],
   "source": [
    "date(2022, 12, 25).weekday()  #6:일요일"
   ]
  },
  {
   "cell_type": "markdown",
   "id": "c599779b-3a21-4103-810f-8d803af19921",
   "metadata": {},
   "source": [
    "## 변수 : 년월일\n",
    "* year, month, day"
   ]
  },
  {
   "cell_type": "code",
   "execution_count": 34,
   "id": "a0d92ec9-769a-4a28-a305-6d9d1fe79327",
   "metadata": {
    "tags": []
   },
   "outputs": [
    {
     "data": {
      "text/plain": [
       "2"
      ]
     },
     "execution_count": 34,
     "metadata": {},
     "output_type": "execute_result"
    }
   ],
   "source": [
    "date.today().weekday()       #2:수요일"
   ]
  },
  {
   "cell_type": "code",
   "execution_count": 43,
   "id": "7f5c4e03-a514-4ee3-a390-7c5d53c1415a",
   "metadata": {
    "tags": []
   },
   "outputs": [
    {
     "data": {
      "text/plain": [
       "2023"
      ]
     },
     "execution_count": 43,
     "metadata": {},
     "output_type": "execute_result"
    }
   ],
   "source": [
    "date.today().year"
   ]
  },
  {
   "cell_type": "code",
   "execution_count": 45,
   "id": "4ccd35c8-c271-418d-87d6-9ec1206fdfa6",
   "metadata": {
    "tags": []
   },
   "outputs": [
    {
     "data": {
      "text/plain": [
       "2"
      ]
     },
     "execution_count": 45,
     "metadata": {},
     "output_type": "execute_result"
    }
   ],
   "source": [
    "date.today().month"
   ]
  },
  {
   "cell_type": "code",
   "execution_count": 46,
   "id": "4a270f2c-46c7-449e-91cc-b4e7c33597df",
   "metadata": {
    "tags": []
   },
   "outputs": [
    {
     "data": {
      "text/plain": [
       "15"
      ]
     },
     "execution_count": 46,
     "metadata": {},
     "output_type": "execute_result"
    }
   ],
   "source": [
    "date.today().day"
   ]
  },
  {
   "cell_type": "markdown",
   "id": "ecc93711-28a0-445a-86ad-0585090d1c76",
   "metadata": {},
   "source": [
    "# (class) datetime"
   ]
  },
  {
   "cell_type": "code",
   "execution_count": 47,
   "id": "6e82943f-6c6a-4369-9395-05fced95a929",
   "metadata": {
    "tags": []
   },
   "outputs": [],
   "source": [
    "# from datetime import datetime as dt  #--- 클래스는 일반적으로 예명을 사용하지 않는다\n",
    "# from datetime import date     as d   #--- 클래스는 일반적으로 예명을 사용하지 않는다\n",
    "from datetime import datetime    #--- 클래스 2개 "
   ]
  },
  {
   "cell_type": "markdown",
   "id": "1906eb0a-3e66-4d29-b97f-63b4613d8a39",
   "metadata": {
    "tags": []
   },
   "source": [
    "## datetime.today()\n",
    "* 오늘 날짜\n",
    "* <b>date.today()</b>\n",
    "* <b>datetime.today() </b>,   datetime.now()"
   ]
  },
  {
   "cell_type": "code",
   "execution_count": 59,
   "id": "c8c92201-cce6-4eb7-a615-e9ef8de543be",
   "metadata": {
    "tags": []
   },
   "outputs": [
    {
     "data": {
      "text/plain": [
       "datetime.datetime(2023, 2, 15, 12, 55, 13, 702789)"
      ]
     },
     "execution_count": 59,
     "metadata": {},
     "output_type": "execute_result"
    }
   ],
   "source": [
    "datetime.now()"
   ]
  },
  {
   "cell_type": "code",
   "execution_count": 60,
   "id": "feec4b9f-cda7-4bfa-83ae-397275d3e6bf",
   "metadata": {
    "tags": []
   },
   "outputs": [
    {
     "data": {
      "text/plain": [
       "datetime.datetime(2023, 2, 15, 12, 55, 31, 81928)"
      ]
     },
     "execution_count": 60,
     "metadata": {},
     "output_type": "execute_result"
    }
   ],
   "source": [
    "datetime.today()"
   ]
  },
  {
   "cell_type": "markdown",
   "id": "55dcd682-4505-4daa-ba5c-918d54afad9b",
   "metadata": {},
   "source": [
    "* (1970, 1, 1) 기준으로 N초가 지난 년월일 + 시분초 날짜 반환"
   ]
  },
  {
   "cell_type": "code",
   "execution_count": 61,
   "id": "4d4ac083-3049-4a29-bc3a-aa900da1209b",
   "metadata": {
    "tags": []
   },
   "outputs": [
    {
     "data": {
      "text/plain": [
       "datetime.datetime(1984, 5, 29, 11, 47, 44)"
      ]
     },
     "execution_count": 61,
     "metadata": {},
     "output_type": "execute_result"
    }
   ],
   "source": [
    "datetime.fromtimestamp(454646864)\n"
   ]
  },
  {
   "cell_type": "markdown",
   "id": "928dbcfd-8d8b-4fad-b905-520dc8087703",
   "metadata": {
    "tags": []
   },
   "source": [
    "## datetime 형변환\n",
    "* date --> str  : <font color=red><b>.isoformat()</b></font>   기본:'%Y-%m-%d %H:%M:%S\n",
    "* date --> str  : <font color=red><b>.strftime('%Y-%m-%d %H:%M:%S')</b></font>  <br><br>\n",
    "* str  --> date  : <font color=red><b>.strptime('2020-01-01 22:29:54', '%Y-%m-%d %H:%M:%S')</b></font>  \n",
    "* str  --> date : <font color=red><b>.fromisoformat('2023-02-15')</b></font>    "
   ]
  },
  {
   "cell_type": "markdown",
   "id": "ce38f556-7298-46d8-8b90-fdd42e34cf28",
   "metadata": {},
   "source": [
    "### isoformat()\n",
    "* <font color=red><b>★날짜 --> 글자"
   ]
  },
  {
   "cell_type": "code",
   "execution_count": 79,
   "id": "c2e9b08e-0ab4-4ba6-bb33-2ddedb8f5ee8",
   "metadata": {
    "tags": []
   },
   "outputs": [
    {
     "data": {
      "text/plain": [
       "'2023-02-15T13:10:59.504551'"
      ]
     },
     "execution_count": 79,
     "metadata": {},
     "output_type": "execute_result"
    }
   ],
   "source": [
    "datetime.today().isoformat()"
   ]
  },
  {
   "cell_type": "markdown",
   "id": "c721ab06-721f-42a6-8b26-3cc20613404c",
   "metadata": {
    "tags": []
   },
   "source": [
    "### strftime('%Y-%m-%d')\n",
    "* <font color=red><b>★날짜 --> 글자\n",
    "* 날짜의 포맷 변경\n",
    "* select to_char(sysdate, 'YYYY-MM-DD HH24:MI:SS') from dual"
   ]
  },
  {
   "cell_type": "code",
   "execution_count": 65,
   "id": "5345d57d-093e-4cf2-b605-c88f744f5078",
   "metadata": {
    "tags": []
   },
   "outputs": [
    {
     "data": {
      "text/plain": [
       "'2023-02-15 00:00:00'"
      ]
     },
     "execution_count": 65,
     "metadata": {},
     "output_type": "execute_result"
    }
   ],
   "source": [
    "date.today().strftime('%Y-%m-%d %H:%M:%S') "
   ]
  },
  {
   "cell_type": "code",
   "execution_count": 64,
   "id": "4454f568-1cf8-4f26-8714-7783ee53c53b",
   "metadata": {
    "tags": []
   },
   "outputs": [
    {
     "data": {
      "text/plain": [
       "'2023-02-15 12:59:49'"
      ]
     },
     "execution_count": 64,
     "metadata": {},
     "output_type": "execute_result"
    }
   ],
   "source": [
    "datetime.today().strftime('%Y-%m-%d %H:%M:%S') "
   ]
  },
  {
   "cell_type": "code",
   "execution_count": 68,
   "id": "0b486d58-fbe5-41e3-a7e6-47caa695e810",
   "metadata": {
    "tags": []
   },
   "outputs": [
    {
     "data": {
      "text/plain": [
       "'2023-02-15'"
      ]
     },
     "execution_count": 68,
     "metadata": {},
     "output_type": "execute_result"
    }
   ],
   "source": [
    "date.today().strftime('%Y-%m-%d') "
   ]
  },
  {
   "cell_type": "code",
   "execution_count": 69,
   "id": "a7cff4bf-591c-469a-a0b3-88f6f90f1af5",
   "metadata": {
    "tags": []
   },
   "outputs": [
    {
     "data": {
      "text/plain": [
       "'2023-02-15'"
      ]
     },
     "execution_count": 69,
     "metadata": {},
     "output_type": "execute_result"
    }
   ],
   "source": [
    "datetime.today().strftime('%Y-%m-%d')"
   ]
  },
  {
   "cell_type": "markdown",
   "id": "f2bf6282-236d-478b-9b39-a13f363ea2de",
   "metadata": {},
   "source": [
    "### strptime()\n",
    "* <font color=red><b>★글자 --> 날짜\n",
    "* 글자를 날짜 타입으로 변환\n",
    "* select to_date('2012-01-24', 'YYYY-MM-DD') from dual"
   ]
  },
  {
   "cell_type": "code",
   "execution_count": 71,
   "id": "4b2e2dda-1356-4ae3-b513-334b6b3329b1",
   "metadata": {
    "tags": []
   },
   "outputs": [
    {
     "data": {
      "text/plain": [
       "datetime.datetime(2022, 12, 25, 0, 0)"
      ]
     },
     "execution_count": 71,
     "metadata": {},
     "output_type": "execute_result"
    }
   ],
   "source": [
    "datetime.strptime('2022-12-25', '%Y-%m-%d')"
   ]
  },
  {
   "cell_type": "code",
   "execution_count": 72,
   "id": "1a0b15ef-f142-4e2e-9f90-96b5d12ed98c",
   "metadata": {
    "tags": []
   },
   "outputs": [
    {
     "data": {
      "text/plain": [
       "2"
      ]
     },
     "execution_count": 72,
     "metadata": {},
     "output_type": "execute_result"
    }
   ],
   "source": [
    "datetime.today().weekday()\n"
   ]
  },
  {
   "cell_type": "markdown",
   "id": "3662137f-65b3-4d27-a646-63c9a0633f16",
   "metadata": {},
   "source": [
    "### fromisoformat(str)\n",
    "* <font color=red><b>★글자 --> 날짜"
   ]
  },
  {
   "cell_type": "code",
   "execution_count": 76,
   "id": "a8e8c6ac-3d64-4040-b67d-85e536d54f50",
   "metadata": {
    "tags": []
   },
   "outputs": [
    {
     "data": {
      "text/plain": [
       "datetime.date(2022, 12, 25)"
      ]
     },
     "execution_count": 76,
     "metadata": {},
     "output_type": "execute_result"
    }
   ],
   "source": [
    "date.fromisoformat('2022-12-25')"
   ]
  },
  {
   "cell_type": "code",
   "execution_count": 75,
   "id": "191528fe-22ba-44a2-92d7-7e51d9760bf7",
   "metadata": {
    "tags": []
   },
   "outputs": [
    {
     "data": {
      "text/plain": [
       "datetime.datetime(2022, 12, 25, 0, 0)"
      ]
     },
     "execution_count": 75,
     "metadata": {},
     "output_type": "execute_result"
    }
   ],
   "source": [
    "datetime.fromisoformat('2022-12-25')"
   ]
  },
  {
   "cell_type": "code",
   "execution_count": 74,
   "id": "def51a94-0df8-4aa2-8a0f-c8023b85cba6",
   "metadata": {
    "tags": []
   },
   "outputs": [
    {
     "data": {
      "text/plain": [
       "datetime.datetime(2022, 12, 25, 22, 14, 30)"
      ]
     },
     "execution_count": 74,
     "metadata": {},
     "output_type": "execute_result"
    }
   ],
   "source": [
    "datetime.fromisoformat('2022-12-25 22:14:30')"
   ]
  },
  {
   "cell_type": "markdown",
   "id": "617f6a32-a914-465f-a5e2-dccc63bc0b70",
   "metadata": {
    "tags": []
   },
   "source": [
    "## 함수 : date()  ,  time(), timestamp()"
   ]
  },
  {
   "cell_type": "code",
   "execution_count": 81,
   "id": "556207b7-b811-4d27-b170-a20aa962abfe",
   "metadata": {
    "tags": []
   },
   "outputs": [
    {
     "data": {
      "text/plain": [
       "datetime.date(2023, 2, 15)"
      ]
     },
     "execution_count": 81,
     "metadata": {},
     "output_type": "execute_result"
    }
   ],
   "source": [
    "datetime.today().date()  "
   ]
  },
  {
   "cell_type": "code",
   "execution_count": 82,
   "id": "f91c0417-e971-42b2-8176-b3fd643a7471",
   "metadata": {
    "tags": []
   },
   "outputs": [
    {
     "data": {
      "text/plain": [
       "datetime.time(13, 11, 19, 806813)"
      ]
     },
     "execution_count": 82,
     "metadata": {},
     "output_type": "execute_result"
    }
   ],
   "source": [
    "datetime.today().time() "
   ]
  },
  {
   "cell_type": "code",
   "execution_count": 85,
   "id": "73781c8e-acf0-4cc1-ad81-05b2344f14fd",
   "metadata": {
    "tags": []
   },
   "outputs": [
    {
     "data": {
      "text/plain": [
       "1676434387.313323"
      ]
     },
     "execution_count": 85,
     "metadata": {},
     "output_type": "execute_result"
    }
   ],
   "source": [
    "datetime.today().timestamp()"
   ]
  },
  {
   "cell_type": "markdown",
   "id": "ecf3fd86-e078-4d4c-b4f1-d7e113845394",
   "metadata": {},
   "source": [
    "## 변수 : 년월일시분초(m초)\n",
    "* year, month, day + hour, minute, second, microsecond"
   ]
  },
  {
   "cell_type": "code",
   "execution_count": 49,
   "id": "b7cccc67-2bd5-405e-8ec4-b500aaf46c59",
   "metadata": {
    "tags": []
   },
   "outputs": [
    {
     "data": {
      "text/plain": [
       "2023"
      ]
     },
     "execution_count": 49,
     "metadata": {},
     "output_type": "execute_result"
    }
   ],
   "source": [
    "ss = datetime.today()\n",
    "ss.year"
   ]
  },
  {
   "cell_type": "code",
   "execution_count": 50,
   "id": "d27d1f40-d26c-40a0-970a-832012c9d3ea",
   "metadata": {
    "tags": []
   },
   "outputs": [
    {
     "data": {
      "text/plain": [
       "2023"
      ]
     },
     "execution_count": 50,
     "metadata": {},
     "output_type": "execute_result"
    }
   ],
   "source": [
    "datetime.today().year"
   ]
  },
  {
   "cell_type": "code",
   "execution_count": 52,
   "id": "fffc0f7e-5267-40bf-a362-7cc84ac23d3b",
   "metadata": {
    "tags": []
   },
   "outputs": [
    {
     "data": {
      "text/plain": [
       "2"
      ]
     },
     "execution_count": 52,
     "metadata": {},
     "output_type": "execute_result"
    }
   ],
   "source": [
    "datetime.today().month"
   ]
  },
  {
   "cell_type": "code",
   "execution_count": 53,
   "id": "d892ea74-5e11-4351-b823-9ec834a7c256",
   "metadata": {
    "tags": []
   },
   "outputs": [
    {
     "data": {
      "text/plain": [
       "15"
      ]
     },
     "execution_count": 53,
     "metadata": {},
     "output_type": "execute_result"
    }
   ],
   "source": [
    "datetime.today().day"
   ]
  },
  {
   "cell_type": "code",
   "execution_count": 54,
   "id": "83e7c52a-706e-4ffc-8d78-4849b3a50b15",
   "metadata": {
    "tags": []
   },
   "outputs": [
    {
     "data": {
      "text/plain": [
       "12"
      ]
     },
     "execution_count": 54,
     "metadata": {},
     "output_type": "execute_result"
    }
   ],
   "source": [
    "datetime.today().hour"
   ]
  },
  {
   "cell_type": "code",
   "execution_count": 55,
   "id": "aafc8796-721b-48c2-8cc0-16a21c6e2941",
   "metadata": {
    "tags": []
   },
   "outputs": [
    {
     "data": {
      "text/plain": [
       "52"
      ]
     },
     "execution_count": 55,
     "metadata": {},
     "output_type": "execute_result"
    }
   ],
   "source": [
    "datetime.today().minute"
   ]
  },
  {
   "cell_type": "code",
   "execution_count": 56,
   "id": "dda229cc-9604-4c02-9a6a-9d6cad498f06",
   "metadata": {
    "tags": []
   },
   "outputs": [
    {
     "data": {
      "text/plain": [
       "52"
      ]
     },
     "execution_count": 56,
     "metadata": {},
     "output_type": "execute_result"
    }
   ],
   "source": [
    "datetime.today().second"
   ]
  },
  {
   "cell_type": "code",
   "execution_count": 84,
   "id": "40ff1ff8-130e-4b2d-b6f5-1107a935b8a0",
   "metadata": {
    "tags": []
   },
   "outputs": [
    {
     "data": {
      "text/plain": [
       "413774"
      ]
     },
     "execution_count": 84,
     "metadata": {},
     "output_type": "execute_result"
    }
   ],
   "source": [
    "datetime.today().microsecond"
   ]
  },
  {
   "cell_type": "markdown",
   "id": "6e5f7946-170a-4c58-8df7-11db42a51dc5",
   "metadata": {},
   "source": [
    "# (class) time"
   ]
  },
  {
   "cell_type": "markdown",
   "id": "25b73541-76c6-462c-aec2-4b42812bfd6d",
   "metadata": {},
   "source": [
    "# (class) timedelta\n",
    "* days=0, seconds=0, microseconds=0,\n",
    "                milliseconds=0, minutes=0, hours=0, weeks=0"
   ]
  },
  {
   "cell_type": "code",
   "execution_count": 96,
   "id": "86b0d59d-98ca-4deb-9f35-7b786b5e2437",
   "metadata": {
    "tags": []
   },
   "outputs": [],
   "source": [
    "from datetime import timedelta, date, datetime\n",
    "next_day = timedelta(days=1)\n",
    "next_week = timedelta(weeks=1)\n",
    "next_hour = timedelta(hours=1)"
   ]
  },
  {
   "cell_type": "code",
   "execution_count": 90,
   "id": "cdd8f5fc-7687-45ed-bcaa-636efdb00915",
   "metadata": {
    "tags": []
   },
   "outputs": [
    {
     "data": {
      "text/plain": [
       "datetime.date(2023, 2, 15)"
      ]
     },
     "execution_count": 90,
     "metadata": {},
     "output_type": "execute_result"
    }
   ],
   "source": [
    "date.today()"
   ]
  },
  {
   "cell_type": "code",
   "execution_count": 92,
   "id": "9a094b87-6a10-4811-886d-ddcccdac9ea4",
   "metadata": {
    "tags": []
   },
   "outputs": [
    {
     "data": {
      "text/plain": [
       "datetime.date(2023, 2, 16)"
      ]
     },
     "execution_count": 92,
     "metadata": {},
     "output_type": "execute_result"
    }
   ],
   "source": [
    "date.today() + next_day"
   ]
  },
  {
   "cell_type": "code",
   "execution_count": 93,
   "id": "7ae6e234-0472-40d0-b96d-a4044270e2d7",
   "metadata": {
    "tags": []
   },
   "outputs": [
    {
     "data": {
      "text/plain": [
       "datetime.date(2023, 2, 22)"
      ]
     },
     "execution_count": 93,
     "metadata": {},
     "output_type": "execute_result"
    }
   ],
   "source": [
    "date.today() + next_week"
   ]
  },
  {
   "cell_type": "code",
   "execution_count": 99,
   "id": "3ae54434-0279-4ddd-8231-b60be107ccd8",
   "metadata": {
    "tags": []
   },
   "outputs": [
    {
     "data": {
      "text/plain": [
       "datetime.datetime(2023, 2, 15, 15, 3, 42, 716943)"
      ]
     },
     "execution_count": 99,
     "metadata": {},
     "output_type": "execute_result"
    }
   ],
   "source": [
    "datetime.today()"
   ]
  },
  {
   "cell_type": "code",
   "execution_count": 98,
   "id": "079d44d1-9c4d-4c0a-9133-b13b87fc8f5c",
   "metadata": {
    "tags": []
   },
   "outputs": [
    {
     "data": {
      "text/plain": [
       "datetime.datetime(2023, 2, 15, 16, 3, 37, 27900)"
      ]
     },
     "execution_count": 98,
     "metadata": {},
     "output_type": "execute_result"
    }
   ],
   "source": [
    "datetime.today() + next_hour"
   ]
  },
  {
   "cell_type": "markdown",
   "id": "6a30724b-a96c-47b7-b09f-7b350abe8bce",
   "metadata": {},
   "source": [
    "# (class) relativedelta\n",
    "* dateutil.relativedelta.py"
   ]
  },
  {
   "cell_type": "markdown",
   "id": "fb904442-1b50-4cae-a46e-d8b452fd0973",
   "metadata": {},
   "source": [
    "<pre>\n",
    "dt1=None, dt2=None,\n",
    "years=0, months=0, days=0, leapdays=0, weeks=0,\n",
    "hours=0, minutes=0, seconds=0, microseconds=0,\n",
    "year=None, month=None, day=None, weekday=None,\n",
    "yearday=None, nlyearday=None,\n",
    "hour=None, minute=None, second=None, microsecond=None\n"
   ]
  },
  {
   "cell_type": "code",
   "execution_count": 104,
   "id": "6006de2b-b89e-45c3-aa5d-dc05a2fba720",
   "metadata": {
    "tags": []
   },
   "outputs": [],
   "source": [
    "from dateutil.relativedelta import relativedelta\n",
    "from datetime import datetime"
   ]
  },
  {
   "cell_type": "code",
   "execution_count": 110,
   "id": "00e1775d-212e-457b-a103-50f92adc176b",
   "metadata": {
    "tags": []
   },
   "outputs": [
    {
     "data": {
      "text/plain": [
       "(datetime.datetime(2023, 2, 15, 15, 12, 0, 796012),\n",
       " datetime.datetime(2020, 12, 13, 0, 0))"
      ]
     },
     "execution_count": 110,
     "metadata": {},
     "output_type": "execute_result"
    }
   ],
   "source": [
    "dt1 = datetime.today()\n",
    "dt2 = datetime(2020,12, 13)\n",
    "dt1, dt2"
   ]
  },
  {
   "cell_type": "code",
   "execution_count": 114,
   "id": "87fa58c3-0346-4ffb-ae4d-233185a03965",
   "metadata": {
    "tags": []
   },
   "outputs": [
    {
     "data": {
      "text/plain": [
       "relativedelta(years=+2, months=+2, days=+2, hours=+15, minutes=+12, microseconds=+796012)"
      ]
     },
     "execution_count": 114,
     "metadata": {},
     "output_type": "execute_result"
    }
   ],
   "source": [
    "relativedelta(dt1, dt2)"
   ]
  },
  {
   "cell_type": "markdown",
   "id": "283b3bcf-698b-4017-896c-8efee0c883ff",
   "metadata": {},
   "source": [
    "* 날짜연산"
   ]
  },
  {
   "cell_type": "code",
   "execution_count": 117,
   "id": "70173595-223b-405c-9fb5-c828b08f647d",
   "metadata": {
    "tags": []
   },
   "outputs": [
    {
     "data": {
      "text/plain": [
       "(datetime.datetime(2023, 2, 15, 15, 15, 37, 90358),\n",
       " datetime.datetime(2023, 2, 25, 15, 15, 37, 90358))"
      ]
     },
     "execution_count": 117,
     "metadata": {},
     "output_type": "execute_result"
    }
   ],
   "source": [
    "dt1 = datetime.today()\n",
    "next_day = relativedelta(days=10)\n",
    "dt1 , dt1 + next_day"
   ]
  },
  {
   "cell_type": "code",
   "execution_count": 118,
   "id": "0928a192-fc08-4c92-af15-a9914522145c",
   "metadata": {
    "tags": []
   },
   "outputs": [
    {
     "data": {
      "text/plain": [
       "(datetime.datetime(2023, 2, 15, 15, 15, 56, 585760),\n",
       " datetime.datetime(2023, 5, 15, 15, 15, 56, 585760))"
      ]
     },
     "execution_count": 118,
     "metadata": {},
     "output_type": "execute_result"
    }
   ],
   "source": [
    "dt1 = datetime.today()\n",
    "next_day = relativedelta(months=3)\n",
    "dt1 , dt1 + next_day"
   ]
  }
 ],
 "metadata": {
  "kernelspec": {
   "display_name": "Python 3 (ipykernel)",
   "language": "python",
   "name": "python3"
  },
  "language_info": {
   "codemirror_mode": {
    "name": "ipython",
    "version": 3
   },
   "file_extension": ".py",
   "mimetype": "text/x-python",
   "name": "python",
   "nbconvert_exporter": "python",
   "pygments_lexer": "ipython3",
   "version": "3.8.8"
  },
  "toc-autonumbering": true,
  "toc-showmarkdowntxt": false
 },
 "nbformat": 4,
 "nbformat_minor": 5
}
