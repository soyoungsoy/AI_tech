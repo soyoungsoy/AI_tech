{
 "cells": [
  {
   "cell_type": "markdown",
   "id": "22f410f7-42fa-47fb-ab66-c6d85fdf6c15",
   "metadata": {},
   "source": [
    "<font size=6><b>한줄표현 --- optional"
   ]
  },
  {
   "cell_type": "markdown",
   "id": "162c77f3-6a20-45a6-bacb-7ec67119b076",
   "metadata": {},
   "source": [
    "# for문 한줄 표현식\n",
    "<pre><font size=2><b>\n",
    "for n in [1,2,3] :\n",
    "    처리부\n",
    "</b></font> \n",
    "[  처리부  for n in [1,2,3]    ]\n",
    "\n"
   ]
  },
  {
   "cell_type": "code",
   "execution_count": 1,
   "id": "f8ea7f34-e963-4418-9b28-be5193f51ef3",
   "metadata": {
    "tags": []
   },
   "outputs": [
    {
     "name": "stdout",
     "output_type": "stream",
     "text": [
      "10\n"
     ]
    }
   ],
   "source": [
    "mysum = 0\n",
    "for n in [1,2,3,4] :\n",
    "    mysum = mysum + n\n",
    "print(mysum)    "
   ]
  },
  {
   "cell_type": "code",
   "execution_count": 2,
   "id": "2bec6993-0001-42ea-8ffd-9b0ab774b1e7",
   "metadata": {
    "tags": []
   },
   "outputs": [
    {
     "name": "stdout",
     "output_type": "stream",
     "text": [
      "1\n",
      "2\n",
      "3\n",
      "4\n"
     ]
    },
    {
     "data": {
      "text/plain": [
       "[None, None, None, None]"
      ]
     },
     "execution_count": 2,
     "metadata": {},
     "output_type": "execute_result"
    }
   ],
   "source": [
    "# frames = [ process_your_file(f) for f in files ]\n",
    "[  print(n) for n in [1,2,3,4]  ]"
   ]
  },
  {
   "cell_type": "markdown",
   "id": "427a5ba8-fa65-42af-8b4d-057b2ee12d78",
   "metadata": {},
   "source": [
    "# for + for "
   ]
  },
  {
   "cell_type": "markdown",
   "id": "321621e8-70a1-4de1-9f1e-60cdc5ddb1e4",
   "metadata": {
    "tags": []
   },
   "source": [
    "<pre><font size=2><b>\n",
    "for a in [1,2,3] :\n",
    "    for z in [1,2,3] :\n",
    "        처리부\n",
    "</b></font> \n",
    "[  처리부  for a in [1,2,3] for z in [1,2,3]     ]\n"
   ]
  },
  {
   "cell_type": "code",
   "execution_count": 3,
   "id": "9031a2a8-c7d4-4e68-be40-3f7bff964c4d",
   "metadata": {
    "tags": []
   },
   "outputs": [
    {
     "name": "stdout",
     "output_type": "stream",
     "text": [
      "2 * 1\n",
      "2 * 2\n",
      "2 * 3\n",
      "2 * 4\n",
      "3 * 1\n",
      "3 * 2\n",
      "3 * 3\n",
      "3 * 4\n",
      "4 * 1\n",
      "4 * 2\n",
      "4 * 3\n",
      "4 * 4\n"
     ]
    }
   ],
   "source": [
    "for dan in [2,3,4]:\n",
    "    for gob in [1,2,3,4] :\n",
    "        print(dan, \"*\", gob)"
   ]
  },
  {
   "cell_type": "code",
   "execution_count": 4,
   "id": "ae03c698-8f69-455b-b688-d3315ea50e05",
   "metadata": {
    "tags": []
   },
   "outputs": [
    {
     "name": "stdout",
     "output_type": "stream",
     "text": [
      "2 * 1\n",
      "2 * 2\n",
      "2 * 3\n",
      "2 * 4\n",
      "3 * 1\n",
      "3 * 2\n",
      "3 * 3\n",
      "3 * 4\n",
      "4 * 1\n",
      "4 * 2\n",
      "4 * 3\n",
      "4 * 4\n"
     ]
    },
    {
     "data": {
      "text/plain": [
       "[None, None, None, None, None, None, None, None, None, None, None, None]"
      ]
     },
     "execution_count": 4,
     "metadata": {},
     "output_type": "execute_result"
    }
   ],
   "source": [
    "[print(dan, \"*\", gob) for dan in [2,3,4] for gob in [1,2,3,4] ]"
   ]
  },
  {
   "cell_type": "markdown",
   "id": "7860106b-8b93-4fa0-91e9-e959ac459a02",
   "metadata": {
    "tags": []
   },
   "source": [
    "# if문 한줄 표현식"
   ]
  },
  {
   "cell_type": "markdown",
   "id": "e606a0ce-64ca-4dbc-a27c-586d6c9a34e5",
   "metadata": {
    "tags": []
   },
   "source": [
    "\n",
    "<pre><font size=2><b>\n",
    "if score < 90 :\n",
    "    처리부if\n",
    "else :\n",
    "    처리부else\n",
    "</b></font> \n",
    "\n",
    "처리부if  if score < 90 else 처리부else"
   ]
  },
  {
   "cell_type": "code",
   "execution_count": 5,
   "id": "6f903c77-580b-4e7b-85ab-7671fedab0a7",
   "metadata": {
    "tags": []
   },
   "outputs": [
    {
     "name": "stdout",
     "output_type": "stream",
     "text": [
      "작다\n"
     ]
    }
   ],
   "source": [
    "score = 80\n",
    "if score < 90 :\n",
    "    print(\"작다\")\n",
    "else :\n",
    "    print(\"크다\")"
   ]
  },
  {
   "cell_type": "code",
   "execution_count": 6,
   "id": "2e0052b0-498f-40ac-9999-073dc613d33e",
   "metadata": {
    "tags": []
   },
   "outputs": [
    {
     "name": "stdout",
     "output_type": "stream",
     "text": [
      "작다\n"
     ]
    }
   ],
   "source": [
    "score = 80\n",
    "print(\"작다\" if score < 90 else '크다' )"
   ]
  },
  {
   "cell_type": "markdown",
   "id": "ac69ed5c-4d60-42e7-b09e-cc49a0603e34",
   "metadata": {},
   "source": [
    "<pre>\n",
    "처리부if if score < 90 else ( 처리부elif if  score < 80 else 처리부else  )\n",
    "\n",
    "if score < 90 :\n",
    "    처리부if\n",
    "elif  score < 80 :\n",
    "    처리부elif\n",
    "else :\n",
    "    처리부else"
   ]
  },
  {
   "cell_type": "code",
   "execution_count": 7,
   "id": "e397e39d-1c19-4a3f-90f7-8de3d8369578",
   "metadata": {
    "tags": []
   },
   "outputs": [
    {
     "name": "stdout",
     "output_type": "stream",
     "text": [
      "B\n"
     ]
    }
   ],
   "source": [
    "score = 80\n",
    "if score < 90 :\n",
    "    print(\"B\")\n",
    "elif  score < 80 :\n",
    "    print(\"C\")\n",
    "else :\n",
    "    print(\"D\")"
   ]
  },
  {
   "cell_type": "code",
   "execution_count": 8,
   "id": "0cf26969-3668-4fbf-8607-48d5cc01b935",
   "metadata": {
    "tags": []
   },
   "outputs": [
    {
     "name": "stdout",
     "output_type": "stream",
     "text": [
      "B\n"
     ]
    }
   ],
   "source": [
    "score = 80\n",
    "print(\"B\" if score < 90 else (\"C\" if  score < 80 else \"D\" )  )"
   ]
  },
  {
   "cell_type": "markdown",
   "id": "1be9c98a-4cb1-42e7-ae52-1553dffbb79b",
   "metadata": {
    "tags": []
   },
   "source": [
    "# for  + if"
   ]
  },
  {
   "cell_type": "markdown",
   "id": "3da60dd9-70ce-4259-9b70-ce947af92388",
   "metadata": {},
   "source": [
    "<pre><font size=2><b>\n",
    "for n in [1,2,3] :\n",
    "    if n == 2:\n",
    "        print(\"이\")\n",
    "</b></font> \n",
    "\n",
    "맨앞으로보내고  다다다닥 한줄 앞뒤로 대괄호\n",
    "[ print(\"이\") for n in [1,2,3] if n == 2 ] "
   ]
  },
  {
   "cell_type": "code",
   "execution_count": 9,
   "id": "cb6c9d09-b66f-42d0-a6a0-45088210f8e3",
   "metadata": {
    "tags": []
   },
   "outputs": [
    {
     "name": "stdout",
     "output_type": "stream",
     "text": [
      "이\n"
     ]
    }
   ],
   "source": [
    "for n in [1,2,3] :\n",
    "    if n == 2:\n",
    "        print(\"이\")"
   ]
  },
  {
   "cell_type": "code",
   "execution_count": 10,
   "id": "fcabece7-ad8d-48cf-b9aa-4e0fd22356f6",
   "metadata": {
    "tags": []
   },
   "outputs": [
    {
     "name": "stdout",
     "output_type": "stream",
     "text": [
      "이\n"
     ]
    },
    {
     "data": {
      "text/plain": [
       "[None]"
      ]
     },
     "execution_count": 10,
     "metadata": {},
     "output_type": "execute_result"
    }
   ],
   "source": [
    "[ print(\"이\") for n in [1,2,3]  if n == 2 ]        "
   ]
  },
  {
   "cell_type": "markdown",
   "id": "555de214-3201-419e-8b15-27ce634eb2b0",
   "metadata": {},
   "source": [
    "# for + if else"
   ]
  },
  {
   "cell_type": "markdown",
   "id": "19170ba8-226d-4f18-abec-55231109a6bf",
   "metadata": {},
   "source": [
    "<pre><font size=2><b>\n",
    "for n in [1,2,3] :\n",
    "    if n == 2:\n",
    "        print(\"이\")\n",
    "    else:\n",
    "        print(\"그외\")\n",
    "</b></font>    \n",
    "[ 덩어리 for n in [1,2,3]  ]\n",
    "한번더...\n",
    "\n",
    "덩어리는 아래 문법\n",
    "    if n == 2:\n",
    "        print(\"이\")\n",
    "    else:\n",
    "        print(\"그외\")\n",
    "이걸 한줄 표현        \n",
    "        print(\"이\") if n == 2 else print(\"그외\")\n",
    "    \n",
    "즉..\n",
    "[ (덩어리)                                   for n in [1,2,3]  ]\n",
    "[ (print(\"이\") if n == 2 else print(\"그외\")) for n in [1,2,3]  ]"
   ]
  },
  {
   "cell_type": "code",
   "execution_count": 11,
   "id": "43dcf9f5-0aa4-4423-a85e-f8f8a54b6149",
   "metadata": {
    "tags": []
   },
   "outputs": [
    {
     "name": "stdout",
     "output_type": "stream",
     "text": [
      "그외\n",
      "이\n",
      "그외\n"
     ]
    }
   ],
   "source": [
    "for n in [1,2,3] :\n",
    "    if n == 2:\n",
    "        print(\"이\")\n",
    "    else:\n",
    "        print(\"그외\")"
   ]
  },
  {
   "cell_type": "code",
   "execution_count": 12,
   "id": "e297ff51-0135-48d4-b697-445bbad9e9be",
   "metadata": {
    "tags": []
   },
   "outputs": [
    {
     "name": "stdout",
     "output_type": "stream",
     "text": [
      "그외\n",
      "이\n",
      "그외\n"
     ]
    },
    {
     "data": {
      "text/plain": [
       "[None, None, None]"
      ]
     },
     "execution_count": 12,
     "metadata": {},
     "output_type": "execute_result"
    }
   ],
   "source": [
    "[ print(\"이\") if n == 2 else print(\"그외\") for n in [1,2,3] ]"
   ]
  },
  {
   "cell_type": "markdown",
   "id": "b14c9c58-c684-4ba3-85b0-9a0918504d5b",
   "metadata": {},
   "source": [
    "# ★람다(lambda)\n",
    "* <font size=4 color=red><b> (lambda 파라미터 : 표현식)</b></font>\n",
    "* 이름없는 1회성 사용 함수 , 한줄표현식으로 표현\n",
    "* 사용예  <br>\n",
    "\n",
    "<pre>\n",
    "<font size=2><b> (lambda a,b : a+b) (5,7)\n",
    "\n",
    "<font size=2><b> aaa= (lambda a,b : a+b)    \n",
    " aaa (5,7)\n",
    "    "
   ]
  },
  {
   "cell_type": "code",
   "execution_count": 13,
   "id": "0c12f670-aa06-4fdf-afaa-e06a1dcf07d3",
   "metadata": {
    "tags": []
   },
   "outputs": [
    {
     "data": {
      "text/plain": [
       "9"
      ]
     },
     "execution_count": 13,
     "metadata": {},
     "output_type": "execute_result"
    }
   ],
   "source": [
    "def add(a, b):\n",
    "    return a+b\n",
    "\n",
    "add(4,5)"
   ]
  },
  {
   "cell_type": "code",
   "execution_count": 14,
   "id": "8f09ecb5-970d-4f8a-80fa-776450abf94b",
   "metadata": {
    "tags": []
   },
   "outputs": [
    {
     "data": {
      "text/plain": [
       "<function __main__.<lambda>(a, b)>"
      ]
     },
     "execution_count": 14,
     "metadata": {},
     "output_type": "execute_result"
    }
   ],
   "source": [
    "aaa = (lambda a,b : a+b)\n",
    "aaa"
   ]
  },
  {
   "cell_type": "code",
   "execution_count": 15,
   "id": "df8f901d-27b3-4f82-8acb-b8d744723735",
   "metadata": {
    "tags": []
   },
   "outputs": [
    {
     "data": {
      "text/plain": [
       "12"
      ]
     },
     "execution_count": 15,
     "metadata": {},
     "output_type": "execute_result"
    }
   ],
   "source": [
    "aaa(5,7)"
   ]
  },
  {
   "cell_type": "code",
   "execution_count": 16,
   "id": "0342153e-6256-45be-9694-57d5dc1f3ba6",
   "metadata": {
    "tags": []
   },
   "outputs": [
    {
     "data": {
      "text/plain": [
       "12"
      ]
     },
     "execution_count": 16,
     "metadata": {},
     "output_type": "execute_result"
    }
   ],
   "source": [
    "(lambda a,b : a+b) (5,7)"
   ]
  },
  {
   "cell_type": "markdown",
   "id": "6627009b-c449-4c5e-a89e-6d03a84152f9",
   "metadata": {},
   "source": [
    "* 람다 사용 예 - 1"
   ]
  },
  {
   "cell_type": "code",
   "execution_count": 17,
   "id": "2c50bfb1-6ee7-456a-b882-620aaff34371",
   "metadata": {
    "tags": []
   },
   "outputs": [
    {
     "data": {
      "text/plain": [
       "'0'"
      ]
     },
     "execution_count": 17,
     "metadata": {},
     "output_type": "execute_result"
    }
   ],
   "source": [
    "def score_check함수명(score) :\n",
    "    if score > 90:\n",
    "        return '1'\n",
    "    else : \n",
    "        return '0'\n",
    "score_check함수명(70)    "
   ]
  },
  {
   "cell_type": "code",
   "execution_count": 18,
   "id": "a35a22ad-93a3-4be3-9438-9b5a1dca4f20",
   "metadata": {
    "tags": []
   },
   "outputs": [
    {
     "data": {
      "text/plain": [
       "'1'"
      ]
     },
     "execution_count": 18,
     "metadata": {},
     "output_type": "execute_result"
    }
   ],
   "source": [
    "# lambda score : __________________\n",
    "\n",
    "(lambda score : '1' if score > 90 else '0') (100)"
   ]
  },
  {
   "cell_type": "code",
   "execution_count": 19,
   "id": "a20082ab-cb0d-4282-ae1f-8477fb899bc2",
   "metadata": {
    "tags": []
   },
   "outputs": [
    {
     "data": {
      "text/plain": [
       "'0'"
      ]
     },
     "execution_count": 19,
     "metadata": {},
     "output_type": "execute_result"
    }
   ],
   "source": [
    "score_check_변수명 = (lambda score : '1' if score > 90 else '0')\n",
    "score_check_변수명 (80)"
   ]
  },
  {
   "cell_type": "markdown",
   "id": "aaea6af4-47e3-4d9e-a3bc-37f12b3f9c44",
   "metadata": {},
   "source": [
    "* 람다 사용 예 - 2"
   ]
  },
  {
   "cell_type": "code",
   "execution_count": 20,
   "id": "5c03e172-0594-4ac6-b145-5370d97910d4",
   "metadata": {
    "tags": []
   },
   "outputs": [],
   "source": [
    "def score_check함수명(score) :\n",
    "    if score > 90:\n",
    "        return '1'\n",
    "    else : \n",
    "        return '0'"
   ]
  },
  {
   "cell_type": "code",
   "execution_count": 21,
   "id": "c610dd25-4596-4b0d-b86b-9d2b93ebbf36",
   "metadata": {
    "tags": []
   },
   "outputs": [
    {
     "data": {
      "text/plain": [
       "'1'"
      ]
     },
     "execution_count": 21,
     "metadata": {},
     "output_type": "execute_result"
    }
   ],
   "source": [
    "( lambda x : score_check함수명(x) ) (99)"
   ]
  },
  {
   "cell_type": "markdown",
   "id": "746eb7ea-b076-4901-be6d-3a082beef303",
   "metadata": {},
   "source": [
    "# map (lambda함수, 리스트)\n",
    "* list(   map (lambda함수, 리스트)  )"
   ]
  },
  {
   "cell_type": "code",
   "execution_count": 22,
   "id": "a8a75a80-8e4a-4431-aed5-04d236383ddc",
   "metadata": {
    "tags": []
   },
   "outputs": [
    {
     "data": {
      "text/plain": [
       "11"
      ]
     },
     "execution_count": 22,
     "metadata": {},
     "output_type": "execute_result"
    }
   ],
   "source": [
    "( lambda x : x+10 ) (1)"
   ]
  },
  {
   "cell_type": "code",
   "execution_count": 23,
   "id": "9893f397-c6d2-4470-b94d-b1d10e15f271",
   "metadata": {
    "tags": []
   },
   "outputs": [
    {
     "data": {
      "text/plain": [
       "11"
      ]
     },
     "execution_count": 23,
     "metadata": {},
     "output_type": "execute_result"
    }
   ],
   "source": [
    "aaa = ( lambda x : x+10 ) \n",
    "aaa(1)"
   ]
  },
  {
   "cell_type": "code",
   "execution_count": 24,
   "id": "03ed6594-c72c-4fc4-ac9f-e604572a44b2",
   "metadata": {
    "tags": []
   },
   "outputs": [
    {
     "data": {
      "text/plain": [
       "[11, 12, 13, 14]"
      ]
     },
     "execution_count": 24,
     "metadata": {},
     "output_type": "execute_result"
    }
   ],
   "source": [
    "list(   map( lambda x : x+10 ,  [1,2,3,4])      )"
   ]
  },
  {
   "cell_type": "code",
   "execution_count": 25,
   "id": "4cd01a50-38ba-4a0b-ade1-01f0fcb9b85d",
   "metadata": {
    "tags": []
   },
   "outputs": [
    {
     "data": {
      "text/plain": [
       "<map at 0x14fa5b17760>"
      ]
     },
     "execution_count": 25,
     "metadata": {},
     "output_type": "execute_result"
    }
   ],
   "source": [
    "MYMAP = map( lambda x : x+10 ,  [1,2,3,4]) \n",
    "MYMAP"
   ]
  },
  {
   "cell_type": "code",
   "execution_count": 26,
   "id": "ed486112-996f-44ec-8ace-541022a485cc",
   "metadata": {
    "tags": []
   },
   "outputs": [
    {
     "data": {
      "text/plain": [
       "[11, 12, 13, 14]"
      ]
     },
     "execution_count": 26,
     "metadata": {},
     "output_type": "execute_result"
    }
   ],
   "source": [
    "list( MYMAP )"
   ]
  },
  {
   "cell_type": "markdown",
   "id": "e506a818-9964-4f7f-a9f8-e2d0fd092eae",
   "metadata": {},
   "source": [
    "# QUIZ"
   ]
  },
  {
   "cell_type": "markdown",
   "id": "4b39f192-5d90-4c00-8f7e-023e226e5ee2",
   "metadata": {},
   "source": [
    "<pre>\n",
    "람다식을 사용해 다음 연락처 앞자리를 활용해 지역명을 출력하시오.\n",
    "tel_list = [\"02-222-3333\", \"032-222-3333\",\"032-222-3333\",\"031-222-3333\"]\n",
    "02  :  서울\n",
    "032 : 인천\n",
    "031 : 경기"
   ]
  },
  {
   "cell_type": "code",
   "execution_count": 27,
   "id": "c7c4dbe6-0bfe-46a6-9d25-ae82d9dd02b7",
   "metadata": {
    "tags": []
   },
   "outputs": [
    {
     "data": {
      "text/plain": [
       "['02-222-3333', '032-222-3333', '032-222-3333', '031-222-3333']"
      ]
     },
     "execution_count": 27,
     "metadata": {},
     "output_type": "execute_result"
    }
   ],
   "source": [
    "tel_list = [\"02-222-3333\", \"032-222-3333\",\"032-222-3333\",\"031-222-3333\"]\n",
    "tel_list"
   ]
  },
  {
   "cell_type": "markdown",
   "id": "727b3219-07b8-4275-b497-896d41d03b86",
   "metadata": {},
   "source": [
    "* 해결1 )  단순 함수 정의 후 호출"
   ]
  },
  {
   "cell_type": "code",
   "execution_count": 28,
   "id": "230b3a6c-f4ca-498a-a71d-99a67493214c",
   "metadata": {
    "tags": []
   },
   "outputs": [
    {
     "name": "stdout",
     "output_type": "stream",
     "text": [
      "02 서울\n",
      "032 인천\n",
      "032 인천\n",
      "031 경기\n"
     ]
    }
   ],
   "source": [
    "# (lambda x : x.split(\"-\") )\n",
    "def tel_check(tel_list) :\n",
    "    for tel in tel_list:\n",
    "        loc_tel = tel.split(\"-\")[0]\n",
    "        loc = \"그외\"\n",
    "        if loc_tel == '02' :\n",
    "            loc = \"서울\"\n",
    "        elif loc_tel == '032' :\n",
    "            loc = \"인천\"\n",
    "        elif loc_tel == '031' :\n",
    "            loc = \"경기\"\n",
    "        print(loc_tel, loc)\n",
    "tel_check([\"02-222-3333\", \"032-222-3333\",\"032-222-3333\",\"031-222-3333\"])   \n",
    "\n",
    "\n",
    "\n"
   ]
  },
  {
   "cell_type": "markdown",
   "id": "1b6173f9-8ccc-49ba-a696-fc293139aea0",
   "metadata": {},
   "source": [
    "* 해결2 )  람다 + 사용자정의함수\n",
    "* (lambda x : 사용자정의함수(x))"
   ]
  },
  {
   "cell_type": "code",
   "execution_count": 29,
   "id": "a996ce44-118c-4560-8bd7-d8dc002366a0",
   "metadata": {
    "tags": []
   },
   "outputs": [
    {
     "name": "stdout",
     "output_type": "stream",
     "text": [
      "02 서울\n",
      "032 인천\n",
      "032 인천\n",
      "031 경기\n"
     ]
    }
   ],
   "source": [
    "# (lambda x : x + 10) (10)\n",
    "prm_list = [\"02-222-3333\", \"032-222-3333\",\"032-222-3333\",\"031-222-3333\"]\n",
    "(lambda x : tel_check(x)  ) (prm_list) "
   ]
  },
  {
   "cell_type": "markdown",
   "id": "97c21ca6-ec67-4cd6-a3db-12c401d82c7f",
   "metadata": {},
   "source": [
    "* 해결3 )  list( map (lambda함수, 리스트) )"
   ]
  },
  {
   "cell_type": "code",
   "execution_count": 30,
   "id": "d038d111-d201-40a1-b6f5-c9b4d816fd5c",
   "metadata": {
    "tags": []
   },
   "outputs": [
    {
     "name": "stdout",
     "output_type": "stream",
     "text": [
      "[('서울', '02'), ('인천', '032'), ('인천', '032'), ('경기', '031')]\n"
     ]
    }
   ],
   "source": [
    "def tel_check(tel) :\n",
    "    loc_tel = tel.split(\"-\")[0]\n",
    "    loc = \"그외\"\n",
    "    if loc_tel == '02' :\n",
    "        loc = \"서울\"\n",
    "    elif loc_tel == '032' :\n",
    "        loc = \"인천\"\n",
    "    elif loc_tel == '031' :\n",
    "        loc = \"경기\"\n",
    "    return loc, loc_tel\n",
    "        \n",
    "prm_list = [\"02-222-3333\", \"032-222-3333\",\"032-222-3333\",\"031-222-3333\"]\n",
    "res = list (  map(  lambda prm : tel_check(prm) , prm_list )   )\n",
    "print(res)"
   ]
  },
  {
   "cell_type": "markdown",
   "id": "a82c581a-4dca-4d27-9f9f-577b140d399b",
   "metadata": {},
   "source": [
    "# Quiz : 1~100 합 출력"
   ]
  },
  {
   "cell_type": "markdown",
   "id": "c6c96369-19ec-44c0-a802-d05232a0b481",
   "metadata": {},
   "source": [
    "해결책1)"
   ]
  },
  {
   "cell_type": "code",
   "execution_count": 31,
   "id": "8e717f7d-f2cc-4e74-a910-7844f12cdd3d",
   "metadata": {
    "tags": []
   },
   "outputs": [
    {
     "name": "stdout",
     "output_type": "stream",
     "text": [
      "100\n"
     ]
    }
   ],
   "source": [
    "mysum = 0\n",
    "for n in range(1,101):\n",
    "    mysum  = mysum + 1\n",
    "print(mysum)"
   ]
  },
  {
   "cell_type": "markdown",
   "id": "4b968996-fd8b-4ba3-b369-274974942a48",
   "metadata": {},
   "source": [
    "해결책2)"
   ]
  },
  {
   "cell_type": "code",
   "execution_count": 32,
   "id": "bf0f71a3-fd13-4348-b90a-2f0afd4ea644",
   "metadata": {
    "tags": []
   },
   "outputs": [
    {
     "name": "stdout",
     "output_type": "stream",
     "text": [
      "5050\n"
     ]
    }
   ],
   "source": [
    "def cacl_sum():\n",
    "    mysum = 0\n",
    "    for n in range(1,101):\n",
    "        mysum  = mysum + n\n",
    "    print(mysum)\n",
    "cacl_sum()"
   ]
  },
  {
   "cell_type": "markdown",
   "id": "d64e5ff2-d77b-48bb-97ac-8fd39e7ec706",
   "metadata": {},
   "source": [
    "# 해결책3) by 영기"
   ]
  },
  {
   "cell_type": "code",
   "execution_count": 33,
   "id": "6ed7bfd0-f191-4c52-92c6-23e80ab869a0",
   "metadata": {
    "tags": []
   },
   "outputs": [
    {
     "name": "stdout",
     "output_type": "stream",
     "text": [
      "5050\n"
     ]
    }
   ],
   "source": [
    "def cacl_sum() :\n",
    "    mysum = 0\n",
    "    for n in range(1,101):\n",
    "        mysum  = mysum + n\n",
    "    print(mysum)\n",
    "\n",
    "(lambda x :  cacl_sum()) (\"아무값\")"
   ]
  },
  {
   "cell_type": "markdown",
   "id": "9388c624-3f3d-417c-9209-0a28e9d3822e",
   "metadata": {},
   "source": [
    "해결책4)"
   ]
  },
  {
   "cell_type": "code",
   "execution_count": 34,
   "id": "6738c1da-8908-4f27-adb0-965a115a71f9",
   "metadata": {
    "tags": []
   },
   "outputs": [
    {
     "data": {
      "text/plain": [
       "6"
      ]
     },
     "execution_count": 34,
     "metadata": {},
     "output_type": "execute_result"
    }
   ],
   "source": [
    "import numpy as np\n",
    "np.sum(  [1,2,3] )"
   ]
  },
  {
   "cell_type": "code",
   "execution_count": 39,
   "id": "fb7b2fcb-f1c9-4472-ac41-2151524af329",
   "metadata": {},
   "outputs": [
    {
     "data": {
      "text/plain": [
       "6"
      ]
     },
     "execution_count": 39,
     "metadata": {},
     "output_type": "execute_result"
    }
   ],
   "source": [
    "sum([1,2,3])  #python 내장 함수"
   ]
  },
  {
   "cell_type": "code",
   "execution_count": 41,
   "id": "eb85bbf7-2285-4f2f-980d-0c05146f670f",
   "metadata": {
    "tags": []
   },
   "outputs": [
    {
     "data": {
      "text/plain": [
       "5050"
      ]
     },
     "execution_count": 41,
     "metadata": {},
     "output_type": "execute_result"
    }
   ],
   "source": [
    "AA = (  lambda s,e : sum( range(s,e) )   )\n",
    "AA(1,101)"
   ]
  },
  {
   "cell_type": "code",
   "execution_count": 40,
   "id": "80b40903-f14d-4293-a4aa-a738a0f55325",
   "metadata": {
    "tags": []
   },
   "outputs": [
    {
     "data": {
      "text/plain": [
       "5050"
      ]
     },
     "execution_count": 40,
     "metadata": {},
     "output_type": "execute_result"
    }
   ],
   "source": [
    "AA = (  lambda x : sum( range(1,101) )   )\n",
    "AA('아무값')"
   ]
  },
  {
   "cell_type": "code",
   "execution_count": 42,
   "id": "4bfe25ca-5702-451a-bff8-1659d9381808",
   "metadata": {
    "tags": []
   },
   "outputs": [
    {
     "data": {
      "text/plain": [
       "5050"
      ]
     },
     "execution_count": 42,
     "metadata": {},
     "output_type": "execute_result"
    }
   ],
   "source": [
    "np.sum( [x for x in range(1,101)]  )"
   ]
  },
  {
   "cell_type": "markdown",
   "id": "248307a2-a2e3-4709-831b-362ee2e34098",
   "metadata": {},
   "source": [
    "* 해결책5) 가장 추천"
   ]
  },
  {
   "cell_type": "code",
   "execution_count": 43,
   "id": "9c7971e6-ae55-4078-84ba-7d41bfab7c52",
   "metadata": {
    "tags": []
   },
   "outputs": [
    {
     "data": {
      "text/plain": [
       "5050"
      ]
     },
     "execution_count": 43,
     "metadata": {},
     "output_type": "execute_result"
    }
   ],
   "source": [
    "np.sum( range(1,101)  )"
   ]
  },
  {
   "cell_type": "markdown",
   "id": "cdaadb2b-3b37-4dc9-90ca-668b2affd5fb",
   "metadata": {},
   "source": [
    "* 해결책6) reduce() 누적함수"
   ]
  },
  {
   "cell_type": "code",
   "execution_count": 53,
   "id": "bcf3e72a-4077-4a6d-8fb3-441175ae8239",
   "metadata": {
    "tags": []
   },
   "outputs": [
    {
     "data": {
      "text/plain": [
       "5050"
      ]
     },
     "execution_count": 53,
     "metadata": {},
     "output_type": "execute_result"
    }
   ],
   "source": [
    "from functools import reduce\n",
    "res = reduce ( (lambda s, n : s+n) ,  [n for n in range(1,101) ]  )  \n",
    "res"
   ]
  },
  {
   "cell_type": "code",
   "execution_count": null,
   "id": "58a98753-4d8b-4fed-88cb-bf85b7c73178",
   "metadata": {},
   "outputs": [],
   "source": []
  }
 ],
 "metadata": {
  "kernelspec": {
   "display_name": "Python 3 (ipykernel)",
   "language": "python",
   "name": "python3"
  },
  "language_info": {
   "codemirror_mode": {
    "name": "ipython",
    "version": 3
   },
   "file_extension": ".py",
   "mimetype": "text/x-python",
   "name": "python",
   "nbconvert_exporter": "python",
   "pygments_lexer": "ipython3",
   "version": "3.8.8"
  }
 },
 "nbformat": 4,
 "nbformat_minor": 5
}
