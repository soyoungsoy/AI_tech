{
 "cells": [
  {
   "cell_type": "markdown",
   "id": "44079d9b-3a17-4c7d-a869-86226801c3bb",
   "metadata": {
    "tags": []
   },
   "source": [
    "# 날짜 변환 처리"
   ]
  },
  {
   "cell_type": "markdown",
   "id": "6c5ae4c0-a3e5-4ae1-a560-e459d9c41be9",
   "metadata": {},
   "source": [
    "* to_date  \n",
    "* parse_dates=['']\n",
    "* astype('datetime64[ns]')"
   ]
  },
  {
   "cell_type": "markdown",
   "id": "22e8199f-ae15-4aa5-a863-56a9153067ec",
   "metadata": {},
   "source": [
    "# (class) date, datetime, time"
   ]
  },
  {
   "cell_type": "markdown",
   "id": "59f8d78d-2ed0-4d74-8c7e-b606b8b1fbb0",
   "metadata": {},
   "source": [
    "**from datetime.py import** 클래스  \n",
    "**datetime.py**에는 총 6개의 클래스가 존재한다.\n",
    "\n",
    "\n",
    "<pre><b>\n",
    "* class date: 년 월 일\n",
    "* class datetime(date): 년 월 일 시 분 초\n",
    "* class time: 시 분 초\n",
    "* class timedelta: 날짜 사이의 간격\n",
    "</b>\n",
    "* class tzinfo:\n",
    "* class timezone(tzinfo):\n",
    "</pre>"
   ]
  },
  {
   "cell_type": "code",
   "execution_count": 1,
   "id": "55f441a5-031e-43c0-bf31-4e298178b07c",
   "metadata": {
    "tags": []
   },
   "outputs": [],
   "source": [
    "# from datetime import datetime as dt \n",
    "#클래스는 일반적으로 별명을 사용하지 않는다. (상관은 없지만..)\n",
    "\n",
    "from datetime import datetime, date #소문자라 method 같지만, class 가져온 것이다. \n"
   ]
  },
  {
   "cell_type": "markdown",
   "id": "c0585ff7-6577-41a2-b60f-65d10210cb45",
   "metadata": {
    "tags": []
   },
   "source": [
    "#핑크색 : date class함수  \n",
    "#노란색 : python 내장함수\n",
    "\n",
    "<pre>\n",
    "-----------------------------------------------------------------------------------------\n",
    "    <b>DATE (년, 월, 일)               TIME(시,분,초)          DATETIME(년, 월, 일, 시, 분, 초)</b>\n",
    "-----------------------------------------------------------------------------------------\n",
    "date.today()                        XXXXXXXXXXXXXXX         datetime.now()\n",
    "-----------------------------------------------------------------------------------------\n",
    "date.fromtimestamp()                XXXXXXXXXXXXXXX         datetime.fromtimestamp()\n",
    "-----------------------------------------------------------------------------------------\n",
    "<b><font color = red>date.strftime()                     time.strftime()         datetime.strftime()   <b>날짜 => 글자</b>  \n",
    "                                                            datetime.strptime()★ </b><b>글자 => 날짜</b>\n",
    "-----------------------------------------------------------------------------------------\n",
    "<b><font color = blue>date.isoformat()                    time.isoformat()        datetime.isoformat()</b>          <b>날짜 => 글자</b> \n",
    "-----------------------------------------------------------------------------------------\n",
    "<b><font color = blue>date.fromisoformat()                time.fromisoformat()    datetime.fromisoformat()</b>      <b>글자 => 날짜</b>     \n",
    "-----------------------------------------------------------------------------------------\n",
    "                                                            datetime.date()\n",
    "                                                            datetime.time()\n",
    "                                                            datetime.timestamp()\n",
    "-----------------------------------------------------------------------------------------\n",
    "date.weekday()                      XXXXXXXXXXXXXXX         datetime.weekday()\n",
    "-----------------------------------------------------------------------------------------\n",
    "date.year                           XXXXXXXXXXXXXXX         datetime.year\n",
    "date.month                                                  datetime.month\n",
    "date.day                                                    datetime.day\n",
    "-----------------------------------------------------------------------------------------\n",
    "                                    time.hour               datetime.hour \n",
    "                                    time.minute             datetime.minute \n",
    "                                    time.second             datetime.second\n",
    "                                    time.microsecond  \n",
    "-----------------------------------------------------------------------------------------"
   ]
  },
  {
   "cell_type": "code",
   "execution_count": 2,
   "id": "c88d6f99-260d-4eb4-8442-2aa168f8faff",
   "metadata": {
    "tags": []
   },
   "outputs": [
    {
     "data": {
      "text/plain": [
       "(datetime.date(2023, 2, 16), datetime.date)"
      ]
     },
     "execution_count": 2,
     "metadata": {},
     "output_type": "execute_result"
    }
   ],
   "source": [
    "mytd = date.today(), type(date.today())\n",
    "mytd\n",
    "#글자처럼 나왔지만 글자인 것은 아님. 날짜 객채이다. 꺼내서 써야함."
   ]
  },
  {
   "cell_type": "markdown",
   "id": "8e108e1d-e0e8-47fd-b569-c4515b224eb3",
   "metadata": {},
   "source": [
    "# DATE (년 월 일)"
   ]
  },
  {
   "cell_type": "markdown",
   "id": "ccd86661-488b-4e44-8941-420e8b2da567",
   "metadata": {},
   "source": [
    "## 기타\n",
    "    - date.fromtimestamp(초 값)\n",
    "    = 1970년 1월 1일 기준으로 몇 초가 지났는지 알려주는 함수\n",
    "\n",
    "    - date.today().weekday()\n",
    "    = 정수로 요일을 반환하는 함수 (월요일은 0, 일요일은 6)\n",
    " "
   ]
  },
  {
   "cell_type": "code",
   "execution_count": 3,
   "id": "19007567-1318-48ce-b41b-51695ff27899",
   "metadata": {
    "tags": []
   },
   "outputs": [
    {
     "data": {
      "text/plain": [
       "datetime.date(2023, 1, 25)"
      ]
     },
     "execution_count": 3,
     "metadata": {},
     "output_type": "execute_result"
    }
   ],
   "source": [
    "date.fromtimestamp(1674587755)\n",
    "\n",
    "#1970,1,1 기준으로 몇초인지 세준다..? 16억초 지나면 해당 날짜이다."
   ]
  },
  {
   "cell_type": "markdown",
   "id": "194aa7e8-278e-419a-b9f2-acf3313ec810",
   "metadata": {},
   "source": [
    "* def weekday(self): self이기 때문에, 날짜 instance를 만들어 써라. 변수\n",
    "* 정수로 요일을 반환합니다. (월요일은 0, 일요일은 6)\n",
    "* date(2002,12,4).weekday()"
   ]
  },
  {
   "cell_type": "code",
   "execution_count": 4,
   "id": "6b690f75-1f5d-482d-85c8-f4f4031aac65",
   "metadata": {
    "tags": []
   },
   "outputs": [
    {
     "data": {
      "text/plain": [
       "3"
      ]
     },
     "execution_count": 4,
     "metadata": {},
     "output_type": "execute_result"
    }
   ],
   "source": [
    "date.today().weekday() #2 수요일"
   ]
  },
  {
   "cell_type": "code",
   "execution_count": 5,
   "id": "c62ec00d-5f4a-4683-81a2-f94633211444",
   "metadata": {
    "tags": []
   },
   "outputs": [
    {
     "data": {
      "text/plain": [
       "6"
      ]
     },
     "execution_count": 5,
     "metadata": {},
     "output_type": "execute_result"
    }
   ],
   "source": [
    "date(2022,12,25).weekday()\n",
    "\n",
    "# 221225 무슨 요일? = 일요일 6"
   ]
  },
  {
   "cell_type": "markdown",
   "id": "67f7c806-00ae-439d-80a4-e66423bfe63d",
   "metadata": {},
   "source": [
    "## 포맷 변경\n",
    " \n",
    " >date.fromisoformat(글자) : 글자 => 날짜 (기본포맷 有)  \n",
    " >date.today().strftime('%Y-%m-%d %H:%M:%S') : 글자 => 날짜(특정 포맷)\n",
    " \n",
    " >date.날짜.isoformat() : 날짜 => 글자\n",
    " \n",
    "* select to_char(sysdate, 'YYYY-MM-DD HH24:MI:SS') from dual = 오라클의 형식"
   ]
  },
  {
   "cell_type": "code",
   "execution_count": 6,
   "id": "11048543-c17d-4a32-9863-e417f20d5e9d",
   "metadata": {
    "tags": []
   },
   "outputs": [
    {
     "data": {
      "text/plain": [
       "'2023-02-16'"
      ]
     },
     "execution_count": 6,
     "metadata": {},
     "output_type": "execute_result"
    }
   ],
   "source": [
    "#날짜를 줘야한다..\n",
    "#해당 날짜를 무슨 포맷으로 바꿔줄까?\n",
    "\n",
    "date.today().strftime('%Y-%m-%d')"
   ]
  },
  {
   "cell_type": "markdown",
   "id": "59ef69b7-ca3a-4748-9f5a-de9c7973941f",
   "metadata": {},
   "source": [
    "**date.fromisoformat(글자)**\n",
    "> 글자를 날짜로 바꿔주는 ★★★★★★★★★★★★★★★"
   ]
  },
  {
   "cell_type": "code",
   "execution_count": 7,
   "id": "712b2bbf-0c84-4e04-b110-ef91c4193cd7",
   "metadata": {
    "tags": []
   },
   "outputs": [
    {
     "data": {
      "text/plain": [
       "datetime.date(2023, 2, 15)"
      ]
     },
     "execution_count": 7,
     "metadata": {},
     "output_type": "execute_result"
    }
   ],
   "source": [
    "date.fromisoformat('2023-02-15')\n",
    "\n",
    "#string(글자)을 넣어주면 날짜로 바꿔준다.★★★★★★★★★★★★"
   ]
  },
  {
   "cell_type": "markdown",
   "id": "78bb833f-fe2a-44a5-a978-5a46463520f3",
   "metadata": {},
   "source": [
    "**date.날짜.isoformat()**\n",
    "> 날짜를 글자로 바꿔주는 ★★★★★★★★★★★★★★★"
   ]
  },
  {
   "cell_type": "code",
   "execution_count": 8,
   "id": "b881910d-7572-45fa-803a-fb7a462769d7",
   "metadata": {
    "tags": []
   },
   "outputs": [
    {
     "data": {
      "text/plain": [
       "'2023-02-16'"
      ]
     },
     "execution_count": 8,
     "metadata": {},
     "output_type": "execute_result"
    }
   ],
   "source": [
    "date.today().isoformat()"
   ]
  },
  {
   "cell_type": "markdown",
   "id": "6e592736-7462-460c-a2f4-2acce99f5358",
   "metadata": {},
   "source": [
    "**year, month, day**"
   ]
  },
  {
   "cell_type": "code",
   "execution_count": 9,
   "id": "7e56742c-0605-4a55-a256-9796106a90f5",
   "metadata": {
    "tags": []
   },
   "outputs": [
    {
     "data": {
      "text/plain": [
       "2023"
      ]
     },
     "execution_count": 9,
     "metadata": {},
     "output_type": "execute_result"
    }
   ],
   "source": [
    "date.today().year   #년도 추출"
   ]
  },
  {
   "cell_type": "code",
   "execution_count": 10,
   "id": "2c2e6cdc-bea3-4449-b86f-ee412bfa0f75",
   "metadata": {
    "tags": []
   },
   "outputs": [
    {
     "data": {
      "text/plain": [
       "2"
      ]
     },
     "execution_count": 10,
     "metadata": {},
     "output_type": "execute_result"
    }
   ],
   "source": [
    "date.today().month   #월 추출"
   ]
  },
  {
   "cell_type": "code",
   "execution_count": 11,
   "id": "32e26bcb-b8d5-49da-a327-86e7a32b2451",
   "metadata": {
    "tags": []
   },
   "outputs": [
    {
     "data": {
      "text/plain": [
       "16"
      ]
     },
     "execution_count": 11,
     "metadata": {},
     "output_type": "execute_result"
    }
   ],
   "source": [
    "date.today().day    #일 추출"
   ]
  },
  {
   "cell_type": "markdown",
   "id": "85be076e-6be5-43f0-a24f-99b8e13b6c0b",
   "metadata": {},
   "source": [
    "---"
   ]
  },
  {
   "cell_type": "markdown",
   "id": "0ecf75c3-2023-464d-9154-f4d30b4a10ce",
   "metadata": {},
   "source": [
    "# Date Time (년 월 일 시 분 초)"
   ]
  },
  {
   "cell_type": "code",
   "execution_count": 12,
   "id": "84f17ea3-c3bb-4409-a59c-85962ffa77a4",
   "metadata": {
    "tags": []
   },
   "outputs": [
    {
     "data": {
      "text/plain": [
       "datetime.datetime(2023, 2, 16, 9, 24, 50, 715807)"
      ]
     },
     "execution_count": 12,
     "metadata": {},
     "output_type": "execute_result"
    }
   ],
   "source": [
    "datetime.now()\n",
    "\n",
    "#datetime.py에 있는 datetime클래스의(값,...)이다."
   ]
  },
  {
   "cell_type": "markdown",
   "id": "9948cb3e-85e3-48ad-b5a7-1a431284d2ab",
   "metadata": {},
   "source": [
    "## 오늘 날짜\n",
    "* date.today()\n",
    "* datetime.today(), datetime.now()"
   ]
  },
  {
   "cell_type": "code",
   "execution_count": 13,
   "id": "227090b8-dc60-43a0-801c-289a9057d938",
   "metadata": {
    "tags": []
   },
   "outputs": [
    {
     "data": {
      "text/plain": [
       "(2023, 2, 16, 9, 24, 50)"
      ]
     },
     "execution_count": 13,
     "metadata": {},
     "output_type": "execute_result"
    }
   ],
   "source": [
    "ss = datetime.now()\n",
    "ss.year , ss.month, ss.day, ss.hour, ss.minute, ss.second"
   ]
  },
  {
   "cell_type": "code",
   "execution_count": 14,
   "id": "0bcfc7c0-040a-48b2-8f77-54caaf3d6d38",
   "metadata": {
    "tags": []
   },
   "outputs": [
    {
     "data": {
      "text/plain": [
       "datetime.datetime(1984, 5, 29, 11, 47, 44)"
      ]
     },
     "execution_count": 14,
     "metadata": {},
     "output_type": "execute_result"
    }
   ],
   "source": [
    "datetime.fromtimestamp(454646864)\n",
    "\n",
    "#1970.1.1 기준 년월일 N초 지난 시분초 까지 보여줘라"
   ]
  },
  {
   "cell_type": "markdown",
   "id": "f813231a-1278-4173-a519-0049442928aa",
   "metadata": {},
   "source": [
    "**★날짜의 포맷 변경**\n",
    "> 날짜 => 글자\n",
    "\n",
    "* datetime.today().strftime('%Y-%m-%d %H:%M:%S')\n",
    "* select to_char(sysdate, 'YYYY-MM-DD HH24:MI:SS') from dual = 오라클의 형식"
   ]
  },
  {
   "cell_type": "code",
   "execution_count": 15,
   "id": "2b704ff5-fc89-4676-9112-0d013ea71137",
   "metadata": {
    "tags": []
   },
   "outputs": [
    {
     "data": {
      "text/plain": [
       "'2023-02-16 00:00:00'"
      ]
     },
     "execution_count": 15,
     "metadata": {},
     "output_type": "execute_result"
    }
   ],
   "source": [
    "date.today().strftime('%Y-%m-%d %H:%M:%S')\n",
    "\n",
    "#date는 시분초 안보여준다."
   ]
  },
  {
   "cell_type": "code",
   "execution_count": 16,
   "id": "abf65c28-d500-48c9-8b83-42de8e78449a",
   "metadata": {
    "tags": []
   },
   "outputs": [
    {
     "data": {
      "text/plain": [
       "'2023-02-16 09:24:50'"
      ]
     },
     "execution_count": 16,
     "metadata": {},
     "output_type": "execute_result"
    }
   ],
   "source": [
    "datetime.today().strftime('%Y-%m-%d %H:%M:%S')\n",
    "\n",
    "#포맷을 바꿔줘\n",
    "#datetime은 시분초까지 보여준다."
   ]
  },
  {
   "cell_type": "markdown",
   "id": "db0df8fa-4353-4b70-a88a-dffc8f6e7c46",
   "metadata": {},
   "source": [
    "**★글자의 포맷 변경**\n",
    ">**datetime.strptime()   \n",
    "글자 => 날짜 타입으로 변환**\n",
    "\n",
    "* datetime.today().strftime('%Y-%m-%d %H:%M:%S')\n",
    "* select to_date('2012-01-24', 'YYYY-MM-DD HH24:MI:SS') from dual = 오라클의 형식"
   ]
  },
  {
   "cell_type": "code",
   "execution_count": 17,
   "id": "c700bd2d-4383-4cab-8073-3a099aadf791",
   "metadata": {
    "tags": []
   },
   "outputs": [
    {
     "data": {
      "text/plain": [
       "datetime.datetime(2022, 12, 25, 0, 0)"
      ]
     },
     "execution_count": 17,
     "metadata": {},
     "output_type": "execute_result"
    }
   ],
   "source": [
    "datetime.strptime('2022-12-25','%Y-%m-%d')"
   ]
  },
  {
   "cell_type": "code",
   "execution_count": 18,
   "id": "1c015c13-ce1d-4b4e-9b92-9507f59e1dcf",
   "metadata": {
    "tags": []
   },
   "outputs": [
    {
     "data": {
      "text/plain": [
       "3"
      ]
     },
     "execution_count": 18,
     "metadata": {},
     "output_type": "execute_result"
    }
   ],
   "source": [
    "datetime.today().weekday()"
   ]
  },
  {
   "cell_type": "markdown",
   "id": "853f7f3d-a6d1-42bb-b54d-b5ada55804c4",
   "metadata": {},
   "source": [
    "**datetime.fromisoformat(글자)**\n",
    "> 글자를 날짜로 바꿔주는 ★★★★★★★★★★★★★★★"
   ]
  },
  {
   "cell_type": "code",
   "execution_count": 19,
   "id": "3c542968-3a31-426c-b47e-e5d37c808ba1",
   "metadata": {
    "tags": []
   },
   "outputs": [
    {
     "data": {
      "text/plain": [
       "datetime.datetime(2022, 12, 25, 22, 14, 30)"
      ]
     },
     "execution_count": 19,
     "metadata": {},
     "output_type": "execute_result"
    }
   ],
   "source": [
    "datetime.fromisoformat('2022-12-25 22:14:30')"
   ]
  },
  {
   "cell_type": "code",
   "execution_count": 20,
   "id": "9b19cb1a-5158-44f2-ac55-84b6d9684309",
   "metadata": {
    "tags": []
   },
   "outputs": [
    {
     "data": {
      "text/plain": [
       "datetime.datetime(2022, 12, 25, 0, 0)"
      ]
     },
     "execution_count": 20,
     "metadata": {},
     "output_type": "execute_result"
    }
   ],
   "source": [
    "datetime.fromisoformat('2022-12-25')\n",
    "\n",
    "#시분초 안쓰면 0으로"
   ]
  },
  {
   "cell_type": "markdown",
   "id": "414ab9f3-6e4b-4742-8bd9-b8efba1e073d",
   "metadata": {},
   "source": [
    "**datetime.날짜.isoformat()**\n",
    "> 날짜를 글자로 바꿔주는 ★★★★★★★★★★★★★★★"
   ]
  },
  {
   "cell_type": "code",
   "execution_count": 21,
   "id": "c390ec3d-aa1c-4c53-841f-3fe7220bed11",
   "metadata": {
    "tags": []
   },
   "outputs": [
    {
     "data": {
      "text/plain": [
       "'2023-02-16T09:24:50.857090'"
      ]
     },
     "execution_count": 21,
     "metadata": {},
     "output_type": "execute_result"
    }
   ],
   "source": [
    "datetime.today().isoformat()\n",
    "\n",
    "#날짜를 예쁜 글자로 바꿔준다."
   ]
  },
  {
   "cell_type": "code",
   "execution_count": 22,
   "id": "d3205da6-dee6-4244-a6e2-3bbb5156fb1c",
   "metadata": {
    "tags": []
   },
   "outputs": [
    {
     "data": {
      "text/plain": [
       "datetime.date(2023, 2, 16)"
      ]
     },
     "execution_count": 22,
     "metadata": {},
     "output_type": "execute_result"
    }
   ],
   "source": [
    "datetime.today().date()  \n"
   ]
  },
  {
   "cell_type": "code",
   "execution_count": 23,
   "id": "89068e3f-b129-4d87-9238-c837b1a8c402",
   "metadata": {
    "tags": []
   },
   "outputs": [
    {
     "data": {
      "text/plain": [
       "datetime.time(9, 24, 50, 891457)"
      ]
     },
     "execution_count": 23,
     "metadata": {},
     "output_type": "execute_result"
    }
   ],
   "source": [
    "datetime.today().time() "
   ]
  },
  {
   "cell_type": "code",
   "execution_count": 24,
   "id": "8a88b75e-6542-46c8-85d4-599ff44739cb",
   "metadata": {
    "tags": []
   },
   "outputs": [
    {
     "data": {
      "text/plain": [
       "1676507090.90766"
      ]
     },
     "execution_count": 24,
     "metadata": {},
     "output_type": "execute_result"
    }
   ],
   "source": [
    "datetime.today().timestamp()"
   ]
  },
  {
   "cell_type": "code",
   "execution_count": 25,
   "id": "5bccca41-9299-43f0-b348-abaad262f655",
   "metadata": {
    "tags": []
   },
   "outputs": [
    {
     "data": {
      "text/plain": [
       "2023"
      ]
     },
     "execution_count": 25,
     "metadata": {},
     "output_type": "execute_result"
    }
   ],
   "source": [
    "datetime.today().year "
   ]
  },
  {
   "cell_type": "code",
   "execution_count": 26,
   "id": "ccea29c8-a1ba-4457-aeac-7668585cce97",
   "metadata": {
    "tags": []
   },
   "outputs": [
    {
     "data": {
      "text/plain": [
       "2"
      ]
     },
     "execution_count": 26,
     "metadata": {},
     "output_type": "execute_result"
    }
   ],
   "source": [
    "datetime.today().month"
   ]
  },
  {
   "cell_type": "code",
   "execution_count": 27,
   "id": "d4d5a810-0bdd-4218-bf2f-fa35fb268ec0",
   "metadata": {
    "tags": []
   },
   "outputs": [
    {
     "data": {
      "text/plain": [
       "16"
      ]
     },
     "execution_count": 27,
     "metadata": {},
     "output_type": "execute_result"
    }
   ],
   "source": [
    "datetime.today().day"
   ]
  },
  {
   "cell_type": "code",
   "execution_count": 28,
   "id": "8fdf6a1a-0df6-4a6b-be3f-957c4514ad66",
   "metadata": {
    "tags": []
   },
   "outputs": [
    {
     "data": {
      "text/plain": [
       "9"
      ]
     },
     "execution_count": 28,
     "metadata": {},
     "output_type": "execute_result"
    }
   ],
   "source": [
    "datetime.today().hour"
   ]
  },
  {
   "cell_type": "code",
   "execution_count": 29,
   "id": "8ca14a14-3126-4cd8-9642-5d6936441f49",
   "metadata": {
    "tags": []
   },
   "outputs": [
    {
     "data": {
      "text/plain": [
       "24"
      ]
     },
     "execution_count": 29,
     "metadata": {},
     "output_type": "execute_result"
    }
   ],
   "source": [
    "datetime.today().minute  "
   ]
  },
  {
   "cell_type": "code",
   "execution_count": 30,
   "id": "dd37235b-1b55-4b34-b798-664342a8c21e",
   "metadata": {
    "tags": []
   },
   "outputs": [
    {
     "data": {
      "text/plain": [
       "51"
      ]
     },
     "execution_count": 30,
     "metadata": {},
     "output_type": "execute_result"
    }
   ],
   "source": [
    "datetime.today().second"
   ]
  },
  {
   "cell_type": "markdown",
   "id": "e10ff6ba-682f-4f6a-ad35-e793958cbf8b",
   "metadata": {
    "tags": []
   },
   "source": [
    "# (class) Time"
   ]
  },
  {
   "cell_type": "markdown",
   "id": "fa655042-acfe-4cd0-9f82-801db5873c5c",
   "metadata": {},
   "source": [
    "이하 동문 : 시 분 초 적용 모두 같다"
   ]
  },
  {
   "cell_type": "markdown",
   "id": "4e2a0fad-e3c0-40d3-8cb2-e0d4bfba62bf",
   "metadata": {},
   "source": [
    "# Timedelta : 간격, 가감산"
   ]
  },
  {
   "cell_type": "markdown",
   "id": "3fc4b95d-0898-478f-960e-4f3fb8205aac",
   "metadata": {},
   "source": [
    ">timedelta(days=0, seconds=0, microseconds=0,milliseconds=0, minutes=0, hours=0, weeks=0)"
   ]
  },
  {
   "cell_type": "code",
   "execution_count": 31,
   "id": "ccf37428-f4bc-4503-995c-73e84966b52e",
   "metadata": {
    "tags": []
   },
   "outputs": [],
   "source": [
    "from datetime import timedelta, date, datetime\n",
    "\n",
    "next_day = timedelta(days = 3)\n",
    "next_week = timedelta(weeks = 1)\n",
    "next_hours = timedelta(hours = 1)"
   ]
  },
  {
   "cell_type": "code",
   "execution_count": 32,
   "id": "201bc36a-da4b-45e5-b59c-ac4df1774e15",
   "metadata": {
    "tags": []
   },
   "outputs": [
    {
     "data": {
      "text/plain": [
       "datetime.date(2023, 2, 19)"
      ]
     },
     "execution_count": 32,
     "metadata": {},
     "output_type": "execute_result"
    }
   ],
   "source": [
    "date.today() + next_day"
   ]
  },
  {
   "cell_type": "code",
   "execution_count": 33,
   "id": "e461e616-7f3a-493d-ad6e-46bb8f847cdf",
   "metadata": {
    "tags": []
   },
   "outputs": [
    {
     "data": {
      "text/plain": [
       "datetime.date(2023, 2, 23)"
      ]
     },
     "execution_count": 33,
     "metadata": {},
     "output_type": "execute_result"
    }
   ],
   "source": [
    "date.today() + next_week"
   ]
  },
  {
   "cell_type": "code",
   "execution_count": 34,
   "id": "ca183a0d-fb47-4dee-8cc2-dae05ecb905a",
   "metadata": {
    "tags": []
   },
   "outputs": [
    {
     "data": {
      "text/plain": [
       "datetime.date(2023, 2, 16)"
      ]
     },
     "execution_count": 34,
     "metadata": {},
     "output_type": "execute_result"
    }
   ],
   "source": [
    "date.today() + next_hours"
   ]
  },
  {
   "cell_type": "code",
   "execution_count": 35,
   "id": "79ec117f-292d-434a-bbd0-7231227e4450",
   "metadata": {},
   "outputs": [
    {
     "ename": "AttributeError",
     "evalue": "type object 'datetime.timedelta' has no attribute 'day'",
     "output_type": "error",
     "traceback": [
      "\u001b[1;31m---------------------------------------------------------------------------\u001b[0m",
      "\u001b[1;31mAttributeError\u001b[0m                            Traceback (most recent call last)",
      "Cell \u001b[1;32mIn[35], line 1\u001b[0m\n\u001b[1;32m----> 1\u001b[0m \u001b[43mtimedelta\u001b[49m\u001b[38;5;241;43m.\u001b[39;49m\u001b[43mday\u001b[49m\n",
      "\u001b[1;31mAttributeError\u001b[0m: type object 'datetime.timedelta' has no attribute 'day'"
     ]
    }
   ],
   "source": [
    "timedelta.day"
   ]
  },
  {
   "cell_type": "code",
   "execution_count": null,
   "id": "90f7d839-33cc-40dd-a9b9-bed377b23e6d",
   "metadata": {},
   "outputs": [],
   "source": [
    "timedelta.seconds"
   ]
  },
  {
   "cell_type": "code",
   "execution_count": null,
   "id": "abb500e6-5f65-4bcc-90d1-6dfb40d15011",
   "metadata": {},
   "outputs": [],
   "source": [
    "timedelta.microseconds"
   ]
  },
  {
   "cell_type": "markdown",
   "id": "64a78634-bfc8-4a58-a61c-e19573ae8bd8",
   "metadata": {},
   "source": [
    "# 번외"
   ]
  },
  {
   "cell_type": "code",
   "execution_count": null,
   "id": "db795b38-6bb1-4555-8395-f5c91c1958a2",
   "metadata": {
    "tags": []
   },
   "outputs": [],
   "source": [
    "from dateutil.relativedelta import relativedelta\n",
    "from datetime import datetime"
   ]
  },
  {
   "cell_type": "markdown",
   "id": "bafecec3-a4b5-479b-8dd0-0c798732cfda",
   "metadata": {},
   "source": [
    " **relativedelta(클래스)**\n",
    "\n",
    "<pre>\n",
    "\n",
    "dt1=None, dt2=None,\n",
    "                 years=0, months=0, days=0, leapdays=0, weeks=0,\n",
    "                 hours=0, minutes=0, seconds=0, microseconds=0,\n",
    "                 year=None, month=None, day=None, weekday=None,\n",
    "                 yearday=None, nlyearday=None,\n",
    "                 hour=None, minute=None, second=None, microsecond=None\n",
    "                 \n",
    "                 </pre>"
   ]
  },
  {
   "cell_type": "markdown",
   "id": "bcf81fc2-ba3a-4510-9279-7a509469f735",
   "metadata": {},
   "source": [
    "## 날짜 간격"
   ]
  },
  {
   "cell_type": "code",
   "execution_count": null,
   "id": "b26b39b6-a1f2-44e9-8697-e09c5f3f5295",
   "metadata": {
    "tags": []
   },
   "outputs": [],
   "source": [
    "dt1 = datetime.today()\n",
    "dt2 = datetime(2020,12,13)\n",
    "dt1, dt2"
   ]
  },
  {
   "cell_type": "code",
   "execution_count": null,
   "id": "cf80c5cf-4a26-410e-b7a7-38d84b87a8cc",
   "metadata": {
    "tags": []
   },
   "outputs": [],
   "source": [
    "relativedelta(dt1, dt2)\n",
    "\n",
    "#간격을 보여주고 있다."
   ]
  },
  {
   "cell_type": "markdown",
   "id": "9b95b7a4-a42a-43a1-aea9-453a4882a907",
   "metadata": {},
   "source": [
    "## 날짜 연산"
   ]
  },
  {
   "cell_type": "code",
   "execution_count": null,
   "id": "49284ecf-2864-4f53-a743-b4bc0b632b73",
   "metadata": {
    "tags": []
   },
   "outputs": [],
   "source": [
    "next_day = relativedelta(days=10)"
   ]
  },
  {
   "cell_type": "code",
   "execution_count": null,
   "id": "1f88800f-f95d-4625-87d1-a4cc20faf41e",
   "metadata": {
    "tags": []
   },
   "outputs": [],
   "source": [
    "dt1 + next_day\n",
    "\n",
    "#day가 +10이 되었다."
   ]
  },
  {
   "cell_type": "code",
   "execution_count": null,
   "id": "acd5eaa8-76e7-456d-9795-213bca6ab65d",
   "metadata": {
    "tags": []
   },
   "outputs": [],
   "source": [
    "next_month = relativedelta(month=3)\n",
    "dt1 + next_month\n",
    "\n",
    "#month가 +1이 되었다."
   ]
  },
  {
   "cell_type": "code",
   "execution_count": null,
   "id": "7f285f64-5e6c-4f85-b589-c5f4bc5e0fd5",
   "metadata": {},
   "outputs": [],
   "source": []
  }
 ],
 "metadata": {
  "kernelspec": {
   "display_name": "Python 3 (ipykernel)",
   "language": "python",
   "name": "python3"
  },
  "language_info": {
   "codemirror_mode": {
    "name": "ipython",
    "version": 3
   },
   "file_extension": ".py",
   "mimetype": "text/x-python",
   "name": "python",
   "nbconvert_exporter": "python",
   "pygments_lexer": "ipython3",
   "version": "3.8.8"
  }
 },
 "nbformat": 4,
 "nbformat_minor": 5
}
