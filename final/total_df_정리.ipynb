{
 "cells": [
  {
   "cell_type": "code",
   "execution_count": 1,
   "id": "45458903-35c6-4861-ac2e-1156bc8a0d49",
   "metadata": {
    "tags": []
   },
   "outputs": [],
   "source": [
    "import pandas as pd\n",
    "import numpy as np\n",
    "\n",
    "total_df=pd.read_csv('./datasets/체력측정및운동처방종합데이터.csv')"
   ]
  },
  {
   "cell_type": "code",
   "execution_count": 2,
   "id": "d178bb1e-a119-4816-b308-7cba885a1f2f",
   "metadata": {
    "tags": []
   },
   "outputs": [],
   "source": [
    "total_df=total_df[['회원일련번호값', '측정일련번호', '센터명', '연령대구분명', '측정장소구분명', '측정연령수', '입력구분명',\n",
    "       '인증구분명', '측정일자', '성별구분코드', '신장(cm)', '체중(kg)', '체지방율(%)', '허리둘레(cm)',\n",
    "       'BMI(kg/㎡)', '상대악력(%)', '교차윗몸일으키기(회)', '반복점프(회)', '왕복오래달리기(회)',\n",
    "       '트레드밀출력(VO₂max)', '스텝검사출력(VO₂max)', '앉아윗몸앞으로굽히기(cm)', '10M_4회_왕복달리기(초)',\n",
    "       '전신반응(초)', '제자리멀리뛰기(cm)', '성인체공시간(초)', '운동처방내용']]"
   ]
  },
  {
   "cell_type": "code",
   "execution_count": 3,
   "id": "3b9214e3-bea9-4321-917e-dc38011e8183",
   "metadata": {
    "tags": []
   },
   "outputs": [
    {
     "data": {
      "text/plain": [
       "(339168, 27)"
      ]
     },
     "execution_count": 3,
     "metadata": {},
     "output_type": "execute_result"
    }
   ],
   "source": [
    "total_df=total_df[(total_df['측정연령수']>=19)&(total_df['측정연령수']<=39)]\n",
    "total_df.shape"
   ]
  },
  {
   "cell_type": "code",
   "execution_count": 4,
   "id": "69a5b40d-c5ab-4068-a8c5-6c2fb8de97f2",
   "metadata": {
    "tags": []
   },
   "outputs": [
    {
     "data": {
      "text/plain": [
       "19.0    59076\n",
       "20.0    39356\n",
       "21.0    26886\n",
       "22.0    24007\n",
       "23.0    21253\n",
       "24.0    18935\n",
       "25.0    16320\n",
       "26.0    14645\n",
       "27.0    13379\n",
       "28.0    11829\n",
       "29.0    10773\n",
       "30.0     9692\n",
       "31.0     8522\n",
       "32.0     8193\n",
       "33.0     7847\n",
       "34.0     7600\n",
       "35.0     7702\n",
       "36.0     8065\n",
       "37.0     8365\n",
       "38.0     8264\n",
       "39.0     8459\n",
       "Name: 측정연령수, dtype: int64"
      ]
     },
     "execution_count": 4,
     "metadata": {},
     "output_type": "execute_result"
    }
   ],
   "source": [
    "total_df['측정연령수'].value_counts().sort_index()"
   ]
  },
  {
   "cell_type": "markdown",
   "id": "639584c6-2ce0-4c78-a181-6a5b70b5cd80",
   "metadata": {},
   "source": [
    "# 인코딩"
   ]
  },
  {
   "cell_type": "code",
   "execution_count": 5,
   "id": "91e473a0-363a-40c6-9bcd-c2a642dcd4a3",
   "metadata": {
    "tags": []
   },
   "outputs": [],
   "source": [
    "total_df['성별구분코드']=total_df['성별구분코드'].transform(lambda x : x.replace(['M','F'],[0,1]))"
   ]
  },
  {
   "cell_type": "code",
   "execution_count": 6,
   "id": "b97cb50f-4df9-4043-be4a-b104c15ae473",
   "metadata": {
    "tags": []
   },
   "outputs": [
    {
     "data": {
      "text/plain": [
       "0    217356\n",
       "1    121812\n",
       "Name: 성별구분코드, dtype: int64"
      ]
     },
     "execution_count": 6,
     "metadata": {},
     "output_type": "execute_result"
    }
   ],
   "source": [
    "total_df['성별구분코드'].value_counts()"
   ]
  },
  {
   "cell_type": "markdown",
   "id": "c74e14f3-d110-48a7-9f0e-ca534d533307",
   "metadata": {},
   "source": [
    "# 나이 구간 나누기"
   ]
  },
  {
   "cell_type": "markdown",
   "id": "63eee8f9-31c9-442c-b9cc-d2491592e175",
   "metadata": {},
   "source": [
    "- 기존\n",
    "    - 19 ~ 23 : 20대 초반\n",
    "    - 24 ~ 28 : 20대 후반\n",
    "    - 29 ~ 34 : 30대 초반\n",
    "    - 35 ~ 38 : 30대 후반"
   ]
  },
  {
   "cell_type": "code",
   "execution_count": 7,
   "id": "5d5b0eb8-c02f-4de8-9e28-60288bcabe0c",
   "metadata": {
    "tags": []
   },
   "outputs": [
    {
     "data": {
      "text/html": [
       "<div>\n",
       "<style scoped>\n",
       "    .dataframe tbody tr th:only-of-type {\n",
       "        vertical-align: middle;\n",
       "    }\n",
       "\n",
       "    .dataframe tbody tr th {\n",
       "        vertical-align: top;\n",
       "    }\n",
       "\n",
       "    .dataframe thead th {\n",
       "        text-align: right;\n",
       "    }\n",
       "</style>\n",
       "<table border=\"1\" class=\"dataframe\">\n",
       "  <thead>\n",
       "    <tr style=\"text-align: right;\">\n",
       "      <th></th>\n",
       "      <th>회원일련번호값</th>\n",
       "      <th>측정일자</th>\n",
       "      <th>측정일련번호</th>\n",
       "      <th>센터명</th>\n",
       "      <th>측정연령수</th>\n",
       "      <th>기존나이구간</th>\n",
       "      <th>추가나이구간</th>\n",
       "      <th>인증구분명</th>\n",
       "      <th>성별구분코드</th>\n",
       "      <th>신장(cm)</th>\n",
       "      <th>...</th>\n",
       "      <th>왕복오래달리기(회)</th>\n",
       "      <th>트레드밀출력(VO₂max)</th>\n",
       "      <th>스텝검사출력(VO₂max)</th>\n",
       "      <th>심폐지구력등급</th>\n",
       "      <th>앉아윗몸앞으로굽히기(cm)</th>\n",
       "      <th>10M_4회_왕복달리기(초)</th>\n",
       "      <th>전신반응(초)</th>\n",
       "      <th>제자리멀리뛰기(cm)</th>\n",
       "      <th>성인체공시간(초)</th>\n",
       "      <th>운동처방내용</th>\n",
       "    </tr>\n",
       "  </thead>\n",
       "  <tbody>\n",
       "    <tr>\n",
       "      <th>0</th>\n",
       "      <td>AAGk9GK43HgklFefTom9Stlm</td>\n",
       "      <td>20200707</td>\n",
       "      <td>1</td>\n",
       "      <td>KSPO송파(출장B)</td>\n",
       "      <td>34.0</td>\n",
       "      <td>30대초반</td>\n",
       "      <td>30대중반</td>\n",
       "      <td>참가증</td>\n",
       "      <td>0</td>\n",
       "      <td>180.0</td>\n",
       "      <td>...</td>\n",
       "      <td>0.0</td>\n",
       "      <td>0.0</td>\n",
       "      <td>42.3</td>\n",
       "      <td>good</td>\n",
       "      <td>2.7</td>\n",
       "      <td>10.7</td>\n",
       "      <td>0.0</td>\n",
       "      <td>239.0</td>\n",
       "      <td>0.0</td>\n",
       "      <td>요가 및 필라테스  루틴프로그램</td>\n",
       "    </tr>\n",
       "  </tbody>\n",
       "</table>\n",
       "<p>1 rows × 29 columns</p>\n",
       "</div>"
      ],
      "text/plain": [
       "                    회원일련번호값      측정일자  측정일련번호          센터명  측정연령수 기존나이구간  \\\n",
       "0  AAGk9GK43HgklFefTom9Stlm  20200707       1  KSPO송파(출장B)   34.0  30대초반   \n",
       "\n",
       "  추가나이구간 인증구분명  성별구분코드  신장(cm)  ...  왕복오래달리기(회)  트레드밀출력(VO₂max)  \\\n",
       "0  30대중반   참가증       0   180.0  ...         0.0             0.0   \n",
       "\n",
       "   스텝검사출력(VO₂max)  심폐지구력등급 앉아윗몸앞으로굽히기(cm) 10M_4회_왕복달리기(초)  전신반응(초)  \\\n",
       "0            42.3     good            2.7            10.7      0.0   \n",
       "\n",
       "   제자리멀리뛰기(cm)  성인체공시간(초)             운동처방내용  \n",
       "0        239.0        0.0  요가 및 필라테스  루틴프로그램  \n",
       "\n",
       "[1 rows x 29 columns]"
      ]
     },
     "execution_count": 7,
     "metadata": {},
     "output_type": "execute_result"
    }
   ],
   "source": [
    "송파df2030=pd.read_csv('./datasets/송파df2030.csv')\n",
    "송파df2030.head(1)"
   ]
  },
  {
   "cell_type": "code",
   "execution_count": 8,
   "id": "c44993d7-8848-49cd-b685-049c78cb6146",
   "metadata": {
    "tags": []
   },
   "outputs": [
    {
     "name": "stderr",
     "output_type": "stream",
     "text": [
      "C:\\Users\\ASIA\\AppData\\Local\\Temp\\ipykernel_15956\\672959509.py:6: SettingWithCopyWarning: \n",
      "A value is trying to be set on a copy of a slice from a DataFrame\n",
      "\n",
      "See the caveats in the documentation: https://pandas.pydata.org/pandas-docs/stable/user_guide/indexing.html#returning-a-view-versus-a-copy\n",
      "  송파df2030['기존나이구간'].iloc[i] = '30대초반'\n"
     ]
    }
   ],
   "source": [
    "# 송파df\n",
    "\n",
    "송파df2030['기존나이구간'] = 0\n",
    "for i in range(len(송파df2030)):\n",
    "    if 송파df2030['측정연령수'].iloc[i] >= 30.0 and 송파df2030['측정연령수'].iloc[i] < 35.0 :\n",
    "        송파df2030['기존나이구간'].iloc[i] = '30대초반'\n",
    "    \n",
    "    if 송파df2030['측정연령수'].iloc[i] >= 35.0 and 송파df2030['측정연령수'].iloc[i]<40.0 :\n",
    "        송파df2030['기존나이구간'].iloc[i] = '30대후반'\n",
    "        \n",
    "    if 송파df2030['측정연령수'].iloc[i] >= 19.0 and 송파df2030['측정연령수'].iloc[i] < 25.0 :\n",
    "        송파df2030['기존나이구간'].iloc[i] = '20대초반'\n",
    "    \n",
    "    if 송파df2030['측정연령수'].iloc[i] >= 25.0 and 송파df2030['측정연령수'].iloc[i]<30.0 :\n",
    "        송파df2030['기존나이구간'].iloc[i] = '20대후반'"
   ]
  },
  {
   "cell_type": "code",
   "execution_count": 9,
   "id": "dc979d30-8d82-4c2a-ab64-e06d8a87fd38",
   "metadata": {
    "tags": []
   },
   "outputs": [
    {
     "data": {
      "text/plain": [
       "20대초반    10786\n",
       "20대후반     6051\n",
       "30대초반     4193\n",
       "30대후반     3010\n",
       "Name: 기존나이구간, dtype: int64"
      ]
     },
     "execution_count": 9,
     "metadata": {},
     "output_type": "execute_result"
    }
   ],
   "source": [
    "송파df2030['기존나이구간'].value_counts()"
   ]
  },
  {
   "cell_type": "code",
   "execution_count": 10,
   "id": "a6c48088-0ca6-4966-aa45-74e66430e6ae",
   "metadata": {
    "tags": []
   },
   "outputs": [
    {
     "name": "stderr",
     "output_type": "stream",
     "text": [
      "C:\\Users\\ASIA\\AppData\\Local\\Temp\\ipykernel_15956\\589169962.py:13: SettingWithCopyWarning: \n",
      "A value is trying to be set on a copy of a slice from a DataFrame\n",
      "\n",
      "See the caveats in the documentation: https://pandas.pydata.org/pandas-docs/stable/user_guide/indexing.html#returning-a-view-versus-a-copy\n",
      "  total_df['기존나이구간'].iloc[i] = '20대후반'\n"
     ]
    }
   ],
   "source": [
    "total_df['기존나이구간'] = 0\n",
    "for i in range(len(total_df)):\n",
    "    if total_df['측정연령수'].iloc[i] >= 30.0 and total_df['측정연령수'].iloc[i] < 35.0 :\n",
    "        total_df['기존나이구간'].iloc[i] = '30대초반'\n",
    "    \n",
    "    if total_df['측정연령수'].iloc[i] >= 35.0 and total_df['측정연령수'].iloc[i]<40.0 :\n",
    "        total_df['기존나이구간'].iloc[i] = '30대후반'\n",
    "        \n",
    "    if total_df['측정연령수'].iloc[i] >= 19.0 and total_df['측정연령수'].iloc[i] < 25.0 :\n",
    "        total_df['기존나이구간'].iloc[i] = '20대초반'\n",
    "    \n",
    "    if total_df['측정연령수'].iloc[i] >= 25.0 and total_df['측정연령수'].iloc[i]<30.0 :\n",
    "        total_df['기존나이구간'].iloc[i] = '20대후반'"
   ]
  },
  {
   "cell_type": "code",
   "execution_count": 11,
   "id": "babdcf24-994b-4e02-95dc-e70912304e8e",
   "metadata": {
    "tags": []
   },
   "outputs": [
    {
     "data": {
      "text/plain": [
       "20대초반    189513\n",
       "20대후반     66946\n",
       "30대초반     41854\n",
       "30대후반     40855\n",
       "Name: 기존나이구간, dtype: int64"
      ]
     },
     "execution_count": 11,
     "metadata": {},
     "output_type": "execute_result"
    }
   ],
   "source": [
    "total_df['기존나이구간'].value_counts()"
   ]
  },
  {
   "cell_type": "markdown",
   "id": "5520d27b-4974-456c-be82-a5612d524b73",
   "metadata": {},
   "source": [
    "- 추가\n",
    "    - 19 ~ 22 : 20대 초반\n",
    "    - 23 ~ 26 : 20대 중반\n",
    "    - 27 ~ 29 : 20대 후반\n",
    "    - 30 ~ 32 : 30대 초반\n",
    "    - 33 ~ 36 : 30대 중반\n",
    "    - 37 ~ 39 : 30대 후반"
   ]
  },
  {
   "cell_type": "code",
   "execution_count": 12,
   "id": "c81df5f2-309f-44c6-b4ed-18c0b87cf634",
   "metadata": {
    "tags": []
   },
   "outputs": [
    {
     "name": "stderr",
     "output_type": "stream",
     "text": [
      "C:\\Users\\ASIA\\AppData\\Local\\Temp\\ipykernel_15956\\2855530061.py:6: SettingWithCopyWarning: \n",
      "A value is trying to be set on a copy of a slice from a DataFrame\n",
      "\n",
      "See the caveats in the documentation: https://pandas.pydata.org/pandas-docs/stable/user_guide/indexing.html#returning-a-view-versus-a-copy\n",
      "  송파df2030['추가나이구간'].iloc[i]='30대중반'\n"
     ]
    }
   ],
   "source": [
    "송파df2030['추가나이구간'] = 0\n",
    "for i in range(len(송파df2030)):\n",
    "    if 송파df2030['측정연령수'].iloc[i] >=30 and 송파df2030['측정연령수'].iloc[i]<=32:\n",
    "        송파df2030['추가나이구간'].iloc[i]='30대초반'\n",
    "    if 송파df2030['측정연령수'].iloc[i] >=33 and 송파df2030['측정연령수'].iloc[i]<=36:\n",
    "        송파df2030['추가나이구간'].iloc[i]='30대중반'\n",
    "    if 송파df2030['측정연령수'].iloc[i] >=37 and 송파df2030['측정연령수'].iloc[i]<=39:\n",
    "        송파df2030['추가나이구간'].iloc[i]='30대후반'\n",
    "        \n",
    "        \n",
    "    if 송파df2030['측정연령수'].iloc[i] >=19 and 송파df2030['측정연령수'].iloc[i]<=22:\n",
    "        송파df2030['추가나이구간'].iloc[i]='20대초반'\n",
    "    if 송파df2030['측정연령수'].iloc[i] >=23 and 송파df2030['측정연령수'].iloc[i]<=26:\n",
    "        송파df2030['추가나이구간'].iloc[i]='20대중반'\n",
    "    if 송파df2030['측정연령수'].iloc[i] >=27 and 송파df2030['측정연령수'].iloc[i]<=29:\n",
    "        송파df2030['추가나이구간'].iloc[i]='20대후반'"
   ]
  },
  {
   "cell_type": "code",
   "execution_count": 13,
   "id": "2b62be5e-1f4c-43be-b555-a431d2ba9fe6",
   "metadata": {
    "tags": []
   },
   "outputs": [
    {
     "data": {
      "text/plain": [
       "20대초반    8205\n",
       "20대중반    5067\n",
       "20대후반    3565\n",
       "30대중반    3042\n",
       "30대초반    2664\n",
       "30대후반    1497\n",
       "Name: 추가나이구간, dtype: int64"
      ]
     },
     "execution_count": 13,
     "metadata": {},
     "output_type": "execute_result"
    }
   ],
   "source": [
    "송파df2030['추가나이구간'].value_counts()"
   ]
  },
  {
   "cell_type": "code",
   "execution_count": 14,
   "id": "b7a5be36-ed8e-4517-97ed-80070c66162a",
   "metadata": {
    "tags": []
   },
   "outputs": [
    {
     "name": "stderr",
     "output_type": "stream",
     "text": [
      "C:\\Users\\ASIA\\AppData\\Local\\Temp\\ipykernel_15956\\2463985244.py:14: SettingWithCopyWarning: \n",
      "A value is trying to be set on a copy of a slice from a DataFrame\n",
      "\n",
      "See the caveats in the documentation: https://pandas.pydata.org/pandas-docs/stable/user_guide/indexing.html#returning-a-view-versus-a-copy\n",
      "  total_df['추가나이구간'].iloc[i]='20대중반'\n"
     ]
    }
   ],
   "source": [
    "total_df['추가나이구간'] = 0\n",
    "for i in range(len(total_df)):\n",
    "    if total_df['측정연령수'].iloc[i] >=30 and total_df['측정연령수'].iloc[i]<=32:\n",
    "        total_df['추가나이구간'].iloc[i]='30대초반'\n",
    "    if total_df['측정연령수'].iloc[i] >=33 and total_df['측정연령수'].iloc[i]<=36:\n",
    "        total_df['추가나이구간'].iloc[i]='30대중반'\n",
    "    if total_df['측정연령수'].iloc[i] >=37 and total_df['측정연령수'].iloc[i]<=39:\n",
    "        total_df['추가나이구간'].iloc[i]='30대후반'\n",
    "        \n",
    "        \n",
    "    if total_df['측정연령수'].iloc[i] >=19 and total_df['측정연령수'].iloc[i]<=22:\n",
    "        total_df['추가나이구간'].iloc[i]='20대초반'\n",
    "    if total_df['측정연령수'].iloc[i] >=23 and total_df['측정연령수'].iloc[i]<=26:\n",
    "        total_df['추가나이구간'].iloc[i]='20대중반'\n",
    "    if total_df['측정연령수'].iloc[i] >=27 and total_df['측정연령수'].iloc[i]<=29:\n",
    "        total_df['추가나이구간'].iloc[i]='20대후반'"
   ]
  },
  {
   "cell_type": "code",
   "execution_count": 15,
   "id": "d46083d9-5320-44b6-ac27-a5e44136105b",
   "metadata": {
    "tags": []
   },
   "outputs": [
    {
     "data": {
      "text/plain": [
       "20대초반    149325\n",
       "20대중반     71153\n",
       "20대후반     35981\n",
       "30대중반     31214\n",
       "30대초반     26407\n",
       "30대후반     25088\n",
       "Name: 추가나이구간, dtype: int64"
      ]
     },
     "execution_count": 15,
     "metadata": {},
     "output_type": "execute_result"
    }
   ],
   "source": [
    "total_df['추가나이구간'].value_counts()"
   ]
  },
  {
   "cell_type": "code",
   "execution_count": null,
   "id": "cfa500e4-facc-4b75-8a07-22bf2c8fe354",
   "metadata": {},
   "outputs": [],
   "source": []
  },
  {
   "cell_type": "markdown",
   "id": "7148e0e5-5cc3-46c4-ab79-473c1017b7e6",
   "metadata": {},
   "source": [
    "## BMI"
   ]
  },
  {
   "cell_type": "code",
   "execution_count": 16,
   "id": "118ef610-a58c-4cca-93db-a664f732e017",
   "metadata": {
    "tags": []
   },
   "outputs": [
    {
     "name": "stderr",
     "output_type": "stream",
     "text": [
      "C:\\Users\\ASIA\\AppData\\Local\\Temp\\ipykernel_15956\\3355498748.py:9: SettingWithCopyWarning: \n",
      "A value is trying to be set on a copy of a slice from a DataFrame\n",
      "\n",
      "See the caveats in the documentation: https://pandas.pydata.org/pandas-docs/stable/user_guide/indexing.html#returning-a-view-versus-a-copy\n",
      "  total_df['BMI_판정'].iloc[i]='비만전단계'\n"
     ]
    }
   ],
   "source": [
    "total_df['BMI_판정']=0\n",
    "\n",
    "for i in range(len(total_df)):\n",
    "    if total_df['BMI(kg/㎡)'].iloc[i] < 18.5 :\n",
    "        total_df['BMI_판정'].iloc[i]='저체중'\n",
    "    if total_df['BMI(kg/㎡)'].iloc[i] >=18.5 and total_df['BMI(kg/㎡)'].iloc[i]<= 22.9:\n",
    "        total_df['BMI_판정'].iloc[i]='정상'\n",
    "    if total_df['BMI(kg/㎡)'].iloc[i] >=23.0 and total_df['BMI(kg/㎡)'].iloc[i]<= 24.9:\n",
    "        total_df['BMI_판정'].iloc[i]='비만전단계'\n",
    "    if total_df['BMI(kg/㎡)'].iloc[i] >=25.0 and total_df['BMI(kg/㎡)'].iloc[i]<= 29.9:\n",
    "        total_df['BMI_판정'].iloc[i]='1단계비만'\n",
    "    if total_df['BMI(kg/㎡)'].iloc[i] >=30.0 and total_df['BMI(kg/㎡)'].iloc[i]<= 34.9:\n",
    "        total_df['BMI_판정'].iloc[i]='2단계비만'\n",
    "    if total_df['BMI(kg/㎡)'].iloc[i] >=35.0:\n",
    "        total_df['BMI_판정'].iloc[i] = '3단계비만'"
   ]
  },
  {
   "cell_type": "code",
   "execution_count": 17,
   "id": "b589f060-b0cb-49cc-a11a-8db9ab697920",
   "metadata": {
    "tags": []
   },
   "outputs": [],
   "source": [
    "drop_idx=total_df['BMI(kg/㎡)'][total_df['BMI_판정']==0].index.values\n",
    "total_df=total_df.drop(drop_idx,axis=0)"
   ]
  },
  {
   "cell_type": "code",
   "execution_count": 18,
   "id": "9e498b62-d622-49b4-9d71-7b55660e9db5",
   "metadata": {
    "tags": []
   },
   "outputs": [
    {
     "data": {
      "text/plain": [
       "정상       138590\n",
       "1단계비만     90461\n",
       "비만전단계     76412\n",
       "2단계비만     16198\n",
       "저체중       15033\n",
       "3단계비만      2465\n",
       "Name: BMI_판정, dtype: int64"
      ]
     },
     "execution_count": 18,
     "metadata": {},
     "output_type": "execute_result"
    }
   ],
   "source": [
    "total_df['BMI_판정'].value_counts()"
   ]
  },
  {
   "cell_type": "markdown",
   "id": "1dd3432c-34d2-4408-b160-5662ea7077b9",
   "metadata": {},
   "source": [
    "### 비만동반질환_위험도"
   ]
  },
  {
   "cell_type": "markdown",
   "id": "779fc92c-94f3-4e7c-958e-bbed01a92192",
   "metadata": {},
   "source": [
    "#### 허리둘레 0 값 채우기"
   ]
  },
  {
   "cell_type": "code",
   "execution_count": 19,
   "id": "158cd98f-d8c6-404e-b7b7-33b43d1fcb28",
   "metadata": {
    "tags": []
   },
   "outputs": [],
   "source": [
    "\n",
    "from sklearn.model_selection import train_test_split, cross_val_score, cross_validate, GridSearchCV, KFold, StratifiedKFold\n",
    "from sklearn.metrics import mean_squared_error\n",
    "from sklearn.metrics import mean_squared_log_error\n",
    "\n",
    "\n",
    "from sklearn.ensemble     import RandomForestRegressor\n",
    "from sklearn.tree         import DecisionTreeRegressor\n",
    "from sklearn.linear_model import LinearRegression, Ridge, Lasso\n",
    "# ---- 추가 모델\n",
    "from sklearn.ensemble     import AdaBoostRegressor, VotingRegressor\n",
    "from xgboost              import XGBRegressor\n",
    "from lightgbm             import LGBMRegressor\n",
    "\n"
   ]
  },
  {
   "cell_type": "code",
   "execution_count": 20,
   "id": "88c02d7d-bbe0-4eb3-ace9-11056ea03e9b",
   "metadata": {
    "tags": []
   },
   "outputs": [
    {
     "data": {
      "text/plain": [
       "Index(['회원일련번호값', '측정일련번호', '센터명', '연령대구분명', '측정장소구분명', '측정연령수', '입력구분명',\n",
       "       '인증구분명', '측정일자', '성별구분코드', '신장(cm)', '체중(kg)', '체지방율(%)', '허리둘레(cm)',\n",
       "       'BMI(kg/㎡)', '상대악력(%)', '교차윗몸일으키기(회)', '반복점프(회)', '왕복오래달리기(회)',\n",
       "       '트레드밀출력(VO₂max)', '스텝검사출력(VO₂max)', '앉아윗몸앞으로굽히기(cm)', '10M_4회_왕복달리기(초)',\n",
       "       '전신반응(초)', '제자리멀리뛰기(cm)', '성인체공시간(초)', '운동처방내용', '기존나이구간', '추가나이구간',\n",
       "       'BMI_판정'],\n",
       "      dtype='object')"
      ]
     },
     "execution_count": 20,
     "metadata": {},
     "output_type": "execute_result"
    }
   ],
   "source": [
    "total_df_cp=total_df.copy()\n",
    "total_df_cp.columns"
   ]
  },
  {
   "cell_type": "code",
   "execution_count": 21,
   "id": "af517e55-138e-48b1-9c1f-919b04939575",
   "metadata": {
    "tags": []
   },
   "outputs": [],
   "source": [
    "total_df_cp2=total_df_cp[['측정연령수','성별구분코드','신장(cm)', '체중(kg)', '체지방율(%)', '허리둘레(cm)',\n",
    "       'BMI(kg/㎡)', '상대악력(%)', '교차윗몸일으키기(회)', '반복점프(회)', '왕복오래달리기(회)',\n",
    "       '트레드밀출력(VO₂max)', '스텝검사출력(VO₂max)', '앉아윗몸앞으로굽히기(cm)', '10M_4회_왕복달리기(초)',\n",
    "       '전신반응(초)', '제자리멀리뛰기(cm)', '성인체공시간(초)']]"
   ]
  },
  {
   "cell_type": "code",
   "execution_count": 22,
   "id": "653e8634-130a-4777-8e7b-e74e2f1398b4",
   "metadata": {
    "tags": []
   },
   "outputs": [
    {
     "name": "stdout",
     "output_type": "stream",
     "text": [
      "<class 'pandas.core.frame.DataFrame'>\n",
      "Int64Index: 339159 entries, 2 to 1365377\n",
      "Data columns (total 18 columns):\n",
      " #   Column           Non-Null Count   Dtype  \n",
      "---  ------           --------------   -----  \n",
      " 0   측정연령수            339159 non-null  float64\n",
      " 1   성별구분코드           339159 non-null  int64  \n",
      " 2   신장(cm)           339127 non-null  float64\n",
      " 3   체중(kg)           339140 non-null  float64\n",
      " 4   체지방율(%)          338652 non-null  float64\n",
      " 5   허리둘레(cm)         202934 non-null  float64\n",
      " 6   BMI(kg/㎡)        339159 non-null  float64\n",
      " 7   상대악력(%)          338801 non-null  float64\n",
      " 8   교차윗몸일으키기(회)      336338 non-null  float64\n",
      " 9   반복점프(회)          1 non-null       float64\n",
      " 10  왕복오래달리기(회)       166702 non-null  float64\n",
      " 11  트레드밀출력(VO₂max)   30286 non-null   float64\n",
      " 12  스텝검사출력(VO₂max)   138520 non-null  float64\n",
      " 13  앉아윗몸앞으로굽히기(cm)   337813 non-null  float64\n",
      " 14  10M_4회_왕복달리기(초)  202104 non-null  float64\n",
      " 15  전신반응(초)          129638 non-null  float64\n",
      " 16  제자리멀리뛰기(cm)      314098 non-null  float64\n",
      " 17  성인체공시간(초)        22044 non-null   float64\n",
      "dtypes: float64(17), int64(1)\n",
      "memory usage: 49.2 MB\n"
     ]
    }
   ],
   "source": [
    "total_df_cp2.info()"
   ]
  },
  {
   "cell_type": "code",
   "execution_count": 23,
   "id": "b482f053-f1f2-4cb9-a883-d07b172533f2",
   "metadata": {
    "tags": []
   },
   "outputs": [],
   "source": [
    "total_df_cp2=total_df_cp2.fillna(0)"
   ]
  },
  {
   "cell_type": "code",
   "execution_count": 24,
   "id": "4ab786e4-946b-4515-998e-e5f305437888",
   "metadata": {
    "tags": []
   },
   "outputs": [
    {
     "name": "stdout",
     "output_type": "stream",
     "text": [
      "RMSE :  7.0102729866559725\n"
     ]
    }
   ],
   "source": [
    "df1   = total_df_cp2[total_df_cp2['허리둘레(cm)'] != 0]\n",
    "y_df1 = df1['허리둘레(cm)']\n",
    "X_df1 = df1.drop('허리둘레(cm)', axis=1)\n",
    "\n",
    "rf = LGBMRegressor(random_state=11)  #RandomForestRegressor(random_state=11)\n",
    "X_df1_8, X_df1_2, y_df1_8, y_df1_2 = train_test_split(X_df1, y_df1, test_size=0.2, random_state=11)\n",
    "rf.fit(X_df1_8, y_df1_8)\n",
    "\n",
    "pred3 = rf.predict(X_df1_2)\n",
    "mse_score = mean_squared_error(y_df1_2, pred3)\n",
    "print(\"RMSE : \", np.sqrt(mse_score) )"
   ]
  },
  {
   "cell_type": "code",
   "execution_count": 25,
   "id": "273d7d8f-b7f9-4064-9247-4b16cdde1869",
   "metadata": {
    "tags": []
   },
   "outputs": [],
   "source": [
    "df0 = total_df_cp2[total_df_cp2['허리둘레(cm)'] == 0]\n",
    "y_df0 = df0['허리둘레(cm)']\n",
    "X_df0 = df0.drop('허리둘레(cm)', axis=1)\n",
    "pred = rf.predict(X_df0)\n",
    "widx = X_df0.index.values\n",
    "total_df_cp2.loc[widx, '허리둘레(cm)'] = pred"
   ]
  },
  {
   "cell_type": "code",
   "execution_count": 26,
   "id": "ae4d1db0-917d-4f5f-b4d1-96e37bbe497a",
   "metadata": {
    "tags": []
   },
   "outputs": [
    {
     "data": {
      "text/html": [
       "<div>\n",
       "<style scoped>\n",
       "    .dataframe tbody tr th:only-of-type {\n",
       "        vertical-align: middle;\n",
       "    }\n",
       "\n",
       "    .dataframe tbody tr th {\n",
       "        vertical-align: top;\n",
       "    }\n",
       "\n",
       "    .dataframe thead th {\n",
       "        text-align: right;\n",
       "    }\n",
       "</style>\n",
       "<table border=\"1\" class=\"dataframe\">\n",
       "  <thead>\n",
       "    <tr style=\"text-align: right;\">\n",
       "      <th></th>\n",
       "      <th>측정연령수</th>\n",
       "      <th>성별구분코드</th>\n",
       "      <th>신장(cm)</th>\n",
       "      <th>체중(kg)</th>\n",
       "      <th>체지방율(%)</th>\n",
       "      <th>허리둘레(cm)</th>\n",
       "      <th>BMI(kg/㎡)</th>\n",
       "      <th>상대악력(%)</th>\n",
       "      <th>교차윗몸일으키기(회)</th>\n",
       "      <th>반복점프(회)</th>\n",
       "      <th>왕복오래달리기(회)</th>\n",
       "      <th>트레드밀출력(VO₂max)</th>\n",
       "      <th>스텝검사출력(VO₂max)</th>\n",
       "      <th>앉아윗몸앞으로굽히기(cm)</th>\n",
       "      <th>10M_4회_왕복달리기(초)</th>\n",
       "      <th>전신반응(초)</th>\n",
       "      <th>제자리멀리뛰기(cm)</th>\n",
       "      <th>성인체공시간(초)</th>\n",
       "    </tr>\n",
       "  </thead>\n",
       "  <tbody>\n",
       "  </tbody>\n",
       "</table>\n",
       "</div>"
      ],
      "text/plain": [
       "Empty DataFrame\n",
       "Columns: [측정연령수, 성별구분코드, 신장(cm), 체중(kg), 체지방율(%), 허리둘레(cm), BMI(kg/㎡), 상대악력(%), 교차윗몸일으키기(회), 반복점프(회), 왕복오래달리기(회), 트레드밀출력(VO₂max), 스텝검사출력(VO₂max), 앉아윗몸앞으로굽히기(cm), 10M_4회_왕복달리기(초), 전신반응(초), 제자리멀리뛰기(cm), 성인체공시간(초)]\n",
       "Index: []"
      ]
     },
     "execution_count": 26,
     "metadata": {},
     "output_type": "execute_result"
    }
   ],
   "source": [
    "total_df_cp2[total_df_cp2['허리둘레(cm)']==0]"
   ]
  },
  {
   "cell_type": "code",
   "execution_count": 27,
   "id": "35b997ab-2f57-4344-9184-fcea8e4fed10",
   "metadata": {
    "tags": []
   },
   "outputs": [],
   "source": [
    "total_df['허리둘레(cm)']=total_df_cp2['허리둘레(cm)']"
   ]
  },
  {
   "cell_type": "code",
   "execution_count": 28,
   "id": "5f4a076e-c0bb-42c7-8380-b402215f5e63",
   "metadata": {
    "tags": []
   },
   "outputs": [
    {
     "data": {
      "text/plain": [
       "((339159,), 339159)"
      ]
     },
     "execution_count": 28,
     "metadata": {},
     "output_type": "execute_result"
    }
   ],
   "source": [
    "total_df['허리둘레(cm)'][total_df['허리둘레(cm)']!=0].shape,total_df.shape[0]"
   ]
  },
  {
   "cell_type": "code",
   "execution_count": 29,
   "id": "123584d2-c495-4d21-932c-62a8d5f4bf8f",
   "metadata": {
    "tags": []
   },
   "outputs": [
    {
     "name": "stderr",
     "output_type": "stream",
     "text": [
      "C:\\Users\\ASIA\\AppData\\Local\\Temp\\ipykernel_15956\\1978263699.py:9: SettingWithCopyWarning: \n",
      "A value is trying to be set on a copy of a slice from a DataFrame\n",
      "\n",
      "See the caveats in the documentation: https://pandas.pydata.org/pandas-docs/stable/user_guide/indexing.html#returning-a-view-versus-a-copy\n",
      "  total_df['비만동반질환_위험도'].iloc[i]='약간높음'\n"
     ]
    }
   ],
   "source": [
    "total_df['비만동반질환_위험도']=0\n",
    "for i in range(len(total_df)):\n",
    "    if total_df['성별구분코드'].iloc[i]==0  and  total_df['허리둘레(cm)'].iloc[i] < 90:\n",
    "        if total_df['BMI_판정'].iloc[i] == '저체중':\n",
    "            total_df['비만동반질환_위험도'].iloc[i]='낮음'\n",
    "        if total_df['BMI_판정'].iloc[i] == '정상' :\n",
    "            total_df['비만동반질환_위험도'].iloc[i]='보통'\n",
    "        if total_df['BMI_판정'].iloc[i] == '비만전단계':\n",
    "            total_df['비만동반질환_위험도'].iloc[i]='약간높음'\n",
    "        if total_df['BMI_판정'].iloc[i] == '1단계비만':\n",
    "            total_df['비만동반질환_위험도'].iloc[i]='높음'\n",
    "        if total_df['BMI_판정'].iloc[i] == '2단계비만':\n",
    "            total_df['비만동반질환_위험도'].iloc[i]='매우높음'\n",
    "        if total_df['BMI_판정'].iloc[i] == '3단계비만':\n",
    "            total_df['비만동반질환_위험도'].iloc[i]='가장높음'\n",
    "            \n",
    "    if total_df['성별구분코드'].iloc[i]==0  and  total_df['허리둘레(cm)'].iloc[i] >= 90:\n",
    "        if total_df['BMI_판정'].iloc[i] == '저체중':\n",
    "            total_df['비만동반질환_위험도'].iloc[i]='보통'\n",
    "        if total_df['BMI_판정'].iloc[i] == '정상' :\n",
    "            total_df['비만동반질환_위험도'].iloc[i]='약간높음'\n",
    "        if total_df['BMI_판정'].iloc[i] == '비만전단계':\n",
    "            total_df['비만동반질환_위험도'].iloc[i]='높음'\n",
    "        if total_df['BMI_판정'].iloc[i] == '1단계비만':\n",
    "            total_df['비만동반질환_위험도'].iloc[i]='매우높음'\n",
    "        if total_df['BMI_판정'].iloc[i] == '2단계비만':\n",
    "            total_df['비만동반질환_위험도'].iloc[i]='가장높음'\n",
    "        if total_df['BMI_판정'].iloc[i] == '3단계비만':\n",
    "            total_df['비만동반질환_위험도'].iloc[i]='가장높음'\n",
    "            \n",
    "    if total_df['성별구분코드'].iloc[i]==1 and  total_df['허리둘레(cm)'].iloc[i] < 85:\n",
    "        if total_df['BMI_판정'].iloc[i] == '저체중':\n",
    "            total_df['비만동반질환_위험도'].iloc[i]='낮음'\n",
    "        if total_df['BMI_판정'].iloc[i] == '정상' :\n",
    "            total_df['비만동반질환_위험도'].iloc[i]='보통'\n",
    "        if total_df['BMI_판정'].iloc[i] == '비만전단계':\n",
    "            total_df['비만동반질환_위험도'].iloc[i]='약간높음'\n",
    "        if total_df['BMI_판정'].iloc[i] == '1단계비만':\n",
    "            total_df['비만동반질환_위험도'].iloc[i]='높음'\n",
    "        if total_df['BMI_판정'].iloc[i] == '2단계비만':\n",
    "            total_df['비만동반질환_위험도'].iloc[i]='매우높음'\n",
    "        if total_df['BMI_판정'].iloc[i] == '3단계비만':\n",
    "            total_df['비만동반질환_위험도'].iloc[i]='가장높음'\n",
    "            \n",
    "    if total_df['성별구분코드'].iloc[i]==1  and  total_df['허리둘레(cm)'].iloc[i] >= 85:\n",
    "        if total_df['BMI_판정'].iloc[i] == '저체중':\n",
    "            total_df['비만동반질환_위험도'].iloc[i]='보통'\n",
    "        if total_df['BMI_판정'].iloc[i] == '정상' :\n",
    "            total_df['비만동반질환_위험도'].iloc[i]='약간높음'\n",
    "        if total_df['BMI_판정'].iloc[i] == '비만전단계':\n",
    "            total_df['비만동반질환_위험도'].iloc[i]='높음'\n",
    "        if total_df['BMI_판정'].iloc[i] == '1단계비만':\n",
    "            total_df['비만동반질환_위험도'].iloc[i]='매우높음'\n",
    "        if total_df['BMI_판정'].iloc[i] == '2단계비만':\n",
    "            total_df['비만동반질환_위험도'].iloc[i]='가장높음'\n",
    "        if total_df['BMI_판정'].iloc[i] == '3단계비만':\n",
    "            total_df['비만동반질환_위험도'].iloc[i]='가장높음'"
   ]
  },
  {
   "cell_type": "code",
   "execution_count": 30,
   "id": "e35390d5-1817-43f6-a77a-a817f8046ee8",
   "metadata": {
    "tags": []
   },
   "outputs": [
    {
     "data": {
      "text/plain": [
       "Series([], Name: 허리둘레(cm), dtype: float64)"
      ]
     },
     "execution_count": 30,
     "metadata": {},
     "output_type": "execute_result"
    }
   ],
   "source": [
    "total_df['허리둘레(cm)'][total_df['비만동반질환_위험도']==0]"
   ]
  },
  {
   "cell_type": "code",
   "execution_count": 31,
   "id": "005b7635-0951-4fff-8991-b088597b1a32",
   "metadata": {
    "tags": []
   },
   "outputs": [
    {
     "data": {
      "text/plain": [
       "보통      137470\n",
       "약간높음     72051\n",
       "높음       50235\n",
       "매우높음     46166\n",
       "가장높음     18244\n",
       "낮음       14993\n",
       "Name: 비만동반질환_위험도, dtype: int64"
      ]
     },
     "execution_count": 31,
     "metadata": {},
     "output_type": "execute_result"
    }
   ],
   "source": [
    "total_df['비만동반질환_위험도'].value_counts()"
   ]
  },
  {
   "cell_type": "markdown",
   "id": "dd119294-f4c1-4579-889e-9f96cbe4c5df",
   "metadata": {},
   "source": [
    "## 스텝밀검사결과"
   ]
  },
  {
   "cell_type": "markdown",
   "id": "9b340b29-a5ac-43d7-8d0f-d15682e2ab75",
   "metadata": {},
   "source": [
    "#### 스텝검사출력(VO₂max) 0 값 채우기"
   ]
  },
  {
   "cell_type": "code",
   "execution_count": 32,
   "id": "236d185a-d07d-4bdc-b5c2-a464e191440c",
   "metadata": {
    "tags": []
   },
   "outputs": [],
   "source": [
    "\n",
    "from sklearn.model_selection import train_test_split, cross_val_score, cross_validate, GridSearchCV, KFold, StratifiedKFold\n",
    "from sklearn.metrics import mean_squared_error\n",
    "from sklearn.metrics import mean_squared_log_error\n",
    "\n",
    "\n",
    "from sklearn.ensemble     import RandomForestRegressor\n",
    "from sklearn.tree         import DecisionTreeRegressor\n",
    "from sklearn.linear_model import LinearRegression, Ridge, Lasso\n",
    "# ---- 추가 모델\n",
    "from sklearn.ensemble     import AdaBoostRegressor, VotingRegressor\n",
    "from xgboost              import XGBRegressor\n",
    "from lightgbm             import LGBMRegressor\n",
    "\n"
   ]
  },
  {
   "cell_type": "code",
   "execution_count": 33,
   "id": "f574b759-a6e0-4cce-a310-4af53b41f988",
   "metadata": {
    "tags": []
   },
   "outputs": [
    {
     "data": {
      "text/plain": [
       "Index(['회원일련번호값', '측정일련번호', '센터명', '연령대구분명', '측정장소구분명', '측정연령수', '입력구분명',\n",
       "       '인증구분명', '측정일자', '성별구분코드', '신장(cm)', '체중(kg)', '체지방율(%)', '허리둘레(cm)',\n",
       "       'BMI(kg/㎡)', '상대악력(%)', '교차윗몸일으키기(회)', '반복점프(회)', '왕복오래달리기(회)',\n",
       "       '트레드밀출력(VO₂max)', '스텝검사출력(VO₂max)', '앉아윗몸앞으로굽히기(cm)', '10M_4회_왕복달리기(초)',\n",
       "       '전신반응(초)', '제자리멀리뛰기(cm)', '성인체공시간(초)', '운동처방내용', '기존나이구간', '추가나이구간',\n",
       "       'BMI_판정', '비만동반질환_위험도'],\n",
       "      dtype='object')"
      ]
     },
     "execution_count": 33,
     "metadata": {},
     "output_type": "execute_result"
    }
   ],
   "source": [
    "total_df_cp=total_df.copy()\n",
    "total_df_cp.columns"
   ]
  },
  {
   "cell_type": "code",
   "execution_count": 34,
   "id": "c29e4b80-0e51-4c9b-8175-dbdbb74ab56f",
   "metadata": {
    "tags": []
   },
   "outputs": [],
   "source": [
    "total_df_cp2=total_df_cp[['측정연령수','성별구분코드','신장(cm)', '체중(kg)', '체지방율(%)', '허리둘레(cm)',\n",
    "       'BMI(kg/㎡)', '상대악력(%)', '교차윗몸일으키기(회)', '반복점프(회)', '왕복오래달리기(회)',\n",
    "       '트레드밀출력(VO₂max)', '스텝검사출력(VO₂max)', '앉아윗몸앞으로굽히기(cm)', '10M_4회_왕복달리기(초)',\n",
    "       '전신반응(초)', '제자리멀리뛰기(cm)', '성인체공시간(초)']]"
   ]
  },
  {
   "cell_type": "code",
   "execution_count": 35,
   "id": "25d7f506-3447-4f30-a538-b18bd869938e",
   "metadata": {
    "tags": []
   },
   "outputs": [],
   "source": [
    "total_df_cp2=total_df_cp2.fillna(0)"
   ]
  },
  {
   "cell_type": "code",
   "execution_count": 36,
   "id": "d7404f7b-c860-4a68-a90a-4fc5be7d62b2",
   "metadata": {
    "tags": []
   },
   "outputs": [
    {
     "name": "stdout",
     "output_type": "stream",
     "text": [
      "RMSE :  3.9358454363986852\n"
     ]
    }
   ],
   "source": [
    "df1   = total_df_cp2[total_df_cp2['스텝검사출력(VO₂max)'] != 0]\n",
    "y_df1 = df1['스텝검사출력(VO₂max)']\n",
    "X_df1 = df1.drop('스텝검사출력(VO₂max)', axis=1)\n",
    "\n",
    "rf = LGBMRegressor(random_state=11)  #RandomForestRegressor(random_state=11)\n",
    "X_df1_8, X_df1_2, y_df1_8, y_df1_2 = train_test_split(X_df1, y_df1, test_size=0.2, random_state=11)\n",
    "rf.fit(X_df1_8, y_df1_8)\n",
    "\n",
    "pred3 = rf.predict(X_df1_2)\n",
    "mse_score = mean_squared_error(y_df1_2, pred3)\n",
    "print(\"RMSE : \", np.sqrt(mse_score) )"
   ]
  },
  {
   "cell_type": "code",
   "execution_count": 37,
   "id": "e6b5e2ad-9d75-4a5a-a50c-2872efd71eda",
   "metadata": {
    "tags": []
   },
   "outputs": [],
   "source": [
    "df0 = total_df_cp2[total_df_cp2['스텝검사출력(VO₂max)'] == 0]\n",
    "y_df0 = df0['스텝검사출력(VO₂max)']\n",
    "X_df0 = df0.drop('스텝검사출력(VO₂max)', axis=1)\n",
    "pred = rf.predict(X_df0)\n",
    "widx = X_df0.index.values\n",
    "total_df_cp2.loc[widx, '스텝검사출력(VO₂max)'] = pred"
   ]
  },
  {
   "cell_type": "code",
   "execution_count": 38,
   "id": "ff70e5dd-1b26-4aba-8502-234d5fd4d674",
   "metadata": {
    "tags": []
   },
   "outputs": [
    {
     "data": {
      "text/html": [
       "<div>\n",
       "<style scoped>\n",
       "    .dataframe tbody tr th:only-of-type {\n",
       "        vertical-align: middle;\n",
       "    }\n",
       "\n",
       "    .dataframe tbody tr th {\n",
       "        vertical-align: top;\n",
       "    }\n",
       "\n",
       "    .dataframe thead th {\n",
       "        text-align: right;\n",
       "    }\n",
       "</style>\n",
       "<table border=\"1\" class=\"dataframe\">\n",
       "  <thead>\n",
       "    <tr style=\"text-align: right;\">\n",
       "      <th></th>\n",
       "      <th>측정연령수</th>\n",
       "      <th>성별구분코드</th>\n",
       "      <th>신장(cm)</th>\n",
       "      <th>체중(kg)</th>\n",
       "      <th>체지방율(%)</th>\n",
       "      <th>허리둘레(cm)</th>\n",
       "      <th>BMI(kg/㎡)</th>\n",
       "      <th>상대악력(%)</th>\n",
       "      <th>교차윗몸일으키기(회)</th>\n",
       "      <th>반복점프(회)</th>\n",
       "      <th>왕복오래달리기(회)</th>\n",
       "      <th>트레드밀출력(VO₂max)</th>\n",
       "      <th>스텝검사출력(VO₂max)</th>\n",
       "      <th>앉아윗몸앞으로굽히기(cm)</th>\n",
       "      <th>10M_4회_왕복달리기(초)</th>\n",
       "      <th>전신반응(초)</th>\n",
       "      <th>제자리멀리뛰기(cm)</th>\n",
       "      <th>성인체공시간(초)</th>\n",
       "    </tr>\n",
       "  </thead>\n",
       "  <tbody>\n",
       "  </tbody>\n",
       "</table>\n",
       "</div>"
      ],
      "text/plain": [
       "Empty DataFrame\n",
       "Columns: [측정연령수, 성별구분코드, 신장(cm), 체중(kg), 체지방율(%), 허리둘레(cm), BMI(kg/㎡), 상대악력(%), 교차윗몸일으키기(회), 반복점프(회), 왕복오래달리기(회), 트레드밀출력(VO₂max), 스텝검사출력(VO₂max), 앉아윗몸앞으로굽히기(cm), 10M_4회_왕복달리기(초), 전신반응(초), 제자리멀리뛰기(cm), 성인체공시간(초)]\n",
       "Index: []"
      ]
     },
     "execution_count": 38,
     "metadata": {},
     "output_type": "execute_result"
    }
   ],
   "source": [
    "total_df_cp2[total_df_cp2['스텝검사출력(VO₂max)']==0]"
   ]
  },
  {
   "cell_type": "code",
   "execution_count": 39,
   "id": "ac39cf82-2b16-43ab-900e-46151e85d9c9",
   "metadata": {
    "tags": []
   },
   "outputs": [],
   "source": [
    "total_df['스텝검사출력(VO₂max)']=total_df_cp2['스텝검사출력(VO₂max)']"
   ]
  },
  {
   "cell_type": "code",
   "execution_count": 40,
   "id": "b1b619e2-f17b-4263-962b-00654d67f5c3",
   "metadata": {
    "tags": []
   },
   "outputs": [
    {
     "data": {
      "text/plain": [
       "((339159,), 339159)"
      ]
     },
     "execution_count": 40,
     "metadata": {},
     "output_type": "execute_result"
    }
   ],
   "source": [
    "total_df['스텝검사출력(VO₂max)'][total_df['스텝검사출력(VO₂max)']!=0].shape,total_df.shape[0]"
   ]
  },
  {
   "cell_type": "code",
   "execution_count": 41,
   "id": "8561731f-36c5-4f82-a6b8-5de350fcafc0",
   "metadata": {
    "tags": []
   },
   "outputs": [],
   "source": [
    "drop_idx=total_df[total_df['허리둘레(cm)']==0].index.values\n",
    "total_df=total_df.drop(drop_idx,axis=0)"
   ]
  },
  {
   "cell_type": "code",
   "execution_count": 42,
   "id": "23a4e29d-2304-4999-bf3b-74bc91f5365a",
   "metadata": {
    "tags": []
   },
   "outputs": [
    {
     "name": "stderr",
     "output_type": "stream",
     "text": [
      "C:\\Users\\ASIA\\AppData\\Local\\Temp\\ipykernel_15956\\281091708.py:25: SettingWithCopyWarning: \n",
      "A value is trying to be set on a copy of a slice from a DataFrame\n",
      "\n",
      "See the caveats in the documentation: https://pandas.pydata.org/pandas-docs/stable/user_guide/indexing.html#returning-a-view-versus-a-copy\n",
      "  송파df2030['심폐지구력등급'].iloc[i]='good'\n"
     ]
    }
   ],
   "source": [
    "송파df2030['심폐지구력등급']=0\n",
    "for i in range(len(송파df2030)):\n",
    "    if 송파df2030['측정연령수'].iloc[i]>=30.0 and 송파df2030['측정연령수'].iloc[i]<40.0:\n",
    "        if 송파df2030['성별구분코드'].iloc[i]==1:\n",
    "            if 송파df2030['스텝검사출력(VO₂max)'].iloc[i]<22.8:\n",
    "                송파df2030['심폐지구력등급'].iloc[i]='very_poor'\n",
    "            if 송파df2030['스텝검사출력(VO₂max)'].iloc[i]>=22.8 and 송파df2030['스텝검사출력(VO₂max)'].iloc[i]<27.0:\n",
    "                송파df2030['심폐지구력등급'].iloc[i]='poor'\n",
    "            if 송파df2030['스텝검사출력(VO₂max)'].iloc[i]>=27.0 and 송파df2030['스텝검사출력(VO₂max)'].iloc[i]<31.5:\n",
    "                송파df2030['심폐지구력등급'].iloc[i]='fair'\n",
    "            if 송파df2030['스텝검사출력(VO₂max)'].iloc[i]>=31.5 and 송파df2030['스텝검사출력(VO₂max)'].iloc[i]<35.7:\n",
    "                송파df2030['심폐지구력등급'].iloc[i]='good'\n",
    "            if 송파df2030['스텝검사출력(VO₂max)'].iloc[i]>=35.7 and 송파df2030['스텝검사출력(VO₂max)'].iloc[i]<=40.0:\n",
    "                송파df2030['심폐지구력등급'].iloc[i]='excellent'\n",
    "            if 송파df2030['스텝검사출력(VO₂max)'].iloc[i]>40.0:\n",
    "                송파df2030['심폐지구력등급'].iloc[i]='superior'\n",
    "        if 송파df2030['성별구분코드'].iloc[i]==0:\n",
    "            if 송파df2030['스텝검사출력(VO₂max)'].iloc[i]<31.5:\n",
    "                송파df2030['심폐지구력등급'].iloc[i]='very_poor'\n",
    "            if 송파df2030['스텝검사출력(VO₂max)'].iloc[i]>=31.5 and 송파df2030['스텝검사출력(VO₂max)'].iloc[i]<35.5:\n",
    "                송파df2030['심폐지구력등급'].iloc[i]='poor'\n",
    "            if 송파df2030['스텝검사출력(VO₂max)'].iloc[i]>=35.5 and 송파df2030['스텝검사출력(VO₂max)'].iloc[i]<41.0:\n",
    "                송파df2030['심폐지구력등급'].iloc[i]='fair'\n",
    "            if 송파df2030['스텝검사출력(VO₂max)'].iloc[i]>=41.0 and 송파df2030['스텝검사출력(VO₂max)'].iloc[i]<45.0:\n",
    "                송파df2030['심폐지구력등급'].iloc[i]='good'\n",
    "            if 송파df2030['스텝검사출력(VO₂max)'].iloc[i]>=45.0 and 송파df2030['스텝검사출력(VO₂max)'].iloc[i]<=49.4:\n",
    "                송파df2030['심폐지구력등급'].iloc[i]='excellent'\n",
    "            if 송파df2030['스텝검사출력(VO₂max)'].iloc[i]>49.4:\n",
    "                송파df2030['심폐지구력등급'].iloc[i]='superior'"
   ]
  },
  {
   "cell_type": "code",
   "execution_count": 43,
   "id": "053f6e3d-29f6-4b5b-8740-9b2200897f3b",
   "metadata": {
    "tags": []
   },
   "outputs": [
    {
     "name": "stderr",
     "output_type": "stream",
     "text": [
      "C:\\Users\\ASIA\\AppData\\Local\\Temp\\ipykernel_15956\\604255908.py:12: SettingWithCopyWarning: \n",
      "A value is trying to be set on a copy of a slice from a DataFrame\n",
      "\n",
      "See the caveats in the documentation: https://pandas.pydata.org/pandas-docs/stable/user_guide/indexing.html#returning-a-view-versus-a-copy\n",
      "  total_df['심폐지구력등급'].iloc[i]='good'\n"
     ]
    }
   ],
   "source": [
    "total_df['심폐지구력등급']=0\n",
    "for i in range(len(total_df)):\n",
    "    if total_df['측정연령수'].iloc[i]>=30.0 and total_df['측정연령수'].iloc[i]<40.0:\n",
    "        if total_df['성별구분코드'].iloc[i]==1:\n",
    "            if total_df['스텝검사출력(VO₂max)'].iloc[i]<22.8:\n",
    "                total_df['심폐지구력등급'].iloc[i]='very_poor'\n",
    "            if total_df['스텝검사출력(VO₂max)'].iloc[i]>=22.8 and total_df['스텝검사출력(VO₂max)'].iloc[i]<27.0:\n",
    "                total_df['심폐지구력등급'].iloc[i]='poor'\n",
    "            if total_df['스텝검사출력(VO₂max)'].iloc[i]>=27.0 and total_df['스텝검사출력(VO₂max)'].iloc[i]<31.5:\n",
    "                total_df['심폐지구력등급'].iloc[i]='fair'\n",
    "            if total_df['스텝검사출력(VO₂max)'].iloc[i]>=31.5 and total_df['스텝검사출력(VO₂max)'].iloc[i]<35.7:\n",
    "                total_df['심폐지구력등급'].iloc[i]='good'\n",
    "            if total_df['스텝검사출력(VO₂max)'].iloc[i]>=35.7 and total_df['스텝검사출력(VO₂max)'].iloc[i]<=40.0:\n",
    "                total_df['심폐지구력등급'].iloc[i]='excellent'\n",
    "            if total_df['스텝검사출력(VO₂max)'].iloc[i]>40.0:\n",
    "                total_df['심폐지구력등급'].iloc[i]='superior'\n",
    "        if total_df['성별구분코드'].iloc[i]==0:\n",
    "            if total_df['스텝검사출력(VO₂max)'].iloc[i]<31.5:\n",
    "                total_df['심폐지구력등급'].iloc[i]='very_poor'\n",
    "            if total_df['스텝검사출력(VO₂max)'].iloc[i]>=31.5 and total_df['스텝검사출력(VO₂max)'].iloc[i]<35.5:\n",
    "                total_df['심폐지구력등급'].iloc[i]='poor'\n",
    "            if total_df['스텝검사출력(VO₂max)'].iloc[i]>=35.5 and total_df['스텝검사출력(VO₂max)'].iloc[i]<41.0:\n",
    "                total_df['심폐지구력등급'].iloc[i]='fair'\n",
    "            if total_df['스텝검사출력(VO₂max)'].iloc[i]>=41.0 and total_df['스텝검사출력(VO₂max)'].iloc[i]<45.0:\n",
    "                total_df['심폐지구력등급'].iloc[i]='good'\n",
    "            if total_df['스텝검사출력(VO₂max)'].iloc[i]>=45.0 and total_df['스텝검사출력(VO₂max)'].iloc[i]<=49.4:\n",
    "                total_df['심폐지구력등급'].iloc[i]='excellent'\n",
    "            if total_df['스텝검사출력(VO₂max)'].iloc[i]>49.4:\n",
    "                total_df['심폐지구력등급'].iloc[i]='superior'"
   ]
  },
  {
   "cell_type": "code",
   "execution_count": 44,
   "id": "b6ca6026-bb96-4cb1-bd46-5c32d3252c3e",
   "metadata": {
    "tags": []
   },
   "outputs": [],
   "source": [
    "for i in range(len(송파df2030)):\n",
    "    if 송파df2030['측정연령수'].iloc[i]>=19 and 송파df2030['측정연령수'].iloc[i]<30:\n",
    "        if 송파df2030['성별구분코드'].iloc[i]==1:\n",
    "            if 송파df2030['스텝검사출력(VO₂max)'].iloc[i]<23.6:\n",
    "                송파df2030['심폐지구력등급'].iloc[i]='very_poor'\n",
    "            if 송파df2030['스텝검사출력(VO₂max)'].iloc[i]>=23.6 and 송파df2030['스텝검사출력(VO₂max)'].iloc[i]<29.0:\n",
    "                송파df2030['심폐지구력등급'].iloc[i]='poor'\n",
    "            if 송파df2030['스텝검사출력(VO₂max)'].iloc[i]>=29.0 and 송파df2030['스텝검사출력(VO₂max)'].iloc[i]<33.0:\n",
    "                송파df2030['심폐지구력등급'].iloc[i]='fair'\n",
    "            if 송파df2030['스텝검사출력(VO₂max)'].iloc[i]>=33.0 and 송파df2030['스텝검사출력(VO₂max)'].iloc[i]<37.0:\n",
    "                송파df2030['심폐지구력등급'].iloc[i]='good'\n",
    "            if 송파df2030['스텝검사출력(VO₂max)'].iloc[i]>=37.0 and 송파df2030['스텝검사출력(VO₂max)'].iloc[i]<=41.0:\n",
    "                송파df2030['심폐지구력등급'].iloc[i]='excellent'\n",
    "            if 송파df2030['스텝검사출력(VO₂max)'].iloc[i]>41.0:\n",
    "                송파df2030['심폐지구력등급'].iloc[i]='superior'\n",
    "        if 송파df2030['성별구분코드'].iloc[i]==0:\n",
    "            if 송파df2030['스텝검사출력(VO₂max)'].iloc[i]<33.0:\n",
    "                송파df2030['심폐지구력등급'].iloc[i]='very_poor'\n",
    "            if 송파df2030['스텝검사출력(VO₂max)'].iloc[i]>=33.0 and 송파df2030['스텝검사출력(VO₂max)'].iloc[i]<36.5:\n",
    "                송파df2030['심폐지구력등급'].iloc[i]='poor'\n",
    "            if 송파df2030['스텝검사출력(VO₂max)'].iloc[i]>=36.5 and 송파df2030['스텝검사출력(VO₂max)'].iloc[i]<42.5:\n",
    "                송파df2030['심폐지구력등급'].iloc[i]='fair'\n",
    "            if 송파df2030['스텝검사출력(VO₂max)'].iloc[i]>=42.5 and 송파df2030['스텝검사출력(VO₂max)'].iloc[i]<46.5:\n",
    "                송파df2030['심폐지구력등급'].iloc[i]='good'\n",
    "            if 송파df2030['스텝검사출력(VO₂max)'].iloc[i]>=46.5 and 송파df2030['스텝검사출력(VO₂max)'].iloc[i]<=52.4:\n",
    "                송파df2030['심폐지구력등급'].iloc[i]='excellent'\n",
    "            if 송파df2030['스텝검사출력(VO₂max)'].iloc[i]>52.4:\n",
    "                송파df2030['심폐지구력등급'].iloc[i]='superior'"
   ]
  },
  {
   "cell_type": "code",
   "execution_count": 45,
   "id": "1acf785b-1c1a-4522-b8cc-86834a3b85de",
   "metadata": {
    "tags": []
   },
   "outputs": [],
   "source": [
    "for i in range(len(total_df)):\n",
    "    if total_df['측정연령수'].iloc[i]>=19 and total_df['측정연령수'].iloc[i]<30:\n",
    "        if total_df['성별구분코드'].iloc[i]==1:\n",
    "            if total_df['스텝검사출력(VO₂max)'].iloc[i]<23.6:\n",
    "                total_df['심폐지구력등급'].iloc[i]='very_poor'\n",
    "            if total_df['스텝검사출력(VO₂max)'].iloc[i]>=23.6 and total_df['스텝검사출력(VO₂max)'].iloc[i]<29.0:\n",
    "                total_df['심폐지구력등급'].iloc[i]='poor'\n",
    "            if total_df['스텝검사출력(VO₂max)'].iloc[i]>=29.0 and total_df['스텝검사출력(VO₂max)'].iloc[i]<33.0:\n",
    "                total_df['심폐지구력등급'].iloc[i]='fair'\n",
    "            if total_df['스텝검사출력(VO₂max)'].iloc[i]>=33.0 and total_df['스텝검사출력(VO₂max)'].iloc[i]<37.0:\n",
    "                total_df['심폐지구력등급'].iloc[i]='good'\n",
    "            if total_df['스텝검사출력(VO₂max)'].iloc[i]>=37.0 and total_df['스텝검사출력(VO₂max)'].iloc[i]<=41.0:\n",
    "                total_df['심폐지구력등급'].iloc[i]='excellent'\n",
    "            if total_df['스텝검사출력(VO₂max)'].iloc[i]>41.0:\n",
    "                total_df['심폐지구력등급'].iloc[i]='superior'\n",
    "        if total_df['성별구분코드'].iloc[i]==0:\n",
    "            if total_df['스텝검사출력(VO₂max)'].iloc[i]<33.0:\n",
    "                total_df['심폐지구력등급'].iloc[i]='very_poor'\n",
    "            if total_df['스텝검사출력(VO₂max)'].iloc[i]>=33.0 and total_df['스텝검사출력(VO₂max)'].iloc[i]<36.5:\n",
    "                total_df['심폐지구력등급'].iloc[i]='poor'\n",
    "            if total_df['스텝검사출력(VO₂max)'].iloc[i]>=36.5 and total_df['스텝검사출력(VO₂max)'].iloc[i]<42.5:\n",
    "                total_df['심폐지구력등급'].iloc[i]='fair'\n",
    "            if total_df['스텝검사출력(VO₂max)'].iloc[i]>=42.5 and total_df['스텝검사출력(VO₂max)'].iloc[i]<46.5:\n",
    "                total_df['심폐지구력등급'].iloc[i]='good'\n",
    "            if total_df['스텝검사출력(VO₂max)'].iloc[i]>=46.5 and total_df['스텝검사출력(VO₂max)'].iloc[i]<=52.4:\n",
    "                total_df['심폐지구력등급'].iloc[i]='excellent'\n",
    "            if total_df['스텝검사출력(VO₂max)'].iloc[i]>52.4:\n",
    "                total_df['심폐지구력등급'].iloc[i]='superior'"
   ]
  },
  {
   "cell_type": "code",
   "execution_count": 46,
   "id": "28621366-88b4-41f0-835c-62e5e9a49710",
   "metadata": {
    "tags": []
   },
   "outputs": [
    {
     "data": {
      "text/plain": [
       "excellent    154507\n",
       "good         101011\n",
       "superior      40585\n",
       "fair          38034\n",
       "poor           4190\n",
       "very_poor       832\n",
       "Name: 심폐지구력등급, dtype: int64"
      ]
     },
     "execution_count": 46,
     "metadata": {},
     "output_type": "execute_result"
    }
   ],
   "source": [
    "total_df['심폐지구력등급'].value_counts()"
   ]
  },
  {
   "cell_type": "code",
   "execution_count": 47,
   "id": "a54a7e2f-275f-431e-b903-79a98a027a0e",
   "metadata": {
    "tags": []
   },
   "outputs": [
    {
     "data": {
      "text/html": [
       "<div>\n",
       "<style scoped>\n",
       "    .dataframe tbody tr th:only-of-type {\n",
       "        vertical-align: middle;\n",
       "    }\n",
       "\n",
       "    .dataframe tbody tr th {\n",
       "        vertical-align: top;\n",
       "    }\n",
       "\n",
       "    .dataframe thead th {\n",
       "        text-align: right;\n",
       "    }\n",
       "</style>\n",
       "<table border=\"1\" class=\"dataframe\">\n",
       "  <thead>\n",
       "    <tr style=\"text-align: right;\">\n",
       "      <th></th>\n",
       "      <th>회원일련번호값</th>\n",
       "      <th>측정일자</th>\n",
       "      <th>측정일련번호</th>\n",
       "      <th>센터명</th>\n",
       "      <th>측정연령수</th>\n",
       "      <th>기존나이구간</th>\n",
       "      <th>추가나이구간</th>\n",
       "      <th>인증구분명</th>\n",
       "      <th>성별구분코드</th>\n",
       "      <th>신장(cm)</th>\n",
       "      <th>...</th>\n",
       "      <th>왕복오래달리기(회)</th>\n",
       "      <th>트레드밀출력(VO₂max)</th>\n",
       "      <th>스텝검사출력(VO₂max)</th>\n",
       "      <th>심폐지구력등급</th>\n",
       "      <th>앉아윗몸앞으로굽히기(cm)</th>\n",
       "      <th>10M_4회_왕복달리기(초)</th>\n",
       "      <th>전신반응(초)</th>\n",
       "      <th>제자리멀리뛰기(cm)</th>\n",
       "      <th>성인체공시간(초)</th>\n",
       "      <th>운동처방내용</th>\n",
       "    </tr>\n",
       "  </thead>\n",
       "  <tbody>\n",
       "    <tr>\n",
       "      <th>0</th>\n",
       "      <td>AAGk9GK43HgklFefTom9Stlm</td>\n",
       "      <td>20200707</td>\n",
       "      <td>1</td>\n",
       "      <td>KSPO송파(출장B)</td>\n",
       "      <td>34.0</td>\n",
       "      <td>30대초반</td>\n",
       "      <td>30대중반</td>\n",
       "      <td>참가증</td>\n",
       "      <td>0</td>\n",
       "      <td>180.0</td>\n",
       "      <td>...</td>\n",
       "      <td>0.0</td>\n",
       "      <td>0.0</td>\n",
       "      <td>42.3</td>\n",
       "      <td>good</td>\n",
       "      <td>2.7</td>\n",
       "      <td>10.70</td>\n",
       "      <td>0.0</td>\n",
       "      <td>239.0</td>\n",
       "      <td>0.0</td>\n",
       "      <td>요가 및 필라테스  루틴프로그램</td>\n",
       "    </tr>\n",
       "    <tr>\n",
       "      <th>1</th>\n",
       "      <td>AAEXf/iM9ErO1VC1rvE2O3l9</td>\n",
       "      <td>20200707</td>\n",
       "      <td>1</td>\n",
       "      <td>KSPO송파(출장B)</td>\n",
       "      <td>28.0</td>\n",
       "      <td>20대후반</td>\n",
       "      <td>20대후반</td>\n",
       "      <td>참가증</td>\n",
       "      <td>0</td>\n",
       "      <td>169.0</td>\n",
       "      <td>...</td>\n",
       "      <td>0.0</td>\n",
       "      <td>0.0</td>\n",
       "      <td>49.4</td>\n",
       "      <td>excellent</td>\n",
       "      <td>-3.2</td>\n",
       "      <td>10.09</td>\n",
       "      <td>0.0</td>\n",
       "      <td>232.0</td>\n",
       "      <td>0.0</td>\n",
       "      <td>실내 자전거타기</td>\n",
       "    </tr>\n",
       "    <tr>\n",
       "      <th>2</th>\n",
       "      <td>AAHjHCwwkiu87T4PYr2Pt7ub</td>\n",
       "      <td>20200707</td>\n",
       "      <td>1</td>\n",
       "      <td>KSPO송파(출장B)</td>\n",
       "      <td>37.0</td>\n",
       "      <td>30대후반</td>\n",
       "      <td>30대후반</td>\n",
       "      <td>참가증</td>\n",
       "      <td>0</td>\n",
       "      <td>168.8</td>\n",
       "      <td>...</td>\n",
       "      <td>0.0</td>\n",
       "      <td>0.0</td>\n",
       "      <td>31.4</td>\n",
       "      <td>very_poor</td>\n",
       "      <td>6.3</td>\n",
       "      <td>14.74</td>\n",
       "      <td>0.0</td>\n",
       "      <td>191.0</td>\n",
       "      <td>0.0</td>\n",
       "      <td>실내 자전거타기</td>\n",
       "    </tr>\n",
       "    <tr>\n",
       "      <th>3</th>\n",
       "      <td>AAELoPa4CNsl01rf52oDNWfA</td>\n",
       "      <td>20200707</td>\n",
       "      <td>1</td>\n",
       "      <td>KSPO송파(출장B)</td>\n",
       "      <td>30.0</td>\n",
       "      <td>30대초반</td>\n",
       "      <td>30대초반</td>\n",
       "      <td>참가증</td>\n",
       "      <td>0</td>\n",
       "      <td>175.1</td>\n",
       "      <td>...</td>\n",
       "      <td>0.0</td>\n",
       "      <td>0.0</td>\n",
       "      <td>45.5</td>\n",
       "      <td>excellent</td>\n",
       "      <td>10.5</td>\n",
       "      <td>14.26</td>\n",
       "      <td>0.0</td>\n",
       "      <td>198.0</td>\n",
       "      <td>0.0</td>\n",
       "      <td>엉덩이 스트레칭</td>\n",
       "    </tr>\n",
       "    <tr>\n",
       "      <th>4</th>\n",
       "      <td>AAEJ8VsZXKHSeCYiNjbOqSv6</td>\n",
       "      <td>20200707</td>\n",
       "      <td>1</td>\n",
       "      <td>KSPO송파(출장B)</td>\n",
       "      <td>30.0</td>\n",
       "      <td>30대초반</td>\n",
       "      <td>30대초반</td>\n",
       "      <td>참가증</td>\n",
       "      <td>0</td>\n",
       "      <td>175.2</td>\n",
       "      <td>...</td>\n",
       "      <td>0.0</td>\n",
       "      <td>0.0</td>\n",
       "      <td>39.0</td>\n",
       "      <td>fair</td>\n",
       "      <td>16.4</td>\n",
       "      <td>11.02</td>\n",
       "      <td>0.0</td>\n",
       "      <td>212.0</td>\n",
       "      <td>0.0</td>\n",
       "      <td>실내 자전거타기</td>\n",
       "    </tr>\n",
       "  </tbody>\n",
       "</table>\n",
       "<p>5 rows × 29 columns</p>\n",
       "</div>"
      ],
      "text/plain": [
       "                    회원일련번호값      측정일자  측정일련번호          센터명  측정연령수 기존나이구간  \\\n",
       "0  AAGk9GK43HgklFefTom9Stlm  20200707       1  KSPO송파(출장B)   34.0  30대초반   \n",
       "1  AAEXf/iM9ErO1VC1rvE2O3l9  20200707       1  KSPO송파(출장B)   28.0  20대후반   \n",
       "2  AAHjHCwwkiu87T4PYr2Pt7ub  20200707       1  KSPO송파(출장B)   37.0  30대후반   \n",
       "3  AAELoPa4CNsl01rf52oDNWfA  20200707       1  KSPO송파(출장B)   30.0  30대초반   \n",
       "4  AAEJ8VsZXKHSeCYiNjbOqSv6  20200707       1  KSPO송파(출장B)   30.0  30대초반   \n",
       "\n",
       "  추가나이구간 인증구분명  성별구분코드  신장(cm)  ...  왕복오래달리기(회)  트레드밀출력(VO₂max)  \\\n",
       "0  30대중반   참가증       0   180.0  ...         0.0             0.0   \n",
       "1  20대후반   참가증       0   169.0  ...         0.0             0.0   \n",
       "2  30대후반   참가증       0   168.8  ...         0.0             0.0   \n",
       "3  30대초반   참가증       0   175.1  ...         0.0             0.0   \n",
       "4  30대초반   참가증       0   175.2  ...         0.0             0.0   \n",
       "\n",
       "   스텝검사출력(VO₂max)    심폐지구력등급 앉아윗몸앞으로굽히기(cm) 10M_4회_왕복달리기(초)  전신반응(초)  \\\n",
       "0            42.3       good            2.7           10.70      0.0   \n",
       "1            49.4  excellent           -3.2           10.09      0.0   \n",
       "2            31.4  very_poor            6.3           14.74      0.0   \n",
       "3            45.5  excellent           10.5           14.26      0.0   \n",
       "4            39.0       fair           16.4           11.02      0.0   \n",
       "\n",
       "   제자리멀리뛰기(cm)  성인체공시간(초)             운동처방내용  \n",
       "0        239.0        0.0  요가 및 필라테스  루틴프로그램  \n",
       "1        232.0        0.0           실내 자전거타기  \n",
       "2        191.0        0.0           실내 자전거타기  \n",
       "3        198.0        0.0           엉덩이 스트레칭  \n",
       "4        212.0        0.0           실내 자전거타기  \n",
       "\n",
       "[5 rows x 29 columns]"
      ]
     },
     "execution_count": 47,
     "metadata": {},
     "output_type": "execute_result"
    }
   ],
   "source": [
    "송파df2030.head()"
   ]
  },
  {
   "cell_type": "code",
   "execution_count": 48,
   "id": "362ded86-a4e5-46b2-ba0f-48e51179ed6e",
   "metadata": {
    "tags": []
   },
   "outputs": [],
   "source": [
    "# 송파df2030.to_csv('./datasets/송파df2030.csv',index=False)"
   ]
  },
  {
   "cell_type": "markdown",
   "id": "c5b8505c-e153-4d25-a0a0-cbf681daf21d",
   "metadata": {},
   "source": [
    "# 운동처방내용분리"
   ]
  },
  {
   "cell_type": "code",
   "execution_count": 49,
   "id": "4a8d1e3f-05f2-4d44-82bd-27df8c3dc4bb",
   "metadata": {
    "tags": []
   },
   "outputs": [
    {
     "data": {
      "text/plain": [
       "Index(['회원일련번호값', '측정일련번호', '센터명', '연령대구분명', '측정장소구분명', '측정연령수', '입력구분명',\n",
       "       '인증구분명', '측정일자', '성별구분코드', '신장(cm)', '체중(kg)', '체지방율(%)', '허리둘레(cm)',\n",
       "       'BMI(kg/㎡)', '상대악력(%)', '교차윗몸일으키기(회)', '반복점프(회)', '왕복오래달리기(회)',\n",
       "       '트레드밀출력(VO₂max)', '스텝검사출력(VO₂max)', '앉아윗몸앞으로굽히기(cm)', '10M_4회_왕복달리기(초)',\n",
       "       '전신반응(초)', '제자리멀리뛰기(cm)', '성인체공시간(초)', '운동처방내용', '기존나이구간', '추가나이구간',\n",
       "       'BMI_판정', '비만동반질환_위험도', '심폐지구력등급'],\n",
       "      dtype='object')"
      ]
     },
     "execution_count": 49,
     "metadata": {},
     "output_type": "execute_result"
    }
   ],
   "source": [
    "total_df.columns"
   ]
  },
  {
   "cell_type": "code",
   "execution_count": 50,
   "id": "e43b83ce-4d53-44a6-a875-07e7b26bc7ca",
   "metadata": {
    "tags": []
   },
   "outputs": [
    {
     "data": {
      "text/html": [
       "<div>\n",
       "<style scoped>\n",
       "    .dataframe tbody tr th:only-of-type {\n",
       "        vertical-align: middle;\n",
       "    }\n",
       "\n",
       "    .dataframe tbody tr th {\n",
       "        vertical-align: top;\n",
       "    }\n",
       "\n",
       "    .dataframe thead th {\n",
       "        text-align: right;\n",
       "    }\n",
       "</style>\n",
       "<table border=\"1\" class=\"dataframe\">\n",
       "  <thead>\n",
       "    <tr style=\"text-align: right;\">\n",
       "      <th></th>\n",
       "      <th>회원일련번호값</th>\n",
       "      <th>측정일련번호</th>\n",
       "      <th>센터명</th>\n",
       "      <th>연령대구분명</th>\n",
       "      <th>측정장소구분명</th>\n",
       "      <th>측정연령수</th>\n",
       "      <th>입력구분명</th>\n",
       "      <th>인증구분명</th>\n",
       "      <th>측정일자</th>\n",
       "      <th>성별구분코드</th>\n",
       "      <th>...</th>\n",
       "      <th>10M_4회_왕복달리기(초)</th>\n",
       "      <th>전신반응(초)</th>\n",
       "      <th>제자리멀리뛰기(cm)</th>\n",
       "      <th>성인체공시간(초)</th>\n",
       "      <th>운동처방내용</th>\n",
       "      <th>기존나이구간</th>\n",
       "      <th>추가나이구간</th>\n",
       "      <th>BMI_판정</th>\n",
       "      <th>비만동반질환_위험도</th>\n",
       "      <th>심폐지구력등급</th>\n",
       "    </tr>\n",
       "  </thead>\n",
       "  <tbody>\n",
       "    <tr>\n",
       "      <th>2</th>\n",
       "      <td>AAE8/7ANW2FFz+fOUH/ds0Wo</td>\n",
       "      <td>2</td>\n",
       "      <td>마포</td>\n",
       "      <td>성인</td>\n",
       "      <td>일반</td>\n",
       "      <td>26.0</td>\n",
       "      <td>관리자</td>\n",
       "      <td>2등급</td>\n",
       "      <td>20170102</td>\n",
       "      <td>0</td>\n",
       "      <td>...</td>\n",
       "      <td>9.25</td>\n",
       "      <td>NaN</td>\n",
       "      <td>245.0</td>\n",
       "      <td>NaN</td>\n",
       "      <td>NaN</td>\n",
       "      <td>20대후반</td>\n",
       "      <td>20대중반</td>\n",
       "      <td>비만전단계</td>\n",
       "      <td>약간높음</td>\n",
       "      <td>good</td>\n",
       "    </tr>\n",
       "    <tr>\n",
       "      <th>10</th>\n",
       "      <td>AAFXmmQeTb8SiG9CDwdE5C6Y</td>\n",
       "      <td>1</td>\n",
       "      <td>마포</td>\n",
       "      <td>성인</td>\n",
       "      <td>일반</td>\n",
       "      <td>23.0</td>\n",
       "      <td>관리자</td>\n",
       "      <td>3등급</td>\n",
       "      <td>20170102</td>\n",
       "      <td>0</td>\n",
       "      <td>...</td>\n",
       "      <td>9.98</td>\n",
       "      <td>NaN</td>\n",
       "      <td>240.0</td>\n",
       "      <td>NaN</td>\n",
       "      <td>NaN</td>\n",
       "      <td>20대초반</td>\n",
       "      <td>20대중반</td>\n",
       "      <td>정상</td>\n",
       "      <td>보통</td>\n",
       "      <td>excellent</td>\n",
       "    </tr>\n",
       "    <tr>\n",
       "      <th>20</th>\n",
       "      <td>AAHLRkBxyd7334/w2kHOSXRt</td>\n",
       "      <td>2</td>\n",
       "      <td>마포</td>\n",
       "      <td>성인</td>\n",
       "      <td>일반</td>\n",
       "      <td>24.0</td>\n",
       "      <td>관리자</td>\n",
       "      <td>3등급</td>\n",
       "      <td>20170102</td>\n",
       "      <td>1</td>\n",
       "      <td>...</td>\n",
       "      <td>10.22</td>\n",
       "      <td>NaN</td>\n",
       "      <td>214.0</td>\n",
       "      <td>NaN</td>\n",
       "      <td>NaN</td>\n",
       "      <td>20대초반</td>\n",
       "      <td>20대중반</td>\n",
       "      <td>비만전단계</td>\n",
       "      <td>약간높음</td>\n",
       "      <td>excellent</td>\n",
       "    </tr>\n",
       "    <tr>\n",
       "      <th>25</th>\n",
       "      <td>AAHeykm8pxEzrliHMSbYZvir</td>\n",
       "      <td>1</td>\n",
       "      <td>마포</td>\n",
       "      <td>성인</td>\n",
       "      <td>일반</td>\n",
       "      <td>26.0</td>\n",
       "      <td>관리자</td>\n",
       "      <td>참가증</td>\n",
       "      <td>20170102</td>\n",
       "      <td>0</td>\n",
       "      <td>...</td>\n",
       "      <td>11.19</td>\n",
       "      <td>NaN</td>\n",
       "      <td>216.0</td>\n",
       "      <td>NaN</td>\n",
       "      <td>NaN</td>\n",
       "      <td>20대후반</td>\n",
       "      <td>20대중반</td>\n",
       "      <td>정상</td>\n",
       "      <td>보통</td>\n",
       "      <td>good</td>\n",
       "    </tr>\n",
       "    <tr>\n",
       "      <th>53</th>\n",
       "      <td>AAGxhRAOcb4EgNvgeogFVNZL</td>\n",
       "      <td>4</td>\n",
       "      <td>마포</td>\n",
       "      <td>성인</td>\n",
       "      <td>일반</td>\n",
       "      <td>27.0</td>\n",
       "      <td>인바디</td>\n",
       "      <td>1등급</td>\n",
       "      <td>20170102</td>\n",
       "      <td>0</td>\n",
       "      <td>...</td>\n",
       "      <td>8.95</td>\n",
       "      <td>NaN</td>\n",
       "      <td>257.0</td>\n",
       "      <td>NaN</td>\n",
       "      <td>NaN</td>\n",
       "      <td>20대후반</td>\n",
       "      <td>20대후반</td>\n",
       "      <td>비만전단계</td>\n",
       "      <td>약간높음</td>\n",
       "      <td>excellent</td>\n",
       "    </tr>\n",
       "    <tr>\n",
       "      <th>...</th>\n",
       "      <td>...</td>\n",
       "      <td>...</td>\n",
       "      <td>...</td>\n",
       "      <td>...</td>\n",
       "      <td>...</td>\n",
       "      <td>...</td>\n",
       "      <td>...</td>\n",
       "      <td>...</td>\n",
       "      <td>...</td>\n",
       "      <td>...</td>\n",
       "      <td>...</td>\n",
       "      <td>...</td>\n",
       "      <td>...</td>\n",
       "      <td>...</td>\n",
       "      <td>...</td>\n",
       "      <td>...</td>\n",
       "      <td>...</td>\n",
       "      <td>...</td>\n",
       "      <td>...</td>\n",
       "      <td>...</td>\n",
       "      <td>...</td>\n",
       "    </tr>\n",
       "    <tr>\n",
       "      <th>1365344</th>\n",
       "      <td>AAFuTp9J5vuM0TpW1649Dckq</td>\n",
       "      <td>3</td>\n",
       "      <td>수원</td>\n",
       "      <td>성인</td>\n",
       "      <td>출장</td>\n",
       "      <td>34.0</td>\n",
       "      <td>관리자</td>\n",
       "      <td>2등급</td>\n",
       "      <td>20230413</td>\n",
       "      <td>1</td>\n",
       "      <td>...</td>\n",
       "      <td>NaN</td>\n",
       "      <td>0.347</td>\n",
       "      <td>162.0</td>\n",
       "      <td>NaN</td>\n",
       "      <td>NaN</td>\n",
       "      <td>30대초반</td>\n",
       "      <td>30대중반</td>\n",
       "      <td>정상</td>\n",
       "      <td>보통</td>\n",
       "      <td>good</td>\n",
       "    </tr>\n",
       "    <tr>\n",
       "      <th>1365356</th>\n",
       "      <td>AAGkr+Wt4KEXm7fEmDdauoRd</td>\n",
       "      <td>1</td>\n",
       "      <td>수원</td>\n",
       "      <td>성인</td>\n",
       "      <td>출장</td>\n",
       "      <td>32.0</td>\n",
       "      <td>관리자</td>\n",
       "      <td>3등급</td>\n",
       "      <td>20230413</td>\n",
       "      <td>0</td>\n",
       "      <td>...</td>\n",
       "      <td>NaN</td>\n",
       "      <td>0.348</td>\n",
       "      <td>220.0</td>\n",
       "      <td>NaN</td>\n",
       "      <td>NaN</td>\n",
       "      <td>30대초반</td>\n",
       "      <td>30대초반</td>\n",
       "      <td>비만전단계</td>\n",
       "      <td>약간높음</td>\n",
       "      <td>fair</td>\n",
       "    </tr>\n",
       "    <tr>\n",
       "      <th>1365359</th>\n",
       "      <td>AAEJ3MgTvsWbqpzunluH8LSg</td>\n",
       "      <td>1</td>\n",
       "      <td>수원</td>\n",
       "      <td>성인</td>\n",
       "      <td>출장</td>\n",
       "      <td>24.0</td>\n",
       "      <td>관리자</td>\n",
       "      <td>참가증</td>\n",
       "      <td>20230413</td>\n",
       "      <td>0</td>\n",
       "      <td>...</td>\n",
       "      <td>NaN</td>\n",
       "      <td>0.459</td>\n",
       "      <td>210.0</td>\n",
       "      <td>NaN</td>\n",
       "      <td>NaN</td>\n",
       "      <td>20대초반</td>\n",
       "      <td>20대중반</td>\n",
       "      <td>정상</td>\n",
       "      <td>보통</td>\n",
       "      <td>excellent</td>\n",
       "    </tr>\n",
       "    <tr>\n",
       "      <th>1365371</th>\n",
       "      <td>AAG9WPKd0jlxZfx7E2L/80Vo</td>\n",
       "      <td>1</td>\n",
       "      <td>스포원(금정)</td>\n",
       "      <td>성인</td>\n",
       "      <td>일반</td>\n",
       "      <td>28.0</td>\n",
       "      <td>인바디</td>\n",
       "      <td>참가증</td>\n",
       "      <td>20230413</td>\n",
       "      <td>0</td>\n",
       "      <td>...</td>\n",
       "      <td>NaN</td>\n",
       "      <td>0.329</td>\n",
       "      <td>NaN</td>\n",
       "      <td>0.547</td>\n",
       "      <td>NaN</td>\n",
       "      <td>20대후반</td>\n",
       "      <td>20대후반</td>\n",
       "      <td>1단계비만</td>\n",
       "      <td>매우높음</td>\n",
       "      <td>good</td>\n",
       "    </tr>\n",
       "    <tr>\n",
       "      <th>1365377</th>\n",
       "      <td>AAEIkIU9uDMfrKX1jvJVmJHn</td>\n",
       "      <td>1</td>\n",
       "      <td>스포원(금정)</td>\n",
       "      <td>성인</td>\n",
       "      <td>일반</td>\n",
       "      <td>36.0</td>\n",
       "      <td>인바디</td>\n",
       "      <td>3등급</td>\n",
       "      <td>20230413</td>\n",
       "      <td>0</td>\n",
       "      <td>...</td>\n",
       "      <td>NaN</td>\n",
       "      <td>0.317</td>\n",
       "      <td>NaN</td>\n",
       "      <td>0.640</td>\n",
       "      <td>NaN</td>\n",
       "      <td>30대후반</td>\n",
       "      <td>30대중반</td>\n",
       "      <td>비만전단계</td>\n",
       "      <td>약간높음</td>\n",
       "      <td>good</td>\n",
       "    </tr>\n",
       "  </tbody>\n",
       "</table>\n",
       "<p>19749 rows × 32 columns</p>\n",
       "</div>"
      ],
      "text/plain": [
       "                          회원일련번호값  측정일련번호      센터명 연령대구분명 측정장소구분명  측정연령수  \\\n",
       "2        AAE8/7ANW2FFz+fOUH/ds0Wo       2       마포     성인      일반   26.0   \n",
       "10       AAFXmmQeTb8SiG9CDwdE5C6Y       1       마포     성인      일반   23.0   \n",
       "20       AAHLRkBxyd7334/w2kHOSXRt       2       마포     성인      일반   24.0   \n",
       "25       AAHeykm8pxEzrliHMSbYZvir       1       마포     성인      일반   26.0   \n",
       "53       AAGxhRAOcb4EgNvgeogFVNZL       4       마포     성인      일반   27.0   \n",
       "...                           ...     ...      ...    ...     ...    ...   \n",
       "1365344  AAFuTp9J5vuM0TpW1649Dckq       3       수원     성인      출장   34.0   \n",
       "1365356  AAGkr+Wt4KEXm7fEmDdauoRd       1       수원     성인      출장   32.0   \n",
       "1365359  AAEJ3MgTvsWbqpzunluH8LSg       1       수원     성인      출장   24.0   \n",
       "1365371  AAG9WPKd0jlxZfx7E2L/80Vo       1  스포원(금정)     성인      일반   28.0   \n",
       "1365377  AAEIkIU9uDMfrKX1jvJVmJHn       1  스포원(금정)     성인      일반   36.0   \n",
       "\n",
       "        입력구분명 인증구분명      측정일자  성별구분코드  ...  10M_4회_왕복달리기(초)  전신반응(초)  \\\n",
       "2         관리자   2등급  20170102       0  ...             9.25      NaN   \n",
       "10        관리자   3등급  20170102       0  ...             9.98      NaN   \n",
       "20        관리자   3등급  20170102       1  ...            10.22      NaN   \n",
       "25        관리자   참가증  20170102       0  ...            11.19      NaN   \n",
       "53        인바디   1등급  20170102       0  ...             8.95      NaN   \n",
       "...       ...   ...       ...     ...  ...              ...      ...   \n",
       "1365344   관리자   2등급  20230413       1  ...              NaN    0.347   \n",
       "1365356   관리자   3등급  20230413       0  ...              NaN    0.348   \n",
       "1365359   관리자   참가증  20230413       0  ...              NaN    0.459   \n",
       "1365371   인바디   참가증  20230413       0  ...              NaN    0.329   \n",
       "1365377   인바디   3등급  20230413       0  ...              NaN    0.317   \n",
       "\n",
       "         제자리멀리뛰기(cm)  성인체공시간(초)  운동처방내용  기존나이구간  추가나이구간  BMI_판정  비만동반질환_위험도  \\\n",
       "2              245.0        NaN     NaN   20대후반   20대중반   비만전단계        약간높음   \n",
       "10             240.0        NaN     NaN   20대초반   20대중반      정상          보통   \n",
       "20             214.0        NaN     NaN   20대초반   20대중반   비만전단계        약간높음   \n",
       "25             216.0        NaN     NaN   20대후반   20대중반      정상          보통   \n",
       "53             257.0        NaN     NaN   20대후반   20대후반   비만전단계        약간높음   \n",
       "...              ...        ...     ...     ...     ...     ...         ...   \n",
       "1365344        162.0        NaN     NaN   30대초반   30대중반      정상          보통   \n",
       "1365356        220.0        NaN     NaN   30대초반   30대초반   비만전단계        약간높음   \n",
       "1365359        210.0        NaN     NaN   20대초반   20대중반      정상          보통   \n",
       "1365371          NaN      0.547     NaN   20대후반   20대후반   1단계비만        매우높음   \n",
       "1365377          NaN      0.640     NaN   30대후반   30대중반   비만전단계        약간높음   \n",
       "\n",
       "           심폐지구력등급  \n",
       "2             good  \n",
       "10       excellent  \n",
       "20       excellent  \n",
       "25            good  \n",
       "53       excellent  \n",
       "...            ...  \n",
       "1365344       good  \n",
       "1365356       fair  \n",
       "1365359  excellent  \n",
       "1365371       good  \n",
       "1365377       good  \n",
       "\n",
       "[19749 rows x 32 columns]"
      ]
     },
     "execution_count": 50,
     "metadata": {},
     "output_type": "execute_result"
    }
   ],
   "source": [
    "total_df[total_df['운동처방내용'].isna()]"
   ]
  },
  {
   "cell_type": "code",
   "execution_count": 51,
   "id": "47ec337e-3a64-415a-aabd-31b8ae801c9d",
   "metadata": {
    "tags": []
   },
   "outputs": [
    {
     "name": "stderr",
     "output_type": "stream",
     "text": [
      "C:\\Users\\ASIA\\AppData\\Local\\Temp\\ipykernel_15956\\2440329020.py:2: SettingWithCopyWarning: \n",
      "A value is trying to be set on a copy of a slice from a DataFrame\n",
      "\n",
      "See the caveats in the documentation: https://pandas.pydata.org/pandas-docs/stable/user_guide/indexing.html#returning-a-view-versus-a-copy\n",
      "  total_df['운동처방내용'].loc[idx_19]='달리기'\n"
     ]
    }
   ],
   "source": [
    "idx_19=total_df[(total_df['운동처방내용'].isna())&(total_df['측정연령수']>=29)&(total_df['측정연령수']<=38)&(total_df['인증구분명']=='1등급')&(total_df['BMI_판정']=='2단계비만')].index.values\n",
    "total_df['운동처방내용'].loc[idx_19]='달리기'"
   ]
  },
  {
   "cell_type": "code",
   "execution_count": 52,
   "id": "59a0f736-a977-42da-8a83-5bb8e54ad0bd",
   "metadata": {
    "tags": []
   },
   "outputs": [
    {
     "name": "stderr",
     "output_type": "stream",
     "text": [
      "C:\\Users\\ASIA\\AppData\\Local\\Temp\\ipykernel_15956\\320165489.py:2: SettingWithCopyWarning: \n",
      "A value is trying to be set on a copy of a slice from a DataFrame\n",
      "\n",
      "See the caveats in the documentation: https://pandas.pydata.org/pandas-docs/stable/user_guide/indexing.html#returning-a-view-versus-a-copy\n",
      "  total_df['운동처방내용'].loc[idx_19]='엎드려 버티기'\n"
     ]
    }
   ],
   "source": [
    "idx_19=total_df[(total_df['운동처방내용'].isna())&(total_df['측정연령수']>=29)&(total_df['측정연령수']<=38)&(total_df['인증구분명']=='참가증')&(total_df['BMI_판정']=='정상')].index.values\n",
    "total_df['운동처방내용'].loc[idx_19]='엎드려 버티기'"
   ]
  },
  {
   "cell_type": "code",
   "execution_count": 53,
   "id": "752590af-94cf-469d-af5c-62a034534553",
   "metadata": {
    "tags": []
   },
   "outputs": [
    {
     "name": "stderr",
     "output_type": "stream",
     "text": [
      "C:\\Users\\ASIA\\AppData\\Local\\Temp\\ipykernel_15956\\1829765557.py:2: SettingWithCopyWarning: \n",
      "A value is trying to be set on a copy of a slice from a DataFrame\n",
      "\n",
      "See the caveats in the documentation: https://pandas.pydata.org/pandas-docs/stable/user_guide/indexing.html#returning-a-view-versus-a-copy\n",
      "  total_df['운동처방내용'].loc[idx_19]='윗몸말아올리기'\n"
     ]
    }
   ],
   "source": [
    "idx_19=total_df[(total_df['운동처방내용'].isna())&(total_df['측정연령수']>=29)&(total_df['측정연령수']<=38)&(total_df['인증구분명']=='참가증')&(total_df['BMI_판정']=='저체중')].index.values\n",
    "total_df['운동처방내용'].loc[idx_19]='윗몸말아올리기'"
   ]
  },
  {
   "cell_type": "code",
   "execution_count": 54,
   "id": "98c31c65-3cd9-424c-89ba-d474b7b2c5cb",
   "metadata": {
    "tags": []
   },
   "outputs": [
    {
     "name": "stderr",
     "output_type": "stream",
     "text": [
      "C:\\Users\\ASIA\\AppData\\Local\\Temp\\ipykernel_15956\\1514130292.py:2: SettingWithCopyWarning: \n",
      "A value is trying to be set on a copy of a slice from a DataFrame\n",
      "\n",
      "See the caveats in the documentation: https://pandas.pydata.org/pandas-docs/stable/user_guide/indexing.html#returning-a-view-versus-a-copy\n",
      "  total_df['운동처방내용'].loc[idx_19]='엎드려 버티기'\n"
     ]
    }
   ],
   "source": [
    "idx_19=total_df[(total_df['운동처방내용'].isna())&(total_df['측정연령수']>=29)&(total_df['측정연령수']<=38)&(total_df['인증구분명']=='참가증')&(total_df['BMI_판정']=='비만전단계')].index.values\n",
    "total_df['운동처방내용'].loc[idx_19]='엎드려 버티기'"
   ]
  },
  {
   "cell_type": "code",
   "execution_count": 55,
   "id": "fb4e1701-0246-4572-830f-4784312b3155",
   "metadata": {
    "tags": []
   },
   "outputs": [
    {
     "name": "stderr",
     "output_type": "stream",
     "text": [
      "C:\\Users\\ASIA\\AppData\\Local\\Temp\\ipykernel_15956\\1393281204.py:2: SettingWithCopyWarning: \n",
      "A value is trying to be set on a copy of a slice from a DataFrame\n",
      "\n",
      "See the caveats in the documentation: https://pandas.pydata.org/pandas-docs/stable/user_guide/indexing.html#returning-a-view-versus-a-copy\n",
      "  total_df['운동처방내용'].loc[idx_19]='몸통 옆으로 굽히기'\n"
     ]
    }
   ],
   "source": [
    "\n",
    "idx_19=total_df[(total_df['운동처방내용'].isna())&(total_df['측정연령수']>=29)&(total_df['측정연령수']<=38)&(total_df['인증구분명']=='참가증')&(total_df['BMI_판정']=='3단계비만')].index.values\n",
    "total_df['운동처방내용'].loc[idx_19]='몸통 옆으로 굽히기'\n"
   ]
  },
  {
   "cell_type": "code",
   "execution_count": 56,
   "id": "80d009b9-fe04-4723-a97a-a491dd54b267",
   "metadata": {
    "tags": []
   },
   "outputs": [
    {
     "name": "stderr",
     "output_type": "stream",
     "text": [
      "C:\\Users\\ASIA\\AppData\\Local\\Temp\\ipykernel_15956\\1803559673.py:2: SettingWithCopyWarning: \n",
      "A value is trying to be set on a copy of a slice from a DataFrame\n",
      "\n",
      "See the caveats in the documentation: https://pandas.pydata.org/pandas-docs/stable/user_guide/indexing.html#returning-a-view-versus-a-copy\n",
      "  total_df['운동처방내용'].loc[idx_19]='달리기'\n"
     ]
    }
   ],
   "source": [
    "idx_19=total_df[(total_df['운동처방내용'].isna())&(total_df['측정연령수']>=29)&(total_df['측정연령수']<=38)&(total_df['인증구분명']=='참가증')&(total_df['BMI_판정']=='2단계비만')].index.values\n",
    "total_df['운동처방내용'].loc[idx_19]='달리기'"
   ]
  },
  {
   "cell_type": "code",
   "execution_count": 57,
   "id": "86cf470e-0c75-46b5-a270-eb03d8cc1f7a",
   "metadata": {
    "tags": []
   },
   "outputs": [
    {
     "name": "stderr",
     "output_type": "stream",
     "text": [
      "C:\\Users\\ASIA\\AppData\\Local\\Temp\\ipykernel_15956\\3655233472.py:2: SettingWithCopyWarning: \n",
      "A value is trying to be set on a copy of a slice from a DataFrame\n",
      "\n",
      "See the caveats in the documentation: https://pandas.pydata.org/pandas-docs/stable/user_guide/indexing.html#returning-a-view-versus-a-copy\n",
      "  total_df['운동처방내용'].loc[idx_19]='엎드려 버티기'\n"
     ]
    }
   ],
   "source": [
    "idx_19=total_df[(total_df['운동처방내용'].isna())&(total_df['측정연령수']>=29)&(total_df['측정연령수']<=38)&(total_df['인증구분명']=='참가증')&(total_df['BMI_판정']=='1단계비만')].index.values\n",
    "total_df['운동처방내용'].loc[idx_19]='엎드려 버티기'"
   ]
  },
  {
   "cell_type": "code",
   "execution_count": 58,
   "id": "71678d5e-b0e6-42af-9e85-c3949014d4aa",
   "metadata": {
    "tags": []
   },
   "outputs": [
    {
     "name": "stderr",
     "output_type": "stream",
     "text": [
      "C:\\Users\\ASIA\\AppData\\Local\\Temp\\ipykernel_15956\\355424495.py:2: SettingWithCopyWarning: \n",
      "A value is trying to be set on a copy of a slice from a DataFrame\n",
      "\n",
      "See the caveats in the documentation: https://pandas.pydata.org/pandas-docs/stable/user_guide/indexing.html#returning-a-view-versus-a-copy\n",
      "  total_df['운동처방내용'].loc[idx_19]='엎드려 버티기'\n"
     ]
    }
   ],
   "source": [
    "idx_19=total_df[(total_df['운동처방내용'].isna())&(total_df['측정연령수']>=29)&(total_df['측정연령수']<=38)&(total_df['인증구분명']=='3등급')&(total_df['BMI_판정']=='정상')].index.values\n",
    "total_df['운동처방내용'].loc[idx_19]='엎드려 버티기'"
   ]
  },
  {
   "cell_type": "code",
   "execution_count": 59,
   "id": "67ebdcc1-eba4-4f49-b808-cc495a15990a",
   "metadata": {
    "tags": []
   },
   "outputs": [
    {
     "name": "stderr",
     "output_type": "stream",
     "text": [
      "C:\\Users\\ASIA\\AppData\\Local\\Temp\\ipykernel_15956\\638443796.py:2: SettingWithCopyWarning: \n",
      "A value is trying to be set on a copy of a slice from a DataFrame\n",
      "\n",
      "See the caveats in the documentation: https://pandas.pydata.org/pandas-docs/stable/user_guide/indexing.html#returning-a-view-versus-a-copy\n",
      "  total_df['운동처방내용'].loc[idx_19]='잔발치기'\n"
     ]
    }
   ],
   "source": [
    "idx_19=total_df[(total_df['운동처방내용'].isna())&(total_df['측정연령수']>=29)&(total_df['측정연령수']<=38)&(total_df['인증구분명']=='3등급')&(total_df['BMI_판정']=='저체중')].index.values\n",
    "total_df['운동처방내용'].loc[idx_19]='잔발치기'"
   ]
  },
  {
   "cell_type": "code",
   "execution_count": 60,
   "id": "8325b666-1654-46a2-a437-2e3056509695",
   "metadata": {
    "tags": []
   },
   "outputs": [
    {
     "name": "stderr",
     "output_type": "stream",
     "text": [
      "C:\\Users\\ASIA\\AppData\\Local\\Temp\\ipykernel_15956\\3437714654.py:2: SettingWithCopyWarning: \n",
      "A value is trying to be set on a copy of a slice from a DataFrame\n",
      "\n",
      "See the caveats in the documentation: https://pandas.pydata.org/pandas-docs/stable/user_guide/indexing.html#returning-a-view-versus-a-copy\n",
      "  total_df['운동처방내용'].loc[idx_19]='엎드려 버티기'\n"
     ]
    }
   ],
   "source": [
    "idx_19=total_df[(total_df['운동처방내용'].isna())&(total_df['측정연령수']>=29)&(total_df['측정연령수']<=38)&(total_df['인증구분명']=='3등급')&(total_df['BMI_판정']=='비만전단계')].index.values\n",
    "total_df['운동처방내용'].loc[idx_19]='엎드려 버티기'"
   ]
  },
  {
   "cell_type": "code",
   "execution_count": 61,
   "id": "1637fa7e-b4f4-4ba1-95e7-838b50dfecbf",
   "metadata": {
    "tags": []
   },
   "outputs": [
    {
     "name": "stderr",
     "output_type": "stream",
     "text": [
      "C:\\Users\\ASIA\\AppData\\Local\\Temp\\ipykernel_15956\\3623903504.py:2: SettingWithCopyWarning: \n",
      "A value is trying to be set on a copy of a slice from a DataFrame\n",
      "\n",
      "See the caveats in the documentation: https://pandas.pydata.org/pandas-docs/stable/user_guide/indexing.html#returning-a-view-versus-a-copy\n",
      "  total_df['운동처방내용'].loc[idx_19]='달리기'\n"
     ]
    }
   ],
   "source": [
    "idx_19=total_df[(total_df['운동처방내용'].isna())&(total_df['측정연령수']>=29)&(total_df['측정연령수']<=38)&(total_df['인증구분명']=='3등급')&(total_df['BMI_판정']=='2단계비만')].index.values\n",
    "total_df['운동처방내용'].loc[idx_19]='달리기'"
   ]
  },
  {
   "cell_type": "code",
   "execution_count": 62,
   "id": "0d2acb24-bbc0-4731-b519-6ffc8269df36",
   "metadata": {
    "tags": []
   },
   "outputs": [
    {
     "name": "stderr",
     "output_type": "stream",
     "text": [
      "C:\\Users\\ASIA\\AppData\\Local\\Temp\\ipykernel_15956\\1999596451.py:2: SettingWithCopyWarning: \n",
      "A value is trying to be set on a copy of a slice from a DataFrame\n",
      "\n",
      "See the caveats in the documentation: https://pandas.pydata.org/pandas-docs/stable/user_guide/indexing.html#returning-a-view-versus-a-copy\n",
      "  total_df['운동처방내용'].loc[idx_19]='엎드려 버티기'\n"
     ]
    }
   ],
   "source": [
    "idx_19=total_df[(total_df['운동처방내용'].isna())&(total_df['측정연령수']>=29)&(total_df['측정연령수']<=38)&(total_df['인증구분명']=='3등급')&(total_df['BMI_판정']=='1단계비만')].index.values\n",
    "total_df['운동처방내용'].loc[idx_19]='엎드려 버티기'"
   ]
  },
  {
   "cell_type": "code",
   "execution_count": 63,
   "id": "410b520c-ea5c-49ca-a6e4-06a1a7373818",
   "metadata": {
    "tags": []
   },
   "outputs": [
    {
     "name": "stderr",
     "output_type": "stream",
     "text": [
      "C:\\Users\\ASIA\\AppData\\Local\\Temp\\ipykernel_15956\\3650728942.py:2: SettingWithCopyWarning: \n",
      "A value is trying to be set on a copy of a slice from a DataFrame\n",
      "\n",
      "See the caveats in the documentation: https://pandas.pydata.org/pandas-docs/stable/user_guide/indexing.html#returning-a-view-versus-a-copy\n",
      "  total_df['운동처방내용'].loc[idx_19]='엎드려 버티기'\n"
     ]
    }
   ],
   "source": [
    "idx_19=total_df[(total_df['운동처방내용'].isna())&(total_df['측정연령수']>=29)&(total_df['측정연령수']<=38)&(total_df['인증구분명']=='2등급')&(total_df['BMI_판정']=='비만전단계')].index.values\n",
    "total_df['운동처방내용'].loc[idx_19]='엎드려 버티기'"
   ]
  },
  {
   "cell_type": "code",
   "execution_count": 64,
   "id": "8ca06b47-9593-4c68-9c2d-b6280c8bbe0a",
   "metadata": {
    "tags": []
   },
   "outputs": [
    {
     "name": "stderr",
     "output_type": "stream",
     "text": [
      "C:\\Users\\ASIA\\AppData\\Local\\Temp\\ipykernel_15956\\2467748211.py:2: SettingWithCopyWarning: \n",
      "A value is trying to be set on a copy of a slice from a DataFrame\n",
      "\n",
      "See the caveats in the documentation: https://pandas.pydata.org/pandas-docs/stable/user_guide/indexing.html#returning-a-view-versus-a-copy\n",
      "  total_df['운동처방내용'].loc[idx_19]='엎드려 버티기'\n"
     ]
    }
   ],
   "source": [
    "idx_19=total_df[(total_df['운동처방내용'].isna())&(total_df['측정연령수']>=29)&(total_df['측정연령수']<=38)&(total_df['인증구분명']=='2등급')&(total_df['BMI_판정']=='정상')].index.values\n",
    "total_df['운동처방내용'].loc[idx_19]='엎드려 버티기'"
   ]
  },
  {
   "cell_type": "code",
   "execution_count": 65,
   "id": "156b5a22-39be-484c-9829-79319a4dbb71",
   "metadata": {
    "tags": []
   },
   "outputs": [
    {
     "name": "stderr",
     "output_type": "stream",
     "text": [
      "C:\\Users\\ASIA\\AppData\\Local\\Temp\\ipykernel_15956\\1828466498.py:2: SettingWithCopyWarning: \n",
      "A value is trying to be set on a copy of a slice from a DataFrame\n",
      "\n",
      "See the caveats in the documentation: https://pandas.pydata.org/pandas-docs/stable/user_guide/indexing.html#returning-a-view-versus-a-copy\n",
      "  total_df['운동처방내용'].loc[idx_19]='잔발치기'\n"
     ]
    }
   ],
   "source": [
    "idx_19=total_df[(total_df['운동처방내용'].isna())&(total_df['측정연령수']>=29)&(total_df['측정연령수']<=38)&(total_df['인증구분명']=='2등급')&(total_df['BMI_판정']=='저체중')].index.values\n",
    "total_df['운동처방내용'].loc[idx_19]='잔발치기'"
   ]
  },
  {
   "cell_type": "code",
   "execution_count": 66,
   "id": "81affd90-fa1c-4d11-b7a8-8bff9e553ff8",
   "metadata": {
    "tags": []
   },
   "outputs": [
    {
     "name": "stderr",
     "output_type": "stream",
     "text": [
      "C:\\Users\\ASIA\\AppData\\Local\\Temp\\ipykernel_15956\\2320477354.py:2: SettingWithCopyWarning: \n",
      "A value is trying to be set on a copy of a slice from a DataFrame\n",
      "\n",
      "See the caveats in the documentation: https://pandas.pydata.org/pandas-docs/stable/user_guide/indexing.html#returning-a-view-versus-a-copy\n",
      "  total_df['운동처방내용'].loc[idx_19]='엎드려 버티기'\n"
     ]
    }
   ],
   "source": [
    "idx_19=total_df[(total_df['운동처방내용'].isna())&(total_df['측정연령수']>=29)&(total_df['측정연령수']<=38)&(total_df['인증구분명']=='비만전단계')&(total_df['BMI_판정']=='3단계비만')].index.values\n",
    "total_df['운동처방내용'].loc[idx_19]='엎드려 버티기'"
   ]
  },
  {
   "cell_type": "code",
   "execution_count": 67,
   "id": "d57fe38c-5b35-46c5-9be4-c498c196cc29",
   "metadata": {
    "tags": []
   },
   "outputs": [
    {
     "name": "stderr",
     "output_type": "stream",
     "text": [
      "C:\\Users\\ASIA\\AppData\\Local\\Temp\\ipykernel_15956\\3090789891.py:2: SettingWithCopyWarning: \n",
      "A value is trying to be set on a copy of a slice from a DataFrame\n",
      "\n",
      "See the caveats in the documentation: https://pandas.pydata.org/pandas-docs/stable/user_guide/indexing.html#returning-a-view-versus-a-copy\n",
      "  total_df['운동처방내용'].loc[idx_19]='누워서 팔 밀기'\n"
     ]
    }
   ],
   "source": [
    "idx_19=total_df[(total_df['운동처방내용'].isna())&(total_df['측정연령수']>=29)&(total_df['측정연령수']<=38)&(total_df['인증구분명']=='2등급')&(total_df['BMI_판정']=='3단계비만')].index.values\n",
    "total_df['운동처방내용'].loc[idx_19]='누워서 팔 밀기'"
   ]
  },
  {
   "cell_type": "code",
   "execution_count": 68,
   "id": "182195ef-2946-4602-bb91-6032bde46be4",
   "metadata": {
    "tags": []
   },
   "outputs": [
    {
     "name": "stderr",
     "output_type": "stream",
     "text": [
      "C:\\Users\\ASIA\\AppData\\Local\\Temp\\ipykernel_15956\\3118226358.py:2: SettingWithCopyWarning: \n",
      "A value is trying to be set on a copy of a slice from a DataFrame\n",
      "\n",
      "See the caveats in the documentation: https://pandas.pydata.org/pandas-docs/stable/user_guide/indexing.html#returning-a-view-versus-a-copy\n",
      "  total_df['운동처방내용'].loc[idx_19]='달리기'\n"
     ]
    }
   ],
   "source": [
    "idx_19=total_df[(total_df['운동처방내용'].isna())&(total_df['측정연령수']>=29)&(total_df['측정연령수']<=38)&(total_df['인증구분명']=='2등급')&(total_df['BMI_판정']=='2단계비만')].index.values\n",
    "total_df['운동처방내용'].loc[idx_19]='달리기'"
   ]
  },
  {
   "cell_type": "code",
   "execution_count": 69,
   "id": "3b9659e3-484a-4147-9b89-b148e4aefdb6",
   "metadata": {
    "tags": []
   },
   "outputs": [
    {
     "name": "stderr",
     "output_type": "stream",
     "text": [
      "C:\\Users\\ASIA\\AppData\\Local\\Temp\\ipykernel_15956\\1475652175.py:2: SettingWithCopyWarning: \n",
      "A value is trying to be set on a copy of a slice from a DataFrame\n",
      "\n",
      "See the caveats in the documentation: https://pandas.pydata.org/pandas-docs/stable/user_guide/indexing.html#returning-a-view-versus-a-copy\n",
      "  total_df['운동처방내용'].loc[idx_19]='엎드려 버티기'\n"
     ]
    }
   ],
   "source": [
    "idx_19=total_df[(total_df['운동처방내용'].isna())&(total_df['측정연령수']>=29)&(total_df['측정연령수']<=38)&(total_df['인증구분명']=='2등급')&(total_df['BMI_판정']=='1단계비만')].index.values\n",
    "total_df['운동처방내용'].loc[idx_19]='엎드려 버티기'"
   ]
  },
  {
   "cell_type": "code",
   "execution_count": 70,
   "id": "9bc1e5b2-d03e-40a8-a33b-0bc0082bacf0",
   "metadata": {
    "tags": []
   },
   "outputs": [
    {
     "name": "stderr",
     "output_type": "stream",
     "text": [
      "C:\\Users\\ASIA\\AppData\\Local\\Temp\\ipykernel_15956\\2816283846.py:2: SettingWithCopyWarning: \n",
      "A value is trying to be set on a copy of a slice from a DataFrame\n",
      "\n",
      "See the caveats in the documentation: https://pandas.pydata.org/pandas-docs/stable/user_guide/indexing.html#returning-a-view-versus-a-copy\n",
      "  total_df['운동처방내용'].loc[idx_19]='버피운동'\n"
     ]
    }
   ],
   "source": [
    "idx_19=total_df[(total_df['운동처방내용'].isna())&(total_df['측정연령수']>=29)&(total_df['측정연령수']<=38)&(total_df['인증구분명']=='1등급')&(total_df['BMI_판정']=='정상')].index.values\n",
    "total_df['운동처방내용'].loc[idx_19]='버피운동'"
   ]
  },
  {
   "cell_type": "code",
   "execution_count": 71,
   "id": "5fb814f1-f2f0-4a71-b3ed-ba78d813bc2f",
   "metadata": {
    "tags": []
   },
   "outputs": [
    {
     "name": "stderr",
     "output_type": "stream",
     "text": [
      "C:\\Users\\ASIA\\AppData\\Local\\Temp\\ipykernel_15956\\949278314.py:2: SettingWithCopyWarning: \n",
      "A value is trying to be set on a copy of a slice from a DataFrame\n",
      "\n",
      "See the caveats in the documentation: https://pandas.pydata.org/pandas-docs/stable/user_guide/indexing.html#returning-a-view-versus-a-copy\n",
      "  total_df['운동처방내용'].loc[idx_19]='잔발치기'\n"
     ]
    }
   ],
   "source": [
    "idx_19=total_df[(total_df['운동처방내용'].isna())&(total_df['측정연령수']>=29)&(total_df['측정연령수']<=38)&(total_df['인증구분명']=='1등급')&(total_df['BMI_판정']=='저체중')].index.values\n",
    "total_df['운동처방내용'].loc[idx_19]='잔발치기'"
   ]
  },
  {
   "cell_type": "code",
   "execution_count": 72,
   "id": "0fc7896f-0de0-4077-a92e-825a9a84a737",
   "metadata": {
    "tags": []
   },
   "outputs": [
    {
     "name": "stderr",
     "output_type": "stream",
     "text": [
      "C:\\Users\\ASIA\\AppData\\Local\\Temp\\ipykernel_15956\\2107378196.py:2: SettingWithCopyWarning: \n",
      "A value is trying to be set on a copy of a slice from a DataFrame\n",
      "\n",
      "See the caveats in the documentation: https://pandas.pydata.org/pandas-docs/stable/user_guide/indexing.html#returning-a-view-versus-a-copy\n",
      "  total_df['운동처방내용'].loc[idx_19]='버피운동'\n"
     ]
    }
   ],
   "source": [
    "idx_19=total_df[(total_df['운동처방내용'].isna())&(total_df['측정연령수']>=29)&(total_df['측정연령수']<=38)&(total_df['인증구분명']=='1등급')&(total_df['BMI_판정']=='비만전단계')].index.values\n",
    "total_df['운동처방내용'].loc[idx_19]='버피운동'"
   ]
  },
  {
   "cell_type": "code",
   "execution_count": 73,
   "id": "001b5b03-ee3c-4a5b-b098-e0e7ef6d4259",
   "metadata": {
    "tags": []
   },
   "outputs": [
    {
     "name": "stderr",
     "output_type": "stream",
     "text": [
      "C:\\Users\\ASIA\\AppData\\Local\\Temp\\ipykernel_15956\\1441093631.py:2: SettingWithCopyWarning: \n",
      "A value is trying to be set on a copy of a slice from a DataFrame\n",
      "\n",
      "See the caveats in the documentation: https://pandas.pydata.org/pandas-docs/stable/user_guide/indexing.html#returning-a-view-versus-a-copy\n",
      "  total_df['운동처방내용'].loc[idx_19]='버피운동'\n"
     ]
    }
   ],
   "source": [
    "idx_19=total_df[(total_df['운동처방내용'].isna())&(total_df['측정연령수']>=29)&(total_df['측정연령수']<=38)&(total_df['인증구분명']=='1등급')&(total_df['BMI_판정']=='1단계비만')].index.values\n",
    "total_df['운동처방내용'].loc[idx_19]='버피운동'"
   ]
  },
  {
   "cell_type": "code",
   "execution_count": 74,
   "id": "adaeefdf-a44a-4fef-adcc-958015f82cd6",
   "metadata": {
    "tags": []
   },
   "outputs": [
    {
     "name": "stderr",
     "output_type": "stream",
     "text": [
      "C:\\Users\\ASIA\\AppData\\Local\\Temp\\ipykernel_15956\\3895998844.py:2: SettingWithCopyWarning: \n",
      "A value is trying to be set on a copy of a slice from a DataFrame\n",
      "\n",
      "See the caveats in the documentation: https://pandas.pydata.org/pandas-docs/stable/user_guide/indexing.html#returning-a-view-versus-a-copy\n",
      "  total_df['운동처방내용'].loc[idx_19]='윗몸올리기'\n"
     ]
    }
   ],
   "source": [
    "idx_19=total_df[(total_df['운동처방내용'].isna())&(total_df['측정연령수']>=19)&(total_df['측정연령수']<=28)&(total_df['인증구분명']=='참가증')&(total_df['BMI_판정']=='정상')].index.values\n",
    "total_df['운동처방내용'].loc[idx_19]='윗몸올리기'"
   ]
  },
  {
   "cell_type": "code",
   "execution_count": 75,
   "id": "31603f52-c5e8-4508-9f53-9a0ab19aa2f2",
   "metadata": {
    "tags": []
   },
   "outputs": [
    {
     "name": "stderr",
     "output_type": "stream",
     "text": [
      "C:\\Users\\ASIA\\AppData\\Local\\Temp\\ipykernel_15956\\111171099.py:2: SettingWithCopyWarning: \n",
      "A value is trying to be set on a copy of a slice from a DataFrame\n",
      "\n",
      "See the caveats in the documentation: https://pandas.pydata.org/pandas-docs/stable/user_guide/indexing.html#returning-a-view-versus-a-copy\n",
      "  total_df['운동처방내용'].loc[idx_19]='윗몸말아올리기'\n"
     ]
    }
   ],
   "source": [
    "idx_19=total_df[(total_df['운동처방내용'].isna())&(total_df['측정연령수']>=19)&(total_df['측정연령수']<=28)&(total_df['인증구분명']=='참가증')&(total_df['BMI_판정']=='저체중')].index.values\n",
    "total_df['운동처방내용'].loc[idx_19]='윗몸말아올리기'"
   ]
  },
  {
   "cell_type": "code",
   "execution_count": 76,
   "id": "f15c47da-c649-458d-bf32-116c2f008334",
   "metadata": {
    "tags": []
   },
   "outputs": [
    {
     "name": "stderr",
     "output_type": "stream",
     "text": [
      "C:\\Users\\ASIA\\AppData\\Local\\Temp\\ipykernel_15956\\3921045454.py:2: SettingWithCopyWarning: \n",
      "A value is trying to be set on a copy of a slice from a DataFrame\n",
      "\n",
      "See the caveats in the documentation: https://pandas.pydata.org/pandas-docs/stable/user_guide/indexing.html#returning-a-view-versus-a-copy\n",
      "  total_df['운동처방내용'].loc[idx_19]='윗몸올리기'\n"
     ]
    }
   ],
   "source": [
    "idx_19=total_df[(total_df['운동처방내용'].isna())&(total_df['측정연령수']>=19)&(total_df['측정연령수']<=28)&(total_df['인증구분명']=='참가증')&(total_df['BMI_판정']=='비만전단계')].index.values\n",
    "total_df['운동처방내용'].loc[idx_19]='윗몸올리기'"
   ]
  },
  {
   "cell_type": "code",
   "execution_count": 77,
   "id": "58c718a2-9ded-43e0-b2cd-155121a6e34b",
   "metadata": {
    "tags": []
   },
   "outputs": [
    {
     "name": "stderr",
     "output_type": "stream",
     "text": [
      "C:\\Users\\ASIA\\AppData\\Local\\Temp\\ipykernel_15956\\3739114466.py:2: SettingWithCopyWarning: \n",
      "A value is trying to be set on a copy of a slice from a DataFrame\n",
      "\n",
      "See the caveats in the documentation: https://pandas.pydata.org/pandas-docs/stable/user_guide/indexing.html#returning-a-view-versus-a-copy\n",
      "  total_df['운동처방내용'].loc[idx_19]='몸통 옆으로 굽히기'\n"
     ]
    }
   ],
   "source": [
    "idx_19=total_df[(total_df['운동처방내용'].isna())&(total_df['측정연령수']>=19)&(total_df['측정연령수']<=28)&(total_df['인증구분명']=='참가증')&(total_df['BMI_판정']=='3단계비만')].index.values\n",
    "total_df['운동처방내용'].loc[idx_19]='몸통 옆으로 굽히기'"
   ]
  },
  {
   "cell_type": "code",
   "execution_count": 78,
   "id": "7ca81b73-b9b3-40c2-8f26-a252d07cf735",
   "metadata": {
    "tags": []
   },
   "outputs": [
    {
     "name": "stderr",
     "output_type": "stream",
     "text": [
      "C:\\Users\\ASIA\\AppData\\Local\\Temp\\ipykernel_15956\\1626642039.py:2: SettingWithCopyWarning: \n",
      "A value is trying to be set on a copy of a slice from a DataFrame\n",
      "\n",
      "See the caveats in the documentation: https://pandas.pydata.org/pandas-docs/stable/user_guide/indexing.html#returning-a-view-versus-a-copy\n",
      "  total_df['운동처방내용'].loc[idx_19]='달리기'\n"
     ]
    }
   ],
   "source": [
    "idx_19=total_df[(total_df['운동처방내용'].isna())&(total_df['측정연령수']>=19)&(total_df['측정연령수']<=28)&(total_df['인증구분명']=='참가증')&(total_df['BMI_판정']=='2단계비만')].index.values\n",
    "total_df['운동처방내용'].loc[idx_19]='달리기'"
   ]
  },
  {
   "cell_type": "code",
   "execution_count": 79,
   "id": "bffee39f-b2d2-4d80-b212-5d4a75868d29",
   "metadata": {
    "tags": []
   },
   "outputs": [
    {
     "name": "stderr",
     "output_type": "stream",
     "text": [
      "C:\\Users\\ASIA\\AppData\\Local\\Temp\\ipykernel_15956\\3736567235.py:2: SettingWithCopyWarning: \n",
      "A value is trying to be set on a copy of a slice from a DataFrame\n",
      "\n",
      "See the caveats in the documentation: https://pandas.pydata.org/pandas-docs/stable/user_guide/indexing.html#returning-a-view-versus-a-copy\n",
      "  total_df['운동처방내용'].loc[idx_19]='엎드려 버티기'\n"
     ]
    }
   ],
   "source": [
    "idx_19=total_df[(total_df['운동처방내용'].isna())&(total_df['측정연령수']>=19)&(total_df['측정연령수']<=28)&(total_df['인증구분명']=='참가증')&(total_df['BMI_판정']=='1단계비만')].index.values\n",
    "total_df['운동처방내용'].loc[idx_19]='엎드려 버티기'"
   ]
  },
  {
   "cell_type": "code",
   "execution_count": 80,
   "id": "b1560dc4-c86b-435a-a9a4-7212d881fb24",
   "metadata": {
    "tags": []
   },
   "outputs": [
    {
     "name": "stderr",
     "output_type": "stream",
     "text": [
      "C:\\Users\\ASIA\\AppData\\Local\\Temp\\ipykernel_15956\\2714307520.py:2: SettingWithCopyWarning: \n",
      "A value is trying to be set on a copy of a slice from a DataFrame\n",
      "\n",
      "See the caveats in the documentation: https://pandas.pydata.org/pandas-docs/stable/user_guide/indexing.html#returning-a-view-versus-a-copy\n",
      "  total_df['운동처방내용'].loc[idx_19]='버피운동'\n"
     ]
    }
   ],
   "source": [
    "idx_19=total_df[(total_df['운동처방내용'].isna())&(total_df['측정연령수']>=19)&(total_df['측정연령수']<=28)&(total_df['인증구분명']=='1등급')&(total_df['BMI_판정']=='1단계비만')].index.values\n",
    "total_df['운동처방내용'].loc[idx_19]='버피운동'"
   ]
  },
  {
   "cell_type": "code",
   "execution_count": 81,
   "id": "f9046f10-b19b-44ce-8905-f6c4322b6af9",
   "metadata": {
    "tags": []
   },
   "outputs": [
    {
     "name": "stderr",
     "output_type": "stream",
     "text": [
      "C:\\Users\\ASIA\\AppData\\Local\\Temp\\ipykernel_15956\\3106772609.py:2: SettingWithCopyWarning: \n",
      "A value is trying to be set on a copy of a slice from a DataFrame\n",
      "\n",
      "See the caveats in the documentation: https://pandas.pydata.org/pandas-docs/stable/user_guide/indexing.html#returning-a-view-versus-a-copy\n",
      "  total_df['운동처방내용'].loc[idx_19]='달리기'\n"
     ]
    }
   ],
   "source": [
    "idx_19=total_df[(total_df['운동처방내용'].isna())&(total_df['측정연령수']>=19)&(total_df['측정연령수']<=28)&(total_df['인증구분명']=='1등급')&(total_df['BMI_판정']=='2단계비만')].index.values\n",
    "total_df['운동처방내용'].loc[idx_19]='달리기'"
   ]
  },
  {
   "cell_type": "code",
   "execution_count": 82,
   "id": "a76c13dc-e3e2-4014-b420-421cd9ed0e69",
   "metadata": {
    "tags": []
   },
   "outputs": [
    {
     "name": "stderr",
     "output_type": "stream",
     "text": [
      "C:\\Users\\ASIA\\AppData\\Local\\Temp\\ipykernel_15956\\3298739988.py:2: SettingWithCopyWarning: \n",
      "A value is trying to be set on a copy of a slice from a DataFrame\n",
      "\n",
      "See the caveats in the documentation: https://pandas.pydata.org/pandas-docs/stable/user_guide/indexing.html#returning-a-view-versus-a-copy\n",
      "  total_df['운동처방내용'].loc[idx_19]='버피운동'\n"
     ]
    }
   ],
   "source": [
    "idx_19=total_df[(total_df['운동처방내용'].isna())&(total_df['측정연령수']>=19)&(total_df['측정연령수']<=28)&(total_df['인증구분명']=='1등급')&(total_df['BMI_판정']=='비만전단계')].index.values\n",
    "total_df['운동처방내용'].loc[idx_19]='버피운동'"
   ]
  },
  {
   "cell_type": "code",
   "execution_count": 83,
   "id": "48df302b-6fdd-4a85-b881-8fc0dcbbd548",
   "metadata": {
    "tags": []
   },
   "outputs": [
    {
     "name": "stderr",
     "output_type": "stream",
     "text": [
      "C:\\Users\\ASIA\\AppData\\Local\\Temp\\ipykernel_15956\\2242673399.py:2: SettingWithCopyWarning: \n",
      "A value is trying to be set on a copy of a slice from a DataFrame\n",
      "\n",
      "See the caveats in the documentation: https://pandas.pydata.org/pandas-docs/stable/user_guide/indexing.html#returning-a-view-versus-a-copy\n",
      "  total_df['운동처방내용'].loc[idx_19]='버피운동'\n"
     ]
    }
   ],
   "source": [
    "idx_19=total_df[(total_df['운동처방내용'].isna())&(total_df['측정연령수']>=19)&(total_df['측정연령수']<=28)&(total_df['인증구분명']=='1등급')&(total_df['BMI_판정']=='저체중')].index.values\n",
    "total_df['운동처방내용'].loc[idx_19]='버피운동'"
   ]
  },
  {
   "cell_type": "code",
   "execution_count": 84,
   "id": "fec12928-a466-4900-acc8-b26db9eecedf",
   "metadata": {
    "tags": []
   },
   "outputs": [
    {
     "name": "stderr",
     "output_type": "stream",
     "text": [
      "C:\\Users\\ASIA\\AppData\\Local\\Temp\\ipykernel_15956\\3686239200.py:2: SettingWithCopyWarning: \n",
      "A value is trying to be set on a copy of a slice from a DataFrame\n",
      "\n",
      "See the caveats in the documentation: https://pandas.pydata.org/pandas-docs/stable/user_guide/indexing.html#returning-a-view-versus-a-copy\n",
      "  total_df['운동처방내용'].loc[idx_19]='버피운동'\n"
     ]
    }
   ],
   "source": [
    "idx_19=total_df[(total_df['운동처방내용'].isna())&(total_df['측정연령수']>=19)&(total_df['측정연령수']<=28)&(total_df['인증구분명']=='1등급')&(total_df['BMI_판정']=='정상')].index.values\n",
    "total_df['운동처방내용'].loc[idx_19]='버피운동'"
   ]
  },
  {
   "cell_type": "code",
   "execution_count": 85,
   "id": "704a1ea3-7684-419f-8adb-8ba2b3664837",
   "metadata": {
    "tags": []
   },
   "outputs": [
    {
     "name": "stderr",
     "output_type": "stream",
     "text": [
      "C:\\Users\\ASIA\\AppData\\Local\\Temp\\ipykernel_15956\\1795130208.py:2: SettingWithCopyWarning: \n",
      "A value is trying to be set on a copy of a slice from a DataFrame\n",
      "\n",
      "See the caveats in the documentation: https://pandas.pydata.org/pandas-docs/stable/user_guide/indexing.html#returning-a-view-versus-a-copy\n",
      "  total_df['운동처방내용'].loc[idx_19]='엎드려 버티기'\n"
     ]
    }
   ],
   "source": [
    "idx_19=total_df[(total_df['운동처방내용'].isna())&(total_df['측정연령수']>=19)&(total_df['측정연령수']<=28)&(total_df['인증구분명']=='2등급')&(total_df['BMI_판정']=='1단계비만')].index.values\n",
    "total_df['운동처방내용'].loc[idx_19]='엎드려 버티기'"
   ]
  },
  {
   "cell_type": "code",
   "execution_count": 86,
   "id": "eaa64e30-080c-4d73-9f76-edefe88be4e0",
   "metadata": {
    "tags": []
   },
   "outputs": [
    {
     "name": "stderr",
     "output_type": "stream",
     "text": [
      "C:\\Users\\ASIA\\AppData\\Local\\Temp\\ipykernel_15956\\3169020848.py:2: SettingWithCopyWarning: \n",
      "A value is trying to be set on a copy of a slice from a DataFrame\n",
      "\n",
      "See the caveats in the documentation: https://pandas.pydata.org/pandas-docs/stable/user_guide/indexing.html#returning-a-view-versus-a-copy\n",
      "  total_df['운동처방내용'].loc[idx_19]='달리기'\n"
     ]
    }
   ],
   "source": [
    "idx_19=total_df[(total_df['운동처방내용'].isna())&(total_df['측정연령수']>=19)&(total_df['측정연령수']<=28)&(total_df['인증구분명']=='2등급')&(total_df['BMI_판정']=='2단계비만')].index.values\n",
    "total_df['운동처방내용'].loc[idx_19]='달리기'"
   ]
  },
  {
   "cell_type": "code",
   "execution_count": 87,
   "id": "dc29b2ef-0e96-471e-9274-dbd18bc9df32",
   "metadata": {
    "tags": []
   },
   "outputs": [
    {
     "name": "stderr",
     "output_type": "stream",
     "text": [
      "C:\\Users\\ASIA\\AppData\\Local\\Temp\\ipykernel_15956\\4177223042.py:2: SettingWithCopyWarning: \n",
      "A value is trying to be set on a copy of a slice from a DataFrame\n",
      "\n",
      "See the caveats in the documentation: https://pandas.pydata.org/pandas-docs/stable/user_guide/indexing.html#returning-a-view-versus-a-copy\n",
      "  total_df['운동처방내용'].loc[idx_19]='엎드려 버티기'\n"
     ]
    }
   ],
   "source": [
    "idx_19=total_df[(total_df['운동처방내용'].isna())&(total_df['측정연령수']>=19)&(total_df['측정연령수']<=28)&(total_df['인증구분명']=='2등급')&(total_df['BMI_판정']=='비만전단계')].index.values\n",
    "total_df['운동처방내용'].loc[idx_19]='엎드려 버티기'"
   ]
  },
  {
   "cell_type": "code",
   "execution_count": 88,
   "id": "240626e1-d31a-4a32-a583-7692fda9a422",
   "metadata": {
    "tags": []
   },
   "outputs": [
    {
     "name": "stderr",
     "output_type": "stream",
     "text": [
      "C:\\Users\\ASIA\\AppData\\Local\\Temp\\ipykernel_15956\\1240413567.py:2: SettingWithCopyWarning: \n",
      "A value is trying to be set on a copy of a slice from a DataFrame\n",
      "\n",
      "See the caveats in the documentation: https://pandas.pydata.org/pandas-docs/stable/user_guide/indexing.html#returning-a-view-versus-a-copy\n",
      "  total_df['운동처방내용'].loc[idx_19]='잔발치기'\n"
     ]
    }
   ],
   "source": [
    "idx_19=total_df[(total_df['운동처방내용'].isna())&(total_df['측정연령수']>=19)&(total_df['측정연령수']<=28)&(total_df['인증구분명']=='2등급')&(total_df['BMI_판정']=='저체중')].index.values\n",
    "total_df['운동처방내용'].loc[idx_19]='잔발치기'"
   ]
  },
  {
   "cell_type": "code",
   "execution_count": 89,
   "id": "e30f7f92-5ebf-4966-a162-4243daaa851c",
   "metadata": {
    "tags": []
   },
   "outputs": [
    {
     "name": "stderr",
     "output_type": "stream",
     "text": [
      "C:\\Users\\ASIA\\AppData\\Local\\Temp\\ipykernel_15956\\882551998.py:2: SettingWithCopyWarning: \n",
      "A value is trying to be set on a copy of a slice from a DataFrame\n",
      "\n",
      "See the caveats in the documentation: https://pandas.pydata.org/pandas-docs/stable/user_guide/indexing.html#returning-a-view-versus-a-copy\n",
      "  total_df['운동처방내용'].loc[idx_19]='윗몸올리기'\n"
     ]
    }
   ],
   "source": [
    "idx_19=total_df[(total_df['운동처방내용'].isna())&(total_df['측정연령수']>=19)&(total_df['측정연령수']<=28)&(total_df['인증구분명']=='2등급')&(total_df['BMI_판정']=='정상')].index.values\n",
    "total_df['운동처방내용'].loc[idx_19]='윗몸올리기'"
   ]
  },
  {
   "cell_type": "code",
   "execution_count": 90,
   "id": "6b1408d1-e172-40c9-a94f-aa2cf30bc9a3",
   "metadata": {
    "tags": []
   },
   "outputs": [
    {
     "name": "stderr",
     "output_type": "stream",
     "text": [
      "C:\\Users\\ASIA\\AppData\\Local\\Temp\\ipykernel_15956\\494421272.py:2: SettingWithCopyWarning: \n",
      "A value is trying to be set on a copy of a slice from a DataFrame\n",
      "\n",
      "See the caveats in the documentation: https://pandas.pydata.org/pandas-docs/stable/user_guide/indexing.html#returning-a-view-versus-a-copy\n",
      "  total_df['운동처방내용'].loc[idx_19]='엎드려 버티기'\n"
     ]
    }
   ],
   "source": [
    "idx_19=total_df[(total_df['운동처방내용'].isna())&(total_df['측정연령수']>=19)&(total_df['측정연령수']<=28)&(total_df['인증구분명']=='3등급')&(total_df['BMI_판정']=='1단계비만')].index.values\n",
    "total_df['운동처방내용'].loc[idx_19]='엎드려 버티기'"
   ]
  },
  {
   "cell_type": "code",
   "execution_count": 91,
   "id": "77206751-74cf-4fb5-a3c0-f7feee185f7c",
   "metadata": {
    "tags": []
   },
   "outputs": [
    {
     "name": "stderr",
     "output_type": "stream",
     "text": [
      "C:\\Users\\ASIA\\AppData\\Local\\Temp\\ipykernel_15956\\155529789.py:2: SettingWithCopyWarning: \n",
      "A value is trying to be set on a copy of a slice from a DataFrame\n",
      "\n",
      "See the caveats in the documentation: https://pandas.pydata.org/pandas-docs/stable/user_guide/indexing.html#returning-a-view-versus-a-copy\n",
      "  total_df['운동처방내용'].loc[idx_19]='달리기'\n"
     ]
    }
   ],
   "source": [
    "idx_19=total_df[(total_df['운동처방내용'].isna())&(total_df['측정연령수']>=19)&(total_df['측정연령수']<=28)&(total_df['인증구분명']=='3등급')&(total_df['BMI_판정']=='2단계비만')].index.values\n",
    "total_df['운동처방내용'].loc[idx_19]='달리기'"
   ]
  },
  {
   "cell_type": "code",
   "execution_count": 92,
   "id": "7b1e4c4a-e0fe-4cc0-9391-f16b3519de69",
   "metadata": {
    "tags": []
   },
   "outputs": [
    {
     "name": "stderr",
     "output_type": "stream",
     "text": [
      "C:\\Users\\ASIA\\AppData\\Local\\Temp\\ipykernel_15956\\346891476.py:2: SettingWithCopyWarning: \n",
      "A value is trying to be set on a copy of a slice from a DataFrame\n",
      "\n",
      "See the caveats in the documentation: https://pandas.pydata.org/pandas-docs/stable/user_guide/indexing.html#returning-a-view-versus-a-copy\n",
      "  total_df['운동처방내용'].loc[idx_19]='엎드려 버티기'\n"
     ]
    }
   ],
   "source": [
    "idx_19=total_df[(total_df['운동처방내용'].isna())&(total_df['측정연령수']>=19)&(total_df['측정연령수']<=28)&(total_df['인증구분명']=='3등급')&(total_df['BMI_판정']=='비만전단계')].index.values\n",
    "total_df['운동처방내용'].loc[idx_19]='엎드려 버티기'"
   ]
  },
  {
   "cell_type": "code",
   "execution_count": 93,
   "id": "d7e7a4a7-be2c-41eb-bf2b-9fc8c3b9f793",
   "metadata": {
    "tags": []
   },
   "outputs": [
    {
     "name": "stderr",
     "output_type": "stream",
     "text": [
      "C:\\Users\\ASIA\\AppData\\Local\\Temp\\ipykernel_15956\\380180690.py:2: SettingWithCopyWarning: \n",
      "A value is trying to be set on a copy of a slice from a DataFrame\n",
      "\n",
      "See the caveats in the documentation: https://pandas.pydata.org/pandas-docs/stable/user_guide/indexing.html#returning-a-view-versus-a-copy\n",
      "  total_df['운동처방내용'].loc[idx_19]='잔발치기'\n"
     ]
    }
   ],
   "source": [
    "idx_19=total_df[(total_df['운동처방내용'].isna())&(total_df['측정연령수']>=19)&(total_df['측정연령수']<=28)&(total_df['인증구분명']=='3등급')&(total_df['BMI_판정']=='저체중')].index.values\n",
    "total_df['운동처방내용'].loc[idx_19]='잔발치기'"
   ]
  },
  {
   "cell_type": "code",
   "execution_count": 94,
   "id": "9f8d4bd5-991e-434b-8fc3-6d0735713c1a",
   "metadata": {
    "tags": []
   },
   "outputs": [
    {
     "name": "stderr",
     "output_type": "stream",
     "text": [
      "C:\\Users\\ASIA\\AppData\\Local\\Temp\\ipykernel_15956\\3105379610.py:2: SettingWithCopyWarning: \n",
      "A value is trying to be set on a copy of a slice from a DataFrame\n",
      "\n",
      "See the caveats in the documentation: https://pandas.pydata.org/pandas-docs/stable/user_guide/indexing.html#returning-a-view-versus-a-copy\n",
      "  total_df['운동처방내용'].loc[idx_19]='달리기'\n"
     ]
    }
   ],
   "source": [
    "idx_19=total_df[(total_df['운동처방내용'].isna())&(total_df['측정연령수']>=19)&(total_df['측정연령수']<=28)&(total_df['측정연령수']<=28)&(total_df['인증구분명']=='3등급')&(total_df['BMI_판정']=='정상')].index.values\n",
    "total_df['운동처방내용'].loc[idx_19]='달리기'"
   ]
  },
  {
   "cell_type": "code",
   "execution_count": 95,
   "id": "a7eb3403-faff-4543-95f4-210823d021a3",
   "metadata": {
    "tags": []
   },
   "outputs": [],
   "source": [
    "drop_idx=total_df[['측정연령수','인증구분명','BMI_판정']][total_df['운동처방내용'].isna()].index.values[0]\n",
    "total_df=total_df.drop(drop_idx,axis=0)"
   ]
  },
  {
   "cell_type": "code",
   "execution_count": 96,
   "id": "6cb46132-e8ec-4797-b772-60815834f3a6",
   "metadata": {
    "tags": []
   },
   "outputs": [
    {
     "data": {
      "text/plain": [
       "571"
      ]
     },
     "execution_count": 96,
     "metadata": {},
     "output_type": "execute_result"
    }
   ],
   "source": [
    "total_df['운동처방내용'].isna().sum()"
   ]
  },
  {
   "cell_type": "code",
   "execution_count": 97,
   "id": "a4153673-6f5c-4db1-88c1-242fe2b981e6",
   "metadata": {
    "tags": []
   },
   "outputs": [
    {
     "data": {
      "text/plain": [
       "['엎드려 버티기']"
      ]
     },
     "execution_count": 97,
     "metadata": {},
     "output_type": "execute_result"
    }
   ],
   "source": [
    "total_df['운동처방내용'].iloc[0].split(' / ')"
   ]
  },
  {
   "cell_type": "code",
   "execution_count": null,
   "id": "561dc907-fc52-48d9-a901-b175e9194c0c",
   "metadata": {
    "tags": []
   },
   "outputs": [],
   "source": [
    "운동_list=[]\n",
    "for i in range(len(total_df)):\n",
    "    \n",
    "    if len(total_df['운동처방내용'].iloc[i].split(' / '))>1:\n",
    "        운동_list.append(total_df['운동처방내용'].iloc[i].split(' / ')[1])\n",
    "    else :\n",
    "        운동_list.append(total_df['운동처방내용'].iloc[i].split(' / ')[0])\n",
    "total_df['운동처방내용_1차분리']=운동_list"
   ]
  },
  {
   "cell_type": "code",
   "execution_count": null,
   "id": "fde217c7-3774-4895-813e-03fcab1af7dd",
   "metadata": {
    "tags": []
   },
   "outputs": [],
   "source": [
    "total_df['운동처방내용_1차분리']"
   ]
  },
  {
   "cell_type": "code",
   "execution_count": null,
   "id": "9980fca5-3c98-41ee-b01b-4569370fa852",
   "metadata": {
    "tags": []
   },
   "outputs": [],
   "source": [
    "total_df['운동처방내용_1차분리'].str.split(',')"
   ]
  },
  {
   "cell_type": "code",
   "execution_count": null,
   "id": "355e1599-90b2-4726-a30f-885315678af2",
   "metadata": {
    "tags": []
   },
   "outputs": [],
   "source": [
    "for i in range(len(total_df)):\n",
    "    total_df['운동처방내용_1차분리'].iloc[i]=total_df['운동처방내용_1차분리'].iloc[i].split(',')[0]"
   ]
  },
  {
   "cell_type": "code",
   "execution_count": null,
   "id": "c74a18d2-2429-4cd4-aee4-5ca527bc2ca7",
   "metadata": {
    "tags": []
   },
   "outputs": [],
   "source": [
    "for i in range(len(total_df)):\n",
    "    try:\n",
    "        total_df['운동처방내용_1차분리'].iloc[i]=total_df['운동처방내용_1차분리'].iloc[i].split(':')[1]\n",
    "    except:\n",
    "        total_df['운동처방내용_1차분리'].iloc[i]=total_df['운동처방내용_1차분리'].iloc[i]\n",
    "total_df['운동처방내용_1차분리']"
   ]
  },
  {
   "cell_type": "code",
   "execution_count": null,
   "id": "b71b73ff-18c0-4b99-acc0-bc04d476c2a1",
   "metadata": {
    "tags": []
   },
   "outputs": [],
   "source": [
    "total_df['운동처방내용_1차분리']=total_df['운동처방내용_1차분리'].str.strip()"
   ]
  },
  {
   "cell_type": "code",
   "execution_count": null,
   "id": "32efdd45-03dd-40b8-b31f-b5b7181f663b",
   "metadata": {
    "tags": []
   },
   "outputs": [],
   "source": [
    "total_df=total_df.drop('운동처방내용',axis=1)"
   ]
  },
  {
   "cell_type": "code",
   "execution_count": null,
   "id": "8c01a049-fc71-44c0-8894-cb626e6566ec",
   "metadata": {
    "tags": []
   },
   "outputs": [],
   "source": [
    "total_df=total_df.rename(columns={'운동처방내용_1차분리':'운동처방내용'})"
   ]
  },
  {
   "cell_type": "code",
   "execution_count": null,
   "id": "05da6187-6aa0-4638-b2fe-1c7f6ee5b33a",
   "metadata": {
    "tags": []
   },
   "outputs": [],
   "source": [
    "total_df.head()"
   ]
  },
  {
   "cell_type": "code",
   "execution_count": null,
   "id": "608f394b-6805-4070-9c1a-89e8a64d3424",
   "metadata": {
    "tags": []
   },
   "outputs": [],
   "source": [
    "송파df2030.columns"
   ]
  },
  {
   "cell_type": "code",
   "execution_count": 102,
   "id": "fb57b819-b265-4ec4-9c2e-1229a4a9b728",
   "metadata": {
    "tags": []
   },
   "outputs": [],
   "source": [
    "total_df=total_df[['회원일련번호값', '측정일자', '측정일련번호', '센터명', '측정연령수', '기존나이구간', '추가나이구간',\n",
    "       '인증구분명', '성별구분코드', '신장(cm)', '체중(kg)', '체지방율(%)', '허리둘레(cm)',\n",
    "       'BMI(kg/㎡)', 'BMI_판정', '비만동반질환_위험도', '상대악력(%)', '교차윗몸일으키기(회)',\n",
    "       '반복점프(회)', '왕복오래달리기(회)', '트레드밀출력(VO₂max)', '스텝검사출력(VO₂max)', '심폐지구력등급',\n",
    "       '앉아윗몸앞으로굽히기(cm)', '10M_4회_왕복달리기(초)', '전신반응(초)', '제자리멀리뛰기(cm)',\n",
    "       '성인체공시간(초)', '운동처방내용']]"
   ]
  },
  {
   "cell_type": "code",
   "execution_count": 104,
   "id": "76b69b94-b623-4d03-9522-b2fd4a585d99",
   "metadata": {
    "tags": []
   },
   "outputs": [],
   "source": [
    "total_df.to_csv('./datasets/total_df.csv',index=False)"
   ]
  },
  {
   "cell_type": "code",
   "execution_count": null,
   "id": "1be3f1c6-33cc-45f0-8da0-b8f8d01c9023",
   "metadata": {},
   "outputs": [],
   "source": []
  },
  {
   "cell_type": "code",
   "execution_count": null,
   "id": "863799fa-94e5-4cf9-a995-329708bda743",
   "metadata": {},
   "outputs": [],
   "source": []
  },
  {
   "cell_type": "code",
   "execution_count": null,
   "id": "078bff91-13f8-4f20-a16c-bf07bbb61f72",
   "metadata": {},
   "outputs": [],
   "source": []
  },
  {
   "cell_type": "code",
   "execution_count": null,
   "id": "23276bb6-462a-4baa-b288-864ad16c4d2b",
   "metadata": {},
   "outputs": [],
   "source": []
  },
  {
   "cell_type": "code",
   "execution_count": null,
   "id": "55f59a4e-da44-4d3a-8ffe-3f235f9d0eae",
   "metadata": {},
   "outputs": [],
   "source": []
  },
  {
   "cell_type": "code",
   "execution_count": null,
   "id": "373b8770-385d-4097-8b30-1087302268b0",
   "metadata": {},
   "outputs": [],
   "source": []
  },
  {
   "cell_type": "code",
   "execution_count": null,
   "id": "7d181da9-8e02-4f98-a45e-db5905761d55",
   "metadata": {},
   "outputs": [],
   "source": []
  },
  {
   "cell_type": "code",
   "execution_count": null,
   "id": "633150da-09df-42d7-892a-2b1b226f7b1e",
   "metadata": {},
   "outputs": [],
   "source": []
  },
  {
   "cell_type": "code",
   "execution_count": null,
   "id": "0804c11b-89b9-440e-8d70-6ca75dd71a2b",
   "metadata": {},
   "outputs": [],
   "source": []
  },
  {
   "cell_type": "code",
   "execution_count": null,
   "id": "94474903-995a-489f-a554-976a3cf9796f",
   "metadata": {},
   "outputs": [],
   "source": []
  }
 ],
 "metadata": {
  "kernelspec": {
   "display_name": "Python 3 (ipykernel)",
   "language": "python",
   "name": "python3"
  },
  "language_info": {
   "codemirror_mode": {
    "name": "ipython",
    "version": 3
   },
   "file_extension": ".py",
   "mimetype": "text/x-python",
   "name": "python",
   "nbconvert_exporter": "python",
   "pygments_lexer": "ipython3",
   "version": "3.8.8"
  }
 },
 "nbformat": 4,
 "nbformat_minor": 5
}
