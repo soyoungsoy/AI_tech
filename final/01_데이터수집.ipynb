{
 "cells": [
  {
   "cell_type": "markdown",
   "id": "3ea32712-03b3-4c2a-9105-31e0b984bc5e",
   "metadata": {},
   "source": [
    "# 01. 데이터 수집 및 정제"
   ]
  },
  {
   "cell_type": "code",
   "execution_count": 2,
   "id": "71ef88de-cfa7-4270-becd-0836fa3ef50e",
   "metadata": {},
   "outputs": [],
   "source": [
    "import pandas as pd\n",
    "import numpy as np\n",
    "import os"
   ]
  },
  {
   "cell_type": "code",
   "execution_count": 14,
   "id": "990f8fcb-700b-431b-8f29-83c7f413b76e",
   "metadata": {
    "tags": []
   },
   "outputs": [
    {
     "name": "stderr",
     "output_type": "stream",
     "text": [
      "findfont: Font family ['NanumBarunGothic'] not found. Falling back to DejaVu Sans.\n"
     ]
    },
    {
     "data": {
      "text/plain": [
       "['Malgun Gothic']"
      ]
     },
     "execution_count": 14,
     "metadata": {},
     "output_type": "execute_result"
    }
   ],
   "source": [
    "import math\n",
    "import re\n",
    "import time\n",
    "from datetime import datetime, date\n",
    "\n",
    "import requests\n",
    "from bs4 import BeautifulSoup\n",
    "from selenium import webdriver\n",
    "\n",
    "from IPython.display import Image\n",
    "import pandas as pd\n",
    "import numpy as np\n",
    "\n",
    "pd.set_option('display.max_columns', None)\n",
    "\n",
    "from pykrx import stock\n",
    "import FinanceDataReader as fdr\n",
    "from pandas_datareader import data as pdr\n",
    "import yfinance as yf\n",
    "yf.pdr_override()\n",
    "import FinanceDataReader as fdr\n",
    "import finterstellar as fs\n",
    "\n",
    "\n",
    "import talib.abstract as ta\n",
    "from talib import MA_Type\n",
    "\n",
    "\n",
    "import warnings\n",
    "warnings.filterwarnings(action='ignore')\n",
    "\n",
    "import matplotlib.pyplot as plt\n",
    "import seaborn as sns\n",
    "sns.set()\n",
    "#-------------------- 차트 관련 속성 (한글처리, 그리드) -----------\n",
    "#plt.rc('font', family='NanumGothicOTF') # For MacOS\n",
    "plt.rcParams['font.family'] = 'Malgun Gothic'\n",
    "plt.rcParams['axes.unicode_minus'] = False\n",
    "\n",
    "pd.set_option('max_colwidth', None)\n",
    "plt.rcParams['font.family']"
   ]
  },
  {
   "cell_type": "code",
   "execution_count": 1,
   "id": "8c8fb3e0-3dd6-496a-a21e-136203b5098c",
   "metadata": {
    "tags": []
   },
   "outputs": [
    {
     "name": "stderr",
     "output_type": "stream",
     "text": [
      "\n",
      "KeyboardInterrupt\n",
      "\n"
     ]
    }
   ],
   "source": [
    "import pandas as pd\n",
    "import numpy as np\n",
    "import os\n",
    "\n",
    "filename=os.listdir('./datasets/체력측정및운동처방종합데이터/')[1:]\n",
    "df_list=[]\n",
    "\n",
    "for name in filename:\n",
    "    df=pd.read_csv(f'./datasets/체력측정및운동처방종합데이터/{name}')\n",
    "    df_list.append(df)"
   ]
  },
  {
   "cell_type": "code",
   "execution_count": 39,
   "id": "981eaeb1-8ad9-4fd5-894c-b1cb29f6c4c5",
   "metadata": {
    "tags": []
   },
   "outputs": [],
   "source": [
    "df=pd.concat(df_list,axis=0)\n",
    "df.columns=['회원일련번호값','측정일련번호','센터명','연령대구분명','측정장소구분명',\n",
    "'측정연령수','입력구분명','인증구분명','측정일자','성별구분코드','신장(cm)','체중(kg)','체지방율(%)',\n",
    "'허리둘레(cm)','이완기최저혈압(mmHg)','수축기최고혈압(mmHg)','악력_좌(kg)','악력_우(kg)',\n",
    "'윗몸말아올리기(회)','반복점프(회)','앉아윗몸앞으로굽히기(cm)','일리노이(초)','체공시간(초)',\n",
    "'협응력시간(초)','협응력실수횟수(회)','협응력계산결과값(초)','BMI(kg/㎡)','교차윗몸일으키기(회)',\n",
    "'왕복오래달리기(회)','10M_4회_왕복달리기(초)','제자리멀리뛰기(cm)','의자에앉았다일어서기(회)',\n",
    "'6분걷기(m)','2분제자리걷기(회)',' 의자에앉아_3M표적_돌아오기(초)','8자보행(초)','상대악력(%)','피부두겹합',\n",
    "'왕복오래달리기출력(VO₂max)','트레드밀_안정시(bpm)','트레드밀_3분(bpm)','트레드밀_6분(bpm)','트레드밀_9분(bpm)',\n",
    "'트레드밀출력(VO₂max)','스텝검사_회복시_심박수(bpm)','스텝검사출력(VO₂max)','허벅지_좌(cm)','허벅지_우(cm)','전신반응(초)',\n",
    "'성인체공시간(초)','운동처방내용']"
   ]
  },
  {
   "cell_type": "code",
   "execution_count": 41,
   "id": "7679f48a-8e3b-4e51-b518-8845e46723cf",
   "metadata": {
    "tags": []
   },
   "outputs": [],
   "source": [
    "df=df.sort_values('측정일자')"
   ]
  },
  {
   "cell_type": "code",
   "execution_count": 42,
   "id": "35914932-caf6-4a5b-a729-a08a8d22f966",
   "metadata": {
    "tags": []
   },
   "outputs": [],
   "source": [
    "# df.to_csv('./datasets/체력측정및운동처방종합데이터.csv',index=False)"
   ]
  },
  {
   "cell_type": "code",
   "execution_count": 3,
   "id": "b556b952-11b3-41a7-939a-5d1e8465d325",
   "metadata": {
    "tags": []
   },
   "outputs": [],
   "source": [
    "df=pd.read_csv('./datasets/체력측정및운동처방종합데이터.csv')"
   ]
  },
  {
   "cell_type": "code",
   "execution_count": 7,
   "id": "c5d49694-1d40-45ec-9de3-22420cc4fbde",
   "metadata": {
    "tags": []
   },
   "outputs": [],
   "source": [
    "df['측정일자']=df['측정일자'].astype('str')\n"
   ]
  },
  {
   "cell_type": "code",
   "execution_count": 12,
   "id": "726b892b-22d9-4689-8bfd-25a3321a278a",
   "metadata": {
    "tags": []
   },
   "outputs": [
    {
     "data": {
      "text/plain": [
       "<AxesSubplot: >"
      ]
     },
     "execution_count": 12,
     "metadata": {},
     "output_type": "execute_result"
    },
    {
     "data": {
      "image/png": "[encoded data removed]",
      "text/plain": [
       "<Figure size 640x480 with 1 Axes>"
      ]
     },
     "metadata": {},
     "output_type": "display_data"
    }
   ],
   "source": [
    "df['측정일자'].str[:4].value_counts().sort_index().plot(kind='bar')"
   ]
  },
  {
   "cell_type": "code",
   "execution_count": 44,
   "id": "512d1068-47c0-4025-8cb4-9d9265c4ac49",
   "metadata": {
    "tags": []
   },
   "outputs": [
    {
     "data": {
      "text/plain": [
       "측정연령수                        7\n",
       "인증구분명                        1\n",
       "신장(cm)                     128\n",
       "체중(kg)                     120\n",
       "체지방율(%)                  48211\n",
       "허리둘레(cm)                663528\n",
       "이완기최저혈압(mmHg)            12349\n",
       "수축기최고혈압(mmHg)            12361\n",
       "악력_좌(kg)                  2555\n",
       "악력_우(kg)                  2452\n",
       "윗몸말아올리기(회)             1125057\n",
       "반복점프(회)                1008302\n",
       "앉아윗몸앞으로굽히기(cm)            4458\n",
       "일리노이(초)                 826259\n",
       "체공시간(초)                 828611\n",
       "협응력시간(초)                836862\n",
       "협응력실수횟수(회)              836953\n",
       "협응력계산결과값(초)             836857\n",
       "BMI(kg/㎡)                   19\n",
       "교차윗몸일으키기(회)             800410\n",
       "왕복오래달리기(회)              564138\n",
       "10M_4회_왕복달리기(초)        1014348\n",
       "제자리멀리뛰기(cm)             518334\n",
       "의자에앉았다일어서기(회)          1183320\n",
       "6분걷기(m)                1358300\n",
       "2분제자리걷기(회)             1190842\n",
       " 의자에앉아_3M표적_돌아오기(초)    1183304\n",
       "8자보행(초)                1184414\n",
       "상대악력(%)                   1164\n",
       "피부두겹합                  1365398\n",
       "왕복오래달리기출력(VO₂max)       603906\n",
       "트레드밀_안정시(bpm)          1295769\n",
       "트레드밀_3분(bpm)           1296807\n",
       "트레드밀_6분(bpm)           1296937\n",
       "트레드밀_9분(bpm)           1342255\n",
       "트레드밀출력(VO₂max)         1297050\n",
       "스텝검사_회복시_심박수(bpm)      1090290\n",
       "스텝검사출력(VO₂max)         1090367\n",
       "허벅지_좌(cm)              1353150\n",
       "허벅지_우(cm)              1353150\n",
       "전신반응(초)                1164988\n",
       "성인체공시간(초)              1328697\n",
       "운동처방내용                  123024\n",
       "dtype: int64"
      ]
     },
     "execution_count": 44,
     "metadata": {},
     "output_type": "execute_result"
    }
   ],
   "source": [
    "df.isna().sum()[df.isna().sum()>0]"
   ]
  },
  {
   "cell_type": "code",
   "execution_count": null,
   "id": "3547c1a8-c2fa-46d3-84ce-e17b5da460fa",
   "metadata": {},
   "outputs": [],
   "source": []
  },
  {
   "cell_type": "code",
   "execution_count": 16,
   "id": "5757120a-5959-491a-9710-1f637c6a309f",
   "metadata": {
    "tags": []
   },
   "outputs": [
    {
     "data": {
      "text/html": [
       "<div>\n",
       "<style scoped>\n",
       "    .dataframe tbody tr th:only-of-type {\n",
       "        vertical-align: middle;\n",
       "    }\n",
       "\n",
       "    .dataframe tbody tr th {\n",
       "        vertical-align: top;\n",
       "    }\n",
       "\n",
       "    .dataframe thead th {\n",
       "        text-align: right;\n",
       "    }\n",
       "</style>\n",
       "<table border=\"1\" class=\"dataframe\">\n",
       "  <thead>\n",
       "    <tr style=\"text-align: right;\">\n",
       "      <th></th>\n",
       "      <th>연령</th>\n",
       "      <th>건강관리관심도</th>\n",
       "    </tr>\n",
       "  </thead>\n",
       "  <tbody>\n",
       "    <tr>\n",
       "      <th>0</th>\n",
       "      <td>20대</td>\n",
       "      <td>62.6</td>\n",
       "    </tr>\n",
       "    <tr>\n",
       "      <th>1</th>\n",
       "      <td>30대</td>\n",
       "      <td>69.1</td>\n",
       "    </tr>\n",
       "    <tr>\n",
       "      <th>2</th>\n",
       "      <td>40대</td>\n",
       "      <td>64.7</td>\n",
       "    </tr>\n",
       "    <tr>\n",
       "      <th>3</th>\n",
       "      <td>50대</td>\n",
       "      <td>73.0</td>\n",
       "    </tr>\n",
       "    <tr>\n",
       "      <th>4</th>\n",
       "      <td>60대</td>\n",
       "      <td>73.6</td>\n",
       "    </tr>\n",
       "  </tbody>\n",
       "</table>\n",
       "</div>"
      ],
      "text/plain": [
       "    연령  건강관리관심도\n",
       "0  20대     62.6\n",
       "1  30대     69.1\n",
       "2  40대     64.7\n",
       "3  50대     73.0\n",
       "4  60대     73.6"
      ]
     },
     "execution_count": 16,
     "metadata": {},
     "output_type": "execute_result"
    }
   ],
   "source": [
    "dic={\"연령\":['20대','30대','40대','50대','60대'],\"건강관리관심도\":[62.6,69.1,64.7,73.0,73.6]}\n",
    "temp=pd.DataFrame(dic)\n",
    "temp"
   ]
  },
  {
   "cell_type": "code",
   "execution_count": 17,
   "id": "e31fbaf9-2f04-44a0-a7df-4ddc29518e03",
   "metadata": {
    "tags": []
   },
   "outputs": [
    {
     "data": {
      "text/plain": [
       "<AxesSubplot: xlabel='연령', ylabel='건강관리관심도'>"
      ]
     },
     "execution_count": 17,
     "metadata": {},
     "output_type": "execute_result"
    },
    {
     "data": {
      "image/png": "[encoded data removed]",
      "text/plain": [
       "<Figure size 1000x500 with 1 Axes>"
      ]
     },
     "metadata": {},
     "output_type": "display_data"
    }
   ],
   "source": [
    "sns.barplot(data=temp,x='연령',y='건강관리관심도')"
   ]
  },
  {
   "cell_type": "code",
   "execution_count": null,
   "id": "6b28534e-a555-4312-92d4-d1b6afbbc6ae",
   "metadata": {},
   "outputs": [],
   "source": []
  },
  {
   "cell_type": "code",
   "execution_count": null,
   "id": "2a2e9f5c-f0ec-4990-8f85-76b508e0891c",
   "metadata": {},
   "outputs": [],
   "source": []
  }
 ],
 "metadata": {
  "kernelspec": {
   "display_name": "Python 3 (ipykernel)",
   "language": "python",
   "name": "python3"
  },
  "language_info": {
   "codemirror_mode": {
    "name": "ipython",
    "version": 3
   },
   "file_extension": ".py",
   "mimetype": "text/x-python",
   "name": "python",
   "nbconvert_exporter": "python",
   "pygments_lexer": "ipython3",
   "version": "3.8.8"
  }
 },
 "nbformat": 4,
 "nbformat_minor": 5
}
