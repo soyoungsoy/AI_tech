{
 "cells": [
  {
   "cell_type": "markdown",
   "id": "81b8b515-eb32-452e-99fd-b772f8c6c8a4",
   "metadata": {},
   "source": [
    "# 레포트만들기"
   ]
  },
  {
   "cell_type": "code",
   "execution_count": 1,
   "id": "77651196-f202-4a72-ad34-6fa239f74bf2",
   "metadata": {
    "tags": []
   },
   "outputs": [
    {
     "name": "stderr",
     "output_type": "stream",
     "text": [
      "findfont: Font family ['NanumBarunGothic'] not found. Falling back to DejaVu Sans.\n"
     ]
    },
    {
     "data": {
      "text/plain": [
       "['Malgun Gothic']"
      ]
     },
     "execution_count": 1,
     "metadata": {},
     "output_type": "execute_result"
    }
   ],
   "source": [
    "import math\n",
    "import re\n",
    "import time\n",
    "from datetime import datetime, date\n",
    "\n",
    "import requests\n",
    "from bs4 import BeautifulSoup\n",
    "from selenium import webdriver\n",
    "\n",
    "from IPython.display import Image\n",
    "import pandas as pd\n",
    "import numpy as np\n",
    "\n",
    "pd.set_option('display.max_columns', None)\n",
    "\n",
    "from pykrx import stock\n",
    "import FinanceDataReader as fdr\n",
    "from pandas_datareader import data as pdr\n",
    "import yfinance as yf\n",
    "yf.pdr_override()\n",
    "import FinanceDataReader as fdr\n",
    "import finterstellar as fs\n",
    "\n",
    "\n",
    "import talib.abstract as ta\n",
    "from talib import MA_Type\n",
    "\n",
    "\n",
    "import warnings\n",
    "warnings.filterwarnings(action='ignore')\n",
    "\n",
    "import matplotlib.pyplot as plt\n",
    "import seaborn as sns\n",
    "sns.set()\n",
    "#-------------------- 차트 관련 속성 (한글처리, 그리드) -----------\n",
    "#plt.rc('font', family='NanumGothicOTF') # For MacOS\n",
    "plt.rcParams['font.family'] = 'Malgun Gothic'\n",
    "plt.rcParams['axes.unicode_minus'] = False\n",
    "\n",
    "pd.set_option('max_colwidth', None)\n",
    "plt.rcParams['font.family']"
   ]
  },
  {
   "cell_type": "markdown",
   "id": "06b20fce-f61b-48ac-8185-6847a3d5eba4",
   "metadata": {},
   "source": [
    "# 데이터 load"
   ]
  },
  {
   "cell_type": "code",
   "execution_count": 387,
   "id": "1134708d-f9c3-4846-a3b1-a1f1fdf98b6d",
   "metadata": {
    "tags": []
   },
   "outputs": [],
   "source": [
    "import pandas as pd\n",
    "import numpy as np\n",
    "\n",
    "송파df=pd.read_csv('./datasets/송파df.csv')"
   ]
  },
  {
   "cell_type": "code",
   "execution_count": 388,
   "id": "04582264-87c2-420b-a736-bf07e898a949",
   "metadata": {
    "tags": []
   },
   "outputs": [
    {
     "data": {
      "text/plain": [
       "Index(['회원일련번호값', '측정일련번호', '센터명', '연령대구분명', '측정장소구분명', '측정연령수', '입력구분명',\n",
       "       '인증구분명', '측정일자', '성별구분코드', '신장(cm)', '체중(kg)', '체지방율(%)', '허리둘레(cm)',\n",
       "       'BMI(kg/㎡)', '상대악력(%)', '교차윗몸일으키기(회)', '반복점프(회)', '왕복오래달리기(회)',\n",
       "       '트레드밀출력(VO₂max)', '스텝검사출력(VO₂max)', '앉아윗몸앞으로굽히기(cm)', '10M_4회_왕복달리기(초)',\n",
       "       '전신반응(초)', '제자리멀리뛰기(cm)', '성인체공시간(초)', '운동처방내용', '기존나이구간', '추가나이구간',\n",
       "       'BMI_판정', '비만동반질환_위험도', '심폐지구력등급'],\n",
       "      dtype='object')"
      ]
     },
     "execution_count": 388,
     "metadata": {},
     "output_type": "execute_result"
    }
   ],
   "source": [
    "송파df.columns"
   ]
  },
  {
   "cell_type": "markdown",
   "id": "bdfefa79-83a4-4a15-bd1f-fc071306a552",
   "metadata": {},
   "source": [
    "## 인증기준"
   ]
  },
  {
   "cell_type": "code",
   "execution_count": 4,
   "id": "01e37b9d-c261-44cb-8b6a-ab7ee68ccca6",
   "metadata": {
    "tags": []
   },
   "outputs": [],
   "source": [
    "#측정기준 list\n",
    "\n",
    "남19_24 = [62,47.6,62.6,55,16.1,9.9,0.301,229,0.605]\n",
    "남25_29 = [54,44.8,62.4,51,14.9,10.3,0.302,223,0.591]\n",
    "남30_34 = [49,42.9,62.6,47,14.2,10.6,0.304,219,0.583]\n",
    "남35_39 = [45,41.8,62.1,45,14.0,10.9,0.311,214,0.581]\n",
    "남40_44 = [42,40.9,62.8,44,14.2,11.0,0.320,209,0.547]\n",
    "남45_49 = [40,40.1,62.0,41,13.6,11.3,0.331,202,0.524]\n",
    "\n",
    "여19_24 = [30,36.8,46.8,36,19.7,12.3,0.332,162,0.479]\n",
    "여25_29 = [28,36.0,47.0,33,18.5,12.7,0.343,156,0.466]\n",
    "여30_34 = [26,34.8,49.6,31,18.2,12.9,0.347,154,0.464]\n",
    "여35_39 = [25,34.2,47.5,31,18.9,13.0,0.348,155,0.453]\n",
    "여40_44 = [24,33.8,47.1,30,18.8,13.1,0.345,153,0.442]\n",
    "여45_49 = [23,33.0,46.2,28,18.9,13.4,0.350,148,0.431]\n",
    "\n",
    "남_측정list = [남19_24,남25_29,남30_34,남35_39,남40_44,남45_49]\n",
    "여_측정list = [여19_24,여25_29,여30_34,여35_39,여40_44,여45_49]"
   ]
  },
  {
   "cell_type": "code",
   "execution_count": 5,
   "id": "ba6ae7a4-febb-43b7-9c21-bd003a9c14f8",
   "metadata": {
    "tags": []
   },
   "outputs": [
    {
     "data": {
      "text/html": [
       "<div>\n",
       "<style scoped>\n",
       "    .dataframe tbody tr th:only-of-type {\n",
       "        vertical-align: middle;\n",
       "    }\n",
       "\n",
       "    .dataframe tbody tr th {\n",
       "        vertical-align: top;\n",
       "    }\n",
       "\n",
       "    .dataframe thead th {\n",
       "        text-align: right;\n",
       "    }\n",
       "</style>\n",
       "<table border=\"1\" class=\"dataframe\">\n",
       "  <thead>\n",
       "    <tr style=\"text-align: right;\">\n",
       "      <th></th>\n",
       "      <th>20m_왕복오래달리기(회)</th>\n",
       "      <th>트레드밀/스텝검사(ml/kg/min)</th>\n",
       "      <th>상대악력(%)</th>\n",
       "      <th>교차윗몸일으키기(회)</th>\n",
       "      <th>앉아윗몸앞으로굽히기(cm)</th>\n",
       "      <th>10미터왕복달리기(초)</th>\n",
       "      <th>반응시간(초)</th>\n",
       "      <th>제자리멀리뛰기(cm)</th>\n",
       "      <th>체공시간(초)</th>\n",
       "    </tr>\n",
       "  </thead>\n",
       "  <tbody>\n",
       "    <tr>\n",
       "      <th>여19_24</th>\n",
       "      <td>30</td>\n",
       "      <td>36.8</td>\n",
       "      <td>46.8</td>\n",
       "      <td>36</td>\n",
       "      <td>19.7</td>\n",
       "      <td>12.3</td>\n",
       "      <td>0.332</td>\n",
       "      <td>162</td>\n",
       "      <td>0.479</td>\n",
       "    </tr>\n",
       "    <tr>\n",
       "      <th>여25_29</th>\n",
       "      <td>28</td>\n",
       "      <td>36.0</td>\n",
       "      <td>47.0</td>\n",
       "      <td>33</td>\n",
       "      <td>18.5</td>\n",
       "      <td>12.7</td>\n",
       "      <td>0.343</td>\n",
       "      <td>156</td>\n",
       "      <td>0.466</td>\n",
       "    </tr>\n",
       "    <tr>\n",
       "      <th>여30_34</th>\n",
       "      <td>26</td>\n",
       "      <td>34.8</td>\n",
       "      <td>49.6</td>\n",
       "      <td>31</td>\n",
       "      <td>18.2</td>\n",
       "      <td>12.9</td>\n",
       "      <td>0.347</td>\n",
       "      <td>154</td>\n",
       "      <td>0.464</td>\n",
       "    </tr>\n",
       "    <tr>\n",
       "      <th>여35_39</th>\n",
       "      <td>25</td>\n",
       "      <td>34.2</td>\n",
       "      <td>47.5</td>\n",
       "      <td>31</td>\n",
       "      <td>18.9</td>\n",
       "      <td>13.0</td>\n",
       "      <td>0.348</td>\n",
       "      <td>155</td>\n",
       "      <td>0.453</td>\n",
       "    </tr>\n",
       "    <tr>\n",
       "      <th>여40_44</th>\n",
       "      <td>24</td>\n",
       "      <td>33.8</td>\n",
       "      <td>47.1</td>\n",
       "      <td>30</td>\n",
       "      <td>18.8</td>\n",
       "      <td>13.1</td>\n",
       "      <td>0.345</td>\n",
       "      <td>153</td>\n",
       "      <td>0.442</td>\n",
       "    </tr>\n",
       "    <tr>\n",
       "      <th>여45_49</th>\n",
       "      <td>23</td>\n",
       "      <td>33.0</td>\n",
       "      <td>46.2</td>\n",
       "      <td>28</td>\n",
       "      <td>18.9</td>\n",
       "      <td>13.4</td>\n",
       "      <td>0.350</td>\n",
       "      <td>148</td>\n",
       "      <td>0.431</td>\n",
       "    </tr>\n",
       "  </tbody>\n",
       "</table>\n",
       "</div>"
      ],
      "text/plain": [
       "        20m_왕복오래달리기(회)  트레드밀/스텝검사(ml/kg/min)  상대악력(%)  교차윗몸일으키기(회)  \\\n",
       "여19_24              30                  36.8     46.8           36   \n",
       "여25_29              28                  36.0     47.0           33   \n",
       "여30_34              26                  34.8     49.6           31   \n",
       "여35_39              25                  34.2     47.5           31   \n",
       "여40_44              24                  33.8     47.1           30   \n",
       "여45_49              23                  33.0     46.2           28   \n",
       "\n",
       "        앉아윗몸앞으로굽히기(cm)  10미터왕복달리기(초)  반응시간(초)  제자리멀리뛰기(cm)  체공시간(초)  \n",
       "여19_24            19.7          12.3    0.332          162    0.479  \n",
       "여25_29            18.5          12.7    0.343          156    0.466  \n",
       "여30_34            18.2          12.9    0.347          154    0.464  \n",
       "여35_39            18.9          13.0    0.348          155    0.453  \n",
       "여40_44            18.8          13.1    0.345          153    0.442  \n",
       "여45_49            18.9          13.4    0.350          148    0.431  "
      ]
     },
     "execution_count": 5,
     "metadata": {},
     "output_type": "execute_result"
    }
   ],
   "source": [
    "여성_인증기준 = pd.DataFrame(여_측정list)\n",
    "여성_인증기준.rename(index = {0:'여19_24',1:'여25_29',2:'여30_34',3:'여35_39',4:'여40_44',5:'여45_49'},\n",
    "               columns = {0:'20m_왕복오래달리기(회)',\n",
    "                          1:'트레드밀/스텝검사(ml/kg/min)',\n",
    "                          2:'상대악력(%)',\n",
    "                          3:'교차윗몸일으키기(회)',\n",
    "                          4:'앉아윗몸앞으로굽히기(cm)',\n",
    "                          5:'10미터왕복달리기(초)',\n",
    "                          6:'반응시간(초)',\n",
    "                          7:'제자리멀리뛰기(cm)',\n",
    "                          8:'체공시간(초)'} ,inplace = True)\n",
    "여성_인증기준"
   ]
  },
  {
   "cell_type": "code",
   "execution_count": 6,
   "id": "5b12eaa4-662b-42c5-9457-9ea38b5a2674",
   "metadata": {
    "tags": []
   },
   "outputs": [
    {
     "data": {
      "text/html": [
       "<div>\n",
       "<style scoped>\n",
       "    .dataframe tbody tr th:only-of-type {\n",
       "        vertical-align: middle;\n",
       "    }\n",
       "\n",
       "    .dataframe tbody tr th {\n",
       "        vertical-align: top;\n",
       "    }\n",
       "\n",
       "    .dataframe thead th {\n",
       "        text-align: right;\n",
       "    }\n",
       "</style>\n",
       "<table border=\"1\" class=\"dataframe\">\n",
       "  <thead>\n",
       "    <tr style=\"text-align: right;\">\n",
       "      <th></th>\n",
       "      <th>20m_왕복오래달리기(회)</th>\n",
       "      <th>트레드밀/스텝검사(ml/kg/min)</th>\n",
       "      <th>상대악력(%)</th>\n",
       "      <th>교차윗몸일으키기(회)</th>\n",
       "      <th>앉아윗몸앞으로굽히기(cm)</th>\n",
       "      <th>10미터왕복달리기(초)</th>\n",
       "      <th>반응시간(초)</th>\n",
       "      <th>제자리멀리뛰기(cm)</th>\n",
       "      <th>체공시간(초)</th>\n",
       "    </tr>\n",
       "  </thead>\n",
       "  <tbody>\n",
       "    <tr>\n",
       "      <th>남19_24</th>\n",
       "      <td>62</td>\n",
       "      <td>47.6</td>\n",
       "      <td>62.6</td>\n",
       "      <td>55</td>\n",
       "      <td>16.1</td>\n",
       "      <td>9.9</td>\n",
       "      <td>0.301</td>\n",
       "      <td>229</td>\n",
       "      <td>0.605</td>\n",
       "    </tr>\n",
       "    <tr>\n",
       "      <th>남25_29</th>\n",
       "      <td>54</td>\n",
       "      <td>44.8</td>\n",
       "      <td>62.4</td>\n",
       "      <td>51</td>\n",
       "      <td>14.9</td>\n",
       "      <td>10.3</td>\n",
       "      <td>0.302</td>\n",
       "      <td>223</td>\n",
       "      <td>0.591</td>\n",
       "    </tr>\n",
       "    <tr>\n",
       "      <th>남30_34</th>\n",
       "      <td>49</td>\n",
       "      <td>42.9</td>\n",
       "      <td>62.6</td>\n",
       "      <td>47</td>\n",
       "      <td>14.2</td>\n",
       "      <td>10.6</td>\n",
       "      <td>0.304</td>\n",
       "      <td>219</td>\n",
       "      <td>0.583</td>\n",
       "    </tr>\n",
       "    <tr>\n",
       "      <th>남35_39</th>\n",
       "      <td>45</td>\n",
       "      <td>41.8</td>\n",
       "      <td>62.1</td>\n",
       "      <td>45</td>\n",
       "      <td>14.0</td>\n",
       "      <td>10.9</td>\n",
       "      <td>0.311</td>\n",
       "      <td>214</td>\n",
       "      <td>0.581</td>\n",
       "    </tr>\n",
       "    <tr>\n",
       "      <th>남40_44</th>\n",
       "      <td>42</td>\n",
       "      <td>40.9</td>\n",
       "      <td>62.8</td>\n",
       "      <td>44</td>\n",
       "      <td>14.2</td>\n",
       "      <td>11.0</td>\n",
       "      <td>0.320</td>\n",
       "      <td>209</td>\n",
       "      <td>0.547</td>\n",
       "    </tr>\n",
       "    <tr>\n",
       "      <th>남45_49</th>\n",
       "      <td>40</td>\n",
       "      <td>40.1</td>\n",
       "      <td>62.0</td>\n",
       "      <td>41</td>\n",
       "      <td>13.6</td>\n",
       "      <td>11.3</td>\n",
       "      <td>0.331</td>\n",
       "      <td>202</td>\n",
       "      <td>0.524</td>\n",
       "    </tr>\n",
       "  </tbody>\n",
       "</table>\n",
       "</div>"
      ],
      "text/plain": [
       "        20m_왕복오래달리기(회)  트레드밀/스텝검사(ml/kg/min)  상대악력(%)  교차윗몸일으키기(회)  \\\n",
       "남19_24              62                  47.6     62.6           55   \n",
       "남25_29              54                  44.8     62.4           51   \n",
       "남30_34              49                  42.9     62.6           47   \n",
       "남35_39              45                  41.8     62.1           45   \n",
       "남40_44              42                  40.9     62.8           44   \n",
       "남45_49              40                  40.1     62.0           41   \n",
       "\n",
       "        앉아윗몸앞으로굽히기(cm)  10미터왕복달리기(초)  반응시간(초)  제자리멀리뛰기(cm)  체공시간(초)  \n",
       "남19_24            16.1           9.9    0.301          229    0.605  \n",
       "남25_29            14.9          10.3    0.302          223    0.591  \n",
       "남30_34            14.2          10.6    0.304          219    0.583  \n",
       "남35_39            14.0          10.9    0.311          214    0.581  \n",
       "남40_44            14.2          11.0    0.320          209    0.547  \n",
       "남45_49            13.6          11.3    0.331          202    0.524  "
      ]
     },
     "execution_count": 6,
     "metadata": {},
     "output_type": "execute_result"
    }
   ],
   "source": [
    "남성_인증기준 = pd.DataFrame(남_측정list)\n",
    "남성_인증기준.rename(index = {0:'남19_24',1:'남25_29',2:'남30_34',3:'남35_39',4:'남40_44',5:'남45_49'},\n",
    "               columns = {0:'20m_왕복오래달리기(회)',\n",
    "                          1:'트레드밀/스텝검사(ml/kg/min)',\n",
    "                          2:'상대악력(%)',\n",
    "                          3:'교차윗몸일으키기(회)',\n",
    "                          4:'앉아윗몸앞으로굽히기(cm)',\n",
    "                          5:'10미터왕복달리기(초)',\n",
    "                          6:'반응시간(초)',\n",
    "                          7:'제자리멀리뛰기(cm)',\n",
    "                          8:'체공시간(초)'} ,inplace = True)\n",
    "남성_인증기준"
   ]
  },
  {
   "cell_type": "markdown",
   "id": "e335b616-467c-4334-8b1f-2c4df126f31f",
   "metadata": {},
   "source": [
    "# 인코딩"
   ]
  },
  {
   "cell_type": "code",
   "execution_count": 7,
   "id": "0e6cc8ef-1915-4ceb-b866-0d645c2bf650",
   "metadata": {
    "tags": []
   },
   "outputs": [],
   "source": [
    "송파df['성별구분코드']=송파df['성별구분코드'].transform(lambda x : x.replace(['M','F'],[0,1]))"
   ]
  },
  {
   "cell_type": "markdown",
   "id": "d9f9e170-0ac0-42ab-a528-bb8986851c27",
   "metadata": {},
   "source": [
    "# 나이 구간 나누기"
   ]
  },
  {
   "cell_type": "code",
   "execution_count": 8,
   "id": "8ffe6d55-8b2c-4116-825c-718799ee9ce6",
   "metadata": {
    "tags": []
   },
   "outputs": [
    {
     "data": {
      "text/plain": [
       "((14544, 32), (7940, 32), (6137, 32))"
      ]
     },
     "execution_count": 8,
     "metadata": {},
     "output_type": "execute_result"
    }
   ],
   "source": [
    "송파20df=송파df[(송파df['측정연령수']>=20) &(송파df['측정연령수']<30)]\n",
    "송파30df=송파df[(송파df['측정연령수']>=30) &(송파df['측정연령수']<40)]\n",
    "송파40df=송파df[(송파df['측정연령수']>=40) &(송파df['측정연령수']<50)]\n",
    "\n",
    "송파20df.shape,송파30df.shape,송파40df.shape"
   ]
  },
  {
   "cell_type": "code",
   "execution_count": 9,
   "id": "135d4c00-421c-4846-8f6d-978da35effd9",
   "metadata": {
    "tags": []
   },
   "outputs": [
    {
     "data": {
      "text/plain": [
       "성인    30914\n",
       "Name: 연령대구분명, dtype: int64"
      ]
     },
     "execution_count": 9,
     "metadata": {},
     "output_type": "execute_result"
    }
   ],
   "source": [
    "송파df['연령대구분명'].value_counts()"
   ]
  },
  {
   "cell_type": "code",
   "execution_count": 10,
   "id": "563ee789-2d2f-463e-98c4-5026127d0ac1",
   "metadata": {
    "tags": []
   },
   "outputs": [],
   "source": [
    "송파df=송파df[송파df['연령대구분명']=='성인']"
   ]
  },
  {
   "cell_type": "code",
   "execution_count": 11,
   "id": "d36f224f-3705-47ce-aef1-e6d06a5e499b",
   "metadata": {
    "tags": []
   },
   "outputs": [],
   "source": [
    "# 송파df\n",
    "\n",
    "송파df['기존나이구간'] = 0\n",
    "for i in range(len(송파df)):\n",
    "    if 송파df['측정연령수'].iloc[i] >= 30.0 and 송파df['측정연령수'].iloc[i] < 35.0 :\n",
    "        송파df['기존나이구간'].iloc[i] = '30대초반'\n",
    "    \n",
    "    if 송파df['측정연령수'].iloc[i] >= 35.0 and 송파df['측정연령수'].iloc[i]<40.0 :\n",
    "        송파df['기존나이구간'].iloc[i] = '30대후반'\n",
    "        \n",
    "    if 송파df['측정연령수'].iloc[i] >= 19.0 and 송파df['측정연령수'].iloc[i] < 25.0 :\n",
    "        송파df['기존나이구간'].iloc[i] = '20대초반'\n",
    "    \n",
    "    if 송파df['측정연령수'].iloc[i] >= 25.0 and 송파df['측정연령수'].iloc[i]<30.0 :\n",
    "        송파df['기존나이구간'].iloc[i] = '20대후반'\n",
    "    \n",
    "    if 송파df['측정연령수'].iloc[i] >= 40.0 and 송파df['측정연령수'].iloc[i] < 45.0 :\n",
    "        송파df['기존나이구간'].iloc[i] = '40대초반'\n",
    "\n",
    "    if 송파df['측정연령수'].iloc[i] >= 45.0 and 송파df['측정연령수'].iloc[i]<50.0 :\n",
    "        송파df['기존나이구간'].iloc[i] = '40대후반'"
   ]
  },
  {
   "cell_type": "code",
   "execution_count": 12,
   "id": "57590394-2bed-4a65-92fa-72b23df0678f",
   "metadata": {
    "tags": []
   },
   "outputs": [
    {
     "data": {
      "text/plain": [
       "(2293, 32)"
      ]
     },
     "execution_count": 12,
     "metadata": {},
     "output_type": "execute_result"
    }
   ],
   "source": [
    "송파df[송파df['측정연령수']==19].shape"
   ]
  },
  {
   "cell_type": "code",
   "execution_count": 13,
   "id": "e59b6f25-3a81-4d3d-b984-819bc460d22a",
   "metadata": {
    "tags": []
   },
   "outputs": [
    {
     "data": {
      "text/plain": [
       "20대초반    10786\n",
       "20대후반     6051\n",
       "30대초반     4193\n",
       "30대후반     3747\n",
       "40대초반     3132\n",
       "40대후반     3005\n",
       "Name: 기존나이구간, dtype: int64"
      ]
     },
     "execution_count": 13,
     "metadata": {},
     "output_type": "execute_result"
    }
   ],
   "source": [
    "송파df['기존나이구간'].value_counts()"
   ]
  },
  {
   "cell_type": "code",
   "execution_count": 14,
   "id": "b71012ea-bd02-4617-adc0-628d62c66847",
   "metadata": {
    "tags": []
   },
   "outputs": [],
   "source": [
    "idx=송파df[송파df['기존나이구간']==0].index.values\n",
    "송파df=송파df.drop(idx,axis=0)"
   ]
  },
  {
   "cell_type": "code",
   "execution_count": 15,
   "id": "1ce0dd52-2c58-48cb-82f7-6e1496f8d178",
   "metadata": {
    "tags": []
   },
   "outputs": [],
   "source": [
    "# 송파30df['기존나이구간'] = 0\n",
    "# for i in range(len(송파30df)):\n",
    "#     if 송파30df['측정연령수'].iloc[i] >= 30.0 and 송파30df['측정연령수'].iloc[i] < 35.0 :\n",
    "#         송파30df['기존나이구간'].iloc[i] = '30대초반'\n",
    "    \n",
    "#     if 송파30df['측정연령수'].iloc[i] >= 35.0 and 송파30df['측정연령수'].iloc[i]<40.0 :\n",
    "#         송파30df['기존나이구간'].iloc[i] = '30대후반'"
   ]
  },
  {
   "cell_type": "code",
   "execution_count": 16,
   "id": "b0d27cc3-88e5-40da-918e-2371eaf04d84",
   "metadata": {
    "tags": []
   },
   "outputs": [],
   "source": [
    "송파df['추가나이구간'] = 0\n",
    "for i in range(len(송파df)):\n",
    "    if 송파df['측정연령수'].iloc[i] >=30 and 송파df['측정연령수'].iloc[i]<=32:\n",
    "        송파df['추가나이구간'].iloc[i]='30대초반'\n",
    "    if 송파df['측정연령수'].iloc[i] >=33 and 송파df['측정연령수'].iloc[i]<=36:\n",
    "        송파df['추가나이구간'].iloc[i]='30대중반'\n",
    "    if 송파df['측정연령수'].iloc[i] >=37 and 송파df['측정연령수'].iloc[i]<=39:\n",
    "        송파df['추가나이구간'].iloc[i]='30대후반'\n",
    "        \n",
    "        \n",
    "    if 송파df['측정연령수'].iloc[i] >=19 and 송파df['측정연령수'].iloc[i]<=22:\n",
    "        송파df['추가나이구간'].iloc[i]='20대초반'\n",
    "    if 송파df['측정연령수'].iloc[i] >=23 and 송파df['측정연령수'].iloc[i]<=26:\n",
    "        송파df['추가나이구간'].iloc[i]='20대중반'\n",
    "    if 송파df['측정연령수'].iloc[i] >=27 and 송파df['측정연령수'].iloc[i]<=29:\n",
    "        송파df['추가나이구간'].iloc[i]='20대후반'\n",
    "        \n",
    "        \n",
    "    if 송파df['측정연령수'].iloc[i] >=40 and 송파df['측정연령수'].iloc[i]<=42:\n",
    "        송파df['추가나이구간'].iloc[i]='40대초반'\n",
    "    if 송파df['측정연령수'].iloc[i] >=43 and 송파df['측정연령수'].iloc[i]<=46:\n",
    "        송파df['추가나이구간'].iloc[i]='40대중반'\n",
    "    if 송파df['측정연령수'].iloc[i] >=47 and 송파df['측정연령수'].iloc[i]<=49:\n",
    "        송파df['추가나이구간'].iloc[i]='40대후반'\n"
   ]
  },
  {
   "cell_type": "code",
   "execution_count": null,
   "id": "3060a913-7eee-42fd-9345-e4b559d897a2",
   "metadata": {},
   "outputs": [],
   "source": [
    "19,23,27,30,33,37,40,43,47,50,53,57,60,63,67"
   ]
  },
  {
   "cell_type": "code",
   "execution_count": 17,
   "id": "028644e7-85fd-44c3-ae7d-703cc97441e6",
   "metadata": {
    "tags": []
   },
   "outputs": [
    {
     "data": {
      "text/plain": [
       "20대중반    5067\n",
       "20대초반    8205\n",
       "20대후반    3565\n",
       "30대중반    3042\n",
       "30대초반    2664\n",
       "30대후반    2234\n",
       "40대중반    2393\n",
       "40대초반    1975\n",
       "40대후반    1769\n",
       "Name: 추가나이구간, dtype: int64"
      ]
     },
     "execution_count": 17,
     "metadata": {},
     "output_type": "execute_result"
    }
   ],
   "source": [
    "송파df['추가나이구간'].value_counts().sort_index()"
   ]
  },
  {
   "cell_type": "markdown",
   "id": "4212d389-2094-499d-b0e4-776e5886b76c",
   "metadata": {},
   "source": [
    "# 추가피쳐만들기"
   ]
  },
  {
   "cell_type": "markdown",
   "id": "f7a72553-1ace-40b6-9bb2-0f9406379bdd",
   "metadata": {},
   "source": [
    "## BMI"
   ]
  },
  {
   "attachments": {
    "e70b60da-7260-4283-8a42-073602fd7f22.png": {
     "image/png": "[encoded data removed]"
    }
   },
   "cell_type": "markdown",
   "id": "4e2e1b29-0b11-454b-9a49-dc0856e999cd",
   "metadata": {},
   "source": [
    "- ref : https://www.hanam.go.kr/health/contents.do?key=8926\n",
    "\n",
    "![image.png](attachment:e70b60da-7260-4283-8a42-073602fd7f22.png)"
   ]
  },
  {
   "cell_type": "markdown",
   "id": "cc2fe26e-e0e0-478a-b414-e9bb5383407f",
   "metadata": {},
   "source": [
    "### BMI_판정"
   ]
  },
  {
   "cell_type": "code",
   "execution_count": 18,
   "id": "25833f96-c903-4ff4-b594-6b45b1cf43db",
   "metadata": {
    "tags": []
   },
   "outputs": [],
   "source": [
    "송파df['BMI_판정']=0\n",
    "\n",
    "for i in range(len(송파df)):\n",
    "    if 송파df['BMI(kg/㎡)'].iloc[i] < 18.5 :\n",
    "        송파df['BMI_판정'].iloc[i]='저체중'\n",
    "    if 송파df['BMI(kg/㎡)'].iloc[i] >=18.5 and 송파df['BMI(kg/㎡)'].iloc[i]<= 22.9:\n",
    "        송파df['BMI_판정'].iloc[i]='정상'\n",
    "    if 송파df['BMI(kg/㎡)'].iloc[i] >=23.0 and 송파df['BMI(kg/㎡)'].iloc[i]<= 24.9:\n",
    "        송파df['BMI_판정'].iloc[i]='비만전단계'\n",
    "    if 송파df['BMI(kg/㎡)'].iloc[i] >=25.0 and 송파df['BMI(kg/㎡)'].iloc[i]<= 29.9:\n",
    "        송파df['BMI_판정'].iloc[i]='1단계비만'\n",
    "    if 송파df['BMI(kg/㎡)'].iloc[i] >=30.0 and 송파df['BMI(kg/㎡)'].iloc[i]<= 34.9:\n",
    "        송파df['BMI_판정'].iloc[i]='2단계비만'\n",
    "    if 송파df['BMI(kg/㎡)'].iloc[i] >=35.0:\n",
    "        송파df['BMI_판정'].iloc[i] = '3단계비만'"
   ]
  },
  {
   "cell_type": "code",
   "execution_count": 19,
   "id": "86ea0153-b641-4c30-b37b-a592be5151c5",
   "metadata": {
    "tags": []
   },
   "outputs": [
    {
     "data": {
      "text/plain": [
       "정상       12715\n",
       "1단계비만     8276\n",
       "비만전단계     7176\n",
       "저체중       1416\n",
       "2단계비만     1201\n",
       "3단계비만      130\n",
       "Name: BMI_판정, dtype: int64"
      ]
     },
     "execution_count": 19,
     "metadata": {},
     "output_type": "execute_result"
    }
   ],
   "source": [
    "송파df['BMI_판정'].value_counts()"
   ]
  },
  {
   "cell_type": "markdown",
   "id": "a0b04eb8-9703-4c4d-b78e-340bbe90062c",
   "metadata": {},
   "source": [
    "### 비만동반질환_위험도"
   ]
  },
  {
   "cell_type": "markdown",
   "id": "4581960c-0011-4b10-8d17-faf9c01cfb4b",
   "metadata": {},
   "source": [
    "#### 허리둘레 0 값 채우기"
   ]
  },
  {
   "cell_type": "code",
   "execution_count": 20,
   "id": "7937c029-3ee1-4d7d-be69-3ecdbfb7eff3",
   "metadata": {
    "tags": []
   },
   "outputs": [],
   "source": [
    "\n",
    "from sklearn.model_selection import train_test_split, cross_val_score, cross_validate, GridSearchCV, KFold, StratifiedKFold\n",
    "from sklearn.metrics import mean_squared_error\n",
    "from sklearn.metrics import mean_squared_log_error\n",
    "\n",
    "\n",
    "from sklearn.ensemble     import RandomForestRegressor\n",
    "from sklearn.tree         import DecisionTreeRegressor\n",
    "from sklearn.linear_model import LinearRegression, Ridge, Lasso\n",
    "# ---- 추가 모델\n",
    "from sklearn.ensemble     import AdaBoostRegressor, VotingRegressor\n",
    "from xgboost              import XGBRegressor\n",
    "from lightgbm             import LGBMRegressor\n",
    "\n"
   ]
  },
  {
   "cell_type": "code",
   "execution_count": 21,
   "id": "9208f4cd-5b70-480b-abcb-791eaa55c1ca",
   "metadata": {
    "tags": []
   },
   "outputs": [
    {
     "data": {
      "text/plain": [
       "Index(['회원일련번호값', '측정일련번호', '센터명', '연령대구분명', '측정장소구분명', '측정연령수', '입력구분명',\n",
       "       '인증구분명', '측정일자', '성별구분코드', '신장(cm)', '체중(kg)', '체지방율(%)', '허리둘레(cm)',\n",
       "       'BMI(kg/㎡)', '상대악력(%)', '교차윗몸일으키기(회)', '반복점프(회)', '왕복오래달리기(회)',\n",
       "       '트레드밀출력(VO₂max)', '스텝검사출력(VO₂max)', '앉아윗몸앞으로굽히기(cm)', '10M_4회_왕복달리기(초)',\n",
       "       '전신반응(초)', '제자리멀리뛰기(cm)', '성인체공시간(초)', '운동처방내용', '기존나이구간', '추가나이구간',\n",
       "       'BMI_판정', '비만동반질환_위험도', '심폐지구력등급'],\n",
       "      dtype='object')"
      ]
     },
     "execution_count": 21,
     "metadata": {},
     "output_type": "execute_result"
    }
   ],
   "source": [
    "송파df.columns"
   ]
  },
  {
   "cell_type": "code",
   "execution_count": 22,
   "id": "652b352f-87aa-4b0f-af39-5b13d5ce97a4",
   "metadata": {
    "tags": []
   },
   "outputs": [
    {
     "data": {
      "text/plain": [
       "Index(['회원일련번호값', '측정일련번호', '센터명', '연령대구분명', '측정장소구분명', '측정연령수', '입력구분명',\n",
       "       '인증구분명', '측정일자', '성별구분코드', '신장(cm)', '체중(kg)', '체지방율(%)', '허리둘레(cm)',\n",
       "       'BMI(kg/㎡)', '상대악력(%)', '교차윗몸일으키기(회)', '반복점프(회)', '왕복오래달리기(회)',\n",
       "       '트레드밀출력(VO₂max)', '스텝검사출력(VO₂max)', '앉아윗몸앞으로굽히기(cm)', '10M_4회_왕복달리기(초)',\n",
       "       '전신반응(초)', '제자리멀리뛰기(cm)', '성인체공시간(초)', '운동처방내용', '기존나이구간', '추가나이구간',\n",
       "       'BMI_판정', '비만동반질환_위험도', '심폐지구력등급'],\n",
       "      dtype='object')"
      ]
     },
     "execution_count": 22,
     "metadata": {},
     "output_type": "execute_result"
    }
   ],
   "source": [
    "송파df_cp=송파df.copy()\n",
    "송파df_cp.columns"
   ]
  },
  {
   "cell_type": "code",
   "execution_count": 23,
   "id": "abfe3d5c-5713-498e-9218-da846997c2e2",
   "metadata": {
    "tags": []
   },
   "outputs": [],
   "source": [
    "송파df_cp2=송파df_cp[['측정연령수','성별구분코드','신장(cm)', '체중(kg)', '체지방율(%)', '허리둘레(cm)',\n",
    "       'BMI(kg/㎡)', '상대악력(%)', '교차윗몸일으키기(회)', '반복점프(회)', '왕복오래달리기(회)',\n",
    "       '트레드밀출력(VO₂max)', '스텝검사출력(VO₂max)', '앉아윗몸앞으로굽히기(cm)', '10M_4회_왕복달리기(초)',\n",
    "       '전신반응(초)', '제자리멀리뛰기(cm)', '성인체공시간(초)']]"
   ]
  },
  {
   "cell_type": "code",
   "execution_count": 24,
   "id": "33d1c4e5-5b5a-4d84-93bb-353aa094384c",
   "metadata": {
    "tags": []
   },
   "outputs": [
    {
     "name": "stdout",
     "output_type": "stream",
     "text": [
      "<class 'pandas.core.frame.DataFrame'>\n",
      "Int64Index: 30914 entries, 0 to 30913\n",
      "Data columns (total 18 columns):\n",
      " #   Column           Non-Null Count  Dtype  \n",
      "---  ------           --------------  -----  \n",
      " 0   측정연령수            30914 non-null  float64\n",
      " 1   성별구분코드           30914 non-null  int64  \n",
      " 2   신장(cm)           30914 non-null  float64\n",
      " 3   체중(kg)           30914 non-null  float64\n",
      " 4   체지방율(%)          30914 non-null  float64\n",
      " 5   허리둘레(cm)         30914 non-null  float64\n",
      " 6   BMI(kg/㎡)        30914 non-null  float64\n",
      " 7   상대악력(%)          30914 non-null  float64\n",
      " 8   교차윗몸일으키기(회)      30914 non-null  float64\n",
      " 9   반복점프(회)          30914 non-null  float64\n",
      " 10  왕복오래달리기(회)       30914 non-null  float64\n",
      " 11  트레드밀출력(VO₂max)   30914 non-null  float64\n",
      " 12  스텝검사출력(VO₂max)   30914 non-null  float64\n",
      " 13  앉아윗몸앞으로굽히기(cm)   30914 non-null  float64\n",
      " 14  10M_4회_왕복달리기(초)  30914 non-null  float64\n",
      " 15  전신반응(초)          30914 non-null  float64\n",
      " 16  제자리멀리뛰기(cm)      30914 non-null  float64\n",
      " 17  성인체공시간(초)        30914 non-null  float64\n",
      "dtypes: float64(17), int64(1)\n",
      "memory usage: 4.5 MB\n"
     ]
    }
   ],
   "source": [
    "송파df_cp2.info()"
   ]
  },
  {
   "cell_type": "code",
   "execution_count": 25,
   "id": "a7f505a7-0ea6-482f-a7da-93ca909ef1c6",
   "metadata": {
    "tags": []
   },
   "outputs": [
    {
     "name": "stdout",
     "output_type": "stream",
     "text": [
      "RMSE :  12.28120114880025\n"
     ]
    }
   ],
   "source": [
    "# def my_fill_windspeed(df):\n",
    "#     target  = df[['regcount','casual','registered', 'regdate']]\n",
    "#     df = df.drop(['regcount','casual','registered','regdate'], axis=1)\n",
    "    \n",
    "df1   = 송파df_cp2[송파df_cp2['허리둘레(cm)'] != 0]\n",
    "y_df1 = df1['허리둘레(cm)']\n",
    "X_df1 = df1.drop('허리둘레(cm)', axis=1)\n",
    "\n",
    "rf = RandomForestRegressor(random_state=11)  #RandomForestRegressor(random_state=11)\n",
    "X_df1_8, X_df1_2, y_df1_8, y_df1_2 = train_test_split(X_df1, y_df1, test_size=0.2, random_state=11)\n",
    "rf.fit(X_df1_8, y_df1_8)\n",
    "\n",
    "pred = rf.predict(X_df1_2)\n",
    "mse_score = mean_squared_error(y_df1_2, pred)\n",
    "print(\"RMSE : \", np.sqrt(mse_score) )\n",
    "\n",
    "# pd.concat([송파df, target], axis=1)"
   ]
  },
  {
   "cell_type": "code",
   "execution_count": null,
   "id": "ecf4618d-4b94-43b6-bb3d-1691dc776178",
   "metadata": {
    "tags": []
   },
   "outputs": [],
   "source": [
    "df0 = 송파df_cp2[송파df_cp2['허리둘레(cm)'] == 0]\n",
    "y_df0 = df0['허리둘레(cm)']\n",
    "X_df0 = df0.drop('허리둘레(cm)', axis=1)\n",
    "pred = rf.predict(X_df0)\n",
    "widx = X_df0.index.values\n",
    "송파df_cp2.loc[widx, '허리둘레(cm)'] = pred"
   ]
  },
  {
   "cell_type": "code",
   "execution_count": null,
   "id": "7e332f2e-d45d-48ce-ab52-212d436da010",
   "metadata": {
    "tags": []
   },
   "outputs": [],
   "source": [
    "송파df_cp2[송파df_cp2['허리둘레(cm)']==0]"
   ]
  },
  {
   "cell_type": "code",
   "execution_count": null,
   "id": "f51039d3-2cb1-419a-901e-f97a065757be",
   "metadata": {
    "tags": []
   },
   "outputs": [],
   "source": [
    "송파df['허리둘레(cm)']=송파df_cp2['허리둘레(cm)']"
   ]
  },
  {
   "cell_type": "code",
   "execution_count": null,
   "id": "85c0a601-4c2e-4827-9d1e-b428095b9f22",
   "metadata": {
    "tags": []
   },
   "outputs": [],
   "source": [
    "송파df['허리둘레(cm)'][송파df['허리둘레(cm)']!=0].shape,송파df.shape[0]"
   ]
  },
  {
   "cell_type": "markdown",
   "id": "37440500-e788-489a-a217-4d6e924f8654",
   "metadata": {},
   "source": [
    "#### 계산하기"
   ]
  },
  {
   "cell_type": "code",
   "execution_count": null,
   "id": "a5654522-eb95-4876-8346-f7ce675fd120",
   "metadata": {
    "tags": []
   },
   "outputs": [],
   "source": [
    "# 송파df[(송파df['BMI_판정'] == '저체중')&( 송파df['허리둘레(cm)'] < 90)]"
   ]
  },
  {
   "cell_type": "code",
   "execution_count": null,
   "id": "c38ced55-51da-47f1-943c-448f2b67667f",
   "metadata": {
    "tags": []
   },
   "outputs": [],
   "source": [
    "송파df['비만동반질환_위험도']=0\n",
    "for i in range(len(송파df)):\n",
    "    if 송파df['성별구분코드'].iloc[i]==0  and  송파df['허리둘레(cm)'].iloc[i] < 90:\n",
    "        if 송파df['BMI_판정'].iloc[i] == '저체중':\n",
    "            송파df['비만동반질환_위험도'].iloc[i]='낮음'\n",
    "        if 송파df['BMI_판정'].iloc[i] == '정상' :\n",
    "            송파df['비만동반질환_위험도'].iloc[i]='보통'\n",
    "        if 송파df['BMI_판정'].iloc[i] == '비만전단계':\n",
    "            송파df['비만동반질환_위험도'].iloc[i]='약간높음'\n",
    "        if 송파df['BMI_판정'].iloc[i] == '1단계비만':\n",
    "            송파df['비만동반질환_위험도'].iloc[i]='높음'\n",
    "        if 송파df['BMI_판정'].iloc[i] == '2단계비만':\n",
    "            송파df['비만동반질환_위험도'].iloc[i]='매우높음'\n",
    "        if 송파df['BMI_판정'].iloc[i] == '3단계비만':\n",
    "            송파df['비만동반질환_위험도'].iloc[i]='가장높음'\n",
    "            \n",
    "    if 송파df['성별구분코드'].iloc[i]==0  and  송파df['허리둘레(cm)'].iloc[i] >= 90:\n",
    "        if 송파df['BMI_판정'].iloc[i] == '저체중':\n",
    "            송파df['비만동반질환_위험도'].iloc[i]='보통'\n",
    "        if 송파df['BMI_판정'].iloc[i] == '정상' :\n",
    "            송파df['비만동반질환_위험도'].iloc[i]='약간높음'\n",
    "        if 송파df['BMI_판정'].iloc[i] == '비만전단계':\n",
    "            송파df['비만동반질환_위험도'].iloc[i]='높음'\n",
    "        if 송파df['BMI_판정'].iloc[i] == '1단계비만':\n",
    "            송파df['비만동반질환_위험도'].iloc[i]='매우높음'\n",
    "        if 송파df['BMI_판정'].iloc[i] == '2단계비만':\n",
    "            송파df['비만동반질환_위험도'].iloc[i]='가장높음'\n",
    "        if 송파df['BMI_판정'].iloc[i] == '3단계비만':\n",
    "            송파df['비만동반질환_위험도'].iloc[i]='가장높음'\n",
    "            \n",
    "    if 송파df['성별구분코드'].iloc[i]==1 and  송파df['허리둘레(cm)'].iloc[i] < 85:\n",
    "        if 송파df['BMI_판정'].iloc[i] == '저체중':\n",
    "            송파df['비만동반질환_위험도'].iloc[i]='낮음'\n",
    "        if 송파df['BMI_판정'].iloc[i] == '정상' :\n",
    "            송파df['비만동반질환_위험도'].iloc[i]='보통'\n",
    "        if 송파df['BMI_판정'].iloc[i] == '비만전단계':\n",
    "            송파df['비만동반질환_위험도'].iloc[i]='약간높음'\n",
    "        if 송파df['BMI_판정'].iloc[i] == '1단계비만':\n",
    "            송파df['비만동반질환_위험도'].iloc[i]='높음'\n",
    "        if 송파df['BMI_판정'].iloc[i] == '2단계비만':\n",
    "            송파df['비만동반질환_위험도'].iloc[i]='매우높음'\n",
    "        if 송파df['BMI_판정'].iloc[i] == '3단계비만':\n",
    "            송파df['비만동반질환_위험도'].iloc[i]='가장높음'\n",
    "            \n",
    "    if 송파df['성별구분코드'].iloc[i]==1  and  송파df['허리둘레(cm)'].iloc[i] >= 85:\n",
    "        if 송파df['BMI_판정'].iloc[i] == '저체중':\n",
    "            송파df['비만동반질환_위험도'].iloc[i]='보통'\n",
    "        if 송파df['BMI_판정'].iloc[i] == '정상' :\n",
    "            송파df['비만동반질환_위험도'].iloc[i]='약간높음'\n",
    "        if 송파df['BMI_판정'].iloc[i] == '비만전단계':\n",
    "            송파df['비만동반질환_위험도'].iloc[i]='높음'\n",
    "        if 송파df['BMI_판정'].iloc[i] == '1단계비만':\n",
    "            송파df['비만동반질환_위험도'].iloc[i]='매우높음'\n",
    "        if 송파df['BMI_판정'].iloc[i] == '2단계비만':\n",
    "            송파df['비만동반질환_위험도'].iloc[i]='가장높음'\n",
    "        if 송파df['BMI_판정'].iloc[i] == '3단계비만':\n",
    "            송파df['비만동반질환_위험도'].iloc[i]='가장높음'"
   ]
  },
  {
   "cell_type": "code",
   "execution_count": null,
   "id": "9fbdaff2-5afe-4e79-826e-190e830ca9c6",
   "metadata": {
    "tags": []
   },
   "outputs": [],
   "source": [
    "송파df['비만동반질환_위험도'].value_counts()"
   ]
  },
  {
   "cell_type": "markdown",
   "id": "a0ff28af-50ab-4560-9fac-e0d56655ac3c",
   "metadata": {},
   "source": [
    "## 스텝밀검사결과"
   ]
  },
  {
   "attachments": {
    "1c88496c-d7e8-458b-9ed7-390fc065653c.png": {
     "image/png": "[encoded data removed]"
    }
   },
   "cell_type": "markdown",
   "id": "87ea2443-db0a-4114-b6d3-2600c0186372",
   "metadata": {},
   "source": [
    "- ref : https://m.blog.naver.com/PostView.naver?isHttpsRedirect=true&blogId=natboy0611&logNo=221407676871\n",
    "\n",
    "![image.png](attachment:1c88496c-d7e8-458b-9ed7-390fc065653c.png)"
   ]
  },
  {
   "cell_type": "code",
   "execution_count": null,
   "id": "abca87dc-401f-4c15-b334-4403536d07c5",
   "metadata": {},
   "outputs": [],
   "source": []
  },
  {
   "cell_type": "code",
   "execution_count": null,
   "id": "fcad0f10-32a8-46da-a0b3-a01206689ddb",
   "metadata": {
    "tags": []
   },
   "outputs": [],
   "source": [
    "# df_list=[송파30df,송파30_초df,송파30_중df,송파30_후df]\n",
    "# for df in df_list:\n",
    "송파df['심폐지구력등급']=0\n",
    "for i in range(len(송파df)):\n",
    "    if 송파df['측정연령수'].iloc[i]>=30.0 and 송파df['측정연령수'].iloc[i]<40.0:\n",
    "        if 송파df['성별구분코드'].iloc[i]==1:\n",
    "            if 송파df['스텝검사출력(VO₂max)'].iloc[i]<22.8:\n",
    "                송파df['심폐지구력등급'].iloc[i]='very_poor'\n",
    "            if 송파df['스텝검사출력(VO₂max)'].iloc[i]>=22.8 and 송파df['스텝검사출력(VO₂max)'].iloc[i]<27.0:\n",
    "                송파df['심폐지구력등급'].iloc[i]='poor'\n",
    "            if 송파df['스텝검사출력(VO₂max)'].iloc[i]>=27.0 and 송파df['스텝검사출력(VO₂max)'].iloc[i]<31.5:\n",
    "                송파df['심폐지구력등급'].iloc[i]='fair'\n",
    "            if 송파df['스텝검사출력(VO₂max)'].iloc[i]>=31.5 and 송파df['스텝검사출력(VO₂max)'].iloc[i]<35.7:\n",
    "                송파df['심폐지구력등급'].iloc[i]='good'\n",
    "            if 송파df['스텝검사출력(VO₂max)'].iloc[i]>=35.7 and 송파df['스텝검사출력(VO₂max)'].iloc[i]<=40.0:\n",
    "                송파df['심폐지구력등급'].iloc[i]='excellent'\n",
    "            if 송파df['스텝검사출력(VO₂max)'].iloc[i]>40.0:\n",
    "                송파df['심폐지구력등급'].iloc[i]='superior'\n",
    "        if 송파df['성별구분코드'].iloc[i]==0:\n",
    "            if 송파df['스텝검사출력(VO₂max)'].iloc[i]<31.5:\n",
    "                송파df['심폐지구력등급'].iloc[i]='very_poor'\n",
    "            if 송파df['스텝검사출력(VO₂max)'].iloc[i]>=31.5 and 송파df['스텝검사출력(VO₂max)'].iloc[i]<35.5:\n",
    "                송파df['심폐지구력등급'].iloc[i]='poor'\n",
    "            if 송파df['스텝검사출력(VO₂max)'].iloc[i]>=35.5 and 송파df['스텝검사출력(VO₂max)'].iloc[i]<41.0:\n",
    "                송파df['심폐지구력등급'].iloc[i]='fair'\n",
    "            if 송파df['스텝검사출력(VO₂max)'].iloc[i]>=41.0 and 송파df['스텝검사출력(VO₂max)'].iloc[i]<45.0:\n",
    "                송파df['심폐지구력등급'].iloc[i]='good'\n",
    "            if 송파df['스텝검사출력(VO₂max)'].iloc[i]>=45.0 and 송파df['스텝검사출력(VO₂max)'].iloc[i]<=49.4:\n",
    "                송파df['심폐지구력등급'].iloc[i]='excellent'\n",
    "            if 송파df['스텝검사출력(VO₂max)'].iloc[i]>49.4:\n",
    "                송파df['심폐지구력등급'].iloc[i]='superior'"
   ]
  },
  {
   "cell_type": "code",
   "execution_count": null,
   "id": "ebe53fb9-865f-4fbc-81ff-1f005168a4ff",
   "metadata": {
    "tags": []
   },
   "outputs": [],
   "source": [
    "for i in range(len(송파df)):\n",
    "    if 송파df['측정연령수'].iloc[i]>=19 and 송파df['측정연령수'].iloc[i]<30:\n",
    "        if 송파df['성별구분코드'].iloc[i]==1:\n",
    "            if 송파df['스텝검사출력(VO₂max)'].iloc[i]<23.6:\n",
    "                송파df['심폐지구력등급'].iloc[i]='very_poor'\n",
    "            if 송파df['스텝검사출력(VO₂max)'].iloc[i]>=23.6 and 송파df['스텝검사출력(VO₂max)'].iloc[i]<29.0:\n",
    "                송파df['심폐지구력등급'].iloc[i]='poor'\n",
    "            if 송파df['스텝검사출력(VO₂max)'].iloc[i]>=29.0 and 송파df['스텝검사출력(VO₂max)'].iloc[i]<33.0:\n",
    "                송파df['심폐지구력등급'].iloc[i]='fair'\n",
    "            if 송파df['스텝검사출력(VO₂max)'].iloc[i]>=33.0 and 송파df['스텝검사출력(VO₂max)'].iloc[i]<37.0:\n",
    "                송파df['심폐지구력등급'].iloc[i]='good'\n",
    "            if 송파df['스텝검사출력(VO₂max)'].iloc[i]>=37.0 and 송파df['스텝검사출력(VO₂max)'].iloc[i]<=41.0:\n",
    "                송파df['심폐지구력등급'].iloc[i]='excellent'\n",
    "            if 송파df['스텝검사출력(VO₂max)'].iloc[i]>41.0:\n",
    "                송파df['심폐지구력등급'].iloc[i]='superior'\n",
    "        if 송파df['성별구분코드'].iloc[i]==0:\n",
    "            if 송파df['스텝검사출력(VO₂max)'].iloc[i]<33.0:\n",
    "                송파df['심폐지구력등급'].iloc[i]='very_poor'\n",
    "            if 송파df['스텝검사출력(VO₂max)'].iloc[i]>=33.0 and 송파df['스텝검사출력(VO₂max)'].iloc[i]<36.5:\n",
    "                송파df['심폐지구력등급'].iloc[i]='poor'\n",
    "            if 송파df['스텝검사출력(VO₂max)'].iloc[i]>=36.5 and 송파df['스텝검사출력(VO₂max)'].iloc[i]<42.5:\n",
    "                송파df['심폐지구력등급'].iloc[i]='fair'\n",
    "            if 송파df['스텝검사출력(VO₂max)'].iloc[i]>=42.5 and 송파df['스텝검사출력(VO₂max)'].iloc[i]<46.5:\n",
    "                송파df['심폐지구력등급'].iloc[i]='good'\n",
    "            if 송파df['스텝검사출력(VO₂max)'].iloc[i]>=46.5 and 송파df['스텝검사출력(VO₂max)'].iloc[i]<=52.4:\n",
    "                송파df['심폐지구력등급'].iloc[i]='excellent'\n",
    "            if 송파df['스텝검사출력(VO₂max)'].iloc[i]>52.4:\n",
    "                송파df['심폐지구력등급'].iloc[i]='superior'"
   ]
  },
  {
   "cell_type": "code",
   "execution_count": null,
   "id": "5c3bb096-3cc9-4371-9a7c-ea45ca3f25e9",
   "metadata": {
    "tags": []
   },
   "outputs": [],
   "source": [
    "for i in range(len(송파df)):\n",
    "    if 송파df['측정연령수'].iloc[i]>=40 and 송파df['측정연령수'].iloc[i]<50:\n",
    "        if 송파df['성별구분코드'].iloc[i]==1:\n",
    "            if 송파df['스텝검사출력(VO₂max)'].iloc[i]<21.0:\n",
    "                송파df['심폐지구력등급'].iloc[i]='very_poor'\n",
    "            if 송파df['스텝검사출력(VO₂max)'].iloc[i]>=21.0 and 송파df['스텝검사출력(VO₂max)'].iloc[i]<24.5:\n",
    "                송파df['심폐지구력등급'].iloc[i]='poor'\n",
    "            if 송파df['스텝검사출력(VO₂max)'].iloc[i]>=24.5 and 송파df['스텝검사출력(VO₂max)'].iloc[i]<29.0:\n",
    "                송파df['심폐지구력등급'].iloc[i]='fair'\n",
    "            if 송파df['스텝검사출력(VO₂max)'].iloc[i]>=29.0 and 송파df['스텝검사출력(VO₂max)'].iloc[i]<32.9:\n",
    "                송파df['심폐지구력등급'].iloc[i]='good'\n",
    "            if 송파df['스텝검사출력(VO₂max)'].iloc[i]>=32.9 and 송파df['스텝검사출력(VO₂max)'].iloc[i]<=36.9:\n",
    "                송파df['심폐지구력등급'].iloc[i]='excellent'\n",
    "            if 송파df['스텝검사출력(VO₂max)'].iloc[i]>36.9:\n",
    "                송파df['심폐지구력등급'].iloc[i]='superior'\n",
    "        if 송파df['성별구분코드'].iloc[i]==0:\n",
    "            if 송파df['스텝검사출력(VO₂max)'].iloc[i]<30.2:\n",
    "                송파df['심폐지구력등급'].iloc[i]='very_poor'\n",
    "            if 송파df['스텝검사출력(VO₂max)'].iloc[i]>=30.2 and 송파df['스텝검사출력(VO₂max)'].iloc[i]<33.6:\n",
    "                송파df['심폐지구력등급'].iloc[i]='poor'\n",
    "            if 송파df['스텝검사출력(VO₂max)'].iloc[i]>=33.6 and 송파df['스텝검사출력(VO₂max)'].iloc[i]<39.0:\n",
    "                송파df['심폐지구력등급'].iloc[i]='fair'\n",
    "            if 송파df['스텝검사출력(VO₂max)'].iloc[i]>=39.0 and 송파df['스텝검사출력(VO₂max)'].iloc[i]<43.8:\n",
    "                송파df['심폐지구력등급'].iloc[i]='good'\n",
    "            if 송파df['스텝검사출력(VO₂max)'].iloc[i]>=43.8 and 송파df['스텝검사출력(VO₂max)'].iloc[i]<=48.0:\n",
    "                송파df['심폐지구력등급'].iloc[i]='excellent'\n",
    "            if 송파df['스텝검사출력(VO₂max)'].iloc[i]>48.0:\n",
    "                송파df['심폐지구력등급'].iloc[i]='superior'"
   ]
  },
  {
   "cell_type": "code",
   "execution_count": null,
   "id": "936e8f6a-6a9a-4a74-8127-448119f6a8ad",
   "metadata": {
    "tags": []
   },
   "outputs": [],
   "source": [
    "송파df['심폐지구력등급'].value_counts()"
   ]
  },
  {
   "cell_type": "code",
   "execution_count": null,
   "id": "1a2cc942-0447-4e05-8446-e0e9d5ae3a29",
   "metadata": {
    "tags": []
   },
   "outputs": [],
   "source": [
    "송파df=송파df[['회원일련번호값','측정일자', '측정일련번호', '센터명','측정연령수','기존나이구간', '추가나이구간',\n",
    "       '인증구분명',  '성별구분코드', '신장(cm)', '체중(kg)', '체지방율(%)', '허리둘레(cm)',\n",
    "       'BMI(kg/㎡)','BMI_판정','비만동반질환_위험도',\n",
    "       '상대악력(%)', '교차윗몸일으키기(회)', '반복점프(회)', '왕복오래달리기(회)',\n",
    "       '트레드밀출력(VO₂max)', '스텝검사출력(VO₂max)','심폐지구력등급',\n",
    "       '앉아윗몸앞으로굽히기(cm)', '10M_4회_왕복달리기(초)',\n",
    "       '전신반응(초)', '제자리멀리뛰기(cm)', '성인체공시간(초)','운동처방내용']]"
   ]
  },
  {
   "cell_type": "markdown",
   "id": "af2d30d4-4f69-4dcb-b977-f45768920a04",
   "metadata": {},
   "source": [
    "## 운동처방내용"
   ]
  },
  {
   "cell_type": "markdown",
   "id": "b298b8de-3b43-4c62-900f-f8e99ce067c3",
   "metadata": {},
   "source": [
    "### 국민체력100제공 추천 운동"
   ]
  },
  {
   "attachments": {
    "07a67342-49e8-4112-9f07-773acd6150c6.png": {
     "image/png": "[encoded data removed]"
    }
   },
   "cell_type": "markdown",
   "id": "aad3cbcd-7ba4-4ca0-b7a6-d1d7a9dd234f",
   "metadata": {},
   "source": [
    "![image.png](attachment:07a67342-49e8-4112-9f07-773acd6150c6.png)"
   ]
  },
  {
   "cell_type": "code",
   "execution_count": 170,
   "id": "c2e2f250-bb5b-4ebd-8c51-3f20452478bc",
   "metadata": {
    "tags": []
   },
   "outputs": [
    {
     "data": {
      "text/html": [
       "<div>\n",
       "<style scoped>\n",
       "    .dataframe tbody tr th:only-of-type {\n",
       "        vertical-align: middle;\n",
       "    }\n",
       "\n",
       "    .dataframe tbody tr th {\n",
       "        vertical-align: top;\n",
       "    }\n",
       "\n",
       "    .dataframe thead th {\n",
       "        text-align: right;\n",
       "    }\n",
       "</style>\n",
       "<table border=\"1\" class=\"dataframe\">\n",
       "  <thead>\n",
       "    <tr style=\"text-align: right;\">\n",
       "      <th></th>\n",
       "      <th>AGRDE_FLAG_NM</th>\n",
       "      <th>BMI_IDEX_GRAD_NM</th>\n",
       "      <th>MBER_SEXDSTN_FLAG_CD</th>\n",
       "      <th>COAW_FLAG_NM</th>\n",
       "      <th>SPORTS_STEP_NM</th>\n",
       "      <th>FLAG_ACCTO_RECOMEND_MVM_RANK_CO</th>\n",
       "      <th>RECOMEND_MVM_NM</th>\n",
       "    </tr>\n",
       "  </thead>\n",
       "  <tbody>\n",
       "    <tr>\n",
       "      <th>0</th>\n",
       "      <td>10대</td>\n",
       "      <td>정상</td>\n",
       "      <td>F</td>\n",
       "      <td>참가증</td>\n",
       "      <td>본운동</td>\n",
       "      <td>1</td>\n",
       "      <td>줄넘기 운동</td>\n",
       "    </tr>\n",
       "  </tbody>\n",
       "</table>\n",
       "</div>"
      ],
      "text/plain": [
       "  AGRDE_FLAG_NM BMI_IDEX_GRAD_NM MBER_SEXDSTN_FLAG_CD COAW_FLAG_NM  \\\n",
       "0           10대               정상                    F          참가증   \n",
       "\n",
       "  SPORTS_STEP_NM  FLAG_ACCTO_RECOMEND_MVM_RANK_CO RECOMEND_MVM_NM  \n",
       "0            본운동                                1          줄넘기 운동  "
      ]
     },
     "execution_count": 170,
     "metadata": {},
     "output_type": "execute_result"
    }
   ],
   "source": [
    "국민연령별추천운동정보=pd.read_csv('./datasets/기타/국민연령별추천운동정보.csv')\n",
    "국민연령별추천운동정보.head(1)"
   ]
  },
  {
   "cell_type": "code",
   "execution_count": 171,
   "id": "0ad85fd8-8eee-477c-9531-b32bb74c3f76",
   "metadata": {
    "tags": []
   },
   "outputs": [
    {
     "data": {
      "text/html": [
       "<div>\n",
       "<style scoped>\n",
       "    .dataframe tbody tr th:only-of-type {\n",
       "        vertical-align: middle;\n",
       "    }\n",
       "\n",
       "    .dataframe tbody tr th {\n",
       "        vertical-align: top;\n",
       "    }\n",
       "\n",
       "    .dataframe thead th {\n",
       "        text-align: right;\n",
       "    }\n",
       "</style>\n",
       "<table border=\"1\" class=\"dataframe\">\n",
       "  <thead>\n",
       "    <tr style=\"text-align: right;\">\n",
       "      <th></th>\n",
       "      <th>AGRDE_FLAG_NM</th>\n",
       "      <th>BMI_IDEX_GRAD_NM</th>\n",
       "      <th>MBER_SEXDSTN_FLAG_CD</th>\n",
       "      <th>COAW_FLAG_NM</th>\n",
       "      <th>SPORTS_STEP_NM</th>\n",
       "      <th>FLAG_ACCTO_RECOMEND_MVM_RANK_CO</th>\n",
       "      <th>RECOMEND_MVM_NM</th>\n",
       "    </tr>\n",
       "  </thead>\n",
       "  <tbody>\n",
       "    <tr>\n",
       "      <th>720</th>\n",
       "      <td>20대</td>\n",
       "      <td>정상</td>\n",
       "      <td>F</td>\n",
       "      <td>참가증</td>\n",
       "      <td>본운동</td>\n",
       "      <td>1</td>\n",
       "      <td>윗몸올리기</td>\n",
       "    </tr>\n",
       "    <tr>\n",
       "      <th>721</th>\n",
       "      <td>20대</td>\n",
       "      <td>정상</td>\n",
       "      <td>F</td>\n",
       "      <td>참가증</td>\n",
       "      <td>본운동</td>\n",
       "      <td>2</td>\n",
       "      <td>엎드려 버티기</td>\n",
       "    </tr>\n",
       "    <tr>\n",
       "      <th>722</th>\n",
       "      <td>20대</td>\n",
       "      <td>정상</td>\n",
       "      <td>F</td>\n",
       "      <td>참가증</td>\n",
       "      <td>본운동</td>\n",
       "      <td>3</td>\n",
       "      <td>팔굽혀펴기</td>\n",
       "    </tr>\n",
       "    <tr>\n",
       "      <th>723</th>\n",
       "      <td>20대</td>\n",
       "      <td>정상</td>\n",
       "      <td>F</td>\n",
       "      <td>참가증</td>\n",
       "      <td>본운동</td>\n",
       "      <td>4</td>\n",
       "      <td>앉았다 일어서기</td>\n",
       "    </tr>\n",
       "    <tr>\n",
       "      <th>724</th>\n",
       "      <td>20대</td>\n",
       "      <td>정상</td>\n",
       "      <td>F</td>\n",
       "      <td>참가증</td>\n",
       "      <td>본운동</td>\n",
       "      <td>5</td>\n",
       "      <td>엎드려서 팔 다리 들기</td>\n",
       "    </tr>\n",
       "  </tbody>\n",
       "</table>\n",
       "</div>"
      ],
      "text/plain": [
       "    AGRDE_FLAG_NM BMI_IDEX_GRAD_NM MBER_SEXDSTN_FLAG_CD COAW_FLAG_NM  \\\n",
       "720           20대               정상                    F          참가증   \n",
       "721           20대               정상                    F          참가증   \n",
       "722           20대               정상                    F          참가증   \n",
       "723           20대               정상                    F          참가증   \n",
       "724           20대               정상                    F          참가증   \n",
       "\n",
       "    SPORTS_STEP_NM  FLAG_ACCTO_RECOMEND_MVM_RANK_CO RECOMEND_MVM_NM  \n",
       "720            본운동                                1           윗몸올리기  \n",
       "721            본운동                                2         엎드려 버티기  \n",
       "722            본운동                                3           팔굽혀펴기  \n",
       "723            본운동                                4        앉았다 일어서기  \n",
       "724            본운동                                5    엎드려서 팔 다리 들기  "
      ]
     },
     "execution_count": 171,
     "metadata": {},
     "output_type": "execute_result"
    }
   ],
   "source": [
    "국민연령별추천운동정보=국민연령별추천운동정보[(국민연령별추천운동정보['AGRDE_FLAG_NM']=='20대')|(국민연령별추천운동정보['AGRDE_FLAG_NM']=='30대')|(국민연령별추천운동정보['AGRDE_FLAG_NM']=='40대')]\n",
    "국민연령별추천운동정보.head()"
   ]
  },
  {
   "cell_type": "code",
   "execution_count": 172,
   "id": "7a78f948-6b2a-4360-881f-d743e5991176",
   "metadata": {
    "tags": []
   },
   "outputs": [
    {
     "data": {
      "text/plain": [
       "유산소 운동 전 동적 루틴 스트레칭       68\n",
       "달리기                       59\n",
       "버피운동                      58\n",
       "앉았다 일어서기                  51\n",
       "다리 벌려 앞으로 상체 숙이기          48\n",
       "                          ..\n",
       "의자에 앉아 몸통비틀기               1\n",
       "한 발 앞굽이 팔 위로 뻗어 가슴 내밀기     1\n",
       "다리굽혀 허리 비틀기                1\n",
       "파워클린                       1\n",
       "서서 균형잡으며 몸통 회전하기           1\n",
       "Name: RECOMEND_MVM_NM, Length: 185, dtype: int64"
      ]
     },
     "execution_count": 172,
     "metadata": {},
     "output_type": "execute_result"
    }
   ],
   "source": [
    "국민연령별추천운동정보['RECOMEND_MVM_NM'].value_counts()"
   ]
  },
  {
   "cell_type": "code",
   "execution_count": 173,
   "id": "f8310f8d-4cfb-4fc7-ae6f-4b080fef9bb3",
   "metadata": {
    "tags": []
   },
   "outputs": [],
   "source": [
    "운동_list=국민연령별추천운동정보['RECOMEND_MVM_NM'].unique()\n",
    "\n",
    "value_10=[]\n",
    "\n",
    "for 운동 in 운동_list:\n",
    "    if 국민연령별추천운동정보[국민연령별추천운동정보['RECOMEND_MVM_NM']==운동].shape[0] >= 10:\n",
    "        value_10.append(운동)\n",
    "        "
   ]
  },
  {
   "cell_type": "code",
   "execution_count": 174,
   "id": "af508533-848e-4204-a9e9-679c6da01155",
   "metadata": {
    "tags": []
   },
   "outputs": [
    {
     "data": {
      "text/plain": [
       "76"
      ]
     },
     "execution_count": 174,
     "metadata": {},
     "output_type": "execute_result"
    }
   ],
   "source": [
    "len(value_10)"
   ]
  },
  {
   "cell_type": "code",
   "execution_count": 175,
   "id": "e9f9c064-e1b0-4879-aa01-a6996a8eae8e",
   "metadata": {
    "tags": []
   },
   "outputs": [],
   "source": [
    "df_list=[]\n",
    "for 운동 in value_10:\n",
    "    df=국민연령별추천운동정보[국민연령별추천운동정보['RECOMEND_MVM_NM']==운동]\n",
    "    df_list.append(df)\n",
    "\n",
    "국민연령별추천운동정보20_40=pd.concat(df_list)\n",
    "국민연령별추천운동정보20_40=국민연령별추천운동정보20_40[국민연령별추천운동정보20_40['SPORTS_STEP_NM']=='본운동']"
   ]
  },
  {
   "cell_type": "code",
   "execution_count": 176,
   "id": "2b07ca7c-a971-481c-b82b-25472fd62537",
   "metadata": {
    "tags": []
   },
   "outputs": [],
   "source": [
    "국민연령별추천운동정보20_30=국민연령별추천운동정보20_40[(국민연령별추천운동정보20_40['AGRDE_FLAG_NM']=='20대')|(국민연령별추천운동정보20_40['AGRDE_FLAG_NM']=='30대')]"
   ]
  },
  {
   "cell_type": "code",
   "execution_count": 180,
   "id": "7690aa5f-7a11-4cc4-ad87-53b3049ab49d",
   "metadata": {
    "tags": []
   },
   "outputs": [],
   "source": [
    "국민연령별추천운동정보_recm_1=국민연령별추천운동정보20_30[국민연령별추천운동정보20_40['FLAG_ACCTO_RECOMEND_MVM_RANK_CO']==1]"
   ]
  },
  {
   "cell_type": "code",
   "execution_count": 391,
   "id": "0c293c42-f02f-427e-8989-c0fa486344d7",
   "metadata": {
    "tags": []
   },
   "outputs": [
    {
     "data": {
      "text/html": [
       "<div>\n",
       "<style scoped>\n",
       "    .dataframe tbody tr th:only-of-type {\n",
       "        vertical-align: middle;\n",
       "    }\n",
       "\n",
       "    .dataframe tbody tr th {\n",
       "        vertical-align: top;\n",
       "    }\n",
       "\n",
       "    .dataframe thead th {\n",
       "        text-align: right;\n",
       "    }\n",
       "</style>\n",
       "<table border=\"1\" class=\"dataframe\">\n",
       "  <thead>\n",
       "    <tr style=\"text-align: right;\">\n",
       "      <th></th>\n",
       "      <th>AGRDE_FLAG_NM</th>\n",
       "      <th>BMI_IDEX_GRAD_NM</th>\n",
       "      <th>MBER_SEXDSTN_FLAG_CD</th>\n",
       "      <th>COAW_FLAG_NM</th>\n",
       "      <th>SPORTS_STEP_NM</th>\n",
       "      <th>FLAG_ACCTO_RECOMEND_MVM_RANK_CO</th>\n",
       "      <th>RECOMEND_MVM_NM</th>\n",
       "    </tr>\n",
       "  </thead>\n",
       "  <tbody>\n",
       "    <tr>\n",
       "      <th>1815</th>\n",
       "      <td>30대</td>\n",
       "      <td>1단계비만</td>\n",
       "      <td>F</td>\n",
       "      <td>1등급</td>\n",
       "      <td>본운동</td>\n",
       "      <td>1</td>\n",
       "      <td>버피운동</td>\n",
       "    </tr>\n",
       "    <tr>\n",
       "      <th>1905</th>\n",
       "      <td>30대</td>\n",
       "      <td>1단계비만</td>\n",
       "      <td>M</td>\n",
       "      <td>3등급</td>\n",
       "      <td>본운동</td>\n",
       "      <td>1</td>\n",
       "      <td>엎드려 버티기</td>\n",
       "    </tr>\n",
       "    <tr>\n",
       "      <th>1890</th>\n",
       "      <td>30대</td>\n",
       "      <td>1단계비만</td>\n",
       "      <td>M</td>\n",
       "      <td>2등급</td>\n",
       "      <td>본운동</td>\n",
       "      <td>1</td>\n",
       "      <td>엎드려 버티기</td>\n",
       "    </tr>\n",
       "    <tr>\n",
       "      <th>1860</th>\n",
       "      <td>30대</td>\n",
       "      <td>1단계비만</td>\n",
       "      <td>M</td>\n",
       "      <td>참가증</td>\n",
       "      <td>본운동</td>\n",
       "      <td>1</td>\n",
       "      <td>엎드려 버티기</td>\n",
       "    </tr>\n",
       "    <tr>\n",
       "      <th>1845</th>\n",
       "      <td>30대</td>\n",
       "      <td>1단계비만</td>\n",
       "      <td>F</td>\n",
       "      <td>3등급</td>\n",
       "      <td>본운동</td>\n",
       "      <td>1</td>\n",
       "      <td>엎드려 버티기</td>\n",
       "    </tr>\n",
       "    <tr>\n",
       "      <th>1830</th>\n",
       "      <td>30대</td>\n",
       "      <td>1단계비만</td>\n",
       "      <td>F</td>\n",
       "      <td>2등급</td>\n",
       "      <td>본운동</td>\n",
       "      <td>1</td>\n",
       "      <td>엎드려 버티기</td>\n",
       "    </tr>\n",
       "    <tr>\n",
       "      <th>1800</th>\n",
       "      <td>30대</td>\n",
       "      <td>1단계비만</td>\n",
       "      <td>F</td>\n",
       "      <td>참가증</td>\n",
       "      <td>본운동</td>\n",
       "      <td>1</td>\n",
       "      <td>엎드려 버티기</td>\n",
       "    </tr>\n",
       "    <tr>\n",
       "      <th>1875</th>\n",
       "      <td>30대</td>\n",
       "      <td>1단계비만</td>\n",
       "      <td>M</td>\n",
       "      <td>1등급</td>\n",
       "      <td>본운동</td>\n",
       "      <td>1</td>\n",
       "      <td>버피운동</td>\n",
       "    </tr>\n",
       "    <tr>\n",
       "      <th>1935</th>\n",
       "      <td>30대</td>\n",
       "      <td>2단계비만</td>\n",
       "      <td>F</td>\n",
       "      <td>1등급</td>\n",
       "      <td>본운동</td>\n",
       "      <td>1</td>\n",
       "      <td>달리기</td>\n",
       "    </tr>\n",
       "    <tr>\n",
       "      <th>1920</th>\n",
       "      <td>30대</td>\n",
       "      <td>2단계비만</td>\n",
       "      <td>F</td>\n",
       "      <td>참가증</td>\n",
       "      <td>본운동</td>\n",
       "      <td>1</td>\n",
       "      <td>달리기</td>\n",
       "    </tr>\n",
       "    <tr>\n",
       "      <th>1965</th>\n",
       "      <td>30대</td>\n",
       "      <td>2단계비만</td>\n",
       "      <td>F</td>\n",
       "      <td>3등급</td>\n",
       "      <td>본운동</td>\n",
       "      <td>1</td>\n",
       "      <td>달리기</td>\n",
       "    </tr>\n",
       "    <tr>\n",
       "      <th>1980</th>\n",
       "      <td>30대</td>\n",
       "      <td>2단계비만</td>\n",
       "      <td>M</td>\n",
       "      <td>참가증</td>\n",
       "      <td>본운동</td>\n",
       "      <td>1</td>\n",
       "      <td>달리기</td>\n",
       "    </tr>\n",
       "    <tr>\n",
       "      <th>1995</th>\n",
       "      <td>30대</td>\n",
       "      <td>2단계비만</td>\n",
       "      <td>M</td>\n",
       "      <td>1등급</td>\n",
       "      <td>본운동</td>\n",
       "      <td>1</td>\n",
       "      <td>달리기</td>\n",
       "    </tr>\n",
       "    <tr>\n",
       "      <th>2010</th>\n",
       "      <td>30대</td>\n",
       "      <td>2단계비만</td>\n",
       "      <td>M</td>\n",
       "      <td>2등급</td>\n",
       "      <td>본운동</td>\n",
       "      <td>1</td>\n",
       "      <td>달리기</td>\n",
       "    </tr>\n",
       "    <tr>\n",
       "      <th>2025</th>\n",
       "      <td>30대</td>\n",
       "      <td>2단계비만</td>\n",
       "      <td>M</td>\n",
       "      <td>3등급</td>\n",
       "      <td>본운동</td>\n",
       "      <td>1</td>\n",
       "      <td>달리기</td>\n",
       "    </tr>\n",
       "    <tr>\n",
       "      <th>1950</th>\n",
       "      <td>30대</td>\n",
       "      <td>2단계비만</td>\n",
       "      <td>F</td>\n",
       "      <td>2등급</td>\n",
       "      <td>본운동</td>\n",
       "      <td>1</td>\n",
       "      <td>달리기</td>\n",
       "    </tr>\n",
       "    <tr>\n",
       "      <th>2115</th>\n",
       "      <td>30대</td>\n",
       "      <td>3단계비만</td>\n",
       "      <td>M</td>\n",
       "      <td>1등급</td>\n",
       "      <td>본운동</td>\n",
       "      <td>1</td>\n",
       "      <td>버피운동</td>\n",
       "    </tr>\n",
       "    <tr>\n",
       "      <th>2100</th>\n",
       "      <td>30대</td>\n",
       "      <td>3단계비만</td>\n",
       "      <td>M</td>\n",
       "      <td>참가증</td>\n",
       "      <td>본운동</td>\n",
       "      <td>1</td>\n",
       "      <td>몸통 옆으로 굽히기</td>\n",
       "    </tr>\n",
       "    <tr>\n",
       "      <th>2145</th>\n",
       "      <td>30대</td>\n",
       "      <td>3단계비만</td>\n",
       "      <td>M</td>\n",
       "      <td>3등급</td>\n",
       "      <td>본운동</td>\n",
       "      <td>1</td>\n",
       "      <td>몸통 옆으로 굽히기</td>\n",
       "    </tr>\n",
       "    <tr>\n",
       "      <th>2055</th>\n",
       "      <td>30대</td>\n",
       "      <td>3단계비만</td>\n",
       "      <td>F</td>\n",
       "      <td>1등급</td>\n",
       "      <td>본운동</td>\n",
       "      <td>1</td>\n",
       "      <td>버피운동</td>\n",
       "    </tr>\n",
       "    <tr>\n",
       "      <th>2070</th>\n",
       "      <td>30대</td>\n",
       "      <td>3단계비만</td>\n",
       "      <td>F</td>\n",
       "      <td>2등급</td>\n",
       "      <td>본운동</td>\n",
       "      <td>1</td>\n",
       "      <td>누워서 팔 밀기</td>\n",
       "    </tr>\n",
       "    <tr>\n",
       "      <th>2130</th>\n",
       "      <td>30대</td>\n",
       "      <td>3단계비만</td>\n",
       "      <td>M</td>\n",
       "      <td>2등급</td>\n",
       "      <td>본운동</td>\n",
       "      <td>1</td>\n",
       "      <td>누워서 팔 밀기</td>\n",
       "    </tr>\n",
       "    <tr>\n",
       "      <th>1695</th>\n",
       "      <td>30대</td>\n",
       "      <td>비만전단계비만</td>\n",
       "      <td>F</td>\n",
       "      <td>1등급</td>\n",
       "      <td>본운동</td>\n",
       "      <td>1</td>\n",
       "      <td>버피운동</td>\n",
       "    </tr>\n",
       "    <tr>\n",
       "      <th>1755</th>\n",
       "      <td>30대</td>\n",
       "      <td>비만전단계비만</td>\n",
       "      <td>M</td>\n",
       "      <td>1등급</td>\n",
       "      <td>본운동</td>\n",
       "      <td>1</td>\n",
       "      <td>버피운동</td>\n",
       "    </tr>\n",
       "    <tr>\n",
       "      <th>1710</th>\n",
       "      <td>30대</td>\n",
       "      <td>비만전단계비만</td>\n",
       "      <td>F</td>\n",
       "      <td>2등급</td>\n",
       "      <td>본운동</td>\n",
       "      <td>1</td>\n",
       "      <td>엎드려 버티기</td>\n",
       "    </tr>\n",
       "    <tr>\n",
       "      <th>1725</th>\n",
       "      <td>30대</td>\n",
       "      <td>비만전단계비만</td>\n",
       "      <td>F</td>\n",
       "      <td>3등급</td>\n",
       "      <td>본운동</td>\n",
       "      <td>1</td>\n",
       "      <td>엎드려 버티기</td>\n",
       "    </tr>\n",
       "    <tr>\n",
       "      <th>1740</th>\n",
       "      <td>30대</td>\n",
       "      <td>비만전단계비만</td>\n",
       "      <td>M</td>\n",
       "      <td>참가증</td>\n",
       "      <td>본운동</td>\n",
       "      <td>1</td>\n",
       "      <td>엎드려 버티기</td>\n",
       "    </tr>\n",
       "    <tr>\n",
       "      <th>1680</th>\n",
       "      <td>30대</td>\n",
       "      <td>비만전단계비만</td>\n",
       "      <td>F</td>\n",
       "      <td>참가증</td>\n",
       "      <td>본운동</td>\n",
       "      <td>1</td>\n",
       "      <td>엎드려 버티기</td>\n",
       "    </tr>\n",
       "    <tr>\n",
       "      <th>1785</th>\n",
       "      <td>30대</td>\n",
       "      <td>비만전단계비만</td>\n",
       "      <td>M</td>\n",
       "      <td>3등급</td>\n",
       "      <td>본운동</td>\n",
       "      <td>1</td>\n",
       "      <td>엎드려 버티기</td>\n",
       "    </tr>\n",
       "    <tr>\n",
       "      <th>1770</th>\n",
       "      <td>30대</td>\n",
       "      <td>비만전단계비만</td>\n",
       "      <td>M</td>\n",
       "      <td>2등급</td>\n",
       "      <td>본운동</td>\n",
       "      <td>1</td>\n",
       "      <td>엎드려 버티기</td>\n",
       "    </tr>\n",
       "    <tr>\n",
       "      <th>1605</th>\n",
       "      <td>30대</td>\n",
       "      <td>저체중</td>\n",
       "      <td>F</td>\n",
       "      <td>3등급</td>\n",
       "      <td>본운동</td>\n",
       "      <td>1</td>\n",
       "      <td>잔발치기</td>\n",
       "    </tr>\n",
       "    <tr>\n",
       "      <th>1665</th>\n",
       "      <td>30대</td>\n",
       "      <td>저체중</td>\n",
       "      <td>M</td>\n",
       "      <td>3등급</td>\n",
       "      <td>본운동</td>\n",
       "      <td>1</td>\n",
       "      <td>잔발치기</td>\n",
       "    </tr>\n",
       "    <tr>\n",
       "      <th>1650</th>\n",
       "      <td>30대</td>\n",
       "      <td>저체중</td>\n",
       "      <td>M</td>\n",
       "      <td>2등급</td>\n",
       "      <td>본운동</td>\n",
       "      <td>1</td>\n",
       "      <td>잔발치기</td>\n",
       "    </tr>\n",
       "    <tr>\n",
       "      <th>1560</th>\n",
       "      <td>30대</td>\n",
       "      <td>저체중</td>\n",
       "      <td>F</td>\n",
       "      <td>참가증</td>\n",
       "      <td>본운동</td>\n",
       "      <td>1</td>\n",
       "      <td>윗몸말아올리기</td>\n",
       "    </tr>\n",
       "    <tr>\n",
       "      <th>1620</th>\n",
       "      <td>30대</td>\n",
       "      <td>저체중</td>\n",
       "      <td>M</td>\n",
       "      <td>참가증</td>\n",
       "      <td>본운동</td>\n",
       "      <td>1</td>\n",
       "      <td>윗몸말아올리기</td>\n",
       "    </tr>\n",
       "    <tr>\n",
       "      <th>1575</th>\n",
       "      <td>30대</td>\n",
       "      <td>저체중</td>\n",
       "      <td>F</td>\n",
       "      <td>1등급</td>\n",
       "      <td>본운동</td>\n",
       "      <td>1</td>\n",
       "      <td>잔발치기</td>\n",
       "    </tr>\n",
       "    <tr>\n",
       "      <th>1590</th>\n",
       "      <td>30대</td>\n",
       "      <td>저체중</td>\n",
       "      <td>F</td>\n",
       "      <td>2등급</td>\n",
       "      <td>본운동</td>\n",
       "      <td>1</td>\n",
       "      <td>잔발치기</td>\n",
       "    </tr>\n",
       "    <tr>\n",
       "      <th>1635</th>\n",
       "      <td>30대</td>\n",
       "      <td>저체중</td>\n",
       "      <td>M</td>\n",
       "      <td>1등급</td>\n",
       "      <td>본운동</td>\n",
       "      <td>1</td>\n",
       "      <td>잔발치기</td>\n",
       "    </tr>\n",
       "    <tr>\n",
       "      <th>1485</th>\n",
       "      <td>30대</td>\n",
       "      <td>정상</td>\n",
       "      <td>F</td>\n",
       "      <td>3등급</td>\n",
       "      <td>본운동</td>\n",
       "      <td>1</td>\n",
       "      <td>엎드려 버티기</td>\n",
       "    </tr>\n",
       "    <tr>\n",
       "      <th>1470</th>\n",
       "      <td>30대</td>\n",
       "      <td>정상</td>\n",
       "      <td>F</td>\n",
       "      <td>2등급</td>\n",
       "      <td>본운동</td>\n",
       "      <td>1</td>\n",
       "      <td>엎드려 버티기</td>\n",
       "    </tr>\n",
       "    <tr>\n",
       "      <th>1500</th>\n",
       "      <td>30대</td>\n",
       "      <td>정상</td>\n",
       "      <td>M</td>\n",
       "      <td>참가증</td>\n",
       "      <td>본운동</td>\n",
       "      <td>1</td>\n",
       "      <td>엎드려 버티기</td>\n",
       "    </tr>\n",
       "    <tr>\n",
       "      <th>1545</th>\n",
       "      <td>30대</td>\n",
       "      <td>정상</td>\n",
       "      <td>M</td>\n",
       "      <td>3등급</td>\n",
       "      <td>본운동</td>\n",
       "      <td>1</td>\n",
       "      <td>엎드려 버티기</td>\n",
       "    </tr>\n",
       "    <tr>\n",
       "      <th>1455</th>\n",
       "      <td>30대</td>\n",
       "      <td>정상</td>\n",
       "      <td>F</td>\n",
       "      <td>1등급</td>\n",
       "      <td>본운동</td>\n",
       "      <td>1</td>\n",
       "      <td>버피운동</td>\n",
       "    </tr>\n",
       "    <tr>\n",
       "      <th>1515</th>\n",
       "      <td>30대</td>\n",
       "      <td>정상</td>\n",
       "      <td>M</td>\n",
       "      <td>1등급</td>\n",
       "      <td>본운동</td>\n",
       "      <td>1</td>\n",
       "      <td>버피운동</td>\n",
       "    </tr>\n",
       "    <tr>\n",
       "      <th>1530</th>\n",
       "      <td>30대</td>\n",
       "      <td>정상</td>\n",
       "      <td>M</td>\n",
       "      <td>2등급</td>\n",
       "      <td>본운동</td>\n",
       "      <td>1</td>\n",
       "      <td>엎드려 버티기</td>\n",
       "    </tr>\n",
       "    <tr>\n",
       "      <th>1440</th>\n",
       "      <td>30대</td>\n",
       "      <td>정상</td>\n",
       "      <td>F</td>\n",
       "      <td>참가증</td>\n",
       "      <td>본운동</td>\n",
       "      <td>1</td>\n",
       "      <td>엎드려 버티기</td>\n",
       "    </tr>\n",
       "  </tbody>\n",
       "</table>\n",
       "</div>"
      ],
      "text/plain": [
       "     AGRDE_FLAG_NM BMI_IDEX_GRAD_NM MBER_SEXDSTN_FLAG_CD COAW_FLAG_NM  \\\n",
       "1815           30대            1단계비만                    F          1등급   \n",
       "1905           30대            1단계비만                    M          3등급   \n",
       "1890           30대            1단계비만                    M          2등급   \n",
       "1860           30대            1단계비만                    M          참가증   \n",
       "1845           30대            1단계비만                    F          3등급   \n",
       "1830           30대            1단계비만                    F          2등급   \n",
       "1800           30대            1단계비만                    F          참가증   \n",
       "1875           30대            1단계비만                    M          1등급   \n",
       "1935           30대            2단계비만                    F          1등급   \n",
       "1920           30대            2단계비만                    F          참가증   \n",
       "1965           30대            2단계비만                    F          3등급   \n",
       "1980           30대            2단계비만                    M          참가증   \n",
       "1995           30대            2단계비만                    M          1등급   \n",
       "2010           30대            2단계비만                    M          2등급   \n",
       "2025           30대            2단계비만                    M          3등급   \n",
       "1950           30대            2단계비만                    F          2등급   \n",
       "2115           30대            3단계비만                    M          1등급   \n",
       "2100           30대            3단계비만                    M          참가증   \n",
       "2145           30대            3단계비만                    M          3등급   \n",
       "2055           30대            3단계비만                    F          1등급   \n",
       "2070           30대            3단계비만                    F          2등급   \n",
       "2130           30대            3단계비만                    M          2등급   \n",
       "1695           30대          비만전단계비만                    F          1등급   \n",
       "1755           30대          비만전단계비만                    M          1등급   \n",
       "1710           30대          비만전단계비만                    F          2등급   \n",
       "1725           30대          비만전단계비만                    F          3등급   \n",
       "1740           30대          비만전단계비만                    M          참가증   \n",
       "1680           30대          비만전단계비만                    F          참가증   \n",
       "1785           30대          비만전단계비만                    M          3등급   \n",
       "1770           30대          비만전단계비만                    M          2등급   \n",
       "1605           30대              저체중                    F          3등급   \n",
       "1665           30대              저체중                    M          3등급   \n",
       "1650           30대              저체중                    M          2등급   \n",
       "1560           30대              저체중                    F          참가증   \n",
       "1620           30대              저체중                    M          참가증   \n",
       "1575           30대              저체중                    F          1등급   \n",
       "1590           30대              저체중                    F          2등급   \n",
       "1635           30대              저체중                    M          1등급   \n",
       "1485           30대               정상                    F          3등급   \n",
       "1470           30대               정상                    F          2등급   \n",
       "1500           30대               정상                    M          참가증   \n",
       "1545           30대               정상                    M          3등급   \n",
       "1455           30대               정상                    F          1등급   \n",
       "1515           30대               정상                    M          1등급   \n",
       "1530           30대               정상                    M          2등급   \n",
       "1440           30대               정상                    F          참가증   \n",
       "\n",
       "     SPORTS_STEP_NM  FLAG_ACCTO_RECOMEND_MVM_RANK_CO RECOMEND_MVM_NM  \n",
       "1815            본운동                                1            버피운동  \n",
       "1905            본운동                                1         엎드려 버티기  \n",
       "1890            본운동                                1         엎드려 버티기  \n",
       "1860            본운동                                1         엎드려 버티기  \n",
       "1845            본운동                                1         엎드려 버티기  \n",
       "1830            본운동                                1         엎드려 버티기  \n",
       "1800            본운동                                1         엎드려 버티기  \n",
       "1875            본운동                                1            버피운동  \n",
       "1935            본운동                                1             달리기  \n",
       "1920            본운동                                1             달리기  \n",
       "1965            본운동                                1             달리기  \n",
       "1980            본운동                                1             달리기  \n",
       "1995            본운동                                1             달리기  \n",
       "2010            본운동                                1             달리기  \n",
       "2025            본운동                                1             달리기  \n",
       "1950            본운동                                1             달리기  \n",
       "2115            본운동                                1            버피운동  \n",
       "2100            본운동                                1      몸통 옆으로 굽히기  \n",
       "2145            본운동                                1      몸통 옆으로 굽히기  \n",
       "2055            본운동                                1            버피운동  \n",
       "2070            본운동                                1        누워서 팔 밀기  \n",
       "2130            본운동                                1        누워서 팔 밀기  \n",
       "1695            본운동                                1            버피운동  \n",
       "1755            본운동                                1            버피운동  \n",
       "1710            본운동                                1         엎드려 버티기  \n",
       "1725            본운동                                1         엎드려 버티기  \n",
       "1740            본운동                                1         엎드려 버티기  \n",
       "1680            본운동                                1         엎드려 버티기  \n",
       "1785            본운동                                1         엎드려 버티기  \n",
       "1770            본운동                                1         엎드려 버티기  \n",
       "1605            본운동                                1            잔발치기  \n",
       "1665            본운동                                1            잔발치기  \n",
       "1650            본운동                                1            잔발치기  \n",
       "1560            본운동                                1         윗몸말아올리기  \n",
       "1620            본운동                                1         윗몸말아올리기  \n",
       "1575            본운동                                1            잔발치기  \n",
       "1590            본운동                                1            잔발치기  \n",
       "1635            본운동                                1            잔발치기  \n",
       "1485            본운동                                1         엎드려 버티기  \n",
       "1470            본운동                                1         엎드려 버티기  \n",
       "1500            본운동                                1         엎드려 버티기  \n",
       "1545            본운동                                1         엎드려 버티기  \n",
       "1455            본운동                                1            버피운동  \n",
       "1515            본운동                                1            버피운동  \n",
       "1530            본운동                                1         엎드려 버티기  \n",
       "1440            본운동                                1         엎드려 버티기  "
      ]
     },
     "execution_count": 391,
     "metadata": {},
     "output_type": "execute_result"
    }
   ],
   "source": [
    "국민연령별추천운동정보_recm_1[국민연령별추천운동정보_recm_1['AGRDE_FLAG_NM']=='30대'].sort_values('BMI_IDEX_GRAD_NM')"
   ]
  },
  {
   "cell_type": "code",
   "execution_count": null,
   "id": "da67517b-e64c-4162-b978-dc9ad2192a17",
   "metadata": {},
   "outputs": [],
   "source": []
  },
  {
   "cell_type": "code",
   "execution_count": 386,
   "id": "916a8de0-8b73-4c10-b862-a0edf856982e",
   "metadata": {
    "tags": []
   },
   "outputs": [],
   "source": [
    "# 국민연령별추천운동정보_recm_1.to_csv('./datasets/국민연령별추천운동정보_recm_1.csv',index=False)"
   ]
  },
  {
   "cell_type": "code",
   "execution_count": null,
   "id": "53688c75-a2cb-4c98-8853-2430414ffa87",
   "metadata": {
    "tags": []
   },
   "outputs": [],
   "source": [
    "# 국민연령별추천운동정보[(국민연령별추천운동정보['RECOMEND_MVM_NM'].str.contains('줄넘기'))&(국민연령별추천운동정보['AGRDE_FLAG_NM']=='20대')]"
   ]
  },
  {
   "cell_type": "code",
   "execution_count": null,
   "id": "a5700ff1-4dca-4f31-aa4a-ac22e0a07012",
   "metadata": {
    "tags": []
   },
   "outputs": [],
   "source": [
    "# 국민연령별추천운동정보[['SPORTS_STEP_NM','FLAG_ACCTO_RECOMEND_MVM_RANK_CO','RECOMEND_MVM_NM']][(국민연령별추천운동정보['AGRDE_FLAG_NM']=='40대')&(국민연령별추천운동정보['BMI_IDEX_GRAD_NM']=='1단계비만')&\n",
    "            # (국민연령별추천운동정보['MBER_SEXDSTN_FLAG_CD']=='M')&(국민연령별추천운동정보['COAW_FLAG_NM']=='참가증')]"
   ]
  },
  {
   "cell_type": "code",
   "execution_count": null,
   "id": "eb1f0f43-43c9-42a5-8d12-cdf77d07f0e5",
   "metadata": {
    "tags": []
   },
   "outputs": [],
   "source": [
    "# 국민연령별추천운동정보['RECOMEND_MVM_NM'][(국민연령별추천운동정보['SPORTS_STEP_NM']=='본운동')].value_counts().values"
   ]
  },
  {
   "cell_type": "markdown",
   "id": "36743c66-3b66-407d-aa74-6c11661af72b",
   "metadata": {},
   "source": [
    "### 운동처방내용분리"
   ]
  },
  {
   "cell_type": "code",
   "execution_count": 366,
   "id": "29cbe361-d987-44a8-b5aa-e4381cd29f36",
   "metadata": {
    "tags": []
   },
   "outputs": [
    {
     "data": {
      "text/html": [
       "<div>\n",
       "<style scoped>\n",
       "    .dataframe tbody tr th:only-of-type {\n",
       "        vertical-align: middle;\n",
       "    }\n",
       "\n",
       "    .dataframe tbody tr th {\n",
       "        vertical-align: top;\n",
       "    }\n",
       "\n",
       "    .dataframe thead th {\n",
       "        text-align: right;\n",
       "    }\n",
       "</style>\n",
       "<table border=\"1\" class=\"dataframe\">\n",
       "  <thead>\n",
       "    <tr style=\"text-align: right;\">\n",
       "      <th></th>\n",
       "      <th>회원일련번호값</th>\n",
       "      <th>측정일자</th>\n",
       "      <th>측정일련번호</th>\n",
       "      <th>센터명</th>\n",
       "      <th>측정연령수</th>\n",
       "      <th>기존나이구간</th>\n",
       "      <th>추가나이구간</th>\n",
       "      <th>인증구분명</th>\n",
       "      <th>성별구분코드</th>\n",
       "      <th>신장(cm)</th>\n",
       "      <th>체중(kg)</th>\n",
       "      <th>체지방율(%)</th>\n",
       "      <th>허리둘레(cm)</th>\n",
       "      <th>BMI(kg/㎡)</th>\n",
       "      <th>BMI_판정</th>\n",
       "      <th>비만동반질환_위험도</th>\n",
       "      <th>상대악력(%)</th>\n",
       "      <th>교차윗몸일으키기(회)</th>\n",
       "      <th>반복점프(회)</th>\n",
       "      <th>왕복오래달리기(회)</th>\n",
       "      <th>트레드밀출력(VO₂max)</th>\n",
       "      <th>스텝검사출력(VO₂max)</th>\n",
       "      <th>심폐지구력등급</th>\n",
       "      <th>앉아윗몸앞으로굽히기(cm)</th>\n",
       "      <th>10M_4회_왕복달리기(초)</th>\n",
       "      <th>전신반응(초)</th>\n",
       "      <th>제자리멀리뛰기(cm)</th>\n",
       "      <th>성인체공시간(초)</th>\n",
       "      <th>운동처방내용</th>\n",
       "    </tr>\n",
       "  </thead>\n",
       "  <tbody>\n",
       "    <tr>\n",
       "      <th>0</th>\n",
       "      <td>AAG5QWBWou0bMexvsnmPnULG</td>\n",
       "      <td>20200707</td>\n",
       "      <td>1</td>\n",
       "      <td>KSPO송파(출장B)</td>\n",
       "      <td>43.0</td>\n",
       "      <td>40대초반</td>\n",
       "      <td>40대중반</td>\n",
       "      <td>참가증</td>\n",
       "      <td>0</td>\n",
       "      <td>176.7</td>\n",
       "      <td>83.2</td>\n",
       "      <td>27.1</td>\n",
       "      <td>93.834</td>\n",
       "      <td>26.6</td>\n",
       "      <td>1단계비만</td>\n",
       "      <td>매우높음</td>\n",
       "      <td>45.5</td>\n",
       "      <td>38.0</td>\n",
       "      <td>0.0</td>\n",
       "      <td>0.0</td>\n",
       "      <td>0.0</td>\n",
       "      <td>40.0</td>\n",
       "      <td>good</td>\n",
       "      <td>-5.7</td>\n",
       "      <td>11.3</td>\n",
       "      <td>0.0</td>\n",
       "      <td>201.0</td>\n",
       "      <td>0.0</td>\n",
       "      <td>준비운동:조깅,고정식 트레드밀에서 걷기 / 본운동:요가 및 필라테스  루틴프로그램,요통을 위한 스트레칭1,요통을 위한 스트레칭2</td>\n",
       "    </tr>\n",
       "  </tbody>\n",
       "</table>\n",
       "</div>"
      ],
      "text/plain": [
       "                    회원일련번호값      측정일자  측정일련번호          센터명  측정연령수 기존나이구간  \\\n",
       "0  AAG5QWBWou0bMexvsnmPnULG  20200707       1  KSPO송파(출장B)   43.0  40대초반   \n",
       "\n",
       "  추가나이구간 인증구분명  성별구분코드  신장(cm)  체중(kg)  체지방율(%)  허리둘레(cm)  BMI(kg/㎡) BMI_판정  \\\n",
       "0  40대중반   참가증       0   176.7    83.2     27.1    93.834       26.6  1단계비만   \n",
       "\n",
       "  비만동반질환_위험도  상대악력(%)  교차윗몸일으키기(회)  반복점프(회)  왕복오래달리기(회)  트레드밀출력(VO₂max)  \\\n",
       "0       매우높음     45.5         38.0      0.0         0.0             0.0   \n",
       "\n",
       "   스텝검사출력(VO₂max) 심폐지구력등급  앉아윗몸앞으로굽히기(cm)  10M_4회_왕복달리기(초)  전신반응(초)  \\\n",
       "0            40.0    good            -5.7             11.3      0.0   \n",
       "\n",
       "   제자리멀리뛰기(cm)  성인체공시간(초)  \\\n",
       "0        201.0        0.0   \n",
       "\n",
       "                                                                    운동처방내용  \n",
       "0  준비운동:조깅,고정식 트레드밀에서 걷기 / 본운동:요가 및 필라테스  루틴프로그램,요통을 위한 스트레칭1,요통을 위한 스트레칭2  "
      ]
     },
     "execution_count": 366,
     "metadata": {},
     "output_type": "execute_result"
    }
   ],
   "source": [
    "송파df=pd.read_csv('./datasets/송파df_up1.csv')\n",
    "송파df.head(1)"
   ]
  },
  {
   "cell_type": "code",
   "execution_count": 367,
   "id": "289297db-be99-4f30-ae98-5fa1f27e7bef",
   "metadata": {
    "tags": []
   },
   "outputs": [
    {
     "data": {
      "text/plain": [
       "준비운동:전신 루틴 스트레칭                                                                                                                                                          3854\n",
       "준비운동:상지 루틴 스트레칭,하지 루틴 스트레칭1 / 본운동:달리기,수영,실외 자전거타기,실내 자전거타기 / 마무리운동:넙다리 뒤쪽 스트레칭,넙다리 안쪽 스트레칭                                                                               1332\n",
       "준비운동:상지 루틴 스트레칭,하지 루틴 스트레칭1 / 본운동:넙다리 뒤쪽 스트레칭,넙다리 안쪽 스트레칭                                                                                                                1237\n",
       "준비운동:계단 올라갔다 내려오기                                                                                                                                                        1060\n",
       "준비운동:자가근막이완술 루틴 스트레칭 / 본운동:넙다리 뒤쪽 스트레칭,넙다리 앞쪽 스트레칭,넙다리 안쪽 스트레칭,엉덩이 스트레칭,허리 스트레칭,배스트레칭,가슴/어깨 앞쪽 스트레칭,등/어깨 뒤쪽 스트레칭,목 스트레칭 / 마무리운동:전신 루틴 스트레칭                                962\n",
       "                                                                                                                                                                         ... \n",
       "준비운동:전신 루틴 스트레칭,의자 앞에서 앉았다 일어서기,의자에 앉아 다리 뻗어 올리기 / 본운동:누워서 배가로근 수축 I,윗몸올리기 ,엎드려 버티기,누워서 엉덩이 들어올리기 / 마무리운동:하지 루틴 스트레칭2,넙다리 뒤쪽 스트레칭                                           1\n",
       "준비운동:전신 루틴 스트레칭 / 본운동:달리기,누워서 배가로근 수축 I,윗몸올리기 ,엎드려 버티기,누워서 엉덩이 들어올리기 / 마무리운동:하지 루틴 스트레칭2,넙다리 뒤쪽 스트레칭                                                                        1\n",
       "준비운동:자가근막이완술 루틴 스트레칭,유산소 운동 전 동적 루틴 스트레칭 / 본운동:물병 옆으로 들어올리기,팔꿈치 굽히기,몸통 옆으로 굽히기,윗몸올리기 ,앉았다 일어서기,한발 앞으로 내밀고 앉았다 일어서기,누워서 다리 들어올리기,엎드려서 팔 다리 들기,팔굽혀펴기 / 마무리운동:전신 루틴 스트레칭       1\n",
       "본운동:윗몸올리기 ,엎드려 버티기,누워서 엉덩이 들어올리기,네발기기 자세로 팔 다리 들기 / 마무리운동:하지 루틴 스트레칭2                                                                                                       1\n",
       "본운동:뛰어 내렸다가 바로 점프하기                                                                                                                                                         1\n",
       "Name: 운동처방내용, Length: 636, dtype: int64"
      ]
     },
     "execution_count": 367,
     "metadata": {},
     "output_type": "execute_result"
    }
   ],
   "source": [
    "송파df['운동처방내용'].value_counts()"
   ]
  },
  {
   "cell_type": "code",
   "execution_count": 368,
   "id": "d572d9a0-38f2-44d2-a59a-75fb3e7e10a5",
   "metadata": {
    "tags": []
   },
   "outputs": [
    {
     "data": {
      "text/plain": [
       "(30914, 29)"
      ]
     },
     "execution_count": 368,
     "metadata": {},
     "output_type": "execute_result"
    }
   ],
   "source": [
    "송파df.shape"
   ]
  },
  {
   "cell_type": "code",
   "execution_count": 369,
   "id": "857df939-0a01-4951-9a54-a489a3fd8383",
   "metadata": {
    "tags": []
   },
   "outputs": [],
   "source": [
    "운동_list=[]\n",
    "for i in range(len(송파df)):\n",
    "    if len(송파df['운동처방내용'][i].split(' / '))>1:\n",
    "        운동_list.append(송파df['운동처방내용'][i].split(' / ')[1])\n",
    "    else :\n",
    "        운동_list.append(송파df['운동처방내용'][i].split(' / ')[0])\n",
    "송파df['운동처방내용_1차분리']=운동_list"
   ]
  },
  {
   "cell_type": "code",
   "execution_count": 370,
   "id": "f6bfe32d-d2df-4a07-b3c2-0a225779647d",
   "metadata": {
    "tags": []
   },
   "outputs": [
    {
     "data": {
      "text/plain": [
       "0                                                본운동:요가 및 필라테스  루틴프로그램,요통을 위한 스트레칭1,요통을 위한 스트레칭2\n",
       "1                                                본운동:요가 및 필라테스  루틴프로그램,요통을 위한 스트레칭1,요통을 위한 스트레칭2\n",
       "2                                                         본운동:실내 자전거타기,계단 올라갔다 내려오기,계단 뛰어 오르기,수영\n",
       "3                                                         본운동:실내 자전거타기,계단 올라갔다 내려오기,계단 뛰어 오르기,수영\n",
       "4                                                         본운동:실내 자전거타기,계단 올라갔다 내려오기,계단 뛰어 오르기,수영\n",
       "                                                  ...                                           \n",
       "30909                                                                          준비운동:계단 올라갔다 내려오기\n",
       "30910                                                 준비운동:줄넘기 운동,앉았다 일어서기,엉덩이 늘리기,짐볼 운동  루틴프로그램\n",
       "30911                                                 준비운동:줄넘기 운동,앉았다 일어서기,엉덩이 늘리기,짐볼 운동  루틴프로그램\n",
       "30912                                                                          준비운동:계단 올라갔다 내려오기\n",
       "30913    준비운동:윗몸올리기 ,엎드려 버티기,누워서 엉덩이 들어올리기,누워서 다리 들어올리기,누워서 팔 다리 동시에 들어올리기,몸통 옆으로 굽히기,매달려서 다리 들기\n",
       "Name: 운동처방내용_1차분리, Length: 30914, dtype: object"
      ]
     },
     "execution_count": 370,
     "metadata": {},
     "output_type": "execute_result"
    }
   ],
   "source": [
    "송파df['운동처방내용_1차분리']"
   ]
  },
  {
   "cell_type": "code",
   "execution_count": 371,
   "id": "403d6ef2-a27b-4e63-bca0-f763236ddee7",
   "metadata": {
    "tags": []
   },
   "outputs": [],
   "source": [
    "for i in range(len(송파df)):\n",
    "    송파df['운동처방내용_1차분리'].iloc[i]=송파df['운동처방내용_1차분리'].iloc[i].split(',')[0]"
   ]
  },
  {
   "cell_type": "code",
   "execution_count": 372,
   "id": "7be53de4-81af-49a6-a779-c602f21bbd4d",
   "metadata": {
    "tags": []
   },
   "outputs": [
    {
     "data": {
      "text/plain": [
       "0        요가 및 필라테스  루틴프로그램\n",
       "1        요가 및 필라테스  루틴프로그램\n",
       "2                 실내 자전거타기\n",
       "3                 실내 자전거타기\n",
       "4                 실내 자전거타기\n",
       "               ...        \n",
       "30909         계단 올라갔다 내려오기\n",
       "30910               줄넘기 운동\n",
       "30911               줄넘기 운동\n",
       "30912         계단 올라갔다 내려오기\n",
       "30913               윗몸올리기 \n",
       "Name: 운동처방내용_1차분리, Length: 30914, dtype: object"
      ]
     },
     "execution_count": 372,
     "metadata": {},
     "output_type": "execute_result"
    }
   ],
   "source": [
    "for i in range(len(송파df)):\n",
    "    try:\n",
    "        송파df['운동처방내용_1차분리'].iloc[i]=송파df['운동처방내용_1차분리'].iloc[i].split(':')[1]\n",
    "    except:\n",
    "        송파df['운동처방내용_1차분리'].iloc[i]=송파df['운동처방내용_1차분리'].iloc[i]\n",
    "송파df['운동처방내용_1차분리']"
   ]
  },
  {
   "cell_type": "code",
   "execution_count": 376,
   "id": "1dbf4e74-1a24-4e3d-8e62-2c2bd8967416",
   "metadata": {
    "tags": []
   },
   "outputs": [],
   "source": [
    "송파df['운동처방내용_1차분리']=송파df['운동처방내용_1차분리'].str.strip()"
   ]
  },
  {
   "cell_type": "code",
   "execution_count": 379,
   "id": "0e354d4b-2016-4b23-9994-b74185da59b4",
   "metadata": {
    "tags": []
   },
   "outputs": [],
   "source": [
    "송파df=송파df.drop('운동처방내용',axis=1)"
   ]
  },
  {
   "cell_type": "code",
   "execution_count": 381,
   "id": "e1abf714-798f-4fd7-8ce6-b43a5601a5c9",
   "metadata": {
    "tags": []
   },
   "outputs": [],
   "source": [
    "송파df=송파df.rename(columns={'운동처방내용_1차분리':'운동처방내용'})"
   ]
  },
  {
   "cell_type": "code",
   "execution_count": 383,
   "id": "3402532e-be2c-4d6a-a4a1-a2308aa23a8c",
   "metadata": {},
   "outputs": [
    {
     "data": {
      "text/plain": [
       "20.0    2603\n",
       "19.0    2293\n",
       "21.0    1850\n",
       "22.0    1459\n",
       "23.0    1303\n",
       "27.0    1289\n",
       "24.0    1278\n",
       "26.0    1253\n",
       "25.0    1233\n",
       "28.0    1221\n",
       "29.0    1055\n",
       "30.0     955\n",
       "31.0     900\n",
       "32.0     809\n",
       "33.0     795\n",
       "37.0     785\n",
       "35.0     781\n",
       "34.0     734\n",
       "36.0     732\n",
       "38.0     712\n",
       "Name: 측정연령수, dtype: int64"
      ]
     },
     "execution_count": 383,
     "metadata": {},
     "output_type": "execute_result"
    }
   ],
   "source": [
    "송파df2030=송파df[(송파df['측정연령수']>=19)&(송파df['측정연령수']<=38)]\n",
    "송파df2030['측정연령수'].value_counts()"
   ]
  },
  {
   "cell_type": "code",
   "execution_count": 385,
   "id": "9c7c4259-444b-4e27-98a7-b866e50b8ff7",
   "metadata": {
    "tags": []
   },
   "outputs": [],
   "source": [
    "# 송파df.to_csv('./datasets/송파df_up2.csv',index=False)"
   ]
  },
  {
   "cell_type": "code",
   "execution_count": 384,
   "id": "dc1bb26e-4249-4a95-9a06-34a37e2e115d",
   "metadata": {
    "tags": []
   },
   "outputs": [],
   "source": [
    "# 송파df2030.to_csv('./datasets/송파df2030.csv',index=False)"
   ]
  },
  {
   "cell_type": "code",
   "execution_count": null,
   "id": "1c63b844-9517-43a5-87ea-be09b0ca80bd",
   "metadata": {},
   "outputs": [],
   "source": []
  },
  {
   "cell_type": "code",
   "execution_count": null,
   "id": "191d8492-7b44-4eeb-9036-2373ab76052a",
   "metadata": {},
   "outputs": [],
   "source": []
  },
  {
   "cell_type": "code",
   "execution_count": null,
   "id": "72fac060-6a39-4cea-aa3b-5be081174725",
   "metadata": {},
   "outputs": [],
   "source": []
  },
  {
   "cell_type": "code",
   "execution_count": null,
   "id": "9ef285af-bfdb-4547-8250-c40536ad801c",
   "metadata": {},
   "outputs": [],
   "source": []
  },
  {
   "cell_type": "code",
   "execution_count": null,
   "id": "65f726ea-a123-4aa0-b036-d145a3ee3155",
   "metadata": {},
   "outputs": [],
   "source": []
  },
  {
   "cell_type": "code",
   "execution_count": null,
   "id": "996f2dc4-511d-468d-9723-e122d6742f3a",
   "metadata": {},
   "outputs": [],
   "source": []
  },
  {
   "cell_type": "code",
   "execution_count": null,
   "id": "e1646885-b1aa-4e94-a78e-98761661e8ac",
   "metadata": {},
   "outputs": [],
   "source": []
  },
  {
   "cell_type": "code",
   "execution_count": null,
   "id": "3122a753-9ec5-4347-a537-30766c67752f",
   "metadata": {},
   "outputs": [],
   "source": []
  },
  {
   "cell_type": "code",
   "execution_count": null,
   "id": "a9b1b067-29b9-4670-885b-ad0d4e323a31",
   "metadata": {},
   "outputs": [],
   "source": []
  },
  {
   "cell_type": "code",
   "execution_count": null,
   "id": "48d7fcc7-25cd-4345-8dec-2d92b7268998",
   "metadata": {},
   "outputs": [],
   "source": []
  },
  {
   "cell_type": "code",
   "execution_count": null,
   "id": "74e96128-f634-4a69-b01e-1aaa0b554c16",
   "metadata": {},
   "outputs": [],
   "source": []
  }
 ],
 "metadata": {
  "kernelspec": {
   "display_name": "Python 3 (ipykernel)",
   "language": "python",
   "name": "python3"
  },
  "language_info": {
   "codemirror_mode": {
    "name": "ipython",
    "version": 3
   },
   "file_extension": ".py",
   "mimetype": "text/x-python",
   "name": "python",
   "nbconvert_exporter": "python",
   "pygments_lexer": "ipython3",
   "version": "3.8.8"
  }
 },
 "nbformat": 4,
 "nbformat_minor": 5
}
